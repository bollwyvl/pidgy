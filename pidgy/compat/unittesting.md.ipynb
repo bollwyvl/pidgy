{
 "cells": [
  {
   "cell_type": "code",
   "execution_count": 1,
   "metadata": {},
   "outputs": [],
   "source": [
    "    import traitlets, unittest, doctest, pidgy.base, re, ast, contextlib, IPython, inspect, sys, textwrap"
   ]
  },
  {
   "cell_type": "code",
   "execution_count": 2,
   "metadata": {},
   "outputs": [],
   "source": [
    "    class NullOutputCheck(doctest.OutputChecker):\n",
    "        def check_output(self, *e): return True\n",
    "\n",
    "    class InlineDoctestParser(doctest.DocTestParser):\n",
    "        _EXAMPLE_RE = re.compile(r'`(?P<indent>\\s{0})'\n",
    "    r'(?P<source>[^`].*?)'\n",
    "    r'`')\n",
    "        def _parse_example(self, m, name, lineno): return m.group('source'), None, \"...\", None\n",
    "\n"
   ]
  },
  {
   "cell_type": "code",
   "execution_count": 3,
   "metadata": {},
   "outputs": [],
   "source": [
    "    @contextlib.contextmanager\n",
    "    def ipython_compiler(shell):\n",
    "        def compiler(input, filename, symbol, *args, **kwargs):\n",
    "            nonlocal shell\n",
    "            return shell.compile(\n",
    "                ast.Interactive(\n",
    "                    body=shell.transform_ast(\n",
    "                    shell.compile.ast_parse(shell.transform_cell(textwrap.indent(input, ' '*4)))\n",
    "                ).body),\n",
    "                F\"In[{shell.last_execution_result.execution_count}]\",\n",
    "                \"single\",\n",
    "            )\n",
    "\n",
    "        yield setattr(doctest, \"compile\", compiler)\n",
    "        doctest.compile = compile"
   ]
  },
  {
   "cell_type": "code",
   "execution_count": 4,
   "metadata": {},
   "outputs": [],
   "source": [
    "    import doctest"
   ]
  },
  {
   "cell_type": "code",
   "execution_count": 5,
   "metadata": {},
   "outputs": [],
   "source": [
    "    class Collect:\n",
    "        def collect_unittest(self, object):\n",
    "            return unittest.defaultTestLoader.loadTestsFromTestCase(object)\n",
    "\n",
    "        def collect_function(self, object):\n",
    "            return unittest.FunctionTestCase(object)\n",
    "        \n",
    "        def collect_doctest(self, object, vars, name):\n",
    "            doctest_suite = doctest.DocTestSuite()\n",
    "            test_case = doctest.DocTestParser().get_doctest(object, vars, name, name, 1)\n",
    "            test_case.examples and doctest_suite.addTest(doctest.DocTestCase(test_case, doctest.ELLIPSIS))\n",
    "            test_case = InlineDoctestParser().get_doctest(object, vars, name, name, 1)\n",
    "            test_case.examples and doctest_suite.addTest(doctest.DocTestCase(test_case, checker=NullOutputCheck))\n",
    "            if doctest_suite._tests: return doctest_suite\n",
    "            \n",
    "        def collect(self, *objects, vars,name):\n",
    "            suite = unittest.TestSuite()\n",
    "            for object in objects:\n",
    "                if isinstance(object, type) and issubclass(object, unittest.TestCase):\n",
    "                    object = self.collect_unittest(object)\n",
    "                elif isinstance(object, str):\n",
    "                    object = self.collect_doctest(object, vars, name)\n",
    "                elif inspect.isfunction(object):\n",
    "                    object = self.collect_function(object)\n",
    "                else: continue\n",
    "                if object is not None:\n",
    "                    suite.addTest(object)\n",
    "                    \n",
    "            suite._tests = [x for x in suite._tests if x]\n",
    "            return suite"
   ]
  },
  {
   "cell_type": "code",
   "execution_count": 6,
   "metadata": {},
   "outputs": [],
   "source": [
    "    class Definitions(pidgy.base.Trait, ast.NodeTransformer):\n",
    "        def visit_FunctionDef(self, node):\n",
    "            self.parent.medial_test_definitions.append(node.name)\n",
    "            return node\n",
    "        visit_ClassDef = visit_FunctionDef\n"
   ]
  },
  {
   "cell_type": "code",
   "execution_count": 7,
   "metadata": {},
   "outputs": [],
   "source": [
    "    class Register:\n",
    "        def register(self):\n",
    "            if not any(x for x in self.parent.ast_transformers if isinstance(x, type(self))):\n",
    "                self.parent.ast_transformers.append(self.visitor)\n",
    "        def unregister(self):\n",
    "            self.parent.ast_transformers = [x for x in self.parent.ast_transformers if x is not self.visitor]"
   ]
  },
  {
   "cell_type": "code",
   "execution_count": 8,
   "metadata": {},
   "outputs": [],
   "source": [
    "    import re\n",
    "\n",
    "    santize_doctest = re.compile(\n",
    "        r\"\"\"Traceback.+\\n\\s*File \"[^In]\\S+\", line [0-9]+.+in.+\\n.+\"\"\", re.MULTILINE\n",
    "    )\n",
    "\n",
    "    def clean_doctest_traceback(str):\n",
    "        return re.sub(santize_doctest, \"\", str).lstrip().replace(\"-\" * 70, \"\\n\")\n"
   ]
  },
  {
   "cell_type": "code",
   "execution_count": 9,
   "metadata": {},
   "outputs": [],
   "source": [
    "    class TestingBase(Register, Collect):\n",
    "        def display_result(self, result, test_result):\n",
    "            if test_result.failures:\n",
    "                msg = '\\n'.join(msg for text, msg in test_result.failures)\n",
    "                #msg = re.sub(re.compile(\"<ipython-input-[0-9]+-\\S+>\"), F'In[{result.execution_count}]', pidgy.util.clean_doctest_traceback(msg))\n",
    "                sys.stderr.writelines((str(test_result) + '\\n' + msg).splitlines(True))\n",
    "\n",
    "\n",
    "        def test(self, result, *object):\n",
    "            globs, filename = self.parent.user_ns, F\"In[{self.parent.last_execution_result.execution_count}]\"\n",
    "            test_result = unittest.TestResult()\n",
    "            self.collect(result.info.raw_cell, *object, vars=self.parent.user_ns, name=filename).run(test_result)\n",
    "            self.display_result(result, test_result)"
   ]
  },
  {
   "cell_type": "code",
   "execution_count": 10,
   "metadata": {},
   "outputs": [],
   "source": [
    "    class Testing(pidgy.base.Trait, TestingBase):\n",
    "        medial_test_definitions = traitlets.List()\n",
    "        pattern = traitlets.Unicode('test_')\n",
    "        visitor = traitlets.Instance('ast.NodeTransformer')\n",
    "        \n",
    "        @traitlets.default('visitor')\n",
    "        def _default_visitor(self): return Definitions(parent=self)\n",
    "        \n",
    "        @pidgy.implementation\n",
    "        def post_run_cell(self, result):\n",
    "            if not (result.error_before_exec or result.error_in_exec):\n",
    "                tests = []\n",
    "                with ipython_compiler(self.parent):\n",
    "                    while self.medial_test_definitions:\n",
    "                        name = self.medial_test_definitions.pop(0)\n",
    "                        object = self.parent.user_ns.get(name, None)\n",
    "                        if name.startswith(self.pattern) or pidgy.util.istype(object, unittest.TestCase):\n",
    "                            tests.append(object)\n",
    "                    self.test(result, *tests)"
   ]
  },
  {
   "cell_type": "code",
   "execution_count": null,
   "metadata": {},
   "outputs": [],
   "source": []
  }
 ],
 "metadata": {
  "kernelspec": {
   "display_name": "Python 3",
   "language": "python",
   "name": "python3"
  },
  "language_info": {
   "codemirror_mode": {
    "name": "ipython",
    "version": 3
   },
   "file_extension": ".py",
   "mimetype": "text/x-python",
   "name": "python",
   "nbconvert_exporter": "python",
   "pygments_lexer": "ipython3",
   "version": "3.7.3"
  }
 },
 "nbformat": 4,
 "nbformat_minor": 4
}
