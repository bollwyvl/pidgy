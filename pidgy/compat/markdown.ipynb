{
 "cells": [
  {
   "cell_type": "code",
   "execution_count": 1,
   "metadata": {},
   "outputs": [],
   "source": [
    "    import pidgy, textwrap, markdown_it"
   ]
  },
  {
   "cell_type": "code",
   "execution_count": 2,
   "metadata": {},
   "outputs": [],
   "source": [
    "    class BaseRenderer(pidgy.util.BaseRenderer):        \n",
    "        def quote(self, str, trailing=''):\n",
    "            \"\"\"Wrap a truple block quotations.\"\"\"\n",
    "            quote, length = self.QUOTES[self.QUOTES[0] in str], len(str)\n",
    "            left, right = length - len(str.lstrip()), len(str.rstrip())\n",
    "            if not str[left:right].strip(): return str\n",
    "            while str[right-1] == '\\\\':\n",
    "                right -= 1\n",
    "            return str[:left] + quote + str[left:right] + quote + trailing + str[right:]\n",
    "\n",
    "        def measure_base_indent(self, tokens, env):\n",
    "            next = self.get_next_code_token(tokens, -1)\n",
    "            if next and next.type == 'code_block':\n",
    "                env['base_indent'] = pidgy.util.lead_indent(env['src'][slice(*next.map)])\n",
    "            else:\n",
    "                env['base_indent'] = 4\n",
    "                \n",
    "        def get_next_code_token(self, tokens, idx):\n",
    "            for token in tokens[idx+1:]:\n",
    "                if token.type in {'code_block'}:\n",
    "                    return token\n",
    "        \n",
    "        def hanging_indent(self, str, env):\n",
    "            start = len(str)-len(str.lstrip())\n",
    "            return str[:start] + ' '* env['extra_indent'] + str[start:]\n",
    "        \n",
    "        def indent(self, str, env):\n",
    "            return textwrap.indent(str, ' ' *env['base_indent'])\n",
    "\n",
    "\n",
    "        def token_to_str(self, tokens, idx, env):\n",
    "            if idx < len(tokens):\n",
    "                if tokens[idx] and tokens[idx].map:\n",
    "                    return ''.join(env['src'][slice(*tokens[idx].map)])\n",
    "            return \"\"\n",
    "        \n",
    "        def update_env(self, code, tokens, idx, env):\n",
    "            next = self.get_next_code_token(tokens, idx)\n",
    "            extra_indent = 0\n",
    "            if next:\n",
    "                extra_indent = max(0, pidgy.util.lead_indent(env['src'][slice(*next.map)]) -env['base_indent'])\n",
    "            if not extra_indent and code.rstrip().endswith(\":\"):\n",
    "                extra_indent += 4\n",
    "            rstrip = code.rstrip()\n",
    "            env.update(\n",
    "                extra_indent=extra_indent,\n",
    "                base_indent=pidgy.util.trailing_indent(code),\n",
    "                continued=rstrip.endswith('\\\\'), \n",
    "                quoted=rstrip.rstrip('\\\\').endswith(self.QUOTES)\n",
    "            )\n",
    "        def render(self, tokens, options, env):\n",
    "            env.update(base_indent=0, quoted=False, extra_indent=0, continued=False)\n",
    "            tokens = pidgy.util.reconfigure_tokens(pidgy.util.filter_tangle_tokens(tokens), env)\n",
    "            self.measure_base_indent(tokens, env)\n",
    "            if not tokens:\n",
    "                return self.quote(''.join(env['src']), trailing=';')\n",
    "            return textwrap.dedent(pidgy.util.continuation(\n",
    "                markdown_it.renderer.RendererHTML.render(self, tokens, options, env), env\n",
    "            ) + \"\\n\" + self.noncode(tokens, len(tokens), env)).rstrip() + '\\n'"
   ]
  },
  {
   "cell_type": "code",
   "execution_count": 3,
   "metadata": {},
   "outputs": [],
   "source": [
    "    class Markdown(markdown_it.MarkdownIt):\n",
    "        def parse(self, src, env=None, normalize=False):\n",
    "            src = pidgy.util.enforce_blanklines(src)\n",
    "            if env is None:\n",
    "                env = markdown_it.utils.AttrDict()\n",
    "            env.update(src=src.splitlines(True))\n",
    "            tokens = super().parse(src, env)\n",
    "            if normalize: tokens = pidgy.util.reconfigure_tokens(pidgy.util.filter_tangle_tokens(tokens), env)\n",
    "            return tokens\n",
    "        def render(self, src, env=None):                \n",
    "            if env is None:\n",
    "                env  = markdown_it.utils.AttrDict()\n",
    "            return super().render(src, env)\n",
    "        def stringify(self, src, env=None):               \n",
    "            env = env or markdown_it.utils.AttrDict()\n",
    "            return self.render(src)"
   ]
  }
 ],
 "metadata": {
  "kernelspec": {
   "display_name": "pidgy 3",
   "language": "python",
   "name": "pidgy"
  },
  "language_info": {
   "codemirror_mode": {
    "name": "ipython",
    "version": 3
   },
   "file_extension": ".py",
   "mimetype": "text/x-python",
   "name": "python",
   "nbconvert_exporter": "python",
   "pygments_lexer": "ipython3",
   "version": "3.7.3"
  }
 },
 "nbformat": 4,
 "nbformat_minor": 4
}
