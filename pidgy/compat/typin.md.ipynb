{
 "cells": [
  {
   "cell_type": "code",
   "execution_count": 4,
   "metadata": {},
   "outputs": [],
   "source": [
    "    import monkeytype.stubs, pidgy.base, traitlets, IPython"
   ]
  },
  {
   "cell_type": "code",
   "execution_count": 2,
   "metadata": {},
   "outputs": [],
   "source": [
    "    class InteractiveTyping(pidgy.base.Trait):\n",
    "        collector = traitlets.Any()\n",
    "        \n",
    "        trace = traitlets.Any()\n",
    "        traces = traitlets.List()\n",
    "        max_dict_size = traitlets.Integer(1000)\n",
    "        \n",
    "        def log(self, trace):\n",
    "            self.traces.append(trace)\n",
    "\n",
    "        def flush(self):\n",
    "            self.flushed = True\n",
    "        \n",
    "        def __enter__(self): \n",
    "            self.trace = monkeytype.tracing.trace_calls(\n",
    "                self, self.max_dict_size, lambda c: c.co_filename.startswith('<ipython-input-')\n",
    "            )\n",
    "            self.toggle(True)\n",
    "            self.trace.__enter__()\n",
    "            \n",
    "        def __exit__(self, type=None, object=None, traceback=None):\n",
    "            self.toggle(False)\n",
    "            self.trace.__exit__(type, object, traceback)\n",
    "            \n",
    "\n",
    "        def stub(self, line=None, cell=None):\n",
    "            # if line is None:\n",
    "            return {k: v.render() for k,v in monkeytype.stubs.build_module_stubs_from_traces(\n",
    "                self.traces, self.max_dict_size).items()}        \n",
    "        \n",
    "        on = __enter__\n",
    "        off = __exit__"
   ]
  },
  {
   "cell_type": "code",
   "execution_count": 3,
   "metadata": {},
   "outputs": [],
   "source": [
    "    def retype(logger): \n",
    "        import retype\n",
    "        src = '\\n'.join(map(\n",
    "            __import__('inspect').getsource, set(_.func for _ in logger.data if hasattr(_, 'func'))))\n",
    "        retype.Config.incremental, retype.Config.replace_any = False, True\n",
    "        src = retype.lib2to3_parse(src)\n",
    "        retype.reapply(__import__('typed_ast').ast3.parse(logger.stubs()).body, src)\n",
    "        retype.fix_remaining_type_comments(src)\n",
    "        return retype.lib2to3_unparse(src, hg=False)"
   ]
  }
 ],
 "metadata": {
  "kernelspec": {
   "display_name": "Python 3",
   "language": "python",
   "name": "python3"
  },
  "language_info": {
   "codemirror_mode": {
    "name": "ipython",
    "version": 3
   },
   "file_extension": ".py",
   "mimetype": "text/x-python",
   "name": "python",
   "nbconvert_exporter": "python",
   "pygments_lexer": "ipython3",
   "version": "3.7.3"
  }
 },
 "nbformat": 4,
 "nbformat_minor": 4
}
