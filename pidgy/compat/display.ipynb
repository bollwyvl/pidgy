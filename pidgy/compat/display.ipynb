{
 "cells": [
  {
   "cell_type": "markdown",
   "metadata": {},
   "source": [
    "a widgetless interactive display."
   ]
  },
  {
   "cell_type": "code",
   "execution_count": 1,
   "metadata": {},
   "outputs": [
    {
     "data": {
      "text/markdown": [
       "    import pidgy.base, IPython, sys, traitlets"
      ],
      "text/plain": [
       "<IPython.core.display.Markdown object>"
      ]
     },
     "metadata": {},
     "output_type": "display_data"
    }
   ],
   "source": [
    "    import pidgy.base, IPython, sys, traitlets"
   ]
  },
  {
   "cell_type": "code",
   "execution_count": 2,
   "metadata": {},
   "outputs": [
    {
     "data": {
      "text/markdown": [
       "    class Display(pidgy.base.Trait):\n",
       "        body = traitlets.Unicode(allow_none=True)\n",
       "        vars = traitlets.Any()\n",
       "        _display = traitlets.Any()\n",
       "            \n",
       "        def update(self, **kwargs):\n",
       "            if self._display is None: return self.display(**kwargs)\n",
       "            self._display.update(self.render(**kwargs))\n",
       "        \n",
       "        def render(self, **kwargs): \n",
       "            if self.body is not None:\n",
       "                return self.displayer(self.body)\n",
       "        \n",
       "        def display(self, **kwargs):\n",
       "            object = self.render(**kwargs)\n",
       "            if object is None: return\n",
       "            if self.vars:\n",
       "                if self._display is None:\n",
       "                    self._display = IPython.display.display(object, display_id=True)\n",
       "                else:\n",
       "                    self._display.display(object)\n",
       "            else:\n",
       "                IPython.display.display(object)\n",
       "                \n",
       "        _ipython_display_ = display"
      ],
      "text/plain": [
       "<IPython.core.display.Markdown object>"
      ]
     },
     "metadata": {},
     "output_type": "display_data"
    }
   ],
   "source": [
    "    class Display(pidgy.base.Trait):\n",
    "        body = traitlets.Unicode(allow_none=True)\n",
    "        vars = traitlets.Any()\n",
    "        _display = traitlets.Any()\n",
    "            \n",
    "        def update(self, **kwargs):\n",
    "            if self._display is None: return self.display(**kwargs)\n",
    "            self._display.update(self.render(**kwargs))\n",
    "        \n",
    "        def render(self, **kwargs): \n",
    "            if self.body is not None:\n",
    "                return self.displayer(self.body)\n",
    "        \n",
    "        def display(self, **kwargs):\n",
    "            object = self.render(**kwargs)\n",
    "            if object is None: return\n",
    "            if self.vars:\n",
    "                if self._display is None:\n",
    "                    self._display = IPython.display.display(object, display_id=True)\n",
    "                else:\n",
    "                    self._display.display(object)\n",
    "            else:\n",
    "                IPython.display.display(object)\n",
    "                \n",
    "        _ipython_display_ = display"
   ]
  },
  {
   "cell_type": "code",
   "execution_count": 3,
   "metadata": {},
   "outputs": [
    {
     "data": {
      "text/markdown": [
       "    class MarkdownDisplay(Display):\n",
       "        displayer = IPython.display.Markdown"
      ],
      "text/plain": [
       "<IPython.core.display.Markdown object>"
      ]
     },
     "metadata": {},
     "output_type": "display_data"
    }
   ],
   "source": [
    "    class MarkdownDisplay(Display):\n",
    "        displayer = IPython.display.Markdown"
   ]
  }
 ],
 "metadata": {
  "kernelspec": {
   "display_name": "pidgy 3",
   "language": "python",
   "name": "pidgy"
  },
  "language_info": {
   "codemirror_mode": {
    "name": "ipython",
    "version": 3
   },
   "file_extension": ".py",
   "mimetype": "text/x-python",
   "name": "python",
   "nbconvert_exporter": "python",
   "pygments_lexer": "ipython3",
   "version": "3.7.3"
  }
 },
 "nbformat": 4,
 "nbformat_minor": 4
}
