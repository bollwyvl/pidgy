{
 "cells": [
  {
   "cell_type": "markdown",
   "metadata": {},
   "source": [
    "# transclusion of data with jinja2/templ~~at~~es"
   ]
  },
  {
   "cell_type": "code",
   "execution_count": 1,
   "metadata": {},
   "outputs": [
    {
     "data": {
      "text/markdown": [
       "    import pidgy.base, jinja2.meta, IPython, sys, traitlets"
      ],
      "text/plain": [
       "<IPython.core.display.Markdown object>"
      ]
     },
     "metadata": {},
     "output_type": "display_data"
    }
   ],
   "source": [
    "    import pidgy.base, jinja2.meta, IPython, sys, traitlets"
   ]
  },
  {
   "cell_type": "code",
   "execution_count": 2,
   "metadata": {},
   "outputs": [
    {
     "data": {
      "text/markdown": [
       "    minify = lambda x: __import__('htmlmin').minify(x, False, True, True, True, True, True, True)"
      ],
      "text/plain": [
       "<IPython.core.display.Markdown object>"
      ]
     },
     "metadata": {},
     "output_type": "display_data"
    }
   ],
   "source": [
    "    minify = lambda x: __import__('htmlmin').minify(x, False, True, True, True, True, True, True)\n"
   ]
  },
  {
   "cell_type": "code",
   "execution_count": 3,
   "metadata": {},
   "outputs": [
    {
     "data": {
      "text/markdown": [
       "    def active_types(shell=None):\n",
       "        shell = shell or IPython.get_ipython()\n",
       "        if shell:\n",
       "            object = list(shell.display_formatter.active_types)\n",
       "            object.insert(object.index('text/html'), object.pop(object.index('text/latex')))\n",
       "            return reversed(object)\n",
       "        return []"
      ],
      "text/plain": [
       "<IPython.core.display.Markdown object>"
      ]
     },
     "metadata": {},
     "output_type": "display_data"
    }
   ],
   "source": [
    "    def active_types(shell=None):\n",
    "        shell = shell or IPython.get_ipython()\n",
    "        if shell:\n",
    "            object = list(shell.display_formatter.active_types)\n",
    "            object.insert(object.index('text/html'), object.pop(object.index('text/latex')))\n",
    "            return reversed(object)\n",
    "        return []"
   ]
  },
  {
   "cell_type": "code",
   "execution_count": 4,
   "metadata": {},
   "outputs": [
    {
     "data": {
      "text/markdown": [
       "    def environment(shell=None):        \n",
       "        environment = __import__('nbconvert').exporters.TemplateExporter().environment\n",
       "        environment.loader.loaders.append(jinja2.FileSystemLoader('.'))\n",
       "        environment.display_manager = DisplayManager()\n",
       "        environment.finalize = Finalize(parent=shell or IPython.get_ipython())\n",
       "        return environment"
      ],
      "text/plain": [
       "<IPython.core.display.Markdown object>"
      ]
     },
     "metadata": {},
     "output_type": "display_data"
    }
   ],
   "source": [
    "    def environment(shell=None):        \n",
    "        environment = __import__('nbconvert').exporters.TemplateExporter().environment\n",
    "        environment.loader.loaders.append(jinja2.FileSystemLoader('.'))\n",
    "        environment.display_manager = DisplayManager()\n",
    "        environment.finalize = Finalize(parent=shell or IPython.get_ipython())\n",
    "        return environment"
   ]
  },
  {
   "cell_type": "code",
   "execution_count": null,
   "metadata": {},
   "outputs": [],
   "source": []
  },
  {
   "cell_type": "code",
   "execution_count": 5,
   "metadata": {},
   "outputs": [
    {
     "data": {
      "text/markdown": [
       "    class MarkdownDisplay(pidgy.base.Trait):\n",
       "        body = traitlets.Unicode()\n",
       "        \n",
       "        vars = traitlets.Set()\n",
       "        template = traitlets.Any()\n",
       "        _display = traitlets.Any()\n",
       "        @traitlets.default('template')\n",
       "        def _default_template(self):\n",
       "            return self.environment.from_string(self.body)\n",
       "        @traitlets.default('vars')\n",
       "        def _default_vars(self):\n",
       "            return jinja2.meta.find_undeclared_variables(self.template.environment.parse(self.body))\n",
       "            \n",
       "        def update(self, **kwargs):\n",
       "            if self._display is None: return self.display(**kwargs)\n",
       "            md = IPython.display.Markdown(self.template.render(**kwargs))\n",
       "            self._display.update(md)\n",
       "        \n",
       "        @property\n",
       "        def render(self,): return self.template.render\n",
       "        \n",
       "        def display(self, **kwargs):\n",
       "            md = IPython.display.Markdown(self.render(**kwargs))\n",
       "            if self.vars:\n",
       "                if self._display is None:\n",
       "                    self._display = IPython.display.display(md, display_id=True)\n",
       "                else:\n",
       "                    self._display.display(md)\n",
       "            else:\n",
       "                IPython.display.display(md)\n",
       "                \n",
       "        _ipython_display_ = display"
      ],
      "text/plain": [
       "<IPython.core.display.Markdown object>"
      ]
     },
     "metadata": {},
     "output_type": "display_data"
    }
   ],
   "source": [
    "    class MarkdownDisplay(pidgy.base.Trait):\n",
    "        body = traitlets.Unicode()\n",
    "        \n",
    "        vars = traitlets.Set()\n",
    "        template = traitlets.Any()\n",
    "        _display = traitlets.Any()\n",
    "        @traitlets.default('template')\n",
    "        def _default_template(self):\n",
    "            return self.environment.from_string(self.body)\n",
    "        @traitlets.default('vars')\n",
    "        def _default_vars(self):\n",
    "            return jinja2.meta.find_undeclared_variables(self.template.environment.parse(self.body))\n",
    "            \n",
    "        def update(self, **kwargs):\n",
    "            if self._display is None: return self.display(**kwargs)\n",
    "            md = IPython.display.Markdown(self.template.render(**kwargs))\n",
    "            self._display.update(md)\n",
    "        \n",
    "        @property\n",
    "        def render(self,): return self.template.render\n",
    "        \n",
    "        def display(self, **kwargs):\n",
    "            md = IPython.display.Markdown(self.render(**kwargs))\n",
    "            if self.vars:\n",
    "                if self._display is None:\n",
    "                    self._display = IPython.display.display(md, display_id=True)\n",
    "                else:\n",
    "                    self._display.display(md)\n",
    "            else:\n",
    "                IPython.display.display(md)\n",
    "                \n",
    "        _ipython_display_ = display"
   ]
  },
  {
   "cell_type": "code",
   "execution_count": 6,
   "metadata": {},
   "outputs": [
    {
     "data": {
      "text/markdown": [
       "    class DisplayManager(pidgy.base.Trait):\n",
       "        display = traitlets.Dict()\n",
       "        state = traitlets.Dict()\n",
       "        widgets = traitlets.List()\n",
       "        def pre_execute(self):\n",
       "            deleted = getattr(self.parent, '_last_parent', {}).get('metadata', {}).get('deletedCells', [])\n",
       "            for key, displays in self.display.items() if deleted else []:\n",
       "                self.display[key] = [\n",
       "                    x for x in displays if x._display and x._display.display_id not in deleted\n",
       "                ]\n",
       "                \n",
       "        def append(self, object):\n",
       "            for key in object.vars:\n",
       "                self.display[key] = self.display.get(key, [])\n",
       "                self.display[key].append(object)\n",
       "                self.state[key] = self.parent.user_ns.get(key, None)\n",
       "        \n",
       "        def post_execute(self):\n",
       "            update = {\n",
       "                x: self.parent.user_ns.get(x, None) for x in self.display \n",
       "                if isinteractive(self.parent.user_ns.get(x, None)) or\n",
       "                self.parent.user_ns.get(x, None) is not self.state.get(x, None)\n",
       "            }\n",
       "            for key, object in update.items():\n",
       "                if isinteractive(object) and object not in self.widgets:\n",
       "                    object.observe(lambda x: self.post_execute(), 'value')\n",
       "                    self.widgets += [object]\n",
       "            self.state.update(update)\n",
       "            for object in set(\n",
       "                sum([self.display[x] for x in update], [])\n",
       "            ): object.update(**self.state)"
      ],
      "text/plain": [
       "<IPython.core.display.Markdown object>"
      ]
     },
     "metadata": {},
     "output_type": "display_data"
    }
   ],
   "source": [
    "    class DisplayManager(pidgy.base.Trait):\n",
    "        display = traitlets.Dict()\n",
    "        state = traitlets.Dict()\n",
    "        widgets = traitlets.List()\n",
    "        def pre_execute(self):\n",
    "            deleted = getattr(self.parent, '_last_parent', {}).get('metadata', {}).get('deletedCells', [])\n",
    "            for key, displays in self.display.items() if deleted else []:\n",
    "                self.display[key] = [\n",
    "                    x for x in displays if x._display and x._display.display_id not in deleted\n",
    "                ]\n",
    "                \n",
    "        def append(self, object):\n",
    "            for key in object.vars:\n",
    "                self.display[key] = self.display.get(key, [])\n",
    "                self.display[key].append(object)\n",
    "                self.state[key] = self.parent.user_ns.get(key, None)\n",
    "        \n",
    "        def post_execute(self):\n",
    "            update = {\n",
    "                x: self.parent.user_ns.get(x, None) for x in self.display \n",
    "                if isinteractive(self.parent.user_ns.get(x, None)) or\n",
    "                self.parent.user_ns.get(x, None) is not self.state.get(x, None)\n",
    "            }\n",
    "            for key, object in update.items():\n",
    "                if isinteractive(object) and object not in self.widgets:\n",
    "                    object.observe(lambda x: self.post_execute())\n",
    "                    self.widgets += [object]\n",
    "            self.state.update(update)\n",
    "            for object in set(\n",
    "                sum([self.display[x] for x in update], [])\n",
    "            ): object.update(**self.state)"
   ]
  },
  {
   "cell_type": "code",
   "execution_count": 7,
   "metadata": {},
   "outputs": [
    {
     "data": {
      "text/markdown": [
       "    class Finalize(pidgy.base.Trait):\n",
       "        def normalize(self, key, object, metadata):            \n",
       "            if key.startswith('image'):\n",
       "                if 'svg' in key: return minify(object)\n",
       "                width, height = metadata.get(key, {}).get('width'), metadata.get(key, {}).get('height')\n",
       "                if isinstance(object, bytes):\n",
       "                    object = __import__('base64').b64encode(object).decode('utf-8')\n",
       "                object = F\"\"\"<img src=\"data:image/{key.partition('/')[2]};base64,{object}\"/>\"\"\"\n",
       "            if key == 'text/html': object = minify(object)\n",
       "            return object\n",
       "        \n",
       "        def __call__(self, object):\n",
       "            datum = self.parent.display_formatter.format(object)\n",
       "            data, metadata = datum if isinstance(datum, tuple) else (datum, {})\n",
       "            try: key = next(filter(data.__contains__, active_types(self.parent)))\n",
       "            except StopIteration: return str(object)\n",
       "            if key == 'text/plain': return str(object)\n",
       "            return self.normalize(key, data[key], metadata)"
      ],
      "text/plain": [
       "<IPython.core.display.Markdown object>"
      ]
     },
     "metadata": {},
     "output_type": "display_data"
    }
   ],
   "source": [
    "    class Finalize(pidgy.base.Trait):\n",
    "        def normalize(self, key, object, metadata):            \n",
    "            if key.startswith('image'):\n",
    "                if 'svg' in key: return minify(object)\n",
    "                width, height = metadata.get(key, {}).get('width'), metadata.get(key, {}).get('height')\n",
    "                if isinstance(object, bytes):\n",
    "                    object = __import__('base64').b64encode(object).decode('utf-8')\n",
    "                object = F\"\"\"<img src=\"data:image/{key.partition('/')[2]};base64,{object}\"/>\"\"\"\n",
    "            if key == 'text/html': object = minify(object)\n",
    "            return object\n",
    "        \n",
    "        def __call__(self, object):\n",
    "            datum = self.parent.display_formatter.format(object)\n",
    "            data, metadata = datum if isinstance(datum, tuple) else (datum, {})\n",
    "            try: key = next(filter(data.__contains__, active_types(self.parent)))\n",
    "            except StopIteration: return str(object)\n",
    "            if key == 'text/plain': return str(object)\n",
    "            return self.normalize(key, data[key], metadata)"
   ]
  },
  {
   "cell_type": "code",
   "execution_count": 8,
   "metadata": {},
   "outputs": [
    {
     "data": {
      "text/markdown": [
       "    def iswidget(object):\n",
       "        if 'ipywidgets' in sys.modules:\n",
       "            if isinstance(object, __import__('ipywidgets').Widget):\n",
       "                return True\n",
       "        return False\n",
       "\n",
       "    def ispanel(object):\n",
       "        if 'param' in sys.modules:\n",
       "            if isinstance(object, __import__('param').Parameterized):\n",
       "                return True\n",
       "        return False\n",
       "\n",
       "    def isinteractive(object):\n",
       "        return iswidget(object) | ispanel(object)"
      ],
      "text/plain": [
       "<IPython.core.display.Markdown object>"
      ]
     },
     "metadata": {},
     "output_type": "display_data"
    }
   ],
   "source": [
    "    def iswidget(object):\n",
    "        if 'ipywidgets' in sys.modules:\n",
    "            if isinstance(object, __import__('ipywidgets').Widget):\n",
    "                return True\n",
    "        return False\n",
    "\n",
    "    def ispanel(object):\n",
    "        if 'param' in sys.modules:\n",
    "            if isinstance(object, __import__('param').Parameterized):\n",
    "                return True\n",
    "        return False\n",
    "\n",
    "    def isinteractive(object):\n",
    "        return iswidget(object) | ispanel(object)"
   ]
  },
  {
   "cell_type": "code",
   "execution_count": null,
   "metadata": {},
   "outputs": [],
   "source": []
  }
 ],
 "metadata": {
  "kernelspec": {
   "display_name": "pidgy 3",
   "language": "python",
   "name": "pidgy"
  },
  "language_info": {
   "codemirror_mode": {
    "name": "ipython",
    "version": 3
   },
   "file_extension": ".py",
   "mimetype": "text/x-python",
   "name": "python",
   "nbconvert_exporter": "python",
   "pygments_lexer": "ipython3",
   "version": "3.7.6"
  }
 },
 "nbformat": 4,
 "nbformat_minor": 4
}
