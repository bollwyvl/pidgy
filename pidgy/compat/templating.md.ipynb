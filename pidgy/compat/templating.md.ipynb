{
 "cells": [
  {
   "cell_type": "code",
   "execution_count": 57,
   "metadata": {},
   "outputs": [
    {
     "data": {
      "text/markdown": [
       "    import pidgy.base, jinja2, IPython, sys"
      ],
      "text/plain": [
       "<IPython.core.display.Markdown object>"
      ]
     },
     "metadata": {},
     "output_type": "display_data"
    }
   ],
   "source": [
    "    import pidgy.base, jinja2, IPython, sys"
   ]
  },
  {
   "cell_type": "code",
   "execution_count": 89,
   "metadata": {},
   "outputs": [
    {
     "data": {
      "text/markdown": [
       "    def active_types():\n",
       "        shell = IPython.get_ipython()\n",
       "        if shell:\n",
       "            object = list(shell.display_formatter.active_types)\n",
       "            object.insert(object.index('text/html'), object.pop(object.index('text/latex')))\n",
       "            return reversed(object)\n",
       "        return []"
      ],
      "text/plain": [
       "<IPython.core.display.Markdown object>"
      ]
     },
     "metadata": {},
     "output_type": "display_data"
    }
   ],
   "source": [
    "    def active_types():\n",
    "        shell = IPython.get_ipython()\n",
    "        if shell:\n",
    "            object = list(shell.display_formatter.active_types)\n",
    "            object.insert(object.index('text/html'), object.pop(object.index('text/latex')))\n",
    "            return reversed(object)\n",
    "        return []"
   ]
  },
  {
   "cell_type": "code",
   "execution_count": 98,
   "metadata": {},
   "outputs": [
    {
     "data": {
      "text/markdown": [
       "    def environment():        \n",
       "        environment = __import__('nbconvert').exporters.TemplateExporter().environment\n",
       "        environment.loader.loaders.append(jinja2.FileSystemLoader('.'))\n",
       "        environment.template_class = Template\n",
       "        environment.finalize = Finalize(parent=environment)\n",
       "        environment.last_widgets = []\n",
       "        return environment"
      ],
      "text/plain": [
       "<IPython.core.display.Markdown object>"
      ]
     },
     "metadata": {},
     "output_type": "display_data"
    }
   ],
   "source": [
    "    def environment():        \n",
    "        environment = __import__('nbconvert').exporters.TemplateExporter().environment\n",
    "        environment.loader.loaders.append(jinja2.FileSystemLoader('.'))\n",
    "        environment.finalize = Finalize(parent=environment)\n",
    "        environment.last_widgets = []\n",
    "        return environment"
   ]
  },
  {
   "cell_type": "code",
   "execution_count": 99,
   "metadata": {},
   "outputs": [
    {
     "data": {
      "text/markdown": [
       "    class Finalize(pidgy.base.Trait):\n",
       "        def normalize(self, key, object, metadata):            \n",
       "            if key.startswith('image'):\n",
       "                if 'svg' in key: return minify(object)\n",
       "                width, height = metadata.get(key, {}).get('width'), metadata.get(key, {}).get('height')\n",
       "                if isinstance(object, bytes):\n",
       "                    object = __import__('base64').b64encode(object).decode('utf-8')\n",
       "                object = F\"\"\"<img src=\"data:image/{key.partition('/')[2]};base64,{object}\"/>\"\"\"\n",
       "            if key == 'text/html': object = minify(object)\n",
       "            return object\n",
       "        \n",
       "        def __call__(self, object):\n",
       "            if isinteractive(object):\n",
       "                if hasattr(object, 'value'): \n",
       "                    self.parent.last_widgets.append(object)\n",
       "                    return self(object.value)\n",
       "\n",
       "            datum = format(object)\n",
       "            if isinstance(datum, tuple):\n",
       "                data, metadata = datum\n",
       "            else:\n",
       "                data, metadata = datum, {}\n",
       "            try: key = next(filter(data.__contains__, active_types()))\n",
       "            except StopIteration: return str(object)\n",
       "            return self.normalize(key, data[key], metadata)"
      ],
      "text/plain": [
       "<IPython.core.display.Markdown object>"
      ]
     },
     "metadata": {},
     "output_type": "display_data"
    }
   ],
   "source": [
    "    class Finalize(pidgy.base.Trait):\n",
    "        def normalize(self, key, object, metadata):            \n",
    "            if key.startswith('image'):\n",
    "                if 'svg' in key: return minify(object)\n",
    "                width, height = metadata.get(key, {}).get('width'), metadata.get(key, {}).get('height')\n",
    "                if isinstance(object, bytes):\n",
    "                    object = __import__('base64').b64encode(object).decode('utf-8')\n",
    "                object = F\"\"\"<img src=\"data:image/{key.partition('/')[2]};base64,{object}\"/>\"\"\"\n",
    "            if key == 'text/html': object = minify(object)\n",
    "            return object\n",
    "        \n",
    "        def __call__(self, object):\n",
    "            if isinteractive(object):\n",
    "                if hasattr(object, 'value'): \n",
    "                    if object not in self.parent.last_widgets:\n",
    "                        self.parent.last_widgets.append(object)\n",
    "                    return self(object.value)\n",
    "\n",
    "            datum = format(object)\n",
    "            if isinstance(datum, tuple):\n",
    "                data, metadata = datum\n",
    "            else:\n",
    "                data, metadata = datum, {}\n",
    "            try: key = next(filter(data.__contains__, active_types()))\n",
    "            except StopIteration: return str(object)\n",
    "            return self.normalize(key, data[key], metadata)"
   ]
  },
  {
   "cell_type": "code",
   "execution_count": 49,
   "metadata": {},
   "outputs": [
    {
     "data": {
      "text/markdown": [
       "    def iswidget(object):\n",
       "        if 'ipywidgets' in sys.modules:\n",
       "            if isinstance(object, __import__('ipywidgets').Widget):\n",
       "                return True\n",
       "        return False\n",
       "\n",
       "    def ispanel(object):\n",
       "        if 'param' in sys.modules:\n",
       "            if isinstance(object, __import__('param').Parameterized):\n",
       "                return True\n",
       "        return False\n",
       "\n",
       "    def isinteractive(object):\n",
       "        return iswidget(object) | ispanel(object)"
      ],
      "text/plain": [
       "<IPython.core.display.Markdown object>"
      ]
     },
     "metadata": {},
     "output_type": "display_data"
    }
   ],
   "source": [
    "    def iswidget(object):\n",
    "        if 'ipywidgets' in sys.modules:\n",
    "            if isinstance(object, __import__('ipywidgets').Widget):\n",
    "                return True\n",
    "        return False\n",
    "\n",
    "    def ispanel(object):\n",
    "        if 'param' in sys.modules:\n",
    "            if isinstance(object, __import__('param').Parameterized):\n",
    "                return True\n",
    "        return False\n",
    "\n",
    "    def isinteractive(object):\n",
    "        return iswidget(object) | ispanel(object)"
   ]
  }
 ],
 "metadata": {
  "kernelspec": {
   "display_name": "pidgy 3",
   "language": "python",
   "name": "pidgy"
  },
  "language_info": {
   "codemirror_mode": {
    "name": "ipython",
    "version": 3
   },
   "file_extension": ".py",
   "mimetype": "text/x-python",
   "name": "python",
   "nbconvert_exporter": "python",
   "pygments_lexer": "ipython3",
   "version": "3.7.3"
  }
 },
 "nbformat": 4,
 "nbformat_minor": 4
}
