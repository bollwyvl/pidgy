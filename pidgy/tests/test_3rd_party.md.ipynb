{
 "cells": [
  {
   "cell_type": "code",
   "execution_count": 4,
   "metadata": {},
   "outputs": [
    {
     "data": {
      "text/markdown": [
       "    import os"
      ],
      "text/plain": [
       "<IPython.core.display.Markdown object>"
      ]
     },
     "metadata": {},
     "output_type": "display_data"
    }
   ],
   "source": [
    "    import os"
   ]
  },
  {
   "cell_type": "code",
   "execution_count": 7,
   "metadata": {},
   "outputs": [
    {
     "data": {
      "text/markdown": [
       "    def remove_output():\n",
       "        try: os.remove('_parameterized_notebook.md.ipynb')\n",
       "        except: ..."
      ],
      "text/plain": [
       "<IPython.core.display.Markdown object>"
      ]
     },
     "metadata": {},
     "output_type": "display_data"
    }
   ],
   "source": [
    "    def remove_output():\n",
    "        try: os.remove('_parameterized_notebook.md.ipynb')\n",
    "        except: ..."
   ]
  },
  {
   "cell_type": "code",
   "execution_count": 8,
   "metadata": {},
   "outputs": [
    {
     "data": {
      "application/vnd.jupyter.widget-view+json": {
       "model_id": "a86bc43ada8d41bea0bec47c51e54eaa",
       "version_major": 2,
       "version_minor": 0
      },
      "text/plain": [
       "HBox(children=(FloatProgress(value=0.0, description='Executing', max=3.0, style=ProgressStyle(description_widt…"
      ]
     },
     "metadata": {},
     "output_type": "display_data"
    },
    {
     "name": "stdout",
     "output_type": "stream",
     "text": [
      "\n"
     ]
    },
    {
     "data": {
      "text/markdown": [
       "    #NBVAL_SKIP\n",
       "    def test_execute():\n",
       "        import papermill, pathlib\n",
       "        remove_output()\n",
       "        out = pathlib.Path('_parameterized_notebook.md.ipynb')\n",
       "        assert not out.exists()\n",
       "        papermill.execute_notebook('parameterized_notebook.md.ipynb', str(out), kernel_name='pidgy', parameters=dict(\n",
       "            alpha=100\n",
       "        ))\n",
       "        assert pathlib.Path('_parameterized_notebook.md.ipynb').exists()\n",
       "        remove_output()"
      ],
      "text/plain": [
       "<IPython.core.display.Markdown object>"
      ]
     },
     "metadata": {},
     "output_type": "display_data"
    }
   ],
   "source": [
    "    #NBVAL_SKIP\n",
    "    def test_execute():\n",
    "        import papermill, pathlib\n",
    "        remove_output()\n",
    "        out = pathlib.Path('_parameterized_notebook.md.ipynb')\n",
    "        assert not out.exists()\n",
    "        papermill.execute_notebook('parameterized_notebook.md.ipynb', str(out), kernel_name='pidgy', parameters=dict(\n",
    "            alpha=100\n",
    "        ))\n",
    "        assert pathlib.Path('_parameterized_notebook.md.ipynb').exists()\n",
    "        remove_output()"
   ]
  }
 ],
 "metadata": {
  "kernelspec": {
   "display_name": "pidgy 3",
   "language": "python",
   "name": "pidgy"
  },
  "language_info": {
   "codemirror_mode": {
    "name": "ipython",
    "version": 3
   },
   "file_extension": ".py",
   "mimetype": "text/x-python",
   "name": "python",
   "nbconvert_exporter": "python",
   "pygments_lexer": "ipython3",
   "version": "3.7.3"
  }
 },
 "nbformat": 4,
 "nbformat_minor": 4
}
