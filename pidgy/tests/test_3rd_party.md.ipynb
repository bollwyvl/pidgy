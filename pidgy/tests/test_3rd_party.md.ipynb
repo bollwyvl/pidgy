{
 "cells": [
  {
   "cell_type": "code",
   "execution_count": 4,
   "metadata": {},
   "outputs": [
    {
     "data": {
      "text/markdown": [
       "    import os"
      ],
      "text/plain": [
       "<IPython.core.display.Markdown object>"
      ]
     },
     "metadata": {},
     "output_type": "display_data"
    }
   ],
   "source": [
    "    import os"
   ]
  },
  {
   "cell_type": "code",
   "execution_count": 5,
   "metadata": {},
   "outputs": [
    {
     "data": {
      "application/vnd.jupyter.widget-view+json": {
       "model_id": "714ebfb4b7b84e328175260436198b16",
       "version_major": 2,
       "version_minor": 0
      },
      "text/plain": [
       "HBox(children=(FloatProgress(value=0.0, description='Executing', max=3.0, style=ProgressStyle(description_widt…"
      ]
     },
     "metadata": {},
     "output_type": "display_data"
    },
    {
     "name": "stdout",
     "output_type": "stream",
     "text": [
      "\n"
     ]
    },
    {
     "data": {
      "text/markdown": [
       "    #NBVAL_SKIP\n",
       "    def test_execute():\n",
       "        import papermill, pathlib\n",
       "        os.remove('_parameterized_notebook.md.ipynb')\n",
       "        out = pathlib.Path('_parameterized_notebook.md.ipynb')\n",
       "        assert not out.exists()\n",
       "        papermill.execute_notebook('parameterized_notebook.md.ipynb', str(out), kernel_name='pidgy', parameters=dict(\n",
       "            alpha=100\n",
       "        ))\n",
       "        assert pathlib.Path('_parameterized_notebook.md.ipynb').exists()"
      ],
      "text/plain": [
       "<IPython.core.display.Markdown object>"
      ]
     },
     "metadata": {},
     "output_type": "display_data"
    }
   ],
   "source": [
    "    #NBVAL_SKIP\n",
    "    def test_execute():\n",
    "        import papermill, pathlib\n",
    "        os.remove('_parameterized_notebook.md.ipynb')\n",
    "        out = pathlib.Path('_parameterized_notebook.md.ipynb')\n",
    "        assert not out.exists()\n",
    "        papermill.execute_notebook('parameterized_notebook.md.ipynb', str(out), kernel_name='pidgy', parameters=dict(\n",
    "            alpha=100\n",
    "        ))\n",
    "        assert pathlib.Path('_parameterized_notebook.md.ipynb').exists()"
   ]
  }
 ],
 "metadata": {
  "kernelspec": {
   "display_name": "pidgy 3",
   "language": "python",
   "name": "pidgy"
  },
  "language_info": {
   "codemirror_mode": {
    "name": "ipython",
    "version": 3
   },
   "file_extension": ".py",
   "mimetype": "text/x-python",
   "name": "python",
   "nbconvert_exporter": "python",
   "pygments_lexer": "ipython3",
   "version": "3.7.3"
  }
 },
 "nbformat": 4,
 "nbformat_minor": 4
}
