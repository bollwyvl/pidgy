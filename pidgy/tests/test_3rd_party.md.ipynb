{
 "cells": [
  {
   "cell_type": "code",
   "execution_count": 4,
   "metadata": {},
   "outputs": [
    {
     "data": {
      "text/markdown": [
       "    import os"
      ],
      "text/plain": [
       "<IPython.core.display.Markdown object>"
      ]
     },
     "metadata": {},
     "output_type": "display_data"
    }
   ],
   "source": [
    "    import os"
   ]
  },
  {
   "cell_type": "code",
   "execution_count": 7,
   "metadata": {},
   "outputs": [
    {
     "data": {
      "text/markdown": [
       "    def remove_output():\n",
       "        try: os.remove('_parameterized_notebook.md.ipynb')\n",
       "        except: ..."
      ],
      "text/plain": [
       "<IPython.core.display.Markdown object>"
      ]
     },
     "metadata": {},
     "output_type": "display_data"
    }
   ],
   "source": [
    "    def remove_output(path):\n",
    "        try: os.remove(path)\n",
    "        except: ...\n",
    "            "
   ]
  },
  {
   "cell_type": "code",
   "execution_count": 15,
   "metadata": {},
   "outputs": [
    {
     "data": {
      "text/markdown": [
       "    #NBVAL_SKIP\n",
       "    def test_execute():\n",
       "        import papermill, pathlib\n",
       "        out = pathlib.Path('/pidgy/tests/_parameterized_notebook.md.ipynb')\n",
       "        assert not out.exists()\n",
       "        papermill.execute_notebook('/pidgy/tests/parameterized_notebook.md.ipynb', \n",
       "                                   str(out), kernel_name='pidgy', parameters=dict(\n",
       "                                       alpha=100))\n",
       "        assert out.exists()\n",
       "        remove_output()"
      ],
      "text/plain": [
       "<IPython.core.display.Markdown object>"
      ]
     },
     "metadata": {},
     "output_type": "display_data"
    }
   ],
   "source": [
    "    #NBVAL_SKIP\n",
    "    def test_execute():\n",
    "        \n",
    "        import papermill, pathlib\n",
    "        print(2,pathlib.Path().absolute())\n",
    "        in_, out = pathlib.Path('pidgy/tests/parameterized_notebook.md.ipynb'), pathlib.Path('pidgy/tests/_parameterized_notebook.md.ipynb')\n",
    "        assert in_.exists()\n",
    "        assert not out.exists()\n",
    "        papermill.execute_notebook(str(in_), str(out), kernel_name='pidgy', parameters=dict(alpha=100))\n",
    "        assert out.exists()\n",
    "        remove_output(out)"
   ]
  },
  {
   "cell_type": "code",
   "execution_count": null,
   "metadata": {},
   "outputs": [],
   "source": []
  }
 ],
 "metadata": {
  "kernelspec": {
   "display_name": "pidgy 3",
   "language": "python",
   "name": "pidgy"
  },
  "language_info": {
   "codemirror_mode": {
    "name": "ipython",
    "version": 3
   },
   "file_extension": ".py",
   "mimetype": "text/x-python",
   "name": "python",
   "nbconvert_exporter": "python",
   "pygments_lexer": "ipython3",
   "version": "3.7.3"
  }
 },
 "nbformat": 4,
 "nbformat_minor": 4
}
