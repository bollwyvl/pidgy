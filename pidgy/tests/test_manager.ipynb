{
 "cells": [
  {
   "cell_type": "code",
   "execution_count": 1,
   "metadata": {},
   "outputs": [],
   "source": [
    "    import pidgy.base, IPython"
   ]
  },
  {
   "cell_type": "code",
   "execution_count": 2,
   "metadata": {},
   "outputs": [],
   "source": [
    "    pidgy.base.plugin_manager.add_hookspecs(pidgy.shell.pidgyShell)"
   ]
  },
  {
   "cell_type": "code",
   "execution_count": 3,
   "metadata": {},
   "outputs": [],
   "source": [
    "    weave = pidgy.weave.Weave(parent=pidgy.shell.pidgyShell())"
   ]
  },
  {
   "cell_type": "code",
   "execution_count": 4,
   "metadata": {},
   "outputs": [],
   "source": [
    "    pidgy.base.plugin_manager.register(weave);\n",
    "    pidgy.base.plugin_manager.register(pidgy.testing);\n",
    "    "
   ]
  },
  {
   "cell_type": "code",
   "execution_count": 5,
   "metadata": {},
   "outputs": [],
   "source": [
    "    s = \"\"\"---\n",
    "    front: matter\n",
    "    ---\n",
    "    \n",
    "    # Heading [ref]\n",
    "    \n",
    "        🐼 = 10\n",
    "    \n",
    "    [ref]: 10\n",
    "    \n",
    "    Sumpin\n",
    "    \"\"\""
   ]
  },
  {
   "cell_type": "code",
   "execution_count": 6,
   "metadata": {},
   "outputs": [
    {
     "name": "stdout",
     "output_type": "stream",
     "text": [
      "locals().update(__import__('ruamel.yaml').yaml.safe_load(\"\"\"---\n",
      "front: matter\n",
      "---\n",
      "\"\"\".partition('---')[2].rpartition('---')[0]))\n",
      "\n",
      "\"\"\"# Heading [ref]\"\"\"\n",
      "\n",
      "_panda_face_ = 10\n",
      "\n",
      "locals()[\"__annotations__\"] = {**{x.group(1): x.group(2).rstrip() for x in __import__('pidgy').util.link_item.finditer(\"\"\"[ref]: 10\"\"\")}, **locals().get('__annotations__', {})}\n",
      "\n",
      "\"\"\"Sumpin\"\"\";\n",
      "\n"
     ]
    }
   ],
   "source": [
    "    source = pidgy.tangle.demojize(pidgy.tangle.Tangle().render(s))\n",
    "    print(source)"
   ]
  },
  {
   "cell_type": "code",
   "execution_count": 7,
   "metadata": {},
   "outputs": [],
   "source": [
    "    eval(compile(source, 'test', 'exec'), locals())"
   ]
  },
  {
   "cell_type": "code",
   "execution_count": 8,
   "metadata": {},
   "outputs": [],
   "source": [
    "    ipy = IPython.get_ipython()"
   ]
  },
  {
   "cell_type": "code",
   "execution_count": 9,
   "metadata": {},
   "outputs": [
    {
     "data": {
      "text/markdown": [
       "# Heading [ref]\n",
       "\n",
       "    🐼 = 10\n",
       "\n",
       "[ref]: 10\n",
       "\n",
       "Sumpin"
      ],
      "text/plain": [
       "<IPython.core.display.Markdown object>"
      ]
     },
     "metadata": {},
     "output_type": "display_data"
    }
   ],
   "source": [
    "    if ipy:\n",
    "        result = IPython.core.interactiveshell.ExecutionResult(\n",
    "            info=IPython.core.interactiveshell.ExecutionInfo(source, False, False, True)\n",
    "        )\n",
    "        ipy.weave = weave\n",
    "        ipy.definitions = []\n",
    "        result.info.raw_cell = s\n",
    "\n",
    "        pidgy.base.plugin_manager.hook.post_run_cell(result=result, shell=ipy);"
   ]
  }
 ],
 "metadata": {
  "kernelspec": {
   "display_name": "Python 3",
   "language": "python",
   "name": "python3"
  },
  "language_info": {
   "codemirror_mode": {
    "name": "ipython",
    "version": 3
   },
   "file_extension": ".py",
   "mimetype": "text/x-python",
   "name": "python",
   "nbconvert_exporter": "python",
   "pygments_lexer": "ipython3",
   "version": "3.7.3"
  }
 },
 "nbformat": 4,
 "nbformat_minor": 4
}
