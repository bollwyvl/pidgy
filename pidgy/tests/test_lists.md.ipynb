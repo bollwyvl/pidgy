{
 "cells": [
  {
   "cell_type": "markdown",
   "metadata": {},
   "source": [
    "`pidgy` allows markdown lists to be defined a variables."
   ]
  },
  {
   "cell_type": "code",
   "execution_count": 1,
   "metadata": {},
   "outputs": [
    {
     "data": {
      "text/markdown": [
       "    import mistune, re"
      ],
      "text/plain": [
       "<IPython.core.display.Markdown object>"
      ]
     },
     "metadata": {},
     "output_type": "display_data"
    }
   ],
   "source": [
    "    import mistune, re"
   ]
  },
  {
   "cell_type": "code",
   "execution_count": 2,
   "metadata": {},
   "outputs": [
    {
     "data": {
      "text/markdown": [
       "        >>> a\n",
       "        ['blue', 'red', 'yellow']\n",
       "        \n",
       "        a =\\\n",
       "* blue\n",
       "* red\n",
       "* yellow\n",
       "    \n",
       "        "
      ],
      "text/plain": [
       "<IPython.core.display.Markdown object>"
      ]
     },
     "metadata": {},
     "output_type": "display_data"
    }
   ],
   "source": [
    "        >>> a\n",
    "        ['blue', 'red', 'yellow']\n",
    "        \n",
    "        a =\\\n",
    "* blue\n",
    "* red\n",
    "* yellow\n",
    "    \n",
    "        "
   ]
  },
  {
   "cell_type": "code",
   "execution_count": 3,
   "metadata": {},
   "outputs": [
    {
     "data": {
      "text/markdown": [
       "        >>> b\n",
       "        ['blue', 'red', 'yellow']\n",
       "        \n",
       "        b =\\\n",
       "* blue\n",
       "* red\n",
       "* yellow\n",
       "    * purple\n",
       "    * orange\n",
       "    * green\n",
       "    \n",
       "        "
      ],
      "text/plain": [
       "<IPython.core.display.Markdown object>"
      ]
     },
     "metadata": {},
     "output_type": "display_data"
    }
   ],
   "source": [
    "        >>> b\n",
    "        ['blue', 'red', 'yellow']\n",
    "        \n",
    "        b =\\\n",
    "* blue\n",
    "* red\n",
    "* yellow\n",
    "    * purple\n",
    "    * orange\n",
    "    * green\n",
    "    \n",
    "        "
   ]
  },
  {
   "cell_type": "code",
   "execution_count": 4,
   "metadata": {},
   "outputs": [
    {
     "data": {
      "text/markdown": [
       "        >>> b\n",
       "        ['blue', 'red', 'yellow']\n",
       "        >>> c\n",
       "        ['purple', 'orange', 'green']\n",
       "\n",
       "        b =\\\n",
       "        \n",
       "        \n",
       "* blue\n",
       "* red\n",
       "* yellow\n",
       "\n",
       "        c=\\\n",
       "    \n",
       "    * purple\n",
       "    * orange\n",
       "    * green\n",
       "    \n",
       "        "
      ],
      "text/plain": [
       "<IPython.core.display.Markdown object>"
      ]
     },
     "metadata": {},
     "output_type": "display_data"
    }
   ],
   "source": [
    "        >>> b\n",
    "        ['blue', 'red', 'yellow']\n",
    "        >>> c\n",
    "        ['purple', 'orange', 'green']\n",
    "\n",
    "        b =\\\n",
    "        \n",
    "        \n",
    "* blue\n",
    "* red\n",
    "* yellow\n",
    "\n",
    "        c=\\\n",
    "    \n",
    "    * purple\n",
    "    * orange\n",
    "    * green\n",
    "    \n",
    "        "
   ]
  },
  {
   "cell_type": "code",
   "execution_count": 5,
   "metadata": {},
   "outputs": [
    {
     "data": {
      "text/markdown": [
       "        >>> a\n",
       "        ['triangle', 'circle', 'square']\n",
       "\n",
       "        a =\\\n",
       "        \n",
       "1. triangle\n",
       "2. circle\n",
       "3. square"
      ],
      "text/plain": [
       "<IPython.core.display.Markdown object>"
      ]
     },
     "metadata": {},
     "output_type": "display_data"
    }
   ],
   "source": [
    "        >>> a\n",
    "        ['triangle', 'circle', 'square']\n",
    "\n",
    "        a =\\\n",
    "        \n",
    "1. triangle\n",
    "2. circle\n",
    "3. square"
   ]
  }
 ],
 "metadata": {
  "kernelspec": {
   "display_name": "pidgy 3",
   "language": "python",
   "name": "pidgy"
  },
  "language_info": {
   "codemirror_mode": {
    "name": "ipython",
    "version": 3
   },
   "file_extension": ".py",
   "mimetype": "text/x-python",
   "name": "python",
   "nbconvert_exporter": "python",
   "pygments_lexer": "ipython3",
   "version": "3.7.3"
  }
 },
 "nbformat": 4,
 "nbformat_minor": 4
}
