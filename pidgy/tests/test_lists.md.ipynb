{
 "cells": [
  {
   "cell_type": "markdown",
   "metadata": {},
   "source": [
    "`pidgy` allows markdown lists to be defined a variables."
   ]
  },
  {
   "cell_type": "code",
   "execution_count": 1,
   "metadata": {},
   "outputs": [
    {
     "data": {
      "text/markdown": [
       "    import mistune, re"
      ],
      "text/plain": [
       "<IPython.core.display.Markdown object>"
      ]
     },
     "metadata": {},
     "output_type": "display_data"
    }
   ],
   "source": [
    "    import mistune, re"
   ]
  },
  {
   "cell_type": "code",
   "execution_count": 2,
   "metadata": {},
   "outputs": [
    {
     "name": "stderr",
     "output_type": "stream",
     "text": [
      "<unittest.result.TestResult run=2 errors=0 failures=1>\n",
      "File \"In[2]\", line 2, in In[2]\n",
      "Failed example:\n",
      "    a\n",
      "Expected:\n",
      "    ['blue', 'red', 'yellow']\n",
      "Got:\n",
      "    '* blue\\n* red\\n* yellow'\n",
      "\n"
     ]
    },
    {
     "data": {
      "text/markdown": [
       "        >>> a\n",
       "        ['blue', 'red', 'yellow']\n",
       "        \n",
       "        a =\\\n",
       "* blue\n",
       "* red\n",
       "* yellow\n",
       "    \n",
       "        "
      ],
      "text/plain": [
       "<IPython.core.display.Markdown object>"
      ]
     },
     "metadata": {},
     "output_type": "display_data"
    }
   ],
   "source": [
    "        >>> a\n",
    "        ['blue', 'red', 'yellow']\n",
    "        \n",
    "        a =\\\n",
    "* blue\n",
    "* red\n",
    "* yellow\n",
    "    \n",
    "        "
   ]
  },
  {
   "cell_type": "code",
   "execution_count": 3,
   "metadata": {},
   "outputs": [
    {
     "name": "stderr",
     "output_type": "stream",
     "text": [
      "<unittest.result.TestResult run=2 errors=0 failures=1>\n",
      "File \"In[3]\", line 2, in In[3]\n",
      "Failed example:\n",
      "    b\n",
      "Expected:\n",
      "    ['blue', 'red', 'yellow']\n",
      "Got:\n",
      "    '* blue\\n* red\\n* yellow'\n",
      "\n"
     ]
    },
    {
     "data": {
      "text/markdown": [
       "        >>> b\n",
       "        ['blue', 'red', 'yellow']\n",
       "        \n",
       "        b =\\\n",
       "* blue\n",
       "* red\n",
       "* yellow\n",
       "    * purple\n",
       "    * orange\n",
       "    * green\n",
       "    \n",
       "        "
      ],
      "text/plain": [
       "<IPython.core.display.Markdown object>"
      ]
     },
     "metadata": {},
     "output_type": "display_data"
    }
   ],
   "source": [
    "        >>> b\n",
    "        ['blue', 'red', 'yellow']\n",
    "        \n",
    "        b =\\\n",
    "* blue\n",
    "* red\n",
    "* yellow\n",
    "    * purple\n",
    "    * orange\n",
    "    * green\n",
    "    \n",
    "        "
   ]
  },
  {
   "cell_type": "code",
   "execution_count": 4,
   "metadata": {},
   "outputs": [
    {
     "name": "stderr",
     "output_type": "stream",
     "text": [
      "<unittest.result.TestResult run=2 errors=0 failures=1>\n",
      "File \"In[4]\", line 2, in In[4]\n",
      "Failed example:\n",
      "    b\n",
      "Expected:\n",
      "    ['blue', 'red', 'yellow']\n",
      "Got:\n",
      "    '* blue\\n* red\\n* yellow'\n",
      "----------------------------------------------------------------------\n",
      "File \"In[4]\", line 4, in In[4]\n",
      "Failed example:\n",
      "    c\n",
      "Expected:\n",
      "    ['purple', 'orange', 'green']\n",
      "Got:\n",
      "    '* purple\\n* orange\\n* green'\n",
      "\n"
     ]
    },
    {
     "data": {
      "text/markdown": [
       "        >>> b\n",
       "        ['blue', 'red', 'yellow']\n",
       "        >>> c\n",
       "        ['purple', 'orange', 'green']\n",
       "\n",
       "        b =\\\n",
       "        \n",
       "        \n",
       "* blue\n",
       "* red\n",
       "* yellow\n",
       "\n",
       "        c=\\\n",
       "    \n",
       "    * purple\n",
       "    * orange\n",
       "    * green\n",
       "    \n",
       "        "
      ],
      "text/plain": [
       "<IPython.core.display.Markdown object>"
      ]
     },
     "metadata": {},
     "output_type": "display_data"
    }
   ],
   "source": [
    "        >>> b\n",
    "        ['blue', 'red', 'yellow']\n",
    "        >>> c\n",
    "        ['purple', 'orange', 'green']\n",
    "\n",
    "        b =\\\n",
    "        \n",
    "        \n",
    "* blue\n",
    "* red\n",
    "* yellow\n",
    "\n",
    "        c=\\\n",
    "    \n",
    "    * purple\n",
    "    * orange\n",
    "    * green\n",
    "    \n",
    "        "
   ]
  },
  {
   "cell_type": "code",
   "execution_count": 5,
   "metadata": {},
   "outputs": [
    {
     "name": "stderr",
     "output_type": "stream",
     "text": [
      "<unittest.result.TestResult run=2 errors=0 failures=1>\n",
      "File \"In[5]\", line 2, in In[5]\n",
      "Failed example:\n",
      "    a\n",
      "Expected:\n",
      "    ['triangle', 'circle', 'square']\n",
      "Got:\n",
      "    '1. triangle\\n2. circle\\n3. square'\n",
      "\n"
     ]
    },
    {
     "data": {
      "text/markdown": [
       "        >>> a\n",
       "        ['triangle', 'circle', 'square']\n",
       "\n",
       "        a =\\\n",
       "        \n",
       "1. triangle\n",
       "2. circle\n",
       "3. square"
      ],
      "text/plain": [
       "<IPython.core.display.Markdown object>"
      ]
     },
     "metadata": {},
     "output_type": "display_data"
    }
   ],
   "source": [
    "        >>> a\n",
    "        ['triangle', 'circle', 'square']\n",
    "\n",
    "        a =\\\n",
    "        \n",
    "1. triangle\n",
    "2. circle\n",
    "3. square"
   ]
  },
  {
   "cell_type": "code",
   "execution_count": 6,
   "metadata": {},
   "outputs": [
    {
     "data": {
      "text/markdown": [
       "        d = \"\"\"\n",
       "        \n",
       "1. up\n",
       "2. down\n",
       "3. left\n",
       "\n",
       "        \"\"\""
      ],
      "text/plain": [
       "<IPython.core.display.Markdown object>"
      ]
     },
     "metadata": {},
     "output_type": "display_data"
    }
   ],
   "source": [
    "        d = \"\"\"\n",
    "        \n",
    "1. up\n",
    "2. down\n",
    "3. left\n",
    "\n",
    "        \"\"\""
   ]
  },
  {
   "cell_type": "code",
   "execution_count": null,
   "metadata": {},
   "outputs": [],
   "source": []
  }
 ],
 "metadata": {
  "kernelspec": {
   "display_name": "pidgy 3",
   "language": "python",
   "name": "pidgy"
  },
  "language_info": {
   "codemirror_mode": {
    "name": "ipython",
    "version": 3
   },
   "file_extension": ".py",
   "mimetype": "text/x-python",
   "name": "python",
   "nbconvert_exporter": "python",
   "pygments_lexer": "ipython3",
   "version": "3.7.3"
  }
 },
 "nbformat": 4,
 "nbformat_minor": 4
}
