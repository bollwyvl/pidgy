{
 "cells": [
  {
   "cell_type": "markdown",
   "metadata": {},
   "source": [
    "`pidgy` allows markdown lists to be defined a variables."
   ]
  },
  {
   "cell_type": "code",
   "execution_count": 1,
   "metadata": {},
   "outputs": [
    {
     "data": {
      "text/markdown": [
       "        a =\\\n",
       "* blue\n",
       "* red\n",
       "* yellow\n",
       "    \n",
       "        "
      ],
      "text/plain": [
       "<IPython.core.display.Markdown object>"
      ]
     },
     "metadata": {},
     "output_type": "display_data"
    }
   ],
   "source": [
    "        a =\\\n",
    "* blue\n",
    "* red\n",
    "* yellow\n",
    "    \n",
    "        "
   ]
  },
  {
   "cell_type": "code",
   "execution_count": 2,
   "metadata": {},
   "outputs": [
    {
     "data": {
      "text/markdown": [
       "        >>> a\n",
       "        ['blue', 'red', 'yellow']\n",
       "        "
      ],
      "text/plain": [
       "<IPython.core.display.Markdown object>"
      ]
     },
     "metadata": {},
     "output_type": "display_data"
    }
   ],
   "source": [
    "        >>> a\n",
    "        ['blue', 'red', 'yellow']\n",
    "        "
   ]
  },
  {
   "cell_type": "code",
   "execution_count": 3,
   "metadata": {},
   "outputs": [
    {
     "data": {
      "text/plain": [
       "['purple', 'orange', 'green']"
      ]
     },
     "execution_count": 3,
     "metadata": {},
     "output_type": "execute_result"
    },
    {
     "data": {
      "text/markdown": [
       "        >>> b\n",
       "        ['blue', 'red', 'yellow']\n",
       "        \n",
       "        b =\\\n",
       "* blue\n",
       "* red\n",
       "* yellow\n",
       "    * purple\n",
       "    * orange\n",
       "    * green\n",
       "    \n",
       "        "
      ],
      "text/plain": [
       "<IPython.core.display.Markdown object>"
      ]
     },
     "metadata": {},
     "output_type": "display_data"
    }
   ],
   "source": [
    "        >>> b\n",
    "        ['blue', 'red', 'yellow']\n",
    "        \n",
    "        b =\\\n",
    "* blue\n",
    "* red\n",
    "* yellow\n",
    "    * purple\n",
    "    * orange\n",
    "    * green\n",
    "    \n",
    "        "
   ]
  },
  {
   "cell_type": "code",
   "execution_count": 4,
   "metadata": {},
   "outputs": [
    {
     "data": {
      "text/markdown": [
       "        >>> b\n",
       "        ['blue', 'red', 'yellow']\n",
       "        >>> c\n",
       "        ['purple', 'orange', 'green']\n",
       "\n",
       "        b =\\\n",
       "        \n",
       "        \n",
       "* blue\n",
       "* red\n",
       "* yellow\n",
       "\n",
       "        c=\\\n",
       "    + purple\n",
       "    + orange\n",
       "    + green\n",
       "    \n",
       "        "
      ],
      "text/plain": [
       "<IPython.core.display.Markdown object>"
      ]
     },
     "metadata": {},
     "output_type": "display_data"
    }
   ],
   "source": [
    "        >>> b\n",
    "        ['blue', 'red', 'yellow']\n",
    "        >>> c\n",
    "        ['purple', 'orange', 'green']\n",
    "\n",
    "        b =\\\n",
    "        \n",
    "        \n",
    "* blue\n",
    "* red\n",
    "* yellow\n",
    "\n",
    "        c=\\\n",
    "    + purple\n",
    "    + orange\n",
    "    + green\n",
    "    \n",
    "        "
   ]
  },
  {
   "cell_type": "code",
   "execution_count": 5,
   "metadata": {},
   "outputs": [
    {
     "data": {
      "text/markdown": [
       "        >>> a\n",
       "        ['triangle', 'circle', 'square']\n",
       "\n",
       "        a =\\\n",
       "        \n",
       "1. triangle\n",
       "2. circle\n",
       "3. square"
      ],
      "text/plain": [
       "<IPython.core.display.Markdown object>"
      ]
     },
     "metadata": {},
     "output_type": "display_data"
    }
   ],
   "source": [
    "        >>> a\n",
    "        ['triangle', 'circle', 'square']\n",
    "\n",
    "        a =\\\n",
    "        \n",
    "1. triangle\n",
    "2. circle\n",
    "3. square"
   ]
  },
  {
   "cell_type": "code",
   "execution_count": 6,
   "metadata": {},
   "outputs": [
    {
     "data": {
      "text/markdown": [
       "        d = \"\"\"\n",
       "        \n",
       "1. up\n",
       "2. down\n",
       "3. left\n",
       "\n",
       "        \"\"\""
      ],
      "text/plain": [
       "<IPython.core.display.Markdown object>"
      ]
     },
     "metadata": {},
     "output_type": "display_data"
    }
   ],
   "source": [
    "        d = \"\"\"\n",
    "        \n",
    "1. up\n",
    "2. down\n",
    "3. left\n",
    "\n",
    "        \"\"\""
   ]
  },
  {
   "cell_type": "markdown",
   "metadata": {},
   "source": [
    "Link definitions and footnote definitions can be used to defined dictionaries or enrich a documents annotaitons."
   ]
  },
  {
   "cell_type": "code",
   "execution_count": 7,
   "metadata": {},
   "outputs": [
    {
     "data": {
      "text/markdown": [
       "    q=\\\n",
       "[a]: This\n",
       "[b]: That\n",
       "    \n",
       "    >>> q\n",
       "    {'a': 'This', 'b': 'That'}\n",
       "\n",
       "[c]: Them\n",
       "[d]: They\n",
       "    \n",
       "    >>> __annotations__\n",
       "    {'c': 'Them', 'd': 'They'}"
      ],
      "text/plain": [
       "<IPython.core.display.Markdown object>"
      ]
     },
     "metadata": {},
     "output_type": "display_data"
    }
   ],
   "source": [
    "    q=\\\n",
    "[a]: This\n",
    "[b]: That\n",
    "    \n",
    "    >>> q\n",
    "    {'a': 'This', 'b': 'That'}\n",
    "\n",
    "[c]: Them\n",
    "[d]: They\n",
    "    \n",
    "    >>> __annotations__\n",
    "    {'c': 'Them', 'd': 'They'}"
   ]
  },
  {
   "cell_type": "code",
   "execution_count": 8,
   "metadata": {},
   "outputs": [
    {
     "data": {
      "text/markdown": [
       "    >>> __annotations__\n",
       "    {'f': 'That', 'e': 'This', 'c': 'Them', 'd': 'They'}\n",
       "    \n",
       "[^e]: This\n",
       "[^f]: That"
      ],
      "text/plain": [
       "<IPython.core.display.Markdown object>"
      ]
     },
     "metadata": {},
     "output_type": "display_data"
    }
   ],
   "source": [
    "    >>> __annotations__\n",
    "    {'f': 'That', 'e': 'This', 'c': 'Them', 'd': 'They'}\n",
    "    \n",
    "[^e]: This\n",
    "[^f]: That"
   ]
  },
  {
   "cell_type": "code",
   "execution_count": 9,
   "metadata": {},
   "outputs": [
    {
     "data": {
      "text/markdown": [
       "Link me\n",
       "\n",
       "    qq: \"I'm the boss\"\n",
       "    >>> assert 'qq' not in locals()\n",
       "    >>> __annotations__['qq']\n",
       "    \"I'm the boss\"\n",
       "    \n",
       "[qq]: I'm\n",
       "[gg]: asd"
      ],
      "text/plain": [
       "<IPython.core.display.Markdown object>"
      ]
     },
     "metadata": {},
     "output_type": "display_data"
    }
   ],
   "source": [
    "Link me\n",
    "\n",
    "    qq: \"I'm the boss\"\n",
    "    >>> assert 'qq' not in locals()\n",
    "    >>> __annotations__['qq']\n",
    "    \"I'm the boss\"\n",
    "    \n",
    "[qq]: I'm\n",
    "[gg]: asd"
   ]
  },
  {
   "cell_type": "code",
   "execution_count": 10,
   "metadata": {},
   "outputs": [
    {
     "data": {
      "text/markdown": [
       "    a = \\\n",
       "    \"\"\"\n",
       "    \n",
       "[a]: quoted\n",
       "[b]: notes\n",
       "    \n",
       "    \"\"\"\n",
       "    >>> assert isinstance(a, str), \"The footnotes were converted.\""
      ],
      "text/plain": [
       "<IPython.core.display.Markdown object>"
      ]
     },
     "metadata": {},
     "output_type": "display_data"
    }
   ],
   "source": [
    "    a = \\\n",
    "    \"\"\"\n",
    "    \n",
    "[a]: quoted\n",
    "[b]: notes\n",
    "    \n",
    "    \"\"\"\n",
    "    >>> assert isinstance(a, str), \"The footnotes were converted.\""
   ]
  },
  {
   "cell_type": "code",
   "execution_count": 11,
   "metadata": {},
   "outputs": [
    {
     "data": {
      "text/markdown": [
       "Annotations can be used in templates like `\"qq\"` here -> __I'm the boss__"
      ],
      "text/plain": [
       "<IPython.core.display.Markdown object>"
      ]
     },
     "metadata": {},
     "output_type": "display_data"
    }
   ],
   "source": [
    "Annotations can be used in templates like `\"qq\"` here -> __{{qq}}__"
   ]
  }
 ],
 "metadata": {
  "kernelspec": {
   "display_name": "pidgy 3",
   "language": "python",
   "name": "pidgy"
  },
  "language_info": {
   "codemirror_mode": {
    "name": "ipython",
    "version": 3
   },
   "file_extension": ".py",
   "mimetype": "text/x-python",
   "name": "python",
   "nbconvert_exporter": "python",
   "pygments_lexer": "ipython3",
   "version": "3.7.3"
  }
 },
 "nbformat": 4,
 "nbformat_minor": 4
}
