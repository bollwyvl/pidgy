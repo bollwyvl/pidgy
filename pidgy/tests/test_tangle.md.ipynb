{
 "cells": [
  {
   "cell_type": "code",
   "execution_count": 1,
   "metadata": {},
   "outputs": [
    {
     "data": {
      "text/markdown": [
       "        import pidgy"
      ],
      "text/plain": [
       "<IPython.core.display.Markdown object>"
      ]
     },
     "metadata": {},
     "output_type": "display_data"
    }
   ],
   "source": [
    "        import pidgy"
   ]
  },
  {
   "cell_type": "code",
   "execution_count": 4,
   "metadata": {},
   "outputs": [
    {
     "data": {
      "text/markdown": [
       "    >>> dir(pidgy.tangle)\n",
       "    ['BlockLexer', 'IPython', 'Translate', '__builtins__', '__doc__', '__file__', '__loader__', '__name__', '__package__', '__spec__', '__test__', 'mistune', 'normalizer', 'pidgy', 'pidgyManager', 'tangle', 'typing']"
      ],
      "text/plain": [
       "<IPython.core.display.Markdown object>"
      ]
     },
     "metadata": {},
     "output_type": "display_data"
    }
   ],
   "source": [
    "    >>> dir(pidgy.tangle)\n",
    "    ['BlockLexer', 'IPython', 'Translate', '__builtins__', '__doc__', '__file__', '__loader__', '__name__', '__package__', '__spec__', '__test__', 'mistune', 'normalizer', 'pidgy', 'pidgyManager', 'tangle', 'typing']"
   ]
  },
  {
   "cell_type": "code",
   "execution_count": 6,
   "metadata": {},
   "outputs": [
    {
     "data": {
      "text/markdown": [
       "    translate = pidgy.tangle.Translate()"
      ],
      "text/plain": [
       "<IPython.core.display.Markdown object>"
      ]
     },
     "metadata": {},
     "output_type": "display_data"
    }
   ],
   "source": [
    "    translate = pidgy.tangle.Translate()"
   ]
  },
  {
   "cell_type": "code",
   "execution_count": 10,
   "metadata": {},
   "outputs": [
    {
     "data": {
      "text/markdown": [
       "    s = \"\"\"This is a paragraph.\n",
       "    \n",
       "    * a list\n",
       "    \n",
       "            print\n",
       "    \n",
       "    \"\"\""
      ],
      "text/plain": [
       "<IPython.core.display.Markdown object>"
      ]
     },
     "metadata": {},
     "output_type": "display_data"
    }
   ],
   "source": [
    "    s = \"\"\"This is a paragraph.\n",
    "    \n",
    "    * a list\n",
    "    \n",
    "            print\n",
    "    \n",
    "    \"\"\""
   ]
  },
  {
   "cell_type": "code",
   "execution_count": 13,
   "metadata": {},
   "outputs": [
    {
     "data": {
      "text/plain": [
       "[{'type': 'paragraph', 'text': 'This is a paragraph.'},\n",
       " {'type': 'list_start', 'ordered': False},\n",
       " {'type': 'loose_item_start'},\n",
       " {'type': 'text', 'text': 'a list'},\n",
       " {'type': 'newline'},\n",
       " {'type': 'code', 'lang': None, 'text': '  print'},\n",
       " {'type': 'list_item_end'},\n",
       " {'type': 'list_end'}]"
      ]
     },
     "execution_count": 13,
     "metadata": {},
     "output_type": "execute_result"
    },
    {
     "data": {
      "text/markdown": [
       "Unnormalized tokens.\n",
       "    \n",
       "    translate.parse(s, normalize=False)"
      ],
      "text/plain": [
       "<IPython.core.display.Markdown object>"
      ]
     },
     "metadata": {},
     "output_type": "display_data"
    }
   ],
   "source": [
    "Unnormalized tokens.\n",
    "    \n",
    "    translate.parse(s, normalize=False)"
   ]
  },
  {
   "cell_type": "code",
   "execution_count": 14,
   "metadata": {},
   "outputs": [
    {
     "data": {
      "text/plain": [
       "[{'type': 'paragraph', 'text': 'This is a paragraph.\\n\\n* a list'},\n",
       " {'type': 'code', 'lang': None, 'text': '\\n\\n        print'}]"
      ]
     },
     "execution_count": 14,
     "metadata": {},
     "output_type": "execute_result"
    },
    {
     "data": {
      "text/markdown": [
       "Normalized block tokens    \n",
       "\n",
       "    translate.parse(s, normalize=True)"
      ],
      "text/plain": [
       "<IPython.core.display.Markdown object>"
      ]
     },
     "metadata": {},
     "output_type": "display_data"
    }
   ],
   "source": [
    "Normalized block tokens    \n",
    "\n",
    "    translate.parse(s, normalize=True)"
   ]
  },
  {
   "cell_type": "code",
   "execution_count": 18,
   "metadata": {},
   "outputs": [
    {
     "name": "stdout",
     "output_type": "stream",
     "text": [
      "        \"\"\"This is a paragraph.\n",
      "\n",
      "        * a list\"\"\"\n",
      "\n",
      "        print\n"
     ]
    },
    {
     "data": {
      "text/markdown": [
       "Normalized block tokens    \n",
       "\n",
       "    print(translate.stringify(translate.parse(s)))"
      ],
      "text/plain": [
       "<IPython.core.display.Markdown object>"
      ]
     },
     "metadata": {},
     "output_type": "display_data"
    }
   ],
   "source": [
    "Normalized block tokens    \n",
    "\n",
    "    print(translate.stringify(translate.parse(s)))"
   ]
  },
  {
   "cell_type": "code",
   "execution_count": null,
   "metadata": {},
   "outputs": [],
   "source": []
  }
 ],
 "metadata": {
  "kernelspec": {
   "display_name": "pidgy 3",
   "language": "python",
   "name": "pidgy"
  },
  "language_info": {
   "codemirror_mode": {
    "name": "ipython",
    "version": 3
   },
   "file_extension": ".py",
   "mimetype": "text/x-python",
   "name": "python",
   "nbconvert_exporter": "python",
   "pygments_lexer": "ipython3",
   "version": "3.7.3"
  }
 },
 "nbformat": 4,
 "nbformat_minor": 4
}
