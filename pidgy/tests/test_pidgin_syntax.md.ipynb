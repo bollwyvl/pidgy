{
 "cells": [
  {
   "cell_type": "markdown",
   "metadata": {},
   "source": [
    "# `pidgy` metasyntax"
   ]
  },
  {
   "cell_type": "code",
   "execution_count": 1,
   "metadata": {},
   "outputs": [
    {
     "data": {
      "text/markdown": [
       "    import pidgy, IPython, jinja2, doctest\n",
       "\n",
       "`pidgy` not only allows the [Markdown] and [Python] to cooperate in a document, \n",
       "metasyntaxes emerge at the interface between the language."
      ],
      "text/plain": [
       "<IPython.core.display.Markdown object>"
      ]
     },
     "metadata": {},
     "output_type": "display_data"
    }
   ],
   "source": [
    "    import pidgy, IPython, jinja2, doctest\n",
    "\n",
    "`pidgy` not only allows the [Markdown] and [Python] to cooperate in a document, \n",
    "metasyntaxes emerge at the interface between the language."
   ]
  },
  {
   "cell_type": "markdown",
   "metadata": {},
   "source": [
    "## Markdown is the primary language"
   ]
  },
  {
   "cell_type": "code",
   "execution_count": 2,
   "metadata": {},
   "outputs": [
    {
     "name": "stdout",
     "output_type": "stream",
     "text": [
      "Indented blocks are always code like in literate coffeescript.\n"
     ]
    },
    {
     "data": {
      "text/markdown": [
       "`pidgy` considers [Markdown] indented code blocks and language free code fences\n",
       "as valid [Python] code while every other object is represented as a triple \n",
       "quoted block string.\n",
       "\n",
       "    print(\"Indented blocks are always code like in literate coffeescript.\")"
      ],
      "text/plain": [
       "<IPython.core.display.Markdown object>"
      ]
     },
     "metadata": {},
     "output_type": "display_data"
    }
   ],
   "source": [
    "`pidgy` considers [Markdown] indented code blocks and language free code fences\n",
    "as valid [Python] code while every other object is represented as a triple \n",
    "quoted block string.\n",
    "\n",
    "    print(\"Indented blocks are always code like in literate coffeescript.\")"
   ]
  },
  {
   "cell_type": "markdown",
   "metadata": {},
   "source": [
    "## Executing code."
   ]
  },
  {
   "cell_type": "code",
   "execution_count": 3,
   "metadata": {},
   "outputs": [
    {
     "data": {
      "text/markdown": [
       "There are two specific to ensure that code is executed in `pidgy`.\n",
       "\n",
       "### Indented code.\n",
       "\n",
       "Like in the prior cell, an indented code block is a specific token in Markdown\n",
       "that `pidgy` recognizes canonically as code.\n",
       "\n",
       "    \"This is code\" # because of the indent.\n",
       "\n",
       "### Code fences.\n",
       "\n",
       "```\n",
       "\"I am code because no language is specified.\"\n",
       "```\n",
       "\n",
       "### Ignoring code.\n",
       "\n",
       "Include a language with the code fence to skip code execution.\n",
       "\n",
       "```alanguage\n",
       "Add alanguage specification to code fence to ignore its input.\n",
       "```\n",
       "\n",
       "Or, use html tags.\n",
       "\n",
       "<pre><code>\n",
       "I am explicit HMTL.\n",
       "</code></pre>"
      ],
      "text/plain": [
       "<IPython.core.display.Markdown object>"
      ]
     },
     "metadata": {},
     "output_type": "display_data"
    }
   ],
   "source": [
    "There are two specific to ensure that code is executed in `pidgy`.\n",
    "\n",
    "### Indented code.\n",
    "\n",
    "Like in the prior cell, an indented code block is a specific token in Markdown\n",
    "that `pidgy` recognizes canonically as code.\n",
    "\n",
    "    \"This is code\" # because of the indent.\n",
    "\n",
    "### Code fences.\n",
    "\n",
    "```\n",
    "\"I am code because no language is specified.\"\n",
    "```\n",
    "\n",
    "### Ignoring code.\n",
    "\n",
    "Include a language with the code fence to skip code execution.\n",
    "\n",
    "```alanguage\n",
    "Add alanguage specification to code fence to ignore its input.\n",
    "```\n",
    "\n",
    "Or, use html tags.\n",
    "\n",
    "<pre><code>\n",
    "I am explicit HMTL.\n",
    "</code></pre>"
   ]
  },
  {
   "cell_type": "markdown",
   "metadata": {},
   "source": [
    "## Testing code"
   ]
  },
  {
   "cell_type": "code",
   "execution_count": 4,
   "metadata": {},
   "outputs": [
    {
     "data": {
      "text/markdown": [
       "`pidgy` recognizes doctests, a literate programming approach to testing, in the input and executes them in a formal unittest\n",
       "testing suite. `doctest` are identified by the `\">>>\"` line prefix.\n",
       "\n",
       "    >>> assert True\n",
       "    >>> print\n",
       "    <built-in function print>\n",
       "    >>> pidgy\n",
       "    <module...__init__.py'>"
      ],
      "text/plain": [
       "<IPython.core.display.Markdown object>"
      ]
     },
     "metadata": {},
     "output_type": "display_data"
    }
   ],
   "source": [
    "`pidgy` recognizes doctests, a literate programming approach to testing, in the input and executes them in a formal unittest\n",
    "testing suite. `doctest` are identified by the `\">>>\"` line prefix.\n",
    "\n",
    "    >>> assert True\n",
    "    >>> print\n",
    "    <built-in function print>\n",
    "    >>> pidgy\n",
    "    <module...__init__.py'>"
   ]
  },
  {
   "cell_type": "markdown",
   "metadata": {},
   "source": [
    "## Weaving and templating code"
   ]
  },
  {
   "cell_type": "code",
   "execution_count": 5,
   "metadata": {},
   "outputs": [
    {
     "data": {
      "text/markdown": [
       "`pidgy` permits the popular `jinja2` templating syntax.  Any use of \n",
       "templates references <code>{{}}</code> will be filled in with\n",
       "information from the current namespace.\n",
       "\n",
       "There is a variable `foo` with the value <code>20</code>.\n",
       "\n",
       "    foo = 20"
      ],
      "text/plain": [
       "<IPython.core.display.Markdown object>"
      ]
     },
     "metadata": {},
     "output_type": "display_data"
    }
   ],
   "source": [
    "`pidgy` permits the popular `jinja2` templating syntax.  Any use of \n",
    "templates references <code>{% raw %}{{}}{% endraw %}</code> will be filled in with\n",
    "information from the current namespace.\n",
    "\n",
    "There is a variable `foo` with the value <code>{{foo}}</code>.\n",
    "\n",
    "    foo = 20"
   ]
  },
  {
   "cell_type": "markdown",
   "metadata": {},
   "source": [
    "### Suppressing the weave output."
   ]
  },
  {
   "cell_type": "code",
   "execution_count": 6,
   "metadata": {},
   "outputs": [],
   "source": [
    "\n",
    "\n",
    "`pidgy` will not render any input beginning with a blank line."
   ]
  },
  {
   "cell_type": "code",
   "execution_count": 7,
   "metadata": {},
   "outputs": [
    {
     "data": {
      "text/markdown": [
       "# Front matter"
      ],
      "text/plain": [
       "<IPython.core.display.Markdown object>"
      ]
     },
     "metadata": {},
     "output_type": "display_data"
    }
   ],
   "source": [
    "# Front matter"
   ]
  },
  {
   "cell_type": "code",
   "execution_count": 8,
   "metadata": {},
   "outputs": [
    {
     "data": {
      "text/markdown": [
       "`import ruamel.yaml` front matter starts with `\"---\"`.\n",
       "\n",
       "    assert a == 'foo'"
      ],
      "text/plain": [
       "<IPython.core.display.Markdown object>"
      ]
     },
     "metadata": {},
     "output_type": "display_data"
    }
   ],
   "source": [
    "---\n",
    "a: foo\n",
    "---\n",
    "\n",
    "`import ruamel.yaml` front matter starts with `\"---\"`.\n",
    "\n",
    "    assert a == 'foo'"
   ]
  },
  {
   "cell_type": "code",
   "execution_count": 9,
   "metadata": {},
   "outputs": [
    {
     "data": {
      "text/markdown": [
       "`import toml` front matter starts with `\"+++\"`.\n",
       "\n",
       "    assert a == {'b': 'foo'}"
      ],
      "text/plain": [
       "<IPython.core.display.Markdown object>"
      ]
     },
     "metadata": {},
     "output_type": "display_data"
    }
   ],
   "source": [
    "+++\n",
    "[a]\n",
    "b=\"foo\"\n",
    "+++\n",
    "\n",
    "`import toml` front matter starts with `\"+++\"`.\n",
    "\n",
    "    assert a == {'b': 'foo'}"
   ]
  },
  {
   "cell_type": "markdown",
   "metadata": {},
   "source": [
    "## Emergent language features"
   ]
  },
  {
   "cell_type": "code",
   "execution_count": 10,
   "metadata": {},
   "outputs": [
    {
     "data": {
      "text/markdown": [
       "Interleaving Markdown and Python results in natural metasyntaxes that allow\n",
       "`pidgy` authors to write programs that look like documentation.\n",
       "\n",
       "    markdown_block =\\\n",
       "    \n",
       "This is a markdown block.\n",
       "\n",
       "### Docstrings.\n",
       "\n",
       "[Markdown] that follows function and class definitions are wrapped as block strings\n",
       "and indented according `pidgy`'s heuristics. What results is the [Markdown]\n",
       "represents the docstring.\n",
       "\n",
       "    def my_function():\n",
       "\n",
       "`my_function` demonstrates how docstrings are defined.\n",
       "\n",
       "    class MyClass:\n",
       "\n",
       "The same goes for class definitions.\n",
       "\n",
       "    ...\n",
       "    >>> my_function.__doc__\n",
       "    '`my_function` demonstrates how ...'\n",
       "    >>> MyClass.__doc__\n",
       "    'The same goes for class definitions.'"
      ],
      "text/plain": [
       "<IPython.core.display.Markdown object>"
      ]
     },
     "metadata": {},
     "output_type": "display_data"
    }
   ],
   "source": [
    "Interleaving Markdown and Python results in natural metasyntaxes that allow\n",
    "`pidgy` authors to write programs that look like documentation.\n",
    "\n",
    "    markdown_block =\\\n",
    "    \n",
    "This is a markdown block.\n",
    "\n",
    "### Docstrings.\n",
    "\n",
    "[Markdown] that follows function and class definitions are wrapped as block strings\n",
    "and indented according `pidgy`'s heuristics. What results is the [Markdown]\n",
    "represents the docstring.\n",
    "\n",
    "    def my_function():\n",
    "\n",
    "`my_function` demonstrates how docstrings are defined.\n",
    "\n",
    "    class MyClass:\n",
    "\n",
    "The same goes for class definitions.\n",
    "\n",
    "    ...\n",
    "    >>> my_function.__doc__\n",
    "    '`my_function` demonstrates how ...'\n",
    "    >>> MyClass.__doc__\n",
    "    'The same goes for class definitions.'"
   ]
  },
  {
   "cell_type": "markdown",
   "metadata": {},
   "source": [
    "    # NBVAL_SKIP\n",
    "## Interactive Testing\n",
    "\n",
    "Failures are treated as natural outputs of the documents.  Tests may fail, but parts of the unit may be reusable.\n",
    "\n",
    "    def test_functions_start_with_test():\n",
    "        assert False, \"False is not True\"\n",
    "        assert False is not True\n",
    "    ...\n",
    "\n",
    "<!--\n",
    "\n",
    "    skip_explicit_failure(test_functions_start_with_test)\n",
    "\n",
    "-->"
   ]
  },
  {
   "cell_type": "markdown",
   "metadata": {},
   "source": [
    "`pidgy` allows markdown lists to be defined a variables."
   ]
  },
  {
   "cell_type": "code",
   "execution_count": 11,
   "metadata": {},
   "outputs": [
    {
     "data": {
      "text/markdown": [
       "        a =\\\n",
       "* blue\n",
       "* red\n",
       "* yellow\n",
       "    \n",
       "        "
      ],
      "text/plain": [
       "<IPython.core.display.Markdown object>"
      ]
     },
     "metadata": {},
     "output_type": "display_data"
    }
   ],
   "source": [
    "        a =\\\n",
    "* blue\n",
    "* red\n",
    "* yellow\n",
    "    \n",
    "        "
   ]
  },
  {
   "cell_type": "code",
   "execution_count": 12,
   "metadata": {},
   "outputs": [
    {
     "data": {
      "text/markdown": [
       "        >>> a\n",
       "        ['blue', 'red', 'yellow']\n",
       "        "
      ],
      "text/plain": [
       "<IPython.core.display.Markdown object>"
      ]
     },
     "metadata": {},
     "output_type": "display_data"
    }
   ],
   "source": [
    "        >>> a\n",
    "        ['blue', 'red', 'yellow']\n",
    "        "
   ]
  },
  {
   "cell_type": "code",
   "execution_count": 13,
   "metadata": {},
   "outputs": [
    {
     "data": {
      "text/plain": [
       "['purple', 'orange', 'green']"
      ]
     },
     "execution_count": 13,
     "metadata": {},
     "output_type": "execute_result"
    },
    {
     "data": {
      "text/markdown": [
       "        >>> b\n",
       "        ['blue', 'red', 'yellow']\n",
       "        \n",
       "        b =\\\n",
       "* blue\n",
       "* red\n",
       "* yellow\n",
       "    * purple\n",
       "    * orange\n",
       "    * green\n",
       "    \n",
       "        "
      ],
      "text/plain": [
       "<IPython.core.display.Markdown object>"
      ]
     },
     "metadata": {},
     "output_type": "display_data"
    }
   ],
   "source": [
    "        >>> b\n",
    "        ['blue', 'red', 'yellow']\n",
    "        \n",
    "        b =\\\n",
    "* blue\n",
    "* red\n",
    "* yellow\n",
    "    * purple\n",
    "    * orange\n",
    "    * green\n",
    "    \n",
    "        "
   ]
  },
  {
   "cell_type": "code",
   "execution_count": 14,
   "metadata": {},
   "outputs": [
    {
     "data": {
      "text/markdown": [
       "        >>> b\n",
       "        ['blue', 'red', 'yellow']\n",
       "        >>> c\n",
       "        ['purple', 'orange', 'green']\n",
       "\n",
       "        b =\\\n",
       "        \n",
       "        \n",
       "* blue\n",
       "* red\n",
       "* yellow\n",
       "\n",
       "        c=\\\n",
       "    + purple\n",
       "    + orange\n",
       "    + green\n",
       "    \n",
       "        "
      ],
      "text/plain": [
       "<IPython.core.display.Markdown object>"
      ]
     },
     "metadata": {},
     "output_type": "display_data"
    }
   ],
   "source": [
    "        >>> b\n",
    "        ['blue', 'red', 'yellow']\n",
    "        >>> c\n",
    "        ['purple', 'orange', 'green']\n",
    "\n",
    "        b =\\\n",
    "        \n",
    "        \n",
    "* blue\n",
    "* red\n",
    "* yellow\n",
    "\n",
    "        c=\\\n",
    "    + purple\n",
    "    + orange\n",
    "    + green\n",
    "    \n",
    "        "
   ]
  },
  {
   "cell_type": "code",
   "execution_count": 15,
   "metadata": {},
   "outputs": [
    {
     "data": {
      "text/markdown": [
       "        >>> a\n",
       "        ['triangle', 'circle', 'square']\n",
       "\n",
       "        a =\\\n",
       "        \n",
       "1. triangle\n",
       "2. circle\n",
       "3. square"
      ],
      "text/plain": [
       "<IPython.core.display.Markdown object>"
      ]
     },
     "metadata": {},
     "output_type": "display_data"
    }
   ],
   "source": [
    "        >>> a\n",
    "        ['triangle', 'circle', 'square']\n",
    "\n",
    "        a =\\\n",
    "        \n",
    "1. triangle\n",
    "2. circle\n",
    "3. square"
   ]
  },
  {
   "cell_type": "code",
   "execution_count": 16,
   "metadata": {},
   "outputs": [
    {
     "data": {
      "text/markdown": [
       "        d = \"\"\"\n",
       "        \n",
       "1. up\n",
       "2. down\n",
       "3. left\n",
       "\n",
       "        \"\"\""
      ],
      "text/plain": [
       "<IPython.core.display.Markdown object>"
      ]
     },
     "metadata": {},
     "output_type": "display_data"
    }
   ],
   "source": [
    "        d = \"\"\"\n",
    "        \n",
    "1. up\n",
    "2. down\n",
    "3. left\n",
    "\n",
    "        \"\"\""
   ]
  },
  {
   "cell_type": "markdown",
   "metadata": {},
   "source": [
    "Link definitions and footnote definitions can be used to defined dictionaries or enrich a documents annotaitons."
   ]
  },
  {
   "cell_type": "code",
   "execution_count": 17,
   "metadata": {},
   "outputs": [
    {
     "data": {
      "text/markdown": [
       "    q=\\\n",
       "[a]: This\n",
       "[b]: That\n",
       "    \n",
       "    >>> q\n",
       "    {'a': 'This', 'b': 'That'}\n",
       "\n",
       "[c]: Them\n",
       "[d]: They\n",
       "    \n",
       "    >>> __annotations__\n",
       "    {'c': 'Them', 'd': 'They'}"
      ],
      "text/plain": [
       "<IPython.core.display.Markdown object>"
      ]
     },
     "metadata": {},
     "output_type": "display_data"
    }
   ],
   "source": [
    "    q=\\\n",
    "[a]: This\n",
    "[b]: That\n",
    "    \n",
    "    >>> q\n",
    "    {'a': 'This', 'b': 'That'}\n",
    "\n",
    "[c]: Them\n",
    "[d]: They\n",
    "    \n",
    "    >>> __annotations__\n",
    "    {'c': 'Them', 'd': 'They'}"
   ]
  },
  {
   "cell_type": "code",
   "execution_count": 18,
   "metadata": {},
   "outputs": [
    {
     "data": {
      "text/markdown": [
       "    >>> __annotations__\n",
       "    {'f': 'That', 'e': 'This', 'c': 'Them', 'd': 'They'}\n",
       "    \n",
       "[^e]: This\n",
       "[^f]: That"
      ],
      "text/plain": [
       "<IPython.core.display.Markdown object>"
      ]
     },
     "metadata": {},
     "output_type": "display_data"
    }
   ],
   "source": [
    "    >>> __annotations__\n",
    "    {'f': 'That', 'e': 'This', 'c': 'Them', 'd': 'They'}\n",
    "    \n",
    "[^e]: This\n",
    "[^f]: That"
   ]
  },
  {
   "cell_type": "code",
   "execution_count": 19,
   "metadata": {},
   "outputs": [
    {
     "data": {
      "text/markdown": [
       "Link me\n",
       "\n",
       "    qq: \"I'm the boss\"\n",
       "    >>> assert 'qq' not in locals()\n",
       "    >>> __annotations__['qq']\n",
       "    \"I'm the boss\"\n",
       "    \n",
       "[qq]: I'm\n",
       "[gg]: asd"
      ],
      "text/plain": [
       "<IPython.core.display.Markdown object>"
      ]
     },
     "metadata": {},
     "output_type": "display_data"
    }
   ],
   "source": [
    "Link me\n",
    "\n",
    "    qq: \"I'm the boss\"\n",
    "    >>> assert 'qq' not in locals()\n",
    "    >>> __annotations__['qq']\n",
    "    \"I'm the boss\"\n",
    "    \n",
    "[qq]: I'm\n",
    "[gg]: asd"
   ]
  },
  {
   "cell_type": "code",
   "execution_count": 20,
   "metadata": {},
   "outputs": [
    {
     "data": {
      "text/markdown": [
       "    a = \\\n",
       "    \"\"\"\n",
       "    \n",
       "[a]: quoted\n",
       "[b]: notes\n",
       "    \n",
       "    \"\"\"\n",
       "    >>> assert isinstance(a, str), \"The footnotes were converted.\""
      ],
      "text/plain": [
       "<IPython.core.display.Markdown object>"
      ]
     },
     "metadata": {},
     "output_type": "display_data"
    }
   ],
   "source": [
    "    a = \\\n",
    "    \"\"\"\n",
    "    \n",
    "[a]: quoted\n",
    "[b]: notes\n",
    "    \n",
    "    \"\"\"\n",
    "    >>> assert isinstance(a, str), \"The footnotes were converted.\""
   ]
  },
  {
   "cell_type": "code",
   "execution_count": 21,
   "metadata": {},
   "outputs": [
    {
     "data": {
      "text/markdown": [
       "Annotations can be used in templates like `\"qq\"` here -> __I'm the boss__"
      ],
      "text/plain": [
       "<IPython.core.display.Markdown object>"
      ]
     },
     "metadata": {},
     "output_type": "display_data"
    }
   ],
   "source": [
    "Annotations can be used in templates like `\"qq\"` here -> __{{qq}}__"
   ]
  }
 ],
 "metadata": {
  "kernelspec": {
   "display_name": "pidgy 3",
   "language": "python",
   "name": "pidgy"
  },
  "language_info": {
   "codemirror_mode": {
    "name": "ipython",
    "version": 3
   },
   "file_extension": ".py",
   "mimetype": "text/x-python",
   "name": "python",
   "nbconvert_exporter": "python",
   "pygments_lexer": "ipython3",
   "version": "3.7.3"
  }
 },
 "nbformat": 4,
 "nbformat_minor": 4
}
