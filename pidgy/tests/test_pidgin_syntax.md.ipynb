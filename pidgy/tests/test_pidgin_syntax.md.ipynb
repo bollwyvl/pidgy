{
 "cells": [
  {
   "cell_type": "code",
   "execution_count": 1,
   "metadata": {},
   "outputs": [
    {
     "data": {
      "text/markdown": [
       "# `pidgy` metasyntax\n",
       "\n",
       "    import pidgy, IPython, jinja2\n",
       "\n",
       "`pidgy` not only allows the [Markdown] and [Python] to cooperate in a document, \n",
       "metasyntaxes emerge at the interface between the language."
      ],
      "text/plain": [
       "<IPython.core.display.Markdown object>"
      ]
     },
     "metadata": {},
     "output_type": "display_data"
    }
   ],
   "source": [
    "# `pidgy` metasyntax\n",
    "\n",
    "    import pidgy, IPython, jinja2\n",
    "\n",
    "`pidgy` not only allows the [Markdown] and [Python] to cooperate in a document, \n",
    "metasyntaxes emerge at the interface between the language."
   ]
  },
  {
   "cell_type": "code",
   "execution_count": 2,
   "metadata": {},
   "outputs": [
    {
     "data": {
      "text/html": [
       "<style>.output_html .hll { background-color: #ffffcc }\n",
       ".output_html  { background: #f8f8f8; }\n",
       ".output_html .c { color: #408080; font-style: italic } /* Comment */\n",
       ".output_html .err { border: 1px solid #FF0000 } /* Error */\n",
       ".output_html .k { color: #008000; font-weight: bold } /* Keyword */\n",
       ".output_html .o { color: #666666 } /* Operator */\n",
       ".output_html .ch { color: #408080; font-style: italic } /* Comment.Hashbang */\n",
       ".output_html .cm { color: #408080; font-style: italic } /* Comment.Multiline */\n",
       ".output_html .cp { color: #BC7A00 } /* Comment.Preproc */\n",
       ".output_html .cpf { color: #408080; font-style: italic } /* Comment.PreprocFile */\n",
       ".output_html .c1 { color: #408080; font-style: italic } /* Comment.Single */\n",
       ".output_html .cs { color: #408080; font-style: italic } /* Comment.Special */\n",
       ".output_html .gd { color: #A00000 } /* Generic.Deleted */\n",
       ".output_html .ge { font-style: italic } /* Generic.Emph */\n",
       ".output_html .gr { color: #FF0000 } /* Generic.Error */\n",
       ".output_html .gh { color: #000080; font-weight: bold } /* Generic.Heading */\n",
       ".output_html .gi { color: #00A000 } /* Generic.Inserted */\n",
       ".output_html .go { color: #888888 } /* Generic.Output */\n",
       ".output_html .gp { color: #000080; font-weight: bold } /* Generic.Prompt */\n",
       ".output_html .gs { font-weight: bold } /* Generic.Strong */\n",
       ".output_html .gu { color: #800080; font-weight: bold } /* Generic.Subheading */\n",
       ".output_html .gt { color: #0044DD } /* Generic.Traceback */\n",
       ".output_html .kc { color: #008000; font-weight: bold } /* Keyword.Constant */\n",
       ".output_html .kd { color: #008000; font-weight: bold } /* Keyword.Declaration */\n",
       ".output_html .kn { color: #008000; font-weight: bold } /* Keyword.Namespace */\n",
       ".output_html .kp { color: #008000 } /* Keyword.Pseudo */\n",
       ".output_html .kr { color: #008000; font-weight: bold } /* Keyword.Reserved */\n",
       ".output_html .kt { color: #B00040 } /* Keyword.Type */\n",
       ".output_html .m { color: #666666 } /* Literal.Number */\n",
       ".output_html .s { color: #BA2121 } /* Literal.String */\n",
       ".output_html .na { color: #7D9029 } /* Name.Attribute */\n",
       ".output_html .nb { color: #008000 } /* Name.Builtin */\n",
       ".output_html .nc { color: #0000FF; font-weight: bold } /* Name.Class */\n",
       ".output_html .no { color: #880000 } /* Name.Constant */\n",
       ".output_html .nd { color: #AA22FF } /* Name.Decorator */\n",
       ".output_html .ni { color: #999999; font-weight: bold } /* Name.Entity */\n",
       ".output_html .ne { color: #D2413A; font-weight: bold } /* Name.Exception */\n",
       ".output_html .nf { color: #0000FF } /* Name.Function */\n",
       ".output_html .nl { color: #A0A000 } /* Name.Label */\n",
       ".output_html .nn { color: #0000FF; font-weight: bold } /* Name.Namespace */\n",
       ".output_html .nt { color: #008000; font-weight: bold } /* Name.Tag */\n",
       ".output_html .nv { color: #19177C } /* Name.Variable */\n",
       ".output_html .ow { color: #AA22FF; font-weight: bold } /* Operator.Word */\n",
       ".output_html .w { color: #bbbbbb } /* Text.Whitespace */\n",
       ".output_html .mb { color: #666666 } /* Literal.Number.Bin */\n",
       ".output_html .mf { color: #666666 } /* Literal.Number.Float */\n",
       ".output_html .mh { color: #666666 } /* Literal.Number.Hex */\n",
       ".output_html .mi { color: #666666 } /* Literal.Number.Integer */\n",
       ".output_html .mo { color: #666666 } /* Literal.Number.Oct */\n",
       ".output_html .sa { color: #BA2121 } /* Literal.String.Affix */\n",
       ".output_html .sb { color: #BA2121 } /* Literal.String.Backtick */\n",
       ".output_html .sc { color: #BA2121 } /* Literal.String.Char */\n",
       ".output_html .dl { color: #BA2121 } /* Literal.String.Delimiter */\n",
       ".output_html .sd { color: #BA2121; font-style: italic } /* Literal.String.Doc */\n",
       ".output_html .s2 { color: #BA2121 } /* Literal.String.Double */\n",
       ".output_html .se { color: #BB6622; font-weight: bold } /* Literal.String.Escape */\n",
       ".output_html .sh { color: #BA2121 } /* Literal.String.Heredoc */\n",
       ".output_html .si { color: #BB6688; font-weight: bold } /* Literal.String.Interpol */\n",
       ".output_html .sx { color: #008000 } /* Literal.String.Other */\n",
       ".output_html .sr { color: #BB6688 } /* Literal.String.Regex */\n",
       ".output_html .s1 { color: #BA2121 } /* Literal.String.Single */\n",
       ".output_html .ss { color: #19177C } /* Literal.String.Symbol */\n",
       ".output_html .bp { color: #008000 } /* Name.Builtin.Pseudo */\n",
       ".output_html .fm { color: #0000FF } /* Name.Function.Magic */\n",
       ".output_html .vc { color: #19177C } /* Name.Variable.Class */\n",
       ".output_html .vg { color: #19177C } /* Name.Variable.Global */\n",
       ".output_html .vi { color: #19177C } /* Name.Variable.Instance */\n",
       ".output_html .vm { color: #19177C } /* Name.Variable.Magic */\n",
       ".output_html .il { color: #666666 } /* Literal.Number.Integer.Long */</style><div class=\"highlight\"><pre><span></span><span class=\"c1\"># NBVAL_SKIP</span>\n",
       "\n",
       "<span class=\"sd\">&quot;&quot;&quot;## Markdown is the primary language</span>\n",
       "\n",
       "<span class=\"sd\">`pidgy` considers [Markdown] indented code blocks and language free code fences</span>\n",
       "<span class=\"sd\">as valid [Python] code while every other object is represented as a triple </span>\n",
       "<span class=\"sd\">quoted block string.&quot;&quot;&quot;</span>\n",
       "\n",
       "<span class=\"n\">IPython</span><span class=\"o\">.</span><span class=\"n\">display</span><span class=\"o\">.</span><span class=\"n\">Code</span><span class=\"p\">(</span><span class=\"n\">In</span><span class=\"p\">[</span><span class=\"o\">-</span><span class=\"mi\">1</span><span class=\"p\">],</span> <span class=\"n\">language</span><span class=\"o\">=</span><span class=\"s1\">&#39;python&#39;</span><span class=\"p\">)</span> <span class=\"c1\"># This indented code is executed.</span>\n",
       "</pre></div>\n"
      ],
      "text/latex": [
       "\\begin{Verbatim}[commandchars=\\\\\\{\\}]\n",
       "\\PY{c+c1}{\\PYZsh{} NBVAL\\PYZus{}SKIP}\n",
       "\n",
       "\\PY{l+s+sd}{\\PYZdq{}\\PYZdq{}\\PYZdq{}\\PYZsh{}\\PYZsh{} Markdown is the primary language}\n",
       "\n",
       "\\PY{l+s+sd}{`pidgy` considers [Markdown] indented code blocks and language free code fences}\n",
       "\\PY{l+s+sd}{as valid [Python] code while every other object is represented as a triple }\n",
       "\\PY{l+s+sd}{quoted block string.\\PYZdq{}\\PYZdq{}\\PYZdq{}}\n",
       "\n",
       "\\PY{n}{IPython}\\PY{o}{.}\\PY{n}{display}\\PY{o}{.}\\PY{n}{Code}\\PY{p}{(}\\PY{n}{In}\\PY{p}{[}\\PY{o}{\\PYZhy{}}\\PY{l+m+mi}{1}\\PY{p}{]}\\PY{p}{,} \\PY{n}{language}\\PY{o}{=}\\PY{l+s+s1}{\\PYZsq{}}\\PY{l+s+s1}{python}\\PY{l+s+s1}{\\PYZsq{}}\\PY{p}{)} \\PY{c+c1}{\\PYZsh{} This indented code is executed.}\n",
       "\\end{Verbatim}\n"
      ],
      "text/plain": [
       "# NBVAL_SKIP\n",
       "\n",
       "\"\"\"## Markdown is the primary language\n",
       "\n",
       "`pidgy` considers [Markdown] indented code blocks and language free code fences\n",
       "as valid [Python] code while every other object is represented as a triple \n",
       "quoted block string.\"\"\"\n",
       "\n",
       "IPython.display.Code(In[-1], language='python') # This indented code is executed."
      ]
     },
     "execution_count": 2,
     "metadata": {},
     "output_type": "execute_result"
    },
    {
     "data": {
      "text/markdown": [
       "    # NBVAL_SKIP\n",
       "    \n",
       "## Markdown is the primary language\n",
       "\n",
       "`pidgy` considers [Markdown] indented code blocks and language free code fences\n",
       "as valid [Python] code while every other object is represented as a triple \n",
       "quoted block string.\n",
       "\n",
       "    IPython.display.Code(In[-1], language='python') # This indented code is executed."
      ],
      "text/plain": [
       "<IPython.core.display.Markdown object>"
      ]
     },
     "metadata": {},
     "output_type": "display_data"
    }
   ],
   "source": [
    "    # NBVAL_SKIP\n",
    "    \n",
    "## Markdown is the primary language\n",
    "\n",
    "`pidgy` considers [Markdown] indented code blocks and language free code fences\n",
    "as valid [Python] code while every other object is represented as a triple \n",
    "quoted block string.\n",
    "\n",
    "    IPython.display.Code(In[-1], language='python') # This indented code is executed."
   ]
  },
  {
   "cell_type": "code",
   "execution_count": 3,
   "metadata": {},
   "outputs": [
    {
     "data": {
      "text/markdown": [
       "## Executing code.\n",
       "\n",
       "There are two specific to ensure that code is executed in `pidgy`.\n",
       "\n",
       "### Indented code.\n",
       "\n",
       "Like in the prior cell, an indented code block is a specific token in Markdown\n",
       "that `pidgy` recognizes canonically as code.\n",
       "\n",
       "    \"This is code\" # because of the indent.\n",
       "\n",
       "### Code fences.\n",
       "\n",
       "```\n",
       "\"I am code because no language is specified.\"\n",
       "```\n",
       "\n",
       "### Ignoring code.\n",
       "\n",
       "Include a language with the code fence to skip code execution.\n",
       "\n",
       "```alangage\n",
       "Add alanguage specification to code fence to ignore its input.\n",
       "```\n",
       "\n",
       "Or, use html tags.\n",
       "\n",
       "<pre><code>\n",
       "I am explicit HMTL.\n",
       "</code></pre>"
      ],
      "text/plain": [
       "<IPython.core.display.Markdown object>"
      ]
     },
     "metadata": {},
     "output_type": "display_data"
    }
   ],
   "source": [
    "## Executing code.\n",
    "\n",
    "There are two specific to ensure that code is executed in `pidgy`.\n",
    "\n",
    "### Indented code.\n",
    "\n",
    "Like in the prior cell, an indented code block is a specific token in Markdown\n",
    "that `pidgy` recognizes canonically as code.\n",
    "\n",
    "    \"This is code\" # because of the indent.\n",
    "\n",
    "### Code fences.\n",
    "\n",
    "```\n",
    "\"I am code because no language is specified.\"\n",
    "```\n",
    "\n",
    "### Ignoring code.\n",
    "\n",
    "Include a language with the code fence to skip code execution.\n",
    "\n",
    "```alangage\n",
    "Add alanguage specification to code fence to ignore its input.\n",
    "```\n",
    "\n",
    "Or, use html tags.\n",
    "\n",
    "<pre><code>\n",
    "I am explicit HMTL.\n",
    "</code></pre>"
   ]
  },
  {
   "cell_type": "code",
   "execution_count": 4,
   "metadata": {},
   "outputs": [
    {
     "name": "stderr",
     "output_type": "stream",
     "text": [
      "<unittest.result.TestResult run=2 errors=0 failures=1>\n",
      "      File \"In[4]\", line 1, in <module>\n",
      "    NameError: name 'doctest' is not defined\n",
      "\n"
     ]
    },
    {
     "data": {
      "text/markdown": [
       "## Testing code\n",
       "\n",
       "`pidgy` recognizes doctests, a literate programming approach to testing, in the input and executes them in a formal unittest\n",
       "testing suite. `doctest` are identified by the `\">>>\"` line prefix.\n",
       "\n",
       "    >>> assert True\n",
       "    >>> print\n",
       "    <built-in function print>\n",
       "    >>> pidgy\n",
       "    <module...__init__.py'>"
      ],
      "text/plain": [
       "<IPython.core.display.Markdown object>"
      ]
     },
     "metadata": {},
     "output_type": "display_data"
    }
   ],
   "source": [
    "## Testing code\n",
    "\n",
    "`pidgy` recognizes doctests, a literate programming approach to testing, in the input and executes them in a formal unittest\n",
    "testing suite. `doctest` are identified by the `\">>>\"` line prefix.\n",
    "\n",
    "    >>> assert True\n",
    "    >>> print\n",
    "    <built-in function print>\n",
    "    >>> pidgy\n",
    "    <module...__init__.py'>\n"
   ]
  },
  {
   "cell_type": "code",
   "execution_count": 5,
   "metadata": {},
   "outputs": [
    {
     "data": {
      "text/markdown": [
       "## Weaving and templating code\n",
       "\n",
       "`pidgy` permits the popular `jinja2` templating syntax.  Any use of \n",
       "templates references <code>{{}}</code> will be filled in with\n",
       "information from the current namespace.\n",
       "\n",
       "There is a variable `foo` with the value <code>20</code>.\n",
       "\n",
       "    foo = 20"
      ],
      "text/plain": [
       "<IPython.core.display.Markdown object>"
      ]
     },
     "metadata": {},
     "output_type": "display_data"
    }
   ],
   "source": [
    "## Weaving and templating code\n",
    "\n",
    "`pidgy` permits the popular `jinja2` templating syntax.  Any use of \n",
    "templates references <code>{% raw %}{{}}{% endraw %}</code> will be filled in with\n",
    "information from the current namespace.\n",
    "\n",
    "There is a variable `foo` with the value <code>{{foo}}</code>.\n",
    "\n",
    "    foo = 20"
   ]
  },
  {
   "cell_type": "code",
   "execution_count": 6,
   "metadata": {},
   "outputs": [
    {
     "data": {
      "text/markdown": [
       "<!--\n",
       "\n",
       "### Suppressing the weave output.\n",
       "\n",
       "`pidgy` will not render any input beginning with a blank line.\n",
       "\n",
       "-->"
      ],
      "text/plain": [
       "<IPython.core.display.Markdown object>"
      ]
     },
     "metadata": {},
     "output_type": "display_data"
    }
   ],
   "source": [
    "\n",
    "### Suppressing the weave output.\n",
    "\n",
    "`pidgy` will not render any input beginning with a blank line."
   ]
  },
  {
   "cell_type": "code",
   "execution_count": 7,
   "metadata": {},
   "outputs": [
    {
     "data": {
      "text/markdown": [
       "## Metasyntaxes\n",
       "\n",
       "Interleaving Markdown and Python results in natural metasyntaxes that allow\n",
       "`pidgy` authors to write programs that look like documentation.\n",
       "\n",
       "### Docstrings.\n",
       "\n",
       "[Markdown] that follows function and class definitions are wrapped as block strings\n",
       "and indented according `pidgy`'s heuristics. What results is the [Markdown]\n",
       "represents the docstring.\n",
       "\n",
       "    def my_function():\n",
       "\n",
       "`my_function` demonstrates how docstrings are defined.\n",
       "\n",
       "    class MyClass:\n",
       "\n",
       "The same goes for class definitions.\n",
       "\n",
       "    ...\n",
       "    >>> my_function.__doc__\n",
       "    '`my_function` demonstrates how ...'\n",
       "    >>> MyClass.__doc__\n",
       "    'The same goes for class definitions.'"
      ],
      "text/plain": [
       "<IPython.core.display.Markdown object>"
      ]
     },
     "metadata": {},
     "output_type": "display_data"
    }
   ],
   "source": [
    "## Metasyntaxes\n",
    "\n",
    "Interleaving Markdown and Python results in natural metasyntaxes that allow\n",
    "`pidgy` authors to write programs that look like documentation.\n",
    "\n",
    "### Docstrings.\n",
    "\n",
    "[Markdown] that follows function and class definitions are wrapped as block strings\n",
    "and indented according `pidgy`'s heuristics. What results is the [Markdown]\n",
    "represents the docstring.\n",
    "\n",
    "    def my_function():\n",
    "\n",
    "`my_function` demonstrates how docstrings are defined.\n",
    "\n",
    "    class MyClass:\n",
    "\n",
    "The same goes for class definitions.\n",
    "\n",
    "    ...\n",
    "    >>> my_function.__doc__\n",
    "    '`my_function` demonstrates how ...'\n",
    "    >>> MyClass.__doc__\n",
    "    'The same goes for class definitions.'"
   ]
  },
  {
   "cell_type": "markdown",
   "metadata": {},
   "source": [
    "    # NBVAL_SKIP\n",
    "## Interactive Testing\n",
    "\n",
    "Failures are treated as natural outputs of the documents.  Tests may fail, but parts of the unit may be reusable.\n",
    "\n",
    "    def test_functions_start_with_test():\n",
    "        assert False, \"False is not True\"\n",
    "        assert False is not True\n",
    "    ...\n",
    "\n",
    "<!--\n",
    "\n",
    "    skip_explicit_failure(test_functions_start_with_test)\n",
    "\n",
    "-->"
   ]
  }
 ],
 "metadata": {
  "kernelspec": {
   "display_name": "pidgy 3",
   "language": "python",
   "name": "pidgy"
  },
  "language_info": {
   "codemirror_mode": {
    "name": "ipython",
    "version": 3
   },
   "file_extension": ".py",
   "mimetype": "text/x-python",
   "name": "python",
   "nbconvert_exporter": "python",
   "pygments_lexer": "ipython3",
   "version": "3.7.3"
  }
 },
 "nbformat": 4,
 "nbformat_minor": 4
}
