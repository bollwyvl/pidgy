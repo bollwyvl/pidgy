{
 "cells": [
  {
   "cell_type": "code",
   "execution_count": 1,
   "metadata": {},
   "outputs": [
    {
     "data": {
      "text/markdown": [
       "    import pidgy, unittest"
      ],
      "text/plain": [
       "<IPython.core.display.Markdown object>"
      ]
     },
     "metadata": {},
     "output_type": "display_data"
    }
   ],
   "source": [
    "    import pidgy, unittest"
   ]
  },
  {
   "cell_type": "code",
   "execution_count": 2,
   "metadata": {},
   "outputs": [
    {
     "data": {
      "text/plain": [
       "'Doctests.\\n\\n    >>> 10\\n    10'"
      ]
     },
     "metadata": {},
     "output_type": "display_data"
    },
    {
     "data": {
      "text/markdown": [
       "        def test_x():\n",
       "\n",
       "Doctests.\n",
       "\n",
       "    >>> 10\n",
       "    10\n",
       "        \n",
       "            assert True\n",
       "            \n",
       "        return test_x.__doc__"
      ],
      "text/plain": [
       "<IPython.core.display.Markdown object>"
      ]
     },
     "metadata": {},
     "output_type": "display_data"
    }
   ],
   "source": [
    "        def test_x():\n",
    "\n",
    "Doctests.\n",
    "\n",
    "    >>> 10\n",
    "    10\n",
    "        \n",
    "            assert True\n",
    "            \n",
    "        return test_x.__doc__"
   ]
  },
  {
   "cell_type": "code",
   "execution_count": 3,
   "metadata": {},
   "outputs": [
    {
     "data": {
      "text/markdown": [
       "    class tester(unittest.TestCase):\n",
       "        def test_this(x):\n",
       "            assert True"
      ],
      "text/plain": [
       "<IPython.core.display.Markdown object>"
      ]
     },
     "metadata": {},
     "output_type": "display_data"
    }
   ],
   "source": [
    "    class tester(unittest.TestCase):\n",
    "        def test_this(x):\n",
    "            assert True"
   ]
  },
  {
   "cell_type": "code",
   "execution_count": 4,
   "metadata": {},
   "outputs": [
    {
     "data": {
      "text/plain": [
       "[<unittest.suite.TestSuite tests=[<__main__.tester testMethod=test_this>]>,\n",
       " <unittest.case.FunctionTestCase tec=<function test_x at 0x107e28598>>]"
      ]
     },
     "metadata": {},
     "output_type": "display_data"
    },
    {
     "data": {
      "text/plain": [
       "<unittest.result.TestResult run=2 errors=0 failures=0>"
      ]
     },
     "metadata": {},
     "output_type": "display_data"
    },
    {
     "data": {
      "text/markdown": [
       "    suite = pidgy.testing.make_test_suite(\n",
       "        tester, test_x, vars=locals(), name=__name__\n",
       "    )\n",
       "    return suite._tests\n",
       "    return suite.run(unittest.TestResult())"
      ],
      "text/plain": [
       "<IPython.core.display.Markdown object>"
      ]
     },
     "metadata": {},
     "output_type": "display_data"
    }
   ],
   "source": [
    "    suite = pidgy.testing.make_test_suite(\n",
    "        tester, test_x, vars=locals(), name=__name__\n",
    "    )\n",
    "    return suite._tests\n",
    "    return suite.run(unittest.TestResult())"
   ]
  }
 ],
 "metadata": {
  "kernelspec": {
   "display_name": "pidgy 3",
   "language": "python",
   "name": "pidgy"
  },
  "language_info": {
   "codemirror_mode": {
    "name": "ipython",
    "version": 3
   },
   "file_extension": ".py",
   "mimetype": "text/x-python",
   "name": "python",
   "nbconvert_exporter": "python",
   "pygments_lexer": "ipython3",
   "version": "3.7.3"
  }
 },
 "nbformat": 4,
 "nbformat_minor": 4
}
