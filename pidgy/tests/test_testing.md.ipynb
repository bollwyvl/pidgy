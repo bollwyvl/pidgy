{
 "cells": [
  {
   "cell_type": "code",
   "execution_count": 1,
   "metadata": {},
   "outputs": [
    {
     "data": {
      "text/markdown": [
       "    import pidgy, unittest, IPython\n",
       "    with pidgy.pidgyLoader(lazy=True):\n",
       "        import pidgy.compat.unittesting"
      ],
      "text/plain": [
       "<IPython.core.display.Markdown object>"
      ]
     },
     "metadata": {},
     "output_type": "display_data"
    }
   ],
   "source": [
    "    import pidgy, unittest, IPython\n",
    "    with pidgy.pidgyLoader(lazy=True):\n",
    "        import pidgy.compat.unittesting"
   ]
  },
  {
   "cell_type": "code",
   "execution_count": 2,
   "metadata": {},
   "outputs": [
    {
     "data": {
      "text/markdown": [
       "    def test_true():\n",
       "        assert True"
      ],
      "text/plain": [
       "<IPython.core.display.Markdown object>"
      ]
     },
     "metadata": {},
     "output_type": "display_data"
    }
   ],
   "source": [
    "    def test_true():\n",
    "        assert True"
   ]
  },
  {
   "cell_type": "code",
   "execution_count": 3,
   "metadata": {},
   "outputs": [
    {
     "name": "stderr",
     "output_type": "stream",
     "text": [
      "<unittest.result.TestResult run=1 errors=0 failures=1>\n",
      "Traceback (most recent call last):\n",
      "  File \"<ipython-input-3-6d476178e941>\", line 2, in test_false\n",
      "    assert False\n",
      "AssertionError\n"
     ]
    },
    {
     "data": {
      "text/markdown": [
       "    def test_false():\n",
       "        assert False"
      ],
      "text/plain": [
       "<IPython.core.display.Markdown object>"
      ]
     },
     "metadata": {},
     "output_type": "display_data"
    }
   ],
   "source": [
    "    def test_false():\n",
    "        assert False"
   ]
  },
  {
   "cell_type": "code",
   "execution_count": 4,
   "metadata": {},
   "outputs": [
    {
     "name": "stderr",
     "output_type": "stream",
     "text": [
      "<unittest.result.TestResult run=2 errors=0 failures=1>\n",
      "Traceback (most recent call last):\n",
      "  File \"<ipython-input-4-3e6aa862c77d>\", line 5, in test_false\n",
      "    assert False\n",
      "AssertionError\n"
     ]
    },
    {
     "data": {
      "text/markdown": [
       "    class tester(unittest.TestCase):\n",
       "        def test_true(x):\n",
       "            assert True\n",
       "        def test_false(x):\n",
       "            assert False"
      ],
      "text/plain": [
       "<IPython.core.display.Markdown object>"
      ]
     },
     "metadata": {},
     "output_type": "display_data"
    }
   ],
   "source": [
    "    class tester(unittest.TestCase):\n",
    "        def test_true(x):\n",
    "            assert True\n",
    "        def test_false(x):\n",
    "            assert False"
   ]
  },
  {
   "cell_type": "code",
   "execution_count": 5,
   "metadata": {},
   "outputs": [
    {
     "data": {
      "text/markdown": [
       "    def test_suite():\n",
       "        suite = pidgy.compat.unittesting.Testing(\n",
       "            parent=IPython.get_ipython()\n",
       "        ).collect(tester, test_true, vars=locals(), name=__name__)    \n",
       "        assert len(suite._tests) == 2\n",
       "        assert suite.run(unittest.TestResult()).failures"
      ],
      "text/plain": [
       "<IPython.core.display.Markdown object>"
      ]
     },
     "metadata": {},
     "output_type": "display_data"
    }
   ],
   "source": [
    "    def test_suite():\n",
    "        suite = pidgy.compat.unittesting.Testing(\n",
    "            parent=IPython.get_ipython()\n",
    "        ).collect(tester, test_true, vars=locals(), name=__name__)    \n",
    "        assert len(suite._tests) == 2\n",
    "        assert suite.run(unittest.TestResult()).failures"
   ]
  }
 ],
 "metadata": {
  "kernelspec": {
   "display_name": "pidgy 3",
   "language": "python",
   "name": "pidgy"
  },
  "language_info": {
   "codemirror_mode": {
    "name": "ipython",
    "version": 3
   },
   "file_extension": ".py",
   "mimetype": "text/x-python",
   "name": "python",
   "nbconvert_exporter": "python",
   "pygments_lexer": "ipython3",
   "version": "3.7.3"
  }
 },
 "nbformat": 4,
 "nbformat_minor": 4
}
