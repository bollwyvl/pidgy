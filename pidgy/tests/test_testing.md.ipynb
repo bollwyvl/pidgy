{
 "cells": [
  {
   "cell_type": "code",
   "execution_count": 1,
   "metadata": {},
   "outputs": [
    {
     "data": {
      "text/markdown": [
       "    import pidgy, unittest, IPython, pytest\n",
       "    with pidgy.pidgyLoader(lazy=True):\n",
       "        import pidgy.compat.unittesting\n",
       "    not_a_test = pytest.mark.skip(reason=\"This is not a real test\")"
      ],
      "text/plain": [
       "<IPython.core.display.Markdown object>"
      ]
     },
     "metadata": {},
     "output_type": "display_data"
    }
   ],
   "source": [
    "    import pidgy, unittest, IPython, pytest\n",
    "    with pidgy.pidgyLoader(lazy=True):\n",
    "        import pidgy.compat.unittesting\n",
    "    not_a_test = pytest.mark.skip(reason=\"This is not a real test\")"
   ]
  },
  {
   "cell_type": "code",
   "execution_count": 2,
   "metadata": {},
   "outputs": [
    {
     "data": {
      "text/markdown": [
       "    #NBVAL_SKIP    \n",
       "    @not_a_test\n",
       "    def test_true():\n",
       "        assert True"
      ],
      "text/plain": [
       "<IPython.core.display.Markdown object>"
      ]
     },
     "metadata": {},
     "output_type": "display_data"
    }
   ],
   "source": [
    "    #NBVAL_SKIP    \n",
    "    @not_a_test\n",
    "    def test_true():\n",
    "        assert True"
   ]
  },
  {
   "cell_type": "code",
   "execution_count": 3,
   "metadata": {},
   "outputs": [
    {
     "data": {
      "text/markdown": [
       "    #NBVAL_SKIP\n",
       "    @not_a_test\n",
       "    def test_false():\n",
       "    #NBVAL_SKIP\n",
       "        assert False"
      ],
      "text/plain": [
       "<IPython.core.display.Markdown object>"
      ]
     },
     "metadata": {},
     "output_type": "display_data"
    }
   ],
   "source": [
    "    #NBVAL_SKIP\n",
    "    @not_a_test\n",
    "    def test_false():\n",
    "    #NBVAL_SKIP\n",
    "        assert False"
   ]
  },
  {
   "cell_type": "code",
   "execution_count": 4,
   "metadata": {},
   "outputs": [
    {
     "data": {
      "text/markdown": [
       "    #NBVAL_SKIP\n",
       "    class tester(unittest.TestCase):\n",
       "        def test_true(x):\n",
       "            assert True\n",
       "        @not_a_test\n",
       "        def test_false(x):\n",
       "            assert False"
      ],
      "text/plain": [
       "<IPython.core.display.Markdown object>"
      ]
     },
     "metadata": {},
     "output_type": "display_data"
    }
   ],
   "source": [
    "    #NBVAL_SKIP\n",
    "    class tester(unittest.TestCase):\n",
    "        def test_true(x):\n",
    "            assert True\n",
    "        @not_a_test\n",
    "        def test_false(x):\n",
    "            assert False"
   ]
  },
  {
   "cell_type": "code",
   "execution_count": 5,
   "metadata": {},
   "outputs": [
    {
     "data": {
      "text/markdown": [
       "    def test_suite():\n",
       "        suite = pidgy.testing.Testing(\n",
       "            parent=IPython.get_ipython()\n",
       "        ).collect(tester, test_true, vars=locals(), name=__name__)    \n",
       "        assert len(suite._tests) == 2\n",
       "        assert suite.run(unittest.TestResult()).failures"
      ],
      "text/plain": [
       "<IPython.core.display.Markdown object>"
      ]
     },
     "metadata": {},
     "output_type": "display_data"
    }
   ],
   "source": [
    "    def test_suite():\n",
    "        suite = pidgy.testing.Testing(\n",
    "            parent=IPython.get_ipython()\n",
    "        ).collect(tester, test_true, vars=locals(), name=__name__)    \n",
    "        assert len(suite._tests) == 2\n",
    "        assert suite.run(unittest.TestResult()).failures"
   ]
  }
 ],
 "metadata": {
  "kernelspec": {
   "display_name": "pidgy 3",
   "language": "python",
   "name": "pidgy"
  },
  "language_info": {
   "codemirror_mode": {
    "name": "ipython",
    "version": 3
   },
   "file_extension": ".py",
   "mimetype": "text/x-python",
   "name": "python",
   "nbconvert_exporter": "python",
   "pygments_lexer": "ipython3",
   "version": "3.7.7"
  }
 },
 "nbformat": 4,
 "nbformat_minor": 4
}
