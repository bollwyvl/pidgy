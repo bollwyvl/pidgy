{
 "cells": [
  {
   "cell_type": "code",
   "execution_count": 1,
   "metadata": {},
   "outputs": [],
   "source": [
    "    import pidgy, importlib"
   ]
  },
  {
   "cell_type": "code",
   "execution_count": 2,
   "metadata": {},
   "outputs": [],
   "source": [
    "    def test_md():\n",
    "        loader = pidgy.pidgyLoader('templated_document.md', 'templated_document.md')\n",
    "        templated_document =loader.create_module(importlib.util.spec_from_loader(loader.name, loader))\n",
    "        loader.exec_module(templated_document)\n",
    "        assert templated_document.__file__.endswith('.md')"
   ]
  },
  {
   "cell_type": "code",
   "execution_count": 3,
   "metadata": {},
   "outputs": [],
   "source": [
    "    def test_nb():\n",
    "        loader = pidgy.pidgyLoader('parameterized_notebook.md.ipynb', 'parameterized_notebook.md.ipynb')\n",
    "        parameterized_notebook =loader.create_module(importlib.util.spec_from_loader(loader.name, loader))\n",
    "        loader.exec_module(parameterized_notebook)\n",
    "        assert parameterized_notebook.__file__.endswith('.md.ipynb')"
   ]
  },
  {
   "cell_type": "code",
   "execution_count": null,
   "metadata": {},
   "outputs": [],
   "source": []
  }
 ],
 "metadata": {
  "kernelspec": {
   "display_name": "Python 3",
   "language": "python",
   "name": "python3"
  },
  "language_info": {
   "codemirror_mode": {
    "name": "ipython",
    "version": 3
   },
   "file_extension": ".py",
   "mimetype": "text/x-python",
   "name": "python",
   "nbconvert_exporter": "python",
   "pygments_lexer": "ipython3",
   "version": "3.7.3"
  }
 },
 "nbformat": 4,
 "nbformat_minor": 4
}
