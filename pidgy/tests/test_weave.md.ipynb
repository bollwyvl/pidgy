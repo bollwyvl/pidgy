{
 "cells": [
  {
   "cell_type": "markdown",
   "metadata": {},
   "source": [
    "# Test `pidgy.weave`"
   ]
  },
  {
   "cell_type": "code",
   "execution_count": 1,
   "metadata": {},
   "outputs": [
    {
     "data": {
      "text/markdown": [
       "    import pidgy, IPython"
      ],
      "text/plain": [
       "<IPython.core.display.Markdown object>"
      ]
     },
     "metadata": {},
     "output_type": "display_data"
    }
   ],
   "source": [
    "    import pidgy, IPython"
   ]
  },
  {
   "cell_type": "code",
   "execution_count": 2,
   "metadata": {},
   "outputs": [
    {
     "data": {
      "text/markdown": [
       "    >>> dir(pidgy.weave)\n",
       "    ['IPython', 'Weave', '__builtins__', '__doc__', '__file__', '__loader__', '__name__', '__package__', '__spec__', '__test__', 'dataclasses', 'pidgy']"
      ],
      "text/plain": [
       "<IPython.core.display.Markdown object>"
      ]
     },
     "metadata": {},
     "output_type": "display_data"
    }
   ],
   "source": [
    "    >>> dir(pidgy.weave)\n",
    "    ['IPython', 'Weave', '__builtins__', '__doc__', '__file__', '__loader__', '__name__', '__package__', '__spec__', '__test__', 'dataclasses', 'pidgy']"
   ]
  },
  {
   "cell_type": "code",
   "execution_count": 3,
   "metadata": {},
   "outputs": [
    {
     "data": {
      "text/markdown": [
       "    weave = pidgy.weave.Weave(IPython.get_ipython())"
      ],
      "text/plain": [
       "<IPython.core.display.Markdown object>"
      ]
     },
     "metadata": {},
     "output_type": "display_data"
    }
   ],
   "source": [
    "    weave = pidgy.weave.Weave(IPython.get_ipython())"
   ]
  },
  {
   "cell_type": "code",
   "execution_count": 4,
   "metadata": {},
   "outputs": [
    {
     "data": {
      "text/markdown": [
       "    s = \"\"\"A string to template with a variable: default.\"\"\""
      ],
      "text/plain": [
       "<IPython.core.display.Markdown object>"
      ]
     },
     "metadata": {},
     "output_type": "display_data"
    }
   ],
   "source": [
    "    s = \"\"\"A string to template with a variable: {{foo|default('default')}}.\"\"\""
   ]
  },
  {
   "cell_type": "code",
   "execution_count": 5,
   "metadata": {},
   "outputs": [
    {
     "data": {
      "text/markdown": [
       "    >>> weave.render(s)\n",
       "    'A string to template with a variable: default.'"
      ],
      "text/plain": [
       "<IPython.core.display.Markdown object>"
      ]
     },
     "metadata": {},
     "output_type": "display_data"
    }
   ],
   "source": [
    "    >>> weave.render(s)\n",
    "    'A string to template with a variable: default.'"
   ]
  },
  {
   "cell_type": "code",
   "execution_count": 6,
   "metadata": {},
   "outputs": [
    {
     "data": {
      "text/markdown": [
       "    foo = 10\n",
       "    >>> weave.render(s)\n",
       "    'A string to template with a variable: 10.'"
      ],
      "text/plain": [
       "<IPython.core.display.Markdown object>"
      ]
     },
     "metadata": {},
     "output_type": "display_data"
    }
   ],
   "source": [
    "    foo = 10\n",
    "    >>> weave.render(s)\n",
    "    'A string to template with a variable: 10.'"
   ]
  },
  {
   "cell_type": "code",
   "execution_count": 7,
   "metadata": {},
   "outputs": [
    {
     "data": {
      "text/plain": [
       "'A string to template with a variable: 900.'"
      ]
     },
     "execution_count": 7,
     "metadata": {},
     "output_type": "execute_result"
    },
    {
     "data": {
      "text/markdown": [
       "    'A string to template with a variable: 900.'"
      ],
      "text/plain": [
       "<IPython.core.display.Markdown object>"
      ]
     },
     "metadata": {},
     "output_type": "display_data"
    }
   ],
   "source": [
    "    'A string to template with a variable: 900.'"
   ]
  },
  {
   "cell_type": "code",
   "execution_count": 8,
   "metadata": {},
   "outputs": [
    {
     "name": "stderr",
     "output_type": "stream",
     "text": [
      "<unittest.result.TestResult run=2 errors=0 failures=1>\n",
      "File \"In[8]\", line 2, in In[8]\n",
      "Failed example:\n",
      "    assert False\n",
      "Exception raised:\n",
      "    Traceback (most recent call last):\n",
      "      File \"/Users/tonyfast/anaconda3/lib/python3.7/doctest.py\", line 1329, in __run\n",
      "        compileflags, 1), test.globs)\n",
      "      File \"In[8]\", line 1, in <module>\n",
      "    AssertionError\n",
      "\n"
     ]
    },
    {
     "data": {
      "text/markdown": [
       "    >>> assert False"
      ],
      "text/plain": [
       "<IPython.core.display.Markdown object>"
      ]
     },
     "metadata": {},
     "output_type": "display_data"
    }
   ],
   "source": [
    "    >>> assert False"
   ]
  },
  {
   "cell_type": "code",
   "execution_count": 9,
   "metadata": {},
   "outputs": [
    {
     "data": {
      "text/markdown": [
       "Load variables that are defined in the templated_document.md.    \n",
       "    \n",
       "    import sys; foo = \"💯\"\n",
       "    sys.argv = ['empty']\n",
       "#!/usr/bin/env python3 -m pidgy template\n",
       "\n",
       "`foo` is defined as 💯\n",
       "\n",
       "My document recieved ['empty'] as arguments.\n",
       "\n",
       "<!--\n",
       "\n",
       "    foo: int = 42\n",
       "    import sys\n",
       "    print(__name__)\n",
       "-->"
      ],
      "text/plain": [
       "<IPython.core.display.Markdown object>"
      ]
     },
     "metadata": {},
     "output_type": "display_data"
    }
   ],
   "source": [
    "Load variables that are defined in the templated_document.md.    \n",
    "    \n",
    "    import sys; foo = \"💯\"\n",
    "    sys.argv = ['empty']\n",
    "{% include \"templated_document.md\" %}"
   ]
  }
 ],
 "metadata": {
  "kernelspec": {
   "display_name": "pidgy 3",
   "language": "python",
   "name": "pidgy"
  },
  "language_info": {
   "codemirror_mode": {
    "name": "ipython",
    "version": 3
   },
   "file_extension": ".py",
   "mimetype": "text/x-python",
   "name": "python",
   "nbconvert_exporter": "python",
   "pygments_lexer": "ipython3",
   "version": "3.7.3"
  }
 },
 "nbformat": 4,
 "nbformat_minor": 4
}
