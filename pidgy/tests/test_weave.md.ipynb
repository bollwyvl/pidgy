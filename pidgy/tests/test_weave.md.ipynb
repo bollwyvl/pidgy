{
 "cells": [
  {
   "cell_type": "markdown",
   "metadata": {},
   "source": [
    "# Test `pidgy.weave`"
   ]
  },
  {
   "cell_type": "code",
   "execution_count": 1,
   "metadata": {},
   "outputs": [
    {
     "data": {
      "text/markdown": [
       "    import pidgy, IPython"
      ],
      "text/plain": [
       "<IPython.core.display.Markdown object>"
      ]
     },
     "metadata": {},
     "output_type": "display_data"
    }
   ],
   "source": [
    "    import pidgy, IPython"
   ]
  },
  {
   "cell_type": "code",
   "execution_count": 2,
   "metadata": {},
   "outputs": [
    {
     "data": {
      "text/markdown": [
       "    weave = pidgy.weave.Weave(parent=IPython.get_ipython())"
      ],
      "text/plain": [
       "<IPython.core.display.Markdown object>"
      ]
     },
     "metadata": {},
     "output_type": "display_data"
    }
   ],
   "source": [
    "    weave = pidgy.weave.Weave(parent=IPython.get_ipython())"
   ]
  },
  {
   "cell_type": "code",
   "execution_count": 3,
   "metadata": {},
   "outputs": [
    {
     "data": {
      "text/markdown": [
       "    s = \"\"\"A string to template with a variable: default.\"\"\""
      ],
      "text/plain": [
       "<IPython.core.display.Markdown object>"
      ]
     },
     "metadata": {},
     "output_type": "display_data"
    }
   ],
   "source": [
    "    s = \"\"\"A string to template with a variable: {{foo|default('default')}}.\"\"\""
   ]
  },
  {
   "cell_type": "code",
   "execution_count": 4,
   "metadata": {},
   "outputs": [
    {
     "data": {
      "text/markdown": [
       "    >>> weave.render(s)\n",
       "    'A string to template with a variable: default.'"
      ],
      "text/plain": [
       "<IPython.core.display.Markdown object>"
      ]
     },
     "metadata": {},
     "output_type": "display_data"
    }
   ],
   "source": [
    "    >>> weave.render(s)\n",
    "    'A string to template with a variable: default.'"
   ]
  },
  {
   "cell_type": "code",
   "execution_count": 5,
   "metadata": {},
   "outputs": [
    {
     "data": {
      "text/markdown": [
       "    foo = 10\n",
       "    >>> weave.render(s)\n",
       "    'A string to template with a variable: 10.'"
      ],
      "text/plain": [
       "<IPython.core.display.Markdown object>"
      ]
     },
     "metadata": {},
     "output_type": "display_data"
    }
   ],
   "source": [
    "    foo = 10\n",
    "    >>> weave.render(s)\n",
    "    'A string to template with a variable: 10.'"
   ]
  },
  {
   "cell_type": "code",
   "execution_count": 6,
   "metadata": {},
   "outputs": [
    {
     "data": {
      "text/plain": [
       "'A string to template with a variable: 900.'"
      ]
     },
     "execution_count": 6,
     "metadata": {},
     "output_type": "execute_result"
    },
    {
     "data": {
      "text/markdown": [
       "    'A string to template with a variable: 900.'"
      ],
      "text/plain": [
       "<IPython.core.display.Markdown object>"
      ]
     },
     "metadata": {},
     "output_type": "display_data"
    }
   ],
   "source": [
    "    'A string to template with a variable: 900.'"
   ]
  },
  {
   "cell_type": "code",
   "execution_count": 7,
   "metadata": {},
   "outputs": [
    {
     "data": {
      "text/markdown": [
       "    >>> assert False\n",
       "    >>> assert 0"
      ],
      "text/plain": [
       "<IPython.core.display.Markdown object>"
      ]
     },
     "metadata": {},
     "output_type": "display_data"
    },
    {
     "data": {
      "text/html": [
       "<style>.output_html .hll { background-color: #ffffcc }\n",
       ".output_html  { background: #f8f8f8; }\n",
       ".output_html .c { color: #408080; font-style: italic } /* Comment */\n",
       ".output_html .err { border: 1px solid #FF0000 } /* Error */\n",
       ".output_html .k { color: #008000; font-weight: bold } /* Keyword */\n",
       ".output_html .o { color: #666666 } /* Operator */\n",
       ".output_html .ch { color: #408080; font-style: italic } /* Comment.Hashbang */\n",
       ".output_html .cm { color: #408080; font-style: italic } /* Comment.Multiline */\n",
       ".output_html .cp { color: #BC7A00 } /* Comment.Preproc */\n",
       ".output_html .cpf { color: #408080; font-style: italic } /* Comment.PreprocFile */\n",
       ".output_html .c1 { color: #408080; font-style: italic } /* Comment.Single */\n",
       ".output_html .cs { color: #408080; font-style: italic } /* Comment.Special */\n",
       ".output_html .gd { color: #A00000 } /* Generic.Deleted */\n",
       ".output_html .ge { font-style: italic } /* Generic.Emph */\n",
       ".output_html .gr { color: #FF0000 } /* Generic.Error */\n",
       ".output_html .gh { color: #000080; font-weight: bold } /* Generic.Heading */\n",
       ".output_html .gi { color: #00A000 } /* Generic.Inserted */\n",
       ".output_html .go { color: #888888 } /* Generic.Output */\n",
       ".output_html .gp { color: #000080; font-weight: bold } /* Generic.Prompt */\n",
       ".output_html .gs { font-weight: bold } /* Generic.Strong */\n",
       ".output_html .gu { color: #800080; font-weight: bold } /* Generic.Subheading */\n",
       ".output_html .gt { color: #0044DD } /* Generic.Traceback */\n",
       ".output_html .kc { color: #008000; font-weight: bold } /* Keyword.Constant */\n",
       ".output_html .kd { color: #008000; font-weight: bold } /* Keyword.Declaration */\n",
       ".output_html .kn { color: #008000; font-weight: bold } /* Keyword.Namespace */\n",
       ".output_html .kp { color: #008000 } /* Keyword.Pseudo */\n",
       ".output_html .kr { color: #008000; font-weight: bold } /* Keyword.Reserved */\n",
       ".output_html .kt { color: #B00040 } /* Keyword.Type */\n",
       ".output_html .m { color: #666666 } /* Literal.Number */\n",
       ".output_html .s { color: #BA2121 } /* Literal.String */\n",
       ".output_html .na { color: #7D9029 } /* Name.Attribute */\n",
       ".output_html .nb { color: #008000 } /* Name.Builtin */\n",
       ".output_html .nc { color: #0000FF; font-weight: bold } /* Name.Class */\n",
       ".output_html .no { color: #880000 } /* Name.Constant */\n",
       ".output_html .nd { color: #AA22FF } /* Name.Decorator */\n",
       ".output_html .ni { color: #999999; font-weight: bold } /* Name.Entity */\n",
       ".output_html .ne { color: #D2413A; font-weight: bold } /* Name.Exception */\n",
       ".output_html .nf { color: #0000FF } /* Name.Function */\n",
       ".output_html .nl { color: #A0A000 } /* Name.Label */\n",
       ".output_html .nn { color: #0000FF; font-weight: bold } /* Name.Namespace */\n",
       ".output_html .nt { color: #008000; font-weight: bold } /* Name.Tag */\n",
       ".output_html .nv { color: #19177C } /* Name.Variable */\n",
       ".output_html .ow { color: #AA22FF; font-weight: bold } /* Operator.Word */\n",
       ".output_html .w { color: #bbbbbb } /* Text.Whitespace */\n",
       ".output_html .mb { color: #666666 } /* Literal.Number.Bin */\n",
       ".output_html .mf { color: #666666 } /* Literal.Number.Float */\n",
       ".output_html .mh { color: #666666 } /* Literal.Number.Hex */\n",
       ".output_html .mi { color: #666666 } /* Literal.Number.Integer */\n",
       ".output_html .mo { color: #666666 } /* Literal.Number.Oct */\n",
       ".output_html .sa { color: #BA2121 } /* Literal.String.Affix */\n",
       ".output_html .sb { color: #BA2121 } /* Literal.String.Backtick */\n",
       ".output_html .sc { color: #BA2121 } /* Literal.String.Char */\n",
       ".output_html .dl { color: #BA2121 } /* Literal.String.Delimiter */\n",
       ".output_html .sd { color: #BA2121; font-style: italic } /* Literal.String.Doc */\n",
       ".output_html .s2 { color: #BA2121 } /* Literal.String.Double */\n",
       ".output_html .se { color: #BB6622; font-weight: bold } /* Literal.String.Escape */\n",
       ".output_html .sh { color: #BA2121 } /* Literal.String.Heredoc */\n",
       ".output_html .si { color: #BB6688; font-weight: bold } /* Literal.String.Interpol */\n",
       ".output_html .sx { color: #008000 } /* Literal.String.Other */\n",
       ".output_html .sr { color: #BB6688 } /* Literal.String.Regex */\n",
       ".output_html .s1 { color: #BA2121 } /* Literal.String.Single */\n",
       ".output_html .ss { color: #19177C } /* Literal.String.Symbol */\n",
       ".output_html .bp { color: #008000 } /* Name.Builtin.Pseudo */\n",
       ".output_html .fm { color: #0000FF } /* Name.Function.Magic */\n",
       ".output_html .vc { color: #19177C } /* Name.Variable.Class */\n",
       ".output_html .vg { color: #19177C } /* Name.Variable.Global */\n",
       ".output_html .vi { color: #19177C } /* Name.Variable.Instance */\n",
       ".output_html .vm { color: #19177C } /* Name.Variable.Magic */\n",
       ".output_html .il { color: #666666 } /* Literal.Number.Integer.Long */</style><div class=\"highlight\"><pre><span></span><span class=\"gt\">Traceback (most recent call last):</span>\n",
       "  File <span class=\"nb\">&quot;/home/tonyfast/miniconda3/lib/python3.7/doctest.py&quot;</span>, line <span class=\"m\">2197</span>, in <span class=\"n\">runTest</span>\n",
       "    <span class=\"k\">raise</span> <span class=\"bp\">self</span><span class=\"o\">.</span><span class=\"n\">failureException</span><span class=\"p\">(</span><span class=\"bp\">self</span><span class=\"o\">.</span><span class=\"n\">format_failure</span><span class=\"p\">(</span><span class=\"n\">new</span><span class=\"o\">.</span><span class=\"n\">getvalue</span><span class=\"p\">()))</span>\n",
       "<span class=\"gr\">AssertionError</span>: <span class=\"n\">Failed doctest test for In[7]</span>\n",
       "  File <span class=\"nb\">&quot;In[7]&quot;</span>, line <span class=\"m\">1</span>, in <span class=\"n\">In[7]</span>\n",
       "\n",
       "<span class=\"x\">----------------------------------------------------------------------</span>\n",
       "<span class=\"x\">File &quot;In[7]&quot;, line 2, in In[7]</span>\n",
       "<span class=\"x\">Failed example:</span>\n",
       "<span class=\"x\">    assert False</span>\n",
       "<span class=\"x\">Exception raised:</span>\n",
       "<span class=\"x\">    Traceback (most recent call last):</span>\n",
       "<span class=\"x\">      File &quot;/home/tonyfast/miniconda3/lib/python3.7/doctest.py&quot;, line 1330, in __run</span>\n",
       "<span class=\"x\">        compileflags, 1), test.globs)</span>\n",
       "<span class=\"x\">      File &quot;In[7]&quot;, line 1, in &lt;module&gt;</span>\n",
       "<span class=\"x\">    AssertionError</span>\n",
       "<span class=\"x\">----------------------------------------------------------------------</span>\n",
       "<span class=\"x\">File &quot;In[7]&quot;, line 3, in In[7]</span>\n",
       "<span class=\"x\">Failed example:</span>\n",
       "<span class=\"x\">    assert 0</span>\n",
       "<span class=\"x\">Exception raised:</span>\n",
       "<span class=\"x\">    Traceback (most recent call last):</span>\n",
       "<span class=\"x\">      File &quot;/home/tonyfast/miniconda3/lib/python3.7/doctest.py&quot;, line 1330, in __run</span>\n",
       "<span class=\"x\">        compileflags, 1), test.globs)</span>\n",
       "<span class=\"x\">      File &quot;In[7]&quot;, line 1, in &lt;module&gt;</span>\n",
       "<span class=\"x\">    AssertionError</span>\n",
       "</pre></div>\n"
      ],
      "text/latex": [
       "\\begin{Verbatim}[commandchars=\\\\\\{\\}]\n",
       "\\PY{g+gt}{Traceback (most recent call last):}\n",
       "  File \\PY{n+nb}{\\PYZdq{}/home/tonyfast/miniconda3/lib/python3.7/doctest.py\\PYZdq{}}, line \\PY{l+m}{2197}, in \\PY{n}{runTest}\n",
       "    \\PY{k}{raise} \\PY{n+nb+bp}{self}\\PY{o}{.}\\PY{n}{failureException}\\PY{p}{(}\\PY{n+nb+bp}{self}\\PY{o}{.}\\PY{n}{format\\PYZus{}failure}\\PY{p}{(}\\PY{n}{new}\\PY{o}{.}\\PY{n}{getvalue}\\PY{p}{(}\\PY{p}{)}\\PY{p}{)}\\PY{p}{)}\n",
       "\\PY{g+gr}{AssertionError}: \\PY{n}{Failed doctest test for In[7]}\n",
       "  File \\PY{n+nb}{\\PYZdq{}In[7]\\PYZdq{}}, line \\PY{l+m}{1}, in \\PY{n}{In[7]}\n",
       "\n",
       "\\PY{x}{\\PYZhy{}\\PYZhy{}\\PYZhy{}\\PYZhy{}\\PYZhy{}\\PYZhy{}\\PYZhy{}\\PYZhy{}\\PYZhy{}\\PYZhy{}\\PYZhy{}\\PYZhy{}\\PYZhy{}\\PYZhy{}\\PYZhy{}\\PYZhy{}\\PYZhy{}\\PYZhy{}\\PYZhy{}\\PYZhy{}\\PYZhy{}\\PYZhy{}\\PYZhy{}\\PYZhy{}\\PYZhy{}\\PYZhy{}\\PYZhy{}\\PYZhy{}\\PYZhy{}\\PYZhy{}\\PYZhy{}\\PYZhy{}\\PYZhy{}\\PYZhy{}\\PYZhy{}\\PYZhy{}\\PYZhy{}\\PYZhy{}\\PYZhy{}\\PYZhy{}\\PYZhy{}\\PYZhy{}\\PYZhy{}\\PYZhy{}\\PYZhy{}\\PYZhy{}\\PYZhy{}\\PYZhy{}\\PYZhy{}\\PYZhy{}\\PYZhy{}\\PYZhy{}\\PYZhy{}\\PYZhy{}\\PYZhy{}\\PYZhy{}\\PYZhy{}\\PYZhy{}\\PYZhy{}\\PYZhy{}\\PYZhy{}\\PYZhy{}\\PYZhy{}\\PYZhy{}\\PYZhy{}\\PYZhy{}\\PYZhy{}\\PYZhy{}\\PYZhy{}\\PYZhy{}}\n",
       "\\PY{x}{File \\PYZdq{}In[7]\\PYZdq{}, line 2, in In[7]}\n",
       "\\PY{x}{Failed example:}\n",
       "\\PY{x}{    assert False}\n",
       "\\PY{x}{Exception raised:}\n",
       "\\PY{x}{    Traceback (most recent call last):}\n",
       "\\PY{x}{      File \\PYZdq{}/home/tonyfast/miniconda3/lib/python3.7/doctest.py\\PYZdq{}, line 1330, in \\PYZus{}\\PYZus{}run}\n",
       "\\PY{x}{        compileflags, 1), test.globs)}\n",
       "\\PY{x}{      File \\PYZdq{}In[7]\\PYZdq{}, line 1, in \\PYZlt{}module\\PYZgt{}}\n",
       "\\PY{x}{    AssertionError}\n",
       "\\PY{x}{\\PYZhy{}\\PYZhy{}\\PYZhy{}\\PYZhy{}\\PYZhy{}\\PYZhy{}\\PYZhy{}\\PYZhy{}\\PYZhy{}\\PYZhy{}\\PYZhy{}\\PYZhy{}\\PYZhy{}\\PYZhy{}\\PYZhy{}\\PYZhy{}\\PYZhy{}\\PYZhy{}\\PYZhy{}\\PYZhy{}\\PYZhy{}\\PYZhy{}\\PYZhy{}\\PYZhy{}\\PYZhy{}\\PYZhy{}\\PYZhy{}\\PYZhy{}\\PYZhy{}\\PYZhy{}\\PYZhy{}\\PYZhy{}\\PYZhy{}\\PYZhy{}\\PYZhy{}\\PYZhy{}\\PYZhy{}\\PYZhy{}\\PYZhy{}\\PYZhy{}\\PYZhy{}\\PYZhy{}\\PYZhy{}\\PYZhy{}\\PYZhy{}\\PYZhy{}\\PYZhy{}\\PYZhy{}\\PYZhy{}\\PYZhy{}\\PYZhy{}\\PYZhy{}\\PYZhy{}\\PYZhy{}\\PYZhy{}\\PYZhy{}\\PYZhy{}\\PYZhy{}\\PYZhy{}\\PYZhy{}\\PYZhy{}\\PYZhy{}\\PYZhy{}\\PYZhy{}\\PYZhy{}\\PYZhy{}\\PYZhy{}\\PYZhy{}\\PYZhy{}\\PYZhy{}}\n",
       "\\PY{x}{File \\PYZdq{}In[7]\\PYZdq{}, line 3, in In[7]}\n",
       "\\PY{x}{Failed example:}\n",
       "\\PY{x}{    assert 0}\n",
       "\\PY{x}{Exception raised:}\n",
       "\\PY{x}{    Traceback (most recent call last):}\n",
       "\\PY{x}{      File \\PYZdq{}/home/tonyfast/miniconda3/lib/python3.7/doctest.py\\PYZdq{}, line 1330, in \\PYZus{}\\PYZus{}run}\n",
       "\\PY{x}{        compileflags, 1), test.globs)}\n",
       "\\PY{x}{      File \\PYZdq{}In[7]\\PYZdq{}, line 1, in \\PYZlt{}module\\PYZgt{}}\n",
       "\\PY{x}{    AssertionError}\n",
       "\\end{Verbatim}\n"
      ],
      "text/plain": [
       "Traceback (most recent call last):\n",
       "  File \"/home/tonyfast/miniconda3/lib/python3.7/doctest.py\", line 2197, in runTest\n",
       "    raise self.failureException(self.format_failure(new.getvalue()))\n",
       "AssertionError: Failed doctest test for In[7]\n",
       "  File \"In[7]\", line 1, in In[7]\n",
       "\n",
       "----------------------------------------------------------------------\n",
       "File \"In[7]\", line 2, in In[7]\n",
       "Failed example:\n",
       "    assert False\n",
       "Exception raised:\n",
       "    Traceback (most recent call last):\n",
       "      File \"/home/tonyfast/miniconda3/lib/python3.7/doctest.py\", line 1330, in __run\n",
       "        compileflags, 1), test.globs)\n",
       "      File \"In[7]\", line 1, in <module>\n",
       "    AssertionError\n",
       "----------------------------------------------------------------------\n",
       "File \"In[7]\", line 3, in In[7]\n",
       "Failed example:\n",
       "    assert 0\n",
       "Exception raised:\n",
       "    Traceback (most recent call last):\n",
       "      File \"/home/tonyfast/miniconda3/lib/python3.7/doctest.py\", line 1330, in __run\n",
       "        compileflags, 1), test.globs)\n",
       "      File \"In[7]\", line 1, in <module>\n",
       "    AssertionError\n"
      ]
     },
     "metadata": {},
     "output_type": "display_data"
    }
   ],
   "source": [
    "    >>> assert False\n",
    "    >>> assert 0"
   ]
  },
  {
   "cell_type": "code",
   "execution_count": 8,
   "metadata": {},
   "outputs": [
    {
     "data": {
      "text/markdown": [
       "Load variables that are defined in the templated_document.md.    \n",
       "    \n",
       "    import sys; foo = \"default\"\n",
       "    sys.argv = ['empty']\n",
       "\n",
       "#!/usr/bin/env python3 -m pidgy template\n",
       "\n",
       "`foo` is defined as default\n",
       "\n",
       "My document recieved ['empty'] as arguments.\n",
       "\n",
       "<!--\n",
       "\n",
       "    foo: int = 42\n",
       "    import sys\n",
       "    print(__name__)\n",
       "-->"
      ],
      "text/plain": [
       "<IPython.core.display.Markdown object>"
      ]
     },
     "metadata": {},
     "output_type": "display_data"
    }
   ],
   "source": [
    "Load variables that are defined in the templated_document.md.    \n",
    "    \n",
    "    import sys; foo = \"default\"\n",
    "    sys.argv = ['empty']\n",
    "\n",
    "{% include \"templated_document.md\" %}"
   ]
  }
 ],
 "metadata": {
  "kernelspec": {
   "display_name": "pidgy 3",
   "language": "python",
   "name": "pidgy"
  },
  "language_info": {
   "codemirror_mode": {
    "name": "ipython",
    "version": 3
   },
   "file_extension": ".py",
   "mimetype": "text/x-python",
   "name": "python",
   "nbconvert_exporter": "python",
   "pygments_lexer": "ipython3",
   "version": "3.7.7"
  }
 },
 "nbformat": 4,
 "nbformat_minor": 4
}
