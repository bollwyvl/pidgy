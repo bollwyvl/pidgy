{
 "cells": [
  {
   "cell_type": "markdown",
   "metadata": {},
   "source": [
    "# Test `pidgy.weave`"
   ]
  },
  {
   "cell_type": "code",
   "execution_count": 1,
   "metadata": {},
   "outputs": [
    {
     "data": {
      "text/markdown": [
       "    import pidgy, IPython"
      ],
      "text/plain": [
       "<IPython.core.display.Markdown object>"
      ]
     },
     "metadata": {},
     "output_type": "display_data"
    }
   ],
   "source": [
    "    import pidgy, IPython"
   ]
  },
  {
   "cell_type": "code",
   "execution_count": 2,
   "metadata": {},
   "outputs": [
    {
     "data": {
      "text/markdown": [
       "    weave = pidgy.weave.Weave(parent=IPython.get_ipython())"
      ],
      "text/plain": [
       "<IPython.core.display.Markdown object>"
      ]
     },
     "metadata": {},
     "output_type": "display_data"
    }
   ],
   "source": [
    "    weave = pidgy.weave.Weave(parent=IPython.get_ipython())"
   ]
  },
  {
   "cell_type": "code",
   "execution_count": 3,
   "metadata": {},
   "outputs": [
    {
     "data": {
      "text/markdown": [
       "    s = \"\"\"A string to template with a variable: default.\"\"\""
      ],
      "text/plain": [
       "<IPython.core.display.Markdown object>"
      ]
     },
     "metadata": {},
     "output_type": "display_data"
    }
   ],
   "source": [
    "    s = \"\"\"A string to template with a variable: {{foo|default('default')}}.\"\"\""
   ]
  },
  {
   "cell_type": "code",
   "execution_count": 4,
   "metadata": {},
   "outputs": [
    {
     "data": {
      "text/markdown": [
       "    >>> weave.render(s)\n",
       "    'A string to template with a variable: default.'"
      ],
      "text/plain": [
       "<IPython.core.display.Markdown object>"
      ]
     },
     "metadata": {},
     "output_type": "display_data"
    }
   ],
   "source": [
    "    >>> weave.render(s)\n",
    "    'A string to template with a variable: default.'"
   ]
  },
  {
   "cell_type": "code",
   "execution_count": 5,
   "metadata": {},
   "outputs": [
    {
     "data": {
      "text/markdown": [
       "    foo = 10\n",
       "    >>> weave.render(s)\n",
       "    'A string to template with a variable: 10.'"
      ],
      "text/plain": [
       "<IPython.core.display.Markdown object>"
      ]
     },
     "metadata": {},
     "output_type": "display_data"
    }
   ],
   "source": [
    "    foo = 10\n",
    "    >>> weave.render(s)\n",
    "    'A string to template with a variable: 10.'"
   ]
  },
  {
   "cell_type": "code",
   "execution_count": 6,
   "metadata": {},
   "outputs": [
    {
     "data": {
      "text/plain": [
       "'A string to template with a variable: 900.'"
      ]
     },
     "execution_count": 6,
     "metadata": {},
     "output_type": "execute_result"
    },
    {
     "data": {
      "text/markdown": [
       "    'A string to template with a variable: 900.'"
      ],
      "text/plain": [
       "<IPython.core.display.Markdown object>"
      ]
     },
     "metadata": {},
     "output_type": "display_data"
    }
   ],
   "source": [
    "    'A string to template with a variable: 900.'"
   ]
  },
  {
   "cell_type": "code",
   "execution_count": 7,
   "metadata": {},
   "outputs": [
    {
     "data": {
      "text/markdown": [
       "    >>> assert False\n",
       "    >>> assert 0"
      ],
      "text/plain": [
       "<IPython.core.display.Markdown object>"
      ]
     },
     "metadata": {},
     "output_type": "display_data"
    },
    {
     "data": {
      "text/markdown": [
       "```pytb\n",
       "Traceback (most recent call last):\n",
       "  File \"/home/tonyfast/miniconda3/lib/python3.7/doctest.py\", line 2197, in runTest\n",
       "    raise self.failureException(self.format_failure(new.getvalue()))\n",
       "AssertionError: Failed doctest test for In[7]\n",
       "  File \"In[7]\", line 1, in In[7]\n",
       "\n",
       "----------------------------------------------------------------------\n",
       "File \"In[7]\", line 2, in In[7]\n",
       "Failed example:\n",
       "    assert False\n",
       "Exception raised:\n",
       "    Traceback (most recent call last):\n",
       "      File \"/home/tonyfast/miniconda3/lib/python3.7/doctest.py\", line 1330, in __run\n",
       "        compileflags, 1), test.globs)\n",
       "      File \"In[8]\", line 1, in <module>\n",
       "    AssertionError\n",
       "----------------------------------------------------------------------\n",
       "File \"In[7]\", line 3, in In[7]\n",
       "Failed example:\n",
       "    assert 0\n",
       "Exception raised:\n",
       "    Traceback (most recent call last):\n",
       "      File \"/home/tonyfast/miniconda3/lib/python3.7/doctest.py\", line 1330, in __run\n",
       "        compileflags, 1), test.globs)\n",
       "      File \"In[8]\", line 1, in <module>\n",
       "    AssertionError\n",
       "\n",
       "\n",
       "```"
      ],
      "text/plain": [
       "<IPython.core.display.Markdown object>"
      ]
     },
     "metadata": {},
     "output_type": "display_data"
    }
   ],
   "source": [
    "    >>> assert False\n",
    "    >>> assert 0"
   ]
  },
  {
   "cell_type": "code",
   "execution_count": 8,
   "metadata": {},
   "outputs": [
    {
     "data": {
      "text/markdown": [
       "Load variables that are defined in the templated_document.md.    \n",
       "    \n",
       "    import sys; foo = \"default\"\n",
       "    sys.argv = ['empty']\n",
       "\n",
       "#!/usr/bin/env python3 -m pidgy template\n",
       "\n",
       "`foo` is defined as default\n",
       "\n",
       "My document recieved ['empty'] as arguments.\n",
       "\n",
       "<!--\n",
       "\n",
       "    foo: int = 42\n",
       "    import sys\n",
       "    print(__name__)\n",
       "-->"
      ],
      "text/plain": [
       "<IPython.core.display.Markdown object>"
      ]
     },
     "metadata": {},
     "output_type": "display_data"
    }
   ],
   "source": [
    "Load variables that are defined in the templated_document.md.    \n",
    "    \n",
    "    import sys; foo = \"default\"\n",
    "    sys.argv = ['empty']\n",
    "\n",
    "{% include \"templated_document.md\" %}"
   ]
  }
 ],
 "metadata": {
  "kernelspec": {
   "display_name": "pidgy 3",
   "language": "python",
   "name": "pidgy"
  },
  "language_info": {
   "codemirror_mode": {
    "name": "ipython",
    "version": 3
   },
   "file_extension": ".py",
   "mimetype": "text/x-python",
   "name": "python",
   "nbconvert_exporter": "python",
   "pygments_lexer": "ipython3",
   "version": "3.7.7"
  }
 },
 "nbformat": 4,
 "nbformat_minor": 4
}
