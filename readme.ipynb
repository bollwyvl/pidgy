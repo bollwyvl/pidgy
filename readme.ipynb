{
 "cells": [
  {
   "cell_type": "markdown",
   "metadata": {},
   "source": [
    "`pidgin` is a collection of IPython magics for creating computable essays."
   ]
  },
  {
   "cell_type": "markdown",
   "metadata": {},
   "source": [
    "[![Binder](https://mybinder.org/badge.svg)](https://mybinder.org/v2/gh/deathbeds/pidgin/master?filepath=readme.ipynb)"
   ]
  },
  {
   "cell_type": "code",
   "execution_count": 1,
   "metadata": {},
   "outputs": [],
   "source": [
    "    if __name__ == '__main__': \n",
    "        %load_ext pidgin"
   ]
  },
  {
   "cell_type": "markdown",
   "metadata": {},
   "source": [
    "# Markdown Mode"
   ]
  },
  {
   "cell_type": "code",
   "execution_count": 2,
   "metadata": {},
   "outputs": [],
   "source": [
    "    %pidgin markdown "
   ]
  },
  {
   "cell_type": "code",
   "execution_count": 3,
   "metadata": {},
   "outputs": [
    {
     "data": {
      "text/markdown": [
       "---\n",
       "With `pidgin.markdown`, code cells accept markdown.  Any indented code blocks are executed.\n",
       "\n",
       "    foo = 42\n",
       "    print(f\"foo is {foo}\")\n",
       "\n",
       "> Accepting the `pidgin.markdown` convetion means the author agrees to indent all their code at least once; and sometimes more in nested lists. \n",
       "\n",
       "---"
      ],
      "text/plain": [
       "---\n",
       "With `pidgin.markdown`, code cells accept markdown.  Any indented code blocks are executed.\n",
       "\n",
       "    foo = 42\n",
       "    print(f\"foo is {foo}\")\n",
       "\n",
       "> Accepting the `pidgin.markdown` convetion means the author agrees to indent all their code at least once; and sometimes more in nested lists. \n",
       "\n",
       "---"
      ]
     },
     "metadata": {},
     "output_type": "display_data"
    },
    {
     "name": "stdout",
     "output_type": "stream",
     "text": [
      "foo is 42\n"
     ]
    }
   ],
   "source": [
    "---\n",
    "With `pidgin.markdown`, code cells accept markdown.  Any indented code blocks are executed.\n",
    "\n",
    "    foo = 42\n",
    "    print(f\"foo is {foo}\")\n",
    "\n",
    "> Accepting the `pidgin.markdown` convetion means the author agrees to indent all their code at least once; and sometimes more in nested lists. \n",
    "\n",
    "---"
   ]
  },
  {
   "cell_type": "markdown",
   "metadata": {},
   "source": [
    "# Template Mode\n",
    "\n",
    "With templates real data can be inserted into the computational essay. An author should desire their notebook restart and run all during template mode."
   ]
  },
  {
   "cell_type": "code",
   "execution_count": 4,
   "metadata": {},
   "outputs": [],
   "source": [
    "    \n",
    "    %pidgin template\n",
    "Skipping the first line suppresses the markdown output."
   ]
  },
  {
   "cell_type": "code",
   "execution_count": 5,
   "metadata": {},
   "outputs": [
    {
     "data": {
      "text/markdown": [
       "---\n",
       "In template mode, `jinja2` may be invoked to template markdown and code.  We already know that `foo` is 42, but can test that assertion with\n",
       "\n",
       "    assert foo is 42 is 42\n",
       "    print(0)\n",
       "    print(1)\n",
       "    print(2)\n",
       "    \n",
       "---"
      ],
      "text/plain": [
       "---\n",
       "In template mode, `jinja2` may be invoked to template markdown and code.  We already know that `foo` is 42, but can test that assertion with\n",
       "\n",
       "    assert foo is 42 is 42\n",
       "    print(0)\n",
       "    print(1)\n",
       "    print(2)\n",
       "    \n",
       "---"
      ]
     },
     "metadata": {},
     "output_type": "display_data"
    },
    {
     "name": "stdout",
     "output_type": "stream",
     "text": [
      "0\n",
      "1\n",
      "2\n"
     ]
    }
   ],
   "source": [
    "---\n",
    "In template mode, `jinja2` may be invoked to template markdown and code.  We already know that `foo` is 42, but can test that assertion with\n",
    "\n",
    "    assert foo is {{foo}} is 42\n",
    "    {% for i in range(3) %}print({{i}})\n",
    "    {% endfor %}\n",
    "---"
   ]
  },
  {
   "cell_type": "code",
   "execution_count": 6,
   "metadata": {},
   "outputs": [
    {
     "data": {
      "text/markdown": [
       "# Turning off magics\n",
       "\n",
       "    %pidgin --off template markdown"
      ],
      "text/plain": [
       "# Turning off magics\n",
       "\n",
       "    %pidgin --off template markdown"
      ]
     },
     "metadata": {},
     "output_type": "display_data"
    }
   ],
   "source": [
    "# Turning off magics\n",
    "\n",
    "    %pidgin --off template markdown"
   ]
  },
  {
   "cell_type": "markdown",
   "metadata": {},
   "source": [
    "## Yaml\n",
    "\n",
    "Start code with `---`"
   ]
  },
  {
   "cell_type": "code",
   "execution_count": 7,
   "metadata": {},
   "outputs": [],
   "source": [
    "    %pidgin conventions"
   ]
  },
  {
   "cell_type": "code",
   "execution_count": 8,
   "metadata": {},
   "outputs": [],
   "source": [
    "    ---\n",
    "    a: 42"
   ]
  },
  {
   "cell_type": "code",
   "execution_count": 9,
   "metadata": {},
   "outputs": [],
   "source": [
    "    assert a == 42"
   ]
  },
  {
   "cell_type": "markdown",
   "metadata": {},
   "source": [
    "## Graphviz\n",
    "\n",
    "Start code with `graph` or `digraph`"
   ]
  },
  {
   "cell_type": "markdown",
   "metadata": {},
   "source": [
    "    !conda install -y graphviz"
   ]
  },
  {
   "cell_type": "code",
   "execution_count": 10,
   "metadata": {},
   "outputs": [
    {
     "data": {
      "image/svg+xml": [
       "<?xml version=\"1.0\" encoding=\"UTF-8\" standalone=\"no\"?>\n",
       "<!DOCTYPE svg PUBLIC \"-//W3C//DTD SVG 1.1//EN\"\n",
       " \"http://www.w3.org/Graphics/SVG/1.1/DTD/svg11.dtd\">\n",
       "<!-- Generated by graphviz version 2.38.0 (20140413.2041)\n",
       " -->\n",
       "<!-- Title: %3 Pages: 1 -->\n",
       "<svg width=\"228pt\" height=\"116pt\"\n",
       " viewBox=\"0.00 0.00 227.62 116.00\" xmlns=\"http://www.w3.org/2000/svg\" xmlns:xlink=\"http://www.w3.org/1999/xlink\">\n",
       "<g id=\"graph0\" class=\"graph\" transform=\"scale(1 1) rotate(0) translate(4 112)\">\n",
       "<title>%3</title>\n",
       "<polygon fill=\"white\" stroke=\"none\" points=\"-4,4 -4,-112 223.617,-112 223.617,4 -4,4\"/>\n",
       "<!-- Ipython -->\n",
       "<g id=\"node1\" class=\"node\"><title>Ipython</title>\n",
       "<ellipse fill=\"none\" stroke=\"black\" cx=\"37.6174\" cy=\"-90\" rx=\"37.7352\" ry=\"18\"/>\n",
       "<text text-anchor=\"middle\" x=\"37.6174\" y=\"-85.8\" font-family=\"Times,serif\" font-size=\"14.00\">Ipython</text>\n",
       "</g>\n",
       "<!-- Jupyter -->\n",
       "<g id=\"node4\" class=\"node\"><title>Jupyter</title>\n",
       "<ellipse fill=\"none\" stroke=\"black\" cx=\"120.617\" cy=\"-18\" rx=\"36.2818\" ry=\"18\"/>\n",
       "<text text-anchor=\"middle\" x=\"120.617\" y=\"-13.8\" font-family=\"Times,serif\" font-size=\"14.00\">Jupyter</text>\n",
       "</g>\n",
       "<!-- Ipython&#45;&#45;Jupyter -->\n",
       "<g id=\"edge1\" class=\"edge\"><title>Ipython&#45;&#45;Jupyter</title>\n",
       "<path fill=\"none\" stroke=\"black\" d=\"M55.6272,-73.811C69.6444,-61.9893 88.9928,-45.6714 102.928,-33.9188\"/>\n",
       "</g>\n",
       "<!-- Julia -->\n",
       "<g id=\"node2\" class=\"node\"><title>Julia</title>\n",
       "<ellipse fill=\"none\" stroke=\"black\" cx=\"120.617\" cy=\"-90\" rx=\"27\" ry=\"18\"/>\n",
       "<text text-anchor=\"middle\" x=\"120.617\" y=\"-85.8\" font-family=\"Times,serif\" font-size=\"14.00\">Julia</text>\n",
       "</g>\n",
       "<!-- Julia&#45;&#45;Jupyter -->\n",
       "<g id=\"edge2\" class=\"edge\"><title>Julia&#45;&#45;Jupyter</title>\n",
       "<path fill=\"none\" stroke=\"black\" d=\"M120.617,-71.6966C120.617,-60.8463 120.617,-46.9167 120.617,-36.1043\"/>\n",
       "</g>\n",
       "<!-- R -->\n",
       "<g id=\"node3\" class=\"node\"><title>R</title>\n",
       "<ellipse fill=\"none\" stroke=\"black\" cx=\"192.617\" cy=\"-90\" rx=\"27\" ry=\"18\"/>\n",
       "<text text-anchor=\"middle\" x=\"192.617\" y=\"-85.8\" font-family=\"Times,serif\" font-size=\"14.00\">R</text>\n",
       "</g>\n",
       "<!-- R&#45;&#45;Jupyter -->\n",
       "<g id=\"edge3\" class=\"edge\"><title>R&#45;&#45;Jupyter</title>\n",
       "<path fill=\"none\" stroke=\"black\" d=\"M178.047,-74.8345C165.966,-63.0893 148.823,-46.4226 136.415,-34.3591\"/>\n",
       "</g>\n",
       "</g>\n",
       "</svg>\n"
      ],
      "text/plain": [
       "<graphviz.files.Source at 0x10eebaac8>"
      ]
     },
     "metadata": {},
     "output_type": "display_data"
    }
   ],
   "source": [
    "    graph { {Ipython Julia R}--Jupyter}"
   ]
  },
  {
   "cell_type": "markdown",
   "metadata": {},
   "source": [
    "# Notebooks as source\n",
    "\n",
    "pidgin uses notebooks as source; line numbers are retained so that the notebook source produces semi-sane tracebacks."
   ]
  },
  {
   "cell_type": "code",
   "execution_count": 11,
   "metadata": {},
   "outputs": [],
   "source": [
    "    from pidgin import markdown, template, conventions"
   ]
  },
  {
   "cell_type": "markdown",
   "metadata": {},
   "source": [
    "The pidgin loader allows an author to import notebooks directly as source.  This means all of the pidgin documents are importable."
   ]
  },
  {
   "cell_type": "code",
   "execution_count": 12,
   "metadata": {},
   "outputs": [
    {
     "data": {
      "text/markdown": [
       "import readme"
      ],
      "text/plain": [
       "import readme"
      ]
     },
     "metadata": {},
     "output_type": "display_data"
    }
   ],
   "source": [
    "    %%pidgin markdown template conventions\n",
    "    import readme"
   ]
  },
  {
   "cell_type": "code",
   "execution_count": 13,
   "metadata": {},
   "outputs": [],
   "source": [
    "    assert all(file.__file__.endswith('.ipynb') for file in (markdown, template, conventions))"
   ]
  },
  {
   "cell_type": "markdown",
   "metadata": {},
   "source": [
    "#### Everything Should Compute\n",
    "\n",
    "Convert a document into other formats; Restart, Run All, `nbconvert`."
   ]
  },
  {
   "cell_type": "code",
   "execution_count": 14,
   "metadata": {},
   "outputs": [
    {
     "data": {
      "text/markdown": [
       "Use pidgin a cell magic to temporarily employ any convetions.\n",
       "    \n",
       "    if __name__ == '__main__':\n",
       "        !jupyter nbconvert --to markdown readme.ipynb"
      ],
      "text/plain": [
       "Use pidgin a cell magic to temporarily employ any convetions.\n",
       "    \n",
       "    if __name__ == '__main__':\n",
       "        !jupyter nbconvert --to markdown readme.ipynb"
      ]
     },
     "metadata": {},
     "output_type": "display_data"
    },
    {
     "name": "stdout",
     "output_type": "stream",
     "text": [
      "[NbConvertApp] Converting notebook readme.ipynb to markdown\n",
      "[NbConvertApp] Writing 3095 bytes to readme.md\n"
     ]
    }
   ],
   "source": [
    "%%pidgin markdown template\n",
    "Use pidgin a cell magic to temporarily employ any convetions.\n",
    "    \n",
    "    if __name__ == '__main__':\n",
    "        !jupyter nbconvert --to markdown readme.ipynb"
   ]
  }
 ],
 "metadata": {
  "kernelspec": {
   "display_name": "p6",
   "language": "python",
   "name": "other-env"
  },
  "language_info": {
   "codemirror_mode": {
    "name": "ipython",
    "version": 3
   },
   "file_extension": ".py",
   "mimetype": "text/x-python",
   "name": "python",
   "nbconvert_exporter": "python",
   "pygments_lexer": "ipython3",
   "version": "3.6.3"
  }
 },
 "nbformat": 4,
 "nbformat_minor": 2
}
