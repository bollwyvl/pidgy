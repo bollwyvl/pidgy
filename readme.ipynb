{
 "cells": [
  {
   "cell_type": "code",
   "execution_count": 1,
   "metadata": {},
   "outputs": [],
   "source": [
    "    if __name__ == '__main__':\n",
    "        %load_ext rites\n",
    "        %load_ext rites.testing\n",
    "        %load_ext rites.markdown\n",
    "        %load_ext rites.template\n",
    "        "
   ]
  },
  {
   "cell_type": "code",
   "execution_count": 2,
   "metadata": {},
   "outputs": [
    {
     "data": {
      "text/markdown": [
       "# `rites` is a new convention for the notebook\n",
       "\n",
       "`rites` are IPython conventions for composing computable documents for humans.\n",
       "\n",
       "## Conventions\n"
      ],
      "text/plain": [
       "<IPython.core.display.Markdown object>"
      ]
     },
     "metadata": {},
     "output_type": "display_data"
    }
   ],
   "source": [
    "# `rites` is a new convention for the notebook\n",
    "\n",
    "`rites` are IPython conventions for composing computable documents for humans.\n",
    "\n",
    "## Conventions"
   ]
  },
  {
   "cell_type": "code",
   "execution_count": 3,
   "metadata": {},
   "outputs": [
    {
     "data": {
      "text/markdown": [
       "### Notebooks should Restart and Run All\n",
       "\n",
       "An out of order notebook has <big><big>🚫🙅🏼</big></big> value to the future.  I don't wanna hear it,\n",
       "nope 🙉, a notebook that runs out of order is useless!\n",
       "\n",
       "`rites` will import notebooks as source.  If a notebooks imports, then it will _generally_ restart and run all.\n",
       "\n",
       "    import rites, rites.testing, rites.markdown\n",
       "    assert all(_.__file__.endswith('.ipynb') for _ in (rites.testing, rites.markdown))\n",
       "\n",
       "#### Expensive tasks?\n",
       "\n",
       "Learn to use caching, parallel execution, optimization, or write better code.  `requests_cache` is useful.\n",
       "    \n",
       "### Program For The People\n",
       "\n",
       "[Wilt Chamberlain]() holds the single season record for field percentage in the NBA \n",
       "at [0.727 in the 1972–73 season]().  No professional baseball player has ever had batting average \n",
       "over 0.500.  That sucks, you are to go to work everyday to fail better than others your peer.\n",
       "\n",
       "> Programming shouldn't be as boring as baseball.\n",
       "\n",
       "`rites.markdown` inspires literate programs written primarily in markdown; all code blocks\n",
       "are evaluted are normal source code.  This convention drafts documents for you and your colleagues,\n",
       "not computers.  Special care is take to provide the expected tracebacks in interactive mode. `rise.markdown`\n",
       "will have you feeling all...\n",
       "\n",
       "![](https://media.giphy.com/media/A0UK8ewpztydG/giphy.gif)\n",
       "\n",
       "> Suppress the display by starting any cell with a blank line.\n"
      ],
      "text/plain": [
       "<IPython.core.display.Markdown object>"
      ]
     },
     "metadata": {},
     "output_type": "display_data"
    }
   ],
   "source": [
    "### Notebooks should Restart and Run All\n",
    "\n",
    "An out of order notebook has <big><big>🚫🙅🏼</big></big> value to the future.  I don't wanna hear it,\n",
    "nope 🙉, a notebook that runs out of order is useless!\n",
    "\n",
    "`rites` will import notebooks as source.  If a notebooks imports, then it will _generally_ restart and run all.\n",
    "\n",
    "    import rites, rites.testing, rites.markdown\n",
    "    assert all(_.__file__.endswith('.ipynb') for _ in (rites.testing, rites.markdown))\n",
    "\n",
    "#### Expensive tasks?\n",
    "\n",
    "Learn to use caching, parallel execution, optimization, or write better code.  `requests_cache` is useful.\n",
    "    \n",
    "### Program For The People\n",
    "\n",
    "[Wilt Chamberlain]() holds the single season record for field percentage in the NBA \n",
    "at [0.727 in the 1972–73 season]().  No professional baseball player has ever had batting average \n",
    "over 0.500.  That sucks, you are to go to work everyday to fail better than others your peer.\n",
    "\n",
    "> Programming shouldn't be as boring as baseball.\n",
    "\n",
    "`rites.markdown` inspires literate programs written primarily in markdown; all code blocks\n",
    "are evaluted are normal source code.  This convention drafts documents for you and your colleagues,\n",
    "not computers.  Special care is take to provide the expected tracebacks in interactive mode. `rise.markdown`\n",
    "will have you feeling all...\n",
    "\n",
    "![](https://media.giphy.com/media/A0UK8ewpztydG/giphy.gif)\n",
    "\n",
    "> Suppress the display by starting any cell with a blank line."
   ]
  },
  {
   "cell_type": "code",
   "execution_count": 4,
   "metadata": {},
   "outputs": [
    {
     "data": {
      "text/markdown": [
       "### Tests are the Future\n",
       "\n",
       "* If a document is available on all machines, its readable.\n",
       "* If a document executes on a few machines, it is reusable.\n",
       "* If a document executes on many machines, it is reproducible.\n",
       "* If a document works solely on your machine, its useless.\n",
       "\n",
       "    #### Share your work! Your ideas are great!\n",
       "    \n",
       "Tests will future proof your ideas so other people and machines can use them.\n",
       "\n",
       "`rites.testing` automates __doctest__, __unittest__, property based tests with __hypothesis__, and behavior\n",
       "driven testing with __behave__.  Abide by a conventions in your functions and classes to trigger tests\n"
      ],
      "text/plain": [
       "<IPython.core.display.Markdown object>"
      ]
     },
     "metadata": {},
     "output_type": "display_data"
    }
   ],
   "source": [
    "### Tests are the Future\n",
    "\n",
    "* If a document is available on all machines, its readable.\n",
    "* If a document executes on a few machines, it is reusable.\n",
    "* If a document executes on many machines, it is reproducible.\n",
    "* If a document works solely on your machine, its useless.\n",
    "\n",
    "    #### Share your work! Your ideas are great!\n",
    "    \n",
    "Tests will future proof your ideas so other people and machines can use them.\n",
    "\n",
    "`rites.testing` automates __doctest__, __unittest__, property based tests with __hypothesis__, and behavior\n",
    "driven testing with __behave__.  Abide by a conventions in your functions and classes to trigger tests"
   ]
  },
  {
   "cell_type": "code",
   "execution_count": 5,
   "metadata": {},
   "outputs": [
    {
     "data": {
      "text/markdown": [
       "#### FunctionTestCase and DocTest\n",
       "    \n",
       "    def test():\n",
       "        \"\"\"Functions without arguments are run as unittests\n",
       "        >>> assert globals(), 'This ran in doctest.'\n",
       "        \n",
       "        The doctests are ran too.\n",
       "        \"\"\"\n",
       "        assert True\n",
       "---\n"
      ],
      "text/plain": [
       "<IPython.core.display.Markdown object>"
      ]
     },
     "metadata": {},
     "output_type": "display_data"
    },
    {
     "name": "stderr",
     "output_type": "stream",
     "text": [
      "..\n",
      "----------------------------------------------------------------------\n",
      "Ran 2 tests in 0.004s\n",
      "\n",
      "OK\n"
     ]
    }
   ],
   "source": [
    "#### FunctionTestCase and DocTest\n",
    "    \n",
    "    def test():\n",
    "        \"\"\"Functions without arguments are run as unittests\n",
    "        >>> assert globals(), 'This ran in doctest.'\n",
    "        \n",
    "        The doctests are ran too.\n",
    "        \"\"\"\n",
    "        assert True\n",
    "---"
   ]
  },
  {
   "cell_type": "code",
   "execution_count": 6,
   "metadata": {},
   "outputs": [
    {
     "data": {
      "text/markdown": [
       "#### Unittest\n",
       "\n",
       "    class Test(__import__('unittest').TestCase):\n",
       "        def runTest(self):\n",
       "            self.assertTrue\n",
       "---\n"
      ],
      "text/plain": [
       "<IPython.core.display.Markdown object>"
      ]
     },
     "metadata": {},
     "output_type": "display_data"
    },
    {
     "name": "stderr",
     "output_type": "stream",
     "text": [
      ".\n",
      "----------------------------------------------------------------------\n",
      "Ran 1 test in 0.001s\n",
      "\n",
      "OK\n"
     ]
    }
   ],
   "source": [
    "#### Unittest\n",
    "\n",
    "    class Test(__import__('unittest').TestCase):\n",
    "        def runTest(self):\n",
    "            self.assertTrue\n",
    "---"
   ]
  },
  {
   "cell_type": "code",
   "execution_count": 7,
   "metadata": {},
   "outputs": [
    {
     "data": {
      "text/markdown": [
       "In fact, any `class` containing a `runTest` method is as a FunctionTestCase.\n",
       "\n",
       "    class meh:\n",
       "        def runTest(self): assert issubclass(self, meh)\n",
       "---            \n"
      ],
      "text/plain": [
       "<IPython.core.display.Markdown object>"
      ]
     },
     "metadata": {},
     "output_type": "display_data"
    },
    {
     "name": "stderr",
     "output_type": "stream",
     "text": [
      ".\n",
      "----------------------------------------------------------------------\n",
      "Ran 1 test in 0.001s\n",
      "\n",
      "OK\n"
     ]
    }
   ],
   "source": [
    "In fact, any `class` containing a `runTest` method is as a FunctionTestCase.\n",
    "\n",
    "    class meh:\n",
    "        def runTest(self): assert issubclass(self, meh)\n",
    "---            "
   ]
  },
  {
   "cell_type": "code",
   "execution_count": 8,
   "metadata": {},
   "outputs": [
    {
     "data": {
      "text/markdown": [
       "#### Propery based testing with *hypothesis*\n",
       "\n",
       "__hypothesis__ will infer strategies for typed functions; typing functions is a good thing.\n",
       "\n",
       "\n",
       "    ct = 0\n",
       "    def f(i:int): \n",
       "        global ct\n",
       "        ct += 1\n",
       "        return i\n",
       "---\n"
      ],
      "text/plain": [
       "<IPython.core.display.Markdown object>"
      ]
     },
     "metadata": {},
     "output_type": "display_data"
    },
    {
     "name": "stderr",
     "output_type": "stream",
     "text": [
      ".\n",
      "----------------------------------------------------------------------\n",
      "Ran 1 test in 0.173s\n",
      "\n",
      "OK\n"
     ]
    }
   ],
   "source": [
    "#### Propery based testing with *hypothesis*\n",
    "\n",
    "__hypothesis__ will infer strategies for typed functions; typing functions is a good thing.\n",
    "\n",
    "\n",
    "    ct = 0\n",
    "    def f(i:int): \n",
    "        global ct\n",
    "        ct += 1\n",
    "        return i\n",
    "---"
   ]
  },
  {
   "cell_type": "code",
   "execution_count": 9,
   "metadata": {},
   "outputs": [
    {
     "data": {
      "text/markdown": [
       "The function __f__ was executed __`100`__ times because could infer a testing strategy from the type annotations.\n"
      ],
      "text/plain": [
       "<IPython.core.display.Markdown object>"
      ]
     },
     "metadata": {},
     "output_type": "display_data"
    }
   ],
   "source": [
    "The function __f__ was executed __`{{ct}}`__ times because could infer a testing strategy from the type annotations."
   ]
  },
  {
   "cell_type": "code",
   "execution_count": 10,
   "metadata": {},
   "outputs": [
    {
     "data": {
      "text/markdown": [
       "#### Notebooks should __import__\n",
       "\n",
       "If one `rites.markdown` they may __import__ it.\n",
       "\n",
       "You'll notice that `__name__ == '__main__'` has become a convention.  This statement separates\n",
       "I(nteractive)Python from Python.\n",
       "    \n",
       "    o = __name__ == '__main__' # use o because it typographically l👀ks ok\n",
       "    if o:\n",
       "        import readme\n",
       "        def _test_():\n",
       "            assert readme.ct is 0\n",
       "            assert readme.__complete__ is not True\n",
       "            assert isinstance(readme.__complete__, AssertionError)\n",
       "        \n",
       "occurs in the Interactive context\n",
       "\n",
       "        \n",
       "    else:\n",
       "        assert False\n",
       "        \n",
       "Otherwise, the module is being imported and we deliberately create an error.\n",
       "        \n",
       "        \n",
       "        \n",
       "        \n"
      ],
      "text/plain": [
       "<IPython.core.display.Markdown object>"
      ]
     },
     "metadata": {},
     "output_type": "display_data"
    },
    {
     "name": "stderr",
     "output_type": "stream",
     "text": [
      ".\n",
      "----------------------------------------------------------------------\n",
      "Ran 1 test in 0.001s\n",
      "\n",
      "OK\n"
     ]
    }
   ],
   "source": [
    "#### Notebooks should __import__\n",
    "\n",
    "If one `rites.markdown` they may __import__ it.\n",
    "\n",
    "You'll notice that `__name__ == '__main__'` has become a convention.  This statement separates\n",
    "I(nteractive)Python from Python.\n",
    "    \n",
    "    o = __name__ == '__main__' # use o because it typographically l👀ks ok\n",
    "    if o:\n",
    "        import readme\n",
    "        def _test_():\n",
    "            assert readme.ct is 0\n",
    "            assert readme.__complete__ is not True\n",
    "            assert isinstance(readme.__complete__, AssertionError)\n",
    "        \n",
    "occurs in the Interactive context\n",
    "\n",
    "        \n",
    "    else:\n",
    "        assert False\n",
    "        \n",
    "Otherwise, the module is being imported and we deliberately create an error.\n",
    "        \n",
    "        \n",
    "        \n",
    "        "
   ]
  },
  {
   "cell_type": "code",
   "execution_count": 11,
   "metadata": {},
   "outputs": [
    {
     "data": {
      "text/markdown": [
       "> Advanced users may figure out how to use notebooks at CLI's.\n",
       "    \n"
      ],
      "text/plain": [
       "<IPython.core.display.Markdown object>"
      ]
     },
     "metadata": {},
     "output_type": "display_data"
    }
   ],
   "source": [
    "> Advanced users may figure out how to use notebooks at CLI's.\n",
    "    "
   ]
  },
  {
   "cell_type": "code",
   "execution_count": 12,
   "metadata": {},
   "outputs": [
    {
     "data": {
      "text/markdown": [
       "#### Tracebacks Are Important\n",
       "\n",
       "`rites` provides valid tracebacks to the source notebook of an imported document.    \n",
       "    \n",
       "    if o: raise readme.__complete__\n",
       "\n",
       ">> If you saved recently, then forget about it.\n",
       "\n",
       "The output below illustrates a valid traceback to the `ipython-input` and python import, respectively.\n",
       "\n",
       "---\n"
      ],
      "text/plain": [
       "<IPython.core.display.Markdown object>"
      ]
     },
     "metadata": {},
     "output_type": "display_data"
    },
    {
     "ename": "AssertionError",
     "evalue": "",
     "output_type": "error",
     "traceback": [
      "\u001b[0;31m---------------------------------------------------------------------------\u001b[0m",
      "\u001b[0;31mAssertionError\u001b[0m                            Traceback (most recent call last)",
      "\u001b[0;32m<ipython-input-12-e947bc94e5ba>\u001b[0m in \u001b[0;36m<module>\u001b[0;34m()\u001b[0m\n\u001b[1;32m      3\u001b[0m \u001b[0;31m`\u001b[0m\u001b[0mrites\u001b[0m\u001b[0;31m`\u001b[0m \u001b[0mprovides\u001b[0m \u001b[0mvalid\u001b[0m \u001b[0mtracebacks\u001b[0m \u001b[0mto\u001b[0m \u001b[0mthe\u001b[0m \u001b[0msource\u001b[0m \u001b[0mnotebook\u001b[0m \u001b[0mof\u001b[0m \u001b[0man\u001b[0m \u001b[0mimported\u001b[0m \u001b[0mdocument\u001b[0m\u001b[0;34m.\u001b[0m\u001b[0;34m\u001b[0m\u001b[0m\n\u001b[1;32m      4\u001b[0m \u001b[0;34m\u001b[0m\u001b[0m\n\u001b[0;32m----> 5\u001b[0;31m     \u001b[0;32mif\u001b[0m \u001b[0mo\u001b[0m\u001b[0;34m:\u001b[0m \u001b[0;32mraise\u001b[0m \u001b[0mreadme\u001b[0m\u001b[0;34m.\u001b[0m\u001b[0m__complete__\u001b[0m\u001b[0;34m\u001b[0m\u001b[0m\n\u001b[0m\u001b[1;32m      6\u001b[0m \u001b[0;34m\u001b[0m\u001b[0m\n\u001b[1;32m      7\u001b[0m \u001b[0;34m>>\u001b[0m \u001b[0mIf\u001b[0m \u001b[0myou\u001b[0m \u001b[0msaved\u001b[0m \u001b[0mrecently\u001b[0m\u001b[0;34m,\u001b[0m \u001b[0mthen\u001b[0m \u001b[0mforget\u001b[0m \u001b[0mabout\u001b[0m \u001b[0mit\u001b[0m\u001b[0;34m.\u001b[0m\u001b[0;34m\u001b[0m\u001b[0m\n",
      "\u001b[0;32m~/rites/rites/__init__.py\u001b[0m in \u001b[0;36mfrom_notebook_node\u001b[0;34m(Module, nb, resource, module)\u001b[0m\n\u001b[1;32m     94\u001b[0m                     try: eval(Module.compile(\n\u001b[1;32m     95\u001b[0m                         cell['source'], lineno=cell['metadata'].get('lineno', 1), module=module),\n\u001b[0;32m---> 96\u001b[0;31m                         *[module.__dict__]*2)\n\u001b[0m\u001b[1;32m     97\u001b[0m                     \u001b[0;32mexcept\u001b[0m \u001b[0mBaseException\u001b[0m \u001b[0;32mas\u001b[0m \u001b[0mException\u001b[0m\u001b[0;34m:\u001b[0m\u001b[0;34m\u001b[0m\u001b[0m\n\u001b[1;32m     98\u001b[0m                         \u001b[0mmodule\u001b[0m\u001b[0;34m.\u001b[0m\u001b[0m__complete__\u001b[0m \u001b[0;34m=\u001b[0m \u001b[0mException\u001b[0m\u001b[0;34m\u001b[0m\u001b[0m\n",
      "\u001b[0;32m~/rites/readme.ipynb\u001b[0m in \u001b[0;36m<module>\u001b[0;34m()\u001b[0m\n\u001b[1;32m    202\u001b[0m     \u001b[0;34m\"        \\n\"\u001b[0m\u001b[0;34m,\u001b[0m\u001b[0;34m\u001b[0m\u001b[0m\n\u001b[1;32m    203\u001b[0m     \u001b[0;34m\"    else:\\n\"\u001b[0m\u001b[0;34m,\u001b[0m\u001b[0;34m\u001b[0m\u001b[0m\n\u001b[0;32m--> 204\u001b[0;31m     \u001b[0;34m\"        assert False\\n\"\u001b[0m\u001b[0;34m,\u001b[0m\u001b[0;34m\u001b[0m\u001b[0m\n\u001b[0m\u001b[1;32m    205\u001b[0m     \u001b[0;34m\"        \\n\"\u001b[0m\u001b[0;34m,\u001b[0m\u001b[0;34m\u001b[0m\u001b[0m\n\u001b[1;32m    206\u001b[0m     \u001b[0;34m\"Otherwise, the module is being imported and we deliberately create an error.\\n\"\u001b[0m\u001b[0;34m,\u001b[0m\u001b[0;34m\u001b[0m\u001b[0m\n",
      "\u001b[0;31mAssertionError\u001b[0m: "
     ]
    }
   ],
   "source": [
    "#### Tracebacks Are Important\n",
    "\n",
    "`rites` provides valid tracebacks to the source notebook of an imported document.    \n",
    "    \n",
    "    if o: raise readme.__complete__\n",
    "\n",
    ">> If you saved recently, then forget about it.\n",
    "\n",
    "The output below illustrates a valid traceback to the `ipython-input` and python import, respectively.\n",
    "\n",
    "---"
   ]
  },
  {
   "cell_type": "code",
   "execution_count": null,
   "metadata": {},
   "outputs": [
    {
     "data": {
      "text/markdown": [
       "#### Everything Should Compute\n",
       "\n",
       "Convert a document into other formats; Restart, Run All, `nbconvert`.\n",
       "\n",
       "    if o:\n",
       "        !jupyter nbconvert --to markdown --MarkdownExporter.exclude_input=True readme.ipynb\n",
       "        !source activate p6 && pyreverse -o png -p rites -A rites\n"
      ],
      "text/plain": [
       "<IPython.core.display.Markdown object>"
      ]
     },
     "metadata": {},
     "output_type": "display_data"
    },
    {
     "name": "stdout",
     "output_type": "stream",
     "text": [
      "[NbConvertApp] Converting notebook readme.ipynb to markdown\n",
      "[NbConvertApp] Writing 6800 bytes to readme.md\n",
      "parsing rites/__init__.py...\n",
      "parsing /Users/tonyfast/rites/rites/__init__.py...\n"
     ]
    }
   ],
   "source": [
    "#### Everything Should Compute\n",
    "\n",
    "Convert a document into other formats; Restart, Run All, `nbconvert`.\n",
    "\n",
    "    if o:\n",
    "        !jupyter nbconvert --to markdown --MarkdownExporter.exclude_input=True readme.ipynb\n",
    "        !source activate p6 && pyreverse -o png -p rites -A rites"
   ]
  },
  {
   "cell_type": "code",
   "execution_count": 15,
   "metadata": {},
   "outputs": [
    {
     "data": {
      "text/markdown": [
       "![](classes_rites.png)\n"
      ],
      "text/plain": [
       "<IPython.core.display.Markdown object>"
      ]
     },
     "metadata": {},
     "output_type": "display_data"
    }
   ],
   "source": [
    "![](classes_rites.png)"
   ]
  },
  {
   "cell_type": "code",
   "execution_count": null,
   "metadata": {},
   "outputs": [],
   "source": []
  }
 ],
 "metadata": {
  "kernelspec": {
   "display_name": "p6",
   "language": "python",
   "name": "other-env"
  },
  "language_info": {
   "codemirror_mode": {
    "name": "ipython",
    "version": 3
   },
   "file_extension": ".py",
   "mimetype": "text/x-python",
   "name": "python",
   "nbconvert_exporter": "python",
   "pygments_lexer": "ipython3",
   "version": "3.6.3"
  }
 },
 "nbformat": 4,
 "nbformat_minor": 2
}
