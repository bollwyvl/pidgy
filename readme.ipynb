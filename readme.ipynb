{
 "cells": [
  {
   "cell_type": "markdown",
   "metadata": {},
   "source": [
    "`rites` is a collection of IPython magics for creating computable essays."
   ]
  },
  {
   "cell_type": "code",
   "execution_count": 1,
   "metadata": {},
   "outputs": [],
   "source": [
    "    %load_ext rites"
   ]
  },
  {
   "cell_type": "markdown",
   "metadata": {},
   "source": [
    "# Markdown Mode"
   ]
  },
  {
   "cell_type": "code",
   "execution_count": 2,
   "metadata": {},
   "outputs": [],
   "source": [
    "    %rites markdown "
   ]
  },
  {
   "cell_type": "code",
   "execution_count": 3,
   "metadata": {},
   "outputs": [
    {
     "data": {
      "text/markdown": [
       "---\n",
       "With `rites.markdown`, code cells accept markdown.  Any indented code blocks are executed.\n",
       "\n",
       "    foo = 42\n",
       "    print(f\"foo is {foo}\")\n",
       "\n",
       "> Accepting the `rites.markdown` convetion means the author agrees to indent all their code at least once; and sometimes more in nested lists. \n",
       "\n",
       "---"
      ],
      "text/plain": [
       "<IPython.core.display.Markdown object>"
      ]
     },
     "metadata": {},
     "output_type": "display_data"
    },
    {
     "name": "stdout",
     "output_type": "stream",
     "text": [
      "foo is 42\n"
     ]
    }
   ],
   "source": [
    "---\n",
    "With `rites.markdown`, code cells accept markdown.  Any indented code blocks are executed.\n",
    "\n",
    "    foo = 42\n",
    "    print(f\"foo is {foo}\")\n",
    "\n",
    "> Accepting the `rites.markdown` convetion means the author agrees to indent all their code at least once; and sometimes more in nested lists. \n",
    "\n",
    "---"
   ]
  },
  {
   "cell_type": "markdown",
   "metadata": {},
   "source": [
    "# Template Mode\n",
    "\n",
    "With templates real data can be inserted into the computational essay. An author should desire their notebook restart and run all during template mode."
   ]
  },
  {
   "cell_type": "code",
   "execution_count": 4,
   "metadata": {},
   "outputs": [],
   "source": [
    "    \n",
    "    %rites template\n",
    "Skipping the first line suppresses the markdown output."
   ]
  },
  {
   "cell_type": "code",
   "execution_count": 5,
   "metadata": {},
   "outputs": [
    {
     "data": {
      "text/markdown": [
       "---\n",
       "In template mode, `jinja2` may be invoked to template markdown and code.  We already know that `foo` is 42, but can test that assertion with\n",
       "\n",
       "    assert foo is 42 is 42\n",
       "    print(0)\n",
       "    print(1)\n",
       "    print(2)\n",
       "    \n",
       "---"
      ],
      "text/plain": [
       "<IPython.core.display.Markdown object>"
      ]
     },
     "metadata": {},
     "output_type": "display_data"
    },
    {
     "name": "stdout",
     "output_type": "stream",
     "text": [
      "0\n",
      "1\n",
      "2\n"
     ]
    }
   ],
   "source": [
    "---\n",
    "In template mode, `jinja2` may be invoked to template markdown and code.  We already know that `foo` is 42, but can test that assertion with\n",
    "\n",
    "    assert foo is {{foo}} is 42\n",
    "    {% for i in range(3) %}print({{i}})\n",
    "    {% endfor %}\n",
    "---"
   ]
  },
  {
   "cell_type": "code",
   "execution_count": 6,
   "metadata": {},
   "outputs": [
    {
     "data": {
      "text/markdown": [
       "# Turning off magics\n",
       "\n",
       "    %rites --off template markdown"
      ],
      "text/plain": [
       "<IPython.core.display.Markdown object>"
      ]
     },
     "metadata": {},
     "output_type": "display_data"
    }
   ],
   "source": [
    "# Turning off magics\n",
    "\n",
    "    %rites --off template markdown"
   ]
  },
  {
   "cell_type": "markdown",
   "metadata": {},
   "source": [
    "# Test Mode"
   ]
  },
  {
   "cell_type": "code",
   "execution_count": 7,
   "metadata": {},
   "outputs": [],
   "source": [
    "    %rites test"
   ]
  },
  {
   "cell_type": "markdown",
   "metadata": {},
   "source": [
    "In testing mode, function definitions and class definitions are tested interactively."
   ]
  },
  {
   "cell_type": "code",
   "execution_count": 8,
   "metadata": {},
   "outputs": [],
   "source": [
    "## A Function with no parameters is tested"
   ]
  },
  {
   "cell_type": "code",
   "execution_count": 9,
   "metadata": {},
   "outputs": [
    {
     "name": "stderr",
     "output_type": "stream",
     "text": [
      ".\n",
      "----------------------------------------------------------------------\n",
      "Ran 1 test in 0.002s\n",
      "\n",
      "OK\n"
     ]
    }
   ],
   "source": [
    "    def f(): \n",
    "        assert True"
   ]
  },
  {
   "cell_type": "markdown",
   "metadata": {},
   "source": [
    "Function with definitions are inferred as [__hypothesis__]() strategies.  This approach promotes better annotations habits."
   ]
  },
  {
   "cell_type": "code",
   "execution_count": 10,
   "metadata": {},
   "outputs": [
    {
     "name": "stderr",
     "output_type": "stream",
     "text": [
      "F.\n",
      "======================================================================\n",
      "FAIL: unittest.case.FunctionTestCase (test)\n",
      "----------------------------------------------------------------------\n",
      "Traceback (most recent call last):\n",
      "  File \"<ipython-input-10-57e7bfe64edb>\", line 8, in test\n",
      "    assert ct > 0\n",
      "AssertionError\n",
      "\n",
      "----------------------------------------------------------------------\n",
      "Ran 2 tests in 0.210s\n",
      "\n",
      "FAILED (failures=1)\n"
     ]
    }
   ],
   "source": [
    "    ct = 0\n",
    "    def f(x: int): \n",
    "        global ct\n",
    "        ct += 1\n",
    "        \n",
    "    def test():\n",
    "        global ct\n",
    "        assert ct > 0"
   ]
  },
  {
   "cell_type": "code",
   "execution_count": 11,
   "metadata": {},
   "outputs": [],
   "source": [
    "# Extra conventions"
   ]
  },
  {
   "cell_type": "code",
   "execution_count": 22,
   "metadata": {},
   "outputs": [],
   "source": [
    "    %rites conventions --off test"
   ]
  },
  {
   "cell_type": "markdown",
   "metadata": {},
   "source": [
    "## Yaml\n",
    "\n",
    "Start code with `---`"
   ]
  },
  {
   "cell_type": "code",
   "execution_count": 23,
   "metadata": {},
   "outputs": [],
   "source": [
    "    ---\n",
    "    a: 42"
   ]
  },
  {
   "cell_type": "code",
   "execution_count": 24,
   "metadata": {},
   "outputs": [],
   "source": [
    "assert a == 42"
   ]
  },
  {
   "cell_type": "markdown",
   "metadata": {},
   "source": [
    "## Graphviz\n",
    "\n",
    "Start code with `graph` or `digraph`"
   ]
  },
  {
   "cell_type": "code",
   "execution_count": 25,
   "metadata": {},
   "outputs": [
    {
     "data": {
      "image/svg+xml": [
       "<?xml version=\"1.0\" encoding=\"UTF-8\" standalone=\"no\"?>\n",
       "<!DOCTYPE svg PUBLIC \"-//W3C//DTD SVG 1.1//EN\"\n",
       " \"http://www.w3.org/Graphics/SVG/1.1/DTD/svg11.dtd\">\n",
       "<!-- Generated by graphviz version 2.38.0 (20140413.2041)\n",
       " -->\n",
       "<!-- Title: %3 Pages: 1 -->\n",
       "<svg width=\"228pt\" height=\"116pt\"\n",
       " viewBox=\"0.00 0.00 227.62 116.00\" xmlns=\"http://www.w3.org/2000/svg\" xmlns:xlink=\"http://www.w3.org/1999/xlink\">\n",
       "<g id=\"graph0\" class=\"graph\" transform=\"scale(1 1) rotate(0) translate(4 112)\">\n",
       "<title>%3</title>\n",
       "<polygon fill=\"white\" stroke=\"none\" points=\"-4,4 -4,-112 223.617,-112 223.617,4 -4,4\"/>\n",
       "<!-- Ipython -->\n",
       "<g id=\"node1\" class=\"node\"><title>Ipython</title>\n",
       "<ellipse fill=\"none\" stroke=\"black\" cx=\"37.6174\" cy=\"-90\" rx=\"37.7352\" ry=\"18\"/>\n",
       "<text text-anchor=\"middle\" x=\"37.6174\" y=\"-85.8\" font-family=\"Times,serif\" font-size=\"14.00\">Ipython</text>\n",
       "</g>\n",
       "<!-- Jupyter -->\n",
       "<g id=\"node4\" class=\"node\"><title>Jupyter</title>\n",
       "<ellipse fill=\"none\" stroke=\"black\" cx=\"120.617\" cy=\"-18\" rx=\"36.2818\" ry=\"18\"/>\n",
       "<text text-anchor=\"middle\" x=\"120.617\" y=\"-13.8\" font-family=\"Times,serif\" font-size=\"14.00\">Jupyter</text>\n",
       "</g>\n",
       "<!-- Ipython&#45;&#45;Jupyter -->\n",
       "<g id=\"edge1\" class=\"edge\"><title>Ipython&#45;&#45;Jupyter</title>\n",
       "<path fill=\"none\" stroke=\"black\" d=\"M55.6272,-73.811C69.6444,-61.9893 88.9928,-45.6714 102.928,-33.9188\"/>\n",
       "</g>\n",
       "<!-- Julia -->\n",
       "<g id=\"node2\" class=\"node\"><title>Julia</title>\n",
       "<ellipse fill=\"none\" stroke=\"black\" cx=\"120.617\" cy=\"-90\" rx=\"27\" ry=\"18\"/>\n",
       "<text text-anchor=\"middle\" x=\"120.617\" y=\"-85.8\" font-family=\"Times,serif\" font-size=\"14.00\">Julia</text>\n",
       "</g>\n",
       "<!-- Julia&#45;&#45;Jupyter -->\n",
       "<g id=\"edge2\" class=\"edge\"><title>Julia&#45;&#45;Jupyter</title>\n",
       "<path fill=\"none\" stroke=\"black\" d=\"M120.617,-71.6966C120.617,-60.8463 120.617,-46.9167 120.617,-36.1043\"/>\n",
       "</g>\n",
       "<!-- R -->\n",
       "<g id=\"node3\" class=\"node\"><title>R</title>\n",
       "<ellipse fill=\"none\" stroke=\"black\" cx=\"192.617\" cy=\"-90\" rx=\"27\" ry=\"18\"/>\n",
       "<text text-anchor=\"middle\" x=\"192.617\" y=\"-85.8\" font-family=\"Times,serif\" font-size=\"14.00\">R</text>\n",
       "</g>\n",
       "<!-- R&#45;&#45;Jupyter -->\n",
       "<g id=\"edge3\" class=\"edge\"><title>R&#45;&#45;Jupyter</title>\n",
       "<path fill=\"none\" stroke=\"black\" d=\"M178.047,-74.8345C165.966,-63.0893 148.823,-46.4226 136.415,-34.3591\"/>\n",
       "</g>\n",
       "</g>\n",
       "</svg>\n"
      ],
      "text/plain": [
       "<graphviz.files.Source at 0x10fea4240>"
      ]
     },
     "metadata": {},
     "output_type": "display_data"
    }
   ],
   "source": [
    "    graph {{Ipython Julia R}--Jupyter}"
   ]
  },
  {
   "cell_type": "markdown",
   "metadata": {},
   "source": [
    "# Notebooks as source\n",
    "\n",
    "Rites uses notebooks as source; line numbers are retained so that the notebook source produces semi-sane tracebacks."
   ]
  },
  {
   "cell_type": "code",
   "execution_count": 16,
   "metadata": {},
   "outputs": [],
   "source": [
    "    %rites --off conventions\n",
    "    from rites import markdown, template, conventions"
   ]
  },
  {
   "cell_type": "markdown",
   "metadata": {},
   "source": [
    "The rites loader allows an author to import notebooks directly as source.  This means all of the rites documents are importable."
   ]
  },
  {
   "cell_type": "code",
   "execution_count": 17,
   "metadata": {},
   "outputs": [
    {
     "name": "stdout",
     "output_type": "stream",
     "text": [
      "The rites extension is already loaded. To reload it, use:\n",
      "  %reload_ext rites\n",
      "foo is 42\n",
      "0\n",
      "1\n",
      "2\n",
      "[NbConvertApp] Converting notebook readme.ipynb to markdown\n",
      "[NbConvertApp] Writing 4407 bytes to readme.md\n"
     ]
    }
   ],
   "source": [
    "    import readme"
   ]
  },
  {
   "cell_type": "code",
   "execution_count": 18,
   "metadata": {},
   "outputs": [],
   "source": [
    "    assert all(file.__file__.endswith('.ipynb') for file in (markdown, template, conventions))"
   ]
  },
  {
   "cell_type": "markdown",
   "metadata": {},
   "source": [
    "#### Everything Should Compute\n",
    "\n",
    "Convert a document into other formats; Restart, Run All, `nbconvert`."
   ]
  },
  {
   "cell_type": "code",
   "execution_count": 19,
   "metadata": {},
   "outputs": [
    {
     "data": {
      "text/markdown": [
       "Use rites a cell magic to temporarily employ any convetions.\n",
       "    \n",
       "    if __name__ == '__main__':\n",
       "        !jupyter nbconvert --to markdown readme.ipynb"
      ],
      "text/plain": [
       "<IPython.core.display.Markdown object>"
      ]
     },
     "metadata": {},
     "output_type": "display_data"
    },
    {
     "name": "stdout",
     "output_type": "stream",
     "text": [
      "[NbConvertApp] Converting notebook readme.ipynb to markdown\n",
      "[NbConvertApp] Writing 4407 bytes to readme.md\n"
     ]
    },
    {
     "name": "stderr",
     "output_type": "stream",
     "text": [
      "...\n",
      "----------------------------------------------------------------------\n",
      "Ran 3 tests in 0.145s\n",
      "\n",
      "OK\n"
     ]
    }
   ],
   "source": [
    "%%rites markdown template test\n",
    "Use rites a cell magic to temporarily employ any convetions.\n",
    "    \n",
    "    if __name__ == '__main__':\n",
    "        !jupyter nbconvert --to markdown readme.ipynb"
   ]
  },
  {
   "cell_type": "code",
   "execution_count": null,
   "metadata": {},
   "outputs": [],
   "source": []
  }
 ],
 "metadata": {
  "kernelspec": {
   "display_name": "p6",
   "language": "python",
   "name": "other-env"
  },
  "language_info": {
   "codemirror_mode": {
    "name": "ipython",
    "version": 3
   },
   "file_extension": ".py",
   "mimetype": "text/x-python",
   "name": "python",
   "nbconvert_exporter": "python",
   "pygments_lexer": "ipython3",
   "version": "3.6.3"
  }
 },
 "nbformat": 4,
 "nbformat_minor": 2
}
