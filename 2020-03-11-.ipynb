{
 "cells": [
  {
   "cell_type": "code",
   "execution_count": 2,
   "metadata": {},
   "outputs": [],
   "source": [
    "    import ipykernel.kernelapp"
   ]
  },
  {
   "cell_type": "code",
   "execution_count": 6,
   "metadata": {},
   "outputs": [
    {
     "data": {
      "text/plain": [
       "{'_connection_file_written': <traitlets.traitlets.Bool at 0x10c406cf8>,\n",
       " '_loaded_config_files': <traitlets.traitlets.List at 0x10ab287b8>,\n",
       " 'aliases': <traitlets.traitlets.Dict at 0x10c46d7f0>,\n",
       " 'argv': <traitlets.traitlets.List at 0x10ab28278>,\n",
       " 'auto_create': <traitlets.traitlets.Bool at 0x10af164a8>,\n",
       " 'blocking_class': <traitlets.traitlets.Type at 0x10c406f98>,\n",
       " 'builtin_profile_dir': <traitlets.traitlets.Unicode at 0x10af16198>,\n",
       " 'cli_config': <traitlets.traitlets.Instance at 0x10ab28780>,\n",
       " 'code_to_run': <traitlets.traitlets.Unicode at 0x10c130c88>,\n",
       " 'config': <traitlets.traitlets.Instance at 0x10aaa7f98>,\n",
       " 'config_file_name': <traitlets.traitlets.Unicode at 0x10af16080>,\n",
       " 'config_file_paths': <traitlets.traitlets.List at 0x10af161d0>,\n",
       " 'config_file_specified': <traitlets.traitlets.Set at 0x10af16048>,\n",
       " 'config_files': <traitlets.traitlets.List at 0x10af16518>,\n",
       " 'connection_dir': <traitlets.traitlets.Unicode at 0x10c644c88>,\n",
       " 'connection_file': <traitlets.traitlets.Unicode at 0x10c406358>,\n",
       " 'context': <traitlets.traitlets.Any at 0x10c644b00>,\n",
       " 'control_port': <traitlets.traitlets.Int at 0x10c406f28>,\n",
       " 'control_socket': <traitlets.traitlets.Any at 0x10c644b70>,\n",
       " 'copy_config_files': <traitlets.traitlets.Bool at 0x10af16588>,\n",
       " 'crash_handler_class': <traitlets.traitlets.Type at 0x10af165f8>,\n",
       " 'data_dir': <traitlets.traitlets.Unicode at 0x10c1419b0>,\n",
       " 'default_extensions': <traitlets.traitlets.List at 0x10c1307f0>,\n",
       " 'description': <traitlets.traitlets.Unicode at 0x10a879208>,\n",
       " 'displayhook_class': <traitlets.traitlets.DottedObjectName at 0x10c644dd8>,\n",
       " 'examples': <traitlets.traitlets.Unicode at 0x10ab28208>,\n",
       " 'exec_PYTHONSTARTUP': <traitlets.traitlets.Bool at 0x10c130ba8>,\n",
       " 'exec_files': <traitlets.traitlets.List at 0x10c130978>,\n",
       " 'exec_lines': <traitlets.traitlets.List at 0x10c130c50>,\n",
       " 'extensions': <traitlets.traitlets.List at 0x10c130710>,\n",
       " 'extra_args': <traitlets.traitlets.List at 0x10ab28748>,\n",
       " 'extra_config_file': <traitlets.traitlets.Unicode at 0x10af16240>,\n",
       " 'extra_extension': <traitlets.traitlets.Unicode at 0x10c130748>,\n",
       " 'file_to_run': <traitlets.traitlets.Unicode at 0x10c130be0>,\n",
       " 'flags': <traitlets.traitlets.Dict at 0x10c45e978>,\n",
       " 'gui': <traitlets.traitlets.CaselessStrEnum at 0x10c130cf8>,\n",
       " 'hb_port': <traitlets.traitlets.Int at 0x10c406e48>,\n",
       " 'heartbeat': <traitlets.traitlets.Instance at 0x10c644ac8>,\n",
       " 'hide_initial_ns': <traitlets.traitlets.Bool at 0x10c1309b0>,\n",
       " 'interact': <traitlets.traitlets.Bool at 0x10c130ef0>,\n",
       " 'interrupt': <traitlets.traitlets.Int at 0x10c644e48>,\n",
       " 'iopub_port': <traitlets.traitlets.Int at 0x10c406eb8>,\n",
       " 'iopub_socket': <traitlets.traitlets.Any at 0x10c644be0>,\n",
       " 'iopub_thread': <traitlets.traitlets.Any at 0x10c644c18>,\n",
       " 'ip': <traitlets.traitlets.Unicode at 0x10c406e10>,\n",
       " 'ipython_dir': <traitlets.traitlets.Unicode at 0x10af16390>,\n",
       " 'kernel': <traitlets.traitlets.Any at 0x10c644a58>,\n",
       " 'kernel_class': <traitlets.traitlets.Type at 0x10c45e9b0>,\n",
       " 'kernel_name': <traitlets.traitlets.Unicode at 0x10c406dd8>,\n",
       " 'keyvalue_description': <traitlets.traitlets.Unicode at 0x10ab28198>,\n",
       " 'log': <traitlets.traitlets.Instance at 0x10ab178d0>,\n",
       " 'log_datefmt': <traitlets.traitlets.Unicode at 0x10ab28400>,\n",
       " 'log_format': <traitlets.traitlets.Unicode at 0x10ab28438>,\n",
       " 'log_level': <traitlets.traitlets.Enum at 0x10ab282e8>,\n",
       " 'matplotlib': <traitlets.traitlets.CaselessStrEnum at 0x10c130e10>,\n",
       " 'module_to_run': <traitlets.traitlets.Unicode at 0x10c130cc0>,\n",
       " 'no_stderr': <traitlets.traitlets.Bool at 0x10c644d30>,\n",
       " 'no_stdout': <traitlets.traitlets.Bool at 0x10c644cf8>,\n",
       " 'option_description': <traitlets.traitlets.Unicode at 0x10ab28160>,\n",
       " 'outstream_class': <traitlets.traitlets.DottedObjectName at 0x10c644da0>,\n",
       " 'overwrite': <traitlets.traitlets.Bool at 0x10af16470>,\n",
       " 'parent': <traitlets.traitlets.Instance at 0x10aaa7fd0>,\n",
       " 'parent_handle': <traitlets.traitlets.Int at 0x10c644e10>,\n",
       " 'poller': <traitlets.traitlets.Any at 0x10c644a90>,\n",
       " 'ports': <traitlets.traitlets.Dict at 0x10c644c50>,\n",
       " 'profile': <traitlets.traitlets.Unicode at 0x10af162e8>,\n",
       " 'profile_dir': <traitlets.traitlets.Instance at 0x10af16400>,\n",
       " 'pylab': <traitlets.traitlets.CaselessStrEnum at 0x10c130e48>,\n",
       " 'pylab_import_all': <traitlets.traitlets.Bool at 0x10c130e80>,\n",
       " 'quiet': <traitlets.traitlets.Bool at 0x10c644d68>,\n",
       " 'raise_config_file_errors': <traitlets.traitlets.Bool at 0x10ab282b0>,\n",
       " 'reraise_ipython_extension_failures': <traitlets.traitlets.Bool at 0x10c130780>,\n",
       " 'session': <traitlets.traitlets.Instance at 0x10c406f60>,\n",
       " 'shell': <traitlets.traitlets.Instance at 0x10c130eb8>,\n",
       " 'shell_port': <traitlets.traitlets.Int at 0x10c406e80>,\n",
       " 'shell_socket': <traitlets.traitlets.Any at 0x10c644b38>,\n",
       " 'stdin_port': <traitlets.traitlets.Int at 0x10c406ef0>,\n",
       " 'stdin_socket': <traitlets.traitlets.Any at 0x10c644ba8>,\n",
       " 'subapp': <traitlets.traitlets.Instance at 0x10ab286d8>,\n",
       " 'subcommand_description': <traitlets.traitlets.Unicode at 0x10ab281d0>,\n",
       " 'transport': <traitlets.traitlets.CaselessStrEnum at 0x10c406da0>,\n",
       " 'user_ns': <traitlets.traitlets.Instance at 0x10c130f28>,\n",
       " 'verbose_crash': <traitlets.traitlets.Bool at 0x10af165c0>,\n",
       " 'version': <traitlets.traitlets.Unicode at 0x10a8791d0>}"
      ]
     },
     "execution_count": 6,
     "metadata": {},
     "output_type": "execute_result"
    }
   ],
   "source": [
    "    ipykernel.kernelapp.IPKernelApp().traits()"
   ]
  },
  {
   "cell_type": "code",
   "execution_count": null,
   "metadata": {},
   "outputs": [],
   "source": [
    "IPKernelApp"
   ]
  }
 ],
 "metadata": {
  "kernelspec": {
   "display_name": "pidgy 3",
   "language": "python",
   "name": "pidgy"
  },
  "language_info": {
   "codemirror_mode": {
    "name": "ipython",
    "version": 3
   },
   "file_extension": ".py",
   "mimetype": "text/x-python",
   "name": "python",
   "nbconvert_exporter": "python",
   "pygments_lexer": "ipython3",
   "version": "3.7.3"
  }
 },
 "nbformat": 4,
 "nbformat_minor": 4
}
