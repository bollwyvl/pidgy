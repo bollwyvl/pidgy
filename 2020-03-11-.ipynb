{
 "cells": [
  {
   "cell_type": "code",
   "execution_count": 1,
   "metadata": {},
   "outputs": [
    {
     "data": {
      "text/markdown": [
       "    import ipykernel.kernelapp"
      ],
      "text/plain": [
       "<IPython.core.display.Markdown object>"
      ]
     },
     "metadata": {},
     "output_type": "display_data"
    }
   ],
   "source": [
    "    import ipykernel.kernelapp"
   ]
  },
  {
   "cell_type": "code",
   "execution_count": 2,
   "metadata": {},
   "outputs": [
    {
     "data": {
      "text/plain": [
       "{'_connection_file_written': <traitlets.traitlets.Bool at 0x105c43748>,\n",
       " '_loaded_config_files': <traitlets.traitlets.List at 0x103f59240>,\n",
       " 'aliases': <traitlets.traitlets.Dict at 0x105feb8d0>,\n",
       " 'argv': <traitlets.traitlets.List at 0x103f4ccc0>,\n",
       " 'auto_create': <traitlets.traitlets.Bool at 0x104046198>,\n",
       " 'blocking_class': <traitlets.traitlets.Type at 0x105c43908>,\n",
       " 'builtin_profile_dir': <traitlets.traitlets.Unicode at 0x10403de48>,\n",
       " 'cli_config': <traitlets.traitlets.Instance at 0x103f59208>,\n",
       " 'code_to_run': <traitlets.traitlets.Unicode at 0x105116a90>,\n",
       " 'config': <traitlets.traitlets.Instance at 0x103f2e7f0>,\n",
       " 'config_file_name': <traitlets.traitlets.Unicode at 0x10403dd68>,\n",
       " 'config_file_paths': <traitlets.traitlets.List at 0x10403de80>,\n",
       " 'config_file_specified': <traitlets.traitlets.Set at 0x10403d320>,\n",
       " 'config_files': <traitlets.traitlets.List at 0x104046208>,\n",
       " 'connection_dir': <traitlets.traitlets.Unicode at 0x105ffdb70>,\n",
       " 'connection_file': <traitlets.traitlets.Unicode at 0x10469e128>,\n",
       " 'context': <traitlets.traitlets.Any at 0x105ffd9e8>,\n",
       " 'control_port': <traitlets.traitlets.Int at 0x105c43898>,\n",
       " 'control_socket': <traitlets.traitlets.Any at 0x105ffda58>,\n",
       " 'copy_config_files': <traitlets.traitlets.Bool at 0x104046278>,\n",
       " 'crash_handler_class': <traitlets.traitlets.Type at 0x1040462e8>,\n",
       " 'data_dir': <traitlets.traitlets.Unicode at 0x10469e080>,\n",
       " 'default_extensions': <traitlets.traitlets.List at 0x1051165f8>,\n",
       " 'description': <traitlets.traitlets.Unicode at 0x103eecb70>,\n",
       " 'displayhook_class': <traitlets.traitlets.DottedObjectName at 0x105ffdcc0>,\n",
       " 'examples': <traitlets.traitlets.Unicode at 0x103f4cc50>,\n",
       " 'exec_PYTHONSTARTUP': <traitlets.traitlets.Bool at 0x1051167b8>,\n",
       " 'exec_files': <traitlets.traitlets.List at 0x105116828>,\n",
       " 'exec_lines': <traitlets.traitlets.List at 0x105116a58>,\n",
       " 'extensions': <traitlets.traitlets.List at 0x1051169e8>,\n",
       " 'extra_args': <traitlets.traitlets.List at 0x103f591d0>,\n",
       " 'extra_config_file': <traitlets.traitlets.Unicode at 0x10403def0>,\n",
       " 'extra_extension': <traitlets.traitlets.Unicode at 0x105116940>,\n",
       " 'file_to_run': <traitlets.traitlets.Unicode at 0x1051167f0>,\n",
       " 'flags': <traitlets.traitlets.Dict at 0x105feb908>,\n",
       " 'gui': <traitlets.traitlets.CaselessStrEnum at 0x105116b00>,\n",
       " 'hb_port': <traitlets.traitlets.Int at 0x105c437b8>,\n",
       " 'heartbeat': <traitlets.traitlets.Instance at 0x105ffd9b0>,\n",
       " 'hide_initial_ns': <traitlets.traitlets.Bool at 0x105116630>,\n",
       " 'interact': <traitlets.traitlets.Bool at 0x105116cf8>,\n",
       " 'interrupt': <traitlets.traitlets.Int at 0x105ffdd30>,\n",
       " 'iopub_port': <traitlets.traitlets.Int at 0x105c43828>,\n",
       " 'iopub_socket': <traitlets.traitlets.Any at 0x105ffdac8>,\n",
       " 'iopub_thread': <traitlets.traitlets.Any at 0x105ffdb00>,\n",
       " 'ip': <traitlets.traitlets.Unicode at 0x105c43710>,\n",
       " 'ipython_dir': <traitlets.traitlets.Unicode at 0x104046080>,\n",
       " 'kernel': <traitlets.traitlets.Any at 0x105ffd940>,\n",
       " 'kernel_class': <traitlets.traitlets.Type at 0x105feb978>,\n",
       " 'kernel_name': <traitlets.traitlets.Unicode at 0x105c435c0>,\n",
       " 'keyvalue_description': <traitlets.traitlets.Unicode at 0x103f4cbe0>,\n",
       " 'log': <traitlets.traitlets.Instance at 0x103f4c908>,\n",
       " 'log_datefmt': <traitlets.traitlets.Unicode at 0x103f4ce48>,\n",
       " 'log_format': <traitlets.traitlets.Unicode at 0x103f4ce80>,\n",
       " 'log_level': <traitlets.traitlets.Enum at 0x103f4cd30>,\n",
       " 'matplotlib': <traitlets.traitlets.CaselessStrEnum at 0x105116b70>,\n",
       " 'module_to_run': <traitlets.traitlets.Unicode at 0x105116ac8>,\n",
       " 'no_stderr': <traitlets.traitlets.Bool at 0x105ffdc18>,\n",
       " 'no_stdout': <traitlets.traitlets.Bool at 0x105ffdbe0>,\n",
       " 'option_description': <traitlets.traitlets.Unicode at 0x103f4cba8>,\n",
       " 'outstream_class': <traitlets.traitlets.DottedObjectName at 0x105ffdc88>,\n",
       " 'overwrite': <traitlets.traitlets.Bool at 0x104046160>,\n",
       " 'parent': <traitlets.traitlets.Instance at 0x103f34d68>,\n",
       " 'parent_handle': <traitlets.traitlets.Int at 0x105ffdcf8>,\n",
       " 'poller': <traitlets.traitlets.Any at 0x105ffd978>,\n",
       " 'ports': <traitlets.traitlets.Dict at 0x105ffdb38>,\n",
       " 'profile': <traitlets.traitlets.Unicode at 0x10403df98>,\n",
       " 'profile_dir': <traitlets.traitlets.Instance at 0x1040460f0>,\n",
       " 'pylab': <traitlets.traitlets.CaselessStrEnum at 0x105116c50>,\n",
       " 'pylab_import_all': <traitlets.traitlets.Bool at 0x105116c88>,\n",
       " 'quiet': <traitlets.traitlets.Bool at 0x105ffdc50>,\n",
       " 'raise_config_file_errors': <traitlets.traitlets.Bool at 0x103f4ccf8>,\n",
       " 'reraise_ipython_extension_failures': <traitlets.traitlets.Bool at 0x105116588>,\n",
       " 'session': <traitlets.traitlets.Instance at 0x105c438d0>,\n",
       " 'shell': <traitlets.traitlets.Instance at 0x105116cc0>,\n",
       " 'shell_port': <traitlets.traitlets.Int at 0x105c437f0>,\n",
       " 'shell_socket': <traitlets.traitlets.Any at 0x105ffda20>,\n",
       " 'stdin_port': <traitlets.traitlets.Int at 0x105c43860>,\n",
       " 'stdin_socket': <traitlets.traitlets.Any at 0x105ffda90>,\n",
       " 'subapp': <traitlets.traitlets.Instance at 0x103f59160>,\n",
       " 'subcommand_description': <traitlets.traitlets.Unicode at 0x103f4cc18>,\n",
       " 'transport': <traitlets.traitlets.CaselessStrEnum at 0x105c43630>,\n",
       " 'user_ns': <traitlets.traitlets.Instance at 0x105116d30>,\n",
       " 'verbose_crash': <traitlets.traitlets.Bool at 0x1040462b0>,\n",
       " 'version': <traitlets.traitlets.Unicode at 0x103eecf28>}"
      ]
     },
     "execution_count": 2,
     "metadata": {},
     "output_type": "execute_result"
    },
    {
     "data": {
      "text/markdown": [
       "    ipykernel.kernelapp.IPKernelApp().traits()"
      ],
      "text/plain": [
       "<IPython.core.display.Markdown object>"
      ]
     },
     "metadata": {},
     "output_type": "display_data"
    }
   ],
   "source": [
    "    ipykernel.kernelapp.IPKernelApp().traits()"
   ]
  },
  {
   "cell_type": "code",
   "execution_count": null,
   "metadata": {},
   "outputs": [],
   "source": [
    "IPKernelApp"
   ]
  }
 ],
 "metadata": {
  "kernelspec": {
   "display_name": "pidgy 3",
   "language": "python",
   "name": "pidgy"
  },
  "language_info": {
   "codemirror_mode": {
    "name": "ipython",
    "version": 3
   },
   "file_extension": ".py",
   "mimetype": "text/x-python",
   "name": "python",
   "nbconvert_exporter": "python",
   "pygments_lexer": "ipython3",
   "version": "3.7.3"
  }
 },
 "nbformat": 4,
 "nbformat_minor": 4
}
