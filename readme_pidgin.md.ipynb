{
 "cells": [
  {
   "cell_type": "markdown",
   "metadata": {},
   "source": [
    "`pidgin` is a literate computing tool for composing computational essays and documents with IPython/Jupyter notebooks. \n",
    "\n",
    "[![Build Status](https://travis-ci.org/deathbeds/pidgin.svg?branch=master)](https://travis-ci.org/deathbeds/pidgin)[![Documentation Status](https://readthedocs.org/projects/pidgin-notebook/badge/?version=latest)](https://pidgin-notebook.readthedocs.io/en/latest/?badge=latest)"
   ]
  },
  {
   "cell_type": "markdown",
   "metadata": {},
   "source": [
    "    !pip install pidgin\n",
    "    ### Install `pidgin` from pypi."
   ]
  },
  {
   "cell_type": "markdown",
   "metadata": {},
   "source": [
    "Enable the `pidgin` extension."
   ]
  },
  {
   "cell_type": "code",
   "execution_count": 1,
   "metadata": {},
   "outputs": [],
   "source": [
    "    %load_ext pidgin"
   ]
  },
  {
   "cell_type": "code",
   "execution_count": 2,
   "metadata": {},
   "outputs": [
    {
     "data": {
      "text/html": [
       "<a href=\"#what-is-pidgin\"><h1 id=\"what-is-pidgin\">What is <code>pidgin</code></h1>\n",
       "</a>\n",
       "<p><a href=\"http://blog.fperez.org/2013/04/literate-computing-and-computational.html\">Literate computing</a> combines <a href=\"https://en.wikipedia.org/wiki/Literate_programming\">literate programming</a> concepts with \n",
       "interactive computing to improve the quality of computational documents (e.g. papers, presentations); \n",
       "<code>pidgin</code> is an implementation in with <code>IPython</code> <a href=\"#\"><strong>Jupyter Notebooks</strong></a>.</p>\n",
       "<p><code>pidgin</code> inspires a multilingual approach to expressing human logic in code.\n",
       "<a href=\"https://en.wikipedia.org/wiki/Literate_programming\">Literate Programs</a> express code in human logic that may combine imperative \n",
       "and declarative programming styles to express computational thought.</p>\n",
       "<p><code>pidgin</code> is designed specific for <strong>Jupyter notebooks</strong> and attempts to integrate with tools in the ecosystem.</p>\n",
       "<p>works: nbconvert, nikola, nbval, pytest, nbsphinx</p>\n",
       "<p>Wish list: papermill/paperboy</p>\n",
       "<code style=\"white-space: pre;\" title=\"\">import IPython, pidgin</code>"
      ],
      "text/plain": [
       "'# What is `pidgin`\\n\\n[Literate computing][literate computing] combines [literate programming][literate programming] concepts with \\ninteractive computing to improve the quality of computational documents (e.g. papers, presentations); \\n`pidgin` is an implementation in with `IPython` [__Jupyter Notebooks__][Jupyter].  \\n\\n\\n`pidgin` inspires a multilingual approach to expressing human logic in code.\\n[Literate Programs][literate programming] express code in human logic that may combine imperative \\nand declarative programming styles to express computational thought.\\n\\n`pidgin` is designed specific for __Jupyter notebooks__ and attempts to integrate with tools in the ecosystem.\\n\\nworks: nbconvert, nikola, nbval, pytest, nbsphinx\\n\\nWish list: papermill/paperboy\\n\\n[literate programming]: https://en.wikipedia.org/wiki/Literate_programming\\n[literate computing]: http://blog.fperez.org/2013/04/literate-computing-and-computational.html\\n[IPython]: #\\n[Jupyter]: #\\n               \\n    import IPython, pidgin'"
      ]
     },
     "metadata": {},
     "output_type": "display_data"
    }
   ],
   "source": [
    "# What is `pidgin`\n",
    "\n",
    "[Literate computing][literate computing] combines [literate programming][literate programming] concepts with \n",
    "interactive computing to improve the quality of computational documents (e.g. papers, presentations); \n",
    "`pidgin` is an implementation in with `IPython` [__Jupyter Notebooks__][Jupyter].  \n",
    "\n",
    "\n",
    "`pidgin` inspires a multilingual approach to expressing human logic in code.\n",
    "[Literate Programs][literate programming] express code in human logic that may combine imperative \n",
    "and declarative programming styles to express computational thought.\n",
    "\n",
    "`pidgin` is designed specific for __Jupyter notebooks__ and attempts to integrate with tools in the ecosystem.\n",
    "\n",
    "works: nbconvert, nikola, nbval, pytest, nbsphinx\n",
    "\n",
    "Wish list: papermill/paperboy\n",
    "\n",
    "[literate programming]: https://en.wikipedia.org/wiki/Literate_programming\n",
    "[literate computing]: http://blog.fperez.org/2013/04/literate-computing-and-computational.html\n",
    "[IPython]: #\n",
    "[Jupyter]: #\n",
    "               \n",
    "    import IPython, pidgin"
   ]
  },
  {
   "cell_type": "code",
   "execution_count": 3,
   "metadata": {},
   "outputs": [],
   "source": [
    "    import importnb\n",
    "    tangle, weave = pidgin.tangle, pidgin.weave"
   ]
  },
  {
   "cell_type": "code",
   "execution_count": 4,
   "metadata": {},
   "outputs": [
    {
     "data": {
      "text/html": [
       "<a href=\"#why-pidgin\"><h2 id=\"why-pidgin\">Why <code>pidgin</code>?</h2>\n",
       "</a>\n",
       "<p><code>pidgin</code> provides an expressive input sys</p>\n",
       "<p>multi channel interfaces blog presentations.</p>\n",
       "<p>Put real data in documents\n",
       "Organically create tests from human logic and interactive comkputing</p>\n",
       "<p>Notebooks can be used as source, but it is difficult to separate interactive logic\n",
       "from procedural logic.  <code>tangle</code>d code is always executed, <code>weave</code>d code only changes in the\n",
       "interactive state.</p>\n"
      ],
      "text/plain": [
       "'## Why `pidgin`?\\n\\n`pidgin` provides an expressive input sys\\n\\nmulti channel interfaces blog presentations.\\n\\nPut real data in documents\\nOrganically create tests from human logic and interactive comkputing\\n\\nNotebooks can be used as source, but it is difficult to separate interactive logic\\nfrom procedural logic.  `tangle`d code is always executed, `weave`d code only changes in the\\ninteractive state.'"
      ]
     },
     "metadata": {},
     "output_type": "display_data"
    }
   ],
   "source": [
    "## Why `pidgin`?\n",
    "\n",
    "`pidgin` provides an expressive input sys\n",
    "\n",
    "multi channel interfaces blog presentations.\n",
    "\n",
    "Put real data in documents\n",
    "Organically create tests from human logic and interactive comkputing\n",
    "\n",
    "Notebooks can be used as source, but it is difficult to separate interactive logic\n",
    "from procedural logic.  `tangle`d code is always executed, `weave`d code only changes in the\n",
    "interactive state."
   ]
  },
  {
   "cell_type": "code",
   "execution_count": 5,
   "metadata": {},
   "outputs": [
    {
     "data": {
      "text/html": [
       "<a href=\"#importing-pidgin-documents\"><h2 id=\"importing-pidgin-documents\">Importing <code>pidgin</code> documents.</h2>\n",
       "</a>\n",
       "<p><code>pidgin</code> documents are notebooks that can be imported as <strong>Python</strong> modules.</p>\n",
       "<code style=\"white-space: pre;\" title=\"Finding tests in __main__&#013;Trying:&#013;    with pidgin.PidginImporter(): None&#013;&#013;Expecting nothing&#013;ok\">>>> with pidgin.PidginImporter(): None\n",
       "</code><p><code>pidgin</code> documents are recognized <code>\".md.ipynb\"</code> extension.\n",
       "<code>pidgin</code> documents render on <a href=\"#\" title=\"Type:        str&#013;String form: #&#013;Length:      1&#013;Docstring:  &#013;str(object=&#x27;&#x27;) -&gt; str&#013;str(bytes_or_buffer[, encoding[, errors]]) -&gt; str&#013;&#013;Create a new string object from the given object. If encoding or&#013;errors is specified, then the object must expose a data buffer&#013;that will be decoded using the given encoding and error handler.&#013;Otherwise, returns the result of object.__str__() (if defined)&#013;or repr(object).&#013;encoding defaults to sys.getdefaultencoding().&#013;errors defaults to &#x27;strict&#x27;.\">nbviewer</a>.  Get in the habit of creaitng reusable\n",
       "notebooks with <code>importnb</code>.</p>\n"
      ],
      "text/plain": [
       "'## Importing `pidgin` documents.\\n\\n`pidgin` documents are notebooks that can be imported as __Python__ modules.\\n\\n\\n>>> with pidgin.PidginImporter(): None\\n\\n`pidgin` documents are recognized `\"{{pidgin.PidginImporter.extensions[0]}}\"` extension.\\n`pidgin` documents render on [nbviewer][nbviewer].  Get in the habit of creaitng reusable\\nnotebooks with `importnb`.\\n\\n[nbviewer]: #'"
      ]
     },
     "metadata": {},
     "output_type": "display_data"
    }
   ],
   "source": [
    "## Importing `pidgin` documents.\n",
    "\n",
    "`pidgin` documents are notebooks that can be imported as __Python__ modules.\n",
    "\n",
    "\n",
    ">>> with pidgin.PidginImporter(): None\n",
    "\n",
    "`pidgin` documents are recognized `\"{{pidgin.PidginImporter.extensions[0]}}\"` extension.\n",
    "`pidgin` documents render on [nbviewer][nbviewer].  Get in the habit of creaitng reusable\n",
    "notebooks with `importnb`.\n",
    "\n",
    "[nbviewer]: #"
   ]
  },
  {
   "cell_type": "code",
   "execution_count": 6,
   "metadata": {},
   "outputs": [
    {
     "data": {
      "text/html": [
       "<a href=\"#implicit-doctesting\"><h3 id=\"implicit-doctesting\">Implicit doctesting.</h3>\n",
       "</a>\n"
      ],
      "text/plain": [
       "'### Implicit doctesting.'"
      ]
     },
     "metadata": {},
     "output_type": "display_data"
    }
   ],
   "source": [
    "### Implicit doctesting."
   ]
  },
  {
   "cell_type": "code",
   "execution_count": 7,
   "metadata": {},
   "outputs": [
    {
     "data": {
      "text/html": [
       "<a href=\"#error-highlighting\"><h3 id=\"error-highlighting\">Error Highlighting</h3>\n",
       "</a>\n"
      ],
      "text/plain": [
       "'### Error Highlighting'"
      ]
     },
     "metadata": {},
     "output_type": "display_data"
    }
   ],
   "source": [
    "### Error Highlighting"
   ]
  },
  {
   "cell_type": "code",
   "execution_count": 8,
   "metadata": {},
   "outputs": [
    {
     "data": {
      "text/html": [
       "<a href=\"#publishing\"><h2 id=\"publishing\">Publishing</h2>\n",
       "</a>\n",
       "<p>nbconvert execlude input cells.</p>\n",
       "<a href=\"#suppressing-code\"><h3 id=\"suppressing-code\">Suppressing code</h3>\n",
       "</a>\n",
       "<a href=\"#suppressing-markdown\"><h3 id=\"suppressing-markdown\">Suppressing <strong>Markdown</strong></h3>\n",
       "</a>\n"
      ],
      "text/plain": [
       "'## Publishing\\n\\nnbconvert execlude input cells.\\n\\n### Suppressing code\\n\\n### Suppressing __Markdown__'"
      ]
     },
     "metadata": {},
     "output_type": "display_data"
    }
   ],
   "source": [
    "## Publishing\n",
    "\n",
    "nbconvert execlude input cells.\n",
    "\n",
    "### Suppressing code\n",
    "\n",
    "### Suppressing __Markdown__"
   ]
  },
  {
   "cell_type": "code",
   "execution_count": 9,
   "metadata": {},
   "outputs": [
    {
     "name": "stdout",
     "output_type": "stream",
     "text": [
      "The pidgin extension is already loaded. To reload it, use:\n",
      "  %reload_ext pidgin\n"
     ]
    }
   ],
   "source": [
    "    %load_ext pidgin"
   ]
  },
  {
   "cell_type": "code",
   "execution_count": 10,
   "metadata": {},
   "outputs": [
    {
     "data": {
      "text/html": [
       "<a href=\"#what-is-pidgin\"><h2 id=\"what-is-pidgin\">What is <code>pidgin</code></h2>\n",
       "</a>\n",
       "<code style=\"white-space: pre;\" title=\"\">    import pidgin\n",
       "</code><p><code>pidgin</code> transforms notebook code cells to accept <strong>Markdown</strong> as source code. When \n",
       "a cell is run:</p>\n",
       "<ol>\n",
       "<li><p>The original <strong>Markdown</strong> source is transformed into valid Python.</p>\n",
       "</li>\n",
       "<li><p>The cell is executed as normal, and displays are presented as expected.</p>\n",
       "</li>\n",
       "<li><p>The original <strong>Markdown</strong> source is passed through a custom display object that will presented\n",
       "a formatted version of the <strong>Markdown</strong>.</p>\n",
       "</li>\n",
       "</ol>\n",
       "<p><code>pidgin</code> is designed to.....</p>\n"
      ],
      "text/plain": [
       "'## What is `pidgin`\\n\\n        import pidgin\\n`pidgin` transforms notebook code cells to accept __Markdown__ as source code. When \\na cell is run:\\n    \\n1. The original __Markdown__ source is transformed into valid Python.\\n2. The cell is executed as normal, and displays are presented as expected.\\n3. The original __Markdown__ source is passed through a custom display object that will presented\\na formatted version of the __Markdown__.\\n\\n`pidgin` is designed to.....'"
      ]
     },
     "metadata": {},
     "output_type": "display_data"
    }
   ],
   "source": [
    "## What is `pidgin`\n",
    "\n",
    "        import pidgin\n",
    "`pidgin` transforms notebook code cells to accept __Markdown__ as source code. When \n",
    "a cell is run:\n",
    "    \n",
    "1. The original __Markdown__ source is transformed into valid Python.\n",
    "2. The cell is executed as normal, and displays are presented as expected.\n",
    "3. The original __Markdown__ source is passed through a custom display object that will presented\n",
    "a formatted version of the __Markdown__.\n",
    "\n",
    "`pidgin` is designed to....."
   ]
  },
  {
   "cell_type": "markdown",
   "metadata": {},
   "source": [
    "Write code in __Markdown__."
   ]
  },
  {
   "cell_type": "code",
   "execution_count": 11,
   "metadata": {},
   "outputs": [
    {
     "data": {
      "text/html": [
       "<code style=\"white-space: pre;\" title=\"\">    %reload_ext pidgin\n",
       "</code><p><code>import pidgin</code> allows <strong>Markdown</strong> as <strong>Code Cell</strong> source in <code>IPython</code>.</p>\n",
       "<ol>\n",
       "<li><p>The <strong>Markdown</strong> is converted to valid <strong>Python</strong> source.</p>\n",
       "</li>\n",
       "<li><p>The <strong>Python</strong> source is executed.</p>\n",
       "</li>\n",
       "<li><p>Any <code>\"doctest\"</code>s are evaluated.</p>\n",
       "</li>\n",
       "<li><p>All inline code is evaluated.</p>\n",
       "</li>\n",
       "<li><p>The <strong>Markdown</strong> source is display with special rules defined in <code>pidgin.display</code> including <code>\"jinja2\"</code> templates\n",
       "for including data in the display.</p>\n",
       "<code style=\"white-space: pre;\" title=\"\"> import IPython</code></li>\n",
       "</ol>\n",
       "<p>Each stuff must succeed without raising an <code>Exception</code>.</p>\n"
      ],
      "text/plain": [
       "'        %reload_ext pidgin\\n`import pidgin` allows __Markdown__ as __Code Cell__ source in `IPython`.\\n\\n1. The __Markdown__ is converted to valid __Python__ source.\\n2. The __Python__ source is executed.\\n3. Any `\"doctest\"`s are evaluated.\\n4. All inline code is evaluated.\\n5. The __Markdown__ source is display with special rules defined in `pidgin.display` including `\"jinja2\"` templates\\nfor including data in the display.\\n\\n        import IPython\\n\\nEach stuff must succeed without raising an `Exception`.  '"
      ]
     },
     "metadata": {},
     "output_type": "display_data"
    }
   ],
   "source": [
    "        %reload_ext pidgin\n",
    "`import pidgin` allows __Markdown__ as __Code Cell__ source in `IPython`.\n",
    "\n",
    "1. The __Markdown__ is converted to valid __Python__ source.\n",
    "2. The __Python__ source is executed.\n",
    "3. Any `\"doctest\"`s are evaluated.\n",
    "4. All inline code is evaluated.\n",
    "5. The __Markdown__ source is display with special rules defined in `pidgin.display` including `\"jinja2\"` templates\n",
    "for including data in the display.\n",
    "\n",
    "        import IPython\n",
    "\n",
    "Each stuff must succeed without raising an `Exception`.  "
   ]
  },
  {
   "cell_type": "code",
   "execution_count": 12,
   "metadata": {},
   "outputs": [
    {
     "data": {
      "text/html": [
       "<a href=\"#benefits-of-pidgin\"><h2 id=\"benefits-of-pidgin\">Benefits of <code>pidgin</code></h2>\n",
       "</a>\n",
       "<ul>\n",
       "<li><p><code>pidgin</code> requires that all code in a document is valid.</p>\n",
       "</li>\n",
       "<li><p><code>pidgin</code> places tighter constraints on the <strong>Run All-ability</strong> of the document.</p>\n",
       "</li>\n",
       "<li><p><code>pidgin</code> encourages tighter weaving of code and narrative.</p>\n",
       "<code style=\"white-space: pre;\" title=\"\">  import jinja2\n",
       "</code><p>Use <code>jinja2</code> syntaxes in <strong>Code Cells</strong>.  On the last display step with include \n",
       "  pretty representations of template expression.  The <code>jinja2.Environment</code> returns <strong>html</strong> formatted\n",
       "  display <code>object</code>s including <code>\"pandas\"</code> tables and <code>\"matplotlib\"</code> figures.</p>\n",
       "</li>\n",
       "<li><p><code>pidgin</code> separates display statements from compute statements.</p>\n",
       "</li>\n",
       "<li><p><code>pidgin</code> documents are importable because of <code>import importnb</code></p>\n",
       "</li>\n",
       "</ul>\n",
       "<pre><code class=\"lang-ipython\">with pidgin.PidginImporter(position=1):\n",
       "    from . import readme as readme\n",
       "</code></pre>\n"
      ],
      "text/plain": [
       "'## Benefits of `pidgin`\\n\\n* `pidgin` requires that all code in a document is valid.\\n* `pidgin` places tighter constraints on the __Run All-ability__ of the document.\\n* `pidgin` encourages tighter weaving of code and narrative.\\n\\n        import jinja2\\n    Use `jinja2` syntaxes in __Code Cells__.  On the last display step with include \\n    pretty representations of template expression.  The `jinja2.Environment` returns __html__ formatted\\n    display `object`s including `\"pandas\"` tables and `\"matplotlib\"` figures.\\n* `pidgin` separates display statements from compute statements.\\n* `pidgin` documents are importable because of `import importnb`        \\n\\n```ipython\\nwith pidgin.PidginImporter(position=1):\\n    from . import readme as readme\\n```'"
      ]
     },
     "metadata": {},
     "output_type": "display_data"
    }
   ],
   "source": [
    "## Benefits of `pidgin`\n",
    "\n",
    "* `pidgin` requires that all code in a document is valid.\n",
    "* `pidgin` places tighter constraints on the __Run All-ability__ of the document.\n",
    "* `pidgin` encourages tighter weaving of code and narrative.\n",
    "\n",
    "        import jinja2\n",
    "    Use `jinja2` syntaxes in __Code Cells__.  On the last display step with include \n",
    "    pretty representations of template expression.  The `jinja2.Environment` returns __html__ formatted\n",
    "    display `object`s including `\"pandas\"` tables and `\"matplotlib\"` figures.\n",
    "* `pidgin` separates display statements from compute statements.\n",
    "* `pidgin` documents are importable because of `import importnb`        \n",
    "\n",
    "```ipython\n",
    "with pidgin.PidginImporter(position=1):\n",
    "    from . import readme as readme\n",
    "```"
   ]
  },
  {
   "cell_type": "markdown",
   "metadata": {},
   "source": [
    "`pidgin` introduces __.md.ipynb__, a hybird file extension, to identity __Markdown__ forward computational essays. When\n",
    "this document (`readme`) is imported we can `assert readme.__file__.endswith('.md.ipynb')`."
   ]
  },
  {
   "cell_type": "code",
   "execution_count": 13,
   "metadata": {},
   "outputs": [
    {
     "data": {
      "text/html": [
       "<a href=\"#pidgin-works-with\"><h2 id=\"pidgin-works-with\"><code>pidgin</code> works with</h2>\n",
       "</a>\n",
       "<ul>\n",
       "<li><p><strong><em>Binder</em></strong> <a href=\"https://mybinder.org/v2/gh/deathbeds/pidgin/master?filepath=readme_pidgin.md.ipynb\"><img src=\"https://mybinder.org/badge.svg\" alt=\"Binder\"></a></p>\n",
       "<p>Take <code>pidgin</code> for a spin on <a href=\"https://mybinder.org/v2/gh/deathbeds/pidgin/master?filepath=readme.ipynb\"><strong><em>Binder</em></strong></a>.</p>\n",
       "</li>\n",
       "<li><p><strong><em>Pytest</em></strong> <a href=\"https://github.com/pytest-dev\"><img src=\"https://avatars1.githubusercontent.com/u/8897583?s=40&amp;v=4\" alt=\"\"></a></p>\n",
       "<p><code>pidgin</code> works great with the <a href=\"https://github.com/computationalmodelling/nbval\"><strong>nbval</strong></a> and <a href=\"https://github.com/deathbeds/importnb\"><strong>importnb</strong></a> notebook specific pytest extensions.  <code>pidgin</code> itself is a <code>import pytest</code>\n",
       "  plugin that permits tests with <strong>.md.ipynb</strong> and <strong>.md</strong> extensions.</p>\n",
       "<p><strong><em>Pro Tip</em></strong> test <code>IPython</code> specific features using <strong>ipython</strong> as the <code>pytest</code> runner instead of <strong>python</strong> <code>#!ipython -m pytest -- --collect-only</code></p>\n",
       "</li>\n",
       "<li><p><strong><em>Jupyter</em></strong> <a href=\"https://github.com/jupyterlab\"><img src=\"https://avatars1.githubusercontent.com/u/7388996?s=40\" alt=\"\"></a></p>\n",
       "</li>\n",
       "<li><p><strong><em>JupyterLab</em></strong> <a href=\"https://github.com/jupyterlab\"><img src=\"https://avatars1.githubusercontent.com/u/22800682?s=40\" alt=\"\"></a></p>\n",
       "</li>\n",
       "<li><p><strong><em>Google Colaboratory</em></strong> <a href=\"https://colab.research.google.com/github/deathbeds/pidgin/blob/mistune/readme.ipynb\"><img src=\"https://avatars0.githubusercontent.com/u/33467679?s=40\" alt=\"\"></a></p>\n",
       "</li>\n",
       "<li><p><strong><em>nteract</em></strong> <a href=\"https://nteract.io\"><img src=\"https://avatars0.githubusercontent.com/u/12401040?s=40\" alt=\"\"></a></p>\n",
       "</li>\n",
       "</ul>\n"
      ],
      "text/plain": [
       "'## `pidgin` works with\\n\\n* __*Binder*__ [![Binder](https://mybinder.org/badge.svg)](https://mybinder.org/v2/gh/deathbeds/pidgin/master?filepath=readme_pidgin.md.ipynb) \\n\\n    Take `pidgin` for a spin on [__*Binder*__](https://mybinder.org/v2/gh/deathbeds/pidgin/master?filepath=readme.ipynb).\\n* __*Pytest*__ [![](https://avatars1.githubusercontent.com/u/8897583?s=40&v=4)](https://github.com/pytest-dev) \\n\\n    `pidgin` works great with the [__nbval__](https://github.com/computationalmodelling/nbval) and [__importnb__](https://github.com/deathbeds/importnb) notebook specific pytest extensions.  `pidgin` itself is a `import pytest`\\n    plugin that permits tests with __.md.ipynb__ and __.md__ extensions.\\n    \\n    __*Pro Tip*__ test `IPython` specific features using __ipython__ as the `pytest` runner instead of __python__ `#!ipython -m pytest -- --collect-only`\\n* __*Jupyter*__ [![](https://avatars1.githubusercontent.com/u/7388996?s=40)](https://github.com/jupyterlab) \\n* __*JupyterLab*__ [![](https://avatars1.githubusercontent.com/u/22800682?s=40)](https://github.com/jupyterlab) \\n* __*Google Colaboratory*__ [![](https://avatars0.githubusercontent.com/u/33467679?s=40)](https://colab.research.google.com/github/deathbeds/pidgin/blob/mistune/readme.ipynb)\\n* __*nteract*__ [![](https://avatars0.githubusercontent.com/u/12401040?s=40)](https://nteract.io)'"
      ]
     },
     "metadata": {},
     "output_type": "display_data"
    }
   ],
   "source": [
    "## `pidgin` works with\n",
    "\n",
    "* __*Binder*__ [![Binder](https://mybinder.org/badge.svg)](https://mybinder.org/v2/gh/deathbeds/pidgin/master?filepath=readme_pidgin.md.ipynb) \n",
    "\n",
    "    Take `pidgin` for a spin on [__*Binder*__](https://mybinder.org/v2/gh/deathbeds/pidgin/master?filepath=readme.ipynb).\n",
    "* __*Pytest*__ [![](https://avatars1.githubusercontent.com/u/8897583?s=40&v=4)](https://github.com/pytest-dev) \n",
    "\n",
    "    `pidgin` works great with the [__nbval__](https://github.com/computationalmodelling/nbval) and [__importnb__](https://github.com/deathbeds/importnb) notebook specific pytest extensions.  `pidgin` itself is a `import pytest`\n",
    "    plugin that permits tests with __.md.ipynb__ and __.md__ extensions.\n",
    "    \n",
    "    __*Pro Tip*__ test `IPython` specific features using __ipython__ as the `pytest` runner instead of __python__ `#!ipython -m pytest -- --collect-only`\n",
    "* __*Jupyter*__ [![](https://avatars1.githubusercontent.com/u/7388996?s=40)](https://github.com/jupyterlab) \n",
    "* __*JupyterLab*__ [![](https://avatars1.githubusercontent.com/u/22800682?s=40)](https://github.com/jupyterlab) \n",
    "* __*Google Colaboratory*__ [![](https://avatars0.githubusercontent.com/u/33467679?s=40)](https://colab.research.google.com/github/deathbeds/pidgin/blob/mistune/readme.ipynb)\n",
    "* __*nteract*__ [![](https://avatars0.githubusercontent.com/u/12401040?s=40)](https://nteract.io)"
   ]
  },
  {
   "cell_type": "code",
   "execution_count": 14,
   "metadata": {},
   "outputs": [
    {
     "data": {
      "text/html": [
       "<a href=\"#architecture\"><h2 id=\"architecture\">Architecture</h2>\n",
       "</a>\n",
       "<p>The <code>pidgin</code> source is written almost entirely in Jupyter notebooks.  The hope is that the notebooks will serve as an important\n",
       "interactive resourcing in the early development.  As the project matures, <code>pidgin</code> will adopt different combinations of python\n",
       "and notebook files.</p>\n",
       "<code style=\"white-space: pre;\" title=\"\">ip = IPython.get_ipython()\n",
       "</code><p><code>pidgin</code> is architected as a collection of <code>IPython</code> extensions that modify <code>ip = IPython.get_ipython()</code> and <code>ip.kernel</code>.</p>\n",
       "<code style=\"white-space: pre;\" title=\"\">if 0:\n",
       "    %reload_ext pidgin\n",
       "\n",
       "</code><p>Each component of <code>pidgin</code> can be loaded individually.</p>\n",
       "<code style=\"white-space: pre;\" title=\"\">    %reload_ext pidgin.tangle\n",
       "    %reload_ext pidgin.display\n",
       "    %reload_ext pidgin.inspector\n",
       "    %reload_ext pidgin.post_run_cell</code>"
      ],
      "text/plain": [
       "'## Architecture\\n\\nThe `pidgin` source is written almost entirely in Jupyter notebooks.  The hope is that the notebooks will serve as an important\\ninteractive resourcing in the early development.  As the project matures, `pidgin` will adopt different combinations of python\\nand notebook files.\\n\\n    ip = IPython.get_ipython()\\n`pidgin` is architected as a collection of `IPython` extensions that modify `ip = IPython.get_ipython()` and `ip.kernel`.\\n\\n    if 0:\\n        %reload_ext pidgin\\n    \\nEach component of `pidgin` can be loaded individually.\\n\\n        %reload_ext pidgin.tangle\\n        %reload_ext pidgin.display\\n        %reload_ext pidgin.inspector\\n        %reload_ext pidgin.post_run_cell'"
      ]
     },
     "metadata": {},
     "output_type": "display_data"
    }
   ],
   "source": [
    "## Architecture\n",
    "\n",
    "The `pidgin` source is written almost entirely in Jupyter notebooks.  The hope is that the notebooks will serve as an important\n",
    "interactive resourcing in the early development.  As the project matures, `pidgin` will adopt different combinations of python\n",
    "and notebook files.\n",
    "\n",
    "    ip = IPython.get_ipython()\n",
    "`pidgin` is architected as a collection of `IPython` extensions that modify `ip = IPython.get_ipython()` and `ip.kernel`.\n",
    "\n",
    "    if 0:\n",
    "        %reload_ext pidgin\n",
    "    \n",
    "Each component of `pidgin` can be loaded individually.\n",
    "\n",
    "        %reload_ext pidgin.tangle\n",
    "        %reload_ext pidgin.display\n",
    "        %reload_ext pidgin.inspector\n",
    "        %reload_ext pidgin.post_run_cell"
   ]
  },
  {
   "cell_type": "code",
   "execution_count": 15,
   "metadata": {},
   "outputs": [
    {
     "data": {
      "text/html": [
       "<a href=\"#roadmap\"><h2 id=\"roadmap\">Roadmap</h2>\n",
       "</a>\n",
       "<ul>\n",
       "<li><p><code>pidgin</code> should become an <code>import ipykernel</code>.</p>\n",
       "</li>\n",
       "<li><p><code>pidgin</code> should extend to other ipykernels.</p>\n",
       "</li>\n",
       "<li><p><code>pidgin</code> should become an <code>import nbconvert.nbconvertapp</code> and <code>nbconvert.preprocessors</code>.</p>\n",
       "</li>\n",
       "</ul>\n"
      ],
      "text/plain": [
       "'## Roadmap\\n\\n* `pidgin` should become an `import ipykernel`.\\n* `pidgin` should extend to other ipykernels.\\n* `pidgin` should become an `import nbconvert.nbconvertapp` and `nbconvert.preprocessors`.'"
      ]
     },
     "metadata": {},
     "output_type": "display_data"
    }
   ],
   "source": [
    "## Roadmap\n",
    "\n",
    "* `pidgin` should become an `import ipykernel`.\n",
    "* `pidgin` should extend to other ipykernels.\n",
    "* `pidgin` should become an `import nbconvert.nbconvertapp` and `nbconvert.preprocessors`."
   ]
  },
  {
   "cell_type": "markdown",
   "metadata": {},
   "source": [
    "## Developer\n",
    "    "
   ]
  },
  {
   "cell_type": "code",
   "execution_count": 16,
   "metadata": {},
   "outputs": [],
   "source": [
    "    build = False"
   ]
  },
  {
   "cell_type": "markdown",
   "metadata": {},
   "source": [
    "    !ipython -m readme_pidgin.md.ipynb -- --uml=True --nbconvert=True --test=True\n",
    "\n",
    "### Test `pidgin`\n",
    "\n",
    "    if __name__ == '__main__':\n",
    "        !ipython -m pytest -- --nbval"
   ]
  },
  {
   "cell_type": "code",
   "execution_count": 17,
   "metadata": {},
   "outputs": [
    {
     "data": {
      "text/html": [
       "<a href=\"#run-tests\"><h3 id=\"run-tests\">Run tests</h3>\n",
       "</a>\n",
       "<code style=\"white-space: pre;\" title=\"\">test = False</code>"
      ],
      "text/plain": [
       "'### Run tests\\n\\n    test = False'"
      ]
     },
     "metadata": {},
     "output_type": "display_data"
    }
   ],
   "source": [
    "### Run tests\n",
    "\n",
    "    test = False"
   ]
  },
  {
   "cell_type": "markdown",
   "metadata": {},
   "source": [
    "    %%file sanitize.cfg\n",
    "    [skip_graphviz]\n",
    "    regex: <svg(.|\\n)*</svg>w\n",
    "    replace: ---\n",
    "        \n",
    "        "
   ]
  },
  {
   "cell_type": "code",
   "execution_count": 18,
   "metadata": {},
   "outputs": [],
   "source": [
    "    if test or build: \n",
    "        !ipython -m pytest -- --nbval --sanitize-with sanitize.cfg "
   ]
  },
  {
   "cell_type": "code",
   "execution_count": 19,
   "metadata": {},
   "outputs": [
    {
     "data": {
      "text/html": [
       "<a href=\"#uml-diagrams\"><h3 id=\"uml-diagrams\">UML diagrams</h3>\n",
       "</a>\n",
       "<code style=\"white-space: pre;\" title=\"\">uml = False</code>"
      ],
      "text/plain": [
       "'### UML diagrams\\n\\n    uml = False'"
      ]
     },
     "metadata": {},
     "output_type": "display_data"
    }
   ],
   "source": [
    "### UML diagrams\n",
    "\n",
    "    uml = False"
   ]
  },
  {
   "cell_type": "code",
   "execution_count": 20,
   "metadata": {},
   "outputs": [],
   "source": [
    "    if uml or build:\n",
    "        import shutil, pathlib, os\n",
    "        %pushd pidgin\n",
    "        !jupyter nbconvert --to python *.ipynb\n",
    "        %popd pidgin\n",
    "        !pyreverse pidgin -ppidgin -opng\n",
    "        list(os.remove(path.with_suffix('.py')) for path in pathlib.Path('pidgin').glob('*.ipynb'))\n",
    "        list((shutil.copy(path, 'docs'), os.remove(path)) for path in pathlib.Path('').glob('*.png'));  "
   ]
  },
  {
   "cell_type": "code",
   "execution_count": 21,
   "metadata": {},
   "outputs": [
    {
     "data": {
      "text/html": [
       "<a href=\"#convert-to-the-readme-md\"><h3 id=\"convert-to-the-readme-md\">Convert to the <strong>readme.md</strong></h3>\n",
       "</a>\n",
       "<code style=\"white-space: pre;\" title=\"\">convert=False</code>"
      ],
      "text/plain": [
       "'### Convert to the __readme.md__\\n\\n    convert=False'"
      ]
     },
     "metadata": {},
     "output_type": "display_data"
    }
   ],
   "source": [
    "### Convert to the __readme.md__\n",
    "\n",
    "    convert=False"
   ]
  },
  {
   "cell_type": "markdown",
   "metadata": {},
   "source": [
    "    %%file markdown_readme.py\n",
    "    c.MarkdownExporter.raw_mimetypes = ['text/markdown']\n",
    "    c.TemplateExporter.exclude_input=True"
   ]
  },
  {
   "cell_type": "code",
   "execution_count": 22,
   "metadata": {},
   "outputs": [],
   "source": [
    "    if convert or build:\n",
    "        !jupyter nbconvert --to markdown --TemplateExporter.exclude_input=True --stdout readme_pidgin.md.ipynb > readme.md"
   ]
  }
 ],
 "metadata": {
  "kernelspec": {
   "display_name": "p6",
   "language": "python",
   "name": "other-env"
  },
  "language_info": {
   "codemirror_mode": {
    "name": "ipython",
    "version": 3
   },
   "file_extension": ".py",
   "mimetype": "text/x-python",
   "name": "python",
   "nbconvert_exporter": "python",
   "pygments_lexer": "ipython3",
   "version": "3.6.3"
  }
 },
 "nbformat": 4,
 "nbformat_minor": 2
}
