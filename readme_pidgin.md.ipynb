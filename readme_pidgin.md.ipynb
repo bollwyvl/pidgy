{
 "cells": [
  {
   "cell_type": "markdown",
   "metadata": {},
   "source": [
    "`pidgin` is a literate computing tool for composing computational essays and documents with IPython/Jupyter notebooks. \n",
    "\n",
    "[![Build Status](https://travis-ci.org/deathbeds/pidgin.svg?branch=master)](https://travis-ci.org/deathbeds/pidgin)[![Documentation Status](https://readthedocs.org/projects/pidgin-notebook/badge/?version=latest)](https://pidgin-notebook.readthedocs.io/en/latest/?badge=latest)"
   ]
  },
  {
   "cell_type": "markdown",
   "metadata": {},
   "source": [
    "    !pip install pidgin\n",
    "    ### Install `pidgin` from pypi."
   ]
  },
  {
   "cell_type": "markdown",
   "metadata": {},
   "source": [
    "Enable the `pidgin` extension."
   ]
  },
  {
   "cell_type": "code",
   "execution_count": 1,
   "metadata": {},
   "outputs": [],
   "source": [
    "    %load_ext pidgin"
   ]
  },
  {
   "cell_type": "code",
   "execution_count": 2,
   "metadata": {},
   "outputs": [
    {
     "data": {
      "text/html": [
       "<a href=\"#what-is-pidgin\"><h1 id=\"what-is-pidgin\">What is <code><span style=\"border-bottom: 1px dotted gray;\" title=\"Type:        module&#013;String form: &lt;module &#x27;pidgin&#x27; from &#x27;&#x27;&lt;safe path&gt;\\__init__.py&#x27;&#x27;&gt;&#013;File:        &#x27;&lt;safe path&gt;\\__init__.py&#x27;&#013;Docstring:   &lt;no docstring&gt;\">pidgin</span>\n",
       "</code></h1>\n",
       "</a>\n",
       "<p><a href=\"http://blog.fperez.org/2013/04/literate-computing-and-computational.html\">Literate computing</a> combines <a href=\"https://en.wikipedia.org/wiki/Literate_programming\">literate programming</a> concepts with \n",
       "interactive computing to improve the quality of computational documents (e.g. papers, presentations); \n",
       "<code><span style=\"border-bottom: 1px dotted gray;\" title=\"Type:        module&#013;String form: &lt;module &#x27;pidgin&#x27; from &#x27;&#x27;&lt;safe path&gt;\\__init__.py&#x27;&#x27;&gt;&#013;File:        &#x27;&lt;safe path&gt;\\__init__.py&#x27;&#013;Docstring:   &lt;no docstring&gt;\">pidgin</span>\n",
       "</code> is an implementation in with <code><span style=\"border-bottom: 1px dotted gray;\" title=\"Type:        module&#013;String form: &lt;module &#x27;IPython&#x27; from &#x27;&#x27;&lt;safe path&gt;\\__init__.py&#x27;&#x27;&gt;&#013;File:        &#x27;&lt;safe path&gt;\\__init__.py&#x27;&#013;Docstring:  &#013;IPython: tools for interactive and parallel computing in Python.&#013;&#013;https://ipython.org\">IPython</span>\n",
       "</code> <a href=\"#\"><strong>Jupyter Notebooks</strong></a>.</p>\n",
       "<p><code><span style=\"border-bottom: 1px dotted gray;\" title=\"Type:        module&#013;String form: &lt;module &#x27;pidgin&#x27; from &#x27;&#x27;&lt;safe path&gt;\\__init__.py&#x27;&#x27;&gt;&#013;File:        &#x27;&lt;safe path&gt;\\__init__.py&#x27;&#013;Docstring:   &lt;no docstring&gt;\">pidgin</span>\n",
       "</code> inspires a multilingual approach to expressing human logic in code.\n",
       "<a href=\"https://en.wikipedia.org/wiki/Literate_programming\">Literate Programs</a> express code in human logic that may combine imperative \n",
       "and declarative programming styles to express computational thought.</p>\n",
       "<p><code><span style=\"border-bottom: 1px dotted gray;\" title=\"Type:        module&#013;String form: &lt;module &#x27;pidgin&#x27; from &#x27;&#x27;&lt;safe path&gt;\\__init__.py&#x27;&#x27;&gt;&#013;File:        &#x27;&lt;safe path&gt;\\__init__.py&#x27;&#013;Docstring:   &lt;no docstring&gt;\">pidgin</span>\n",
       "</code> is designed specific for <strong>Jupyter notebooks</strong> and attempts to integrate with tools in the ecosystem.</p>\n",
       "<p>works: nbconvert, nikola, nbval, pytest, nbsphinx</p>\n",
       "<p>Wish list: papermill/paperboy</p>\n",
       "<code style=\"white-space: pre;\" title=\"\">import <span style=\"border-bottom: 1px dotted gray;\" title=\"Type:        module&#013;String form: &lt;module &#x27;IPython&#x27; from &#x27;&#x27;&lt;safe path&gt;\\__init__.py&#x27;&#x27;&gt;&#013;File:        &#x27;&lt;safe path&gt;\\__init__.py&#x27;&#013;Docstring:  &#013;IPython: tools for interactive and parallel computing in Python.&#013;&#013;https://ipython.org\">IPython</span>, <span style=\"border-bottom: 1px dotted gray;\" title=\"Type:        module&#013;String form: &lt;module &#x27;pidgin&#x27; from &#x27;&#x27;&lt;safe path&gt;\\__init__.py&#x27;&#x27;&gt;&#013;File:        &#x27;&lt;safe path&gt;\\__init__.py&#x27;&#013;Docstring:   &lt;no docstring&gt;\">pidgin</span>\n",
       "</code>"
      ],
      "text/markdown": [
       "# What is `pidgin`\n",
       "\n",
       "[Literate computing][literate computing] combines [literate programming][literate programming] concepts with \n",
       "interactive computing to improve the quality of computational documents (e.g. papers, presentations); \n",
       "`pidgin` is an implementation in with `IPython` [__Jupyter Notebooks__][Jupyter].  \n",
       "\n",
       "\n",
       "`pidgin` inspires a multilingual approach to expressing human logic in code.\n",
       "[Literate Programs][literate programming] express code in human logic that may combine imperative \n",
       "and declarative programming styles to express computational thought.\n",
       "\n",
       "`pidgin` is designed specific for __Jupyter notebooks__ and attempts to integrate with tools in the ecosystem.\n",
       "\n",
       "works: nbconvert, nikola, nbval, pytest, nbsphinx\n",
       "\n",
       "Wish list: papermill/paperboy\n",
       "\n",
       "[literate programming]: https://en.wikipedia.org/wiki/Literate_programming\n",
       "[literate computing]: http://blog.fperez.org/2013/04/literate-computing-and-computational.html\n",
       "[IPython]: #\n",
       "[Jupyter]: #\n",
       "               \n",
       "    import IPython, pidgin"
      ],
      "text/plain": [
       "'# What is `pidgin`\\n\\n[Literate computing][literate computing] combines [literate programming][literate programming] concepts with \\ninteractive computing to improve the quality of computational documents (e.g. papers, presentations); \\n`pidgin` is an implementation in with `IPython` [__Jupyter Notebooks__][Jupyter].  \\n\\n\\n`pidgin` inspires a multilingual approach to expressing human logic in code.\\n[Literate Programs][literate programming] express code in human logic that may combine imperative \\nand declarative programming styles to express computational thought.\\n\\n`pidgin` is designed specific for __Jupyter notebooks__ and attempts to integrate with tools in the ecosystem.\\n\\nworks: nbconvert, nikola, nbval, pytest, nbsphinx\\n\\nWish list: papermill/paperboy\\n\\n[literate programming]: https://en.wikipedia.org/wiki/Literate_programming\\n[literate computing]: http://blog.fperez.org/2013/04/literate-computing-and-computational.html\\n[IPython]: #\\n[Jupyter]: #\\n               \\n    import IPython, pidgin'"
      ]
     },
     "metadata": {},
     "output_type": "display_data"
    }
   ],
   "source": [
    "# What is `pidgin`\n",
    "\n",
    "[Literate computing][literate computing] combines [literate programming][literate programming] concepts with \n",
    "interactive computing to improve the quality of computational documents (e.g. papers, presentations); \n",
    "`pidgin` is an implementation in with `IPython` [__Jupyter Notebooks__][Jupyter].  \n",
    "\n",
    "\n",
    "`pidgin` inspires a multilingual approach to expressing human logic in code.\n",
    "[Literate Programs][literate programming] express code in human logic that may combine imperative \n",
    "and declarative programming styles to express computational thought.\n",
    "\n",
    "`pidgin` is designed specific for __Jupyter notebooks__ and attempts to integrate with tools in the ecosystem.\n",
    "\n",
    "works: nbconvert, nikola, nbval, pytest, nbsphinx\n",
    "\n",
    "Wish list: papermill/paperboy\n",
    "\n",
    "[literate programming]: https://en.wikipedia.org/wiki/Literate_programming\n",
    "[literate computing]: http://blog.fperez.org/2013/04/literate-computing-and-computational.html\n",
    "[IPython]: #\n",
    "[Jupyter]: #\n",
    "               \n",
    "    import IPython, pidgin"
   ]
  },
  {
   "cell_type": "code",
   "execution_count": 3,
   "metadata": {},
   "outputs": [],
   "source": [
    "    import importnb\n",
    "    tangle, weave = pidgin.tangle, pidgin.weave"
   ]
  },
  {
   "cell_type": "code",
   "execution_count": 4,
   "metadata": {},
   "outputs": [
    {
     "data": {
      "text/html": [
       "<a href=\"#why-pidgin\"><h2 id=\"why-pidgin\">Why <code><span style=\"border-bottom: 1px dotted gray;\" title=\"Type:        module&#013;String form: &lt;module &#x27;pidgin&#x27; from &#x27;&#x27;&lt;safe path&gt;\\__init__.py&#x27;&#x27;&gt;&#013;File:        &#x27;&lt;safe path&gt;\\__init__.py&#x27;&#013;Docstring:   &lt;no docstring&gt;\">pidgin</span>\n",
       "</code>?</h2>\n",
       "</a>\n",
       "<p><code><span style=\"border-bottom: 1px dotted gray;\" title=\"Type:        module&#013;String form: &lt;module &#x27;pidgin&#x27; from &#x27;&#x27;&lt;safe path&gt;\\__init__.py&#x27;&#x27;&gt;&#013;File:        &#x27;&lt;safe path&gt;\\__init__.py&#x27;&#013;Docstring:   &lt;no docstring&gt;\">pidgin</span>\n",
       "</code> provides an expressive input sys</p>\n",
       "<p>multi channel interfaces blog presentations.</p>\n",
       "<p>Put real data in documents\n",
       "Organically create tests from human logic and interactive comkputing</p>\n",
       "<p>Notebooks can be used as source, but it is difficult to separate interactive logic\n",
       "from procedural logic.  <code><span style=\"border-bottom: 1px dotted gray;\" title=\"Type:            ModuleType&#013;String form:     &lt;module &#x27;pidgin.tangle&#x27; from &#x27;&#x27;&lt;safe path&gt;\\tangle.ipynb&#x27;&#x27;&gt;&#013;File:            &#x27;&lt;safe path&gt;\\tangle.ipynb&#x27;&#013;Docstring:      &#013;The `pidgin.tangle` module allows __Markdown__ as source code.  __Tangling__ is the first phase of a literate &#013;computing REPL.  The __tangle__ step converts documentation forward __Markdown__ to __Python__ code &#013;based on a set of rules defined on __Markdown__ block code objects.  `pidgin.tangle` only relies on a&#013;the `mistune.BlockLexer` step to transform code.&#013;&#013;This module exports a magic to experiments with the output syntax.  _The output could probably be cooler._&#013;&#013;A few configurable variables are placed on the `IPython` shell.&#013;&#013;### The `IPython` tangle step&#013;&#013;The `IPython` tangle phase is broken down below.  An input string is passed through `string` and `ast.NodeTransformer` &#013;methods to `compile` valid __Python__ byte code.&#013;&#013;1. `ip.input_transformer_manager.transform_cell` should return valid python code.  There are two steps:&#013;&#013;    1. `ip.input_transformers_cleanup` modifies the source input; `pidgin.tangle.markdown_to_python` is the first transformer visited.&#013;    0. `ip.input_transformers_post` should return a valid __Python__ source string.&#013;0. `ip.compile.ast_parse` converts the string to `ast`&#013;0. `ip.ast_transformers` are `ast.NodeTransformer`s applied to each node in the `ast`.&#013;&#013;    `pidgin.tangle` adds the ability reference the `return` statement outside of a function ala the [`%autoawait` magic][autoawait].&#013;0. `ip.compile` convert the `ast` notes to `compile` bytecode.&#013;&#013;[_More information about the input transforms can be found on the `IPython` documentation._][input transforms]&#013;&#013;[autoawait]: https://ipython.readthedocs.io/en/stable/interactive/autoawait.html&#013;[input transforms]: ip.input_transformers_cleanup&#013;Class docstring: ModuleType combines a module with a PathLike access to simplify access.\">tangle</span>\n",
       "</code>d code is always executed, <code><span style=\"border-bottom: 1px dotted gray;\" title=\"Type:        module&#013;String form: &lt;module &#x27;pidgin.weave&#x27; from &#x27;&#x27;&lt;safe path&gt;\\weave.md.ipynb&#x27;&#x27;&gt;&#013;File:        &#x27;&lt;safe path&gt;\\weave.md.ipynb&#x27;&#013;Docstring:  &#013;`pidgin.weave` controls second of the literate computing REPL.  It controls how the source code is display.  &#013;&#013;&gt;&gt;&gt; assert pidgin.weave.__f\">weave</span>\n",
       "</code>d code only changes in the\n",
       "interactive state.</p>\n"
      ],
      "text/markdown": [
       "## Why `pidgin`?\n",
       "\n",
       "`pidgin` provides an expressive input sys\n",
       "\n",
       "multi channel interfaces blog presentations.\n",
       "\n",
       "Put real data in documents\n",
       "Organically create tests from human logic and interactive comkputing\n",
       "\n",
       "Notebooks can be used as source, but it is difficult to separate interactive logic\n",
       "from procedural logic.  `tangle`d code is always executed, `weave`d code only changes in the\n",
       "interactive state."
      ],
      "text/plain": [
       "'## Why `pidgin`?\\n\\n`pidgin` provides an expressive input sys\\n\\nmulti channel interfaces blog presentations.\\n\\nPut real data in documents\\nOrganically create tests from human logic and interactive comkputing\\n\\nNotebooks can be used as source, but it is difficult to separate interactive logic\\nfrom procedural logic.  `tangle`d code is always executed, `weave`d code only changes in the\\ninteractive state.'"
      ]
     },
     "metadata": {},
     "output_type": "display_data"
    }
   ],
   "source": [
    "## Why `pidgin`?\n",
    "\n",
    "`pidgin` provides an expressive input sys\n",
    "\n",
    "multi channel interfaces blog presentations.\n",
    "\n",
    "Put real data in documents\n",
    "Organically create tests from human logic and interactive comkputing\n",
    "\n",
    "Notebooks can be used as source, but it is difficult to separate interactive logic\n",
    "from procedural logic.  `tangle`d code is always executed, `weave`d code only changes in the\n",
    "interactive state."
   ]
  },
  {
   "cell_type": "code",
   "execution_count": 5,
   "metadata": {},
   "outputs": [
    {
     "data": {
      "text/html": [
       "<a href=\"#importing-pidgin-documents\"><h2 id=\"importing-pidgin-documents\">Importing <code><span style=\"border-bottom: 1px dotted gray;\" title=\"Type:        module&#013;String form: &lt;module &#x27;pidgin&#x27; from &#x27;&#x27;&lt;safe path&gt;\\__init__.py&#x27;&#x27;&gt;&#013;File:        &#x27;&lt;safe path&gt;\\__init__.py&#x27;&#013;Docstring:   &lt;no docstring&gt;\">pidgin</span>\n",
       "</code> documents.</h2>\n",
       "</a>\n",
       "<p><code><span style=\"border-bottom: 1px dotted gray;\" title=\"Type:        module&#013;String form: &lt;module &#x27;pidgin&#x27; from &#x27;&#x27;&lt;safe path&gt;\\__init__.py&#x27;&#x27;&gt;&#013;File:        &#x27;&lt;safe path&gt;\\__init__.py&#x27;&#013;Docstring:   &lt;no docstring&gt;\">pidgin</span>\n",
       "</code> documents are notebooks that can be imported as <strong>Python</strong> modules.</p>\n",
       "<code style=\"white-space: pre;\" title=\"Finding tests in __main__&#013;Trying:&#013;    with pidgin.PidginImporter(): None&#013;&#013;Expecting nothing&#013;ok\">>>> with <span style=\"border-bottom: 1px dotted gray;\" title=\"Init signature: pidgin.PidginImporter(fullname=None, path=None, lazy=False, position=0, fuzzy=True, markdown_docstring=True, main=False)&#013;Docstring:     &#013;Notebook is a user friendly file finder and module loader for notebook source code.&#013;&#013;&gt; Remember, restart and run all or it didn&#x27;t happen.&#013;&#013;Notebook provides several useful options.&#013;&#013;* Lazy module loading.  A module is executed the first time it is used in a script.&#013;File:           &#x27;&lt;safe path&gt;\\loader.ipynb&#x27;&#013;Type:           type\">pidgin.PidginImporter</span>(): None\n",
       "</code><p><code><span style=\"border-bottom: 1px dotted gray;\" title=\"Type:        module&#013;String form: &lt;module &#x27;pidgin&#x27; from &#x27;&#x27;&lt;safe path&gt;\\__init__.py&#x27;&#x27;&gt;&#013;File:        &#x27;&lt;safe path&gt;\\__init__.py&#x27;&#013;Docstring:   &lt;no docstring&gt;\">pidgin</span>\n",
       "</code> documents are recognized <code>\".md.ipynb\"\n",
       "</code> extension.\n",
       "<code><span style=\"border-bottom: 1px dotted gray;\" title=\"Type:        module&#013;String form: &lt;module &#x27;pidgin&#x27; from &#x27;&#x27;&lt;safe path&gt;\\__init__.py&#x27;&#x27;&gt;&#013;File:        &#x27;&lt;safe path&gt;\\__init__.py&#x27;&#013;Docstring:   &lt;no docstring&gt;\">pidgin</span>\n",
       "</code> documents render on <a href=\"#\" title=\"Type:        str&#013;String form: #&#013;Length:      1&#013;Docstring:  &#013;str(object=&#x27;&#x27;) -&gt; str&#013;str(bytes_or_buffer[, encoding[, errors]]) -&gt; str&#013;&#013;Create a new string object from the given object. If encoding or&#013;errors is specified, then the object must expose a data buffer&#013;that will be decoded using the given encoding and error handler.&#013;Otherwise, returns the result of object.__str__() (if defined)&#013;or repr(object).&#013;encoding defaults to sys.getdefaultencoding().&#013;errors defaults to &#x27;strict&#x27;.\">nbviewer</a>.  Get in the habit of creaitng reusable\n",
       "notebooks with <code><span style=\"border-bottom: 1px dotted gray;\" title=\"Type:        module&#013;String form: &lt;module &#x27;importnb&#x27; from &#x27;&#x27;&lt;safe path&gt;\\__init__.py&#x27;&#x27;&gt;&#013;File:        &#x27;&lt;safe path&gt;\\__init__.py&#x27;&#013;Docstring:   &lt;no docstring&gt;\">importnb</span>\n",
       "</code>.</p>\n"
      ],
      "text/markdown": [
       "## Importing `pidgin` documents.\n",
       "\n",
       "`pidgin` documents are notebooks that can be imported as __Python__ modules.\n",
       "\n",
       "\n",
       ">>> with pidgin.PidginImporter(): None\n",
       "\n",
       "`pidgin` documents are recognized `\"{{pidgin.PidginImporter.extensions[0]}}\"` extension.\n",
       "`pidgin` documents render on [nbviewer][nbviewer].  Get in the habit of creaitng reusable\n",
       "notebooks with `importnb`.\n",
       "\n",
       "[nbviewer]: #"
      ],
      "text/plain": [
       "'## Importing `pidgin` documents.\\n\\n`pidgin` documents are notebooks that can be imported as __Python__ modules.\\n\\n\\n>>> with pidgin.PidginImporter(): None\\n\\n`pidgin` documents are recognized `\"{{pidgin.PidginImporter.extensions[0]}}\"` extension.\\n`pidgin` documents render on [nbviewer][nbviewer].  Get in the habit of creaitng reusable\\nnotebooks with `importnb`.\\n\\n[nbviewer]: #'"
      ]
     },
     "metadata": {},
     "output_type": "display_data"
    }
   ],
   "source": [
    "## Importing `pidgin` documents.\n",
    "\n",
    "`pidgin` documents are notebooks that can be imported as __Python__ modules.\n",
    "\n",
    "\n",
    ">>> with pidgin.PidginImporter(): None\n",
    "\n",
    "`pidgin` documents are recognized `\"{{pidgin.PidginImporter.extensions[0]}}\"` extension.\n",
    "`pidgin` documents render on [nbviewer][nbviewer].  Get in the habit of creaitng reusable\n",
    "notebooks with `importnb`.\n",
    "\n",
    "[nbviewer]: #"
   ]
  },
  {
   "cell_type": "code",
   "execution_count": 6,
   "metadata": {},
   "outputs": [
    {
     "data": {
      "text/html": [
       "<a href=\"#implicit-doctesting\"><h3 id=\"implicit-doctesting\">Implicit doctesting.</h3>\n",
       "</a>\n"
      ],
      "text/markdown": [
       "### Implicit doctesting."
      ],
      "text/plain": [
       "'### Implicit doctesting.'"
      ]
     },
     "metadata": {},
     "output_type": "display_data"
    }
   ],
   "source": [
    "### Implicit doctesting."
   ]
  },
  {
   "cell_type": "code",
   "execution_count": 7,
   "metadata": {},
   "outputs": [
    {
     "data": {
      "text/html": [
       "<a href=\"#error-highlighting\"><h3 id=\"error-highlighting\">Error Highlighting</h3>\n",
       "</a>\n"
      ],
      "text/markdown": [
       "### Error Highlighting"
      ],
      "text/plain": [
       "'### Error Highlighting'"
      ]
     },
     "metadata": {},
     "output_type": "display_data"
    }
   ],
   "source": [
    "### Error Highlighting"
   ]
  },
  {
   "cell_type": "code",
   "execution_count": 8,
   "metadata": {},
   "outputs": [
    {
     "data": {
      "text/html": [
       "<a href=\"#publishing\"><h2 id=\"publishing\">Publishing</h2>\n",
       "</a>\n",
       "<p>nbconvert execlude input cells.</p>\n",
       "<a href=\"#suppressing-code\"><h3 id=\"suppressing-code\">Suppressing code</h3>\n",
       "</a>\n",
       "<a href=\"#suppressing-markdown\"><h3 id=\"suppressing-markdown\">Suppressing <strong>Markdown</strong></h3>\n",
       "</a>\n"
      ],
      "text/markdown": [
       "## Publishing\n",
       "\n",
       "nbconvert execlude input cells.\n",
       "\n",
       "### Suppressing code\n",
       "\n",
       "### Suppressing __Markdown__"
      ],
      "text/plain": [
       "'## Publishing\\n\\nnbconvert execlude input cells.\\n\\n### Suppressing code\\n\\n### Suppressing __Markdown__'"
      ]
     },
     "metadata": {},
     "output_type": "display_data"
    }
   ],
   "source": [
    "## Publishing\n",
    "\n",
    "nbconvert execlude input cells.\n",
    "\n",
    "### Suppressing code\n",
    "\n",
    "### Suppressing __Markdown__"
   ]
  },
  {
   "cell_type": "code",
   "execution_count": 9,
   "metadata": {},
   "outputs": [
    {
     "name": "stdout",
     "output_type": "stream",
     "text": [
      "The pidgin extension is already loaded. To reload it, use:\n",
      "  %reload_ext pidgin\n"
     ]
    }
   ],
   "source": [
    "    %load_ext pidgin"
   ]
  },
  {
   "cell_type": "code",
   "execution_count": 10,
   "metadata": {},
   "outputs": [
    {
     "data": {
      "text/html": [
       "<a href=\"#what-is-pidgin\"><h2 id=\"what-is-pidgin\">What is <code><span style=\"border-bottom: 1px dotted gray;\" title=\"Type:        module&#013;String form: &lt;module &#x27;pidgin&#x27; from &#x27;&#x27;&lt;safe path&gt;\\__init__.py&#x27;&#x27;&gt;&#013;File:        &#x27;&lt;safe path&gt;\\__init__.py&#x27;&#013;Docstring:   &lt;no docstring&gt;\">pidgin</span>\n",
       "</code></h2>\n",
       "</a>\n",
       "<code style=\"white-space: pre;\" title=\"\">    import <span style=\"border-bottom: 1px dotted gray;\" title=\"Type:        module&#013;String form: &lt;module &#x27;pidgin&#x27; from &#x27;&#x27;&lt;safe path&gt;\\__init__.py&#x27;&#x27;&gt;&#013;File:        &#x27;&lt;safe path&gt;\\__init__.py&#x27;&#013;Docstring:   &lt;no docstring&gt;\">pidgin</span>\n",
       "</code><p><code><span style=\"border-bottom: 1px dotted gray;\" title=\"Type:        module&#013;String form: &lt;module &#x27;pidgin&#x27; from &#x27;&#x27;&lt;safe path&gt;\\__init__.py&#x27;&#x27;&gt;&#013;File:        &#x27;&lt;safe path&gt;\\__init__.py&#x27;&#013;Docstring:   &lt;no docstring&gt;\">pidgin</span>\n",
       "</code> transforms notebook code cells to accept <strong>Markdown</strong> as source code. When \n",
       "a cell is run:</p>\n",
       "<ol>\n",
       "<li><p>The original <strong>Markdown</strong> source is transformed into valid Python.</p>\n",
       "</li>\n",
       "<li><p>The cell is executed as normal, and displays are presented as expected.</p>\n",
       "</li>\n",
       "<li><p>The original <strong>Markdown</strong> source is passed through a custom display object that will presented\n",
       "a formatted version of the <strong>Markdown</strong>.</p>\n",
       "</li>\n",
       "</ol>\n",
       "<p><code><span style=\"border-bottom: 1px dotted gray;\" title=\"Type:        module&#013;String form: &lt;module &#x27;pidgin&#x27; from &#x27;&#x27;&lt;safe path&gt;\\__init__.py&#x27;&#x27;&gt;&#013;File:        &#x27;&lt;safe path&gt;\\__init__.py&#x27;&#013;Docstring:   &lt;no docstring&gt;\">pidgin</span>\n",
       "</code> is designed to.....</p>\n"
      ],
      "text/markdown": [
       "## What is `pidgin`\n",
       "\n",
       "        import pidgin\n",
       "`pidgin` transforms notebook code cells to accept __Markdown__ as source code. When \n",
       "a cell is run:\n",
       "    \n",
       "1. The original __Markdown__ source is transformed into valid Python.\n",
       "2. The cell is executed as normal, and displays are presented as expected.\n",
       "3. The original __Markdown__ source is passed through a custom display object that will presented\n",
       "a formatted version of the __Markdown__.\n",
       "\n",
       "`pidgin` is designed to....."
      ],
      "text/plain": [
       "'## What is `pidgin`\\n\\n        import pidgin\\n`pidgin` transforms notebook code cells to accept __Markdown__ as source code. When \\na cell is run:\\n    \\n1. The original __Markdown__ source is transformed into valid Python.\\n2. The cell is executed as normal, and displays are presented as expected.\\n3. The original __Markdown__ source is passed through a custom display object that will presented\\na formatted version of the __Markdown__.\\n\\n`pidgin` is designed to.....'"
      ]
     },
     "metadata": {},
     "output_type": "display_data"
    }
   ],
   "source": [
    "## What is `pidgin`\n",
    "\n",
    "        import pidgin\n",
    "`pidgin` transforms notebook code cells to accept __Markdown__ as source code. When \n",
    "a cell is run:\n",
    "    \n",
    "1. The original __Markdown__ source is transformed into valid Python.\n",
    "2. The cell is executed as normal, and displays are presented as expected.\n",
    "3. The original __Markdown__ source is passed through a custom display object that will presented\n",
    "a formatted version of the __Markdown__.\n",
    "\n",
    "`pidgin` is designed to....."
   ]
  },
  {
   "cell_type": "markdown",
   "metadata": {},
   "source": [
    "Write code in __Markdown__."
   ]
  },
  {
   "cell_type": "code",
   "execution_count": 11,
   "metadata": {},
   "outputs": [
    {
     "data": {
      "text/html": [
       "<code style=\"white-space: pre;\" title=\"\">    %<span style=\"border-bottom: 1px dotted gray;\" title=\"Docstring: Reload an IPython extension by its module name.&#013;File:      &#x27;&lt;safe path&gt;\\extension.py&#x27;\">reload_ext</span> <span style=\"border-bottom: 1px dotted gray;\" title=\"Type:        module&#013;String form: &lt;module &#x27;pidgin&#x27; from &#x27;&#x27;&lt;safe path&gt;\\__init__.py&#x27;&#x27;&gt;&#013;File:        &#x27;&lt;safe path&gt;\\__init__.py&#x27;&#013;Docstring:   &lt;no docstring&gt;\">pidgin</span>\n",
       "</code><p><code>import <span style=\"border-bottom: 1px dotted gray;\" title=\"Type:        module&#013;String form: &lt;module &#x27;pidgin&#x27; from &#x27;&#x27;&lt;safe path&gt;\\__init__.py&#x27;&#x27;&gt;&#013;File:        &#x27;&lt;safe path&gt;\\__init__.py&#x27;&#013;Docstring:   &lt;no docstring&gt;\">pidgin</span>\n",
       "</code> allows <strong>Markdown</strong> as <strong>Code Cell</strong> source in <code><span style=\"border-bottom: 1px dotted gray;\" title=\"Type:        module&#013;String form: &lt;module &#x27;IPython&#x27; from &#x27;&#x27;&lt;safe path&gt;\\__init__.py&#x27;&#x27;&gt;&#013;File:        &#x27;&lt;safe path&gt;\\__init__.py&#x27;&#013;Docstring:  &#013;IPython: tools for interactive and parallel computing in Python.&#013;&#013;https://ipython.org\">IPython</span>\n",
       "</code>.</p>\n",
       "<ol>\n",
       "<li><p>The <strong>Markdown</strong> is converted to valid <strong>Python</strong> source.</p>\n",
       "</li>\n",
       "<li><p>The <strong>Python</strong> source is executed.</p>\n",
       "</li>\n",
       "<li><p>Any <code>\"doctest\"\n",
       "</code>s are evaluated.</p>\n",
       "</li>\n",
       "<li><p>All inline code is evaluated.</p>\n",
       "</li>\n",
       "<li><p>The <strong>Markdown</strong> source is display with special rules defined in <code><span style=\"border-bottom: 1px dotted gray;\" title=\"Type:        module&#013;String form: &lt;module &#x27;pidgin.display&#x27; from &#x27;&#x27;&lt;safe path&gt;\\display.md.ipynb&#x27;&#x27;&gt;&#013;File:        &#x27;&lt;safe path&gt;\\display.md.ipynb&#x27;&#013;Docstring:  &#013;`pidgin.display` is a collection of display rules for IPython objects.  &#013;&#013;`StringFormatter` is a class that adds reules for string `object`s.\">pidgin.display</span>\n",
       "</code> including <code>\"jinja2\"\n",
       "</code> templates\n",
       "for including data in the display.</p>\n",
       "<code style=\"white-space: pre;\" title=\"\"> import <span style=\"border-bottom: 1px dotted gray;\" title=\"Type:        module&#013;String form: &lt;module &#x27;IPython&#x27; from &#x27;&#x27;&lt;safe path&gt;\\__init__.py&#x27;&#x27;&gt;&#013;File:        &#x27;&lt;safe path&gt;\\__init__.py&#x27;&#013;Docstring:  &#013;IPython: tools for interactive and parallel computing in Python.&#013;&#013;https://ipython.org\">IPython</span>\n",
       "</code></li>\n",
       "</ol>\n",
       "<p>Each stuff must succeed without raising an <code>Exception\n",
       "</code>.</p>\n"
      ],
      "text/markdown": [
       "        %reload_ext pidgin\n",
       "`import pidgin` allows __Markdown__ as __Code Cell__ source in `IPython`.\n",
       "\n",
       "1. The __Markdown__ is converted to valid __Python__ source.\n",
       "2. The __Python__ source is executed.\n",
       "3. Any `\"doctest\"`s are evaluated.\n",
       "4. All inline code is evaluated.\n",
       "5. The __Markdown__ source is display with special rules defined in `pidgin.display` including `\"jinja2\"` templates\n",
       "for including data in the display.\n",
       "\n",
       "        import IPython\n",
       "\n",
       "Each stuff must succeed without raising an `Exception`.  "
      ],
      "text/plain": [
       "'        %reload_ext pidgin\\n`import pidgin` allows __Markdown__ as __Code Cell__ source in `IPython`.\\n\\n1. The __Markdown__ is converted to valid __Python__ source.\\n2. The __Python__ source is executed.\\n3. Any `\"doctest\"`s are evaluated.\\n4. All inline code is evaluated.\\n5. The __Markdown__ source is display with special rules defined in `pidgin.display` including `\"jinja2\"` templates\\nfor including data in the display.\\n\\n        import IPython\\n\\nEach stuff must succeed without raising an `Exception`.  '"
      ]
     },
     "metadata": {},
     "output_type": "display_data"
    }
   ],
   "source": [
    "        %reload_ext pidgin\n",
    "`import pidgin` allows __Markdown__ as __Code Cell__ source in `IPython`.\n",
    "\n",
    "1. The __Markdown__ is converted to valid __Python__ source.\n",
    "2. The __Python__ source is executed.\n",
    "3. Any `\"doctest\"`s are evaluated.\n",
    "4. All inline code is evaluated.\n",
    "5. The __Markdown__ source is display with special rules defined in `pidgin.display` including `\"jinja2\"` templates\n",
    "for including data in the display.\n",
    "\n",
    "        import IPython\n",
    "\n",
    "Each stuff must succeed without raising an `Exception`.  "
   ]
  },
  {
   "cell_type": "code",
   "execution_count": 12,
   "metadata": {},
   "outputs": [
    {
     "data": {
      "text/html": [
       "<a href=\"#benefits-of-pidgin\"><h2 id=\"benefits-of-pidgin\">Benefits of <code><span style=\"border-bottom: 1px dotted gray;\" title=\"Type:        module&#013;String form: &lt;module &#x27;pidgin&#x27; from &#x27;&#x27;&lt;safe path&gt;\\__init__.py&#x27;&#x27;&gt;&#013;File:        &#x27;&lt;safe path&gt;\\__init__.py&#x27;&#013;Docstring:   &lt;no docstring&gt;\">pidgin</span>\n",
       "</code></h2>\n",
       "</a>\n",
       "<ul>\n",
       "<li><p><code><span style=\"border-bottom: 1px dotted gray;\" title=\"Type:        module&#013;String form: &lt;module &#x27;pidgin&#x27; from &#x27;&#x27;&lt;safe path&gt;\\__init__.py&#x27;&#x27;&gt;&#013;File:        &#x27;&lt;safe path&gt;\\__init__.py&#x27;&#013;Docstring:   &lt;no docstring&gt;\">pidgin</span>\n",
       "</code> requires that all code in a document is valid.</p>\n",
       "</li>\n",
       "<li><p><code><span style=\"border-bottom: 1px dotted gray;\" title=\"Type:        module&#013;String form: &lt;module &#x27;pidgin&#x27; from &#x27;&#x27;&lt;safe path&gt;\\__init__.py&#x27;&#x27;&gt;&#013;File:        &#x27;&lt;safe path&gt;\\__init__.py&#x27;&#013;Docstring:   &lt;no docstring&gt;\">pidgin</span>\n",
       "</code> places tighter constraints on the <strong>Run All-ability</strong> of the document.</p>\n",
       "</li>\n",
       "<li><p><code><span style=\"border-bottom: 1px dotted gray;\" title=\"Type:        module&#013;String form: &lt;module &#x27;pidgin&#x27; from &#x27;&#x27;&lt;safe path&gt;\\__init__.py&#x27;&#x27;&gt;&#013;File:        &#x27;&lt;safe path&gt;\\__init__.py&#x27;&#013;Docstring:   &lt;no docstring&gt;\">pidgin</span>\n",
       "</code> encourages tighter weaving of code and narrative.</p>\n",
       "<code style=\"white-space: pre;\" title=\"\">  import <span style=\"border-bottom: 1px dotted gray;\" title=\"Type:        module&#013;String form: &lt;module &#x27;jinja2&#x27; from &#x27;&#x27;&lt;safe path&gt;\\__init__.py&#x27;&#x27;&gt;&#013;File:        &#x27;&lt;safe path&gt;\\__init__.py&#x27;&#013;Docstring:  &#013;jinja2&#013;~~~~~~&#013;&#013;Jinja2 is a template engine written in pure Python.  It provides a&#013;Django inspired non-XML syntax but supports inline expressions and&#013;an optional sandboxed environment.&#013;&#013;Nutshell&#013;--------&#013;&#013;Here a small example of a Jinja2 template::&#013;&#013;    {% extends &#x27;base.html&#x27; %}&#013;    {% block title %}Memberlist{% endblock %}&#013;    {% block content %}&#013;      &lt;ul&gt;&#013;      {% for user in users %}&#013;        &lt;li&gt;&lt;a href=&quot;{{ user.url }}&quot;&gt;{{ user.username }}&lt;/a&gt;&lt;/li&gt;&#013;      {% endfor %}&#013;      &lt;/ul&gt;&#013;    {% endblock %}&#013;&#013;&#013;:copyright: (c) 2017 by the Jinja Team.&#013;:license: BSD, see LICENSE for more details.\">jinja2</span>\n",
       "</code><p>Use <code><span style=\"border-bottom: 1px dotted gray;\" title=\"Type:        module&#013;String form: &lt;module &#x27;jinja2&#x27; from &#x27;&#x27;&lt;safe path&gt;\\__init__.py&#x27;&#x27;&gt;&#013;File:        &#x27;&lt;safe path&gt;\\__init__.py&#x27;&#013;Docstring:  &#013;jinja2&#013;~~~~~~&#013;&#013;Jinja2 is a template engine written in pure Python.  It provides a&#013;Django inspired non-XML syntax but supports inline expressions and&#013;an optional sandboxed environment.&#013;&#013;Nutshell&#013;--------&#013;&#013;Here a small example of a Jinja2 template::&#013;&#013;    {% extends &#x27;base.html&#x27; %}&#013;    {% block title %}Memberlist{% endblock %}&#013;    {% block content %}&#013;      &lt;ul&gt;&#013;      {% for user in users %}&#013;        &lt;li&gt;&lt;a href=&quot;{{ user.url }}&quot;&gt;{{ user.username }}&lt;/a&gt;&lt;/li&gt;&#013;      {% endfor %}&#013;      &lt;/ul&gt;&#013;    {% endblock %}&#013;&#013;&#013;:copyright: (c) 2017 by the Jinja Team.&#013;:license: BSD, see LICENSE for more details.\">jinja2</span>\n",
       "</code> syntaxes in <strong>Code Cells</strong>.  On the last display step with include \n",
       "  pretty representations of template expression.  The <code><span style=\"border-bottom: 1px dotted gray;\" title=\"Init signature: jinja2.Environment(block_start_string=&#x27;{%&#x27;, block_end_string=&#x27;%}&#x27;, variable_start_string=&#x27;{{&#x27;, variable_end_string=&#x27;}}&#x27;, comment_start_string=&#x27;{#&#x27;, comment_end_string=&#x27;#}&#x27;, line_statement_prefix=None, line_comment_prefix=None, trim_blocks=False, lstrip_blocks=False, newline_sequence=&#x27;&#x27;&lt;safe path&gt;\\n&#x27;&#x27;, keep_trailing_newline=False, extensions=(), optimized=True, undefined=&lt;class &#x27;jinja2.runtime.Undefined&#x27;&gt;, finalize=None, autoescape=False, loader=None, cache_size=400, auto_reload=True, bytecode_cache=None, enable_async=False)&#013;Docstring:     &#013;The core component of Jinja is the `Environment`.  It contains&#013;important shared variables like configuration, filters, tests,&#013;globals and others.  Instances of this class may be modified if&#013;they are not shared and if no template was loaded so far.&#013;Modifications on environments after the first template was loaded&#013;will lead to surprising effects and undefined behavior.&#013;&#013;Here are the possible initialization parameters:&#013;&#013;    `block_start_string`&#013;        The string marking the beginning of a block.  Defaults to ``&#x27;{%&#x27;``.&#013;&#013;    `block_end_string`&#013;        The string marking the end of a block.  Defaults to ``&#x27;%}&#x27;``.&#013;&#013;    `variable_start_string`&#013;        The string marking the beginning of a print statement.&#013;        Defaults to ``&#x27;{{&#x27;``.&#013;&#013;    `variable_end_string`&#013;        The string marking the end of a print statement.  Defaults to&#013;        ``&#x27;}}&#x27;``.&#013;&#013;    `comment_start_string`&#013;        The string marking the beginning of a comment.  Defaults to ``&#x27;{#&#x27;``.&#013;&#013;    `comment_end_string`&#013;        The string marking the end of a comment.  Defaults to ``&#x27;#}&#x27;``.&#013;&#013;    `line_statement_prefix`&#013;        If given and a string, this will be used as prefix for line based&#013;        statements.  See also :ref:`line-statements`.&#013;&#013;    `line_comment_prefix`&#013;        If given and a string, this will be used as prefix for line based&#013;        comments.  See also :ref:`line-statements`.&#013;&#013;        .. versionadded:: 2.2&#013;&#013;    `trim_blocks`&#013;        If this is set to ``True`` the first newline after a block is&#013;        removed (block, not variable tag!).  Defaults to `False`.&#013;&#013;    `lstrip_blocks`&#013;        If this is set to ``True`` leading spaces and tabs are stripped&#013;        from the start of a line to a block.  Defaults to `False`.&#013;&#013;    `newline_sequence`&#013;        The sequence that starts a newline.  Must be one of ``&#x27;&#x27;&lt;safe path&gt;\\r&#x27;&#x27;``,&#013;        ``&#x27;&#x27;&lt;safe path&gt;\\n&#x27;&#x27;`` or ``&#x27;&#x27;&lt;safe path&gt;\\n&#x27;&#x27;``.  The default is ``&#x27;&#x27;&lt;safe path&gt;\\n&#x27;&#x27;`` which is a&#013;        useful default for Linux and OS X systems as well as web&#013;        applications.&#013;&#013;    `keep_trailing_newline`&#013;        Preserve the trailing newline when rendering templates.&#013;        The default is ``False``, which causes a single newline,&#013;        if present, to be stripped from the end of the template.&#013;&#013;        .. versionadded:: 2.7&#013;&#013;    `extensions`&#013;        List of Jinja extensions to use.  This can either be import paths&#013;        as strings or extension classes.  For more information have a&#013;        look at :ref:`the extensions documentation &lt;jinja-extensions&gt;`.&#013;&#013;    `optimized`&#013;        should the optimizer be enabled?  Default is ``True``.&#013;&#013;    `undefined`&#013;        :class:`Undefined` or a subclass of it that is used to represent&#013;        undefined values in the template.&#013;&#013;    `finalize`&#013;        A callable that can be used to process the result of a variable&#013;        expression before it is output.  For example one can convert&#013;        ``None`` implicitly into an empty string here.&#013;&#013;    `autoescape`&#013;        If set to ``True`` the XML/HTML autoescaping feature is enabled by&#013;        default.  For more details about autoescaping see&#013;        :class:`~jinja2.utils.Markup`.  As of Jinja 2.4 this can also&#013;        be a callable that is passed the template name and has to&#013;        return ``True`` or ``False`` depending on autoescape should be&#013;        enabled by default.&#013;&#013;        .. versionchanged:: 2.4&#013;           `autoescape` can now be a function&#013;&#013;    `loader`&#013;        The template loader for this environment.&#013;&#013;    `cache_size`&#013;        The size of the cache.  Per default this is ``400`` which means&#013;        that if more than 400 templates are loaded the loader will clean&#013;        out the least recently used template.  If the cache size is set to&#013;        ``0`` templates are recompiled all the time, if the cache size is&#013;        ``-1`` the cache will not be cleaned.&#013;&#013;        .. versionchanged:: 2.8&#013;           The cache size was increased to 400 from a low 50.&#013;&#013;    `auto_reload`&#013;        Some loaders load templates from locations where the template&#013;        sources may change (ie: file system or database).  If&#013;        ``auto_reload`` is set to ``True`` (default) every time a template is&#013;        requested the loader checks if the source changed and if yes, it&#013;        will reload the template.  For higher performance it&#x27;s possible to&#013;        disable that.&#013;&#013;    `bytecode_cache`&#013;        If set to a bytecode cache object, this object will provide a&#013;        cache for the internal Jinja bytecode so that templates don&#x27;t&#013;        have to be parsed if they were not changed.&#013;&#013;        See :ref:`bytecode-cache` for more information.&#013;&#013;    `enable_async`&#013;        If set to true this enables async template execution which allows&#013;        you to take advantage of newer Python features.  This requires&#013;        Python 3.6 or later.&#013;File:           &#x27;&lt;safe path&gt;\\environment.py&#x27;&#013;Type:           type\">jinja2.Environment</span>\n",
       "</code> returns <strong>html</strong> formatted\n",
       "  display <code>object\n",
       "</code>s including <code>\"pandas\"\n",
       "</code> tables and <code>\"matplotlib\"\n",
       "</code> figures.</p>\n",
       "</li>\n",
       "<li><p><code><span style=\"border-bottom: 1px dotted gray;\" title=\"Type:        module&#013;String form: &lt;module &#x27;pidgin&#x27; from &#x27;&#x27;&lt;safe path&gt;\\__init__.py&#x27;&#x27;&gt;&#013;File:        &#x27;&lt;safe path&gt;\\__init__.py&#x27;&#013;Docstring:   &lt;no docstring&gt;\">pidgin</span>\n",
       "</code> separates display statements from compute statements.</p>\n",
       "</li>\n",
       "<li><p><code><span style=\"border-bottom: 1px dotted gray;\" title=\"Type:        module&#013;String form: &lt;module &#x27;pidgin&#x27; from &#x27;&#x27;&lt;safe path&gt;\\__init__.py&#x27;&#x27;&gt;&#013;File:        &#x27;&lt;safe path&gt;\\__init__.py&#x27;&#013;Docstring:   &lt;no docstring&gt;\">pidgin</span>\n",
       "</code> documents are importable because of <code>import <span style=\"border-bottom: 1px dotted gray;\" title=\"Type:        module&#013;String form: &lt;module &#x27;importnb&#x27; from &#x27;&#x27;&lt;safe path&gt;\\__init__.py&#x27;&#x27;&gt;&#013;File:        &#x27;&lt;safe path&gt;\\__init__.py&#x27;&#013;Docstring:   &lt;no docstring&gt;\">importnb</span>\n",
       "</code></p>\n",
       "</li>\n",
       "</ul>\n",
       "<pre><code class=\"lang-ipython\">with pidgin.PidginImporter(position=1):\n",
       "    from . import readme as readme\n",
       "</code></pre>\n"
      ],
      "text/markdown": [
       "## Benefits of `pidgin`\n",
       "\n",
       "* `pidgin` requires that all code in a document is valid.\n",
       "* `pidgin` places tighter constraints on the __Run All-ability__ of the document.\n",
       "* `pidgin` encourages tighter weaving of code and narrative.\n",
       "\n",
       "        import jinja2\n",
       "    Use `jinja2` syntaxes in __Code Cells__.  On the last display step with include \n",
       "    pretty representations of template expression.  The `jinja2.Environment` returns __html__ formatted\n",
       "    display `object`s including `\"pandas\"` tables and `\"matplotlib\"` figures.\n",
       "* `pidgin` separates display statements from compute statements.\n",
       "* `pidgin` documents are importable because of `import importnb`        \n",
       "\n",
       "```ipython\n",
       "with pidgin.PidginImporter(position=1):\n",
       "    from . import readme as readme\n",
       "```"
      ],
      "text/plain": [
       "'## Benefits of `pidgin`\\n\\n* `pidgin` requires that all code in a document is valid.\\n* `pidgin` places tighter constraints on the __Run All-ability__ of the document.\\n* `pidgin` encourages tighter weaving of code and narrative.\\n\\n        import jinja2\\n    Use `jinja2` syntaxes in __Code Cells__.  On the last display step with include \\n    pretty representations of template expression.  The `jinja2.Environment` returns __html__ formatted\\n    display `object`s including `\"pandas\"` tables and `\"matplotlib\"` figures.\\n* `pidgin` separates display statements from compute statements.\\n* `pidgin` documents are importable because of `import importnb`        \\n\\n```ipython\\nwith pidgin.PidginImporter(position=1):\\n    from . import readme as readme\\n```'"
      ]
     },
     "metadata": {},
     "output_type": "display_data"
    }
   ],
   "source": [
    "## Benefits of `pidgin`\n",
    "\n",
    "* `pidgin` requires that all code in a document is valid.\n",
    "* `pidgin` places tighter constraints on the __Run All-ability__ of the document.\n",
    "* `pidgin` encourages tighter weaving of code and narrative.\n",
    "\n",
    "        import jinja2\n",
    "    Use `jinja2` syntaxes in __Code Cells__.  On the last display step with include \n",
    "    pretty representations of template expression.  The `jinja2.Environment` returns __html__ formatted\n",
    "    display `object`s including `\"pandas\"` tables and `\"matplotlib\"` figures.\n",
    "* `pidgin` separates display statements from compute statements.\n",
    "* `pidgin` documents are importable because of `import importnb`        \n",
    "\n",
    "```ipython\n",
    "with pidgin.PidginImporter(position=1):\n",
    "    from . import readme as readme\n",
    "```"
   ]
  },
  {
   "cell_type": "markdown",
   "metadata": {},
   "source": [
    "`pidgin` introduces __.md.ipynb__, a hybird file extension, to identity __Markdown__ forward computational essays. When\n",
    "this document (`readme`) is imported we can `assert readme.__file__.endswith('.md.ipynb')`."
   ]
  },
  {
   "cell_type": "code",
   "execution_count": 13,
   "metadata": {},
   "outputs": [
    {
     "data": {
      "text/html": [
       "<a href=\"#pidgin-works-with\"><h2 id=\"pidgin-works-with\"><code><span style=\"border-bottom: 1px dotted gray;\" title=\"Type:        module&#013;String form: &lt;module &#x27;pidgin&#x27; from &#x27;&#x27;&lt;safe path&gt;\\__init__.py&#x27;&#x27;&gt;&#013;File:        &#x27;&lt;safe path&gt;\\__init__.py&#x27;&#013;Docstring:   &lt;no docstring&gt;\">pidgin</span>\n",
       "</code> works with</h2>\n",
       "</a>\n",
       "<ul>\n",
       "<li><p><strong><em>Binder</em></strong> <a href=\"https://mybinder.org/v2/gh/deathbeds/pidgin/master?filepath=readme_pidgin.md.ipynb\"><img src=\"https://mybinder.org/badge.svg\" alt=\"Binder\"></a></p>\n",
       "<p>Take <code><span style=\"border-bottom: 1px dotted gray;\" title=\"Type:        module&#013;String form: &lt;module &#x27;pidgin&#x27; from &#x27;&#x27;&lt;safe path&gt;\\__init__.py&#x27;&#x27;&gt;&#013;File:        &#x27;&lt;safe path&gt;\\__init__.py&#x27;&#013;Docstring:   &lt;no docstring&gt;\">pidgin</span>\n",
       "</code> for a spin on <a href=\"https://mybinder.org/v2/gh/deathbeds/pidgin/master?filepath=readme.ipynb\"><strong><em>Binder</em></strong></a>.</p>\n",
       "</li>\n",
       "<li><p><strong><em>Pytest</em></strong> <a href=\"https://github.com/pytest-dev\"><img src=\"https://avatars1.githubusercontent.com/u/8897583?s=40&amp;v=4\" alt=\"\"></a></p>\n",
       "<p><code><span style=\"border-bottom: 1px dotted gray;\" title=\"Type:        module&#013;String form: &lt;module &#x27;pidgin&#x27; from &#x27;&#x27;&lt;safe path&gt;\\__init__.py&#x27;&#x27;&gt;&#013;File:        &#x27;&lt;safe path&gt;\\__init__.py&#x27;&#013;Docstring:   &lt;no docstring&gt;\">pidgin</span>\n",
       "</code> works great with the <a href=\"https://github.com/computationalmodelling/nbval\"><strong>nbval</strong></a> and <a href=\"https://github.com/deathbeds/importnb\"><strong>importnb</strong></a> notebook specific pytest extensions.  <code><span style=\"border-bottom: 1px dotted gray;\" title=\"Type:        module&#013;String form: &lt;module &#x27;pidgin&#x27; from &#x27;&#x27;&lt;safe path&gt;\\__init__.py&#x27;&#x27;&gt;&#013;File:        &#x27;&lt;safe path&gt;\\__init__.py&#x27;&#013;Docstring:   &lt;no docstring&gt;\">pidgin</span>\n",
       "</code> itself is a <code>import <span style=\"border-bottom: 1px dotted gray;\" title=\"Type:        module&#013;String form: &lt;module &#x27;pytest&#x27; from &#x27;&#x27;&lt;safe path&gt;\\pytest.py&#x27;&#x27;&gt;&#013;File:        &#x27;&lt;safe path&gt;\\pytest.py&#x27;&#013;Docstring:   pytest: unit and functional testing with Python.\">pytest</span>\n",
       "</code>\n",
       "  plugin that permits tests with <strong>.md.ipynb</strong> and <strong>.md</strong> extensions.</p>\n",
       "<p><strong><em>Pro Tip</em></strong> test <code><span style=\"border-bottom: 1px dotted gray;\" title=\"Type:        module&#013;String form: &lt;module &#x27;IPython&#x27; from &#x27;&#x27;&lt;safe path&gt;\\__init__.py&#x27;&#x27;&gt;&#013;File:        &#x27;&lt;safe path&gt;\\__init__.py&#x27;&#013;Docstring:  &#013;IPython: tools for interactive and parallel computing in Python.&#013;&#013;https://ipython.org\">IPython</span>\n",
       "</code> specific features using <strong>ipython</strong> as the <code><span style=\"border-bottom: 1px dotted gray;\" title=\"Type:        module&#013;String form: &lt;module &#x27;pytest&#x27; from &#x27;&#x27;&lt;safe path&gt;\\pytest.py&#x27;&#x27;&gt;&#013;File:        &#x27;&lt;safe path&gt;\\pytest.py&#x27;&#013;Docstring:   pytest: unit and functional testing with Python.\">pytest</span>\n",
       "</code> runner instead of <strong>python</strong> <code>#!ipython -m pytest -- --collect-only\n",
       "</code></p>\n",
       "</li>\n",
       "<li><p><strong><em>Jupyter</em></strong> <a href=\"https://github.com/jupyterlab\"><img src=\"https://avatars1.githubusercontent.com/u/7388996?s=40\" alt=\"\"></a></p>\n",
       "</li>\n",
       "<li><p><strong><em>JupyterLab</em></strong> <a href=\"https://github.com/jupyterlab\"><img src=\"https://avatars1.githubusercontent.com/u/22800682?s=40\" alt=\"\"></a></p>\n",
       "</li>\n",
       "<li><p><strong><em>Google Colaboratory</em></strong> <a href=\"https://colab.research.google.com/github/deathbeds/pidgin/blob/mistune/readme.ipynb\"><img src=\"https://avatars0.githubusercontent.com/u/33467679?s=40\" alt=\"\"></a></p>\n",
       "</li>\n",
       "<li><p><strong><em>nteract</em></strong> <a href=\"https://nteract.io\"><img src=\"https://avatars0.githubusercontent.com/u/12401040?s=40\" alt=\"\"></a></p>\n",
       "</li>\n",
       "</ul>\n"
      ],
      "text/markdown": [
       "## `pidgin` works with\n",
       "\n",
       "* __*Binder*__ [![Binder](https://mybinder.org/badge.svg)](https://mybinder.org/v2/gh/deathbeds/pidgin/master?filepath=readme_pidgin.md.ipynb) \n",
       "\n",
       "    Take `pidgin` for a spin on [__*Binder*__](https://mybinder.org/v2/gh/deathbeds/pidgin/master?filepath=readme.ipynb).\n",
       "* __*Pytest*__ [![](https://avatars1.githubusercontent.com/u/8897583?s=40&v=4)](https://github.com/pytest-dev) \n",
       "\n",
       "    `pidgin` works great with the [__nbval__](https://github.com/computationalmodelling/nbval) and [__importnb__](https://github.com/deathbeds/importnb) notebook specific pytest extensions.  `pidgin` itself is a `import pytest`\n",
       "    plugin that permits tests with __.md.ipynb__ and __.md__ extensions.\n",
       "    \n",
       "    __*Pro Tip*__ test `IPython` specific features using __ipython__ as the `pytest` runner instead of __python__ `#!ipython -m pytest -- --collect-only`\n",
       "* __*Jupyter*__ [![](https://avatars1.githubusercontent.com/u/7388996?s=40)](https://github.com/jupyterlab) \n",
       "* __*JupyterLab*__ [![](https://avatars1.githubusercontent.com/u/22800682?s=40)](https://github.com/jupyterlab) \n",
       "* __*Google Colaboratory*__ [![](https://avatars0.githubusercontent.com/u/33467679?s=40)](https://colab.research.google.com/github/deathbeds/pidgin/blob/mistune/readme.ipynb)\n",
       "* __*nteract*__ [![](https://avatars0.githubusercontent.com/u/12401040?s=40)](https://nteract.io)"
      ],
      "text/plain": [
       "'## `pidgin` works with\\n\\n* __*Binder*__ [![Binder](https://mybinder.org/badge.svg)](https://mybinder.org/v2/gh/deathbeds/pidgin/master?filepath=readme_pidgin.md.ipynb) \\n\\n    Take `pidgin` for a spin on [__*Binder*__](https://mybinder.org/v2/gh/deathbeds/pidgin/master?filepath=readme.ipynb).\\n* __*Pytest*__ [![](https://avatars1.githubusercontent.com/u/8897583?s=40&v=4)](https://github.com/pytest-dev) \\n\\n    `pidgin` works great with the [__nbval__](https://github.com/computationalmodelling/nbval) and [__importnb__](https://github.com/deathbeds/importnb) notebook specific pytest extensions.  `pidgin` itself is a `import pytest`\\n    plugin that permits tests with __.md.ipynb__ and __.md__ extensions.\\n    \\n    __*Pro Tip*__ test `IPython` specific features using __ipython__ as the `pytest` runner instead of __python__ `#!ipython -m pytest -- --collect-only`\\n* __*Jupyter*__ [![](https://avatars1.githubusercontent.com/u/7388996?s=40)](https://github.com/jupyterlab) \\n* __*JupyterLab*__ [![](https://avatars1.githubusercontent.com/u/22800682?s=40)](https://github.com/jupyterlab) \\n* __*Google Colaboratory*__ [![](https://avatars0.githubusercontent.com/u/33467679?s=40)](https://colab.research.google.com/github/deathbeds/pidgin/blob/mistune/readme.ipynb)\\n* __*nteract*__ [![](https://avatars0.githubusercontent.com/u/12401040?s=40)](https://nteract.io)'"
      ]
     },
     "metadata": {},
     "output_type": "display_data"
    }
   ],
   "source": [
    "## `pidgin` works with\n",
    "\n",
    "* __*Binder*__ [![Binder](https://mybinder.org/badge.svg)](https://mybinder.org/v2/gh/deathbeds/pidgin/master?filepath=readme_pidgin.md.ipynb) \n",
    "\n",
    "    Take `pidgin` for a spin on [__*Binder*__](https://mybinder.org/v2/gh/deathbeds/pidgin/master?filepath=readme.ipynb).\n",
    "* __*Pytest*__ [![](https://avatars1.githubusercontent.com/u/8897583?s=40&v=4)](https://github.com/pytest-dev) \n",
    "\n",
    "    `pidgin` works great with the [__nbval__](https://github.com/computationalmodelling/nbval) and [__importnb__](https://github.com/deathbeds/importnb) notebook specific pytest extensions.  `pidgin` itself is a `import pytest`\n",
    "    plugin that permits tests with __.md.ipynb__ and __.md__ extensions.\n",
    "    \n",
    "    __*Pro Tip*__ test `IPython` specific features using __ipython__ as the `pytest` runner instead of __python__ `#!ipython -m pytest -- --collect-only`\n",
    "* __*Jupyter*__ [![](https://avatars1.githubusercontent.com/u/7388996?s=40)](https://github.com/jupyterlab) \n",
    "* __*JupyterLab*__ [![](https://avatars1.githubusercontent.com/u/22800682?s=40)](https://github.com/jupyterlab) \n",
    "* __*Google Colaboratory*__ [![](https://avatars0.githubusercontent.com/u/33467679?s=40)](https://colab.research.google.com/github/deathbeds/pidgin/blob/mistune/readme.ipynb)\n",
    "* __*nteract*__ [![](https://avatars0.githubusercontent.com/u/12401040?s=40)](https://nteract.io)"
   ]
  },
  {
   "cell_type": "code",
   "execution_count": 14,
   "metadata": {},
   "outputs": [
    {
     "data": {
      "text/html": [
       "<a href=\"#architecture\"><h2 id=\"architecture\">Architecture</h2>\n",
       "</a>\n",
       "<p>The <code><span style=\"border-bottom: 1px dotted gray;\" title=\"Type:        module&#013;String form: &lt;module &#x27;pidgin&#x27; from &#x27;&#x27;&lt;safe path&gt;\\__init__.py&#x27;&#x27;&gt;&#013;File:        &#x27;&lt;safe path&gt;\\__init__.py&#x27;&#013;Docstring:   &lt;no docstring&gt;\">pidgin</span>\n",
       "</code> source is written almost entirely in Jupyter notebooks.  The hope is that the notebooks will serve as an important\n",
       "interactive resourcing in the early development.  As the project matures, <code><span style=\"border-bottom: 1px dotted gray;\" title=\"Type:        module&#013;String form: &lt;module &#x27;pidgin&#x27; from &#x27;&#x27;&lt;safe path&gt;\\__init__.py&#x27;&#x27;&gt;&#013;File:        &#x27;&lt;safe path&gt;\\__init__.py&#x27;&#013;Docstring:   &lt;no docstring&gt;\">pidgin</span>\n",
       "</code> will adopt different combinations of python\n",
       "and notebook files.</p>\n",
       "<code style=\"white-space: pre;\" title=\"\"><span style=\"border-bottom: 1px dotted gray;\" title=\"Type:           ZMQInteractiveShell&#013;String form:    &lt;ipykernel.zmqshell.ZMQInteractiveShell object at 0x000001BA1AF1A048&gt;&#013;File:           &#x27;&lt;safe path&gt;\\zmqshell.py&#x27;&#013;Docstring:      A subclass of InteractiveShell for ZMQ.&#013;Init docstring:&#013;Create a configurable given a config config.&#013;&#013;Parameters&#013;----------&#013;config : Config&#013;    If this is empty, default values are used. If config is a&#013;    :class:`Config` instance, it will be used to configure the&#013;    instance.&#013;parent : Configurable instance, optional&#013;    The parent Configurable instance of this object.&#013;&#013;Notes&#013;-----&#013;Subclasses of Configurable must call the :meth:`__init__` method of&#013;:class:`Configurable` *before* doing anything else and using&#013;:func:`super`::&#013;&#013;    class MyConfigurable(Configurable):&#013;        def __init__(self, config=None):&#013;            super(MyConfigurable, self).__init__(config=config)&#013;            # Then any other code you need to finish initialization.&#013;&#013;This ensures that instances will be configured properly.\">ip</span> = <span style=\"border-bottom: 1px dotted gray;\" title=\"Signature: IPython.get_ipython()&#013;Docstring:&#013;Get the global InteractiveShell instance.&#013;&#013;Returns None if no InteractiveShell instance is registered.&#013;File:      &#x27;&lt;safe path&gt;\\getipython.py&#x27;&#013;Type:      function\">IPython.get_ipython</span>()\n",
       "</code><p><code><span style=\"border-bottom: 1px dotted gray;\" title=\"Type:        module&#013;String form: &lt;module &#x27;pidgin&#x27; from &#x27;&#x27;&lt;safe path&gt;\\__init__.py&#x27;&#x27;&gt;&#013;File:        &#x27;&lt;safe path&gt;\\__init__.py&#x27;&#013;Docstring:   &lt;no docstring&gt;\">pidgin</span>\n",
       "</code> is architected as a collection of <code><span style=\"border-bottom: 1px dotted gray;\" title=\"Type:        module&#013;String form: &lt;module &#x27;IPython&#x27; from &#x27;&#x27;&lt;safe path&gt;\\__init__.py&#x27;&#x27;&gt;&#013;File:        &#x27;&lt;safe path&gt;\\__init__.py&#x27;&#013;Docstring:  &#013;IPython: tools for interactive and parallel computing in Python.&#013;&#013;https://ipython.org\">IPython</span>\n",
       "</code> extensions that modify <code><span style=\"border-bottom: 1px dotted gray;\" title=\"Type:           ZMQInteractiveShell&#013;String form:    &lt;ipykernel.zmqshell.ZMQInteractiveShell object at 0x000001BA1AF1A048&gt;&#013;File:           &#x27;&lt;safe path&gt;\\zmqshell.py&#x27;&#013;Docstring:      A subclass of InteractiveShell for ZMQ.&#013;Init docstring:&#013;Create a configurable given a config config.&#013;&#013;Parameters&#013;----------&#013;config : Config&#013;    If this is empty, default values are used. If config is a&#013;    :class:`Config` instance, it will be used to configure the&#013;    instance.&#013;parent : Configurable instance, optional&#013;    The parent Configurable instance of this object.&#013;&#013;Notes&#013;-----&#013;Subclasses of Configurable must call the :meth:`__init__` method of&#013;:class:`Configurable` *before* doing anything else and using&#013;:func:`super`::&#013;&#013;    class MyConfigurable(Configurable):&#013;        def __init__(self, config=None):&#013;            super(MyConfigurable, self).__init__(config=config)&#013;            # Then any other code you need to finish initialization.&#013;&#013;This ensures that instances will be configured properly.\">ip</span> = <span style=\"border-bottom: 1px dotted gray;\" title=\"Signature: IPython.get_ipython()&#013;Docstring:&#013;Get the global InteractiveShell instance.&#013;&#013;Returns None if no InteractiveShell instance is registered.&#013;File:      &#x27;&lt;safe path&gt;\\getipython.py&#x27;&#013;Type:      function\">IPython.get_ipython</span>()\n",
       "</code> and <code><span style=\"border-bottom: 1px dotted gray;\" title=\"Type:            IPythonKernel&#013;String form:     &lt;ipykernel.ipkernel.IPythonKernel object at 0x000001BA1AEDEF60&gt;&#013;File:            &#x27;&lt;safe path&gt;\\ipkernel.py&#x27;&#013;Docstring:       &lt;no docstring&gt;&#013;Class docstring:&#013;A configurable that only allows one instance.&#013;&#013;This class is for classes that should only have one instance of itself&#013;or *any* subclass. To create and retrieve such a class use the&#013;:meth:`SingletonConfigurable.instance` method.&#013;Init docstring: &#013;Create a configurable given a config config.&#013;&#013;Parameters&#013;----------&#013;config : Config&#013;    If this is empty, default values are used. If config is a&#013;    :class:`Config` instance, it will be used to configure the&#013;    instance.&#013;parent : Configurable instance, optional&#013;    The parent Configurable instance of this object.&#013;&#013;Notes&#013;-----&#013;Subclasses of Configurable must call the :meth:`__init__` method of&#013;:class:`Configurable` *before* doing anything else and using&#013;:func:`super`::&#013;&#013;    class MyConfigurable(Configurable):&#013;        def __init__(self, config=None):&#013;            super(MyConfigurable, self).__init__(config=config)&#013;            # Then any other code you need to finish initialization.&#013;&#013;This ensures that instances will be configured properly.\">ip.kernel</span>\n",
       "</code>.</p>\n",
       "<code style=\"white-space: pre;\" title=\"\">if 0:\n",
       "    %<span style=\"border-bottom: 1px dotted gray;\" title=\"Docstring: Reload an IPython extension by its module name.&#013;File:      &#x27;&lt;safe path&gt;\\extension.py&#x27;\">reload_ext</span> <span style=\"border-bottom: 1px dotted gray;\" title=\"Type:        module&#013;String form: &lt;module &#x27;pidgin&#x27; from &#x27;&#x27;&lt;safe path&gt;\\__init__.py&#x27;&#x27;&gt;&#013;File:        &#x27;&lt;safe path&gt;\\__init__.py&#x27;&#013;Docstring:   &lt;no docstring&gt;\">pidgin</span>\n",
       "</code><p>Each component of <code><span style=\"border-bottom: 1px dotted gray;\" title=\"Type:        module&#013;String form: &lt;module &#x27;pidgin&#x27; from &#x27;&#x27;&lt;safe path&gt;\\__init__.py&#x27;&#x27;&gt;&#013;File:        &#x27;&lt;safe path&gt;\\__init__.py&#x27;&#013;Docstring:   &lt;no docstring&gt;\">pidgin</span>\n",
       "</code> can be loaded individually.</p>\n",
       "<code style=\"white-space: pre;\" title=\"\">    %<span style=\"border-bottom: 1px dotted gray;\" title=\"Docstring: Reload an IPython extension by its module name.&#013;File:      &#x27;&lt;safe path&gt;\\extension.py&#x27;\">reload_ext</span> <span style=\"border-bottom: 1px dotted gray;\" title=\"Type:            ModuleType&#013;String form:     &lt;module &#x27;pidgin.tangle&#x27; from &#x27;&#x27;&lt;safe path&gt;\\tangle.ipynb&#x27;&#x27;&gt;&#013;File:            &#x27;&lt;safe path&gt;\\tangle.ipynb&#x27;&#013;Docstring:      &#013;The `pidgin.tangle` module allows __Markdown__ as source code.  __Tangling__ is the first phase of a literate &#013;computing REPL.  The __tangle__ step converts documentation forward __Markdown__ to __Python__ code &#013;based on a set of rules defined on __Markdown__ block code objects.  `pidgin.tangle` only relies on a&#013;the `mistune.BlockLexer` step to transform code.&#013;&#013;This module exports a magic to experiments with the output syntax.  _The output could probably be cooler._&#013;&#013;A few configurable variables are placed on the `IPython` shell.&#013;&#013;### The `IPython` tangle step&#013;&#013;The `IPython` tangle phase is broken down below.  An input string is passed through `string` and `ast.NodeTransformer` &#013;methods to `compile` valid __Python__ byte code.&#013;&#013;1. `ip.input_transformer_manager.transform_cell` should return valid python code.  There are two steps:&#013;&#013;    1. `ip.input_transformers_cleanup` modifies the source input; `pidgin.tangle.markdown_to_python` is the first transformer visited.&#013;    0. `ip.input_transformers_post` should return a valid __Python__ source string.&#013;0. `ip.compile.ast_parse` converts the string to `ast`&#013;0. `ip.ast_transformers` are `ast.NodeTransformer`s applied to each node in the `ast`.&#013;&#013;    `pidgin.tangle` adds the ability reference the `return` statement outside of a function ala the [`%autoawait` magic][autoawait].&#013;0. `ip.compile` convert the `ast` notes to `compile` bytecode.&#013;&#013;[_More information about the input transforms can be found on the `IPython` documentation._][input transforms]&#013;&#013;[autoawait]: https://ipython.readthedocs.io/en/stable/interactive/autoawait.html&#013;[input transforms]: ip.input_transformers_cleanup&#013;Class docstring: ModuleType combines a module with a PathLike access to simplify access.\">pidgin.tangle</span>\n",
       "    %<span style=\"border-bottom: 1px dotted gray;\" title=\"Docstring: Reload an IPython extension by its module name.&#013;File:      &#x27;&lt;safe path&gt;\\extension.py&#x27;\">reload_ext</span> <span style=\"border-bottom: 1px dotted gray;\" title=\"Type:        module&#013;String form: &lt;module &#x27;pidgin.display&#x27; from &#x27;&#x27;&lt;safe path&gt;\\display.md.ipynb&#x27;&#x27;&gt;&#013;File:        &#x27;&lt;safe path&gt;\\display.md.ipynb&#x27;&#013;Docstring:  &#013;`pidgin.display` is a collection of display rules for IPython objects.  &#013;&#013;`StringFormatter` is a class that adds reules for string `object`s.\">pidgin.display</span>\n",
       "    %<span style=\"border-bottom: 1px dotted gray;\" title=\"Docstring: Reload an IPython extension by its module name.&#013;File:      &#x27;&lt;safe path&gt;\\extension.py&#x27;\">reload_ext</span> <span style=\"border-bottom: 1px dotted gray;\" title=\"Type:        module&#013;String form: &lt;module &#x27;pidgin.inspector&#x27; from &#x27;&#x27;&lt;safe path&gt;\\inspector.md.ipynb&#x27;&#x27;&gt;&#013;File:        &#x27;&lt;safe path&gt;\\inspector.md.ipynb&#x27;&#013;Docstring:  &#013;_A way to innovate quicker is to increase the value of a keystroke._&#013;&#013;In this module we enhance the `ip.kernel.do_inspect` method.  The modifications to the inspector should accelerate discovery during comptational.&#013;An author of a `pidgin` document will use __Shift+Tab__ to invoke the inspector, or they will use __The Inspector__ in [__JupyterLab__](https://github.com/jupyterlab/jupyterlab/).&#013;&#013;    import pidgin, IPython; ip = IPython.get_ipython()\">pidgin.inspector</span>\n",
       "    %<span style=\"border-bottom: 1px dotted gray;\" title=\"Docstring: Reload an IPython extension by its module name.&#013;File:      &#x27;&lt;safe path&gt;\\extension.py&#x27;\">reload_ext</span> pidgin.post_run_cell\n",
       "</code>"
      ],
      "text/markdown": [
       "## Architecture\n",
       "\n",
       "The `pidgin` source is written almost entirely in Jupyter notebooks.  The hope is that the notebooks will serve as an important\n",
       "interactive resourcing in the early development.  As the project matures, `pidgin` will adopt different combinations of python\n",
       "and notebook files.\n",
       "\n",
       "    ip = IPython.get_ipython()\n",
       "`pidgin` is architected as a collection of `IPython` extensions that modify `ip = IPython.get_ipython()` and `ip.kernel`.\n",
       "\n",
       "    if 0:\n",
       "        %reload_ext pidgin\n",
       "    \n",
       "Each component of `pidgin` can be loaded individually.\n",
       "\n",
       "        %reload_ext pidgin.tangle\n",
       "        %reload_ext pidgin.display\n",
       "        %reload_ext pidgin.inspector\n",
       "        %reload_ext pidgin.post_run_cell"
      ],
      "text/plain": [
       "'## Architecture\\n\\nThe `pidgin` source is written almost entirely in Jupyter notebooks.  The hope is that the notebooks will serve as an important\\ninteractive resourcing in the early development.  As the project matures, `pidgin` will adopt different combinations of python\\nand notebook files.\\n\\n    ip = IPython.get_ipython()\\n`pidgin` is architected as a collection of `IPython` extensions that modify `ip = IPython.get_ipython()` and `ip.kernel`.\\n\\n    if 0:\\n        %reload_ext pidgin\\n    \\nEach component of `pidgin` can be loaded individually.\\n\\n        %reload_ext pidgin.tangle\\n        %reload_ext pidgin.display\\n        %reload_ext pidgin.inspector\\n        %reload_ext pidgin.post_run_cell'"
      ]
     },
     "metadata": {},
     "output_type": "display_data"
    }
   ],
   "source": [
    "## Architecture\n",
    "\n",
    "The `pidgin` source is written almost entirely in Jupyter notebooks.  The hope is that the notebooks will serve as an important\n",
    "interactive resourcing in the early development.  As the project matures, `pidgin` will adopt different combinations of python\n",
    "and notebook files.\n",
    "\n",
    "    ip = IPython.get_ipython()\n",
    "`pidgin` is architected as a collection of `IPython` extensions that modify `ip = IPython.get_ipython()` and `ip.kernel`.\n",
    "\n",
    "    if 0:\n",
    "        %reload_ext pidgin\n",
    "    \n",
    "Each component of `pidgin` can be loaded individually.\n",
    "\n",
    "        %reload_ext pidgin.tangle\n",
    "        %reload_ext pidgin.display\n",
    "        %reload_ext pidgin.inspector\n",
    "        %reload_ext pidgin.post_run_cell"
   ]
  },
  {
   "cell_type": "code",
   "execution_count": 15,
   "metadata": {},
   "outputs": [
    {
     "data": {
      "text/html": [
       "<a href=\"#roadmap\"><h2 id=\"roadmap\">Roadmap</h2>\n",
       "</a>\n",
       "<ul>\n",
       "<li><p><code><span style=\"border-bottom: 1px dotted gray;\" title=\"Type:        module&#013;String form: &lt;module &#x27;pidgin&#x27; from &#x27;&#x27;&lt;safe path&gt;\\__init__.py&#x27;&#x27;&gt;&#013;File:        &#x27;&lt;safe path&gt;\\__init__.py&#x27;&#013;Docstring:   &lt;no docstring&gt;\">pidgin</span>\n",
       "</code> should become an <code>import <span style=\"border-bottom: 1px dotted gray;\" title=\"Type:        module&#013;String form: &lt;module &#x27;ipykernel&#x27; from &#x27;&#x27;&lt;safe path&gt;\\__init__.py&#x27;&#x27;&gt;&#013;File:        &#x27;&lt;safe path&gt;\\__init__.py&#x27;&#013;Docstring:   &lt;no docstring&gt;\">ipykernel</span>\n",
       "</code>.</p>\n",
       "</li>\n",
       "<li><p><code><span style=\"border-bottom: 1px dotted gray;\" title=\"Type:        module&#013;String form: &lt;module &#x27;pidgin&#x27; from &#x27;&#x27;&lt;safe path&gt;\\__init__.py&#x27;&#x27;&gt;&#013;File:        &#x27;&lt;safe path&gt;\\__init__.py&#x27;&#013;Docstring:   &lt;no docstring&gt;\">pidgin</span>\n",
       "</code> should extend to other ipykernels.</p>\n",
       "</li>\n",
       "<li><p><code><span style=\"border-bottom: 1px dotted gray;\" title=\"Type:        module&#013;String form: &lt;module &#x27;pidgin&#x27; from &#x27;&#x27;&lt;safe path&gt;\\__init__.py&#x27;&#x27;&gt;&#013;File:        &#x27;&lt;safe path&gt;\\__init__.py&#x27;&#013;Docstring:   &lt;no docstring&gt;\">pidgin</span>\n",
       "</code> should become an <code>import <span style=\"border-bottom: 1px dotted gray;\" title=\"Type:        module&#013;String form: &lt;module &#x27;nbconvert.nbconvertapp&#x27; from &#x27;&#x27;&lt;safe path&gt;\\nbconvertapp.py&#x27;&#x27;&gt;&#013;File:        &#x27;&lt;safe path&gt;\\nbconvertapp.py&#x27;&#013;Docstring:  &#013;NbConvert is a utility for conversion of .ipynb files.&#013;&#013;Command-line interface for the NbConvert conversion utility.\">nbconvert.nbconvertapp</span>\n",
       "</code> and <code><span style=\"border-bottom: 1px dotted gray;\" title=\"Type:        module&#013;String form: &lt;module &#x27;nbconvert.preprocessors&#x27; from &#x27;&#x27;&lt;safe path&gt;\\__init__.py&#x27;&#x27;&gt;&#013;File:        &#x27;&lt;safe path&gt;\\__init__.py&#x27;&#013;Docstring:   &lt;no docstring&gt;\">nbconvert.preprocessors</span>\n",
       "</code>.</p>\n",
       "</li>\n",
       "</ul>\n"
      ],
      "text/markdown": [
       "## Roadmap\n",
       "\n",
       "* `pidgin` should become an `import ipykernel`.\n",
       "* `pidgin` should extend to other ipykernels.\n",
       "* `pidgin` should become an `import nbconvert.nbconvertapp` and `nbconvert.preprocessors`."
      ],
      "text/plain": [
       "'## Roadmap\\n\\n* `pidgin` should become an `import ipykernel`.\\n* `pidgin` should extend to other ipykernels.\\n* `pidgin` should become an `import nbconvert.nbconvertapp` and `nbconvert.preprocessors`.'"
      ]
     },
     "metadata": {},
     "output_type": "display_data"
    }
   ],
   "source": [
    "## Roadmap\n",
    "\n",
    "* `pidgin` should become an `import ipykernel`.\n",
    "* `pidgin` should extend to other ipykernels.\n",
    "* `pidgin` should become an `import nbconvert.nbconvertapp` and `nbconvert.preprocessors`."
   ]
  },
  {
   "cell_type": "markdown",
   "metadata": {},
   "source": [
    "## Developer\n",
    "    "
   ]
  },
  {
   "cell_type": "code",
   "execution_count": 16,
   "metadata": {},
   "outputs": [],
   "source": [
    "    build = False"
   ]
  },
  {
   "cell_type": "markdown",
   "metadata": {},
   "source": [
    "    !ipython -m readme_pidgin.md.ipynb -- --uml=True --nbconvert=True --test=True\n",
    "\n",
    "### Test `pidgin`\n",
    "\n",
    "    if __name__ == '__main__':\n",
    "        !ipython -m pytest -- --nbval"
   ]
  },
  {
   "cell_type": "code",
   "execution_count": 17,
   "metadata": {},
   "outputs": [
    {
     "data": {
      "text/html": [
       "<a href=\"#run-tests\"><h3 id=\"run-tests\">Run tests</h3>\n",
       "</a>\n",
       "<code style=\"white-space: pre;\" title=\"\"><span style=\"border-bottom: 1px dotted gray;\" title=\"Type:        bool&#013;String form: False&#013;Docstring:  &#013;bool(x) -&gt; bool&#013;&#013;Returns True when the argument x is true, False otherwise.&#013;The builtins True and False are the only two instances of the class bool.&#013;The class bool is a subclass of the class int, and cannot be subclassed.\">test</span> = False\n",
       "</code>"
      ],
      "text/markdown": [
       "### Run tests\n",
       "\n",
       "    test = False"
      ],
      "text/plain": [
       "'### Run tests\\n\\n    test = False'"
      ]
     },
     "metadata": {},
     "output_type": "display_data"
    }
   ],
   "source": [
    "### Run tests\n",
    "\n",
    "    test = False"
   ]
  },
  {
   "cell_type": "markdown",
   "metadata": {},
   "source": [
    "    %%file sanitize.cfg\n",
    "    [skip_graphviz]\n",
    "    regex: <svg(.|\\n)*</svg>w\n",
    "    replace: ---\n",
    "        \n",
    "        "
   ]
  },
  {
   "cell_type": "code",
   "execution_count": 18,
   "metadata": {},
   "outputs": [],
   "source": [
    "    if test or build: \n",
    "        !ipython -m pytest -- --nbval --sanitize-with sanitize.cfg "
   ]
  },
  {
   "cell_type": "code",
   "execution_count": 19,
   "metadata": {},
   "outputs": [
    {
     "data": {
      "text/html": [
       "<a href=\"#uml-diagrams\"><h3 id=\"uml-diagrams\">UML diagrams</h3>\n",
       "</a>\n",
       "<code style=\"white-space: pre;\" title=\"\"><span style=\"border-bottom: 1px dotted gray;\" title=\"Type:        bool&#013;String form: False&#013;Docstring:  &#013;bool(x) -&gt; bool&#013;&#013;Returns True when the argument x is true, False otherwise.&#013;The builtins True and False are the only two instances of the class bool.&#013;The class bool is a subclass of the class int, and cannot be subclassed.\">uml</span> = False\n",
       "</code>"
      ],
      "text/markdown": [
       "### UML diagrams\n",
       "\n",
       "    uml = False"
      ],
      "text/plain": [
       "'### UML diagrams\\n\\n    uml = False'"
      ]
     },
     "metadata": {},
     "output_type": "display_data"
    }
   ],
   "source": [
    "### UML diagrams\n",
    "\n",
    "    uml = False"
   ]
  },
  {
   "cell_type": "code",
   "execution_count": 20,
   "metadata": {},
   "outputs": [],
   "source": [
    "    if uml or build:\n",
    "        import shutil, pathlib, os\n",
    "        %pushd pidgin\n",
    "        !jupyter nbconvert --to python *.ipynb\n",
    "        %popd pidgin\n",
    "        !pyreverse pidgin -ppidgin -opng\n",
    "        list(os.remove(path.with_suffix('.py')) for path in pathlib.Path('pidgin').glob('*.ipynb'))\n",
    "        list((shutil.copy(path, 'docs'), os.remove(path)) for path in pathlib.Path('').glob('*.png'));  "
   ]
  },
  {
   "cell_type": "code",
   "execution_count": 21,
   "metadata": {},
   "outputs": [
    {
     "data": {
      "text/html": [
       "<a href=\"#convert-to-the-readme-md\"><h3 id=\"convert-to-the-readme-md\">Convert to the <strong>readme.md</strong></h3>\n",
       "</a>\n",
       "<code style=\"white-space: pre;\" title=\"\"><span style=\"border-bottom: 1px dotted gray;\" title=\"Type:        bool&#013;String form: False&#013;Docstring:  &#013;bool(x) -&gt; bool&#013;&#013;Returns True when the argument x is true, False otherwise.&#013;The builtins True and False are the only two instances of the class bool.&#013;The class bool is a subclass of the class int, and cannot be subclassed.\">convert</span>=False\n",
       "</code>"
      ],
      "text/markdown": [
       "### Convert to the __readme.md__\n",
       "\n",
       "    convert=False"
      ],
      "text/plain": [
       "'### Convert to the __readme.md__\\n\\n    convert=False'"
      ]
     },
     "metadata": {},
     "output_type": "display_data"
    }
   ],
   "source": [
    "### Convert to the __readme.md__\n",
    "\n",
    "    convert=False"
   ]
  },
  {
   "cell_type": "markdown",
   "metadata": {},
   "source": [
    "    %%file markdown_readme.py\n",
    "    c.MarkdownExporter.raw_mimetypes = ['text/markdown']\n",
    "    c.TemplateExporter.exclude_input=True"
   ]
  },
  {
   "cell_type": "code",
   "execution_count": 22,
   "metadata": {},
   "outputs": [],
   "source": [
    "    if convert or build:\n",
    "        !jupyter nbconvert --to markdown --TemplateExporter.exclude_input=True --stdout readme_pidgin.md.ipynb > readme.md"
   ]
  }
 ],
 "metadata": {
  "kernelspec": {
   "display_name": "Python 3",
   "language": "python",
   "name": "python3"
  },
  "language_info": {
   "codemirror_mode": {
    "name": "ipython",
    "version": 3
   },
   "file_extension": ".py",
   "mimetype": "text/x-python",
   "name": "python",
   "nbconvert_exporter": "python",
   "pygments_lexer": "ipython3",
   "version": "3.6.6"
  }
 },
 "nbformat": 4,
 "nbformat_minor": 2
}
