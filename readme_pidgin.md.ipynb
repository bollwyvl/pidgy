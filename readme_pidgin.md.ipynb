{
 "cells": [
  {
   "cell_type": "markdown",
   "metadata": {},
   "source": [
    "`pidgin` is a literate computing tool for composing computational essays and documents with IPython/Jupyter notebooks. \n",
    "\n",
    "[![Build Status](https://travis-ci.org/deathbeds/pidgin.svg?branch=master)](https://travis-ci.org/deathbeds/pidgin)[![Documentation Status](https://readthedocs.org/projects/pidgin-notebook/badge/?version=latest)](https://pidgin-notebook.readthedocs.io/en/latest/?badge=latest)\n",
    "\n",
    "#### [References](src/pidgin/docs/references.md.ipynb)"
   ]
  },
  {
   "cell_type": "markdown",
   "metadata": {},
   "source": [
    "    !pip install pidgin ### Install `pidgin` from pypi."
   ]
  },
  {
   "cell_type": "code",
   "execution_count": 1,
   "metadata": {},
   "outputs": [],
   "source": [
    "\n",
    ">>> import pidgin, IPython"
   ]
  },
  {
   "cell_type": "markdown",
   "metadata": {},
   "source": [
    "Activate `pidgin` to start programming in [__Markdown__][]"
   ]
  },
  {
   "cell_type": "code",
   "execution_count": 2,
   "metadata": {},
   "outputs": [],
   "source": [
    "    %load_ext pidgin"
   ]
  },
  {
   "cell_type": "code",
   "execution_count": 3,
   "metadata": {},
   "outputs": [],
   "source": [
    "\n",
    "# 🙌 Thank you for your interest in `pidgin`\n",
    "\n",
    "If your ___eyes___  are seeing this then you wanted to know more about `pidgin`.  As a thank you, we offer <big>2</big> useful features of `pidgin`.\n",
    "\n",
    "## Suppressing Output\n",
    "\n",
    "This cell is not published by `IPython` because it starts with a blank line.  Remove the line to see the formatted output. \n",
    "\n",
    "## Separated Namespaces.\n",
    "\n",
    "Did you know that `pidgin` has <big>3</big> namespaces?\n",
    "\n",
    "### The `import doctest` namespace\n",
    "\n",
    ">>> shell = get_ipython()\n",
    ">>> defined_in_the_tests = 42\n",
    ">>> assert 'defined_in_the_tests' in dir(__import__('_test_')) + dir(__import__('_document_'))\n",
    ">>> assert 'defined_in_the_tests' not in dir(__import__('__main__'))\n",
    "\n",
    "\n",
    "### The `pidgin.weave` namespace\n",
    "\n",
    "`pidgin` uses indented code blocks as the canonical block representation for normal code; this opinion is heavily influenced by literate coffeescript. All\n",
    "canonical code is defined with in the `import __main__` module.  Code fences with an empty language definition executed as normal, but within the\n",
    "`import _document_` module.\n",
    "\n",
    "```\n",
    "from pidgin.docs.references import *\n",
    "import IPython, pidgin\n",
    "defined_in_the_document = defined_in_the_tests / 7\n",
    "import __main__, _test_, _document_\n",
    "assert 'defined_in_the_document' not in dir(__main__) + dir(_test_)\n",
    "assert 'defined_in_the_document' in dir(_document_)\n",
    "```"
   ]
  },
  {
   "cell_type": "code",
   "execution_count": 4,
   "metadata": {},
   "outputs": [],
   "source": [
    "\n",
    ">>> import jinja2, nbconvert, graphviz, importnb\n",
    ">>> try: import ruamel as yaml\n",
    "... except: import yaml"
   ]
  },
  {
   "cell_type": "code",
   "execution_count": 5,
   "metadata": {},
   "outputs": [
    {
     "data": {
      "text/html": [
       "<p><span class=\"highlight\"><pre style=\"display: inline-block; vertical-align: middle;; line-height: 125%\"><span></span>pidgin\n",
       "</pre></span> is a document-forward approach to writing in <span class=\"highlight\"><pre style=\"display: inline-block; vertical-align: middle;; line-height: 125%\"><span></span>IPython\n",
       "</pre></span> where authors combine narrative and code within notebook cells.  <span class=\"highlight\"><pre style=\"display: inline-block; vertical-align: middle;; line-height: 125%\"><span></span>pidgin\n",
       "</pre></span> relies\n",
       "on several common syntax opinions to create computational essays and literate programs.</p>\n",
       "<a href=\"#Features\"><h2 id=\"Features\">Features</h2></a><ul>\n",
       "<li><p><span class=\"highlight\"><pre style=\"display: inline-block; vertical-align: middle;; line-height: 125%\"><span></span>pidgin\n",
       "</pre></span> is <strong>Markdown</strong> first; <strong>indented code blocks</strong> execute as normal code.  _The only modification to your workflow is to indenting your code;\n",
       "a notebook of indented code cells will execute with normal behavior.</p>\n",
       "</li>\n",
       "<li><p><span class=\"highlight\"><pre style=\"display: inline-block; vertical-align: middle;; line-height: 125%\"><span></span>pidgin\n",
       "</pre></span> promotes <span class=\"highlight\"><pre style=\"display: inline-block; vertical-align: middle;; line-height: 125%\"><span></span>doctest\n",
       "</pre></span>ing within cells.  <span class=\"highlight\"><pre style=\"display: inline-block; vertical-align: middle;; line-height: 125%\"><span></span>doctest\n",
       "</pre></span> is trigger by the familiar <span class=\"highlight\"><pre style=\"display: inline-block; vertical-align: middle;; line-height: 125%\"><span></span><span style=\"color: #BA2121\">&quot;&gt;&gt;&gt;&quot;</span> <span style=\"color: #AA22FF; font-weight: bold\">and</span> <span style=\"color: #BA2121\">&quot;...&quot;</span>\n",
       "</pre></span> syntax.</p>\n",
       "</li>\n",
       "<li><p><span class=\"highlight\"><pre style=\"display: inline-block; vertical-align: middle;; line-height: 125%\"><span></span>pidgin\n",
       "</pre></span> executes <span class=\"highlight\"><pre style=\"display: inline-block; vertical-align: middle;; line-height: 125%\"><span></span><span style=\"color: #008000\">all</span>\n",
       "</pre></span> code!  Inline code and code fences execute code, and it must work.</p>\n",
       "</li>\n",
       "<li><p><span class=\"highlight\"><pre style=\"display: inline-block; vertical-align: middle;; line-height: 125%\"><span></span>pidgin\n",
       "</pre></span> documents are readable and reusable.  <span class=\"highlight\"><pre style=\"display: inline-block; vertical-align: middle;; line-height: 125%\"><span></span>pidgin\n",
       "</pre></span> uses <span class=\"highlight\"><pre style=\"display: inline-block; vertical-align: middle;; line-height: 125%\"><span></span>importnb\n",
       "</pre></span> to <span class=\"highlight\"><pre style=\"display: inline-block; vertical-align: middle;; line-height: 125%\"><span></span><span style=\"color: #008000\">__import__</span>\n",
       "</pre></span> documents as modules.</p>\n",
       "</li>\n",
       "<li><p><span class=\"highlight\"><pre style=\"display: inline-block; vertical-align: middle;; line-height: 125%\"><span></span>pidgin\n",
       "</pre></span> uses <strong>YAML front matter</strong> to annotate output metadata and provide temporary variables for publishing.</p>\n",
       "</li>\n",
       "<li><p><span class=\"highlight\"><pre style=\"display: inline-block; vertical-align: middle;; line-height: 125%\"><span></span>pidgin\n",
       "</pre></span> uses <span class=\"highlight\"><pre style=\"display: inline-block; vertical-align: middle;; line-height: 125%\"><span></span>jinja2\n",
       "</pre></span> -  a dependency of <span class=\"highlight\"><pre style=\"display: inline-block; vertical-align: middle;; line-height: 125%\"><span></span>nbconvert\n",
       "</pre></span> - to template <strong>Python</strong> variables into \n",
       "the published output.</p>\n",
       "</li>\n",
       "<li><p><span class=\"highlight\"><pre style=\"display: inline-block; vertical-align: middle;; line-height: 125%\"><span></span>pidgin\n",
       "</pre></span> includes <span class=\"highlight\"><pre style=\"display: inline-block; vertical-align: middle;; line-height: 125%\"><span></span>graphviz\n",
       "</pre></span> support for typographically compising diagrams.</p>\n",
       "</li>\n",
       "<li><p><span class=\"highlight\"><pre style=\"display: inline-block; vertical-align: middle;; line-height: 125%\"><span></span>pidgin\n",
       "</pre></span> has many other features (e.g. completion, inspection) that we hope you enjoy discovering along the way 😁.</p>\n",
       "</li>\n",
       "</ul>\n"
      ],
      "text/plain": [
       "<IPython.core.display.HTML object>"
      ]
     },
     "metadata": {},
     "output_type": "display_data"
    }
   ],
   "source": [
    "`pidgin` is a document-forward approach to writing in `IPython` where authors combine narrative and code within notebook cells.  `pidgin` relies\n",
    "on several common syntax opinions to create computational essays and literate programs. \n",
    "\n",
    "## Features\n",
    "\n",
    "* `pidgin` is __Markdown__ first; __indented code blocks__ execute as normal code.  _The only modification to your workflow is to indenting your code;\n",
    "a notebook of indented code cells will execute with normal behavior.\n",
    "* `pidgin` promotes `doctest`ing within cells.  `doctest` is trigger by the familiar `\">>>\" and \"...\"` syntax.\n",
    "* `pidgin` executes `all` code!  Inline code and code fences execute code, and it must work.\n",
    "* `pidgin` documents are readable and reusable.  `pidgin` uses `importnb` to `__import__` documents as modules.\n",
    "* `pidgin` uses __YAML front matter__ to annotate output metadata and provide temporary variables for publishing.\n",
    "* `pidgin` uses `jinja2` -  a dependency of `nbconvert` - to template __Python__ variables into \n",
    "the published output.\n",
    "* `pidgin` includes `graphviz` support for typographically compising diagrams.\n",
    "* `pidgin` has many other features (e.g. completion, inspection) that we hope you enjoy discovering along the way ___beaming_face_with_smiling_eyes___."
   ]
  },
  {
   "cell_type": "code",
   "execution_count": 6,
   "metadata": {},
   "outputs": [
    {
     "data": {
      "text/html": [
       "<a href=\"#Writing-code-in-span-class-highlight-pre-style-display-inline-block-vertical-align-middle-line-height-125-span-span-pidgin-pre-span\"><h3 id=\"Writing-code-in-span-class-highlight-pre-style-display-inline-block-vertical-align-middle-line-height-125-span-span-pidgin-pre-span\">Writing code in <span class=\"highlight\"><pre style=\"display: inline-block; vertical-align: middle;; line-height: 125%\"><span></span>pidgin\n",
       "</pre></span></h3></a><ul>\n",
       "<li><p><span class=\"highlight\"><pre style=\"display: inline-block; vertical-align: middle;; line-height: 125%\"><span></span>pidgin\n",
       "</pre></span> cells tangle standard <span class=\"highlight\"><pre style=\"display: inline-block; vertical-align: middle;; line-height: 125%\"><span></span>IPython\n",
       "</pre></span> from indented <strong>Markdown</strong> code.</p>\n",
       "</li>\n",
       "<li><p>If any other <strong>Markdown</strong> features exist, the cell is rendered as rich HTML.</p>\n",
       "</li>\n",
       "</ul>\n"
      ],
      "text/plain": [
       "<IPython.core.display.HTML object>"
      ]
     },
     "metadata": {},
     "output_type": "display_data"
    }
   ],
   "source": [
    "### Writing code in `pidgin`\n",
    "\n",
    "* `pidgin` cells tangle standard `IPython` from indented __Markdown__ code.\n",
    "* If any other __Markdown__ features exist, the cell is rendered as rich HTML."
   ]
  },
  {
   "cell_type": "code",
   "execution_count": 7,
   "metadata": {},
   "outputs": [
    {
     "data": {
      "text/html": [
       "<a href=\"#Writing-tests\"><h3 id=\"Writing-tests\">Writing tests</h3></a><blockquote><p><span class=\"highlight\"><pre style=\"display: inline-block; vertical-align: middle;; line-height: 125%\"><span></span><span style=\"color: #008000\">all</span>\n",
       "</pre></span> code is are tests!</p>\n",
       "</blockquote>\n",
       "<p><span class=\"highlight\"><pre style=\"display: inline-block; vertical-align: middle;; line-height: 125%\"><span></span>pidgin\n",
       "</pre></span> provides <strong>x</strong> ways to run tests: inline code is execute, code fences are executed, and <span class=\"highlight\"><pre style=\"display: inline-block; vertical-align: middle;; line-height: 125%\"><span></span>doctest\n",
       "</pre></span>s are evaluated.  Heavy use of code woven within a document will create more reliable documentation over time.</p>\n"
      ],
      "text/plain": [
       "<IPython.core.display.HTML object>"
      ]
     },
     "metadata": {},
     "output_type": "display_data"
    }
   ],
   "source": [
    "### Writing tests\n",
    "\n",
    "> `all` code is are tests!\n",
    "\n",
    "`pidgin` provides __x__ ways to run tests: inline code is execute, code fences are executed, and `doctest`s are evaluated.  Heavy use of code woven within a document will create more reliable documentation over time."
   ]
  },
  {
   "cell_type": "code",
   "execution_count": 8,
   "metadata": {},
   "outputs": [
    {
     "data": {
      "text/html": [
       "<a href=\"#Templating-output\"><h3 id=\"Templating-output\">Templating output</h3></a>"
      ],
      "text/plain": [
       "<IPython.core.display.HTML object>"
      ]
     },
     "metadata": {},
     "output_type": "display_data"
    }
   ],
   "source": [
    "### Templating output"
   ]
  },
  {
   "cell_type": "code",
   "execution_count": 9,
   "metadata": {},
   "outputs": [
    {
     "data": {
      "text/html": [
       "<a href=\"#Documents-as-modules\"><h3 id=\"Documents-as-modules\">Documents as modules</h3></a>"
      ],
      "text/plain": [
       "<IPython.core.display.HTML object>"
      ]
     },
     "metadata": {},
     "output_type": "display_data"
    }
   ],
   "source": [
    "### Documents as modules"
   ]
  },
  {
   "cell_type": "code",
   "execution_count": 10,
   "metadata": {},
   "outputs": [
    {
     "data": {
      "text/html": [
       "<a href=\"#Documents-as-documents\"><h3 id=\"Documents-as-documents\">Documents as documents</h3></a>"
      ],
      "text/plain": [
       "<IPython.core.display.HTML object>"
      ]
     },
     "metadata": {},
     "output_type": "display_data"
    }
   ],
   "source": [
    "### Documents as documents"
   ]
  },
  {
   "cell_type": "code",
   "execution_count": 11,
   "metadata": {},
   "outputs": [
    {
     "data": {
      "text/html": [
       "<a href=\"#Importing-span-class-highlight-pre-style-display-inline-block-vertical-align-middle-line-height-125-span-span-pidgin-pre-span-documents\"><h2 id=\"Importing-span-class-highlight-pre-style-display-inline-block-vertical-align-middle-line-height-125-span-span-pidgin-pre-span-documents\">Importing <span class=\"highlight\"><pre style=\"display: inline-block; vertical-align: middle;; line-height: 125%\"><span></span>pidgin\n",
       "</pre></span> documents.</h2></a><p><span class=\"highlight\"><pre style=\"display: inline-block; vertical-align: middle;; line-height: 125%\"><span></span>pidgin\n",
       "</pre></span> documents are notebooks that can be imported as <strong>Python</strong> modules.</p>\n",
       "<pre><code>&gt;&gt;&gt; with pidgin.Pidgin(): None\n",
       "</code></pre>\n",
       "<p><span class=\"highlight\"><pre style=\"display: inline-block; vertical-align: middle;; line-height: 125%\"><span></span>pidgin\n",
       "</pre></span> documents are recognized <span class=\"highlight\"><pre style=\"display: inline-block; vertical-align: middle;; line-height: 125%\"><span></span><span style=\"color: #BA2121\">&quot;.md.ipynb&quot;</span>\n",
       "</pre></span> extension.\n",
       "<span class=\"highlight\"><pre style=\"display: inline-block; vertical-align: middle;; line-height: 125%\"><span></span>pidgin\n",
       "</pre></span> documents render on <a href=\"#\">nbviewer</a>.  Get in the habit of creaitng reusable\n",
       "notebooks with <span class=\"highlight\"><pre style=\"display: inline-block; vertical-align: middle;; line-height: 125%\"><span></span>importnb\n",
       "</pre></span>.</p>\n"
      ],
      "text/plain": [
       "<IPython.core.display.HTML object>"
      ]
     },
     "metadata": {},
     "output_type": "display_data"
    }
   ],
   "source": [
    "## Importing `pidgin` documents.\n",
    "\n",
    "`pidgin` documents are notebooks that can be imported as __Python__ modules.\n",
    "\n",
    "\n",
    ">>> with pidgin.Pidgin(): None\n",
    "\n",
    "`pidgin` documents are recognized `\"{{pidgin.Pidgin.extensions[0]}}\"` extension.\n",
    "`pidgin` documents render on [nbviewer][nbviewer].  Get in the habit of creaitng reusable\n",
    "notebooks with `importnb`.\n",
    "\n",
    "[nbviewer]: #"
   ]
  },
  {
   "cell_type": "code",
   "execution_count": 12,
   "metadata": {},
   "outputs": [
    {
     "data": {
      "text/html": [
       "<a href=\"#span-class-highlight-pre-style-display-inline-block-vertical-align-middle-line-height-125-span-span-pidgin-pre-span-works-with\"><h2 id=\"span-class-highlight-pre-style-display-inline-block-vertical-align-middle-line-height-125-span-span-pidgin-pre-span-works-with\"><span class=\"highlight\"><pre style=\"display: inline-block; vertical-align: middle;; line-height: 125%\"><span></span>pidgin\n",
       "</pre></span> works with</h2></a><ul>\n",
       "<li><p><strong><em>Binder</em></strong> <a href=\"https://mybinder.org/v2/gh/deathbeds/pidgin/master?filepath=readme_pidgin.md.ipynb\"><img src=\"https://mybinder.org/badge.svg\" alt=\"Binder\"></a></p>\n",
       "<p>Take <span class=\"highlight\"><pre style=\"display: inline-block; vertical-align: middle;; line-height: 125%\"><span></span>pidgin\n",
       "</pre></span> for a spin on <a href=\"https://mybinder.org/v2/gh/deathbeds/pidgin/master?filepath=readme.ipynb\"><strong><em>Binder</em></strong></a>.</p>\n",
       "</li>\n",
       "<li><p><strong><em>Pytest</em></strong> <a href=\"https://github.com/pytest-dev\"><img src=\"https://avatars1.githubusercontent.com/u/8897583?s=40&amp;v=4\" alt=\"\"></a></p>\n",
       "<p><span class=\"highlight\"><pre style=\"display: inline-block; vertical-align: middle;; line-height: 125%\"><span></span>pidgin\n",
       "</pre></span> works great with the <a href=\"https://github.com/computationalmodelling/nbval\"><strong>nbval</strong></a> and <a href=\"https://github.com/deathbeds/importnb\"><strong>importnb</strong></a> notebook specific pytest extensions.  <span class=\"highlight\"><pre style=\"display: inline-block; vertical-align: middle;; line-height: 125%\"><span></span>pidgin\n",
       "</pre></span> itself is a <span class=\"highlight\"><pre style=\"display: inline-block; vertical-align: middle;; line-height: 125%\"><span></span><span style=\"color: #008000; font-weight: bold\">import</span> <span style=\"color: #0000FF; font-weight: bold\">pytest</span>\n",
       "</pre></span>\n",
       "  plugin that permits tests with <strong>.md.ipynb</strong> and <strong>.md</strong> extensions.</p>\n",
       "<p><strong><em>Pro Tip</em></strong> test <span class=\"highlight\"><pre style=\"display: inline-block; vertical-align: middle;; line-height: 125%\"><span></span>IPython\n",
       "</pre></span> specific features using <strong>ipython</strong> as the <span class=\"highlight\"><pre style=\"display: inline-block; vertical-align: middle;; line-height: 125%\"><span></span>pytest\n",
       "</pre></span> runner instead of <strong>python</strong> <span class=\"highlight\"><pre style=\"display: inline-block; vertical-align: middle;; line-height: 125%\"><span></span><span style=\"color: #408080; font-style: italic\">#!ipython -m pytest -- --collect-only</span>\n",
       "</pre></span></p>\n",
       "</li>\n",
       "<li><p><strong><em>Jupyter</em></strong> <a href=\"https://github.com/jupyterlab\"><img src=\"https://avatars1.githubusercontent.com/u/7388996?s=40\" alt=\"\"></a></p>\n",
       "</li>\n",
       "<li><p><strong><em>JupyterLab</em></strong> <a href=\"https://github.com/jupyterlab\"><img src=\"https://avatars1.githubusercontent.com/u/22800682?s=40\" alt=\"\"></a></p>\n",
       "</li>\n",
       "<li><p><strong><em>Google Colaboratory</em></strong> <a href=\"https://colab.research.google.com/github/deathbeds/pidgin/blob/mistune/readme.ipynb\"><img src=\"https://avatars0.githubusercontent.com/u/33467679?s=40\" alt=\"\"></a></p>\n",
       "</li>\n",
       "<li><p><strong><em>nteract</em></strong> <a href=\"https://nteract.io\"><img src=\"https://avatars0.githubusercontent.com/u/12401040?s=40\" alt=\"\"></a></p>\n",
       "</li>\n",
       "</ul>\n"
      ],
      "text/plain": [
       "<IPython.core.display.HTML object>"
      ]
     },
     "metadata": {},
     "output_type": "display_data"
    }
   ],
   "source": [
    "## `pidgin` works with\n",
    "\n",
    "* __*Binder*__ [![Binder](https://mybinder.org/badge.svg)](https://mybinder.org/v2/gh/deathbeds/pidgin/master?filepath=readme_pidgin.md.ipynb) \n",
    "\n",
    "    Take `pidgin` for a spin on [__*Binder*__](https://mybinder.org/v2/gh/deathbeds/pidgin/master?filepath=readme.ipynb).\n",
    "* __*Pytest*__ [![](https://avatars1.githubusercontent.com/u/8897583?s=40&v=4)](https://github.com/pytest-dev) \n",
    "\n",
    "    `pidgin` works great with the [__nbval__](https://github.com/computationalmodelling/nbval) and [__importnb__](https://github.com/deathbeds/importnb) notebook specific pytest extensions.  `pidgin` itself is a `import pytest`\n",
    "    plugin that permits tests with __.md.ipynb__ and __.md__ extensions.\n",
    "    \n",
    "    __*Pro Tip*__ test `IPython` specific features using __ipython__ as the `pytest` runner instead of __python__ `#!ipython -m pytest -- --collect-only`\n",
    "* __*Jupyter*__ [![](https://avatars1.githubusercontent.com/u/7388996?s=40)](https://github.com/jupyterlab) \n",
    "* __*JupyterLab*__ [![](https://avatars1.githubusercontent.com/u/22800682?s=40)](https://github.com/jupyterlab) \n",
    "* __*Google Colaboratory*__ [![](https://avatars0.githubusercontent.com/u/33467679?s=40)](https://colab.research.google.com/github/deathbeds/pidgin/blob/mistune/readme.ipynb)\n",
    "* __*nteract*__ [![](https://avatars0.githubusercontent.com/u/12401040?s=40)](https://nteract.io)"
   ]
  },
  {
   "cell_type": "code",
   "execution_count": 13,
   "metadata": {},
   "outputs": [
    {
     "data": {
      "text/html": [
       "<a href=\"#Architecture\"><h2 id=\"Architecture\">Architecture</h2></a><p>The <span class=\"highlight\"><pre style=\"display: inline-block; vertical-align: middle;; line-height: 125%\"><span></span>pidgin\n",
       "</pre></span> source is written almost entirely in Jupyter notebooks.  The hope is that the notebooks will serve as an important\n",
       "interactive resourcing in the early development.  As the project matures, <span class=\"highlight\"><pre style=\"display: inline-block; vertical-align: middle;; line-height: 125%\"><span></span>pidgin\n",
       "</pre></span> will adopt different combinations of python\n",
       "and notebook files.</p>\n",
       "<table class=\"highlighttable\"><tr><td><div class=\"linenodiv\" style=\"background-color: #f0f0f0; padding-right: 10px\"><pre style=\"line-height: 125%\">7</pre></div></td><td style=\"text-align: left;\" class=\"code\"><div class=\"highlight\" style=\"background: #f8f8f8\"><pre style=\"line-height: 125%\"><span></span>ip <span style=\"color: #666666\">=</span> IPython<span style=\"color: #666666\">.</span>get_ipython()\n",
       "</pre></div>\n",
       "</td></tr></table><p><span class=\"highlight\"><pre style=\"display: inline-block; vertical-align: middle;; line-height: 125%\"><span></span>pidgin\n",
       "</pre></span> is architected as a collection of <span class=\"highlight\"><pre style=\"display: inline-block; vertical-align: middle;; line-height: 125%\"><span></span>IPython\n",
       "</pre></span> extensions that modify <span class=\"highlight\"><pre style=\"display: inline-block; vertical-align: middle;; line-height: 125%\"><span></span>ip <span style=\"color: #666666\">=</span> IPython<span style=\"color: #666666\">.</span>get_ipython()\n",
       "</pre></span> and <span class=\"highlight\"><pre style=\"display: inline-block; vertical-align: middle;; line-height: 125%\"><span></span>ip<span style=\"color: #666666\">.</span>kernel\n",
       "</pre></span>.</p>\n",
       "<table class=\"highlighttable\"><tr><td><div class=\"linenodiv\" style=\"background-color: #f0f0f0; padding-right: 10px\"><pre style=\"line-height: 125%\">10\n",
       "11</pre></div></td><td style=\"text-align: left;\" class=\"code\"><div class=\"highlight\" style=\"background: #f8f8f8\"><pre style=\"line-height: 125%\"><span></span><span style=\"color: #008000; font-weight: bold\">if</span> <span style=\"color: #666666\">0</span>:\n",
       "    <span style=\"color: #666666\">%</span>reload_ext pidgin\n",
       "</pre></div>\n",
       "</td></tr></table><p>Each component of <span class=\"highlight\"><pre style=\"display: inline-block; vertical-align: middle;; line-height: 125%\"><span></span>pidgin\n",
       "</pre></span> can be loaded individually.</p>\n",
       "<table class=\"highlighttable\"><tr><td><div class=\"linenodiv\" style=\"background-color: #f0f0f0; padding-right: 10px\"><pre style=\"line-height: 125%\">15\n",
       "16\n",
       "17\n",
       "18</pre></div></td><td style=\"text-align: left;\" class=\"code\"><div class=\"highlight\" style=\"background: #f8f8f8\"><pre style=\"line-height: 125%\"><span></span><span style=\"color: #666666\">%</span>reload_ext pidgin<span style=\"color: #666666\">.</span>tangle\n",
       "    <span style=\"color: #666666\">%</span>reload_ext pidgin<span style=\"color: #666666\">.</span>display\n",
       "    <span style=\"color: #666666\">%</span>reload_ext pidgin<span style=\"color: #666666\">.</span>inspector\n",
       "    <span style=\"color: #666666\">%</span>reload_ext pidgin<span style=\"color: #666666\">.</span>post_run_cell\n",
       "</pre></div>\n",
       "</td></tr></table>"
      ],
      "text/plain": [
       "<IPython.core.display.HTML object>"
      ]
     },
     "metadata": {},
     "output_type": "display_data"
    }
   ],
   "source": [
    "## Architecture\n",
    "\n",
    "The `pidgin` source is written almost entirely in Jupyter notebooks.  The hope is that the notebooks will serve as an important\n",
    "interactive resourcing in the early development.  As the project matures, `pidgin` will adopt different combinations of python\n",
    "and notebook files.\n",
    "\n",
    "    ip = IPython.get_ipython()\n",
    "`pidgin` is architected as a collection of `IPython` extensions that modify `ip = IPython.get_ipython()` and `ip.kernel`.\n",
    "\n",
    "    if 0:\n",
    "        %reload_ext pidgin\n",
    "    \n",
    "Each component of `pidgin` can be loaded individually.\n",
    "\n",
    "        %reload_ext pidgin.tangle\n",
    "        %reload_ext pidgin.display\n",
    "        %reload_ext pidgin.inspector\n",
    "        %reload_ext pidgin.post_run_cell"
   ]
  },
  {
   "cell_type": "code",
   "execution_count": 14,
   "metadata": {},
   "outputs": [
    {
     "data": {
      "text/html": [
       "<a href=\"#Roadmap\"><h2 id=\"Roadmap\">Roadmap</h2></a><ul>\n",
       "<li><p><span class=\"highlight\"><pre style=\"display: inline-block; vertical-align: middle;; line-height: 125%\"><span></span>pidgin\n",
       "</pre></span> should become an <span class=\"highlight\"><pre style=\"display: inline-block; vertical-align: middle;; line-height: 125%\"><span></span><span style=\"color: #008000; font-weight: bold\">import</span> <span style=\"color: #0000FF; font-weight: bold\">ipykernel</span>\n",
       "</pre></span>.</p>\n",
       "</li>\n",
       "<li><p><span class=\"highlight\"><pre style=\"display: inline-block; vertical-align: middle;; line-height: 125%\"><span></span>pidgin\n",
       "</pre></span> should extend to other ipykernels.</p>\n",
       "</li>\n",
       "<li><p><span class=\"highlight\"><pre style=\"display: inline-block; vertical-align: middle;; line-height: 125%\"><span></span>pidgin\n",
       "</pre></span> should become an <span class=\"highlight\"><pre style=\"display: inline-block; vertical-align: middle;; line-height: 125%\"><span></span><span style=\"color: #008000; font-weight: bold\">import</span> <span style=\"color: #0000FF; font-weight: bold\">nbconvert.nbconvertapp</span>\n",
       "</pre></span> and <span class=\"highlight\"><pre style=\"display: inline-block; vertical-align: middle;; line-height: 125%\"><span></span>nbconvert<span style=\"color: #666666\">.</span>preprocessors\n",
       "</pre></span>.</p>\n",
       "</li>\n",
       "</ul>\n"
      ],
      "text/plain": [
       "<IPython.core.display.HTML object>"
      ]
     },
     "metadata": {},
     "output_type": "display_data"
    }
   ],
   "source": [
    "## Roadmap\n",
    "\n",
    "* `pidgin` should become an `import ipykernel`.\n",
    "* `pidgin` should extend to other ipykernels.\n",
    "* `pidgin` should become an `import nbconvert.nbconvertapp` and `nbconvert.preprocessors`."
   ]
  },
  {
   "cell_type": "markdown",
   "metadata": {},
   "source": [
    "## Developer\n",
    "    "
   ]
  },
  {
   "cell_type": "code",
   "execution_count": 15,
   "metadata": {},
   "outputs": [],
   "source": [
    "    build = False"
   ]
  },
  {
   "cell_type": "markdown",
   "metadata": {},
   "source": [
    "    !ipython -m readme_pidgin.md.ipynb -- --uml=True --nbconvert=True --test=True\n",
    "\n",
    "### Test `pidgin`\n",
    "\n",
    "    if __name__ == '__main__':\n",
    "        !ipython -m pytest -- --nbval"
   ]
  },
  {
   "cell_type": "code",
   "execution_count": 16,
   "metadata": {},
   "outputs": [
    {
     "data": {
      "text/html": [
       "<a href=\"#Run-tests\"><h3 id=\"Run-tests\">Run tests</h3></a><table class=\"highlighttable\"><tr><td><div class=\"linenodiv\" style=\"background-color: #f0f0f0; padding-right: 10px\"><pre style=\"line-height: 125%\">3</pre></div></td><td style=\"text-align: left;\" class=\"code\"><div class=\"highlight\" style=\"background: #f8f8f8\"><pre style=\"line-height: 125%\"><span></span>test <span style=\"color: #666666\">=</span> <span style=\"color: #008000\">False</span>\n",
       "</pre></div>\n",
       "</td></tr></table>"
      ],
      "text/plain": [
       "<IPython.core.display.HTML object>"
      ]
     },
     "metadata": {},
     "output_type": "display_data"
    }
   ],
   "source": [
    "### Run tests\n",
    "\n",
    "    test = False"
   ]
  },
  {
   "cell_type": "markdown",
   "metadata": {},
   "source": [
    "    %%file sanitize.cfg\n",
    "    [skip_graphviz]\n",
    "    regex: <svg(.|\\n)*</svg>w\n",
    "    replace: ---\n",
    "        \n",
    "        "
   ]
  },
  {
   "cell_type": "code",
   "execution_count": 17,
   "metadata": {},
   "outputs": [],
   "source": [
    "    if test or build: \n",
    "        !ipython -m pytest -- --nbval --sanitize-with sanitize.cfg "
   ]
  },
  {
   "cell_type": "code",
   "execution_count": 26,
   "metadata": {},
   "outputs": [
    {
     "data": {
      "text/html": [
       "<a href=\"#UML-diagrams\"><h3 id=\"UML-diagrams\">UML diagrams</h3></a><table class=\"highlighttable\"><tr><td><div class=\"linenodiv\" style=\"background-color: #f0f0f0; padding-right: 10px\"><pre style=\"line-height: 125%\">3</pre></div></td><td style=\"text-align: left;\" class=\"code\"><div class=\"highlight\" style=\"background: #f8f8f8\"><pre style=\"line-height: 125%\"><span></span>uml <span style=\"color: #666666\">=</span> <span style=\"color: #008000\">False</span>\n",
       "</pre></div>\n",
       "</td></tr></table>"
      ],
      "text/plain": [
       "<IPython.core.display.HTML object>"
      ]
     },
     "metadata": {},
     "output_type": "display_data"
    }
   ],
   "source": [
    "### UML diagrams\n",
    "\n",
    "    uml = False"
   ]
  },
  {
   "cell_type": "code",
   "execution_count": 27,
   "metadata": {},
   "outputs": [],
   "source": [
    "    if uml or build:\n",
    "        import shutil, pathlib, os\n",
    "        %pushd pidgin\n",
    "        !jupyter nbconvert --to python *.ipynb\n",
    "        %popd pidgin\n",
    "        !pyreverse pidgin -ppidgin -opng\n",
    "        list(os.remove(path.with_suffix('.py')) for path in pathlib.Path('pidgin').glob('*.ipynb'))\n",
    "        list((shutil.copy(path, 'docs'), os.remove(path)) for path in pathlib.Path('').glob('*.png'));  "
   ]
  },
  {
   "cell_type": "code",
   "execution_count": 30,
   "metadata": {},
   "outputs": [
    {
     "data": {
      "text/html": [
       "<a href=\"#Convert-to-the-strong-readme-md-strong\"><h3 id=\"Convert-to-the-strong-readme-md-strong\">Convert to the <strong>readme.md</strong></h3></a><table class=\"highlighttable\"><tr><td><div class=\"linenodiv\" style=\"background-color: #f0f0f0; padding-right: 10px\"><pre style=\"line-height: 125%\">3</pre></div></td><td style=\"text-align: left;\" class=\"code\"><div class=\"highlight\" style=\"background: #f8f8f8\"><pre style=\"line-height: 125%\"><span></span>convert<span style=\"color: #666666\">=</span><span style=\"color: #008000\">False</span>\n",
       "</pre></div>\n",
       "</td></tr></table>"
      ],
      "text/plain": [
       "<IPython.core.display.HTML object>"
      ]
     },
     "metadata": {},
     "output_type": "display_data"
    }
   ],
   "source": [
    "### Convert to the __readme.md__\n",
    "\n",
    "    convert=False"
   ]
  },
  {
   "cell_type": "markdown",
   "metadata": {},
   "source": [
    "    %%file markdown_readme.py\n",
    "    c.MarkdownExporter.raw_mimetypes = ['text/markdown']\n",
    "    c.TemplateExporter.exclude_input=True"
   ]
  },
  {
   "cell_type": "code",
   "execution_count": 31,
   "metadata": {},
   "outputs": [],
   "source": [
    "    if convert or build:\n",
    "        !jupyter nbconvert --to markdown --TemplateExporter.exclude_input=True --stdout readme_pidgin.md.ipynb > readme.md"
   ]
  },
  {
   "cell_type": "code",
   "execution_count": null,
   "metadata": {},
   "outputs": [],
   "source": []
  }
 ],
 "metadata": {
  "kernelspec": {
   "display_name": "p6",
   "language": "python",
   "name": "other-env"
  },
  "language_info": {
   "codemirror_mode": {
    "name": "ipython",
    "version": 3
   },
   "file_extension": ".py",
   "mimetype": "text/x-python",
   "name": "python",
   "nbconvert_exporter": "python",
   "pygments_lexer": "ipython3",
   "version": "3.6.8"
  }
 },
 "nbformat": 4,
 "nbformat_minor": 4
}
