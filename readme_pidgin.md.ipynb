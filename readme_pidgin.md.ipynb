{
 "cells": [
  {
   "cell_type": "markdown",
   "metadata": {},
   "source": [
    "    !pip install pidgin ### Install `pidgin` from pypi."
   ]
  },
  {
   "cell_type": "code",
   "execution_count": 1,
   "metadata": {
    "jupyter": {
     "source_hidden": true
    }
   },
   "outputs": [],
   "source": [
    "\n",
    ">>> import pidgin, IPython, jupyter, notebook, doctest, ipykernel\n",
    ">>> from pidgin.docs.references import *"
   ]
  },
  {
   "cell_type": "markdown",
   "metadata": {},
   "source": [
    "Activate `pidgin` to start programming in __Markdown__."
   ]
  },
  {
   "cell_type": "code",
   "execution_count": 2,
   "metadata": {
    "jupyter": {
     "source_hidden": true
    }
   },
   "outputs": [],
   "source": [
    "    %load_ext pidgin"
   ]
  },
  {
   "cell_type": "markdown",
   "metadata": {},
   "source": [
    "    %load_ext pidgin"
   ]
  },
  {
   "cell_type": "code",
   "execution_count": 3,
   "metadata": {
    "jupyter": {
     "source_hidden": true
    }
   },
   "outputs": [],
   "source": [
    "    \n",
    "    import IPython"
   ]
  },
  {
   "cell_type": "code",
   "execution_count": 4,
   "metadata": {
    "jupyter": {
     "source_hidden": true
    }
   },
   "outputs": [
    {
     "data": {
      "text/html": [
       "<blockquote><p>Programming in <strong>Markdown</strong> ⁉ What d🤔es that even mean❓</p>\n",
       "</blockquote>\n",
       "<p><span class=\"highlight\"><code style=\"display: inline-block; vertical-align: middle; line-height: 125%\"><span></span>pidgin\n",
       "</code></span> executes code within indented <strong>Markdown</strong> code blocks.<a href=\"#\" title=\"Special rules apply for ordered and unordered lists.\">🎩</a><a href=\"https://coffeescript.org/#literate\" title=\"Literate coffee is a significant inspiration for `pidgin`.\">☕️</a></p>\n",
       "<table class=\"highlighttable\"><tr><td><div class=\"linenodiv\" style=\"background-color: #f0f0f0; padding-right: 10px\"><pre style=\"line-height: 125%\">5</pre></div></td><td style=\"text-align: left;\" class=\"code\"><div class=\"highlight\" style=\"background: #f8f8f8\"><pre style=\"line-height: 125%\"><span></span><span style=\"color: #BA2121\">&quot;I am code! 👂 me rawrrrr🦁!&quot;</span>\n",
       "</pre></div>\n",
       "</td></tr></table><blockquote><p>An author will recoginize code by it's <span class=\"highlight\"><code style=\"display: inline-block; vertical-align: middle; line-height: 125%\"><span></span><span style=\"color: #BA2121\">&quot;monospaced&quot;</span>\n",
       "</code></span> typesetting.</p>\n",
       "</blockquote>\n",
       "<p><span class=\"highlight\"><code style=\"display: inline-block; vertical-align: middle; line-height: 125%\"><span></span>pidgin\n",
       "</code></span> encourages authors to capture computational thinking in human and computational logic.</p>\n",
       "<ul>\n",
       "<li><p>Human logic produces <strong>readable</strong> publications of a computational essay.</p>\n",
       "</li>\n",
       "<li><p>Computational logic ensures replicability; <span class=\"highlight\"><code style=\"display: inline-block; vertical-align: middle; line-height: 125%\"><span></span>pidgin\n",
       "</code></span>s specific focus on testing allows an author to reinforce their ideas.</p>\n",
       "</li>\n",
       "<li><p>Human and computational logic allows others to understand and <strong>reuse</strong> a program for what could be exciting new discoveries.</p>\n",
       "</li>\n",
       "</ul>\n",
       "<p><span class=\"highlight\"><code style=\"display: inline-block; vertical-align: middle; line-height: 125%\"><span></span>pidgin\n",
       "</code></span> is a literate computing implementation that customizes the interactive <a href=\"https://jupyter.readthedocs.io/en/latest/\"><span class=\"highlight\"><code style=\"display: inline-block; vertical-align: middle; line-height: 125%\"><span></span>jupyter\n",
       "</code></span> <span class=\"highlight\"><code style=\"display: inline-block; vertical-align: middle; line-height: 125%\"><span></span>notebook\n",
       "</code></span></a> experience.</p>\n",
       "<p><a href=\"https://travis-ci.org/deathbeds/pidgin\"><img src=\"https://travis-ci.org/deathbeds/pidgin.svg?branch=master\" alt=\"Build Status\"></a><a href=\"https://pidgin-notebook.readthedocs.io/en/latest/?badge=latest\"><img src=\"https://readthedocs.org/projects/pidgin-notebook/badge/?version=latest\" alt=\"Documentation Status\"></a></p>\n"
      ],
      "text/plain": [
       "<IPython.core.display.HTML object>"
      ]
     },
     "metadata": {},
     "output_type": "display_data"
    }
   ],
   "source": [
    "> Programming in __Markdown__ ___exclamation_question_mark___ What d🤔es that even mean___question_mark___\n",
    "\n",
    "`pidgin` executes code within indented __Markdown__ code blocks.[🎩](# \"Special rules apply for ordered and unordered lists.\")[☕️]({{\"literate coffeescript\"}} \"Literate coffee is a significant inspiration for `pidgin`.\") \n",
    "    \n",
    "    \"I am code! 👂 me rawrrrr🦁!\"\n",
    "    \n",
    "> An author will recoginize code by it's `\"monospaced\"` typesetting.\n",
    "    \n",
    "`pidgin` encourages authors to capture computational thinking in human and computational logic. \n",
    "    \n",
    "* Human logic produces __readable__ publications of a computational essay.\n",
    "* Computational logic ensures replicability; `pidgin`s specific focus on testing allows an author to reinforce their ideas.\n",
    "* Human and computational logic allows others to understand and __reuse__ a program for what could be exciting new discoveries.\n",
    "    \n",
    "    \n",
    "`pidgin` is a literate computing implementation that customizes the interactive [`jupyter` `notebook`][jupyter notebook] experience.\n",
    "    \n",
    "[![Build Status](https://travis-ci.org/deathbeds/pidgin.svg?branch=master)](https://travis-ci.org/deathbeds/pidgin)[![Documentation Status](https://readthedocs.org/projects/pidgin-notebook/badge/?version=latest)](https://pidgin-notebook.readthedocs.io/en/latest/?badge=latest)"
   ]
  },
  {
   "cell_type": "code",
   "execution_count": 5,
   "metadata": {},
   "outputs": [],
   "source": [
    "\n",
    "# 🙌 Thank you for your interest in `pidgin`\n",
    "\n",
    "If your ___eyes___  are seeing this then you wanted to know more about `pidgin`.  As a thank you, we wanted to share <big>2</big> useful features of `pidgin`.\n",
    "\n",
    "## Suppressing Output\n",
    "\n",
    "A readable document may require compute that is superfluous to the computational narrative.  A cell with a leading blank line is evaluated, but the published `display` is suppressed.\n",
    "\n",
    "> The blank line in the beginning this cell hides the output.  If you having are running this `notebook` with an `IPython.InteractiveShell` then you may remove the blank to publish the proper output.\n",
    "\n",
    "`pidgin` documents explicitly define the content of a published document in the output of the cells.  The cell source is used to format the woven computational and human logic. \n",
    "\n",
    "## Separated Namespaces.\n",
    "\n",
    "Did you know that `pidgin` has <big>3</big> namespaces?\n",
    "\n",
    "### Meet the `__main__`, `_document_`, and `_test_` namespaces.\n",
    "\n",
    ">>> import __main__, _document_, _test_\n",
    "\n",
    "1. In `pidgin`, indented code blocks are the canonical representation for code and all the value are held by the `__main__` module.  If the code is not indented then it will be published as rich variable spaced fonts.  _If what you expect to be code appears as normal text then you probably forgot an indent._\n",
    "2. The `_test_` namespace includes values from the `__main__` namespace and any additional `object`s defined within the `doctest`s.\n",
    "\n",
    "    >>> defined_in_the_tests = 42\n",
    "    >>> assert 'defined_in_the_tests' in dir(_test_) + dir(_document_)\n",
    "    >>> assert 'defined_in_the_tests' not in dir(__main__)\n",
    "\n",
    "3. `pidgin` requires that anything described as indented, fenced, `doctest`, or inline code should not emit an `Exception`.  Inline code and fenced code that does have language specification are evaluated in the `_document_` namespace.  The `_document_` namespace is aware of values in the `__main__` and `_test_` namespaces.\n",
    "\n",
    "```\n",
    "defined_in_the_document = defined_in_the_tests / 7\n",
    "assert 'defined_in_the_document' not in dir(__main__) + dir(_test_)\n",
    "assert 'defined_in_the_document' in dir(_document_)\n",
    "```"
   ]
  },
  {
   "cell_type": "code",
   "execution_count": 6,
   "metadata": {
    "jupyter": {
     "source_hidden": true
    }
   },
   "outputs": [],
   "source": [
    "\n",
    "Below we dig deeper into the inner workings of `pidgin`.  The `doctest`s below execute code outside of the `__main__` namespace, but they are available to the `_document_`. \n",
    "\n",
    ">>> import jinja2, nbconvert, graphviz, importnb\n",
    ">>> try: import ruamel as yaml\n",
    "... except: import yaml"
   ]
  },
  {
   "cell_type": "code",
   "execution_count": 7,
   "metadata": {},
   "outputs": [
    {
     "data": {
      "text/html": [
       "<p><span class=\"highlight\"><code style=\"display: inline-block; vertical-align: middle; line-height: 125%\"><span></span>pidgin\n",
       "</code></span> is a document-forward approach to <span class=\"highlight\"><code style=\"display: inline-block; vertical-align: middle; line-height: 125%\"><span></span>notebook\n",
       "</code></span> authoring.  Authors will combine languages within cells to narrate the computational logic underlying the source code. Below is a list of <span class=\"highlight\"><code style=\"display: inline-block; vertical-align: middle; line-height: 125%\"><span></span>pidgin\n",
       "</code></span> features 🔽</p>\n",
       "<ul>\n",
       "<li><p><span class=\"highlight\"><code style=\"display: inline-block; vertical-align: middle; line-height: 125%\"><span></span>pidgin\n",
       "</code></span> is <strong>Markdown</strong> first; <strong>indented code blocks</strong> execute as normal code.  _The only modification to your workflow is to indenting your code;\n",
       "a notebook of indented code cells will execute with normal behavior.</p>\n",
       "</li>\n",
       "<li><p><span class=\"highlight\"><code style=\"display: inline-block; vertical-align: middle; line-height: 125%\"><span></span>pidgin\n",
       "</code></span> executes <span class=\"highlight\"><code style=\"display: inline-block; vertical-align: middle; line-height: 125%\"><span></span><span style=\"color: #008000\">all</span>\n",
       "</code></span> code!  Inline code and code fences execute code, and it must work.</p>\n",
       "</li>\n",
       "<li><p><span class=\"highlight\"><code style=\"display: inline-block; vertical-align: middle; line-height: 125%\"><span></span>pidgin\n",
       "</code></span> promotes <span class=\"highlight\"><code style=\"display: inline-block; vertical-align: middle; line-height: 125%\"><span></span>doctest\n",
       "</code></span>ing within cells.  <span class=\"highlight\"><code style=\"display: inline-block; vertical-align: middle; line-height: 125%\"><span></span>doctest\n",
       "</code></span> is trigger by the familiar <span class=\"highlight\"><code style=\"display: inline-block; vertical-align: middle; line-height: 125%\"><span></span><span style=\"color: #BA2121\">&quot;&gt;&gt;&gt;&quot;</span> <span style=\"color: #AA22FF; font-weight: bold\">and</span> <span style=\"color: #BA2121\">&quot;...&quot;</span>\n",
       "</code></span> syntax.</p>\n",
       "</li>\n",
       "<li><p><span class=\"highlight\"><code style=\"display: inline-block; vertical-align: middle; line-height: 125%\"><span></span>pidgin\n",
       "</code></span> documents are readable and reusable.  <span class=\"highlight\"><code style=\"display: inline-block; vertical-align: middle; line-height: 125%\"><span></span>pidgin\n",
       "</code></span> uses <span class=\"highlight\"><code style=\"display: inline-block; vertical-align: middle; line-height: 125%\"><span></span>importnb\n",
       "</code></span> to <span class=\"highlight\"><code style=\"display: inline-block; vertical-align: middle; line-height: 125%\"><span></span><span style=\"color: #008000\">__import__</span>\n",
       "</code></span> documents as modules.</p>\n",
       "</li>\n",
       "<li><p><span class=\"highlight\"><code style=\"display: inline-block; vertical-align: middle; line-height: 125%\"><span></span>pidgin\n",
       "</code></span> uses <strong>YAML front matter</strong> to annotate output metadata and provide temporary variables for publishing.</p>\n",
       "</li>\n",
       "<li><p><span class=\"highlight\"><code style=\"display: inline-block; vertical-align: middle; line-height: 125%\"><span></span>pidgin\n",
       "</code></span> uses <span class=\"highlight\"><code style=\"display: inline-block; vertical-align: middle; line-height: 125%\"><span></span>jinja2\n",
       "</code></span> -  a dependency of <span class=\"highlight\"><code style=\"display: inline-block; vertical-align: middle; line-height: 125%\"><span></span>nbconvert\n",
       "</code></span> - to template <strong>Python</strong> variables into \n",
       "the published output.</p>\n",
       "</li>\n",
       "<li><p><span class=\"highlight\"><code style=\"display: inline-block; vertical-align: middle; line-height: 125%\"><span></span>pidgin\n",
       "</code></span> includes <span class=\"highlight\"><code style=\"display: inline-block; vertical-align: middle; line-height: 125%\"><span></span>graphviz\n",
       "</code></span> support for typographically compising diagrams.</p>\n",
       "</li>\n",
       "<li><p><span class=\"highlight\"><code style=\"display: inline-block; vertical-align: middle; line-height: 125%\"><span></span>pidgin\n",
       "</code></span> has many other features (e.g. completion, inspection) that we hope you enjoy discovering along the way 😁.</p>\n",
       "</li>\n",
       "</ul>\n"
      ],
      "text/plain": [
       "<IPython.core.display.HTML object>"
      ]
     },
     "metadata": {},
     "output_type": "display_data"
    }
   ],
   "source": [
    "`pidgin` is a document-forward approach to `notebook` authoring.  Authors will combine languages within cells to narrate the computational logic underlying the source code. Below is a list of `pidgin` features 🔽\n",
    "\n",
    "* `pidgin` is __Markdown__ first; __indented code blocks__ execute as normal code.  _The only modification to your workflow is to indenting your code;\n",
    "a notebook of indented code cells will execute with normal behavior.\n",
    "* `pidgin` executes `all` code!  Inline code and code fences execute code, and it must work.\n",
    "* `pidgin` promotes `doctest`ing within cells.  `doctest` is trigger by the familiar `\">>>\" and \"...\"` syntax.\n",
    "* `pidgin` documents are readable and reusable.  `pidgin` uses `importnb` to `__import__` documents as modules.\n",
    "* `pidgin` uses __YAML front matter__ to annotate output metadata and provide temporary variables for publishing.\n",
    "* `pidgin` uses `jinja2` -  a dependency of `nbconvert` - to template __Python__ variables into \n",
    "the published output.\n",
    "* `pidgin` includes `graphviz` support for typographically compising diagrams.\n",
    "* `pidgin` has many other features (e.g. completion, inspection) that we hope you enjoy discovering along the way ___beaming_face_with_smiling_eyes___."
   ]
  },
  {
   "cell_type": "code",
   "execution_count": 8,
   "metadata": {},
   "outputs": [],
   "source": [
    "    \n",
    ">>> import ast"
   ]
  },
  {
   "cell_type": "code",
   "execution_count": 9,
   "metadata": {},
   "outputs": [
    {
     "data": {
      "text/html": [
       "<a href=\"#Writing-code-in-span-class-highlight-code-style-display-inline-block-vertical-align-middle-line-height-125-span-span-pidgin-code-span\"><h3 id=\"Writing-code-in-span-class-highlight-code-style-display-inline-block-vertical-align-middle-line-height-125-span-span-pidgin-code-span\">Writing code in <span class=\"highlight\"><code style=\"display: inline-block; vertical-align: middle; line-height: 125%\"><span></span>pidgin\n",
       "</code></span></h3></a><p><span class=\"highlight\"><code style=\"display: inline-block; vertical-align: middle; line-height: 125%\"><span></span><span style=\"color: #666666\">...</span>\n",
       "</code></span> is not much different than composing normal <span class=\"highlight\"><code style=\"display: inline-block; vertical-align: middle; line-height: 125%\"><span></span>notebook\n",
       "</code></span>s; just indent the source code once.</p>\n",
       "<table class=\"highlighttable\"><tr><td><div class=\"linenodiv\" style=\"background-color: #f0f0f0; padding-right: 10px\"><pre style=\"line-height: 125%\">5</pre></div></td><td style=\"text-align: left;\" class=\"code\"><div class=\"highlight\" style=\"background: #f8f8f8\"><pre style=\"line-height: 125%\"><span></span><span style=\"color: #BA2121\">&quot;I am code, 🦁, rawwwwrrr&quot;</span>\n",
       "</pre></div>\n",
       "</td></tr></table><blockquote><p>To reiterate, code objects are identified by their <span class=\"highlight\"><code style=\"display: inline-block; vertical-align: middle; line-height: 125%\"><span></span><span style=\"color: #BA2121\">&quot;monospace&quot;</span>\n",
       "</code></span> typesetting.</p>\n",
       "</blockquote>\n",
       "<ul>\n",
       "<li><p>If any other <strong>Markdown</strong> features exist, the cell is rendered as rich HTML; cells only containing code are not rendered.</p>\n",
       "</li>\n",
       "<li><p>A note: code in list blocks must be carry an extra indent to be registered.</p>\n",
       "<table class=\"highlighttable\"><tr><td><div class=\"linenodiv\" style=\"background-color: #f0f0f0; padding-right: 10px\"><pre style=\"line-height: 125%\">12</pre></div></td><td style=\"text-align: left;\" class=\"code\"><div class=\"highlight\" style=\"background: #f8f8f8\"><pre style=\"line-height: 125%\"><span></span><span style=\"color: #BA2121\">&quot;Indented code within a list requires an extra for each level.&quot;</span>\n",
       "</pre></div>\n",
       "</td></tr></table></li>\n",
       "<li><p>Indents are aligned to the first indented code block..  Specifically, the source for this cell is indented twice to avoid an <span class=\"highlight\"><code style=\"display: inline-block; vertical-align: middle; line-height: 125%\"><span></span><span style=\"color: #D2413A; font-weight: bold\">IndentationError</span>\n",
       "</code></span>.</p>\n",
       "</li>\n",
       "</ul>\n",
       "<a href=\"#span-class-highlight-code-style-display-inline-block-vertical-align-middle-line-height-125-span-span-span-style-color-BA2121-docstring-span-code-span-s-for-code-class-code-code-function-def-code-initions\"><h4 id=\"span-class-highlight-code-style-display-inline-block-vertical-align-middle-line-height-125-span-span-span-style-color-BA2121-docstring-span-code-span-s-for-code-class-code-code-function-def-code-initions\"><span class=\"highlight\"><code style=\"display: inline-block; vertical-align: middle; line-height: 125%\"><span></span><span style=\"color: #BA2121\">&quot;docstring&quot;</span>\n",
       "</code></span>s for <code>class</code> &amp; <code>function def</code>initions.</h4></a><p><span class=\"highlight\"><code style=\"display: inline-block; vertical-align: middle; line-height: 125%\"><span></span>pidgin\n",
       "</code></span> converts all non-source code to strings so it is consumed by the python <span class=\"highlight\"><code style=\"display: inline-block; vertical-align: middle; line-height: 125%\"><span></span>ast\n",
       "</code></span>.  When a <strong>_Markdown</strong> <span class=\"highlight\"><code style=\"display: inline-block; vertical-align: middle; line-height: 125%\"><span></span><span style=\"color: #008000\">str</span>\n",
       "</code></span>ing following a <code>class</code> or <code>def</code> statement becomes the docstring; <span class=\"highlight\"><code style=\"display: inline-block; vertical-align: middle; line-height: 125%\"><span></span>doctest\n",
       "</code></span>s included.</p>\n",
       "<table class=\"highlighttable\"><tr><td><div class=\"linenodiv\" style=\"background-color: #f0f0f0; padding-right: 10px\"><pre style=\"line-height: 125%\">21</pre></div></td><td style=\"text-align: left;\" class=\"code\"><div class=\"highlight\" style=\"background: #f8f8f8\"><pre style=\"line-height: 125%\"><span></span><span style=\"color: #008000; font-weight: bold\">def</span> <span style=\"color: #0000FF\">a_function_with_a_markdown_docstring</span>():\n",
       "</pre></div>\n",
       "</td></tr></table><p>This is the <span class=\"highlight\"><code style=\"display: inline-block; vertical-align: middle; line-height: 125%\"><span></span><span style=\"color: #BA2121\">&quot;docstring&quot;</span>\n",
       "</code></span> for <span class=\"highlight\"><code style=\"display: inline-block; vertical-align: middle; line-height: 125%\"><span></span>a_function_with_a_markdown_docstring\n",
       "</code></span>.  It is a function that returns <span class=\"highlight\"><code style=\"display: inline-block; vertical-align: middle; line-height: 125%\"><span></span><span style=\"color: #008000\">None</span>\n",
       "</code></span>.</p>\n",
       "<pre><code>&gt;&gt;&gt; assert a_function_with_a_markdown_docstring() is None\n",
       "</code></pre>\n",
       "<table class=\"highlighttable\"><tr><td><div class=\"linenodiv\" style=\"background-color: #f0f0f0; padding-right: 10px\"><pre style=\"line-height: 125%\">26\n",
       "27</pre></div></td><td style=\"text-align: left;\" class=\"code\"><div class=\"highlight\" style=\"background: #f8f8f8\"><pre style=\"line-height: 125%\"><span></span><span style=\"color: #666666\">...</span> <span style=\"color: #408080; font-style: italic\"># A line break is required above to define code</span>\n",
       "<span style=\"color: #408080; font-style: italic\"># otherwise Markdown assumes the paragraph is being continued</span>\n",
       "</pre></div>\n",
       "</td></tr></table><pre><code>&gt;&gt;&gt; a_function_with_a_markdown_docstring.__doc__\n",
       "'This is the `\"docstring\"` for ... assert a_function_with_a_markdown_docstring() is None'\n",
       "</code></pre>\n"
      ],
      "text/plain": [
       "<IPython.core.display.HTML object>"
      ]
     },
     "metadata": {},
     "output_type": "display_data"
    }
   ],
   "source": [
    "### Writing code in `pidgin`\n",
    "\n",
    "`...` is not much different than composing normal `notebook`s; just indent the source code once. \n",
    "\n",
    "        \"I am code, 🦁, rawwwwrrr\"\n",
    "    \n",
    "> To reiterate, code objects are identified by their `\"monospace\"` typesetting.\n",
    "\n",
    "* If any other __Markdown__ features exist, the cell is rendered as rich HTML; cells only containing code are not rendered.\n",
    "* A note: code in list blocks must be carry an extra indent to be registered.\n",
    "    \n",
    "        \"Indented code within a list requires an extra for each level.\"\n",
    "    \n",
    "* Indents are aligned to the first indented code block..  Specifically, the source for this cell is indented twice to avoid an `IndentationError`.\n",
    "\n",
    "\n",
    "#### `\"docstring\"`s for <code>class</code> & <code>function def</code>initions.\n",
    "\n",
    "`pidgin` converts all non-source code to strings so it is consumed by the python `ast`.  When a ___Markdown__ `str`ing following a <code>class</code> or <code>def</code> statement becomes the docstring; `doctest`s included.\n",
    "\n",
    "    def a_function_with_a_markdown_docstring():\n",
    "This is the `\"docstring\"` for `a_function_with_a_markdown_docstring`.  It is a function that returns `None`.\n",
    "\n",
    ">>> assert a_function_with_a_markdown_docstring() is None\n",
    "        \n",
    "    ... # A line break is required above to define code\n",
    "    # otherwise Markdown assumes the paragraph is being continued\n",
    "    \n",
    ">>> a_function_with_a_markdown_docstring.__doc__\n",
    "'This is the `\"docstring\"` for ... assert a_function_with_a_markdown_docstring() is None'"
   ]
  },
  {
   "cell_type": "code",
   "execution_count": 10,
   "metadata": {
    "jupyter": {
     "source_hidden": true
    }
   },
   "outputs": [
    {
     "data": {
      "text/html": [
       "<a href=\"#Writing-tests\"><h3 id=\"Writing-tests\">Writing tests</h3></a><blockquote><p><span class=\"highlight\"><code style=\"display: inline-block; vertical-align: middle; line-height: 125%\"><span></span><span style=\"color: #008000\">all</span>\n",
       "</code></span> code are tests!</p>\n",
       "</blockquote>\n",
       "<p><span class=\"highlight\"><code style=\"display: inline-block; vertical-align: middle; line-height: 125%\"><span></span>pidgin\n",
       "</code></span> provides <strong>3</strong> ways to run tests:</p>\n",
       "<ol>\n",
       "<li><p><span class=\"highlight\"><code style=\"display: inline-block; vertical-align: middle; line-height: 125%\"><span></span><span style=\"color: #BA2121\">&quot;Inline code is identified by a tick&quot;</span> <span style=\"color: #AA22FF; font-weight: bold\">and</span> <span style=\"color: #BA2121\">&quot;It must raise an Exception&quot;</span>\n",
       "</code></span></p>\n",
       "</li>\n",
       "<li><p>Code fences without a language specification are evaluated.</p>\n",
       "<table class=\"highlighttable\"><tr><td><div class=\"linenodiv\" style=\"background-color: #f0f0f0; padding-right: 10px\"><pre style=\"line-height: 125%\">12\n",
       "13\n",
       "14</pre></div></td><td style=\"text-align: left;\" class=\"code\"><div class=\"highlight\" style=\"background: #f8f8f8\"><pre style=\"line-height: 125%\"><span></span><span style=\"color: #008000; font-weight: bold\">import</span> <span style=\"color: #0000FF; font-weight: bold\">_document_</span>\n",
       " _document_<span style=\"color: #666666\">.</span><span style=\"color: #19177C\">__dict__</span><span style=\"color: #666666\">.</span>update({<span style=\"color: #BA2121\">&quot;I run&quot;</span>: <span style=\"color: #008000\">None</span>})\n",
       " <span style=\"color: #008000; font-weight: bold\">assert</span> <span style=\"color: #BA2121\">&quot;I run&quot;</span> <span style=\"color: #AA22FF; font-weight: bold\">in</span> _document_<span style=\"color: #666666\">.</span><span style=\"color: #19177C\">__dict__</span>\n",
       "</pre></div>\n",
       "</td></tr></table></li>\n",
       "<li><p><span class=\"highlight\"><code style=\"display: inline-block; vertical-align: middle; line-height: 125%\"><span></span>doctest\n",
       "</code></span> are evaluated.</p>\n",
       "</li>\n",
       "</ol>\n",
       "<pre><code>&gt;&gt;&gt; assert doctest\n",
       "</code></pre>\n"
      ],
      "text/plain": [
       "<IPython.core.display.HTML object>"
      ]
     },
     "metadata": {},
     "output_type": "display_data"
    }
   ],
   "source": [
    "### Writing tests\n",
    "\n",
    "> `all` code are tests!\n",
    "\n",
    "`pidgin` provides __3__ ways to run tests: \n",
    "    \n",
    "1. `\"Inline code is identified by a tick\" and \"It must raise an Exception\"`\n",
    "2. Code fences without a language specification are evaluated.\n",
    "\n",
    "    ```\n",
    "    import _document_\n",
    "    _document_.__dict__.update({\"I run\": None})\n",
    "    assert \"I run\" in _document_.__dict__\n",
    "    ```\n",
    "\n",
    "3. `doctest` are evaluated.\n",
    "\n",
    ">>> assert doctest"
   ]
  },
  {
   "cell_type": "code",
   "execution_count": 11,
   "metadata": {},
   "outputs": [
    {
     "data": {
      "text/html": [
       "<a href=\"#Templating-output\"><h3 id=\"Templating-output\">Templating output</h3></a><p><span class=\"highlight\"><code style=\"display: inline-block; vertical-align: middle; line-height: 125%\"><span></span>pidgin\n",
       "</code></span> compiles and formats <span class=\"highlight\"><code style=\"display: inline-block; vertical-align: middle; line-height: 125%\"><span></span>jinja2\n",
       "</code></span> template syntax during the <strong>Markdown</strong> rendering.  <span class=\"highlight\"><code style=\"display: inline-block; vertical-align: middle; line-height: 125%\"><span></span>jinja2<span style=\"color: #666666\">.</span>Template\n",
       "</code></span>s embed notebook variables as strings; <span class=\"highlight\"><code style=\"display: inline-block; vertical-align: middle; line-height: 125%\"><span></span>pidgin\n",
       "</code></span> is enhanced to use the <span class=\"highlight\"><code style=\"display: inline-block; vertical-align: middle; line-height: 125%\"><span></span>IPython<span style=\"color: #666666\">.</span>display\n",
       "</code></span>  to embed rich html objects.</p>\n"
      ],
      "text/plain": [
       "<IPython.core.display.HTML object>"
      ]
     },
     "metadata": {},
     "output_type": "display_data"
    }
   ],
   "source": [
    "### Templating output\n",
    "\n",
    "`pidgin` compiles and formats `jinja2` template syntax during the __Markdown__ rendering.  `jinja2.Template`s embed notebook variables as strings; `pidgin` is enhanced to use the `IPython.display`  to embed rich html objects."
   ]
  },
  {
   "cell_type": "code",
   "execution_count": 12,
   "metadata": {
    "jupyter": {
     "source_hidden": true
    }
   },
   "outputs": [
    {
     "name": "stdout",
     "output_type": "stream",
     "text": [
      "The pidgin extension is already loaded. To reload it, use:\n",
      "  %reload_ext pidgin\n"
     ]
    },
    {
     "data": {
      "text/html": [
       "<a href=\"#Documents-as-modules\"><h3 id=\"Documents-as-modules\">Documents as modules</h3></a><p>It is a shame to write code that other documents can't use.  <span class=\"highlight\"><code style=\"display: inline-block; vertical-align: middle; line-height: 125%\"><span></span>pidgin\n",
       "</code></span> subclasses <span class=\"highlight\"><code style=\"display: inline-block; vertical-align: middle; line-height: 125%\"><span></span>importnb\n",
       "</code></span> to import notebooks as documents.</p>\n",
       "<table class=\"highlighttable\"><tr><td><div class=\"linenodiv\" style=\"background-color: #f0f0f0; padding-right: 10px\"><pre style=\"line-height: 125%\">5\n",
       "6\n",
       "7</pre></div></td><td style=\"text-align: left;\" class=\"code\"><div class=\"highlight\" style=\"background: #f8f8f8\"><pre style=\"line-height: 125%\"><span></span><span style=\"color: #008000; font-weight: bold\">if</span> <span style=\"color: #19177C\">__name__</span> <span style=\"color: #666666\">==</span> <span style=\"color: #BA2121\">&#39;__main__&#39;</span>:\n",
       "    <span style=\"color: #008000; font-weight: bold\">with</span> pidgin<span style=\"color: #666666\">.</span>Pidgin():\n",
       "        <span style=\"color: #008000; font-weight: bold\">import</span> <span style=\"color: #0000FF; font-weight: bold\">readme_pidgin</span>\n",
       "</pre></div>\n",
       "</td></tr></table><p><span class=\"highlight\"><code style=\"display: inline-block; vertical-align: middle; line-height: 125%\"><span></span>pidgin\n",
       "</code></span> documents end with the hybird <span class=\"highlight\"><code style=\"display: inline-block; vertical-align: middle; line-height: 125%\"><span></span><span style=\"color: #BA2121\">&quot;.md.ipynb&quot;</span>\n",
       "</code></span> extension.</p>\n",
       "<pre><code>&gt;&gt;&gt; readme_pidgin\n",
       "&lt;module 'readme_pidgin' from '...readme_pidgin.md.ipynb'&gt;\n",
       "</code></pre>\n"
      ],
      "text/plain": [
       "<IPython.core.display.HTML object>"
      ]
     },
     "metadata": {},
     "output_type": "display_data"
    }
   ],
   "source": [
    "### Documents as modules\n",
    "\n",
    "It is a shame to write code that other documents can't use.  `pidgin` subclasses `importnb` to import notebooks as documents.\n",
    "\n",
    "    if __name__ == '__main__':\n",
    "        with pidgin.Pidgin():\n",
    "            import readme_pidgin\n",
    "\n",
    "`pidgin` documents end with the hybird `\".md.ipynb\"` extension.\n",
    "            \n",
    ">>> readme_pidgin\n",
    "<module 'readme_pidgin' from '...readme_pidgin.md.ipynb'>\n"
   ]
  },
  {
   "cell_type": "code",
   "execution_count": 13,
   "metadata": {},
   "outputs": [
    {
     "data": {
      "text/html": [
       "<a href=\"#Ways-to-use-span-class-highlight-code-style-display-inline-block-vertical-align-middle-line-height-125-span-span-pidgin-code-span\"><h4 id=\"Ways-to-use-span-class-highlight-code-style-display-inline-block-vertical-align-middle-line-height-125-span-span-pidgin-code-span\">Ways to use <span class=\"highlight\"><code style=\"display: inline-block; vertical-align: middle; line-height: 125%\"><span></span>pidgin\n",
       "</code></span></h4></a><ul>\n",
       "<li><p><strong><em>Binder</em></strong> <a href=\"https://mybinder.org/v2/gh/deathbeds/pidgin/master?filepath=readme_pidgin.md.ipynb\"><img src=\"https://mybinder.org/badge.svg\" alt=\"Binder\"></a></p>\n",
       "<p>Take <span class=\"highlight\"><code style=\"display: inline-block; vertical-align: middle; line-height: 125%\"><span></span>pidgin\n",
       "</code></span> for a spin on <a href=\"https://mybinder.org/v2/gh/deathbeds/pidgin/master?filepath=readme.ipynb\"><strong><em>Binder</em></strong></a>.</p>\n",
       "</li>\n",
       "<li><p><strong><em>Pytest</em></strong> <a href=\"https://github.com/pytest-dev\"><img src=\"https://avatars1.githubusercontent.com/u/8897583?s=40&amp;v=4\" alt=\"\"></a></p>\n",
       "<p><span class=\"highlight\"><code style=\"display: inline-block; vertical-align: middle; line-height: 125%\"><span></span>pidgin\n",
       "</code></span> works great with the <a href=\"https://github.com/computationalmodelling/nbval\"><strong>nbval</strong></a> and <a href=\"https://github.com/deathbeds/importnb\"><strong>importnb</strong></a> notebook specific pytest extensions.  <span class=\"highlight\"><code style=\"display: inline-block; vertical-align: middle; line-height: 125%\"><span></span>pidgin\n",
       "</code></span> itself is a <span class=\"highlight\"><code style=\"display: inline-block; vertical-align: middle; line-height: 125%\"><span></span><span style=\"color: #008000; font-weight: bold\">import</span> <span style=\"color: #0000FF; font-weight: bold\">pytest</span>\n",
       "</code></span>\n",
       "  plugin that permits tests with <strong>.md.ipynb</strong> and <strong>.md</strong> extensions.</p>\n",
       "</li>\n",
       "<li><p><strong><em>Jupyter</em></strong> <a href=\"https://github.com/jupyterlab\"><img src=\"https://avatars1.githubusercontent.com/u/7388996?s=40\" alt=\"\"></a></p>\n",
       "</li>\n",
       "<li><p><strong><em>JupyterLab</em></strong> <a href=\"https://github.com/jupyterlab\"><img src=\"https://avatars1.githubusercontent.com/u/22800682?s=40\" alt=\"\"></a></p>\n",
       "</li>\n",
       "<li><p><strong><em>Google Colaboratory</em></strong> <a href=\"https://colab.research.google.com/github/deathbeds/pidgin/blob/mistune/readme.ipynb\"><img src=\"https://avatars0.githubusercontent.com/u/33467679?s=40\" alt=\"\"></a></p>\n",
       "</li>\n",
       "<li><p><strong><em>nteract</em></strong> <a href=\"https://nteract.io\"><img src=\"https://avatars0.githubusercontent.com/u/12401040?s=40\" alt=\"\"></a></p>\n",
       "</li>\n",
       "</ul>\n"
      ],
      "text/plain": [
       "<IPython.core.display.HTML object>"
      ]
     },
     "metadata": {},
     "output_type": "display_data"
    }
   ],
   "source": [
    "#### Ways to use `pidgin`\n",
    "\n",
    "* __*Binder*__ [![Binder](https://mybinder.org/badge.svg)](https://mybinder.org/v2/gh/deathbeds/pidgin/master?filepath=readme_pidgin.md.ipynb) \n",
    "\n",
    "    Take `pidgin` for a spin on [__*Binder*__](https://mybinder.org/v2/gh/deathbeds/pidgin/master?filepath=readme.ipynb).\n",
    "* __*Pytest*__ [![](https://avatars1.githubusercontent.com/u/8897583?s=40&v=4)](https://github.com/pytest-dev) \n",
    "\n",
    "    `pidgin` works great with the [__nbval__](https://github.com/computationalmodelling/nbval) and [__importnb__](https://github.com/deathbeds/importnb) notebook specific pytest extensions.  `pidgin` itself is a `import pytest`\n",
    "    plugin that permits tests with __.md.ipynb__ and __.md__ extensions.\n",
    "    \n",
    "* __*Jupyter*__ [![](https://avatars1.githubusercontent.com/u/7388996?s=40)](https://github.com/jupyterlab) \n",
    "* __*JupyterLab*__ [![](https://avatars1.githubusercontent.com/u/22800682?s=40)](https://github.com/jupyterlab) \n",
    "* __*Google Colaboratory*__ [![](https://avatars0.githubusercontent.com/u/33467679?s=40)](https://colab.research.google.com/github/deathbeds/pidgin/blob/mistune/readme.ipynb)\n",
    "* __*nteract*__ [![](https://avatars0.githubusercontent.com/u/12401040?s=40)](https://nteract.io)"
   ]
  },
  {
   "cell_type": "code",
   "execution_count": 14,
   "metadata": {},
   "outputs": [
    {
     "data": {
      "text/html": [
       "<a href=\"#Roadmap\"><h2 id=\"Roadmap\">Roadmap</h2></a><ul>\n",
       "<li><p><span class=\"highlight\"><code style=\"display: inline-block; vertical-align: middle; line-height: 125%\"><span></span>pidgin\n",
       "</code></span> should become an <span class=\"highlight\"><code style=\"display: inline-block; vertical-align: middle; line-height: 125%\"><span></span><span style=\"color: #008000; font-weight: bold\">import</span> <span style=\"color: #0000FF; font-weight: bold\">ipykernel</span>\n",
       "</code></span>.</p>\n",
       "</li>\n",
       "<li><p><span class=\"highlight\"><code style=\"display: inline-block; vertical-align: middle; line-height: 125%\"><span></span>pidgin\n",
       "</code></span> should have an application level interface to control features.</p>\n",
       "</li>\n",
       "<li><p><span class=\"highlight\"><code style=\"display: inline-block; vertical-align: middle; line-height: 125%\"><span></span>pidgin\n",
       "</code></span> should extend to other ipykernels.</p>\n",
       "</li>\n",
       "<li><p><span class=\"highlight\"><code style=\"display: inline-block; vertical-align: middle; line-height: 125%\"><span></span>pidgin\n",
       "</code></span> should become an <span class=\"highlight\"><code style=\"display: inline-block; vertical-align: middle; line-height: 125%\"><span></span><span style=\"color: #008000; font-weight: bold\">import</span> <span style=\"color: #0000FF; font-weight: bold\">nbconvert.nbconvertapp</span>\n",
       "</code></span> and <span class=\"highlight\"><code style=\"display: inline-block; vertical-align: middle; line-height: 125%\"><span></span>nbconvert<span style=\"color: #666666\">.</span>preprocessors\n",
       "</code></span>.</p>\n",
       "</li>\n",
       "<li><p><span class=\"highlight\"><code style=\"display: inline-block; vertical-align: middle; line-height: 125%\"><span></span>pidgin\n",
       "</code></span> should become python source code eventually.</p>\n",
       "</li>\n",
       "</ul>\n"
      ],
      "text/plain": [
       "<IPython.core.display.HTML object>"
      ]
     },
     "metadata": {},
     "output_type": "display_data"
    }
   ],
   "source": [
    "## Roadmap\n",
    "\n",
    "* `pidgin` should become an `import ipykernel`.\n",
    "* `pidgin` should have an application level interface to control features.\n",
    "* `pidgin` should extend to other ipykernels.\n",
    "* `pidgin` should become an `import nbconvert.nbconvertapp` and `nbconvert.preprocessors`.\n",
    "* `pidgin` should become python source code eventually."
   ]
  },
  {
   "cell_type": "markdown",
   "metadata": {},
   "source": [
    "## Developer\n",
    "    "
   ]
  },
  {
   "cell_type": "code",
   "execution_count": 15,
   "metadata": {
    "jupyter": {
     "source_hidden": true
    }
   },
   "outputs": [],
   "source": [
    "    build = False"
   ]
  },
  {
   "cell_type": "markdown",
   "metadata": {},
   "source": [
    "### Test `pidgin`\n",
    "\n",
    "    if __name__ == '__main__':\n",
    "        !ipython -m pytest -- --nbval"
   ]
  },
  {
   "cell_type": "code",
   "execution_count": 16,
   "metadata": {
    "jupyter": {
     "source_hidden": true
    }
   },
   "outputs": [
    {
     "data": {
      "text/html": [
       "<a href=\"#Run-tests\"><h3 id=\"Run-tests\">Run tests</h3></a><table class=\"highlighttable\"><tr><td><div class=\"linenodiv\" style=\"background-color: #f0f0f0; padding-right: 10px\"><pre style=\"line-height: 125%\">3</pre></div></td><td style=\"text-align: left;\" class=\"code\"><div class=\"highlight\" style=\"background: #f8f8f8\"><pre style=\"line-height: 125%\"><span></span>test <span style=\"color: #666666\">=</span> <span style=\"color: #008000\">False</span>\n",
       "</pre></div>\n",
       "</td></tr></table>"
      ],
      "text/plain": [
       "<IPython.core.display.HTML object>"
      ]
     },
     "metadata": {},
     "output_type": "display_data"
    }
   ],
   "source": [
    "### Run tests\n",
    "\n",
    "    test = False"
   ]
  },
  {
   "cell_type": "markdown",
   "metadata": {},
   "source": [
    "    %%file sanitize.cfg\n",
    "    [skip_graphviz]\n",
    "    regex: <svg(.|\\n)*</svg>w\n",
    "    replace: ---\n",
    "        \n",
    "        "
   ]
  },
  {
   "cell_type": "code",
   "execution_count": 17,
   "metadata": {
    "jupyter": {
     "source_hidden": true
    }
   },
   "outputs": [],
   "source": [
    "    if test or build: \n",
    "        !ipython -m pytest -- --nbval --sanitize-with sanitize.cfg "
   ]
  },
  {
   "cell_type": "code",
   "execution_count": 18,
   "metadata": {
    "jupyter": {
     "source_hidden": true
    }
   },
   "outputs": [
    {
     "data": {
      "text/html": [
       "<a href=\"#UML-diagrams\"><h3 id=\"UML-diagrams\">UML diagrams</h3></a><table class=\"highlighttable\"><tr><td><div class=\"linenodiv\" style=\"background-color: #f0f0f0; padding-right: 10px\"><pre style=\"line-height: 125%\">3</pre></div></td><td style=\"text-align: left;\" class=\"code\"><div class=\"highlight\" style=\"background: #f8f8f8\"><pre style=\"line-height: 125%\"><span></span>uml <span style=\"color: #666666\">=</span> <span style=\"color: #008000\">False</span>\n",
       "</pre></div>\n",
       "</td></tr></table>"
      ],
      "text/plain": [
       "<IPython.core.display.HTML object>"
      ]
     },
     "metadata": {},
     "output_type": "display_data"
    }
   ],
   "source": [
    "### UML diagrams\n",
    "\n",
    "    uml = False"
   ]
  },
  {
   "cell_type": "code",
   "execution_count": 19,
   "metadata": {
    "jupyter": {
     "source_hidden": true
    }
   },
   "outputs": [],
   "source": [
    "    if uml or build:\n",
    "        import shutil, pathlib, os\n",
    "        %pushd pidgin\n",
    "        !jupyter nbconvert --to python *.ipynb\n",
    "        %popd pidgin\n",
    "        !pyreverse pidgin -ppidgin -opng\n",
    "        list(os.remove(path.with_suffix('.py')) for path in pathlib.Path('pidgin').glob('*.ipynb'))\n",
    "        list((shutil.copy(path, 'docs'), os.remove(path)) for path in pathlib.Path('').glob('*.png'));  "
   ]
  },
  {
   "cell_type": "code",
   "execution_count": 20,
   "metadata": {
    "jupyter": {
     "source_hidden": true
    }
   },
   "outputs": [
    {
     "data": {
      "text/html": [
       "<a href=\"#Convert-to-the-strong-readme-md-strong\"><h3 id=\"Convert-to-the-strong-readme-md-strong\">Convert to the <strong>readme.md</strong></h3></a><table class=\"highlighttable\"><tr><td><div class=\"linenodiv\" style=\"background-color: #f0f0f0; padding-right: 10px\"><pre style=\"line-height: 125%\">3</pre></div></td><td style=\"text-align: left;\" class=\"code\"><div class=\"highlight\" style=\"background: #f8f8f8\"><pre style=\"line-height: 125%\"><span></span>convert<span style=\"color: #666666\">=</span><span style=\"color: #008000\">False</span>\n",
       "</pre></div>\n",
       "</td></tr></table>"
      ],
      "text/plain": [
       "<IPython.core.display.HTML object>"
      ]
     },
     "metadata": {},
     "output_type": "display_data"
    }
   ],
   "source": [
    "### Convert to the __readme.md__\n",
    "\n",
    "    convert=False"
   ]
  },
  {
   "cell_type": "markdown",
   "metadata": {},
   "source": [
    "    %%file markdown_readme.py\n",
    "    c.MarkdownExporter.raw_mimetypes = ['text/markdown']\n",
    "    c.TemplateExporter.exclude_input=True"
   ]
  },
  {
   "cell_type": "code",
   "execution_count": 22,
   "metadata": {},
   "outputs": [
    {
     "name": "stdout",
     "output_type": "stream",
     "text": [
      "[NbConvertApp] Converting notebook readme_pidgin.md.ipynb to markdown\n"
     ]
    }
   ],
   "source": [
    "    if convert or build:\n",
    "        !jupyter nbconvert --to markdown --TemplateExporter.exclude_input=True --stdout readme_pidgin.md.ipynb > readme.md"
   ]
  },
  {
   "cell_type": "code",
   "execution_count": null,
   "metadata": {
    "jupyter": {
     "source_hidden": true
    }
   },
   "outputs": [],
   "source": []
  }
 ],
 "metadata": {
  "kernelspec": {
   "display_name": "p6",
   "language": "python",
   "name": "other-env"
  },
  "language_info": {
   "codemirror_mode": {
    "name": "ipython",
    "version": 3
   },
   "file_extension": ".py",
   "mimetype": "text/x-python",
   "name": "python",
   "nbconvert_exporter": "python",
   "pygments_lexer": "ipython3",
   "version": "3.6.8"
  }
 },
 "nbformat": 4,
 "nbformat_minor": 4
}
