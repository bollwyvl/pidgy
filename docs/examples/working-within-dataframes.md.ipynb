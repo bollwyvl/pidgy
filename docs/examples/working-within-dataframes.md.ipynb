{
 "cells": [
  {
   "cell_type": "markdown",
   "metadata": {},
   "source": [
    "# Tidy Data"
   ]
  },
  {
   "cell_type": "code",
   "execution_count": 3,
   "metadata": {},
   "outputs": [
    {
     "data": {
      "text/markdown": [
       "<!--\n",
       "    \n",
       "    %%capture\n",
       "        import pandas as 🐼, pidgy, hvplot.pandas, holoviews, IPython\n",
       "        holoviews.extension('matplotlib')\n",
       "\n",
       "-->"
      ],
      "text/plain": [
       "<IPython.core.display.Markdown object>"
      ]
     },
     "metadata": {},
     "output_type": "display_data"
    }
   ],
   "source": [
    "    \n",
    "    %%capture\n",
    "        import pandas as 🐼, pidgy, hvplot.pandas, holoviews, IPython\n",
    "        holoviews.extension('matplotlib')"
   ]
  },
  {
   "cell_type": "code",
   "execution_count": 4,
   "metadata": {},
   "outputs": [
    {
     "data": {
      "text/markdown": [
       "A key motivator for `pidgy` is the ability to publish projections of \n",
       "[tidy data], specifically `🐼.DataFrame`.\n",
       "\n",
       "[tidy data]: https://vita.had.co.nz/papers/tidy-data.pdf"
      ],
      "text/plain": [
       "<IPython.core.display.Markdown object>"
      ]
     },
     "metadata": {},
     "output_type": "display_data"
    }
   ],
   "source": [
    "A key motivator for `pidgy` is the ability to publish projections of \n",
    "[tidy data], specifically `🐼.DataFrame`.\n",
    "\n",
    "[tidy data]: https://vita.had.co.nz/papers/tidy-data.pdf"
   ]
  },
  {
   "cell_type": "code",
   "execution_count": 5,
   "metadata": {},
   "outputs": [
    {
     "data": {
      "text/markdown": [
       "## Example of using a dataframe in a template.\n",
       "\n",
       "---"
      ],
      "text/plain": [
       "<IPython.core.display.Markdown object>"
      ]
     },
     "metadata": {},
     "output_type": "display_data"
    }
   ],
   "source": [
    "## Example of using a dataframe in a template.\n",
    "\n",
    "---"
   ]
  },
  {
   "cell_type": "code",
   "execution_count": 6,
   "metadata": {},
   "outputs": [
    {
     "data": {
      "text/markdown": [
       "The plots above represent visualizations of the tidy data in `🖼`.\n",
       "\n",
       "* High level statistical description of the data represented in the figure above.\n",
       "\n",
       "<table border=\"1\" class=\"dataframe\">\n",
       "  <thead>\n",
       "    <tr style=\"text-align: right;\">\n",
       "      <th></th>\n",
       "      <th>count</th>\n",
       "      <th>mean</th>\n",
       "      <th>std</th>\n",
       "      <th>min</th>\n",
       "      <th>25%</th>\n",
       "      <th>50%</th>\n",
       "      <th>75%</th>\n",
       "      <th>max</th>\n",
       "    </tr>\n",
       "  </thead>\n",
       "  <tbody>\n",
       "    <tr>\n",
       "      <th>A</th>\n",
       "      <td>20.0</td>\n",
       "      <td>9.5</td>\n",
       "      <td>5.91608</td>\n",
       "      <td>0.0</td>\n",
       "      <td>4.75</td>\n",
       "      <td>9.5</td>\n",
       "      <td>14.25</td>\n",
       "      <td>19.0</td>\n",
       "    </tr>\n",
       "    <tr>\n",
       "      <th>B</th>\n",
       "      <td>20.0</td>\n",
       "      <td>10.5</td>\n",
       "      <td>5.91608</td>\n",
       "      <td>1.0</td>\n",
       "      <td>5.75</td>\n",
       "      <td>10.5</td>\n",
       "      <td>15.25</td>\n",
       "      <td>20.0</td>\n",
       "    </tr>\n",
       "    <tr>\n",
       "      <th>C</th>\n",
       "      <td>20.0</td>\n",
       "      <td>11.5</td>\n",
       "      <td>5.91608</td>\n",
       "      <td>2.0</td>\n",
       "      <td>6.75</td>\n",
       "      <td>11.5</td>\n",
       "      <td>16.25</td>\n",
       "      <td>21.0</td>\n",
       "    </tr>\n",
       "    <tr>\n",
       "      <th>D</th>\n",
       "      <td>20.0</td>\n",
       "      <td>12.5</td>\n",
       "      <td>5.91608</td>\n",
       "      <td>3.0</td>\n",
       "      <td>7.75</td>\n",
       "      <td>12.5</td>\n",
       "      <td>17.25</td>\n",
       "      <td>22.0</td>\n",
       "    </tr>\n",
       "  </tbody>\n",
       "</table>\n",
       "\n",
       "* A sample of the data used to generate the plot.\n",
       "\n",
       "<table border=\"1\" class=\"dataframe\">\n",
       "  <thead>\n",
       "    <tr style=\"text-align: right;\">\n",
       "      <th></th>\n",
       "      <th>A</th>\n",
       "      <th>B</th>\n",
       "      <th>C</th>\n",
       "      <th>D</th>\n",
       "    </tr>\n",
       "  </thead>\n",
       "  <tbody>\n",
       "    <tr>\n",
       "      <th>0</th>\n",
       "      <td>0</td>\n",
       "      <td>1</td>\n",
       "      <td>2</td>\n",
       "      <td>3</td>\n",
       "    </tr>\n",
       "    <tr>\n",
       "      <th>1</th>\n",
       "      <td>1</td>\n",
       "      <td>2</td>\n",
       "      <td>3</td>\n",
       "      <td>4</td>\n",
       "    </tr>\n",
       "  </tbody>\n",
       "</table>\n",
       "\n",
       "Generate a dataframe to demonstrate using them with `pidgy`'s template features.\n",
       "\n",
       "    🖼 = 🐼.DataFrame([list(range(i, i+4)) for i in range(20)], columns=list(\"ABCD\"))\n",
       "    🖼.hvplot() + 🖼.describe().T['mean'].hvplot.bar()\n",
       "    \n",
       "---"
      ],
      "text/plain": [
       "<IPython.core.display.Markdown object>"
      ]
     },
     "metadata": {},
     "output_type": "display_data"
    }
   ],
   "source": [
    "The plots above represent visualizations of the tidy data in `🖼`.\n",
    "\n",
    "* High level statistical description of the data represented in the figure above.\n",
    "\n",
    "{{_framed_picture_.describe().T.to_html()}}\n",
    "\n",
    "* A sample of the data used to generate the plot.\n",
    "\n",
    "{{_framed_picture_.head(2).to_html()}}\n",
    "\n",
    "Generate a dataframe to demonstrate using them with `pidgy`'s template features.\n",
    "\n",
    "    🖼 = 🐼.DataFrame([list(range(i, i+4)) for i in range(20)], columns=list(\"ABCD\"))\n",
    "    🖼.hvplot() + 🖼.describe().T['mean'].hvplot.bar()\n",
    "    \n",
    "---"
   ]
  },
  {
   "cell_type": "code",
   "execution_count": 7,
   "metadata": {},
   "outputs": [
    {
     "data": {
      "text/markdown": [
       "`IPython` shows a visualization before `pidgy` weaves the output.  As a result, the woven output\n",
       "becomes the capture for a visualization.  It may contain other representations of a data frame to\n",
       "enhance how the information in the table is communicated. By abiding these conventions we satisfy\n",
       "the expected placement of figures/tables and their captions.  An outcome is that code becomes a \n",
       "final caption that can reproduce an output."
      ],
      "text/plain": [
       "<IPython.core.display.Markdown object>"
      ]
     },
     "metadata": {},
     "output_type": "display_data"
    }
   ],
   "source": [
    "`IPython` shows a visualization before `pidgy` weaves the output.  As a result, the woven output\n",
    "becomes the capture for a visualization.  It may contain other representations of a data frame to\n",
    "enhance how the information in the table is communicated. By abiding these conventions we satisfy\n",
    "the expected placement of figures/tables and their captions.  An outcome is that code becomes a \n",
    "final caption that can reproduce an output."
   ]
  }
 ],
 "metadata": {
  "kernelspec": {
   "display_name": "pidgy 3",
   "language": "python",
   "name": "pidgy"
  },
  "language_info": {
   "codemirror_mode": {
    "name": "ipython",
    "version": 3
   },
   "file_extension": ".py",
   "mimetype": "text/x-python",
   "name": "python",
   "nbconvert_exporter": "python",
   "pygments_lexer": "ipython3",
   "version": "3.7.3"
  }
 },
 "nbformat": 4,
 "nbformat_minor": 4
}
