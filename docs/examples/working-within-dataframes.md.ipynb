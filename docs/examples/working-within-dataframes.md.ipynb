{
 "cells": [
  {
   "cell_type": "markdown",
   "metadata": {},
   "source": [
    "# Tidy Data\n",
    "\n",
    "[tidy data]\n",
    "\n",
    "[tidy data]: https://vita.had.co.nz/papers/tidy-data.pdf"
   ]
  },
  {
   "cell_type": "code",
   "execution_count": 1,
   "metadata": {},
   "outputs": [
    {
     "data": {
      "text/markdown": [
       "    __import__('IPython').core.interactiveshell._should_be_async = lambda x:  False"
      ],
      "text/plain": [
       "<IPython.core.display.Markdown object>"
      ]
     },
     "metadata": {},
     "output_type": "display_data"
    }
   ],
   "source": [
    "    __import__('IPython').core.interactiveshell._should_be_async = lambda x:  False"
   ]
  },
  {
   "cell_type": "code",
   "execution_count": 2,
   "metadata": {},
   "outputs": [
    {
     "data": {
      "text/plain": [
       "{'computational thinking': 'https://www.ncbi.nlm.nih.gov/pmc/articles/PMC2696102/'}"
      ]
     },
     "execution_count": 2,
     "metadata": {},
     "output_type": "execute_result"
    },
    {
     "data": {
      "text/markdown": [
       "> ... a stack of elements is a common abstract data type used in computing. We would not think ‘to add’ two stacks as we would two integers.\n",
       ">> Jeanette Wing - [Computational thinking and thinking about computing][computational thinking]\n",
       "\n",
       "\n",
       "[computational thinking]: https://www.ncbi.nlm.nih.gov/pmc/articles/PMC2696102/\n",
       "\n",
       "        __annotations__"
      ],
      "text/plain": [
       "<IPython.core.display.Markdown object>"
      ]
     },
     "metadata": {},
     "output_type": "display_data"
    }
   ],
   "source": [
    "> ... a stack of elements is a common abstract data type used in computing. We would not think ‘to add’ two stacks as we would two integers.\n",
    ">> Jeanette Wing - [Computational thinking and thinking about computing][computational thinking]\n",
    "\n",
    "\n",
    "[computational thinking]: https://www.ncbi.nlm.nih.gov/pmc/articles/PMC2696102/\n",
    "\n",
    "        __annotations__"
   ]
  },
  {
   "cell_type": "code",
   "execution_count": 3,
   "metadata": {},
   "outputs": [
    {
     "data": {
      "text/markdown": [
       "A modernist style of notebook programming persists where documents are written as if programs are\n",
       "starting for nothing. Meanwhile, authors of R programming language tend to begin with the assumption\n",
       "that data exists and so does code. Notebook are a powerful substrate for working with data and\n",
       "describing the logic behind different permutations.\n",
       "\n",
       "pidgy was designed to weave projections of tabular into a computational documentation. Specifically, \n",
       "we are concerned with the DataFrame, a popular tidy data abstraction that serves as a first\n",
       "class data structure in scientific computing."
      ],
      "text/plain": [
       "<IPython.core.display.Markdown object>"
      ]
     },
     "metadata": {},
     "output_type": "display_data"
    }
   ],
   "source": [
    "A modernist style of notebook programming persists where documents are written as if programs are\n",
    "starting for nothing. Meanwhile, authors of R programming language tend to begin with the assumption\n",
    "that data exists and so does code. Notebook are a powerful substrate for working with data and\n",
    "describing the logic behind different permutations.\n",
    "\n",
    "pidgy was designed to weave projections of tabular into a computational documentation. Specifically, \n",
    "we are concerned with the DataFrame, a popular tidy data abstraction that serves as a first\n",
    "class data structure in scientific computing."
   ]
  },
  {
   "cell_type": "code",
   "execution_count": 4,
   "metadata": {},
   "outputs": [
    {
     "data": {
      "text/plain": [
       "<module 'pandas' from '/Users/tonyfast/anaconda3/envs/py38/lib/python3.8/site-packages/pandas/__init__.py'>"
      ]
     },
     "execution_count": 4,
     "metadata": {},
     "output_type": "execute_result"
    },
    {
     "data": {
      "text/markdown": [
       "    import pandas as 🐼\n",
       "    🐼"
      ],
      "text/plain": [
       "<IPython.core.display.Markdown object>"
      ]
     },
     "metadata": {},
     "output_type": "display_data"
    }
   ],
   "source": [
    "    import pandas as 🐼\n",
    "    🐼"
   ]
  },
  {
   "cell_type": "code",
   "execution_count": 5,
   "metadata": {},
   "outputs": [
    {
     "data": {
      "text/plain": [
       "<matplotlib.axes._subplots.AxesSubplot at 0x1148d6670>"
      ]
     },
     "execution_count": 5,
     "metadata": {},
     "output_type": "execute_result"
    },
    {
     "data": {
      "image/png": "[encoded data removed]",
      "text/plain": [
       "<Figure size 432x288 with 1 Axes>"
      ]
     },
     "metadata": {
      "needs_background": "light"
     },
     "output_type": "display_data"
    },
    {
     "data": {
      "text/markdown": [
       "    %matplotlib inline\n",
       "The figure above illustrates the information in `df`.\n",
       "\n",
       "A high level numeric project of this data's statistics are:\n",
       "\n",
       "<table border=\"1\" class=\"dataframe\">\n",
       "  <thead>\n",
       "    <tr style=\"text-align: right;\">\n",
       "      <th></th>\n",
       "      <th>a</th>\n",
       "      <th>b</th>\n",
       "      <th>c</th>\n",
       "      <th>d</th>\n",
       "    </tr>\n",
       "  </thead>\n",
       "  <tbody>\n",
       "    <tr>\n",
       "      <th>count</th>\n",
       "      <td>10.00000</td>\n",
       "      <td>10.00000</td>\n",
       "      <td>10.00000</td>\n",
       "      <td>10.00000</td>\n",
       "    </tr>\n",
       "    <tr>\n",
       "      <th>mean</th>\n",
       "      <td>4.50000</td>\n",
       "      <td>5.50000</td>\n",
       "      <td>6.50000</td>\n",
       "      <td>7.50000</td>\n",
       "    </tr>\n",
       "    <tr>\n",
       "      <th>std</th>\n",
       "      <td>3.02765</td>\n",
       "      <td>3.02765</td>\n",
       "      <td>3.02765</td>\n",
       "      <td>3.02765</td>\n",
       "    </tr>\n",
       "    <tr>\n",
       "      <th>min</th>\n",
       "      <td>0.00000</td>\n",
       "      <td>1.00000</td>\n",
       "      <td>2.00000</td>\n",
       "      <td>3.00000</td>\n",
       "    </tr>\n",
       "    <tr>\n",
       "      <th>25%</th>\n",
       "      <td>2.25000</td>\n",
       "      <td>3.25000</td>\n",
       "      <td>4.25000</td>\n",
       "      <td>5.25000</td>\n",
       "    </tr>\n",
       "    <tr>\n",
       "      <th>50%</th>\n",
       "      <td>4.50000</td>\n",
       "      <td>5.50000</td>\n",
       "      <td>6.50000</td>\n",
       "      <td>7.50000</td>\n",
       "    </tr>\n",
       "    <tr>\n",
       "      <th>75%</th>\n",
       "      <td>6.75000</td>\n",
       "      <td>7.75000</td>\n",
       "      <td>8.75000</td>\n",
       "      <td>9.75000</td>\n",
       "    </tr>\n",
       "    <tr>\n",
       "      <th>max</th>\n",
       "      <td>9.00000</td>\n",
       "      <td>10.00000</td>\n",
       "      <td>11.00000</td>\n",
       "      <td>12.00000</td>\n",
       "    </tr>\n",
       "  </tbody>\n",
       "</table>\n",
       "\n",
       "The statistics were created using measurements that look like the following data:\n",
       "\n",
       "<table border=\"1\" class=\"dataframe\">\n",
       "  <thead>\n",
       "    <tr style=\"text-align: right;\">\n",
       "      <th></th>\n",
       "      <th>a</th>\n",
       "      <th>b</th>\n",
       "      <th>c</th>\n",
       "      <th>d</th>\n",
       "    </tr>\n",
       "  </thead>\n",
       "  <tbody>\n",
       "    <tr>\n",
       "      <th>0</th>\n",
       "      <td>0</td>\n",
       "      <td>1</td>\n",
       "      <td>2</td>\n",
       "      <td>3</td>\n",
       "    </tr>\n",
       "    <tr>\n",
       "      <th>1</th>\n",
       "      <td>1</td>\n",
       "      <td>2</td>\n",
       "      <td>3</td>\n",
       "      <td>4</td>\n",
       "    </tr>\n",
       "  </tbody>\n",
       "</table>\n",
       "    \n",
       "    df = 🐼.DataFrame([range(i, i+4) for i in range(10)], columns=list('abcd'))\n",
       "    df.plot()"
      ],
      "text/plain": [
       "<IPython.core.display.Markdown object>"
      ]
     },
     "metadata": {},
     "output_type": "display_data"
    }
   ],
   "source": [
    "    %matplotlib inline\n",
    "The figure above illustrates the information in `df`.\n",
    "\n",
    "A high level numeric project of this data's statistics are:\n",
    "\n",
    "{{df.describe().to_html()}}\n",
    "\n",
    "The statistics were created using measurements that look like the following data:\n",
    "\n",
    "{{df.head(2).to_html()}}\n",
    "    \n",
    "    df = 🐼.DataFrame([range(i, i+4) for i in range(10)], columns=list('abcd'))\n",
    "    df.plot()"
   ]
  },
  {
   "cell_type": "code",
   "execution_count": 6,
   "metadata": {},
   "outputs": [
    {
     "data": {
      "text/markdown": [
       "In technical writing we need to consider existing conventions like:\n",
       "* Figures above captions\n",
       "* Table below captions\n",
       "\n",
       "It still remains to be seen where code canonically fits in reference to figures and tables.\n",
       "\n",
       "[Why should a table caption be placed above the table?]\n",
       "\n",
       "[Why should a table caption be placed above the table?]: https://tex.stackexchange.com/questions/3243/why-should-a-table-caption-be-placed-above-the-table"
      ],
      "text/plain": [
       "<IPython.core.display.Markdown object>"
      ]
     },
     "metadata": {},
     "output_type": "display_data"
    }
   ],
   "source": [
    "In technical writing we need to consider existing conventions like:\n",
    "* Figures above captions\n",
    "* Table below captions\n",
    "\n",
    "It still remains to be seen where code canonically fits in reference to figures and tables.\n",
    "\n",
    "[Why should a table caption be placed above the table?]\n",
    "\n",
    "[Why should a table caption be placed above the table?]: https://tex.stackexchange.com/questions/3243/why-should-a-table-caption-be-placed-above-the-table"
   ]
  },
  {
   "cell_type": "code",
   "execution_count": 7,
   "metadata": {},
   "outputs": [
    {
     "data": {
      "text/plain": [
       "{'Why should a table caption be placed above the table?': 'https://tex.stackexchange.com/questions/3243/why-should-a-table-caption-be-placed-above-the-table',\n",
       " 'computational thinking': 'https://www.ncbi.nlm.nih.gov/pmc/articles/PMC2696102/'}"
      ]
     },
     "execution_count": 7,
     "metadata": {},
     "output_type": "execute_result"
    },
    {
     "data": {
      "text/markdown": [
       "    __annotations__"
      ],
      "text/plain": [
       "<IPython.core.display.Markdown object>"
      ]
     },
     "metadata": {},
     "output_type": "display_data"
    }
   ],
   "source": [
    "    __annotations__"
   ]
  }
 ],
 "metadata": {
  "kernelspec": {
   "display_name": "pidgy 3",
   "language": "python",
   "name": "pidgy"
  },
  "language_info": {
   "codemirror_mode": {
    "name": "ipython",
    "version": 3
   },
   "file_extension": ".py",
   "mimetype": "text/x-python",
   "name": "python",
   "nbconvert_exporter": "python",
   "pygments_lexer": "ipython3",
   "version": "3.8.3"
  }
 },
 "nbformat": 4,
 "nbformat_minor": 4
}
