{
 "cells": [
  {
   "cell_type": "markdown",
   "id": "0e36a4be-dd76-4dca-9bba-210b13499b75",
   "metadata": {},
   "source": [
    "# examples of tangled `pidgy` input"
   ]
  },
  {
   "cell_type": "code",
   "execution_count": 1,
   "id": "fdf4a9da-383c-4d47-961d-4ad6d9d4f9dc",
   "metadata": {},
   "outputs": [],
   "source": [
    "    %load_ext pidgy.tangle\n",
    "    %unload_ext pidgy.tangle    "
   ]
  },
  {
   "cell_type": "code",
   "execution_count": 2,
   "id": "ead9dbf0-90f8-431b-aad4-804b8942f7c6",
   "metadata": {},
   "outputs": [
    {
     "name": "stdout",
     "output_type": "stream",
     "text": [
      "'''`pidgy`s tangle scheme only requires block level parsing of markdown,\n",
      "and all non-indented markdown blocks are represented as strings.\n",
      "this approach breaks convention relative to other markdown-forward literate programming\n",
      "implementations that rely on code fences to indicate executable code.\n",
      "\n",
      "```python\n",
      "print(\"in `pidgy`, code fences are ignored.\")\n",
      "```\n",
      "\n",
      "what follows is a large python block string''';\n",
      "\n"
     ]
    }
   ],
   "source": [
    "    %%tangle\n",
    "`pidgy`s tangle scheme only requires block level parsing of markdown,\n",
    "and all non-indented markdown blocks are represented as strings.\n",
    "this approach breaks convention relative to other markdown-forward literate programming\n",
    "implementations that rely on code fences to indicate executable code.\n",
    "\n",
    "```python\n",
    "print(\"in `pidgy`, code fences are ignored.\")\n",
    "```\n",
    "\n",
    "what follows is a large python block string"
   ]
  },
  {
   "cell_type": "code",
   "execution_count": 3,
   "id": "03e4b9f5-2372-4293-80df-b6a7e66cae88",
   "metadata": {},
   "outputs": [
    {
     "name": "stdout",
     "output_type": "stream",
     "text": [
      "'''quotations are \\'\\'escaped\\' for safety\\'''';\n",
      "\n"
     ]
    }
   ],
   "source": [
    "    %%tangle\n",
    "quotations are ''escaped' for safety'"
   ]
  },
  {
   "cell_type": "code",
   "execution_count": 4,
   "id": "df01b22a-ac7e-4e51-ad20-b146686ef44e",
   "metadata": {},
   "outputs": [
    {
     "name": "stdout",
     "output_type": "stream",
     "text": [
      "'''code is acknowledged the first moment that an indented code block is found like the print expression below.'''\n",
      "\n",
      "print(\"this is the first line of real code\")    \n",
      "'''the result is valid python code with the markdown chunks represented as block strings''';\n",
      "\n"
     ]
    }
   ],
   "source": [
    "    %%tangle\n",
    "code is acknowledged the first moment that an indented code block is found like the print expression below.\n",
    "\n",
    "        print(\"this is the first line of real code\")    \n",
    "the result is valid python code with the markdown chunks represented as block strings"
   ]
  },
  {
   "cell_type": "code",
   "execution_count": 5,
   "id": "64460ec5-a632-4b1e-a654-ccaaf65d1b5d",
   "metadata": {},
   "outputs": [
    {
     "name": "stdout",
     "output_type": "stream",
     "text": [
      "'''line continuations can be used to connection python expressions to the markdown blocks.''' \n",
      "\n",
      "a_block_of_markdown=\\\n",
      "\\\n",
      "'''we can explicitly use line continuations to connection indented python to markdown.\n",
      "this block of code will define `a_block_or_markdown`''';\n",
      "\n"
     ]
    }
   ],
   "source": [
    "    %%tangle\n",
    "line continuations can be used to connection python expressions to the markdown blocks. \n",
    "\n",
    "        a_block_of_markdown=\\\n",
    "        \\\n",
    "we can explicitly use line continuations to connection indented python to markdown.\n",
    "this block of code will define `a_block_or_markdown`"
   ]
  }
 ],
 "metadata": {
  "kernelspec": {
   "display_name": "Python 3 (ipykernel)",
   "language": "python",
   "name": "python3"
  },
  "language_info": {
   "codemirror_mode": {
    "name": "ipython",
    "version": 3
   },
   "file_extension": ".py",
   "mimetype": "text/x-python",
   "name": "python",
   "nbconvert_exporter": "python",
   "pygments_lexer": "ipython3",
   "version": "3.9.5"
  }
 },
 "nbformat": 4,
 "nbformat_minor": 5
}
