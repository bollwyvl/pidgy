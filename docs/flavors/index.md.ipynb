{
 "cells": [
  {
   "cell_type": "code",
   "execution_count": null,
   "id": "34c3626d-101b-4ce8-8c7f-343510c44853",
   "metadata": {},
   "outputs": [],
   "source": [
    "    "
   ]
  },
  {
   "cell_type": "code",
   "execution_count": 2,
   "id": "eb7852cd-1b56-4a89-bef5-1bc0aded453c",
   "metadata": {},
   "outputs": [
    {
     "name": "stdout",
     "output_type": "stream",
     "text": [
      "222     :smile_cat: = \":smile_cat:\"\n"
     ]
    },
    {
     "data": {
      "text/markdown": [
       "    :smile_cat: = \":smile_cat:\""
      ],
      "text/plain": [
       "<IPython.core.display.Markdown object>"
      ]
     },
     "metadata": {},
     "output_type": "display_data"
    }
   ],
   "source": [
    "    :smile_cat: = \":smile_cat:\""
   ]
  },
  {
   "cell_type": "code",
   "execution_count": 7,
   "id": "a9b8cfb5-f183-4d2e-9ec8-bc8c4c0c13be",
   "metadata": {},
   "outputs": [
    {
     "data": {
      "text/markdown": [
       "    import json"
      ],
      "text/plain": [
       "<IPython.core.display.Markdown object>"
      ]
     },
     "metadata": {},
     "output_type": "display_data"
    }
   ],
   "source": [
    "    import json"
   ]
  },
  {
   "cell_type": "code",
   "execution_count": 8,
   "id": "0760ba75-d617-4837-9f59-2595ed0b78a2",
   "metadata": {},
   "outputs": [
    {
     "data": {
      "text/plain": [
       "'\"\\\\\"asdfa\\\\\"\"'"
      ]
     },
     "execution_count": 8,
     "metadata": {},
     "output_type": "execute_result"
    },
    {
     "data": {
      "text/markdown": [
       "    json.dumps(\"asdfa\")"
      ],
      "text/plain": [
       "<IPython.core.display.Markdown object>"
      ]
     },
     "metadata": {},
     "output_type": "display_data"
    }
   ],
   "source": [
    "    json.dumps(\"asdfa\")"
   ]
  },
  {
   "cell_type": "code",
   "execution_count": 2,
   "id": "0779c7e1-ac8e-48ab-86ba-bf0ce7caf2f7",
   "metadata": {},
   "outputs": [
    {
     "data": {
      "text/markdown": [
       "    import shlex"
      ],
      "text/plain": [
       "<IPython.core.display.Markdown object>"
      ]
     },
     "metadata": {},
     "output_type": "display_data"
    }
   ],
   "source": [
    "    import shlex"
   ]
  },
  {
   "cell_type": "code",
   "execution_count": 4,
   "id": "4a5453bd-c35f-4e9c-b823-c33ef9692663",
   "metadata": {},
   "outputs": [
    {
     "data": {
      "text/plain": [
       "'\\'\"\"\"stirng\"\"\"\\''"
      ]
     },
     "execution_count": 4,
     "metadata": {},
     "output_type": "execute_result"
    },
    {
     "data": {
      "text/markdown": [
       "    shlex.quote(\"\"\"stirng\"\"\")"
      ],
      "text/plain": [
       "<IPython.core.display.Markdown object>"
      ]
     },
     "metadata": {},
     "output_type": "display_data"
    }
   ],
   "source": [
    "    shlex.quote(\"\"\"stirng\"\"\")"
   ]
  },
  {
   "cell_type": "markdown",
   "id": "06e9a694-c3ec-4a76-a111-beab023b365b",
   "metadata": {},
   "source": [
    "# `pidgy` flavors\n",
    "\n",
    "you'll suprised at the flexibility of `pidgy` language as we dive into the different syntaxes that `pidgy` supports."
   ]
  },
  {
   "cell_type": "markdown",
   "id": "a2524a6a-e653-49ce-a1fe-0eca89e4bbf0",
   "metadata": {},
   "source": [
    "## markdown\n",
    "\n",
    "a benefit of our choice of markdown as document language is that `html` is a first class citizen in markdown"
   ]
  },
  {
   "cell_type": "code",
   "execution_count": 8,
   "id": "4c4c9573-8960-4d44-b9b5-8c976f438439",
   "metadata": {},
   "outputs": [
    {
     "data": {
      "text/markdown": [
       "### html"
      ],
      "text/plain": [
       "<IPython.core.display.Markdown object>"
      ]
     },
     "metadata": {},
     "output_type": "display_data"
    }
   ],
   "source": [
    "### html"
   ]
  },
  {
   "cell_type": "code",
   "execution_count": 9,
   "id": "4f652fa8-be52-4563-bca9-795ee32b1964",
   "metadata": {},
   "outputs": [
    {
     "data": {
      "text/markdown": [
       "### css"
      ],
      "text/plain": [
       "<IPython.core.display.Markdown object>"
      ]
     },
     "metadata": {},
     "output_type": "display_data"
    }
   ],
   "source": [
    "### css"
   ]
  },
  {
   "cell_type": "markdown",
   "id": "996982b7-2acc-4992-8044-756ad3574935",
   "metadata": {},
   "source": [
    "## templating"
   ]
  },
  {
   "cell_type": "markdown",
   "id": "4600b63e-2bff-4892-832f-3ae39c99b59a",
   "metadata": {},
   "source": [
    "## testing"
   ]
  },
  {
   "cell_type": "code",
   "execution_count": 4,
   "id": "f7d1b2d6-450f-4ab8-9aeb-1683a969b8f4",
   "metadata": {},
   "outputs": [
    {
     "data": {
      "text/markdown": [
       "## lisp"
      ],
      "text/plain": [
       "<IPython.core.display.Markdown object>"
      ]
     },
     "metadata": {},
     "output_type": "display_data"
    }
   ],
   "source": [
    "## lisp"
   ]
  },
  {
   "cell_type": "code",
   "execution_count": null,
   "id": "290ab9e8-7515-49ca-9b1a-f8bde7baaeab",
   "metadata": {},
   "outputs": [],
   "source": []
  }
 ],
 "metadata": {
  "kernelspec": {
   "display_name": "pidgy 3",
   "language": "python",
   "name": "pidgy"
  },
  "language_info": {
   "codemirror_mode": {
    "name": "ipython",
    "version": 3
   },
   "file_extension": ".py",
   "mimetype": "text/x-python",
   "name": "python",
   "nbconvert_exporter": "python",
   "pygments_lexer": "ipython3",
   "version": "3.7.7"
  }
 },
 "nbformat": 4,
 "nbformat_minor": 5
}
