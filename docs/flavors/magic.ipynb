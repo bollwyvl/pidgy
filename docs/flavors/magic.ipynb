{
 "cells": [
  {
   "cell_type": "markdown",
   "id": "84f2c0b3-8bdd-4dc2-b09e-dc1325c83d65",
   "metadata": {},
   "source": [
    "# `pidgy` magics"
   ]
  },
  {
   "cell_type": "code",
   "execution_count": 1,
   "id": "22f674f9-9074-4556-b25a-f2bdd5eb0157",
   "metadata": {},
   "outputs": [],
   "source": [
    "    import pidgy"
   ]
  },
  {
   "cell_type": "markdown",
   "id": "f04a441b-f207-4636-b3c7-d5180992f68a",
   "metadata": {},
   "source": [
    "perhaps the lowest barrier to entry with writing `pidgy` is to load and use the `IPython` magic\n",
    "functions it provides. magics are an opt in mode for `pidgy`."
   ]
  },
  {
   "cell_type": "markdown",
   "id": "054c1302-e1ab-47d9-ad46-bcfa9664ea23",
   "metadata": {},
   "source": [
    "we specifically have to load the `pidgy` magic otherwise you are in for the full experience."
   ]
  },
  {
   "cell_type": "code",
   "execution_count": 1,
   "id": "93c8564e-15b1-4e51-bb6e-ee31035814c8",
   "metadata": {},
   "outputs": [],
   "source": [
    "    %load_ext pidgy.magic"
   ]
  },
  {
   "cell_type": "markdown",
   "id": "7479fd19-7326-460e-85f0-f065bd0eff29",
   "metadata": {},
   "source": [
    "`pidgy` brings in three magics `%%pidgy`, `%%tangle`, and `%%parse`. they are discussed in the rest of this document. the notebook on `pidgy` syntax uses thoroughly."
   ]
  },
  {
   "cell_type": "markdown",
   "id": "35e0d389-c6e1-4267-b95b-5a853c5d4072",
   "metadata": {},
   "source": [
    "## writing and running `pidgy`\n",
    "\n",
    "use the `%%pidgy` magic to write your hybrid markdown python. it is an opt in for `pidgy` that lets your write a hybrid of markdown, jinja2, and python to tell stories with code."
   ]
  },
  {
   "cell_type": "code",
   "execution_count": 2,
   "id": "dacf77cf-0a5e-4241-a713-3febd7023068",
   "metadata": {},
   "outputs": [
    {
     "name": "stdout",
     "output_type": "stream",
     "text": [
      "it's a `pidgy` party and everyone is invited.\n"
     ]
    },
    {
     "data": {
      "text/markdown": [
       "    party =\\\n",
       "\n",
       "it's a `pidgy` party and everyone is invited.\n",
       "\n",
       "    print(party)\n"
      ],
      "text/plain": [
       "<IPython.core.display.Markdown object>"
      ]
     },
     "metadata": {},
     "output_type": "display_data"
    }
   ],
   "source": [
    "    %%pidgy\n",
    "        party =\\\n",
    "    \n",
    "it's a `pidgy` party and everyone is invited.\n",
    "    \n",
    "        print(party)"
   ]
  },
  {
   "cell_type": "markdown",
   "id": "96d85323-e796-4f21-acd1-ab034505f5d5",
   "metadata": {},
   "source": [
    "through the magics we can explore what `pidgy` does. `%%tangle` lets us see the translated code\n",
    "that `pidgy` generated"
   ]
  },
  {
   "cell_type": "code",
   "execution_count": 3,
   "id": "be1133ac-3835-4958-9d94-6b4f92e9c6a5",
   "metadata": {},
   "outputs": [
    {
     "name": "stdout",
     "output_type": "stream",
     "text": [
      "party =\\\n",
      "\\\n",
      "\"\"\"it's a `pidgy` party and everyone is invited.\"\"\"\n",
      "\n",
      "print(party)\n",
      "\n"
     ]
    }
   ],
   "source": [
    "    %%tangle \n",
    "        party =\\\n",
    "    \n",
    "it's a `pidgy` party and everyone is invited.\n",
    "    \n",
    "        print(party)"
   ]
  },
  {
   "cell_type": "markdown",
   "id": "a1a52031-aabb-41a4-b292-ef06ac1d91f7",
   "metadata": {},
   "source": [
    "meanwhile `%%parse` let's us observe the markdown tokens generated before rendering. these tokens are a result of the `markdown-it-py` library."
   ]
  },
  {
   "cell_type": "code",
   "execution_count": 4,
   "id": "e4958aca-8cc3-4cc2-9604-7cb7e7ec4f3b",
   "metadata": {},
   "outputs": [
    {
     "name": "stdout",
     "output_type": "stream",
     "text": [
      "[Token(type='code_block', tag='code', nesting=0, attrs={}, map=[0, 1], level=0, children=None, content='party =\\\\\\n', markup='', info='', meta={}, block=True, hidden=False),\n",
      " Token(type='paragraph_open', tag='p', nesting=1, attrs={}, map=[2, 3], level=0, children=None, content='', markup='', info='', meta={}, block=True, hidden=False),\n",
      " Token(type='inline', tag='', nesting=0, attrs={}, map=[2, 3], level=1, children=[Token(type='text', tag='', nesting=0, attrs={}, map=None, level=0, children=None, content=\"it's a \", markup='', info='', meta={}, block=False, hidden=False), Token(type='code_inline', tag='code', nesting=0, attrs={}, map=None, level=0, children=None, content='pidgy', markup='`', info='', meta={}, block=False, hidden=False), Token(type='text', tag='', nesting=0, attrs={}, map=None, level=0, children=None, content=' party and everyone is invited.', markup='', info='', meta={}, block=False, hidden=False)], content=\"it's a `pidgy` party and everyone is invited.\", markup='', info='', meta={}, block=True, hidden=False),\n",
      " Token(type='paragraph_close', tag='p', nesting=-1, attrs={}, map=None, level=0, children=None, content='', markup='', info='', meta={}, block=True, hidden=False),\n",
      " Token(type='code_block', tag='code', nesting=0, attrs={}, map=[4, 5], level=0, children=None, content='print(party)\\n', markup='', info='', meta={}, block=True, hidden=False)]\n"
     ]
    }
   ],
   "source": [
    "    %%parse\n",
    "        party =\\\n",
    "    \n",
    "it's a `pidgy` party and everyone is invited.\n",
    "    \n",
    "        print(party)"
   ]
  }
 ],
 "metadata": {
  "kernelspec": {
   "display_name": "Python 3",
   "language": "python",
   "name": "python3"
  },
  "language_info": {
   "codemirror_mode": {
    "name": "ipython",
    "version": 3
   },
   "file_extension": ".py",
   "mimetype": "text/x-python",
   "name": "python",
   "nbconvert_exporter": "python",
   "pygments_lexer": "ipython3",
   "version": "3.7.7"
  }
 },
 "nbformat": 4,
 "nbformat_minor": 5
}
