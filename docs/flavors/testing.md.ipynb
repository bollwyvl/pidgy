{
 "cells": [
  {
   "cell_type": "markdown",
   "id": "2cec152c-e18b-4845-8dfc-04787daa9213",
   "metadata": {},
   "source": [
    "# testing"
   ]
  },
  {
   "cell_type": "code",
   "execution_count": null,
   "id": "a24ba4e7-11d3-44be-8015-a08d97b9b782",
   "metadata": {},
   "outputs": [],
   "source": [
    "def doctest(state, start, end, silent = False):\n",
    "    print(state.src[state.tShift[startLine]:state.tShift[startLine]+3])\n",
    "    return False\n",
    "    if state.\n",
    "\n",
    "    last = nextLine = startLine + 1\n",
    "\n",
    "    while nextLine < endLine:\n",
    "        if state.isEmpty(nextLine):\n",
    "            nextLine += 1\n",
    "            continue\n",
    "\n",
    "        if state.sCount[nextLine] - state.blkIndent >= 4:\n",
    "            nextLine += 1\n",
    "            last = nextLine\n",
    "            continue\n",
    "\n",
    "        break\n",
    "\n",
    "    state.line = last\n",
    "\n",
    "    token = state.push(\"code_block\", \"code\", 0)\n",
    "    token.content = state.getLines(startLine, last, 4 + state.blkIndent, True)\n",
    "    token.map = [startLine, state.line]\n",
    "\n",
    "    return True"
   ]
  },
  {
   "cell_type": "code",
   "execution_count": 1,
   "id": "9a36b7c7-02f1-4939-b482-1c88c13f7157",
   "metadata": {},
   "outputs": [
    {
     "data": {
      "text/markdown": [
       "a popular literate programming convention is [`doctest`][doctest]ing, introduced into __python__ by [Tim Peeters] [in 1999][og]. \n",
       "as `pidgy` is a literate programming tool, it exposes formal testing as an aspect of the interactive \n",
       "computing process. `pidgy` discovers `doctest` and `unittest` objects in the `input` to pass them to a test suite\n",
       "that is run alongside our interactive code.\n",
       "\n",
       "[og]: https://groups.google.com/group/comp.lang.python/msg/1c57cfb7b3772763\n",
       "[doctest]: https://en.wikipedia.org/wiki/Doctest"
      ],
      "text/plain": [
       "<IPython.core.display.Markdown object>"
      ]
     },
     "metadata": {},
     "output_type": "display_data"
    }
   ],
   "source": [
    "a popular literate programming convention is [`doctest`][doctest]ing, introduced into __python__ by [Tim Peeters] [in 1999][og]. \n",
    "as `pidgy` is a literate programming tool, it exposes formal testing as an aspect of the interactive \n",
    "computing process. `pidgy` discovers `doctest` and `unittest` objects in the `input` to pass them to a test suite\n",
    "that is run alongside our interactive code.\n",
    "\n",
    "[og]: https://groups.google.com/group/comp.lang.python/msg/1c57cfb7b3772763\n",
    "[doctest]: https://en.wikipedia.org/wiki/Doctest"
   ]
  },
  {
   "cell_type": "markdown",
   "id": "163b1ecb-f32c-4d69-b779-90348ad332d5",
   "metadata": {},
   "source": [
    "## test discovery\n",
    "\n",
    "`pidgy` finds tests from:\n",
    "\n",
    "* `doctest`s in the document input\n",
    "* function beginning with `test_`\n",
    "* `unittest.TestCase` classes"
   ]
  },
  {
   "cell_type": "markdown",
   "id": "36e997f4-9c3d-45b9-b117-d344e1fa7bc6",
   "metadata": {},
   "source": [
    "## `doctest`\n",
    "\n",
    "write doctest anywhere in a cell input, make sure the leading input is aligned ala `doctest` conventions,\n",
    "and `pidgy` will discover the test."
   ]
  },
  {
   "cell_type": "code",
   "execution_count": 1,
   "id": "5a92ea59-469d-4df1-8371-c5b1b1862deb",
   "metadata": {},
   "outputs": [
    {
     "data": {
      "text/markdown": [
       "    def f(i: int) -> str:\n",
       "a very practical example is write a function with a __markdown__ docstring\n",
       "and include `doctest` in the block.\n",
       "\n",
       "        >>> f(10)\n",
       "        '10'\n",
       "        \n",
       "the function `f` returns a string of the incoming integer\n",
       "    \n",
       "        return str(i)"
      ],
      "text/plain": [
       "<IPython.core.display.Markdown object>"
      ]
     },
     "metadata": {},
     "output_type": "display_data"
    },
    {
     "data": {
      "text/markdown": [
       "✔"
      ],
      "text/plain": [
       "<IPython.core.display.Markdown object>"
      ]
     },
     "metadata": {},
     "output_type": "display_data"
    }
   ],
   "source": [
    "    def f(i: int) -> str:\n",
    "a very practical example is write a function with a __markdown__ docstring\n",
    "and include `doctest` in the block.\n",
    "\n",
    "        >>> f(10)\n",
    "        '10'\n",
    "        \n",
    "the function `f` returns a string of the incoming integer\n",
    "    \n",
    "        return str(i)"
   ]
  },
  {
   "cell_type": "markdown",
   "id": "6dfa616f-2aa0-43a5-ac7d-6114fecdc4c7",
   "metadata": {},
   "source": [
    "a __✔__ indicates a successful test"
   ]
  },
  {
   "cell_type": "code",
   "execution_count": 2,
   "id": "983971ba-5d64-497a-bcd0-5768ca738c2b",
   "metadata": {},
   "outputs": [
    {
     "data": {
      "text/markdown": [
       "    i = 1"
      ],
      "text/plain": [
       "<IPython.core.display.Markdown object>"
      ]
     },
     "metadata": {},
     "output_type": "display_data"
    }
   ],
   "source": [
    "    i = 1"
   ]
  },
  {
   "cell_type": "code",
   "execution_count": 3,
   "id": "819b6aba-e4de-4d3d-98dc-dfa9bbb9a6ec",
   "metadata": {},
   "outputs": [
    {
     "data": {
      "text/markdown": [
       "    >>> f(i)\n",
       "    '10'\n",
       "    \n",
       "`pidgy` will `display` any testing errors if there are any; this will not stop the execution of cells.\n",
       "there are likely cases where errors are the subject of a narrative, and it may be valid to show them.\n"
      ],
      "text/plain": [
       "<IPython.core.display.Markdown object>"
      ]
     },
     "metadata": {},
     "output_type": "display_data"
    },
    {
     "data": {
      "text/markdown": [
       "✔"
      ],
      "text/plain": [
       "<IPython.core.display.Markdown object>"
      ]
     },
     "metadata": {},
     "output_type": "display_data"
    }
   ],
   "source": [
    "    >>> f(i)\n",
    "    '10'\n",
    "    \n",
    "`pidgy` will `display` any testing errors if there are any; this will not stop the execution of cells.\n",
    "there are likely cases where errors are the subject of a narrative, and it may be valid to show them.\n"
   ]
  },
  {
   "cell_type": "markdown",
   "id": "03af9fbc-6ba3-4cbf-8cc2-12962a11b4d6",
   "metadata": {},
   "source": [
    "🟢 active this cell to update the test failure to a successful ✔\n",
    "        \n",
    "        i = 10"
   ]
  },
  {
   "cell_type": "code",
   "execution_count": 4,
   "id": "5cddbee0-5397-409b-aed7-1ac494db8586",
   "metadata": {},
   "outputs": [
    {
     "data": {
      "text/markdown": [
       "    >>> 😸 = 10\n",
       "    >>> f(😸)\n",
       "    '10'\n",
       "    \n",
       "it is even possible to use `pidgy`s emoji support in `doctest`"
      ],
      "text/plain": [
       "<IPython.core.display.Markdown object>"
      ]
     },
     "metadata": {},
     "output_type": "display_data"
    },
    {
     "data": {
      "text/markdown": [
       "✔"
      ],
      "text/plain": [
       "<IPython.core.display.Markdown object>"
      ]
     },
     "metadata": {},
     "output_type": "display_data"
    }
   ],
   "source": [
    "    >>> :smile_cat: = 10\n",
    "    >>> f(:smile_cat:)\n",
    "    '10'\n",
    "    \n",
    "it is even possible to use `pidgy`s emoji support in `doctest`"
   ]
  },
  {
   "cell_type": "code",
   "execution_count": 5,
   "id": "70e03136-8419-451f-ab79-08a221db8206",
   "metadata": {},
   "outputs": [
    {
     "data": {
      "text/markdown": [
       "## testing functions\n",
       "\n",
       "currently, `pidgy` tests functions starting with `test_` ala the `pytest` convention;\n",
       "this is not configurable now but will be.\n",
       "\n",
       "    def test_a():\n",
       "        assert True"
      ],
      "text/plain": [
       "<IPython.core.display.Markdown object>"
      ]
     },
     "metadata": {},
     "output_type": "display_data"
    },
    {
     "data": {
      "text/markdown": [
       "✔"
      ],
      "text/plain": [
       "<IPython.core.display.Markdown object>"
      ]
     },
     "metadata": {},
     "output_type": "display_data"
    }
   ],
   "source": [
    "## testing functions\n",
    "\n",
    "currently, `pidgy` tests functions starting with `test_` ala the `pytest` convention;\n",
    "this is not configurable now but will be.\n",
    "\n",
    "    def test_a():\n",
    "        assert True"
   ]
  },
  {
   "cell_type": "code",
   "execution_count": 6,
   "id": "957b37ba-b258-4075-969a-b95b7fdb2b25",
   "metadata": {},
   "outputs": [
    {
     "data": {
      "text/markdown": [
       "we can suppress a test by changing the prefix, like prepending an underscore.\n",
       "\n",
       "    def _test_a():\n",
       "        assert True\n",
       "        \n",
       "the lack of tests is indicated by the lack of checkmark."
      ],
      "text/plain": [
       "<IPython.core.display.Markdown object>"
      ]
     },
     "metadata": {},
     "output_type": "display_data"
    }
   ],
   "source": [
    "we can suppress a test by changing the prefix, like prepending an underscore.\n",
    "\n",
    "    def _test_a():\n",
    "        assert True\n",
    "        \n",
    "the lack of tests is indicated by the lack of checkmark."
   ]
  },
  {
   "cell_type": "code",
   "execution_count": 7,
   "id": "227153e1-ffa4-4da4-8af5-1a2fe36d014b",
   "metadata": {},
   "outputs": [
    {
     "data": {
      "text/markdown": [
       "cells with tests have two outcomes:\n",
       "    \n",
       "* the beloved ✔ signifying passing tests\n",
       "* 👿 error messages from failing tests.\n",
       "        \n",
       "when there are no tests, we have no testing concerns, at least in that cell."
      ],
      "text/plain": [
       "<IPython.core.display.Markdown object>"
      ]
     },
     "metadata": {},
     "output_type": "display_data"
    }
   ],
   "source": [
    "cells with tests have two outcomes:\n",
    "    \n",
    "* the beloved :check_mark: signifying passing tests\n",
    "* :angry_face_with_horns: error messages from failing tests.\n",
    "        \n",
    "when there are no tests, we have no testing concerns, at least in that cell."
   ]
  },
  {
   "cell_type": "code",
   "execution_count": 13,
   "id": "38df93f5-a9a0-414c-bacd-7b191bf2a403",
   "metadata": {},
   "outputs": [
    {
     "data": {
      "text/markdown": [
       "## `unittest.TestCase` classes\n",
       "\n",
       "for test cases, the name doesn't matter, the `unittest.TestCase` base class signifies a formal test.\n",
       "\n",
       "    import unittest\n",
       "    class Test(unittest.TestCase):\n",
       "        def testØ(λ):\n",
       "            assert a"
      ],
      "text/plain": [
       "<IPython.core.display.Markdown object>"
      ]
     },
     "metadata": {},
     "output_type": "display_data"
    },
    {
     "data": {
      "text/markdown": [
       "✔"
      ],
      "text/plain": [
       "<IPython.core.display.Markdown object>"
      ]
     },
     "metadata": {},
     "output_type": "display_data"
    }
   ],
   "source": [
    "## `unittest.TestCase` classes\n",
    "\n",
    "for test cases, the name doesn't matter, the `unittest.TestCase` base class signifies a formal test.\n",
    "\n",
    "    import unittest\n",
    "    class Test(unittest.TestCase):\n",
    "        def testØ(λ):\n",
    "            assert a"
   ]
  },
  {
   "cell_type": "code",
   "execution_count": null,
   "id": "681ef91c-de8e-44d2-9edf-df2d9f33f6a3",
   "metadata": {},
   "outputs": [],
   "source": []
  }
 ],
 "metadata": {
  "kernelspec": {
   "display_name": "pidgy 3",
   "language": "python",
   "name": "pidgy"
  },
  "language_info": {
   "codemirror_mode": {
    "name": "ipython",
    "version": 3
   },
   "file_extension": ".py",
   "mimetype": "text/x-python",
   "name": "python",
   "nbconvert_exporter": "python",
   "pygments_lexer": "ipython3",
   "version": "3.7.7"
  }
 },
 "nbformat": 4,
 "nbformat_minor": 5
}
