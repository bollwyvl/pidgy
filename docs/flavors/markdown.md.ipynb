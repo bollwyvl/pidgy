{
 "cells": [
  {
   "cell_type": "markdown",
   "id": "6dbddba2-09a1-457f-bdfd-ce0d4a36f379",
   "metadata": {},
   "source": [
    "# markdown flavored `pidgy`\n",
    "\n",
    "the primary intent of `pidgy` is to write python in markdown.\n",
    "our choice of markdown as document language benefits us\n",
    "because `html`, and implicitly `css`, are tokenized by\n",
    "the parser.  since `html` is a first class citizen of markdown we\n",
    "are free to include and `html` in a `pidgy` cell or document.\n",
    "\n",
    "`pidgy` lets us mix and match markdown with `html` to weave meaningful\n",
    "displays from the `input`.\n"
   ]
  },
  {
   "cell_type": "markdown",
   "id": "571e6e22-a252-495b-8eed-c0e452cda906",
   "metadata": {},
   "source": [
    "## block html"
   ]
  },
  {
   "cell_type": "code",
   "execution_count": 1,
   "id": "b693255d-3530-4815-8d7b-63e99d4437c7",
   "metadata": {},
   "outputs": [
    {
     "data": {
      "text/markdown": [
       "## inline html"
      ],
      "text/plain": [
       "<IPython.core.display.Markdown object>"
      ]
     },
     "metadata": {},
     "output_type": "display_data"
    }
   ],
   "source": [
    "## inline html"
   ]
  },
  {
   "cell_type": "code",
   "execution_count": 2,
   "id": "6c235db0-a4c1-4930-b789-0abc1351b439",
   "metadata": {},
   "outputs": [
    {
     "data": {
      "text/markdown": [
       "we can include an inlined __span__: <span style=\"color: red;\">red span</span>."
      ],
      "text/plain": [
       "<IPython.core.display.Markdown object>"
      ]
     },
     "metadata": {},
     "output_type": "display_data"
    }
   ],
   "source": [
    "we can include an inlined __span__: <span style=\"color: red;\">red span</span>."
   ]
  },
  {
   "cell_type": "code",
   "execution_count": 4,
   "id": "ae861fe6-8ea3-4b26-a5a9-fcde3be9098f",
   "metadata": {},
   "outputs": [
    {
     "data": {
      "text/plain": [
       "'<span style=\"color: red;\">red span</span>'"
      ]
     },
     "metadata": {},
     "output_type": "display_data"
    },
    {
     "data": {
      "text/markdown": [
       "## setting variables\n",
       "\n",
       "with `pidgy` we can generate a view and set a variable simulataneously. \n",
       "\n",
       "    red_span =\\\n",
       "    \n",
       "<span style=\"color: red;\">red span</span>\n",
       "    \n",
       "    return red_span"
      ],
      "text/plain": [
       "<IPython.core.display.Markdown object>"
      ]
     },
     "metadata": {},
     "output_type": "display_data"
    }
   ],
   "source": [
    "## setting variables\n",
    "\n",
    "with `pidgy` we can generate a view and set a variable simulataneously. \n",
    "\n",
    "    red_span =\\\n",
    "    \n",
    "<span style=\"color: red;\">red span</span>\n",
    "    \n",
    "    return red_span"
   ]
  }
 ],
 "metadata": {
  "kernelspec": {
   "display_name": "pidgy 3",
   "language": "python",
   "name": "pidgy"
  },
  "language_info": {
   "codemirror_mode": {
    "name": "ipython",
    "version": 3
   },
   "file_extension": ".py",
   "mimetype": "text/x-python",
   "name": "python",
   "nbconvert_exporter": "python",
   "pygments_lexer": "ipython3",
   "version": "3.7.7"
  }
 },
 "nbformat": 4,
 "nbformat_minor": 5
}
