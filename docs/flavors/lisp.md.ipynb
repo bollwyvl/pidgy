{
 "cells": [
  {
   "cell_type": "code",
   "execution_count": 2,
   "id": "3c6fd937-6dfb-4218-abd9-babbaf07985c",
   "metadata": {},
   "outputs": [
    {
     "data": {
      "text/markdown": [
       "    import re"
      ],
      "text/plain": [
       "<IPython.core.display.Markdown object>"
      ]
     },
     "metadata": {},
     "output_type": "display_data"
    }
   ],
   "source": [
    "    import re"
   ]
  },
  {
   "cell_type": "code",
   "execution_count": null,
   "id": "af59658b-8dc4-46cb-8ec9-db45feb34a9c",
   "metadata": {},
   "outputs": [],
   "source": []
  },
  {
   "cell_type": "markdown",
   "id": "d6a7a992-5c0b-478c-a70b-103271d35e27",
   "metadata": {},
   "source": [
    "# literate lisp"
   ]
  },
  {
   "cell_type": "code",
   "execution_count": 1,
   "id": "b026eb42-4179-477d-81a0-cbf83315bd90",
   "metadata": {},
   "outputs": [
    {
     "data": {
      "text/markdown": [
       "# literate lisp\n",
       "\n",
       "besides the conventional markdown to mode, `pidgy` provides, through `hy`, a python forward literate lisp writing as markdown.\n",
       "lisp languages are recognized by a sea of parenthesis.\n",
       "when `pidgy` literate code cells begin and end with parenthesiss the `hy` compiler is invoked.\n",
       "\n",
       "there are no special heuristics because lisp is not whitespace aware. you will be responsible for your own quotes and strings."
      ],
      "text/plain": [
       "<IPython.core.display.Markdown object>"
      ]
     },
     "metadata": {},
     "output_type": "display_data"
    }
   ],
   "source": [
    "besides the conventional markdown to mode, `pidgy` provides, through `hy`, a python forward literate lisp writing as markdown.\n",
    "lisp languages are recognized by a sea of parenthesis.\n",
    "when `pidgy` literate code cells begin and end with parenthesiss the `hy` compiler is invoked.\n",
    "\n",
    "there are no special heuristics because lisp is not whitespace aware. you will be responsible for your own quotes and strings."
   ]
  },
  {
   "cell_type": "code",
   "execution_count": 3,
   "id": "d8c7fc6f-37f3-4b66-a3af-4a0cc9f02470",
   "metadata": {},
   "outputs": [
    {
     "data": {
      "text/markdown": [
       "this __string__ *with* ~~markdown~~ features is printed"
      ],
      "text/plain": [
       "<IPython.core.display.Markdown object>"
      ]
     },
     "metadata": {},
     "output_type": "display_data"
    },
    {
     "data": {
      "text/markdown": [
       "    (setv a-lispy-string (str.strip \"\n",
       "     \n",
       "this __string__ *with* ~~markdown~~ features is printed\n",
       "     \n",
       "    \"))\n",
       "    (display (.display.Markdown (__import__ \"IPython\") a-lispy-string))"
      ],
      "text/plain": [
       "<IPython.core.display.Markdown object>"
      ]
     },
     "metadata": {},
     "output_type": "display_data"
    }
   ],
   "source": [
    "    (setv a-lispy-string (str.strip \"\n",
    "     \n",
    "this __string__ *with* ~~markdown~~ features is printed\n",
    "     \n",
    "    \"))\n",
    "    (display (.display.Markdown (__import__ \"IPython\") a-lispy-string))"
   ]
  },
  {
   "cell_type": "code",
   "execution_count": 5,
   "id": "3a93a645-bff9-48b9-902c-6447b6c2d4ce",
   "metadata": {},
   "outputs": [
    {
     "data": {
      "text/markdown": [
       "you can learn more about `hy` and its syntax from the [their documentation]. \n",
       "from the position of `pidgy`, literate lisp-y python is highly experimental, but can\n",
       "likely yield some wonderful outcomes as a metalangage through enough practice and play."
      ],
      "text/plain": [
       "<IPython.core.display.Markdown object>"
      ]
     },
     "metadata": {},
     "output_type": "display_data"
    }
   ],
   "source": [
    "you can learn more about `hy` and its syntax from the [their documentation]. \n",
    "from the position of `pidgy`, literate lisp-y python is highly experimental, but can\n",
    "likely yield some wonderful outcomes as a metalangage through enough practice and play."
   ]
  },
  {
   "cell_type": "code",
   "execution_count": 7,
   "id": "69bcc471-5393-43b0-877f-18f107b8384e",
   "metadata": {},
   "outputs": [
    {
     "name": "stdout",
     "output_type": "stream",
     "text": [
      "[Token(type='paragraph_open', tag='p', nesting=1, attrs={}, map=[0, 1], level=0, children=None, content='', markup='', info='', meta={}, block=True, hidden=False),\n",
      " Token(type='inline', tag='', nesting=0, attrs={}, map=[0, 1], level=1, children=[Token(type='link_open', tag='a', nesting=1, attrs={'href': '#'}, map=None, level=0, children=None, content='', markup='', info='', meta={}, block=False, hidden=False), Token(type='text', tag='', nesting=0, attrs={}, map=None, level=1, children=None, content='thing', markup='', info='', meta={}, block=False, hidden=False), Token(type='link_close', tag='a', nesting=-1, attrs={}, map=None, level=0, children=None, content='', markup='', info='', meta={}, block=False, hidden=False)], content='[thing]', markup='', info='', meta={}, block=True, hidden=False),\n",
      " Token(type='paragraph_close', tag='p', nesting=-1, attrs={}, map=None, level=0, children=None, content='', markup='', info='', meta={}, block=True, hidden=False)]\n"
     ]
    },
    {
     "data": {
      "text/markdown": [
       "    %%parse\n",
       "[thing]\n",
       "\n",
       "[thing]: #"
      ],
      "text/plain": [
       "<IPython.core.display.Markdown object>"
      ]
     },
     "metadata": {},
     "output_type": "display_data"
    }
   ],
   "source": [
    "    %%parse\n",
    "[thing]\n",
    "\n",
    "[thing]: #"
   ]
  },
  {
   "cell_type": "code",
   "execution_count": null,
   "id": "450a912c-5567-47cb-ac5a-d0eee202ac7e",
   "metadata": {},
   "outputs": [],
   "source": []
  }
 ],
 "metadata": {
  "kernelspec": {
   "display_name": "pidgy 3",
   "language": "python",
   "name": "pidgy"
  },
  "language_info": {
   "codemirror_mode": {
    "name": "ipython",
    "version": 3
   },
   "file_extension": ".py",
   "mimetype": "text/x-python",
   "name": "python",
   "nbconvert_exporter": "python",
   "pygments_lexer": "ipython3",
   "version": "3.7.7"
  }
 },
 "nbformat": 4,
 "nbformat_minor": 5
}
