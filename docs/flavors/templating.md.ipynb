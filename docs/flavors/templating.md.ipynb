{
 "cells": [
  {
   "cell_type": "markdown",
   "id": "6ceb23d7-61c8-450c-8116-ca52fdec463c",
   "metadata": {},
   "source": [
    "# templating"
   ]
  },
  {
   "cell_type": "code",
   "execution_count": null,
   "id": "83b18896-2102-4ae8-b425-6d9de9e6508a",
   "metadata": {},
   "outputs": [],
   "source": [
    "by default, `pidgy` performs `jinja2` template rendering on the source before it is displayed.\n",
    "this choice allows for deep entangling of narrative and code that is only explicitly,\n",
    "and verbosely, possible with the conventional `IPython.InteractiveShell`"
   ]
  },
  {
   "cell_type": "code",
   "execution_count": 3,
   "id": "67955263-4de6-4160-9bcf-d43757b17e75",
   "metadata": {},
   "outputs": [
    {
     "name": "stdout",
     "output_type": "stream",
     "text": [
      "[Token(type='paragraph_open', tag='p', nesting=1, attrs={}, map=[0, 1], level=0, children=None, content='', markup='', info='', meta={}, block=True, hidden=False),\n",
      " Token(type='inline', tag='', nesting=0, attrs={}, map=[0, 1], level=1, children=[Token(type='text', tag='', nesting=0, attrs={}, map=None, level=0, children=None, content='if i eat {{cookie.value}} ccookiecookiekies then i consume {{cookie.value*50}} calfireries', markup='', info='', meta={}, block=False, hidden=False)], content='if i eat {{cookie.value}} ccookiecookiekies then i consume {{cookie.value*50}} calfireries', markup='', info='', meta={}, block=True, hidden=False),\n",
      " Token(type='paragraph_close', tag='p', nesting=-1, attrs={}, map=None, level=0, children=None, content='', markup='', info='', meta={}, block=True, hidden=False),\n",
      " Token(type='code_block', tag='code', nesting=0, attrs={}, map=[2, 6], level=0, children=None, content='>>> 1\\n\\nimport ipywidgets\\ncookie = ipywidgets.IntSlider(3)\\n', markup='', info='', meta={}, block=True, hidden=False)]\n"
     ]
    },
    {
     "data": {
      "text/markdown": [
       "%%parse\n",
       "if i eat 3 c🍪🍪kies then i consume 150 cal🔥ries\n",
       "\n",
       "    >>> 1\n",
       "\n",
       "    import ipywidgets\n",
       "    🍪 = ipywidgets.IntSlider(3)"
      ],
      "text/plain": [
       "<IPython.core.display.Markdown object>"
      ]
     },
     "metadata": {},
     "output_type": "display_data"
    },
    {
     "data": {
      "text/markdown": [
       "```pytb\n",
       "Traceback (most recent call last):\n",
       "  File \"/home/tonyfast/miniconda3/lib/python3.7/doctest.py\", line 2197, in runTest\n",
       "    raise self.failureException(self.format_failure(new.getvalue()))\n",
       "AssertionError: Failed doctest test for __main__\n",
       "  File \"__main__\", line 1, in __main__\n",
       "\n",
       "----------------------------------------------------------------------\n",
       "File \"__main__\", line 5, in __main__\n",
       "Failed example:\n",
       "    1\n",
       "Expected nothing\n",
       "Got:\n",
       "    1\n",
       "\n",
       "\n",
       "```"
      ],
      "text/plain": [
       "<IPython.core.display.Markdown object>"
      ]
     },
     "metadata": {},
     "output_type": "display_data"
    }
   ],
   "source": [
    "%%parse\n",
    "if i eat {{cookie.value}} c🍪🍪kies then i consume {{cookie.value*50}} cal🔥ries\n",
    "\n",
    "    >>> 1\n",
    "\n",
    "    import ipywidgets\n",
    "    :cookie: = ipywidgets.IntSlider(3)"
   ]
  },
  {
   "cell_type": "code",
   "execution_count": null,
   "id": "7bbf1565-2ba9-4534-8ca1-7f3c10e1647a",
   "metadata": {},
   "outputs": [],
   "source": [
    "def code(state, startLine, endLine, silent= False):\n",
    "\n",
    "    LOGGER.debug(\"entering code: %s, %s, %s, %s\", state, startLine, endLine, silent)\n",
    "\n",
    "    if state.sCount[startLine] - state.blkIndent < 4:\n",
    "        return False\n",
    "\n",
    "    last = nextLine = startLine + 1\n",
    "\n",
    "    while nextLine < endLine:\n",
    "        if state.isEmpty(nextLine):\n",
    "            nextLine += 1\n",
    "            continue\n",
    "\n",
    "        if state.sCount[nextLine] - state.blkIndent >= 4:\n",
    "            if not state.tM\n",
    "            \n",
    "            nextLine += 1\n",
    "            last = nextLine\n",
    "            continue\n",
    "\n",
    "        break\n",
    "\n",
    "    state.line = last\n",
    "\n",
    "    token = state.push(\"code_block\", \"code\", 0)\n",
    "    token.content = state.getLines(startLine, last, 4 + state.blkIndent, True)\n",
    "    token.map = [startLine, state.line]\n",
    "\n",
    "    return True"
   ]
  }
 ],
 "metadata": {
  "kernelspec": {
   "display_name": "pidgy 3",
   "language": "python",
   "name": "pidgy"
  },
  "language_info": {
   "codemirror_mode": {
    "name": "ipython",
    "version": 3
   },
   "file_extension": ".py",
   "mimetype": "text/x-python",
   "name": "python",
   "nbconvert_exporter": "python",
   "pygments_lexer": "ipython3",
   "version": "3.7.7"
  }
 },
 "nbformat": 4,
 "nbformat_minor": 5
}
