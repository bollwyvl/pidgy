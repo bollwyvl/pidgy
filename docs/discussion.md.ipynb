{
 "cells": [
  {
   "cell_type": "markdown",
   "metadata": {},
   "source": [
    "# Discussion"
   ]
  },
  {
   "cell_type": "code",
   "execution_count": 1,
   "metadata": {},
   "outputs": [
    {
     "data": {
      "text/markdown": [
       "    import pidgy, jupyter"
      ],
      "text/plain": [
       "<IPython.core.display.Markdown object>"
      ]
     },
     "metadata": {},
     "output_type": "display_data"
    }
   ],
   "source": [
    "    import pidgy, jupyter"
   ]
  },
  {
   "cell_type": "code",
   "execution_count": 2,
   "metadata": {},
   "outputs": [
    {
     "data": {
      "text/markdown": [
       "## Markdown for literate programming\n",
       "\n",
       "`pidgy` uses the Markdown formatting language because it is the native document format\n",
       "for `jupyter`. Another motivation is the broad application of Markdown for literate \n",
       "progamming in different programming languages. Markdown could potentially provide a\n",
       "generalized document for polyglot literate computing.\n",
       "\n",
       "We find are two brands of Markdown programming implementations:\n",
       "\n",
       "1. Those that use indented code blocks.\n",
       "2. Those that use code fences.\n",
       "\n",
       "`pidgy` follows the influence of literate coffeescript and focuses on the ability to tangle\n",
       "code primarily written using indented code fences. It does accomodate code fences, but \n",
       "currently `pidgy` holds no opinion about how to treat code fence syntax like in RMarkdown and PWeave."
      ],
      "text/plain": [
       "<IPython.core.display.Markdown object>"
      ]
     },
     "metadata": {},
     "output_type": "display_data"
    }
   ],
   "source": [
    "## Markdown for literate programming\n",
    "\n",
    "`pidgy` uses the Markdown formatting language because it is the native document format\n",
    "for `jupyter`. Another motivation is the broad application of Markdown for literate \n",
    "progamming in different programming languages. Markdown could potentially provide a\n",
    "generalized document for polyglot literate computing.\n",
    "\n",
    "We find are two brands of Markdown programming implementations:\n",
    "\n",
    "1. Those that use indented code blocks.\n",
    "2. Those that use code fences.\n",
    "\n",
    "`pidgy` follows the influence of literate coffeescript and focuses on the ability to tangle\n",
    "code primarily written using indented code fences. It does accomodate code fences, but \n",
    "currently `pidgy` holds no opinion about how to treat code fence syntax like in RMarkdown and PWeave."
   ]
  },
  {
   "cell_type": "code",
   "execution_count": 3,
   "metadata": {},
   "outputs": [
    {
     "data": {
      "text/markdown": [
       "## Alternative source files\n",
       "\n",
       "    import wtypes, pandas, pathlib, types, builtins\n",
       "\n",
       "When code is written primarily in source files, the literary quality of the program is \n",
       "always secondary to the computational qualities. `pidgy` includes the ability to use\n",
       "alternative file schema to import literate documents as python modules, tests, and software.\n",
       "The reusuability of `pidgy` programs means that each document can have multiple objectives of literary and computational quality.\n",
       "\n",
       "`pidgy` is an implementation that follows many other experiements in interactive computing with notebooks.\n",
       "`importnb` is a primary library of `pidgy` that customizes Python's import hooks.\n",
       "When software begins from literate documents like notebooks and markdown files it can then mature\n",
       "to scripts as each idea materializes. `importnb` and `wtypes` represent two projects that \n",
       "mature from notebook source files that are idea for fluid ideas to python scripts with\n",
       "literate programs for tests and documentation.\n",
       "\n",
       "`pidgy` uses a mix of files for its source.  Until, the tangle step\n",
       "of literate programming we have to rely on available files with avaiable improters,\n",
       "afterwards markdown is used as source.\n",
       "Each file type has different capacities for encoding literate narratives.\n",
       "\n",
       "* Python scripts favor language, but doctests represent literate source code for testing.\n",
       "* Markdown scripts capture the full input for a literate program.\n",
       "* Notebooks are hypermedia collages of literate programs that connect literate computing input to output.\n",
       "\n",
       "<table border=\"1\" class=\"dataframe\">\n",
       "  <thead>\n",
       "    <tr style=\"text-align: right;\">\n",
       "      <th></th>\n",
       "      <th>.md</th>\n",
       "      <th>.py</th>\n",
       "      <th>.ipynb</th>\n",
       "    </tr>\n",
       "  </thead>\n",
       "  <tbody>\n",
       "    <tr>\n",
       "      <th>extensions</th>\n",
       "      <td>8</td>\n",
       "      <td>3</td>\n",
       "      <td>3</td>\n",
       "    </tr>\n",
       "  </tbody>\n",
       "</table>\n",
       "\n",
       "    file_counts = pandas.Series({k:pathlib.Path(v.__file__).suffix for k,v in vars(pidgy).items() if isinstance(v, types.ModuleType) and v is not builtins}).value_counts().to_frame('extensions').T"
      ],
      "text/plain": [
       "<IPython.core.display.Markdown object>"
      ]
     },
     "metadata": {},
     "output_type": "display_data"
    }
   ],
   "source": [
    "## Alternative source files\n",
    "\n",
    "    import wtypes, pandas, pathlib, types, builtins\n",
    "\n",
    "When code is written primarily in source files, the literary quality of the program is \n",
    "always secondary to the computational qualities. `pidgy` includes the ability to use\n",
    "alternative file schema to import literate documents as python modules, tests, and software.\n",
    "The reusuability of `pidgy` programs means that each document can have multiple objectives of literary and computational quality.\n",
    "\n",
    "`pidgy` is an implementation that follows many other experiements in interactive computing with notebooks.\n",
    "`importnb` is a primary library of `pidgy` that customizes Python's import hooks.\n",
    "When software begins from literate documents like notebooks and markdown files it can then mature\n",
    "to scripts as each idea materializes. `importnb` and `wtypes` represent two projects that \n",
    "mature from notebook source files that are idea for fluid ideas to python scripts with\n",
    "literate programs for tests and documentation.\n",
    "\n",
    "`pidgy` uses a mix of files for its source.  Until, the tangle step\n",
    "of literate programming we have to rely on available files with avaiable improters,\n",
    "afterwards markdown is used as source.\n",
    "Each file type has different capacities for encoding literate narratives.\n",
    "\n",
    "* Python scripts favor language, but doctests represent literate source code for testing.\n",
    "* Markdown scripts capture the full input for a literate program.\n",
    "* Notebooks are hypermedia collages of literate programs that connect literate computing input to output.\n",
    "\n",
    "{{file_counts.to_html()}}\n",
    "\n",
    "    file_counts = pandas.Series({k:pathlib.Path(v.__file__).suffix for k,v in vars(pidgy).items() if isinstance(v, types.ModuleType) and v is not builtins}).value_counts().to_frame('extensions').T"
   ]
  },
  {
   "cell_type": "code",
   "execution_count": 4,
   "metadata": {},
   "outputs": [
    {
     "data": {
      "text/markdown": [
       "## Shebangs\n",
       "\n",
       "    import json\n",
       "\n",
       "Perhaps one of the more damning shortcomings of the notebook is that it is not a script, \n",
       "and requires specialized software to execute. Notebooks are encoded in `json` and cannot\n",
       "include command lines. As a result, they cannot include a shebang line. One the other hand,\n",
       "`pidgy` markdown files can include a shebang line that describes how a literate program\n",
       "should tangle. `pidgy` has 3 options, run template test, should be tangle weave\n",
       "\n",
       "\n",
       "An example `\"file.md\"` could begin with one of the following shebang statements\n",
       "\n",
       "```bash\n",
       "#!/usr/bin/env python -m pidgy run \n",
       "#!/usr/bin/env python -m pidgy template\n",
       "#!/usr/bin/env python -m pidgy test\n",
       "```\n",
       "\n",
       "Then the markdown file can be executed at the command line with a preceeding period.\n",
       "\n",
       "```bash\n",
       "./file.md\n",
       "```"
      ],
      "text/plain": [
       "<IPython.core.display.Markdown object>"
      ]
     },
     "metadata": {},
     "output_type": "display_data"
    }
   ],
   "source": [
    "## Shebangs\n",
    "\n",
    "    import json\n",
    "\n",
    "Perhaps one of the more damning shortcomings of the notebook is that it is not a script, \n",
    "and requires specialized software to execute. Notebooks are encoded in `json` and cannot\n",
    "include command lines. As a result, they cannot include a shebang line. One the other hand,\n",
    "`pidgy` markdown files can include a shebang line that describes how a literate program\n",
    "should tangle. `pidgy` has 3 options, run template test, should be tangle weave\n",
    "\n",
    "\n",
    "An example `\"file.md\"` could begin with one of the following shebang statements\n",
    "\n",
    "```bash\n",
    "#!/usr/bin/env python -m pidgy run \n",
    "#!/usr/bin/env python -m pidgy template\n",
    "#!/usr/bin/env python -m pidgy test\n",
    "```\n",
    "\n",
    "Then the markdown file can be executed at the command line with a preceeding period.\n",
    "\n",
    "```bash\n",
    "./file.md\n",
    "```"
   ]
  },
  {
   "cell_type": "code",
   "execution_count": null,
   "metadata": {},
   "outputs": [],
   "source": [
    "## Revision Control\n",
    "\n",
    "Another struggle with notebooks is revision control, git is not the solution. Notebooks are data\n",
    "and require a different strategy than git. Markdown documents on the other hand\n",
    "capture the input of literate programming and diff really well."
   ]
  },
  {
   "cell_type": "code",
   "execution_count": 5,
   "metadata": {},
   "outputs": [
    {
     "data": {
      "text/markdown": [
       "## Outcomes\n",
       "\n",
       "There are numerous outcomes of a source written literate code.  With `pidgy`\n",
       "as an example we can do more than simply tangle and weave a program."
      ],
      "text/plain": [
       "<IPython.core.display.Markdown object>"
      ]
     },
     "metadata": {},
     "output_type": "display_data"
    }
   ],
   "source": [
    "## Outcomes\n",
    "\n",
    "There are numerous outcomes of a source written literate code.  With `pidgy`\n",
    "as an example we can do more than simply tangle and weave a program."
   ]
  },
  {
   "cell_type": "code",
   "execution_count": 6,
   "metadata": {},
   "outputs": [
    {
     "data": {
      "text/markdown": [
       "## Best practices for literate programming in Markdown\n",
       "\n",
       "\n",
       "* Programs should be literate.\n",
       "* Restart and run all or it didn't happen.\n",
       "\n",
       "  A document should be literate in all readable, reproducible, and reusable\n",
       "  contexts.\n",
       "\n",
       "\n",
       "* Start with natural language and a docstring.\n",
       "\n",
       "  Most notebooks begin importing code, literate programs should begin importing\n",
       "  natural language to describe a goal.\n",
       "\n",
       "* All code should compute.\n",
       "\n",
       "  Testing code in a narrative provides supplemental meaning to the `\"code\"`\n",
       "  signifiers. They provide a test of veracity at least for the computational\n",
       "  literacy.\n",
       "\n",
       "* [readme.md] is a good default name for a program.\n",
       "* Each document should stand alone,\n",
       "  [despite all possibilities to fall.](http://ing.univaq.it/continenza/Corso%20di%20Disegno%20dell'Architettura%202/TESTI%20D'AUTORE/Paul-klee-Pedagogical-Sketchbook.pdf#page=6)\n",
       "* Use code, data, and visualization to fill the voids of natural language.\n",
       "* Find pleasure in writing.\n",
       "* When in doubt, abide [Web Content Accessibility Guidelines][wcag] so that\n",
       "  information can be accessed by differently abled audiences.\n",
       "\n",
       "                                       \n",
       "[wcag]: https://www.w3.org/WAI/standards-guidelines/wcag/\n",
       "[donald knuth]: #\n",
       "[literate programming]: #\n",
       "[markdown]: #\n",
       "[readme.md]: #"
      ],
      "text/plain": [
       "<IPython.core.display.Markdown object>"
      ]
     },
     "metadata": {},
     "output_type": "display_data"
    }
   ],
   "source": [
    "## Best practices for literate programming in Markdown\n",
    "\n",
    "\n",
    "* Programs should be literate.\n",
    "* Restart and run all or it didn't happen.\n",
    "\n",
    "  A document should be literate in all readable, reproducible, and reusable\n",
    "  contexts.\n",
    "\n",
    "\n",
    "* Start with natural language and a docstring.\n",
    "\n",
    "  Most notebooks begin importing code, literate programs should begin importing\n",
    "  natural language to describe a goal.\n",
    "\n",
    "* All code should compute.\n",
    "\n",
    "  Testing code in a narrative provides supplemental meaning to the `\"code\"`\n",
    "  signifiers. They provide a test of veracity at least for the computational\n",
    "  literacy.\n",
    "\n",
    "* [readme.md] is a good default name for a program.\n",
    "* Each document should stand alone,\n",
    "  [despite all possibilities to fall.](http://ing.univaq.it/continenza/Corso%20di%20Disegno%20dell'Architettura%202/TESTI%20D'AUTORE/Paul-klee-Pedagogical-Sketchbook.pdf#page=6)\n",
    "* Use code, data, and visualization to fill the voids of natural language.\n",
    "* Find pleasure in writing.\n",
    "* When in doubt, abide [Web Content Accessibility Guidelines][wcag] so that\n",
    "  information can be accessed by differently abled audiences.\n",
    "\n",
    "                                       \n",
    "[wcag]: https://www.w3.org/WAI/standards-guidelines/wcag/\n",
    "[donald knuth]: #\n",
    "[literate programming]: #\n",
    "[markdown]: #\n",
    "[readme.md]: #\n"
   ]
  },
  {
   "cell_type": "code",
   "execution_count": 7,
   "metadata": {},
   "outputs": [
    {
     "data": {
      "text/markdown": [
       "## External tools\n",
       "\n",
       "Since `pidgy` relies on `jupyter`s open standards it works with jupyter notebook, \n",
       "jupyterlab, nteract, and colab. We were unable to spend creating plugins for Atom or VSCode."
      ],
      "text/plain": [
       "<IPython.core.display.Markdown object>"
      ]
     },
     "metadata": {},
     "output_type": "display_data"
    }
   ],
   "source": [
    "## External tools\n",
    "\n",
    "Since `pidgy` relies on `jupyter`s open standards it works with jupyter notebook, \n",
    "jupyterlab, nteract, and colab. We were unable to spend creating plugins for Atom or VSCode."
   ]
  },
  {
   "cell_type": "code",
   "execution_count": 8,
   "metadata": {},
   "outputs": [
    {
     "data": {
      "text/markdown": [
       "# Conclusion\n",
       "\n",
       "\n",
       "Notebooks and Markdown files are substrates for literature backed by programming languages.\n",
       "Choosing to write programs as literature can drastically improve the quality of program\n",
       "that would otherwise rely on the programming language syntax. Authoring `pidgy` documents is\n",
       "a fun experience that allows the author vascillate between writing code and narrative. The ability\n",
       "to transclude interactive computation into documents gives authors the ability to access\n",
       "new language and meaning when supplemented with code."
      ],
      "text/plain": [
       "<IPython.core.display.Markdown object>"
      ]
     },
     "metadata": {},
     "output_type": "display_data"
    }
   ],
   "source": [
    "# Conclusion\n",
    "\n",
    "\n",
    "Notebooks and Markdown files are substrates for literature backed by programming languages.\n",
    "Choosing to write programs as literature can drastically improve the quality of program\n",
    "that would otherwise rely on the programming language syntax. Authoring `pidgy` documents is\n",
    "a fun experience that allows the author vascillate between writing code and narrative. The ability\n",
    "to transclude interactive computation into documents gives authors the ability to access\n",
    "new language and meaning when supplemented with code."
   ]
  }
 ],
 "metadata": {
  "kernelspec": {
   "display_name": "pidgy 3",
   "language": "python",
   "name": "pidgy"
  },
  "language_info": {
   "codemirror_mode": {
    "name": "ipython",
    "version": 3
   },
   "file_extension": ".py",
   "mimetype": "text/x-python",
   "name": "python",
   "nbconvert_exporter": "python",
   "pygments_lexer": "ipython3",
   "version": "3.7.3"
  }
 },
 "nbformat": 4,
 "nbformat_minor": 4
}
