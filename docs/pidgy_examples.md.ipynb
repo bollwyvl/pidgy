{
 "cells": [
  {
   "cell_type": "markdown",
   "id": "23e87272-fda2-4a91-94e5-1e18acb9d21d",
   "metadata": {},
   "source": [
    "# `pidgy` examples\n",
    "\n",
    "this notebook is executed using a `pidgy` kernel to demonstrate some of the capabilities.\n",
    "\n",
    "> note: this document puts headers in markdown cells to cooperate with jupyter book documentation"
   ]
  },
  {
   "cell_type": "markdown",
   "id": "7ad76c36-3dee-4477-b274-4a6ffc10ac7e",
   "metadata": {},
   "source": [
    "out of the box, `pidgy` is asynchrous and reactive, but to use this document for testing we have to constrain the execution to synchronous and blocking."
   ]
  },
  {
   "cell_type": "code",
   "execution_count": 1,
   "id": "e96c74d9-3e0d-440f-8530-9ab0cec4835a",
   "metadata": {},
   "outputs": [],
   "source": [
    "\n",
    "    %matplotlib agg\n",
    "    shell.weave.reactive = False\n",
    "    shell.weave.use_asynch(False)"
   ]
  },
  {
   "cell_type": "markdown",
   "id": "97b010e1-c1be-457f-8741-478eab015b43",
   "metadata": {},
   "source": [
    "## an indent can make a big different\n",
    "\n",
    "under normal cirumstances, the following line of code is valid python, but in `pidgy` it is valid markdown. "
   ]
  },
  {
   "cell_type": "code",
   "execution_count": 2,
   "id": "07a0bfe9-91cb-4eb5-ab75-9f0ae0176798",
   "metadata": {},
   "outputs": [
    {
     "data": {
      "text/markdown": [
       "from IPython import get_ipython"
      ],
      "text/plain": [
       "<IPython.core.display.Markdown object>"
      ]
     },
     "metadata": {},
     "output_type": "display_data"
    }
   ],
   "source": [
    "from IPython import get_ipython"
   ]
  },
  {
   "cell_type": "markdown",
   "id": "158f1e3f-9f5f-4da8-99f5-b5526d96ea7e",
   "metadata": {},
   "source": [
    "we must indent the code, as follows, to make sure execution is engaged. indenting code in notebooks is a useful practice, unindented code rendered as markdown appears as rich text and is not canonical."
   ]
  },
  {
   "cell_type": "code",
   "execution_count": 3,
   "id": "a7dad625-861f-48f4-8c99-dba440430b45",
   "metadata": {},
   "outputs": [
    {
     "data": {
      "text/markdown": [
       "    from IPython import get_ipython"
      ],
      "text/plain": [
       "<IPython.core.display.Markdown object>"
      ]
     },
     "metadata": {},
     "output_type": "display_data"
    }
   ],
   "source": [
    "    from IPython import get_ipython"
   ]
  },
  {
   "cell_type": "markdown",
   "id": "e734aa0a-bb87-4d4a-be47-d7c54cd72439",
   "metadata": {},
   "source": [
    "## suppressing the woven display"
   ]
  },
  {
   "cell_type": "markdown",
   "id": "ab43e6ab-a8fb-4294-9975-d3733526a9a8",
   "metadata": {},
   "source": [
    "begin a cell with a single empty line to suppress a display"
   ]
  },
  {
   "cell_type": "code",
   "execution_count": 4,
   "id": "d5a037ca-43d1-456f-bf57-30b7be5c532c",
   "metadata": {},
   "outputs": [],
   "source": [
    "       \n",
    "        from IPython import get_ipython"
   ]
  },
  {
   "cell_type": "markdown",
   "id": "79655b80-bfc0-4857-b62a-4910adb2a177",
   "metadata": {},
   "source": [
    "## all markdown is a string"
   ]
  },
  {
   "cell_type": "markdown",
   "id": "fd6eb44c-3cee-485c-b266-09033a7a218d",
   "metadata": {},
   "source": [
    "## connecting markdown and indented python code"
   ]
  },
  {
   "cell_type": "code",
   "execution_count": 5,
   "id": "95c2bc25-e25c-4099-b735-459a24aaf78b",
   "metadata": {},
   "outputs": [
    {
     "data": {
      "text/markdown": [
       "### docstrings"
      ],
      "text/plain": [
       "<IPython.core.display.Markdown object>"
      ]
     },
     "metadata": {},
     "output_type": "display_data"
    }
   ],
   "source": [
    "### docstrings"
   ]
  },
  {
   "cell_type": "markdown",
   "id": "ce7e6fe2-4939-4884-bb8b-d8895cb4f239",
   "metadata": {},
   "source": [
    "### line continuations"
   ]
  },
  {
   "cell_type": "markdown",
   "id": "71d81814-d35d-478c-88e6-9a0bd2bd2ed8",
   "metadata": {},
   "source": [
    "### parenthesis"
   ]
  },
  {
   "cell_type": "markdown",
   "id": "d69621a5-6eb8-4653-b013-ed6bf45e50ec",
   "metadata": {},
   "source": [
    "## templating markdown\n",
    "\n",
    "`pidgy` extends markdown by being aware of `jinja2` templates that can include live data into woven displays"
   ]
  },
  {
   "cell_type": "code",
   "execution_count": 6,
   "id": "b119b6ff-4f24-471e-817b-9bc710f99aa0",
   "metadata": {},
   "outputs": [
    {
     "data": {
      "text/markdown": [
       "<img src=\"data:image/png;base64,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\"/>    \n",
       "    \n",
       "    \n",
       "<div><style scoped>\n",
       "    .dataframe tbody tr th:only-of-type {\n",
       "        vertical-align: middle;\n",
       "    }\n",
       "\n",
       "    .dataframe tbody tr th {\n",
       "        vertical-align: top;\n",
       "    }\n",
       "\n",
       "    .dataframe thead th {\n",
       "        text-align: right;\n",
       "    }\n",
       "</style><table border=1 class=dataframe><thead><tr style=\"text-align: right;\"><th></th><th>count</th><th>mean</th><th>std</th><th>min</th><th>25%</th><th>50%</th><th>75%</th><th>max</th></tr></thead><tbody><tr><th>0</th><td>10.0</td><td>4.5</td><td>3.02765</td><td>0.0</td><td>2.25</td><td>4.5</td><td>6.75</td><td>9.0</td></tr><tr><th>1</th><td>10.0</td><td>0.0</td><td>0.00000</td><td>0.0</td><td>0.00</td><td>0.0</td><td>0.00</td><td>0.0</td></tr><tr><th>2</th><td>10.0</td><td>0.0</td><td>0.00000</td><td>0.0</td><td>0.00</td><td>0.0</td><td>0.00</td><td>0.0</td></tr></tbody></table></div>\n",
       "\n",
       "    import pandas\n",
       "\n",
       "    df = pandas.DataFrame([x, 0, 0 ] for x in range(10))"
      ],
      "text/plain": [
       "<IPython.core.display.Markdown object>"
      ]
     },
     "metadata": {},
     "output_type": "display_data"
    }
   ],
   "source": [
    "{{df.plot().figure}}    \n",
    "    \n",
    "    \n",
    "{{df.describe().T}}\n",
    "\n",
    "    import pandas\n",
    "\n",
    "    df = pandas.DataFrame([x, 0, 0 ] for x in range(10))"
   ]
  },
  {
   "cell_type": "markdown",
   "id": "e0973815-7983-41c9-b021-a3a4340e053f",
   "metadata": {},
   "source": [
    "## iframes and images"
   ]
  },
  {
   "cell_type": "code",
   "execution_count": 7,
   "id": "4471da87-7186-4731-959a-85305269cfb4",
   "metadata": {},
   "outputs": [
    {
     "data": {
      "text/html": [
       "\n",
       "        <iframe\n",
       "            width=\"100%\"\n",
       "            height=\"600\"\n",
       "            src=\"https://nbviewer.org/github/deathbeds/pidgy/blob/master/docs/tangle_examples.ipynb\"\n",
       "            frameborder=\"0\"\n",
       "            allowfullscreen\n",
       "        ></iframe>\n",
       "        "
      ],
      "text/plain": [
       "<IPython.lib.display.IFrame at 0x7fe1bb91f640>"
      ]
     },
     "metadata": {},
     "output_type": "display_data"
    },
    {
     "data": {
      "text/html": [
       "<img src=\"https://raw.githubusercontent.com/deathbeds/pidgy/master/pidgy.png\"/>"
      ],
      "text/plain": [
       "<IPython.core.display.Image object>"
      ]
     },
     "metadata": {},
     "output_type": "display_data"
    }
   ],
   "source": [
    "https://nbviewer.org/github/deathbeds/pidgy/blob/master/docs/tangle_examples.ipynb\n",
    "https://raw.githubusercontent.com/deathbeds/pidgy/master/pidgy.png"
   ]
  }
 ],
 "metadata": {
  "kernelspec": {
   "display_name": "pidgy 3",
   "language": "python",
   "name": "kernelspec"
  },
  "language_info": {
   "codemirror_mode": {
    "name": "ipython",
    "version": 3
   },
   "file_extension": ".py",
   "mimetype": "text/x-python",
   "name": "python",
   "nbconvert_exporter": "python",
   "pygments_lexer": "ipython3",
   "version": "3.9.5"
  }
 },
 "nbformat": 4,
 "nbformat_minor": 5
}
