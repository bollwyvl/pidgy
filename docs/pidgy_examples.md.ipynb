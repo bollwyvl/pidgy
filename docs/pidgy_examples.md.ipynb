{
 "cells": [
  {
   "cell_type": "markdown",
   "id": "23e87272-fda2-4a91-94e5-1e18acb9d21d",
   "metadata": {},
   "source": [
    "# `pidgy` examples\n",
    "\n",
    "this notebook is executed using a `pidgy` kernel to demonstrate some of the capabilities.\n",
    "\n",
    "> note: this document puts headers in markdown cells to cooperate with jupyter book documentation"
   ]
  },
  {
   "cell_type": "markdown",
   "id": "7ad76c36-3dee-4477-b274-4a6ffc10ac7e",
   "metadata": {},
   "source": [
    "out of the box, `pidgy` is asynchrous and reactive, but to use this document for testing we have to constrain the execution to synchronous and blocking."
   ]
  },
  {
   "cell_type": "code",
   "execution_count": 1,
   "id": "e96c74d9-3e0d-440f-8530-9ab0cec4835a",
   "metadata": {},
   "outputs": [],
   "source": [
    "        \n",
    "    shell.weave.reactive = False\n",
    "    shell.weave.use_asynch(False)"
   ]
  },
  {
   "cell_type": "markdown",
   "id": "97b010e1-c1be-457f-8741-478eab015b43",
   "metadata": {},
   "source": [
    "## an indent can make a big different\n",
    "\n",
    "under normal cirumstances, the following line of code is valid python, but in `pidgy` it is valid markdown. "
   ]
  },
  {
   "cell_type": "code",
   "execution_count": 2,
   "id": "07a0bfe9-91cb-4eb5-ab75-9f0ae0176798",
   "metadata": {},
   "outputs": [
    {
     "data": {
      "text/markdown": [
       "from IPython import get_ipython"
      ],
      "text/plain": [
       "<IPython.core.display.Markdown object>"
      ]
     },
     "metadata": {},
     "output_type": "display_data"
    }
   ],
   "source": [
    "from IPython import get_ipython"
   ]
  },
  {
   "cell_type": "markdown",
   "id": "158f1e3f-9f5f-4da8-99f5-b5526d96ea7e",
   "metadata": {},
   "source": [
    "we must indent the code, as follows, to make sure execution is engaged."
   ]
  },
  {
   "cell_type": "code",
   "execution_count": 3,
   "id": "a7dad625-861f-48f4-8c99-dba440430b45",
   "metadata": {},
   "outputs": [
    {
     "data": {
      "text/markdown": [
       "    from IPython import get_ipython"
      ],
      "text/plain": [
       "<IPython.core.display.Markdown object>"
      ]
     },
     "metadata": {},
     "output_type": "display_data"
    }
   ],
   "source": [
    "    from IPython import get_ipython"
   ]
  },
  {
   "cell_type": "markdown",
   "id": "79655b80-bfc0-4857-b62a-4910adb2a177",
   "metadata": {},
   "source": [
    "## all markdown is a string"
   ]
  },
  {
   "cell_type": "markdown",
   "id": "fd6eb44c-3cee-485c-b266-09033a7a218d",
   "metadata": {},
   "source": [
    "## connecting markdown and indented python code"
   ]
  },
  {
   "cell_type": "code",
   "execution_count": 4,
   "id": "95c2bc25-e25c-4099-b735-459a24aaf78b",
   "metadata": {},
   "outputs": [
    {
     "data": {
      "text/markdown": [
       "### docstrings"
      ],
      "text/plain": [
       "<IPython.core.display.Markdown object>"
      ]
     },
     "metadata": {},
     "output_type": "display_data"
    }
   ],
   "source": [
    "### docstrings"
   ]
  },
  {
   "cell_type": "markdown",
   "id": "ce7e6fe2-4939-4884-bb8b-d8895cb4f239",
   "metadata": {},
   "source": [
    "### line continuations"
   ]
  },
  {
   "cell_type": "markdown",
   "id": "71d81814-d35d-478c-88e6-9a0bd2bd2ed8",
   "metadata": {},
   "source": [
    "### parenthesis"
   ]
  },
  {
   "cell_type": "markdown",
   "id": "d69621a5-6eb8-4653-b013-ed6bf45e50ec",
   "metadata": {},
   "source": [
    "## templating markdown\n",
    "\n",
    "`pidgy` extends markdown by being aware of `jinja2` templates that can include live data into woven displays"
   ]
  },
  {
   "cell_type": "code",
   "execution_count": null,
   "id": "4ac12af0-cf85-46f7-858f-474f88aafccb",
   "metadata": {},
   "outputs": [],
   "source": []
  }
 ],
 "metadata": {
  "kernelspec": {
   "display_name": "pidgy 3",
   "language": "python",
   "name": "kernelspec"
  },
  "language_info": {
   "codemirror_mode": {
    "name": "ipython",
    "version": 3
   },
   "file_extension": ".py",
   "mimetype": "text/x-python",
   "name": "python",
   "nbconvert_exporter": "python",
   "pygments_lexer": "ipython3",
   "version": "3.9.5"
  }
 },
 "nbformat": 4,
 "nbformat_minor": 5
}
