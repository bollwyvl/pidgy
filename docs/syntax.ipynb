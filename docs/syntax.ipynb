{
 "cells": [
  {
   "cell_type": "markdown",
   "id": "0c94af7b-99e1-47d7-b3ec-69c5c5762754",
   "metadata": {},
   "source": [
    "this document describes the outcomes of creating a metalanguage of markdown and python. `pidgy` uses a few heuristics to translate markdown tokens, parsed by `markdownit`, line for line into python code. the heuristics primarly wrap narrative as python block strings with some other small affordances for writing literate programs.\n",
    "\n",
    "following we document different aspects of the pidgy metalanguage. these cells show a markdown input, display the input, and show the code translated to python\n",
    "\n",
    "## markdown as a programming language\n",
    "\n",
    "markdown never fails, it only violates expectations. other markup languages have failure modes like `rst`. but we can rely on markdown not to break. the `pidgy` markdown parser relies on `markdown-it` that is informed by the commonmark specification. the combinations of markdown's specification and python's format grammar provide a sound substrate for a modern literate programming metalanguage.\n",
    "\n",
    "there are literate programming implementations that rely on rmarkdown line syntaxes that use flexibility of the code fence language. again, this approach leads to failures at the document. `pidgy` prefers a whitespace aware approach"
   ]
  },
  {
   "cell_type": "code",
   "execution_count": 1,
   "id": "96f61568-5e4d-493a-b20c-3f725fdcc6e6",
   "metadata": {},
   "outputs": [],
   "source": [
    "    from pidgy import get_ipython\n",
    "    %reload_ext pidgy.magic"
   ]
  },
  {
   "cell_type": "markdown",
   "id": "8f051a56-818a-40d1-868a-d26e4de3c34e",
   "metadata": {},
   "source": [
    "\n",
    "some authors may prefer code fences as a delimiter for code; `pidgy` supports this mode.\n",
    "many literate programming interfaces follow the `rmarkdown` approach to leveraging\n",
    "code fence info, the information following `\"```\"`, `pidgy` only takes a stance on code \n",
    "fence __without__ info.\n",
    "\n",
    "in the future, we'll make the info extensible. until then, `pidgy` tries to leverage\n",
    "canonical markdown and python syntaxes."
   ]
  },
  {
   "cell_type": "markdown",
   "id": "458a8ed3-f395-43fa-9312-1c325c38dd4f",
   "metadata": {},
   "source": [
    "## narrative only"
   ]
  },
  {
   "cell_type": "code",
   "execution_count": 2,
   "id": "195bcd49-4cfb-47a9-bc43-2f05493c279a",
   "metadata": {},
   "outputs": [
    {
     "name": "stdout",
     "output_type": "stream",
     "text": [
      "r'''when narrative is the only content of a cell, \n",
      "it is represented a block string in python. the\n",
      "content of the paragraph is wrapped in _triple quotes_;\n",
      "a semicolon is appended to suppress the output of the string.\n",
      "\n",
      "these paragraphs are based on markdown tokens\n",
      "        so errant indents directly following \n",
      "                        a line of narrative are collected together.\n",
      "\n",
      "---''';\n",
      "\n"
     ]
    }
   ],
   "source": [
    "%%tangle\n",
    "when narrative is the only content of a cell, \n",
    "it is represented a block string in python. the\n",
    "content of the paragraph is wrapped in _triple quotes_;\n",
    "a semicolon is appended to suppress the output of the string.\n",
    "\n",
    "these paragraphs are based on markdown tokens\n",
    "        so errant indents directly following \n",
    "                        a line of narrative are collected together.\n",
    "        \n",
    "---"
   ]
  },
  {
   "cell_type": "code",
   "execution_count": 3,
   "id": "7e8eb312-543d-49df-8fd6-def1647da091",
   "metadata": {},
   "outputs": [
    {
     "name": "stdout",
     "output_type": "stream",
     "text": [
      "r'''any markdown syntax is allowed like ordered or unordered lists or blockquotes.\n",
      "\n",
      "* a list\n",
      "* a second item\n",
      "\n",
      "> all these objects are wrapped in quotes.\n",
      "\n",
      "---''';\n",
      "\n"
     ]
    }
   ],
   "source": [
    "%%tangle weave\n",
    "any markdown syntax is allowed like ordered or unordered lists or blockquotes.\n",
    "\n",
    "* a list\n",
    "* a second item\n",
    "\n",
    "> all these objects are wrapped in quotes.\n",
    "\n",
    "---"
   ]
  },
  {
   "cell_type": "markdown",
   "id": "9480a500-4254-4aa0-bec2-d0894f147528",
   "metadata": {},
   "source": [
    "## adding code"
   ]
  },
  {
   "cell_type": "code",
   "execution_count": 4,
   "id": "482b56e6-c68b-4cd5-b80d-657447c6ed0c",
   "metadata": {},
   "outputs": [
    {
     "name": "stdout",
     "output_type": "stream",
     "text": [
      "r'''### indented code blocks\n",
      "\n",
      "this simplest way to start executing code is to use indented code blocks ala literate coffeescript.'''\n",
      "\n",
      "print(\"run code\")\n",
      "\n",
      "r'''the indented block code acts as a reference for the `pidgy` parse to split code and non-code.\n",
      "\n",
      "---''';\n",
      "\n"
     ]
    }
   ],
   "source": [
    "%%tangle weave\n",
    "### indented code blocks\n",
    "\n",
    "this simplest way to start executing code is to use indented code blocks ala literate coffeescript.\n",
    "\n",
    "    print(\"run code\")\n",
    "    \n",
    "the indented block code acts as a reference for the `pidgy` parse to split code and non-code.\n",
    "    \n",
    "---"
   ]
  },
  {
   "cell_type": "markdown",
   "id": "7a02d70c-a4ef-488a-9983-76f3012e66f2",
   "metadata": {},
   "source": [
    "### using markdown in code\n",
    "\n",
    "in python statements follow the colon, `:`. when `pidgy` finds colon it resolves the quotes and indents properly. "
   ]
  },
  {
   "cell_type": "code",
   "execution_count": 5,
   "id": "71bf7ac9-9464-4447-bdeb-21f43880fd9f",
   "metadata": {},
   "outputs": [
    {
     "name": "stdout",
     "output_type": "stream",
     "text": [
      "r'''#### docstrings\n",
      "\n",
      "for classes and function `pidgy` turns markdown into docstring. \n",
      "because of the indenting and positioning of the translated markdown, it will become the docstring for the `object`.'''\n",
      "\n",
      "def my_function():\n",
      "\n",
      "    r'''`my_function` is an example of function with docstring defined by a block of markdown.\n",
      "\n",
      "this function is used for:\n",
      "\n",
      "* demonstration\n",
      "* nothing else'''\n",
      "\n",
      "    return # the trailing break is aligned with the return because it is the reference.\n",
      "\n"
     ]
    }
   ],
   "source": [
    "%%tangle weave\n",
    "#### docstrings\n",
    "\n",
    "for classes and function `pidgy` turns markdown into docstring. \n",
    "because of the indenting and positioning of the translated markdown, it will become the docstring for the `object`.\n",
    "    \n",
    "        def my_function():\n",
    "            \n",
    "`my_function` is an example of function with docstring defined by a block of markdown.\n",
    "    \n",
    "this function is used for:\n",
    "    \n",
    "* demonstration\n",
    "* nothing else\n",
    "\n",
    "            return # the trailing break is aligned with the return because it is the reference."
   ]
  },
  {
   "cell_type": "code",
   "execution_count": 6,
   "id": "7fa1dcbb-8a61-4e09-874c-2811e331ef60",
   "metadata": {},
   "outputs": [
    {
     "name": "stdout",
     "output_type": "stream",
     "text": [
      "def my_function():\n",
      "                    r'''`docstring`s are adjusted by the following indent'''\n",
      "\n",
      "                    return # the trailing break is aligned with the return because it is the reference.\n",
      "\n"
     ]
    }
   ],
   "source": [
    "%%tangle weave\n",
    "        def my_function():\n",
    "`docstring`s are adjusted by the following indent\n",
    "\n",
    "                            return # the trailing break is aligned with the return because it is the reference."
   ]
  },
  {
   "cell_type": "code",
   "execution_count": 7,
   "id": "e7db43c7-f058-44d8-8d10-a792c5521140",
   "metadata": {},
   "outputs": [
    {
     "name": "stdout",
     "output_type": "stream",
     "text": [
      "r'''#### parenthesis\n",
      "\n",
      "parenthesis can wrap many blocks of narrative and code'''\n",
      "\n",
      "multiple_string = (\n",
      "\n",
      "    r'''this paragraph is added to the paragraph following because of the plus'''\n",
      "\n",
      "    +\n",
      "\n",
      "    r'''this paragraph is connected to the one above'''\n",
      "\n",
      "    )\n",
      "\n"
     ]
    }
   ],
   "source": [
    "%%tangle weave\n",
    "#### parenthesis\n",
    "\n",
    "parenthesis can wrap many blocks of narrative and code\n",
    "\n",
    "    multiple_string = (\n",
    "\n",
    "this paragraph is added to the paragraph following because of the plus\n",
    "        \n",
    "        +\n",
    "        \n",
    "this paragraph is connected to the one above\n",
    "    \n",
    "        )"
   ]
  },
  {
   "cell_type": "code",
   "execution_count": 8,
   "id": "7a3f1e89-a0ef-4163-aa82-6f2280f3fd24",
   "metadata": {},
   "outputs": [
    {
     "name": "stdout",
     "output_type": "stream",
     "text": [
      "r'''#### explicit strings'''\n",
      "\n",
      "explicit = \"\"\"\n",
      "\n",
      "with `pidgy`, narrative is generally wrapped in triple unless quotes end the prior line of code.\n",
      "\n",
      "we can even change methods\n",
      "\n",
      "\"\"\".split(); # we have to add a semicolon so there is not trailing quotes\n",
      "\n",
      "continued_explicit_string = \"\"\"\\\n",
      "we can remove whitespace using the python line continuations.\\\n",
      "\\    \n",
      "\"\"\"\n",
      "\n",
      "---\n",
      "\n"
     ]
    }
   ],
   "source": [
    "%%tangle weave\n",
    "#### explicit strings\n",
    "\n",
    "    explicit = \"\"\"\n",
    "\n",
    "with `pidgy`, narrative is generally wrapped in triple unless quotes end the prior line of code.\n",
    "\n",
    "we can even change methods\n",
    "\n",
    "    \"\"\".split(); # we have to add a semicolon so there is not trailing quotes\n",
    "\n",
    "    continued_explicit_string = \"\"\"\\\n",
    "we can remove whitespace using the python line continuations.\\\n",
    "    \n",
    "    \"\"\"\n",
    "    \n",
    "---"
   ]
  },
  {
   "cell_type": "code",
   "execution_count": 9,
   "id": "4c4499b0-3d0b-4a1b-8618-ce51c9ffad5b",
   "metadata": {},
   "outputs": [
    {
     "name": "stdout",
     "output_type": "stream",
     "text": [
      "r'''#### continuations'''\n",
      "\n",
      "a_string =\\\n",
      "\\\n",
      "r'''this string is defined in the variable `a_string`'''\n",
      "\n",
      "a_big_space =\\\n",
      "\\\n",
      "\\\n",
      "r'''`pidgy` fills in line continuations across code and non code blocks'''\n",
      "\n",
      "a_continued_markdown_block =\\\n",
      "# we have to explicitly add continuations in code blocks\\\n",
      "r'''markdown also allows continues so we can chain markdown and code together'''\\\n",
      "\\\n",
      "\\\n",
      "+ \".\"\n",
      "\n",
      "r'''---''';\n",
      "\n"
     ]
    }
   ],
   "source": [
    "%%tangle weave\n",
    "#### continuations\n",
    "\n",
    "    a_string =\\\n",
    "    \n",
    "this string is defined in the variable `a_string`\n",
    "    \n",
    "    a_big_space =\\\n",
    "    \n",
    "    \n",
    "`pidgy` fills in line continuations across code and non code blocks\n",
    "    \n",
    "    a_continued_markdown_block =\\\n",
    "    # we have to explicitly add continuations in code blocks\\\n",
    "markdown also allows continues so we can chain markdown and code together\\\n",
    "\n",
    "\n",
    "    + \".\"\n",
    "    \n",
    "---"
   ]
  },
  {
   "cell_type": "markdown",
   "id": "8531256e-65e6-4e59-9e8b-c3a271ad6a79",
   "metadata": {},
   "source": [
    "## code fences"
   ]
  },
  {
   "cell_type": "markdown",
   "id": "cd54ab89-8dab-4e6a-9174-41fae6390184",
   "metadata": {},
   "source": [
    "currently in code fence mode the variables defintions contain the fences."
   ]
  },
  {
   "cell_type": "code",
   "execution_count": 10,
   "id": "0b1895f4-9cfa-43a3-9f99-7ce72c345d60",
   "metadata": {},
   "outputs": [
    {
     "name": "stdout",
     "output_type": "stream",
     "text": [
      "def f():\n",
      "\n",
      "            r'''like indented mode, code fence mode adjusts code because on the relative indents in the code'''\n",
      "\n",
      "\n",
      "\n",
      "            return 9\n",
      "\n",
      "\n",
      "\n",
      "\n"
     ]
    }
   ],
   "source": [
    "%%tangle weave\n",
    "    def f():\n",
    "\n",
    "like indented mode, code fence mode adjusts code because on the relative indents in the code\n",
    "\n",
    "```\n",
    "\n",
    "            return 9\n",
    "\n",
    "```\n",
    "\n"
   ]
  },
  {
   "cell_type": "code",
   "execution_count": 11,
   "id": "d9c3d255-987f-4396-ab7b-1ee3ca356fc7",
   "metadata": {},
   "outputs": [
    {
     "name": "stdout",
     "output_type": "stream",
     "text": [
      "r'''mixing indented code and fenced code'''\n",
      "\n",
      "print(10)\n",
      "\n",
      "r'''fences are dedented four spaces relative to indented code, `pidgy` forces a \n",
      "four space indent on code fences to make them compatiable code blocks.'''\n",
      "\n",
      "\n",
      "print(20)\n",
      "\n",
      "\n"
     ]
    }
   ],
   "source": [
    "%%tangle weave\n",
    "mixing indented code and fenced code\n",
    "\n",
    "    print(10)\n",
    "    \n",
    "fences are dedented four spaces relative to indented code, `pidgy` forces a \n",
    "four space indent on code fences to make them compatiable code blocks.\n",
    "    \n",
    "```\n",
    "print(20)\n",
    "```"
   ]
  },
  {
   "cell_type": "markdown",
   "id": "182abd19-5c6c-4312-8daf-3c2bc905dfaf",
   "metadata": {},
   "source": [
    "after all this we still have hardly scratched the surface of the affordances that pidgy provides.\n",
    "you can unlocked more advanced topics and modes in the [lisp] and [templating] docs."
   ]
  },
  {
   "cell_type": "code",
   "execution_count": null,
   "id": "1d49c54a-b45f-43f2-b6a1-b392e82857a8",
   "metadata": {},
   "outputs": [],
   "source": []
  }
 ],
 "metadata": {
  "kernelspec": {
   "display_name": "Python 3",
   "language": "python",
   "name": "python3"
  },
  "language_info": {
   "codemirror_mode": {
    "name": "ipython",
    "version": 3
   },
   "file_extension": ".py",
   "mimetype": "text/x-python",
   "name": "python",
   "nbconvert_exporter": "python",
   "pygments_lexer": "ipython3",
   "version": "3.7.7"
  }
 },
 "nbformat": 4,
 "nbformat_minor": 5
}
