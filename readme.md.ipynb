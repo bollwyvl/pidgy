{
 "cells": [
  {
   "cell_type": "code",
   "execution_count": 26,
   "metadata": {},
   "outputs": [],
   "source": [
    "    \n",
    "    import pidgy, IPython, notebook, mistune as markdown, doctest, jinja2, jinja2 as template, jupyter, pytest"
   ]
  },
  {
   "cell_type": "code",
   "execution_count": 27,
   "metadata": {},
   "outputs": [
    {
     "data": {
      "text/markdown": [
       "# `pidgy` literate `notebook` programming\n",
       "\n",
       "[![Binder](https://mybinder.org/badge_logo.svg)](https://mybinder.org/v2/gh/deathbeds/pidgy/master)\n",
       "[![Documentation Status](https://readthedocs.org/projects/pidgin-notebook/badge/?version=latest)](https://pidgin-notebook.readthedocs.io/en/latest/?badge=latest)\n",
       "![Python package](https://github.com/deathbeds/pidgy/workflows/Python%20package/badge.svg)\n",
       "![PyPI - Python Version](https://img.shields.io/pypi/pyversions/pidgy)\n",
       "\n",
       "`pidgy` is literate programming kernel and shell for `IPython`.\n",
       "When `pidgy` is enabled:\n",
       "* Write code in `markdown`, indented and fenced are executed.\n",
       "* `doctest`s in `markdown` are tested.\n",
       "* Include `object`s in `markdown` with `jinja2` `template` syntax.\n",
       "* `notebook`s can be woven and tangled as documentation and code.\n",
       "* `notebook`s can be reproduced as tests.\n",
       "* `\".md.ipynb\"` is a composite extension that indicates \n",
       "`pidgy` `notebook`s primarly written in `markdown`\n",
       "\n",
       "## The `pidgy` programming paper.\n",
       "\n",
       "`pidgy` is written as literate programming in `notebook`s;\n",
       "the narrative develop together into a cohesive program \n",
       "that serves dually as literature and reusable source code."
      ],
      "text/plain": [
       "<IPython.core.display.Markdown object>"
      ]
     },
     "metadata": {
      "text/markdown": {
       "end_time": "2020-02-12T17:46:43.064300",
       "modules": [],
       "names": [],
       "start_time": "2020-02-12T17:46:43.038042"
      }
     },
     "output_type": "display_data"
    }
   ],
   "source": [
    "# `pidgy` literate `notebook` programming\n",
    "\n",
    "[![Binder](https://mybinder.org/badge_logo.svg)](https://mybinder.org/v2/gh/deathbeds/pidgy/master)\n",
    "[![Documentation Status](https://readthedocs.org/projects/pidgin-notebook/badge/?version=latest)](https://pidgin-notebook.readthedocs.io/en/latest/?badge=latest)\n",
    "![Python package](https://github.com/deathbeds/pidgy/workflows/Python%20package/badge.svg)\n",
    "![PyPI - Python Version](https://img.shields.io/pypi/pyversions/pidgy)\n",
    "\n",
    "`pidgy` is literate programming kernel and shell for `IPython`.\n",
    "When `pidgy` is enabled:\n",
    "* Write code in `markdown`, indented and fenced are executed.\n",
    "* `doctest`s in `markdown` are tested.\n",
    "* Include `object`s in `markdown` with `jinja2` `template` syntax.\n",
    "* `notebook`s can be woven and tangled as documentation and code.\n",
    "* `notebook`s can be reproduced as tests.\n",
    "* `\".md.ipynb\"` is a composite extension that indicates \n",
    "`pidgy` `notebook`s primarly written in `markdown`\n",
    "\n",
    "## The `pidgy` programming paper.\n",
    "\n",
    "`pidgy` is written as literate programming in `notebook`s;\n",
    "the narrative develop together into a cohesive program \n",
    "that serves dually as literature and reusable source code."
   ]
  },
  {
   "cell_type": "code",
   "execution_count": 28,
   "metadata": {},
   "outputs": [
    {
     "data": {
      "text/markdown": [
       "    import pidgy"
      ],
      "text/plain": [
       "<IPython.core.display.Markdown object>"
      ]
     },
     "metadata": {
      "text/markdown": {
       "end_time": "2020-02-12T17:46:43.190200",
       "modules": [],
       "names": [],
       "start_time": "2020-02-12T17:46:43.188534"
      }
     },
     "output_type": "display_data"
    }
   ],
   "source": [
    "    import pidgy"
   ]
  },
  {
   "cell_type": "code",
   "execution_count": 29,
   "metadata": {},
   "outputs": [
    {
     "data": {
      "text/markdown": [
       "## `pidgy` command line application"
      ],
      "text/plain": [
       "<IPython.core.display.Markdown object>"
      ]
     },
     "metadata": {
      "text/markdown": {
       "end_time": "2020-02-12T17:46:44.089116",
       "modules": [],
       "names": [],
       "start_time": "2020-02-12T17:46:44.084953"
      }
     },
     "output_type": "display_data"
    }
   ],
   "source": [
    "## `pidgy` command line application"
   ]
  },
  {
   "cell_type": "code",
   "execution_count": 30,
   "metadata": {},
   "outputs": [
    {
     "data": {
      "text/markdown": [
       "### Install the `IPython` kernels\n",
       "\n",
       "Install the `pidgy` kernel so you can use whenever you want.\n",
       "\n",
       "```bash\n",
       "pidgy kernel install\n",
       "```"
      ],
      "text/plain": [
       "<IPython.core.display.Markdown object>"
      ]
     },
     "metadata": {
      "text/markdown": {
       "end_time": "2020-02-12T17:46:45.143393",
       "modules": [],
       "names": [],
       "start_time": "2020-02-12T17:46:45.138836"
      }
     },
     "output_type": "display_data"
    }
   ],
   "source": [
    "### Install the `IPython` kernels\n",
    "\n",
    "Install the `pidgy` kernel so you can use whenever you want.\n",
    "\n",
    "```bash\n",
    "pidgy kernel install\n",
    "```"
   ]
  },
  {
   "cell_type": "code",
   "execution_count": 31,
   "metadata": {},
   "outputs": [
    {
     "data": {
      "text/markdown": [
       "### Load the `IPython` extension\n",
       "\n",
       "Otherwise, using the `pidgy` `IPython` extension any `jupyter` `notebook`.\n",
       "\n",
       "```bash\n",
       "%load_ext pidgy\n",
       "```\n",
       "\n",
       "Likely, the only other paper of the api you made need is the `pidgy.pidgyLoader`\n",
       "that allows `pidgy` documents to be imported as normal source code.\n",
       "The loader searches for `notebook`s with the `\".md.ipynb\"` extension\n",
       "and adds them to the python import system."
      ],
      "text/plain": [
       "<IPython.core.display.Markdown object>"
      ]
     },
     "metadata": {
      "text/markdown": {
       "end_time": "2020-02-12T17:46:46.137987",
       "modules": [],
       "names": [],
       "start_time": "2020-02-12T17:46:46.124980"
      }
     },
     "output_type": "display_data"
    }
   ],
   "source": [
    "### Load the `IPython` extension\n",
    "\n",
    "Otherwise, using the `pidgy` `IPython` extension any `jupyter` `notebook`.\n",
    "\n",
    "```bash\n",
    "%load_ext pidgy\n",
    "```\n",
    "\n",
    "Likely, the only other paper of the api you made need is the `pidgy.pidgyLoader`\n",
    "that allows `pidgy` documents to be imported as normal source code.\n",
    "The loader searches for `notebook`s with the `\".md.ipynb\"` extension\n",
    "and adds them to the python import system."
   ]
  },
  {
   "cell_type": "code",
   "execution_count": 32,
   "metadata": {},
   "outputs": [
    {
     "data": {
      "text/markdown": [
       "## reuse `pidgy` documents as modules \n",
       "\n",
       "    with pidgy.pidgyLoader():\n",
       "        import readme\n",
       "    assert readme.__file__.endswith('.md.ipynb')"
      ],
      "text/plain": [
       "<IPython.core.display.Markdown object>"
      ]
     },
     "metadata": {
      "text/markdown": {
       "end_time": "2020-02-12T17:46:47.170616",
       "modules": [],
       "names": [],
       "start_time": "2020-02-12T17:46:47.165180"
      }
     },
     "output_type": "display_data"
    }
   ],
   "source": [
    "## reuse `pidgy` documents as modules \n",
    "\n",
    "    with pidgy.pidgyLoader():\n",
    "        import readme\n",
    "    assert readme.__file__.endswith('.md.ipynb')"
   ]
  },
  {
   "cell_type": "code",
   "execution_count": 33,
   "metadata": {},
   "outputs": [
    {
     "data": {
      "text/markdown": [
       "## testing `pidgy` notebooks.\n",
       "\n",
       "`pidgy` is a `pytest` plugin that can be used to include literature (eg. blog posts, issues, docs)\n",
       "in software test suites.\n",
       "    \n",
       "```bash\n",
       "pytest --nbval--doctest-modules readme.md.ipynb\n",
       "```"
      ],
      "text/plain": [
       "<IPython.core.display.Markdown object>"
      ]
     },
     "metadata": {
      "text/markdown": {
       "end_time": "2020-02-12T17:46:48.387456",
       "modules": [],
       "names": [],
       "start_time": "2020-02-12T17:46:48.380792"
      }
     },
     "output_type": "display_data"
    }
   ],
   "source": [
    "## testing `pidgy` notebooks.\n",
    "\n",
    "`pidgy` is a `pytest` plugin that can be used to include literature (eg. blog posts, issues, docs)\n",
    "in software test suites.\n",
    "    \n",
    "```bash\n",
    "pytest --nbval--doctest-modules readme.md.ipynb\n",
    "```"
   ]
  },
  {
   "cell_type": "code",
   "execution_count": 34,
   "metadata": {},
   "outputs": [
    {
     "data": {
      "text/markdown": [
       "## The plurality of `pidgy`\n",
       "\n",
       "Above we've highlight a few outcomes of `pidgy` programming.\n",
       "`pidgy` is written as both documentation and source code therefore it\n",
       "can be viewed by the following tools.\n",
       "\n",
       "* [nbviewer](https://nbviewer.jupyter.org/github/deathbeds/pidgy/blob/master/readme.md.ipynb)\n",
       "* [github pages](https://deathbeds.github.io/pidgy/)\n",
       "* [pypi](https://pypi.org/project/pidgy)\n",
       "* [readthedocs](https://pidgin-notebook.readthedocs.io/en/latest/)\n",
       "* [binder](https://mybinder.org/v2/gh/deathbeds/pidgy/master)\n",
       "* [github actions](https://github.com/deathbeds/pidgy/actions)"
      ],
      "text/plain": [
       "<IPython.core.display.Markdown object>"
      ]
     },
     "metadata": {
      "text/markdown": {
       "end_time": "2020-02-12T17:46:49.380229",
       "modules": [],
       "names": [],
       "start_time": "2020-02-12T17:46:49.373173"
      }
     },
     "output_type": "display_data"
    }
   ],
   "source": [
    "## The plurality of `pidgy`\n",
    "\n",
    "Above we've highlight a few outcomes of `pidgy` programming.\n",
    "`pidgy` is written as both documentation and source code therefore it\n",
    "can be viewed by the following tools.\n",
    "\n",
    "* [nbviewer](https://nbviewer.jupyter.org/github/deathbeds/pidgy/blob/master/readme.md.ipynb)\n",
    "* [github pages](https://deathbeds.github.io/pidgy/)\n",
    "* [pypi](https://pypi.org/project/pidgy)\n",
    "* [readthedocs](https://pidgin-notebook.readthedocs.io/en/latest/)\n",
    "* [binder](https://mybinder.org/v2/gh/deathbeds/pidgy/master)\n",
    "* [github actions](https://github.com/deathbeds/pidgy/actions)\n"
   ]
  },
  {
   "cell_type": "code",
   "execution_count": 35,
   "metadata": {},
   "outputs": [],
   "source": [
    "\n",
    "Export the the `pidgy` document as `markdown`.\n",
    "\n",
    "    if __name__ == '__main__':\n",
    "        index = !jupyter nbconvert --to rst --TemplateExporter.exclude_input=True --stdout readme.md.ipynb > README.rst\n",
    "    ...;"
   ]
  }
 ],
 "metadata": {
  "kernelspec": {
   "display_name": "pidgy 3",
   "language": "python",
   "name": "pidgy"
  },
  "language_info": {
   "codemirror_mode": {
    "name": "ipython",
    "version": 3
   },
   "file_extension": ".py",
   "mimetype": "text/x-python",
   "name": "python",
   "nbconvert_exporter": "python",
   "pygments_lexer": "ipython3",
   "version": "3.7.3"
  }
 },
 "nbformat": 4,
 "nbformat_minor": 4
}
