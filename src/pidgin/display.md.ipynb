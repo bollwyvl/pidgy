{
 "cells": [
  {
   "cell_type": "markdown",
   "metadata": {},
   "source": [
    "`pidgin.display` is a collection of display rules for IPython objects.  \n",
    "\n",
    "`StringFormatter` is a class that adds reules for string `object`s."
   ]
  },
  {
   "cell_type": "code",
   "execution_count": 1,
   "metadata": {},
   "outputs": [],
   "source": [
    "    import abc, fnmatch, io, dataclasses, functools, html, IPython, jinja2, inspect, mistune, textwrap, collections, inspect, importlib, types, base64, string, traitlets\n",
    "    from mimetypes import guess_type; guess = lambda x: guess_type(x)[0]\n",
    "    with __import__('importnb').Notebook():\n",
    "        try:  from . import loader\n",
    "        except: import loader\n",
    "    with loader.PidginImporter():\n",
    "        try: \n",
    "            from .templating import format_images\n",
    "            from .weave import PidginDisplay, code_formatting\n",
    "        except: \n",
    "            from weave import PidginDisplay, code_formatting\n",
    "            from templating import format_images\n",
    "    ip = IPython.get_ipython()\n",
    "    \n",
    "    if __name__ == '__main__':\n",
    "        %reload_ext pidgin\n"
   ]
  },
  {
   "cell_type": "code",
   "execution_count": 2,
   "metadata": {},
   "outputs": [],
   "source": [
    "    def graphviz(ip, str): \n",
    "        try: import graphviz\n",
    "        except: return\n",
    "        if '->' in str and not str.startswith('di'): str = 'di' + str\n",
    "        return graphviz.Source(str)"
   ]
  },
  {
   "cell_type": "code",
   "execution_count": 3,
   "metadata": {},
   "outputs": [],
   "source": [
    "    def eval_shorthand_ipython(ip, str):\n",
    "        return eval(ip.input_transformer_manager.transform_cell(str), ip.user_ns, ip.user_global_ns)"
   ]
  },
  {
   "cell_type": "code",
   "execution_count": 4,
   "metadata": {},
   "outputs": [],
   "source": [
    "    def embed(ip, str):\n",
    "        type = guess(str) or ''\n",
    "        if str.startswith('http'): \n",
    "            if type.startswith('image') and not type.endswith('svg'):\n",
    "                return IPython.display.Image(str)\n",
    "            return IPython.display.IFrame(str, '100%', '500px')\n"
   ]
  },
  {
   "cell_type": "code",
   "execution_count": 5,
   "metadata": {},
   "outputs": [],
   "source": [
    "    class StringFormatterBase(abc.ABCMeta):\n",
    "        level = 0\n",
    "        def __enter__(cls): cls.level += 1\n",
    "        def __exit__(cls, *exc): cls.level -= 1\n",
    "\n",
    "        def format(cls, object, include=None, exclude=None, display=False):\n",
    "            if object in ip.user_ns: \n",
    "                value = ip.user_ns.get(object)\n",
    "                if value != object: return ip.display_formatter.format(value)\n",
    "            with cls:\n",
    "                for type, callable in cls.formatters.items():\n",
    "                    if fnmatch.fnmatch(object, type):\n",
    "                        result = callable(ip, object)\n",
    "                        if result: return ip.display_formatter.format(result)\n",
    "                if cls.level == 1: \n",
    "                    return ip.display_formatter.format(PidginDisplay(object, ip=ip))"
   ]
  },
  {
   "cell_type": "code",
   "execution_count": 6,
   "metadata": {},
   "outputs": [],
   "source": [
    "    class StringFormatter(metaclass=StringFormatterBase):\n",
    "        formatters = {'https://*' : embed,\n",
    "                      'http://*' : embed,\n",
    "                      'graph {*}': graphviz, \n",
    "                      'digraph {*}': graphviz,\n",
    "                      ';[! ]*': eval_shorthand_ipython,\n",
    "                      ',[! ]*': eval_shorthand_ipython,\n",
    "                     }"
   ]
  },
  {
   "cell_type": "code",
   "execution_count": 7,
   "metadata": {},
   "outputs": [],
   "source": [
    "    def format_object(object):\n",
    "        if not hasattr(object, '__name__'): return\n",
    "\n",
    "        ip = IPython.get_ipython()\n",
    "\n",
    "        for _ in dir(object):\n",
    "            if _.startswith('_repr') or _.startswith('_ipython'):\n",
    "                return \n",
    "\n",
    "        if isinstance(object, type) and not hasattr(object, '__file__') and object.__doc__ and len(object.__mro__) == 2:\n",
    "            return ip.display_formatter.format(object.__doc__)[0]\n",
    "        \n",
    "        file = \"\"\n",
    "        string_form = str(object)\n",
    "        try: title = ip.inspector._get_info(object).get('text/plain')\n",
    "        except: title = \"\"\n",
    "        \n",
    "        \n",
    "        if IPython.get_ipython().weave.safe:\n",
    "            file = object.__file__ if hasattr(object, '__file__') else ''\n",
    "\n",
    "        return {\n",
    "            'text/html': F\"\"\"<a href=\"{\"file:///\"+file}\" title=\"{\n",
    "                    code_formatting.format_title(title)\n",
    "            }\"><code>{mistune.escape(string_form)}</code></a>\"\"\", 'text/plain': string_form}"
   ]
  },
  {
   "cell_type": "code",
   "execution_count": 8,
   "metadata": {},
   "outputs": [],
   "source": [
    "    def format_bytes(bytes, object):\n",
    "        return {\n",
    "            'text/html': format_images('image/png', {'image/png': bytes}),\n",
    "            'text/plain': repr(object),}, {}"
   ]
  },
  {
   "cell_type": "code",
   "execution_count": 9,
   "metadata": {},
   "outputs": [],
   "source": [
    "    def show_axes(object):\n",
    "        ip = IPython.get_ipython()\n",
    "        import matplotlib.backends.backend_agg\n",
    "        bytes = io.BytesIO()\n",
    "        matplotlib.backends.backend_agg.FigureCanvasAgg(\n",
    "            getattr(object, 'figure', object)\n",
    "        ).print_png(bytes)\n",
    "        return format_bytes(bytes.getvalue(), object)"
   ]
  },
  {
   "cell_type": "code",
   "execution_count": 10,
   "metadata": {},
   "outputs": [],
   "source": [
    "    def show_sympy_axes(object): \n",
    "        s = io.BytesIO()\n",
    "        object.save(s)\n",
    "        return format_bytes(s.getvalue(), object)"
   ]
  },
  {
   "cell_type": "code",
   "execution_count": 11,
   "metadata": {},
   "outputs": [],
   "source": [
    "    def format_frame(DataFrame):\n",
    "        return {\n",
    "            'text/html': F\"<span>{DataFrame._repr_html_().lstrip('<div>').rstrip('</div>')}</span>\",\n",
    "            'text/plain': repr(DataFrame)\n",
    "        }, {}"
   ]
  },
  {
   "cell_type": "code",
   "execution_count": 12,
   "metadata": {},
   "outputs": [],
   "source": [
    "    formatters_by_name = (\n",
    "        ('matplotlib.figure', 'Axes', show_axes), \n",
    "        ('matplotlib.axes._subplots', 'AxesSubplot', show_axes),\n",
    "        ('pandas.core.frame', 'DataFrame', format_frame),\n",
    "        ('sympy.plotting.plot', 'Plot', show_sympy_axes),\n",
    "    )"
   ]
  },
  {
   "cell_type": "code",
   "execution_count": 13,
   "metadata": {},
   "outputs": [],
   "source": [
    "    def load_ipython_extension(ip): \n",
    "        mimebundle_formatter = ip.display_formatter.mimebundle_formatter\n",
    "        for object in formatters_by_name: mimebundle_formatter.for_type_by_name(*object)  \n",
    "        mimebundle_formatter.for_type(str, StringFormatter.format)\n",
    "        mimebundle_formatter.for_type(type, format_object)\n",
    "        mimebundle_formatter.for_type(types.ModuleType, format_object)\n",
    "\n",
    "\n",
    "    def unload_ipython_extension(ip=None): \n",
    "        for object in (type, types.ModuleType, str): \n",
    "            try: ip.display_formatter.mimebundle_formatter.type_printers.pop(object)\n",
    "            except: ...\n",
    "        for module, name, callable in formatters_by_name:\n",
    "            try: ip.display_formatter.mimebundle_formatter.deferred_printers.pop((module, name))\n",
    "            except: ...\n",
    "\n",
    "    if __name__ == '__main__':\n",
    "        %reload_ext tangle\n",
    "        %reload_ext weave\n",
    "        unload_ipython_extension(get_ipython())        \n",
    "        load_ipython_extension(get_ipython())"
   ]
  }
 ],
 "metadata": {
  "kernelspec": {
   "display_name": "Python 3",
   "language": "python",
   "name": "python3"
  },
  "language_info": {
   "codemirror_mode": {
    "name": "ipython",
    "version": 3
   },
   "file_extension": ".py",
   "mimetype": "text/x-python",
   "name": "python",
   "nbconvert_exporter": "python",
   "pygments_lexer": "ipython3",
   "version": "3.6.6"
  },
  "nikola": {
   "date": "2018-12-06 12:00:00 UTC",
   "description": "`pidgin.display` is a collection of display rules for IPython objects.  \n\n`StringFormatter` is a class that adds reules for string `object`s.",
   "slug": "display.ipynb",
   "title": "display.ipynb",
   "type": "text"
  }
 },
 "nbformat": 4,
 "nbformat_minor": 2
}
