{
 "cells": [
  {
   "cell_type": "code",
   "execution_count": 1,
   "metadata": {},
   "outputs": [],
   "source": [
    "    import ast, IPython, re, functools, black, traitlets, doctest, textwrap, mistune, types, importnb, typing as t\n",
    "    if __name__ == '__main__':  \n",
    "        %reload_ext pidgin"
   ]
  },
  {
   "cell_type": "code",
   "execution_count": 2,
   "metadata": {},
   "outputs": [],
   "source": [
    "    class PidginMixin:\n",
    "        extensions = '.md.ipynb',\n",
    "        def code(PidginMixin, str) -> str: \n",
    "            from .specifications import transform_cell\n",
    "            return importnb.loader.dedent(transform_cell.markdown_to_python(str))\n",
    "        \n",
    "    class PidginBase(PidginMixin, importnb.Notebook): ...\n",
    "    class Pidgin(PidginBase): ..."
   ]
  },
  {
   "cell_type": "code",
   "execution_count": 3,
   "metadata": {},
   "outputs": [],
   "source": [
    "    shell = get_ipython()"
   ]
  },
  {
   "cell_type": "code",
   "execution_count": 4,
   "metadata": {},
   "outputs": [],
   "source": [
    "    def load_ipython_extension(shell):\n",
    "        from . import specifications\n",
    "        specifications.transform_ast.load_ipython_extension(shell)\n",
    "        specifications.transform_cell.load_ipython_extension(shell)\n",
    "        for i, transformer in enumerate(shell.input_transformers_cleanup):\n",
    "            try:\n",
    "                if transformer.initial_re.pattern[1:4] == '>>>':\n",
    "                    shell.input_transformers_cleanup.pop(i)\n",
    "                    break\n",
    "            except: ..."
   ]
  },
  {
   "cell_type": "code",
   "execution_count": 5,
   "metadata": {},
   "outputs": [],
   "source": [
    "    def unload_ipython_extension(shell):\n",
    "        from . import specifications\n",
    "        specifications.transform_ast.unload_ipython_extension(shell)\n",
    "        specifications.transform_cell.unload_ipython_extension(shell)"
   ]
  }
 ],
 "metadata": {
  "kernelspec": {
   "display_name": "p6",
   "language": "python",
   "name": "other-env"
  },
  "language_info": {
   "codemirror_mode": {
    "name": "ipython",
    "version": 3
   },
   "file_extension": ".py",
   "mimetype": "text/x-python",
   "name": "python",
   "nbconvert_exporter": "python",
   "pygments_lexer": "ipython3",
   "version": "3.6.8"
  }
 },
 "nbformat": 4,
 "nbformat_minor": 2
}
