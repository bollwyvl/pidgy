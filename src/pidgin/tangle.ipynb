{
 "cells": [
  {
   "cell_type": "markdown",
   "metadata": {},
   "source": [
    "`pidgin.tangle` is an `IPython` extension that permits __Markdown__ as valid source code; the source is transpile in valid `IPython` flavored __Python__.\n",
    "\n",
    ">>> %reload_ext pidgin\n",
    ">>> shell = IPython.get_ipython()\n",
    ">>> result = shell.run_cell(\"\"\"\n",
    "...     foo = 42\"\"\")\n",
    ">>> assert not any((result.error_before_exec, result.error_in_exec))"
   ]
  },
  {
   "cell_type": "code",
   "execution_count": 1,
   "metadata": {},
   "outputs": [
    {
     "data": {
      "text/html": [
       "<style>\n",
       ".jp-mod-presentationMode {\n",
       "    --jp-notebook-padding: 0;\n",
       "}\n",
       ".jp-RenderedHTMLCommon pre code {\n",
       "    opacity: 0.25;\n",
       "}\n",
       ".jp-Placeholder-content .jp-MoreHorizIcon {\n",
       "    background-size: 32px;\n",
       "}\n",
       "</style><style>\n",
       ".jp-mod-presentationMode .jp-SideBar,\n",
       ".jp-mod-presentationMode #jp-top-panel {\n",
       "    opacity: 0.0;\n",
       "    transition: all 0.2s;\n",
       "}\n",
       ".jp-mod-presentationMode .jp-SideBar:hover,\n",
       ".jp-mod-presentationMode #jp-top-panel:hover {\n",
       "    opacity: 0.9;\n",
       "    transition: all 0.2s;\n",
       "}</style><style>\n",
       ".jp-mod-presentationMode.jp-ApplicationShell,\n",
       ".jp-mod-presentationMode .p-TabBar-content{\n",
       "    background-color: var(--jp-layout-color0);\n",
       "}\n",
       "</style><style>\n",
       ".jp-mod-presentationMode .p-DockPanel-widget,\n",
       ".jp-mod-presentationMode #jp-left-stack{\n",
       "    border-color: transparent;\n",
       "}\n",
       ".jp-mod-presentationMode .jp-Toolbar-item,\n",
       ".jp-mod-presentationMode .jp-Toolbar {\n",
       "    opacity: 0.1;\n",
       "    transition: all 0.2s;\n",
       "}\n",
       ".jp-mod-presentationMode .jp-Toolbar-item:hover,\n",
       ".jp-mod-presentationMode .jp-Toolbar:hover {\n",
       "    opacity: 0.9;\n",
       "    transition: all 0.2s;\n",
       "}\n",
       "\n",
       ".jp-mod-presentationMode .jp-InputArea {\n",
       "    flex-direction: column;\n",
       "}\n",
       "\n",
       "</style><style>\n",
       ".jp-mod-presentationMode .jp-Notebook .jp-Cell .jp-InputPrompt, \n",
       ".jp-mod-presentationMode .jp-Notebook .jp-Cell .jp-OutputPrompt {\n",
       "    flex: 0 0 2rem !important;\n",
       "    opacity: 0;\n",
       "}\n",
       ".jp-mod-presentationMode .jp-Notebook .jp-Cell.jp-mod-active .jp-OutputPrompt,\n",
       ".jp-mod-presentationMode .jp-Notebook .jp-Cell.jp-mod-active .jp-OutputPrompt {\n",
       "    opacity: 0.5;\n",
       "}\n",
       ".jp-mod-presentationMode .jp-Notebook .jp-Cell .jp-InputPrompt, \n",
       ".jp-mod-presentationMode .jp-Notebook .jp-Cell .jp-OutputPrompt\n",
       "\n",
       ".jp-mod-presentationMode hr {\n",
       "    opacity: 0.1;\n",
       "}\n",
       "</style>\n",
       "    <style>\n",
       "    .jp-TableOfContents-content h1, \n",
       "    .jp-TableOfContents-content h2 {\n",
       "        margin-bottom: var(--jp-ui-font-size0);\n",
       "    }\n",
       "    </style>\n",
       "    \n",
       "    <style>\n",
       "    .jp-mod-presentationMode {\n",
       "        --jp-content-heading-line-height: 1.25 !important;\n",
       "    }\n",
       "    </style>\n",
       "    \n",
       "    <style>\n",
       "    .jp-mod-presentationMode #jp-main-status-bar {\n",
       "        opacity: 0.06;\n",
       "        transition: all 0.2s;\n",
       "    }\n",
       "    .jp-mod-presentationMode #jp-main-status-bar:hover {\n",
       "        opacity: 0.8;\n",
       "        transition: all 0.2s;\n",
       "    }\n",
       "    </style>\n",
       "    "
      ],
      "text/plain": [
       "<IPython.core.display.HTML object>"
      ]
     },
     "metadata": {},
     "output_type": "display_data"
    }
   ],
   "source": [
    "    if __name__ == '__main__':\n",
    "        %reload_ext pidgin\n",
    "        import pidgin, IPython, deathbeds\n",
    "        shell = get_ipython()\n",
    "        get_ipython().Completer.use_jedi=False\n",
    "        shell.display_formatter.html = True"
   ]
  },
  {
   "cell_type": "markdown",
   "metadata": {},
   "source": [
    "The first `pidgin` idiom is that is code input is written in the __Markdown__ markup language requiring that explicit code statements and expression.  `pidgin.tangle` - the first execution as literate source code - transpiles __Markdown__ into valid __Python__ code.  The transformation is line-for-line to provide a usable tracebacks to the author."
   ]
  },
  {
   "cell_type": "code",
   "execution_count": 2,
   "metadata": {},
   "outputs": [],
   "source": [
    "    def markdown_to_python(str: \"Markdown Source\") -> \"Valid Python Source\": \n",
    "        return TangleBlockLexer().parse(''.join(str))"
   ]
  },
  {
   "cell_type": "code",
   "execution_count": 3,
   "metadata": {},
   "outputs": [],
   "source": [
    "    import traitlets, typing as t\n",
    "    \n",
    "    class PidginTangle(traitlets.config.SingletonConfigurable): \n",
    "        \"\"\"`PidginTangle` modifies the __tangle__ phase of the cell execution.\"\"\"\n",
    "        markdown = traitlets.Bool(True, help=\"\"\"Convert __Markdown__ source to Python & execute the block code.\"\"\")\n",
    "        def __call__(self, lines: t.List[str]) -> t.List[str]:\n",
    "            if self.markdown: \n",
    "                lines = markdown_to_python(lines + ['\\n']).splitlines(True)\n",
    "            return lines"
   ]
  },
  {
   "cell_type": "markdown",
   "metadata": {},
   "source": [
    "`pidgin.tangle` uses `shell.input_transformer_manager` to transform text into input that can `compile` to __Python__ source to `exec` or `eval` the users statements respectively.  `IPython` provides two transformations steps.\n",
    "\n",
    "`pidgin` must be injected first, after the `pidgin.tangle.markdown_to_python` conversion the source is valid python.\n",
    "\n",
    "\n",
    "[transformers]: https://ipython.readthedocs.io/en/stable/config/inputtransforms.html"
   ]
  },
  {
   "cell_type": "code",
   "execution_count": 4,
   "metadata": {},
   "outputs": [],
   "source": [
    "    def load_ipython_extension(shell):\n",
    "        shell.input_transformers_cleanup = [PidginTangle().instance()] + [\n",
    "            object for object in shell.input_transformers_cleanup\n",
    "            if not((object == IPython.core.inputtransformer2.classic_prompt) or isinstance(object, PidginTangle))]\n",
    "        \n",
    "        try: IPython.core.magic.register_cell_magic(markdown_to_python_magic_wrapper)\n",
    "        except: ip.log.error(\"Unable to load the pidgin.tangle cell magic.\")"
   ]
  },
  {
   "cell_type": "code",
   "execution_count": 5,
   "metadata": {},
   "outputs": [],
   "source": [
    "    def load_ipython_extension(shell):\n",
    "        shell.input_transformer_manager.cleanup_transforms = [PidginTangle().instance()] + [\n",
    "            object for object in shell.input_transformer_manager.cleanup_transforms\n",
    "            if not(\n",
    "                (object == IPython.core.inputtransformer2.classic_prompt) or isinstance(object, PidginTangle)\n",
    "            )\n",
    "        ]\n",
    "        try: IPython.core.magic.register_cell_magic(markdown_to_python_magic_wrapper)\n",
    "        except: ip.log.error(\"Unable to load the pidgin.tangle cell magic.\")\n",
    "\n",
    "        shell.ast_transformers.append(ReturnYieldDisplay())\n",
    "            "
   ]
  },
  {
   "cell_type": "markdown",
   "metadata": {},
   "source": [
    "    load_ipython_extension(get_ipython())\n",
    "    unload_ipython_extension(get_ipython())"
   ]
  },
  {
   "cell_type": "markdown",
   "metadata": {},
   "source": [
    "weaving always follows tangling.  tangling can exist without weaving.  this is explicit code."
   ]
  },
  {
   "cell_type": "markdown",
   "metadata": {},
   "source": [
    "Tangle `exec`s statements and `eval`s expressions.  The normal IPython kernel has a weaving step in.\n",
    "\n",
    "ast.Interactive, ast.Module exected in ip.run_ast_nodes."
   ]
  },
  {
   "cell_type": "markdown",
   "metadata": {},
   "source": [
    "## `pidgin.tangle` controls the first execution of the literate source\n",
    "\n",
    "`pidgin.tangle` modifies configurable `interactive_shell=\\` objects; `IPython.get_ipython()`.\n",
    "\n",
    "### The `interactive_shell = IPython.get_ipython()`\n",
    "\n",
    "\n",
    "1. `interactive_shell.kernel.do_execute` is trigger when a cell in the notebook\n",
    "    1. `interactive_shell.run_cell`\n",
    "        1. `interactive_shell.transform_cell` `pidgin.tangle`\n",
    "        2. `interactive_shell.compile.ast_parse`\n",
    "        3. `interactive_shell.transform_ast` `pidgin.tangle`\n",
    "        4. `interactive_shell.run_ast_nodes`\n",
    "            5. `interactive_shell.display_pub` `interactive_shell.ast_node_interactivity`"
   ]
  },
  {
   "cell_type": "markdown",
   "metadata": {},
   "source": [
    "`markdown_to_python` converts __Markdown__ source to python code with the following opinions on markdown block elements defined by `mistune`.\n",
    "\n",
    "* `mistune.BlockGrammar.block_code` is executed as not python, and guide the indenting of non-block code.\n",
    "* `mistune.BlockGrammar.def_footnotes and mistune.BlockGrammar.def_links` define their names in the `globals` to optimize the reusability of links and references across documents.\n",
    "* All other blocks are wrapped in block strings and indented relative the `mistune.BlockGrammar.block_code`.\n",
    "\n",
    "The <code>%%markdown_to_python</code> cell magic may be used to "
   ]
  },
  {
   "cell_type": "code",
   "execution_count": 3,
   "metadata": {},
   "outputs": [],
   "source": [
    "    import doctest, re, ast, mistune, textwrap, traitlets, functools, itertools, IPython, importnb, fnmatch, string, importnb, importlib, IPython, textwrap, typing as t\n",
    "    __all__ = 'markdown_to_python',"
   ]
  },
  {
   "cell_type": "code",
   "execution_count": 4,
   "metadata": {},
   "outputs": [],
   "source": [
    "    def markdown_to_python(str: \"Markdown Source\") -> \"Valid Python Source\": \n",
    "        return TangleBlockLexer().parse(''.join(str))"
   ]
  },
  {
   "cell_type": "markdown",
   "metadata": {},
   "source": [
    "## Exports"
   ]
  },
  {
   "cell_type": "markdown",
   "metadata": {},
   "source": [
    "Documentation and testing."
   ]
  },
  {
   "cell_type": "code",
   "execution_count": 6,
   "metadata": {},
   "outputs": [],
   "source": [
    "    class DocTestGrammar:\n",
    "        doctest = doctest.DocTestParser._EXAMPLE_RE"
   ]
  },
  {
   "cell_type": "code",
   "execution_count": 7,
   "metadata": {},
   "outputs": [],
   "source": [
    "    class HtmlGrammar:        \n",
    "        block_html = re.compile(\n",
    "            r'^ *(?:%s|%s|%s) *(?:\\n{2,}|\\s*$)' % (\n",
    "                r'<!--[\\s\\S]*?-->|<!DOCTYPE [\\s\\S]*?>|<\\?[\\s\\S]*?\\?>',\n",
    "                r'<(%s)((?:%s)*?)>([\\s\\S]*?)<\\/\\1>' % (mistune._block_tag, mistune._valid_attr),\n",
    "                r'<%s(?:%s)*?\\s*\\/?>' % (mistune._block_tag, mistune._valid_attr)))       "
   ]
  },
  {
   "cell_type": "code",
   "execution_count": 8,
   "metadata": {},
   "outputs": [],
   "source": [
    "    class BlockGrammar(DocTestGrammar, HtmlGrammar, mistune.BlockGrammar): ..."
   ]
  },
  {
   "cell_type": "code",
   "execution_count": 9,
   "metadata": {},
   "outputs": [],
   "source": [
    "    class DoctestLexer:\n",
    "        def parse_doctest(self, m): self.tokens.append({'type': 'doctest', 'text': m.string[slice(*m.span())]})"
   ]
  },
  {
   "cell_type": "code",
   "execution_count": 10,
   "metadata": {},
   "outputs": [],
   "source": [
    "    class BlockLexer(DoctestLexer, mistune.BlockLexer): \n",
    "        grammar_class = BlockGrammar        \n",
    "        def parse(self, text: str, rules=None) -> t.List[t.Dict]:\n",
    "            # It is common to have leading tabs in the source which can bork the markdown parser\n",
    "            # before parsing strip the blank lines.\n",
    "            return super().parse('\\n'.join(str if str.strip() else '' for str in ''.join(text).splitlines()))\n",
    "        \n",
    "    for key in \"default_rules footnote_rules list_rules\".split():\n",
    "        setattr(BlockLexer, key, list(BlockLexer.default_rules))\n",
    "        getattr(BlockLexer, key).insert(getattr(BlockLexer, key).index('block_quote'), 'doctest')"
   ]
  },
  {
   "cell_type": "code",
   "execution_count": 2,
   "metadata": {},
   "outputs": [
    {
     "ename": "NameError",
     "evalue": "name 'BlockLexer' is not defined",
     "output_type": "error",
     "traceback": [
      "\u001b[0;31m---------------------------------------------------------------------------\u001b[0m",
      "\u001b[0;31mNameError\u001b[0m                                 Traceback (most recent call last)",
      "\u001b[0;32m<ipython-input-2-4cc4a7b72024>\u001b[0m in \u001b[0;36m<module>\u001b[0;34m\u001b[0m\n\u001b[0;32m----> 1\u001b[0;31m \u001b[0;32mclass\u001b[0m \u001b[0mTangleBlockLexer\u001b[0m\u001b[0;34m(\u001b[0m\u001b[0mBlockLexer\u001b[0m\u001b[0;34m)\u001b[0m\u001b[0;34m:\u001b[0m\u001b[0;34m\u001b[0m\u001b[0m\n\u001b[0m\u001b[1;32m      2\u001b[0m     \u001b[0mraw\u001b[0m \u001b[0;34m=\u001b[0m \u001b[0munindented\u001b[0m \u001b[0;34m=\u001b[0m \u001b[0mindented\u001b[0m \u001b[0;34m=\u001b[0m \u001b[0;32mNone\u001b[0m\u001b[0;34m\u001b[0m\u001b[0m\n\u001b[1;32m      3\u001b[0m     \u001b[0;32mdef\u001b[0m \u001b[0m__init__\u001b[0m\u001b[0;34m(\u001b[0m\u001b[0mself\u001b[0m\u001b[0;34m,\u001b[0m \u001b[0;34m*\u001b[0m\u001b[0margs\u001b[0m\u001b[0;34m,\u001b[0m \u001b[0;34m**\u001b[0m\u001b[0mkwargs\u001b[0m\u001b[0;34m)\u001b[0m\u001b[0;34m:\u001b[0m\u001b[0;34m\u001b[0m\u001b[0m\n\u001b[1;32m      4\u001b[0m         \u001b[0msuper\u001b[0m\u001b[0;34m(\u001b[0m\u001b[0;34m)\u001b[0m\u001b[0;34m.\u001b[0m\u001b[0m__init__\u001b[0m\u001b[0;34m(\u001b[0m\u001b[0;34m*\u001b[0m\u001b[0margs\u001b[0m\u001b[0;34m,\u001b[0m \u001b[0;34m**\u001b[0m\u001b[0mkwargs\u001b[0m\u001b[0;34m)\u001b[0m\u001b[0;34m\u001b[0m\u001b[0m\n\u001b[1;32m      5\u001b[0m         \u001b[0mself\u001b[0m\u001b[0;34m.\u001b[0m\u001b[0moriginal\u001b[0m \u001b[0;34m=\u001b[0m \u001b[0;32mNone\u001b[0m\u001b[0;34m\u001b[0m\u001b[0m\n",
      "\u001b[0;31mNameError\u001b[0m: name 'BlockLexer' is not defined"
     ]
    }
   ],
   "source": [
    "    class TangleBlockLexer(BlockLexer):\n",
    "        raw = unindented = indented = None\n",
    "        def __init__(self, *args, **kwargs):\n",
    "            super().__init__(*args, **kwargs)\n",
    "            self.original = None\n",
    "            self.raw, self.unindented, self.indented = [], [], []\n",
    "            self.min_indent = 0\n",
    "            \n",
    "        def parse(self, text: str, rules=None) -> t.List[t.Dict]: \n",
    "            if text.startswith('%%'): return text\n",
    "            \n",
    "            if any((self.original, self.raw, self.unindented, self.indented)): \n",
    "                return super().parse(text, rules)\n",
    "            \n",
    "            self.original = ''.join(text).splitlines(True)\n",
    "            \n",
    "            super().parse(text, rules) # returns tokens but we dont need them.\n",
    "            \n",
    "            while self.original:  self.raw.append(self.original.pop(0))\n",
    "            self.min_indent = self.min_indent or 4\n",
    "            self.format(punc=';')\n",
    "            self.indent()\n",
    "            final = ''.join(self.indented)\n",
    "            return final\n",
    "            \n",
    "        def clear_original(self) -> None:\n",
    "            while self.original and not self.original[0].strip(): \n",
    "                self.raw += [self.original.pop(0)]\n",
    "                \n",
    "        def pop_text(self, m: re._pattern_type) -> str:\n",
    "            text = []\n",
    "            lines = m.string[slice(*m.span())].splitlines(True)\n",
    "            # Remove empty lines\n",
    "            while lines and not lines[0].strip(): lines.pop(0)\n",
    "            \n",
    "            # Drop the lines from the original body\n",
    "            if self.original:\n",
    "                while lines:\n",
    "                    line = lines.pop(0)\n",
    "                    if line.strip():\n",
    "                        while line.strip() not in self.original[0]: \n",
    "                            text += [self.original.pop(0)]\n",
    "                        text += [self.original.pop(0)]\n",
    "            return text\n",
    "        \n",
    "        def parse_generic(self, m: re._pattern_type) -> str: \n",
    "            self.raw.extend(self.pop_text(m))\n",
    "            \n",
    "        parse_doctest = parse_block_html = parse_block_quote = parse_fences =\\\n",
    "        parse_heading = parse_hrule = parse_lheading = parse_newline =\\\n",
    "        parse_nptable = parse_paragraph = parse_table = parse_text =  parse_generic\n",
    "        \n",
    "        def parse_block_code(self, m=None):\n",
    "            # The body goes about the code, the buffer is non-code.\n",
    "            self.format()\n",
    "            self.raw.extend(m and self.pop_text(m) or [])\n",
    "            m and super().parse_block_code(m)\n",
    "            self.indent()\n",
    "            \n",
    "        def format(self, punc=''):\n",
    "            self.clear_original()            \n",
    "            if self.raw: \n",
    "                last_line = get_first_line(reversed(self.indented)).rstrip()\n",
    "                lines = [line for line in self.raw]\n",
    "                if not last_line.endswith(('\"\"\"', \"'''\")):\n",
    "                    lines = [quote(lines, punc)]\n",
    "                self.unindented.extend(lines)\n",
    "                self.raw = []\n",
    "                        \n",
    "            \n",
    "        def indent(self):\n",
    "            # Extract the first line of the current code block.\n",
    "            first_line = get_first_line(self.raw)\n",
    "            # Construct the code we'll \n",
    "            code = ''.join(self.raw)                            \n",
    "            body = ''.join(self.unindented)            \n",
    "            \n",
    "            # The previous last line append\n",
    "            last_line = get_first_line(reversed(self.indented))\n",
    "            \n",
    "            # The current indent level so far.\n",
    "            prior_indent = get_line_indent(last_line)\n",
    "\n",
    "            # Does the last line enter a block statement\n",
    "            definition = last_line.rstrip().endswith(':')\n",
    "            returns = _has_return(self.indented)\n",
    "\n",
    "            this_indent = get_line_indent(get_first_line(self.raw))\n",
    "            \n",
    "            # Assign the minimum indent \n",
    "            if not self.min_indent: \n",
    "                self.min_indent = this_indent\n",
    "            \n",
    "            if this_indent < self.min_indent:\n",
    "                code = textwrap.indent(code, ' '*(self.min_indent-this_indent))\n",
    "                this_indent = get_line_indent(get_first_line(code.splitlines()))\n",
    "\n",
    "                \n",
    "            # Normalize the indent we'll assign the body+code\n",
    "            indent = max(self.min_indent, (returns and min or max)(prior_indent, this_indent))        \n",
    "            \n",
    "            if definition:\n",
    "                if prior_indent >= indent:\n",
    "                    indent = (prior_indent + 4)\n",
    "                \n",
    "                body = hanging_indent(textwrap.indent(body, ' '*self.min_indent), ' '*(indent-self.min_indent))\n",
    "            else:\n",
    "                body = textwrap.indent(body, ' '*indent)\n",
    "                \n",
    "            # Cell Magics\n",
    "            if code.lstrip().startswith('%%'):\n",
    "                # Cell magics can be split across __Markdown__ blocks.  With this \n",
    "                # approach conditional blocks can be used with magics.\n",
    "                code = (' '*this_indent) + importnb.loader.dedent(code)\n",
    "                # might have to add lines if line sized changed.\n",
    "                \n",
    "            if self.min_indent:\n",
    "                self.indented.extend(body.splitlines(True) + code.splitlines(True))\n",
    "                self.unindented = []\n",
    "            self.raw = []\n",
    "            return ''       \n",
    "\n",
    "        def parse_def_footnotes(self, m):\n",
    "            self.format()\n",
    "            text = ''.join(self.pop_text(m))\n",
    "            key, sep, body = text.lstrip('[').lstrip('^').partition(']:')\n",
    "            key = quote(key)\n",
    "            quoted = quote(body.lstrip())\n",
    "            self.unindented.extend(F\"\"\"globals()[{key}] = {quoted if quoted.strip() else \"None\"}\"\"\".splitlines(True))\n",
    "            \n",
    "        def parse_def_links(self, m):\n",
    "            self.parse_block_code()\n",
    "            text = ''.join(self.pop_text(m))\n",
    "            key, sep, body = text.lstrip('[').lstrip('^').partition(']:')\n",
    "            key = quote(key)\n",
    "\n",
    "            self.unindented.extend(F\"\"\"globals()[{key}] = globals().get({key}, {quote(body.lstrip(), ')')}\"\"\".splitlines(True))"
   ]
  },
  {
   "cell_type": "markdown",
   "metadata": {},
   "source": [
    "## Explicit loaders"
   ]
  },
  {
   "cell_type": "markdown",
   "metadata": {},
   "source": [
    "The tangle step idenitifies explicit statements executed to create the base state."
   ]
  },
  {
   "cell_type": "code",
   "execution_count": 12,
   "metadata": {},
   "outputs": [],
   "source": [
    "    class PidginMixin:\n",
    "        extensions = '.md.ipynb',\n",
    "        def visit(self, node): return ReturnYieldDisplay().visit(node)\n",
    "        def code(self, str): return importnb.loader.dedent(markdown_to_python(str))\n",
    "\n",
    "    class Pidgin(PidginMixin, importnb.Notebook): ..."
   ]
  },
  {
   "cell_type": "markdown",
   "metadata": {},
   "source": [
    "`MarkdownImporter` imports __Markdown__ files are source.  By default they recieve a Markdown repr."
   ]
  },
  {
   "cell_type": "code",
   "execution_count": 13,
   "metadata": {},
   "outputs": [],
   "source": [
    "    class MarkdownMixin:\n",
    "        extensions = '.md',\n",
    "        def get_data(self, path): return self.code(self.decode())\n",
    "        def exec_module(self, module):\n",
    "            super().exec_module(module)\n",
    "            module._ipython_display_ = lambda: IPython.display.display(\n",
    "                IPython.display.Markdown(filename=module.__file__))"
   ]
  },
  {
   "cell_type": "code",
   "execution_count": 14,
   "metadata": {},
   "outputs": [],
   "source": [
    "    class MarkdownImporter(MarkdownMixin, PidginMixin, importnb.Notebook):  ..."
   ]
  },
  {
   "cell_type": "code",
   "execution_count": 15,
   "metadata": {},
   "outputs": [],
   "source": [
    "    class MarkdownParameterize(MarkdownMixin, PidginMixin, importnb.Parameterize):  ..."
   ]
  },
  {
   "cell_type": "code",
   "execution_count": 16,
   "metadata": {},
   "outputs": [],
   "source": [
    "    class PidginParameterize(PidginMixin, importnb.Parameterize): ..."
   ]
  },
  {
   "cell_type": "code",
   "execution_count": 17,
   "metadata": {},
   "outputs": [],
   "source": [
    "    if importnb.ipython_extension.IPYTHON_MAIN():\n",
    "        Pidgin, Markdown = PidginParameterize, MarkdownParameterize\n",
    "    else: Markdown =  MarkdownImporter"
   ]
  },
  {
   "cell_type": "markdown",
   "metadata": {},
   "source": [
    "## The <code>return</code> statement\n",
    "\n",
    "Use `return` outside of a function or class as a display expression.\n",
    "\n",
    "This opinion brings interactive code and portable code closer together.\n",
    "\n",
    "The `return` statement has a similar feel the python 2.7 `print` statement.  It is used to should the rich display of its value."
   ]
  },
  {
   "cell_type": "code",
   "execution_count": 18,
   "metadata": {},
   "outputs": [],
   "source": [
    "    import ast, IPython\n",
    "    class ReturnYieldDisplay(ast.NodeTransformer):\n",
    "        def visit_FunctionDef(self, node): return node\n",
    "        \n",
    "        def visit_Return(self, node): \n",
    "            ip = IPython.get_ipython()\n",
    "            if (not hasattr(ip, 'tangle')) or (hasattr(ip, 'tangle') and ip.tangle.return_display):\n",
    "                return ast.Expr(\n",
    "                    ast.Call(\n",
    "                        func=ast.parse('__import__(\"IPython\").display.display', mode='eval').body, \n",
    "                        args=node.value.elts if isinstance(node.value, ast.Tuple) else [node.value], \n",
    "                        keywords=[]))\n",
    "            return node\n",
    "        \n",
    "        def visit_Expr(self, node):\n",
    "            if isinstance(node.value, ast.Yield): \n",
    "                node = self.visit_Return(node.value)\n",
    "            return node"
   ]
  },
  {
   "cell_type": "code",
   "execution_count": 29,
   "metadata": {},
   "outputs": [],
   "source": [
    "    def unload_ipython_extension(shell):\n",
    "        shell.input_transformer_manager.cleanup_transforms = [\n",
    "            object for object in shell.input_transformer_manager.cleanup_transforms\n",
    "            if not isinstance(object, PidginTangle)]\n",
    "        shell.ast_transformers = [x for x in shell.ast_transformers if not isinstance(x, ReturnYieldDisplay)]"
   ]
  },
  {
   "cell_type": "markdown",
   "metadata": {},
   "source": [
    "## Utitility functions"
   ]
  },
  {
   "cell_type": "markdown",
   "metadata": {},
   "source": [
    "`quote` wrotes non code objects in triple ticks."
   ]
  },
  {
   "cell_type": "code",
   "execution_count": 19,
   "metadata": {},
   "outputs": [],
   "source": [
    "    def quote(str, punc=''):\n",
    "        str, leading_ws = ''.join(str), []\n",
    "        lines = str.splitlines(True)\n",
    "        _ = '\"\"\"'\n",
    "        if _ in str: _ = \"'''\"\n",
    "        if not str.strip(): _ = punc = ''\n",
    "        while lines and (not lines[0].strip()): leading_ws.append(lines.pop(0))    \n",
    "        str = ''.join(lines)\n",
    "        end = len(str.rstrip())\n",
    "        str, ending_ws = str[:end], str[end:]\n",
    "        if str and str.endswith(_[0]): str += ' '                    \n",
    "        return F\"{''.join(leading_ws)}{_}{str}{_}{punc}{ending_ws}\""
   ]
  },
  {
   "cell_type": "markdown",
   "metadata": {},
   "source": [
    "`get_first_line` get the first non-`iter`able strings in `lines`"
   ]
  },
  {
   "cell_type": "code",
   "execution_count": 20,
   "metadata": {},
   "outputs": [],
   "source": [
    "    def get_first_line(lines, line=''):\n",
    "        for line in lines or ['']: \n",
    "            if line.strip(): break\n",
    "        return line"
   ]
  },
  {
   "cell_type": "markdown",
   "metadata": {},
   "source": [
    "`get_line_indent` computes the indent of a string."
   ]
  },
  {
   "cell_type": "code",
   "execution_count": 21,
   "metadata": {},
   "outputs": [],
   "source": [
    "    def get_line_indent(line):  return len(line) - len(line.lstrip())"
   ]
  },
  {
   "cell_type": "markdown",
   "metadata": {},
   "source": [
    "The __Lexer__ s only consider coarse features of the markdown spec.  "
   ]
  },
  {
   "cell_type": "code",
   "execution_count": 22,
   "metadata": {},
   "outputs": [],
   "source": [
    "    def _has_return(code):\n",
    "        code = '\\n'.join(code)\n",
    "        if 'return ' not in code: return False\n",
    "        code = importnb.loader.dedent(code)\n",
    "        try:\n",
    "            node = ast.parse(code)\n",
    "            while hasattr(node, 'body'): node = node.body[-1]\n",
    "            return isinstance(node, ast.Return)\n",
    "        except: ...  "
   ]
  },
  {
   "cell_type": "code",
   "execution_count": 23,
   "metadata": {},
   "outputs": [],
   "source": [
    "    def hanging_indent(str, indent, *, out=\"\"\"\"\"\"):\n",
    "        for line in str.splitlines(True):\n",
    "            if not line.strip(): out += line\n",
    "            else:\n",
    "                if out.strip(): out += line\n",
    "                else: out += indent+line\n",
    "        return out"
   ]
  },
  {
   "cell_type": "code",
   "execution_count": 24,
   "metadata": {},
   "outputs": [],
   "source": [
    "    @functools.wraps(markdown_to_python)\n",
    "    def markdown_to_python_magic_wrapper(line: str, cell: str) -> IPython.display.DisplayObject: return IPython.display.Pretty(markdown_to_python(cell))"
   ]
  },
  {
   "cell_type": "code",
   "execution_count": 25,
   "metadata": {},
   "outputs": [],
   "source": [
    "    if __name__ == '__main__': \n",
    "        load_ipython_extension(get_ipython())\n",
    "        ip = get_ipython()\n",
    "        ip.Completer.use_jedi=False"
   ]
  }
 ],
 "metadata": {
  "kernelspec": {
   "display_name": "p6",
   "language": "python",
   "name": "other-env"
  },
  "language_info": {
   "codemirror_mode": {
    "name": "ipython",
    "version": 3
   },
   "file_extension": ".py",
   "mimetype": "text/x-python",
   "name": "python",
   "nbconvert_exporter": "python",
   "pygments_lexer": "ipython3",
   "version": "3.6.3"
  }
 },
 "nbformat": 4,
 "nbformat_minor": 2
}
