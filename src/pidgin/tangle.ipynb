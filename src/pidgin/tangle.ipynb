{
 "cells": [
  {
   "cell_type": "markdown",
   "metadata": {},
   "source": [
    "    from IPython import get_ipython; ip = get_ipython()\n",
    "    %reload_ext pidgin.tangle\n",
    "\n",
    "`import pidgin.tangle` modifies the `get_ipython().input_transformer_manager` to accept __Markdown__ source.  The `pidgin.tangle` module\n",
    "exports:\n",
    "    \n",
    "* `pidgin.tangle.markdown_to_python` - is a semi-lossless __Markdown__ to __Python__ converter.\n"
   ]
  },
  {
   "cell_type": "code",
   "execution_count": 1,
   "metadata": {},
   "outputs": [],
   "source": [
    "    import doctest, re, ast, mistune, textwrap, functools, itertools, IPython, importnb, fnmatch\n",
    "    __all__ = 'markdown_to_python',"
   ]
  },
  {
   "cell_type": "markdown",
   "metadata": {},
   "source": [
    "`quote` wrotes non code objects in triple ticks."
   ]
  },
  {
   "cell_type": "code",
   "execution_count": 2,
   "metadata": {},
   "outputs": [],
   "source": [
    "    def quote(str, punc=''):\n",
    "        str, leading_ws = ''.join(str), []\n",
    "        lines = str.splitlines(True)\n",
    "        _ = '\"\"\"'\n",
    "        if _ in str: _ = \"'''\"\n",
    "        if not str.strip(): _ = punc = ''\n",
    "        while lines and (not lines[0].strip()): leading_ws.append(lines.pop(0))    \n",
    "        str = ''.join(lines)\n",
    "        end = len(str.rstrip())\n",
    "        str, ending_ws = str[:end], str[end:]\n",
    "        if str and str.endswith(_[0]): str += ' '                    \n",
    "        return F\"{''.join(leading_ws)}{_}{str}{_}{punc}{ending_ws}\""
   ]
  },
  {
   "cell_type": "markdown",
   "metadata": {},
   "source": [
    "`get_first_line` get the first non-`iter`able strings in `lines`"
   ]
  },
  {
   "cell_type": "code",
   "execution_count": 3,
   "metadata": {},
   "outputs": [],
   "source": [
    "    def get_first_line(lines, line=''):\n",
    "        for line in lines or ['']: \n",
    "            if line.strip(): break\n",
    "        return line"
   ]
  },
  {
   "cell_type": "markdown",
   "metadata": {},
   "source": [
    "`get_line_indent` computes the indent of a string."
   ]
  },
  {
   "cell_type": "code",
   "execution_count": 4,
   "metadata": {},
   "outputs": [],
   "source": [
    "    def get_line_indent(line):  return len(line) - len(line.lstrip())"
   ]
  },
  {
   "cell_type": "markdown",
   "metadata": {},
   "source": [
    "The __Lexer__ s only consider coarse features of the markdown spec.  "
   ]
  },
  {
   "cell_type": "code",
   "execution_count": 5,
   "metadata": {},
   "outputs": [],
   "source": [
    "    def _has_return(code):\n",
    "        code = '\\n'.join(code)\n",
    "        if 'return ' not in code: return False\n",
    "        code = importnb.loader.dedent(code)\n",
    "        try:\n",
    "            node = ast.parse(code)\n",
    "            while hasattr(node, 'body'): node = node.body[-1]\n",
    "            return isinstance(node, ast.Return)\n",
    "        except: ...  "
   ]
  },
  {
   "cell_type": "code",
   "execution_count": null,
   "metadata": {},
   "outputs": [],
   "source": [
    "    def hanging_indent(str, indent):\n",
    "        out = \"\"\"\"\"\"\n",
    "        for line in str.splitlines(True):\n",
    "            if not line.strip(): \n",
    "                out += line\n",
    "            else:\n",
    "                if out.strip(): out += line\n",
    "                else: out += indent+line\n",
    "        return out"
   ]
  },
  {
   "cell_type": "markdown",
   "metadata": {},
   "source": [
    "## Exports"
   ]
  },
  {
   "cell_type": "code",
   "execution_count": null,
   "metadata": {},
   "outputs": [],
   "source": [
    "    class PidginBlockGrammar(mistune.BlockGrammar):\n",
    "        doctest = doctest.DocTestParser._EXAMPLE_RE\n",
    "        block_html = re.compile(\n",
    "            r'^ *(?:%s|%s|%s) *(?:\\n{2,}|\\s*$)' % (\n",
    "                r'<!--[\\s\\S]*?-->|<!DOCTYPE [\\s\\S]*?>|<\\?[\\s\\S]*?\\?>',\n",
    "                r'<(%s)((?:%s)*?)>([\\s\\S]*?)<\\/\\1>' % (mistune._block_tag, mistune._valid_attr),\n",
    "                r'<%s(?:%s)*?\\s*\\/?>' % (mistune._block_tag, mistune._valid_attr)))       \n"
   ]
  },
  {
   "cell_type": "code",
   "execution_count": null,
   "metadata": {},
   "outputs": [],
   "source": [
    "    class PidginBlockLexer(mistune.BlockLexer): \n",
    "        grammar_class = PidginBlockGrammar        \n",
    "        @staticmethod\n",
    "        def to_string(m): return m.string[slice(*m.span())].splitlines(True)\n",
    "\n",
    "        def parse_doctest(self, m):\n",
    "            self.tokens.append({'type': 'doctest', 'text': m.string[slice(*m.span())]})\n",
    "        \n",
    "    PidginBlockLexer.default_rules = list(PidginBlockLexer.default_rules)\n",
    "    PidginBlockLexer.default_rules.insert(\n",
    "        PidginBlockLexer.default_rules.index('block_quote'), 'doctest'\n",
    "    )\n",
    "    PidginBlockLexer.footnote_rules = list(PidginBlockLexer.footnote_rules)\n",
    "    PidginBlockLexer.footnote_rules.insert(\n",
    "        PidginBlockLexer.footnote_rules.index('block_quote'), 'doctest'\n",
    "    )\n",
    "    PidginBlockLexer.list_rules = list(PidginBlockLexer.list_rules)\n",
    "    PidginBlockLexer.list_rules.insert(\n",
    "        PidginBlockLexer.list_rules.index('block_quote'), 'doctest'\n",
    "    )"
   ]
  },
  {
   "cell_type": "code",
   "execution_count": null,
   "metadata": {},
   "outputs": [],
   "source": [
    "    class TanglePidginBlockLexer(PidginBlockLexer):\n",
    "        def __init__(self, *args, **kwargs):\n",
    "            super().__init__(*args, **kwargs)\n",
    "            self.original = None\n",
    "            self.raw, self.unindented, self.indented = [], [], []\n",
    "            self.min_indent = 0\n",
    "            \n",
    "        def parse(self, text, rules=None): \n",
    "            \n",
    "            if any((self.original, self.raw, self.unindented, self.indented)): \n",
    "                return super().parse(text, rules)\n",
    "            \n",
    "            self.original = ''.join(text).splitlines(True)\n",
    "            tokens = super().parse(text, rules)\n",
    "            \n",
    "            while self.original:  self.raw.append(self.original.pop(0))\n",
    "            self.min_indent = self.min_indent or 4\n",
    "            self.format(punc=';')\n",
    "            self.indent()\n",
    "            final = ''.join(self.indented)\n",
    "            return final\n",
    "            \n",
    "        def clear_original(self):\n",
    "            while self.original and not self.original[0].strip(): \n",
    "                self.raw += [self.original.pop(0)]\n",
    "                \n",
    "        def pop_text(self, m)->str:\n",
    "            text = []\n",
    "            lines = self.to_string(m)\n",
    "            # Remove empty lines\n",
    "            while lines and not lines[0].strip(): lines.pop(0)\n",
    "            \n",
    "            # Drop the lines from the original body\n",
    "            if self.original:\n",
    "                while lines:\n",
    "                    line = lines.pop(0)\n",
    "                    if line.strip():\n",
    "                        while line.strip() not in self.original[0]: \n",
    "                            text += [self.original.pop(0)]\n",
    "                        text += [self.original.pop(0)]\n",
    "            return text\n",
    "        \n",
    "        def parse_generic(self, m): \n",
    "            self.raw.extend(self.pop_text(m))\n",
    "            \n",
    "        parse_doctest = parse_block_html = parse_block_quote = parse_fences =\\\n",
    "        parse_heading = parse_hrule = parse_lheading = parse_newline =\\\n",
    "        parse_nptable = parse_paragraph = parse_table = parse_text =  parse_generic\n",
    "        \n",
    "        def parse_block_code(self, m=None):\n",
    "            # The body goes about the code, the buffer is non-code.\n",
    "            self.format()\n",
    "            self.raw.extend(m and self.pop_text(m) or [])\n",
    "            m and super().parse_block_code(m)\n",
    "            self.indent()\n",
    "            \n",
    "        def format(self, punc=''):\n",
    "            self.clear_original()            \n",
    "            if self.raw: \n",
    "                last_line = get_first_line(reversed(self.indented)).rstrip()\n",
    "                lines = [line for line in self.raw]\n",
    "                #                 if not last_line.endswith(('\"\"\"', \"'''\")):\n",
    "                #                     # Allow authors to provide literal quotes\n",
    "                lines = [quote(lines, punc)]\n",
    "                self.unindented.extend(lines)\n",
    "                self.raw = []\n",
    "                        \n",
    "            \n",
    "        def indent(self):\n",
    "            # Extract the first line of the current code block.\n",
    "            first_line = get_first_line(self.raw)\n",
    "            # Construct the code we'll \n",
    "            code = ''.join(self.raw)                            \n",
    "            body = ''.join(self.unindented)            \n",
    "            \n",
    "            # The previous last line append\n",
    "            last_line = get_first_line(reversed(self.indented))\n",
    "            \n",
    "            # The current indent level so far.\n",
    "            prior_indent = get_line_indent(last_line)\n",
    "\n",
    "            # Does the last line enter a block statement\n",
    "            definition = last_line.rstrip().endswith(':')\n",
    "            returns = _has_return(self.indented)\n",
    "\n",
    "            this_indent = get_line_indent(get_first_line(self.raw))\n",
    "            \n",
    "            # Assign the minimum indent \n",
    "            if not self.min_indent: \n",
    "                self.min_indent = this_indent\n",
    "            \n",
    "            if this_indent < self.min_indent:\n",
    "                code = textwrap.indent(code, ' '*(self.min_indent-this_indent))\n",
    "                this_indent = get_line_indent(get_first_line(code.splitlines()))\n",
    "\n",
    "                \n",
    "            # Normalize the indent we'll assign the body+code\n",
    "            indent = max(self.min_indent, (returns and min or max)(prior_indent, this_indent))        \n",
    "            \n",
    "            if definition:\n",
    "                if prior_indent >= indent:\n",
    "                    indent = (prior_indent + 4)\n",
    "                \n",
    "                body = hanging_indent(textwrap.indent(body, ' '*self.min_indent), ' '*(indent-self.min_indent))\n",
    "            else:\n",
    "                body = textwrap.indent(body, ' '*indent)\n",
    "                \n",
    "            # Cell Magics\n",
    "            if code.lstrip().startswith('%%'):\n",
    "                # Cell magics can be split across __Markdown__ blocks.  With this \n",
    "                # approach conditional blocks can be used with magics.\n",
    "                code = (' '*this_indent) + importnb.loader.dedent(code)\n",
    "                # might have to add lines if line sized changed.\n",
    "                \n",
    "            if self.min_indent:\n",
    "                self.indented.extend(body.splitlines(True) + code.splitlines(True))\n",
    "                self.unindented = []\n",
    "            self.raw = []\n",
    "            return ''       \n",
    "\n",
    "        def parse_def_footnotes(self, m):\n",
    "            self.format()\n",
    "            text = ''.join(self.pop_text(m))\n",
    "            key, sep, body = text.lstrip('[').lstrip('^').partition(']:')\n",
    "            key = quote(key)\n",
    "            quoted = quote(body.lstrip())\n",
    "            self.unindented.extend(F\"\"\"globals()[{key}] = {quoted if quoted.strip() else \"None\"}\"\"\".splitlines(True))\n",
    "            \n",
    "        def parse_def_links(self, m):\n",
    "            \n",
    "            self.parse_block_code()\n",
    "            text = ''.join(self.pop_text(m))\n",
    "            \n",
    "\n",
    "            key, sep, body = text.lstrip('[').lstrip('^').partition(']:')\n",
    "            key = quote(key)\n",
    "\n",
    "            self.unindented.extend(F\"\"\"globals()[{key}] = globals().get({key}, {quote(body.lstrip(), ')')}\"\"\".splitlines(True))\n",
    "\n",
    "    def markdown_to_python(str)->\"Valid Python Source\": \n",
    "        return TanglePidginBlockLexer().parse(str)"
   ]
  },
  {
   "cell_type": "raw",
   "metadata": {},
   "source": [
    "print(markdown_to_python('''### What you can use today\n",
    "\n",
    "* __Restart and run all__ as a practice.\n",
    "\n",
    "    Nothing works if this is not satisfied.\n",
    "* Transitioning __interactive code into tests__.\n",
    "\n",
    "    Using the assert statement is the first step to writing tests.\n",
    "\n",
    "        assert True and not False, \"\"\"🤞\"\"\"\n",
    "\n",
    "* Using the `__test__` object.\n",
    "\n",
    "        __test__ = {\n",
    "            \"a test\":`\n",
    "    >>> type(__test__)\n",
    "    <class 'dict'>\n",
    "            \n",
    "                    \n",
    "                }'''))"
   ]
  },
  {
   "cell_type": "markdown",
   "metadata": {},
   "source": [
    "    print(markdown_to_python(\"\"\"### [The `__test__` variable][which docstrings are examined]\n",
    "\n",
    "    `__test__` is a special `object` that `doctest.DocTestFinder` recognizes. It is a `dict` that with values that have tests.\n",
    "\n",
    "        __test__ = {}\n",
    "\n",
    "    [which docstrings are examined]: https://docs.python.org/2/library/doctest.html#which-docstrings-are-examined\"\"\"))"
   ]
  },
  {
   "cell_type": "markdown",
   "metadata": {},
   "source": [
    "print(markdown_to_python(\"\"\"   \n",
    "### An `nbconvert.preprocessors.Preprocessor`\n",
    "\n",
    "        def preprocess_cell(self, cell, resources, index):\n",
    "            if 'source' not in cell: return cell, resources\n",
    "            \n",
    "            if cell['cell_type'] == 'code':\n",
    "                self.is_pidgin = self.is_pidgin or (\n",
    "                    'load_ext pidgin' in ''.join(cell['source']))\n",
    "               \n",
    "            if cell['cell_type'] in (['markdown'] + (\n",
    "                self.is_pidgin and ['code'] or []\n",
    "            )):\n",
    "                if (cell['cell_type'] == 'markdown') or ('outputs' in cell) and cell['outputs']:\n",
    "                    cell = add_slide_data(cell)\n",
    "                \n",
    "            return cell, resources\n",
    "        \n",
    "\"\"\"))"
   ]
  },
  {
   "cell_type": "markdown",
   "metadata": {},
   "source": [
    "print(markdown_to_python(\"\"\"    class AutomaticallyPresent(nbconvert.preprocessors.Preprocessor):\n",
    "### An `nbconvert.preprocessors.Preprocessor`\n",
    "\n",
    "        def preprocess_cell(self, cell, resources, index):\n",
    "            if 'source' not in cell: return cell, resources\n",
    "            \n",
    "            if cell['cell_type'] == 'code':\n",
    "                self.is_pidgin = self.is_pidgin or (\n",
    "                    'load_ext pidgin' in ''.join(cell['source']))\n",
    "               \n",
    "            if cell['cell_type'] in (['markdown'] + (\n",
    "                self.is_pidgin and ['code'] or []\n",
    "            )):\n",
    "                if (cell['cell_type'] == 'markdown') or ('outputs' in cell) and cell['outputs']:\n",
    "                    cell = add_slide_data(cell)\n",
    "                \n",
    "            return cell, resources\n",
    "        \n",
    "        def preprocess(self, nb, resources):\n",
    "            self.last_heading = None\n",
    "            self.is_pidgin = False\n",
    "            nb, resources = super().preprocess(nb, resources)\n",
    "            return nbconvert.exporters.slides.prepare(nb), resources\n",
    "\"\"\"))"
   ]
  },
  {
   "cell_type": "markdown",
   "metadata": {},
   "source": [
    "print(    markdown_to_python(\"\"\"    \n",
    "### What you will learn\n",
    "\n",
    "* How interactive notebook computing is similar to manual testing.\n",
    "* How to use the __builtin__ Python [^🐍] testing tools `doctest` and `unittest` in the notebooks\n",
    "\n",
    "            if False:\n",
    "[^🐍]: llll\n",
    "\"\"\"))"
   ]
  },
  {
   "cell_type": "markdown",
   "metadata": {},
   "source": [
    "print(    markdown_to_python(\"\"\"    class AutomaticallyPresent(nbconvert.preprocessors.Preprocessor):\n",
    "### An `nbconvert.preprocessors.Preprocessor`\n",
    "    \n",
    "    \n",
    ">>> assert nbconvert.SlidesExporter(preprocessors=[AutomaticallyPresent()]).from_filename(\n",
    "...    globals().get('__file__', 'Untitled104.ipynb'))[0]\n",
    "\n",
    "        def preprocess_cell(self, cell, resources, index):\n",
    "            if 'source' not in cell: return cell, resources\n",
    "            \n",
    "            if cell['cell_type'] == 'code':\n",
    "                self.is_pidgin = self.is_pidgin or (\n",
    "                    'load_ext pidgin' in ''.join(cell['source']))\n",
    "               \n",
    "            if cell['cell_type'] in (['markdown'] + (\n",
    "                self.is_pidgin and ['code'] or []\n",
    "            )):\n",
    "                if (cell['cell_type'] == 'markdown') or ('outputs' in cell) and cell['outputs']:\n",
    "                    cell = add_slide_data(cell)\n",
    "                \n",
    "            return cell, resources\n",
    "        \n",
    "        def preprocess(self, nb, resources):\n",
    "            self.last_heading = None\n",
    "            self.is_pidgin = False\n",
    "            nb, resources = super().preprocess(nb, resources)\n",
    "            return nbconvert.exporters.slides.prepare(nb), resources\n",
    "\"\"\"))"
   ]
  },
  {
   "cell_type": "markdown",
   "metadata": {},
   "source": [
    "`markdown_to_python` converts __Markdown__ to __Python__ in a semi lossless way."
   ]
  },
  {
   "cell_type": "markdown",
   "metadata": {},
   "source": [
    "    print(markdown_to_python(\"\"\"## Converting a notebook to a presentation.\n",
    "\n",
    "    The `nbconvert.SlidesExporter` exports `nbformat` documents as presentations;\n",
    "    `assert issubclass(nbconvert.SlidesExporter, nbconvert.HTMLExporter)`.\n",
    "\n",
    "            import nbconvert, nbformat, traitlets\"\"\"))"
   ]
  },
  {
   "cell_type": "markdown",
   "metadata": {},
   "source": [
    "    print(markdown_to_python(\"\"\"* AAA\n",
    "    * BBBBBBB\n",
    "        1. CCC\n",
    "\n",
    "        2. DDDD\n",
    "    \n",
    "                            ...\n",
    "    * EEE\n",
    "\n",
    "    QWEF\"\"\"))"
   ]
  },
  {
   "cell_type": "markdown",
   "metadata": {},
   "source": [
    "    print(markdown_to_python(\"\"\"## Special `pidgin.inspector` indentifiers.\n",
    "\n",
    "- __object?__ or __object??__ - one question mark returns basic info, two question marks returns the source with the `object` info.  Question marks supercede all other \n",
    "delimiters.\n",
    "\n",
    "\n",
    "        question_marks = \"([\\S]+)\\?{1}|\\?{1}([\\S]+)\"\n",
    "- __{{brace[0]}}\"expression or statement\"{{brace[1]}}__ \n",
    "- author's recieve a preview of the `jinja2` expression.\n",
    "\n",
    "\n",
    "        braced = \"(\\{){2}([^(\\?}{2})]+)\\}{2}\"\n",
    "- __{{tick}}\"expression or statement\"{{tick}}__ - executes the inline code and displays a preview.  _Statements and expressions in inline code\n",
    "are not rendered by `pidgin`, but intermediate representations assist in authoring `pidgin` documents._\n",
    "\n",
    "\n",
    "        ticked = \"`([^\\?]+)`\"\n",
    "    \n",
    "The conditions for a regular expression used to discover substrings.\n",
    "\n",
    "        inline_code_objects = re.compile(F\"{'|'.join((braced, ticked, question_marks))}\")\n",
    "                                        \n",
    "When no `inline_code_objects` are found the `pidgin.inspector` defaults to a __Markdown__ preview.\"\"\"))"
   ]
  },
  {
   "cell_type": "markdown",
   "metadata": {},
   "source": [
    "    print(markdown_to_python(\"\"\"This is \n",
    "    \n",
    "            a=\\\\\n",
    "    * list\n",
    "    \n",
    "    \n",
    "            h = \\\\\n",
    "    * lasdfaf\"\"\"))"
   ]
  },
  {
   "cell_type": "markdown",
   "metadata": {},
   "source": [
    "    print(markdown_to_python(\"\"\"## Special `pidgin.inspector` indentifiers.\n",
    "\n",
    "        y = \\\\\n",
    "- __object?__ or __object??__ - one question mark returns basic info, two question marks returns the source with the `object` info.  Question marks supercede all other \n",
    "delimiters.\n",
    "\n",
    "        question_marks = \"([\\S]+)\\?{1}|\\?{1}([\\S]+)\"\n",
    "- __{{brace[0]}}\"expression or statement\"{{brace[1]}}__ - author's recieve a preview of the `jinja2` expression.\n",
    "\n",
    "        braced = \"(\\{){2}([^(\\?}{2})]+)\\}{2}\"\n",
    "- __{{tick}}\"expression or statement\"{{tick}}__ - executes the inline code and displays a preview.  _Statements and expressions in inline code\n",
    "are not rendered by `pidgin`, but intermediate representations assist in authoring `pidgin` documents._\n",
    "\n",
    "        ticked = \"`([^\\?]+)`\"\n",
    "\n",
    "The conditions for a regular expression used to discover substrings.\n",
    "\n",
    "        inline_code_objects = re.compile(F\"{'|'.join((braced, ticked, question_marks))}\")\n",
    "\n",
    "When no `inline_code_objects` are found the `pidgin.inspector` defaults to a __Markdown__ preview.\"\"\"))"
   ]
  },
  {
   "cell_type": "markdown",
   "metadata": {},
   "source": [
    "print(99,markdown_to_python(\"\"\"## Using the inspector for welcome and help messaging.\n",
    "\n",
    "A blank cell is the perfect time to present users with instructions.  `pidgin` uses the `welcome` message describe it's features.\n",
    "\n",
    "    welcome =\\\\\n",
    "# Welcome to the `pidgin` inspector\n",
    "\n",
    "The `pidgin` inspector makes it easier execute inline code and explore python `object`s.\n",
    "\n",
    "* __?__ take priority & inspect the current `object`\n",
    "* The default representation is the cell as __Markdown__ source.\n",
    "\n",
    "---\n",
    "\n",
    "    welcome = IPython.display.Markdown(welcome)\n",
    "\n",
    "__*WIP*__\"\"\"))"
   ]
  },
  {
   "cell_type": "markdown",
   "metadata": {},
   "source": [
    "    markdown_to_python(\"\"\"testing [^1][a]\n",
    "    ...\n",
    "    \n",
    "    [a]: b\n",
    "    ---\n",
    "    \n",
    "        range\n",
    "    \n",
    "    [^1]: __bold__                \"\"\")"
   ]
  },
  {
   "cell_type": "code",
   "execution_count": null,
   "metadata": {},
   "outputs": [],
   "source": [
    "    def transformer(lines: \"that end with a newline.\"): \n",
    "        # Always add a new line\n",
    "        return markdown_to_python(''.join(lines + ['\\n'])).splitlines(1)"
   ]
  },
  {
   "cell_type": "code",
   "execution_count": null,
   "metadata": {},
   "outputs": [],
   "source": [
    "    def load_ipython_extension(ip=None):\n",
    "        ip = ip or IPython.get_ipython()\n",
    "        ip.input_transformer_manager.cleanup_transforms = [transformer] + [\n",
    "            object for object in ip.input_transformer_manager.cleanup_transforms\n",
    "            if object not in {transformer, IPython.core.inputtransformer2.classic_prompt}\n",
    "        ]\n",
    "\n",
    "    def unload_ipython_extension(ip=None):\n",
    "        ip = ip or IPython.get_ipython()\n",
    "        ip.input_transformer_manager.cleanup_transforms = [\n",
    "            object for object in ip.input_transformer_manager.cleanup_transforms\n",
    "            if object is not transformer]\n",
    "    if __name__ == '__main__': load_ipython_extension()"
   ]
  }
 ],
 "metadata": {
  "kernelspec": {
   "display_name": "Python 3",
   "language": "python",
   "name": "python3"
  },
  "language_info": {
   "codemirror_mode": {
    "name": "ipython",
    "version": 3
   },
   "file_extension": ".py",
   "mimetype": "text/x-python",
   "name": "python",
   "nbconvert_exporter": "python",
   "pygments_lexer": "ipython3",
   "version": "3.6.6"
  }
 },
 "nbformat": 4,
 "nbformat_minor": 2
}
