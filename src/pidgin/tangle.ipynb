{
 "cells": [
  {
   "cell_type": "markdown",
   "metadata": {},
   "source": [
    "The __tangle__ step in literate programming converts text in the specification language to the source language; the source language must be valid to the object language.  [`pidgin.tangle`](tangle.ipynb) transpiles __Markdown__ to valid `IPython` flavored __Python__ using the `IPython` configuration system.\n",
    "\n",
    "Literate `pidgin` documents are reusable as __Python__ modules, documentation, and tests."
   ]
  },
  {
   "cell_type": "code",
   "execution_count": 1,
   "metadata": {},
   "outputs": [],
   "source": [
    "    import ast, IPython, re, functools, black, traitlets, doctest, textwrap, mistune, types, importnb, typing as t\n",
    "    if __name__ == '__main__':  \n",
    "        %reload_ext pidgin"
   ]
  },
  {
   "cell_type": "markdown",
   "metadata": {},
   "source": [
    "## Explicit loaders"
   ]
  },
  {
   "cell_type": "markdown",
   "metadata": {},
   "source": [
    "The tangle step idenitifies explicit statements executed to create the base state."
   ]
  },
  {
   "cell_type": "code",
   "execution_count": 2,
   "metadata": {},
   "outputs": [],
   "source": [
    "    class PidginMixin:\n",
    "        extensions = '.md.ipynb',\n",
    "        def code(PidginMixin, str) -> str: \n",
    "            from .specifications import transform_cell\n",
    "            return importnb.loader.dedent(transform_cell.markdown_to_python(str))\n",
    "        \n",
    "        def visit(PidginMixin, node): \n",
    "            from .specifications import json, emojis_, yaml_, transform_ast\n",
    "            \"\"\"These have to be applied outer most first.\"\"\"\n",
    "            for visitor in reversed((\n",
    "                yaml_.Yaml, json.Expand, emojis_.Emojize, transform_ast.ReturnYieldDisplay, json.Pointer, \n",
    "            )): node = visitor().visit(node)\n",
    "            return node\n",
    "\n",
    "    class PidginBase(PidginMixin, importnb.Notebook): ...\n",
    "    class Pidgin(PidginBase): ..."
   ]
  },
  {
   "cell_type": "markdown",
   "metadata": {},
   "source": [
    "## IPython configuration."
   ]
  },
  {
   "cell_type": "code",
   "execution_count": 3,
   "metadata": {},
   "outputs": [],
   "source": [
    "    def load_ipython_extension(shell):\n",
    "        %reload_ext pidgin.specifications.transform_ast\n",
    "        %reload_ext pidgin.specifications.transform_cell\n",
    "        \n",
    "        for i, transformer in enumerate(shell.input_transformers_cleanup):\n",
    "            try:\n",
    "                if transformer.initial_re.pattern[1:4] == '>>>':\n",
    "                    shell.input_transformers_cleanup.pop(i)\n",
    "                    break\n",
    "            except: ..."
   ]
  },
  {
   "cell_type": "markdown",
   "metadata": {},
   "source": [
    "The `pidgin.tangle` only operates on block level objects in the `mistune.Markdown` grammar.  The tangle step does not using and of the `mistune.Renderer` capabilities."
   ]
  },
  {
   "cell_type": "code",
   "execution_count": 4,
   "metadata": {},
   "outputs": [],
   "source": [
    "    def unload_ipython_extension(shell): ..."
   ]
  }
 ],
 "metadata": {
  "kernelspec": {
   "display_name": "p6",
   "language": "python",
   "name": "other-env"
  },
  "language_info": {
   "codemirror_mode": {
    "name": "ipython",
    "version": 3
   },
   "file_extension": ".py",
   "mimetype": "text/x-python",
   "name": "python",
   "nbconvert_exporter": "python",
   "pygments_lexer": "ipython3",
   "version": "3.6.8"
  }
 },
 "nbformat": 4,
 "nbformat_minor": 2
}
