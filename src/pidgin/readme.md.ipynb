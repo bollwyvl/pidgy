{
 "cells": [
  {
   "cell_type": "markdown",
   "metadata": {},
   "source": [
    "Literate programming is a style of programming that combines programming languages with documentation.  Modern notebooks (e.g. Jupyter, Sage, Observable) provide interactive interfaces to compose computational essays.\n",
    "\n",
    "Literate programming was developed before the advent of open source scientific computing ecosystems.  The intent and style of composing literate programs is similar to that of reproducible scientific documents.\n",
    "\n",
    "focuses on the readability and exposition of human logic within a structured program; its original intent was to compose essays.\n",
    "\n",
    "> Let us change our traditional attitude to the construction of programs: Instead of imagining that our main task is to instruct a computer what to do, let us concentrate rather on explaining to human beings what we want a computer to do."
   ]
  },
  {
   "cell_type": "code",
   "execution_count": 1,
   "metadata": {},
   "outputs": [
    {
     "name": "stdout",
     "output_type": "stream",
     "text": [
      "\n"
     ]
    }
   ],
   "source": [
    "    import pidgin\n",
    "    from IPython import get_ipython\n",
    "    shell = get_ipython()\n",
    "    %reload_ext pidgin"
   ]
  },
  {
   "cell_type": "code",
   "execution_count": 2,
   "metadata": {},
   "outputs": [
    {
     "data": {
      "text/html": [
       "<pre><code>&gt;&gt;&gt; from toolz.curried import *; from toolz.curried.operator import *; λ = pipe\n",
       "</code></pre>\n",
       "<pre><code>&gt;&gt;&gt; from pidgin import tangle, weave, loaders\n",
       "</code></pre>\n",
       "<pre><code>&gt;&gt;&gt; from importlib import reload\n",
       "</code></pre>\n",
       "<pre><code>&gt;&gt;&gt; from pathlib import Path\n",
       "</code></pre>\n",
       "<pre><code>&gt;&gt;&gt; import ast, notebook, IPython, ipykernel, pidgin, nbconvert, jupyter, requests_cache, requests, nbformat, inspect\n",
       "</code></pre>\n",
       "<pre><code>&gt;&gt;&gt; requests_cache.install_cache('pidgin')\n",
       "</code></pre>\n",
       "<pre><code>&gt;&gt;&gt; with loaders.PidginWeave():\n",
       "...      from .docs import figures, tables; dir(figures) and None\n",
       "</code></pre>\n",
       "<pre><code>&gt;&gt;&gt; shell = get_ipython()\n",
       "</code></pre>\n",
       "<pre><code>&gt;&gt;&gt; source = inspect.getsource\n",
       "</code></pre>\n",
       "<pre><code>&gt;&gt;&gt; assert __name__ in {'_doctest_', 'pidgin.readme'}\n",
       "</code></pre>\n"
      ],
      "text/plain": [
       "<IPython.core.display.HTML object>"
      ]
     },
     "metadata": {},
     "output_type": "display_data"
    },
    {
     "name": "stdout",
     "output_type": "stream",
     "text": [
      "**********************************************************************\n",
      "Line 6, in _test_\n",
      "Failed example:\n",
      "    requests_cache.install_cache('pidgin')\n",
      "Exception raised:\n",
      "    Traceback (most recent call last):\n",
      "      File \"/Users/tonyfast/anaconda/envs/p6/lib/python3.6/doctest.py\", line 1330, in __run\n",
      "        compileflags, 1), test.globs)\n",
      "      File \"<doctest _test_[5]>\", line 2, in <module>\n",
      "      File \"/Users/tonyfast/pidgin/src/pidgin/json.md.ipynb\", line 187, in expand\n",
      "        object = pyld.jsonld.expand({'@context': context or LinkedDataContext.instance().context, str: ''})\n",
      "    NameError: name 'LinkedDataContext' is not defined\n",
      "**********************************************************************\n",
      "Line 11, in _test_\n",
      "Failed example:\n",
      "    assert __name__ in {'_doctest_', 'pidgin.readme'}\n",
      "Exception raised:\n",
      "    Traceback (most recent call last):\n",
      "      File \"/Users/tonyfast/anaconda/envs/p6/lib/python3.6/doctest.py\", line 1330, in __run\n",
      "        compileflags, 1), test.globs)\n",
      "      File \"<doctest _test_[9]>\", line 1, in <module>\n",
      "        assert __name__ in {'_doctest_', 'pidgin.readme'}\n",
      "    AssertionError\n"
     ]
    }
   ],
   "source": [
    ">>> from toolz.curried import *; from toolz.curried.operator import *; λ = pipe\n",
    ">>> from pidgin import tangle, weave, loaders\n",
    ">>> from importlib import reload\n",
    ">>> from pathlib import Path\n",
    ">>> import ast, notebook, IPython, ipykernel, pidgin, nbconvert, jupyter, requests_cache, requests, nbformat, inspect\n",
    ">>> requests_cache.install_cache('pidgin')\n",
    ">>> with loaders.PidginWeave():\n",
    "...      from .docs import figures, tables; dir(figures) and None\n",
    ">>> shell = get_ipython()\n",
    ">>> source = inspect.getsource\n",
    ">>> assert __name__ in {'_doctest_', 'pidgin.readme'}"
   ]
  },
  {
   "cell_type": "markdown",
   "metadata": {},
   "source": [
    "Understanding computer programming as a literacy"
   ]
  },
  {
   "cell_type": "markdown",
   "metadata": {},
   "source": [
    "literate programming"
   ]
  },
  {
   "cell_type": "code",
   "execution_count": 3,
   "metadata": {},
   "outputs": [
    {
     "ename": "NameError",
     "evalue": "name 'LinkedDataContext' is not defined",
     "output_type": "error",
     "traceback": [
      "\u001b[0;31m---------------------------------------------------------------------------\u001b[0m",
      "\u001b[0;31mNameError\u001b[0m                                 Traceback (most recent call last)",
      "\u001b[0;32m<ipython-input-3-cc3543697462>\u001b[0m in \u001b[0;36m<module>\u001b[0;34m\u001b[0m\n\u001b[1;32m      4\u001b[0m >> - [Donald Knuth][yak shave], [*Literate Programming*][literate programming]\"\"\"\n\u001b[1;32m      5\u001b[0m \u001b[0;34m\u001b[0m\u001b[0m\n\u001b[0;32m----> 6\u001b[0;31m \u001b[0mglobals\u001b[0m\u001b[0;34m(\u001b[0m\u001b[0;34m)\u001b[0m\u001b[0;34m[\u001b[0m\u001b[0;34m\"\"\"yak shave\"\"\"\u001b[0m\u001b[0;34m]\u001b[0m \u001b[0;34m=\u001b[0m \u001b[0;34m\"\"\"http://yakshav.es/the-patron-saint-of-yakshaves/\"\"\"\u001b[0m\u001b[0;34m\u001b[0m\u001b[0;34m\u001b[0m\u001b[0m\n\u001b[0m",
      "\u001b[0;32m~/pidgin/src/pidgin/json.md.ipynb\u001b[0m in \u001b[0;36mexpand\u001b[0;34m(str, context)\u001b[0m\n\u001b[1;32m    185\u001b[0m \u001b[0;32mdef\u001b[0m \u001b[0mexpand\u001b[0m\u001b[0;34m(\u001b[0m\u001b[0mstr\u001b[0m\u001b[0;34m,\u001b[0m \u001b[0mcontext\u001b[0m\u001b[0;34m=\u001b[0m\u001b[0;32mNone\u001b[0m\u001b[0;34m)\u001b[0m\u001b[0;34m:\u001b[0m\u001b[0;34m\u001b[0m\u001b[0;34m\u001b[0m\u001b[0m\n\u001b[1;32m    186\u001b[0m     \u001b[0;32mif\u001b[0m \u001b[0mlen\u001b[0m\u001b[0;34m(\u001b[0m\u001b[0mstr\u001b[0m\u001b[0;34m.\u001b[0m\u001b[0msplitlines\u001b[0m\u001b[0;34m(\u001b[0m\u001b[0;34m)\u001b[0m\u001b[0;34m)\u001b[0m \u001b[0;34m==\u001b[0m \u001b[0;36m1\u001b[0m \u001b[0;32mand\u001b[0m \u001b[0;32mnot\u001b[0m \u001b[0mstr\u001b[0m\u001b[0;34m.\u001b[0m\u001b[0mstartswith\u001b[0m\u001b[0;34m(\u001b[0m\u001b[0;34m'@'\u001b[0m\u001b[0;34m)\u001b[0m\u001b[0;34m:\u001b[0m\u001b[0;34m\u001b[0m\u001b[0;34m\u001b[0m\u001b[0m\n\u001b[0;32m--> 187\u001b[0;31m         \u001b[0mobject\u001b[0m \u001b[0;34m=\u001b[0m \u001b[0mpyld\u001b[0m\u001b[0;34m.\u001b[0m\u001b[0mjsonld\u001b[0m\u001b[0;34m.\u001b[0m\u001b[0mexpand\u001b[0m\u001b[0;34m(\u001b[0m\u001b[0;34m{\u001b[0m\u001b[0;34m'@context'\u001b[0m\u001b[0;34m:\u001b[0m \u001b[0mcontext\u001b[0m \u001b[0;32mor\u001b[0m \u001b[0mLinkedDataContext\u001b[0m\u001b[0;34m.\u001b[0m\u001b[0minstance\u001b[0m\u001b[0;34m(\u001b[0m\u001b[0;34m)\u001b[0m\u001b[0;34m.\u001b[0m\u001b[0mcontext\u001b[0m\u001b[0;34m,\u001b[0m \u001b[0mstr\u001b[0m\u001b[0;34m:\u001b[0m \u001b[0;34m''\u001b[0m\u001b[0;34m}\u001b[0m\u001b[0;34m)\u001b[0m\u001b[0;34m\u001b[0m\u001b[0;34m\u001b[0m\u001b[0m\n\u001b[0m\u001b[1;32m    188\u001b[0m         \u001b[0;32mif\u001b[0m \u001b[0mobject\u001b[0m\u001b[0;34m:\u001b[0m \u001b[0;32mreturn\u001b[0m \u001b[0mnext\u001b[0m\u001b[0;34m(\u001b[0m\u001b[0miter\u001b[0m\u001b[0;34m(\u001b[0m\u001b[0mobject\u001b[0m\u001b[0;34m[\u001b[0m\u001b[0;36m0\u001b[0m\u001b[0;34m]\u001b[0m\u001b[0;34m.\u001b[0m\u001b[0mkeys\u001b[0m\u001b[0;34m(\u001b[0m\u001b[0;34m)\u001b[0m\u001b[0;34m)\u001b[0m\u001b[0;34m)\u001b[0m\u001b[0;34m\u001b[0m\u001b[0;34m\u001b[0m\u001b[0m\n\u001b[1;32m    189\u001b[0m     \u001b[0;32mreturn\u001b[0m \u001b[0mstr\u001b[0m\u001b[0;34m\u001b[0m\u001b[0;34m\u001b[0m\u001b[0m\n",
      "\u001b[0;31mNameError\u001b[0m: name 'LinkedDataContext' is not defined"
     ]
    },
    {
     "data": {
      "text/html": [
       "<p>A literate program is a formal system for expressing computational thinking.  Literate programs adopt axioms from the compiler's object language and the typesetting specification language to establish a hierarchical language.  The metalanguage results in an emergent grammar that describes a program in human logic.</p>\n",
       "<blockquote><p>By coining the phrase “literate programming,” I am imposing a moral commitment on everyone who hears the term; surely nobody wants to admit writing an illiterate program.</p>\n",
       "<blockquote><ul>\n",
       "<li><p><a href=\"http://yakshav.es/the-patron-saint-of-yakshaves/\">Donald Knuth</a>, [<em>Literate Programming</em>][literate programming]</p>\n",
       "</li>\n",
       "</ul>\n",
       "</blockquote>\n",
       "</blockquote>\n"
      ],
      "text/plain": [
       "<IPython.core.display.HTML object>"
      ]
     },
     "metadata": {},
     "output_type": "display_data"
    }
   ],
   "source": [
    "A literate program is a formal system for expressing computational thinking.  Literate programs adopt axioms from the compiler's object language and the typesetting specification language to establish a hierarchical language.  The metalanguage results in an emergent grammar that describes a program in human logic.\n",
    "\n",
    "> By coining the phrase “literate programming,” I am imposing a moral commitment on everyone who hears the term; surely nobody wants to admit writing an illiterate program.\n",
    ">> - [Donald Knuth][yak shave], [*Literate Programming*][literate programming]\n",
    "\n",
    "[yak shave]: http://yakshav.es/the-patron-saint-of-yakshaves/        "
   ]
  },
  {
   "cell_type": "markdown",
   "metadata": {},
   "source": [
    "computational essay"
   ]
  },
  {
   "cell_type": "code",
   "execution_count": null,
   "metadata": {},
   "outputs": [],
   "source": [
    "Let start talk about `aa=0`. `cc=\\` split across with a  line continuation `99` "
   ]
  },
  {
   "cell_type": "code",
   "execution_count": null,
   "metadata": {},
   "outputs": [],
   "source": [
    "In order to use any variable within a template.  It must be defined in a preceeding cell.  ${{aa}}$ is nothing."
   ]
  },
  {
   "cell_type": "code",
   "execution_count": null,
   "metadata": {},
   "outputs": [],
   "source": [
    "# A literate computing interactive shell in `IPython`\n",
    "\n",
    "`pidgin` is a __Python__ module that implements a literate programming `shell` in `IPython` interactive shells like Jupyter notebook, JupyterLab, `IPython.terminal`, **nteract**, or **colab**.\n",
    "\n",
    "[__Python__ has different flavors][python implementations] and `IPython` has emerged as a popular choice for interactive scientific computing; both __Python__ and `IPython` are motivated \n",
    "\n",
    "Ecosystem community.\n",
    "\n",
    "> From this perspective, we therefore refer to the worfklow exposed by these kinds of computational notebooks (not just IPython, but also Sage, Mathematica and others), as \"literate computing\": it is the weaving of a narrative directly into a live computation, interleaving text with code and results to construct a complete piece that relies equally on the textual explanations and the computational components. For the goals of communicating results in scientific computing and data analysis, I think this model is a better fit than the literate programming one, which is rather aimed at developing software in tight concert with its design and explanatory documentation. I should note that we have some ideas on how to make IPython stronger as a tool for \"traditional\" literate programming, but it's a bit early for us to focus on that, as we first want to solidify the computational workflows possible with IPython.\n",
    "    "
   ]
  },
  {
   "cell_type": "raw",
   "metadata": {},
   "source": [
    "{{figures}}"
   ]
  },
  {
   "cell_type": "code",
   "execution_count": null,
   "metadata": {},
   "outputs": [],
   "source": [
    "    \n",
    "    web_diagram=\\\n",
    "digraph {\n",
    "    rankdir=LR\n",
    "    WEB -> TEX [label=weave]\n",
    "    WEB -> PAS [label=tangle]\n",
    "    TEX -> DVI [label=TEX]\n",
    "    PAS -> REL [label=Pascal]\n",
    "}"
   ]
  },
  {
   "cell_type": "markdown",
   "metadata": {},
   "source": [
    "w:Metalanguage"
   ]
  },
  {
   "cell_type": "markdown",
   "metadata": {},
   "source": [
    "Markup Language is the metalanguage\n",
    "Source language is a formal language specification."
   ]
  },
  {
   "cell_type": "markdown",
   "metadata": {},
   "source": [
    "w:Specification_language"
   ]
  },
  {
   "cell_type": "code",
   "execution_count": null,
   "metadata": {},
   "outputs": [],
   "source": [
    "> Specifications must be subject to a process of refinement (the filling-in of implementation detail) before they can actually be implemented. "
   ]
  },
  {
   "cell_type": "code",
   "execution_count": null,
   "metadata": {},
   "outputs": [],
   "source": [
    "[Language independent specification]: w:Language-independent_specification\n",
    "[Recursive transpiling]: w:Recursive_transcompiling\n",
    "[UML]: w:Unified_Modeling_Language"
   ]
  },
  {
   "cell_type": "markdown",
   "metadata": {},
   "source": [
    "w:Object_language"
   ]
  },
  {
   "cell_type": "code",
   "execution_count": null,
   "metadata": {},
   "outputs": [],
   "source": [
    "source language -> object/target language"
   ]
  },
  {
   "cell_type": "code",
   "execution_count": null,
   "metadata": {},
   "outputs": [],
   "source": [
    "## Introduction to literate programming of computational essays.\n",
    "\n",
    "Computational literacy\n",
    "\n",
    "Literate programming is a hierarchical metalanguage\n",
    "\n",
    "Major drivers behind python and ipython\n",
    "\n",
    "Literate programming was introduced by Donald Knuth as a unified approach to writing programs interlaced with documentation.  \n",
    "\n",
    "Printing primes: An example of WEB\n",
    "\n",
    "Literate programming combines [different styles of programming][programming_paradigms] to express a program's logic in the form of an essay.  \n",
    "{{None}}\n",
    "\n",
    "Printing primes: An example of WEB . . . . . . . . . . . . . . §1s\n",
    "    [[Simple macros simply substitute a bit of PASCAL\n",
    "code for an identifier. Parametric macros are similar,\n",
    "but they also substitute an argument wherever ‘#’ occurs in the macro definition. The first three macro definitions here are parametric; the other two are simple.]]\n",
    "    \n",
    "Code is distinctly separated from narrative in paragraph blocks.\n",
    "\n",
    "[pascal]: w:Pascal_(programming_language)\n",
    "[tex]: w:TeX\n",
    "[literate programming wiki]: w:Literate_programming"
   ]
  },
  {
   "cell_type": "code",
   "execution_count": null,
   "metadata": {},
   "outputs": [],
   "source": [
    "### Tangle \n",
    "      \n",
    "You can also follow the other branch of Figure 1, by\n",
    "running the TANGLE processor; this is a system program\n",
    "that takes the file COB.WEB as input and produces a new\n",
    "file COB.PAS as output. Then you run the PASCAL compiler, which converts COB.PAS to a binary file COB.REL\n",
    "(say). Finally, you can run your program by loading\n",
    "and executing COB.REL. The process of “compile, load,\n",
    "and go” has been slightly lengthened to “tangle, compile, load, and go.\n",
    "* tangling has no implicit display rules. statements and expressions\n",
    "Figure 3 shows the PASCAL program PRIMES.PAS that\n",
    "results when TANGLE is applied to PRIMES.WEB. This\n",
    "program is not intended for human consumption—it’s\n",
    "only supposed to be readable by a PASCAL compiler—\n",
    "so TANGLE does not go to great pains to produce a beautiful format. Notice that underlines have been removed\n",
    "from the identifier names, and that all of the letters\n",
    "have been converted to uppercase (except in strings);\n",
    "TANGLE tries to produce a format that will be acceptable\n",
    "to a standard PASCAL compiler.\n",
    "TANGLE removes all of the commentary in the WEB\n",
    "file, but it inserts new comments of its own. If for some\n",
    "reason you need to correlate the tangled PASCAL code\n",
    "with the woven documentation, you can find the program text for, say, §8 by looking between the comments\n",
    "‘{8:}’ and ‘{:8}’.\n",
    "A comparison of Figure 3 to Figure 2 should make it\n",
    "clear why the TANGLE processor has acquired its name.\n"
   ]
  },
  {
   "cell_type": "code",
   "execution_count": null,
   "metadata": {},
   "outputs": [],
   "source": [
    "### Weave"
   ]
  },
  {
   "cell_type": "code",
   "execution_count": null,
   "metadata": {},
   "outputs": [],
   "source": [
    "### Macros.\n",
    "\n",
    "> &nbsp;34. [The string is a stark data structure and everywhere it is passed there is much duplication of process. It is a perfect vehicle for hiding information.][perlisisms]\n",
    ">> Alan Perlis\n",
    "\n",
    "\n",
    "[programming_paradigms]: w:Comparison_of_programming_paradigms\n",
    "[perlisisms]: http://www.cs.yale.edu/homes/perlis-alan/quotes.html"
   ]
  },
  {
   "cell_type": "markdown",
   "metadata": {},
   "source": [
    "literate programming"
   ]
  },
  {
   "cell_type": "raw",
   "metadata": {},
   "source": [
    "[kernel list]: gh:jupyter/jupyter/wiki/Jupyter-kernels\n",
    "\n",
    ">>> kernels = λ(\"kernel list\", globals().get, requests.get, operator.attrgetter('content'), __import__('pandas').read_html, first)"
   ]
  },
  {
   "cell_type": "raw",
   "metadata": {},
   "source": [
    "## Modern notebooks for computational thinking and literacy\n",
    "\n",
    "\n",
    ">>> shell = IPython.get_ipython()\n",
    ">>> kernel = shell.kernel\n",
    "\n",
    "Interactive computing has come a long since 1984 when the original implementation WEB implementation of literate programming was published.  Since then modern notebooks have evolved as a substrate interactive scientific computing and literate programming.  \n",
    "\n",
    "`IPython` is a configurable interactive shell that provided a seed for the Jupyter ecosystem.  [big split] and \n",
    "\n",
    "Modern documentation as tests\n",
    "\n",
    "[Custom kernels can be written] now supports ${{len(kernels)}}$ kernels\n",
    "\n",
    "Significant growth.  Lots of notebooks.\n",
    "\n",
    "[big split]: https://blog.jupyter.org/the-big-split-9d7b88a031a7\n",
    "[acm award]: https://blog.jupyter.org/jupyter-receives-the-acm-software-system-award-d433b0dfe3a2\n",
    "[nbestimate]: nbviewer:github/parente/nbestimate/blob/master/estimate.ipynb"
   ]
  },
  {
   "cell_type": "raw",
   "metadata": {},
   "source": [
    ">>> number_of_notebooks = λ(nbestimate, requests.get, operator.attrgetter('content'), __import__('pandas').read_html, first).iloc[:, 1].max()//5e5/2"
   ]
  },
  {
   "cell_type": "raw",
   "metadata": {},
   "source": [
    "### Project Jupyter notebooks for literate computing.\n",
    "\n",
    "Project Jupyter is a open source ecosystem of langage agnostic of interactive programming tools.\n",
    "\n",
    "As of {{None}} there are an $>{{number_of_notebooks}}\\ million$ estimated notebooks on [Github][gh]\n",
    "\n"
   ]
  },
  {
   "cell_type": "raw",
   "metadata": {},
   "source": [
    "## The uml of pidgin\n",
    "\n",
    "{{figures.UML}}"
   ]
  },
  {
   "cell_type": "code",
   "execution_count": 14,
   "metadata": {},
   "outputs": [
    {
     "data": {
      "text/html": [
       "<h2>Configuring the <code>IPython</code> <code>shell</code> & <code>kernel</code> for literate computing.</h2>\n",
       "<p>literate programming for dynamic interpretted languages.\n",
       "<a href=\"&amp;#xA;        &lt;iframe&amp;#xA;            width=&quot;100%&quot;&amp;#xA;            height=&quot;500px&quot;&amp;#xA;            src=&quot;https://askubuntu.com/questions/161511/are-the-linux-utilities-parts-of-the-kernel-shell&quot;&amp;#xA;            frameborder=&quot;0&quot;&amp;#xA;            allowfullscreen&amp;#xA;        &gt;&lt;/iframe&gt;&amp;#xA;\"><img src=\"data:image/jpeg;base64,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\n",
       "\"/></a></p>\n",
       "<p><code>jupyter</code>/<code>IPython</code> notebooks are literate computing editors with implicit rules to <strong>tangle</strong> cell text into valid Python code</p>\n",
       "<p>{pidgin_diagram and None}</p>\n",
       "<p>jupyter architecture</p>\n",
       "<p>The difference between the standard shell or my shell.</p>\n",
       "<ul>\n",
       "<li><p><code>pidgin</code> has a canonical source. the web is a combination of latex and pascal with its own file extesion.</p>\n",
       "</li>\n",
       "<li><p><a href=\"shell.md.ipynb\"><code>pidgin.shell</code></a> configures the interactive literate programming actions (Ctrl+Enter or Shift+Enter) -<code>tangle</code>, <code>weave</code>, and <code>macros</code> - when a cell or line of code is executed in an interative <code>IPython</code> <code>shell</code>.</p>\n",
       "</li>\n",
       "<li><p><a href=\"kernel.md.ipynb\"><code>pidgin.kernel</code></a> configures the <code>IPython</code> inspector to provide an author to preview values in a literate code cell based on the cursor position.</p>\n",
       "</li>\n",
       "</ul>\n",
       "<h3>Dependencies</h3>\n",
       "<p>dependencies are your documentation.</p>\n"
      ],
      "text/plain": [
       "'## Configuring the `IPython` `shell` & `kernel` for literate computing.\\n\\n\\nliterate programming for dynamic interpretted languages.\\n[{{\"shell diagram\"}}]({{\"shell diagram source\"}})\\n\\n\\n`jupyter`/`IPython` notebooks are literate computing editors with implicit rules to __tangle__ cell text into valid Python code\\n\\n\\n{pidgin_diagram and None}\\n\\n{{\"jupyter architecture\"}}\\n\\nThe difference between the standard shell or my shell.\\n* `pidgin` has a canonical source. the web is a combination of latex and pascal with its own file extesion.\\n\\n{% for object in (pidgin.shell, kernel) %}* {{object.__doc__}}\\n{% endfor %}\\n\\n### Dependencies\\n\\ndependencies are your documentation.'"
      ],
      "texåt/markdown": "## Configuring the `IPython` `shell` & `kernel` for literate computing.\n\n\nliterate programming for dynamic interpretted languages.\n[<img src=\"data:image/jpeg;base64,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\n\"/>](&#xA;        <iframe&#xA;            width=\"100%\"&#xA;            height=\"500px\"&#xA;            src=\"https://askubuntu.com/questions/161511/are-the-linux-utilities-parts-of-the-kernel-shell\"&#xA;            frameborder=\"0\"&#xA;            allowfullscreen&#xA;        ></iframe>&#xA;        )\n\n\n`jupyter`/`IPython` notebooks are literate computing editors with implicit rules to __tangle__ cell text into valid Python code\n\n\n{pidgin_diagram and None}\n\njupyter architecture\n\nThe difference between the standard shell or my shell.\n* `pidgin` has a canonical source. the web is a combination of latex and pascal with its own file extesion.\n\n* [`pidgin.shell`](shell.md.ipynb) configures the interactive literate programming actions (Ctrl+Enter or Shift+Enter) -`tangle`, `weave`, and `macros` - when a cell or line of code is executed in an interative `IPython` `shell`. \n\n* [`pidgin.kernel`](kernel.md.ipynb) configures the `IPython` inspector to provide an author to preview values in a literate code cell based on the cursor position. \n\n\n\n### Dependencies\n\ndependencies are your documentation."
     },
     "metadata": {},
     "output_type": "display_data"
    }
   ],
   "source": [
    "## Configuring the `IPython` `shell` & `kernel` for literate computing.\n",
    "\n",
    "\n",
    "literate programming for dynamic interpretted languages.\n",
    "[{{\"shell diagram\"}}]({{\"shell diagram source\"}})\n",
    "\n",
    "\n",
    "`jupyter`/`IPython` notebooks are literate computing editors with implicit rules to __tangle__ cell text into valid Python code\n",
    "\n",
    "\n",
    "{pidgin_diagram and None}\n",
    "\n",
    "{{\"jupyter architecture\"}}\n",
    "\n",
    "The difference between the standard shell or my shell.\n",
    "* `pidgin` has a canonical source. the web is a combination of latex and pascal with its own file extesion.\n",
    "\n",
    "{% for object in (pidgin.shell, kernel) %}* {{object.__doc__}}\n",
    "{% endfor %}\n",
    "\n",
    "### Dependencies\n",
    "\n",
    "dependencies are your documentation."
   ]
  },
  {
   "cell_type": "markdown",
   "metadata": {},
   "source": [
    "jupyter architecture`"
   ]
  },
  {
   "cell_type": "code",
   "execution_count": null,
   "metadata": {},
   "outputs": [],
   "source": [
    "### `pidgin` implementation\n",
    "\n",
    "\n",
    "{% for object in (tangle, weave, macros) %}* {{object.__doc__}}\n",
    "{% endfor %}"
   ]
  },
  {
   "cell_type": "code",
   "execution_count": null,
   "metadata": {},
   "outputs": [],
   "source": [
    "\n",
    "[sphinx 1]: http://docs.sphinxdocs.com/en/latest/step-3.html\n",
    "[sphinxtechnicalwriting]: https://sphinxtechnicalwriting.readthedocs.io/en/latest/"
   ]
  },
  {
   "cell_type": "raw",
   "metadata": {},
   "source": [
    "## Publishing Computational Essays\n",
    "\n",
    "portability is reference in literate programming\n",
    "\n",
    "{% for object in (publishing, testing) %}* {{object.__doc__}}\n",
    "{% endfor %}\n",
    "\n",
    "{{nbviewer_architecture}}\n",
    "\n",
    "### Restart and run all or it didn't happen\n",
    "\n",
    "[binder]: #\n",
    "[nbviewer]: #\n",
    "    \n",
    "[nbviewer_architecture]: jdocs:_images/nbconvert.png\n",
    "\n",
    "[python testing]: #\n",
    "[oriole]: #\n"
   ]
  },
  {
   "cell_type": "code",
   "execution_count": null,
   "metadata": {},
   "outputs": [],
   "source": []
  },
  {
   "cell_type": "code",
   "execution_count": null,
   "metadata": {},
   "outputs": [],
   "source": []
  }
 ],
 "metadata": {
  "kernelspec": {
   "display_name": "p6",
   "language": "python",
   "name": "other-env"
  },
  "language_info": {
   "codemirror_mode": {
    "name": "ipython",
    "version": 3
   },
   "file_extension": ".py",
   "mimetype": "text/x-python",
   "name": "python",
   "nbconvert_exporter": "python",
   "pygments_lexer": "ipython3",
   "version": "3.6.8"
  }
 },
 "nbformat": 4,
 "nbformat_minor": 2
}
