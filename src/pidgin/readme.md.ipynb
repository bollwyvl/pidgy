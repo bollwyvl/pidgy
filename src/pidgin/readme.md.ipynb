{
 "cells": [
  {
   "cell_type": "code",
   "execution_count": 1,
   "metadata": {},
   "outputs": [],
   "source": [
    "    import IPython, pidgin\n",
    "    if __name__ == '__main__':\n",
    "        %reload_ext pidgin\n",
    "        ip = IPython.get_ipython()\n",
    "        ip.weave.html = True\n",
    "        get_ipython().weave.safe = False\n",
    "    __all__ = 'load_ipython_extension', 'unload_ipython_extension'"
   ]
  },
  {
   "cell_type": "markdown",
   "metadata": {},
   "source": [
    "Software has more code than narrative typically because it is the priority in literate documents the code becomes secondary on its weaving within a more nonlinar narrative."
   ]
  },
  {
   "cell_type": "code",
   "execution_count": 22,
   "metadata": {},
   "outputs": [],
   "source": [
    "## Modern notebooks and computatinal literacy\n",
    "\n",
    "Literate programming is a multi language style of programming to capture computational thinking in human computational logic.  Literate programs will interleave imperative and declarative programming styles within a narrative to describe a unit of computational thought.\n",
    "\n",
    "A literate programmer must make two choices:\n",
    "1. What markup language is the display written in?\n",
    "2. What source language does the kernel execute?\n",
    "\n",
    "Knuth's original paper of literate programming is an implementation using a Pascal kernel and Latex Markup language.  Since, there have been implementations in many languages, but the concept has not taking off for general programming where logic is driven by the computer.\n",
    "\n",
    "Literate programs are an accumuluation of interactive computing sessions.  Fernando focuses closer to here. The composite of a literate program employs a word processor and kernel.\n",
    "\n",
    "\n",
    "> From this perspective, we therefore refer to the worfklow exposed by these kinds of computational notebooks (not just IPython, but also Sage, Mathematica and others), as \"literate computing\": it is the weaving of a narrative directly into a live computation, interleaving text with code and results to construct a complete piece that relies equally on the textual explanations and the computational components. For the goals of communicating results in scientific computing and data analysis, I think this model is a better fit than the literate programming one, which is rather aimed at developing software in tight concert with its design and explanatory documentation. I should note that we have some ideas on how to make IPython stronger as a tool for \"traditional\" literate programming, but it's a bit early for us to focus on that, as we first want to solidify the computational workflows possible with IPython.\n",
    "\n",
    "> I don't take any issue with this approach per se, but I don't personally use it because it's not very well suited to the kinds of workflows that I need in practice. These require the frequent execution of small fragments of code, in an iterative cycle where code is run to obtain partial results that inform the next bit of code to be written. Such is the nature of interactive exploratory computing, which is the bread and butter of many practicing scientists. This is the kind of workflow that led me to creating IPython over a decade ago, and it continues to inform basically every decision we make in the project today.\n",
    "\n",
    "Perez does not see IPython and literate programming as working becaues the original ltierate programming concept ignores the interactive and incremental work to compoe the article.\n",
    "\n",
    "> The notebook is designed to turn scientific programming into an interactive exercise, where individual commands were tweaked and rerun, perhaps dozens or hundreds of times, as the author learned from the results of their little computational experiments, and came to a more intimate understanding of their data.\n",
    ">> the scientific paper is obsolete\n",
    "\n",
    "\n",
    "\n",
    "> Two core pieces of the project are an open protocol for interactive computation and an open document format with which to record and share computational ideas. The Jupyter Notebook application builds on these to provide a powerful, interactive, computational environment.\n",
    "Computational thinking will be a modern literacy.\n",
    "\n",
    "The [notebook interface][notebook interface] is a [literate programming][literate programming] environment.\n",
    "\n",
    "It pairs the functionality of word processing software with both the shell and kernel of that notebook's programming language. Millions of people use notebooks interfaces[2] to analyze data for science, journalism, and education.\n",
    "\n",
    "compiler+markup language.\n",
    "\n",
    "There are different interfaces to the notebook.\n",
    "\n",
    "Recently, Project Jupyter was recognized with the ACM award.\n",
    "        \n",
    "Notebooks are a substrate for testing.\n",
    "\n",
    "[computational literacy]: http://licsjournal.org/OJS/index.php/LiCS/article/view/24\n",
    "[Literate computing][literate computing]\n",
    "[computational thinking]: https://www.ncbi.nlm.nih.gov/pmc/articles/PMC2696102/\n",
    "[computational thinking presentation]: https://www.microsoft.com/en-us/research/wp-content/uploads/2012/08/Jeannette_Wing.pdf\n",
    "[data driven journalism]: #\n",
    "\n",
    "\n",
    "[CodeStrates]: https://dl.acm.org/citation.cfm?id=3126642&dl=ACM&coll=DL\n",
    "[literate computing]: http://blog.fperez.org/2013/04/literate-computing-and-computational.html\n",
    "\n",
    "`pidgin` is a literate computing implementation thats uses the __Jupyter__ notebook ecosystem to modify an __IPython__ kernel [^kernels]. Literate computing synthesizes interactive computing with idioms from literate programming.\n",
    "\n",
    "Mutliple targets . Scientific computing takes on many forms. Rich Display\n",
    "\n",
    "### Modern Notebooks\n",
    "\n",
    "\n",
    "\n",
    "An alternative repl to the terminal.\n",
    "\n",
    "computational essays\n",
    "\n",
    "text input output\n",
    "\n",
    "\n",
    "[computational essay]: https://blog.stephenwolfram.com/2017/11/what-is-a-computational-essay/\n",
    "[the first notebook war]: https://yihui.name/en/2018/09/notebook-war/\n",
    "[the scientific paper is obsolete]: https://www.theatlantic.com/science/archive/2018/04/the-scientific-paper-is-obsolete/556676/\n",
    "\n",
    "[acm award]: https://blog.jupyter.org/jupyter-receives-the-acm-software-system-award-d433b0dfe3a2\n",
    "\n",
    "Growth\n",
    "\n",
    "[nbestimate]: https://nbviewer.jupyter.org/github/parente/nbestimate/blob/master/estimate.ipynb\n",
    "\n",
    "Other notebooks\n",
    "\n",
    "[zeppellin]: #\n",
    "[nteract]: #\n",
    "[observable]: #\n",
    "[colab]: #\n",
    "    \n",
    "[1 million notebooks]: https://blog.jupyter.org/we-analyzed-1-million-jupyter-notebooks-now-you-can-too-guest-post-8116a964b536\n",
    "\n",
    "Who uses notebooks.\n",
    "\n",
    "[surveys]: https://github.com/jupyter/surveys\n",
    "\n",
    "[kernel list]: https://github.com/jupyter/jupyter/wiki/Jupyter-kernels\n",
    "        \n",
    "### Jupyter/IPython notebooks\n",
    "\n",
    "[literate programming]: https://en.wikipedia.org/wiki/Literate_programming\n",
    "\n",
    "### Interactive Computing\n",
    "\n",
    "Kernel and shell\n",
    "\n",
    "`IPython` is a tool for [interactive computing][interactive computing]\n",
    "\n",
    "> It is named a shell because it is the outermost layer around the operating system kernel.\n",
    "> > [Shell (computing)][Shell (computing)]\n",
    "\n",
    "[Read–eval–print_loop]: https://en.wikipedia.org/wiki/Read%E2%80%93eval%E2%80%93print_loop\n",
    "[Shell (computing)]: https://en.wikipedia.org/wiki/Shell_(computing)\n",
    "[interactive computing]: https://en.wikipedia.org/wiki/Interactive_computing"
   ]
  },
  {
   "cell_type": "code",
   "execution_count": 6,
   "metadata": {},
   "outputs": [
    {
     "data": {
      "text/html": [
       "<p><a href=\"https://en.wikipedia.org/wiki/Read%E2%80%93eval%E2%80%93print_loop\">repl</a></p>\n"
      ],
      "text/markdown": [
       "[repl][Read–eval–print_loop]"
      ],
      "text/plain": [
       "[repl][Read–eval–print_loop]"
      ]
     },
     "metadata": {},
     "output_type": "display_data"
    }
   ],
   "source": [
    "[repl][Read–eval–print_loop]"
   ]
  },
  {
   "cell_type": "code",
   "execution_count": 7,
   "metadata": {},
   "outputs": [
    {
     "data": {
      "text/html": [
       "<h3>Literate Programming</h3>\n",
       "<p>Knuth's original paper on <a href=\"http://roxygen.org/knuth-literate-programming.pdf\">literate programming</a> describes an approach to writing code for humans, rather than computers.</p>\n",
       "<p>Impteractive declarative.</p>\n",
       "<p>Macros tangle weave</p>\n",
       "<p>Human logic computing logic.</p>\n",
       "<p>The intent of literate computing is different than Literate programming was to export a single document.  Notebooks are for multiple documents.</p>\n",
       "<h4>Tangle</h4>\n",
       "<p><strong>Tangle</strong> refers to the first stage in literate programming. In this stage, ...</p>\n",
       "<p><code>eval</code> <code>exec</code> <code>IPython.get_ipython().run_cell</code></p>\n",
       "<p>explicit statements and expressions</p>\n",
       "<h4>Weave</h4>\n",
       "<p>Rich display system.</p>\n",
       "<p>implicit statements and expressions.</p>\n",
       "<p>data driven journalism.</p>\n",
       "<div class=\"footnotes\">\n",
       "<hr>\n",
       "<ol><li id=\"fn-kernels\"><p>There are many kernels<a href=\"#fnref-kernels\" rev=\"footnote\">&#8617;</a></p></li>\n",
       "</ol>\n",
       "</div>\n"
      ],
      "text/markdown": [
       "### Literate Programming\n",
       "\n",
       "Knuth's original paper on [literate programming][literate programming knuth] describes an approach to writing code for humans, rather than computers.  \n",
       "\n",
       "Impteractive declarative.\n",
       "\n",
       "Macros tangle weave\n",
       "\n",
       "Human logic computing logic.\n",
       "\n",
       "[literate programming]: https://en.wikipedia.org/wiki/Literate_programming\n",
       "[literate programming knuth]: http://roxygen.org/knuth-literate-programming.pdf\n",
       "\n",
       "The intent of literate computing is different than Literate programming was to export a single document.  Notebooks are for multiple documents.\n",
       "\n",
       "#### Tangle\n",
       "\n",
       "__Tangle__ refers to the first stage in literate programming. In this stage, ...\n",
       "\n",
       "`eval` `exec` `IPython.get_ipython().run_cell`\n",
       "\n",
       "explicit statements and expressions\n",
       "\n",
       "#### Weave\n",
       "\n",
       "Rich display system.\n",
       "\n",
       "implicit statements and expressions.\n",
       "\n",
       "\n",
       "data driven journalism.\n",
       "\n",
       "[^kernels]: There are many kernels"
      ],
      "text/plain": [
       "### Literate Programming\n",
       "\n",
       "Knuth's original paper on [literate programming][literate programming knuth] describes an approach to writing code for humans, rather than computers.  \n",
       "\n",
       "Impteractive declarative.\n",
       "\n",
       "Macros tangle weave\n",
       "\n",
       "Human logic computing logic.\n",
       "\n",
       "[literate programming]: https://en.wikipedia.org/wiki/Literate_programming\n",
       "[literate programming knuth]: http://roxygen.org/knuth-literate-programming.pdf\n",
       "\n",
       "The intent of literate computing is different than Literate programming was to export a single document.  Notebooks are for multiple documents.\n",
       "\n",
       "#### Tangle\n",
       "\n",
       "__Tangle__ refers to the first stage in literate programming. In this stage, ...\n",
       "\n",
       "`eval` `exec` `IPython.get_ipython().run_cell`\n",
       "\n",
       "explicit statements and expressions\n",
       "\n",
       "#### Weave\n",
       "\n",
       "Rich display system.\n",
       "\n",
       "implicit statements and expressions.\n",
       "\n",
       "\n",
       "data driven journalism.\n",
       "\n",
       "[^kernels]: There are many kernels"
      ]
     },
     "metadata": {},
     "output_type": "display_data"
    }
   ],
   "source": [
    "### Literate Programming\n",
    "\n",
    "Knuth's original paper on [literate programming][literate programming knuth] describes an approach to writing code for humans, rather than computers.  \n",
    "\n",
    "Impteractive declarative.\n",
    "\n",
    "Macros tangle weave\n",
    "\n",
    "Human logic computing logic.\n",
    "\n",
    "[literate programming]: https://en.wikipedia.org/wiki/Literate_programming\n",
    "[literate programming knuth]: http://roxygen.org/knuth-literate-programming.pdf\n",
    "\n",
    "The intent of literate computing is different than Literate programming was to export a single document.  Notebooks are for multiple documents.\n",
    "\n",
    "#### Tangle\n",
    "\n",
    "__Tangle__ refers to the first stage in literate programming. In this stage, ...\n",
    "\n",
    "`eval` `exec` `IPython.get_ipython().run_cell`\n",
    "\n",
    "explicit statements and expressions\n",
    "\n",
    "#### Weave\n",
    "\n",
    "Rich display system.\n",
    "\n",
    "implicit statements and expressions.\n",
    "\n",
    "\n",
    "data driven journalism.\n",
    "\n",
    "[^kernels]: There are many kernels"
   ]
  },
  {
   "cell_type": "markdown",
   "metadata": {},
   "source": [
    "Kernel and shell\n",
    "\n",
    "IPython is a hackable interactive shell.  It provides a few ways to interface with the kernel\n",
    "\n",
    "do_execute\n",
    "do_inspect\n",
    "`import pdb`\n",
    "do_complete "
   ]
  },
  {
   "cell_type": "code",
   "execution_count": 21,
   "metadata": {},
   "outputs": [],
   "source": [
    "## `pidgin` is an implementation.\n",
    "\n",
    "`pidgin` is an implementation of literate computing in `IPython`; it uses __Markdown__ as a markup language and `IPython` flavored __Python__ as a kernel language.\n",
    "\n",
    "ciombing python and markdown\n",
    "\n",
    "\n",
    "\n",
    "A [literate computing][literate computing] implementation will:\n",
    "    \n",
    "* Choose a literate source language.\n",
    "* Define steps to tangle the literate source.\n",
    "* Define how to weave and display the literate source.\n",
    "    \n",
    "\n",
    "The `pidgin` implementation chooses:\n",
    "* [__Markdown__][markdown] for the literate source.\n",
    "* Tangles __Markdown__ block code, footnote definitions, and reference links to python statements and expression.  All other blocks statements are captured as string.\n",
    "* Weaves __Markdown__ \n",
    "\n",
    "`pidgin` adds doctests to the __Markdown__ grammar.\n",
    "\n",
    "Other implementats\n",
    "[rmarkdown]: https://rmarkdown.rstudio.com/\n",
    "[matlab markup]: https://www.mathworks.com/help/matlab/matlab_prog/marking-up-matlab-comments-for-publishing.html\n",
    "https://media.readthedocs.org/pdf/sphinxtechnicalwriting/latest/sphinxtechnicalwriting.pdf\n",
    "* [literate coffeescript][literate coffeescript]\n",
    "\n",
    "[literate coffeescript]: https://coffeescript.org/#literate\n",
    "        \n",
    ">>> assert 0, \"links\"\n",
    "\n",
    "[markdown]: #\n",
    "[Sphinx techincal writing]: #"
   ]
  },
  {
   "cell_type": "markdown",
   "metadata": {},
   "source": [
    "## `pidgin`: A literate computing shell for `IPython`"
   ]
  },
  {
   "cell_type": "code",
   "execution_count": 39,
   "metadata": {},
   "outputs": [
    {
     "data": {
      "text/html": [
       "<p><code>pidgin</code> is a modified literate computing <code>IPython.core.interactiveshell</code> that accepts <strong>Markdown</strong> as a markup language for both input and output source.  The <code>IPython.core.interactiveshell</code> is highly configurable.</p>\n",
       "<blockquote><p>The interactive shell is exposed autoiatcally in IPython.</p>\n",
       "<code style=\"\" title=\"Finding tests in __main__&#013;Trying:&#013;    assert isinstance(get_ipython(), IPython.core.interactiveshell.InteractiveShell)&#013;&#013;Expecting nothing&#013;ok\">>>> assert isinstance(get_ipython(), IPython.core.interactiveshell.InteractiveShell)</code>\n",
       "</blockquote>\n"
      ],
      "text/markdown": [
       "`pidgin` is a modified literate computing `IPython.core.interactiveshell` that accepts __Markdown__ as a markup language for both input and output source.  The `IPython.core.interactiveshell` is highly configurable.\n",
       "\n",
       "> The interactive shell is exposed autoiatcally in IPython.\n",
       "> >>> assert isinstance(get_ipython(), IPython.core.interactiveshell.InteractiveShell)"
      ],
      "text/plain": [
       "`pidgin` is a modified literate computing `IPython.core.interactiveshell` that accepts __Markdown__ as a markup language for both input and output source.  The `IPython.core.interactiveshell` is highly configurable.\n",
       "\n",
       "> The interactive shell is exposed autoiatcally in IPython.\n",
       "> >>> assert isinstance(get_ipython(), IPython.core.interactiveshell.InteractiveShell)"
      ]
     },
     "metadata": {},
     "output_type": "display_data"
    }
   ],
   "source": [
    "`pidgin` is a modified literate computing `IPython.core.interactiveshell` that accepts __Markdown__ as a markup language for both input and output source.  \n",
    "\n",
    "> The interactive shell is exposed autoiatcally in IPython.\n",
    "> >>> assert isinstance(get_ipython(), IPython.core.interactiveshell.InteractiveShell)"
   ]
  },
  {
   "cell_type": "code",
   "execution_count": 45,
   "metadata": {},
   "outputs": [
    {
     "data": {
      "text/html": [
       "<p>The <code>IPython.core.interactiveshell</code> is highly configurable.</p>\n",
       "<code style=\"white-space: pre;\" title=\"\">def load_ipython_extension(ip):\n",
       "</code><p><code>load_ipython_extension</code> enables the <strong>tangle</strong> & <strong>weave</strong> stages.<code>pidgin</code>.</p>\n",
       "<code style=\"white-space: pre;\" title=\"\">    %reload_ext pidgin.tangle\n",
       "    %reload_ext pidgin.weave\n",
       "    %reload_ext pidgin.inspector</code>"
      ],
      "text/markdown": [
       "The `IPython.core.interactiveshell` is highly configurable.\n",
       "\n",
       "[extensions]: https://ipython.readthedocs.io/en/stable/config/extensions/\n",
       "\n",
       "    def load_ipython_extension(ip):\n",
       "`load_ipython_extension` enables the __tangle__ & __weave__ stages.`pidgin`.\n",
       "\n",
       "        %reload_ext pidgin.tangle\n",
       "        %reload_ext pidgin.weave\n",
       "        %reload_ext pidgin.inspector"
      ],
      "text/plain": [
       "The `IPython.core.interactiveshell` is highly configurable.\n",
       "\n",
       "[extensions]: https://ipython.readthedocs.io/en/stable/config/extensions/\n",
       "\n",
       "    def load_ipython_extension(ip):\n",
       "`load_ipython_extension` enables the __tangle__ & __weave__ stages.`pidgin`.\n",
       "\n",
       "        %reload_ext pidgin.tangle\n",
       "        %reload_ext pidgin.weave\n",
       "        %reload_ext pidgin.inspector"
      ]
     },
     "metadata": {},
     "output_type": "display_data"
    }
   ],
   "source": [
    "The `IPython.core.interactiveshell` is highly configurable.\n",
    "\n",
    "[extensions]: https://ipython.readthedocs.io/en/stable/config/extensions/\n",
    "\n",
    "    def load_ipython_extension(ip):\n",
    "`load_ipython_extension` enables the __tangle__ & __weave__ stages.`pidgin`.\n",
    "\n",
    "        %reload_ext pidgin.tangle\n",
    "        %reload_ext pidgin.weave\n",
    "        %reload_ext pidgin.inspector"
   ]
  },
  {
   "cell_type": "code",
   "execution_count": 46,
   "metadata": {},
   "outputs": [
    {
     "data": {
      "text/html": [
       "<code style=\"white-space: pre;\" title=\"\">def unload_ipython_extension(ip):\n",
       "</code><p><code>pidgin.unload_ipython_extension</code> disables <code>pidgin</code>.</p>\n",
       "<code style=\"white-space: pre;\" title=\"\">    %unload_ext pidgin.tangle\n",
       "    %unload_ext pidgin.weave\n",
       "    %unload_ext pidgin.inspector</code>"
      ],
      "text/markdown": [
       "    def unload_ipython_extension(ip):\n",
       "`pidgin.unload_ipython_extension` disables `pidgin`.\n",
       "\n",
       "        %unload_ext pidgin.tangle\n",
       "        %unload_ext pidgin.weave\n",
       "        %unload_ext pidgin.inspector"
      ],
      "text/plain": [
       "    def unload_ipython_extension(ip):\n",
       "`pidgin.unload_ipython_extension` disables `pidgin`.\n",
       "\n",
       "        %unload_ext pidgin.tangle\n",
       "        %unload_ext pidgin.weave\n",
       "        %unload_ext pidgin.inspector"
      ]
     },
     "metadata": {},
     "output_type": "display_data"
    }
   ],
   "source": [
    "    def unload_ipython_extension(ip):\n",
    "`pidgin.unload_ipython_extension` disables `pidgin`.\n",
    "\n",
    "        %unload_ext pidgin.tangle\n",
    "        %unload_ext pidgin.weave\n",
    "        %unload_ext pidgin.inspector"
   ]
  },
  {
   "cell_type": "code",
   "execution_count": 48,
   "metadata": {},
   "outputs": [
    {
     "data": {
      "text/html": [
       "<h3>Explicit and Implicit Output in Computational Essays</h3>\n",
       "<p>Notebook documents are data.</p>\n"
      ],
      "text/markdown": [
       "### Explicit and Implicit Output in Computational Essays\n",
       "\n",
       "Notebook documents are data."
      ],
      "text/plain": [
       "### Explicit and Implicit Output in Computational Essays\n",
       "\n",
       "Notebook documents are data."
      ]
     },
     "metadata": {},
     "output_type": "display_data"
    }
   ],
   "source": [
    "### Explicit and Implicit Output in Computational Essays\n",
    "\n",
    "Notebook documents are data."
   ]
  },
  {
   "cell_type": "code",
   "execution_count": 13,
   "metadata": {},
   "outputs": [
    {
     "data": {
      "text/html": [
       "<h2>Parts of the notebook</h2>\n",
       "<p><code>import nbformat</code>, notebooks are verified using the <code>nbformat</code> module.</p>\n",
       "<ul>\n",
       "<li><p>Notebook</p>\n",
       "<ul>\n",
       "<li><p>Code</p>\n",
       "</li>\n",
       "<li><p>Markdown</p>\n",
       "</li>\n",
       "<li><p>Raw</p>\n",
       "</li>\n",
       "</ul>\n",
       "</li>\n",
       "</ul>\n",
       "<p><code>import jsonschema</code> <code>nbformat.validate</code> for different versions of the notebook <code>nbformat.v4, nbformat.v3, nbformat.v2 and nbformat.v1</code></p>\n",
       "<h2>Parts of IPython</h2>\n",
       "<p><a href=\"https://ipython.readthedocs.io/en/stable/interactive/python-ipython-diff.html\">IPython flavor </a></p>\n",
       "<p>Architecture</p>\n",
       "<p>Shell and Kernel</p>\n"
      ],
      "text/markdown": [
       "## Parts of the notebook\n",
       "\n",
       "`import nbformat`, notebooks are verified using the `nbformat` module.\n",
       "\n",
       "* Notebook\n",
       "    * Code\n",
       "    * Markdown\n",
       "    * Raw\n",
       "\n",
       "`import jsonschema` `nbformat.validate` for different versions of the notebook `nbformat.v4, nbformat.v3, nbformat.v2 and nbformat.v1`\n",
       "\n",
       "## Parts of IPython\n",
       "\n",
       "[IPython flavor ][python-ipython-diff]\n",
       "\n",
       "[python-ipython-diff]: https://ipython.readthedocs.io/en/stable/interactive/python-ipython-diff.html\n",
       "\n",
       "Architecture\n",
       "\n",
       "Shell and Kernel\n",
       "\n",
       "[nbformat]: https://github.com/jupyter/nbformat\n",
       "[nbformat descriotion]: https://nbformat.readthedocs.io/en/latest/format_description.html#top-level-structure"
      ],
      "text/plain": [
       "## Parts of the notebook\n",
       "\n",
       "`import nbformat`, notebooks are verified using the `nbformat` module.\n",
       "\n",
       "* Notebook\n",
       "    * Code\n",
       "    * Markdown\n",
       "    * Raw\n",
       "\n",
       "`import jsonschema` `nbformat.validate` for different versions of the notebook `nbformat.v4, nbformat.v3, nbformat.v2 and nbformat.v1`\n",
       "\n",
       "## Parts of IPython\n",
       "\n",
       "[IPython flavor ][python-ipython-diff]\n",
       "\n",
       "[python-ipython-diff]: https://ipython.readthedocs.io/en/stable/interactive/python-ipython-diff.html\n",
       "\n",
       "Architecture\n",
       "\n",
       "Shell and Kernel\n",
       "\n",
       "[nbformat]: https://github.com/jupyter/nbformat\n",
       "[nbformat descriotion]: https://nbformat.readthedocs.io/en/latest/format_description.html#top-level-structure"
      ]
     },
     "metadata": {},
     "output_type": "display_data"
    }
   ],
   "source": [
    "## Parts of the notebook\n",
    "\n",
    "`import nbformat`, notebooks are verified using the `nbformat` module.\n",
    "\n",
    "* Notebook\n",
    "    * Code\n",
    "    * Markdown\n",
    "    * Raw\n",
    "\n",
    "`import jsonschema` `nbformat.validate` for different versions of the notebook `nbformat.v4, nbformat.v3, nbformat.v2 and nbformat.v1`\n",
    "\n",
    "## Parts of IPython\n",
    "\n",
    "[IPython flavor ][python-ipython-diff]\n",
    "\n",
    "[python-ipython-diff]: https://ipython.readthedocs.io/en/stable/interactive/python-ipython-diff.html\n",
    "\n",
    "Architecture\n",
    "\n",
    "Shell and Kernel\n",
    "\n",
    "[nbformat]: https://github.com/jupyter/nbformat\n",
    "[nbformat descriotion]: https://nbformat.readthedocs.io/en/latest/format_description.html#top-level-structure"
   ]
  },
  {
   "cell_type": "code",
   "execution_count": 14,
   "metadata": {},
   "outputs": [
    {
     "data": {
      "text/html": [
       "<h3>A limitation of the standard notebook interface.</h3>\n",
       "<p>There is no implicit way to obey the hierarchy of images and captions.</p>\n",
       "<p>This must be acheived explicitly.  Explicit display code does not enhance the narrative.</p>\n"
      ],
      "text/markdown": [
       "### A limitation of the standard notebook interface.\n",
       "\n",
       "There is no implicit way to obey the hierarchy of images and captions.\n",
       "\n",
       "This must be acheived explicitly.  Explicit display code does not enhance the narrative.\n",
       "\n",
       "[caption ordering]: https://tex.stackexchange.com/questions/3243/why-should-a-table-caption-be-placed-above-the-table"
      ],
      "text/plain": [
       "### A limitation of the standard notebook interface.\n",
       "\n",
       "There is no implicit way to obey the hierarchy of images and captions.\n",
       "\n",
       "This must be acheived explicitly.  Explicit display code does not enhance the narrative.\n",
       "\n",
       "[caption ordering]: https://tex.stackexchange.com/questions/3243/why-should-a-table-caption-be-placed-above-the-table"
      ]
     },
     "metadata": {},
     "output_type": "display_data"
    }
   ],
   "source": [
    "### A limitation of the standard notebook interface.\n",
    "\n",
    "There is no implicit way to obey the hierarchy of images and captions.\n",
    "\n",
    "This must be acheived explicitly.  Explicit display code does not enhance the narrative.\n",
    "\n",
    "[caption ordering]: https://tex.stackexchange.com/questions/3243/why-should-a-table-caption-be-placed-above-the-table"
   ]
  }
 ],
 "metadata": {
  "kernelspec": {
   "display_name": "p6",
   "language": "python",
   "name": "other-env"
  },
  "language_info": {
   "codemirror_mode": {
    "name": "ipython",
    "version": 3
   },
   "file_extension": ".py",
   "mimetype": "text/x-python",
   "name": "python",
   "nbconvert_exporter": "python",
   "pygments_lexer": "ipython3",
   "version": "3.6.3"
  }
 },
 "nbformat": 4,
 "nbformat_minor": 2
}
