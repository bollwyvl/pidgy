{
 "cells": [
  {
   "cell_type": "code",
   "execution_count": 1,
   "metadata": {},
   "outputs": [],
   "source": [
    "    try:\n",
    "        from .. import specifications\n",
    "    except:\n",
    "        from pidgin import specifications"
   ]
  },
  {
   "cell_type": "code",
   "execution_count": null,
   "metadata": {},
   "outputs": [],
   "source": [
    "    def load_ipython_extension(shell):\n",
    "        specifications.emojis.load_ipython_extension(shell)\n",
    "        specifications.colors.load_ipython_extension(shell)\n",
    "        specifications.template.load_ipython_extension(shell)\n",
    "    def unload_ipython_extension(shell):\n",
    "        specifications.emojis.unload_ipython_extension(shell)\n",
    "        specifications.colors.unload_ipython_extension(shell)\n",
    "        specifications.template.unload_ipython_extension(shell)\n",
    "        "
   ]
  }
 ],
 "metadata": {
  "kernelspec": {
   "display_name": "p6",
   "language": "python",
   "name": "other-env"
  },
  "language_info": {
   "codemirror_mode": {
    "name": "ipython",
    "version": 3
   },
   "file_extension": ".py",
   "mimetype": "text/x-python",
   "name": "python",
   "nbconvert_exporter": "python",
   "pygments_lexer": "ipython3",
   "version": "3.6.8"
  }
 },
 "nbformat": 4,
 "nbformat_minor": 2
}
