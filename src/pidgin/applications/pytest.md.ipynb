{
 "cells": [
  {
   "cell_type": "markdown",
   "metadata": {},
   "source": [
    "[`pidgin.testing`](testing.md.ipynb) provides discussion and tools for __testing__ notebooks."
   ]
  },
  {
   "cell_type": "code",
   "execution_count": 1,
   "metadata": {},
   "outputs": [],
   "source": [
    "    from importnb.utils.pytest_importnb import AlternativeModule, AlternativeSourceText"
   ]
  },
  {
   "cell_type": "code",
   "execution_count": 2,
   "metadata": {},
   "outputs": [],
   "source": [
    "    from pidgin import tangle\n",
    "    from pidgin.applications import loaders"
   ]
  },
  {
   "cell_type": "code",
   "execution_count": 3,
   "metadata": {},
   "outputs": [],
   "source": [
    "    if __name__ == '__main__':\n",
    "        %reload_ext pidgin"
   ]
  },
  {
   "cell_type": "code",
   "execution_count": 4,
   "metadata": {},
   "outputs": [],
   "source": [
    "    class PidginModule(AlternativeModule): loader = tangle.Pidgin\n",
    "    class MarkdownModule(AlternativeModule): loader = loaders.MarkdownImporter\n",
    "    class PidginTests(metaclass=AlternativeSourceText): modules = PidginModule, MarkdownModule\n",
    "    pytest_collect_file = PidginTests.__call__"
   ]
  },
  {
   "cell_type": "raw",
   "metadata": {},
   "source": [
    ">>> assert 0, \"Currently it is not possible to test dynamically generated outputs.  eneter robot lab.\"\n",
    ">>> assert 0, \"Hypothesis\""
   ]
  }
 ],
 "metadata": {
  "kernelspec": {
   "display_name": "p6",
   "language": "python",
   "name": "other-env"
  },
  "language_info": {
   "codemirror_mode": {
    "name": "ipython",
    "version": 3
   },
   "file_extension": ".py",
   "mimetype": "text/x-python",
   "name": "python",
   "nbconvert_exporter": "python",
   "pygments_lexer": "ipython3",
   "version": "3.6.8"
  }
 },
 "nbformat": 4,
 "nbformat_minor": 2
}
