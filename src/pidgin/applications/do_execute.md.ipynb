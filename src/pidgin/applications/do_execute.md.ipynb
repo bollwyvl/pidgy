{
 "cells": [
  {
   "cell_type": "markdown",
   "metadata": {},
   "source": [
    "The __tangle__ step in literate programming converts text in the specification language to the source language; the source language must be valid to the object language.  [`pidgin.tangle`](tangle.ipynb) transpiles __Markdown__ to valid `IPython` flavored __Python__ using the `IPython` configuration system.\n",
    "\n",
    "Literate `pidgin` documents are reusable as __Python__ modules, documentation, and tests."
   ]
  },
  {
   "cell_type": "code",
   "execution_count": 1,
   "metadata": {},
   "outputs": [
    {
     "name": "stdout",
     "output_type": "stream",
     "text": [
      "\n"
     ]
    }
   ],
   "source": [
    "    import ast, IPython, re, functools, traitlets, doctest, textwrap, mistune, types, importnb, typing as t\n",
    "    if __name__ == '__main__': \n",
    "        %reload_ext pidgin"
   ]
  },
  {
   "cell_type": "code",
   "execution_count": 2,
   "metadata": {},
   "outputs": [],
   "source": [
    "    class Capture:\n",
    "        format = None\n",
    "        def __init__(Capture, code): Capture.format = IPython.get_ipython().display_formatter.format(code)     \n",
    "        def _repr_mimebundle_(Capture, include=None, exclude=None): return Capture.format"
   ]
  },
  {
   "cell_type": "code",
   "execution_count": 3,
   "metadata": {},
   "outputs": [],
   "source": [
    "    def define_object(line, code=\"\"):  IPython.get_ipython().user_ns[line] = Capture(code)"
   ]
  },
  {
   "cell_type": "code",
   "execution_count": 7,
   "metadata": {},
   "outputs": [],
   "source": [
    "    def load_ipython_extension(shell):\n",
    "        unload_ipython_extension(shell)\n",
    "        shell.input_transformer_manager.cleanup_transforms.insert(0, tangle.PidginTangle().instance())\n",
    "        shell.ast_transformers.append(ReturnYieldDisplay())\n",
    "        shell.register_magic_function(tangle.define_object, 'cell', 'object')\n",
    "        \n",
    "        for i, transformer in enumerate(shell.input_transformers_cleanup):\n",
    "            try:\n",
    "                if transformer.initial_re.pattern[1:4] == '>>>':\n",
    "                    shell.input_transformers_cleanup.pop(i)\n",
    "                    break\n",
    "            except: ...\n",
    "                            \n",
    "        try: IPython.core.magic.register_cell_magic(markdown_to_python)\n",
    "        except: shell.log.error(\"Unable to load the pidgin.tangle cell magic.\")"
   ]
  },
  {
   "cell_type": "code",
   "execution_count": 10,
   "metadata": {},
   "outputs": [],
   "source": [
    "    def unload_ipython_extension(shell):\n",
    "        shell.input_transformer_manager.cleanup_transforms = [\n",
    "            object for object in shell.input_transformer_manager.cleanup_transforms\n",
    "            if not isinstance(object, tangle.PidginTangle)]\n"
   ]
  }
 ],
 "metadata": {
  "kernelspec": {
   "display_name": "p6",
   "language": "python",
   "name": "other-env"
  },
  "language_info": {
   "codemirror_mode": {
    "name": "ipython",
    "version": 3
   },
   "file_extension": ".py",
   "mimetype": "text/x-python",
   "name": "python",
   "nbconvert_exporter": "python",
   "pygments_lexer": "ipython3",
   "version": "3.6.8"
  }
 },
 "nbformat": 4,
 "nbformat_minor": 2
}
