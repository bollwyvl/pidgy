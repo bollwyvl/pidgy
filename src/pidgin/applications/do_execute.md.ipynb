{
 "cells": [
  {
   "cell_type": "code",
   "execution_count": 1,
   "metadata": {},
   "outputs": [],
   "source": [
    "    import ast, IPython, importnb, re, functools, '' traitlets, doctest, textwrap, mistune, types, importnb, typing as t\n",
    "    if __name__ == '__main__':  \n",
    "        %reload_ext pidgin"
   ]
  },
  {
   "cell_type": "code",
   "execution_count": 2,
   "metadata": {},
   "outputs": [],
   "source": [
    "    try:\n",
    "        from .. import tangle, weave\n",
    "    except:\n",
    "        from pidgin import tangle, weave\n"
   ]
  },
  {
   "cell_type": "code",
   "execution_count": 3,
   "metadata": {},
   "outputs": [],
   "source": [
    "    def define_object(line, code=\"\"):  IPython.get_ipython().user_ns[line] = Capture(code)"
   ]
  },
  {
   "cell_type": "code",
   "execution_count": 4,
   "metadata": {},
   "outputs": [],
   "source": [
    "    class Capture:\n",
    "        format = None\n",
    "        def __init__(Capture, code): Capture.format = IPython.get_ipython().display_formatter.format(code)     \n",
    "        def _repr_mimebundle_(Capture, include=None, exclude=None): return Capture.format"
   ]
  },
  {
   "cell_type": "code",
   "execution_count": 5,
   "metadata": {},
   "outputs": [],
   "source": [
    "    def load_ipython_extension(shell):\n",
    "        tangle.load_ipython_extension(shell)\n",
    "        weave.load_ipython_extension(shell)\n",
    "        shell.register_magic_function(define_object, 'cell', 'object')\n",
    "        "
   ]
  },
  {
   "cell_type": "code",
   "execution_count": 6,
   "metadata": {},
   "outputs": [],
   "source": [
    "    def unload_ipython_extension(shell):\n",
    "        tangle.unload_ipython_extension(shell)\n",
    "        weave.unload_ipython_extension(shell)"
   ]
  }
 ],
 "metadata": {
  "kernelspec": {
   "display_name": "p6",
   "language": "python",
   "name": "other-env"
  },
  "language_info": {
   "codemirror_mode": {
    "name": "ipython",
    "version": 3
   },
   "file_extension": ".py",
   "mimetype": "text/x-python",
   "name": "python",
   "nbconvert_exporter": "python",
   "pygments_lexer": "ipython3",
   "version": "3.6.8"
  }
 },
 "nbformat": 4,
 "nbformat_minor": 2
}
