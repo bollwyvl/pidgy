{
 "cells": [
  {
   "cell_type": "code",
   "execution_count": 1,
   "metadata": {},
   "outputs": [],
   "source": [
    "    if __name__ == '__main__':\n",
    "        %reload_ext pidgin"
   ]
  },
  {
   "cell_type": "code",
   "execution_count": 2,
   "metadata": {},
   "outputs": [],
   "source": [
    "    import textwrap, typing as t\n",
    "\n",
    "    import IPython, tokenize, doctest, types, itertools, operator, ast, importnb\n",
    "    from pidgin import tangle\n",
    "        \n",
    "    from pidgin.specifications import testing, transform_cell\n",
    "    "
   ]
  },
  {
   "cell_type": "code",
   "execution_count": 3,
   "metadata": {},
   "outputs": [],
   "source": [
    "    def line_row_col(str, int: \"Cursor Position\"):\n",
    "        line, offset = IPython.utils.tokenutil.line_at_cursor(str, int)\n",
    "        assert offset <= int\n",
    "        row = len(str[:offset].splitlines())+1\n",
    "        col = int - offset\n",
    "        return line, row, col "
   ]
  },
  {
   "cell_type": "code",
   "execution_count": 4,
   "metadata": {},
   "outputs": [],
   "source": [
    "    def get_example(str, row):\n",
    "        finder = doctest.DocTestFinder()\n",
    "        for test in finder.find(str, ''):\n",
    "            for example in test.examples:\n",
    "                if example.lineno < row <= (example.lineno + len(example.source.splitlines())): \n",
    "                    test.examples = [example]\n",
    "                    return test"
   ]
  },
  {
   "cell_type": "code",
   "execution_count": 5,
   "metadata": {},
   "outputs": [],
   "source": [
    "    def get_node(str, row, _node=None):\n",
    "        for node in ast.parse(str).body:\n",
    "            if node.lineno-1 > row: return _node\n",
    "            _node = node\n",
    "        return node"
   ]
  },
  {
   "cell_type": "code",
   "execution_count": 6,
   "metadata": {},
   "outputs": [],
   "source": [
    "    def inline_code(line, col):\n",
    "        open, input = False, \"\"\n",
    "        for token in IPython.utils.tokenutil.generate_tokens(__import__('io').StringIO(line).readline):\n",
    "            if token.end[1] > col:\n",
    "                if token.string == '`' and open: break\n",
    "            if token.string == '`': \n",
    "                open = not open\n",
    "            else:\n",
    "                if open: input += token.string\n",
    "                else: input = ''\n",
    "            \n",
    "        return input"
   ]
  },
  {
   "cell_type": "code",
   "execution_count": 7,
   "metadata": {},
   "outputs": [],
   "source": [
    "    shell = get_ipython()"
   ]
  },
  {
   "cell_type": "code",
   "execution_count": 8,
   "metadata": {},
   "outputs": [],
   "source": [
    "    def display_Str(str):\n",
    "        with shell.weave as tmp: \n",
    "            return tmp.run_cell(str)"
   ]
  },
  {
   "cell_type": "code",
   "execution_count": 9,
   "metadata": {},
   "outputs": [],
   "source": [
    "    def catch(func, *args, **kwargs):\n",
    "        with IPython.utils.capture.capture_output() as out:\n",
    "            result = func(*args, **kwargs)\n",
    "        if out.outputs:\n",
    "            return out.outputs[0].data\n",
    "        if out.stdout.strip():\n",
    "            return {'text/plain': out.stdout}\n",
    "        \n",
    "        if out.stderr.strip():\n",
    "            return {'text/plain': out.stderr}"
   ]
  },
  {
   "cell_type": "code",
   "execution_count": 10,
   "metadata": {},
   "outputs": [],
   "source": [
    "    def dispatch_inspector(str, int: \"Cursor position\"):\n",
    "        line, row, col  = line_row_col(str, int)\n",
    "        node = get_node(transform_cell.markdown_to_python(str), row)\n",
    "        shell = IPython.get_ipython()\n",
    "        if isinstance(node, ast.Expr) and isinstance(node.value, ast.Str):\n",
    "            if '>>>' in str:\n",
    "                test = get_example(str, row)\n",
    "                if test: return catch(testing.run_test, test, shell.test) or {'text/plain': test.examples[0].source}\n",
    "            inline = inline_code(line, col)\n",
    "            if inline: return catch(shell.weave.run_literal, inline) or {'text/plain': inline}\n",
    "            return catch(display_Str, line.strip() and node.value.s or str)\n",
    "        return None"
   ]
  },
  {
   "cell_type": "code",
   "execution_count": 11,
   "metadata": {},
   "outputs": [],
   "source": [
    "     def do_inspect(kernel, code, cursor_pos, detail_level=0):\n",
    "        reply_content = {'status' : 'ok'}\n",
    "        reply_content['data'] = data = dispatch_inspector(code, cursor_pos) or {}\n",
    "        reply_content['metadata'] = {}\n",
    "        reply_content['found'] = bool(data)\n",
    "        if reply_content['found']: \n",
    "            if not kernel.shell.enable_html_pager:  reply_content['data'].pop('text/html', None)\n",
    "            return reply_content\n",
    "        return type(kernel).do_inspect(kernel, code, cursor_pos, 1)\n"
   ]
  },
  {
   "cell_type": "code",
   "execution_count": 12,
   "metadata": {},
   "outputs": [],
   "source": [
    "    def load_ipython_extension(shell):\n",
    "        shell.kernel.do_inspect = types.MethodType(do_inspect, shell.kernel)\n",
    "        \n",
    "    def unload_ipython_extension(shell):\n",
    "        shell.kernel.do_inspect = types.MethodType(type(shell.kernel).do_inspect, shell.kernel)\n",
    "    __name__ == '__main__' and load_ipython_extension(shell)"
   ]
  }
 ],
 "metadata": {
  "kernelspec": {
   "display_name": "p6",
   "language": "python",
   "name": "other-env"
  },
  "language_info": {
   "codemirror_mode": {
    "name": "ipython",
    "version": 3
   },
   "file_extension": ".py",
   "mimetype": "text/x-python",
   "name": "python",
   "nbconvert_exporter": "python",
   "pygments_lexer": "ipython3",
   "version": "3.6.8"
  }
 },
 "nbformat": 4,
 "nbformat_minor": 2
}
