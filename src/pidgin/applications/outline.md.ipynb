{
 "cells": [
  {
   "cell_type": "code",
   "execution_count": 1,
   "metadata": {},
   "outputs": [
    {
     "name": "stdout",
     "output_type": "stream",
     "text": [
      "<module 'pidgin.readme' from '/Users/tonyfast/pidgin/src/pidgin/readme.md.ipynb'>\n"
     ]
    }
   ],
   "source": [
    "from pidgin.readme import *"
   ]
  },
  {
   "cell_type": "code",
   "execution_count": 3,
   "metadata": {},
   "outputs": [],
   "source": [
    "    import pidgin\n",
    "    from pathlib import Path"
   ]
  },
  {
   "cell_type": "code",
   "execution_count": 7,
   "metadata": {},
   "outputs": [
    {
     "name": "stdout",
     "output_type": "stream",
     "text": [
      "/Users/tonyfast/pidgin/src/pidgin/ast_transformers.md.ipynb\n",
      "/Users/tonyfast/pidgin/src/pidgin/kernel.md.ipynb\n",
      "/Users/tonyfast/pidgin/src/pidgin/loaders.md.ipynb\n",
      "/Users/tonyfast/pidgin/src/pidgin/macros.md.ipynb\n",
      "/Users/tonyfast/pidgin/src/pidgin/outline.md.ipynb\n",
      "/Users/tonyfast/pidgin/src/pidgin/publishing.md.ipynb\n",
      "/Users/tonyfast/pidgin/src/pidgin/readme.md.ipynb\n",
      "/Users/tonyfast/pidgin/src/pidgin/references.md.ipynb\n",
      "/Users/tonyfast/pidgin/src/pidgin/shell.md.ipynb\n",
      "/Users/tonyfast/pidgin/src/pidgin/tangle.ipynb\n",
      "/Users/tonyfast/pidgin/src/pidgin/testing.md.ipynb\n",
      "/Users/tonyfast/pidgin/src/pidgin/weave.md.ipynb\n"
     ]
    }
   ],
   "source": [
    "    for file in (Path(pidgin.__file__).parent.glob('*.ipynb')):\n",
    "        print(file)"
   ]
  },
  {
   "cell_type": "code",
   "execution_count": null,
   "metadata": {},
   "outputs": [],
   "source": []
  }
 ],
 "metadata": {
  "kernelspec": {
   "display_name": "p6",
   "language": "python",
   "name": "other-env"
  },
  "language_info": {
   "codemirror_mode": {
    "name": "ipython",
    "version": 3
   },
   "file_extension": ".py",
   "mimetype": "text/x-python",
   "name": "python",
   "nbconvert_exporter": "python",
   "pygments_lexer": "ipython3",
   "version": "3.6.8"
  }
 },
 "nbformat": 4,
 "nbformat_minor": 2
}
