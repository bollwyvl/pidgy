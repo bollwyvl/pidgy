{
 "cells": [
  {
   "cell_type": "markdown",
   "metadata": {},
   "source": [
    "The __tangle__ step in literate programming converts text in the specification language to the source language; the source language must be valid to the object language.  [`pidgin.tangle`](tangle.ipynb) transpiles __Markdown__ to valid `IPython` flavored __Python__ using the `IPython` configuration system.\n",
    "\n",
    "Literate `pidgin` documents are reusable as __Python__ modules, documentation, and tests."
   ]
  },
  {
   "cell_type": "markdown",
   "metadata": {},
   "source": [
    "## IPython configuration."
   ]
  },
  {
   "cell_type": "code",
   "execution_count": 1,
   "metadata": {},
   "outputs": [],
   "source": [
    "    import importnb.utils.pytest_importnb"
   ]
  },
  {
   "cell_type": "code",
   "execution_count": 2,
   "metadata": {},
   "outputs": [],
   "source": [
    "    import ast, IPython, importnb, nbformat\n",
    "    with importnb.Notebook():\n",
    "        from pidgin import tangle"
   ]
  },
  {
   "cell_type": "code",
   "execution_count": 3,
   "metadata": {},
   "outputs": [],
   "source": [
    "    __all__ = \"PidginMarkdown ParameterizeMarkdown PidginWeave PidginParameterize\".split()#ParameterizeWeave"
   ]
  },
  {
   "cell_type": "markdown",
   "metadata": {},
   "source": [
    "`MarkdownImporter` imports __Markdown__ files are source.  By default they recieve a Markdown repr.\n",
    "\n",
    "A markdown file is a notebook with one cell."
   ]
  },
  {
   "cell_type": "code",
   "execution_count": 4,
   "metadata": {},
   "outputs": [],
   "source": [
    "    def visit(PidginMixin, node): \n",
    "        from ..specifications import json, emojis, yaml, transform_ast\n",
    "        \"\"\"These have to be applied outer most first.\"\"\"\n",
    "        for visitor in reversed((\n",
    "            yaml.Yaml, json.Expand, emojis.Emojize, transform_ast.ReturnYieldDisplay, json.Pointer, \n",
    "        )): node = visitor().visit(node)\n",
    "        return node\n",
    "    tangle.PidginMixin.visit = visit"
   ]
  },
  {
   "cell_type": "code",
   "execution_count": 5,
   "metadata": {},
   "outputs": [],
   "source": [
    "    class MarkdownMixin:\n",
    "        extensions = '.md',\n",
    "        def get_data(MarkdownMixin, path): return MarkdownMixin.code(MarkdownMixin.decode())\n",
    "        def exec_module(MarkdownMixin, module):\n",
    "            super().exec_module(module)\n",
    "            module._ipython_display_ = lambda: IPython.display.display(IPython.display.Markdown(filename=module.__file__))"
   ]
  },
  {
   "cell_type": "code",
   "execution_count": 6,
   "metadata": {},
   "outputs": [],
   "source": [
    "    class MarkdownImporter(MarkdownMixin, tangle.PidginMixin, importnb.Notebook):  ..."
   ]
  },
  {
   "cell_type": "code",
   "execution_count": 7,
   "metadata": {},
   "outputs": [],
   "source": [
    "    class PidginMarkdown(MarkdownMixin, tangle.PidginMixin, importnb.Notebook):  ..."
   ]
  },
  {
   "cell_type": "markdown",
   "metadata": {},
   "source": [
    "# Parameterized loader"
   ]
  },
  {
   "cell_type": "code",
   "execution_count": 8,
   "metadata": {},
   "outputs": [],
   "source": [
    "    class ParameterizeMarkdown(MarkdownMixin, tangle.PidginMixin, importnb.Parameterize):  ..."
   ]
  },
  {
   "cell_type": "code",
   "execution_count": 9,
   "metadata": {},
   "outputs": [],
   "source": [
    "    class PidginParameterize(tangle.PidginMixin, importnb.Parameterize): ..."
   ]
  },
  {
   "cell_type": "markdown",
   "metadata": {},
   "source": [
    "Command line"
   ]
  },
  {
   "cell_type": "code",
   "execution_count": 10,
   "metadata": {},
   "outputs": [],
   "source": [
    "    if importnb.ipython_extension.IPYTHON_MAIN():\n",
    "        Pidgin, Markdown = PidginParameterize, ParameterizeMarkdown\n",
    "    else: Markdown =  MarkdownImporter"
   ]
  },
  {
   "cell_type": "markdown",
   "metadata": {},
   "source": [
    "# Implicit loader"
   ]
  },
  {
   "cell_type": "code",
   "execution_count": 11,
   "metadata": {},
   "outputs": [],
   "source": [
    "    class PidginWeave(tangle.Pidgin): \n",
    "        __slots__ = importnb.Notebook.__slots__ + ('_weave', )\n",
    "        def __init__(self, *args, weave=True, **kwargs):        \n",
    "            super().__init__(*args, **kwargs)\n",
    "            self._weave = weave\n",
    "            \n",
    "        def exec_module(Pidgin, module):\n",
    "            super().exec_module(module)\n",
    "            with tangle.Pidgin(): from pidgin import weave, testing\n",
    "            if Pidgin._weave:\n",
    "                shell = weave.Static(\n",
    "                    parent=IPython.get_ipython(), user_module=module, parents=[\n",
    "                        testing.Doctest(user_module=module, parent=IPython.get_ipython()), weave.Markdown(user_module=module, parent=IPython.get_ipython())\n",
    "                    ]\n",
    "                )\n",
    "                with IPython.utils.capture.capture_output(stderr=False, stdout=False) as out, open(module.__file__) as f: \n",
    "                    return [shell.run_cell(object['source']) for object in nbformat.read(f, 4)['cells']\n",
    "                         if object['cell_type'] in {\"code\", \"markdown\"}]\n",
    "                module._ipython_display_ = lambda:out.show()\n",
    "\n"
   ]
  }
 ],
 "metadata": {
  "kernelspec": {
   "display_name": "p6",
   "language": "python",
   "name": "other-env"
  },
  "language_info": {
   "codemirror_mode": {
    "name": "ipython",
    "version": 3
   },
   "file_extension": ".py",
   "mimetype": "text/x-python",
   "name": "python",
   "nbconvert_exporter": "python",
   "pygments_lexer": "ipython3",
   "version": "3.6.8"
  }
 },
 "nbformat": 4,
 "nbformat_minor": 2
}
