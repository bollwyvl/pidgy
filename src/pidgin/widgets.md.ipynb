{
 "cells": [
  {
   "cell_type": "code",
   "execution_count": 3,
   "metadata": {},
   "outputs": [],
   "source": [
    "    if __name__ == '__main__':\n",
    "        %reload_ext pidgin\n",
    "        get_ipython().weave.html = False"
   ]
  },
  {
   "cell_type": "code",
   "execution_count": 76,
   "metadata": {},
   "outputs": [],
   "source": [
    "    import ipywidgets\n",
    "    with __import__('importnb').Notebook():\n",
    "        from . import loader, tangle\n",
    "        \n",
    "    with loader.PidginImporter():\n",
    "        from . import weave"
   ]
  },
  {
   "cell_type": "code",
   "execution_count": 77,
   "metadata": {},
   "outputs": [],
   "source": [
    "    ip = get_ipython()"
   ]
  },
  {
   "cell_type": "code",
   "execution_count": 6,
   "metadata": {},
   "outputs": [],
   "source": [
    "    import traitlets, ipywidgets\n",
    "    import sys\n",
    "    import io\n",
    "\n",
    "    base_traits = traitlets.config.SingletonConfigurable().traits()"
   ]
  },
  {
   "cell_type": "code",
   "execution_count": 69,
   "metadata": {},
   "outputs": [],
   "source": [
    "    def widget(name, trait, config, target):\n",
    "        widget = ipywidgets.Checkbox(\n",
    "            value = getattr(config, name),\n",
    "            description=trait.help,\n",
    "            style = {'width': '800px'}\n",
    "        )\n",
    "        traitlets.link((widget, 'value'), (target, name))\n",
    "        return widget"
   ]
  },
  {
   "cell_type": "code",
   "execution_count": 70,
   "metadata": {},
   "outputs": [],
   "source": [
    "    import IPython\n",
    "    ip = IPython.get_ipython()"
   ]
  },
  {
   "cell_type": "code",
   "execution_count": 71,
   "metadata": {},
   "outputs": [],
   "source": [
    "    import operator"
   ]
  },
  {
   "cell_type": "code",
   "execution_count": 75,
   "metadata": {},
   "outputs": [],
   "source": [
    "    settings = ipywidgets.VBox([\n",
    "        ipywidgets.VBox([\n",
    "            ipywidgets.HTML(F\"<h1>{name} settings</h1>\")\n",
    "        ]+[\n",
    "            widget(\n",
    "                key, trait, globals()[name].config, getattr(ip, name))\n",
    "            for key, trait in globals()[name].config.traits().items()\n",
    "            if key not in base_traits\n",
    "        ])\n",
    "        for name in \"tangle weave\".split()\n",
    "    ])\n",
    "\n",
    "    settings.children += tuple([\n",
    "            ipywidgets.HTML(F\"<h2>second tangle settings</h2>\")\n",
    "        ]+[\n",
    "            widget(key, trait, weave.config.tangle, ip.weave.tangle)\n",
    "\n",
    "            for key, trait in weave.config.tangle.traits().items()\n",
    "            if key not in base_traits\n",
    "        ])\n",
    "\n",
    "    _ipython_display_ = lambda: IPython.display.display(settings)\n",
    "\n"
   ]
  }
 ],
 "metadata": {
  "kernelspec": {
   "display_name": "Python 3",
   "language": "python",
   "name": "python3"
  },
  "language_info": {
   "codemirror_mode": {
    "name": "ipython",
    "version": 3
   },
   "file_extension": ".py",
   "mimetype": "text/x-python",
   "name": "python",
   "nbconvert_exporter": "python",
   "pygments_lexer": "ipython3",
   "version": "3.6.6"
  }
 },
 "nbformat": 4,
 "nbformat_minor": 2
}
