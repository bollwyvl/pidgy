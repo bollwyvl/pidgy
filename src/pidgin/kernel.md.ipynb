{
 "cells": [
  {
   "cell_type": "markdown",
   "metadata": {},
   "source": [
    "`pidgin` could be implemented as a `kernel` but has not be yet.\n",
    "\n",
    "Please refer to an issue."
   ]
  },
  {
   "cell_type": "code",
   "execution_count": 1,
   "metadata": {},
   "outputs": [],
   "source": [
    "    import IPython, pidgin\n",
    "    if __name__ == '__main__':\n",
    "        %reload_ext pidgin\n",
    "        IPython.get_ipython().weave.html = True\n",
    "        get_ipython().weave.safe = False\n",
    "        \n",
    "    __all__ = 'load_ipython_extension', 'unload_ipython_extension'"
   ]
  },
  {
   "cell_type": "code",
   "execution_count": 2,
   "metadata": {},
   "outputs": [
    {
     "data": {
      "text/html": [
       "<p><code><span style=\"border-bottom: 1px dotted gray;\" title=\"Type:           ZMQInteractiveShell&#013;String form:    &lt;ipykernel.zmqshell.ZMQInteractiveShell object at 0x111acf400&gt;&#013;File:           ~/anaconda/envs/p6/lib/python3.6/site-packages/ipykernel/zmqshell.py&#013;Docstring:      A subclass of InteractiveShell for ZMQ.&#013;Init docstring:&#013;Create a configurable given a config config.&#013;&#013;Parameters&#013;----------&#013;config : Config&#013;    If this is empty, default values are used. If config is a&#013;    :class:`Config` instance, it will be used to configure the&#013;    instance.&#013;parent : Configurable instance, optional&#013;    The parent Configurable instance of this object.&#013;&#013;Notes&#013;-----&#013;Subclasses of Configurable must call the :meth:`__init__` method of&#013;:class:`Configurable` *before* doing anything else and using&#013;:func:`super`::&#013;&#013;    class MyConfigurable(Configurable):&#013;        def __init__(self, config=None):&#013;            super(MyConfigurable, self).__init__(config=config)&#013;            # Then any other code you need to finish initialization.&#013;&#013;This ensures that instances will be configured properly.\">interactive_shell</span> = <span style=\"border-bottom: 1px dotted gray;\" title=\"Signature: IPython.get_ipython()&#013;Docstring:&#013;Get the global InteractiveShell instance.&#013;&#013;Returns None if no InteractiveShell instance is registered.&#013;File:      ~/anaconda/envs/p6/lib/python3.6/site-packages/IPython/core/getipython.py&#013;Type:      function\">IPython.get_ipython</span>()\n",
       "</code></p>\n",
       "<h3>The <code><span style=\"border-bottom: 1px dotted gray;\" title=\"Type:            IPythonKernel&#013;String form:     &lt;ipykernel.ipkernel.IPythonKernel object at 0x111acf630&gt;&#013;File:            ~/anaconda/envs/p6/lib/python3.6/site-packages/ipykernel/ipkernel.py&#013;Docstring:       &lt;no docstring&gt;&#013;Class docstring:&#013;A configurable that only allows one instance.&#013;&#013;This class is for classes that should only have one instance of itself&#013;or *any* subclass. To create and retrieve such a class use the&#013;:meth:`SingletonConfigurable.instance` method.&#013;Init docstring: &#013;Create a configurable given a config config.&#013;&#013;Parameters&#013;----------&#013;config : Config&#013;    If this is empty, default values are used. If config is a&#013;    :class:`Config` instance, it will be used to configure the&#013;    instance.&#013;parent : Configurable instance, optional&#013;    The parent Configurable instance of this object.&#013;&#013;Notes&#013;-----&#013;Subclasses of Configurable must call the :meth:`__init__` method of&#013;:class:`Configurable` *before* doing anything else and using&#013;:func:`super`::&#013;&#013;    class MyConfigurable(Configurable):&#013;        def __init__(self, config=None):&#013;            super(MyConfigurable, self).__init__(config=config)&#013;            # Then any other code you need to finish initialization.&#013;&#013;This ensures that instances will be configured properly.\">kernel</span> = <span style=\"border-bottom: 1px dotted gray;\" title=\"Type:            IPythonKernel&#013;String form:     &lt;ipykernel.ipkernel.IPythonKernel object at 0x111acf630&gt;&#013;File:            ~/anaconda/envs/p6/lib/python3.6/site-packages/ipykernel/ipkernel.py&#013;Docstring:       &lt;no docstring&gt;&#013;Class docstring:&#013;A configurable that only allows one instance.&#013;&#013;This class is for classes that should only have one instance of itself&#013;or *any* subclass. To create and retrieve such a class use the&#013;:meth:`SingletonConfigurable.instance` method.&#013;Init docstring: &#013;Create a configurable given a config config.&#013;&#013;Parameters&#013;----------&#013;config : Config&#013;    If this is empty, default values are used. If config is a&#013;    :class:`Config` instance, it will be used to configure the&#013;    instance.&#013;parent : Configurable instance, optional&#013;    The parent Configurable instance of this object.&#013;&#013;Notes&#013;-----&#013;Subclasses of Configurable must call the :meth:`__init__` method of&#013;:class:`Configurable` *before* doing anything else and using&#013;:func:`super`::&#013;&#013;    class MyConfigurable(Configurable):&#013;        def __init__(self, config=None):&#013;            super(MyConfigurable, self).__init__(config=config)&#013;            # Then any other code you need to finish initialization.&#013;&#013;This ensures that instances will be configured properly.\">interactive_shell.kernel</span>\n",
       "</code></h3>\n",
       "<p>The <code>interactive_shell=\\</code> - <code><span style=\"border-bottom: 1px dotted gray;\" title=\"Signature: IPython.get_ipython()&#013;Docstring:&#013;Get the global InteractiveShell instance.&#013;&#013;Returns None if no InteractiveShell instance is registered.&#013;File:      ~/anaconda/envs/p6/lib/python3.6/site-packages/IPython/core/getipython.py&#013;Type:      function\">IPython.get_ipython</span>()\n",
       "</code> - exposes the current <code>kernel=\\</code> executing the code - <code><span style=\"border-bottom: 1px dotted gray;\" title=\"Type:            IPythonKernel&#013;String form:     &lt;ipykernel.ipkernel.IPythonKernel object at 0x111acf630&gt;&#013;File:            ~/anaconda/envs/p6/lib/python3.6/site-packages/ipykernel/ipkernel.py&#013;Docstring:       &lt;no docstring&gt;&#013;Class docstring:&#013;A configurable that only allows one instance.&#013;&#013;This class is for classes that should only have one instance of itself&#013;or *any* subclass. To create and retrieve such a class use the&#013;:meth:`SingletonConfigurable.instance` method.&#013;Init docstring: &#013;Create a configurable given a config config.&#013;&#013;Parameters&#013;----------&#013;config : Config&#013;    If this is empty, default values are used. If config is a&#013;    :class:`Config` instance, it will be used to configure the&#013;    instance.&#013;parent : Configurable instance, optional&#013;    The parent Configurable instance of this object.&#013;&#013;Notes&#013;-----&#013;Subclasses of Configurable must call the :meth:`__init__` method of&#013;:class:`Configurable` *before* doing anything else and using&#013;:func:`super`::&#013;&#013;    class MyConfigurable(Configurable):&#013;        def __init__(self, config=None):&#013;            super(MyConfigurable, self).__init__(config=config)&#013;            # Then any other code you need to finish initialization.&#013;&#013;This ensures that instances will be configured properly.\">interactive_shell.kernel</span>\n",
       "</code>. \n",
       "An alternative interface for <code><span style=\"border-bottom: 1px dotted gray;\" title=\"Type:        module&#013;String form: &lt;module &#x27;IPython&#x27; from &#x27;/Users/tonyfast/anaconda/envs/p6/lib/python3.6/site-packages/IPython/__init__.py&#x27;&gt;&#013;File:        ~/anaconda/envs/p6/lib/python3.6/site-packages/IPython/__init__.py&#013;Docstring:  &#013;IPython: tools for interactive and parallel computing in Python.&#013;&#013;https://ipython.org\">IPython</span>\n",
       "</code> kernel interactions is the inspector.</p>\n",
       "<p>Pager, tooltip, pane.</p>\n",
       "<ol>\n",
       "<li><p><code><span style=\"border-bottom: 1px dotted gray;\" title=\"Signature: kernel.do_inspect(code, cursor_pos, detail_level=0)&#013;Docstring:&#013;`do_inspect` is the major logic circuit for changing the inspector heavior.&#013;&#013;&quot;For debugging purposes&quot;, globals().update(**locals()) # tab this in twice to use it.&#013;File:      ~/pidgin/src/pidgin/inspector.md.ipynb&#013;Type:      method\">kernel.do_inspect</span>\n",
       "</code></p>\n",
       "<ol>\n",
       "<li><p><code><span style=\"border-bottom: 1px dotted gray;\" title=\"Signature: pidgin.inspector.do_inspect(kernel, code, cursor_pos, detail_level=0)&#013;Docstring:&#013;`do_inspect` is the major logic circuit for changing the inspector heavior.&#013;&#013;&quot;For debugging purposes&quot;, globals().update(**locals()) # tab this in twice to use it.&#013;File:      ~/pidgin/src/pidgin/inspector.md.ipynb&#013;Type:      function\">pidgin.inspector.do_inspect</span>\n",
       "</code></p>\n",
       "</li>\n",
       "</ol>\n",
       "</li>\n",
       "</ol>\n",
       "<p>The kernel has other method including.</p>\n",
       "<p>JupyterLab inspector, Jupyter classic inspector.  point to code. Pictures</p>\n"
      ],
      "text/markdown": [
       "`interactive_shell = IPython.get_ipython()`\n",
       "\n",
       "### The `kernel = interactive_shell.kernel`\n",
       "\n",
       "\n",
       "The `interactive_shell=\\` - `IPython.get_ipython()` - exposes the current `kernel=\\` executing the code - `interactive_shell.kernel`. \n",
       "An alternative interface for `IPython` kernel interactions is the inspector.  \n",
       "\n",
       "Pager, tooltip, pane.\n",
       "\n",
       "1. `kernel.do_inspect`\n",
       "    1. `pidgin.inspector.do_inspect`\n",
       "\n",
       "The kernel has other method including.\n",
       "\n",
       "JupyterLab inspector, Jupyter classic inspector.  point to code. Pictures"
      ],
      "text/plain": [
       "`interactive_shell = IPython.get_ipython()`\n",
       "\n",
       "### The `kernel = interactive_shell.kernel`\n",
       "\n",
       "\n",
       "The `interactive_shell=\\` - `IPython.get_ipython()` - exposes the current `kernel=\\` executing the code - `interactive_shell.kernel`. \n",
       "An alternative interface for `IPython` kernel interactions is the inspector.  \n",
       "\n",
       "Pager, tooltip, pane.\n",
       "\n",
       "1. `kernel.do_inspect`\n",
       "    1. `pidgin.inspector.do_inspect`\n",
       "\n",
       "The kernel has other method including.\n",
       "\n",
       "JupyterLab inspector, Jupyter classic inspector.  point to code. Pictures"
      ]
     },
     "metadata": {},
     "output_type": "display_data"
    }
   ],
   "source": [
    "`interactive_shell = IPython.get_ipython()`\n",
    "\n",
    "### The `kernel = interactive_shell.kernel`\n",
    "\n",
    "\n",
    "The `interactive_shell=\\` - `IPython.get_ipython()` - exposes the current `kernel=\\` executing the code - `interactive_shell.kernel`. \n",
    "An alternative interface for `IPython` kernel interactions is the inspector.  \n",
    "\n",
    "Pager, tooltip, pane.\n",
    "\n",
    "1. `kernel.do_inspect`\n",
    "    1. `pidgin.inspector.do_inspect`\n",
    "\n",
    "The kernel has other method including.\n",
    "\n",
    "JupyterLab inspector, Jupyter classic inspector.  point to code. Pictures"
   ]
  }
 ],
 "metadata": {
  "kernelspec": {
   "display_name": "p6",
   "language": "python",
   "name": "other-env"
  },
  "language_info": {
   "codemirror_mode": {
    "name": "ipython",
    "version": 3
   },
   "file_extension": ".py",
   "mimetype": "text/x-python",
   "name": "python",
   "nbconvert_exporter": "python",
   "pygments_lexer": "ipython3",
   "version": "3.6.3"
  }
 },
 "nbformat": 4,
 "nbformat_minor": 2
}
