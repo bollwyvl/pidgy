{
 "cells": [
  {
   "cell_type": "markdown",
   "metadata": {},
   "source": [
    "    from IPython import get_ipython; ip = get_ipython()\n",
    "    %load_ext pidgin.post_run_cell\n",
    "    \n",
    "`import pidgin.post_run_cell` adds extra steps on `'post_run_cell' in ip.events.callbacks`. After the normal \n",
    "`ip.run_cell` evaluation:\n",
    "    \n",
    "1. `import doctest`s are executed.\n",
    "2. Inline code statements and expressions are `exec`uted.\n",
    "3. The raw source entered into `ip.run_cell` if it should be displayed.\n",
    "\n",
    "    `import pidgin.display` controls the display behaviors and `import pidgin.tangle` controls\n",
    "    how the __Markdown__ source is converted to __Python__."
   ]
  },
  {
   "cell_type": "code",
   "execution_count": 1,
   "metadata": {},
   "outputs": [],
   "source": [
    "    import IPython, functools, types, textwrap, ast, sys, traceback"
   ]
  },
  {
   "cell_type": "markdown",
   "metadata": {},
   "source": [
    "1. `run_cell_doctests` _will discover any doctests in the cell and evaluate them_.\n",
    "2. `run_user_expressions` _`exec`ute inline code statements and expressions to assure that it is valid code_.\n",
    "3. `run_cell_display` _display the input_."
   ]
  },
  {
   "cell_type": "markdown",
   "metadata": {},
   "source": [
    "`show_error` decorates a `post_run_cell` `callable` to show an `Exception` in the result."
   ]
  },
  {
   "cell_type": "code",
   "execution_count": 2,
   "metadata": {},
   "outputs": [],
   "source": [
    "    def show_error(ip, object):\n",
    "        @functools.wraps(object)\n",
    "        def post_run_cell(result: \"Return from `ip.run_cell`\"):\n",
    "            if result.error_in_exec or result.error_before_exec: return result\n",
    "            result.error_in_exec = object(result)\n",
    "            if result.error_in_exec:\n",
    "                ip.showtraceback(exc_to_tuple(result.error_in_exec))\n",
    "            return result\n",
    "        return post_run_cell"
   ]
  },
  {
   "cell_type": "markdown",
   "metadata": {},
   "source": [
    "`exc_to_tuple` converts an `Exception` to a `tuple` to display the traceback__."
   ]
  },
  {
   "cell_type": "code",
   "execution_count": 3,
   "metadata": {},
   "outputs": [],
   "source": [
    "    def exc_to_tuple(Exception): return type(Exception), Exception, Exception.__traceback__"
   ]
  },
  {
   "cell_type": "markdown",
   "metadata": {},
   "source": [
    "# Extensions"
   ]
  },
  {
   "cell_type": "code",
   "execution_count": 4,
   "metadata": {},
   "outputs": [],
   "source": [
    "    def create_load_extension(callable):\n",
    "        @functools.wraps(callable)\n",
    "        def load_ipython_extension(ip): \n",
    "            _show_error = types.MethodType(show_error, ip)\n",
    "            ip.events.register('post_run_cell', _show_error(types.MethodType(callable, ip)))\n",
    "        return load_ipython_extension\n",
    "\n",
    "                \n",
    "    def create_unload_extension(callable):\n",
    "        @functools.wraps(callable)\n",
    "        def unload_ipython_extension(ip): \n",
    "            ip.events.callbacks['post_run_cell'] = [\n",
    "                object for object in ip.events.callbacks['post_run_cell']\n",
    "                if object.__name__  != callable.__name__]\n",
    "        return unload_ipython_extension\n",
    "        "
   ]
  },
  {
   "cell_type": "code",
   "execution_count": 5,
   "metadata": {},
   "outputs": [],
   "source": [
    "    if __name__ == '__main__': \n",
    "        %reload_ext pidgin.tangle\n",
    "        %reload_ext pidgin.display\n",
    "        with __import__('importnb').Notebook():\n",
    "            try: \n",
    "                from .tangle import markdown_to_python\n",
    "                from . import doctesting\n",
    "            except: \n",
    "                from tangle import markdown_to_python\n",
    "                import doctesting\n",
    "        unload_ipython_extension = create_unload_extension(doctesting.run_cell_doctests)\n",
    "        unload_ipython_extension(IPython.get_ipython())\n",
    "        load_ipython_extension = create_load_extension(doctesting.run_cell_doctests)\n",
    "        load_ipython_extension(IPython.get_ipython())"
   ]
  }
 ],
 "metadata": {
  "kernelspec": {
   "display_name": "Python 3",
   "language": "python",
   "name": "python3"
  },
  "language_info": {
   "codemirror_mode": {
    "name": "ipython",
    "version": 3
   },
   "file_extension": ".py",
   "mimetype": "text/x-python",
   "name": "python",
   "nbconvert_exporter": "python",
   "pygments_lexer": "ipython3",
   "version": "3.6.6"
  }
 },
 "nbformat": 4,
 "nbformat_minor": 2
}
