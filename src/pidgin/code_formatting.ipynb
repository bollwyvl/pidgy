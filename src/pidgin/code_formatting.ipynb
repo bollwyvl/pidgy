{
 "cells": [
  {
   "cell_type": "markdown",
   "metadata": {},
   "source": [
    "`pidgin.code_formatting` controls pygments specific formatting opinions for `pidgin`."
   ]
  },
  {
   "cell_type": "code",
   "execution_count": 1,
   "metadata": {},
   "outputs": [],
   "source": [
    "    import pygments.formatters.other, IPython, html, nbconvert, io, pathlib, re, os"
   ]
  },
  {
   "cell_type": "markdown",
   "metadata": {},
   "source": [
    "`format_title` replaces newlines with valid in inline html delimiters.\n",
    "\n",
    "https://stackoverflow.com/questions/18606877/how-can-i-new-newline-in-title-attribute-in-html"
   ]
  },
  {
   "cell_type": "code",
   "execution_count": 2,
   "metadata": {},
   "outputs": [],
   "source": [
    "    def format_title(object): \n",
    "        return '&#013;'.join(html.escape(nbconvert.filters.strip_ansi(str(object))).splitlines())"
   ]
  },
  {
   "cell_type": "code",
   "execution_count": 3,
   "metadata": {},
   "outputs": [],
   "source": [
    "    def sanitize(s: str)->str:\n",
    "        \"\"\">>> assert sanitize(ip.object_inspect_text('IPython'))\"\"\"\n",
    "        buffer = io.StringIO()\n",
    "        for i, segment in enumerate(re.split(\"([\\'\\\"\\s]+)\", s)):\n",
    "            if (os.sep in segment) and ('.' in segment):\n",
    "                path = pathlib.Path(segment)\n",
    "                if path.suffix: segment = F\"'<safe path>{path.name}'\"\n",
    "            buffer.write(segment)\n",
    "        try: return buffer.getvalue()\n",
    "        finally: buffer.close()"
   ]
  },
  {
   "cell_type": "markdown",
   "metadata": {},
   "source": [
    "`EscapedFormatter` allows html literals to be injected into `pygements`."
   ]
  },
  {
   "cell_type": "code",
   "execution_count": 4,
   "metadata": {},
   "outputs": [],
   "source": [
    "    class EscapedFormatter:\n",
    "        def format(self, tokensource, outfile):\n",
    "            _escape_html_table = pygments.formatters.html._escape_html_table \n",
    "            pygments.formatters.html._escape_html_table = {}\n",
    "            try: return super().format(tokensource, outfile)\n",
    "            finally: pygments.formatters.html._escape_html_table = _escape_html_table"
   ]
  },
  {
   "cell_type": "markdown",
   "metadata": {},
   "source": [
    "`NamingLexer` combines dotted paths in the code to represent as a single object."
   ]
  },
  {
   "cell_type": "code",
   "execution_count": 5,
   "metadata": {},
   "outputs": [],
   "source": [
    "    class NamingLexer(pygments.lexers.PythonLexer):\n",
    "        def get_tokens(self, text, unfiltered=False):\n",
    "            buffer_token, buffer = None, \"''\"\n",
    "            for token, snippet in list(super().get_tokens(text)) + [\n",
    "                (pygments.token.Token.Generic, '')\n",
    "            ]:\n",
    "                if buffer and ((snippet == '.') or buffer.endswith('.')):  \n",
    "                    buffer += snippet\n",
    "                elif token in {\n",
    "                    pygments.token.Token.Name, pygments.token.Token.Name.Namespace, \n",
    "                    pygments.token.Token.Name.Class, pygments.token.Token.Name.Function\n",
    "                }:\n",
    "                    buffer_token, buffer = token, snippet            \n",
    "                else:\n",
    "                    if buffer_token and buffer: \n",
    "                        try: \n",
    "                            title = IPython.get_ipython().object_inspect_text(\n",
    "                                buffer, detail_level=buffer_token in {pygments.token.Token.Name.Function}\n",
    "                            ) \n",
    "                            try:\n",
    "                                if (\"PYTEST_CURRENT_TEST\" in __import__('os').environ) or IPython.get_ipython().weave.safe:\n",
    "                                    title = sanitize(title)\n",
    "                            except AttributeError: assert True, \"\"\"Suboptimal\"\"\"\n",
    "                            \n",
    "                            yield buffer_token, F\"\"\"<span style=\"{title and \"border-bottom: 1px dotted gray;\" or \"\"\n",
    "                            }\" title=\"{format_title(title)}\">{buffer}</span>\"\"\"\n",
    "                        except: \n",
    "                            yield buffer_token, buffer\n",
    "                        buffer_token, buffer = None, \"\"\n",
    "                    yield token, snippet"
   ]
  },
  {
   "cell_type": "code",
   "execution_count": 6,
   "metadata": {},
   "outputs": [],
   "source": [
    "    def markup_code(source, format=pygments.formatters.other.NullFormatter):\n",
    "        \"\"\"\n",
    "        <style>{{pygments.formatters.HtmlFormatter().get_style_defs()}}</style>        \n",
    "        \"\"\"\n",
    "        return pygments.highlight(source, NamingLexer(), type('formatter', (EscapedFormatter, format), {})())"
   ]
  },
  {
   "cell_type": "code",
   "execution_count": 7,
   "metadata": {},
   "outputs": [],
   "source": [
    "    def markup_code_inline(source):\n",
    "        \"\"\"Broken atm cause of formatting conflicts with rise.\n",
    "        <style>{{pygments.formatters.HtmlFormatter().get_style_defs()}}</style>        \n",
    "        \"\"\"\n",
    "        inline\n",
    "        return (markup_code(source))"
   ]
  },
  {
   "cell_type": "code",
   "execution_count": 8,
   "metadata": {},
   "outputs": [],
   "source": [
    "    def inline(html):\n",
    "        lead, sep, html = html.partition('div')\n",
    "        html = lead + 'span' + html\n",
    "        lead, sep, html = html.rpartition('/div')\n",
    "        html = lead + '/span' + html\n",
    "        lead, sep, html = html.partition('<pre>')\n",
    "        html = lead + html\n",
    "        lead, sep, html = html.partition('</pre>')\n",
    "        return lead + html"
   ]
  }
 ],
 "metadata": {
  "kernelspec": {
   "display_name": "Python 3",
   "language": "python",
   "name": "python3"
  },
  "language_info": {
   "codemirror_mode": {
    "name": "ipython",
    "version": 3
   },
   "file_extension": ".py",
   "mimetype": "text/x-python",
   "name": "python",
   "nbconvert_exporter": "python",
   "pygments_lexer": "ipython3",
   "version": "3.6.5"
  }
 },
 "nbformat": 4,
 "nbformat_minor": 2
}
