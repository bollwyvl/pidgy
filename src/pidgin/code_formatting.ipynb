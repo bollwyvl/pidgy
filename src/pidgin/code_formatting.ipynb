{
 "cells": [
  {
   "cell_type": "code",
   "execution_count": 59,
   "metadata": {},
   "outputs": [],
   "source": [
    "    import pygments.formatters.other, IPython, html, nbconvert"
   ]
  },
  {
   "cell_type": "code",
   "execution_count": 60,
   "metadata": {},
   "outputs": [],
   "source": [
    "    def format_title(object): return '&#013;'.join(html.escape(nbconvert.filters.strip_ansi(str(object))).splitlines())"
   ]
  },
  {
   "cell_type": "code",
   "execution_count": 76,
   "metadata": {},
   "outputs": [],
   "source": [
    "    class EscapedFormatter:\n",
    "        def format(self, tokensource, outfile):\n",
    "            _escape_html_table = pygments.formatters.html._escape_html_table \n",
    "            pygments.formatters.html._escape_html_table = {}\n",
    "            try: return super().format(tokensource, outfile)\n",
    "            finally: pygments.formatters.html._escape_html_table = _escape_html_table"
   ]
  },
  {
   "cell_type": "code",
   "execution_count": 84,
   "metadata": {},
   "outputs": [],
   "source": [
    "    class NamingLexer(pygments.lexers.PythonLexer):\n",
    "        def get_tokens(self, text, unfiltered=False):\n",
    "            buffer_token, buffer = None, \"''\"\n",
    "            for token, snippet in list(super().get_tokens(text)) + [\n",
    "                (pygments.token.Token.Generic, '')\n",
    "            ]:\n",
    "                if buffer and ((snippet == '.') or buffer.endswith('.')):  \n",
    "                    buffer += snippet\n",
    "                elif token in {\n",
    "                    pygments.token.Token.Name, pygments.token.Token.Name.Namespace, \n",
    "                    pygments.token.Token.Name.Class, pygments.token.Token.Name.Function\n",
    "                }:\n",
    "                    buffer_token, buffer = token, snippet            \n",
    "                else:\n",
    "                    if buffer_token and buffer: \n",
    "                        try: \n",
    "                            title = IPython.get_ipython().object_inspect_text(\n",
    "                                buffer, detail_level=buffer_token in {pygments.token.Token.Name.Function}) \n",
    "                            yield buffer_token, F\"\"\"<span style=\"{title and \"border-bottom: 1px dotted gray;\" or \"\"\n",
    "                            }\" title=\"{format_title(title)}\">{buffer}</span>\"\"\"\n",
    "                        except: \n",
    "                            yield buffer_token, buffer\n",
    "                        buffer_token, buffer = None, \"\"\n",
    "                    yield token, snippet"
   ]
  },
  {
   "cell_type": "code",
   "execution_count": 87,
   "metadata": {},
   "outputs": [],
   "source": [
    "    def markup_code(source, format=pygments.formatters.other.NullFormatter):\n",
    "        \"\"\"\n",
    "        <style>{{pygments.formatters.HtmlFormatter().get_style_defs()}}</style>        \n",
    "        \"\"\"\n",
    "        return pygments.highlight(source, NamingLexer(), type('formatter', (EscapedFormatter, format), {})())"
   ]
  },
  {
   "cell_type": "code",
   "execution_count": 90,
   "metadata": {},
   "outputs": [],
   "source": [
    "    def markup_code_inline(source):\n",
    "        \"\"\"\n",
    "        <style>{{pygments.formatters.HtmlFormatter().get_style_defs()}}</style>        \n",
    "        \"\"\"\n",
    "        inline\n",
    "        return (markup_code(source))"
   ]
  },
  {
   "cell_type": "code",
   "execution_count": 89,
   "metadata": {},
   "outputs": [],
   "source": [
    "    def inline(html):\n",
    "        lead, sep, html = html.partition('div')\n",
    "        html = lead + 'span' + html\n",
    "        lead, sep, html = html.rpartition('/div')\n",
    "        html = lead + '/span' + html\n",
    "        lead, sep, html = html.partition('<pre>')\n",
    "        html = lead + html\n",
    "        lead, sep, html = html.partition('</pre>')\n",
    "        return lead + html"
   ]
  }
 ],
 "metadata": {
  "kernelspec": {
   "display_name": "Python 3",
   "language": "python",
   "name": "python3"
  },
  "language_info": {
   "codemirror_mode": {
    "name": "ipython",
    "version": 3
   },
   "file_extension": ".py",
   "mimetype": "text/x-python",
   "name": "python",
   "nbconvert_exporter": "python",
   "pygments_lexer": "ipython3",
   "version": "3.6.6"
  }
 },
 "nbformat": 4,
 "nbformat_minor": 2
}
