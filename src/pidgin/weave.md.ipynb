{
 "cells": [
  {
   "cell_type": "markdown",
   "metadata": {},
   "source": [
    "`pidgin.weave` controls second of the literate computing REPL.  It controls how the source code is display.  \n",
    "\n",
    ">>> assert pidgin.weave.__f"
   ]
  },
  {
   "cell_type": "code",
   "execution_count": 1,
   "metadata": {},
   "outputs": [],
   "source": [
    "    if __name__ == '__main__':\n",
    "        %reload_ext pidgin"
   ]
  },
  {
   "cell_type": "markdown",
   "metadata": {},
   "source": [
    "`pidgin.weave` establishes __Markdown__ rules for displaying cell inputs after the `ip.run_cell` has been evaluated.\n",
    "\n",
    "`pidgin.weave` is a secondary literate program with rules for displaying input encoded in `mistune.markdown`."
   ]
  },
  {
   "cell_type": "code",
   "execution_count": 2,
   "metadata": {},
   "outputs": [],
   "source": [
    "    import re, dataclasses, ast, re,traceback, functools, IPython, jinja2, inspect, slugify, collections, html, fnmatch, mistune, inspect, importlib, types, base64, string, traitlets, yaml, io, textwrap\n",
    "    import doctest, pygments\n",
    "    from mimetypes import guess_type; guess = lambda x: guess_type(x)[0]\n",
    "    ip = IPython.get_ipython()\n",
    "\n",
    "    with __import__('importnb').Notebook():\n",
    "        try:  from . import templating, doctesting, tangle, code_formatting\n",
    "        except:   import templating, doctesting, tangle, code_formatting"
   ]
  },
  {
   "cell_type": "code",
   "execution_count": 3,
   "metadata": {},
   "outputs": [
    {
     "data": {
      "text/html": [
       "<code style=\"white-space: pre;\" title=\"\">class PidginWeave_Tangle(traitlets.config.SingletonConfigurable):\n",
       "</code><p>The <code>PidginWeave_Tangle</code> is a second execution of the source with the intent of display. State is updated during a tangle phase.</p>\n",
       "<code style=\"white-space: pre;\" title=\"\">    inline = traitlets.Bool(\n",
       "        True, help=\n",
       "</code><p>Evaluate inline statements and expressions</p>\n",
       "<code style=\"white-space: pre;\" title=\"\">    )\n",
       "</code><p><code>PidginWeave_Tangle.inline</code> originally only allowed <code>ip.user_expressions</code>, but that was too limiting.  Inline statements and \n",
       "<code>doctest</code>s will both update state.  This creates two separate namespaces the Module namespace rfom the tangle step and the \n",
       "woven display code.</p>\n",
       "<code style=\"white-space: pre;\" title=\"\">    doctest = traitlets.Bool(True, help=\n",
       "</code><p>Discover <code>doctest</code>s in the source and evaluate them.</p>\n",
       "<code style=\"white-space: pre;\" title=\"\">    ); links = traitlets.Bool(False, help=\n",
       "</code><p>Pass links and references to the global namespaces.</p>\n",
       "<code style=\"white-space: pre;\" title=\"\">    )\n",
       "    highlight = None\n",
       "</code><blockquote><p><code>PidginWeave_Tangle.highlight</code> will use <code>pygments</code> to supply extra formatting.  This is unpleasant on rise so we ignore it at the moment.</p>\n",
       "</blockquote>\n"
      ],
      "text/plain": [
       "'    class PidginWeave_Tangle(traitlets.config.SingletonConfigurable):\\nThe `PidginWeave_Tangle` is a second execution of the source with the intent of display. State is updated during a tangle phase.\\n        \\n        inline = traitlets.Bool(\\n            True, help=\\nEvaluate inline statements and expressions\\n        \\n        )\\n`PidginWeave_Tangle.inline` originally only allowed `ip.user_expressions`, but that was too limiting.  Inline statements and \\n`doctest`s will both update state.  This creates two separate namespaces the Module namespace rfom the tangle step and the \\nwoven display code.\\n\\n        doctest = traitlets.Bool(True, help=\\nDiscover `doctest`s in the source and evaluate them.            \\n            \\n        ); links = traitlets.Bool(False, help=\\nPass links and references to the global namespaces.\\n            \\n        )\\n        highlight = None\\n> `PidginWeave_Tangle.highlight` will use `pygments` to supply extra formatting.  This is unpleasant on rise so we ignore it at the moment.'"
      ]
     },
     "metadata": {},
     "output_type": "display_data"
    }
   ],
   "source": [
    "    class PidginWeave_Tangle(traitlets.config.SingletonConfigurable):\n",
    "The `PidginWeave_Tangle` is a second execution of the source with the intent of display. State is updated during a tangle phase.\n",
    "        \n",
    "        inline = traitlets.Bool(\n",
    "            True, help=\n",
    "Evaluate inline statements and expressions\n",
    "        \n",
    "        )\n",
    "`PidginWeave_Tangle.inline` originally only allowed `ip.user_expressions`, but that was too limiting.  Inline statements and \n",
    "`doctest`s will both update state.  This creates two separate namespaces the Module namespace rfom the tangle step and the \n",
    "woven display code.\n",
    "\n",
    "        doctest = traitlets.Bool(True, help=\n",
    "Discover `doctest`s in the source and evaluate them.            \n",
    "            \n",
    "        ); links = traitlets.Bool(False, help=\n",
    "Pass links and references to the global namespaces.\n",
    "            \n",
    "        )\n",
    "        highlight = None\n",
    "> `PidginWeave_Tangle.highlight` will use `pygments` to supply extra formatting.  This is unpleasant on rise so we ignore it at the moment."
   ]
  },
  {
   "cell_type": "code",
   "execution_count": 4,
   "metadata": {},
   "outputs": [
    {
     "data": {
      "text/html": [
       "<code style=\"white-space: pre;\" title=\"\">class PidginWeave(traitlets.config.SingletonConfigurable): \n",
       "</code><p><code>PidginWeave</code> modifies the <strong>weave</strong> phase of the cell execution.</p>\n",
       "<code style=\"white-space: pre;\" title=\"\">    front_matter = traitlets.Bool(True, help=\n",
       "</code><p>Parse <code>yaml</code> front matter into the <code>jinja2</code> template.</p>\n",
       "<code style=\"white-space: pre;\" title=\"\">    ); highlight_expections = traitlets.Bool(True, help=\n",
       "</code><p>Highlight code objects that have failed.</p>\n",
       "<code style=\"white-space: pre;\" title=\"\">    ); template = traitlets.Bool(True, help=\n",
       "</code><p>Template <strong>Markdown</strong> with <code>jinja2</code> before parsing.</p>\n",
       "<code style=\"white-space: pre;\" title=\"\">    ); safe = traitlets.Bool(True, help=\n",
       "</code><p>Replace file paths with testable and safe strings.</p>\n",
       "<code style=\"white-space: pre;\" title=\"\">    ); object_info = traitlets.Bool(False, help=\n",
       "</code><p>Format code with inspection overlays about the Python objects.</p>\n",
       "<code style=\"white-space: pre;\" title=\"\">    ); html = traitlets.Bool(True, help=\n",
       "</code><p>Return an annotated and custom html view for the markdown input.</p>\n",
       "<code style=\"white-space: pre;\" title=\"\">    )\n",
       "\n",
       "    tangle = PidginWeave_Tangle().instance()\n",
       "\n",
       "</code><blockquote><p>safe mode is implemented in a suboptimal way at the moment.</p>\n",
       "</blockquote>\n"
      ],
      "text/plain": [
       "'    class PidginWeave(traitlets.config.SingletonConfigurable): \\n`PidginWeave` modifies the __weave__ phase of the cell execution.\\n\\n        front_matter = traitlets.Bool(True, help=\\nParse `yaml` front matter into the `jinja2` template.\\n                                      \\n        ); highlight_expections = traitlets.Bool(True, help=\\nHighlight code objects that have failed.\\n                                             \\n        ); template = traitlets.Bool(True, help=\\nTemplate __Markdown__ with `jinja2` before parsing.\\n                                             \\n        ); safe = traitlets.Bool(True, help=\\nReplace file paths with testable and safe strings. \\n                                 \\n        ); object_info = traitlets.Bool(False, help=\\nFormat code with inspection overlays about the Python objects.            \\n            \\n        ); html = traitlets.Bool(True, help=\\nReturn an annotated and custom html view for the markdown input.\\n                                 \\n        )\\n    \\n        tangle = PidginWeave_Tangle().instance()\\n        \\n> safe mode is implemented in a suboptimal way at the moment.'"
      ]
     },
     "metadata": {},
     "output_type": "display_data"
    }
   ],
   "source": [
    "    class PidginWeave(traitlets.config.SingletonConfigurable): \n",
    "`PidginWeave` modifies the __weave__ phase of the cell execution.\n",
    "\n",
    "        front_matter = traitlets.Bool(True, help=\n",
    "Parse `yaml` front matter into the `jinja2` template.\n",
    "                                      \n",
    "        ); highlight_expections = traitlets.Bool(True, help=\n",
    "Highlight code objects that have failed.\n",
    "                                             \n",
    "        ); template = traitlets.Bool(True, help=\n",
    "Template __Markdown__ with `jinja2` before parsing.\n",
    "                                             \n",
    "        ); safe = traitlets.Bool(True, help=\n",
    "Replace file paths with testable and safe strings. \n",
    "                                 \n",
    "        ); object_info = traitlets.Bool(False, help=\n",
    "Format code with inspection overlays about the Python objects.            \n",
    "            \n",
    "        ); html = traitlets.Bool(True, help=\n",
    "Return an annotated and custom html view for the markdown input.\n",
    "                                 \n",
    "        )\n",
    "    \n",
    "        tangle = PidginWeave_Tangle().instance()\n",
    "        \n",
    "> safe mode is implemented in a suboptimal way at the moment."
   ]
  },
  {
   "cell_type": "code",
   "execution_count": 5,
   "metadata": {},
   "outputs": [],
   "source": [
    "    def markup_code(str):\n",
    "        if IPython.get_ipython().weave.object_info:\n",
    "            str = code_formatting.markup_code(str)\n",
    "        return str"
   ]
  },
  {
   "cell_type": "code",
   "execution_count": 6,
   "metadata": {},
   "outputs": [],
   "source": [
    "    config = PidginWeave().instance()"
   ]
  },
  {
   "cell_type": "markdown",
   "metadata": {},
   "source": [
    "> The following regular expressions are copied from `mistune`."
   ]
  },
  {
   "cell_type": "code",
   "execution_count": 7,
   "metadata": {},
   "outputs": [
    {
     "data": {
      "text/html": [
       "<p><code>mistune.BlockGrammar and mistune.InlineGrammar</code> includes doctype and prolog parsing in the html and should be used with <code>mistune.BlockLexer</code>.</p>\n"
      ],
      "text/plain": [
       "'`mistune.BlockGrammar and mistune.InlineGrammar` includes doctype and prolog parsing in the html and should be used with `mistune.BlockLexer`.'"
      ]
     },
     "metadata": {},
     "output_type": "display_data"
    }
   ],
   "source": [
    "`mistune.BlockGrammar and mistune.InlineGrammar` includes doctype and prolog parsing in the html and should be used with `mistune.BlockLexer`."
   ]
  },
  {
   "cell_type": "code",
   "execution_count": 8,
   "metadata": {},
   "outputs": [],
   "source": [
    "    class PidginInlineGrammar(mistune.InlineGrammar):\n",
    "        \"\"\"Add svg constructs to inline_html regex.\"\"\"\n",
    "        inline_html = re.compile(\n",
    "                r'^(?:%s|%s|%s)' % (\n",
    "                    r'<!--[\\s\\S]*?-->|<!DOCTYPE [\\s\\S]*?>|<\\?[\\s\\S]*?\\?>',\n",
    "                    r'<(\\w+%s)((?:%s)*?)\\s*>([\\s\\S]*?)<\\/\\1>' % (\n",
    "                        mistune._valid_end, mistune._valid_attr),\n",
    "                    r'<\\w+%s(?:%s)*?\\s*\\/?>' % (mistune._valid_end, mistune._valid_attr)))"
   ]
  },
  {
   "cell_type": "code",
   "execution_count": 9,
   "metadata": {},
   "outputs": [],
   "source": [
    "    if __name__ == '__main__':ip  =get_ipython()"
   ]
  },
  {
   "cell_type": "code",
   "execution_count": 10,
   "metadata": {},
   "outputs": [],
   "source": [
    "    error = \"background-color: var(--jp-rendermime-error-background);\"\n",
    "    ws = \"white-space: pre;\""
   ]
  },
  {
   "cell_type": "code",
   "execution_count": 11,
   "metadata": {},
   "outputs": [],
   "source": [
    "    class WeavePidginBlockLexer(tangle.PidginBlockLexer):                \n",
    "        def parse(self, text, rules=None):\n",
    "            if rules == mistune.BlockLexer.footnote_rules:\n",
    "                text = templating.finalize_ipython(bundle=IPython.get_ipython().display_formatter.format(text.rstrip())[0])\n",
    "            return super().parse(text)\n",
    "        \n",
    "        def parse_doctest(self, m):\n",
    "            text = ''.join(self.to_string(m))\n",
    "            ip = IPython.get_ipython()\n",
    "            if ip and ip.weave.tangle.doctest:\n",
    "                with IPython.utils.capture.capture_output() as out:\n",
    "                    runner = doctesting.run_docstring_examples(text, IPython.get_ipython(), verbose=True)\n",
    "                if runner.failures:\n",
    "                    IPython.get_ipython().showtraceback((doctesting.DocTestException, doctesting.DocTestException(out.stdout), BaseException().__traceback__))\n",
    "                    self.failures.update({text: out.stdout})\n",
    "                else:\n",
    "                    self.successes[text] = out.stdout\n",
    "            return super().parse_doctest(m)\n",
    "        \n",
    "        def parse_heading(self, m):\n",
    "            super().parse_heading(m)\n",
    "            self.tokens[-1]['id']  = slugify.slugify(self.tokens[-1]['text'] )"
   ]
  },
  {
   "cell_type": "code",
   "execution_count": 12,
   "metadata": {},
   "outputs": [],
   "source": [
    "    class WeavePidginInlineLexer(mistune.InlineLexer):\n",
    "        \"\"\"WeavePidginInlineLexer is responsible for updating modifying the interactive IPython state.\n",
    "        \"\"\"\n",
    "        grammar_class = PidginInlineGrammar\n",
    "        tmp_code = []\n",
    "                \n",
    "        def output_code(self, m):\n",
    "            \"\"\"Execute inline code.\"\"\"\n",
    "            ip = IPython.get_ipython()\n",
    "            text = '\\n'.join(self.tmp_code + [m.group(2)])\n",
    "            # Code can exist across multiple cells.\n",
    "            if text.endswith('\\\\'): self.tmp_code = text.splitlines()\n",
    "            elif ip and ip.weave.tangle.inline:\n",
    "                # Evaluate inline code.\n",
    "                with IPython.utils.capture.capture_output() as out:\n",
    "                    result = IPython.get_ipython().run_cell(textwrap.indent(text, ' '*4), store_history=False, silent=True)\n",
    "                if result.error_in_exec or result.error_before_exec:\n",
    "                    self.renderer.failures[text] = str(\n",
    "                        result.error_in_exec or result.error_before_exec)                \n",
    "\n",
    "            return super().output_code(m)\n",
    "\n",
    "        def output_reflink(self, m):\n",
    "            \"\"\"Format the reference link.\"\"\"\n",
    "            ip = IPython.get_ipython()\n",
    "            if not ip: return super().output_reflink(m)\n",
    "            user_ns = ip.user_ns\n",
    "            key = mistune._keyify(m.group(2) or m.group(1))\n",
    "            ret = {'link': '#', 'title': ''}\n",
    "            if key in self.links: ret.update(self.links[key])\n",
    "            if key in user_ns:\n",
    "                try: ret.update({'title': code_formatting.format_title(ip.object_inspect_text(key))})\n",
    "                except: ...\n",
    "\n",
    "            elif key not in self.links:\n",
    "                return \n",
    "            return self._process_link(m, ret['link'], ret['title'])\n",
    "        \n",
    "        def _process_link(self, m=None, link=None, title=None):\n",
    "            \"\"\"Add {link} to the global namespace for easier access.\"\"\"\n",
    "            for str in [link]+([''.join(tangle.PidginBlockLexer.to_string(m))] if m else []):\n",
    "                try: \n",
    "                    ast.parse(str)\n",
    "                except: \n",
    "                    IPython.get_ipython().user_ns.update({str:str})\n",
    "            if m: return super()._process_link(m, link, title)\n",
    "            \n",
    "        def output_url(self, m):\n",
    "            self._process_link(link=m.group(1))\n",
    "            return super().output_url(m)\n",
    "        \n",
    "        def output_footnote(self, m):\n",
    "            key = mistune._keyify(m.group(1))\n",
    "            if key in self.footnotes:\n",
    "                self.footnote_index += 1\n",
    "                self.footnotes[key] = self.footnote_index\n",
    "            return self.renderer.footnote_ref(key, self.footnote_index)"
   ]
  },
  {
   "cell_type": "code",
   "execution_count": 13,
   "metadata": {},
   "outputs": [],
   "source": [
    "    class WeaveRenderer(mistune.Renderer):\n",
    "        \"\"\"WeaveRenderer is responsbile for formatting the output of the input code.\"\"\"\n",
    "        failures = None\n",
    "        failure = None\n",
    "        def block_code(self, text, lang=None):\n",
    "            style = ws\n",
    "            if lang is None: \n",
    "                if self.failure: style += error\n",
    "                else: \n",
    "                    text = markup_code(text)\n",
    "                return F\"\"\"<code style=\"{style}\" title=\"{self.failure or \"\"}\">{text}</code>\"\"\"\n",
    "            return super().block_code(text, lang)\n",
    "        \n",
    "        def codespan(self, text):\n",
    "            if text in (self.failures or {}):\n",
    "                return F\"\"\"<code style=\"{error}\" title=\"{code_formatting.format_title(\n",
    "                    self.failures.pop(text)\n",
    "                )}\">{text}</code>\"\"\"\n",
    "            return F\"\"\"<code>{markup_code(text)}</code>\"\"\"\n",
    "        \n",
    "        def text(self, text): return text\n",
    "        \n",
    "        def doctest(self, text):\n",
    "            if text in (self.failures or {}):\n",
    "                return F\"\"\"<code style=\"{ws + error}\" title=\"{code_formatting.format_title(self.failures.pop(text))\n",
    "                }\">{text}</code>\"\"\"\n",
    "            if text in (self.successes or {}):\n",
    "                return F\"\"\"<code style=\"{ws}\" title=\"{code_formatting.format_title(self.successes.pop(text))\n",
    "                }\">{markup_code(text)}</code>\"\"\"  \n",
    "            return \"\"\n",
    "\n",
    "        \n",
    "        def footnote_ref(self, key, index):\n",
    "            return F\"\"\"<sup class=\"footnote-ref\" id=\"fnref-{slugify.slugify(key)}\">\n",
    "                <a title=\"{code_formatting.format_title(IPython.get_ipython().user_ns.get(key, \"\"))\n",
    "                }\" href=\"#fn-{mistune.escape(key)}\">{key}</a></sup>\"\"\"\n",
    "        \n",
    "        def header(self, text, level, raw=None):\n",
    "            id = slugify.slugify(raw)            \n",
    "            link = '<a href=\"#%s\">{}</a>\\n' % id\n",
    "            IPython.get_ipython().user_ns[raw] = IPython.display.HTML(link.format(text))\n",
    "            return link.format('<h%d id=\"%s\">%s</h%d>\\n'% (level, id, text, level)) "
   ]
  },
  {
   "cell_type": "code",
   "execution_count": 14,
   "metadata": {},
   "outputs": [],
   "source": [
    "    class WeavePidginMarkdown(mistune.Markdown):\n",
    "        \"\"\"WeavePidginMarkdown combines initializes and applies WeavePidginBlockLexer and WeavePidginInlineLexer.\n",
    "        \"\"\"\n",
    "        def output_doctest(self):  return self.renderer.doctest(self.token['text'])\n",
    "        def pop(self):\n",
    "            if not self.tokens: return None\n",
    "            self.token = self.tokens.pop()\n",
    "            return self.token\n",
    "        \n",
    "        def render(self, text, failure=None):\n",
    "            self.renderer.failure = failure\n",
    "            return super().render(text)\n",
    "        \n",
    "        def parse(self, text):\n",
    "            self.block.failures = self.renderer.failures = {}\n",
    "            self.block.successes = self.renderer.successes = {}\n",
    "            self.inline.tmp_code = []\n",
    "            out = self.output(mistune.preprocessing(text))\n",
    "            keys = self.block.def_footnotes\n",
    "            self.block.def_footnotes = {}\n",
    "            self.inline.footnotes = {}\n",
    "            if not self.footnotes: return out\n",
    "\n",
    "            self.footnotes = sorted(self.footnotes, key=lambda o: keys.get(o['key']), reverse=True)\n",
    "\n",
    "            body = self.renderer.placeholder()\n",
    "            while self.footnotes:\n",
    "                note = self.footnotes.pop()\n",
    "                body += self.renderer.footnote_item(note['key'], note['text'])\n",
    "\n",
    "            out += self.renderer.footnotes(body)\n",
    "            return out"
   ]
  },
  {
   "cell_type": "code",
   "execution_count": 15,
   "metadata": {},
   "outputs": [],
   "source": [
    "    render = WeavePidginMarkdown(\n",
    "        renderer=WeaveRenderer(escape=False, parse_block_html=True, parse_inline_html=False),\n",
    "        block=WeavePidginBlockLexer, inline=WeavePidginInlineLexer)"
   ]
  },
  {
   "cell_type": "code",
   "execution_count": 16,
   "metadata": {},
   "outputs": [],
   "source": [
    "    def front_matter(str):\n",
    "        if str.startswith('---'):\n",
    "            if '\\n---' in str:\n",
    "                body = str.lstrip('---')\n",
    "                data, sep, body = body.partition('---\\n')\n",
    "                data = yaml.safe_load(io.StringIO(data))\n",
    "                if isinstance(data, dict): return body, data\n",
    "        return str, {}"
   ]
  },
  {
   "cell_type": "code",
   "execution_count": 17,
   "metadata": {},
   "outputs": [],
   "source": [
    "    @dataclasses.dataclass(order=True)\n",
    "    class PidginDisplay:\n",
    "        data: str = ''\n",
    "        ip: None = dataclasses.field(default_factory=IPython.get_ipython, repr=False)\n",
    "        ns: None = dataclasses.field(default_factory=dict, repr=False)\n",
    "        def __post_init__(self):\n",
    "            if self.ip and not self.ns: self.ns = self.ip.user_ns\n",
    "        \n",
    "        def _repr_mimebundle_(self, include=None, exclude=None):\n",
    "            data = {'text/markdown': self.data, 'text/plain': self.data}\n",
    "            env = getattr(self.ip, 'environment', templating.new_environment(self.ip))\n",
    "            exc = None\n",
    "            data = {}\n",
    "            if self.ip.weave.front_matter:\n",
    "                string, data = front_matter(self.data)\n",
    "            lines = string.splitlines(True)    \n",
    "            lineno = len(lines)\n",
    "\n",
    "            if getattr(self.ip, '_last_traceback', None) and self.ip.weave.highlight_expections: \n",
    "                exc = self.ip._get_exc_info()\n",
    "                if issubclass(exc[0], SyntaxError): lineno = exc[1].args[1][1] - 1\n",
    "                else: lineno = traceback.extract_tb(exc[-1])[-1].lineno - 1\n",
    "            \n",
    "            template =  bool(all(\n",
    "                map(self.data.__contains__, {env.block_start_string, env.block_end_string})\n",
    "            ) or all(\n",
    "                map(self.data.__contains__, {env.variable_start_string, env.variable_end_string})\n",
    "            ))\n",
    "            body = \"\"\"\"\"\"\n",
    "            for i, range in enumerate((slice(lineno), slice(lineno, None))):\n",
    "                blob = ''.join(lines[range])\n",
    "                if template and self.ip.weave.template:\n",
    "                    blob = env.from_string(blob).render(self.ns, **data)\n",
    "                html = render.render(blob, failure=str(exc[1]) if (i == 1) and exc else None)\n",
    "                body += html if self.ip.weave.html else blob\n",
    "                \n",
    "            if self.ip.weave.html:\n",
    "                data['text/html'] = body\n",
    "            else:\n",
    "                data['text/markdown'] = body\n",
    "                \n",
    "            return data, {}"
   ]
  },
  {
   "cell_type": "markdown",
   "metadata": {},
   "source": [
    "`run_cell_display` triggers a display on the input if contains anything other than block code."
   ]
  },
  {
   "cell_type": "code",
   "execution_count": 18,
   "metadata": {},
   "outputs": [],
   "source": [
    "    def run_cell_display(result) -> bool:\n",
    "        raw, source = result.info.raw_cell, tangle.markdown_to_python(result.info.raw_cell)\n",
    "        try:\n",
    "            \"Blank first line\"\n",
    "            is_display = bool(raw.partition('\\n')[0].strip() and not raw.startswith(';')) \n",
    "            if raw.strip() == ast.literal_eval(source.rstrip().rstrip(';')).strip():\n",
    "                is_display = False\n",
    "        except: ...\n",
    "        \n",
    "        if (result.error_before_exec or result.error_in_exec) or (is_display and not only_contains_block_code(raw, source)):\n",
    "            IPython.display.display(raw)"
   ]
  },
  {
   "cell_type": "markdown",
   "metadata": {},
   "source": [
    "`only_contains_block_code` determines if the input source and python only include block code."
   ]
  },
  {
   "cell_type": "code",
   "execution_count": 19,
   "metadata": {},
   "outputs": [],
   "source": [
    "    def only_contains_block_code(raw: str, source: str) -> bool: \n",
    "        return list(\n",
    "            map(str.rstrip, textwrap.dedent(raw).splitlines())\n",
    "        ) == list(map(str.rstrip, textwrap.dedent(source).splitlines()))"
   ]
  },
  {
   "cell_type": "code",
   "execution_count": 20,
   "metadata": {},
   "outputs": [
    {
     "data": {
      "text/html": [
       "<code style=\"white-space: pre;\" title=\"\">def load_ipython_extension(ip): \n",
       "</code><code style=\"white-space: pre;\" title=\"Finding tests in __main__&#013;Trying:&#013;    load_ipython_extension(get_ipython())        &#013;&#013;Expecting nothing&#013;ok\">>>> load_ipython_extension(get_ipython())        \n",
       "</code><code style=\"white-space: pre;\" title=\"\">    ip.weave = config\n",
       "    ip.events.register('post_run_cell', run_cell_display)\n",
       "\n",
       "def unload_ipython_extension(ip=None): \n",
       "</code><code style=\"white-space: pre;\" title=\"Finding tests in __main__&#013;Trying:&#013;    unload_ipython_extension(get_ipython())                &#013;&#013;Expecting nothing&#013;ok\">>>> unload_ipython_extension(get_ipython())                \n",
       "</code><code style=\"white-space: pre;\" title=\"\">    ip.events.callbacks['post_run_cell'] = [\n",
       "        object for object in ip.events.callbacks['post_run_cell']\n",
       "        if object is not run_cell_display\n",
       "    ]</code>"
      ],
      "text/plain": [
       "\"    def load_ipython_extension(ip): \\n>>> load_ipython_extension(get_ipython())        \\n\\n        ip.weave = config\\n        ip.events.register('post_run_cell', run_cell_display)\\n\\n    def unload_ipython_extension(ip=None): \\n>>> unload_ipython_extension(get_ipython())                \\n\\n        ip.events.callbacks['post_run_cell'] = [\\n            object for object in ip.events.callbacks['post_run_cell']\\n            if object is not run_cell_display\\n        ]\""
      ]
     },
     "metadata": {},
     "output_type": "display_data"
    }
   ],
   "source": [
    "    def load_ipython_extension(ip): \n",
    ">>> load_ipython_extension(get_ipython())        \n",
    "\n",
    "        ip.weave = config\n",
    "        ip.events.register('post_run_cell', run_cell_display)\n",
    "\n",
    "    def unload_ipython_extension(ip=None): \n",
    ">>> unload_ipython_extension(get_ipython())                \n",
    "\n",
    "        ip.events.callbacks['post_run_cell'] = [\n",
    "            object for object in ip.events.callbacks['post_run_cell']\n",
    "            if object is not run_cell_display\n",
    "        ]"
   ]
  }
 ],
 "metadata": {
  "kernelspec": {
   "display_name": "p6",
   "language": "python",
   "name": "other-env"
  },
  "language_info": {
   "codemirror_mode": {
    "name": "ipython",
    "version": 3
   },
   "file_extension": ".py",
   "mimetype": "text/x-python",
   "name": "python",
   "nbconvert_exporter": "python",
   "pygments_lexer": "ipython3",
   "version": "3.6.5"
  },
  "nikola": {
   "date": "2018-12-06 12:00:00 UTC",
   "description": "`pidgin.display` is a collection of display rules for IPython objects.  \n\n`StringFormatter` is a class that adds reules for string `object`s.",
   "slug": "display.ipynb",
   "title": "display.ipynb",
   "type": "text"
  }
 },
 "nbformat": 4,
 "nbformat_minor": 2
}
