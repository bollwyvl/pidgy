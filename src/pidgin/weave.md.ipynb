{
 "cells": [
  {
   "cell_type": "markdown",
   "metadata": {},
   "source": [
    "[`pidgin.weave`](weave.md.ipynb) allows code to be execute with the display function."
   ]
  },
  {
   "cell_type": "code",
   "execution_count": 1,
   "metadata": {},
   "outputs": [],
   "source": [
    "    import ast, jinja2, sys, nbconvert, nbformat, contextlib, io, emoji, collections, IPython, mistune, doctest, re, traitlets, textwrap, types, typing as t, importlib, importnb,  jinja2, builtins, jsonschema\n",
    "    with __import__('importnb').Notebook():\n",
    "        try:\n",
    "            from . import tangle\n",
    "        except:\n",
    "            from pidgin import tangle\n",
    "            \n",
    "    with tangle.Pidgin(): \n",
    "        try:\n",
    "            from . import shell, formatter, specification\n",
    "            from .specification import template, markdown, transform_cell, emojis, json, testing\n",
    "        except:\n",
    "            from pidgin import shell, formatter, specification\n",
    "            from pidgin.specification import template, markdown, transform_cell, emojis, json, testing\n",
    "\n",
    "    if __name__ == '__main__':\n",
    "        %reload_ext pidgin"
   ]
  },
  {
   "cell_type": "code",
   "execution_count": 2,
   "metadata": {},
   "outputs": [
    {
     "data": {
      "text/html": [
       "<table class=\"highlighttable\"><tr><td><div class=\"linenodiv\" style=\"background-color: #f0f0f0; padding-right: 10px\"><pre style=\"line-height: 125%\">1</pre></div></td><td style=\"text-align: left;\" class=\"code\"><div class=\"highlight\" style=\"background: #f8f8f8\"><pre style=\"line-height: 125%\"><span></span><span style=\"color: #008000; font-weight: bold\">def</span> <span style=\"color: #0000FF\">load_ipython_extension</span>(shell: IPython<span style=\"color: #666666\">.</span>InteractiveShell):\n",
       "</pre></div>\n",
       "</td></tr></table><pre><code>&gt;&gt;&gt; assert '_document_' in sys.modules\n",
       "</code></pre>\n",
       "<pre><code>&gt;&gt;&gt; assert '_test_' in sys.modules\n",
       "</code></pre>\n",
       "<table class=\"highlighttable\"><tr><td><div class=\"linenodiv\" style=\"background-color: #f0f0f0; padding-right: 10px\"><pre style=\"line-height: 125%\"> 5\n",
       " 6\n",
       " 7\n",
       " 8\n",
       " 9\n",
       "10\n",
       "11\n",
       "12\n",
       "13\n",
       "14\n",
       "15\n",
       "16\n",
       "17\n",
       "18</pre></div></td><td style=\"text-align: left;\" class=\"code\"><div class=\"highlight\" style=\"background: #f8f8f8\"><pre style=\"line-height: 125%\"><span></span><span style=\"color: #008000; font-weight: bold\">from</span> <span style=\"color: #0000FF; font-weight: bold\">.</span> <span style=\"color: #008000; font-weight: bold\">import</span> formatter\n",
       "    <span style=\"color: #008000; font-weight: bold\">def</span> <span style=\"color: #0000FF\">make_module</span>(<span style=\"color: #008000\">str</span>):        \n",
       "        <span style=\"color: #008000; font-weight: bold\">try</span>:  <span style=\"color: #008000; font-weight: bold\">return</span> importlib<span style=\"color: #666666\">.</span>import_module(<span style=\"color: #008000\">str</span>)\n",
       "        <span style=\"color: #008000; font-weight: bold\">except</span>:  <span style=\"color: #008000; font-weight: bold\">return</span> sys<span style=\"color: #666666\">.</span>modules<span style=\"color: #666666\">.</span><span style=\"color: #0000FF\">__setitem__</span>(<span style=\"color: #008000\">str</span>, types<span style=\"color: #666666\">.</span>ModuleType(<span style=\"color: #008000\">str</span>)) <span style=\"color: #AA22FF; font-weight: bold\">or</span> sys<span style=\"color: #666666\">.</span>modules[<span style=\"color: #008000\">str</span>]\n",
       "    document, test <span style=\"color: #666666\">=</span> <span style=\"color: #008000\">map</span>(make_module, <span style=\"color: #BA2121\">&#39;_document_ _test_&#39;</span><span style=\"color: #666666\">.</span>split())\n",
       "    test <span style=\"color: #666666\">=</span> shell<span style=\"color: #666666\">.</span>test <span style=\"color: #666666\">=</span> testing<span style=\"color: #666666\">.</span>Doctest(user_module<span style=\"color: #666666\">=</span>test, parent<span style=\"color: #666666\">=</span>shell, parents<span style=\"color: #666666\">=</span>[shell])\n",
       "    shell<span style=\"color: #666666\">.</span>markdown <span style=\"color: #666666\">=</span> markdown<span style=\"color: #666666\">.</span>Markdown(user_module<span style=\"color: #666666\">=</span>document, parent<span style=\"color: #666666\">=</span>shell, parents<span style=\"color: #666666\">=</span>[test, shell])\n",
       "    shell<span style=\"color: #666666\">.</span>template <span style=\"color: #666666\">=</span> template<span style=\"color: #666666\">.</span>Template(parent<span style=\"color: #666666\">=</span>shell, parents<span style=\"color: #666666\">=</span>[shell<span style=\"color: #666666\">.</span>markdown, test, shell])\n",
       "    shell<span style=\"color: #666666\">.</span>weave <span style=\"color: #666666\">=</span> Weave(user_module<span style=\"color: #666666\">=</span>document, parent<span style=\"color: #666666\">=</span>shell, parents<span style=\"color: #666666\">=</span>[test, shell], markdown<span style=\"color: #666666\">=</span>shell<span style=\"color: #666666\">.</span>markdown, template<span style=\"color: #666666\">=</span>shell<span style=\"color: #666666\">.</span>template, test<span style=\"color: #666666\">=</span>test, )\n",
       "\n",
       "    shell<span style=\"color: #666666\">.</span>display_formatter<span style=\"color: #666666\">.</span>formatters[<span style=\"color: #BA2121\">&#39;text/html&#39;</span>]<span style=\"color: #666666\">.</span>for_type(<span style=\"color: #008000\">str</span>, format_http)\n",
       "    shell<span style=\"color: #666666\">.</span>events<span style=\"color: #666666\">.</span>register(<span style=\"color: #BA2121\">&#39;post_run_cell&#39;</span>, test)\n",
       "    shell<span style=\"color: #666666\">.</span>events<span style=\"color: #666666\">.</span>register(<span style=\"color: #BA2121\">&#39;post_run_cell&#39;</span>, shell<span style=\"color: #666666\">.</span>weave)\n",
       "    shell<span style=\"color: #666666\">.</span>enable_html_pager <span style=\"color: #666666\">=</span> <span style=\"color: #008000\">True</span>\n",
       "</pre></div>\n",
       "</td></tr></table>"
      ],
      "text/plain": [
       "<IPython.core.display.HTML object>"
      ]
     },
     "metadata": {},
     "output_type": "display_data"
    }
   ],
   "source": [
    "    def load_ipython_extension(shell: IPython.InteractiveShell):\n",
    ">>> assert '_document_' in sys.modules\n",
    ">>> assert '_test_' in sys.modules\n",
    "        \n",
    "        from . import formatter\n",
    "        def make_module(str):        \n",
    "            try:  return importlib.import_module(str)\n",
    "            except:  return sys.modules.__setitem__(str, types.ModuleType(str)) or sys.modules[str]\n",
    "        document, test = map(make_module, '_document_ _test_'.split())\n",
    "        test = shell.test = testing.Doctest(user_module=test, parent=shell, parents=[shell])\n",
    "        shell.markdown = markdown.Markdown(user_module=document, parent=shell, parents=[test, shell])\n",
    "        shell.template = template.Template(parent=shell, parents=[shell.markdown, test, shell])\n",
    "        shell.weave = Weave(user_module=document, parent=shell, parents=[test, shell], markdown=shell.markdown, template=shell.template, test=test, )\n",
    "        \n",
    "        shell.display_formatter.formatters['text/html'].for_type(str, format_http)\n",
    "        shell.events.register('post_run_cell', test)\n",
    "        shell.events.register('post_run_cell', shell.weave)\n",
    "        shell.enable_html_pager = True"
   ]
  },
  {
   "cell_type": "code",
   "execution_count": 3,
   "metadata": {},
   "outputs": [],
   "source": [
    "    def unload_ipython_extension(shell: IPython.InteractiveShell):\n",
    "        shell.events.unregister('post_run_cell', shell.test)\n",
    "        shell.events.unregister('post_run_cell', shell.weave)"
   ]
  },
  {
   "cell_type": "code",
   "execution_count": 4,
   "metadata": {},
   "outputs": [
    {
     "data": {
      "text/html": [
       "<table class=\"highlighttable\"><tr><td><div class=\"linenodiv\" style=\"background-color: #f0f0f0; padding-right: 10px\"><pre style=\"line-height: 125%\">1</pre></div></td><td style=\"text-align: left;\" class=\"code\"><div class=\"highlight\" style=\"background: #f8f8f8\"><pre style=\"line-height: 125%\"><span></span><span style=\"color: #008000; font-weight: bold\">def</span> <span style=\"color: #0000FF\">format_http</span>(<span style=\"color: #008000\">str</span>):\n",
       "</pre></div>\n",
       "</td></tr></table><pre><code>&gt;&gt;&gt; shell = IPython.get_ipython()\n",
       "</code></pre>\n",
       "<pre><code>&gt;&gt;&gt; shell.display_formatter.format(\"http://abc\")\n",
       "({'text/plain': \"'http://abc'\", 'text/html': '&lt;p&gt;&lt;a href=\"http://abc\"&gt;http://abc&lt;/a&gt;&lt;/p&gt;\\n'}, {})\n",
       "</code></pre>\n",
       "<pre><code>&gt;&gt;&gt; shell.weave.display_formatter.format(\"http://abc\")\n",
       "(...IPython.lib.display.IFrame...)\n",
       "</code></pre>\n",
       "<table class=\"highlighttable\"><tr><td><div class=\"linenodiv\" style=\"background-color: #f0f0f0; padding-right: 10px\"><pre style=\"line-height: 125%\">8</pre></div></td><td style=\"text-align: left;\" class=\"code\"><div class=\"highlight\" style=\"background: #f8f8f8\"><pre style=\"line-height: 125%\"><span></span><span style=\"color: #008000; font-weight: bold\">if</span> <span style=\"color: #008000\">str</span><span style=\"color: #666666\">.</span>startswith((<span style=\"color: #BA2121\">&#39;http:&#39;</span>, <span style=\"color: #BA2121\">&#39;https:&#39;</span>)): <span style=\"color: #008000; font-weight: bold\">return</span> mistune<span style=\"color: #666666\">.</span>markdown(<span style=\"color: #008000\">str</span>)\n",
       "</pre></div>\n",
       "</td></tr></table>"
      ],
      "text/plain": [
       "<IPython.core.display.HTML object>"
      ]
     },
     "metadata": {},
     "output_type": "display_data"
    }
   ],
   "source": [
    "    def format_http(str): \n",
    ">>> shell = IPython.get_ipython()\n",
    ">>> shell.display_formatter.format(\"http://abc\")\n",
    "({'text/plain': \"'http://abc'\", 'text/html': '<p><a href=\"http://abc\">http://abc</a></p>\\n'}, {})\n",
    ">>> shell.weave.display_formatter.format(\"http://abc\")\n",
    "(...IPython.lib.display.IFrame...)\n",
    "        \n",
    "        if str.startswith(('http:', 'https:')): return mistune.markdown(str)"
   ]
  },
  {
   "cell_type": "code",
   "execution_count": 5,
   "metadata": {},
   "outputs": [],
   "source": [
    "    class Weave(formatter.Formatter):\n",
    "        test = traitlets.Instance(IPython.InteractiveShell)\n",
    "        markdown = traitlets.Instance(IPython.InteractiveShell, allow_none=True)\n",
    "        template = traitlets.Instance(IPython.InteractiveShell)\n",
    "        \n",
    "        __call__ = shell.Shell.__call__\n",
    "        \n",
    "        def __init__(Weave, *args, **kwargs):\n",
    "            formatter.Formatter.__init__(Weave, *args, **kwargs)\n",
    "            Weave.environment = Weave.template.environment\n",
    "            \n",
    "        def run_cell(Weave, text: str, *args, **kwargs):\n",
    "            if isinstance(text, IPython.core.interactiveshell.ExecutionResult): \n",
    "                text = text.info.raw_cell            \n",
    "            for parent in (Weave.parents or []): vars(Weave.user_module).update(parent.user_ns)\n",
    "            result = super().run_cell(text, *args, **kwargs)\n",
    "            return result\n",
    "        \n",
    "        def front_matter(Weave, text):\n",
    "            try:\n",
    "                import yaml\n",
    "            except: \n",
    "                import ruamel.yaml as yaml\n",
    "                \n",
    "            if text.startswith(('---',)):\n",
    "                text = text.lstrip('---')\n",
    "                text, sep, end = text.partition('\\n---\\n')\n",
    "                if sep:\n",
    "                    return end, dict(yaml.safe_load(__import__('io').StringIO(Weave.template.render(text))))\n",
    "            return text, {}\n",
    "        \n",
    "        def render(Weave, text, **metadata):\n",
    "            \n",
    "            text, metadata = Weave.front_matter(text)\n",
    "            if text in Weave.user_ns:\n",
    "                if not isinstance(Weave.user_ns[text], str):\n",
    "                    return Weave.parent.display_formatter.format(Weave.user_ns[text])\n",
    "                text  = Weave.user_ns[text]\n",
    "            text = json.expand(text, Weave.user_ns.get('__context__', {}))\n",
    "            if len(text.splitlines()) == 1 and text.startswith(('http:', 'https:')):\n",
    "                return IPython.display.IFrame(text, \"100%\", \"600px\", metadata=metadata)\n",
    "            text = specification.emojis.emojize(text)\n",
    "            text = Weave.template.render(text, **metadata)\n",
    "            text = Weave.markdown.render(text)   \n",
    "            return IPython.display.HTML(text, metadata=metadata)\n",
    "        \n",
    "        def publish(Template, text):\n",
    "            return super().publish(text) and not only_contains_block_code(text, specification.transform_cell.markdown_to_python(text))"
   ]
  },
  {
   "cell_type": "code",
   "execution_count": 6,
   "metadata": {},
   "outputs": [
    {
     "data": {
      "text/html": [
       "<table class=\"highlighttable\"><tr><td><div class=\"linenodiv\" style=\"background-color: #f0f0f0; padding-right: 10px\"><pre style=\"line-height: 125%\">1</pre></div></td><td style=\"text-align: left;\" class=\"code\"><div class=\"highlight\" style=\"background: #f8f8f8\"><pre style=\"line-height: 125%\"><span></span><span style=\"color: #008000; font-weight: bold\">def</span> <span style=\"color: #0000FF\">only_contains_block_code</span>(raw: <span style=\"color: #008000\">str</span>, source: <span style=\"color: #008000\">str</span>) <span style=\"color: #666666\">-&gt;</span> <span style=\"color: #008000\">bool</span>:\n",
       "</pre></div>\n",
       "</td></tr></table><pre><code>&gt;&gt;&gt; assert only_contains_block_code(\"\"\"f\"\"\", \"\"\"f\"\"\")\n",
       "</code></pre>\n",
       "<pre><code>&gt;&gt;&gt; assert only_contains_block_code(\"\"\"%%magic\"\"\", \"\"\"%%magic\"\"\")\n",
       "</code></pre>\n",
       "<pre><code>&gt;&gt;&gt; assert not only_contains_block_code(\"\"\"Markdown\"\"\", \"\"\"'Markdown'\"\"\")\n",
       "</code></pre>\n",
       "<table class=\"highlighttable\"><tr><td><div class=\"linenodiv\" style=\"background-color: #f0f0f0; padding-right: 10px\"><pre style=\"line-height: 125%\">6</pre></div></td><td style=\"text-align: left;\" class=\"code\"><div class=\"highlight\" style=\"background: #f8f8f8\"><pre style=\"line-height: 125%\"><span></span><span style=\"color: #008000; font-weight: bold\">return</span> raw<span style=\"color: #666666\">.</span>startswith(<span style=\"color: #BA2121\">&#39;</span><span style=\"color: #BB6688; font-weight: bold\">%%</span><span style=\"color: #BA2121\">&#39;</span>) <span style=\"color: #AA22FF; font-weight: bold\">or</span> <span style=\"color: #008000\">list</span>(<span style=\"color: #008000\">map</span>(<span style=\"color: #008000\">str</span><span style=\"color: #666666\">.</span>rstrip, textwrap<span style=\"color: #666666\">.</span>dedent(raw)<span style=\"color: #666666\">.</span>splitlines())) <span style=\"color: #666666\">==</span> <span style=\"color: #008000\">list</span>(<span style=\"color: #008000\">map</span>(<span style=\"color: #008000\">str</span><span style=\"color: #666666\">.</span>rstrip, textwrap<span style=\"color: #666666\">.</span>dedent(source)<span style=\"color: #666666\">.</span>splitlines()))\n",
       "</pre></div>\n",
       "</td></tr></table>"
      ],
      "text/plain": [
       "<IPython.core.display.HTML object>"
      ]
     },
     "metadata": {},
     "output_type": "display_data"
    }
   ],
   "source": [
    "    def only_contains_block_code(raw: str, source: str) -> bool: \n",
    ">>> assert only_contains_block_code(\"\"\"f\"\"\", \"\"\"f\"\"\")\n",
    ">>> assert only_contains_block_code(\"\"\"%%magic\"\"\", \"\"\"%%magic\"\"\")\n",
    ">>> assert not only_contains_block_code(\"\"\"Markdown\"\"\", \"\"\"'Markdown'\"\"\")\n",
    "\n",
    "        return raw.startswith('%%') or list(map(str.rstrip, textwrap.dedent(raw).splitlines())) == list(map(str.rstrip, textwrap.dedent(source).splitlines()))"
   ]
  },
  {
   "cell_type": "code",
   "execution_count": 7,
   "metadata": {},
   "outputs": [
    {
     "data": {
      "text/html": [
       "<table class=\"highlighttable\"><tr><td><div class=\"linenodiv\" style=\"background-color: #f0f0f0; padding-right: 10px\"><pre style=\"line-height: 125%\">1</pre></div></td><td style=\"text-align: left;\" class=\"code\"><div class=\"highlight\" style=\"background: #f8f8f8\"><pre style=\"line-height: 125%\"><span></span><span style=\"color: #008000; font-weight: bold\">def</span> <span style=\"color: #0000FF\">do_publish</span>(<span style=\"color: #008000\">str</span>) <span style=\"color: #666666\">-&gt;</span> <span style=\"color: #008000\">bool</span>:\n",
       "</pre></div>\n",
       "</td></tr></table><pre><code>&gt;&gt;&gt; assert do_publish(\"\"\"🏖\"\"\")\n",
       "</code></pre>\n",
       "<pre><code>&gt;&gt;&gt; assert not do_publish(\"\"\"//🐻\"\"\")\n",
       "</code></pre>\n",
       "<pre><code>&gt;&gt;&gt; assert not do_publish(\"\"\"\n",
       "... 🚳\"\"\")\n",
       "</code></pre>\n",
       "<table class=\"highlighttable\"><tr><td><div class=\"linenodiv\" style=\"background-color: #f0f0f0; padding-right: 10px\"><pre style=\"line-height: 125%\"> 7\n",
       " 8\n",
       " 9\n",
       "10\n",
       "11\n",
       "12</pre></div></td><td style=\"text-align: left;\" class=\"code\"><div class=\"highlight\" style=\"background: #f8f8f8\"><pre style=\"line-height: 125%\"><span></span>display <span style=\"color: #666666\">=</span> <span style=\"color: #008000\">bool</span>(<span style=\"color: #008000\">str</span><span style=\"color: #666666\">.</span>partition(<span style=\"color: #BA2121\">&#39;</span><span style=\"color: #BB6622; font-weight: bold\">\\n</span><span style=\"color: #BA2121\">&#39;</span>)[<span style=\"color: #666666\">0</span>]<span style=\"color: #666666\">.</span>strip()) <span style=\"color: #AA22FF; font-weight: bold\">and</span> <span style=\"color: #AA22FF; font-weight: bold\">not</span> <span style=\"color: #008000\">str</span><span style=\"color: #666666\">.</span>startswith(<span style=\"color: #BA2121\">&#39;//&#39;</span>)            \n",
       "    source <span style=\"color: #666666\">=</span> transform_cell<span style=\"color: #666666\">.</span>markdown_to_python(<span style=\"color: #008000\">str</span>)\n",
       "    display <span style=\"color: #666666\">=</span> display <span style=\"color: #666666\">&amp;</span> (<span style=\"color: #AA22FF; font-weight: bold\">not</span> <span style=\"color: #008000\">bool</span>(only_contains_block_code(<span style=\"color: #008000\">str</span>, source)))\n",
       "    <span style=\"color: #008000; font-weight: bold\">try</span>:\n",
       "        <span style=\"color: #008000; font-weight: bold\">if</span> <span style=\"color: #008000\">str</span><span style=\"color: #666666\">.</span>strip() <span style=\"color: #666666\">!=</span> ast<span style=\"color: #666666\">.</span>literal_eval(source<span style=\"color: #666666\">.</span>rstrip()<span style=\"color: #666666\">.</span>rstrip(<span style=\"color: #BA2121\">&#39;;&#39;</span>))<span style=\"color: #666666\">.</span>strip(): display <span style=\"color: #666666\">=</span> <span style=\"color: #008000\">False</span>\n",
       "    <span style=\"color: #008000; font-weight: bold\">finally</span>: <span style=\"color: #008000; font-weight: bold\">return</span> display\n",
       "</pre></div>\n",
       "</td></tr></table>"
      ],
      "text/plain": [
       "<IPython.core.display.HTML object>"
      ]
     },
     "metadata": {},
     "output_type": "display_data"
    }
   ],
   "source": [
    "    def do_publish(str) -> bool:\n",
    ">>> assert do_publish(\"\"\"___beach_with_umbrella___\"\"\")\n",
    ">>> assert not do_publish(\"\"\"//___bear_face___\"\"\")\n",
    ">>> assert not do_publish(\"\"\"\n",
    "... ___no_bicycles___\"\"\")\n",
    "        \n",
    "        display = bool(str.partition('\\n')[0].strip()) and not str.startswith('//')            \n",
    "        source = transform_cell.markdown_to_python(str)\n",
    "        display = display & (not bool(only_contains_block_code(str, source)))\n",
    "        try:\n",
    "            if str.strip() != ast.literal_eval(source.rstrip().rstrip(';')).strip(): display = False\n",
    "        finally: return display"
   ]
  }
 ],
 "metadata": {
  "kernelspec": {
   "display_name": "p6",
   "language": "python",
   "name": "other-env"
  },
  "language_info": {
   "codemirror_mode": {
    "name": "ipython",
    "version": 3
   },
   "file_extension": ".py",
   "mimetype": "text/x-python",
   "name": "python",
   "nbconvert_exporter": "python",
   "pygments_lexer": "ipython3",
   "version": "3.6.8"
  },
  "nikola": {
   "date": "2018-12-06 12:00:00 UTC",
   "description": "`pidgin.display` is a collection of display rules for IPython objects.  \n\n`StringFormatter` is a class that adds reules for string `object`s.",
   "slug": "display.ipynb",
   "title": "display.ipynb",
   "type": "text"
  }
 },
 "nbformat": 4,
 "nbformat_minor": 4
}
