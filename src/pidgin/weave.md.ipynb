{
 "cells": [
  {
   "cell_type": "markdown",
   "metadata": {},
   "source": [
    "[`pidgin.weave`](weave.md.ipynb) allows code to be execute with the display function."
   ]
  },
  {
   "cell_type": "code",
   "execution_count": 1,
   "metadata": {},
   "outputs": [],
   "source": [
    "    import ast, jinja2, sys, nbconvert, nbformat, contextlib, emoji, collections, IPython, mistune, doctest, re, traitlets, textwrap, types, typing as t, importlib, importnb,  jinja2, builtins, jsonschema\n",
    "    with __import__('importnb').Notebook():\n",
    "        try:\n",
    "            from . import tangle\n",
    "        except:\n",
    "            from pidgin import tangle\n",
    "            \n",
    "    with tangle.Pidgin(): \n",
    "        try:\n",
    "            from . import shell\n",
    "            from .specifications import template, markdown, yaml, transform_cell, emojis, json\n",
    "        except:\n",
    "            from pidgin import shell\n",
    "            from pidgin.specifications import template, markdown, yaml, transform_cell, emojis, json\n",
    "\n",
    "    if __name__ == '__main__':\n",
    "        %reload_ext pidgin"
   ]
  },
  {
   "cell_type": "code",
   "execution_count": 2,
   "metadata": {},
   "outputs": [
    {
     "data": {
      "text/html": [
       "<pre><code>def load_ipython_extension(shell: IPython.InteractiveShell):\n",
       "</code></pre>\n",
       "<pre><code>&gt;&gt;&gt; assert '_document_' in sys.modules\n",
       "</code></pre>\n",
       "<pre><code>&gt;&gt;&gt; assert '_test_' in sys.modules\n",
       "</code></pre>\n",
       "<pre><code>    from . import testing, template\n",
       "    document, test = map(make_module, '_document_ _test_'.split())\n",
       "    test = shell.test = testing.Doctest(user_module=test, parent=shell, parents=[shell])\n",
       "    shell.markdown = markdown.Markdown(user_module=document, parent=shell, parents=[test, shell])\n",
       "    template = shell.template = template.Template(parent=shell, parents=[shell.markdown, test, shell])\n",
       "    shell.weave = Weave(user_module=document, parent=shell, parents=[test, shell], markdown=shell.markdown, template=template, test=test, )\n",
       "\n",
       "    shell.display_formatter.formatters['text/html'].for_type(type(shell), format_http)\n",
       "    shell.events.register('post_run_cell', test)\n",
       "    shell.events.register('post_run_cell', shell.weave)\n",
       "    shell.enable_html_pager = True        \n",
       "</code></pre>\n"
      ],
      "text/plain": [
       "<IPython.core.display.HTML object>"
      ]
     },
     "metadata": {},
     "output_type": "display_data"
    }
   ],
   "source": [
    "    def load_ipython_extension(shell: IPython.InteractiveShell):\n",
    ">>> assert '_document_' in sys.modules\n",
    ">>> assert '_test_' in sys.modules\n",
    "        \n",
    "        from . import testing, template\n",
    "        document, test = map(make_module, '_document_ _test_'.split())\n",
    "        test = shell.test = testing.Doctest(user_module=test, parent=shell, parents=[shell])\n",
    "        shell.markdown = markdown.Markdown(user_module=document, parent=shell, parents=[test, shell])\n",
    "        template = shell.template = template.Template(parent=shell, parents=[shell.markdown, test, shell])\n",
    "        shell.weave = Weave(user_module=document, parent=shell, parents=[test, shell], markdown=shell.markdown, template=template, test=test, )\n",
    "        \n",
    "        shell.display_formatter.formatters['text/html'].for_type(type(shell), format_http)\n",
    "        shell.events.register('post_run_cell', test)\n",
    "        shell.events.register('post_run_cell', shell.weave)\n",
    "        shell.enable_html_pager = True        "
   ]
  },
  {
   "cell_type": "code",
   "execution_count": 3,
   "metadata": {},
   "outputs": [],
   "source": [
    "    def format_http(str): \n",
    "        if str.startswith(('http:', 'https:')): return mistune.markdown(str)"
   ]
  },
  {
   "cell_type": "code",
   "execution_count": 4,
   "metadata": {},
   "outputs": [
    {
     "data": {
      "text/html": [
       "<pre><code>class Weave(template.Template, yaml.FrontMatter, shell.Shell):\n",
       "    test = traitlets.Instance(IPython.InteractiveShell)\n",
       "    weave = traitlets.Instance(IPython.InteractiveShell)\n",
       "    markdown = traitlets.Instance(IPython.InteractiveShell, allow_none=True)\n",
       "    template = traitlets.Instance(IPython.InteractiveShell)\n",
       "\n",
       "    __call__ = shell.Shell.__call__\n",
       "\n",
       "    def __init__(Weave, *args, **kwargs):\n",
       "\n",
       "        shell.Shell.__init__(Weave, *args, **kwargs)\n",
       "        yaml.FrontMatter.__init__(Weave)\n",
       "\n",
       "    def run_cell(Weave, text: str, *args, **kwargs):\n",
       "        if isinstance(text, IPython.core.interactiveshell.ExecutionResult): \n",
       "            text = text.info.raw_cell\n",
       "\n",
       "        publish = do_publish(''.join(text))\n",
       "        text = text.lstrip('//')\n",
       "        if text in Weave.user_ns:\n",
       "            data, metadata = Weave.parent.display_formatter.format(Weave.user_ns[text])\n",
       "            Weave.parent.display_pub.publish(data, metadata, transient={'raw': True})\n",
       "            return \n",
       "        text, metadata = Weave.front_matter(text)\n",
       "\n",
       "        text = json.expand(text, Weave.user_ns.get('__context__', {}))\n",
       "        if len(text.splitlines()) == 1 and text.startswith(('http:', 'https:')):\n",
       "</code></pre>\n",
       "<pre><code>&gt;&gt;&gt; __context__ = \"\"\"---\n",
       "... w: https://en.wikipedia.org/wiki/\"\"\"\n",
       "</code></pre>\n",
       "<pre><code>&gt;&gt;&gt; with IPython.utils.capture.capture_output() as out:\n",
       "...     get_ipython().weave.run_cell(\"w:pidgin\")\n",
       "</code></pre>\n",
       "<pre><code>&gt;&gt;&gt; ' '.join(out.outputs[0].data['text/html'].strip().split())\n",
       "'&lt;iframe width=\"100%\" height=\"600px\" src=\"https://en.wikipedia.org/wiki/pidgin\" frameborder=\"0\" allowfullscreen &gt;&lt;/iframe&gt;'\n",
       "</code></pre>\n",
       "<pre><code>            data, metadata = Weave.parent.display_formatter.format(IPython.display.IFrame(text, \"100%\", \"600px\"))\n",
       "        else:\n",
       "            text = emojis.emojize(text)\n",
       "            text = template.Template.render(Weave, text, **metadata)\n",
       "            text = Weave.markdown.render(text)                \n",
       "</code></pre>\n",
       "<pre><code>&gt;&gt;&gt; with IPython.utils.capture.capture_output() as out:\n",
       "...     get_ipython().weave.run_cell(\"# Any markdown you want &lt;span style=\"color:#ff0000;\"&gt;☺&lt;/span&gt;\")\n",
       "</code></pre>\n",
       "<pre><code>&gt;&gt;&gt; out.outputs[0].data\n",
       "{'text/plain': '&lt;IPython.core.display.HTML object&gt;', 'text/html': '&lt;h1&gt;Any markdown you want &lt;span style=\"color:#ff0000;\"&gt;☺&lt;/span&gt;&lt;/h1&gt;\\n'}\n",
       "</code></pre>\n",
       "<pre><code>            if publish:\n",
       "                data, metadata = Weave.parent.display_formatter.format(IPython.display.HTML(text, metadata=metadata))\n",
       "            else: \n",
       "</code></pre>\n",
       "<pre><code>&gt;&gt;&gt; with IPython.utils.capture.capture_output() as out:\n",
       "...     get_ipython().weave.run_cell(\"\\n# Any markdown you want &lt;span style=\"color:#ff0000;\"&gt;☺&lt;/span&gt;\")\n",
       "</code></pre>\n",
       "<pre><code>&gt;&gt;&gt; assert not out.outputs\n",
       "</code></pre>\n",
       "<pre><code>&gt;&gt;&gt; with IPython.utils.capture.capture_output() as out:\n",
       "...     get_ipython().weave.run_cell(\"//# Any markdown you want &lt;span style=\"color:#ff0000;\"&gt;☺&lt;/span&gt;\")\n",
       "</code></pre>\n",
       "<pre><code>&gt;&gt;&gt; assert not out.outputs\n",
       "</code></pre>\n",
       "<pre><code>                data = {}\n",
       "\n",
       "        (data or metadata) and Weave.parent.display_pub.publish(data, metadata)\n",
       "</code></pre>\n"
      ],
      "text/plain": [
       "<IPython.core.display.HTML object>"
      ]
     },
     "metadata": {},
     "output_type": "display_data"
    }
   ],
   "source": [
    "    class Weave(template.Template, yaml.FrontMatter, shell.Shell):\n",
    "        test = traitlets.Instance(IPython.InteractiveShell)\n",
    "        weave = traitlets.Instance(IPython.InteractiveShell)\n",
    "        markdown = traitlets.Instance(IPython.InteractiveShell, allow_none=True)\n",
    "        template = traitlets.Instance(IPython.InteractiveShell)\n",
    "        \n",
    "        __call__ = shell.Shell.__call__\n",
    "        \n",
    "        def __init__(Weave, *args, **kwargs):\n",
    "            \n",
    "            shell.Shell.__init__(Weave, *args, **kwargs)\n",
    "            yaml.FrontMatter.__init__(Weave)\n",
    "            \n",
    "        def run_cell(Weave, text: str, *args, **kwargs):\n",
    "            if isinstance(text, IPython.core.interactiveshell.ExecutionResult): \n",
    "                text = text.info.raw_cell\n",
    "                                \n",
    "            publish = do_publish(''.join(text))\n",
    "            text = text.lstrip('//')\n",
    "            if text in Weave.user_ns:\n",
    "                data, metadata = Weave.parent.display_formatter.format(Weave.user_ns[text])\n",
    "                Weave.parent.display_pub.publish(data, metadata, transient={'raw': True})\n",
    "                return \n",
    "            text, metadata = Weave.front_matter(text)\n",
    "            \n",
    "            text = json.expand(text, Weave.user_ns.get('__context__', {}))\n",
    "            if len(text.splitlines()) == 1 and text.startswith(('http:', 'https:')):\n",
    ">>> __context__ = \"\"\"---\n",
    "... w: https://en.wikipedia.org/wiki/\"\"\"\n",
    ">>> with IPython.utils.capture.capture_output() as out:\n",
    "...     get_ipython().weave.run_cell(\"w:pidgin\")\n",
    ">>> ' '.join(out.outputs[0].data['text/html'].strip().split())\n",
    "'<iframe width=\"100%\" height=\"600px\" src=\"https://en.wikipedia.org/wiki/pidgin\" frameborder=\"0\" allowfullscreen ></iframe>'\n",
    "\n",
    "                \n",
    "                data, metadata = Weave.parent.display_formatter.format(IPython.display.IFrame(text, \"100%\", \"600px\"))\n",
    "            else:\n",
    "                text = emojis.emojize(text)\n",
    "                text = template.Template.render(Weave, text, **metadata)\n",
    "                text = Weave.markdown.render(text)                \n",
    ">>> with IPython.utils.capture.capture_output() as out:\n",
    "...     get_ipython().weave.run_cell(\"# Any markdown you want {{'___smiling_face___' | red}}\")\n",
    ">>> out.outputs[0].data\n",
    "{'text/plain': '<IPython.core.display.HTML object>', 'text/html': '<h1>Any markdown you want <span style=\"color:#ff0000;\">☺</span></h1>\\n'}\n",
    "\n",
    "                if publish:\n",
    "                    data, metadata = Weave.parent.display_formatter.format(IPython.display.HTML(text, metadata=metadata))\n",
    "                else: \n",
    ">>> with IPython.utils.capture.capture_output() as out:\n",
    "...     get_ipython().weave.run_cell(\"\\n# Any markdown you want {{'___smiling_face___' | red}}\")\n",
    ">>> assert not out.outputs\n",
    "\n",
    ">>> with IPython.utils.capture.capture_output() as out:\n",
    "...     get_ipython().weave.run_cell(\"//# Any markdown you want {{'___smiling_face___' | red}}\")\n",
    ">>> assert not out.outputs\n",
    "\n",
    "                    \n",
    "                    data = {}\n",
    "            \n",
    "            (data or metadata) and Weave.parent.display_pub.publish(data, metadata)\n"
   ]
  },
  {
   "cell_type": "code",
   "execution_count": 5,
   "metadata": {},
   "outputs": [
    {
     "data": {
      "text/html": [
       "<pre><code>def only_contains_block_code(raw: str, source: str) -&gt; bool: \n",
       "</code></pre>\n",
       "<pre><code>&gt;&gt;&gt; assert only_contains_block_code(\"\"\"f\"\"\", \"\"\"f\"\"\")\n",
       "</code></pre>\n",
       "<pre><code>&gt;&gt;&gt; assert only_contains_block_code(\"\"\"%%magic\"\"\", \"\"\"%%magic\"\"\")\n",
       "</code></pre>\n",
       "<pre><code>&gt;&gt;&gt; assert not only_contains_block_code(\"\"\"Markdown\"\"\", \"\"\"'Markdown'\"\"\")\n",
       "</code></pre>\n",
       "<pre><code>    return raw.startswith('%%') or list(map(str.rstrip, textwrap.dedent(raw).splitlines())) == list(map(str.rstrip, textwrap.dedent(source).splitlines()))\n",
       "</code></pre>\n"
      ],
      "text/plain": [
       "<IPython.core.display.HTML object>"
      ]
     },
     "metadata": {},
     "output_type": "display_data"
    }
   ],
   "source": [
    "    def only_contains_block_code(raw: str, source: str) -> bool: \n",
    ">>> assert only_contains_block_code(\"\"\"f\"\"\", \"\"\"f\"\"\")\n",
    ">>> assert only_contains_block_code(\"\"\"%%magic\"\"\", \"\"\"%%magic\"\"\")\n",
    ">>> assert not only_contains_block_code(\"\"\"Markdown\"\"\", \"\"\"'Markdown'\"\"\")\n",
    "\n",
    "\n",
    "        \n",
    "        return raw.startswith('%%') or list(map(str.rstrip, textwrap.dedent(raw).splitlines())) == list(map(str.rstrip, textwrap.dedent(source).splitlines()))"
   ]
  },
  {
   "cell_type": "code",
   "execution_count": 6,
   "metadata": {},
   "outputs": [
    {
     "data": {
      "text/html": [
       "<pre><code>def do_publish(str) -&gt; bool:\n",
       "</code></pre>\n",
       "<pre><code>&gt;&gt;&gt; assert do_publish(\"\"\"🏖\"\"\")\n",
       "</code></pre>\n",
       "<pre><code>&gt;&gt;&gt; assert not do_publish(\"\"\"//🐻\"\"\")\n",
       "</code></pre>\n",
       "<pre><code>&gt;&gt;&gt; assert not do_publish(\"\"\"\n",
       "... 🚳\"\"\")\n",
       "</code></pre>\n",
       "<pre><code>    display = bool(str.partition('\\n')[0].strip()) and not str.startswith('//')            \n",
       "    source = transform_cell.markdown_to_python(str)\n",
       "    display = display &amp; (not bool(only_contains_block_code(str, source)))\n",
       "    try:\n",
       "        if str.strip() != ast.literal_eval(source.rstrip().rstrip(';')).strip(): display = False\n",
       "    finally: return display\n",
       "</code></pre>\n"
      ],
      "text/plain": [
       "<IPython.core.display.HTML object>"
      ]
     },
     "metadata": {},
     "output_type": "display_data"
    }
   ],
   "source": [
    "    def do_publish(str) -> bool:\n",
    ">>> assert do_publish(\"\"\"___beach_with_umbrella___\"\"\")\n",
    ">>> assert not do_publish(\"\"\"//___bear_face___\"\"\")\n",
    ">>> assert not do_publish(\"\"\"\n",
    "... ___no_bicycles___\"\"\")\n",
    "        \n",
    "        display = bool(str.partition('\\n')[0].strip()) and not str.startswith('//')            \n",
    "        source = transform_cell.markdown_to_python(str)\n",
    "        display = display & (not bool(only_contains_block_code(str, source)))\n",
    "        try:\n",
    "            if str.strip() != ast.literal_eval(source.rstrip().rstrip(';')).strip(): display = False\n",
    "        finally: return display"
   ]
  },
  {
   "cell_type": "code",
   "execution_count": 7,
   "metadata": {},
   "outputs": [
    {
     "data": {
      "text/html": [
       "<pre><code>def make_module(str):\n",
       "</code></pre>\n",
       "<pre><code>&gt;&gt;&gt; make_module('_an_opportunistic_module_')\n",
       "&lt;module '_an_opportunistic_module_'&gt;\n",
       "</code></pre>\n",
       "<pre><code>&gt;&gt;&gt; assert '_an_opportunistic_module_' in sys.modules\n",
       "</code></pre>\n",
       "<pre><code>    try:  return importlib.import_module(str)\n",
       "    except:  return sys.modules.__setitem__(str, types.ModuleType(str)) or sys.modules[str]\n",
       "</code></pre>\n"
      ],
      "text/plain": [
       "<IPython.core.display.HTML object>"
      ]
     },
     "metadata": {},
     "output_type": "display_data"
    }
   ],
   "source": [
    "    def make_module(str):\n",
    ">>> make_module('_an_opportunistic_module_')\n",
    "<module '_an_opportunistic_module_'>\n",
    ">>> assert '_an_opportunistic_module_' in sys.modules\n",
    "\n",
    "        \n",
    "        try:  return importlib.import_module(str)\n",
    "        except:  return sys.modules.__setitem__(str, types.ModuleType(str)) or sys.modules[str]"
   ]
  },
  {
   "cell_type": "code",
   "execution_count": 8,
   "metadata": {},
   "outputs": [],
   "source": [
    "    def unload_ipython_extension(shell: IPython.InteractiveShell):\n",
    "        from . import testing\n",
    "        pops = []\n",
    "        for i, post in enumerate(shell.events.callbacks['post_run_cell']):\n",
    "            if isinstance(post, (testing.Doctest, Weave)):\n",
    "                pops.append(i)\n",
    "        for i in reversed(pops): shell.events.callbacks['post_run_cell'].pop(i)"
   ]
  }
 ],
 "metadata": {
  "kernelspec": {
   "display_name": "p6",
   "language": "python",
   "name": "other-env"
  },
  "language_info": {
   "codemirror_mode": {
    "name": "ipython",
    "version": 3
   },
   "file_extension": ".py",
   "mimetype": "text/x-python",
   "name": "python",
   "nbconvert_exporter": "python",
   "pygments_lexer": "ipython3",
   "version": "3.6.8"
  },
  "nikola": {
   "date": "2018-12-06 12:00:00 UTC",
   "description": "`pidgin.display` is a collection of display rules for IPython objects.  \n\n`StringFormatter` is a class that adds reules for string `object`s.",
   "slug": "display.ipynb",
   "title": "display.ipynb",
   "type": "text"
  }
 },
 "nbformat": 4,
 "nbformat_minor": 2
}
