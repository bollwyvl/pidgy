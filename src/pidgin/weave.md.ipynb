{
 "cells": [
  {
   "cell_type": "markdown",
   "metadata": {},
   "source": [
    "`pidgin.weave` defines how the input source with be displayed, and always follows `pidgin.tangle`. "
   ]
  },
  {
   "cell_type": "markdown",
   "metadata": {},
   "source": [
    "Weaving places `display` as having the same importance as `eval` and `exec` \n",
    "\n",
    "lexical analysis i sperforme don non python source.\n"
   ]
  },
  {
   "cell_type": "code",
   "execution_count": 1,
   "metadata": {},
   "outputs": [],
   "source": [
    "    import IPython, re, functools, traitlets, typing as t\n",
    "    with __import__('importnb').Notebook():\n",
    "        from . import tangle\n",
    "    if __name__ == '__main__':\n",
    "        %reload_ext pidgin\n",
    "        import pidgin"
   ]
  },
  {
   "cell_type": "code",
   "execution_count": 6,
   "metadata": {},
   "outputs": [],
   "source": [
    "    def weave(result: IPython.core.interactiveshell.ExecutionResult) -> t.Tuple[dict, dict]: return IPython.display.display(result.info.raw_cell)"
   ]
  },
  {
   "cell_type": "code",
   "execution_count": 7,
   "metadata": {},
   "outputs": [],
   "source": [
    "    def load_ipython_extension(shell: IPython.core.interactiveshell.InteractiveShell):\n",
    "        shell.display_formatter = WeaveFormatter(**shell.display_formatter._trait_values)\n",
    "        shell.events.register('post_run_cell', weave)\n",
    "        for object in formatters_by_name: shell.display_formatter.mimebundle_formatter.for_type_by_name(*object)  "
   ]
  },
  {
   "cell_type": "markdown",
   "metadata": {},
   "source": [
    "`pidgin.weave` establishes __Markdown__ rules for displaying cell inputs after the `ip.run_cell` has been evaluated.\n",
    "\n",
    "`pidgin.weave` is a secondary literate program with rules for displaying input encoded in `mistune.markdown`."
   ]
  },
  {
   "cell_type": "code",
   "execution_count": 4,
   "metadata": {},
   "outputs": [],
   "source": [
    "    import re, dataclasses, ast, re,traceback, functools, IPython, jinja2, inspect, slugify, collections, html, fnmatch, mistune, inspect, importlib, types, base64, string, traitlets, yaml, io, textwrap\n",
    "    import nbconvert\n",
    "    from mimetypes import guess_type; guess = lambda x: guess_type(x)[0]\n",
    "    shell = IPython.get_ipython()\n",
    "\n",
    "    with __import__('importnb').Notebook():\n",
    "        from . import tangle\n",
    "    with tangle.Pidgin():\n",
    "        from . import testing"
   ]
  },
  {
   "cell_type": "markdown",
   "metadata": {},
   "source": [
    "> The following regular expressions are copied from `mistune`."
   ]
  },
  {
   "cell_type": "markdown",
   "metadata": {},
   "source": [
    "`mistune.BlockGrammar and mistune.InlineGrammar` includes doctype and prolog parsing in the html and should be used with `mistune.BlockLexer`."
   ]
  },
  {
   "cell_type": "code",
   "execution_count": 5,
   "metadata": {},
   "outputs": [],
   "source": [
    "    class InlineHtmlGrammar:\n",
    "        \"\"\"Add svg constructs to inline_html regex.\"\"\"\n",
    "        inline_html = re.compile(\n",
    "                r'^(?:%s|%s|%s)' % (\n",
    "                    r'<!--[\\s\\S]*?-->|<!DOCTYPE [\\s\\S]*?>|<\\?[\\s\\S]*?\\?>',\n",
    "                    r'<(\\w+%s)((?:%s)*?)\\s*>([\\s\\S]*?)<\\/\\1>' % (\n",
    "                        mistune._valid_end, mistune._valid_attr),\n",
    "                    r'<\\w+%s(?:%s)*?\\s*\\/?>' % (mistune._valid_end, mistune._valid_attr)))\n",
    "        \n",
    "    class InlineGrammar(InlineHtmlGrammar, mistune.InlineGrammar): ..."
   ]
  },
  {
   "cell_type": "code",
   "execution_count": 6,
   "metadata": {},
   "outputs": [],
   "source": [
    "    error = \"background-color: var(--jp-rendermime-error-background);\"\n",
    "    ws = \"white-space: pre;\""
   ]
  },
  {
   "cell_type": "code",
   "execution_count": 7,
   "metadata": {},
   "outputs": [],
   "source": [
    "    def whiten(str: str) -> str: return re.sub('\\S{1}', ' ', str)"
   ]
  },
  {
   "cell_type": "code",
   "execution_count": 8,
   "metadata": {},
   "outputs": [],
   "source": [
    "    class WeaveInlineLexer(mistune.InlineLexer):\n",
    "        \"\"\"WeavePidginInlineLexer is responsible for updating modifying the interactive IPython state.\n",
    "        \"\"\"\n",
    "        grammar_class = InlineGrammar"
   ]
  },
  {
   "cell_type": "code",
   "execution_count": 9,
   "metadata": {},
   "outputs": [],
   "source": [
    "    link = \"\"\"[{text}]({link} \"{title}\")\"\"\""
   ]
  },
  {
   "cell_type": "code",
   "execution_count": 10,
   "metadata": {},
   "outputs": [],
   "source": [
    "    class WeaveRenderer(mistune.Renderer):\n",
    "        \"\"\"WeaveRenderer is responsbile for formatting the output of the input code.\"\"\"\n",
    "        failure = None\n",
    "        tmp_code = []\n",
    "         \n",
    "        def codespan(self, In: str) -> str:\n",
    "            all = '\\n'.join([*self.tmp_code, In])\n",
    "            if all.endswith('\\\\'): \n",
    "                self.tmp_code = all.splitlines()\n",
    "                return super().codespan(In)\n",
    "            self.tmp_code = []\n",
    "            Out = ipython_output(F\"`{all}`\")\n",
    "            return super().codespan(text) if Out == all else Out\n",
    "        \n",
    "        def text(self, text: str) -> str: return text\n",
    "        \n",
    "        def doctest(self, In: str) -> str:\n",
    "            Out = ipython_output(In)\n",
    "            return super().block_code(In) if In == Out else Out\n",
    "        \n",
    "        def link(self, link, title, text):\n",
    "            ipython_output(link.format(**locals()))\n",
    "            return super().link(link, title, text)\n",
    "\n",
    "        def image(self, link, title, text):\n",
    "            ipython_output('!'+link.format(**locals()))\n",
    "            return super().image(link, title, text)"
   ]
  },
  {
   "cell_type": "markdown",
   "metadata": {},
   "source": [
    "add header and footnotes"
   ]
  },
  {
   "cell_type": "code",
   "execution_count": 11,
   "metadata": {},
   "outputs": [
    {
     "data": {
      "text/html": [
       "<p>User statements versus user expressions.</p>"
      ],
      "text/markdown": [
       "User statements versus user expressions."
      ],
      "text/plain": [
       "User statements versus user expressions."
      ]
     },
     "metadata": {},
     "output_type": "display_data"
    }
   ],
   "source": [
    "User statements versus user expressions."
   ]
  },
  {
   "cell_type": "code",
   "execution_count": 12,
   "metadata": {},
   "outputs": [],
   "source": [
    "    class WeaveMarkdown(mistune.Markdown):\n",
    "        \"\"\"WeaveMarkdown combines initializes and applies WeavePidginBlockLexer and WeavePidginInlineLexer.\n",
    "        \"\"\"\n",
    "        def output_doctest(self): return self.renderer.doctest(self.token['text'])\n",
    "        \n",
    "        def render(self, text, failure=None):\n",
    "            self.renderer.failure = failure\n",
    "            return super().render(text)\n",
    "        \n",
    "        def parse(self, text):\n",
    "            out = self.output(mistune.preprocessing(text))\n",
    "            keys = self.block.def_footnotes\n",
    "            self.block.def_footnotes = {}\n",
    "            self.inline.footnotes = {}\n",
    "            \n",
    "            if not self.footnotes: return out\n",
    "\n",
    "            self.footnotes = sorted(self.footnotes, key=lambda o: keys.get(o['key']), reverse=True)\n",
    "\n",
    "            body = self.renderer.placeholder()\n",
    "            while self.footnotes:\n",
    "                note = self.footnotes.pop()\n",
    "                body += self.renderer.footnote_item(note['key'], note['text'])\n",
    "\n",
    "            out += self.renderer.footnotes(body)\n",
    "            return out"
   ]
  },
  {
   "cell_type": "code",
   "execution_count": 13,
   "metadata": {},
   "outputs": [],
   "source": [
    "    class BlockLexer(tangle.BlockLexer):\n",
    "        def __init__(self, rules=None, **kwargs):\n",
    "            super().__init__(rules, **kwargs)\n",
    "            self.def_links = IPython.get_ipython().display_formatter.def_links"
   ]
  },
  {
   "cell_type": "markdown",
   "metadata": {},
   "source": [
    "1. `IPython.core.formatters.DisplayFormatter`\n",
    "    1. `IPython.core.formatters.IPythonDisplayFormatter`\n",
    "    2. `IPython.core.formatters.MimeBundleFormatter`\n",
    "    3. `IPython.core.formatters.DisplayFormatter.formatters`"
   ]
  },
  {
   "cell_type": "markdown",
   "metadata": {},
   "source": [
    "Lead in with one example of a parser then build out a few more.  The inline parser is proably best."
   ]
  },
  {
   "cell_type": "code",
   "execution_count": 14,
   "metadata": {},
   "outputs": [],
   "source": [
    "    def eval_shorthand_ipython(ip, str):\n",
    "        return eval(ip.input_transformer_manager.transform_cell(textwrap.indent(str, ' '*4)), ip.user_ns, ip.user_global_ns)"
   ]
  },
  {
   "cell_type": "code",
   "execution_count": 15,
   "metadata": {},
   "outputs": [],
   "source": [
    "    def embed(ip, str):\n",
    "        type = guess(str) or ''\n",
    "        if str.startswith('http'): \n",
    "            if type.startswith('image') and not type.endswith('svg'):\n",
    "                return IPython.display.Image(str)\n",
    "            return IPython.display.IFrame(str, '100%', '500px')\n"
   ]
  },
  {
   "cell_type": "code",
   "execution_count": 16,
   "metadata": {},
   "outputs": [],
   "source": [
    "    def graphviz(shell, str): \n",
    "        try: import graphviz\n",
    "        except: return\n",
    "        if '->' in str and not str.startswith('di'): str = 'di' + str\n",
    "        return graphviz.Source(str)"
   ]
  },
  {
   "cell_type": "code",
   "execution_count": 17,
   "metadata": {},
   "outputs": [],
   "source": [
    "    def run_code(shell, raw):\n",
    "        text, error = raw.strip('`'), None\n",
    "        body = text.splitlines()[-1]\n",
    "        with IPython.utils.capture.capture_output(stderr=False) as output: \n",
    "            result = shell.run_cell(text)\n",
    "        print(result)\n",
    "        error = result.error_in_exec or result.error_before_exec\n",
    "        return IPython.display.HTML(\n",
    "    F\"\"\"<code style=\"background: var(--jp-rendermime-error-background);\" title=\"{format_title(str(error))}\">{body}</code>\"\"\"\n",
    "        ) if error else IPython.display.HTML(F\"<code>{body}</code>\")"
   ]
  },
  {
   "cell_type": "code",
   "execution_count": 18,
   "metadata": {},
   "outputs": [],
   "source": [
    "    def run_block_code(ip, raw):\n",
    "        return F\"<pre>{run_code(ip, raw)}</pre>\""
   ]
  },
  {
   "cell_type": "code",
   "execution_count": 19,
   "metadata": {},
   "outputs": [],
   "source": [
    "    @dataclasses.dataclass\n",
    "    class PrettyMarkdown:\n",
    "        data: str\n",
    "        def _repr_mimebundle_(self, include=None, exclude=None): return {'text/plain': self.data, 'text/markdown': self.data}, {}"
   ]
  },
  {
   "cell_type": "code",
   "execution_count": 20,
   "metadata": {},
   "outputs": [],
   "source": [
    "    def run_doctest(ip, text):\n",
    "        with IPython.utils.capture.capture_output() as out:\n",
    "            # variables created in the doctest namespace are stored in a specific table.\n",
    "            runner = testing.run_docstring_examples(text, IPython.get_ipython(), verbose=True)\n",
    "        runner.failures and  IPython.get_ipython().showtraceback(\n",
    "            (testing.DocTestException, testing.DocTestException(out.stdout), BaseException().__traceback__))\n",
    "        return IPython.display.HTML(\n",
    "    F\"\"\"<pre title=\"{format_title(out.stdout)}\"><code style=\"background: var(--jp-rendermime-error-background);\">{text}</code></pre>\"\"\"\n",
    "        ) if runner.failures else IPython.display.Pretty(text)"
   ]
  },
  {
   "cell_type": "code",
   "execution_count": 21,
   "metadata": {},
   "outputs": [],
   "source": [
    "    def assign_link(ip, raw):\n",
    "        text, link_title = raw.lstrip('!').lstrip('[').rstrip(')').partition(')[')\n",
    "        link, title = link_title.split(' ', 1)\n",
    "        ip.user_ns[link] = ip.user_ns.get(link, link)\n",
    "        if text.strip(): ip.user_ns[text] = ip.user_ns.get(text, raw)"
   ]
  },
  {
   "cell_type": "code",
   "execution_count": 22,
   "metadata": {},
   "outputs": [],
   "source": [
    "    def format_title(object): return '&#013;'.join(\n",
    "        html.escape(nbconvert.filters.strip_ansi(str(object))).splitlines())"
   ]
  },
  {
   "cell_type": "code",
   "execution_count": 23,
   "metadata": {},
   "outputs": [],
   "source": [
    "    class StringFormatterException(BaseException): ..."
   ]
  },
  {
   "cell_type": "code",
   "execution_count": 24,
   "metadata": {},
   "outputs": [],
   "source": [
    "    class StringFormatter(IPython.core.formatters.DisplayFormatter):\n",
    "        \"\"\"The parent is the displayformatter\"\"\"        \n",
    "        string_formatters = traitlets.Dict(default_value={\n",
    "            ';[! ]*': eval_shorthand_ipython,\n",
    "            ',[! ]*': eval_shorthand_ipython,\n",
    "            'https://*' : embed,\n",
    "            'http://*' : embed,\n",
    "            'graph*': graphviz, \n",
    "            'digraph*': graphviz,\n",
    "            '>>> *': run_doctest,\n",
    "            '`*[!\\\\]`': run_code,\n",
    "            '```*[!\\\\]```': run_code,\n",
    "            '[*](*)': assign_link,\n",
    "            '![*](*)': assign_link,})\n",
    "        \n",
    "        def for_pattern(self, pattern, callable=None):\n",
    "            if callable: self.string_formatters[pattern] = callable\n",
    "            return self.string_formatters.get(pattern, None)\n",
    "        \n",
    "        def match_pattern(self, object):\n",
    "            for pattern in self.string_formatters:\n",
    "                if fnmatch.fnmatch(object, pattern): return pattern\n",
    "            \n",
    "        def format(self, object, include=None, exclude=None):\n",
    "            value = self.parent.user_ns.get(object, object)                \n",
    "            if value != object: return self.format(value)\n",
    "\n",
    "            if isinstance(object, str): \n",
    "                pattern = self.match_pattern(object)\n",
    "                object = self.string_formatters[pattern](self.parent, object) if pattern else object\n",
    "            return super().format(object, include=include, exclude=exclude)"
   ]
  },
  {
   "cell_type": "code",
   "execution_count": 25,
   "metadata": {},
   "outputs": [],
   "source": [
    "    class WeaveFormatter(StringFormatter):\n",
    "        \"\"\"The parent is the displayformatter\"\"\"    \n",
    "        html = traitlets.Bool(False, help=\"\"\"Return an annotated and custom html view for the markdown input.\"\"\")        \n",
    "        doctest = traitlets.Bool(True, help=\"\"\"Evaluate doctests in the source..\"\"\")\n",
    "        inline = traitlets.Bool(True, help=\"\"\"Evaluate inline code elements..\"\"\")\n",
    "        def_links = traitlets.Dict(default_value={})\n",
    "        environment = traitlets.Instance(jinja2.Environment)\n",
    "        \n",
    "        @traitlets.default('environment')\n",
    "        def _default_environment(self): return new_environment()\n",
    "        \n",
    "        level = traitlets.Int(default_value=0)\n",
    "        def __enter__(cls): cls.level += 1\n",
    "        def __exit__(cls, *exc): cls.level -= 1\n",
    "\n",
    "        def template(self, object, **data): \n",
    "            return self.environment.from_string(object).render(\n",
    "                collections.ChainMap(data, self.parent.user_ns, vars(__import__('builtins'))))\n",
    "        \n",
    "        def front_matter(self, str):\n",
    "            if str.startswith('---'):\n",
    "                if '\\n---' in str:\n",
    "                    import yaml, io\n",
    "                    body = str.lstrip('---')\n",
    "                    data, sep, body = body.partition('---\\n')\n",
    "                    data = yaml.safe_load(io.StringIO(self.environment.from_string(data).render()))\n",
    "                    if isinstance(data, dict): return body, data\n",
    "            return str, {}\n",
    "        \n",
    "        def format(self, object, include=None, exclude=None):\n",
    "            if isinstance(object, str): \n",
    "                with self:\n",
    "                    data, metadata = super().format(object, include=include, exclude=exclude)\n",
    "                    if len(data) > 1 or 'text/plain' not in data:\n",
    "                        return data, metadata\n",
    "                    \n",
    "                    if self.level == 1: \n",
    "                        source, metadata = self.front_matter(object)\n",
    "                        source = self.template(source, **metadata)\n",
    "                        return {\n",
    "                            'text/plain': object, 'text/markdown': source, \n",
    "                            'text/html': self.template(markdown().render(''.join(source)), **metadata)\n",
    "                        } if do_publish(object) else {}, metadata\n",
    "            return super().format(object, include=include, exclude=exclude)\n"
   ]
  },
  {
   "cell_type": "code",
   "execution_count": 26,
   "metadata": {},
   "outputs": [],
   "source": [
    "    def markdown() -> mistune.Markdown: \n",
    "        return WeaveMarkdown(\n",
    "        renderer=WeaveRenderer(escape=False, parse_block_html=True, parse_inline_html=False),\n",
    "        block=BlockLexer, inline=WeaveInlineLexer)"
   ]
  },
  {
   "cell_type": "code",
   "execution_count": 27,
   "metadata": {},
   "outputs": [],
   "source": [
    "    def do_publish(data: str) -> bool:\n",
    "        is_display = bool(data.partition('\\n')[0].strip()) \n",
    "        source = tangle.markdown_to_python(data)\n",
    "        is_display = is_display & ~bool(only_contains_block_code(data, source))\n",
    "        try:\n",
    "            if data.strip() != ast.literal_eval(source.rstrip().rstrip(';')).strip(): is_display = False\n",
    "        except: ...\n",
    "        return is_display"
   ]
  },
  {
   "cell_type": "code",
   "execution_count": 28,
   "metadata": {},
   "outputs": [],
   "source": [
    "    def only_contains_block_code(raw: str, source: str) -> bool: \n",
    "        return raw.startswith('%%') or (\n",
    "            list(map(str.rstrip, textwrap.dedent(raw).splitlines())) == list(map(str.rstrip, textwrap.dedent(source).splitlines())))"
   ]
  },
  {
   "cell_type": "code",
   "execution_count": 29,
   "metadata": {},
   "outputs": [],
   "source": [
    "    def format_title(object): \n",
    "        return '&#013;'.join(html.escape(nbconvert.filters.strip_ansi(str(object))).splitlines())"
   ]
  },
  {
   "cell_type": "code",
   "execution_count": 30,
   "metadata": {},
   "outputs": [
    {
     "data": {
      "text/html": [
       "<p>The weave step is similar to the user_expressions.  Only evaluating expressions was too limiting.</p>"
      ],
      "text/markdown": [
       "The weave step is similar to the user_expressions.  Only evaluating expressions was too limiting."
      ],
      "text/plain": [
       "The weave step is similar to the user_expressions.  Only evaluating expressions was too limiting."
      ]
     },
     "metadata": {},
     "output_type": "display_data"
    }
   ],
   "source": [
    "The weave step is similar to the user_expressions.  Only evaluating expressions was too limiting."
   ]
  },
  {
   "cell_type": "code",
   "execution_count": null,
   "metadata": {},
   "outputs": [],
   "source": [
    "    def unload_ipython_extension(shell):\n",
    "        shell.display_formatter = IPython.core.formatters.DisplayFormatter(**shell.display_formatter._trait_values)\n",
    "        shell.events.callbacks['post_run_cell'] = [object for object in shell.events.callbacks['post_run_cell'] if object.__name__ != 'weave']"
   ]
  },
  {
   "cell_type": "markdown",
   "metadata": {},
   "source": [
    "`run_cell_display` triggers a display on the input if contains anything other than block code."
   ]
  },
  {
   "cell_type": "code",
   "execution_count": null,
   "metadata": {},
   "outputs": [],
   "source": [
    "## Templating\n",
    "\n",
    "Putting real data into documents\n",
    "\n",
    "Templates are common in blogs.\n",
    "\n",
    "Jinja has a port in javascript nunjucks.\n",
    "\n",
    "\n",
    "[templating]: https://en.wikipedia.org/wiki/Template_processor\n",
    "[jekyll]: https://jekyllrb.com/\n",
    "[fstring]:"
   ]
  },
  {
   "cell_type": "code",
   "execution_count": 3,
   "metadata": {},
   "outputs": [],
   "source": [
    "    import jinja2, nbconvert, types, collections, IPython\n",
    "    from mimetypes import guess_type; guess = lambda x: guess_type(x)[0]"
   ]
  },
  {
   "cell_type": "code",
   "execution_count": null,
   "metadata": {},
   "outputs": [],
   "source": [
    "    class TemplateExporter(nbconvert.exporters.TemplateExporter):\n",
    "        def _create_environment(self):\n",
    "            environment = super()._create_environment()\n",
    "            environment.undefined = jinja2.StrictUndefined\n",
    "            environment.finalize = ipython_output\n",
    "            return environment\n",
    "        \n",
    "        @classmethod\n",
    "        def new_environment(cls, **kwargs): return cls(**kwargs).environment\n",
    "\n",
    "    new_environment = TemplateExporter.new_environment"
   ]
  },
  {
   "cell_type": "code",
   "execution_count": null,
   "metadata": {},
   "outputs": [],
   "source": [
    "    def flatten(str): return '&#xA;'.join(str.splitlines())"
   ]
  },
  {
   "cell_type": "code",
   "execution_count": null,
   "metadata": {},
   "outputs": [],
   "source": [
    "    def format_bytes(bytes, object):\n",
    "        return {\n",
    "            'text/html': format_images('image/png', {'image/png': bytes}),\n",
    "            'text/plain': repr(object),}, {}"
   ]
  },
  {
   "cell_type": "code",
   "execution_count": null,
   "metadata": {},
   "outputs": [],
   "source": [
    "    def show_axes(object):\n",
    "        import matplotlib.backends.backend_agg\n",
    "        bytes = io.BytesIO()\n",
    "        matplotlib.backends.backend_agg.FigureCanvasAgg(getattr(object, 'figure', object)).print_png(bytes)\n",
    "        return format_bytes(bytes.getvalue(), object)"
   ]
  },
  {
   "cell_type": "code",
   "execution_count": null,
   "metadata": {},
   "outputs": [],
   "source": [
    "    def show_sympy_axes(object): \n",
    "        s = __import__('io').BytesIO()\n",
    "        object.save(s)\n",
    "        return format_bytes(s.getvalue(), object)"
   ]
  },
  {
   "cell_type": "code",
   "execution_count": null,
   "metadata": {},
   "outputs": [],
   "source": [
    "    formatters_by_name = (\n",
    "        ('matplotlib.figure', 'Axes', show_axes), \n",
    "        ('matplotlib.axes._subplots', 'AxesSubplot', show_axes),\n",
    "        ('sympy.plotting.plot', 'Plot', show_sympy_axes),\n",
    "    )"
   ]
  },
  {
   "cell_type": "code",
   "execution_count": null,
   "metadata": {},
   "outputs": [],
   "source": [
    "    if __name__ == '__main__':\n",
    "        with tangle.PidginImporter():\n",
    "            from . import weave\n",
    "        unload_ipython_extension(get_ipython())        \n",
    "        weave.load_ipython_extension(get_ipython())\n",
    "        load_ipython_extension(get_ipython())"
   ]
  },
  {
   "cell_type": "code",
   "execution_count": 4,
   "metadata": {},
   "outputs": [],
   "source": [
    "    def ipython_output(object=None, bundle=None):\n",
    "        if bundle is None:             \n",
    "            bundle, metadata = IPython.get_ipython().display_formatter.format(object)\n",
    "        for type in [\n",
    "            str for str in IPython.get_ipython().display_formatter.active_types if str != 'text/plain'\n",
    "        ] + ['text/plain']:\n",
    "            if type == 'text/plain': \n",
    "                if object is None: return bundle[type]\n",
    "                return object\n",
    "            if type in bundle: \n",
    "                object = bundle[type]\n",
    "                if type.startswith('image') and 'svg' not in type: object = format_images(type, bundle)._repr_html_()\n",
    "                if type ==  'text/html': object = flatten(object)\n",
    "                if type == 'image/svg+xml': object = flatten(re.sub('(xmlns(:?\\S*)?=\"\\S*?\")?', r'', object))\n",
    "                if type == 'text/latex':\n",
    "                    if object.startswith('$$') and object.endswith('$$'): object = object[1:-1]\n",
    "                break\n",
    "        return object"
   ]
  },
  {
   "cell_type": "code",
   "execution_count": null,
   "metadata": {},
   "outputs": [],
   "source": [
    "    def format_images(type, bundle):\n",
    "        str = bundle[type]\n",
    "        import base64, IPython\n",
    "        \n",
    "        if isinstance(str, bytes):\n",
    "            str = base64.b64encode(str).decode('utf-8')\n",
    "            \n",
    "        if type in ('image/svg+xml', 'text/html'):  ...\n",
    "        elif str.startswith('http'): \n",
    "            str = F\"\"\"<img src=\"{str}\"/>\"\"\"\n",
    "        else: \n",
    "            str = F\"\"\"<img src=\"data:{type};base64,{str}\"/>\"\"\"\n",
    "            \n",
    "        return IPython.display.HTML(str)"
   ]
  },
  {
   "cell_type": "code",
   "execution_count": 31,
   "metadata": {},
   "outputs": [],
   "source": [
    "    if __name__ == '__main__':\n",
    "        unload_ipython_extension(get_ipython())\n",
    "        tangle.unload_ipython_extension(get_ipython())\n",
    "        tangle.load_ipython_extension(get_ipython())\n",
    "        load_ipython_extension(get_ipython())"
   ]
  },
  {
   "cell_type": "code",
   "execution_count": null,
   "metadata": {},
   "outputs": [],
   "source": []
  },
  {
   "cell_type": "code",
   "execution_count": 32,
   "metadata": {},
   "outputs": [
    {
     "ename": "TypeError",
     "evalue": "unhashable type: 'dict'",
     "output_type": "error",
     "traceback": [
      "\u001b[0;31m---------------------------------------------------------------------------\u001b[0m",
      "\u001b[0;31mTypeError\u001b[0m                                 Traceback (most recent call last)",
      "\u001b[0;32m<ipython-input-32-6b7a766c155b>\u001b[0m in \u001b[0;36m<module>\u001b[0;34m\u001b[0m\n\u001b[0;32m----> 1\u001b[0;31m \u001b[0mget_ipython\u001b[0m\u001b[0;34m(\u001b[0m\u001b[0;34m)\u001b[0m\u001b[0;34m.\u001b[0m\u001b[0mdisplay_formatter\u001b[0m\u001b[0;34m.\u001b[0m\u001b[0mformat\u001b[0m\u001b[0;34m(\u001b[0m\u001b[0mIPython\u001b[0m\u001b[0;34m.\u001b[0m\u001b[0mdisplay\u001b[0m\u001b[0;34m.\u001b[0m\u001b[0mPretty\u001b[0m\u001b[0;34m(\u001b[0m\u001b[0;34m'object'\u001b[0m\u001b[0;34m)\u001b[0m\u001b[0;34m)\u001b[0m\u001b[0;34m\u001b[0m\u001b[0m\n\u001b[0m\u001b[1;32m      2\u001b[0m \u001b[0;34m\u001b[0m\u001b[0m\n\u001b[1;32m      3\u001b[0m \u001b[0;34m\u001b[0m\u001b[0m\n",
      "\u001b[0;32m~/anaconda/envs/p6/lib/python3.6/site-packages/IPython/core/displayhook.py\u001b[0m in \u001b[0;36m__call__\u001b[0;34m(self, result)\u001b[0m\n\u001b[1;32m    255\u001b[0m             \u001b[0mself\u001b[0m\u001b[0;34m.\u001b[0m\u001b[0mstart_displayhook\u001b[0m\u001b[0;34m(\u001b[0m\u001b[0;34m)\u001b[0m\u001b[0;34m\u001b[0m\u001b[0m\n\u001b[1;32m    256\u001b[0m             \u001b[0mself\u001b[0m\u001b[0;34m.\u001b[0m\u001b[0mwrite_output_prompt\u001b[0m\u001b[0;34m(\u001b[0m\u001b[0;34m)\u001b[0m\u001b[0;34m\u001b[0m\u001b[0m\n\u001b[0;32m--> 257\u001b[0;31m             \u001b[0mformat_dict\u001b[0m\u001b[0;34m,\u001b[0m \u001b[0mmd_dict\u001b[0m \u001b[0;34m=\u001b[0m \u001b[0mself\u001b[0m\u001b[0;34m.\u001b[0m\u001b[0mcompute_format_data\u001b[0m\u001b[0;34m(\u001b[0m\u001b[0mresult\u001b[0m\u001b[0;34m)\u001b[0m\u001b[0;34m\u001b[0m\u001b[0m\n\u001b[0m\u001b[1;32m    258\u001b[0m             \u001b[0mself\u001b[0m\u001b[0;34m.\u001b[0m\u001b[0mupdate_user_ns\u001b[0m\u001b[0;34m(\u001b[0m\u001b[0mresult\u001b[0m\u001b[0;34m)\u001b[0m\u001b[0;34m\u001b[0m\u001b[0m\n\u001b[1;32m    259\u001b[0m             \u001b[0mself\u001b[0m\u001b[0;34m.\u001b[0m\u001b[0mfill_exec_result\u001b[0m\u001b[0;34m(\u001b[0m\u001b[0mresult\u001b[0m\u001b[0;34m)\u001b[0m\u001b[0;34m\u001b[0m\u001b[0m\n",
      "\u001b[0;32m~/anaconda/envs/p6/lib/python3.6/site-packages/IPython/core/displayhook.py\u001b[0m in \u001b[0;36mcompute_format_data\u001b[0;34m(self, result)\u001b[0m\n\u001b[1;32m    149\u001b[0m \u001b[0;34m\u001b[0m\u001b[0m\n\u001b[1;32m    150\u001b[0m         \"\"\"\n\u001b[0;32m--> 151\u001b[0;31m         \u001b[0;32mreturn\u001b[0m \u001b[0mself\u001b[0m\u001b[0;34m.\u001b[0m\u001b[0mshell\u001b[0m\u001b[0;34m.\u001b[0m\u001b[0mdisplay_formatter\u001b[0m\u001b[0;34m.\u001b[0m\u001b[0mformat\u001b[0m\u001b[0;34m(\u001b[0m\u001b[0mresult\u001b[0m\u001b[0;34m)\u001b[0m\u001b[0;34m\u001b[0m\u001b[0m\n\u001b[0m\u001b[1;32m    152\u001b[0m \u001b[0;34m\u001b[0m\u001b[0m\n\u001b[1;32m    153\u001b[0m     \u001b[0;31m# This can be set to True by the write_output_prompt method in a subclass\u001b[0m\u001b[0;34m\u001b[0m\u001b[0;34m\u001b[0m\u001b[0m\n",
      "\u001b[0;32m<ipython-input-25-2875e163e5fd>\u001b[0m in \u001b[0;36mformat\u001b[0;34m(self, object, include, exclude)\u001b[0m\n\u001b[1;32m     42\u001b[0m                         \u001b[0;34m'text/html'\u001b[0m\u001b[0;34m:\u001b[0m \u001b[0mself\u001b[0m\u001b[0;34m.\u001b[0m\u001b[0mtemplate\u001b[0m\u001b[0;34m(\u001b[0m\u001b[0mmarkdown\u001b[0m\u001b[0;34m(\u001b[0m\u001b[0;34m)\u001b[0m\u001b[0;34m.\u001b[0m\u001b[0mrender\u001b[0m\u001b[0;34m(\u001b[0m\u001b[0;34m''\u001b[0m\u001b[0;34m.\u001b[0m\u001b[0mjoin\u001b[0m\u001b[0;34m(\u001b[0m\u001b[0msource\u001b[0m\u001b[0;34m)\u001b[0m\u001b[0;34m)\u001b[0m\u001b[0;34m,\u001b[0m \u001b[0;34m**\u001b[0m\u001b[0mmetadata\u001b[0m\u001b[0;34m)\u001b[0m\u001b[0;34m\u001b[0m\u001b[0m\n\u001b[1;32m     43\u001b[0m                     } if do_publish(object) else {}, metadata\n\u001b[0;32m---> 44\u001b[0;31m         \u001b[0;32mreturn\u001b[0m \u001b[0msuper\u001b[0m\u001b[0;34m(\u001b[0m\u001b[0;34m)\u001b[0m\u001b[0;34m.\u001b[0m\u001b[0mformat\u001b[0m\u001b[0;34m(\u001b[0m\u001b[0mobject\u001b[0m\u001b[0;34m,\u001b[0m \u001b[0minclude\u001b[0m\u001b[0;34m=\u001b[0m\u001b[0minclude\u001b[0m\u001b[0;34m,\u001b[0m \u001b[0mexclude\u001b[0m\u001b[0;34m=\u001b[0m\u001b[0mexclude\u001b[0m\u001b[0;34m)\u001b[0m\u001b[0;34m\u001b[0m\u001b[0m\n\u001b[0m\u001b[1;32m     45\u001b[0m \u001b[0;34m\u001b[0m\u001b[0m\n",
      "\u001b[0;32m<ipython-input-24-f0bd75d8fc97>\u001b[0m in \u001b[0;36mformat\u001b[0;34m(self, object, include, exclude)\u001b[0m\n\u001b[1;32m     23\u001b[0m \u001b[0;34m\u001b[0m\u001b[0m\n\u001b[1;32m     24\u001b[0m     \u001b[0;32mdef\u001b[0m \u001b[0mformat\u001b[0m\u001b[0;34m(\u001b[0m\u001b[0mself\u001b[0m\u001b[0;34m,\u001b[0m \u001b[0mobject\u001b[0m\u001b[0;34m,\u001b[0m \u001b[0minclude\u001b[0m\u001b[0;34m=\u001b[0m\u001b[0;32mNone\u001b[0m\u001b[0;34m,\u001b[0m \u001b[0mexclude\u001b[0m\u001b[0;34m=\u001b[0m\u001b[0;32mNone\u001b[0m\u001b[0;34m)\u001b[0m\u001b[0;34m:\u001b[0m\u001b[0;34m\u001b[0m\u001b[0m\n\u001b[0;32m---> 25\u001b[0;31m         \u001b[0mvalue\u001b[0m \u001b[0;34m=\u001b[0m \u001b[0mself\u001b[0m\u001b[0;34m.\u001b[0m\u001b[0mparent\u001b[0m\u001b[0;34m.\u001b[0m\u001b[0muser_ns\u001b[0m\u001b[0;34m.\u001b[0m\u001b[0mget\u001b[0m\u001b[0;34m(\u001b[0m\u001b[0mobject\u001b[0m\u001b[0;34m,\u001b[0m \u001b[0mobject\u001b[0m\u001b[0;34m)\u001b[0m\u001b[0;34m\u001b[0m\u001b[0m\n\u001b[0m\u001b[1;32m     26\u001b[0m         \u001b[0;32mif\u001b[0m \u001b[0mvalue\u001b[0m \u001b[0;34m!=\u001b[0m \u001b[0mobject\u001b[0m\u001b[0;34m:\u001b[0m \u001b[0;32mreturn\u001b[0m \u001b[0mself\u001b[0m\u001b[0;34m.\u001b[0m\u001b[0mformat\u001b[0m\u001b[0;34m(\u001b[0m\u001b[0mvalue\u001b[0m\u001b[0;34m)\u001b[0m\u001b[0;34m\u001b[0m\u001b[0m\n\u001b[1;32m     27\u001b[0m \u001b[0;34m\u001b[0m\u001b[0m\n",
      "\u001b[0;31mTypeError\u001b[0m: unhashable type: 'dict'"
     ]
    }
   ],
   "source": [
    "    get_ipython().display_formatter.format(IPython.display.Pretty('object'))"
   ]
  },
  {
   "cell_type": "code",
   "execution_count": null,
   "metadata": {},
   "outputs": [],
   "source": []
  }
 ],
 "metadata": {
  "kernelspec": {
   "display_name": "p6",
   "language": "python",
   "name": "other-env"
  },
  "language_info": {
   "codemirror_mode": {
    "name": "ipython",
    "version": 3
   },
   "file_extension": ".py",
   "mimetype": "text/x-python",
   "name": "python",
   "nbconvert_exporter": "python",
   "pygments_lexer": "ipython3",
   "version": "3.6.3"
  },
  "nikola": {
   "date": "2018-12-06 12:00:00 UTC",
   "description": "`pidgin.display` is a collection of display rules for IPython objects.  \n\n`StringFormatter` is a class that adds reules for string `object`s.",
   "slug": "display.ipynb",
   "title": "display.ipynb",
   "type": "text"
  }
 },
 "nbformat": 4,
 "nbformat_minor": 2
}
