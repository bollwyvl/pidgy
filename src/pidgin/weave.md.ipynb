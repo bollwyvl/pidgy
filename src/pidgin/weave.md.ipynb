{
 "cells": [
  {
   "cell_type": "markdown",
   "metadata": {},
   "source": [
    "`pidgin.weave` controls second of the literate computing REPL.  It controls how the source code is display.  \n",
    "\n",
    ">>> assert pidgin.weave.__f"
   ]
  },
  {
   "cell_type": "code",
   "execution_count": 1,
   "metadata": {},
   "outputs": [],
   "source": [
    "    if __name__ == '__main__':\n",
    "        %reload_ext pidgin"
   ]
  },
  {
   "cell_type": "markdown",
   "metadata": {},
   "source": [
    "`pidgin.weave` establishes __Markdown__ rules for displaying cell inputs after the `ip.run_cell` has been evaluated.\n",
    "\n",
    "`pidgin.weave` is a secondary literate program with rules for displaying input encoded in `mistune.markdown`."
   ]
  },
  {
   "cell_type": "code",
   "execution_count": 2,
   "metadata": {},
   "outputs": [],
   "source": [
    "    import re, dataclasses, ast, re,traceback, functools, IPython, jinja2, inspect, slugify, collections, html, fnmatch, mistune, inspect, importlib, types, base64, string, traitlets, yaml, io, textwrap\n",
    "    import doctest, pygments\n",
    "    from mimetypes import guess_type; guess = lambda x: guess_type(x)[0]\n",
    "    ip = IPython.get_ipython()\n",
    "\n",
    "    with __import__('importnb').Notebook():\n",
    "        try:  from . import templating, doctesting, tangle, code_formatting\n",
    "        except:   import templating, doctesting, tangle, code_formatting"
   ]
  },
  {
   "cell_type": "code",
   "execution_count": 3,
   "metadata": {},
   "outputs": [
    {
     "data": {
      "text/html": [
       "<code style=\"white-space: pre;\" title=\"\">class <span style=\"border-bottom: 1px dotted gray;\" title=\"Init signature: PidginWeave_Tangle(*args, **kwargs)&#013;Docstring:      The `PidginWeave_Tangle` is a second execution of the source with the intent of display.&#013;Init docstring:&#013;Create a configurable given a config config.&#013;&#013;Parameters&#013;----------&#013;config : Config&#013;    If this is empty, default values are used. If config is a&#013;    :class:`Config` instance, it will be used to configure the&#013;    instance.&#013;parent : Configurable instance, optional&#013;    The parent Configurable instance of this object.&#013;&#013;Notes&#013;-----&#013;Subclasses of Configurable must call the :meth:`__init__` method of&#013;:class:`Configurable` *before* doing anything else and using&#013;:func:`super`::&#013;&#013;    class MyConfigurable(Configurable):&#013;        def __init__(self, config=None):&#013;            super(MyConfigurable, self).__init__(config=config)&#013;            # Then any other code you need to finish initialization.&#013;&#013;This ensures that instances will be configured properly.&#013;File:           &#x27;&lt;safe path&gt;\\traitlets.py&#x27;&#013;Type:           MetaHasTraits\">PidginWeave_Tangle</span>(<span style=\"border-bottom: 1px dotted gray;\" title=\"Init signature: traitlets.config.SingletonConfigurable(*args, **kwargs)&#013;Docstring:     &#013;A configurable that only allows one instance.&#013;&#013;This class is for classes that should only have one instance of itself&#013;or *any* subclass. To create and retrieve such a class use the&#013;:meth:`SingletonConfigurable.instance` method.&#013;Init docstring:&#013;Create a configurable given a config config.&#013;&#013;Parameters&#013;----------&#013;config : Config&#013;    If this is empty, default values are used. If config is a&#013;    :class:`Config` instance, it will be used to configure the&#013;    instance.&#013;parent : Configurable instance, optional&#013;    The parent Configurable instance of this object.&#013;&#013;Notes&#013;-----&#013;Subclasses of Configurable must call the :meth:`__init__` method of&#013;:class:`Configurable` *before* doing anything else and using&#013;:func:`super`::&#013;&#013;    class MyConfigurable(Configurable):&#013;        def __init__(self, config=None):&#013;            super(MyConfigurable, self).__init__(config=config)&#013;            # Then any other code you need to finish initialization.&#013;&#013;This ensures that instances will be configured properly.&#013;File:           &#x27;&lt;safe path&gt;\\configurable.py&#x27;&#013;Type:           MetaHasTraits\">traitlets.config.SingletonConfigurable</span>):\n",
       "</code><p>The <code><span style=\"border-bottom: 1px dotted gray;\" title=\"Init signature: PidginWeave_Tangle(*args, **kwargs)&#013;Docstring:      The `PidginWeave_Tangle` is a second execution of the source with the intent of display.&#013;Init docstring:&#013;Create a configurable given a config config.&#013;&#013;Parameters&#013;----------&#013;config : Config&#013;    If this is empty, default values are used. If config is a&#013;    :class:`Config` instance, it will be used to configure the&#013;    instance.&#013;parent : Configurable instance, optional&#013;    The parent Configurable instance of this object.&#013;&#013;Notes&#013;-----&#013;Subclasses of Configurable must call the :meth:`__init__` method of&#013;:class:`Configurable` *before* doing anything else and using&#013;:func:`super`::&#013;&#013;    class MyConfigurable(Configurable):&#013;        def __init__(self, config=None):&#013;            super(MyConfigurable, self).__init__(config=config)&#013;            # Then any other code you need to finish initialization.&#013;&#013;This ensures that instances will be configured properly.&#013;File:           &#x27;&lt;safe path&gt;\\traitlets.py&#x27;&#013;Type:           MetaHasTraits\">PidginWeave_Tangle</span>\n",
       "</code> is a second execution of the source with the intent of display.</p>\n",
       "<code style=\"white-space: pre;\" title=\"\">    inline = <span style=\"border-bottom: 1px dotted gray;\" title=\"Init signature: traitlets.Bool(default_value=traitlets.Undefined, allow_none=False, read_only=None, help=None, config=None, **kwargs)&#013;Docstring:      A boolean (True, False) trait.&#013;Init docstring:&#013;Declare a traitlet.&#013;&#013;If *allow_none* is True, None is a valid value in addition to any&#013;values that are normally valid. The default is up to the subclass.&#013;For most trait types, the default value for ``allow_none`` is False.&#013;&#013;Extra metadata can be associated with the traitlet using the .tag() convenience method&#013;or by using the traitlet instance&#x27;s .metadata dictionary.&#013;File:           &#x27;&lt;safe path&gt;\\traitlets.py&#x27;&#013;Type:           type\">traitlets.Bool</span>(\n",
       "        True, <span style=\"border-bottom: 1px dotted gray;\" title=\"Signature:   help(*args, **kwds)&#013;Type:        _Helper&#013;String form: Type help() for interactive help, or help(object) for help about object.&#013;Namespace:   Python builtin&#013;File:        &#x27;&lt;safe path&gt;\\_sitebuiltins.py&#x27;&#013;Docstring:  &#013;Define the builtin &#x27;help&#x27;.&#013;&#013;This is a wrapper around pydoc.help that provides a helpful message&#013;when &#x27;help&#x27; is typed at the Python interactive prompt.&#013;&#013;Calling help() at the Python prompt starts an interactive help session.&#013;Calling help(thing) prints help for the python object &#x27;thing&#x27;.\">help</span>=\n",
       "</code><p>Evaluate inline statements and expressions</p>\n",
       "<code style=\"white-space: pre;\" title=\"\">    )\n",
       "</code><p><code><span style=\"border-bottom: 1px dotted gray;\" title=\"Type:           Bool&#013;String form:    &lt;traitlets.traitlets.Bool object at 0x00000142BB139FD0&gt;&#013;File:           &#x27;&lt;safe path&gt;\\traitlets.py&#x27;&#013;Docstring:      A boolean (True, False) trait.&#013;Init docstring:&#013;Declare a traitlet.&#013;&#013;If *allow_none* is True, None is a valid value in addition to any&#013;values that are normally valid. The default is up to the subclass.&#013;For most trait types, the default value for ``allow_none`` is False.&#013;&#013;Extra metadata can be associated with the traitlet using the .tag() convenience method&#013;or by using the traitlet instance&#x27;s .metadata dictionary.\">PidginWeave_Tangle.inline</span>\n",
       "</code> originally only allowed <code><span style=\"border-bottom: 1px dotted gray;\" title=\"Signature: ip.user_expressions(expressions)&#013;Docstring:&#013;Evaluate a dict of expressions in the user&#x27;s namespace.&#013;&#013;Parameters&#013;----------&#013;expressions : dict&#013;  A dict with string keys and string values.  The expression values&#013;  should be valid Python expressions, each of which will be evaluated&#013;  in the user namespace.&#013;&#013;Returns&#013;-------&#013;A dict, keyed like the input expressions dict, with the rich mime-typed&#013;display_data of each value.&#013;File:      &#x27;&lt;safe path&gt;\\interactiveshell.py&#x27;&#013;Type:      method\">ip.user_expressions</span>\n",
       "</code>, but that was too limiting.  Inline statements and \n",
       "<code><span style=\"border-bottom: 1px dotted gray;\" title=\"Type:        module&#013;String form: &lt;module &#x27;doctest&#x27; from &#x27;&#x27;&lt;safe path&gt;\\doctest.py&#x27;&#x27;&gt;&#013;File:        &#x27;&lt;safe path&gt;\\doctest.py&#x27;&#013;Docstring:  &#013;Module doctest -- a framework for running examples in docstrings.&#013;&#013;In simplest use, end each module M to be tested with:&#013;&#013;def _test():&#013;    import doctest&#013;    doctest.testmod()&#013;&#013;if __name__ == &quot;__main__&quot;:&#013;    _test()&#013;&#013;Then running the module as a script will cause the examples in the&#013;docstrings to get executed and verified:&#013;&#013;python M.py&#013;&#013;This won&#x27;t display anything unless an example fails, in which case the&#013;failing example(s) and the cause(s) of the failure(s) are printed to stdout&#013;(why not stderr? because stderr is a lame hack &lt;0.2 wink&gt;), and the final&#013;line of output is &quot;Test failed.&quot;.&#013;&#013;Run it with the -v switch instead:&#013;&#013;python M.py -v&#013;&#013;and a detailed report of all examples tried is printed to stdout, along&#013;with assorted summaries at the end.&#013;&#013;You can force verbose mode by passing &quot;verbose=True&quot; to testmod, or prohibit&#013;it by passing &quot;verbose=False&quot;.  In either of those cases, sys.argv is not&#013;examined by testmod.&#013;&#013;There are a variety of other ways to run doctests, including integration&#013;with the unittest framework, and support for running non-Python text&#013;files containing doctests.  There are also many ways to override parts&#013;of doctest&#x27;s default behaviors.  See the Library Reference Manual for&#013;details.\">doctest</span>\n",
       "</code>s will both update state.  This creates two separate namespaces the Module namespace rfom the tangle step and the \n",
       "woven display code.</p>\n",
       "<code style=\"white-space: pre;\" title=\"\">    <span style=\"border-bottom: 1px dotted gray;\" title=\"Type:        module&#013;String form: &lt;module &#x27;doctest&#x27; from &#x27;&#x27;&lt;safe path&gt;\\doctest.py&#x27;&#x27;&gt;&#013;File:        &#x27;&lt;safe path&gt;\\doctest.py&#x27;&#013;Docstring:  &#013;Module doctest -- a framework for running examples in docstrings.&#013;&#013;In simplest use, end each module M to be tested with:&#013;&#013;def _test():&#013;    import doctest&#013;    doctest.testmod()&#013;&#013;if __name__ == &quot;__main__&quot;:&#013;    _test()&#013;&#013;Then running the module as a script will cause the examples in the&#013;docstrings to get executed and verified:&#013;&#013;python M.py&#013;&#013;This won&#x27;t display anything unless an example fails, in which case the&#013;failing example(s) and the cause(s) of the failure(s) are printed to stdout&#013;(why not stderr? because stderr is a lame hack &lt;0.2 wink&gt;), and the final&#013;line of output is &quot;Test failed.&quot;.&#013;&#013;Run it with the -v switch instead:&#013;&#013;python M.py -v&#013;&#013;and a detailed report of all examples tried is printed to stdout, along&#013;with assorted summaries at the end.&#013;&#013;You can force verbose mode by passing &quot;verbose=True&quot; to testmod, or prohibit&#013;it by passing &quot;verbose=False&quot;.  In either of those cases, sys.argv is not&#013;examined by testmod.&#013;&#013;There are a variety of other ways to run doctests, including integration&#013;with the unittest framework, and support for running non-Python text&#013;files containing doctests.  There are also many ways to override parts&#013;of doctest&#x27;s default behaviors.  See the Library Reference Manual for&#013;details.\">doctest</span> = <span style=\"border-bottom: 1px dotted gray;\" title=\"Init signature: traitlets.Bool(default_value=traitlets.Undefined, allow_none=False, read_only=None, help=None, config=None, **kwargs)&#013;Docstring:      A boolean (True, False) trait.&#013;Init docstring:&#013;Declare a traitlet.&#013;&#013;If *allow_none* is True, None is a valid value in addition to any&#013;values that are normally valid. The default is up to the subclass.&#013;For most trait types, the default value for ``allow_none`` is False.&#013;&#013;Extra metadata can be associated with the traitlet using the .tag() convenience method&#013;or by using the traitlet instance&#x27;s .metadata dictionary.&#013;File:           &#x27;&lt;safe path&gt;\\traitlets.py&#x27;&#013;Type:           type\">traitlets.Bool</span>(True, <span style=\"border-bottom: 1px dotted gray;\" title=\"Signature:   help(*args, **kwds)&#013;Type:        _Helper&#013;String form: Type help() for interactive help, or help(object) for help about object.&#013;Namespace:   Python builtin&#013;File:        &#x27;&lt;safe path&gt;\\_sitebuiltins.py&#x27;&#013;Docstring:  &#013;Define the builtin &#x27;help&#x27;.&#013;&#013;This is a wrapper around pydoc.help that provides a helpful message&#013;when &#x27;help&#x27; is typed at the Python interactive prompt.&#013;&#013;Calling help() at the Python prompt starts an interactive help session.&#013;Calling help(thing) prints help for the python object &#x27;thing&#x27;.\">help</span>=\n",
       "</code><p>Discover <code><span style=\"border-bottom: 1px dotted gray;\" title=\"Type:        module&#013;String form: &lt;module &#x27;doctest&#x27; from &#x27;&#x27;&lt;safe path&gt;\\doctest.py&#x27;&#x27;&gt;&#013;File:        &#x27;&lt;safe path&gt;\\doctest.py&#x27;&#013;Docstring:  &#013;Module doctest -- a framework for running examples in docstrings.&#013;&#013;In simplest use, end each module M to be tested with:&#013;&#013;def _test():&#013;    import doctest&#013;    doctest.testmod()&#013;&#013;if __name__ == &quot;__main__&quot;:&#013;    _test()&#013;&#013;Then running the module as a script will cause the examples in the&#013;docstrings to get executed and verified:&#013;&#013;python M.py&#013;&#013;This won&#x27;t display anything unless an example fails, in which case the&#013;failing example(s) and the cause(s) of the failure(s) are printed to stdout&#013;(why not stderr? because stderr is a lame hack &lt;0.2 wink&gt;), and the final&#013;line of output is &quot;Test failed.&quot;.&#013;&#013;Run it with the -v switch instead:&#013;&#013;python M.py -v&#013;&#013;and a detailed report of all examples tried is printed to stdout, along&#013;with assorted summaries at the end.&#013;&#013;You can force verbose mode by passing &quot;verbose=True&quot; to testmod, or prohibit&#013;it by passing &quot;verbose=False&quot;.  In either of those cases, sys.argv is not&#013;examined by testmod.&#013;&#013;There are a variety of other ways to run doctests, including integration&#013;with the unittest framework, and support for running non-Python text&#013;files containing doctests.  There are also many ways to override parts&#013;of doctest&#x27;s default behaviors.  See the Library Reference Manual for&#013;details.\">doctest</span>\n",
       "</code>s in the source and evaluate them.</p>\n",
       "<code style=\"white-space: pre;\" title=\"\">    ); format_titles = <span style=\"border-bottom: 1px dotted gray;\" title=\"Init signature: traitlets.Bool(default_value=traitlets.Undefined, allow_none=False, read_only=None, help=None, config=None, **kwargs)&#013;Docstring:      A boolean (True, False) trait.&#013;Init docstring:&#013;Declare a traitlet.&#013;&#013;If *allow_none* is True, None is a valid value in addition to any&#013;values that are normally valid. The default is up to the subclass.&#013;For most trait types, the default value for ``allow_none`` is False.&#013;&#013;Extra metadata can be associated with the traitlet using the .tag() convenience method&#013;or by using the traitlet instance&#x27;s .metadata dictionary.&#013;File:           &#x27;&lt;safe path&gt;\\traitlets.py&#x27;&#013;Type:           type\">traitlets.Bool</span>(True, <span style=\"border-bottom: 1px dotted gray;\" title=\"Signature:   help(*args, **kwds)&#013;Type:        _Helper&#013;String form: Type help() for interactive help, or help(object) for help about object.&#013;Namespace:   Python builtin&#013;File:        &#x27;&lt;safe path&gt;\\_sitebuiltins.py&#x27;&#013;Docstring:  &#013;Define the builtin &#x27;help&#x27;.&#013;&#013;This is a wrapper around pydoc.help that provides a helpful message&#013;when &#x27;help&#x27; is typed at the Python interactive prompt.&#013;&#013;Calling help() at the Python prompt starts an interactive help session.&#013;Calling help(thing) prints help for the python object &#x27;thing&#x27;.\">help</span>=\n",
       "</code><p>Format code with inspection overlays about the Python objects.</p>\n",
       "<code style=\"white-space: pre;\" title=\"\">    )\n",
       "    highlight = None\n",
       "</code><blockquote><p><code><span style=\"border-bottom: 1px dotted gray;\" title=\"Type:        NoneType&#013;String form: None&#013;Docstring:   &lt;no docstring&gt;\">PidginWeave_Tangle.highlight</span>\n",
       "</code> will use <code><span style=\"border-bottom: 1px dotted gray;\" title=\"Type:        module&#013;String form: &lt;module &#x27;pygments&#x27; from &#x27;&#x27;&lt;safe path&gt;\\__init__.py&#x27;&#x27;&gt;&#013;File:        &#x27;&lt;safe path&gt;\\__init__.py&#x27;&#013;Docstring:  &#013;Pygments&#013;~~~~~~~~&#013;&#013;Pygments is a syntax highlighting package written in Python.&#013;&#013;It is a generic syntax highlighter for general use in all kinds of software&#013;such as forum systems, wikis or other applications that need to prettify&#013;source code. Highlights are:&#013;&#013;* a wide range of common languages and markup formats is supported&#013;* special attention is paid to details, increasing quality by a fair amount&#013;* support for new languages and formats are added easily&#013;* a number of output formats, presently HTML, LaTeX, RTF, SVG, all image&#013;  formats that PIL supports, and ANSI sequences&#013;* it is usable as a command-line tool and as a library&#013;* ... and it highlights even Brainfuck!&#013;&#013;The `Pygments tip`_ is installable with ``easy_install Pygments==dev``.&#013;&#013;.. _Pygments tip:&#013;   http://bitbucket.org/birkenfeld/pygments-main/get/tip.zip#egg=Pygments-dev&#013;&#013;:copyright: Copyright 2006-2017 by the Pygments team, see AUTHORS.&#013;:license: BSD, see LICENSE for details.\">pygments</span>\n",
       "</code> to supply extra formatting.  This is unpleasant on rise so we ignore it at the moment.</p>\n",
       "</blockquote>\n"
      ],
      "text/markdown": [
       "    class PidginWeave_Tangle(traitlets.config.SingletonConfigurable):\n",
       "The `PidginWeave_Tangle` is a second execution of the source with the intent of display.  \n",
       "        \n",
       "        inline = traitlets.Bool(\n",
       "            True, help=\n",
       "Evaluate inline statements and expressions\n",
       "        \n",
       "        )\n",
       "`PidginWeave_Tangle.inline` originally only allowed `ip.user_expressions`, but that was too limiting.  Inline statements and \n",
       "`doctest`s will both update state.  This creates two separate namespaces the Module namespace rfom the tangle step and the \n",
       "woven display code.\n",
       "\n",
       "        doctest = traitlets.Bool(True, help=\n",
       "Discover `doctest`s in the source and evaluate them.            \n",
       "            \n",
       "        ); format_titles = traitlets.Bool(True, help=\n",
       "Format code with inspection overlays about the Python objects.            \n",
       "            \n",
       "        )\n",
       "        highlight = None\n",
       "> `PidginWeave_Tangle.highlight` will use `pygments` to supply extra formatting.  This is unpleasant on rise so we ignore it at the moment."
      ],
      "text/plain": [
       "'    class PidginWeave_Tangle(traitlets.config.SingletonConfigurable):\\nThe `PidginWeave_Tangle` is a second execution of the source with the intent of display.  \\n        \\n        inline = traitlets.Bool(\\n            True, help=\\nEvaluate inline statements and expressions\\n        \\n        )\\n`PidginWeave_Tangle.inline` originally only allowed `ip.user_expressions`, but that was too limiting.  Inline statements and \\n`doctest`s will both update state.  This creates two separate namespaces the Module namespace rfom the tangle step and the \\nwoven display code.\\n\\n        doctest = traitlets.Bool(True, help=\\nDiscover `doctest`s in the source and evaluate them.            \\n            \\n        ); format_titles = traitlets.Bool(True, help=\\nFormat code with inspection overlays about the Python objects.            \\n            \\n        )\\n        highlight = None\\n> `PidginWeave_Tangle.highlight` will use `pygments` to supply extra formatting.  This is unpleasant on rise so we ignore it at the moment.'"
      ]
     },
     "metadata": {},
     "output_type": "display_data"
    }
   ],
   "source": [
    "    class PidginWeave_Tangle(traitlets.config.SingletonConfigurable):\n",
    "The `PidginWeave_Tangle` is a second execution of the source with the intent of display.  \n",
    "        \n",
    "        inline = traitlets.Bool(\n",
    "            True, help=\n",
    "Evaluate inline statements and expressions\n",
    "        \n",
    "        )\n",
    "`PidginWeave_Tangle.inline` originally only allowed `ip.user_expressions`, but that was too limiting.  Inline statements and \n",
    "`doctest`s will both update state.  This creates two separate namespaces the Module namespace rfom the tangle step and the \n",
    "woven display code.\n",
    "\n",
    "        doctest = traitlets.Bool(True, help=\n",
    "Discover `doctest`s in the source and evaluate them.            \n",
    "            \n",
    "        ); format_titles = traitlets.Bool(True, help=\n",
    "Format code with inspection overlays about the Python objects.            \n",
    "            \n",
    "        )\n",
    "        highlight = None\n",
    "> `PidginWeave_Tangle.highlight` will use `pygments` to supply extra formatting.  This is unpleasant on rise so we ignore it at the moment."
   ]
  },
  {
   "cell_type": "code",
   "execution_count": 4,
   "metadata": {},
   "outputs": [],
   "source": [
    "    config_tangle = PidginWeave_Tangle().instance()"
   ]
  },
  {
   "cell_type": "code",
   "execution_count": 5,
   "metadata": {},
   "outputs": [
    {
     "data": {
      "text/html": [
       "<code style=\"white-space: pre;\" title=\"\">class <span style=\"border-bottom: 1px dotted gray;\" title=\"Init signature: PidginWeave(*args, **kwargs)&#013;Docstring:      `PidginWeave` modifies the __weave__ phase of the cell execution.&#013;Init docstring:&#013;Create a configurable given a config config.&#013;&#013;Parameters&#013;----------&#013;config : Config&#013;    If this is empty, default values are used. If config is a&#013;    :class:`Config` instance, it will be used to configure the&#013;    instance.&#013;parent : Configurable instance, optional&#013;    The parent Configurable instance of this object.&#013;&#013;Notes&#013;-----&#013;Subclasses of Configurable must call the :meth:`__init__` method of&#013;:class:`Configurable` *before* doing anything else and using&#013;:func:`super`::&#013;&#013;    class MyConfigurable(Configurable):&#013;        def __init__(self, config=None):&#013;            super(MyConfigurable, self).__init__(config=config)&#013;            # Then any other code you need to finish initialization.&#013;&#013;This ensures that instances will be configured properly.&#013;File:           &#x27;&lt;safe path&gt;\\traitlets.py&#x27;&#013;Type:           MetaHasTraits\">PidginWeave</span>(<span style=\"border-bottom: 1px dotted gray;\" title=\"Init signature: traitlets.config.SingletonConfigurable(*args, **kwargs)&#013;Docstring:     &#013;A configurable that only allows one instance.&#013;&#013;This class is for classes that should only have one instance of itself&#013;or *any* subclass. To create and retrieve such a class use the&#013;:meth:`SingletonConfigurable.instance` method.&#013;Init docstring:&#013;Create a configurable given a config config.&#013;&#013;Parameters&#013;----------&#013;config : Config&#013;    If this is empty, default values are used. If config is a&#013;    :class:`Config` instance, it will be used to configure the&#013;    instance.&#013;parent : Configurable instance, optional&#013;    The parent Configurable instance of this object.&#013;&#013;Notes&#013;-----&#013;Subclasses of Configurable must call the :meth:`__init__` method of&#013;:class:`Configurable` *before* doing anything else and using&#013;:func:`super`::&#013;&#013;    class MyConfigurable(Configurable):&#013;        def __init__(self, config=None):&#013;            super(MyConfigurable, self).__init__(config=config)&#013;            # Then any other code you need to finish initialization.&#013;&#013;This ensures that instances will be configured properly.&#013;File:           &#x27;&lt;safe path&gt;\\configurable.py&#x27;&#013;Type:           MetaHasTraits\">traitlets.config.SingletonConfigurable</span>): \n",
       "</code><p><code><span style=\"border-bottom: 1px dotted gray;\" title=\"Init signature: PidginWeave(*args, **kwargs)&#013;Docstring:      `PidginWeave` modifies the __weave__ phase of the cell execution.&#013;Init docstring:&#013;Create a configurable given a config config.&#013;&#013;Parameters&#013;----------&#013;config : Config&#013;    If this is empty, default values are used. If config is a&#013;    :class:`Config` instance, it will be used to configure the&#013;    instance.&#013;parent : Configurable instance, optional&#013;    The parent Configurable instance of this object.&#013;&#013;Notes&#013;-----&#013;Subclasses of Configurable must call the :meth:`__init__` method of&#013;:class:`Configurable` *before* doing anything else and using&#013;:func:`super`::&#013;&#013;    class MyConfigurable(Configurable):&#013;        def __init__(self, config=None):&#013;            super(MyConfigurable, self).__init__(config=config)&#013;            # Then any other code you need to finish initialization.&#013;&#013;This ensures that instances will be configured properly.&#013;File:           &#x27;&lt;safe path&gt;\\traitlets.py&#x27;&#013;Type:           MetaHasTraits\">PidginWeave</span>\n",
       "</code> modifies the <strong>weave</strong> phase of the cell execution.</p>\n",
       "<code style=\"white-space: pre;\" title=\"\">    front_matter = <span style=\"border-bottom: 1px dotted gray;\" title=\"Init signature: traitlets.Bool(default_value=traitlets.Undefined, allow_none=False, read_only=None, help=None, config=None, **kwargs)&#013;Docstring:      A boolean (True, False) trait.&#013;Init docstring:&#013;Declare a traitlet.&#013;&#013;If *allow_none* is True, None is a valid value in addition to any&#013;values that are normally valid. The default is up to the subclass.&#013;For most trait types, the default value for ``allow_none`` is False.&#013;&#013;Extra metadata can be associated with the traitlet using the .tag() convenience method&#013;or by using the traitlet instance&#x27;s .metadata dictionary.&#013;File:           &#x27;&lt;safe path&gt;\\traitlets.py&#x27;&#013;Type:           type\">traitlets.Bool</span>(True, <span style=\"border-bottom: 1px dotted gray;\" title=\"Signature:   help(*args, **kwds)&#013;Type:        _Helper&#013;String form: Type help() for interactive help, or help(object) for help about object.&#013;Namespace:   Python builtin&#013;File:        &#x27;&lt;safe path&gt;\\_sitebuiltins.py&#x27;&#013;Docstring:  &#013;Define the builtin &#x27;help&#x27;.&#013;&#013;This is a wrapper around pydoc.help that provides a helpful message&#013;when &#x27;help&#x27; is typed at the Python interactive prompt.&#013;&#013;Calling help() at the Python prompt starts an interactive help session.&#013;Calling help(thing) prints help for the python object &#x27;thing&#x27;.\">help</span>=\n",
       "</code><p>Parse <code><span style=\"border-bottom: 1px dotted gray;\" title=\"Type:        module&#013;String form: &lt;module &#x27;yaml&#x27; from &#x27;&#x27;&lt;safe path&gt;\\__init__.py&#x27;&#x27;&gt;&#013;File:        &#x27;&lt;safe path&gt;\\__init__.py&#x27;&#013;Docstring:   &lt;no docstring&gt;\">yaml</span>\n",
       "</code> front matter into the <code><span style=\"border-bottom: 1px dotted gray;\" title=\"Type:        module&#013;String form: &lt;module &#x27;jinja2&#x27; from &#x27;&#x27;&lt;safe path&gt;\\__init__.py&#x27;&#x27;&gt;&#013;File:        &#x27;&lt;safe path&gt;\\__init__.py&#x27;&#013;Docstring:  &#013;jinja2&#013;~~~~~~&#013;&#013;Jinja2 is a template engine written in pure Python.  It provides a&#013;Django inspired non-XML syntax but supports inline expressions and&#013;an optional sandboxed environment.&#013;&#013;Nutshell&#013;--------&#013;&#013;Here a small example of a Jinja2 template::&#013;&#013;    {% extends &#x27;base.html&#x27; %}&#013;    {% block title %}Memberlist{% endblock %}&#013;    {% block content %}&#013;      &lt;ul&gt;&#013;      {% for user in users %}&#013;        &lt;li&gt;&lt;a href=&quot;{{ user.url }}&quot;&gt;{{ user.username }}&lt;/a&gt;&lt;/li&gt;&#013;      {% endfor %}&#013;      &lt;/ul&gt;&#013;    {% endblock %}&#013;&#013;&#013;:copyright: (c) 2017 by the Jinja Team.&#013;:license: BSD, see LICENSE for more details.\">jinja2</span>\n",
       "</code> template.</p>\n",
       "<code style=\"white-space: pre;\" title=\"\">    ); highlight_expections = <span style=\"border-bottom: 1px dotted gray;\" title=\"Init signature: traitlets.Bool(default_value=traitlets.Undefined, allow_none=False, read_only=None, help=None, config=None, **kwargs)&#013;Docstring:      A boolean (True, False) trait.&#013;Init docstring:&#013;Declare a traitlet.&#013;&#013;If *allow_none* is True, None is a valid value in addition to any&#013;values that are normally valid. The default is up to the subclass.&#013;For most trait types, the default value for ``allow_none`` is False.&#013;&#013;Extra metadata can be associated with the traitlet using the .tag() convenience method&#013;or by using the traitlet instance&#x27;s .metadata dictionary.&#013;File:           &#x27;&lt;safe path&gt;\\traitlets.py&#x27;&#013;Type:           type\">traitlets.Bool</span>(True, <span style=\"border-bottom: 1px dotted gray;\" title=\"Signature:   help(*args, **kwds)&#013;Type:        _Helper&#013;String form: Type help() for interactive help, or help(object) for help about object.&#013;Namespace:   Python builtin&#013;File:        &#x27;&lt;safe path&gt;\\_sitebuiltins.py&#x27;&#013;Docstring:  &#013;Define the builtin &#x27;help&#x27;.&#013;&#013;This is a wrapper around pydoc.help that provides a helpful message&#013;when &#x27;help&#x27; is typed at the Python interactive prompt.&#013;&#013;Calling help() at the Python prompt starts an interactive help session.&#013;Calling help(thing) prints help for the python object &#x27;thing&#x27;.\">help</span>=\n",
       "</code><p>Highlight code objects that have failed.</p>\n",
       "<code style=\"white-space: pre;\" title=\"\">    ); template = <span style=\"border-bottom: 1px dotted gray;\" title=\"Init signature: traitlets.Bool(default_value=traitlets.Undefined, allow_none=False, read_only=None, help=None, config=None, **kwargs)&#013;Docstring:      A boolean (True, False) trait.&#013;Init docstring:&#013;Declare a traitlet.&#013;&#013;If *allow_none* is True, None is a valid value in addition to any&#013;values that are normally valid. The default is up to the subclass.&#013;For most trait types, the default value for ``allow_none`` is False.&#013;&#013;Extra metadata can be associated with the traitlet using the .tag() convenience method&#013;or by using the traitlet instance&#x27;s .metadata dictionary.&#013;File:           &#x27;&lt;safe path&gt;\\traitlets.py&#x27;&#013;Type:           type\">traitlets.Bool</span>(True, <span style=\"border-bottom: 1px dotted gray;\" title=\"Signature:   help(*args, **kwds)&#013;Type:        _Helper&#013;String form: Type help() for interactive help, or help(object) for help about object.&#013;Namespace:   Python builtin&#013;File:        &#x27;&lt;safe path&gt;\\_sitebuiltins.py&#x27;&#013;Docstring:  &#013;Define the builtin &#x27;help&#x27;.&#013;&#013;This is a wrapper around pydoc.help that provides a helpful message&#013;when &#x27;help&#x27; is typed at the Python interactive prompt.&#013;&#013;Calling help() at the Python prompt starts an interactive help session.&#013;Calling help(thing) prints help for the python object &#x27;thing&#x27;.\">help</span>=\n",
       "</code><p>Template <strong>Markdown</strong> with <code><span style=\"border-bottom: 1px dotted gray;\" title=\"Type:        module&#013;String form: &lt;module &#x27;jinja2&#x27; from &#x27;&#x27;&lt;safe path&gt;\\__init__.py&#x27;&#x27;&gt;&#013;File:        &#x27;&lt;safe path&gt;\\__init__.py&#x27;&#013;Docstring:  &#013;jinja2&#013;~~~~~~&#013;&#013;Jinja2 is a template engine written in pure Python.  It provides a&#013;Django inspired non-XML syntax but supports inline expressions and&#013;an optional sandboxed environment.&#013;&#013;Nutshell&#013;--------&#013;&#013;Here a small example of a Jinja2 template::&#013;&#013;    {% extends &#x27;base.html&#x27; %}&#013;    {% block title %}Memberlist{% endblock %}&#013;    {% block content %}&#013;      &lt;ul&gt;&#013;      {% for user in users %}&#013;        &lt;li&gt;&lt;a href=&quot;{{ user.url }}&quot;&gt;{{ user.username }}&lt;/a&gt;&lt;/li&gt;&#013;      {% endfor %}&#013;      &lt;/ul&gt;&#013;    {% endblock %}&#013;&#013;&#013;:copyright: (c) 2017 by the Jinja Team.&#013;:license: BSD, see LICENSE for more details.\">jinja2</span>\n",
       "</code> before parsing.</p>\n",
       "<code style=\"white-space: pre;\" title=\"\">    ); safe = <span style=\"border-bottom: 1px dotted gray;\" title=\"Init signature: traitlets.Bool(default_value=traitlets.Undefined, allow_none=False, read_only=None, help=None, config=None, **kwargs)&#013;Docstring:      A boolean (True, False) trait.&#013;Init docstring:&#013;Declare a traitlet.&#013;&#013;If *allow_none* is True, None is a valid value in addition to any&#013;values that are normally valid. The default is up to the subclass.&#013;For most trait types, the default value for ``allow_none`` is False.&#013;&#013;Extra metadata can be associated with the traitlet using the .tag() convenience method&#013;or by using the traitlet instance&#x27;s .metadata dictionary.&#013;File:           &#x27;&lt;safe path&gt;\\traitlets.py&#x27;&#013;Type:           type\">traitlets.Bool</span>(True, <span style=\"border-bottom: 1px dotted gray;\" title=\"Signature:   help(*args, **kwds)&#013;Type:        _Helper&#013;String form: Type help() for interactive help, or help(object) for help about object.&#013;Namespace:   Python builtin&#013;File:        &#x27;&lt;safe path&gt;\\_sitebuiltins.py&#x27;&#013;Docstring:  &#013;Define the builtin &#x27;help&#x27;.&#013;&#013;This is a wrapper around pydoc.help that provides a helpful message&#013;when &#x27;help&#x27; is typed at the Python interactive prompt.&#013;&#013;Calling help() at the Python prompt starts an interactive help session.&#013;Calling help(thing) prints help for the python object &#x27;thing&#x27;.\">help</span>=\n",
       "</code><p>Replace file paths with testable and safe strings.</p>\n",
       "<code style=\"white-space: pre;\" title=\"\">    )\n",
       "\n",
       "    <span style=\"border-bottom: 1px dotted gray;\" title=\"Type:            ModuleType&#013;String form:     &lt;module &#x27;__main__.tangle&#x27; from &#x27;&#x27;&lt;safe path&gt;\\tangle.ipynb&#x27;&#x27;&gt;&#013;File:            &#x27;&lt;safe path&gt;\\tangle.ipynb&#x27;&#013;Docstring:      &#013;The `pidgin.tangle` module allows __Markdown__ as source code.  __Tangling__ is the first phase of a literate &#013;computing REPL.  The __tangle__ step converts documentation forward __Markdown__ to __Python__ code &#013;based on a set of rules defined on __Markdown__ block code objects.  `pidgin.tangle` only relies on a&#013;the `mistune.BlockLexer` step to transform code.&#013;&#013;This module exports a magic to experiments with the output syntax.  _The output could probably be cooler._&#013;&#013;A few configurable variables are placed on the `IPython` shell.&#013;&#013;### The `IPython` tangle step&#013;&#013;The `IPython` tangle phase is broken down below.  An input string is passed through `string` and `ast.NodeTransformer` &#013;methods to `compile` valid __Python__ byte code.&#013;&#013;1. `ip.input_transformer_manager.transform_cell` should return valid python code.  There are two steps:&#013;&#013;    1. `ip.input_transformers_cleanup` modifies the source input; `pidgin.tangle.markdown_to_python` is the first transformer visited.&#013;    0. `ip.input_transformers_post` should return a valid __Python__ source string.&#013;0. `ip.compile.ast_parse` converts the string to `ast`&#013;0. `ip.ast_transformers` are `ast.NodeTransformer`s applied to each node in the `ast`.&#013;&#013;    `pidgin.tangle` adds the ability reference the `return` statement outside of a function ala the [`%autoawait` magic][autoawait].&#013;0. `ip.compile` convert the `ast` notes to `compile` bytecode.&#013;&#013;[_More information about the input transforms can be found on the `IPython` documentation._][input transforms]&#013;&#013;[autoawait]: https://ipython.readthedocs.io/en/stable/interactive/autoawait.html&#013;[input transforms]: ip.input_transformers_cleanup&#013;Class docstring: ModuleType combines a module with a PathLike access to simplify access.\">tangle</span> = <span style=\"border-bottom: 1px dotted gray;\" title=\"Type:           PidginWeave_Tangle&#013;String form:    &lt;__main__.PidginWeave_Tangle object at 0x00000142B88E87F0&gt;&#013;Docstring:      The `PidginWeave_Tangle` is a second execution of the source with the intent of display.&#013;Init docstring:&#013;Create a configurable given a config config.&#013;&#013;Parameters&#013;----------&#013;config : Config&#013;    If this is empty, default values are used. If config is a&#013;    :class:`Config` instance, it will be used to configure the&#013;    instance.&#013;parent : Configurable instance, optional&#013;    The parent Configurable instance of this object.&#013;&#013;Notes&#013;-----&#013;Subclasses of Configurable must call the :meth:`__init__` method of&#013;:class:`Configurable` *before* doing anything else and using&#013;:func:`super`::&#013;&#013;    class MyConfigurable(Configurable):&#013;        def __init__(self, config=None):&#013;            super(MyConfigurable, self).__init__(config=config)&#013;            # Then any other code you need to finish initialization.&#013;&#013;This ensures that instances will be configured properly.\">config_tangle</span>\n",
       "</code><blockquote><p>safe mode is implemented in a suboptimal way at the moment.</p>\n",
       "</blockquote>\n"
      ],
      "text/markdown": [
       "    class PidginWeave(traitlets.config.SingletonConfigurable): \n",
       "`PidginWeave` modifies the __weave__ phase of the cell execution.\n",
       "\n",
       "        front_matter = traitlets.Bool(True, help=\n",
       "Parse `yaml` front matter into the `jinja2` template.\n",
       "                                      \n",
       "        ); highlight_expections = traitlets.Bool(True, help=\n",
       "Highlight code objects that have failed.\n",
       "                                             \n",
       "        ); template = traitlets.Bool(True, help=\n",
       "Template __Markdown__ with `jinja2` before parsing.\n",
       "                                             \n",
       "        ); safe = traitlets.Bool(True, help=\n",
       "Replace file paths with testable and safe strings. \n",
       "                                 \n",
       "        )\n",
       "    \n",
       "        tangle = config_tangle\n",
       "        \n",
       "> safe mode is implemented in a suboptimal way at the moment."
      ],
      "text/plain": [
       "'    class PidginWeave(traitlets.config.SingletonConfigurable): \\n`PidginWeave` modifies the __weave__ phase of the cell execution.\\n\\n        front_matter = traitlets.Bool(True, help=\\nParse `yaml` front matter into the `jinja2` template.\\n                                      \\n        ); highlight_expections = traitlets.Bool(True, help=\\nHighlight code objects that have failed.\\n                                             \\n        ); template = traitlets.Bool(True, help=\\nTemplate __Markdown__ with `jinja2` before parsing.\\n                                             \\n        ); safe = traitlets.Bool(True, help=\\nReplace file paths with testable and safe strings. \\n                                 \\n        )\\n    \\n        tangle = config_tangle\\n        \\n> safe mode is implemented in a suboptimal way at the moment.'"
      ]
     },
     "metadata": {},
     "output_type": "display_data"
    }
   ],
   "source": [
    "    class PidginWeave(traitlets.config.SingletonConfigurable): \n",
    "`PidginWeave` modifies the __weave__ phase of the cell execution.\n",
    "\n",
    "        front_matter = traitlets.Bool(True, help=\n",
    "Parse `yaml` front matter into the `jinja2` template.\n",
    "                                      \n",
    "        ); highlight_expections = traitlets.Bool(True, help=\n",
    "Highlight code objects that have failed.\n",
    "                                             \n",
    "        ); template = traitlets.Bool(True, help=\n",
    "Template __Markdown__ with `jinja2` before parsing.\n",
    "                                             \n",
    "        ); safe = traitlets.Bool(True, help=\n",
    "Replace file paths with testable and safe strings. \n",
    "                                 \n",
    "        )\n",
    "    \n",
    "        tangle = config_tangle\n",
    "        \n",
    "> safe mode is implemented in a suboptimal way at the moment."
   ]
  },
  {
   "cell_type": "code",
   "execution_count": 6,
   "metadata": {},
   "outputs": [],
   "source": [
    "    config = PidginWeave().instance()"
   ]
  },
  {
   "cell_type": "markdown",
   "metadata": {},
   "source": [
    "> The following regular expressions are copied from `mistune`."
   ]
  },
  {
   "cell_type": "markdown",
   "metadata": {},
   "source": [
    "`BlockGrammar` includes doctype and prolog parsing in the html and should be used with `BlockLexer`."
   ]
  },
  {
   "cell_type": "markdown",
   "metadata": {},
   "source": [
    "`InlineGrammar` includes doctype and prolog parsing in the html and should be used with `InlineLexer`."
   ]
  },
  {
   "cell_type": "code",
   "execution_count": 7,
   "metadata": {},
   "outputs": [],
   "source": [
    "    class PidginInlineGrammar(mistune.InlineGrammar):\n",
    "        \"\"\"Add svg constructs to inline_html regex.\"\"\"\n",
    "        inline_html = re.compile(\n",
    "                r'^(?:%s|%s|%s)' % (\n",
    "                    r'<!--[\\s\\S]*?-->|<!DOCTYPE [\\s\\S]*?>|<\\?[\\s\\S]*?\\?>',\n",
    "                    r'<(\\w+%s)((?:%s)*?)\\s*>([\\s\\S]*?)<\\/\\1>' % (\n",
    "                        mistune._valid_end, mistune._valid_attr),\n",
    "                    r'<\\w+%s(?:%s)*?\\s*\\/?>' % (mistune._valid_end, mistune._valid_attr)))"
   ]
  },
  {
   "cell_type": "code",
   "execution_count": 8,
   "metadata": {},
   "outputs": [],
   "source": [
    "    if __name__ == '__main__':ip  =get_ipython()"
   ]
  },
  {
   "cell_type": "code",
   "execution_count": 9,
   "metadata": {},
   "outputs": [],
   "source": [
    "    error = \"background-color: var(--jp-rendermime-error-background);\"\n",
    "    ws = \"white-space: pre;\""
   ]
  },
  {
   "cell_type": "code",
   "execution_count": 10,
   "metadata": {},
   "outputs": [],
   "source": [
    "    class WeavePidginBlockLexer(tangle.PidginBlockLexer):                \n",
    "        def parse(self, text, rules=None):\n",
    "            if rules == mistune.BlockLexer.footnote_rules:\n",
    "                text = templating.finalize_ipython(bundle=IPython.get_ipython().display_formatter.format(text.rstrip())[0])\n",
    "            return super().parse(text)\n",
    "        \n",
    "        def parse_doctest(self, m):\n",
    "            text = ''.join(self.to_string(m))\n",
    "            ip = IPython.get_ipython()\n",
    "            if ip and ip.weave.tangle.doctest:\n",
    "                with IPython.utils.capture.capture_output() as out:\n",
    "                    runner = doctesting.run_docstring_examples(text, IPython.get_ipython(), verbose=True)\n",
    "                if runner.failures:\n",
    "                    IPython.get_ipython().showtraceback((doctesting.DocTestException, doctesting.DocTestException(out.stdout), BaseException().__traceback__))\n",
    "                    self.failures.update({text: out.stdout})\n",
    "                else:\n",
    "                    self.successes[text] = out.stdout\n",
    "            return super().parse_doctest(m)\n",
    "        \n",
    "        def parse_heading(self, m):\n",
    "            super().parse_heading(m)\n",
    "            self.tokens[-1]['id']  = slugify.slugify(self.tokens[-1]['text'] )"
   ]
  },
  {
   "cell_type": "code",
   "execution_count": 11,
   "metadata": {},
   "outputs": [],
   "source": [
    "    class WeavePidginInlineLexer(mistune.InlineLexer):\n",
    "        \"\"\"WeavePidginInlineLexer is responsible for updating modifying the interactive IPython state.\n",
    "        \"\"\"\n",
    "        grammar_class = PidginInlineGrammar\n",
    "        tmp_code = []\n",
    "                \n",
    "        def output_code(self, m):\n",
    "            \"\"\"Execute inline code.\"\"\"\n",
    "            ip = IPython.get_ipython()\n",
    "            text = '\\n'.join(self.tmp_code + [m.group(2)])\n",
    "            # Code can exist across multiple cells.\n",
    "            if text.endswith('\\\\'): self.tmp_code = text.splitlines()\n",
    "            elif ip and ip.weave.tangle.inline:\n",
    "                # Evaluate inline code.\n",
    "                with IPython.utils.capture.capture_output() as out:\n",
    "                    \n",
    "                    result = IPython.get_ipython().run_cell(textwrap.indent(text, ' '*4), store_history=False, silent=True)\n",
    "                if result.error_in_exec or result.error_before_exec:\n",
    "                    self.renderer.failures[text] = str(\n",
    "                        result.error_in_exec or result.error_before_exec)                \n",
    "\n",
    "            return super().output_code(m)\n",
    "\n",
    "        def output_reflink(self, m):\n",
    "            \"\"\"Format the reference link.\"\"\"\n",
    "            ip = IPython.get_ipython()\n",
    "            if not ip: return super().output_reflink(m)\n",
    "            user_ns = ip.user_ns\n",
    "            key = mistune._keyify(m.group(2) or m.group(1))\n",
    "            ret = {'link': '#', 'title': ''}\n",
    "            if key in self.links: ret.update(self.links[key])\n",
    "            if key in user_ns:\n",
    "                try: ret.update({'title': code_formatting.format_title(ip.object_inspect_text(key))})\n",
    "                except: ...\n",
    "\n",
    "            elif key not in self.links:\n",
    "                return \n",
    "            return self._process_link(m, ret['link'], ret['title'])\n",
    "        \n",
    "        def _process_link(self, m=None, link=None, title=None):\n",
    "            \"\"\"Add {link} to the global namespace for easier access.\"\"\"\n",
    "            for str in [link]+([''.join(tangle.PidginBlockLexer.to_string(m))] if m else []):\n",
    "                try: \n",
    "                    ast.parse(str)\n",
    "                except: \n",
    "                    IPython.get_ipython().user_ns.update({str:str})\n",
    "            if m: return super()._process_link(m, link, title)\n",
    "            \n",
    "        def output_url(self, m):\n",
    "            self._process_link(link=m.group(1))\n",
    "            return super().output_url(m)\n",
    "        \n",
    "        def output_footnote(self, m):\n",
    "            key = mistune._keyify(m.group(1))\n",
    "            if key in self.footnotes:\n",
    "                self.footnote_index += 1\n",
    "                self.footnotes[key] = self.footnote_index\n",
    "            return self.renderer.footnote_ref(key, self.footnote_index)"
   ]
  },
  {
   "cell_type": "code",
   "execution_count": 12,
   "metadata": {},
   "outputs": [],
   "source": [
    "    class WeaveRenderer(mistune.Renderer):\n",
    "        \"\"\"WeaveRenderer is responsbile for formatting the output of the input code.\"\"\"\n",
    "        failures = None\n",
    "        failure = None\n",
    "        def block_code(self, text, lang=None):\n",
    "            style = ws\n",
    "            if lang is None: \n",
    "                if self.failure: style += error\n",
    "                else: \n",
    "                    text = code_formatting.markup_code(text)\n",
    "                return F\"\"\"<code style=\"{style}\" title=\"{self.failure or \"\"}\">{text}</code>\"\"\"\n",
    "            return super().block_code(text, lang)\n",
    "        \n",
    "        def codespan(self, text):\n",
    "            if text in (self.failures or {}):\n",
    "                return F\"\"\"<code style=\"{error}\" title=\"{code_formatting.format_title(\n",
    "                    self.failures.pop(text)\n",
    "                )}\">{text}</code>\"\"\"\n",
    "            return F\"\"\"<code>{code_formatting.markup_code_inline(text)}</code>\"\"\"\n",
    "        \n",
    "        def text(self, text): return text\n",
    "        \n",
    "        def doctest(self, text):\n",
    "            if text in (self.failures or {}):\n",
    "                return F\"\"\"<code style=\"{ws + error}\" title=\"{code_formatting.format_title(self.failures.pop(text))\n",
    "                }\">{text}</code>\"\"\"\n",
    "            if text in (self.successes or {}):\n",
    "                return F\"\"\"<code style=\"{ws}\" title=\"{code_formatting.format_title(self.successes.pop(text))\n",
    "                }\">{code_formatting.markup_code(text)}</code>\"\"\"  \n",
    "            return \"\"\n",
    "\n",
    "        \n",
    "        def footnote_ref(self, key, index):\n",
    "            return F\"\"\"<sup class=\"footnote-ref\" id=\"fnref-{slugify.slugify(key)}\">\n",
    "                <a title=\"{code_formatting.format_title(IPython.get_ipython().user_ns.get(key, \"\"))\n",
    "                }\" href=\"#fn-{mistune.escape(key)}\">{key}</a></sup>\"\"\"\n",
    "        \n",
    "        def header(self, text, level, raw=None):\n",
    "            id = slugify.slugify(raw)            \n",
    "            link = '<a href=\"#%s\">{}</a>\\n' % id\n",
    "            IPython.get_ipython().user_ns[raw] = IPython.display.HTML(link.format(text))\n",
    "            return link.format('<h%d id=\"%s\">%s</h%d>\\n'% (level, id, text, level)) "
   ]
  },
  {
   "cell_type": "code",
   "execution_count": 13,
   "metadata": {},
   "outputs": [],
   "source": [
    "    class WeavePidginMarkdown(mistune.Markdown):\n",
    "        \"\"\"WeavePidginMarkdown combines initializes and applies WeavePidginBlockLexer and WeavePidginInlineLexer.\n",
    "        \"\"\"\n",
    "        def output_doctest(self):  return self.renderer.doctest(self.token['text'])\n",
    "        def pop(self):\n",
    "            if not self.tokens: return None\n",
    "            self.token = self.tokens.pop()\n",
    "            return self.token\n",
    "        \n",
    "        def render(self, text, failure=None):\n",
    "            self.renderer.failure = failure\n",
    "            return super().render(text)\n",
    "        \n",
    "        def parse(self, text):\n",
    "            self.block.failures = self.renderer.failures = {}\n",
    "            self.block.successes = self.renderer.successes = {}\n",
    "            self.inline.tmp_code = []\n",
    "            out = self.output(mistune.preprocessing(text))\n",
    "            keys = self.block.def_footnotes\n",
    "            self.block.def_footnotes = {}\n",
    "            self.inline.footnotes = {}\n",
    "            if not self.footnotes: return out\n",
    "\n",
    "            self.footnotes = sorted(self.footnotes, key=lambda o: keys.get(o['key']), reverse=True)\n",
    "\n",
    "            body = self.renderer.placeholder()\n",
    "            while self.footnotes:\n",
    "                note = self.footnotes.pop()\n",
    "                body += self.renderer.footnote_item(note['key'], note['text'])\n",
    "\n",
    "            out += self.renderer.footnotes(body)\n",
    "            return out"
   ]
  },
  {
   "cell_type": "code",
   "execution_count": 14,
   "metadata": {},
   "outputs": [],
   "source": [
    "    render = WeavePidginMarkdown(\n",
    "        renderer=WeaveRenderer(escape=False, parse_block_html=True, parse_inline_html=False),\n",
    "        block=WeavePidginBlockLexer, inline=WeavePidginInlineLexer)"
   ]
  },
  {
   "cell_type": "code",
   "execution_count": 15,
   "metadata": {},
   "outputs": [],
   "source": [
    "    def front_matter(str):\n",
    "        if str.startswith('---'):\n",
    "            if '\\n---' in str:\n",
    "                body = str.lstrip('---')\n",
    "                data, sep, body = body.partition('---\\n')\n",
    "                data = yaml.safe_load(io.StringIO(data))\n",
    "                if isinstance(data, dict): return body, data\n",
    "        return str, {}"
   ]
  },
  {
   "cell_type": "code",
   "execution_count": 16,
   "metadata": {},
   "outputs": [],
   "source": [
    "    @dataclasses.dataclass(order=True)\n",
    "    class PidginDisplay:\n",
    "        data: str = ''\n",
    "        ip: None = dataclasses.field(default_factory=IPython.get_ipython, repr=False)\n",
    "        ns: None = dataclasses.field(default_factory=dict, repr=False)\n",
    "        def __post_init__(self):\n",
    "            if self.ip and not self.ns: self.ns = self.ip.user_ns\n",
    "        \n",
    "        def _repr_mimebundle_(self, include=None, exclude=None):\n",
    "            env = getattr(self.ip, 'environment', templating.new_environment(self.ip))\n",
    "            exc = None\n",
    "            data = {}\n",
    "            if self.ip.weave.front_matter:\n",
    "                string, data = front_matter(self.data)\n",
    "            lines = string.splitlines(True)    \n",
    "            lineno = len(lines)\n",
    "\n",
    "            if getattr(self.ip, '_last_traceback', None) and self.ip.weave.highlight_expections: \n",
    "                exc = self.ip._get_exc_info()\n",
    "                if issubclass(exc[0], SyntaxError): lineno = exc[1].args[1][1] - 1\n",
    "                else: lineno = traceback.extract_tb(exc[-1])[-1].lineno - 1\n",
    "            \n",
    "            template =  bool(all(\n",
    "                map(self.data.__contains__, {env.block_start_string, env.block_end_string})\n",
    "            ) or all(\n",
    "                map(self.data.__contains__, {env.variable_start_string, env.variable_end_string})\n",
    "            ))\n",
    "            body = \"\"\"\"\"\"\n",
    "            for i, range in enumerate((slice(lineno), slice(lineno, None))):\n",
    "                blob = ''.join(lines[range])\n",
    "                if template and self.ip.weave.template:\n",
    "                    blob = env.from_string(blob).render(self.ns, **data)\n",
    "                body += render.render(blob, failure=str(exc[1]) if (i == 1) and exc else None)\n",
    "                \n",
    "            # This failures when templates are broken across errors\n",
    "                \n",
    "            return {'text/html': body,  'text/markdown': self.data, 'text/plain': self.data}, {}"
   ]
  },
  {
   "cell_type": "markdown",
   "metadata": {},
   "source": [
    "`run_cell_display` triggers a display on the input if contains anything other than block code."
   ]
  },
  {
   "cell_type": "code",
   "execution_count": 17,
   "metadata": {},
   "outputs": [],
   "source": [
    "    def run_cell_display(result) -> bool:\n",
    "        raw, source = result.info.raw_cell, tangle.markdown_to_python(result.info.raw_cell)\n",
    "        try:\n",
    "            \"Blank first line\"\n",
    "            is_display = bool(raw.partition('\\n')[0].strip() and not raw.startswith(';')) \n",
    "            if raw.strip() == ast.literal_eval(source.rstrip().rstrip(';')).strip():\n",
    "                is_display = False\n",
    "        except: ...\n",
    "        \n",
    "        if (result.error_before_exec or result.error_in_exec) or (is_display and not only_contains_block_code(raw, source)):\n",
    "            IPython.display.display(raw)"
   ]
  },
  {
   "cell_type": "markdown",
   "metadata": {},
   "source": [
    "`only_contains_block_code` determines if the input source and python only include block code."
   ]
  },
  {
   "cell_type": "code",
   "execution_count": 18,
   "metadata": {},
   "outputs": [],
   "source": [
    "    def only_contains_block_code(raw: str, source: str) -> bool: \n",
    "        return list(\n",
    "            map(str.rstrip, textwrap.dedent(raw).splitlines())\n",
    "        ) == list(map(str.rstrip, textwrap.dedent(source).splitlines()))"
   ]
  },
  {
   "cell_type": "code",
   "execution_count": 19,
   "metadata": {},
   "outputs": [
    {
     "data": {
      "text/html": [
       "<code style=\"white-space: pre;\" title=\"\">def <span style=\"border-bottom: 1px dotted gray;\" title=\"Signature: load_ipython_extension(ip)&#013;Source:   &#013;def load_ipython_extension(ip): &#013;    &quot;&quot;&quot;&gt;&gt;&gt; load_ipython_extension(get_ipython())&quot;&quot;&quot;        &#013;&#013;    ip.weave = config&#013;    ip.events.register(&#x27;post_run_cell&#x27;, run_cell_display)&#013;File:      &#x27;&lt;safe path&gt;\\&lt;ipython-input-19-d27ef5f3309c&gt;&#x27;&#013;Type:      function\">load_ipython_extension</span>(<span style=\"border-bottom: 1px dotted gray;\" title=\"Type:           ZMQInteractiveShell&#013;String form:    &lt;ipykernel.zmqshell.ZMQInteractiveShell object at 0x00000142BAC31C18&gt;&#013;File:           &#x27;&lt;safe path&gt;\\zmqshell.py&#x27;&#013;Docstring:      A subclass of InteractiveShell for ZMQ.&#013;Init docstring:&#013;Create a configurable given a config config.&#013;&#013;Parameters&#013;----------&#013;config : Config&#013;    If this is empty, default values are used. If config is a&#013;    :class:`Config` instance, it will be used to configure the&#013;    instance.&#013;parent : Configurable instance, optional&#013;    The parent Configurable instance of this object.&#013;&#013;Notes&#013;-----&#013;Subclasses of Configurable must call the :meth:`__init__` method of&#013;:class:`Configurable` *before* doing anything else and using&#013;:func:`super`::&#013;&#013;    class MyConfigurable(Configurable):&#013;        def __init__(self, config=None):&#013;            super(MyConfigurable, self).__init__(config=config)&#013;            # Then any other code you need to finish initialization.&#013;&#013;This ensures that instances will be configured properly.\">ip</span>): \n",
       "</code><code style=\"white-space: pre;\" title=\"Finding tests in __main__&#013;Trying:&#013;    load_ipython_extension(get_ipython())        &#013;&#013;Expecting nothing&#013;ok\">>>> <span style=\"border-bottom: 1px dotted gray;\" title=\"Signature: load_ipython_extension(ip)&#013;Docstring: &gt;&gt;&gt; load_ipython_extension(get_ipython())&#013;File:      &#x27;&lt;safe path&gt;\\&lt;ipython-input-19-d27ef5f3309c&gt;&#x27;&#013;Type:      function\">load_ipython_extension</span>(<span style=\"border-bottom: 1px dotted gray;\" title=\"Signature: get_ipython()&#013;Docstring: Return the currently running IPython instance.&#013;File:      &#x27;&lt;safe path&gt;\\interactiveshell.py&#x27;&#013;Type:      method\">get_ipython</span>())        \n",
       "</code><code style=\"white-space: pre;\" title=\"\">    <span style=\"border-bottom: 1px dotted gray;\" title=\"Type:           PidginWeave&#013;String form:    &lt;__main__.PidginWeave object at 0x00000142BC2BE5F8&gt;&#013;Docstring:      `PidginWeave` modifies the __weave__ phase of the cell execution.&#013;Init docstring:&#013;Create a configurable given a config config.&#013;&#013;Parameters&#013;----------&#013;config : Config&#013;    If this is empty, default values are used. If config is a&#013;    :class:`Config` instance, it will be used to configure the&#013;    instance.&#013;parent : Configurable instance, optional&#013;    The parent Configurable instance of this object.&#013;&#013;Notes&#013;-----&#013;Subclasses of Configurable must call the :meth:`__init__` method of&#013;:class:`Configurable` *before* doing anything else and using&#013;:func:`super`::&#013;&#013;    class MyConfigurable(Configurable):&#013;        def __init__(self, config=None):&#013;            super(MyConfigurable, self).__init__(config=config)&#013;            # Then any other code you need to finish initialization.&#013;&#013;This ensures that instances will be configured properly.\">ip.weave</span> = <span style=\"border-bottom: 1px dotted gray;\" title=\"Type:           PidginWeave&#013;String form:    &lt;__main__.PidginWeave object at 0x00000142BC2BE5F8&gt;&#013;Docstring:      `PidginWeave` modifies the __weave__ phase of the cell execution.&#013;Init docstring:&#013;Create a configurable given a config config.&#013;&#013;Parameters&#013;----------&#013;config : Config&#013;    If this is empty, default values are used. If config is a&#013;    :class:`Config` instance, it will be used to configure the&#013;    instance.&#013;parent : Configurable instance, optional&#013;    The parent Configurable instance of this object.&#013;&#013;Notes&#013;-----&#013;Subclasses of Configurable must call the :meth:`__init__` method of&#013;:class:`Configurable` *before* doing anything else and using&#013;:func:`super`::&#013;&#013;    class MyConfigurable(Configurable):&#013;        def __init__(self, config=None):&#013;            super(MyConfigurable, self).__init__(config=config)&#013;            # Then any other code you need to finish initialization.&#013;&#013;This ensures that instances will be configured properly.\">config</span>\n",
       "    <span style=\"border-bottom: 1px dotted gray;\" title=\"Signature: ip.events.register(event, function)&#013;Docstring:&#013;Register a new event callback.&#013;&#013;Parameters&#013;----------&#013;event : str&#013;  The event for which to register this callback.&#013;function : callable&#013;  A function to be called on the given event. It should take the same&#013;  parameters as the appropriate callback prototype.&#013;&#013;Raises&#013;------&#013;TypeError&#013;  If ``function`` is not callable.&#013;KeyError&#013;  If ``event`` is not one of the known events.&#013;File:      &#x27;&lt;safe path&gt;\\events.py&#x27;&#013;Type:      method\">ip.events.register</span>('post_run_cell', <span style=\"border-bottom: 1px dotted gray;\" title=\"Signature: run_cell_display(result) -&gt; bool&#013;Docstring: &lt;no docstring&gt;&#013;File:      &#x27;&lt;safe path&gt;\\&lt;ipython-input-17-a2496e1200f0&gt;&#x27;&#013;Type:      function\">run_cell_display</span>)\n",
       "\n",
       "def <span style=\"border-bottom: 1px dotted gray;\" title=\"Signature: unload_ipython_extension(ip=None)&#013;Source:   &#013;def unload_ipython_extension(ip=None): &#013;    &quot;&quot;&quot;&gt;&gt;&gt; unload_ipython_extension(get_ipython())&quot;&quot;&quot;                &#013;&#013;    ip.events.callbacks[&#x27;post_run_cell&#x27;] = [&#013;        object for object in ip.events.callbacks[&#x27;post_run_cell&#x27;]&#013;        if object is not run_cell_display&#013;    ]&#013;File:      &#x27;&lt;safe path&gt;\\&lt;ipython-input-19-d27ef5f3309c&gt;&#x27;&#013;Type:      function\">unload_ipython_extension</span>(<span style=\"border-bottom: 1px dotted gray;\" title=\"Type:           ZMQInteractiveShell&#013;String form:    &lt;ipykernel.zmqshell.ZMQInteractiveShell object at 0x00000142BAC31C18&gt;&#013;File:           &#x27;&lt;safe path&gt;\\zmqshell.py&#x27;&#013;Docstring:      A subclass of InteractiveShell for ZMQ.&#013;Init docstring:&#013;Create a configurable given a config config.&#013;&#013;Parameters&#013;----------&#013;config : Config&#013;    If this is empty, default values are used. If config is a&#013;    :class:`Config` instance, it will be used to configure the&#013;    instance.&#013;parent : Configurable instance, optional&#013;    The parent Configurable instance of this object.&#013;&#013;Notes&#013;-----&#013;Subclasses of Configurable must call the :meth:`__init__` method of&#013;:class:`Configurable` *before* doing anything else and using&#013;:func:`super`::&#013;&#013;    class MyConfigurable(Configurable):&#013;        def __init__(self, config=None):&#013;            super(MyConfigurable, self).__init__(config=config)&#013;            # Then any other code you need to finish initialization.&#013;&#013;This ensures that instances will be configured properly.\">ip</span>=None): \n",
       "</code><code style=\"white-space: pre;\" title=\"Finding tests in __main__&#013;Trying:&#013;    unload_ipython_extension(get_ipython())                &#013;&#013;Expecting nothing&#013;ok\">>>> <span style=\"border-bottom: 1px dotted gray;\" title=\"Signature: unload_ipython_extension(ip=None)&#013;Docstring: &gt;&gt;&gt; unload_ipython_extension(get_ipython())&#013;File:      &#x27;&lt;safe path&gt;\\&lt;ipython-input-19-d27ef5f3309c&gt;&#x27;&#013;Type:      function\">unload_ipython_extension</span>(<span style=\"border-bottom: 1px dotted gray;\" title=\"Signature: get_ipython()&#013;Docstring: Return the currently running IPython instance.&#013;File:      &#x27;&lt;safe path&gt;\\interactiveshell.py&#x27;&#013;Type:      method\">get_ipython</span>())                \n",
       "</code><code style=\"white-space: pre;\" title=\"\">    <span style=\"border-bottom: 1px dotted gray;\" title=\"Type:        dict&#013;String form: {&#x27;pre_execute&#x27;: [&lt;bound method InteractiveShell._clear_warning_registry of &lt;ipykernel.zmqshell.ZM &lt;...&gt; ], &#x27;post_run_cell&#x27;: [&lt;function run_cell_display at 0x00000142BCA50620&gt;], &#x27;shell_initialized&#x27;: []}&#013;Length:      5&#013;Docstring:  &#013;dict() -&gt; new empty dictionary&#013;dict(mapping) -&gt; new dictionary initialized from a mapping object&#x27;s&#013;    (key, value) pairs&#013;dict(iterable) -&gt; new dictionary initialized as if via:&#013;    d = {}&#013;    for k, v in iterable:&#013;        d[k] = v&#013;dict(**kwargs) -&gt; new dictionary initialized with the name=value pairs&#013;    in the keyword argument list.  For example:  dict(one=1, two=2)\">ip.events.callbacks</span>['post_run_cell'] = [\n",
       "        object for object in <span style=\"border-bottom: 1px dotted gray;\" title=\"Type:        dict&#013;String form: {&#x27;pre_execute&#x27;: [&lt;bound method InteractiveShell._clear_warning_registry of &lt;ipykernel.zmqshell.ZM &lt;...&gt; ], &#x27;post_run_cell&#x27;: [&lt;function run_cell_display at 0x00000142BCA50620&gt;], &#x27;shell_initialized&#x27;: []}&#013;Length:      5&#013;Docstring:  &#013;dict() -&gt; new empty dictionary&#013;dict(mapping) -&gt; new dictionary initialized from a mapping object&#x27;s&#013;    (key, value) pairs&#013;dict(iterable) -&gt; new dictionary initialized as if via:&#013;    d = {}&#013;    for k, v in iterable:&#013;        d[k] = v&#013;dict(**kwargs) -&gt; new dictionary initialized with the name=value pairs&#013;    in the keyword argument list.  For example:  dict(one=1, two=2)\">ip.events.callbacks</span>['post_run_cell']\n",
       "        if object is not <span style=\"border-bottom: 1px dotted gray;\" title=\"Signature: run_cell_display(result) -&gt; bool&#013;Docstring: &lt;no docstring&gt;&#013;File:      &#x27;&lt;safe path&gt;\\&lt;ipython-input-17-a2496e1200f0&gt;&#x27;&#013;Type:      function\">run_cell_display</span>\n",
       "    ]\n",
       "</code>"
      ],
      "text/markdown": [
       "    def load_ipython_extension(ip): \n",
       ">>> load_ipython_extension(get_ipython())        \n",
       "\n",
       "        ip.weave = config\n",
       "        ip.events.register('post_run_cell', run_cell_display)\n",
       "\n",
       "    def unload_ipython_extension(ip=None): \n",
       ">>> unload_ipython_extension(get_ipython())                \n",
       "\n",
       "        ip.events.callbacks['post_run_cell'] = [\n",
       "            object for object in ip.events.callbacks['post_run_cell']\n",
       "            if object is not run_cell_display\n",
       "        ]"
      ],
      "text/plain": [
       "\"    def load_ipython_extension(ip): \\n>>> load_ipython_extension(get_ipython())        \\n\\n        ip.weave = config\\n        ip.events.register('post_run_cell', run_cell_display)\\n\\n    def unload_ipython_extension(ip=None): \\n>>> unload_ipython_extension(get_ipython())                \\n\\n        ip.events.callbacks['post_run_cell'] = [\\n            object for object in ip.events.callbacks['post_run_cell']\\n            if object is not run_cell_display\\n        ]\""
      ]
     },
     "metadata": {},
     "output_type": "display_data"
    }
   ],
   "source": [
    "    def load_ipython_extension(ip): \n",
    ">>> load_ipython_extension(get_ipython())        \n",
    "\n",
    "        ip.weave = config\n",
    "        ip.events.register('post_run_cell', run_cell_display)\n",
    "\n",
    "    def unload_ipython_extension(ip=None): \n",
    ">>> unload_ipython_extension(get_ipython())                \n",
    "\n",
    "        ip.events.callbacks['post_run_cell'] = [\n",
    "            object for object in ip.events.callbacks['post_run_cell']\n",
    "            if object is not run_cell_display\n",
    "        ]"
   ]
  }
 ],
 "metadata": {
  "kernelspec": {
   "display_name": "Python 3",
   "language": "python",
   "name": "python3"
  },
  "language_info": {
   "codemirror_mode": {
    "name": "ipython",
    "version": 3
   },
   "file_extension": ".py",
   "mimetype": "text/x-python",
   "name": "python",
   "nbconvert_exporter": "python",
   "pygments_lexer": "ipython3",
   "version": "3.6.6"
  },
  "nikola": {
   "date": "2018-12-06 12:00:00 UTC",
   "description": "`pidgin.display` is a collection of display rules for IPython objects.  \n\n`StringFormatter` is a class that adds reules for string `object`s.",
   "slug": "display.ipynb",
   "title": "display.ipynb",
   "type": "text"
  }
 },
 "nbformat": 4,
 "nbformat_minor": 2
}
