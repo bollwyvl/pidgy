{
 "cells": [
  {
   "cell_type": "markdown",
   "metadata": {},
   "source": [
    "[`pidgin.weave`](weave.md.ipynb) allows code to be execute with the display function."
   ]
  },
  {
   "cell_type": "code",
   "execution_count": 1,
   "metadata": {},
   "outputs": [],
   "source": [
    "    import ast, jinja2, sys, nbconvert, nbformat, contextlib, emoji, collections, IPython, mistune, doctest, yaml, re, traitlets, textwrap, types, typing as t, importlib, importnb,  jinja2, builtins, jsonschema\n",
    "    with __import__('importnb').Notebook():\n",
    "        from . import tangle\n",
    "        \n",
    "    with tangle.Pidgin(): \n",
    "        from . import shell\n",
    "        from .specifications import template, markdown, yaml_, transform_cell, emojis"
   ]
  },
  {
   "cell_type": "code",
   "execution_count": 2,
   "metadata": {},
   "outputs": [],
   "source": [
    "    if __name__ == '__main__': \n",
    "        %reload_ext pidgin"
   ]
  },
  {
   "cell_type": "code",
   "execution_count": 3,
   "metadata": {},
   "outputs": [],
   "source": [
    "    def load_ipython_extension(shell: IPython.InteractiveShell):\n",
    "        from . import testing, template\n",
    "        document, test = map(make_module, '_document_ _test_'.split())\n",
    "        test = shell.test = testing.Doctest(user_module=test, parent=shell, parents=[shell])\n",
    "        weave = shell.weave = Weave(user_module=document, parent=shell, parents=[test, shell])\n",
    "        template = shell.template = template.Template(parent=shell, parents=[weave, test, shell])\n",
    "        shell.display_formatter.formatters['text/html'].for_type(str, format_http)\n",
    "        shell.events.register('post_run_cell', test.run_cell)\n",
    "        shell.events.register('post_run_cell', weave.run_cell)\n",
    "        shell.enable_html_pager = True        "
   ]
  },
  {
   "cell_type": "code",
   "execution_count": 4,
   "metadata": {},
   "outputs": [],
   "source": [
    "    def format_http(str): \n",
    "        if str.startswith(('http:', 'https:')): return mistune.markdown(str)"
   ]
  },
  {
   "cell_type": "code",
   "execution_count": 5,
   "metadata": {},
   "outputs": [],
   "source": [
    "    class Weave(template.Template, markdown.Markdown, yaml_.FrontMatter, shell.Shell):\n",
    "        test = traitlets.Instance(IPython.InteractiveShell)\n",
    "        weave = traitlets.Instance(IPython.InteractiveShell)\n",
    "        template = traitlets.Instance(IPython.InteractiveShell)\n",
    "        \n",
    "        def __init__(Weave, *args, **kwargs):\n",
    "            markdown.Markdown.__init__(Weave, *args, **kwargs)\n",
    "            shell.Shell.__init__(Weave, *args, **kwargs)\n",
    "            yaml_.FrontMatter.__init__(Weave)\n",
    "            \n",
    "        def run_cell(Weave, text: str, *args, **kwargs):\n",
    "            if isinstance(text, IPython.core.interactiveshell.ExecutionResult): text = text.info.raw_cell\n",
    "            publish = do_publish(''.join(text))\n",
    "            text = text.lstrip('//')\n",
    "            if text in Weave.user_ns:\n",
    "                data, metadata = Weave.parent.display_formatter.format(Weave.user_ns[text])\n",
    "                Weave.parent.display_pub.publish(data, metadata, transient={'raw': True})\n",
    "                return \n",
    "            text, metadata = Weave.front_matter(text)\n",
    "            \n",
    "            text = emojis.emojize(text)\n",
    "            text = template.Template.render(Weave, text, **metadata)\n",
    "            \n",
    "            if len(text.splitlines()) == 1 and text.startswith(('http:', 'https:')):\n",
    "                data, metadata = Weave.parent.display_formatter.format(IPython.display.IFrame(text, \"100%\", \"600px\", metadata=metadata))\n",
    "            else:\n",
    "                text = markdown.Markdown.render(Weave, text)\n",
    "                if publish:\n",
    "                    data, metadata = Weave.parent.display_formatter.format(IPython.display.HTML(text, metadata=metadata))\n",
    "                else: data = {}\n",
    "            \n",
    "            (data or metadata) and Weave.parent.display_pub.publish(data, metadata)\n"
   ]
  },
  {
   "cell_type": "code",
   "execution_count": 6,
   "metadata": {},
   "outputs": [],
   "source": [
    "    def do_publish(str) -> bool:\n",
    "        display = bool(str.partition('\\n')[0].strip()) & (not str.startswith('\\\\'))\n",
    "        source = transform_cell.markdown_to_python(str)\n",
    "        display = display & (not bool(only_contains_block_code(str, source)))\n",
    "        try:\n",
    "            if str.strip() != ast.literal_eval(source.rstrip().rstrip(';')).strip(): display = False\n",
    "        finally: return display"
   ]
  },
  {
   "cell_type": "code",
   "execution_count": 7,
   "metadata": {},
   "outputs": [],
   "source": [
    "    def make_module(str):\n",
    "        try:  return importlib.import_module(str)\n",
    "        except:  return sys.modules.__setitem__(str, types.ModuleType(str)) or sys.modules[str]"
   ]
  },
  {
   "cell_type": "code",
   "execution_count": 8,
   "metadata": {},
   "outputs": [],
   "source": [
    "    def only_contains_block_code(raw: str, source: str) -> bool: \n",
    "        return raw.startswith('%%') or list(map(str.rstrip, textwrap.dedent(raw).splitlines())) == list(map(str.rstrip, textwrap.dedent(source).splitlines()))"
   ]
  },
  {
   "cell_type": "code",
   "execution_count": 9,
   "metadata": {},
   "outputs": [],
   "source": [
    "    def unload_ipython_extension(shell: IPython.InteractiveShell):\n",
    "        ..."
   ]
  },
  {
   "cell_type": "code",
   "execution_count": 10,
   "metadata": {},
   "outputs": [],
   "source": [
    "    def load_ipython_extension(shell: IPython.InteractiveShell):\n",
    "        from . import testing, template\n",
    "        document, test = map(make_module, '_document_ _test_'.split())\n",
    "        test = shell.test = testing.Doctest(user_module=test, parent=shell, parents=[shell])\n",
    "        weave = shell.weave = Weave(user_module=document, parent=shell, parents=[test, shell])\n",
    "        template = shell.template = template.Template(parent=shell, parents=[weave, test, shell])\n",
    "        shell.display_formatter.formatters['text/html'].for_type(str, format_http)\n",
    "        shell.events.register('post_run_cell', test.run_cell)\n",
    "        shell.events.register('post_run_cell', weave.run_cell)\n",
    "        shell.enable_html_pager = True        "
   ]
  }
 ],
 "metadata": {
  "kernelspec": {
   "display_name": "p6",
   "language": "python",
   "name": "other-env"
  },
  "language_info": {
   "codemirror_mode": {
    "name": "ipython",
    "version": 3
   },
   "file_extension": ".py",
   "mimetype": "text/x-python",
   "name": "python",
   "nbconvert_exporter": "python",
   "pygments_lexer": "ipython3",
   "version": "3.6.8"
  },
  "nikola": {
   "date": "2018-12-06 12:00:00 UTC",
   "description": "`pidgin.display` is a collection of display rules for IPython objects.  \n\n`StringFormatter` is a class that adds reules for string `object`s.",
   "slug": "display.ipynb",
   "title": "display.ipynb",
   "type": "text"
  }
 },
 "nbformat": 4,
 "nbformat_minor": 2
}
