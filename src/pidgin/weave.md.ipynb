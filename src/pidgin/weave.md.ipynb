{
 "cells": [
  {
   "cell_type": "markdown",
   "metadata": {},
   "source": [
    "[`pidgin.weave`](weave.md.ipynb) allows code to be execute with the display function."
   ]
  },
  {
   "cell_type": "code",
   "execution_count": 1,
   "metadata": {},
   "outputs": [],
   "source": [
    "    import ast, jinja2, sys, nbconvert, nbformat, contextlib, emoji, collections, IPython, mistune, doctest, re, traitlets, textwrap, types, typing as t, importlib, importnb,  jinja2, builtins, jsonschema\n",
    "    with __import__('importnb').Notebook():\n",
    "        try:\n",
    "            from . import tangle\n",
    "        except:\n",
    "            from pidgin import tangle\n",
    "            \n",
    "    with tangle.Pidgin(): \n",
    "        try:\n",
    "            from . import shell, formatter, specification\n",
    "            from .specification import template, markdown, yaml, transform_cell, emojis, json, testing\n",
    "        except:\n",
    "            from pidgin import shell, formatter, specification\n",
    "            from pidgin.specification import template, markdown, yaml, transform_cell, emojis, json, testing\n",
    "\n",
    "    if __name__ == '__main__':\n",
    "        %reload_ext pidgin"
   ]
  },
  {
   "cell_type": "code",
   "execution_count": 2,
   "metadata": {},
   "outputs": [
    {
     "data": {
      "text/html": [
       "<pre><code>def load_ipython_extension(shell: IPython.InteractiveShell):\n",
       "</code></pre>\n",
       "<pre><code>&gt;&gt;&gt; assert '_document_' in sys.modules\n",
       "</code></pre>\n",
       "<pre><code>&gt;&gt;&gt; assert '_test_' in sys.modules\n",
       "</code></pre>\n",
       "<pre><code>    from . import formatter\n",
       "    document, test = map(make_module, '_document_ _test_'.split())\n",
       "    test = shell.test = testing.Doctest(user_module=test, parent=shell, parents=[shell])\n",
       "    shell.markdown = markdown.Markdown(user_module=document, parent=shell, parents=[test, shell])\n",
       "    shell.template = template.Template(parent=shell, parents=[shell.markdown, test, shell])\n",
       "    shell.weave = Weave(user_module=document, parent=shell, parents=[test, shell], markdown=shell.markdown, template=shell.template, test=test, )\n",
       "\n",
       "    shell.display_formatter.formatters['text/html'].for_type(str, format_http)\n",
       "    shell.events.register('post_run_cell', test)\n",
       "    shell.events.register('post_run_cell', shell.weave)\n",
       "    shell.enable_html_pager = True        \n",
       "</code></pre>\n"
      ],
      "text/plain": [
       "<IPython.core.display.HTML object>"
      ]
     },
     "metadata": {},
     "output_type": "display_data"
    }
   ],
   "source": [
    "    def load_ipython_extension(shell: IPython.InteractiveShell):\n",
    ">>> assert '_document_' in sys.modules\n",
    ">>> assert '_test_' in sys.modules\n",
    "        \n",
    "        from . import formatter\n",
    "        document, test = map(make_module, '_document_ _test_'.split())\n",
    "        test = shell.test = testing.Doctest(user_module=test, parent=shell, parents=[shell])\n",
    "        shell.markdown = markdown.Markdown(user_module=document, parent=shell, parents=[test, shell])\n",
    "        shell.template = template.Template(parent=shell, parents=[shell.markdown, test, shell])\n",
    "        shell.weave = Weave(user_module=document, parent=shell, parents=[test, shell], markdown=shell.markdown, template=shell.template, test=test, )\n",
    "        \n",
    "        shell.display_formatter.formatters['text/html'].for_type(str, format_http)\n",
    "        shell.events.register('post_run_cell', test)\n",
    "        shell.events.register('post_run_cell', shell.weave)\n",
    "        shell.enable_html_pager = True        "
   ]
  },
  {
   "cell_type": "code",
   "execution_count": 3,
   "metadata": {},
   "outputs": [
    {
     "name": "stdout",
     "output_type": "stream",
     "text": [
      "**********************************************************************\n",
      "Line 5, in _test_\n",
      "Failed example:\n",
      "    shell.weave.display_formatter.format(\"http://abc\")\n",
      "Expected nothing\n",
      "Got:\n",
      "    ({'text/plain': '<IPython.lib.display.IFrame at 0x10a76ad30>', 'text/html': '\\n        <iframe\\n            width=\"100%\"\\n            height=\"600px\"\\n            src=\"http://abc?metadata=%7B%7D\"\\n            frameborder=\"0\"\\n            allowfullscreen\\n        ></iframe>\\n        '}, {})\n"
     ]
    },
    {
     "data": {
      "text/html": [
       "<pre><code>def format_http(str): \n",
       "</code></pre>\n",
       "<pre><code>&gt;&gt;&gt; shell = IPython.get_ipython()\n",
       "</code></pre>\n",
       "<pre><code>&gt;&gt;&gt; shell.display_formatter.format(\"http://abc\")\n",
       "({'text/plain': \"'http://abc'\", 'text/html': '&lt;p&gt;&lt;a href=\"http://abc\"&gt;http://abc&lt;/a&gt;&lt;/p&gt;\\n'}, {})\n",
       "</code></pre>\n",
       "<pre><code>&gt;&gt;&gt; shell.weave.display_formatter.format(\"http://abc\")\n",
       "</code></pre>\n",
       "<pre><code>    if str.startswith(('http:', 'https:')): return mistune.markdown(str)\n",
       "</code></pre>\n"
      ],
      "text/plain": [
       "<IPython.core.display.HTML object>"
      ]
     },
     "metadata": {},
     "output_type": "display_data"
    }
   ],
   "source": [
    "    def format_http(str): \n",
    ">>> shell = IPython.get_ipython()\n",
    ">>> shell.display_formatter.format(\"http://abc\")\n",
    "({'text/plain': \"'http://abc'\", 'text/html': '<p><a href=\"http://abc\">http://abc</a></p>\\n'}, {})\n",
    ">>> shell.weave.display_formatter.format(\"http://abc\")\n",
    "\n",
    "        \n",
    "        if str.startswith(('http:', 'https:')): return mistune.markdown(str)"
   ]
  },
  {
   "cell_type": "code",
   "execution_count": 4,
   "metadata": {},
   "outputs": [],
   "source": [
    "    class Weave(specification.yaml.FrontMatter, formatter.Formatter):\n",
    "        test = traitlets.Instance(IPython.InteractiveShell)\n",
    "        markdown = traitlets.Instance(IPython.InteractiveShell, allow_none=True)\n",
    "        template = traitlets.Instance(IPython.InteractiveShell)\n",
    "        \n",
    "        __call__ = shell.Shell.__call__\n",
    "        \n",
    "        def __init__(Weave, *args, **kwargs):\n",
    "            formatter.Formatter.__init__(Weave, *args, **kwargs)\n",
    "            specification.yaml.FrontMatter.__init__(Weave)\n",
    "            Weave.environment = Weave.template.environment\n",
    "            \n",
    "        def run_cell(Weave, text: str, *args, **kwargs):\n",
    "            Weave.user_ns.update(Weave.parent.user_ns)\n",
    "            if isinstance(text, IPython.core.interactiveshell.ExecutionResult): \n",
    "                text = text.info.raw_cell            \n",
    "            result = super().run_cell(text, *args, **kwargs)\n",
    "            #             for shell in Weave.parents:\n",
    "            #                 if shell.parent and shell.parent.user_ns: shell.user_ns.update(shell.parent.user_ns)\n",
    "            return result\n",
    "        \n",
    "        def render(Weave, text, **metadata):\n",
    "            text, metadata = Weave.front_matter(text)\n",
    "            if text in Weave.user_ns:\n",
    "                if not isinstance(Weave.user_ns[text], str):\n",
    "                    return Weave.parent.display_formatter.format(Weave.user_ns[text])\n",
    "                text  = Weave.user_ns[text]\n",
    "            text = specification.json.expand(text, Weave.user_ns.get('__context__', {}))\n",
    "            if len(text.splitlines()) == 1 and text.startswith(('http:', 'https:')):\n",
    "                return IPython.display.IFrame(text, \"100%\", \"600px\", metadata=metadata)\n",
    "            text = specification.emojis.emojize(text)\n",
    "            text = Weave.template.render(text, **metadata)\n",
    "            text = Weave.markdown.render(text)   \n",
    "            return IPython.display.HTML(text, metadata=metadata)\n",
    "        \n",
    "        def publish(Template, text):\n",
    "            return super().publish(text) and not only_contains_block_code(text, specification.transform_cell.markdown_to_python(text))"
   ]
  },
  {
   "cell_type": "code",
   "execution_count": 5,
   "metadata": {},
   "outputs": [
    {
     "data": {
      "text/html": [
       "<pre><code>def only_contains_block_code(raw: str, source: str) -&gt; bool: \n",
       "</code></pre>\n",
       "<pre><code>&gt;&gt;&gt; assert only_contains_block_code(\"\"\"f\"\"\", \"\"\"f\"\"\")\n",
       "</code></pre>\n",
       "<pre><code>&gt;&gt;&gt; assert only_contains_block_code(\"\"\"%%magic\"\"\", \"\"\"%%magic\"\"\")\n",
       "</code></pre>\n",
       "<pre><code>&gt;&gt;&gt; assert not only_contains_block_code(\"\"\"Markdown\"\"\", \"\"\"'Markdown'\"\"\")\n",
       "</code></pre>\n",
       "<pre><code>    return raw.startswith('%%') or list(map(str.rstrip, textwrap.dedent(raw).splitlines())) == list(map(str.rstrip, textwrap.dedent(source).splitlines()))\n",
       "</code></pre>\n"
      ],
      "text/plain": [
       "<IPython.core.display.HTML object>"
      ]
     },
     "metadata": {},
     "output_type": "display_data"
    }
   ],
   "source": [
    "    def only_contains_block_code(raw: str, source: str) -> bool: \n",
    ">>> assert only_contains_block_code(\"\"\"f\"\"\", \"\"\"f\"\"\")\n",
    ">>> assert only_contains_block_code(\"\"\"%%magic\"\"\", \"\"\"%%magic\"\"\")\n",
    ">>> assert not only_contains_block_code(\"\"\"Markdown\"\"\", \"\"\"'Markdown'\"\"\")\n",
    "\n",
    "\n",
    "        \n",
    "        return raw.startswith('%%') or list(map(str.rstrip, textwrap.dedent(raw).splitlines())) == list(map(str.rstrip, textwrap.dedent(source).splitlines()))"
   ]
  },
  {
   "cell_type": "code",
   "execution_count": 6,
   "metadata": {},
   "outputs": [
    {
     "data": {
      "text/html": [
       "<pre><code>def do_publish(str) -&gt; bool:\n",
       "</code></pre>\n",
       "<pre><code>&gt;&gt;&gt; assert do_publish(\"\"\"🏖\"\"\")\n",
       "</code></pre>\n",
       "<pre><code>&gt;&gt;&gt; assert not do_publish(\"\"\"//🐻\"\"\")\n",
       "</code></pre>\n",
       "<pre><code>&gt;&gt;&gt; assert not do_publish(\"\"\"\n",
       "... 🚳\"\"\")\n",
       "</code></pre>\n",
       "<pre><code>    display = bool(str.partition('\\n')[0].strip()) and not str.startswith('//')            \n",
       "    source = transform_cell.markdown_to_python(str)\n",
       "    display = display &amp; (not bool(only_contains_block_code(str, source)))\n",
       "    try:\n",
       "        if str.strip() != ast.literal_eval(source.rstrip().rstrip(';')).strip(): display = False\n",
       "    finally: return display\n",
       "</code></pre>\n"
      ],
      "text/plain": [
       "<IPython.core.display.HTML object>"
      ]
     },
     "metadata": {},
     "output_type": "display_data"
    }
   ],
   "source": [
    "    def do_publish(str) -> bool:\n",
    ">>> assert do_publish(\"\"\"___beach_with_umbrella___\"\"\")\n",
    ">>> assert not do_publish(\"\"\"//___bear_face___\"\"\")\n",
    ">>> assert not do_publish(\"\"\"\n",
    "... ___no_bicycles___\"\"\")\n",
    "        \n",
    "        display = bool(str.partition('\\n')[0].strip()) and not str.startswith('//')            \n",
    "        source = transform_cell.markdown_to_python(str)\n",
    "        display = display & (not bool(only_contains_block_code(str, source)))\n",
    "        try:\n",
    "            if str.strip() != ast.literal_eval(source.rstrip().rstrip(';')).strip(): display = False\n",
    "        finally: return display"
   ]
  },
  {
   "cell_type": "code",
   "execution_count": 7,
   "metadata": {},
   "outputs": [
    {
     "data": {
      "text/html": [
       "<pre><code>def make_module(str):\n",
       "</code></pre>\n",
       "<pre><code>&gt;&gt;&gt; make_module('_an_opportunistic_module_')\n",
       "&lt;module '_an_opportunistic_module_'&gt;\n",
       "</code></pre>\n",
       "<pre><code>&gt;&gt;&gt; assert '_an_opportunistic_module_' in sys.modules\n",
       "</code></pre>\n",
       "<pre><code>    try:  return importlib.import_module(str)\n",
       "    except:  return sys.modules.__setitem__(str, types.ModuleType(str)) or sys.modules[str]\n",
       "</code></pre>\n"
      ],
      "text/plain": [
       "<IPython.core.display.HTML object>"
      ]
     },
     "metadata": {},
     "output_type": "display_data"
    }
   ],
   "source": [
    "    def make_module(str):\n",
    ">>> make_module('_an_opportunistic_module_')\n",
    "<module '_an_opportunistic_module_'>\n",
    ">>> assert '_an_opportunistic_module_' in sys.modules\n",
    "\n",
    "        \n",
    "        try:  return importlib.import_module(str)\n",
    "        except:  return sys.modules.__setitem__(str, types.ModuleType(str)) or sys.modules[str]"
   ]
  },
  {
   "cell_type": "code",
   "execution_count": 8,
   "metadata": {},
   "outputs": [],
   "source": [
    "    def unload_ipython_extension(shell: IPython.InteractiveShell):\n",
    "        from . import testing\n",
    "        pops = []\n",
    "        for i, post in enumerate(shell.events.callbacks['post_run_cell']):\n",
    "            if isinstance(post, (testing.Doctest, Weave)):\n",
    "                pops.append(i)\n",
    "        for i in reversed(pops): shell.events.callbacks['post_run_cell'].pop(i)"
   ]
  },
  {
   "cell_type": "code",
   "execution_count": null,
   "metadata": {},
   "outputs": [],
   "source": []
  }
 ],
 "metadata": {
  "kernelspec": {
   "display_name": "p6",
   "language": "python",
   "name": "other-env"
  },
  "language_info": {
   "codemirror_mode": {
    "name": "ipython",
    "version": 3
   },
   "file_extension": ".py",
   "mimetype": "text/x-python",
   "name": "python",
   "nbconvert_exporter": "python",
   "pygments_lexer": "ipython3",
   "version": "3.6.8"
  },
  "nikola": {
   "date": "2018-12-06 12:00:00 UTC",
   "description": "`pidgin.display` is a collection of display rules for IPython objects.  \n\n`StringFormatter` is a class that adds reules for string `object`s.",
   "slug": "display.ipynb",
   "title": "display.ipynb",
   "type": "text"
  }
 },
 "nbformat": 4,
 "nbformat_minor": 2
}
