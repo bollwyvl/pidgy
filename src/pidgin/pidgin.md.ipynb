{
 "cells": [
  {
   "cell_type": "markdown",
   "metadata": {},
   "source": [
    "`pidgin._pidgin` loads the `pidgin.tangle` and `pidgin.weave` `IPython.core.interactiveshell` modifications that accept __Markdown__ as source input."
   ]
  },
  {
   "cell_type": "code",
   "execution_count": 25,
   "metadata": {},
   "outputs": [],
   "source": [
    "    if __name__ == '__main__':\n",
    "        import ast, IPython, ipykernel, nbformat, notebook, pidgin, toolz.curried as toolz, code\n",
    "        shell = get_ipython()\n",
    "        %reload_ext pidgin\n",
    "        get_ipython().Completer.use_jedi = False\n",
    "    __all__ = 'load_ipython_extension', 'unload_ipython_extension'"
   ]
  },
  {
   "cell_type": "code",
   "execution_count": 33,
   "metadata": {},
   "outputs": [
    {
     "data": {
      "text/html": [
       "<pre><code>def load_ipython_extension(ip):\n",
       "</code></pre>\n",
       "<h2>`pidgin` is a <strong>Markdown</strong> forward interactive shell</h2>\n",
       "<p>The `pidgin` extension configures `IPython` to accept <strong>Markdown</strong> as source text for literate computing.  The <strong>Markdown</strong> source is parsed twice in the tangle and weave stages.</p>\n",
       "<p>The `pidgin.tangle` extension defines rules for `shell.input_transformers_cleanup` and ` to transform <strong>Markdown</strong> block level text into valid <strong>Python</strong> source.  In this step, the resulting <strong>Python</strong> is evaluated like a normal cell.</p>\n",
       "<pre><code>    %reload_ext pidgin.tangle\n",
       "</code></pre>\n",
       "<p>The `pidgin.weave` extension introduces a second evaluated of the source text using the `shell.events.callbacks['post_run_cell']` event properly test and `display` the <strong>Markdown</strong> source text.</p>\n",
       "<pre><code>    %reload_ext pidgin.weave\n",
       "</code></pre>\n",
       "<h3>Alternative shell interfaces.</h3>\n",
       "<p>A program author can interact with the <code>shell.\\</code> and `shell.\\\n",
       "kernel` in more than the <code>shell\\</code>'s `shell\\\n",
       ".run_cell` method.  These interactions happen with different keystrokes and cursor positions.</p>\n",
       "<p>The `pidgin.inspector` modifies the `shell.kernel.do_inspect` method that controls how code is viewed with shift+tab and jupyterlab inspector.</p>\n",
       "<pre><code>    %reload_ext pidgin.inspector\n",
       "</code></pre>\n",
       "<p>Some other interfaces could be implemented for the `shell.debugger` and the `shell.Completer`.</p>"
      ],
      "text/markdown": [
       "    def load_ipython_extension(ip):\n",
       "## `pidgin` is a __Markdown__ forward interactive shell    \n",
       "    \n",
       "The `pidgin` extension configures `IPython` to accept __Markdown__ as source text for literate computing.  The __Markdown__ source is parsed twice in the tangle and weave stages.\n",
       "\n",
       "The `pidgin.tangle` extension defines rules for `shell.input_transformers_cleanup` and ` to transform __Markdown__ block level text into valid __Python__ source.  In this step, the resulting __Python__ is evaluated like a normal cell.\n",
       "        \n",
       "        %reload_ext pidgin.tangle\n",
       "        \n",
       "The `pidgin.weave` extension introduces a second evaluated of the source text using the `shell.events.callbacks['post_run_cell']` event properly test and `display` the __Markdown__ source text.  \n",
       "        \n",
       "        %reload_ext pidgin.weave\n",
       "        \n",
       "### Alternative shell interfaces.\n",
       "        \n",
       "A program author can interact with the `shell.\\` and `kernel` in more than the `shell\\`'s `.run_cell` method.  These interactions happen with different keystrokes and cursor positions.\n",
       "\n",
       "The `pidgin.inspector` modifies the `shell.kernel.do_inspect` method that controls how code is viewed with shift+tab and jupyterlab inspector.\n",
       "\n",
       "        %reload_ext pidgin.inspector\n",
       "Some other interfaces could be implemented for the `shell.debugger` and the `shell.Completer`."
      ],
      "text/plain": [
       "    def load_ipython_extension(ip):\n",
       "## `pidgin` is a __Markdown__ forward interactive shell    \n",
       "    \n",
       "The `pidgin` extension configures `IPython` to accept __Markdown__ as source text for literate computing.  The __Markdown__ source is parsed twice in the tangle and weave stages.\n",
       "\n",
       "The `pidgin.tangle` extension defines rules for `shell.input_transformers_cleanup` and ` to transform __Markdown__ block level text into valid __Python__ source.  In this step, the resulting __Python__ is evaluated like a normal cell.\n",
       "        \n",
       "        %reload_ext pidgin.tangle\n",
       "        \n",
       "The `pidgin.weave` extension introduces a second evaluated of the source text using the `shell.events.callbacks['post_run_cell']` event properly test and `display` the __Markdown__ source text.  \n",
       "        \n",
       "        %reload_ext pidgin.weave\n",
       "        \n",
       "### Alternative shell interfaces.\n",
       "        \n",
       "A program author can interact with the `shell.\\` and `kernel` in more than the `shell\\`'s `.run_cell` method.  These interactions happen with different keystrokes and cursor positions.\n",
       "\n",
       "The `pidgin.inspector` modifies the `shell.kernel.do_inspect` method that controls how code is viewed with shift+tab and jupyterlab inspector.\n",
       "\n",
       "        %reload_ext pidgin.inspector\n",
       "Some other interfaces could be implemented for the `shell.debugger` and the `shell.Completer`."
      ]
     },
     "metadata": {},
     "output_type": "display_data"
    }
   ],
   "source": [
    "    def load_ipython_extension(ip):\n",
    "## `pidgin` is a __Markdown__ forward interactive shell    \n",
    "    \n",
    "The `pidgin` extension configures `IPython` to accept __Markdown__ as source text for literate computing.  The __Markdown__ source is parsed twice in the tangle and weave stages.\n",
    "\n",
    "The `pidgin.tangle` extension defines rules for `shell.input_transformers_cleanup` and ` to transform __Markdown__ block level text into valid __Python__ source.  In this step, the resulting __Python__ is evaluated like a normal cell.\n",
    "        \n",
    "        %reload_ext pidgin.tangle\n",
    "        \n",
    "The `pidgin.weave` extension introduces a second evaluated of the source text using the `shell.events.callbacks['post_run_cell']` event properly test and `display` the __Markdown__ source text.  \n",
    "        \n",
    "        %reload_ext pidgin.weave\n",
    "        \n",
    "### Alternative shell interfaces.\n",
    "        \n",
    "A program author can interact with the `shell.\\` and `kernel` in more than the `shell\\`'s `.run_cell` method.  These interactions happen with different keystrokes and cursor positions.\n",
    "\n",
    "The `pidgin.inspector` modifies the `shell.kernel.do_inspect` method that controls how code is viewed with shift+tab and jupyterlab inspector.\n",
    "\n",
    "        %reload_ext pidgin.inspector\n",
    "Some other interfaces could be implemented for the `shell.debugger` and the `shell.Completer`."
   ]
  },
  {
   "cell_type": "code",
   "execution_count": 23,
   "metadata": {},
   "outputs": [
    {
     "data": {
      "text/html": [
       "<h3>`IPython` extensions</h3>\n",
       "<p>The configurations are made using [`IPython` extensions][extensions].</p>\n",
       "<blockquote><p>`load_ipython_extension` and `unload_ipython_extension` are conventions for configuing the `IPython.core.interactiveshell`; <code>%load_ext</code>, <code>%unload_ext</code>, and <code>%reload_ext</code> access these functions..  For example, these mechanisms are used to initialize magic functions.</p>\n",
       "</blockquote>\n",
       "<pre><code>def unload_ipython_extension(ip):\n",
       "</code></pre>\n",
       "<p>`pidgin.unload_ipython_extension` disables `pidgin`.</p>\n",
       "<pre><code>    %unload_ext pidgin.tangle\n",
       "    %unload_ext pidgin.weave\n",
       "    %unload_ext pidgin.inspector\n",
       "</code></pre>"
      ],
      "text/markdown": [
       "### `IPython` extensions\n",
       "\n",
       "The configurations are made using [`IPython` extensions][extensions].\n",
       "\n",
       "> `load_ipython_extension` and `unload_ipython_extension` are conventions for configuing the `IPython.core.interactiveshell`; <code>%load_ext</code>, <code>%unload_ext</code>, and <code>%reload_ext</code> access these functions..  For example, these mechanisms are used to initialize magic functions.\n",
       "\n",
       "[magics]: #\n",
       "\n",
       "    def unload_ipython_extension(ip):\n",
       "`pidgin.unload_ipython_extension` disables `pidgin`.\n",
       "\n",
       "        %unload_ext pidgin.tangle\n",
       "        %unload_ext pidgin.weave\n",
       "        %unload_ext pidgin.inspector"
      ],
      "text/plain": [
       "### `IPython` extensions\n",
       "\n",
       "The configurations are made using [`IPython` extensions][extensions].\n",
       "\n",
       "> `load_ipython_extension` and `unload_ipython_extension` are conventions for configuing the `IPython.core.interactiveshell`; <code>%load_ext</code>, <code>%unload_ext</code>, and <code>%reload_ext</code> access these functions..  For example, these mechanisms are used to initialize magic functions.\n",
       "\n",
       "[magics]: #\n",
       "\n",
       "    def unload_ipython_extension(ip):\n",
       "`pidgin.unload_ipython_extension` disables `pidgin`.\n",
       "\n",
       "        %unload_ext pidgin.tangle\n",
       "        %unload_ext pidgin.weave\n",
       "        %unload_ext pidgin.inspector"
      ]
     },
     "metadata": {},
     "output_type": "display_data"
    }
   ],
   "source": [
    "### `IPython` extensions\n",
    "\n",
    "The configurations are made using [`IPython` extensions][extensions].\n",
    "\n",
    "> `load_ipython_extension` and `unload_ipython_extension` are conventions for configuing the `IPython.core.interactiveshell`; <code>%load_ext</code>, <code>%unload_ext</code>, and <code>%reload_ext</code> access these functions..  For example, these mechanisms are used to initialize magic functions.\n",
    "\n",
    "[magics]: #\n",
    "\n",
    "    def unload_ipython_extension(ip):\n",
    "`pidgin.unload_ipython_extension` disables `pidgin`.\n",
    "\n",
    "        %unload_ext pidgin.tangle\n",
    "        %unload_ext pidgin.weave\n",
    "        %unload_ext pidgin.inspector"
   ]
  },
  {
   "cell_type": "code",
   "execution_count": 27,
   "metadata": {},
   "outputs": [
    {
     "data": {
      "text/html": [
       "<h4>Desconstructing an `IPython` cell execution.</h4>\n",
       "<p>publishing to the `display`</p>\n",
       "<p>The output of tangle is valid byte code.</p>\n",
       "<ol>\n",
       "<li><p>The cell  <strong>text</strong> is raw input to the `shell.run_cell` method.</p>\n",
       "<ol>\n",
       "<li><p>`shell.transform_cell`</p>\n",
       "<ol>\n",
       "<li><p>`shell.input_transformers_cleanup` help syntax and magic assignments.  This is where a lof the `IPython` specific Python dialect is transformed.</p>\n",
       "</li>\n",
       "<li><p>`shell.input_transformers_post` must be valid <strong>Python</strong> here.</p>\n",
       "</li>\n",
       "</ol>\n",
       "</li>\n",
       "<li><p>`shell.compile.ast_parse` nodes are valid to compiled code. text -> input</p>\n",
       "</li>\n",
       "<li><p>`shell.ast_transformers` `ast.NodeTransformer` can be used to modified statements and expressions.</p>\n",
       "</li>\n",
       "</ol>\n",
       "</li>\n",
       "<li><p>Weave</p>\n",
       "<ol>\n",
       "<li><p>`shell.run_ast_nodes` `shell.ast_node_interactivity` `ast.Interactive`</p>\n",
       "</li>\n",
       "<li><p>`shell.compile` creates valid `code`</p>\n",
       "</li>\n",
       "<li><p>`shell.run_code`</p>\n",
       "</li>\n",
       "</ol>\n",
       "</li>\n",
       "</ol>\n",
       "<p>What is missing from this.</p>"
      ],
      "text/markdown": [
       "#### Desconstructing an `IPython` cell execution.\n",
       "\n",
       "publishing to the `display`\n",
       "\n",
       "The output of tangle is valid byte code.\n",
       "1. The cell  __text__ is raw input to the `shell.run_cell` method.\n",
       "    1. `shell.transform_cell`\n",
       "        1. `shell.input_transformers_cleanup` help syntax and magic assignments.  This is where a lof the `IPython` specific Python dialect is transformed.        \n",
       "        2. `shell.input_transformers_post` must be valid __Python__ here.\n",
       "    2. `shell.compile.ast_parse` nodes are valid to compiled code. text -> input\n",
       "    3. `shell.ast_transformers` `ast.NodeTransformer` can be used to modified statements and expressions.\n",
       "2. Weave\n",
       "    1. `shell.run_ast_nodes` `shell.ast_node_interactivity` `ast.Interactive`\n",
       "    4. `shell.compile` creates valid `code`\n",
       "    2. `shell.run_code`\n",
       "    \n",
       "\n",
       "[extensions]: https://ipython.readthedocs.io/en/stable/config/extensions/\n",
       "[cell types]: #\n",
       "    \n",
       "[__Code cells__ and __Markdown cells__]: #\n",
       "    \n",
       "What is missing from this."
      ],
      "text/plain": [
       "#### Desconstructing an `IPython` cell execution.\n",
       "\n",
       "publishing to the `display`\n",
       "\n",
       "The output of tangle is valid byte code.\n",
       "1. The cell  __text__ is raw input to the `shell.run_cell` method.\n",
       "    1. `shell.transform_cell`\n",
       "        1. `shell.input_transformers_cleanup` help syntax and magic assignments.  This is where a lof the `IPython` specific Python dialect is transformed.        \n",
       "        2. `shell.input_transformers_post` must be valid __Python__ here.\n",
       "    2. `shell.compile.ast_parse` nodes are valid to compiled code. text -> input\n",
       "    3. `shell.ast_transformers` `ast.NodeTransformer` can be used to modified statements and expressions.\n",
       "2. Weave\n",
       "    1. `shell.run_ast_nodes` `shell.ast_node_interactivity` `ast.Interactive`\n",
       "    4. `shell.compile` creates valid `code`\n",
       "    2. `shell.run_code`\n",
       "    \n",
       "\n",
       "[extensions]: https://ipython.readthedocs.io/en/stable/config/extensions/\n",
       "[cell types]: #\n",
       "    \n",
       "[__Code cells__ and __Markdown cells__]: #\n",
       "    \n",
       "What is missing from this."
      ]
     },
     "metadata": {},
     "output_type": "display_data"
    }
   ],
   "source": [
    "#### Desconstructing an `IPython` cell execution.\n",
    "\n",
    "publishing to the `display`\n",
    "\n",
    "The output of tangle is valid byte code.\n",
    "1. The cell  __text__ is raw input to the `shell.run_cell` method.\n",
    "    1. `shell.transform_cell`\n",
    "        1. `shell.input_transformers_cleanup` help syntax and magic assignments.  This is where a lof the `IPython` specific Python dialect is transformed.        \n",
    "        2. `shell.input_transformers_post` must be valid __Python__ here.\n",
    "    2. `shell.compile.ast_parse` nodes are valid to compiled code. text -> input\n",
    "    3. `shell.ast_transformers` `ast.NodeTransformer` can be used to modified statements and expressions.\n",
    "2. Weave\n",
    "    1. `shell.run_ast_nodes` `shell.ast_node_interactivity` `ast.Interactive`\n",
    "    4. `shell.compile` creates valid `code`\n",
    "    2. `shell.run_code`\n",
    "    \n",
    "\n",
    "[extensions]: https://ipython.readthedocs.io/en/stable/config/extensions/\n",
    "[cell types]: #\n",
    "    \n",
    "[__Code cells__ and __Markdown cells__]: #\n",
    "    \n",
    "What is missing from this."
   ]
  },
  {
   "cell_type": "code",
   "execution_count": 31,
   "metadata": {},
   "outputs": [
    {
     "data": {
      "text/html": [
       "<p>The process described above describes the conventional to most existing modern notebook interfaces.  Separating the <strong>Markdown</strong> and <strong>Code</strong> cells permits tangling and weaving at the block level, code objects in markdown cells will not be executed.</p>\n",
       "<p>Consequently, code woven into the narrative at the inline level will never be executed and verified.  The decoupling of code and narrative may result is incorrect or outdated code in the logic.</p>\n",
       "<p>`pidgin.weave`, the second pass in the `pidgin` execution evaluates code in</p>\n",
       "<ul>\n",
       "<li><p>inline code statements <em>Still have to accept magic</em></p>\n",
       "</li>\n",
       "<li><p>doctests</p>\n",
       "</li>\n",
       "<li><p>code fences.</p>\n",
       "</li>\n",
       "</ul>\n",
       "<p>Running inline object woven into the narrative can assist in maintaining consistent quality between explicit source code and its documentation.</p>"
      ],
      "text/markdown": [
       "The process described above describes the conventional to most existing modern notebook interfaces.  Separating the __Markdown__ and __Code__ cells permits tangling and weaving at the block level, code objects in markdown cells will not be executed.  \n",
       "\n",
       "Consequently, code woven into the narrative at the inline level will never be executed and verified.  The decoupling of code and narrative may result is incorrect or outdated code in the logic.\n",
       "\n",
       "`pidgin.weave`, the second pass in the `pidgin` execution evaluates code in \n",
       "* inline code statements _Still have to accept magic_\n",
       "* doctests\n",
       "* code fences.\n",
       "\n",
       "Running inline object woven into the narrative can assist in maintaining consistent quality between explicit source code and its documentation."
      ],
      "text/plain": [
       "The process described above describes the conventional to most existing modern notebook interfaces.  Separating the __Markdown__ and __Code__ cells permits tangling and weaving at the block level, code objects in markdown cells will not be executed.  \n",
       "\n",
       "Consequently, code woven into the narrative at the inline level will never be executed and verified.  The decoupling of code and narrative may result is incorrect or outdated code in the logic.\n",
       "\n",
       "`pidgin.weave`, the second pass in the `pidgin` execution evaluates code in \n",
       "* inline code statements _Still have to accept magic_\n",
       "* doctests\n",
       "* code fences.\n",
       "\n",
       "Running inline object woven into the narrative can assist in maintaining consistent quality between explicit source code and its documentation."
      ]
     },
     "metadata": {},
     "output_type": "display_data"
    }
   ],
   "source": [
    "The process described above describes the conventional to most existing modern notebook interfaces.  Separating the __Markdown__ and __Code__ cells permits tangling and weaving at the block level, code objects in markdown cells will not be executed.  \n",
    "\n",
    "Consequently, code woven into the narrative at the inline level will never be executed and verified.  The decoupling of code and narrative may result is incorrect or outdated code in the logic.\n",
    "\n",
    "`pidgin.weave`, the second pass in the `pidgin` execution evaluates code in \n",
    "* inline code statements _Still have to accept magic_\n",
    "* doctests\n",
    "* code fences.\n",
    "\n",
    "Running inline object woven into the narrative can assist in maintaining consistent quality between explicit source code and its documentation."
   ]
  },
  {
   "cell_type": "code",
   "execution_count": null,
   "metadata": {},
   "outputs": [],
   "source": []
  }
 ],
 "metadata": {
  "kernelspec": {
   "display_name": "p6",
   "language": "python",
   "name": "other-env"
  },
  "language_info": {
   "codemirror_mode": {
    "name": "ipython",
    "version": 3
   },
   "file_extension": ".py",
   "mimetype": "text/x-python",
   "name": "python",
   "nbconvert_exporter": "python",
   "pygments_lexer": "ipython3",
   "version": "3.6.3"
  }
 },
 "nbformat": 4,
 "nbformat_minor": 2
}
