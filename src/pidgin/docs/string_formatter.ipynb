{
 "cells": [
  {
   "cell_type": "code",
   "execution_count": 107,
   "metadata": {},
   "outputs": [],
   "source": [
    "    import IPython, traitlets, jinja2, fnmatch, dataclasses, ast, textwrap, collections, html, nbconvert\n",
    "    with __import__('importnb').Notebook():\n",
    "        from . import tangle, doctesting\n",
    "    with tangle.Pidgin():\n",
    "        from . import environment\n",
    "\n",
    "    from mimetypes import guess_type\n",
    "    guess = lambda x: guess_type(x)[0]"
   ]
  },
  {
   "cell_type": "code",
   "execution_count": 92,
   "metadata": {},
   "outputs": [],
   "source": [
    "    def load_ipython_extension(ip):\n",
    "        ip.display_formatter = StringFormatter(**ip.display_formatter._trait_values)\n",
    "    \n",
    "    def unload_ipython_extension(ip):\n",
    "        ip.display_formatter = IPython.core.formatters.DisplayFormatter(**ip.display_formatter._trait_values)"
   ]
  },
  {
   "cell_type": "markdown",
   "metadata": {},
   "source": [
    "1. `IPython.core.formatters.DisplayFormatter`\n",
    "    1. `IPython.core.formatters.IPythonDisplayFormatter`\n",
    "    2. `IPython.core.formatters.MimeBundleFormatter`\n",
    "    3. `IPython.core.formatters.DisplayFormatter.formatters`"
   ]
  },
  {
   "cell_type": "markdown",
   "metadata": {},
   "source": [
    "Lead in with one example of a parser then build out a few more.  The inline parser is proably best."
   ]
  },
  {
   "cell_type": "code",
   "execution_count": 93,
   "metadata": {},
   "outputs": [],
   "source": [
    "    def eval_shorthand_ipython(ip, str):\n",
    "        return eval(ip.input_transformer_manager.transform_cell(textwrap.indent(str, ' '*4)), ip.user_ns, ip.user_global_ns)"
   ]
  },
  {
   "cell_type": "code",
   "execution_count": 94,
   "metadata": {},
   "outputs": [],
   "source": [
    "    def embed(ip, str):\n",
    "        type = guess(str) or ''\n",
    "        if str.startswith('http'): \n",
    "            if type.startswith('image') and not type.endswith('svg'):\n",
    "                return IPython.display.Image(str)\n",
    "            return IPython.display.IFrame(str, '100%', '500px')\n"
   ]
  },
  {
   "cell_type": "code",
   "execution_count": 95,
   "metadata": {},
   "outputs": [],
   "source": [
    "    def graphviz(ip, str): \n",
    "        try: import graphviz\n",
    "        except: return\n",
    "        if '->' in str and not str.startswith('di'): str = 'di' + str\n",
    "        return graphviz.Source(str)"
   ]
  },
  {
   "cell_type": "code",
   "execution_count": 96,
   "metadata": {},
   "outputs": [],
   "source": [
    "    @dataclasses.dataclass\n",
    "    class PrettyMarkdown:\n",
    "        data: str\n",
    "        def _repr_mimebundle_(self, include=None, exclude=None): return {'text/plain': self.data, 'text/markdown': self.data}, {}"
   ]
  },
  {
   "cell_type": "code",
   "execution_count": 111,
   "metadata": {},
   "outputs": [],
   "source": [
    "    def run_inline_code(ip, text):\n",
    "        text, error = text.strip('`'), None\n",
    "        if not text.endswith('\\\\'):\n",
    "            with IPython.utils.capture.capture_output() as output: result = ip.run_cell(textwrap.indent(text, ' '*4), silent=True)\n",
    "            error = result.error_in_exec or result.error_before_exec\n",
    "        return IPython.display.HTML(\n",
    "    F\"\"\"<code style=\"background: var(--jp-rendermime-error-background);\" title=\"{format_title(str(error))}\">{text}</code>\"\"\"\n",
    "        ) if error else IPython.display.Pretty(text)"
   ]
  },
  {
   "cell_type": "code",
   "execution_count": 128,
   "metadata": {},
   "outputs": [],
   "source": [
    "    def run_doctest(ip, text):\n",
    "        with IPython.utils.capture.capture_output() as out:\n",
    "            # variables created in the doctest namespace are stored in a specific table.\n",
    "            runner = doctesting.run_docstring_examples(text, IPython.get_ipython(), verbose=True)\n",
    "        runner.failures and  IPython.get_ipython().showtraceback(\n",
    "            (doctesting.DocTestException, doctesting.DocTestException(out.stdout), BaseException().__traceback__))\n",
    "        return IPython.display.HTML(\n",
    "F\"\"\"<pre title=\"{format_title(out.stdout)}\"><code style=\"background: var(--jp-rendermime-error-background);\">{text}</code></pre>\"\"\"\n",
    "        ) if runner.failures else IPython.display.Pretty(text)"
   ]
  },
  {
   "cell_type": "code",
   "execution_count": 129,
   "metadata": {},
   "outputs": [],
   "source": [
    "    def assign_link(ip, raw):\n",
    "        text, link_title = raw.lstrip('!').lstrip('[').rstrip(')').partition(')[')\n",
    "        link, title = link_title.split(' ', 1)\n",
    "        ip.user_ns[link] = ip.user_ns.get(link, link)\n",
    "        if text.strip(): ip.user_ns[text] = ip.user_ns.get(text, raw)"
   ]
  },
  {
   "cell_type": "code",
   "execution_count": 130,
   "metadata": {},
   "outputs": [],
   "source": [
    "    def format_title(object): return '&#013;'.join(\n",
    "        html.escape(nbconvert.filters.strip_ansi(str(object))).splitlines())"
   ]
  },
  {
   "cell_type": "code",
   "execution_count": 131,
   "metadata": {},
   "outputs": [],
   "source": [
    "    class StringFormatterException(BaseException): ..."
   ]
  },
  {
   "cell_type": "code",
   "execution_count": 132,
   "metadata": {},
   "outputs": [],
   "source": [
    "    class StringFormatter(IPython.core.formatters.DisplayFormatter):\n",
    "        \"\"\"The parent is the displayformatter\"\"\"        \n",
    "        string_formatters = traitlets.Dict(default_value={\n",
    "            ';[! ]*': eval_shorthand_ipython,\n",
    "            ',[! ]*': eval_shorthand_ipython,\n",
    "            'https://*' : embed,\n",
    "            'http://*' : embed,\n",
    "            'graph*': graphviz, \n",
    "            'digraph*': graphviz,\n",
    "            '>>> *': run_doctest,\n",
    "            '`*[!`]*[!\\\\]`': run_inline_code,\n",
    "            '[*](*)': assign_link,\n",
    "            '![*](*)': assign_link,})\n",
    "        \n",
    "        def for_pattern(self, pattern, callable=None):\n",
    "            if callable: self.string_formatters[pattern] = callable\n",
    "            return self.string_formatters.get(pattern, None)\n",
    "        \n",
    "        def match_pattern(self, object):\n",
    "            value = self.parent.user_ns.get(object, object)                \n",
    "            if value != object: return self.format(value)\n",
    "\n",
    "            for type, callable in self.string_formatters.items():\n",
    "                if fnmatch.fnmatch(object, type):\n",
    "                    value = callable(self.parent, object)\n",
    "                    if (value is not None) and (value != object): object = value; break\n",
    "            else: raise StringFormatterException(\"No formatters found.\")\n",
    "            return object\n",
    "            \n",
    "        def format(self, object, include=None, exclude=None):\n",
    "            if isinstance(object, str): \n",
    "                try: object = self.match_pattern(object)\n",
    "                except StringFormatterException: object = PrettyMarkdown(object)\n",
    "            return super().format(object, include=include, exclude=exclude)"
   ]
  },
  {
   "cell_type": "code",
   "execution_count": 133,
   "metadata": {},
   "outputs": [],
   "source": [
    "    if __name__ == '__main__':\n",
    "        unload_ipython_extension(get_ipython())\n",
    "        load_ipython_extension(get_ipython())\n",
    "        ip = get_ipython()"
   ]
  },
  {
   "cell_type": "code",
   "execution_count": 134,
   "metadata": {},
   "outputs": [
    {
     "ename": "DocTestException",
     "evalue": "Finding tests in __main__\nTrying:\n    assert 0\nExpecting nothing\n**********************************************************************\nFile \"__main__\", line ?, in __main__\nFailed example:\n    assert 0\nException raised:\n    Traceback (most recent call last):\n      File \"/Users/tonyfast/anaconda/envs/p6/lib/python3.6/doctest.py\", line 1330, in __run\n        compileflags, 1), test.globs)\n      File \"<doctest __main__[0]>\", line 1, in <module>\n        assert 0\n    AssertionError\n",
     "output_type": "error",
     "traceback": [
      "\u001b[0;31m---------------------------------------------------------------------------\u001b[0m",
      "\u001b[0;31mDocTestException\u001b[0m                          Traceback (most recent call last)",
      "\u001b[0;31mDocTestException\u001b[0m: Finding tests in __main__\nTrying:\n    assert 0\nExpecting nothing\n**********************************************************************\nFile \"__main__\", line ?, in __main__\nFailed example:\n    assert 0\nException raised:\n    Traceback (most recent call last):\n      File \"/Users/tonyfast/anaconda/envs/p6/lib/python3.6/doctest.py\", line 1330, in __run\n        compileflags, 1), test.globs)\n      File \"<doctest __main__[0]>\", line 1, in <module>\n        assert 0\n    AssertionError\n"
     ]
    },
    {
     "data": {
      "text/html": [
       "<pre title=\"Finding tests in __main__&#013;Trying:&#013;    assert 0&#013;Expecting nothing&#013;**********************************************************************&#013;File &quot;__main__&quot;, line ?, in __main__&#013;Failed example:&#013;    assert 0&#013;Exception raised:&#013;    Traceback (most recent call last):&#013;      File &quot;/Users/tonyfast/anaconda/envs/p6/lib/python3.6/doctest.py&quot;, line 1330, in __run&#013;        compileflags, 1), test.globs)&#013;      File &quot;&lt;doctest __main__[0]&gt;&quot;, line 1, in &lt;module&gt;&#013;        assert 0&#013;    AssertionError\"><code style=\"background: var(--jp-rendermime-error-background);\">>>> assert 0</code></pre>"
      ],
      "text/plain": [
       "<IPython.core.display.HTML object>"
      ]
     },
     "execution_count": 134,
     "metadata": {},
     "output_type": "execute_result"
    }
   ],
   "source": [
    "    \">>> assert 0\""
   ]
  },
  {
   "cell_type": "code",
   "execution_count": null,
   "metadata": {},
   "outputs": [],
   "source": []
  }
 ],
 "metadata": {
  "kernelspec": {
   "display_name": "p6",
   "language": "python",
   "name": "other-env"
  },
  "language_info": {
   "codemirror_mode": {
    "name": "ipython",
    "version": 3
   },
   "file_extension": ".py",
   "mimetype": "text/x-python",
   "name": "python",
   "nbconvert_exporter": "python",
   "pygments_lexer": "ipython3",
   "version": "3.6.3"
  }
 },
 "nbformat": 4,
 "nbformat_minor": 2
}
