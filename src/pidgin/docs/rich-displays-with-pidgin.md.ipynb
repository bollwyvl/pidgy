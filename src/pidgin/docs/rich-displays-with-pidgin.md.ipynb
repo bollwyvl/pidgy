{
 "cells": [
  {
   "cell_type": "markdown",
   "metadata": {},
   "source": [
    "This documents illustrates `pidgin`s ability to interface with other python tooling including `pandas`, `sympy`, `graphviz` and `vdom`."
   ]
  },
  {
   "cell_type": "code",
   "execution_count": 1,
   "metadata": {},
   "outputs": [],
   "source": [
    "    from IPython import get_ipython\n",
    "    %reload_ext pidgin\n",
    "    %matplotlib agg\n",
    "    ip = get_ipython()"
   ]
  },
  {
   "cell_type": "markdown",
   "metadata": {},
   "source": [
    "`pidgin` provides the ability to compose technical documents with rich displays.   There are a few ways that technical writing for documentation is similar to scientific writing.\n",
    "\n",
    "A key feature of technical writing is that the documentation is static. HTML and CSS are necessary, the Javascript is extra."
   ]
  },
  {
   "cell_type": "code",
   "execution_count": 2,
   "metadata": {},
   "outputs": [],
   "source": [
    "    import matplotlib.pyplot as plt\n",
    "    plt.rcParams[\"figure.figsize\"] = (2,1.5)"
   ]
  },
  {
   "cell_type": "code",
   "execution_count": 3,
   "metadata": {},
   "outputs": [
    {
     "data": {
      "text/html": [
       "<p>The document style can be modified naturally in code cells.</p>\n",
       "<style>\n",
       "p svg, p img {vertical-align: middle; display: inline;}\n",
       "</style>"
      ],
      "text/markdown": [
       "The document style can be modified naturally in code cells.\n",
       "<style>\n",
       "p svg, p img {vertical-align: middle; display: inline;}\n",
       "</style>"
      ],
      "text/plain": [
       "'The document style can be modified naturally in code cells.\\n<style>\\np svg, p img {vertical-align: middle; display: inline;}\\n</style>'"
      ]
     },
     "metadata": {},
     "output_type": "display_data"
    }
   ],
   "source": [
    "The document style can be modified naturally in code cells.\n",
    "<style>\n",
    "p svg, p img {vertical-align: middle; display: inline;}\n",
    "</style>"
   ]
  },
  {
   "cell_type": "code",
   "execution_count": 4,
   "metadata": {},
   "outputs": [
    {
     "data": {
      "text/html": [
       "<code style=\"white-space: pre;\" title=\"\">from sympy import *; init_printing()\n",
       "wave=sin('x')**2\n",
       "</code><p><code>import sympy\n",
       "</code> has the ability to inline equations and plots.  For example, consider the <code>wave\n",
       "</code>\n",
       "equation is $\\sin^{2}{\\left (x \\right )}$, a sample visualization of this equation is shown in line <img src=\"data:image/png;base64,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\"/>.</p>\n"
      ],
      "text/markdown": [
       "    from sympy import *; init_printing()\n",
       "    wave=sin('x')**2\n",
       "`import sympy` has the ability to inline equations and plots.  For example, consider the `wave`\n",
       "equation is {{wave}}, a sample visualization of this equation is shown in line {{plot(wave)}}."
      ],
      "text/plain": [
       "\"    from sympy import *; init_printing()\\n    wave=sin('x')**2\\n`import sympy` has the ability to inline equations and plots.  For example, consider the `wave`\\nequation is {{wave}}, a sample visualization of this equation is shown in line {{plot(wave)}}.\""
      ]
     },
     "metadata": {},
     "output_type": "display_data"
    }
   ],
   "source": [
    "    from sympy import *; init_printing()\n",
    "    wave=sin('x')**2\n",
    "`import sympy` has the ability to inline equations and plots.  For example, consider the `wave`\n",
    "equation is {{wave}}, a sample visualization of this equation is shown in line {{plot(wave)}}."
   ]
  },
  {
   "cell_type": "code",
   "execution_count": null,
   "metadata": {},
   "outputs": [],
   "source": [
    "    dwave=diff(wave, 'x')\n",
    "\n",
    "`dwave` is the derivative of `wave`, or {{dwave}}.  We can compare the equations when plotting together {{plot(\n",
    "    wave, dwave)}}."
   ]
  },
  {
   "cell_type": "code",
   "execution_count": null,
   "metadata": {},
   "outputs": [],
   "source": [
    "`sympy`'s svg rendering system let's us show svg `object`s like __circles__  \n",
    "{{Point(1,1) | Circle(2)}} or __triangles__ {{Triangle(sss=(1,1,1))}} {{Triangle(sss=(15,20,10))}}"
   ]
  },
  {
   "cell_type": "code",
   "execution_count": null,
   "metadata": {},
   "outputs": [],
   "source": [
    "    import pandas\n",
    "\n",
    "Looking at `wave` in `pandas`:\n",
    "\n",
    "    df = pandas.DataFrame({'x': pandas.np.linspace(-10, 10, 101)})\n",
    "    df = df.assign(y=lambdify('x', wave)(df.x), dy=lambdify('x', dwave)(df.x))\n",
    "    \n",
    "A sample of the data looks like:\n",
    "    \n",
    "{{df.head(2)}}\n",
    "\n",
    "An alternative approach is to plot the discrete data with `pandas`.  The original data is {{df.plot('x', 'y')}} \n",
    "and is the derivative is {{df.plot('x', 'dy')}} ."
   ]
  },
  {
   "cell_type": "code",
   "execution_count": null,
   "metadata": {},
   "outputs": [],
   "source": [
    "    import graphviz\n",
    "    \n",
    "`graphviz` syntax is essential to communicating complex ideas in `import pidgin`.  The next few examples describe\n",
    "ways `graphviz` can be used.  We'll need an `graph=\\` for the `graphviz.Source` class."
   ]
  },
  {
   "cell_type": "code",
   "execution_count": null,
   "metadata": {},
   "outputs": [],
   "source": [
    "* The `pidgin` templates have custom template finalizers to extract a rich view of the value.\n",
    "     \n",
    "    {{'graph {A}'}}\n",
    "    \n",
    "* \n",
    "\n",
    "    {{\"graph {Alias}\" | graph}}\n",
    "    \n",
    "* {{graphviz.Source(\"graph {direct}\")}}"
   ]
  },
  {
   "cell_type": "code",
   "execution_count": null,
   "metadata": {},
   "outputs": [],
   "source": [
    "    from vdom import *\n",
    "    \n",
    "`import vdom` maybe used inline"
   ]
  },
  {
   "cell_type": "markdown",
   "metadata": {},
   "source": [
    "    ip.environment.filters"
   ]
  },
  {
   "cell_type": "code",
   "execution_count": null,
   "metadata": {},
   "outputs": [],
   "source": [
    "* Using filters {{'sup' | h1}}\n",
    "\n",
    "* Direct {{h2('direct')}}\n",
    "\n",
    "* `import nbconvert`  filters {{'### straight markdown' | markdown2html}}"
   ]
  }
 ],
 "metadata": {
  "kernelspec": {
   "display_name": "Python 3",
   "language": "python",
   "name": "python3"
  },
  "language_info": {
   "codemirror_mode": {
    "name": "ipython",
    "version": 3
   },
   "file_extension": ".py",
   "mimetype": "text/x-python",
   "name": "python",
   "nbconvert_exporter": "python",
   "pygments_lexer": "ipython3",
   "version": "3.6.6"
  },
  "nikola": {
   "category": "",
   "date": "2018-12-09 13:41:29 UTC-05:00",
   "description": "",
   "link": "",
   "slug": "rich-displays-with-pidgin",
   "tags": "",
   "title": "Rich displays with pidgin",
   "type": "text"
  }
 },
 "nbformat": 4,
 "nbformat_minor": 2
}
