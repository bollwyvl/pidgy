{
 "cells": [
  {
   "cell_type": "markdown",
   "metadata": {},
   "source": [
    "`\"inline statements.ipynb\"` discusses how and why inline code statements are used in `pidgin`."
   ]
  },
  {
   "cell_type": "code",
   "execution_count": 1,
   "metadata": {},
   "outputs": [],
   "source": [
    "    from IPython import get_ipython\n",
    "    %reload_ext pidgin"
   ]
  },
  {
   "cell_type": "code",
   "execution_count": 2,
   "metadata": {},
   "outputs": [
    {
     "data": {
      "text/html": [
       "<p>A key feature of <code><span style=\"border-bottom: 1px dotted gray;\" title=\"Type:        module&#013;String form: &lt;module &#x27;pidgin&#x27; from &#x27;&#x27;&lt;safe path&gt;__init__.py&#x27;&#x27;&gt;&#013;File:        &#x27;&lt;safe path&gt;__init__.py&#x27;&#013;Docstring:   &lt;no docstring&gt;\">pidgin</span>\n",
       "</code> is the addition of inline code as words in the narrative and constraints in computing.</p>\n",
       "<code style=\"white-space: pre;\" title=\"\">import <span style=\"border-bottom: 1px dotted gray;\" title=\"Type:        module&#013;String form: &lt;module &#x27;pidgin&#x27; from &#x27;&#x27;&lt;safe path&gt;__init__.py&#x27;&#x27;&gt;&#013;File:        &#x27;&lt;safe path&gt;__init__.py&#x27;&#013;Docstring:   &lt;no docstring&gt;\">pidgin</span>\n",
       "</code>"
      ],
      "text/markdown": [
       "A key feature of `pidgin` is the addition of inline code as words in the narrative and constraints in computing.\n",
       "\n",
       "    import pidgin"
      ],
      "text/plain": [
       "'A key feature of `pidgin` is the addition of inline code as words in the narrative and constraints in computing.\\n\\n    import pidgin'"
      ]
     },
     "metadata": {},
     "output_type": "display_data"
    }
   ],
   "source": [
    "A key feature of `pidgin` is the addition of inline code as words in the narrative and constraints in computing.\n",
    "\n",
    "    import pidgin"
   ]
  },
  {
   "cell_type": "code",
   "execution_count": 3,
   "metadata": {},
   "outputs": [
    {
     "data": {
      "text/html": [
       "<p>Inline code statements are delimited by inline <strong>Markdown</strong> codespans; these statements are considered doctests..  Originally, <code><span style=\"border-bottom: 1px dotted gray;\" title=\"Type:        module&#013;String form: &lt;module &#x27;pidgin&#x27; from &#x27;&#x27;&lt;safe path&gt;__init__.py&#x27;&#x27;&gt;&#013;File:        &#x27;&lt;safe path&gt;__init__.py&#x27;&#013;Docstring:   &lt;no docstring&gt;\">pidgin</span>\n",
       "</code> only consider expressions that could <code>eval\n",
       "</code>, \n",
       "but since no output is expected from <strong>code as words</strong> we decided on <code>exec\n",
       "</code> statements.</p>\n"
      ],
      "text/markdown": [
       "Inline code statements are delimited by inline __Markdown__ codespans; these statements are considered doctests..  Originally, `pidgin` only consider expressions that could `eval`, \n",
       "but since no output is expected from __code as words__ we decided on `exec` statements."
      ],
      "text/plain": [
       "'Inline code statements are delimited by inline __Markdown__ codespans; these statements are considered doctests..  Originally, `pidgin` only consider expressions that could `eval`, \\nbut since no output is expected from __code as words__ we decided on `exec` statements.'"
      ]
     },
     "metadata": {},
     "output_type": "display_data"
    }
   ],
   "source": [
    "Inline code statements are delimited by inline __Markdown__ codespans; these statements are considered doctests..  Originally, `pidgin` only consider expressions that could `eval`, \n",
    "but since no output is expected from __code as words__ we decided on `exec` statements."
   ]
  },
  {
   "cell_type": "code",
   "execution_count": 4,
   "metadata": {},
   "outputs": [
    {
     "data": {
      "text/html": [
       "<p>Inline code spans can span across multiple statements (<code>eval\n",
       "</code>) if <strong>\\</strong> are used.  For example \n",
       "the <code>sample = range(\\\n",
       "</code> starts at <code>1,\\\n",
       "</code> and ends at  <code>10)\n",
       "</code>.</p>\n"
      ],
      "text/markdown": [
       "Inline code spans can span across multiple statements (`eval`) if __\\__ are used.  For example \n",
       "the `sample = range(\\` starts at `1,\\` and ends at  `10)`. "
      ],
      "text/plain": [
       "'Inline code spans can span across multiple statements (`eval`) if __\\\\__ are used.  For example \\nthe `sample = range(\\\\` starts at `1,\\\\` and ends at  `10)`. '"
      ]
     },
     "metadata": {},
     "output_type": "display_data"
    }
   ],
   "source": [
    "Inline code spans can span across multiple statements (`eval`) if __\\__ are used.  For example \n",
    "the `sample = range(\\` starts at `1,\\` and ends at  `10)`. "
   ]
  },
  {
   "cell_type": "code",
   "execution_count": 5,
   "metadata": {},
   "outputs": [
    {
     "data": {
      "text/html": [
       "<code style=\"white-space: pre;\" title=\"Finding tests in __main__&#013;Trying:&#013;    assert sample == range(1,10), &quot;The parser may be discovering inline code out of order.&quot;&#013;&#013;Expecting nothing&#013;ok\">>>> assert <span style=\"border-bottom: 1px dotted gray;\" title=\"Type:        range&#013;String form: range(1, 10)&#013;Length:      9&#013;Docstring:  &#013;range(stop) -&gt; range object&#013;range(start, stop[, step]) -&gt; range object&#013;&#013;Return an object that produces a sequence of integers from start (inclusive)&#013;to stop (exclusive) by step.  range(i, j) produces i, i+1, i+2, ..., j-1.&#013;start defaults to 0, and stop is omitted!  range(4) produces 0, 1, 2, 3.&#013;These are exactly the valid indices for a list of 4 elements.&#013;When step is given, it specifies the increment (or decrement).\">sample</span> == range(1,10), \"The parser may be discovering inline code out of order.\"\n",
       "</code>"
      ],
      "text/markdown": [
       ">>> assert sample == range(1,10), \"The parser may be discovering inline code out of order.\""
      ],
      "text/plain": [
       "'>>> assert sample == range(1,10), \"The parser may be discovering inline code out of order.\"'"
      ]
     },
     "metadata": {},
     "output_type": "display_data"
    }
   ],
   "source": [
    ">>> assert sample == range(1,10), \"The parser may be discovering inline code out of order.\""
   ]
  },
  {
   "cell_type": "code",
   "execution_count": 6,
   "metadata": {},
   "outputs": [
    {
     "data": {
      "text/html": [
       "<a href=\"#benefits-of-evaluating-the-inline-code-spans\"><h2 id=\"benefits-of-evaluating-the-inline-code-spans\">Benefits of evaluating the inline code spans</h2>\n",
       "</a>\n",
       "<ul>\n",
       "<li><p>Improves the health of computational essays.</p>\n",
       "</li>\n",
       "<li><p>Tighter weaving of compute are narrative.</p>\n",
       "</li>\n",
       "<li><p>Inline code objects do not display anything unless they are explicitly asked to or there is an error.</p>\n",
       "</li>\n",
       "<li><p>Adds stricter constraints to <strong>restart and run all</strong>.</p>\n",
       "</li>\n",
       "</ul>\n"
      ],
      "text/markdown": [
       "## Benefits of evaluating the inline code spans\n",
       "\n",
       "* Improves the health of computational essays.\n",
       "* Tighter weaving of compute are narrative.\n",
       "* Inline code objects do not display anything unless they are explicitly asked to or there is an error.\n",
       "* Adds stricter constraints to __restart and run all__.\n"
      ],
      "text/plain": [
       "'## Benefits of evaluating the inline code spans\\n\\n* Improves the health of computational essays.\\n* Tighter weaving of compute are narrative.\\n* Inline code objects do not display anything unless they are explicitly asked to or there is an error.\\n* Adds stricter constraints to __restart and run all__.\\n'"
      ]
     },
     "metadata": {},
     "output_type": "display_data"
    }
   ],
   "source": [
    "## Benefits of evaluating the inline code spans\n",
    "\n",
    "* Improves the health of computational essays.\n",
    "* Tighter weaving of compute are narrative.\n",
    "* Inline code objects do not display anything unless they are explicitly asked to or there is an error.\n",
    "* Adds stricter constraints to __restart and run all__.\n"
   ]
  }
 ],
 "metadata": {
  "kernelspec": {
   "display_name": "Python 3",
   "language": "python",
   "name": "python3"
  },
  "language_info": {
   "codemirror_mode": {
    "name": "ipython",
    "version": 3
   },
   "file_extension": ".py",
   "mimetype": "text/x-python",
   "name": "python",
   "nbconvert_exporter": "python",
   "pygments_lexer": "ipython3",
   "version": "3.6.6"
  },
  "nikola": {
   "author": "Tony Fast",
   "date": "2018-12-05 20:08:52 UTC",
   "description": "`\"inline statements.ipynb\"` discusses how and why inline code statements are used in `pidgin`.",
   "slug": "inline statements.ipynb",
   "title": "inline statements.ipynb",
   "type": "text"
  }
 },
 "nbformat": 4,
 "nbformat_minor": 2
}
