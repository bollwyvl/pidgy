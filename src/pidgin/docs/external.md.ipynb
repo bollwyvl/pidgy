{
 "cells": [
  {
   "cell_type": "raw",
   "metadata": {},
   "source": [
    "~~tangle~~ ~~weave~~ macros\n",
    "\n",
    "`pidgin.macros` provides `display` objects that can be customized for string inputs.  `pidgin.macros` will only be triggered by a the `pidgin.weave` step."
   ]
  },
  {
   "cell_type": "raw",
   "metadata": {},
   "source": [
    "    import ast, IPython, traitlets"
   ]
  },
  {
   "cell_type": "raw",
   "metadata": {},
   "source": [
    "    def load_ipython_extension(shell: IPython.core.interactiveshell.InteractiveShell):\n",
    "        for object in external_formatters: shell.display_formatter.mimebundle_formatter.for_type_by_name(*object)  \n",
    "        shell.register_magic_function(context, 'line_cell')\n",
    "        shell.ast_transformers.append(LinkedDataContext.Expand())"
   ]
  },
  {
   "cell_type": "raw",
   "metadata": {},
   "source": [
    "    def unload_ipython_extension(shell: IPython.core.interactiveshell.InteractiveShell):\n",
    "        for object in external_formatters: shell.display_formatter.mimebundle_formatter.for_type_by_name(object, lambda x: x)\n",
    "        shell.ast_transformers = [x for x in shell.ast_transformers if not isinstance(x, LinkedDataContext)]"
   ]
  },
  {
   "cell_type": "raw",
   "metadata": {},
   "source": [
    "    def graphviz(shell, str): \n",
    "        \n",
    "        try: import graphviz\n",
    "        except: return\n",
    "        if '->' in str and not str.startswith('di'): str = 'di' + str\n",
    "        return graphviz.Source(str)"
   ]
  },
  {
   "cell_type": "raw",
   "metadata": {},
   "source": [
    "    default_formatters = {}\n",
    "    \n",
    "    default_formatters.update({'graph*': graphviz, 'digraph*': graphviz})"
   ]
  },
  {
   "cell_type": "raw",
   "metadata": {},
   "source": [
    "    def format_bytes(bytes, object):\n",
    "        return {'text/html': format_images('image/png', {'image/png': bytes}), 'text/plain': repr(object),}, {}"
   ]
  },
  {
   "cell_type": "raw",
   "metadata": {},
   "source": [
    "    def show_axes(object):\n",
    "        import matplotlib.backends.backend_agg\n",
    "        bytes = io.BytesIO()\n",
    "        matplotlib.backends.backend_agg.FigureCanvasAgg(getattr(object, 'figure', object)).print_png(bytes)\n",
    "        return format_bytes(bytes.getvalue(), object)"
   ]
  },
  {
   "cell_type": "raw",
   "metadata": {},
   "source": [
    "    def show_sympy_axes(object): \n",
    "        s = __import__('io').BytesIO()\n",
    "        object.save(s)\n",
    "        return format_bytes(s.getvalue(), object)"
   ]
  },
  {
   "cell_type": "raw",
   "metadata": {},
   "source": [
    "    external_formatters = (\n",
    "        ('matplotlib.figure', 'Axes', show_axes), \n",
    "        ('matplotlib.axes._subplots', 'AxesSubplot', show_axes),\n",
    "        ('sympy.plotting.plot', 'Plot', show_sympy_axes),\n",
    "    )"
   ]
  },
  {
   "cell_type": "raw",
   "metadata": {},
   "source": [
    "    def format_images(type, bundle):\n",
    "        str = bundle[type]        \n",
    "        if isinstance(str, bytes): str = __import__('base64').b64encode(str).decode('utf-8')\n",
    "            \n",
    "        if type in ('image/svg+xml', 'text/html'):  ...\n",
    "        elif str.startswith('http'): str = F\"\"\"<img src=\"{str}\"/>\"\"\"\n",
    "        else: str = F\"\"\"<img src=\"data:{type};base64,{str}\"/>\"\"\"\n",
    "        return IPython.display.HTML(str)"
   ]
  },
  {
   "cell_type": "raw",
   "metadata": {},
   "source": [
    "    def expand(str, context=None):\n",
    "        if len(str.splitlines()) == 1 and not str.startswith('@'):\n",
    "            object = pyld.jsonld.expand({'@context': context or LinkedDataContext.instance().context, str: ''})\n",
    "            if object: return next(iter(object[0].keys()))"
   ]
  },
  {
   "cell_type": "raw",
   "metadata": {},
   "source": [
    "    def _expand(object, context): return expand(object, context) or object"
   ]
  },
  {
   "cell_type": "raw",
   "metadata": {},
   "source": [
    "    import collections, dataclasses"
   ]
  },
  {
   "cell_type": "raw",
   "metadata": {},
   "source": [
    "    import pyld"
   ]
  },
  {
   "cell_type": "raw",
   "metadata": {},
   "source": [
    "    \n",
    "    @dataclasses.dataclass\n",
    "    class Context(collections.UserDict):\n",
    "        data: dict = dataclasses.field(default_factory=dict)\n",
    "        def __post_init__(Context):\n",
    "            Context.data.update(gh=\"https://www.github.com/\", wiki=\"https://en.m.wikipedia.org/wiki/\")\n",
    "        \n",
    "        def expand(Context, object):\n",
    "            return pyld.jsonld.expand({'@context': Context.data, **object})\n",
    "        def compact(Context, object):\n",
    "            return pyld.jsonld.compact(object, Context.data)\n",
    "        \n",
    "        def __call__(Context, str): return expand(str, Context.data) or str"
   ]
  },
  {
   "cell_type": "raw",
   "metadata": {},
   "source": [
    "    class LinkedDataContext(traitlets.config.SingletonConfigurable):\n",
    "        context = traitlets.Dict()\n",
    "        \n",
    "        class Expand(ast.NodeTransformer):        \n",
    "            def visit_Str(Expand, node):\n",
    "                node.s = expand(node.s) or node.s\n",
    "                return node\n",
    "            \n",
    "    def context(line, cell=None):\n",
    "        if cell:\n",
    "            LinkedDataContext.instance().context.update( __import__('yaml').safe_load(__import__('io').StringIO(cell)))\n",
    "        else:\n",
    "            return {'@context': LinkedDataContext.instance().context}"
   ]
  },
  {
   "cell_type": "raw",
   "metadata": {},
   "source": [
    "    class LinkedDataContext(traitlets.config.SingletonConfigurable):\n",
    "        context = traitlets.Dict()\n",
    "        \n",
    "        class Expand(ast.NodeTransformer):        \n",
    "            def visit_Str(Expand, node):\n",
    "                __context__ = ast.copy_location(ast.parse(\"\"\"__context__(\"\")\"\"\").body[0].value, node)\n",
    "                __context__.args = [node.s]\n",
    "                return __context__\n",
    "            \n",
    "    def context(line, cell=None):\n",
    "        if cell:\n",
    "            LinkedDataContext.instance().context.update( __import__('yaml').safe_load(__import__('io').StringIO(cell)))\n",
    "        else:\n",
    "            return {'@context': LinkedDataContext.instance().context}"
   ]
  },
  {
   "cell_type": "raw",
   "metadata": {},
   "source": []
  }
 ],
 "metadata": {
  "kernelspec": {
   "display_name": "p6",
   "language": "python",
   "name": "other-env"
  },
  "language_info": {
   "codemirror_mode": {
    "name": "ipython",
    "version": 3
   },
   "file_extension": ".py",
   "mimetype": "text/x-python",
   "name": "python",
   "nbconvert_exporter": "python",
   "pygments_lexer": "ipython3",
   "version": "3.6.8"
  },
  "nikola": {
   "date": "2018-12-06 12:00:00 UTC",
   "description": "`pidgin.display` is a collection of display rules for IPython objects.  \n\n`StringFormatter` is a class that adds reules for string `object`s.",
   "slug": "display.ipynb",
   "title": "display.ipynb",
   "type": "text"
  }
 },
 "nbformat": 4,
 "nbformat_minor": 2
}
