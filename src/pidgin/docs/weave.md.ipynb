{
 "cells": [
  {
   "cell_type": "markdown",
   "metadata": {},
   "source": [
    "`pidgin.weave` defines how the input source with be displayed, and always follows `pidgin.tangle`. "
   ]
  },
  {
   "cell_type": "markdown",
   "metadata": {},
   "source": [
    "Weaving places `display` as having the same importance as `eval` and `exec` \n",
    "\n",
    "lexical analysis i sperforme don non python source.\n"
   ]
  },
  {
   "cell_type": "code",
   "execution_count": 1,
   "metadata": {},
   "outputs": [
    {
     "ename": "ImportError",
     "evalue": "cannot import name 'tangle'",
     "output_type": "error",
     "traceback": [
      "\u001b[0;31m---------------------------------------------------------------------------\u001b[0m",
      "\u001b[0;31mImportError\u001b[0m                               Traceback (most recent call last)",
      "\u001b[0;32m<ipython-input-1-ad03bb8f687f>\u001b[0m in \u001b[0;36m<module>\u001b[0;34m\u001b[0m\n\u001b[1;32m      1\u001b[0m \u001b[0;32mimport\u001b[0m \u001b[0mIPython\u001b[0m\u001b[0;34m,\u001b[0m \u001b[0mre\u001b[0m\u001b[0;34m,\u001b[0m \u001b[0mfunctools\u001b[0m\u001b[0;34m,\u001b[0m \u001b[0mtyping\u001b[0m \u001b[0;32mas\u001b[0m \u001b[0mt\u001b[0m\u001b[0;34m\u001b[0m\u001b[0m\n\u001b[1;32m      2\u001b[0m \u001b[0;32mwith\u001b[0m \u001b[0m__import__\u001b[0m\u001b[0;34m(\u001b[0m\u001b[0;34m'importnb'\u001b[0m\u001b[0;34m)\u001b[0m\u001b[0;34m.\u001b[0m\u001b[0mNotebook\u001b[0m\u001b[0;34m(\u001b[0m\u001b[0;34m)\u001b[0m\u001b[0;34m:\u001b[0m\u001b[0;34m\u001b[0m\u001b[0m\n\u001b[0;32m----> 3\u001b[0;31m     \u001b[0;32mfrom\u001b[0m \u001b[0;34m.\u001b[0m \u001b[0;32mimport\u001b[0m \u001b[0mtangle\u001b[0m\u001b[0;34m\u001b[0m\u001b[0m\n\u001b[0m\u001b[1;32m      4\u001b[0m \u001b[0;32mwith\u001b[0m \u001b[0mtangle\u001b[0m\u001b[0;34m.\u001b[0m\u001b[0mPidgin\u001b[0m\u001b[0;34m(\u001b[0m\u001b[0;34m)\u001b[0m\u001b[0;34m:\u001b[0m\u001b[0;34m\u001b[0m\u001b[0m\n\u001b[1;32m      5\u001b[0m \u001b[0;34m\u001b[0m\u001b[0m\n",
      "\u001b[0;31mImportError\u001b[0m: cannot import name 'tangle'"
     ]
    }
   ],
   "source": [
    "    import IPython, re, functools, typing as t\n",
    "    with __import__('importnb').Notebook():\n",
    "        from . import tangle\n",
    "    with tangle.Pidgin():\n",
    "        \n",
    "        from . import string_formatter, environment\n",
    "    if __name__ == '__main__':\n",
    "        %reload_ext pidgin\n",
    "        ip = get_ipython()\n",
    "        import pidgin"
   ]
  },
  {
   "cell_type": "code",
   "execution_count": 1,
   "metadata": {},
   "outputs": [
    {
     "ename": "SyntaxError",
     "evalue": "invalid syntax (<ipython-input-1-af3c99307001>, line 1)",
     "output_type": "error",
     "traceback": [
      "\u001b[0;36m  File \u001b[0;32m\"<ipython-input-1-af3c99307001>\"\u001b[0;36m, line \u001b[0;32m1\u001b[0m\n\u001b[0;31m    The weave phase is trigger by the upython display\u001b[0m\n\u001b[0m            ^\u001b[0m\n\u001b[0;31mSyntaxError\u001b[0m\u001b[0;31m:\u001b[0m invalid syntax\n"
     ]
    }
   ],
   "source": [
    "The weave phase is trigger by the upython display\n",
    "\n",
    "https://ipython.readthedocs.io/en/stable/api/generated/IPython.display.html\n",
    "    "
   ]
  },
  {
   "cell_type": "markdown",
   "metadata": {},
   "source": [
    "### Implicit and Explicit Documentation.\n",
    "\n",
    "Notebooks make documentation.\n",
    "\n",
    "In linear programming, both the code and narrative provide explicit directives to style the docuemntation\n",
    "\n",
    "Documentation should be run as tests -nbsphinx"
   ]
  },
  {
   "cell_type": "code",
   "execution_count": 21,
   "metadata": {},
   "outputs": [],
   "source": [
    "    def load_ipython_extension(ip: IPython.core.interactiveshell.InteractiveShell)->None:\n",
    "        with __import__('importnb').Notebook(): from . import string_formatter\n",
    "        string_formatter.load_ipython_extension(ip)\n",
    "        ip.weave = Weave(parent=ip)\n",
    "        ip.events.register('post_run_cell', weave)\n",
    "\n",
    "    def unload_ipython_extension(ip: IPython.core.interactiveshell.InteractiveShell)->None:\n",
    "        ip.events.callbacks['post_run_cell'] = [\n",
    "            object for object in ip.events.callbacks['post_run_cell'] if object.__name__ != 'weave']\n",
    "        with __import__('importnb').Notebook(): from . import string_formatter\n",
    "        string_formatter.unload_ipython_extension(ip)"
   ]
  },
  {
   "cell_type": "code",
   "execution_count": 22,
   "metadata": {},
   "outputs": [],
   "source": [
    "    def weave(result) -> t.Tuple[dict, dict]: return IPython.get_ipython().weave.format(result.info.raw_cell)"
   ]
  },
  {
   "cell_type": "markdown",
   "metadata": {},
   "source": [
    "`pidgin.weave` establishes __Markdown__ rules for displaying cell inputs after the `ip.run_cell` has been evaluated.\n",
    "\n",
    "`pidgin.weave` is a secondary literate program with rules for displaying input encoded in `mistune.markdown`."
   ]
  },
  {
   "cell_type": "code",
   "execution_count": 23,
   "metadata": {},
   "outputs": [],
   "source": [
    "    import re, dataclasses, ast, re,traceback, functools, IPython, jinja2, inspect, slugify, collections, html, fnmatch, mistune, inspect, importlib, types, base64, string, traitlets, yaml, io, textwrap\n",
    "    import nbconvert\n",
    "    from mimetypes import guess_type; guess = lambda x: guess_type(x)[0]\n",
    "    ip = IPython.get_ipython()\n",
    "\n",
    "    with __import__('importnb').Notebook():\n",
    "        from . import doctesting, tangle\n"
   ]
  },
  {
   "cell_type": "markdown",
   "metadata": {},
   "source": [
    "> The following regular expressions are copied from `mistune`."
   ]
  },
  {
   "cell_type": "markdown",
   "metadata": {},
   "source": [
    "`mistune.BlockGrammar and mistune.InlineGrammar` includes doctype and prolog parsing in the html and should be used with `mistune.BlockLexer`."
   ]
  },
  {
   "cell_type": "code",
   "execution_count": 24,
   "metadata": {},
   "outputs": [],
   "source": [
    "    class InlineHtmlGrammar:\n",
    "        \"\"\"Add svg constructs to inline_html regex.\"\"\"\n",
    "        inline_html = re.compile(\n",
    "                r'^(?:%s|%s|%s)' % (\n",
    "                    r'<!--[\\s\\S]*?-->|<!DOCTYPE [\\s\\S]*?>|<\\?[\\s\\S]*?\\?>',\n",
    "                    r'<(\\w+%s)((?:%s)*?)\\s*>([\\s\\S]*?)<\\/\\1>' % (\n",
    "                        mistune._valid_end, mistune._valid_attr),\n",
    "                    r'<\\w+%s(?:%s)*?\\s*\\/?>' % (mistune._valid_end, mistune._valid_attr)))\n",
    "        \n",
    "    class InlineGrammar(InlineHtmlGrammar, mistune.InlineGrammar): ..."
   ]
  },
  {
   "cell_type": "code",
   "execution_count": 25,
   "metadata": {},
   "outputs": [],
   "source": [
    "    error = \"background-color: var(--jp-rendermime-error-background);\"\n",
    "    ws = \"white-space: pre;\""
   ]
  },
  {
   "cell_type": "code",
   "execution_count": 26,
   "metadata": {},
   "outputs": [],
   "source": [
    "    def whiten(str: str) -> str: return re.sub('\\S{1}', ' ', str)"
   ]
  },
  {
   "cell_type": "code",
   "execution_count": 27,
   "metadata": {},
   "outputs": [],
   "source": [
    "    class WeaveInlineLexer(mistune.InlineLexer):\n",
    "        \"\"\"WeavePidginInlineLexer is responsible for updating modifying the interactive IPython state.\n",
    "        \"\"\"\n",
    "        grammar_class = InlineGrammar"
   ]
  },
  {
   "cell_type": "code",
   "execution_count": 28,
   "metadata": {},
   "outputs": [],
   "source": [
    "    class WeaveRenderer(mistune.Renderer):\n",
    "        \"\"\"WeaveRenderer is responsbile for formatting the output of the input code.\"\"\"\n",
    "        failure = None\n",
    "        tmp_code = []\n",
    "         \n",
    "        def block_code(self, text: str, lang=None) -> str:\n",
    "            style = ws\n",
    "            if lang is None: \n",
    "                if self.failure: style += error\n",
    "                return F\"\"\"<code style=\"{style}\" title=\"{self.failure or \"\"}\">{text}</code>\"\"\"\n",
    "            return super().block_code(text, lang)\n",
    "        \n",
    "        def codespan(self, text: str) -> str:\n",
    "            # Code can exist across multiple cells.\n",
    "            text = '\\n'.join([*self.tmp_code, text])\n",
    "            if text.endswith('\\\\'): \n",
    "                self.tmp_code = text.splitlines()\n",
    "                return super().codespan(text)\n",
    "            \n",
    "            result = IPython.get_ipython().run_cell(textwrap.indent(text, '    '), silent=True)\n",
    "\n",
    "            error = result.error_in_exec or result.error_before_exec\n",
    "            text = text.splitlines()[-1]                \n",
    "            if error:\n",
    "                return F\"\"\"<code style=\"{error}\" title=\"{format_title(error)}\">{text}</code>\"\"\"\n",
    "            return F\"\"\"<code>{text}</code>\"\"\"\n",
    "        \n",
    "        def text(self, text: str) -> str: return text\n",
    "        \n",
    "        def doctest(self, text: str) -> str:\n",
    "            if ip and ip.weave.doctest:\n",
    "                with IPython.utils.capture.capture_output() as out:\n",
    "                    # variables created in the doctest namespace are stored in a specific table.\n",
    "                    runner = doctesting.run_docstring_examples(text, IPython.get_ipython(), verbose=True)\n",
    "            if runner.failures:\n",
    "                IPython.get_ipython().showtraceback((doctesting.DocTestException, doctesting.DocTestException(out.stdout), BaseException().__traceback__))\n",
    "\n",
    "            return F\"\"\"<code style=\"{ws + error if runner.failures else ''}\" title=\"{format_title(out.stdout)\n",
    "                }\">{text}</code>\"\"\"  \n",
    "        \n",
    "        def footnote_ref(self, key, index):\n",
    "            return F\"\"\"<sup class=\"footnote-ref\" id=\"fnref-{slugify.slugify(key)}\">\n",
    "                <a title=\"{format_title(IPython.get_ipython().user_ns.get(key, \"\"))\n",
    "                }\" href=\"#fn-{mistune.escape(key)}\">{key}</a></sup>\"\"\"\n",
    "        \n",
    "        \n",
    "        def link(self, link, title, text):\n",
    "            object = super().link(link, title, text)\n",
    "            IPython.get_ipython().user_ns.update({link: link})\n",
    "            if title:\n",
    "                IPython.get_ipython().user_ns.update({title: object})\n",
    "            return object\n",
    "\n",
    "        def image(self, src, title, text):\n",
    "            IPython.get_ipython().user_ns.update({src: IPython.display.Image(src)})\n",
    "            return super().image(src, title, text)"
   ]
  },
  {
   "cell_type": "code",
   "execution_count": 29,
   "metadata": {},
   "outputs": [],
   "source": [
    "    link = \"\"\"[{text}]({link} \"{title}\")\"\"\""
   ]
  },
  {
   "cell_type": "code",
   "execution_count": 30,
   "metadata": {},
   "outputs": [],
   "source": [
    "    class WeaveRenderer(mistune.Renderer):\n",
    "        \"\"\"WeaveRenderer is responsbile for formatting the output of the input code.\"\"\"\n",
    "        failure = None\n",
    "        tmp_code = []\n",
    "         \n",
    "        def codespan(self, text: str) -> str:\n",
    "            all = '\\n'.join([*self.tmp_code, text])\n",
    "            if all.endswith('\\\\'): \n",
    "                self.tmp_code = all.splitlines()\n",
    "                return super().codespan(text)\n",
    "            self.tmp_code = []\n",
    "            text = string_formatter.environment.ipython_output(F\"`{all}`\")\n",
    "            return super().codespan(text)\n",
    "        \n",
    "        def text(self, text: str) -> str: return text\n",
    "        \n",
    "        def doctest(self, text: str) -> str:\n",
    "            text = string_formatter.environment.ipython_output(text)\n",
    "            return super().block_code(text)\n",
    "        \n",
    "        def link(self, link, title, text):\n",
    "            string_formatter.environment.ipython_output(link.format(**locals()))\n",
    "            return super().link(link, title, text)\n",
    "\n",
    "        def image(self, link, title, text):\n",
    "            string_formatter.environment.ipython_output('!'+link.format(**locals()))\n",
    "            return super().image(link, title, text)"
   ]
  },
  {
   "cell_type": "markdown",
   "metadata": {},
   "source": [
    "add header and footnotes"
   ]
  },
  {
   "cell_type": "code",
   "execution_count": 31,
   "metadata": {},
   "outputs": [
    {
     "data": {
      "text/html": [
       "<p>User statements versus user expressions.</p>\n"
      ],
      "text/markdown": [
       "User statements versus user expressions."
      ],
      "text/plain": [
       "User statements versus user expressions."
      ]
     },
     "metadata": {},
     "output_type": "display_data"
    }
   ],
   "source": [
    "User statements versus user expressions."
   ]
  },
  {
   "cell_type": "code",
   "execution_count": 32,
   "metadata": {},
   "outputs": [],
   "source": [
    "    class WeaveMarkdown(mistune.Markdown):\n",
    "        \"\"\"WeaveMarkdown combines initializes and applies WeavePidginBlockLexer and WeavePidginInlineLexer.\n",
    "        \"\"\"\n",
    "        def output_doctest(self): return self.renderer.doctest(self.token['text'])\n",
    "        \n",
    "        def render(self, text, failure=None):\n",
    "            self.renderer.failure = failure\n",
    "            return super().render(text)\n",
    "        \n",
    "        def parse(self, text):\n",
    "            out = self.output(mistune.preprocessing(text))\n",
    "            keys = self.block.def_footnotes\n",
    "            self.block.def_footnotes = {}\n",
    "            self.inline.footnotes = {}\n",
    "            \n",
    "            if not self.footnotes: return out\n",
    "\n",
    "            self.footnotes = sorted(self.footnotes, key=lambda o: keys.get(o['key']), reverse=True)\n",
    "\n",
    "            body = self.renderer.placeholder()\n",
    "            while self.footnotes:\n",
    "                note = self.footnotes.pop()\n",
    "                body += self.renderer.footnote_item(note['key'], note['text'])\n",
    "\n",
    "            out += self.renderer.footnotes(body)\n",
    "            return out"
   ]
  },
  {
   "cell_type": "code",
   "execution_count": 33,
   "metadata": {},
   "outputs": [],
   "source": [
    "    class BlockLexer(tangle.BlockLexer):\n",
    "        def __init__(self, rules=None, **kwargs):\n",
    "            super().__init__(rules, **kwargs)\n",
    "            self.def_links = IPython.get_ipython().weave.def_links"
   ]
  },
  {
   "cell_type": "code",
   "execution_count": 34,
   "metadata": {},
   "outputs": [],
   "source": [
    "    def markdown() -> mistune.Markdown: \n",
    "        return WeaveMarkdown(\n",
    "        renderer=WeaveRenderer(escape=False, parse_block_html=True, parse_inline_html=False),\n",
    "        block=BlockLexer, inline=WeaveInlineLexer)"
   ]
  },
  {
   "cell_type": "code",
   "execution_count": 35,
   "metadata": {},
   "outputs": [],
   "source": [
    "    def do_publish(data: str) -> bool:\n",
    "        is_display = bool(data.partition('\\n')[0].strip() and not data.startswith(';')) \n",
    "        source = tangle.markdown_to_python(data)\n",
    "        is_display = is_display & ~bool(only_contains_block_code(data, source))\n",
    "        try:\n",
    "            if data.strip() != ast.literal_eval(source.rstrip().rstrip(';')).strip(): is_display = False\n",
    "        except: ...\n",
    "        return is_display"
   ]
  },
  {
   "cell_type": "code",
   "execution_count": 36,
   "metadata": {},
   "outputs": [],
   "source": [
    "    def only_contains_block_code(raw: str, source: str) -> bool: \n",
    "        return raw.startswith('%%') or (\n",
    "            list(map(str.rstrip, textwrap.dedent(raw).splitlines())) == list(map(str.rstrip, textwrap.dedent(source).splitlines())))"
   ]
  },
  {
   "cell_type": "code",
   "execution_count": 37,
   "metadata": {},
   "outputs": [],
   "source": [
    "    ip.Completer.use_jedi=False"
   ]
  },
  {
   "cell_type": "code",
   "execution_count": 38,
   "metadata": {},
   "outputs": [],
   "source": [
    "    class Weave(IPython.core.formatters.IPythonDisplayFormatter):\n",
    "        \"\"\"`Weave` modifies the __weave__ phase of the cell execution.\"\"\"\n",
    "\n",
    "        safe = traitlets.Bool(True, help=\"\"\"Replace file paths with testable and safe strings. \"\"\")\n",
    "        html = traitlets.Bool(True, help=\"\"\"Return an annotated and custom html view for the markdown input.\"\"\")        \n",
    "        doctest = traitlets.Bool(True, help=\"\"\"Evaluate doctests in the source..\"\"\")        \n",
    "        inline = traitlets.Bool(True, help=\"\"\"Evaluate inline code elements..\"\"\")\n",
    "        def_links = traitlets.Dict(default_value={})\n",
    "        \n",
    "        def front_matter(self, str):\n",
    "            if str.startswith('---'):\n",
    "                if '\\n---' in str:\n",
    "                    import yaml, io\n",
    "                    body = str.lstrip('---')\n",
    "                    data, sep, body = body.partition('---\\n')\n",
    "                    data = yaml.safe_load(\n",
    "                        io.StringIO(self.environment.from_string(data).render()))\n",
    "                    if isinstance(data, dict): return body, data\n",
    "            return str, {}\n",
    "\n",
    "        def format(self, raw, include=None, exclude=None, *, body=\"\", exc=None):\n",
    "            with self:\n",
    "                source, metadata = self.front_matter(raw)\n",
    "                source = self.template(source, **metadata)\n",
    "                data, _metadata = self.parent.display_formatter.format(source)\n",
    "                lines = source.splitlines(True)        \n",
    "                body = markdown().render(''.join(lines))\n",
    "                if self.html: data['text/html'] = data.get('text/html', body)\n",
    "                if do_publish(raw): IPython.get_ipython().display_pub.publish(data, {**metadata, **_metadata})\n",
    "                \n",
    "        \"\"\"The parent is the displayformatter\"\"\"\n",
    "        \n",
    "        environment = traitlets.Instance(jinja2.Environment)\n",
    "        \n",
    "        @traitlets.default('environment')\n",
    "        def _default_environment(self): return environment.new_environment()\n",
    "        \n",
    "        level = traitlets.Int(default_value=0)\n",
    "        def __enter__(cls): cls.level += 1\n",
    "        def __exit__(cls, *exc): cls.level -= 1\n",
    "\n",
    "        def template(self, object, **data): \n",
    "            if self.level == 1: \n",
    "                object = self.environment.from_string(object).render(\n",
    "                    collections.ChainMap(data, self.parent.user_ns))\n",
    "            return object"
   ]
  },
  {
   "cell_type": "code",
   "execution_count": 39,
   "metadata": {},
   "outputs": [],
   "source": [
    "    def format_title(object): \n",
    "        return '&#013;'.join(html.escape(nbconvert.filters.strip_ansi(str(object))).splitlines())"
   ]
  },
  {
   "cell_type": "code",
   "execution_count": 27,
   "metadata": {},
   "outputs": [
    {
     "data": {
      "text/markdown": [
       "The weave step is similar to the user_expressions.  Only evaluating expressions was too limiting."
      ],
      "text/plain": [
       "The weave step is similar to the user_expressions.  Only evaluating expressions was too limiting."
      ]
     },
     "metadata": {},
     "output_type": "display_data"
    }
   ],
   "source": [
    "The weave step is similar to the user_expressions.  Only evaluating expressions was too limiting."
   ]
  },
  {
   "cell_type": "markdown",
   "metadata": {},
   "source": [
    "`run_cell_display` triggers a display on the input if contains anything other than block code."
   ]
  },
  {
   "cell_type": "code",
   "execution_count": 28,
   "metadata": {},
   "outputs": [],
   "source": [
    "    if __name__ == '__main__':\n",
    "        unload_ipython_extension(get_ipython())\n",
    "        tangle.unload_ipython_extension(get_ipython())\n",
    "        tangle.load_ipython_extension(get_ipython())\n",
    "        load_ipython_extension(get_ipython())"
   ]
  }
 ],
 "metadata": {
  "kernelspec": {
   "display_name": "p6",
   "language": "python",
   "name": "other-env"
  },
  "language_info": {
   "codemirror_mode": {
    "name": "ipython",
    "version": 3
   },
   "file_extension": ".py",
   "mimetype": "text/x-python",
   "name": "python",
   "nbconvert_exporter": "python",
   "pygments_lexer": "ipython3",
   "version": "3.6.3"
  },
  "nikola": {
   "date": "2018-12-06 12:00:00 UTC",
   "description": "`pidgin.display` is a collection of display rules for IPython objects.  \n\n`StringFormatter` is a class that adds reules for string `object`s.",
   "slug": "display.ipynb",
   "title": "display.ipynb",
   "type": "text"
  }
 },
 "nbformat": 4,
 "nbformat_minor": 2
}
