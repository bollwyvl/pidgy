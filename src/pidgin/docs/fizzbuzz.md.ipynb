{
 "cells": [
  {
   "cell_type": "code",
   "execution_count": 1,
   "metadata": {},
   "outputs": [],
   "source": [
    "    %reload_ext pidgin\n",
    "    from pidgin.docs.references import *"
   ]
  },
  {
   "cell_type": "code",
   "execution_count": 2,
   "metadata": {},
   "outputs": [
    {
     "data": {
      "text/html": [],
      "text/plain": [
       "<IPython.core.display.HTML object>"
      ]
     },
     "metadata": {},
     "output_type": "display_data"
    }
   ],
   "source": [
    "[fizzbuzz]: https://en.wikipedia.org/wiki/Fizz_buzz"
   ]
  },
  {
   "cell_type": "code",
   "execution_count": 4,
   "metadata": {},
   "outputs": [],
   "source": [
    "    pattern = \"\"\"---\n",
    "    [1, 2, Fizz, 4, Buzz, Fizz, 7, 8, Fizz, Buzz, 11, Fizz, 13, 14, Fizz Buzz, 16, 17, Fizz, 19, Buzz, Fizz, 22, 23, Fizz, Buzz, 26, Fizz, 28, 29, Fizz Buzz, 31, 32, Fizz, 34, Buzz, Fizz]\"\"\""
   ]
  },
  {
   "cell_type": "code",
   "execution_count": 5,
   "metadata": {},
   "outputs": [
    {
     "data": {
      "text/html": [
       "<pre><code>def functional(max, *, min=1):\n",
       "</code></pre>\n",
       "<p><code>functional</code> programming using functions with control flow statements.</p>\n",
       "<pre><code>&gt;&gt;&gt; assert pattern == list(functional(len(pattern)+1))\n",
       "</code></pre>\n",
       "<pre><code>    for int in range(min, max):\n",
       "        yield F\"{'Fizz'*(not int%3)}{' '*(not int%(3*5))}{'Buzz'*(not int%5)}\" or int\n",
       "</code></pre>\n"
      ],
      "text/plain": [
       "<IPython.core.display.HTML object>"
      ]
     },
     "metadata": {},
     "output_type": "display_data"
    }
   ],
   "source": [
    "    def functional(max, *, min=1):\n",
    "`functional` programming using functions with control flow statements.\n",
    ">>> assert pattern == list(functional(len(pattern)+1))\n",
    "\n",
    "        for int in range(min, max):\n",
    "            yield F\"{'Fizz'*(not int%3)}{' '*(not int%(3*5))}{'Buzz'*(not int%5)}\" or int"
   ]
  },
  {
   "cell_type": "code",
   "execution_count": 6,
   "metadata": {},
   "outputs": [
    {
     "data": {
      "text/html": [
       "<pre><code>def imperative(max, *, min=1):\n",
       "</code></pre>\n",
       "<p><code>imperative</code> programming using functions with control flow statements.</p>\n",
       "<pre><code>&gt;&gt;&gt; assert pattern == list(imperative(len(pattern)+1))\n",
       "</code></pre>\n",
       "<pre><code>    for int in range(min, max):\n",
       "        yield F\"{'Fizz'*(not int%3)}{' '*(not int%(3*5))}{'Buzz'*(not int%5)}\" or int\n",
       "</code></pre>\n"
      ],
      "text/plain": [
       "<IPython.core.display.HTML object>"
      ]
     },
     "metadata": {},
     "output_type": "display_data"
    }
   ],
   "source": [
    "    def imperative(max, *, min=1):\n",
    "`imperative` programming using functions with control flow statements.\n",
    ">>> assert pattern == list(imperative(len(pattern)+1))\n",
    "\n",
    "        for int in range(min, max):\n",
    "            yield F\"{'Fizz'*(not int%3)}{' '*(not int%(3*5))}{'Buzz'*(not int%5)}\" or int"
   ]
  },
  {
   "cell_type": "code",
   "execution_count": 7,
   "metadata": {},
   "outputs": [
    {
     "data": {
      "text/html": [
       "<pre><code>def procedural(max, *, min=1):\n",
       "</code></pre>\n",
       "<p><code>procedural</code> programming is a mix of <code>functional</code> &amp; <code>imperative</code>styles.</p>\n",
       "<pre><code>&gt;&gt;&gt; assert pattern == list(procedural(len(pattern)+1))\n",
       "</code></pre>\n",
       "<pre><code>    for int in range(min, max):\n",
       "        yield F\"{'Fizz'*(not int%3)}{' '*(not int%(3*5))}{'Buzz'*(not int%5)}\" or int\n",
       "</code></pre>\n"
      ],
      "text/plain": [
       "<IPython.core.display.HTML object>"
      ]
     },
     "metadata": {},
     "output_type": "display_data"
    }
   ],
   "source": [
    "    def procedural(max, *, min=1):\n",
    "`procedural` programming is a mix of `functional` & `imperative`styles.\n",
    ">>> assert pattern == list(procedural(len(pattern)+1))\n",
    "\n",
    "        for int in range(min, max):\n",
    "            yield F\"{'Fizz'*(not int%3)}{' '*(not int%(3*5))}{'Buzz'*(not int%5)}\" or int"
   ]
  },
  {
   "cell_type": "code",
   "execution_count": 8,
   "metadata": {},
   "outputs": [
    {
     "data": {
      "text/html": [
       "<pre><code>class object_oriented:\n",
       "</code></pre>\n",
       "<pre><code>&gt;&gt;&gt; oop = object_oriented()\n",
       "</code></pre>\n",
       "<pre><code>    def __call__(self, int):\n",
       "        for int in range(min, max):\n",
       "            yield F\"{'Fizz'*(not int%3)}{' '*(not int%(3*5))}{'Buzz'*(not int%5)}\" or int\n",
       "</code></pre>\n"
      ],
      "text/plain": [
       "<IPython.core.display.HTML object>"
      ]
     },
     "metadata": {},
     "output_type": "display_data"
    }
   ],
   "source": [
    "    class object_oriented:\n",
    ">>> oop = object_oriented()\n",
    "        \n",
    "        def __call__(self, int):\n",
    "            for int in range(min, max):\n",
    "                yield F\"{'Fizz'*(not int%3)}{' '*(not int%(3*5))}{'Buzz'*(not int%5)}\" or int"
   ]
  },
  {
   "cell_type": "raw",
   "metadata": {},
   "source": [
    "https://www.dummies.com/programming/python/4-common-python-programming-styles/"
   ]
  },
  {
   "cell_type": "code",
   "execution_count": null,
   "metadata": {},
   "outputs": [],
   "source": []
  }
 ],
 "metadata": {
  "kernelspec": {
   "display_name": "p6",
   "language": "python",
   "name": "other-env"
  },
  "language_info": {
   "codemirror_mode": {
    "name": "ipython",
    "version": 3
   },
   "file_extension": ".py",
   "mimetype": "text/x-python",
   "name": "python",
   "nbconvert_exporter": "python",
   "pygments_lexer": "ipython3",
   "version": "3.6.8"
  }
 },
 "nbformat": 4,
 "nbformat_minor": 2
}
