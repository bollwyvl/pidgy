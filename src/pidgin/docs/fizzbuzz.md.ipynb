{
 "cells": [
  {
   "cell_type": "code",
   "execution_count": 1,
   "metadata": {},
   "outputs": [],
   "source": [
    "    %reload_ext pidgin\n",
    "    from pidgin.docs.references import *\n",
    "    try: import ruamel.yaml as yaml\n",
    "    except: import yaml"
   ]
  },
  {
   "cell_type": "code",
   "execution_count": 2,
   "metadata": {},
   "outputs": [],
   "source": [
    "    pattern = yaml.safe_load(__import__('io').StringIO(\"\"\"[1, 2, Fizz, 4, Buzz, Fizz, 7, 8, Fizz, Buzz, 11, Fizz, 13, 14, Fizz Buzz, 16, 17, Fizz, 19, Buzz, Fizz, 22, 23, Fizz, Buzz, 26, Fizz, 28, 29, Fizz Buzz, 31, 32, Fizz, 34, Buzz, Fizz]\"\"\"))"
   ]
  },
  {
   "cell_type": "code",
   "execution_count": 3,
   "metadata": {},
   "outputs": [
    {
     "data": {
      "text/html": [
       "<table class=\"highlighttable\"><tr><td><div class=\"linenodiv\" style=\"background-color: #f0f0f0; padding-right: 10px\"><pre style=\"line-height: 125%\">1</pre></div></td><td style=\"text-align: left;\" class=\"code\"><div class=\"highlight\" style=\"background: #f8f8f8\"><pre style=\"line-height: 125%\"><span></span><span style=\"color: #008000; font-weight: bold\">def</span> <span style=\"color: #0000FF\">functional</span>(<span style=\"color: #008000\">max</span>, <span style=\"color: #666666\">*</span>, <span style=\"color: #008000\">min</span><span style=\"color: #666666\">=1</span>):\n",
       "</pre></div>\n",
       "</td></tr></table><p><span class=\"highlight\"><code style=\"display: inline-block; vertical-align: middle; line-height: 125%\"><span></span>functional\n",
       "</code></span> programming using functions with control flow statements.</p>\n",
       "<pre><code>&gt;&gt;&gt; assert pattern == list(functional(len(pattern)+1))\n",
       "</code></pre>\n",
       "<table class=\"highlighttable\"><tr><td><div class=\"linenodiv\" style=\"background-color: #f0f0f0; padding-right: 10px\"><pre style=\"line-height: 125%\">5\n",
       "6</pre></div></td><td style=\"text-align: left;\" class=\"code\"><div class=\"highlight\" style=\"background: #f8f8f8\"><pre style=\"line-height: 125%\"><span></span><span style=\"color: #008000; font-weight: bold\">for</span> <span style=\"color: #008000\">int</span> <span style=\"color: #AA22FF; font-weight: bold\">in</span> <span style=\"color: #008000\">range</span>(<span style=\"color: #008000\">min</span>, <span style=\"color: #008000\">max</span>):\n",
       "        <span style=\"color: #008000; font-weight: bold\">yield</span> F<span style=\"color: #BA2121\">&quot;{&#39;Fizz&#39;*(not int%3)}{&#39; &#39;*(not int%(3*5))}{&#39;Buzz&#39;*(not int%5)}&quot;</span> <span style=\"color: #AA22FF; font-weight: bold\">or</span> <span style=\"color: #008000\">int</span>\n",
       "</pre></div>\n",
       "</td></tr></table>"
      ],
      "text/plain": [
       "<IPython.core.display.HTML object>"
      ]
     },
     "metadata": {},
     "output_type": "display_data"
    }
   ],
   "source": [
    "    def functional(max, *, min=1):\n",
    "`functional` programming using functions with control flow statements.\n",
    ">>> assert pattern == list(functional(len(pattern)+1))\n",
    "\n",
    "        for int in range(min, max):\n",
    "            yield F\"{'Fizz'*(not int%3)}{' '*(not int%(3*5))}{'Buzz'*(not int%5)}\" or int"
   ]
  },
  {
   "cell_type": "code",
   "execution_count": 4,
   "metadata": {},
   "outputs": [
    {
     "data": {
      "text/html": [
       "<table class=\"highlighttable\"><tr><td><div class=\"linenodiv\" style=\"background-color: #f0f0f0; padding-right: 10px\"><pre style=\"line-height: 125%\">1</pre></div></td><td style=\"text-align: left;\" class=\"code\"><div class=\"highlight\" style=\"background: #f8f8f8\"><pre style=\"line-height: 125%\"><span></span><span style=\"color: #008000; font-weight: bold\">def</span> <span style=\"color: #0000FF\">imperative</span>(<span style=\"color: #008000\">max</span>, <span style=\"color: #666666\">*</span>, <span style=\"color: #008000\">min</span><span style=\"color: #666666\">=1</span>):\n",
       "</pre></div>\n",
       "</td></tr></table><p><span class=\"highlight\"><code style=\"display: inline-block; vertical-align: middle; line-height: 125%\"><span></span>imperative\n",
       "</code></span> programming using functions with control flow statements.</p>\n",
       "<pre><code>&gt;&gt;&gt; assert pattern == list(imperative(len(pattern)+1))\n",
       "</code></pre>\n",
       "<table class=\"highlighttable\"><tr><td><div class=\"linenodiv\" style=\"background-color: #f0f0f0; padding-right: 10px\"><pre style=\"line-height: 125%\">5\n",
       "6</pre></div></td><td style=\"text-align: left;\" class=\"code\"><div class=\"highlight\" style=\"background: #f8f8f8\"><pre style=\"line-height: 125%\"><span></span><span style=\"color: #008000; font-weight: bold\">for</span> <span style=\"color: #008000\">int</span> <span style=\"color: #AA22FF; font-weight: bold\">in</span> <span style=\"color: #008000\">range</span>(<span style=\"color: #008000\">min</span>, <span style=\"color: #008000\">max</span>):\n",
       "        <span style=\"color: #008000; font-weight: bold\">yield</span> F<span style=\"color: #BA2121\">&quot;{&#39;Fizz&#39;*(not int%3)}{&#39; &#39;*(not int%(3*5))}{&#39;Buzz&#39;*(not int%5)}&quot;</span> <span style=\"color: #AA22FF; font-weight: bold\">or</span> <span style=\"color: #008000\">int</span>\n",
       "</pre></div>\n",
       "</td></tr></table>"
      ],
      "text/plain": [
       "<IPython.core.display.HTML object>"
      ]
     },
     "metadata": {},
     "output_type": "display_data"
    }
   ],
   "source": [
    "    def imperative(max, *, min=1):\n",
    "`imperative` programming using functions with control flow statements.\n",
    ">>> assert pattern == list(imperative(len(pattern)+1))\n",
    "\n",
    "        for int in range(min, max):\n",
    "            yield F\"{'Fizz'*(not int%3)}{' '*(not int%(3*5))}{'Buzz'*(not int%5)}\" or int"
   ]
  },
  {
   "cell_type": "code",
   "execution_count": 5,
   "metadata": {},
   "outputs": [
    {
     "data": {
      "text/html": [
       "<table class=\"highlighttable\"><tr><td><div class=\"linenodiv\" style=\"background-color: #f0f0f0; padding-right: 10px\"><pre style=\"line-height: 125%\">1</pre></div></td><td style=\"text-align: left;\" class=\"code\"><div class=\"highlight\" style=\"background: #f8f8f8\"><pre style=\"line-height: 125%\"><span></span><span style=\"color: #008000; font-weight: bold\">def</span> <span style=\"color: #0000FF\">procedural</span>(<span style=\"color: #008000\">max</span>, <span style=\"color: #666666\">*</span>, <span style=\"color: #008000\">min</span><span style=\"color: #666666\">=1</span>):\n",
       "</pre></div>\n",
       "</td></tr></table><p><span class=\"highlight\"><code style=\"display: inline-block; vertical-align: middle; line-height: 125%\"><span></span>procedural\n",
       "</code></span> programming is a mix of <span class=\"highlight\"><code style=\"display: inline-block; vertical-align: middle; line-height: 125%\"><span></span>functional\n",
       "</code></span> &amp; <span class=\"highlight\"><code style=\"display: inline-block; vertical-align: middle; line-height: 125%\"><span></span>imperative\n",
       "</code></span>styles.</p>\n",
       "<pre><code>&gt;&gt;&gt; assert pattern == list(procedural(len(pattern)+1))\n",
       "</code></pre>\n",
       "<table class=\"highlighttable\"><tr><td><div class=\"linenodiv\" style=\"background-color: #f0f0f0; padding-right: 10px\"><pre style=\"line-height: 125%\">5\n",
       "6</pre></div></td><td style=\"text-align: left;\" class=\"code\"><div class=\"highlight\" style=\"background: #f8f8f8\"><pre style=\"line-height: 125%\"><span></span><span style=\"color: #008000; font-weight: bold\">for</span> <span style=\"color: #008000\">int</span> <span style=\"color: #AA22FF; font-weight: bold\">in</span> <span style=\"color: #008000\">range</span>(<span style=\"color: #008000\">min</span>, <span style=\"color: #008000\">max</span>):\n",
       "        <span style=\"color: #008000; font-weight: bold\">yield</span> F<span style=\"color: #BA2121\">&quot;{&#39;Fizz&#39;*(not int%3)}{&#39; &#39;*(not int%(3*5))}{&#39;Buzz&#39;*(not int%5)}&quot;</span> <span style=\"color: #AA22FF; font-weight: bold\">or</span> <span style=\"color: #008000\">int</span>\n",
       "</pre></div>\n",
       "</td></tr></table>"
      ],
      "text/plain": [
       "<IPython.core.display.HTML object>"
      ]
     },
     "metadata": {},
     "output_type": "display_data"
    }
   ],
   "source": [
    "    def procedural(max, *, min=1):\n",
    "`procedural` programming is a mix of `functional` & `imperative`styles.\n",
    ">>> assert pattern == list(procedural(len(pattern)+1))\n",
    "\n",
    "        for int in range(min, max):\n",
    "            yield F\"{'Fizz'*(not int%3)}{' '*(not int%(3*5))}{'Buzz'*(not int%5)}\" or int"
   ]
  },
  {
   "cell_type": "code",
   "execution_count": 6,
   "metadata": {},
   "outputs": [
    {
     "data": {
      "text/html": [
       "<table class=\"highlighttable\"><tr><td><div class=\"linenodiv\" style=\"background-color: #f0f0f0; padding-right: 10px\"><pre style=\"line-height: 125%\">1</pre></div></td><td style=\"text-align: left;\" class=\"code\"><div class=\"highlight\" style=\"background: #f8f8f8\"><pre style=\"line-height: 125%\"><span></span><span style=\"color: #008000; font-weight: bold\">class</span> <span style=\"color: #0000FF; font-weight: bold\">object_oriented</span>:\n",
       "</pre></div>\n",
       "</td></tr></table><pre><code>&gt;&gt;&gt; oop = object_oriented()\n",
       "</code></pre>\n",
       "<table class=\"highlighttable\"><tr><td><div class=\"linenodiv\" style=\"background-color: #f0f0f0; padding-right: 10px\"><pre style=\"line-height: 125%\">4\n",
       "5\n",
       "6</pre></div></td><td style=\"text-align: left;\" class=\"code\"><div class=\"highlight\" style=\"background: #f8f8f8\"><pre style=\"line-height: 125%\"><span></span><span style=\"color: #008000; font-weight: bold\">def</span> <span style=\"color: #0000FF\">__call__</span>(<span style=\"color: #008000\">self</span>, <span style=\"color: #008000\">int</span>):\n",
       "        <span style=\"color: #008000; font-weight: bold\">for</span> <span style=\"color: #008000\">int</span> <span style=\"color: #AA22FF; font-weight: bold\">in</span> <span style=\"color: #008000\">range</span>(<span style=\"color: #008000\">min</span>, <span style=\"color: #008000\">max</span>):\n",
       "            <span style=\"color: #008000; font-weight: bold\">yield</span> F<span style=\"color: #BA2121\">&quot;{&#39;Fizz&#39;*(not int%3)}{&#39; &#39;*(not int%(3*5))}{&#39;Buzz&#39;*(not int%5)}&quot;</span> <span style=\"color: #AA22FF; font-weight: bold\">or</span> <span style=\"color: #008000\">int</span>\n",
       "</pre></div>\n",
       "</td></tr></table>"
      ],
      "text/plain": [
       "<IPython.core.display.HTML object>"
      ]
     },
     "metadata": {},
     "output_type": "display_data"
    }
   ],
   "source": [
    "    class object_oriented:\n",
    ">>> oop = object_oriented()\n",
    "        \n",
    "        def __call__(self, int):\n",
    "            for int in range(min, max):\n",
    "                yield F\"{'Fizz'*(not int%3)}{' '*(not int%(3*5))}{'Buzz'*(not int%5)}\" or int"
   ]
  },
  {
   "cell_type": "raw",
   "metadata": {},
   "source": [
    "https://www.dummies.com/programming/python/4-common-python-programming-styles/"
   ]
  }
 ],
 "metadata": {
  "kernelspec": {
   "display_name": "p6",
   "language": "python",
   "name": "other-env"
  },
  "language_info": {
   "codemirror_mode": {
    "name": "ipython",
    "version": 3
   },
   "file_extension": ".py",
   "mimetype": "text/x-python",
   "name": "python",
   "nbconvert_exporter": "python",
   "pygments_lexer": "ipython3",
   "version": "3.6.8"
  }
 },
 "nbformat": 4,
 "nbformat_minor": 4
}
