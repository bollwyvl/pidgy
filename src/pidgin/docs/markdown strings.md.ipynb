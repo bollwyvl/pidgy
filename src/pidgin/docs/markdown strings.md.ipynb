{
 "cells": [
  {
   "cell_type": "markdown",
   "metadata": {},
   "source": [
    "This notebook illustrates how __Markdown__ strings may blend with __Python__ using `pidgin`.\n",
    "\n",
    "    import pidgin"
   ]
  },
  {
   "cell_type": "code",
   "execution_count": 1,
   "metadata": {},
   "outputs": [],
   "source": [
    "    from IPython import get_ipython\n",
    "    %reload_ext pidgin"
   ]
  },
  {
   "cell_type": "code",
   "execution_count": 2,
   "metadata": {},
   "outputs": [
    {
     "data": {
      "text/html": [
       "<p><code><span style=\"border-bottom: 1px dotted gray;\" title=\"Type:        module&#013;String form: &lt;module &#x27;pidgin&#x27; from &#x27;&#x27;&lt;safe path&gt;__init__.py&#x27;&#x27;&gt;&#013;File:        &#x27;&lt;safe path&gt;__init__.py&#x27;&#013;Docstring:   &lt;no docstring&gt;\">pidgin</span>\n",
       "</code> emphasizes that everything is code.  Blocks of <em>non-code</em> <strong>Markdown</strong> are transformed \n",
       "represented as block strings in <code><span style=\"border-bottom: 1px dotted gray;\" title=\"Type:        module&#013;String form: &lt;module &#x27;pidgin&#x27; from &#x27;&#x27;&lt;safe path&gt;__init__.py&#x27;&#x27;&gt;&#013;File:        &#x27;&lt;safe path&gt;__init__.py&#x27;&#013;Docstring:   &lt;no docstring&gt;\">pidgin</span>\n",
       "</code>, they are not converted to comments.  Converting <strong>Markdown</strong>\n",
       "to strings permits interesting hybrids of <strong>Markdown</strong> and <strong>Python</strong>.</p>\n",
       "<code style=\"white-space: pre;\" title=\"\">import <span style=\"border-bottom: 1px dotted gray;\" title=\"Type:        module&#013;String form: &lt;module &#x27;pidgin&#x27; from &#x27;&#x27;&lt;safe path&gt;__init__.py&#x27;&#x27;&gt;&#013;File:        &#x27;&lt;safe path&gt;__init__.py&#x27;&#013;Docstring:   &lt;no docstring&gt;\">pidgin</span>\n",
       "</code>"
      ],
      "text/markdown": [
       "`pidgin` emphasizes that everything is code.  Blocks of _non-code_ __Markdown__ are transformed \n",
       "represented as block strings in `pidgin`, they are not converted to comments.  Converting __Markdown__\n",
       "to strings permits interesting hybrids of __Markdown__ and __Python__.\n",
       "\n",
       "    import pidgin"
      ],
      "text/plain": [
       "'`pidgin` emphasizes that everything is code.  Blocks of _non-code_ __Markdown__ are transformed \\nrepresented as block strings in `pidgin`, they are not converted to comments.  Converting __Markdown__\\nto strings permits interesting hybrids of __Markdown__ and __Python__.\\n\\n    import pidgin'"
      ]
     },
     "metadata": {},
     "output_type": "display_data"
    }
   ],
   "source": [
    "`pidgin` emphasizes that everything is code.  Blocks of _non-code_ __Markdown__ are transformed \n",
    "represented as block strings in `pidgin`, they are not converted to comments.  Converting __Markdown__\n",
    "to strings permits interesting hybrids of __Markdown__ and __Python__.\n",
    "\n",
    "    import pidgin"
   ]
  },
  {
   "cell_type": "code",
   "execution_count": 3,
   "metadata": {},
   "outputs": [
    {
     "data": {
      "text/html": [
       "<a href=\"#assigning-markdown-string-objects\"><h1 id=\"assigning-markdown-string-objects\">Assigning <strong>Markdown</strong> string objects.</h1>\n",
       "</a>\n",
       "<code style=\"white-space: pre;\" title=\"\"><span style=\"border-bottom: 1px dotted gray;\" title=\"Type:        str&#013;String form:&#013;A line continuation can be used to define a variable &#013;with the __Markdown__ content following it&#013;&#013;Carriage returns are allowed.&#013;Length:      127&#013;Docstring:  &#013;str(object=&#x27;&#x27;) -&gt; str&#013;str(bytes_or_buffer[, encoding[, errors]]) -&gt; str&#013;&#013;Create a new string object from the given object. If encoding or&#013;errors is specified, then the object must expose a data buffer&#013;that will be decoded using the given encoding and error handler.&#013;Otherwise, returns the result of object.__str__() (if defined)&#013;or repr(object).&#013;encoding defaults to sys.getdefaultencoding().&#013;errors defaults to &#x27;strict&#x27;.\">foo</span> =\\\n",
       "</code><p>A line continuation can be used to define a variable \n",
       "with the <strong>Markdown</strong> content following it</p>\n",
       "<p>Carriage returns are allowed.</p>\n",
       "<code style=\"white-space: pre;\" title=\"\"><span style=\"border-bottom: 1px dotted gray;\" title=\"Type:        str&#013;String form: code breaks the string and the next line is evaluated.&#013;Length:      54&#013;Docstring:  &#013;str(object=&#x27;&#x27;) -&gt; str&#013;str(bytes_or_buffer[, encoding[, errors]]) -&gt; str&#013;&#013;Create a new string object from the given object. If encoding or&#013;errors is specified, then the object must expose a data buffer&#013;that will be decoded using the given encoding and error handler.&#013;Otherwise, returns the result of object.__str__() (if defined)&#013;or repr(object).&#013;encoding defaults to sys.getdefaultencoding().&#013;errors defaults to &#x27;strict&#x27;.\">bar</span> = \"code breaks the string and the next line is evaluated.\"\n",
       "\n",
       "def <span style=\"border-bottom: 1px dotted gray;\" title=\"Signature: test_bar()&#013;Docstring: &lt;no docstring&gt;&#013;Source:    def test_bar(): assert &#x27;bar&#x27; in globals()&#013;File:      c:\\users\\deathbeds\\pidgin\\src\\pidgin\\docs\\&lt;ipython-input-3-874d1ce61d2d&gt;&#013;Type:      function\">test_bar</span>(): assert 'bar' in globals()\n",
       "</code>"
      ],
      "text/markdown": [
       "# Assigning __Markdown__ string objects.\n",
       "\n",
       "    foo =\\\n",
       "A line continuation can be used to define a variable \n",
       "with the __Markdown__ content following it\n",
       "\n",
       "Carriage returns are allowed.\n",
       "\n",
       "    bar = \"code breaks the string and the next line is evaluated.\"\n",
       "    \n",
       "    def test_bar(): assert 'bar' in globals()"
      ],
      "text/plain": [
       "'# Assigning __Markdown__ string objects.\\n\\n    foo =\\\\\\nA line continuation can be used to define a variable \\nwith the __Markdown__ content following it\\n\\nCarriage returns are allowed.\\n\\n    bar = \"code breaks the string and the next line is evaluated.\"\\n    \\n    def test_bar(): assert \\'bar\\' in globals()'"
      ]
     },
     "metadata": {},
     "output_type": "display_data"
    }
   ],
   "source": [
    "# Assigning __Markdown__ string objects.\n",
    "\n",
    "    foo =\\\n",
    "A line continuation can be used to define a variable \n",
    "with the __Markdown__ content following it\n",
    "\n",
    "Carriage returns are allowed.\n",
    "\n",
    "    bar = \"code breaks the string and the next line is evaluated.\"\n",
    "    \n",
    "    def test_bar(): assert 'bar' in globals()"
   ]
  },
  {
   "cell_type": "code",
   "execution_count": 4,
   "metadata": {},
   "outputs": [],
   "source": [
    "    import inspect"
   ]
  },
  {
   "cell_type": "code",
   "execution_count": 5,
   "metadata": {},
   "outputs": [
    {
     "data": {
      "text/html": [
       "<a href=\"#assigning-markdown-string-objects\"><h1 id=\"assigning-markdown-string-objects\">Assigning <strong>Markdown</strong> string objects.</h1>\n",
       "</a>\n",
       "<code style=\"white-space: pre;\" title=\"\"><span style=\"border-bottom: 1px dotted gray;\" title=\"Type:        str&#013;String form:&#013;A string may be defined in parenthesis.&#013;&#013;The line below is markdown because it is not indented.&#013;    &#013;)&#013;Length:      102&#013;Docstring:  &#013;str(object=&#x27;&#x27;) -&gt; str&#013;str(bytes_or_buffer[, encoding[, errors]]) -&gt; str&#013;&#013;Create a new string object from the given object. If encoding or&#013;errors is specified, then the object must expose a data buffer&#013;that will be decoded using the given encoding and error handler.&#013;Otherwise, returns the result of object.__str__() (if defined)&#013;or repr(object).&#013;encoding defaults to sys.getdefaultencoding().&#013;errors defaults to &#x27;strict&#x27;.\">foo_paren</span> = (\n",
       "</code><p>A string may be defined in parenthesis.</p>\n",
       "<p>The line below is markdown because it is not indented.</p>\n",
       "<p>)</p>\n",
       "<code style=\"white-space: pre;\" title=\"\">)\n",
       "\n",
       "\n",
       "def <span style=\"border-bottom: 1px dotted gray;\" title=\"Signature: test_paren()&#013;Docstring: &lt;no docstring&gt;&#013;Source:    def test_paren(): assert foo_paren.endswith(&#x27;)&#x27;)&#013;File:      c:\\users\\deathbeds\\pidgin\\src\\pidgin\\docs\\&lt;ipython-input-5-9a22af183207&gt;&#013;Type:      function\">test_paren</span>(): assert <span style=\"border-bottom: 1px dotted gray;\" title=\"Docstring:&#013;S.endswith(suffix[, start[, end]]) -&gt; bool&#013;&#013;Return True if S ends with the specified suffix, False otherwise.&#013;With optional start, test S beginning at that position.&#013;With optional end, stop comparing S at that position.&#013;suffix can also be a tuple of strings to try.&#013;Type:      builtin_function_or_method\">foo_paren.endswith</span>(')')\n",
       "\n",
       "def <span style=\"border-bottom: 1px dotted gray;\" title=\"Signature: test_function_with_docstring()&#013;Source:   &#013;def test_function_with_docstring(): (&#013;&quot;&quot;&quot;This is a docstring for `test_function_with_docstring`.  Nothing may be defined inside the function&#013;because the parenthesis bound the expression.&quot;&quot;&quot;&#013;&#013;)&#013;File:      c:\\users\\deathbeds\\pidgin\\src\\pidgin\\docs\\&lt;ipython-input-5-9a22af183207&gt;&#013;Type:      function\">test_function_with_docstring</span>(): (\n",
       "</code><p>This is a docstring for <code><span style=\"border-bottom: 1px dotted gray;\" title=\"Signature: test_function_with_docstring()&#013;Docstring:&#013;This is a docstring for `test_function_with_docstring`.  Nothing may be defined inside the function&#013;because the parenthesis bound the expression.&#013;File:      c:\\users\\deathbeds\\pidgin\\src\\pidgin\\docs\\&lt;ipython-input-5-9a22af183207&gt;&#013;Type:      function\">test_function_with_docstring</span>\n",
       "</code>.  Nothing may be defined inside the function\n",
       "because the parenthesis bound the expression.</p>\n",
       "<code style=\"white-space: pre;\" title=\"\">)\n",
       "assert True\n",
       "\n",
       "def <span style=\"border-bottom: 1px dotted gray;\" title=\"Signature: test_function_with_docstring_for_real()&#013;Docstring: &lt;no docstring&gt;&#013;Source:   &#013;def test_function_with_docstring_for_real():&#013;    assert &#x27;assert&#x27; not in inspect.getsource(test_function_with_docstring)&#013;File:      c:\\users\\deathbeds\\pidgin\\src\\pidgin\\docs\\&lt;ipython-input-5-9a22af183207&gt;&#013;Type:      function\">test_function_with_docstring_for_real</span>():\n",
       "    assert 'assert' not in <span style=\"border-bottom: 1px dotted gray;\" title=\"Signature: inspect.getsource(object)&#013;Docstring:&#013;Return the text of the source code for an object.&#013;&#013;The argument may be a module, class, method, function, traceback, frame,&#013;or code object.  The source code is returned as a single string.  An&#013;OSError is raised if the source code cannot be retrieved.&#013;File:      &#x27;&lt;safe path&gt;inspect.py&#x27;&#013;Type:      function\">inspect.getsource</span>(<span style=\"border-bottom: 1px dotted gray;\" title=\"Signature: test_function_with_docstring()&#013;Docstring:&#013;This is a docstring for `test_function_with_docstring`.  Nothing may be defined inside the function&#013;because the parenthesis bound the expression.&#013;File:      c:\\users\\deathbeds\\pidgin\\src\\pidgin\\docs\\&lt;ipython-input-5-9a22af183207&gt;&#013;Type:      function\">test_function_with_docstring</span>)\n",
       "</code>"
      ],
      "text/markdown": [
       "# Assigning __Markdown__ string objects.\n",
       "\n",
       "    foo_paren = (\n",
       "A string may be defined in parenthesis.\n",
       "\n",
       "The line below is markdown because it is not indented.\n",
       "        \n",
       ") \n",
       "\n",
       "    )\n",
       "\n",
       "\n",
       "    def test_paren(): assert foo_paren.endswith(')')\n",
       "\n",
       "    def test_function_with_docstring(): (\n",
       "This is a docstring for `test_function_with_docstring`.  Nothing may be defined inside the function\n",
       "because the parenthesis bound the expression.\n",
       "\n",
       "    )\n",
       "    assert True\n",
       "\n",
       "    def test_function_with_docstring_for_real():\n",
       "        assert 'assert' not in inspect.getsource(test_function_with_docstring)"
      ],
      "text/plain": [
       "\"# Assigning __Markdown__ string objects.\\n\\n    foo_paren = (\\nA string may be defined in parenthesis.\\n\\nThe line below is markdown because it is not indented.\\n        \\n) \\n\\n    )\\n\\n\\n    def test_paren(): assert foo_paren.endswith(')')\\n\\n    def test_function_with_docstring(): (\\nThis is a docstring for `test_function_with_docstring`.  Nothing may be defined inside the function\\nbecause the parenthesis bound the expression.\\n\\n    )\\n    assert True\\n\\n    def test_function_with_docstring_for_real():\\n        assert 'assert' not in inspect.getsource(test_function_with_docstring)\""
      ]
     },
     "metadata": {},
     "output_type": "display_data"
    }
   ],
   "source": [
    "# Assigning __Markdown__ string objects.\n",
    "\n",
    "    foo_paren = (\n",
    "A string may be defined in parenthesis.\n",
    "\n",
    "The line below is markdown because it is not indented.\n",
    "        \n",
    ") \n",
    "\n",
    "    )\n",
    "\n",
    "\n",
    "    def test_paren(): assert foo_paren.endswith(')')\n",
    "\n",
    "    def test_function_with_docstring(): (\n",
    "This is a docstring for `test_function_with_docstring`.  Nothing may be defined inside the function\n",
    "because the parenthesis bound the expression.\n",
    "\n",
    "    )\n",
    "    assert True\n",
    "\n",
    "    def test_function_with_docstring_for_real():\n",
    "        assert 'assert' not in inspect.getsource(test_function_with_docstring)"
   ]
  },
  {
   "cell_type": "code",
   "execution_count": 6,
   "metadata": {},
   "outputs": [
    {
     "name": "stdout",
     "output_type": "stream",
     "text": [
      "THIS STRING IS INSIDE PARENTHESIS.  IT WILL BE `PRINT`ED UPPER CASE.\n"
     ]
    },
    {
     "data": {
      "text/html": [
       "<a href=\"#applying-string-methods\"><h1 id=\"applying-string-methods\">Applying string methods</h1>\n",
       "</a>\n",
       "<p>Markdown inside parenthesis may have string methods applied.</p>\n",
       "<code style=\"white-space: pre;\" title=\"\"><span style=\"border-bottom: 1px dotted gray;\" title=\"Type:        int&#013;String form: 42&#013;Docstring:  &#013;int(x=0) -&gt; integer&#013;int(x, base=10) -&gt; integer&#013;&#013;Convert a number or string to an integer, or return 0 if no arguments&#013;are given.  If x is a number, return x.__int__().  For floating point&#013;numbers, this truncates towards zero.&#013;&#013;If x is not a number or if base is given, then x must be a string,&#013;bytes, or bytearray instance representing an integer literal in the&#013;given base.  The literal can be preceded by &#x27;+&#x27; or &#x27;-&#x27; and be surrounded&#013;by whitespace.  The base defaults to 10.  Valid bases are 0 and 2-36.&#013;Base 0 means to interpret the base from the string as an integer literal.&#013;&gt;&gt;&gt; int(&#x27;0b100&#x27;, base=0)&#013;4\">value</span> = 42\n",
       "print(\n",
       "</code><p>This string is inside parenthesis.  It will be <code>print\n",
       "</code>ed upper case.</p>\n",
       "<code style=\"white-space: pre;\" title=\"\">())\n",
       "\n",
       "<span style=\"border-bottom: 1px dotted gray;\" title=\"Type:        str&#013;String form: FORMAT MAY BE USED TO INSERT VALUES 42&#013;Length:      38&#013;Docstring:  &#013;str(object=&#x27;&#x27;) -&gt; str&#013;str(bytes_or_buffer[, encoding[, errors]]) -&gt; str&#013;&#013;Create a new string object from the given object. If encoding or&#013;errors is specified, then the object must expose a data buffer&#013;that will be decoded using the given encoding and error handler.&#013;Otherwise, returns the result of object.__str__() (if defined)&#013;or repr(object).&#013;encoding defaults to sys.getdefaultencoding().&#013;errors defaults to &#x27;strict&#x27;.\">formatted_upper</span> = (\n",
       "</code><p>Format may be used to insert values {}</p>\n",
       "<code style=\"white-space: pre;\" title=\"\">(<span style=\"border-bottom: 1px dotted gray;\" title=\"Type:        int&#013;String form: 42&#013;Docstring:  &#013;int(x=0) -&gt; integer&#013;int(x, base=10) -&gt; integer&#013;&#013;Convert a number or string to an integer, or return 0 if no arguments&#013;are given.  If x is a number, return x.__int__().  For floating point&#013;numbers, this truncates towards zero.&#013;&#013;If x is not a number or if base is given, then x must be a string,&#013;bytes, or bytearray instance representing an integer literal in the&#013;given base.  The literal can be preceded by &#x27;+&#x27; or &#x27;-&#x27; and be surrounded&#013;by whitespace.  The base defaults to 10.  Valid bases are 0 and 2-36.&#013;Base 0 means to interpret the base from the string as an integer literal.&#013;&gt;&gt;&gt; int(&#x27;0b100&#x27;, base=0)&#013;4\">value</span>).upper())\n",
       "\n",
       "assert <span style=\"border-bottom: 1px dotted gray;\" title=\"Docstring:&#013;S.endswith(suffix[, start[, end]]) -&gt; bool&#013;&#013;Return True if S ends with the specified suffix, False otherwise.&#013;With optional start, test S beginning at that position.&#013;With optional end, stop comparing S at that position.&#013;suffix can also be a tuple of strings to try.&#013;Type:      builtin_function_or_method\">formatted_upper.endswith</span>('42')\n",
       "</code>"
      ],
      "text/markdown": [
       "# Applying string methods\n",
       "\n",
       "Markdown inside parenthesis may have string methods applied.\n",
       "\n",
       "    value = 42\n",
       "    print(\n",
       "This string is inside parenthesis.  It will be `print`ed upper case.\n",
       "\n",
       "    .upper())\n",
       "\n",
       "    formatted_upper = (\n",
       "Format may be used to insert values {}\n",
       "\n",
       "    .format(value).upper())\n",
       "\n",
       "    assert formatted_upper.endswith('42')\n",
       "    "
      ],
      "text/plain": [
       "\"# Applying string methods\\n\\nMarkdown inside parenthesis may have string methods applied.\\n\\n    value = 42\\n    print(\\nThis string is inside parenthesis.  It will be `print`ed upper case.\\n\\n    .upper())\\n\\n    formatted_upper = (\\nFormat may be used to insert values {}\\n\\n    .format(value).upper())\\n\\n    assert formatted_upper.endswith('42')\\n    \""
      ]
     },
     "metadata": {},
     "output_type": "display_data"
    }
   ],
   "source": [
    "# Applying string methods\n",
    "\n",
    "Markdown inside parenthesis may have string methods applied.\n",
    "\n",
    "    value = 42\n",
    "    print(\n",
    "This string is inside parenthesis.  It will be `print`ed upper case.\n",
    "\n",
    "    .upper())\n",
    "\n",
    "    formatted_upper = (\n",
    "Format may be used to insert values {}\n",
    "\n",
    "    .format(value).upper())\n",
    "\n",
    "    assert formatted_upper.endswith('42')\n",
    "    "
   ]
  },
  {
   "cell_type": "code",
   "execution_count": 7,
   "metadata": {},
   "outputs": [
    {
     "data": {
      "text/plain": [
       "True"
      ]
     },
     "execution_count": 7,
     "metadata": {},
     "output_type": "execute_result"
    },
    {
     "data": {
      "text/html": [
       "<a href=\"#f-strings\"><h1 id=\"f-strings\">f strings</h1>\n",
       "</a>\n",
       "<code style=\"white-space: pre;\" title=\"\"><span style=\"border-bottom: 1px dotted gray;\" title=\"Type:        int&#013;String form: 42&#013;Docstring:  &#013;int(x=0) -&gt; integer&#013;int(x, base=10) -&gt; integer&#013;&#013;Convert a number or string to an integer, or return 0 if no arguments&#013;are given.  If x is a number, return x.__int__().  For floating point&#013;numbers, this truncates towards zero.&#013;&#013;If x is not a number or if base is given, then x must be a string,&#013;bytes, or bytearray instance representing an integer literal in the&#013;given base.  The literal can be preceded by &#x27;+&#x27; or &#x27;-&#x27; and be surrounded&#013;by whitespace.  The base defaults to 10.  Valid bases are 0 and 2-36.&#013;Base 0 means to interpret the base from the string as an integer literal.&#013;&gt;&gt;&gt; int(&#x27;0b100&#x27;, base=0)&#013;4\">value</span> = 42\n",
       "<span style=\"border-bottom: 1px dotted gray;\" title=\"Type:        str&#013;String form: Insert the a value in the `ffoo` as 42&#013;Length:      41&#013;Docstring:  &#013;str(object=&#x27;&#x27;) -&gt; str&#013;str(bytes_or_buffer[, encoding[, errors]]) -&gt; str&#013;&#013;Create a new string object from the given object. If encoding or&#013;errors is specified, then the object must expose a data buffer&#013;that will be decoded using the given encoding and error handler.&#013;Otherwise, returns the result of object.__str__() (if defined)&#013;or repr(object).&#013;encoding defaults to sys.getdefaultencoding().&#013;errors defaults to &#x27;strict&#x27;.\">ffoo</span> = F\"\"\"\n",
       "</code><p>Insert the a value in the <code><span style=\"border-bottom: 1px dotted gray;\" title=\"Type:        str&#013;String form: Insert the a value in the `ffoo` as 42&#013;Length:      41&#013;Docstring:  &#013;str(object=&#x27;&#x27;) -&gt; str&#013;str(bytes_or_buffer[, encoding[, errors]]) -&gt; str&#013;&#013;Create a new string object from the given object. If encoding or&#013;errors is specified, then the object must expose a data buffer&#013;that will be decoded using the given encoding and error handler.&#013;Otherwise, returns the result of object.__str__() (if defined)&#013;or repr(object).&#013;encoding defaults to sys.getdefaultencoding().&#013;errors defaults to &#x27;strict&#x27;.\">ffoo</span>\n",
       "</code> as {value}</p>\n",
       "<code style=\"white-space: pre;\" title=\"\">\"\"\"\n",
       "ffoo.rstrip().endswith(str(value))\n",
       "</code>"
      ],
      "text/markdown": [
       "# f strings\n",
       "\n",
       "    value = 42\n",
       "    ffoo = F\"\"\"\n",
       "Insert the a value in the `ffoo` as {value}\n",
       "\n",
       "    \"\"\"\n",
       "    ffoo.rstrip().endswith(str(value))"
      ],
      "text/plain": [
       "'# f strings\\n\\n    value = 42\\n    ffoo = F\"\"\"\\nInsert the a value in the `ffoo` as {value}\\n\\n    \"\"\"\\n    ffoo.rstrip().endswith(str(value))'"
      ]
     },
     "metadata": {},
     "output_type": "display_data"
    }
   ],
   "source": [
    "# f strings\n",
    "\n",
    "    value = 42\n",
    "    ffoo = F\"\"\"\n",
    "Insert the a value in the `ffoo` as {value}\n",
    "\n",
    "    \"\"\"\n",
    "    ffoo.rstrip().endswith(str(value))"
   ]
  },
  {
   "cell_type": "code",
   "execution_count": 8,
   "metadata": {},
   "outputs": [
    {
     "data": {
      "text/html": [
       "<a href=\"#literate-blocks\"><h2 id=\"literate-blocks\">Literate blocks</h2>\n",
       "</a>\n",
       "<p><code><span style=\"border-bottom: 1px dotted gray;\" title=\"Type:        module&#013;String form: &lt;module &#x27;pidgin&#x27; from &#x27;&#x27;&lt;safe path&gt;__init__.py&#x27;&#x27;&gt;&#013;File:        &#x27;&lt;safe path&gt;__init__.py&#x27;&#013;Docstring:   &lt;no docstring&gt;\">pidgin</span>\n",
       "</code> permits an author to explicitly wrapped their Markdown in quotes.</p>\n",
       "<code style=\"white-space: pre;\" title=\"\"><span style=\"border-bottom: 1px dotted gray;\" title=\"Type:        list&#013;String form: [&#x27;&#x27;, &#x27;I am the string.&#x27;, &#x27;&#x27;]&#013;Length:      3&#013;Docstring:  &#013;list() -&gt; new empty list&#013;list(iterable) -&gt; new list initialized from iterable&#x27;s items\">wrapped_foo_lines</span> = \"\"\"\n",
       "</code><p>I am the string.</p>\n",
       "<code style=\"white-space: pre;\" title=\"\">\"\"\".splitlines()\n",
       "assert not wrapped_foo_lines[0].strip()\n",
       "assert any(map(str.strip, wrapped_foo_lines))\n",
       "</code><p>To include a first line in a literal block the author will have to concat the lines like below.</p>\n",
       "<code style=\"white-space: pre;\" title=\"\"><span style=\"border-bottom: 1px dotted gray;\" title=\"Type:        str&#013;String form:&#013;The first line&#013;I&#x27;m in the block&#013;Length:      33&#013;Docstring:  &#013;str(object=&#x27;&#x27;) -&gt; str&#013;str(bytes_or_buffer[, encoding[, errors]]) -&gt; str&#013;&#013;Create a new string object from the given object. If encoding or&#013;errors is specified, then the object must expose a data buffer&#013;that will be decoded using the given encoding and error handler.&#013;Otherwise, returns the result of object.__str__() (if defined)&#013;or repr(object).&#013;encoding defaults to sys.getdefaultencoding().&#013;errors defaults to &#x27;strict&#x27;.\">wrapped_foo_first_line</span> = \"The first line\" \"\"\"\n",
       "</code><p>I'm in the block</p>\n",
       "<code style=\"white-space: pre;\" title=\"\">\"\"\"\n",
       "assert wrapped_foo_first_line.startswith('The')\n",
       "assert wrapped_foo_first_line.splitlines()[1].strip()\n",
       "</code>"
      ],
      "text/markdown": [
       "## Literate blocks\n",
       "\n",
       "`pidgin` permits an author to explicitly wrapped their Markdown in quotes.\n",
       "\n",
       "    wrapped_foo_lines = \"\"\"\n",
       "I am the string.\n",
       "\n",
       "    \"\"\".splitlines()\n",
       "    assert not wrapped_foo_lines[0].strip()\n",
       "    assert any(map(str.strip, wrapped_foo_lines))\n",
       "\n",
       "To include a first line in a literal block the author will have to concat the lines like below.\n",
       "\n",
       "    wrapped_foo_first_line = \"The first line\" \"\"\"\n",
       "I'm in the block\n",
       "\n",
       "    \"\"\"\n",
       "    assert wrapped_foo_first_line.startswith('The')\n",
       "    assert wrapped_foo_first_line.splitlines()[1].strip()"
      ],
      "text/plain": [
       "'## Literate blocks\\n\\n`pidgin` permits an author to explicitly wrapped their Markdown in quotes.\\n\\n    wrapped_foo_lines = \"\"\"\\nI am the string.\\n\\n    \"\"\".splitlines()\\n    assert not wrapped_foo_lines[0].strip()\\n    assert any(map(str.strip, wrapped_foo_lines))\\n\\nTo include a first line in a literal block the author will have to concat the lines like below.\\n\\n    wrapped_foo_first_line = \"The first line\" \"\"\"\\nI\\'m in the block\\n\\n    \"\"\"\\n    assert wrapped_foo_first_line.startswith(\\'The\\')\\n    assert wrapped_foo_first_line.splitlines()[1].strip()'"
      ]
     },
     "metadata": {},
     "output_type": "display_data"
    }
   ],
   "source": [
    "## Literate blocks\n",
    "\n",
    "`pidgin` permits an author to explicitly wrapped their Markdown in quotes.\n",
    "\n",
    "    wrapped_foo_lines = \"\"\"\n",
    "I am the string.\n",
    "\n",
    "    \"\"\".splitlines()\n",
    "    assert not wrapped_foo_lines[0].strip()\n",
    "    assert any(map(str.strip, wrapped_foo_lines))\n",
    "\n",
    "To include a first line in a literal block the author will have to concat the lines like below.\n",
    "\n",
    "    wrapped_foo_first_line = \"The first line\" \"\"\"\n",
    "I'm in the block\n",
    "\n",
    "    \"\"\"\n",
    "    assert wrapped_foo_first_line.startswith('The')\n",
    "    assert wrapped_foo_first_line.splitlines()[1].strip()"
   ]
  },
  {
   "cell_type": "code",
   "execution_count": 9,
   "metadata": {},
   "outputs": [
    {
     "data": {
      "text/plain": [
       "True"
      ]
     },
     "execution_count": 9,
     "metadata": {},
     "output_type": "execute_result"
    },
    {
     "data": {
      "text/html": [
       "<p>Combining literate and normal blocks</p>\n",
       "<code style=\"white-space: pre;\" title=\"\"><span style=\"border-bottom: 1px dotted gray;\" title=\"Type:        str&#013;String form:&#013;String with a literal string&#013;&#013;And concat an normal markdown block&#013;Length:      66&#013;Docstring:  &#013;str(object=&#x27;&#x27;) -&gt; str&#013;str(bytes_or_buffer[, encoding[, errors]]) -&gt; str&#013;&#013;Create a new string object from the given object. If encoding or&#013;errors is specified, then the object must expose a data buffer&#013;that will be decoded using the given encoding and error handler.&#013;Otherwise, returns the result of object.__str__() (if defined)&#013;or repr(object).&#013;encoding defaults to sys.getdefaultencoding().&#013;errors defaults to &#x27;strict&#x27;.\">combo_string</span> = \"\"\"\n",
       "</code><p>String with a literal string</p>\n",
       "<code style=\"white-space: pre;\" title=\"\">\"\"\" \\\n",
       "</code><p>And concat an normal markdown block</p>\n",
       "<code style=\"white-space: pre;\" title=\"\"><span style=\"border-bottom: 1px dotted gray;\" title=\"Docstring:&#013;S.endswith(suffix[, start[, end]]) -&gt; bool&#013;&#013;Return True if S ends with the specified suffix, False otherwise.&#013;With optional start, test S beginning at that position.&#013;With optional end, stop comparing S at that position.&#013;suffix can also be a tuple of strings to try.&#013;Type:      builtin_function_or_method\">combo_string.endswith</span>('block')\n",
       "</code>"
      ],
      "text/markdown": [
       "Combining literate and normal blocks\n",
       "\n",
       "    combo_string = \"\"\"\n",
       "String with a literal string\n",
       "\n",
       "    \"\"\" \\\n",
       "And concat an normal markdown block\n",
       "    \n",
       "    combo_string.endswith('block')"
      ],
      "text/plain": [
       "'Combining literate and normal blocks\\n\\n    combo_string = \"\"\"\\nString with a literal string\\n\\n    \"\"\" \\\\\\nAnd concat an normal markdown block\\n    \\n    combo_string.endswith(\\'block\\')'"
      ]
     },
     "metadata": {},
     "output_type": "display_data"
    }
   ],
   "source": [
    "Combining literate and normal blocks\n",
    "\n",
    "    combo_string = \"\"\"\n",
    "String with a literal string\n",
    "\n",
    "    \"\"\" \\\n",
    "And concat an normal markdown block\n",
    "    \n",
    "    combo_string.endswith('block')"
   ]
  },
  {
   "cell_type": "code",
   "execution_count": 10,
   "metadata": {},
   "outputs": [
    {
     "data": {
      "text/html": [
       "<p>Following a markdown block with a literal block must happen in parenthesis.</p>\n",
       "<code style=\"white-space: pre;\" title=\"\"><span style=\"border-bottom: 1px dotted gray;\" title=\"Type:        str&#013;String form:&#013;Markdown starts the string&#013;    This literal is injected into the string&#013;&#013;    A normal markdown string follows a line continuation otherwise &#013;    it is not wrapped in quotes.&#013;Length:      173&#013;Docstring:  &#013;str(object=&#x27;&#x27;) -&gt; str&#013;str(bytes_or_buffer[, encoding[, errors]]) -&gt; str&#013;&#013;Create a new string object from the given object. If encoding or&#013;errors is specified, then the object must expose a data buffer&#013;that will be decoded using the given encoding and error handler.&#013;Otherwise, returns the result of object.__str__() (if defined)&#013;or repr(object).&#013;encoding defaults to sys.getdefaultencoding().&#013;errors defaults to &#x27;strict&#x27;.\">combo_md_first</span> = (\n",
       "</code><p>Markdown starts the string</p>\n",
       "<code style=\"white-space: pre;\" title=\"\">    \"\"\"\n",
       "</code><p>This literal is injected into the string</p>\n",
       "<code style=\"white-space: pre;\" title=\"\">    \"\"\" \\\n",
       "</code><p>A normal markdown string follows a line continuation otherwise \n",
       "it is not wrapped in quotes.</p>\n",
       "<code style=\"white-space: pre;\" title=\"\">)\n",
       "</code>"
      ],
      "text/markdown": [
       "Following a markdown block with a literal block must happen in parenthesis.\n",
       "\n",
       "    combo_md_first = (\n",
       "Markdown starts the string\n",
       "\n",
       "        \"\"\"\n",
       "This literal is injected into the string\n",
       "\n",
       "        \"\"\" \\\n",
       "A normal markdown string follows a line continuation otherwise \n",
       "it is not wrapped in quotes.\n",
       "\n",
       "    )"
      ],
      "text/plain": [
       "'Following a markdown block with a literal block must happen in parenthesis.\\n\\n    combo_md_first = (\\nMarkdown starts the string\\n\\n        \"\"\"\\nThis literal is injected into the string\\n\\n        \"\"\" \\\\\\nA normal markdown string follows a line continuation otherwise \\nit is not wrapped in quotes.\\n\\n    )'"
      ]
     },
     "metadata": {},
     "output_type": "display_data"
    }
   ],
   "source": [
    "Following a markdown block with a literal block must happen in parenthesis.\n",
    "\n",
    "    combo_md_first = (\n",
    "Markdown starts the string\n",
    "\n",
    "        \"\"\"\n",
    "This literal is injected into the string\n",
    "\n",
    "        \"\"\" \\\n",
    "A normal markdown string follows a line continuation otherwise \n",
    "it is not wrapped in quotes.\n",
    "\n",
    "    )"
   ]
  },
  {
   "cell_type": "code",
   "execution_count": 11,
   "metadata": {},
   "outputs": [],
   "source": [
    "    import unittest"
   ]
  },
  {
   "cell_type": "code",
   "execution_count": 12,
   "metadata": {},
   "outputs": [
    {
     "data": {
      "text/html": [
       "<p><strong>Markdown</strong> can be used to annotate classses.</p>\n",
       "<code style=\"white-space: pre;\" title=\"\">class <span style=\"border-bottom: 1px dotted gray;\" title=\"Init signature: MarkdownDocstrings(methodName=&#x27;runTest&#x27;)&#013;Docstring:      I am the markdown docstring.&#013;Init docstring:&#013;Create an instance of the class that will use the named test&#013;method when executed. Raises a ValueError if the instance does&#013;not have a method with the specified name.&#013;Type:           type\">MarkdownDocstrings</span>(<span style=\"border-bottom: 1px dotted gray;\" title=\"Init signature: unittest.TestCase(methodName=&#x27;runTest&#x27;)&#013;Docstring:     &#013;A class whose instances are single test cases.&#013;&#013;By default, the test code itself should be placed in a method named&#013;&#x27;runTest&#x27;.&#013;&#013;If the fixture may be used for many test cases, create as&#013;many test methods as are needed. When instantiating such a TestCase&#013;subclass, specify in the constructor arguments the name of the test method&#013;that the instance is to execute.&#013;&#013;Test authors should subclass TestCase for their own tests. Construction&#013;and deconstruction of the test&#x27;s environment (&#x27;fixture&#x27;) can be&#013;implemented by overriding the &#x27;setUp&#x27; and &#x27;tearDown&#x27; methods respectively.&#013;&#013;If it is necessary to override the __init__ method, the base class&#013;__init__ method must always be called. It is important that subclasses&#013;should not change the signature of their __init__ method, since instances&#013;of the classes are instantiated automatically by parts of the framework&#013;in order to be run.&#013;&#013;When subclassing TestCase, you can set these attributes:&#013;* failureException: determines which exception will be raised when&#013;    the instance&#x27;s assertion methods fail; test methods raising this&#013;    exception will be deemed to have &#x27;failed&#x27; rather than &#x27;errored&#x27;.&#013;* longMessage: determines whether long messages (including repr of&#013;    objects used in assert methods) will be printed on failure in *addition*&#013;    to any explicit message passed.&#013;* maxDiff: sets the maximum length of a diff in failure messages&#013;    by assert methods using difflib. It is looked up as an instance&#013;    attribute so can be configured by individual tests if required.&#013;Init docstring:&#013;Create an instance of the class that will use the named test&#013;method when executed. Raises a ValueError if the instance does&#013;not have a method with the specified name.&#013;File:           &#x27;&lt;safe path&gt;case.py&#x27;&#013;Type:           type\">unittest.TestCase</span>):\n",
       "</code><p>I am the markdown docstring.</p>\n",
       "<code style=\"white-space: pre;\" title=\"\">    def test_markdown_string(self):\n",
       "</code><p><code><span style=\"border-bottom: 1px dotted gray;\" title=\"Signature: MarkdownDocstrings.test_markdown_string(self)&#013;Docstring: `MarkdownDocstrings.test_markdown_string` tests that the class and function docstrings were set.&#013;File:      c:\\users\\deathbeds\\pidgin\\src\\pidgin\\docs\\&lt;ipython-input-12-1bc4f55fd64b&gt;&#013;Type:      function\">MarkdownDocstrings.test_markdown_string</span>\n",
       "</code> tests that the class and function docstrings were set.</p>\n",
       "<code style=\"white-space: pre;\" title=\"\">        assert self('I am the')\n",
       "        assert self(\n",
       "</code><p><code><span style=\"border-bottom: 1px dotted gray;\" title=\"Signature: MarkdownDocstrings.test_markdown_string(self)&#013;Docstring: `MarkdownDocstrings.test_markdown_string` tests that the class and function docstrings were set.&#013;File:      c:\\users\\deathbeds\\pidgin\\src\\pidgin\\docs\\&lt;ipython-input-12-1bc4f55fd64b&gt;&#013;Type:      function\">MarkdownDocstrings.test_markdown_string</span>\n",
       "</code></p>\n",
       "<code style=\"white-space: pre;\" title=\"\">        )\n",
       "</code>"
      ],
      "text/markdown": [
       "__Markdown__ can be used to annotate classses.\n",
       "\n",
       "    class MarkdownDocstrings(unittest.TestCase):\n",
       "I am the markdown docstring.\n",
       "\n",
       "        def test_markdown_string(self):\n",
       "`MarkdownDocstrings.test_markdown_string` tests that the class and function docstrings were set.\n",
       "\n",
       "            assert self.__doc__.startswith('I am the')\n",
       "            assert self.test_markdown_string.__doc__.startswith(\n",
       "`MarkdownDocstrings.test_markdown_string`\n",
       "\n",
       "            )"
      ],
      "text/plain": [
       "\"__Markdown__ can be used to annotate classses.\\n\\n    class MarkdownDocstrings(unittest.TestCase):\\nI am the markdown docstring.\\n\\n        def test_markdown_string(self):\\n`MarkdownDocstrings.test_markdown_string` tests that the class and function docstrings were set.\\n\\n            assert self.__doc__.startswith('I am the')\\n            assert self.test_markdown_string.__doc__.startswith(\\n`MarkdownDocstrings.test_markdown_string`\\n\\n            )\""
      ]
     },
     "metadata": {},
     "output_type": "display_data"
    }
   ],
   "source": [
    "__Markdown__ can be used to annotate classses.\n",
    "\n",
    "    class MarkdownDocstrings(unittest.TestCase):\n",
    "I am the markdown docstring.\n",
    "\n",
    "        def test_markdown_string(self):\n",
    "`MarkdownDocstrings.test_markdown_string` tests that the class and function docstrings were set.\n",
    "\n",
    "            assert self.__doc__.startswith('I am the')\n",
    "            assert self.test_markdown_string.__doc__.startswith(\n",
    "`MarkdownDocstrings.test_markdown_string`\n",
    "\n",
    "            )"
   ]
  },
  {
   "cell_type": "code",
   "execution_count": 13,
   "metadata": {},
   "outputs": [
    {
     "name": "stdout",
     "output_type": "stream",
     "text": [
      "run me\n"
     ]
    },
    {
     "data": {
      "text/html": [
       "<code style=\"white-space: pre;\" title=\"\"><span style=\"border-bottom: 1px dotted gray;\" title=\"Type:        str&#013;String form:&#013;We should be able to use blocks quotes&#013;&#013;&gt; Ya heard?&#013;Length:      51&#013;Docstring:  &#013;str(object=&#x27;&#x27;) -&gt; str&#013;str(bytes_or_buffer[, encoding[, errors]]) -&gt; str&#013;&#013;Create a new string object from the given object. If encoding or&#013;errors is specified, then the object must expose a data buffer&#013;that will be decoded using the given encoding and error handler.&#013;Otherwise, returns the result of object.__str__() (if defined)&#013;or repr(object).&#013;encoding defaults to sys.getdefaultencoding().&#013;errors defaults to &#x27;strict&#x27;.\">endswith_block_quote</span> = \\\n",
       "</code><p>We should be able to use blocks quotes</p>\n",
       "<blockquote><p>Ya heard?</p>\n",
       "</blockquote>\n",
       "<code style=\"white-space: pre;\" title=\"\">\n",
       "assert print(\n",
       "</code><p>run me</p>\n",
       "<code style=\"white-space: pre;\" title=\"\">) or <span style=\"border-bottom: 1px dotted gray;\" title=\"Docstring:&#013;S.splitlines([keepends]) -&gt; list of strings&#013;&#013;Return a list of the lines in S, breaking at line boundaries.&#013;Line breaks are not included in the resulting list unless keepends&#013;is given and true.&#013;Type:      builtin_function_or_method\">endswith_block_quote.splitlines</span>()[-1].startswith('> ')\n",
       "</code>"
      ],
      "text/markdown": [
       "    endswith_block_quote = \\\n",
       "We should be able to use blocks quotes\n",
       "\n",
       "> Ya heard?\n",
       "\n",
       "    ...\n",
       "\n",
       "    assert print(\n",
       "run me\n",
       "\n",
       "    ) or endswith_block_quote.splitlines()[-1].startswith('> ')"
      ],
      "text/plain": [
       "\"    endswith_block_quote = \\\\\\nWe should be able to use blocks quotes\\n\\n> Ya heard?\\n\\n    ...\\n\\n    assert print(\\nrun me\\n\\n    ) or endswith_block_quote.splitlines()[-1].startswith('> ')\""
      ]
     },
     "metadata": {},
     "output_type": "display_data"
    }
   ],
   "source": [
    "    endswith_block_quote = \\\n",
    "We should be able to use blocks quotes\n",
    "\n",
    "> Ya heard?\n",
    "\n",
    "    ...\n",
    "\n",
    "    assert print(\n",
    "run me\n",
    "\n",
    "    ) or endswith_block_quote.splitlines()[-1].startswith('> ')"
   ]
  },
  {
   "cell_type": "code",
   "execution_count": 14,
   "metadata": {},
   "outputs": [
    {
     "data": {
      "text/html": [
       "<p>Story typing is a form a type annotations that uses string annotation to describe variables.</p>\n",
       "<code style=\"white-space: pre;\" title=\"\">def <span style=\"border-bottom: 1px dotted gray;\" title=\"Signature: a_normal_story_typed_function(foo:&#x27;foo is a variable&#x27;, bar:&#x27;bar is another variable from somewhere&#x27;) -&gt; &#x27;a_normal_story_typed_function return nothing!&#x27;&#013;Docstring: &lt;no docstring&gt;&#013;Source:   &#013;def a_normal_story_typed_function(&#013;    foo: &quot;foo is a variable&quot;,&#013;    bar: &quot;bar is another variable from somewhere&quot;&#013;) -&gt; &quot;a_normal_story_typed_function return nothing!&quot;: ...&#013;File:      c:\\users\\deathbeds\\pidgin\\src\\pidgin\\docs\\&lt;ipython-input-14-6ba18c5dcf1d&gt;&#013;Type:      function\">a_normal_story_typed_function</span>(\n",
       "    <span style=\"border-bottom: 1px dotted gray;\" title=\"Type:        str&#013;String form:&#013;A line continuation can be used to define a variable &#013;with the __Markdown__ content following it&#013;&#013;Carriage returns are allowed.&#013;Length:      127&#013;Docstring:  &#013;str(object=&#x27;&#x27;) -&gt; str&#013;str(bytes_or_buffer[, encoding[, errors]]) -&gt; str&#013;&#013;Create a new string object from the given object. If encoding or&#013;errors is specified, then the object must expose a data buffer&#013;that will be decoded using the given encoding and error handler.&#013;Otherwise, returns the result of object.__str__() (if defined)&#013;or repr(object).&#013;encoding defaults to sys.getdefaultencoding().&#013;errors defaults to &#x27;strict&#x27;.\">foo</span>: \"foo is a variable\",\n",
       "    <span style=\"border-bottom: 1px dotted gray;\" title=\"Type:        str&#013;String form: code breaks the string and the next line is evaluated.&#013;Length:      54&#013;Docstring:  &#013;str(object=&#x27;&#x27;) -&gt; str&#013;str(bytes_or_buffer[, encoding[, errors]]) -&gt; str&#013;&#013;Create a new string object from the given object. If encoding or&#013;errors is specified, then the object must expose a data buffer&#013;that will be decoded using the given encoding and error handler.&#013;Otherwise, returns the result of object.__str__() (if defined)&#013;or repr(object).&#013;encoding defaults to sys.getdefaultencoding().&#013;errors defaults to &#x27;strict&#x27;.\">bar</span>: \"bar is another variable from somewhere\"\n",
       ") -> \"a_normal_story_typed_function return nothing!\": ...\n",
       "</code><p><code><span style=\"border-bottom: 1px dotted gray;\" title=\"Type:        module&#013;String form: &lt;module &#x27;pidgin&#x27; from &#x27;&#x27;&lt;safe path&gt;__init__.py&#x27;&#x27;&gt;&#013;File:        &#x27;&lt;safe path&gt;__init__.py&#x27;&#013;Docstring:   &lt;no docstring&gt;\">pidgin</span>\n",
       "</code> allows a longer version of storytyping that renders as markdown.</p>\n",
       "<code style=\"white-space: pre;\" title=\"\">def <span style=\"border-bottom: 1px dotted gray;\" title=\"Signature: story_typed_function(foo:&#x27;A string annotation for __foo__&#x27;, bar:&#x27;Another annotation for bar with a default value&#x27;=10) -&gt; &#x27;\\n     return annotations will require a block string\\n\\n&#x27;&#013;Source:   &#013;def story_typed_function(foo:\\&#013;      &quot;&quot;&quot;A string annotation for __foo__&quot;&quot;&quot;&#013;&#013;      , bar:\\&#013;      &quot;&quot;&quot;Another annotation for bar with a default value&quot;&quot;&quot;&#013;&#013;     = 10 &#013;     )-&gt; &quot;&quot;&quot;&#013;     return annotations will require a block string&#013;&#013;&quot;&quot;&quot;:&#013;    &quot;&quot;&quot;The docstring is here&quot;&quot;&quot;&#013;File:      c:\\users\\deathbeds\\pidgin\\src\\pidgin\\docs\\&lt;ipython-input-14-6ba18c5dcf1d&gt;&#013;Type:      function\">story_typed_function</span>(<span style=\"border-bottom: 1px dotted gray;\" title=\"Type:        str&#013;String form:&#013;A line continuation can be used to define a variable &#013;with the __Markdown__ content following it&#013;&#013;Carriage returns are allowed.&#013;Length:      127&#013;Docstring:  &#013;str(object=&#x27;&#x27;) -&gt; str&#013;str(bytes_or_buffer[, encoding[, errors]]) -&gt; str&#013;&#013;Create a new string object from the given object. If encoding or&#013;errors is specified, then the object must expose a data buffer&#013;that will be decoded using the given encoding and error handler.&#013;Otherwise, returns the result of object.__str__() (if defined)&#013;or repr(object).&#013;encoding defaults to sys.getdefaultencoding().&#013;errors defaults to &#x27;strict&#x27;.\">foo</span>:\\\n",
       "</code><p>A string annotation for <strong>foo</strong></p>\n",
       "<code style=\"white-space: pre;\" title=\"\">      , <span style=\"border-bottom: 1px dotted gray;\" title=\"Type:        str&#013;String form: code breaks the string and the next line is evaluated.&#013;Length:      54&#013;Docstring:  &#013;str(object=&#x27;&#x27;) -&gt; str&#013;str(bytes_or_buffer[, encoding[, errors]]) -&gt; str&#013;&#013;Create a new string object from the given object. If encoding or&#013;errors is specified, then the object must expose a data buffer&#013;that will be decoded using the given encoding and error handler.&#013;Otherwise, returns the result of object.__str__() (if defined)&#013;or repr(object).&#013;encoding defaults to sys.getdefaultencoding().&#013;errors defaults to &#x27;strict&#x27;.\">bar</span>:\\\n",
       "</code><p>Another annotation for bar with a default value</p>\n",
       "<code style=\"white-space: pre;\" title=\"\">     = 10 \n",
       "     )-> \"\"\"\n",
       "</code><p>return annotations will require a block string</p>\n",
       "<code style=\"white-space: pre;\" title=\"\">\"\"\":\n",
       "</code><p>The docstring is here</p>\n",
       "<code style=\"white-space: pre;\" title=\"\">def <span style=\"border-bottom: 1px dotted gray;\" title=\"Signature: test_story_typing()&#013;Docstring: &lt;no docstring&gt;&#013;Source:   &#013;def test_story_typing():&#013;    assert  all(map(story_typed_function.__annotations__.__contains__, &#013;        &quot;&quot;&quot;foo bar return&quot;&quot;&quot;&#013;&#013;        .split()))&#013;    assert story_typed_function.__doc__&#013;File:      c:\\users\\deathbeds\\pidgin\\src\\pidgin\\docs\\&lt;ipython-input-14-6ba18c5dcf1d&gt;&#013;Type:      function\">test_story_typing</span>():\n",
       "    assert  all(map(<span style=\"border-bottom: 1px dotted gray;\" title=\"Signature: story_typed_function.__annotations__.__contains__(key, /)&#013;Docstring: True if D has a key k, else False.&#013;Type:      builtin_function_or_method\">story_typed_function.__annotations__.__contains__</span>, \n",
       "</code><p>foo bar return</p>\n",
       "<code style=\"white-space: pre;\" title=\"\">        ()))\n",
       "    assert <span style=\"border-bottom: 1px dotted gray;\" title=\"Type:        str&#013;String form: The docstring is here&#013;Length:      21&#013;Docstring:  &#013;str(object=&#x27;&#x27;) -&gt; str&#013;str(bytes_or_buffer[, encoding[, errors]]) -&gt; str&#013;&#013;Create a new string object from the given object. If encoding or&#013;errors is specified, then the object must expose a data buffer&#013;that will be decoded using the given encoding and error handler.&#013;Otherwise, returns the result of object.__str__() (if defined)&#013;or repr(object).&#013;encoding defaults to sys.getdefaultencoding().&#013;errors defaults to &#x27;strict&#x27;.\">story_typed_function.__doc__</span>\n",
       "</code>"
      ],
      "text/markdown": [
       "Story typing is a form a type annotations that uses string annotation to describe variables. \n",
       "\n",
       "    def a_normal_story_typed_function(\n",
       "        foo: \"foo is a variable\",\n",
       "        bar: \"bar is another variable from somewhere\"\n",
       "    ) -> \"a_normal_story_typed_function return nothing!\": ...\n",
       "\n",
       "`pidgin` allows a longer version of storytyping that renders as markdown.\n",
       "\n",
       "    def story_typed_function(foo:\\\n",
       "A string annotation for __foo__\n",
       "\n",
       "          , bar:\\\n",
       "Another annotation for bar with a default value\n",
       "\n",
       "         = 10 \n",
       "         )-> \"\"\"\n",
       "return annotations will require a block string\n",
       "\n",
       "    \"\"\":\n",
       "The docstring is here\n",
       "\n",
       "    def test_story_typing():\n",
       "        assert  all(map(story_typed_function.__annotations__.__contains__, \n",
       "foo bar return\n",
       "\n",
       "            .split()))\n",
       "        assert story_typed_function.__doc__"
      ],
      "text/plain": [
       "'Story typing is a form a type annotations that uses string annotation to describe variables. \\n\\n    def a_normal_story_typed_function(\\n        foo: \"foo is a variable\",\\n        bar: \"bar is another variable from somewhere\"\\n    ) -> \"a_normal_story_typed_function return nothing!\": ...\\n\\n`pidgin` allows a longer version of storytyping that renders as markdown.\\n\\n    def story_typed_function(foo:\\\\\\nA string annotation for __foo__\\n\\n          , bar:\\\\\\nAnother annotation for bar with a default value\\n\\n         = 10 \\n         )-> \"\"\"\\nreturn annotations will require a block string\\n\\n    \"\"\":\\nThe docstring is here\\n\\n    def test_story_typing():\\n        assert  all(map(story_typed_function.__annotations__.__contains__, \\nfoo bar return\\n\\n            .split()))\\n        assert story_typed_function.__doc__'"
      ]
     },
     "metadata": {},
     "output_type": "display_data"
    }
   ],
   "source": [
    "Story typing is a form a type annotations that uses string annotation to describe variables. \n",
    "\n",
    "    def a_normal_story_typed_function(\n",
    "        foo: \"foo is a variable\",\n",
    "        bar: \"bar is another variable from somewhere\"\n",
    "    ) -> \"a_normal_story_typed_function return nothing!\": ...\n",
    "\n",
    "`pidgin` allows a longer version of storytyping that renders as markdown.\n",
    "\n",
    "    def story_typed_function(foo:\\\n",
    "A string annotation for __foo__\n",
    "\n",
    "          , bar:\\\n",
    "Another annotation for bar with a default value\n",
    "\n",
    "         = 10 \n",
    "         )-> \"\"\"\n",
    "return annotations will require a block string\n",
    "\n",
    "    \"\"\":\n",
    "The docstring is here\n",
    "\n",
    "    def test_story_typing():\n",
    "        assert  all(map(story_typed_function.__annotations__.__contains__, \n",
    "foo bar return\n",
    "\n",
    "            .split()))\n",
    "        assert story_typed_function.__doc__"
   ]
  }
 ],
 "metadata": {
  "kernelspec": {
   "display_name": "Python 3",
   "language": "python",
   "name": "python3"
  },
  "language_info": {
   "codemirror_mode": {
    "name": "ipython",
    "version": 3
   },
   "file_extension": ".py",
   "mimetype": "text/x-python",
   "name": "python",
   "nbconvert_exporter": "python",
   "pygments_lexer": "ipython3",
   "version": "3.6.6"
  },
  "nikola": {
   "author": "Tony Fast",
   "date": "2018-12-05 16:43:43 UTC",
   "description": "This notebook illustrates how __Markdown__ strings may blend with __Python__ using `pidgin`.\n\n    import pidgin",
   "slug": "markdown strings.md.ipynb",
   "title": "markdown strings.md.ipynb",
   "type": "text"
  }
 },
 "nbformat": 4,
 "nbformat_minor": 2
}
