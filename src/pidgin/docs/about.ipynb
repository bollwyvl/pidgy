{
 "cells": [
  {
   "cell_type": "markdown",
   "metadata": {},
   "source": [
    "An introduction to `pidgin`"
   ]
  },
  {
   "cell_type": "code",
   "execution_count": 1,
   "metadata": {},
   "outputs": [],
   "source": [
    "    %load_ext pidgin"
   ]
  },
  {
   "cell_type": "code",
   "execution_count": 2,
   "metadata": {},
   "outputs": [],
   "source": [
    "    import pidgin, IPython, nbconvert"
   ]
  },
  {
   "cell_type": "code",
   "execution_count": 3,
   "metadata": {},
   "outputs": [
    {
     "data": {
      "text/html": [
       "<div class=\"highlight\" style=\"background: #f8f8f8\"><pre style=\"line-height: 125%\"><span></span><span style=\"color: #BA2121; font-style: italic\">&quot;&quot;&quot;`pidgin` is a modified interactive __Python__ shell for literate programming.&quot;&quot;&quot;</span>;\n",
       "</pre></div>\n"
      ],
      "text/plain": [
       "<IPython.core.display.HTML object>"
      ]
     },
     "execution_count": 3,
     "metadata": {},
     "output_type": "execute_result"
    }
   ],
   "source": [
    "%%markdown_to_python\n",
    "`pidgin` is a modified interactive __Python__ shell for literate programming."
   ]
  },
  {
   "cell_type": "code",
   "execution_count": 4,
   "metadata": {},
   "outputs": [
    {
     "data": {
      "text/html": [
       "<pre><code>&gt;&gt;&gt; with IPython.utils.capture.capture_output() as out:\n",
       "...      IPython.get_ipython().weave(\"\"\"A `module` that doesn't exist.\"\"\")\n",
       "</code></pre>\n",
       "<pre><code>&gt;&gt;&gt; nbconvert.filters.strip_ansi(out.stdout)\n",
       "\"...NameError...&lt;ipython-input-1-...&gt; in &lt;module&gt;\\n----&gt; 1 module\\n\\nNameError: name 'module' is not defined\\n\"\n",
       "</code></pre>\n"
      ],
      "text/plain": [
       "<IPython.core.display.HTML object>"
      ]
     },
     "metadata": {},
     "output_type": "display_data"
    }
   ],
   "source": [
    ">>> with IPython.utils.capture.capture_output() as out:\n",
    "...      IPython.get_ipython().weave(\"\"\"A `module` that doesn't exist.\"\"\")\n",
    ">>> nbconvert.filters.strip_ansi(out.stdout)\n",
    "\"...NameError...<ipython-input-1-...> in <module>\\n----> 1 module\\n\\nNameError: name 'module' is not defined\\n\""
   ]
  },
  {
   "cell_type": "code",
   "execution_count": 5,
   "metadata": {},
   "outputs": [
    {
     "data": {
      "text/html": [
       "<pre><code>&gt;&gt;&gt; with IPython.utils.capture.capture_output() as out:\n",
       "...      IPython.get_ipython().test(\"\"\"&gt;&gt;&gt; True\"\"\")\n",
       "</code></pre>\n",
       "<pre><code>&gt;&gt;&gt; nbconvert.filters.strip_ansi(out.stdout)\n",
       "'...\\nLine 1, in __main__\\nFailed example:\\n    True\\nExpected nothing\\nGot:\\n    True\\n'\n",
       "</code></pre>\n"
      ],
      "text/plain": [
       "<IPython.core.display.HTML object>"
      ]
     },
     "metadata": {},
     "output_type": "display_data"
    }
   ],
   "source": [
    ">>> with IPython.utils.capture.capture_output() as out:\n",
    "...      IPython.get_ipython().test(\"\"\">>> True\"\"\")\n",
    ">>> nbconvert.filters.strip_ansi(out.stdout)\n",
    "'...\\nLine 1, in __main__\\nFailed example:\\n    True\\nExpected nothing\\nGot:\\n    True\\n'"
   ]
  }
 ],
 "metadata": {
  "kernelspec": {
   "display_name": "p6",
   "language": "python",
   "name": "other-env"
  },
  "language_info": {
   "codemirror_mode": {
    "name": "ipython",
    "version": 3
   },
   "file_extension": ".py",
   "mimetype": "text/x-python",
   "name": "python",
   "nbconvert_exporter": "python",
   "pygments_lexer": "ipython3",
   "version": "3.6.8"
  }
 },
 "nbformat": 4,
 "nbformat_minor": 4
}
