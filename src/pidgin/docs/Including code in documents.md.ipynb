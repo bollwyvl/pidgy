{
 "cells": [
  {
   "cell_type": "markdown",
   "metadata": {},
   "source": [
    "`\"Including code in documents.md.ipynb\"` demonstrates and tests how code may be tangled into inline code, block code, and templates."
   ]
  },
  {
   "cell_type": "code",
   "execution_count": 1,
   "metadata": {},
   "outputs": [],
   "source": [
    "    %reload_ext pidgin"
   ]
  },
  {
   "cell_type": "code",
   "execution_count": 2,
   "metadata": {},
   "outputs": [
    {
     "data": {
      "text/html": [
       "<p>Computational essays will include code in <strong>Markdown</strong> as:</p>\n",
       "<ul>\n",
       "<li><p>Block code</p>\n",
       "</li>\n",
       "<li><p>Inline code</p>\n",
       "</li>\n",
       "<li><p>Template code</p>\n",
       "</li>\n",
       "</ul>\n",
       "<p><code><span style=\"border-bottom: 1px dotted gray;\" title=\"Type:        module&#013;String form: &lt;module &#x27;pidgin&#x27; from &#x27;c:\\\\users\\\\deathbeds\\\\pidgin\\\\src\\\\pidgin\\\\__init__.py&#x27;&gt;&#013;File:        c:\\users\\deathbeds\\pidgin\\src\\pidgin\\__init__.py&#013;Docstring:   &lt;no docstring&gt;\">pidgin</span>\n",
       "</code> authors make a pact that all code <code>object\n",
       "</code>s compute.  This practice will encourage\n",
       "reproducible and reproducible computable <code>object\n",
       "</code>s in computational essays.</p>\n",
       "<code style=\"white-space: pre;\" title=\"\">import <span style=\"border-bottom: 1px dotted gray;\" title=\"Type:        module&#013;String form: &lt;module &#x27;pidgin&#x27; from &#x27;c:\\\\users\\\\deathbeds\\\\pidgin\\\\src\\\\pidgin\\\\__init__.py&#x27;&gt;&#013;File:        c:\\users\\deathbeds\\pidgin\\src\\pidgin\\__init__.py&#013;Docstring:   &lt;no docstring&gt;\">pidgin</span>\n",
       "</code>"
      ],
      "text/markdown": [
       "Computational essays will include code in __Markdown__ as:\n",
       "* Block code\n",
       "* Inline code\n",
       "* Template code\n",
       "\n",
       "`pidgin` authors make a pact that all code `object`s compute.  This practice will encourage\n",
       "reproducible and reproducible computable `object`s in computational essays.\n",
       "\n",
       "    import pidgin"
      ],
      "text/plain": [
       "'Computational essays will include code in __Markdown__ as:\\n* Block code\\n* Inline code\\n* Template code\\n\\n`pidgin` authors make a pact that all code `object`s compute.  This practice will encourage\\nreproducible and reproducible computable `object`s in computational essays.\\n\\n    import pidgin'"
      ]
     },
     "metadata": {},
     "output_type": "display_data"
    }
   ],
   "source": [
    "Computational essays will include code in __Markdown__ as:\n",
    "* Block code\n",
    "* Inline code\n",
    "* Template code\n",
    "\n",
    "`pidgin` authors make a pact that all code `object`s compute.  This practice will encourage\n",
    "reproducible and reproducible computable `object`s in computational essays.\n",
    "\n",
    "    import pidgin"
   ]
  },
  {
   "cell_type": "code",
   "execution_count": 3,
   "metadata": {},
   "outputs": [
    {
     "data": {
      "text/html": [
       "<a href=\"#indenting-code\"><h2 id=\"indenting-code\">Indenting code.</h2>\n",
       "</a>\n",
       "<p><code><span style=\"border-bottom: 1px dotted gray;\" title=\"Type:        module&#013;String form: &lt;module &#x27;pidgin&#x27; from &#x27;c:\\\\users\\\\deathbeds\\\\pidgin\\\\src\\\\pidgin\\\\__init__.py&#x27;&gt;&#013;File:        c:\\users\\deathbeds\\pidgin\\src\\pidgin\\__init__.py&#013;Docstring:   &lt;no docstring&gt;\">pidgin</span>\n",
       "</code> requires authors to indent code for it be valid.</p>\n",
       "<p>Early on <code><span style=\"border-bottom: 1px dotted gray;\" title=\"Type:        module&#013;String form: &lt;module &#x27;pidgin&#x27; from &#x27;c:\\\\users\\\\deathbeds\\\\pidgin\\\\src\\\\pidgin\\\\__init__.py&#x27;&gt;&#013;File:        c:\\users\\deathbeds\\pidgin\\src\\pidgin\\__init__.py&#013;Docstring:   &lt;no docstring&gt;\">pidgin</span>\n",
       "</code> authors will forget to indent their code.  Without an indent, nothing will\n",
       "be computed and the input is returned as rich text:</p>\n"
      ],
      "text/markdown": [
       "## Indenting code.\n",
       "\n",
       "`pidgin` requires authors to indent code for it be valid.\n",
       "\n",
       "Early on `pidgin` authors will forget to indent their code.  Without an indent, nothing will\n",
       "be computed and the input is returned as rich text:"
      ],
      "text/plain": [
       "'## Indenting code.\\n\\n`pidgin` requires authors to indent code for it be valid.\\n\\nEarly on `pidgin` authors will forget to indent their code.  Without an indent, nothing will\\nbe computed and the input is returned as rich text:'"
      ]
     },
     "metadata": {},
     "output_type": "display_data"
    }
   ],
   "source": [
    "## Indenting code.\n",
    "\n",
    "`pidgin` requires authors to indent code for it be valid.\n",
    "\n",
    "Early on `pidgin` authors will forget to indent their code.  Without an indent, nothing will\n",
    "be computed and the input is returned as rich text:"
   ]
  },
  {
   "cell_type": "code",
   "execution_count": 4,
   "metadata": {},
   "outputs": [
    {
     "data": {
      "text/html": [
       "<p>\"This string just looks like weird html because it is not indented\"  # is not code <code>print(<span style=\"border-bottom: 1px dotted gray;\" title=\"Type:        list&#013;String form: [&#x27;&#x27;, &quot;get_ipython().run_line_magic(&#x27;reload_ext&#x27;, &#x27;pidgin&#x27;)&quot;, &#x27;&quot;&quot;&quot;Computational essays will includ &lt;...&gt; tring just looks like weird html because it is not indented&quot;  # is not code `print(In[-1])`&quot;&quot;&quot;;&#x27;]&#013;Length:      5&#013;Docstring:  &#013;list() -&gt; new empty list&#013;list(iterable) -&gt; new list initialized from iterable&#x27;s items\">In</span>[-1])\n",
       "</code></p>\n"
      ],
      "text/markdown": [
       "\"This string just looks like weird html because it is not indented\"  # is not code `print(In[-1])`"
      ],
      "text/plain": [
       "'\"This string just looks like weird html because it is not indented\"  # is not code `print(In[-1])`'"
      ]
     },
     "metadata": {},
     "output_type": "display_data"
    }
   ],
   "source": [
    "\"This string just looks like weird html because it is not indented\"  # is not code `print(In[-1])`"
   ]
  },
  {
   "cell_type": "code",
   "execution_count": 5,
   "metadata": {},
   "outputs": [
    {
     "data": {
      "text/plain": [
       "('This string is printed because it is indented.',)"
      ]
     },
     "execution_count": 5,
     "metadata": {},
     "output_type": "execute_result"
    }
   ],
   "source": [
    "    \"This string is printed because it is indented.\","
   ]
  },
  {
   "cell_type": "code",
   "execution_count": 6,
   "metadata": {},
   "outputs": [
    {
     "data": {
      "text/html": [
       "<p><a href=\"https://coffeescript.org/#literate\">Literate coffeescript</a> provides similar opinions.</p>\n"
      ],
      "text/markdown": [
       "[Literate coffeescript](https://coffeescript.org/#literate) provides similar opinions."
      ],
      "text/plain": [
       "'[Literate coffeescript](https://coffeescript.org/#literate) provides similar opinions.'"
      ]
     },
     "metadata": {},
     "output_type": "display_data"
    }
   ],
   "source": [
    "[Literate coffeescript](https://coffeescript.org/#literate) provides similar opinions."
   ]
  },
  {
   "cell_type": "code",
   "execution_count": 7,
   "metadata": {},
   "outputs": [
    {
     "data": {
      "text/html": [
       "<a href=\"#mixing-markdown-and-code\"><h2 id=\"mixing-markdown-and-code\">Mixing Markdown and Code</h2>\n",
       "</a>\n",
       "<p>Traditionally notebooks authors will write different syntaxes in Markdown and code cells.  <code><span style=\"border-bottom: 1px dotted gray;\" title=\"Type:        module&#013;String form: &lt;module &#x27;pidgin&#x27; from &#x27;c:\\\\users\\\\deathbeds\\\\pidgin\\\\src\\\\pidgin\\\\__init__.py&#x27;&gt;&#013;File:        c:\\users\\deathbeds\\pidgin\\src\\pidgin\\__init__.py&#013;Docstring:   &lt;no docstring&gt;\">pidgin</span>\n",
       "</code>\n",
       "authors are always writing <strong>Markdown</strong>, sometime the text is computed.</p>\n"
      ],
      "text/markdown": [
       "## Mixing Markdown and Code\n",
       "\n",
       "Traditionally notebooks authors will write different syntaxes in Markdown and code cells.  `pidgin`\n",
       "authors are always writing __Markdown__, sometime the text is computed."
      ],
      "text/plain": [
       "'## Mixing Markdown and Code\\n\\nTraditionally notebooks authors will write different syntaxes in Markdown and code cells.  `pidgin`\\nauthors are always writing __Markdown__, sometime the text is computed.'"
      ]
     },
     "metadata": {},
     "output_type": "display_data"
    }
   ],
   "source": [
    "## Mixing Markdown and Code\n",
    "\n",
    "Traditionally notebooks authors will write different syntaxes in Markdown and code cells.  `pidgin`\n",
    "authors are always writing __Markdown__, sometime the text is computed."
   ]
  },
  {
   "cell_type": "code",
   "execution_count": 8,
   "metadata": {},
   "outputs": [],
   "source": [
    "    ip = get_ipython()"
   ]
  },
  {
   "cell_type": "code",
   "execution_count": 9,
   "metadata": {},
   "outputs": [],
   "source": [
    "    ip.ast_node_interactivity = 'last_expr'"
   ]
  },
  {
   "cell_type": "code",
   "execution_count": 10,
   "metadata": {},
   "outputs": [
    {
     "data": {
      "text/plain": [
       "('This string is shown because there is no markdown that follows it',)"
      ]
     },
     "execution_count": 10,
     "metadata": {},
     "output_type": "execute_result"
    },
    {
     "data": {
      "text/html": [
       "<a href=\"#when-a-cell-ends-with-code\"><h3 id=\"when-a-cell-ends-with-code\">When a cell ends with code.</h3>\n",
       "</a>\n",
       "<p>The last expression in a cell is shown when the cell ends with block.</p>\n",
       "<code style=\"white-space: pre;\" title=\"\">\"This string is shown because there is no markdown that follows it\",\n",
       "</code>"
      ],
      "text/markdown": [
       "### When a cell ends with code.\n",
       "\n",
       "The last expression in a cell is shown when the cell ends with block.\n",
       "\n",
       "    \"This string is shown because there is no markdown that follows it\","
      ],
      "text/plain": [
       "'### When a cell ends with code.\\n\\nThe last expression in a cell is shown when the cell ends with block.\\n\\n    \"This string is shown because there is no markdown that follows it\",'"
      ]
     },
     "metadata": {},
     "output_type": "display_data"
    }
   ],
   "source": [
    "### When a cell ends with code.\n",
    "\n",
    "The last expression in a cell is shown when the cell ends with block.\n",
    "\n",
    "    \"This string is shown because there is no markdown that follows it\","
   ]
  },
  {
   "cell_type": "code",
   "execution_count": 11,
   "metadata": {},
   "outputs": [
    {
     "data": {
      "text/html": [
       "<p>Where as:</p>\n",
       "<code style=\"white-space: pre;\" title=\"\">\"No one will see this string\",\n",
       "</code><p>because there is a non-code <strong>Markdown</strong> expression below it.</p>\n"
      ],
      "text/markdown": [
       "Where as:\n",
       "    \n",
       "    \"No one will see this string\",\n",
       "because there is a non-code __Markdown__ expression below it."
      ],
      "text/plain": [
       "'Where as:\\n    \\n    \"No one will see this string\",\\nbecause there is a non-code __Markdown__ expression below it.'"
      ]
     },
     "metadata": {},
     "output_type": "display_data"
    }
   ],
   "source": [
    "Where as:\n",
    "    \n",
    "    \"No one will see this string\",\n",
    "because there is a non-code __Markdown__ expression below it."
   ]
  },
  {
   "cell_type": "code",
   "execution_count": 12,
   "metadata": {},
   "outputs": [
    {
     "data": {
      "text/html": [
       "<a href=\"#escaping-code\"><h2 id=\"escaping-code\">Escaping code</h2>\n",
       "</a>\n",
       "<p>An author may design to include <strong>code</strong>-<em>styled</em> <code>object\n",
       "</code> without executing them.  We recommend\n",
       "using <strong>html</strong> tags <code>to include non-computed code</code>.</p>\n"
      ],
      "text/markdown": [
       "## Escaping code\n",
       "\n",
       "An author may design to include __code__-*styled* `object` without executing them.  We recommend\n",
       "using __html__ tags <code>to include non-computed code</code>."
      ],
      "text/plain": [
       "'## Escaping code\\n\\nAn author may design to include __code__-*styled* `object` without executing them.  We recommend\\nusing __html__ tags <code>to include non-computed code</code>.'"
      ]
     },
     "metadata": {},
     "output_type": "display_data"
    }
   ],
   "source": [
    "## Escaping code\n",
    "\n",
    "An author may design to include __code__-*styled* `object` without executing them.  We recommend\n",
    "using __html__ tags <code>to include non-computed code</code>."
   ]
  },
  {
   "cell_type": "markdown",
   "metadata": {},
   "source": [
    "or an author may convert a cell without working code to a __\"Markdown\"__ or __OFF__ cell.\n",
    "\n",
    "    assert False, \"So the bad code doesn't effect the reusability.\""
   ]
  },
  {
   "cell_type": "code",
   "execution_count": 13,
   "metadata": {},
   "outputs": [
    {
     "data": {
      "text/html": [
       "<a href=\"#using-markdown-as-block-strings-in-python\"><h2 id=\"using-markdown-as-block-strings-in-python\">Using <strong>Markdown</strong> as block strings in <strong>Python</strong></h2>\n",
       "</a>\n",
       "<p>The translation from <strong>Markdown</strong> to <strong>Python</strong> to semi-lossless.  All non-code objects are wrapped\n",
       "as block strings and indented in relationship to the neighboring code.  Line numbers are respected\n",
       "for better tracebacks when import <code><span style=\"border-bottom: 1px dotted gray;\" title=\"Type:        module&#013;String form: &lt;module &#x27;pidgin&#x27; from &#x27;c:\\\\users\\\\deathbeds\\\\pidgin\\\\src\\\\pidgin\\\\__init__.py&#x27;&gt;&#013;File:        c:\\users\\deathbeds\\pidgin\\src\\pidgin\\__init__.py&#013;Docstring:   &lt;no docstring&gt;\">pidgin</span>\n",
       "</code> documents.</p>\n"
      ],
      "text/markdown": [
       "## Using __Markdown__ as block strings in __Python__\n",
       "\n",
       "The translation from __Markdown__ to __Python__ to semi-lossless.  All non-code objects are wrapped\n",
       "as block strings and indented in relationship to the neighboring code.  Line numbers are respected\n",
       "for better tracebacks when import `pidgin` documents."
      ],
      "text/plain": [
       "'## Using __Markdown__ as block strings in __Python__\\n\\nThe translation from __Markdown__ to __Python__ to semi-lossless.  All non-code objects are wrapped\\nas block strings and indented in relationship to the neighboring code.  Line numbers are respected\\nfor better tracebacks when import `pidgin` documents.'"
      ]
     },
     "metadata": {},
     "output_type": "display_data"
    }
   ],
   "source": [
    "## Using __Markdown__ as block strings in __Python__\n",
    "\n",
    "The translation from __Markdown__ to __Python__ to semi-lossless.  All non-code objects are wrapped\n",
    "as block strings and indented in relationship to the neighboring code.  Line numbers are respected\n",
    "for better tracebacks when import `pidgin` documents."
   ]
  },
  {
   "cell_type": "code",
   "execution_count": 14,
   "metadata": {},
   "outputs": [
    {
     "data": {
      "text/html": [
       "<p>If the first cell is <strong>Markdown</strong> then that is the <code><span style=\"border-bottom: 1px dotted gray;\" title=\"Type:        module&#013;String form: &lt;module &#x27;pidgin&#x27; from &#x27;c:\\\\users\\\\deathbeds\\\\pidgin\\\\src\\\\pidgin\\\\__init__.py&#x27;&gt;&#013;File:        c:\\users\\deathbeds\\pidgin\\src\\pidgin\\__init__.py&#013;Docstring:   &lt;no docstring&gt;\">pidgin</span>\n",
       "</code> module docstring.</p>\n",
       "<p>Any <strong>Markdown</strong> following a function or class definition becomes the docstring.</p>\n",
       "<code style=\"white-space: pre;\" title=\"\">def <span style=\"border-bottom: 1px dotted gray;\" title=\"Signature: a_function_with_a_markdown_docstring(x:int) -&gt; str&#013;Source:   &#013;def a_function_with_a_markdown_docstring(x: int) -&gt; str:&#013;    &quot;&quot;&quot;The docstring for `a_function_with_a_markdown_docstring`.&quot;&quot;&quot;&#013;&#013;    return str(x)&#013;File:      c:\\users\\deathbeds\\pidgin\\src\\pidgin\\docs\\&lt;ipython-input-14-479610e5a2d6&gt;&#013;Type:      function\">a_function_with_a_markdown_docstring</span>(<span style=\"border-bottom: 1px dotted gray;\" title=\"Signature:   x(*tuple, **dict)&#013;Type:        operate&#013;String form: operate(object=interpolate(object=(&lt;class &#x27;poser.canonical&#x27;&gt;,)), predicate=logic(object=()), exception=())&#013;Length:      1&#013;File:        c:\\users\\deathbeds\\poser\\poser.py&#013;Docstring:  &#013;&gt;&gt;&gt; f = (0&lt;x)&amp;(x&lt;10)*(x+90)&#013;&gt;&gt;&gt; assert all(map(a**Ø, (f(-5), f(15))))&#013;&gt;&gt;&gt; assert f(5) is 95\">x</span>: int) -> str:\n",
       "</code><p>The docstring for <code><span style=\"border-bottom: 1px dotted gray;\" title=\"Signature: a_function_with_a_markdown_docstring(x:int) -&gt; str&#013;Docstring: The docstring for `a_function_with_a_markdown_docstring`.&#013;File:      c:\\users\\deathbeds\\pidgin\\src\\pidgin\\docs\\&lt;ipython-input-14-479610e5a2d6&gt;&#013;Type:      function\">a_function_with_a_markdown_docstring</span>\n",
       "</code>.</p>\n",
       "<code style=\"white-space: pre;\" title=\"\">    return str(<span style=\"border-bottom: 1px dotted gray;\" title=\"Signature:   x(*tuple, **dict)&#013;Type:        operate&#013;String form: operate(object=interpolate(object=(&lt;class &#x27;poser.canonical&#x27;&gt;,)), predicate=logic(object=()), exception=())&#013;Length:      1&#013;File:        c:\\users\\deathbeds\\poser\\poser.py&#013;Docstring:  &#013;&gt;&gt;&gt; f = (0&lt;x)&amp;(x&lt;10)*(x+90)&#013;&gt;&gt;&gt; assert all(map(a**Ø, (f(-5), f(15))))&#013;&gt;&gt;&gt; assert f(5) is 95\">x</span>)\n",
       "</code>"
      ],
      "text/markdown": [
       "If the first cell is __Markdown__ then that is the `pidgin` module docstring.\n",
       "\n",
       "Any __Markdown__ following a function or class definition becomes the docstring.\n",
       "\n",
       "    def a_function_with_a_markdown_docstring(x: int) -> str:\n",
       "The docstring for `a_function_with_a_markdown_docstring`.\n",
       "\n",
       "        return str(x)"
      ],
      "text/plain": [
       "'If the first cell is __Markdown__ then that is the `pidgin` module docstring.\\n\\nAny __Markdown__ following a function or class definition becomes the docstring.\\n\\n    def a_function_with_a_markdown_docstring(x: int) -> str:\\nThe docstring for `a_function_with_a_markdown_docstring`.\\n\\n        return str(x)'"
      ]
     },
     "metadata": {},
     "output_type": "display_data"
    }
   ],
   "source": [
    "If the first cell is __Markdown__ then that is the `pidgin` module docstring.\n",
    "\n",
    "Any __Markdown__ following a function or class definition becomes the docstring.\n",
    "\n",
    "    def a_function_with_a_markdown_docstring(x: int) -> str:\n",
    "The docstring for `a_function_with_a_markdown_docstring`.\n",
    "\n",
    "        return str(x)"
   ]
  },
  {
   "cell_type": "code",
   "execution_count": 15,
   "metadata": {},
   "outputs": [],
   "source": [
    "    def test_a_function_with_a_markdown_docstring():\n",
    "        assert a_function_with_a_markdown_docstring.__doc__ == \"\"\"\n",
    "        The docstring for `a_function_with_a_markdown_docstring`.\"\"\".strip()"
   ]
  },
  {
   "cell_type": "code",
   "execution_count": 16,
   "metadata": {},
   "outputs": [
    {
     "data": {
      "text/html": [
       "<code style=\"white-space: pre;\" title=\"\">class <span style=\"border-bottom: 1px dotted gray;\" title=\"Init signature: AClassWithAMarkdownDocstring()&#013;Docstring:     &#013;This is the docstring for `AClassWithAMarkdownDocstring`&#013;&#013;def test_a_class_with_a_markdown_docstring():&#013;    assert AClassWithAMarkdownDocstring.__doc__ == &quot;&quot;&quot;&#013;    This is the docstring for `AClassWithAMarkdownDocstring`&quot;&quot;&quot;.strip()&#013;Type:           type\">AClassWithAMarkdownDocstring</span>:\n",
       "</code><p>This is the docstring for <code><span style=\"border-bottom: 1px dotted gray;\" title=\"Init signature: AClassWithAMarkdownDocstring()&#013;Docstring:     &#013;This is the docstring for `AClassWithAMarkdownDocstring`&#013;&#013;def test_a_class_with_a_markdown_docstring():&#013;    assert AClassWithAMarkdownDocstring.__doc__ == &quot;&quot;&quot;&#013;    This is the docstring for `AClassWithAMarkdownDocstring`&quot;&quot;&quot;.strip()&#013;Type:           type\">AClassWithAMarkdownDocstring</span>\n",
       "</code></p>\n",
       "<code style=\"white-space: pre;\" title=\"\">def test_a_class_with_a_markdown_docstring():\n",
       "    assert <span style=\"border-bottom: 1px dotted gray;\" title=\"Type:        str&#013;String form:&#013;This is the docstring for `AClassWithAMarkdownDocstring`&#013;           &#013;           def test_a_class_with_a_markdown_do &lt;...&gt; string.__doc__ == &quot;&quot;&quot;&#013;           This is the docstring for `AClassWithAMarkdownDocstring`&quot;&quot;&quot;.strip()&#013;Length:      242&#013;Docstring:  &#013;str(object=&#x27;&#x27;) -&gt; str&#013;str(bytes_or_buffer[, encoding[, errors]]) -&gt; str&#013;&#013;Create a new string object from the given object. If encoding or&#013;errors is specified, then the object must expose a data buffer&#013;that will be decoded using the given encoding and error handler.&#013;Otherwise, returns the result of object.__str__() (if defined)&#013;or repr(object).&#013;encoding defaults to sys.getdefaultencoding().&#013;errors defaults to &#x27;strict&#x27;.\">AClassWithAMarkdownDocstring.__doc__</span> == \"\"\"\n",
       "    This is the docstring for `AClassWithAMarkdownDocstring`\"\"\".strip()\n",
       "</code>"
      ],
      "text/markdown": [
       "    class AClassWithAMarkdownDocstring:\n",
       "This is the docstring for `AClassWithAMarkdownDocstring`\n",
       "    \n",
       "    def test_a_class_with_a_markdown_docstring():\n",
       "        assert AClassWithAMarkdownDocstring.__doc__ == \"\"\"\n",
       "        This is the docstring for `AClassWithAMarkdownDocstring`\"\"\".strip()"
      ],
      "text/plain": [
       "'    class AClassWithAMarkdownDocstring:\\nThis is the docstring for `AClassWithAMarkdownDocstring`\\n    \\n    def test_a_class_with_a_markdown_docstring():\\n        assert AClassWithAMarkdownDocstring.__doc__ == \"\"\"\\n        This is the docstring for `AClassWithAMarkdownDocstring`\"\"\".strip()'"
      ]
     },
     "metadata": {},
     "output_type": "display_data"
    }
   ],
   "source": [
    "    class AClassWithAMarkdownDocstring:\n",
    "This is the docstring for `AClassWithAMarkdownDocstring`\n",
    "    \n",
    "    def test_a_class_with_a_markdown_docstring():\n",
    "        assert AClassWithAMarkdownDocstring.__doc__ == \"\"\"\n",
    "        This is the docstring for `AClassWithAMarkdownDocstring`\"\"\".strip()"
   ]
  },
  {
   "cell_type": "code",
   "execution_count": 17,
   "metadata": {},
   "outputs": [
    {
     "data": {
      "text/html": [
       "<p>Another <code><span style=\"border-bottom: 1px dotted gray;\" title=\"Type:        module&#013;String form: &lt;module &#x27;pidgin&#x27; from &#x27;c:\\\\users\\\\deathbeds\\\\pidgin\\\\src\\\\pidgin\\\\__init__.py&#x27;&gt;&#013;File:        c:\\users\\deathbeds\\pidgin\\src\\pidgin\\__init__.py&#013;Docstring:   &lt;no docstring&gt;\">pidgin</span>\n",
       "</code> trick allows an author to <strong>Markdown</strong> content a string objects.</p>\n",
       "<code style=\"white-space: pre;\" title=\"\"><span style=\"border-bottom: 1px dotted gray;\" title=\"Type:        str&#013;String form: Using a line continutation `a_markdown_value` can become the value of the string directly below it.&#013;Length:      99&#013;Docstring:  &#013;str(object=&#x27;&#x27;) -&gt; str&#013;str(bytes_or_buffer[, encoding[, errors]]) -&gt; str&#013;&#013;Create a new string object from the given object. If encoding or&#013;errors is specified, then the object must expose a data buffer&#013;that will be decoded using the given encoding and error handler.&#013;Otherwise, returns the result of object.__str__() (if defined)&#013;or repr(object).&#013;encoding defaults to sys.getdefaultencoding().&#013;errors defaults to &#x27;strict&#x27;.\">a_markdown_value</span> =\\\n",
       "</code><p>Using a line continutation <code><span style=\"border-bottom: 1px dotted gray;\" title=\"Type:        str&#013;String form: Using a line continutation `a_markdown_value` can become the value of the string directly below it.&#013;Length:      99&#013;Docstring:  &#013;str(object=&#x27;&#x27;) -&gt; str&#013;str(bytes_or_buffer[, encoding[, errors]]) -&gt; str&#013;&#013;Create a new string object from the given object. If encoding or&#013;errors is specified, then the object must expose a data buffer&#013;that will be decoded using the given encoding and error handler.&#013;Otherwise, returns the result of object.__str__() (if defined)&#013;or repr(object).&#013;encoding defaults to sys.getdefaultencoding().&#013;errors defaults to &#x27;strict&#x27;.\">a_markdown_value</span>\n",
       "</code> can become the value of the string directly below it.</p>\n"
      ],
      "text/markdown": [
       "Another `pidgin` trick allows an author to __Markdown__ content a string objects.\n",
       "\n",
       "    a_markdown_value =\\\n",
       "Using a line continutation `a_markdown_value` can become the value of the string directly below it."
      ],
      "text/plain": [
       "'Another `pidgin` trick allows an author to __Markdown__ content a string objects.\\n\\n    a_markdown_value =\\\\\\nUsing a line continutation `a_markdown_value` can become the value of the string directly below it.'"
      ]
     },
     "metadata": {},
     "output_type": "display_data"
    }
   ],
   "source": [
    "Another `pidgin` trick allows an author to __Markdown__ content a string objects.\n",
    "\n",
    "    a_markdown_value =\\\n",
    "Using a line continutation `a_markdown_value` can become the value of the string directly below it."
   ]
  },
  {
   "cell_type": "code",
   "execution_count": 18,
   "metadata": {},
   "outputs": [
    {
     "data": {
      "text/html": [
       "<code style=\"white-space: pre;\" title=\"\"><span style=\"border-bottom: 1px dotted gray;\" title=\"Type:        dict&#013;String form: {&#x27;filename&#x27;: &#x27;readme.md.ipynb&#x27;, &#x27;name&#x27;: &#x27;readme.md&#x27;}&#013;Length:      2&#013;Docstring:  &#013;dict() -&gt; new empty dictionary&#013;dict(mapping) -&gt; new dictionary initialized from a mapping object&#x27;s&#013;    (key, value) pairs&#013;dict(iterable) -&gt; new dictionary initialized as if via:&#013;    d = {}&#013;    for k, v in iterable:&#013;        d[k] = v&#013;dict(**kwargs) -&gt; new dictionary initialized with the name=value pairs&#013;    in the keyword argument list.  For example:  dict(one=1, two=2)\">interleaved_dict</span> = dict(filename=\n",
       "</code><p>readme.md.ipynb</p>\n",
       "<code style=\"white-space: pre;\" title=\"\">     , name=\n",
       "</code><p>readme.md</p>\n",
       "<code style=\"white-space: pre;\" title=\"\">    )\n",
       "def <span style=\"border-bottom: 1px dotted gray;\" title=\"Signature: test_interleaved_dict()&#013;Docstring: &lt;no docstring&gt;&#013;Source:   &#013;def test_interleaved_dict():&#013;    assert interleaved_dict == {&#x27;filename&#x27;: &#x27;readme.md.ipynb&#x27;, &#x27;name&#x27;: &#x27;readme.md&#x27;}&#013;File:      c:\\users\\deathbeds\\pidgin\\src\\pidgin\\docs\\&lt;ipython-input-18-8193792d9c2d&gt;&#013;Type:      function\">test_interleaved_dict</span>():\n",
       "    assert <span style=\"border-bottom: 1px dotted gray;\" title=\"Type:        dict&#013;String form: {&#x27;filename&#x27;: &#x27;readme.md.ipynb&#x27;, &#x27;name&#x27;: &#x27;readme.md&#x27;}&#013;Length:      2&#013;Docstring:  &#013;dict() -&gt; new empty dictionary&#013;dict(mapping) -&gt; new dictionary initialized from a mapping object&#x27;s&#013;    (key, value) pairs&#013;dict(iterable) -&gt; new dictionary initialized as if via:&#013;    d = {}&#013;    for k, v in iterable:&#013;        d[k] = v&#013;dict(**kwargs) -&gt; new dictionary initialized with the name=value pairs&#013;    in the keyword argument list.  For example:  dict(one=1, two=2)\">interleaved_dict</span> == {'filename': 'readme.md.ipynb', 'name': 'readme.md'}\n",
       "</code>"
      ],
      "text/markdown": [
       "    interleaved_dict = dict(filename=\n",
       "readme.md.ipynb\n",
       "\n",
       "         , name=\n",
       "readme.md\n",
       "\n",
       "        )\n",
       "    def test_interleaved_dict():\n",
       "        assert interleaved_dict == {'filename': 'readme.md.ipynb', 'name': 'readme.md'}"
      ],
      "text/plain": [
       "\"    interleaved_dict = dict(filename=\\nreadme.md.ipynb\\n\\n         , name=\\nreadme.md\\n\\n        )\\n    def test_interleaved_dict():\\n        assert interleaved_dict == {'filename': 'readme.md.ipynb', 'name': 'readme.md'}\""
      ]
     },
     "metadata": {},
     "output_type": "display_data"
    }
   ],
   "source": [
    "    interleaved_dict = dict(filename=\n",
    "readme.md.ipynb\n",
    "\n",
    "         , name=\n",
    "readme.md\n",
    "\n",
    "        )\n",
    "    def test_interleaved_dict():\n",
    "        assert interleaved_dict == {'filename': 'readme.md.ipynb', 'name': 'readme.md'}"
   ]
  },
  {
   "cell_type": "code",
   "execution_count": 19,
   "metadata": {},
   "outputs": [
    {
     "data": {
      "text/html": [
       "<code style=\"white-space: pre;\" title=\"\">def <span style=\"border-bottom: 1px dotted gray;\" title=\"Signature: test_importing()&#013;Source:   &#013;def test_importing():&#013;    &quot;&quot;&quot;This is an `inline_value = 11` in a docstring&quot;&quot;&quot;&#013;&#013;    with pidgin.PidginImporter():&#013;        try: from . import Including_code_in_documents&#013;        except: import Including_code_in_documents&#013;    assert inline_value == 11, &quot;&quot;&quot;The inline value was not transformed.&quot;&quot;&quot;&#013;File:      c:\\users\\deathbeds\\pidgin\\src\\pidgin\\docs\\&lt;ipython-input-19-702346f01286&gt;&#013;Type:      function\">test_importing</span>():\n",
       "</code><p>This is an <code><span style=\"border-bottom: 1px dotted gray;\" title=\"Type:        int&#013;String form: 11&#013;Docstring:  &#013;int(x=0) -&gt; integer&#013;int(x, base=10) -&gt; integer&#013;&#013;Convert a number or string to an integer, or return 0 if no arguments&#013;are given.  If x is a number, return x.__int__().  For floating point&#013;numbers, this truncates towards zero.&#013;&#013;If x is not a number or if base is given, then x must be a string,&#013;bytes, or bytearray instance representing an integer literal in the&#013;given base.  The literal can be preceded by &#x27;+&#x27; or &#x27;-&#x27; and be surrounded&#013;by whitespace.  The base defaults to 10.  Valid bases are 0 and 2-36.&#013;Base 0 means to interpret the base from the string as an integer literal.&#013;&gt;&gt;&gt; int(&#x27;0b100&#x27;, base=0)&#013;4\">inline_value</span> = 11\n",
       "</code> in a docstring</p>\n",
       "<code style=\"white-space: pre;\" title=\"\">    with <span style=\"border-bottom: 1px dotted gray;\" title=\"Init signature: pidgin.PidginImporter(fullname=None, path=None, lazy=False, position=0, fuzzy=True, markdown_docstring=True, main=False)&#013;Docstring:     &#013;Notebook is a user friendly file finder and module loader for notebook source code.&#013;&#013;&gt; Remember, restart and run all or it didn&#x27;t happen.&#013;&#013;Notebook provides several useful options.&#013;&#013;* Lazy module loading.  A module is executed the first time it is used in a script.&#013;File:           c:\\users\\deathbeds\\pidgin\\src\\pidgin\\loader.ipynb&#013;Type:           type\">pidgin.PidginImporter</span>():\n",
       "        try: from . import Including_code_in_documents\n",
       "        except: import Including_code_in_documents\n",
       "    assert <span style=\"border-bottom: 1px dotted gray;\" title=\"Type:        int&#013;String form: 11&#013;Docstring:  &#013;int(x=0) -&gt; integer&#013;int(x, base=10) -&gt; integer&#013;&#013;Convert a number or string to an integer, or return 0 if no arguments&#013;are given.  If x is a number, return x.__int__().  For floating point&#013;numbers, this truncates towards zero.&#013;&#013;If x is not a number or if base is given, then x must be a string,&#013;bytes, or bytearray instance representing an integer literal in the&#013;given base.  The literal can be preceded by &#x27;+&#x27; or &#x27;-&#x27; and be surrounded&#013;by whitespace.  The base defaults to 10.  Valid bases are 0 and 2-36.&#013;Base 0 means to interpret the base from the string as an integer literal.&#013;&gt;&gt;&gt; int(&#x27;0b100&#x27;, base=0)&#013;4\">inline_value</span> == 11, \"\"\"The inline value was not transformed.\"\"\"\n",
       "</code>"
      ],
      "text/markdown": [
       "    def test_importing():\n",
       "This is an `inline_value = 11` in a docstring\n",
       "\n",
       "        with pidgin.PidginImporter():\n",
       "            try: from . import Including_code_in_documents\n",
       "            except: import Including_code_in_documents\n",
       "        assert inline_value == 11, \"\"\"The inline value was not transformed.\"\"\""
      ],
      "text/plain": [
       "'    def test_importing():\\nThis is an `inline_value = 11` in a docstring\\n\\n        with pidgin.PidginImporter():\\n            try: from . import Including_code_in_documents\\n            except: import Including_code_in_documents\\n        assert inline_value == 11, \"\"\"The inline value was not transformed.\"\"\"'"
      ]
     },
     "metadata": {},
     "output_type": "display_data"
    }
   ],
   "source": [
    "    def test_importing():\n",
    "This is an `inline_value = 11` in a docstring\n",
    "\n",
    "        with pidgin.PidginImporter():\n",
    "            try: from . import Including_code_in_documents\n",
    "            except: import Including_code_in_documents\n",
    "        assert inline_value == 11, \"\"\"The inline value was not transformed.\"\"\""
   ]
  },
  {
   "cell_type": "code",
   "execution_count": 20,
   "metadata": {},
   "outputs": [
    {
     "data": {
      "text/html": [
       "<p>As normal, the output is suppressed when a semi-colon trails the code block.</p>\n",
       "<code style=\"white-space: pre;\" title=\"\">11;\n",
       "</code>"
      ],
      "text/markdown": [
       "As normal, the output is suppressed when a semi-colon trails the code block.\n",
       "\n",
       "    11;"
      ],
      "text/plain": [
       "'As normal, the output is suppressed when a semi-colon trails the code block.\\n\\n    11;'"
      ]
     },
     "metadata": {},
     "output_type": "display_data"
    }
   ],
   "source": [
    "As normal, the output is suppressed when a semi-colon trails the code block.\n",
    "\n",
    "    11;"
   ]
  }
 ],
 "metadata": {
  "kernelspec": {
   "display_name": "Python 3",
   "language": "python",
   "name": "python3"
  },
  "language_info": {
   "codemirror_mode": {
    "name": "ipython",
    "version": 3
   },
   "file_extension": ".py",
   "mimetype": "text/x-python",
   "name": "python",
   "nbconvert_exporter": "python",
   "pygments_lexer": "ipython3",
   "version": "3.6.6"
  },
  "nikola": {
   "author": "Tony Fast",
   "date": "2018-12-05 16:43:43 UTC",
   "description": "`\"Including code in documents.md.ipynb\"` demonstrates and tests how code may be tangled into inline code, block code, and templates.",
   "slug": "Including code in documents.md.ipynb",
   "title": "Including code in documents.md.ipynb",
   "type": "text"
  }
 },
 "nbformat": 4,
 "nbformat_minor": 2
}
