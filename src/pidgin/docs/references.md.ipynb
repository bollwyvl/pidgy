{
 "cells": [
  {
   "cell_type": "markdown",
   "metadata": {},
   "source": [
    "## References."
   ]
  },
  {
   "cell_type": "code",
   "execution_count": 1,
   "metadata": {},
   "outputs": [],
   "source": [
    "    if __name__ == '__main__':\n",
    "        %reload_ext pidgin"
   ]
  },
  {
   "cell_type": "code",
   "execution_count": 2,
   "metadata": {},
   "outputs": [],
   "source": [
    "    try:\n",
    "        import ruamel.yaml as yaml\n",
    "    except:\n",
    "        import yaml\n",
    "    import io"
   ]
  },
  {
   "cell_type": "code",
   "execution_count": 3,
   "metadata": {},
   "outputs": [],
   "source": [
    "    __annotations__ = {'@context': yaml.safe_load(io.StringIO(\"\"\"\n",
    "    w: https://en.m.wikipedia.org/wiki/\n",
    "    ipydocs: https://ipython.readthedocs.io/en/stable/\n",
    "    jdocs: https://jupyter.readthedocs.io/en/latest/\n",
    "    nbviewer: https://nbviewer.jupyter.org/\n",
    "    gh: https://github.com/\n",
    "    csstricks: https://css-tricks.com/snippets/css/\n",
    "    graphviz: https://www.graphviz.org/\n",
    "    \"\"\"))}"
   ]
  },
  {
   "cell_type": "code",
   "execution_count": 7,
   "metadata": {},
   "outputs": [
    {
     "data": {
      "text/html": [
       "<blockquote><p>A concept of “computational literacy” helps us to better understand the social, technical and cultural dynamics of programming, but it also enriches our vision of twenty-first century composition.</p>\n",
       "</blockquote>\n"
      ],
      "text/plain": [
       "<IPython.core.display.HTML object>"
      ]
     },
     "metadata": {},
     "output_type": "display_data"
    }
   ],
   "source": [
    "[shell diagram]: https://i.stack.imgur.com/Znlqz.jpg\n",
    "[shell diagram source]: https://askubuntu.com/questions/161511/are-the-linux-utilities-parts-of-the-kernel-shell        \n",
    "[Shell (computing)]: w:Shell_(computing)\n",
    "[Kernel (operating system)]: w:Kernel_(operating_system)\n",
    "[IPython extension]: #\n",
    "[Writing extensions]: ipydocs:config/extensions/#writing-extensions\n",
    "[macro]: w:Macro_(computer_science)\n",
    "[macro ipython]: ipydocs:interactive/magics.html#magic-macro\n",
    "[literate programming]: http://www.literateprogramming.com/knuthweb.pdf\n",
    "[computational essay]: https://blog.stephenwolfram.com/2017/11/what-is-a-computational-essay/\n",
    "[Jupyter]: https://jupyter.org/\n",
    "[JupyterLab]: https://jupyterlab.readthedocs.io/en/stable/\n",
    "[nteract]: https://nteract.io/\n",
    "[colab]: https://research.google.com/colaboratory/faq.html\n",
    "[IPython wiki]: w:IPython\n",
    "[IPython flavor]: https://plot.ly/python/ipython-vs-python/\n",
    "[ipython]: http://ipython.org/\n",
    "[jupyter architecture]: jdocs:architecture/how_jupyter_ipython_work.html\n",
    "[jupyter server diagram]: https://jupyter.readthedocs.io/en/latest/_images/notebook_components.png\n",
    "[jupyter notebook]: jdocs\n",
    "[python implementations]: https://wiki.python.org/moin/PythonImplementations\n",
    "[literate computing]: http://blog.fperez.org/2013/04/literate-computing-and-computational.html\n",
    "[Computer programming for Everybody]: https://www.python.org/doc/essays/cp4e/\n",
    "[IPython history]: http://blog.fperez.org/2012/01/ipython-notebook-historical.html\n",
    "[transformers]: ipydocs:config/inputtransforms.html\n",
    "[templating]: w:Template_processor\n",
    "[jekyll]: https://jekyllrb.com/\n",
    "[Github]: gh\n",
    "[fstring]: #\n",
    "[Computational thinking and thinking about computers]: https://www.ncbi.nlm.nih.gov/pmc/articles/PMC2696102/pdf/rsta20080118.pdf\n",
    "[Computational thinking presentation]: https://www.microsoft.com/en-us/research/wp-content/uploads/2012/08/Jeannette_Wing.pdf\n",
    "[vee notes]: http://www.annettevee.com/research/Vee_Computer-Programming-and-Literacy-An-Annotated-Bibliography.pdf\n",
    "[Understanding computer programming as a literacy]: http://licsjournal.org/OJS/index.php/LiCS/article/view/24\n",
    "[flexbox]: csstricks:a-guide-to-flexbox/\n",
    "[grid]: csstricks:complete-guide-grid/\n",
    "        \n",
    "> A concept of “computational literacy” helps us to better understand the social, technical and cultural dynamics of programming, but it also enriches our vision of twenty-first century composition.\n",
    "\n",
    "[mathematica]: https://www.wolfram.com/mathematica/\n",
    "[observable]: https://beta.observablehq.com/\n",
    "        \n",
    "        \n",
    "[rmarkdown book]: https://bookdown.org/yihui/rmarkdown/html-document.html\n",
    "[notebook war]: https://yihui.name/en/2018/09/notebook-war/\n",
    "        \n",
    "[What is graphviz?]: graphviz\n",
    "[graphviz syntax]: graphviz:/doc/info/attrs.html\n",
    "[fizzbuzz]: https://en.wikipedia.org/wiki/Fizz_buzz\n",
    "[coffeescript]: https://coffeescript.org/\n",
    "[literate coffeescript]: https://coffeescript.org/#literate\n",
    "    \n",
    "    \n",
    "[Markdown]: #\n",
    "[Markdown daring fireball]: #"
   ]
  },
  {
   "cell_type": "code",
   "execution_count": 5,
   "metadata": {},
   "outputs": [
    {
     "data": {
      "text/html": [
       "<p>[Ousterhout's dichotomy] identifies $two$ language for computing: system programming - application - languages and scripting - glue - languages.</p>\n",
       "<p><a href=\"What is Systems Programming, Really?\"><img src=\"http://willcrichton.net/images/assets/systems-pyramid.png\" alt=\"\"></a>\n",
       "<img src=\"http://willcrichton.net/images/assets/ousterhouts-dichotomy.gif\" alt=\"\"></p>\n"
      ],
      "text/plain": [
       "<IPython.core.display.HTML object>"
      ]
     },
     "metadata": {},
     "output_type": "display_data"
    }
   ],
   "source": [
    "[Ousterhout's dichotomy] identifies $two$ language for computing: system programming - application - languages and scripting - glue - languages.  \n",
    "\n",
    "[![](http://willcrichton.net/images/assets/systems-pyramid.png)]({{\"What is Systems Programming, Really?\"}})\n",
    "![](http://willcrichton.net/images/assets/ousterhouts-dichotomy.gif)"
   ]
  },
  {
   "cell_type": "code",
   "execution_count": 6,
   "metadata": {},
   "outputs": [
    {
     "data": {
      "text/html": [
       "<pre><code>&gt;&gt;&gt; import pidgin\n",
       "</code></pre>\n",
       "<pre><code>&gt;&gt;&gt; import pidgin.docs.references\n",
       "</code></pre>\n"
      ],
      "text/plain": [
       "<IPython.core.display.HTML object>"
      ]
     },
     "metadata": {},
     "output_type": "display_data"
    }
   ],
   "source": [
    ">>> import pidgin\n",
    ">>> import pidgin.docs.references"
   ]
  }
 ],
 "metadata": {
  "kernelspec": {
   "display_name": "p6",
   "language": "python",
   "name": "other-env"
  },
  "language_info": {
   "codemirror_mode": {
    "name": "ipython",
    "version": 3
   },
   "file_extension": ".py",
   "mimetype": "text/x-python",
   "name": "python",
   "nbconvert_exporter": "python",
   "pygments_lexer": "ipython3",
   "version": "3.6.8"
  }
 },
 "nbformat": 4,
 "nbformat_minor": 4
}
