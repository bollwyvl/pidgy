{
 "cells": [
  {
   "cell_type": "markdown",
   "metadata": {},
   "source": [
    "A set up sufficient tests to validate `pidgin`."
   ]
  },
  {
   "cell_type": "code",
   "execution_count": 1,
   "metadata": {},
   "outputs": [
    {
     "data": {
      "text/html": [
       "<code style=\"white-space: pre;\" title=\"\">from <span style=\"border-bottom: 1px dotted gray;\" title=\"Type:        module&#013;String form: &lt;module &#x27;IPython&#x27; from &#x27;C:\\\\Anaconda3\\\\lib\\\\site-packages\\\\IPython\\\\__init__.py&#x27;&gt;&#013;File:        c:\\anaconda3\\lib\\site-packages\\ipython\\__init__.py&#013;Docstring:  &#013;IPython: tools for interactive and parallel computing in Python.&#013;&#013;https://ipython.org\">IPython</span> import <span style=\"border-bottom: 1px dotted gray;\" title=\"Signature: get_ipython()&#013;Docstring:&#013;Get the global InteractiveShell instance.&#013;&#013;Returns None if no InteractiveShell instance is registered.&#013;File:      c:\\anaconda3\\lib\\site-packages\\ipython\\core\\getipython.py&#013;Type:      function\">get_ipython</span>\n",
       "import <span style=\"border-bottom: 1px dotted gray;\" title=\"Type:        module&#013;String form: &lt;module &#x27;hypothesis.strategies&#x27; from &#x27;C:\\\\Anaconda3\\\\lib\\\\site-packages\\\\hypothesis\\\\strategies.py&#x27;&gt;&#013;File:        c:\\anaconda3\\lib\\site-packages\\hypothesis\\strategies.py&#013;Docstring:   &lt;no docstring&gt;\">hypothesis.strategies</span>, <span style=\"border-bottom: 1px dotted gray;\" title=\"Type:        module&#013;String form: &lt;module &#x27;inspect&#x27; from &#x27;C:\\\\Anaconda3\\\\lib\\\\inspect.py&#x27;&gt;&#013;File:        c:\\anaconda3\\lib\\inspect.py&#013;Docstring:  &#013;Get useful information from live Python objects.&#013;&#013;This module encapsulates the interface provided by the internal special&#013;attributes (co_*, im_*, tb_*, etc.) in a friendlier fashion.&#013;It also provides some help for examining source code and class layout.&#013;&#013;Here are some of the useful functions provided by this module:&#013;&#013;    ismodule(), isclass(), ismethod(), isfunction(), isgeneratorfunction(),&#013;        isgenerator(), istraceback(), isframe(), iscode(), isbuiltin(),&#013;        isroutine() - check object types&#013;    getmembers() - get members of an object that satisfy a given condition&#013;&#013;    getfile(), getsourcefile(), getsource() - find an object&#x27;s source code&#013;    getdoc(), getcomments() - get documentation on an object&#013;    getmodule() - determine the module that an object came from&#013;    getclasstree() - arrange classes so as to represent their hierarchy&#013;&#013;    getargvalues(), getcallargs() - get info about function arguments&#013;    getfullargspec() - same, with support for Python 3 features&#013;    formatargspec(), formatargvalues() - format an argument spec&#013;    getouterframes(), getinnerframes() - get info about frames&#013;    currentframe() - get the current stack frame&#013;    stack(), trace() - get info about frames on the stack or in a traceback&#013;&#013;    signature() - get a Signature object for the callable\">inspect</span>, <span style=\"border-bottom: 1px dotted gray;\" title=\"Type:        module&#013;String form: &lt;module &#x27;pidgin&#x27; from &#x27;c:\\\\users\\\\deathbeds\\\\pidgin\\\\src\\\\pidgin\\\\__init__.py&#x27;&gt;&#013;File:        c:\\users\\deathbeds\\pidgin\\src\\pidgin\\__init__.py&#013;Docstring:   &lt;no docstring&gt;\">pidgin</span>,<span style=\"border-bottom: 1px dotted gray;\" title=\"Type:        module&#013;String form: &lt;module &#x27;contextlib&#x27; from &#x27;C:\\\\Anaconda3\\\\lib\\\\contextlib.py&#x27;&gt;&#013;File:        c:\\anaconda3\\lib\\contextlib.py&#013;Docstring:   Utilities for with-statement contexts.  See PEP 343.\">contextlib</span>, <span style=\"border-bottom: 1px dotted gray;\" title=\"Type:        module&#013;String form: &lt;module &#x27;textwrap&#x27; from &#x27;C:\\\\Anaconda3\\\\lib\\\\textwrap.py&#x27;&gt;&#013;File:        c:\\anaconda3\\lib\\textwrap.py&#013;Docstring:   Text wrapping and filling.\">textwrap</span>, <span style=\"border-bottom: 1px dotted gray;\" title=\"Type:        module&#013;String form: &lt;module &#x27;pytest&#x27; from &#x27;C:\\\\Anaconda3\\\\lib\\\\site-packages\\\\pytest.py&#x27;&gt;&#013;File:        c:\\anaconda3\\lib\\site-packages\\pytest.py&#013;Docstring:   pytest: unit and functional testing with Python.\">pytest</span>, <span style=\"border-bottom: 1px dotted gray;\" title=\"Type:        module&#013;String form: &lt;module &#x27;jinja2&#x27; from &#x27;C:\\\\Anaconda3\\\\lib\\\\site-packages\\\\jinja2\\\\__init__.py&#x27;&gt;&#013;File:        c:\\anaconda3\\lib\\site-packages\\jinja2\\__init__.py&#013;Docstring:  &#013;jinja2&#013;~~~~~~&#013;&#013;Jinja2 is a template engine written in pure Python.  It provides a&#013;Django inspired non-XML syntax but supports inline expressions and&#013;an optional sandboxed environment.&#013;&#013;Nutshell&#013;--------&#013;&#013;Here a small example of a Jinja2 template::&#013;&#013;    {% extends &#x27;base.html&#x27; %}&#013;    {% block title %}Memberlist{% endblock %}&#013;    {% block content %}&#013;      &lt;ul&gt;&#013;      {% for user in users %}&#013;        &lt;li&gt;&lt;a href=&quot;{{ user.url }}&quot;&gt;{{ user.username }}&lt;/a&gt;&lt;/li&gt;&#013;      {% endfor %}&#013;      &lt;/ul&gt;&#013;    {% endblock %}&#013;&#013;&#013;:copyright: (c) 2017 by the Jinja Team.&#013;:license: BSD, see LICENSE for more details.\">jinja2</span>, <span style=\"border-bottom: 1px dotted gray;\" title=\"Type:        module&#013;String form: &lt;module &#x27;IPython&#x27; from &#x27;C:\\\\Anaconda3\\\\lib\\\\site-packages\\\\IPython\\\\__init__.py&#x27;&gt;&#013;File:        c:\\anaconda3\\lib\\site-packages\\ipython\\__init__.py&#013;Docstring:  &#013;IPython: tools for interactive and parallel computing in Python.&#013;&#013;https://ipython.org\">IPython</span>\n",
       "from <span style=\"border-bottom: 1px dotted gray;\" title=\"Type:            ModuleType&#013;String form:     &lt;module &#x27;pidgin.tangle&#x27; from &#x27;c:\\\\users\\\\deathbeds\\\\pidgin\\\\src\\\\pidgin\\\\tangle.ipynb&#x27;&gt;&#013;File:            c:\\users\\deathbeds\\pidgin\\src\\pidgin\\tangle.ipynb&#013;Docstring:      &#013;from IPython import get_ipython; ip = get_ipython()&#013;    %reload_ext pidgin.tangle&#013;&#013;`import pidgin.tangle` modifies the `get_ipython().input_transformer_manager` to accept __Markdown__ source.  The `pidgin.tangle` module&#013;exports:&#013;    &#013;* `pidgin.tangle.markdown_to_python` - is a semi-lossless __Markdown__ to __Python__ converter.&#013;Class docstring: ModuleType combines a module with a PathLike access to simplify access.\">pidgin.tangle</span> import <span style=\"border-bottom: 1px dotted gray;\" title=\"Signature: markdown_to_python(str) -&gt; &#x27;Valid Python Source&#x27;&#013;Docstring: &lt;no docstring&gt;&#013;File:      c:\\users\\deathbeds\\pidgin\\src\\pidgin\\tangle.ipynb&#013;Type:      function\">markdown_to_python</span>\n",
       "%<span style=\"border-bottom: 1px dotted gray;\" title=\"Docstring: Reload an IPython extension by its module name.&#013;File:      c:\\anaconda3\\lib\\site-packages\\ipython\\core\\magics\\extension.py\">reload_ext</span> <span style=\"border-bottom: 1px dotted gray;\" title=\"Type:        module&#013;String form: &lt;module &#x27;pidgin&#x27; from &#x27;c:\\\\users\\\\deathbeds\\\\pidgin\\\\src\\\\pidgin\\\\__init__.py&#x27;&gt;&#013;File:        c:\\users\\deathbeds\\pidgin\\src\\pidgin\\__init__.py&#013;Docstring:   &lt;no docstring&gt;\">pidgin</span>\n",
       "</code>"
      ],
      "text/markdown": [
       "    from IPython import get_ipython\n",
       "    import hypothesis.strategies, inspect, pidgin,contextlib, textwrap, pytest, jinja2, IPython\n",
       "    from pidgin.tangle import markdown_to_python\n",
       "    %reload_ext pidgin"
      ],
      "text/plain": [
       "'    from IPython import get_ipython\\n    import hypothesis.strategies, inspect, pidgin,contextlib, textwrap, pytest, jinja2, IPython\\n    from pidgin.tangle import markdown_to_python\\n    %reload_ext pidgin'"
      ]
     },
     "metadata": {},
     "output_type": "display_data"
    }
   ],
   "source": [
    "    from IPython import get_ipython\n",
    "    import hypothesis.strategies, inspect, pidgin,contextlib, textwrap, pytest, jinja2, IPython\n",
    "    from pidgin.tangle import markdown_to_python\n",
    "    %reload_ext pidgin"
   ]
  },
  {
   "cell_type": "code",
   "execution_count": 2,
   "metadata": {},
   "outputs": [
    {
     "data": {
      "text/html": [
       "<code style=\"white-space: pre;\" title=\"\">@pytest.fixture\n",
       "def <span style=\"border-bottom: 1px dotted gray;\" title=\"Signature: ip()&#013;Docstring: &lt;no docstring&gt;&#013;Source:   &#013;@pytest.fixture&#013;def ip(): &#013;    ip = get_ipython()&#013;    pidgin.load_ipython_extension(ip)&#013;    return ip&#013;File:      c:\\users\\deathbeds\\pidgin\\src\\pidgin\\docs\\&lt;ipython-input-2-82df57936c07&gt;&#013;Type:      function\">ip</span>(): \n",
       "    <span style=\"border-bottom: 1px dotted gray;\" title=\"Signature: ip()&#013;Docstring: &lt;no docstring&gt;&#013;File:      c:\\users\\deathbeds\\pidgin\\src\\pidgin\\docs\\&lt;ipython-input-2-82df57936c07&gt;&#013;Type:      function\">ip</span> = <span style=\"border-bottom: 1px dotted gray;\" title=\"Signature: get_ipython()&#013;Docstring:&#013;Get the global InteractiveShell instance.&#013;&#013;Returns None if no InteractiveShell instance is registered.&#013;File:      c:\\anaconda3\\lib\\site-packages\\ipython\\core\\getipython.py&#013;Type:      function\">get_ipython</span>()\n",
       "    <span style=\"border-bottom: 1px dotted gray;\" title=\"Signature: pidgin.load_ipython_extension(ip=None)&#013;Docstring: &lt;no docstring&gt;&#013;File:      c:\\users\\deathbeds\\pidgin\\src\\pidgin\\readme.ipynb&#013;Type:      function\">pidgin.load_ipython_extension</span>(<span style=\"border-bottom: 1px dotted gray;\" title=\"Signature: ip()&#013;Docstring: &lt;no docstring&gt;&#013;File:      c:\\users\\deathbeds\\pidgin\\src\\pidgin\\docs\\&lt;ipython-input-2-82df57936c07&gt;&#013;Type:      function\">ip</span>)\n",
       "    return <span style=\"border-bottom: 1px dotted gray;\" title=\"Signature: ip()&#013;Docstring: &lt;no docstring&gt;&#013;File:      c:\\users\\deathbeds\\pidgin\\src\\pidgin\\docs\\&lt;ipython-input-2-82df57936c07&gt;&#013;Type:      function\">ip</span>\n",
       "</code>"
      ],
      "text/markdown": [
       "    @pytest.fixture\n",
       "    def ip(): \n",
       "        ip = get_ipython()\n",
       "        pidgin.load_ipython_extension(ip)\n",
       "        return ip"
      ],
      "text/plain": [
       "'    @pytest.fixture\\n    def ip(): \\n        ip = get_ipython()\\n        pidgin.load_ipython_extension(ip)\\n        return ip'"
      ]
     },
     "metadata": {},
     "output_type": "display_data"
    }
   ],
   "source": [
    "    @pytest.fixture\n",
    "    def ip(): \n",
    "        ip = get_ipython()\n",
    "        pidgin.load_ipython_extension(ip)\n",
    "        return ip"
   ]
  },
  {
   "cell_type": "code",
   "execution_count": 3,
   "metadata": {},
   "outputs": [
    {
     "data": {
      "text/html": [
       "<code style=\"white-space: pre;\" title=\"\">def <span style=\"border-bottom: 1px dotted gray;\" title=\"Signature: test_modules()&#013;Docstring: &lt;no docstring&gt;&#013;Source:   &#013;def test_modules():&#013;    import pidgin, pidgin.docs&#013;File:      c:\\users\\deathbeds\\pidgin\\src\\pidgin\\docs\\&lt;ipython-input-3-f06414bca03a&gt;&#013;Type:      function\">test_modules</span>():\n",
       "    import <span style=\"border-bottom: 1px dotted gray;\" title=\"Type:        module&#013;String form: &lt;module &#x27;pidgin&#x27; from &#x27;c:\\\\users\\\\deathbeds\\\\pidgin\\\\src\\\\pidgin\\\\__init__.py&#x27;&gt;&#013;File:        c:\\users\\deathbeds\\pidgin\\src\\pidgin\\__init__.py&#013;Docstring:   &lt;no docstring&gt;\">pidgin</span>, pidgin.docs\n",
       "</code>"
      ],
      "text/markdown": [
       "    def test_modules():\n",
       "        import pidgin, pidgin.docs"
      ],
      "text/plain": [
       "'    def test_modules():\\n        import pidgin, pidgin.docs'"
      ]
     },
     "metadata": {},
     "output_type": "display_data"
    }
   ],
   "source": [
    "    def test_modules():\n",
    "        import pidgin, pidgin.docs"
   ]
  },
  {
   "cell_type": "code",
   "execution_count": 4,
   "metadata": {},
   "outputs": [
    {
     "data": {
      "text/html": [
       "<p>A leading blank line or <strong>;</strong> will suppress output.</p>\n",
       "<code style=\"white-space: pre;\" title=\"\"><span style=\"border-bottom: 1px dotted gray;\" title=\"Type:        str&#013;String form: `no_source` contains no block code in the string.&#013;Length:      49&#013;Docstring:  &#013;str(object=&#x27;&#x27;) -&gt; str&#013;str(bytes_or_buffer[, encoding[, errors]]) -&gt; str&#013;&#013;Create a new string object from the given object. If encoding or&#013;errors is specified, then the object must expose a data buffer&#013;that will be decoded using the given encoding and error handler.&#013;Otherwise, returns the result of object.__str__() (if defined)&#013;or repr(object).&#013;encoding defaults to sys.getdefaultencoding().&#013;errors defaults to &#x27;strict&#x27;.\">no_source</span> =\\\n",
       "</code><p><code><span style=\"border-bottom: 1px dotted gray;\" title=\"Type:        str&#013;String form: `no_source` contains no block code in the string.&#013;Length:      49&#013;Docstring:  &#013;str(object=&#x27;&#x27;) -&gt; str&#013;str(bytes_or_buffer[, encoding[, errors]]) -&gt; str&#013;&#013;Create a new string object from the given object. If encoding or&#013;errors is specified, then the object must expose a data buffer&#013;that will be decoded using the given encoding and error handler.&#013;Otherwise, returns the result of object.__str__() (if defined)&#013;or repr(object).&#013;encoding defaults to sys.getdefaultencoding().&#013;errors defaults to &#x27;strict&#x27;.\">no_source</span>\n",
       "</code> contains no block code in the string.</p>\n"
      ],
      "text/markdown": [
       "    \n",
       "A leading blank line or __;__ will suppress output. \n",
       "\n",
       "    no_source =\\\n",
       "`no_source` contains no block code in the string."
      ],
      "text/plain": [
       "'    \\nA leading blank line or __;__ will suppress output. \\n\\n    no_source =\\\\\\n`no_source` contains no block code in the string.'"
      ]
     },
     "metadata": {},
     "output_type": "display_data"
    }
   ],
   "source": [
    "    \n",
    "A leading blank line or __;__ will suppress output. \n",
    "\n",
    "    no_source =\\\n",
    "`no_source` contains no block code in the string."
   ]
  },
  {
   "cell_type": "code",
   "execution_count": 5,
   "metadata": {},
   "outputs": [
    {
     "data": {
      "text/html": [
       "<code style=\"white-space: pre;\" title=\"\">def <span style=\"border-bottom: 1px dotted gray;\" title=\"Signature: test_no_source()&#013;Docstring:&#013;`test_no_source` demonstrates __Markdown__ source that does not contain any block source.&#013;    &#013;The __Markdown__ is wrapped in `pidgin.tangle.quote` and indented __4__ spaces.&#013;    &#013;        assert markdown_to_python(no_source) == textwrap.indent(&#013;            pidgin.tangle.quote(no_source, &#x27;;&#x27;), &#x27; &#x27;*4)&#013;Source:   &#013;def test_no_source():&#013;    &quot;&quot;&quot;`test_no_source` demonstrates __Markdown__ source that does not contain any block source.&#013;    &#013;The __Markdown__ is wrapped in `pidgin.tangle.quote` and indented __4__ spaces.&#013;    &#013;        assert markdown_to_python(no_source) == textwrap.indent(&#013;            pidgin.tangle.quote(no_source, &#x27;;&#x27;), &#x27; &#x27;*4)&quot;&quot;&quot;;&#013;File:      c:\\users\\deathbeds\\pidgin\\src\\pidgin\\docs\\&lt;ipython-input-5-5c66dccaaca2&gt;&#013;Type:      function\">test_no_source</span>():\n",
       "</code><p><code><span style=\"border-bottom: 1px dotted gray;\" title=\"Signature: test_no_source()&#013;Docstring:&#013;`test_no_source` demonstrates __Markdown__ source that does not contain any block source.&#013;    &#013;The __Markdown__ is wrapped in `pidgin.tangle.quote` and indented __4__ spaces.&#013;    &#013;        assert markdown_to_python(no_source) == textwrap.indent(&#013;            pidgin.tangle.quote(no_source, &#x27;;&#x27;), &#x27; &#x27;*4)&#013;File:      c:\\users\\deathbeds\\pidgin\\src\\pidgin\\docs\\&lt;ipython-input-5-5c66dccaaca2&gt;&#013;Type:      function\">test_no_source</span>\n",
       "</code> demonstrates <strong>Markdown</strong> source that does not contain any block source.</p>\n",
       "<p>The <strong>Markdown</strong> is wrapped in <code><span style=\"border-bottom: 1px dotted gray;\" title=\"Signature: pidgin.tangle.quote(str, punc=&#x27;&#x27;)&#013;Docstring: `quote` wrotes non code objects in triple ticks.&#013;File:      c:\\users\\deathbeds\\pidgin\\src\\pidgin\\tangle.ipynb&#013;Type:      function\">pidgin.tangle.quote</span>\n",
       "</code> and indented <strong>4</strong> spaces.</p>\n",
       "<code style=\"white-space: pre;\" title=\"\">    assert <span style=\"border-bottom: 1px dotted gray;\" title=\"Signature: markdown_to_python(str) -&gt; &#x27;Valid Python Source&#x27;&#013;Docstring: &lt;no docstring&gt;&#013;File:      c:\\users\\deathbeds\\pidgin\\src\\pidgin\\tangle.ipynb&#013;Type:      function\">markdown_to_python</span>(<span style=\"border-bottom: 1px dotted gray;\" title=\"Type:        str&#013;String form: `no_source` contains no block code in the string.&#013;Length:      49&#013;Docstring:  &#013;str(object=&#x27;&#x27;) -&gt; str&#013;str(bytes_or_buffer[, encoding[, errors]]) -&gt; str&#013;&#013;Create a new string object from the given object. If encoding or&#013;errors is specified, then the object must expose a data buffer&#013;that will be decoded using the given encoding and error handler.&#013;Otherwise, returns the result of object.__str__() (if defined)&#013;or repr(object).&#013;encoding defaults to sys.getdefaultencoding().&#013;errors defaults to &#x27;strict&#x27;.\">no_source</span>) == <span style=\"border-bottom: 1px dotted gray;\" title=\"Signature: textwrap.indent(text, prefix, predicate=None)&#013;Docstring:&#013;Adds &#x27;prefix&#x27; to the beginning of selected lines in &#x27;text&#x27;.&#013;&#013;If &#x27;predicate&#x27; is provided, &#x27;prefix&#x27; will only be added to the lines&#013;where &#x27;predicate(line)&#x27; is True. If &#x27;predicate&#x27; is not provided,&#013;it will default to adding &#x27;prefix&#x27; to all non-empty lines that do not&#013;consist solely of whitespace characters.&#013;File:      c:\\anaconda3\\lib\\textwrap.py&#013;Type:      function\">textwrap.indent</span>(\n",
       "        <span style=\"border-bottom: 1px dotted gray;\" title=\"Signature: pidgin.tangle.quote(str, punc=&#x27;&#x27;)&#013;Docstring: `quote` wrotes non code objects in triple ticks.&#013;File:      c:\\users\\deathbeds\\pidgin\\src\\pidgin\\tangle.ipynb&#013;Type:      function\">pidgin.tangle.quote</span>(<span style=\"border-bottom: 1px dotted gray;\" title=\"Type:        str&#013;String form: `no_source` contains no block code in the string.&#013;Length:      49&#013;Docstring:  &#013;str(object=&#x27;&#x27;) -&gt; str&#013;str(bytes_or_buffer[, encoding[, errors]]) -&gt; str&#013;&#013;Create a new string object from the given object. If encoding or&#013;errors is specified, then the object must expose a data buffer&#013;that will be decoded using the given encoding and error handler.&#013;Otherwise, returns the result of object.__str__() (if defined)&#013;or repr(object).&#013;encoding defaults to sys.getdefaultencoding().&#013;errors defaults to &#x27;strict&#x27;.\">no_source</span>, ';'), ' '*4)\n",
       "</code>"
      ],
      "text/markdown": [
       "    def test_no_source():\n",
       "`test_no_source` demonstrates __Markdown__ source that does not contain any block source.\n",
       "        \n",
       "The __Markdown__ is wrapped in `pidgin.tangle.quote` and indented __4__ spaces.\n",
       "        \n",
       "        assert markdown_to_python(no_source) == textwrap.indent(\n",
       "            pidgin.tangle.quote(no_source, ';'), ' '*4)"
      ],
      "text/plain": [
       "\"    def test_no_source():\\n`test_no_source` demonstrates __Markdown__ source that does not contain any block source.\\n        \\nThe __Markdown__ is wrapped in `pidgin.tangle.quote` and indented __4__ spaces.\\n        \\n        assert markdown_to_python(no_source) == textwrap.indent(\\n            pidgin.tangle.quote(no_source, ';'), ' '*4)\""
      ]
     },
     "metadata": {},
     "output_type": "display_data"
    }
   ],
   "source": [
    "    def test_no_source():\n",
    "`test_no_source` demonstrates __Markdown__ source that does not contain any block source.\n",
    "        \n",
    "The __Markdown__ is wrapped in `pidgin.tangle.quote` and indented __4__ spaces.\n",
    "        \n",
    "        assert markdown_to_python(no_source) == textwrap.indent(\n",
    "            pidgin.tangle.quote(no_source, ';'), ' '*4)"
   ]
  },
  {
   "cell_type": "code",
   "execution_count": 6,
   "metadata": {},
   "outputs": [
    {
     "data": {
      "text/html": [
       "<code style=\"white-space: pre;\" title=\"\">def <span style=\"border-bottom: 1px dotted gray;\" title=\"Signature: some_function()&#013;Docstring: &lt;no docstring&gt;&#013;Source:   &#013;def some_function():&#013;    return (&#013;        &quot;more&quot;&#013;        &quot;more&quot;&#013;    )&#013;File:      c:\\users\\deathbeds\\pidgin\\src\\pidgin\\docs\\&lt;ipython-input-6-4a0ae4703a88&gt;&#013;Type:      function\">some_function</span>():\n",
       "    return (\n",
       "        \"more\"\n",
       "        \"more\"\n",
       "    )\n",
       "</code><p>Trailing string</p>\n",
       "<code style=\"white-space: pre;\" title=\"\">def <span style=\"border-bottom: 1px dotted gray;\" title=\"Signature: test_multiline_return()&#013;Docstring: &lt;no docstring&gt;&#013;Source:   &#013;def test_multiline_return():&#013;    assert &quot;Trailing string&quot; not in inspect.getsource(some_function)&#013;File:      c:\\users\\deathbeds\\pidgin\\src\\pidgin\\docs\\&lt;ipython-input-6-4a0ae4703a88&gt;&#013;Type:      function\">test_multiline_return</span>():\n",
       "    assert \"Trailing string\" not in <span style=\"border-bottom: 1px dotted gray;\" title=\"Signature: inspect.getsource(object)&#013;Docstring:&#013;Return the text of the source code for an object.&#013;&#013;The argument may be a module, class, method, function, traceback, frame,&#013;or code object.  The source code is returned as a single string.  An&#013;OSError is raised if the source code cannot be retrieved.&#013;File:      c:\\anaconda3\\lib\\inspect.py&#013;Type:      function\">inspect.getsource</span>(<span style=\"border-bottom: 1px dotted gray;\" title=\"Signature: some_function()&#013;Docstring: &lt;no docstring&gt;&#013;File:      c:\\users\\deathbeds\\pidgin\\src\\pidgin\\docs\\&lt;ipython-input-6-4a0ae4703a88&gt;&#013;Type:      function\">some_function</span>)\n",
       "</code>"
      ],
      "text/markdown": [
       "    def some_function():\n",
       "        return (\n",
       "            \"more\"\n",
       "            \"more\"\n",
       "        )\n",
       "Trailing string\n",
       "\n",
       "    def test_multiline_return():\n",
       "        assert \"Trailing string\" not in inspect.getsource(some_function)"
      ],
      "text/plain": [
       "'    def some_function():\\n        return (\\n            \"more\"\\n            \"more\"\\n        )\\nTrailing string\\n\\n    def test_multiline_return():\\n        assert \"Trailing string\" not in inspect.getsource(some_function)'"
      ]
     },
     "metadata": {},
     "output_type": "display_data"
    }
   ],
   "source": [
    "    def some_function():\n",
    "        return (\n",
    "            \"more\"\n",
    "            \"more\"\n",
    "        )\n",
    "Trailing string\n",
    "\n",
    "    def test_multiline_return():\n",
    "        assert \"Trailing string\" not in inspect.getsource(some_function)"
   ]
  },
  {
   "cell_type": "code",
   "execution_count": 7,
   "metadata": {},
   "outputs": [
    {
     "data": {
      "text/html": [
       "<code style=\"white-space: pre;\" title=\"\">@hypothesis.given(<span style=\"border-bottom: 1px dotted gray;\" title=\"Signature: hypothesis.strategies.text(alphabet=None, min_size=None, average_size=None, max_size=None)&#013;Docstring:&#013;Generates values of a unicode text type (unicode on python 2, str on&#013;python 3) with values drawn from alphabet, which should be an iterable of&#013;length one strings or a strategy generating such. If it is None it will&#013;default to generating the full unicode range (excluding surrogate&#013;characters). If it is an empty collection this will only generate empty&#013;strings.&#013;&#013;min_size and max_size have the usual interpretations.&#013;&#013;The average_size argument is deprecated.  Internal upgrades since&#013;Hypothesis 1.x mean we no longer needed this hint to generate useful data.&#013;&#013;Examples from this strategy shrink towards shorter strings, and with the&#013;characters in the text shrinking as per the alphabet strategy.&#013;File:      c:\\anaconda3\\lib\\site-packages\\hypothesis\\strategies.py&#013;Type:      function\">hypothesis.strategies.text</span>())\n",
       "def <span style=\"border-bottom: 1px dotted gray;\" title=\"Signature: test_random_strings() -&gt; None&#013;Source:   &#013;@hypothesis.given(hypothesis.strategies.text())&#013;def test_random_strings(str): &#013;    &quot;&quot;&quot;`test_random_strings` assures that there are no errors for random ass strings.&#013;   &#013;        markdown_to_python(str)&quot;&quot;&quot;;&#013;File:      c:\\users\\deathbeds\\pidgin\\src\\pidgin\\docs\\&lt;ipython-input-7-8ee4954655d0&gt;&#013;Type:      function\">test_random_strings</span>(str): \n",
       "</code><p><code><span style=\"border-bottom: 1px dotted gray;\" title=\"Signature: test_random_strings() -&gt; None&#013;Docstring:&#013;`test_random_strings` assures that there are no errors for random ass strings.&#013;&#013;markdown_to_python(str)&#013;File:      c:\\users\\deathbeds\\pidgin\\src\\pidgin\\docs\\&lt;ipython-input-7-8ee4954655d0&gt;&#013;Type:      function\">test_random_strings</span>\n",
       "</code> assures that there are no errors for random ass strings.</p>\n",
       "<code style=\"white-space: pre;\" title=\"\">    <span style=\"border-bottom: 1px dotted gray;\" title=\"Signature: markdown_to_python(str) -&gt; &#x27;Valid Python Source&#x27;&#013;Docstring: &lt;no docstring&gt;&#013;File:      c:\\users\\deathbeds\\pidgin\\src\\pidgin\\tangle.ipynb&#013;Type:      function\">markdown_to_python</span>(str) \n",
       "</code>"
      ],
      "text/markdown": [
       "    @hypothesis.given(hypothesis.strategies.text())\n",
       "    def test_random_strings(str): \n",
       "`test_random_strings` assures that there are no errors for random ass strings.\n",
       "       \n",
       "        markdown_to_python(str) "
      ],
      "text/plain": [
       "'    @hypothesis.given(hypothesis.strategies.text())\\n    def test_random_strings(str): \\n`test_random_strings` assures that there are no errors for random ass strings.\\n       \\n        markdown_to_python(str) '"
      ]
     },
     "metadata": {},
     "output_type": "display_data"
    }
   ],
   "source": [
    "    @hypothesis.given(hypothesis.strategies.text())\n",
    "    def test_random_strings(str): \n",
    "`test_random_strings` assures that there are no errors for random ass strings.\n",
    "       \n",
    "        markdown_to_python(str) "
   ]
  },
  {
   "cell_type": "code",
   "execution_count": 8,
   "metadata": {},
   "outputs": [
    {
     "data": {
      "text/html": [
       "<code style=\"white-space: pre;\" title=\"\">def <span style=\"border-bottom: 1px dotted gray;\" title=\"Signature: function_pidgin_docstring()&#013;Source:   &#013;def function_pidgin_docstring():&#013;    &quot;&quot;&quot;This function has a docstring&quot;&quot;&quot;&#013;File:      c:\\users\\deathbeds\\pidgin\\src\\pidgin\\docs\\&lt;ipython-input-8-f61921923aa4&gt;&#013;Type:      function\">function_pidgin_docstring</span>():\n",
       "</code><p>This function has a docstring</p>\n",
       "<code style=\"white-space: pre;\" title=\"\">def <span style=\"border-bottom: 1px dotted gray;\" title=\"Signature: function_normal_docstring()&#013;Source:   &#013;def function_normal_docstring():&#013;    &quot;&quot;&quot;This function has a docstring&quot;&quot;&quot;&#013;File:      c:\\users\\deathbeds\\pidgin\\src\\pidgin\\docs\\&lt;ipython-input-8-f61921923aa4&gt;&#013;Type:      function\">function_normal_docstring</span>():\n",
       "    \"\"\"This function has a docstring\"\"\"\n",
       "\n",
       "def <span style=\"border-bottom: 1px dotted gray;\" title=\"Signature: test_function_docstrings()&#013;Docstring: &lt;no docstring&gt;&#013;Source:   &#013;def test_function_docstrings():&#013;    assert inspect.getdoc(function_normal_docstring) == inspect.getdoc(function_pidgin_docstring)&#013;File:      c:\\users\\deathbeds\\pidgin\\src\\pidgin\\docs\\&lt;ipython-input-8-f61921923aa4&gt;&#013;Type:      function\">test_function_docstrings</span>():\n",
       "    assert <span style=\"border-bottom: 1px dotted gray;\" title=\"Signature: inspect.getdoc(object)&#013;Docstring:&#013;Get the documentation string for an object.&#013;&#013;All tabs are expanded to spaces.  To clean up docstrings that are&#013;indented to line up with blocks of code, any whitespace than can be&#013;uniformly removed from the second line onwards is removed.&#013;File:      c:\\anaconda3\\lib\\inspect.py&#013;Type:      function\">inspect.getdoc</span>(<span style=\"border-bottom: 1px dotted gray;\" title=\"Signature: function_normal_docstring()&#013;Docstring: This function has a docstring&#013;File:      c:\\users\\deathbeds\\pidgin\\src\\pidgin\\docs\\&lt;ipython-input-8-f61921923aa4&gt;&#013;Type:      function\">function_normal_docstring</span>) == <span style=\"border-bottom: 1px dotted gray;\" title=\"Signature: inspect.getdoc(object)&#013;Docstring:&#013;Get the documentation string for an object.&#013;&#013;All tabs are expanded to spaces.  To clean up docstrings that are&#013;indented to line up with blocks of code, any whitespace than can be&#013;uniformly removed from the second line onwards is removed.&#013;File:      c:\\anaconda3\\lib\\inspect.py&#013;Type:      function\">inspect.getdoc</span>(<span style=\"border-bottom: 1px dotted gray;\" title=\"Signature: function_pidgin_docstring()&#013;Docstring: This function has a docstring&#013;File:      c:\\users\\deathbeds\\pidgin\\src\\pidgin\\docs\\&lt;ipython-input-8-f61921923aa4&gt;&#013;Type:      function\">function_pidgin_docstring</span>)\n",
       "</code>"
      ],
      "text/markdown": [
       "    def function_pidgin_docstring():\n",
       "This function has a docstring\n",
       "\n",
       "    def function_normal_docstring():\n",
       "        \"\"\"This function has a docstring\"\"\"\n",
       "        \n",
       "    def test_function_docstrings():\n",
       "        assert inspect.getdoc(function_normal_docstring) == inspect.getdoc(function_pidgin_docstring)"
      ],
      "text/plain": [
       "'    def function_pidgin_docstring():\\nThis function has a docstring\\n\\n    def function_normal_docstring():\\n        \"\"\"This function has a docstring\"\"\"\\n        \\n    def test_function_docstrings():\\n        assert inspect.getdoc(function_normal_docstring) == inspect.getdoc(function_pidgin_docstring)'"
      ]
     },
     "metadata": {},
     "output_type": "display_data"
    }
   ],
   "source": [
    "    def function_pidgin_docstring():\n",
    "This function has a docstring\n",
    "\n",
    "    def function_normal_docstring():\n",
    "        \"\"\"This function has a docstring\"\"\"\n",
    "        \n",
    "    def test_function_docstrings():\n",
    "        assert inspect.getdoc(function_normal_docstring) == inspect.getdoc(function_pidgin_docstring)"
   ]
  },
  {
   "cell_type": "code",
   "execution_count": 9,
   "metadata": {},
   "outputs": [
    {
     "data": {
      "text/html": [
       "<code style=\"white-space: pre;\" title=\"\"><span style=\"border-bottom: 1px dotted gray;\" title=\"Type:        str&#013;String form:&#013;This is the string value.&#013;&#013;    def test_string_value():&#013;        assert string_value == &quot;This is the string value.&quot; &#013;Length:      115&#013;Docstring:  &#013;str(object=&#x27;&#x27;) -&gt; str&#013;str(bytes_or_buffer[, encoding[, errors]]) -&gt; str&#013;&#013;Create a new string object from the given object. If encoding or&#013;errors is specified, then the object must expose a data buffer&#013;that will be decoded using the given encoding and error handler.&#013;Otherwise, returns the result of object.__str__() (if defined)&#013;or repr(object).&#013;encoding defaults to sys.getdefaultencoding().&#013;errors defaults to &#x27;strict&#x27;.\">string_value</span> =\\\n",
       "</code><p>This is the string value.</p>\n",
       "<code style=\"white-space: pre;\" title=\"\">def test_string_value():\n",
       "    assert <span style=\"border-bottom: 1px dotted gray;\" title=\"Type:        str&#013;String form:&#013;This is the string value.&#013;&#013;    def test_string_value():&#013;        assert string_value == &quot;This is the string value.&quot; &#013;Length:      115&#013;Docstring:  &#013;str(object=&#x27;&#x27;) -&gt; str&#013;str(bytes_or_buffer[, encoding[, errors]]) -&gt; str&#013;&#013;Create a new string object from the given object. If encoding or&#013;errors is specified, then the object must expose a data buffer&#013;that will be decoded using the given encoding and error handler.&#013;Otherwise, returns the result of object.__str__() (if defined)&#013;or repr(object).&#013;encoding defaults to sys.getdefaultencoding().&#013;errors defaults to &#x27;strict&#x27;.\">string_value</span> == \"This is the string value.\"\n",
       "</code>"
      ],
      "text/markdown": [
       "    string_value =\\\n",
       "This is the string value.\n",
       "    \n",
       "    def test_string_value():\n",
       "        assert string_value == \"This is the string value.\""
      ],
      "text/plain": [
       "'    string_value =\\\\\\nThis is the string value.\\n    \\n    def test_string_value():\\n        assert string_value == \"This is the string value.\"'"
      ]
     },
     "metadata": {},
     "output_type": "display_data"
    }
   ],
   "source": [
    "    string_value =\\\n",
    "This is the string value.\n",
    "    \n",
    "    def test_string_value():\n",
    "        assert string_value == \"This is the string value.\""
   ]
  },
  {
   "cell_type": "code",
   "execution_count": 10,
   "metadata": {},
   "outputs": [
    {
     "data": {
      "text/html": [
       "<code style=\"white-space: pre;\" title=\"\">class <span style=\"border-bottom: 1px dotted gray;\" title=\"Init signature: class_pidgin_docstring()&#013;Docstring:     &#013;This class has a docstring&#013;&#013;class class_normal_docstring():&#013;    &quot;&quot;&quot;This class has a docstring&quot;&quot;&quot;&#013;&#013;def test_class_docstrings():&#013;    assert inspect.getdoc(class_normal_docstring) == inspect.getdoc(class_pidgin_docstring)&#013;Type:           type\">class_pidgin_docstring</span>():\n",
       "</code><p>This class has a docstring</p>\n",
       "<code style=\"white-space: pre;\" title=\"\">class class_normal_docstring():\n",
       "    \"\"\"This class has a docstring\"\"\"\n",
       "\n",
       "def test_class_docstrings():\n",
       "    assert <span style=\"border-bottom: 1px dotted gray;\" title=\"Signature: inspect.getdoc(object)&#013;Docstring:&#013;Get the documentation string for an object.&#013;&#013;All tabs are expanded to spaces.  To clean up docstrings that are&#013;indented to line up with blocks of code, any whitespace than can be&#013;uniformly removed from the second line onwards is removed.&#013;File:      c:\\anaconda3\\lib\\inspect.py&#013;Type:      function\">inspect.getdoc</span>(class_normal_docstring) == <span style=\"border-bottom: 1px dotted gray;\" title=\"Signature: inspect.getdoc(object)&#013;Docstring:&#013;Get the documentation string for an object.&#013;&#013;All tabs are expanded to spaces.  To clean up docstrings that are&#013;indented to line up with blocks of code, any whitespace than can be&#013;uniformly removed from the second line onwards is removed.&#013;File:      c:\\anaconda3\\lib\\inspect.py&#013;Type:      function\">inspect.getdoc</span>(<span style=\"border-bottom: 1px dotted gray;\" title=\"Init signature: class_pidgin_docstring()&#013;Docstring:     &#013;This class has a docstring&#013;&#013;class class_normal_docstring():&#013;    &quot;&quot;&quot;This class has a docstring&quot;&quot;&quot;&#013;&#013;def test_class_docstrings():&#013;    assert inspect.getdoc(class_normal_docstring) == inspect.getdoc(class_pidgin_docstring)&#013;Type:           type\">class_pidgin_docstring</span>)\n",
       "</code>"
      ],
      "text/markdown": [
       "    class class_pidgin_docstring():\n",
       "This class has a docstring\n",
       "    \n",
       "    class class_normal_docstring():\n",
       "        \"\"\"This class has a docstring\"\"\"\n",
       "        \n",
       "    def test_class_docstrings():\n",
       "        assert inspect.getdoc(class_normal_docstring) == inspect.getdoc(class_pidgin_docstring)"
      ],
      "text/plain": [
       "'    class class_pidgin_docstring():\\nThis class has a docstring\\n    \\n    class class_normal_docstring():\\n        \"\"\"This class has a docstring\"\"\"\\n        \\n    def test_class_docstrings():\\n        assert inspect.getdoc(class_normal_docstring) == inspect.getdoc(class_pidgin_docstring)'"
      ]
     },
     "metadata": {},
     "output_type": "display_data"
    }
   ],
   "source": [
    "    class class_pidgin_docstring():\n",
    "This class has a docstring\n",
    "    \n",
    "    class class_normal_docstring():\n",
    "        \"\"\"This class has a docstring\"\"\"\n",
    "        \n",
    "    def test_class_docstrings():\n",
    "        assert inspect.getdoc(class_normal_docstring) == inspect.getdoc(class_pidgin_docstring)"
   ]
  },
  {
   "cell_type": "code",
   "execution_count": 11,
   "metadata": {},
   "outputs": [
    {
     "data": {
      "text/html": [
       "<code style=\"white-space: pre;\" title=\"\">def <span style=\"border-bottom: 1px dotted gray;\" title=\"Signature: function_pidgin_docstring()&#013;Source:   &#013;def function_pidgin_docstring():&#013;    &quot;&quot;&quot;This function has a docstring&quot;&quot;&quot;&#013;File:      c:\\users\\deathbeds\\pidgin\\src\\pidgin\\docs\\&lt;ipython-input-11-f61921923aa4&gt;&#013;Type:      function\">function_pidgin_docstring</span>():\n",
       "</code><p>This function has a docstring</p>\n",
       "<code style=\"white-space: pre;\" title=\"\">def <span style=\"border-bottom: 1px dotted gray;\" title=\"Signature: function_normal_docstring()&#013;Source:   &#013;def function_normal_docstring():&#013;    &quot;&quot;&quot;This function has a docstring&quot;&quot;&quot;&#013;File:      c:\\users\\deathbeds\\pidgin\\src\\pidgin\\docs\\&lt;ipython-input-11-f61921923aa4&gt;&#013;Type:      function\">function_normal_docstring</span>():\n",
       "    \"\"\"This function has a docstring\"\"\"\n",
       "\n",
       "def <span style=\"border-bottom: 1px dotted gray;\" title=\"Signature: test_function_docstrings()&#013;Docstring: &lt;no docstring&gt;&#013;Source:   &#013;def test_function_docstrings():&#013;    assert inspect.getdoc(function_normal_docstring) == inspect.getdoc(function_pidgin_docstring)&#013;File:      c:\\users\\deathbeds\\pidgin\\src\\pidgin\\docs\\&lt;ipython-input-11-f61921923aa4&gt;&#013;Type:      function\">test_function_docstrings</span>():\n",
       "    assert <span style=\"border-bottom: 1px dotted gray;\" title=\"Signature: inspect.getdoc(object)&#013;Docstring:&#013;Get the documentation string for an object.&#013;&#013;All tabs are expanded to spaces.  To clean up docstrings that are&#013;indented to line up with blocks of code, any whitespace than can be&#013;uniformly removed from the second line onwards is removed.&#013;File:      c:\\anaconda3\\lib\\inspect.py&#013;Type:      function\">inspect.getdoc</span>(<span style=\"border-bottom: 1px dotted gray;\" title=\"Signature: function_normal_docstring()&#013;Docstring: This function has a docstring&#013;File:      c:\\users\\deathbeds\\pidgin\\src\\pidgin\\docs\\&lt;ipython-input-11-f61921923aa4&gt;&#013;Type:      function\">function_normal_docstring</span>) == <span style=\"border-bottom: 1px dotted gray;\" title=\"Signature: inspect.getdoc(object)&#013;Docstring:&#013;Get the documentation string for an object.&#013;&#013;All tabs are expanded to spaces.  To clean up docstrings that are&#013;indented to line up with blocks of code, any whitespace than can be&#013;uniformly removed from the second line onwards is removed.&#013;File:      c:\\anaconda3\\lib\\inspect.py&#013;Type:      function\">inspect.getdoc</span>(<span style=\"border-bottom: 1px dotted gray;\" title=\"Signature: function_pidgin_docstring()&#013;Docstring: This function has a docstring&#013;File:      c:\\users\\deathbeds\\pidgin\\src\\pidgin\\docs\\&lt;ipython-input-11-f61921923aa4&gt;&#013;Type:      function\">function_pidgin_docstring</span>)\n",
       "</code>"
      ],
      "text/markdown": [
       "    def function_pidgin_docstring():\n",
       "This function has a docstring\n",
       "\n",
       "    def function_normal_docstring():\n",
       "        \"\"\"This function has a docstring\"\"\"\n",
       "        \n",
       "    def test_function_docstrings():\n",
       "        assert inspect.getdoc(function_normal_docstring) == inspect.getdoc(function_pidgin_docstring)"
      ],
      "text/plain": [
       "'    def function_pidgin_docstring():\\nThis function has a docstring\\n\\n    def function_normal_docstring():\\n        \"\"\"This function has a docstring\"\"\"\\n        \\n    def test_function_docstrings():\\n        assert inspect.getdoc(function_normal_docstring) == inspect.getdoc(function_pidgin_docstring)'"
      ]
     },
     "metadata": {},
     "output_type": "display_data"
    }
   ],
   "source": [
    "    def function_pidgin_docstring():\n",
    "This function has a docstring\n",
    "\n",
    "    def function_normal_docstring():\n",
    "        \"\"\"This function has a docstring\"\"\"\n",
    "        \n",
    "    def test_function_docstrings():\n",
    "        assert inspect.getdoc(function_normal_docstring) == inspect.getdoc(function_pidgin_docstring)"
   ]
  },
  {
   "cell_type": "code",
   "execution_count": 12,
   "metadata": {},
   "outputs": [
    {
     "data": {
      "text/html": [
       "<code style=\"white-space: pre;\" title=\"\">import <span style=\"border-bottom: 1px dotted gray;\" title=\"Type:        module&#013;String form: &lt;module &#x27;io&#x27; from &#x27;C:\\\\Anaconda3\\\\lib\\\\io.py&#x27;&gt;&#013;File:        c:\\anaconda3\\lib\\io.py&#013;Docstring:  &#013;The io module provides the Python interfaces to stream handling. The&#013;builtin open function is defined in this module.&#013;&#013;At the top of the I/O hierarchy is the abstract base class IOBase. It&#013;defines the basic interface to a stream. Note, however, that there is no&#013;separation between reading and writing to streams; implementations are&#013;allowed to raise an OSError if they do not support a given operation.&#013;&#013;Extending IOBase is RawIOBase which deals simply with the reading and&#013;writing of raw bytes to a stream. FileIO subclasses RawIOBase to provide&#013;an interface to OS files.&#013;&#013;BufferedIOBase deals with buffering on a raw byte stream (RawIOBase). Its&#013;subclasses, BufferedWriter, BufferedReader, and BufferedRWPair buffer&#013;streams that are readable, writable, and both respectively.&#013;BufferedRandom provides a buffered interface to random access&#013;streams. BytesIO is a simple stream of in-memory bytes.&#013;&#013;Another IOBase subclass, TextIOBase, deals with the encoding and decoding&#013;of streams into text. TextIOWrapper, which extends it, is a buffered text&#013;interface to a buffered raw stream (`BufferedIOBase`). Finally, StringIO&#013;is an in-memory stream for text.&#013;&#013;Argument names are not part of the specification, and only the arguments&#013;of open() are intended to be used as keyword arguments.&#013;&#013;data:&#013;&#013;DEFAULT_BUFFER_SIZE&#013;&#013;   An int containing the default buffer size used by the module&#x27;s buffered&#013;   I/O classes. open() uses the file&#x27;s blksize (as obtained by os.stat) if&#013;   possible.\">io</span>\n",
       "</code>"
      ],
      "text/markdown": [
       "    import io"
      ],
      "text/plain": [
       "'    import io'"
      ]
     },
     "metadata": {},
     "output_type": "display_data"
    }
   ],
   "source": [
    "    import io"
   ]
  },
  {
   "cell_type": "code",
   "execution_count": 13,
   "metadata": {},
   "outputs": [
    {
     "data": {
      "text/html": [
       "<code style=\"white-space: pre;\" title=\"\">def <span style=\"border-bottom: 1px dotted gray;\" title=\"Signature: Result(str)&#013;Docstring: &lt;no docstring&gt;&#013;Source:   &#013;def Result(str):&#013;    return IPython.core.interactiveshell.ExecutionResult(&#013;        IPython.core.interactiveshell.ExecutionInfo(str, False, False, False))&#013;File:      c:\\users\\deathbeds\\pidgin\\src\\pidgin\\docs\\&lt;ipython-input-13-09a3ccc27782&gt;&#013;Type:      function\">Result</span>(str):\n",
       "    return <span style=\"border-bottom: 1px dotted gray;\" title=\"Init signature: IPython.core.interactiveshell.ExecutionResult(info)&#013;Docstring:     &#013;The result of a call to :meth:`InteractiveShell.run_cell`&#013;&#013;Stores information about what took place.&#013;File:           c:\\anaconda3\\lib\\site-packages\\ipython\\core\\interactiveshell.py&#013;Type:           type\">IPython.core.interactiveshell.ExecutionResult</span>(\n",
       "        <span style=\"border-bottom: 1px dotted gray;\" title=\"Init signature: IPython.core.interactiveshell.ExecutionInfo(raw_cell, store_history, silent, shell_futures)&#013;Docstring:     &#013;The arguments used for a call to :meth:`InteractiveShell.run_cell`&#013;&#013;Stores information about what is going to happen.&#013;File:           c:\\anaconda3\\lib\\site-packages\\ipython\\core\\interactiveshell.py&#013;Type:           type\">IPython.core.interactiveshell.ExecutionInfo</span>(str, False, False, False))\n",
       "</code>"
      ],
      "text/markdown": [
       "    def Result(str):\n",
       "        return IPython.core.interactiveshell.ExecutionResult(\n",
       "            IPython.core.interactiveshell.ExecutionInfo(str, False, False, False))"
      ],
      "text/plain": [
       "'    def Result(str):\\n        return IPython.core.interactiveshell.ExecutionResult(\\n            IPython.core.interactiveshell.ExecutionInfo(str, False, False, False))'"
      ]
     },
     "metadata": {},
     "output_type": "display_data"
    }
   ],
   "source": [
    "    def Result(str):\n",
    "        return IPython.core.interactiveshell.ExecutionResult(\n",
    "            IPython.core.interactiveshell.ExecutionInfo(str, False, False, False))"
   ]
  },
  {
   "cell_type": "code",
   "execution_count": 14,
   "metadata": {},
   "outputs": [
    {
     "data": {
      "text/html": [
       "<code style=\"white-space: pre;\" title=\"\">def <span style=\"border-bottom: 1px dotted gray;\" title=\"Signature: test_doctest_failure(ip)&#013;Docstring: &lt;no docstring&gt;&#013;Source:   &#013;def test_doctest_failure(ip):&#013;    result = Result(&quot;&quot;&quot;&gt;&gt;&gt; assert False&quot;&quot;&quot;)&#013;    result.error_in_exec = pidgin.doctesting.run_cell_doctests(ip, result)&#013;    assert isinstance(result.error_in_exec, pidgin.doctesting.DocTestException)&#013;File:      c:\\users\\deathbeds\\pidgin\\src\\pidgin\\docs\\&lt;ipython-input-14-bd6d0472bc39&gt;&#013;Type:      function\">test_doctest_failure</span>(<span style=\"border-bottom: 1px dotted gray;\" title=\"Signature: ip()&#013;Docstring: &lt;no docstring&gt;&#013;File:      c:\\users\\deathbeds\\pidgin\\src\\pidgin\\docs\\&lt;ipython-input-2-82df57936c07&gt;&#013;Type:      function\">ip</span>):\n",
       "    result = <span style=\"border-bottom: 1px dotted gray;\" title=\"Signature: Result(str)&#013;Docstring: &lt;no docstring&gt;&#013;File:      c:\\users\\deathbeds\\pidgin\\src\\pidgin\\docs\\&lt;ipython-input-13-09a3ccc27782&gt;&#013;Type:      function\">Result</span>(\"\"\">>> assert False\"\"\")\n",
       "    result.error_in_exec = <span style=\"border-bottom: 1px dotted gray;\" title=\"Signature: pidgin.doctesting.run_cell_doctests(ip, result) -&gt; Exception&#013;Docstring: `run_cell_doctests` runs any `doctest`s found in the raw source.&#013;File:      c:\\users\\deathbeds\\pidgin\\src\\pidgin\\doctesting.ipynb&#013;Type:      function\">pidgin.doctesting.run_cell_doctests</span>(<span style=\"border-bottom: 1px dotted gray;\" title=\"Signature: ip()&#013;Docstring: &lt;no docstring&gt;&#013;File:      c:\\users\\deathbeds\\pidgin\\src\\pidgin\\docs\\&lt;ipython-input-2-82df57936c07&gt;&#013;Type:      function\">ip</span>, result)\n",
       "    assert isinstance(result.error_in_exec, <span style=\"border-bottom: 1px dotted gray;\" title=\"Init signature: pidgin.doctesting.DocTestException(self, /, *args, **kwargs)&#013;Docstring:      Common base class for all exceptions&#013;File:           c:\\users\\deathbeds\\pidgin\\src\\pidgin\\doctesting.ipynb&#013;Type:           type\">pidgin.doctesting.DocTestException</span>)\n",
       "</code>"
      ],
      "text/markdown": [
       "    def test_doctest_failure(ip):\n",
       "        result = Result(\"\"\">>> assert False\"\"\")\n",
       "        result.error_in_exec = pidgin.doctesting.run_cell_doctests(ip, result)\n",
       "        assert isinstance(result.error_in_exec, pidgin.doctesting.DocTestException)"
      ],
      "text/plain": [
       "'    def test_doctest_failure(ip):\\n        result = Result(\"\"\">>> assert False\"\"\")\\n        result.error_in_exec = pidgin.doctesting.run_cell_doctests(ip, result)\\n        assert isinstance(result.error_in_exec, pidgin.doctesting.DocTestException)'"
      ]
     },
     "metadata": {},
     "output_type": "display_data"
    }
   ],
   "source": [
    "    def test_doctest_failure(ip):\n",
    "        result = Result(\"\"\">>> assert False\"\"\")\n",
    "        result.error_in_exec = pidgin.doctesting.run_cell_doctests(ip, result)\n",
    "        assert isinstance(result.error_in_exec, pidgin.doctesting.DocTestException)"
   ]
  },
  {
   "cell_type": "markdown",
   "metadata": {},
   "source": [
    "    def test_jinja_failure(ip):\n",
    "        result = Result(\"\"\"\\{\\{rang}}\"\"\")\n",
    "        pidgin.weave.run_cell_display(result)\n",
    "        assert isinstance(result.error_in_exec, jinja2.TemplateError)"
   ]
  },
  {
   "cell_type": "code",
   "execution_count": 15,
   "metadata": {},
   "outputs": [
    {
     "data": {
      "text/html": [
       "<code style=\"white-space: pre;\" title=\"\">def <span style=\"border-bottom: 1px dotted gray;\" title=\"Signature: test_imports()&#013;Source:   &#013;def test_imports():&#013;    &quot;&quot;&quot;`test_imports` demonstrates the ability to import __Markdown__ and __Pidgin__ file extensions.&quot;&quot;&quot;&#013;&#013;    with pidgin.loader.PidginImporter():&#013;        from pidgin.docs import test_pidgin&#013;    with pidgin.loader.MarkdownImporter():&#013;        from pidgin.docs import test_markdown&#013;    assert test_pidgin.__file__.endswith(&#x27;.md.ipynb&#x27;)&#013;    assert test_markdown.__file__.endswith(&#x27;.md&#x27;)&#013;File:      c:\\users\\deathbeds\\pidgin\\src\\pidgin\\docs\\&lt;ipython-input-15-709cc5257121&gt;&#013;Type:      function\">test_imports</span>():\n",
       "</code><p><code><span style=\"border-bottom: 1px dotted gray;\" title=\"Signature: test_imports()&#013;Docstring: `test_imports` demonstrates the ability to import __Markdown__ and __Pidgin__ file extensions.&#013;File:      c:\\users\\deathbeds\\pidgin\\src\\pidgin\\docs\\&lt;ipython-input-15-709cc5257121&gt;&#013;Type:      function\">test_imports</span>\n",
       "</code> demonstrates the ability to import <strong>Markdown</strong> and <strong>Pidgin</strong> file extensions.</p>\n",
       "<code style=\"white-space: pre;\" title=\"\">    with <span style=\"border-bottom: 1px dotted gray;\" title=\"Init signature: pidgin.loader.PidginImporter(fullname=None, path=None, lazy=False, position=0, fuzzy=True, markdown_docstring=True, main=False)&#013;Docstring:     &#013;Notebook is a user friendly file finder and module loader for notebook source code.&#013;&#013;&gt; Remember, restart and run all or it didn&#x27;t happen.&#013;&#013;Notebook provides several useful options.&#013;&#013;* Lazy module loading.  A module is executed the first time it is used in a script.&#013;File:           c:\\users\\deathbeds\\pidgin\\src\\pidgin\\loader.ipynb&#013;Type:           type\">pidgin.loader.PidginImporter</span>():\n",
       "        from pidgin.docs import test_pidgin\n",
       "    with <span style=\"border-bottom: 1px dotted gray;\" title=\"Init signature: pidgin.loader.MarkdownImporter(fullname=None, path=None, lazy=False, position=0, fuzzy=True, markdown_docstring=True, main=False)&#013;Docstring:      `MarkdownImporter` imports __Markdown__ files are source.  By default they recieve a Markdown repr.&#013;File:           c:\\users\\deathbeds\\pidgin\\src\\pidgin\\loader.ipynb&#013;Type:           type\">pidgin.loader.MarkdownImporter</span>():\n",
       "        from pidgin.docs import test_markdown\n",
       "    assert test_pidgin.__file__.endswith('.md.ipynb')\n",
       "    assert test_markdown.__file__.endswith('.md')\n",
       "</code>"
      ],
      "text/markdown": [
       "    def test_imports():\n",
       "`test_imports` demonstrates the ability to import __Markdown__ and __Pidgin__ file extensions.\n",
       "\n",
       "        with pidgin.loader.PidginImporter():\n",
       "            from pidgin.docs import test_pidgin\n",
       "        with pidgin.loader.MarkdownImporter():\n",
       "            from pidgin.docs import test_markdown\n",
       "        assert test_pidgin.__file__.endswith('.md.ipynb')\n",
       "        assert test_markdown.__file__.endswith('.md')"
      ],
      "text/plain": [
       "\"    def test_imports():\\n`test_imports` demonstrates the ability to import __Markdown__ and __Pidgin__ file extensions.\\n\\n        with pidgin.loader.PidginImporter():\\n            from pidgin.docs import test_pidgin\\n        with pidgin.loader.MarkdownImporter():\\n            from pidgin.docs import test_markdown\\n        assert test_pidgin.__file__.endswith('.md.ipynb')\\n        assert test_markdown.__file__.endswith('.md')\""
      ]
     },
     "metadata": {},
     "output_type": "display_data"
    }
   ],
   "source": [
    "    def test_imports():\n",
    "`test_imports` demonstrates the ability to import __Markdown__ and __Pidgin__ file extensions.\n",
    "\n",
    "        with pidgin.loader.PidginImporter():\n",
    "            from pidgin.docs import test_pidgin\n",
    "        with pidgin.loader.MarkdownImporter():\n",
    "            from pidgin.docs import test_markdown\n",
    "        assert test_pidgin.__file__.endswith('.md.ipynb')\n",
    "        assert test_markdown.__file__.endswith('.md')"
   ]
  },
  {
   "cell_type": "code",
   "execution_count": 16,
   "metadata": {},
   "outputs": [
    {
     "data": {
      "text/html": [
       "<code style=\"white-space: pre;\" title=\"\">def <span style=\"border-bottom: 1px dotted gray;\" title=\"Signature: test_block_string_markdown()&#013;Docstring: &lt;no docstring&gt;&#013;Source:   &#013;def test_block_string_markdown():&#013;    a = 20&#013;    object = F&quot;&quot;&quot;&#013;    {a} is the value of a&#013;&#013;    &quot;&quot;&quot;&#013;    assert object.strip().startswith(str(a))&#013;File:      c:\\users\\deathbeds\\pidgin\\src\\pidgin\\docs\\&lt;ipython-input-16-94e02cac9391&gt;&#013;Type:      function\">test_block_string_markdown</span>():\n",
       "    <span style=\"border-bottom: 1px dotted gray;\" title=\"Signature:   a(*tuple, **dict)&#013;Type:        curry&#013;String form: curry(object=(&lt;class &#x27;poser.compose&#x27;&gt;,), args=(), keywords={})&#013;Length:      1&#013;File:        c:\\users\\deathbeds\\poser\\poser.py&#013;Docstring:   curry(*tuple, **dict)\">a</span> = 20\n",
       "    object = F\"\"\"\n",
       "</code><p>{a} is the value of a</p>\n",
       "<code style=\"white-space: pre;\" title=\"\">    \"\"\"\n",
       "    assert object.strip().startswith(str(a))\n",
       "</code>"
      ],
      "text/markdown": [
       "    def test_block_string_markdown():\n",
       "        a = 20\n",
       "        object = F\"\"\"\n",
       "{a} is the value of a\n",
       "\n",
       "        \"\"\"\n",
       "        assert object.strip().startswith(str(a))"
      ],
      "text/plain": [
       "'    def test_block_string_markdown():\\n        a = 20\\n        object = F\"\"\"\\n{a} is the value of a\\n\\n        \"\"\"\\n        assert object.strip().startswith(str(a))'"
      ]
     },
     "metadata": {},
     "output_type": "display_data"
    }
   ],
   "source": [
    "    def test_block_string_markdown():\n",
    "        a = 20\n",
    "        object = F\"\"\"\n",
    "{a} is the value of a\n",
    "\n",
    "        \"\"\"\n",
    "        assert object.strip().startswith(str(a))"
   ]
  },
  {
   "cell_type": "code",
   "execution_count": 17,
   "metadata": {},
   "outputs": [
    {
     "data": {
      "text/plain": [
       "22"
      ]
     },
     "metadata": {},
     "output_type": "display_data"
    },
    {
     "data": {
      "text/html": [
       "<p><code><span style=\"border-bottom: 1px dotted gray;\" title=\"Type:        module&#013;String form: &lt;module &#x27;pidgin&#x27; from &#x27;c:\\\\users\\\\deathbeds\\\\pidgin\\\\src\\\\pidgin\\\\__init__.py&#x27;&gt;&#013;File:        c:\\users\\deathbeds\\pidgin\\src\\pidgin\\__init__.py&#013;Docstring:   &lt;no docstring&gt;\">pidgin</span>\n",
       "</code> permits the <strong>return</strong> statement in code cells.  This opinion makes it easier for author \n",
       "to transition to functions and assist the author in identifying their current goal.</p>\n",
       "<code style=\"white-space: pre;\" title=\"\">return 22\n",
       "</code>"
      ],
      "text/markdown": [
       "`pidgin` permits the __return__ statement in code cells.  This opinion makes it easier for author \n",
       "to transition to functions and assist the author in identifying their current goal.\n",
       "\n",
       "    return 22"
      ],
      "text/plain": [
       "'`pidgin` permits the __return__ statement in code cells.  This opinion makes it easier for author \\nto transition to functions and assist the author in identifying their current goal.\\n\\n    return 22'"
      ]
     },
     "metadata": {},
     "output_type": "display_data"
    }
   ],
   "source": [
    "`pidgin` permits the __return__ statement in code cells.  This opinion makes it easier for author \n",
    "to transition to functions and assist the author in identifying their current goal.\n",
    "\n",
    "    return 22"
   ]
  },
  {
   "cell_type": "code",
   "execution_count": 18,
   "metadata": {},
   "outputs": [
    {
     "data": {
      "text/html": [
       "<p><strong>return</strong> will work with markdown blocks</p>\n"
      ],
      "text/markdown": [
       "__return__ will work with markdown blocks"
      ],
      "text/plain": [
       "'__return__ will work with markdown blocks'"
      ]
     },
     "metadata": {},
     "output_type": "display_data"
    },
    {
     "data": {
      "text/html": [
       "<code style=\"white-space: pre;\" title=\"\">return \\\n",
       "</code><p><strong>return</strong> will work with markdown blocks</p>\n"
      ],
      "text/markdown": [
       "    return \\\n",
       "__return__ will work with markdown blocks"
      ],
      "text/plain": [
       "'    return \\\\\\n__return__ will work with markdown blocks'"
      ]
     },
     "metadata": {},
     "output_type": "display_data"
    }
   ],
   "source": [
    "    return \\\n",
    "__return__ will work with markdown blocks"
   ]
  },
  {
   "cell_type": "code",
   "execution_count": 19,
   "metadata": {},
   "outputs": [
    {
     "data": {
      "text/html": [
       "<p><strong>return will work</strong> with markdown blocks</p>\n"
      ],
      "text/markdown": [
       "\n",
       "__return will work__ with markdown blocks\n",
       "\n"
      ],
      "text/plain": [
       "'\\n__return will work__ with markdown blocks\\n\\n'"
      ]
     },
     "metadata": {},
     "output_type": "display_data"
    },
    {
     "data": {
      "text/html": [
       "<hr>\n",
       "<code style=\"white-space: pre;\" title=\"\"><span style=\"border-bottom: 1px dotted gray;\" title=\"Type:        str&#013;String form: return will work&#013;Length:      16&#013;Docstring:  &#013;str(object=&#x27;&#x27;) -&gt; str&#013;str(bytes_or_buffer[, encoding[, errors]]) -&gt; str&#013;&#013;Create a new string object from the given object. If encoding or&#013;errors is specified, then the object must expose a data buffer&#013;that will be decoded using the given encoding and error handler.&#013;Otherwise, returns the result of object.__str__() (if defined)&#013;or repr(object).&#013;encoding defaults to sys.getdefaultencoding().&#013;errors defaults to &#x27;strict&#x27;.\">returns</span> = \\\n",
       "</code><p>return will work</p>\n",
       "<code style=\"white-space: pre;\" title=\"\">return F\"\"\"\n",
       "</code><p><strong>{returns}</strong> with markdown blocks</p>\n",
       "<code style=\"white-space: pre;\" title=\"\">\"\"\"\n",
       "</code>"
      ],
      "text/markdown": [
       "---\n",
       "\n",
       "    returns = \\\n",
       "return will work\n",
       "\n",
       "    return F\"\"\"\n",
       "__{returns}__ with markdown blocks\n",
       "\n",
       "    \"\"\""
      ],
      "text/plain": [
       "'---\\n\\n    returns = \\\\\\nreturn will work\\n\\n    return F\"\"\"\\n__{returns}__ with markdown blocks\\n\\n    \"\"\"'"
      ]
     },
     "metadata": {},
     "output_type": "display_data"
    }
   ],
   "source": [
    "---\n",
    "\n",
    "    returns = \\\n",
    "return will work\n",
    "\n",
    "    return F\"\"\"\n",
    "__{returns}__ with markdown blocks\n",
    "\n",
    "    \"\"\""
   ]
  },
  {
   "cell_type": "code",
   "execution_count": 20,
   "metadata": {},
   "outputs": [
    {
     "name": "stdout",
     "output_type": "stream",
     "text": [
      "try: \n",
      "    print(In[-1])\n",
      "    IPython.display.display(textwrap.indent(In[-1], ' '*4))\n",
      "except: ...\n"
     ]
    },
    {
     "data": {
      "text/html": [
       "<code style=\"white-space: pre;\" title=\"\">try: \n",
       "    print(<span style=\"border-bottom: 1px dotted gray;\" title=\"Type:        list&#013;String form: [&#x27;&#x27;, &quot;from IPython import get_ipython\\nimport hypothesis.strategies, inspect, pidgin,contextlib,  &lt;...&gt; : \\n    print(In[-1])\\n    IPython.display.display(textwrap.indent(In[-1], &#x27; &#x27;*4))\\nexcept: ...&quot;]&#013;Length:      21&#013;Docstring:  &#013;list() -&gt; new empty list&#013;list(iterable) -&gt; new list initialized from iterable&#x27;s items\">In</span>[-1])\n",
       "    <span style=\"border-bottom: 1px dotted gray;\" title=\"Signature: IPython.display.display(*objs, include=None, exclude=None, metadata=None, transient=None, display_id=None, **kwargs)&#013;Docstring:&#013;Display a Python object in all frontends.&#013;&#013;By default all representations will be computed and sent to the frontends.&#013;Frontends can decide which representation is used and how.&#013;&#013;In terminal IPython this will be similar to using :func:`print`, for use in richer&#013;frontends see Jupyter notebook examples with rich display logic.&#013;&#013;Parameters&#013;----------&#013;objs : tuple of objects&#013;    The Python objects to display.&#013;raw : bool, optional&#013;    Are the objects to be displayed already mimetype-keyed dicts of raw display data,&#013;    or Python objects that need to be formatted before display? [default: False]&#013;include : list, tuple or set, optional&#013;    A list of format type strings (MIME types) to include in the&#013;    format data dict. If this is set *only* the format types included&#013;    in this list will be computed.&#013;exclude : list, tuple or set, optional&#013;    A list of format type strings (MIME types) to exclude in the format&#013;    data dict. If this is set all format types will be computed,&#013;    except for those included in this argument.&#013;metadata : dict, optional&#013;    A dictionary of metadata to associate with the output.&#013;    mime-type keys in this dictionary will be associated with the individual&#013;    representation formats, if they exist.&#013;transient : dict, optional&#013;    A dictionary of transient data to associate with the output.&#013;    Data in this dict should not be persisted to files (e.g. notebooks).&#013;display_id : str, bool optional&#013;    Set an id for the display.&#013;    This id can be used for updating this display area later via update_display.&#013;    If given as `True`, generate a new `display_id`&#013;kwargs: additional keyword-args, optional&#013;    Additional keyword-arguments are passed through to the display publisher.&#013;&#013;Returns&#013;-------&#013;&#013;handle: DisplayHandle&#013;    Returns a handle on updatable displays for use with :func:`update_display`,&#013;    if `display_id` is given. Returns :any:`None` if no `display_id` is given&#013;    (default).&#013;&#013;Examples&#013;--------&#013;&#013;&gt;&gt;&gt; class Json(object):&#013;...     def __init__(self, json):&#013;...         self.json = json&#013;...     def _repr_pretty_(self, pp, cycle):&#013;...         import json&#013;...         pp.text(json.dumps(self.json, indent=2))&#013;...     def __repr__(self):&#013;...         return str(self.json)&#013;...&#013;&#013;&gt;&gt;&gt; d = Json({1:2, 3: {4:5}})&#013;&#013;&gt;&gt;&gt; print(d)&#013;{1: 2, 3: {4: 5}}&#013;&#013;&gt;&gt;&gt; display(d)&#013;{&#013;  &quot;1&quot;: 2,&#013;  &quot;3&quot;: {&#013;    &quot;4&quot;: 5&#013;  }&#013;}&#013;&#013;&gt;&gt;&gt; def int_formatter(integer, pp, cycle):&#013;...     pp.text(&#x27;I&#x27;*integer)&#013;&#013;&gt;&gt;&gt; plain = get_ipython().display_formatter.formatters[&#x27;text/plain&#x27;]&#013;&gt;&gt;&gt; plain.for_type(int, int_formatter)&#013;&lt;function _repr_pprint at 0x...&gt;&#013;&gt;&gt;&gt; display(7-5)&#013;II&#013;&#013;&gt;&gt;&gt; del plain.type_printers[int]&#013;&gt;&gt;&gt; display(7-5)&#013;2&#013;&#013;See Also&#013;--------&#013;&#013;:func:`update_display`&#013;&#013;Notes&#013;-----&#013;&#013;In Python, objects can declare their textual representation using the&#013;`__repr__` method. IPython expands on this idea and allows objects to declare&#013;other, rich representations including:&#013;&#013;  - HTML&#013;  - JSON&#013;  - PNG&#013;  - JPEG&#013;  - SVG&#013;  - LaTeX&#013;&#013;A single object can declare some or all of these representations; all are&#013;handled by IPython&#x27;s display system.&#013;&#013;The main idea of the first approach is that you have to implement special&#013;display methods when you define your class, one for each representation you&#013;want to use. Here is a list of the names of the special methods and the&#013;values they must return:&#013;&#013;  - `_repr_html_`: return raw HTML as a string&#013;  - `_repr_json_`: return a JSONable dict&#013;  - `_repr_jpeg_`: return raw JPEG data&#013;  - `_repr_png_`: return raw PNG data&#013;  - `_repr_svg_`: return raw SVG data as a string&#013;  - `_repr_latex_`: return LaTeX commands in a string surrounded by &quot;$&quot;.&#013;  - `_repr_mimebundle_`: return a full mimebundle containing the mapping&#013;                         from all mimetypes to data.&#013;                         Use this for any mime-type not listed above.&#013;&#013;When you are directly writing your own classes, you can adapt them for&#013;display in IPython by following the above approach. But in practice, you&#013;often need to work with existing classes that you can&#x27;t easily modify.&#013;&#013;You can refer to the documentation on integrating with the display system in&#013;order to register custom formatters for already existing types&#013;(:ref:`integrating_rich_display`).&#013;&#013;.. versionadded:: 5.4 display available without import&#013;.. versionadded:: 6.1 display available without import&#013;&#013;Since IPython 5.4 and 6.1 :func:`display` is automatically made available to&#013;the user without import. If you are using display in a document that might&#013;be used in a pure python context or with older version of IPython, use the&#013;following import at the top of your file::&#013;&#013;    from IPython.display import display&#013;File:      c:\\anaconda3\\lib\\site-packages\\ipython\\core\\display.py&#013;Type:      function\">IPython.display.display</span>(<span style=\"border-bottom: 1px dotted gray;\" title=\"Signature: textwrap.indent(text, prefix, predicate=None)&#013;Docstring:&#013;Adds &#x27;prefix&#x27; to the beginning of selected lines in &#x27;text&#x27;.&#013;&#013;If &#x27;predicate&#x27; is provided, &#x27;prefix&#x27; will only be added to the lines&#013;where &#x27;predicate(line)&#x27; is True. If &#x27;predicate&#x27; is not provided,&#013;it will default to adding &#x27;prefix&#x27; to all non-empty lines that do not&#013;consist solely of whitespace characters.&#013;File:      c:\\anaconda3\\lib\\textwrap.py&#013;Type:      function\">textwrap.indent</span>(<span style=\"border-bottom: 1px dotted gray;\" title=\"Type:        list&#013;String form: [&#x27;&#x27;, &quot;from IPython import get_ipython\\nimport hypothesis.strategies, inspect, pidgin,contextlib,  &lt;...&gt; : \\n    print(In[-1])\\n    IPython.display.display(textwrap.indent(In[-1], &#x27; &#x27;*4))\\nexcept: ...&quot;]&#013;Length:      21&#013;Docstring:  &#013;list() -&gt; new empty list&#013;list(iterable) -&gt; new list initialized from iterable&#x27;s items\">In</span>[-1], ' '*4))\n",
       "except: ...\n",
       "</code>"
      ],
      "text/markdown": [
       "    try: \n",
       "        print(In[-1])\n",
       "        IPython.display.display(textwrap.indent(In[-1], ' '*4))\n",
       "    except: ..."
      ],
      "text/plain": [
       "\"    try: \\n        print(In[-1])\\n        IPython.display.display(textwrap.indent(In[-1], ' '*4))\\n    except: ...\""
      ]
     },
     "metadata": {},
     "output_type": "display_data"
    },
    {
     "data": {
      "text/html": [
       "<code style=\"white-space: pre;\" title=\"\">try: \n",
       "    print(<span style=\"border-bottom: 1px dotted gray;\" title=\"Type:        list&#013;String form: [&#x27;&#x27;, &quot;from IPython import get_ipython\\nimport hypothesis.strategies, inspect, pidgin,contextlib,  &lt;...&gt; : \\n    print(In[-1])\\n    IPython.display.display(textwrap.indent(In[-1], &#x27; &#x27;*4))\\nexcept: ...&quot;]&#013;Length:      21&#013;Docstring:  &#013;list() -&gt; new empty list&#013;list(iterable) -&gt; new list initialized from iterable&#x27;s items\">In</span>[-1])\n",
       "    <span style=\"border-bottom: 1px dotted gray;\" title=\"Signature: IPython.display.display(*objs, include=None, exclude=None, metadata=None, transient=None, display_id=None, **kwargs)&#013;Docstring:&#013;Display a Python object in all frontends.&#013;&#013;By default all representations will be computed and sent to the frontends.&#013;Frontends can decide which representation is used and how.&#013;&#013;In terminal IPython this will be similar to using :func:`print`, for use in richer&#013;frontends see Jupyter notebook examples with rich display logic.&#013;&#013;Parameters&#013;----------&#013;objs : tuple of objects&#013;    The Python objects to display.&#013;raw : bool, optional&#013;    Are the objects to be displayed already mimetype-keyed dicts of raw display data,&#013;    or Python objects that need to be formatted before display? [default: False]&#013;include : list, tuple or set, optional&#013;    A list of format type strings (MIME types) to include in the&#013;    format data dict. If this is set *only* the format types included&#013;    in this list will be computed.&#013;exclude : list, tuple or set, optional&#013;    A list of format type strings (MIME types) to exclude in the format&#013;    data dict. If this is set all format types will be computed,&#013;    except for those included in this argument.&#013;metadata : dict, optional&#013;    A dictionary of metadata to associate with the output.&#013;    mime-type keys in this dictionary will be associated with the individual&#013;    representation formats, if they exist.&#013;transient : dict, optional&#013;    A dictionary of transient data to associate with the output.&#013;    Data in this dict should not be persisted to files (e.g. notebooks).&#013;display_id : str, bool optional&#013;    Set an id for the display.&#013;    This id can be used for updating this display area later via update_display.&#013;    If given as `True`, generate a new `display_id`&#013;kwargs: additional keyword-args, optional&#013;    Additional keyword-arguments are passed through to the display publisher.&#013;&#013;Returns&#013;-------&#013;&#013;handle: DisplayHandle&#013;    Returns a handle on updatable displays for use with :func:`update_display`,&#013;    if `display_id` is given. Returns :any:`None` if no `display_id` is given&#013;    (default).&#013;&#013;Examples&#013;--------&#013;&#013;&gt;&gt;&gt; class Json(object):&#013;...     def __init__(self, json):&#013;...         self.json = json&#013;...     def _repr_pretty_(self, pp, cycle):&#013;...         import json&#013;...         pp.text(json.dumps(self.json, indent=2))&#013;...     def __repr__(self):&#013;...         return str(self.json)&#013;...&#013;&#013;&gt;&gt;&gt; d = Json({1:2, 3: {4:5}})&#013;&#013;&gt;&gt;&gt; print(d)&#013;{1: 2, 3: {4: 5}}&#013;&#013;&gt;&gt;&gt; display(d)&#013;{&#013;  &quot;1&quot;: 2,&#013;  &quot;3&quot;: {&#013;    &quot;4&quot;: 5&#013;  }&#013;}&#013;&#013;&gt;&gt;&gt; def int_formatter(integer, pp, cycle):&#013;...     pp.text(&#x27;I&#x27;*integer)&#013;&#013;&gt;&gt;&gt; plain = get_ipython().display_formatter.formatters[&#x27;text/plain&#x27;]&#013;&gt;&gt;&gt; plain.for_type(int, int_formatter)&#013;&lt;function _repr_pprint at 0x...&gt;&#013;&gt;&gt;&gt; display(7-5)&#013;II&#013;&#013;&gt;&gt;&gt; del plain.type_printers[int]&#013;&gt;&gt;&gt; display(7-5)&#013;2&#013;&#013;See Also&#013;--------&#013;&#013;:func:`update_display`&#013;&#013;Notes&#013;-----&#013;&#013;In Python, objects can declare their textual representation using the&#013;`__repr__` method. IPython expands on this idea and allows objects to declare&#013;other, rich representations including:&#013;&#013;  - HTML&#013;  - JSON&#013;  - PNG&#013;  - JPEG&#013;  - SVG&#013;  - LaTeX&#013;&#013;A single object can declare some or all of these representations; all are&#013;handled by IPython&#x27;s display system.&#013;&#013;The main idea of the first approach is that you have to implement special&#013;display methods when you define your class, one for each representation you&#013;want to use. Here is a list of the names of the special methods and the&#013;values they must return:&#013;&#013;  - `_repr_html_`: return raw HTML as a string&#013;  - `_repr_json_`: return a JSONable dict&#013;  - `_repr_jpeg_`: return raw JPEG data&#013;  - `_repr_png_`: return raw PNG data&#013;  - `_repr_svg_`: return raw SVG data as a string&#013;  - `_repr_latex_`: return LaTeX commands in a string surrounded by &quot;$&quot;.&#013;  - `_repr_mimebundle_`: return a full mimebundle containing the mapping&#013;                         from all mimetypes to data.&#013;                         Use this for any mime-type not listed above.&#013;&#013;When you are directly writing your own classes, you can adapt them for&#013;display in IPython by following the above approach. But in practice, you&#013;often need to work with existing classes that you can&#x27;t easily modify.&#013;&#013;You can refer to the documentation on integrating with the display system in&#013;order to register custom formatters for already existing types&#013;(:ref:`integrating_rich_display`).&#013;&#013;.. versionadded:: 5.4 display available without import&#013;.. versionadded:: 6.1 display available without import&#013;&#013;Since IPython 5.4 and 6.1 :func:`display` is automatically made available to&#013;the user without import. If you are using display in a document that might&#013;be used in a pure python context or with older version of IPython, use the&#013;following import at the top of your file::&#013;&#013;    from IPython.display import display&#013;File:      c:\\anaconda3\\lib\\site-packages\\ipython\\core\\display.py&#013;Type:      function\">IPython.display.display</span>(<span style=\"border-bottom: 1px dotted gray;\" title=\"Signature: textwrap.indent(text, prefix, predicate=None)&#013;Docstring:&#013;Adds &#x27;prefix&#x27; to the beginning of selected lines in &#x27;text&#x27;.&#013;&#013;If &#x27;predicate&#x27; is provided, &#x27;prefix&#x27; will only be added to the lines&#013;where &#x27;predicate(line)&#x27; is True. If &#x27;predicate&#x27; is not provided,&#013;it will default to adding &#x27;prefix&#x27; to all non-empty lines that do not&#013;consist solely of whitespace characters.&#013;File:      c:\\anaconda3\\lib\\textwrap.py&#013;Type:      function\">textwrap.indent</span>(<span style=\"border-bottom: 1px dotted gray;\" title=\"Type:        list&#013;String form: [&#x27;&#x27;, &quot;from IPython import get_ipython\\nimport hypothesis.strategies, inspect, pidgin,contextlib,  &lt;...&gt; : \\n    print(In[-1])\\n    IPython.display.display(textwrap.indent(In[-1], &#x27; &#x27;*4))\\nexcept: ...&quot;]&#013;Length:      21&#013;Docstring:  &#013;list() -&gt; new empty list&#013;list(iterable) -&gt; new list initialized from iterable&#x27;s items\">In</span>[-1], ' '*4))\n",
       "except: ...\n",
       "</code>"
      ],
      "text/markdown": [
       "    try: \n",
       "        print(In[-1])\n",
       "        IPython.display.display(textwrap.indent(In[-1], ' '*4))\n",
       "    except: ..."
      ],
      "text/plain": [
       "\"    try: \\n        print(In[-1])\\n        IPython.display.display(textwrap.indent(In[-1], ' '*4))\\n    except: ...\""
      ]
     },
     "metadata": {},
     "output_type": "display_data"
    }
   ],
   "source": [
    "    try: \n",
    "        print(In[-1])\n",
    "        IPython.display.display(textwrap.indent(In[-1], ' '*4))\n",
    "    except: ..."
   ]
  },
  {
   "cell_type": "markdown",
   "metadata": {},
   "source": [
    "    if __name__ == '__main__':\n",
    "        %pushd ..\n",
    "        !ipython -m pytest -- docs/test_pidgin.md.ipynb\n",
    "        %popd"
   ]
  },
  {
   "cell_type": "code",
   "execution_count": null,
   "metadata": {},
   "outputs": [],
   "source": []
  }
 ],
 "metadata": {
  "kernelspec": {
   "display_name": "Python 3",
   "language": "python",
   "name": "python3"
  },
  "language_info": {
   "codemirror_mode": {
    "name": "ipython",
    "version": 3
   },
   "file_extension": ".py",
   "mimetype": "text/x-python",
   "name": "python",
   "nbconvert_exporter": "python",
   "pygments_lexer": "ipython3",
   "version": "3.6.6"
  }
 },
 "nbformat": 4,
 "nbformat_minor": 2
}
