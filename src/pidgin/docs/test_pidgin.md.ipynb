{
 "cells": [
  {
   "cell_type": "markdown",
   "metadata": {},
   "source": [
    "A set up sufficient tests to validate `pidgin`."
   ]
  },
  {
   "cell_type": "code",
   "execution_count": 1,
   "metadata": {},
   "outputs": [],
   "source": [
    "    from IPython import get_ipython\n",
    "    import hypothesis.strategies, inspect, pidgin,contextlib, textwrap, pytest, jinja2, IPython, io\n",
    "    from pidgin.tangle import markdown_to_python\n",
    "    if get_ipython():\n",
    "        %reload_ext pidgin"
   ]
  },
  {
   "cell_type": "code",
   "execution_count": 2,
   "metadata": {},
   "outputs": [],
   "source": [
    "    @pytest.fixture\n",
    "    def ip(): \n",
    "        ip = get_ipython()\n",
    "        pidgin.load_ipython_extension(ip)\n",
    "        return ip"
   ]
  },
  {
   "cell_type": "code",
   "execution_count": 3,
   "metadata": {},
   "outputs": [],
   "source": [
    "    def test_modules():\n",
    "        import pidgin, pidgin.docs"
   ]
  },
  {
   "cell_type": "code",
   "execution_count": 4,
   "metadata": {},
   "outputs": [],
   "source": [
    "    \n",
    "A leading blank line or __;__ will suppress output. \n",
    "\n",
    "    no_source =\\\n",
    "`no_source` contains no block code in the string."
   ]
  },
  {
   "cell_type": "code",
   "execution_count": 5,
   "metadata": {},
   "outputs": [
    {
     "data": {
      "text/html": [
       "<code style=\"white-space: pre;\" title=\"\">def test_no_source():\n",
       "</code><p><code>test_no_source\n",
       "</code> demonstrates <strong>Markdown</strong> source that does not contain any block source.</p>\n",
       "<p>The <strong>Markdown</strong> is wrapped in <code>pidgin.tangle.quote\n",
       "</code> and indented <strong>4</strong> spaces.</p>\n",
       "<code style=\"white-space: pre;\" title=\"\">    assert markdown_to_python(no_source) == textwrap.indent(\n",
       "        pidgin.tangle.quote(no_source, ';'), ' '*4)\n",
       "</code>"
      ],
      "text/markdown": [
       "    def test_no_source():\n",
       "`test_no_source` demonstrates __Markdown__ source that does not contain any block source.\n",
       "        \n",
       "The __Markdown__ is wrapped in `pidgin.tangle.quote` and indented __4__ spaces.\n",
       "        \n",
       "        assert markdown_to_python(no_source) == textwrap.indent(\n",
       "            pidgin.tangle.quote(no_source, ';'), ' '*4)"
      ],
      "text/plain": [
       "\"    def test_no_source():\\n`test_no_source` demonstrates __Markdown__ source that does not contain any block source.\\n        \\nThe __Markdown__ is wrapped in `pidgin.tangle.quote` and indented __4__ spaces.\\n        \\n        assert markdown_to_python(no_source) == textwrap.indent(\\n            pidgin.tangle.quote(no_source, ';'), ' '*4)\""
      ]
     },
     "metadata": {},
     "output_type": "display_data"
    }
   ],
   "source": [
    "    def test_no_source():\n",
    "`test_no_source` demonstrates __Markdown__ source that does not contain any block source.\n",
    "        \n",
    "The __Markdown__ is wrapped in `pidgin.tangle.quote` and indented __4__ spaces.\n",
    "        \n",
    "        assert markdown_to_python(no_source) == textwrap.indent(\n",
    "            pidgin.tangle.quote(no_source, ';'), ' '*4)"
   ]
  },
  {
   "cell_type": "code",
   "execution_count": 6,
   "metadata": {},
   "outputs": [
    {
     "data": {
      "text/html": [
       "<code style=\"white-space: pre;\" title=\"\">def some_function():\n",
       "    return (\n",
       "        \"more\"\n",
       "        \"more\"\n",
       "    )\n",
       "</code><p>Trailing string</p>\n",
       "<code style=\"white-space: pre;\" title=\"\">def test_multiline_return():\n",
       "    assert \"Trailing string\" not in inspect.getsource(some_function)\n",
       "</code>"
      ],
      "text/markdown": [
       "    def some_function():\n",
       "        return (\n",
       "            \"more\"\n",
       "            \"more\"\n",
       "        )\n",
       "Trailing string\n",
       "\n",
       "    def test_multiline_return():\n",
       "        assert \"Trailing string\" not in inspect.getsource(some_function)"
      ],
      "text/plain": [
       "'    def some_function():\\n        return (\\n            \"more\"\\n            \"more\"\\n        )\\nTrailing string\\n\\n    def test_multiline_return():\\n        assert \"Trailing string\" not in inspect.getsource(some_function)'"
      ]
     },
     "metadata": {},
     "output_type": "display_data"
    }
   ],
   "source": [
    "    def some_function():\n",
    "        return (\n",
    "            \"more\"\n",
    "            \"more\"\n",
    "        )\n",
    "Trailing string\n",
    "\n",
    "    def test_multiline_return():\n",
    "        assert \"Trailing string\" not in inspect.getsource(some_function)"
   ]
  },
  {
   "cell_type": "code",
   "execution_count": 7,
   "metadata": {},
   "outputs": [
    {
     "data": {
      "text/html": [
       "<code style=\"white-space: pre;\" title=\"\">@hypothesis.given(hypothesis.strategies.text())\n",
       "def test_random_strings(str): \n",
       "</code><p><code>test_random_strings\n",
       "</code> assures that there are no errors for random ass strings.</p>\n",
       "<code style=\"white-space: pre;\" title=\"\">    markdown_to_python(str) \n",
       "</code>"
      ],
      "text/markdown": [
       "    @hypothesis.given(hypothesis.strategies.text())\n",
       "    def test_random_strings(str): \n",
       "`test_random_strings` assures that there are no errors for random ass strings.\n",
       "       \n",
       "        markdown_to_python(str) "
      ],
      "text/plain": [
       "'    @hypothesis.given(hypothesis.strategies.text())\\n    def test_random_strings(str): \\n`test_random_strings` assures that there are no errors for random ass strings.\\n       \\n        markdown_to_python(str) '"
      ]
     },
     "metadata": {},
     "output_type": "display_data"
    }
   ],
   "source": [
    "    @hypothesis.given(hypothesis.strategies.text())\n",
    "    def test_random_strings(str): \n",
    "`test_random_strings` assures that there are no errors for random ass strings.\n",
    "       \n",
    "        markdown_to_python(str) "
   ]
  },
  {
   "cell_type": "code",
   "execution_count": 8,
   "metadata": {},
   "outputs": [
    {
     "data": {
      "text/html": [
       "<code style=\"white-space: pre;\" title=\"\">def function_pidgin_docstring():\n",
       "</code><p>This function has a docstring</p>\n",
       "<code style=\"white-space: pre;\" title=\"\">def function_normal_docstring():\n",
       "    \"\"\"This function has a docstring\"\"\"\n",
       "\n",
       "def test_function_docstrings():\n",
       "    assert inspect.getdoc(function_normal_docstring) == inspect.getdoc(function_pidgin_docstring)\n",
       "</code>"
      ],
      "text/markdown": [
       "    def function_pidgin_docstring():\n",
       "This function has a docstring\n",
       "\n",
       "    def function_normal_docstring():\n",
       "        \"\"\"This function has a docstring\"\"\"\n",
       "        \n",
       "    def test_function_docstrings():\n",
       "        assert inspect.getdoc(function_normal_docstring) == inspect.getdoc(function_pidgin_docstring)"
      ],
      "text/plain": [
       "'    def function_pidgin_docstring():\\nThis function has a docstring\\n\\n    def function_normal_docstring():\\n        \"\"\"This function has a docstring\"\"\"\\n        \\n    def test_function_docstrings():\\n        assert inspect.getdoc(function_normal_docstring) == inspect.getdoc(function_pidgin_docstring)'"
      ]
     },
     "metadata": {},
     "output_type": "display_data"
    }
   ],
   "source": [
    "    def function_pidgin_docstring():\n",
    "This function has a docstring\n",
    "\n",
    "    def function_normal_docstring():\n",
    "        \"\"\"This function has a docstring\"\"\"\n",
    "        \n",
    "    def test_function_docstrings():\n",
    "        assert inspect.getdoc(function_normal_docstring) == inspect.getdoc(function_pidgin_docstring)"
   ]
  },
  {
   "cell_type": "code",
   "execution_count": 9,
   "metadata": {},
   "outputs": [
    {
     "data": {
      "text/html": [
       "<code style=\"white-space: pre;\" title=\"\">string_value =\\\n",
       "</code><p>This is the string value.</p>\n",
       "<code style=\"white-space: pre;\" title=\"\">def test_string_value():\n",
       "    assert string_value == \"This is the string value.\"\n",
       "</code>"
      ],
      "text/markdown": [
       "    string_value =\\\n",
       "This is the string value.\n",
       "    \n",
       "    def test_string_value():\n",
       "        assert string_value == \"This is the string value.\""
      ],
      "text/plain": [
       "'    string_value =\\\\\\nThis is the string value.\\n    \\n    def test_string_value():\\n        assert string_value == \"This is the string value.\"'"
      ]
     },
     "metadata": {},
     "output_type": "display_data"
    }
   ],
   "source": [
    "    string_value =\\\n",
    "This is the string value.\n",
    "    \n",
    "    def test_string_value():\n",
    "        assert string_value == \"This is the string value.\""
   ]
  },
  {
   "cell_type": "code",
   "execution_count": 10,
   "metadata": {},
   "outputs": [
    {
     "data": {
      "text/html": [
       "<code style=\"white-space: pre;\" title=\"\">class class_pidgin_docstring():\n",
       "</code><p>This class has a docstring</p>\n",
       "<code style=\"white-space: pre;\" title=\"\">class class_normal_docstring():\n",
       "    \"\"\"This class has a docstring\"\"\"\n",
       "\n",
       "def test_class_docstrings():\n",
       "    assert inspect.getdoc(class_normal_docstring) == inspect.getdoc(class_pidgin_docstring)\n",
       "</code>"
      ],
      "text/markdown": [
       "    class class_pidgin_docstring():\n",
       "This class has a docstring\n",
       "    \n",
       "    class class_normal_docstring():\n",
       "        \"\"\"This class has a docstring\"\"\"\n",
       "        \n",
       "    def test_class_docstrings():\n",
       "        assert inspect.getdoc(class_normal_docstring) == inspect.getdoc(class_pidgin_docstring)"
      ],
      "text/plain": [
       "'    class class_pidgin_docstring():\\nThis class has a docstring\\n    \\n    class class_normal_docstring():\\n        \"\"\"This class has a docstring\"\"\"\\n        \\n    def test_class_docstrings():\\n        assert inspect.getdoc(class_normal_docstring) == inspect.getdoc(class_pidgin_docstring)'"
      ]
     },
     "metadata": {},
     "output_type": "display_data"
    }
   ],
   "source": [
    "    class class_pidgin_docstring():\n",
    "This class has a docstring\n",
    "    \n",
    "    class class_normal_docstring():\n",
    "        \"\"\"This class has a docstring\"\"\"\n",
    "        \n",
    "    def test_class_docstrings():\n",
    "        assert inspect.getdoc(class_normal_docstring) == inspect.getdoc(class_pidgin_docstring)"
   ]
  },
  {
   "cell_type": "code",
   "execution_count": 11,
   "metadata": {},
   "outputs": [
    {
     "data": {
      "text/html": [
       "<code style=\"white-space: pre;\" title=\"\">def function_pidgin_docstring():\n",
       "</code><p>This function has a docstring</p>\n",
       "<code style=\"white-space: pre;\" title=\"\">def function_normal_docstring():\n",
       "    \"\"\"This function has a docstring\"\"\"\n",
       "\n",
       "def test_function_docstrings():\n",
       "    assert inspect.getdoc(function_normal_docstring) == inspect.getdoc(function_pidgin_docstring)\n",
       "</code>"
      ],
      "text/markdown": [
       "    def function_pidgin_docstring():\n",
       "This function has a docstring\n",
       "\n",
       "    def function_normal_docstring():\n",
       "        \"\"\"This function has a docstring\"\"\"\n",
       "        \n",
       "    def test_function_docstrings():\n",
       "        assert inspect.getdoc(function_normal_docstring) == inspect.getdoc(function_pidgin_docstring)"
      ],
      "text/plain": [
       "'    def function_pidgin_docstring():\\nThis function has a docstring\\n\\n    def function_normal_docstring():\\n        \"\"\"This function has a docstring\"\"\"\\n        \\n    def test_function_docstrings():\\n        assert inspect.getdoc(function_normal_docstring) == inspect.getdoc(function_pidgin_docstring)'"
      ]
     },
     "metadata": {},
     "output_type": "display_data"
    }
   ],
   "source": [
    "    def function_pidgin_docstring():\n",
    "This function has a docstring\n",
    "\n",
    "    def function_normal_docstring():\n",
    "        \"\"\"This function has a docstring\"\"\"\n",
    "        \n",
    "    def test_function_docstrings():\n",
    "        assert inspect.getdoc(function_normal_docstring) == inspect.getdoc(function_pidgin_docstring)"
   ]
  },
  {
   "cell_type": "code",
   "execution_count": 12,
   "metadata": {},
   "outputs": [],
   "source": [
    "    def Result(str):\n",
    "        return IPython.core.interactiveshell.ExecutionResult(\n",
    "            IPython.core.interactiveshell.ExecutionInfo(str, False, False, False))"
   ]
  },
  {
   "cell_type": "code",
   "execution_count": 13,
   "metadata": {},
   "outputs": [],
   "source": [
    "    def test_doctest_failure(ip):\n",
    "        result = Result(\"\"\">>> assert False\"\"\")\n",
    "        result.error_in_exec = pidgin.doctesting.run_cell_doctests(ip, result)\n",
    "        assert isinstance(result.error_in_exec, pidgin.doctesting.DocTestException)"
   ]
  },
  {
   "cell_type": "markdown",
   "metadata": {},
   "source": [
    "    def test_jinja_failure(ip):\n",
    "        result = Result(\"\"\"\\{\\{rang}}\"\"\")\n",
    "        pidgin.weave.run_cell_display(result)\n",
    "        assert isinstance(result.error_in_exec, jinja2.TemplateError)"
   ]
  },
  {
   "cell_type": "code",
   "execution_count": 14,
   "metadata": {},
   "outputs": [
    {
     "data": {
      "text/html": [
       "<code style=\"white-space: pre;\" title=\"\">def test_imports():\n",
       "</code><p><code>test_imports\n",
       "</code> demonstrates the ability to import <strong>Markdown</strong> and <strong>Pidgin</strong> file extensions.</p>\n",
       "<code style=\"white-space: pre;\" title=\"\">    with pidgin.loader.PidginImporter():\n",
       "        from pidgin.docs import test_pidgin\n",
       "    with pidgin.loader.MarkdownImporter():\n",
       "        from pidgin.docs import test_markdown\n",
       "    assert test_pidgin.__file__.endswith('.md.ipynb')\n",
       "    assert test_markdown.__file__.endswith('.md')\n",
       "</code>"
      ],
      "text/markdown": [
       "    def test_imports():\n",
       "`test_imports` demonstrates the ability to import __Markdown__ and __Pidgin__ file extensions.\n",
       "\n",
       "        with pidgin.loader.PidginImporter():\n",
       "            from pidgin.docs import test_pidgin\n",
       "        with pidgin.loader.MarkdownImporter():\n",
       "            from pidgin.docs import test_markdown\n",
       "        assert test_pidgin.__file__.endswith('.md.ipynb')\n",
       "        assert test_markdown.__file__.endswith('.md')"
      ],
      "text/plain": [
       "\"    def test_imports():\\n`test_imports` demonstrates the ability to import __Markdown__ and __Pidgin__ file extensions.\\n\\n        with pidgin.loader.PidginImporter():\\n            from pidgin.docs import test_pidgin\\n        with pidgin.loader.MarkdownImporter():\\n            from pidgin.docs import test_markdown\\n        assert test_pidgin.__file__.endswith('.md.ipynb')\\n        assert test_markdown.__file__.endswith('.md')\""
      ]
     },
     "metadata": {},
     "output_type": "display_data"
    }
   ],
   "source": [
    "    def test_imports():\n",
    "`test_imports` demonstrates the ability to import __Markdown__ and __Pidgin__ file extensions.\n",
    "\n",
    "        with pidgin.loader.PidginImporter():\n",
    "            from pidgin.docs import test_pidgin\n",
    "        with pidgin.loader.MarkdownImporter():\n",
    "            from pidgin.docs import test_markdown\n",
    "        assert test_pidgin.__file__.endswith('.md.ipynb')\n",
    "        assert test_markdown.__file__.endswith('.md')"
   ]
  },
  {
   "cell_type": "code",
   "execution_count": 15,
   "metadata": {},
   "outputs": [
    {
     "data": {
      "text/html": [
       "<code style=\"white-space: pre;\" title=\"\">def test_block_string_markdown():\n",
       "    a = 20\n",
       "    object = F\"\"\"\n",
       "</code><p>{a} is the value of a</p>\n",
       "<code style=\"white-space: pre;\" title=\"\">    \"\"\"\n",
       "    assert object.strip().startswith(str(a))\n",
       "</code>"
      ],
      "text/markdown": [
       "    def test_block_string_markdown():\n",
       "        a = 20\n",
       "        object = F\"\"\"\n",
       "{a} is the value of a\n",
       "\n",
       "        \"\"\"\n",
       "        assert object.strip().startswith(str(a))"
      ],
      "text/plain": [
       "'    def test_block_string_markdown():\\n        a = 20\\n        object = F\"\"\"\\n{a} is the value of a\\n\\n        \"\"\"\\n        assert object.strip().startswith(str(a))'"
      ]
     },
     "metadata": {},
     "output_type": "display_data"
    }
   ],
   "source": [
    "    def test_block_string_markdown():\n",
    "        a = 20\n",
    "        object = F\"\"\"\n",
    "{a} is the value of a\n",
    "\n",
    "        \"\"\"\n",
    "        assert object.strip().startswith(str(a))"
   ]
  },
  {
   "cell_type": "code",
   "execution_count": 16,
   "metadata": {},
   "outputs": [
    {
     "data": {
      "text/plain": [
       "22"
      ]
     },
     "metadata": {},
     "output_type": "display_data"
    },
    {
     "data": {
      "text/html": [
       "<p><code>pidgin\n",
       "</code> permits the <strong>return</strong> statement in code cells.  This opinion makes it easier for author \n",
       "to transition to functions and assist the author in identifying their current goal.</p>\n",
       "<code style=\"white-space: pre;\" title=\"\">return 22\n",
       "</code>"
      ],
      "text/markdown": [
       "`pidgin` permits the __return__ statement in code cells.  This opinion makes it easier for author \n",
       "to transition to functions and assist the author in identifying their current goal.\n",
       "\n",
       "    return 22"
      ],
      "text/plain": [
       "'`pidgin` permits the __return__ statement in code cells.  This opinion makes it easier for author \\nto transition to functions and assist the author in identifying their current goal.\\n\\n    return 22'"
      ]
     },
     "metadata": {},
     "output_type": "display_data"
    }
   ],
   "source": [
    "`pidgin` permits the __return__ statement in code cells.  This opinion makes it easier for author \n",
    "to transition to functions and assist the author in identifying their current goal.\n",
    "\n",
    "    return 22"
   ]
  },
  {
   "cell_type": "code",
   "execution_count": 17,
   "metadata": {},
   "outputs": [
    {
     "data": {
      "text/html": [
       "<p><strong>return</strong> will work with markdown blocks</p>\n"
      ],
      "text/markdown": [
       "__return__ will work with markdown blocks"
      ],
      "text/plain": [
       "'__return__ will work with markdown blocks'"
      ]
     },
     "metadata": {},
     "output_type": "display_data"
    },
    {
     "data": {
      "text/html": [
       "<code style=\"white-space: pre;\" title=\"\">return \\\n",
       "</code><p><strong>return</strong> will work with markdown blocks</p>\n"
      ],
      "text/markdown": [
       "    return \\\n",
       "__return__ will work with markdown blocks"
      ],
      "text/plain": [
       "'    return \\\\\\n__return__ will work with markdown blocks'"
      ]
     },
     "metadata": {},
     "output_type": "display_data"
    }
   ],
   "source": [
    "    return \\\n",
    "__return__ will work with markdown blocks"
   ]
  },
  {
   "cell_type": "code",
   "execution_count": 18,
   "metadata": {},
   "outputs": [
    {
     "data": {
      "text/html": [
       "<p><strong>return will work</strong> with markdown blocks</p>\n"
      ],
      "text/markdown": [
       "\n",
       "__return will work__ with markdown blocks\n",
       "\n"
      ],
      "text/plain": [
       "'\\n__return will work__ with markdown blocks\\n\\n'"
      ]
     },
     "metadata": {},
     "output_type": "display_data"
    },
    {
     "data": {
      "text/html": [
       "<hr>\n",
       "<code style=\"white-space: pre;\" title=\"\">returns = \\\n",
       "</code><p>return will work</p>\n",
       "<code style=\"white-space: pre;\" title=\"\">return F\"\"\"\n",
       "</code><p><strong>{returns}</strong> with markdown blocks</p>\n",
       "<code style=\"white-space: pre;\" title=\"\">\"\"\"\n",
       "</code>"
      ],
      "text/markdown": [
       "---\n",
       "\n",
       "    returns = \\\n",
       "return will work\n",
       "\n",
       "    return F\"\"\"\n",
       "__{returns}__ with markdown blocks\n",
       "\n",
       "    \"\"\""
      ],
      "text/plain": [
       "'---\\n\\n    returns = \\\\\\nreturn will work\\n\\n    return F\"\"\"\\n__{returns}__ with markdown blocks\\n\\n    \"\"\"'"
      ]
     },
     "metadata": {},
     "output_type": "display_data"
    }
   ],
   "source": [
    "---\n",
    "\n",
    "    returns = \\\n",
    "return will work\n",
    "\n",
    "    return F\"\"\"\n",
    "__{returns}__ with markdown blocks\n",
    "\n",
    "    \"\"\""
   ]
  },
  {
   "cell_type": "code",
   "execution_count": 19,
   "metadata": {},
   "outputs": [
    {
     "name": "stdout",
     "output_type": "stream",
     "text": [
      "try: \n",
      "    print(In[-1])\n",
      "    IPython.display.display(textwrap.indent(In[-1], ' '*4))\n",
      "except: ...\n"
     ]
    },
    {
     "data": {
      "text/html": [
       "<code style=\"white-space: pre;\" title=\"\">try: \n",
       "    print(In[-1])\n",
       "    IPython.display.display(textwrap.indent(In[-1], ' '*4))\n",
       "except: ...\n",
       "</code>"
      ],
      "text/markdown": [
       "    try: \n",
       "        print(In[-1])\n",
       "        IPython.display.display(textwrap.indent(In[-1], ' '*4))\n",
       "    except: ..."
      ],
      "text/plain": [
       "\"    try: \\n        print(In[-1])\\n        IPython.display.display(textwrap.indent(In[-1], ' '*4))\\n    except: ...\""
      ]
     },
     "metadata": {},
     "output_type": "display_data"
    }
   ],
   "source": [
    "    try: \n",
    "        print(In[-1])\n",
    "        IPython.display.display(textwrap.indent(In[-1], ' '*4))\n",
    "    except: ..."
   ]
  },
  {
   "cell_type": "markdown",
   "metadata": {},
   "source": [
    "    if __name__ == '__main__':\n",
    "        %pushd ..\n",
    "        !ipython -m pytest -- docs/test_pidgin.md.ipynb\n",
    "        %popd"
   ]
  },
  {
   "cell_type": "code",
   "execution_count": null,
   "metadata": {},
   "outputs": [],
   "source": []
  }
 ],
 "metadata": {
  "kernelspec": {
   "display_name": "Python 3",
   "language": "python",
   "name": "python3"
  },
  "language_info": {
   "codemirror_mode": {
    "name": "ipython",
    "version": 3
   },
   "file_extension": ".py",
   "mimetype": "text/x-python",
   "name": "python",
   "nbconvert_exporter": "python",
   "pygments_lexer": "ipython3",
   "version": "3.6.6"
  }
 },
 "nbformat": 4,
 "nbformat_minor": 2
}
