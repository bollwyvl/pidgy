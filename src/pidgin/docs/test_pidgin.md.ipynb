{
 "cells": [
  {
   "cell_type": "markdown",
   "metadata": {},
   "source": [
    "A set up sufficient tests to validate `pidgin`."
   ]
  },
  {
   "cell_type": "code",
   "execution_count": 1,
   "metadata": {},
   "outputs": [],
   "source": [
    "    from IPython import get_ipython\n",
    "    import hypothesis.strategies, inspect, pidgin,contextlib, textwrap, pytest, jinja2, IPython\n",
    "    from pidgin.tangle import markdown_to_python\n",
    "    %reload_ext pidgin"
   ]
  },
  {
   "cell_type": "code",
   "execution_count": 2,
   "metadata": {},
   "outputs": [],
   "source": [
    "    @pytest.fixture\n",
    "    def ip(): \n",
    "        ip = get_ipython()\n",
    "        pidgin.load_ipython_extension(ip)\n",
    "        return ip"
   ]
  },
  {
   "cell_type": "code",
   "execution_count": 3,
   "metadata": {},
   "outputs": [],
   "source": [
    "    def test_modules():\n",
    "        import pidgin, pidgin.docs"
   ]
  },
  {
   "cell_type": "code",
   "execution_count": 4,
   "metadata": {},
   "outputs": [],
   "source": [
    "    \n",
    "A leading blank line or __;__ will suppress output. \n",
    "    \n",
    "    no_source =\\\n",
    "`no_source` contains no block code in the string."
   ]
  },
  {
   "cell_type": "code",
   "execution_count": 5,
   "metadata": {},
   "outputs": [
    {
     "data": {
      "text/html": [
       "<code style=\"white-space: pre;\" title=\"\">def <span style=\"border-bottom: 1px dotted gray;\" title=\"Signature: test_no_source()&#013;Docstring:&#013;`test_no_source` demonstrates __Markdown__ source that does not contain any block source.&#013;    &#013;The __Markdown__ is wrapped in `pidgin.tangle.quote` and indented __4__ spaces.&#013;    &#013;        assert markdown_to_python(no_source) == textwrap.indent(&#013;            pidgin.tangle.quote(no_source, &#x27;;&#x27;), &#x27; &#x27;*4)&#013;Source:   &#013;def test_no_source():&#013;    &quot;&quot;&quot;`test_no_source` demonstrates __Markdown__ source that does not contain any block source.&#013;    &#013;The __Markdown__ is wrapped in `pidgin.tangle.quote` and indented __4__ spaces.&#013;    &#013;        assert markdown_to_python(no_source) == textwrap.indent(&#013;            pidgin.tangle.quote(no_source, &#x27;;&#x27;), &#x27; &#x27;*4)&quot;&quot;&quot;;&#013;File:      c:\\users\\deathbeds\\pidgin\\src\\pidgin\\docs\\&lt;ipython-input-5-5c66dccaaca2&gt;&#013;Type:      function\">test_no_source</span>():\n",
       "</code><p><code><span style=\"border-bottom: 1px dotted gray;\" title=\"Signature: test_no_source()&#013;Docstring:&#013;`test_no_source` demonstrates __Markdown__ source that does not contain any block source.&#013;    &#013;The __Markdown__ is wrapped in `pidgin.tangle.quote` and indented __4__ spaces.&#013;    &#013;        assert markdown_to_python(no_source) == textwrap.indent(&#013;            pidgin.tangle.quote(no_source, &#x27;;&#x27;), &#x27; &#x27;*4)&#013;File:      c:\\users\\deathbeds\\pidgin\\src\\pidgin\\docs\\&lt;ipython-input-5-5c66dccaaca2&gt;&#013;Type:      function\">test_no_source</span>\n",
       "</code> demonstrates <strong>Markdown</strong> source that does not contain any block source.</p>\n",
       "<p>The <strong>Markdown</strong> is wrapped in <code><span style=\"border-bottom: 1px dotted gray;\" title=\"Signature: pidgin.tangle.quote(str, punc=&#x27;&#x27;)&#013;Docstring: `quote` wrotes non code objects in triple ticks.&#013;File:      c:\\users\\deathbeds\\pidgin\\src\\pidgin\\tangle.ipynb&#013;Type:      function\">pidgin.tangle.quote</span>\n",
       "</code> and indented <strong>4</strong> spaces.</p>\n",
       "<code style=\"white-space: pre;\" title=\"\">    assert <span style=\"border-bottom: 1px dotted gray;\" title=\"Signature: markdown_to_python(str) -&gt; &#x27;Valid Python Source&#x27;&#013;Docstring: &lt;no docstring&gt;&#013;File:      c:\\users\\deathbeds\\pidgin\\src\\pidgin\\tangle.ipynb&#013;Type:      function\">markdown_to_python</span>(no_source) == <span style=\"border-bottom: 1px dotted gray;\" title=\"Signature: textwrap.indent(text, prefix, predicate=None)&#013;Docstring:&#013;Adds &#x27;prefix&#x27; to the beginning of selected lines in &#x27;text&#x27;.&#013;&#013;If &#x27;predicate&#x27; is provided, &#x27;prefix&#x27; will only be added to the lines&#013;where &#x27;predicate(line)&#x27; is True. If &#x27;predicate&#x27; is not provided,&#013;it will default to adding &#x27;prefix&#x27; to all non-empty lines that do not&#013;consist solely of whitespace characters.&#013;File:      c:\\anaconda3\\lib\\textwrap.py&#013;Type:      function\">textwrap.indent</span>(\n",
       "        <span style=\"border-bottom: 1px dotted gray;\" title=\"Signature: pidgin.tangle.quote(str, punc=&#x27;&#x27;)&#013;Docstring: `quote` wrotes non code objects in triple ticks.&#013;File:      c:\\users\\deathbeds\\pidgin\\src\\pidgin\\tangle.ipynb&#013;Type:      function\">pidgin.tangle.quote</span>(no_source, ';'), ' '*4)\n",
       "</code>"
      ],
      "text/markdown": [
       "    def test_no_source():\n",
       "`test_no_source` demonstrates __Markdown__ source that does not contain any block source.\n",
       "        \n",
       "The __Markdown__ is wrapped in `pidgin.tangle.quote` and indented __4__ spaces.\n",
       "        \n",
       "        assert markdown_to_python(no_source) == textwrap.indent(\n",
       "            pidgin.tangle.quote(no_source, ';'), ' '*4)"
      ],
      "text/plain": [
       "\"    def test_no_source():\\n`test_no_source` demonstrates __Markdown__ source that does not contain any block source.\\n        \\nThe __Markdown__ is wrapped in `pidgin.tangle.quote` and indented __4__ spaces.\\n        \\n        assert markdown_to_python(no_source) == textwrap.indent(\\n            pidgin.tangle.quote(no_source, ';'), ' '*4)\""
      ]
     },
     "metadata": {},
     "output_type": "display_data"
    }
   ],
   "source": [
    "    def test_no_source():\n",
    "`test_no_source` demonstrates __Markdown__ source that does not contain any block source.\n",
    "        \n",
    "The __Markdown__ is wrapped in `pidgin.tangle.quote` and indented __4__ spaces.\n",
    "        \n",
    "        assert markdown_to_python(no_source) == textwrap.indent(\n",
    "            pidgin.tangle.quote(no_source, ';'), ' '*4)"
   ]
  },
  {
   "cell_type": "code",
   "execution_count": 6,
   "metadata": {},
   "outputs": [
    {
     "data": {
      "text/html": [
       "<code style=\"white-space: pre;\" title=\"\">def <span style=\"border-bottom: 1px dotted gray;\" title=\"Signature: some_function()&#013;Docstring: &lt;no docstring&gt;&#013;Source:   &#013;def some_function():&#013;    return (&#013;        &quot;more&quot;&#013;        &quot;more&quot;&#013;    )&#013;File:      c:\\users\\deathbeds\\pidgin\\src\\pidgin\\docs\\&lt;ipython-input-6-4a0ae4703a88&gt;&#013;Type:      function\">some_function</span>():\n",
       "    return (\n",
       "        \"more\"\n",
       "        \"more\"\n",
       "    )\n",
       "</code><p>Trailing string</p>\n",
       "<code style=\"white-space: pre;\" title=\"\">def <span style=\"border-bottom: 1px dotted gray;\" title=\"Signature: test_multiline_return()&#013;Docstring: &lt;no docstring&gt;&#013;Source:   &#013;def test_multiline_return():&#013;    assert &quot;Trailing string&quot; not in inspect.getsource(some_function)&#013;File:      c:\\users\\deathbeds\\pidgin\\src\\pidgin\\docs\\&lt;ipython-input-6-4a0ae4703a88&gt;&#013;Type:      function\">test_multiline_return</span>():\n",
       "    assert \"Trailing string\" not in <span style=\"border-bottom: 1px dotted gray;\" title=\"Signature: inspect.getsource(object)&#013;Docstring:&#013;Return the text of the source code for an object.&#013;&#013;The argument may be a module, class, method, function, traceback, frame,&#013;or code object.  The source code is returned as a single string.  An&#013;OSError is raised if the source code cannot be retrieved.&#013;File:      c:\\anaconda3\\lib\\inspect.py&#013;Type:      function\">inspect.getsource</span>(<span style=\"border-bottom: 1px dotted gray;\" title=\"Signature: some_function()&#013;Docstring: &lt;no docstring&gt;&#013;File:      c:\\users\\deathbeds\\pidgin\\src\\pidgin\\docs\\&lt;ipython-input-6-4a0ae4703a88&gt;&#013;Type:      function\">some_function</span>)\n",
       "</code>"
      ],
      "text/markdown": [
       "    def some_function():\n",
       "        return (\n",
       "            \"more\"\n",
       "            \"more\"\n",
       "        )\n",
       "Trailing string\n",
       "\n",
       "    def test_multiline_return():\n",
       "        assert \"Trailing string\" not in inspect.getsource(some_function)"
      ],
      "text/plain": [
       "'    def some_function():\\n        return (\\n            \"more\"\\n            \"more\"\\n        )\\nTrailing string\\n\\n    def test_multiline_return():\\n        assert \"Trailing string\" not in inspect.getsource(some_function)'"
      ]
     },
     "metadata": {},
     "output_type": "display_data"
    }
   ],
   "source": [
    "    def some_function():\n",
    "        return (\n",
    "            \"more\"\n",
    "            \"more\"\n",
    "        )\n",
    "Trailing string\n",
    "\n",
    "    def test_multiline_return():\n",
    "        assert \"Trailing string\" not in inspect.getsource(some_function)"
   ]
  },
  {
   "cell_type": "code",
   "execution_count": 7,
   "metadata": {},
   "outputs": [
    {
     "data": {
      "text/html": [
       "<code style=\"white-space: pre;\" title=\"\">@hypothesis.given(<span style=\"border-bottom: 1px dotted gray;\" title=\"Signature: hypothesis.strategies.text(alphabet=None, min_size=None, average_size=None, max_size=None)&#013;Docstring:&#013;Generates values of a unicode text type (unicode on python 2, str on&#013;python 3) with values drawn from alphabet, which should be an iterable of&#013;length one strings or a strategy generating such. If it is None it will&#013;default to generating the full unicode range (excluding surrogate&#013;characters). If it is an empty collection this will only generate empty&#013;strings.&#013;&#013;min_size and max_size have the usual interpretations.&#013;&#013;The average_size argument is deprecated.  Internal upgrades since&#013;Hypothesis 1.x mean we no longer needed this hint to generate useful data.&#013;&#013;Examples from this strategy shrink towards shorter strings, and with the&#013;characters in the text shrinking as per the alphabet strategy.&#013;File:      c:\\anaconda3\\lib\\site-packages\\hypothesis\\strategies.py&#013;Type:      function\">hypothesis.strategies.text</span>())\n",
       "def <span style=\"border-bottom: 1px dotted gray;\" title=\"Signature: test_random_strings() -&gt; None&#013;Source:   &#013;@hypothesis.given(hypothesis.strategies.text())&#013;def test_random_strings(str): &#013;    &quot;&quot;&quot;`test_random_strings` assures that there are no errors for random ass strings.&#013;   &#013;        markdown_to_python(str)&quot;&quot;&quot;;&#013;File:      c:\\users\\deathbeds\\pidgin\\src\\pidgin\\docs\\&lt;ipython-input-7-8ee4954655d0&gt;&#013;Type:      function\">test_random_strings</span>(str): \n",
       "</code><p><code><span style=\"border-bottom: 1px dotted gray;\" title=\"Signature: test_random_strings() -&gt; None&#013;Docstring:&#013;`test_random_strings` assures that there are no errors for random ass strings.&#013;&#013;markdown_to_python(str)&#013;File:      c:\\users\\deathbeds\\pidgin\\src\\pidgin\\docs\\&lt;ipython-input-7-8ee4954655d0&gt;&#013;Type:      function\">test_random_strings</span>\n",
       "</code> assures that there are no errors for random ass strings.</p>\n",
       "<code style=\"white-space: pre;\" title=\"\">    <span style=\"border-bottom: 1px dotted gray;\" title=\"Signature: markdown_to_python(str) -&gt; &#x27;Valid Python Source&#x27;&#013;Docstring: &lt;no docstring&gt;&#013;File:      c:\\users\\deathbeds\\pidgin\\src\\pidgin\\tangle.ipynb&#013;Type:      function\">markdown_to_python</span>(str) \n",
       "</code>"
      ],
      "text/markdown": [
       "    @hypothesis.given(hypothesis.strategies.text())\n",
       "    def test_random_strings(str): \n",
       "`test_random_strings` assures that there are no errors for random ass strings.\n",
       "       \n",
       "        markdown_to_python(str) "
      ],
      "text/plain": [
       "'    @hypothesis.given(hypothesis.strategies.text())\\n    def test_random_strings(str): \\n`test_random_strings` assures that there are no errors for random ass strings.\\n       \\n        markdown_to_python(str) '"
      ]
     },
     "metadata": {},
     "output_type": "display_data"
    }
   ],
   "source": [
    "    @hypothesis.given(hypothesis.strategies.text())\n",
    "    def test_random_strings(str): \n",
    "`test_random_strings` assures that there are no errors for random ass strings.\n",
    "       \n",
    "        markdown_to_python(str) "
   ]
  },
  {
   "cell_type": "code",
   "execution_count": 8,
   "metadata": {},
   "outputs": [
    {
     "data": {
      "text/html": [
       "<code style=\"white-space: pre;\" title=\"\">def <span style=\"border-bottom: 1px dotted gray;\" title=\"Signature: function_pidgin_docstring()&#013;Source:   &#013;def function_pidgin_docstring():&#013;    &quot;&quot;&quot;This function has a docstring&quot;&quot;&quot;&#013;File:      c:\\users\\deathbeds\\pidgin\\src\\pidgin\\docs\\&lt;ipython-input-8-f61921923aa4&gt;&#013;Type:      function\">function_pidgin_docstring</span>():\n",
       "</code><p>This function has a docstring</p>\n",
       "<code style=\"white-space: pre;\" title=\"\">def <span style=\"border-bottom: 1px dotted gray;\" title=\"Signature: function_normal_docstring()&#013;Source:   &#013;def function_normal_docstring():&#013;    &quot;&quot;&quot;This function has a docstring&quot;&quot;&quot;&#013;File:      c:\\users\\deathbeds\\pidgin\\src\\pidgin\\docs\\&lt;ipython-input-8-f61921923aa4&gt;&#013;Type:      function\">function_normal_docstring</span>():\n",
       "    \"\"\"This function has a docstring\"\"\"\n",
       "\n",
       "def <span style=\"border-bottom: 1px dotted gray;\" title=\"Signature: test_function_docstrings()&#013;Docstring: &lt;no docstring&gt;&#013;Source:   &#013;def test_function_docstrings():&#013;    assert inspect.getdoc(function_normal_docstring) == inspect.getdoc(function_pidgin_docstring)&#013;File:      c:\\users\\deathbeds\\pidgin\\src\\pidgin\\docs\\&lt;ipython-input-8-f61921923aa4&gt;&#013;Type:      function\">test_function_docstrings</span>():\n",
       "    assert <span style=\"border-bottom: 1px dotted gray;\" title=\"Signature: inspect.getdoc(object)&#013;Docstring:&#013;Get the documentation string for an object.&#013;&#013;All tabs are expanded to spaces.  To clean up docstrings that are&#013;indented to line up with blocks of code, any whitespace than can be&#013;uniformly removed from the second line onwards is removed.&#013;File:      c:\\anaconda3\\lib\\inspect.py&#013;Type:      function\">inspect.getdoc</span>(<span style=\"border-bottom: 1px dotted gray;\" title=\"Signature: function_normal_docstring()&#013;Docstring: This function has a docstring&#013;File:      c:\\users\\deathbeds\\pidgin\\src\\pidgin\\docs\\&lt;ipython-input-8-f61921923aa4&gt;&#013;Type:      function\">function_normal_docstring</span>) == <span style=\"border-bottom: 1px dotted gray;\" title=\"Signature: inspect.getdoc(object)&#013;Docstring:&#013;Get the documentation string for an object.&#013;&#013;All tabs are expanded to spaces.  To clean up docstrings that are&#013;indented to line up with blocks of code, any whitespace than can be&#013;uniformly removed from the second line onwards is removed.&#013;File:      c:\\anaconda3\\lib\\inspect.py&#013;Type:      function\">inspect.getdoc</span>(<span style=\"border-bottom: 1px dotted gray;\" title=\"Signature: function_pidgin_docstring()&#013;Docstring: This function has a docstring&#013;File:      c:\\users\\deathbeds\\pidgin\\src\\pidgin\\docs\\&lt;ipython-input-8-f61921923aa4&gt;&#013;Type:      function\">function_pidgin_docstring</span>)\n",
       "</code>"
      ],
      "text/markdown": [
       "    def function_pidgin_docstring():\n",
       "This function has a docstring\n",
       "\n",
       "    def function_normal_docstring():\n",
       "        \"\"\"This function has a docstring\"\"\"\n",
       "        \n",
       "    def test_function_docstrings():\n",
       "        assert inspect.getdoc(function_normal_docstring) == inspect.getdoc(function_pidgin_docstring)"
      ],
      "text/plain": [
       "'    def function_pidgin_docstring():\\nThis function has a docstring\\n\\n    def function_normal_docstring():\\n        \"\"\"This function has a docstring\"\"\"\\n        \\n    def test_function_docstrings():\\n        assert inspect.getdoc(function_normal_docstring) == inspect.getdoc(function_pidgin_docstring)'"
      ]
     },
     "metadata": {},
     "output_type": "display_data"
    }
   ],
   "source": [
    "    def function_pidgin_docstring():\n",
    "This function has a docstring\n",
    "\n",
    "    def function_normal_docstring():\n",
    "        \"\"\"This function has a docstring\"\"\"\n",
    "        \n",
    "    def test_function_docstrings():\n",
    "        assert inspect.getdoc(function_normal_docstring) == inspect.getdoc(function_pidgin_docstring)"
   ]
  },
  {
   "cell_type": "code",
   "execution_count": 9,
   "metadata": {},
   "outputs": [
    {
     "data": {
      "text/html": [
       "<code style=\"white-space: pre;\" title=\"\"><span style=\"border-bottom: 1px dotted gray;\" title=\"Type:        str&#013;String form:&#013;This is the string value.&#013;&#013;    def test_string_value():&#013;        assert string_value == &quot;This is the string value.&quot; &#013;Length:      115&#013;Docstring:  &#013;str(object=&#x27;&#x27;) -&gt; str&#013;str(bytes_or_buffer[, encoding[, errors]]) -&gt; str&#013;&#013;Create a new string object from the given object. If encoding or&#013;errors is specified, then the object must expose a data buffer&#013;that will be decoded using the given encoding and error handler.&#013;Otherwise, returns the result of object.__str__() (if defined)&#013;or repr(object).&#013;encoding defaults to sys.getdefaultencoding().&#013;errors defaults to &#x27;strict&#x27;.\">string_value</span> =\\\n",
       "</code><p>This is the string value.</p>\n",
       "<code style=\"white-space: pre;\" title=\"\">def test_string_value():\n",
       "    assert <span style=\"border-bottom: 1px dotted gray;\" title=\"Type:        str&#013;String form:&#013;This is the string value.&#013;&#013;    def test_string_value():&#013;        assert string_value == &quot;This is the string value.&quot; &#013;Length:      115&#013;Docstring:  &#013;str(object=&#x27;&#x27;) -&gt; str&#013;str(bytes_or_buffer[, encoding[, errors]]) -&gt; str&#013;&#013;Create a new string object from the given object. If encoding or&#013;errors is specified, then the object must expose a data buffer&#013;that will be decoded using the given encoding and error handler.&#013;Otherwise, returns the result of object.__str__() (if defined)&#013;or repr(object).&#013;encoding defaults to sys.getdefaultencoding().&#013;errors defaults to &#x27;strict&#x27;.\">string_value</span> == \"This is the string value.\"\n",
       "</code>"
      ],
      "text/markdown": [
       "    string_value =\\\n",
       "This is the string value.\n",
       "    \n",
       "    def test_string_value():\n",
       "        assert string_value == \"This is the string value.\""
      ],
      "text/plain": [
       "'    string_value =\\\\\\nThis is the string value.\\n    \\n    def test_string_value():\\n        assert string_value == \"This is the string value.\"'"
      ]
     },
     "metadata": {},
     "output_type": "display_data"
    }
   ],
   "source": [
    "    string_value =\\\n",
    "This is the string value.\n",
    "    \n",
    "    def test_string_value():\n",
    "        assert string_value == \"This is the string value.\""
   ]
  },
  {
   "cell_type": "code",
   "execution_count": 10,
   "metadata": {},
   "outputs": [
    {
     "data": {
      "text/html": [
       "<code style=\"white-space: pre;\" title=\"\">class <span style=\"border-bottom: 1px dotted gray;\" title=\"Init signature: class_pidgin_docstring()&#013;Docstring:      This class has a docstring&#013;Type:           type\">class_pidgin_docstring</span>():\n",
       "</code><p>This class has a docstring</p>\n",
       "<code style=\"white-space: pre;\" title=\"\">class <span style=\"border-bottom: 1px dotted gray;\" title=\"Init signature: class_normal_docstring()&#013;Docstring:      This class has a docstring&#013;Type:           type\">class_normal_docstring</span>():\n",
       "    \"\"\"This class has a docstring\"\"\"\n",
       "\n",
       "def <span style=\"border-bottom: 1px dotted gray;\" title=\"Signature: test_class_docstrings()&#013;Docstring: &lt;no docstring&gt;&#013;Source:   &#013;def test_class_docstrings():&#013;    assert inspect.getdoc(class_normal_docstring) == inspect.getdoc(class_pidgin_docstring)&#013;File:      c:\\users\\deathbeds\\pidgin\\src\\pidgin\\docs\\&lt;ipython-input-10-e791357b5e76&gt;&#013;Type:      function\">test_class_docstrings</span>():\n",
       "    assert <span style=\"border-bottom: 1px dotted gray;\" title=\"Signature: inspect.getdoc(object)&#013;Docstring:&#013;Get the documentation string for an object.&#013;&#013;All tabs are expanded to spaces.  To clean up docstrings that are&#013;indented to line up with blocks of code, any whitespace than can be&#013;uniformly removed from the second line onwards is removed.&#013;File:      c:\\anaconda3\\lib\\inspect.py&#013;Type:      function\">inspect.getdoc</span>(<span style=\"border-bottom: 1px dotted gray;\" title=\"Init signature: class_normal_docstring()&#013;Docstring:      This class has a docstring&#013;Type:           type\">class_normal_docstring</span>) == <span style=\"border-bottom: 1px dotted gray;\" title=\"Signature: inspect.getdoc(object)&#013;Docstring:&#013;Get the documentation string for an object.&#013;&#013;All tabs are expanded to spaces.  To clean up docstrings that are&#013;indented to line up with blocks of code, any whitespace than can be&#013;uniformly removed from the second line onwards is removed.&#013;File:      c:\\anaconda3\\lib\\inspect.py&#013;Type:      function\">inspect.getdoc</span>(<span style=\"border-bottom: 1px dotted gray;\" title=\"Init signature: class_pidgin_docstring()&#013;Docstring:      This class has a docstring&#013;Type:           type\">class_pidgin_docstring</span>)\n",
       "</code>"
      ],
      "text/markdown": [
       "    class class_pidgin_docstring():\n",
       "This class has a docstring\n",
       "\n",
       "    class class_normal_docstring():\n",
       "        \"\"\"This class has a docstring\"\"\"\n",
       "        \n",
       "    def test_class_docstrings():\n",
       "        assert inspect.getdoc(class_normal_docstring) == inspect.getdoc(class_pidgin_docstring)"
      ],
      "text/plain": [
       "'    class class_pidgin_docstring():\\nThis class has a docstring\\n\\n    class class_normal_docstring():\\n        \"\"\"This class has a docstring\"\"\"\\n        \\n    def test_class_docstrings():\\n        assert inspect.getdoc(class_normal_docstring) == inspect.getdoc(class_pidgin_docstring)'"
      ]
     },
     "metadata": {},
     "output_type": "display_data"
    }
   ],
   "source": [
    "    class class_pidgin_docstring():\n",
    "This class has a docstring\n",
    "\n",
    "    class class_normal_docstring():\n",
    "        \"\"\"This class has a docstring\"\"\"\n",
    "        \n",
    "    def test_class_docstrings():\n",
    "        assert inspect.getdoc(class_normal_docstring) == inspect.getdoc(class_pidgin_docstring)"
   ]
  },
  {
   "cell_type": "code",
   "execution_count": 11,
   "metadata": {},
   "outputs": [
    {
     "data": {
      "text/html": [
       "<code style=\"white-space: pre;\" title=\"\">def <span style=\"border-bottom: 1px dotted gray;\" title=\"Signature: function_pidgin_docstring()&#013;Source:   &#013;def function_pidgin_docstring():&#013;    &quot;&quot;&quot;This function has a docstring&quot;&quot;&quot;&#013;File:      c:\\users\\deathbeds\\pidgin\\src\\pidgin\\docs\\&lt;ipython-input-11-f61921923aa4&gt;&#013;Type:      function\">function_pidgin_docstring</span>():\n",
       "</code><p>This function has a docstring</p>\n",
       "<code style=\"white-space: pre;\" title=\"\">def <span style=\"border-bottom: 1px dotted gray;\" title=\"Signature: function_normal_docstring()&#013;Source:   &#013;def function_normal_docstring():&#013;    &quot;&quot;&quot;This function has a docstring&quot;&quot;&quot;&#013;File:      c:\\users\\deathbeds\\pidgin\\src\\pidgin\\docs\\&lt;ipython-input-11-f61921923aa4&gt;&#013;Type:      function\">function_normal_docstring</span>():\n",
       "    \"\"\"This function has a docstring\"\"\"\n",
       "\n",
       "def <span style=\"border-bottom: 1px dotted gray;\" title=\"Signature: test_function_docstrings()&#013;Docstring: &lt;no docstring&gt;&#013;Source:   &#013;def test_function_docstrings():&#013;    assert inspect.getdoc(function_normal_docstring) == inspect.getdoc(function_pidgin_docstring)&#013;File:      c:\\users\\deathbeds\\pidgin\\src\\pidgin\\docs\\&lt;ipython-input-11-f61921923aa4&gt;&#013;Type:      function\">test_function_docstrings</span>():\n",
       "    assert <span style=\"border-bottom: 1px dotted gray;\" title=\"Signature: inspect.getdoc(object)&#013;Docstring:&#013;Get the documentation string for an object.&#013;&#013;All tabs are expanded to spaces.  To clean up docstrings that are&#013;indented to line up with blocks of code, any whitespace than can be&#013;uniformly removed from the second line onwards is removed.&#013;File:      c:\\anaconda3\\lib\\inspect.py&#013;Type:      function\">inspect.getdoc</span>(<span style=\"border-bottom: 1px dotted gray;\" title=\"Signature: function_normal_docstring()&#013;Docstring: This function has a docstring&#013;File:      c:\\users\\deathbeds\\pidgin\\src\\pidgin\\docs\\&lt;ipython-input-11-f61921923aa4&gt;&#013;Type:      function\">function_normal_docstring</span>) == <span style=\"border-bottom: 1px dotted gray;\" title=\"Signature: inspect.getdoc(object)&#013;Docstring:&#013;Get the documentation string for an object.&#013;&#013;All tabs are expanded to spaces.  To clean up docstrings that are&#013;indented to line up with blocks of code, any whitespace than can be&#013;uniformly removed from the second line onwards is removed.&#013;File:      c:\\anaconda3\\lib\\inspect.py&#013;Type:      function\">inspect.getdoc</span>(<span style=\"border-bottom: 1px dotted gray;\" title=\"Signature: function_pidgin_docstring()&#013;Docstring: This function has a docstring&#013;File:      c:\\users\\deathbeds\\pidgin\\src\\pidgin\\docs\\&lt;ipython-input-11-f61921923aa4&gt;&#013;Type:      function\">function_pidgin_docstring</span>)\n",
       "</code>"
      ],
      "text/markdown": [
       "    def function_pidgin_docstring():\n",
       "This function has a docstring\n",
       "\n",
       "    def function_normal_docstring():\n",
       "        \"\"\"This function has a docstring\"\"\"\n",
       "        \n",
       "    def test_function_docstrings():\n",
       "        assert inspect.getdoc(function_normal_docstring) == inspect.getdoc(function_pidgin_docstring)"
      ],
      "text/plain": [
       "'    def function_pidgin_docstring():\\nThis function has a docstring\\n\\n    def function_normal_docstring():\\n        \"\"\"This function has a docstring\"\"\"\\n        \\n    def test_function_docstrings():\\n        assert inspect.getdoc(function_normal_docstring) == inspect.getdoc(function_pidgin_docstring)'"
      ]
     },
     "metadata": {},
     "output_type": "display_data"
    }
   ],
   "source": [
    "    def function_pidgin_docstring():\n",
    "This function has a docstring\n",
    "\n",
    "    def function_normal_docstring():\n",
    "        \"\"\"This function has a docstring\"\"\"\n",
    "        \n",
    "    def test_function_docstrings():\n",
    "        assert inspect.getdoc(function_normal_docstring) == inspect.getdoc(function_pidgin_docstring)"
   ]
  },
  {
   "cell_type": "code",
   "execution_count": 12,
   "metadata": {},
   "outputs": [],
   "source": [
    "    import io"
   ]
  },
  {
   "cell_type": "code",
   "execution_count": 13,
   "metadata": {},
   "outputs": [],
   "source": [
    "    def Result(str):\n",
    "        return IPython.core.interactiveshell.ExecutionResult(\n",
    "            IPython.core.interactiveshell.ExecutionInfo(str, False, False, False))"
   ]
  },
  {
   "cell_type": "code",
   "execution_count": 14,
   "metadata": {},
   "outputs": [],
   "source": [
    "    def test_inline_failure(ip):\n",
    "        result = Result(\"\"\"`assert False`\"\"\")\n",
    "        result.error_in_exec = pidgin.doctesting.run_cell_doctests(ip, result)\n",
    "        assert isinstance(result.error_in_exec, pidgin.doctesting.DocTestException)"
   ]
  },
  {
   "cell_type": "code",
   "execution_count": 15,
   "metadata": {},
   "outputs": [],
   "source": [
    "    def test_doctest_failure(ip):\n",
    "        result = Result(\"\"\">>> assert False\"\"\")\n",
    "        result.error_in_exec = pidgin.doctesting.run_cell_doctests(ip, result)\n",
    "        assert isinstance(result.error_in_exec, pidgin.doctesting.DocTestException)"
   ]
  },
  {
   "cell_type": "code",
   "execution_count": 16,
   "metadata": {},
   "outputs": [],
   "source": [
    "    def test_jinja_failure(ip):\n",
    "        result = Result(\"\"\"{{range}\"\"\")\n",
    "        result.error_in_exec = pidgin.display.run_cell_display(ip, result)\n",
    "        print(result.error_in_exec)\n",
    "        assert isinstance(result.error_in_exec, jinja2.TemplateError)"
   ]
  },
  {
   "cell_type": "code",
   "execution_count": 17,
   "metadata": {},
   "outputs": [
    {
     "data": {
      "text/html": [
       "<code style=\"white-space: pre;\" title=\"\">def <span style=\"border-bottom: 1px dotted gray;\" title=\"Signature: test_imports()&#013;Source:   &#013;def test_imports():&#013;    &quot;&quot;&quot;`test_imports` demonstrates the ability to import __Markdown__ and __Pidgin__ file extensions.&quot;&quot;&quot;&#013;&#013;    with pidgin.loader.PidginImporter():&#013;        from pidgin.docs import test_pidgin&#013;    with pidgin.loader.MarkdownImporter():&#013;        from pidgin.docs import test_markdown&#013;    assert test_pidgin.__file__.endswith(&#x27;.md.ipynb&#x27;)&#013;    assert test_markdown.__file__.endswith(&#x27;.md&#x27;)&#013;File:      c:\\users\\deathbeds\\pidgin\\src\\pidgin\\docs\\&lt;ipython-input-17-709cc5257121&gt;&#013;Type:      function\">test_imports</span>():\n",
       "</code><p><code><span style=\"border-bottom: 1px dotted gray;\" title=\"Signature: test_imports()&#013;Docstring: `test_imports` demonstrates the ability to import __Markdown__ and __Pidgin__ file extensions.&#013;File:      c:\\users\\deathbeds\\pidgin\\src\\pidgin\\docs\\&lt;ipython-input-17-709cc5257121&gt;&#013;Type:      function\">test_imports</span>\n",
       "</code> demonstrates the ability to import <strong>Markdown</strong> and <strong>Pidgin</strong> file extensions.</p>\n",
       "<code style=\"white-space: pre;\" title=\"\">    with <span style=\"border-bottom: 1px dotted gray;\" title=\"Init signature: pidgin.loader.PidginImporter(fullname=None, path=None, lazy=False, position=0, fuzzy=True, markdown_docstring=True, main=False)&#013;Docstring:     &#013;Notebook is a user friendly file finder and module loader for notebook source code.&#013;&#013;&gt; Remember, restart and run all or it didn&#x27;t happen.&#013;&#013;Notebook provides several useful options.&#013;&#013;* Lazy module loading.  A module is executed the first time it is used in a script.&#013;File:           c:\\users\\deathbeds\\pidgin\\src\\pidgin\\loader.ipynb&#013;Type:           type\">pidgin.loader.PidginImporter</span>():\n",
       "        from pidgin.docs import test_pidgin\n",
       "    with <span style=\"border-bottom: 1px dotted gray;\" title=\"Init signature: pidgin.loader.MarkdownImporter(fullname=None, path=None, lazy=False, position=0, fuzzy=True, markdown_docstring=True, main=False)&#013;Docstring:      `MarkdownImporter` imports __Markdown__ files are source.  By default they recieve a Markdown repr.&#013;File:           c:\\users\\deathbeds\\pidgin\\src\\pidgin\\loader.ipynb&#013;Type:           type\">pidgin.loader.MarkdownImporter</span>():\n",
       "        from pidgin.docs import test_markdown\n",
       "    assert test_pidgin.__file__.endswith('.md.ipynb')\n",
       "    assert test_markdown.__file__.endswith('.md')\n",
       "</code>"
      ],
      "text/markdown": [
       "    def test_imports():\n",
       "`test_imports` demonstrates the ability to import __Markdown__ and __Pidgin__ file extensions.\n",
       "\n",
       "        with pidgin.loader.PidginImporter():\n",
       "            from pidgin.docs import test_pidgin\n",
       "        with pidgin.loader.MarkdownImporter():\n",
       "            from pidgin.docs import test_markdown\n",
       "        assert test_pidgin.__file__.endswith('.md.ipynb')\n",
       "        assert test_markdown.__file__.endswith('.md')"
      ],
      "text/plain": [
       "\"    def test_imports():\\n`test_imports` demonstrates the ability to import __Markdown__ and __Pidgin__ file extensions.\\n\\n        with pidgin.loader.PidginImporter():\\n            from pidgin.docs import test_pidgin\\n        with pidgin.loader.MarkdownImporter():\\n            from pidgin.docs import test_markdown\\n        assert test_pidgin.__file__.endswith('.md.ipynb')\\n        assert test_markdown.__file__.endswith('.md')\""
      ]
     },
     "metadata": {},
     "output_type": "display_data"
    }
   ],
   "source": [
    "    def test_imports():\n",
    "`test_imports` demonstrates the ability to import __Markdown__ and __Pidgin__ file extensions.\n",
    "\n",
    "        with pidgin.loader.PidginImporter():\n",
    "            from pidgin.docs import test_pidgin\n",
    "        with pidgin.loader.MarkdownImporter():\n",
    "            from pidgin.docs import test_markdown\n",
    "        assert test_pidgin.__file__.endswith('.md.ipynb')\n",
    "        assert test_markdown.__file__.endswith('.md')"
   ]
  },
  {
   "cell_type": "code",
   "execution_count": 18,
   "metadata": {},
   "outputs": [
    {
     "ename": "SyntaxError",
     "evalue": "invalid syntax (<ipython-input-18-ecacfbbd5e1b>, line 4)",
     "output_type": "error",
     "traceback": [
      "\u001b[1;36m  File \u001b[1;32m\"<ipython-input-18-ecacfbbd5e1b>\"\u001b[1;36m, line \u001b[1;32m4\u001b[0m\n\u001b[1;33m    \"\"\"{a} is the value of a\"\"\"\u001b[0m\n\u001b[1;37m                         ^\u001b[0m\n\u001b[1;31mSyntaxError\u001b[0m\u001b[1;31m:\u001b[0m invalid syntax\n"
     ]
    },
    {
     "data": {
      "text/html": [
       "<code style=\"white-space: pre;\" title=\"\">def test_block_string_markdown():\n",
       "    <span style=\"border-bottom: 1px dotted gray;\" title=\"Signature:   a(*tuple, **dict)&#013;Type:        curry&#013;String form: curry(object=(&lt;class &#x27;poser.compose&#x27;&gt;,), args=(), keywords={})&#013;Length:      1&#013;File:        c:\\users\\deathbeds\\poser\\poser.py&#013;Docstring:   curry(*tuple, **dict)\">a</span> = 20\n",
       "    object = F\"\"\"\n",
       "</code><p>{a} is the value of a</p>\n",
       "<code style=\"white-space: pre;background-color: var(--jp-rendermime-error-background);\" title=\"invalid syntax (<ipython-input-18-ecacfbbd5e1b>, line 4)\">    \"\"\"\n",
       "    assert object.strip().startswith(str(a))</code>"
      ],
      "text/markdown": [
       "    def test_block_string_markdown():\n",
       "        a = 20\n",
       "        object = F\"\"\"\n",
       "{a} is the value of a\n",
       "\n",
       "        \"\"\"\n",
       "        assert object.strip().startswith(str(a))"
      ],
      "text/plain": [
       "'    def test_block_string_markdown():\\n        a = 20\\n        object = F\"\"\"\\n{a} is the value of a\\n\\n        \"\"\"\\n        assert object.strip().startswith(str(a))'"
      ]
     },
     "metadata": {},
     "output_type": "display_data"
    }
   ],
   "source": [
    "    def test_block_string_markdown():\n",
    "        a = 20\n",
    "        object = F\"\"\"\n",
    "{a} is the value of a\n",
    "\n",
    "        \"\"\"\n",
    "        assert object.strip().startswith(str(a))"
   ]
  },
  {
   "cell_type": "code",
   "execution_count": 19,
   "metadata": {},
   "outputs": [
    {
     "data": {
      "text/plain": [
       "22"
      ]
     },
     "metadata": {},
     "output_type": "display_data"
    },
    {
     "data": {
      "text/html": [
       "<p><code>pidgin</code> permits the <strong>return</strong> statement in code cells.  This opinion makes it easier for author \n",
       "to transition to functions and assist the author in identifying their current goal.</p>\n",
       "<pre><code>return 22\n",
       "</code></pre>\n"
      ],
      "text/markdown": [
       "`pidgin` permits the __return__ statement in code cells.  This opinion makes it easier for author \n",
       "to transition to functions and assist the author in identifying their current goal.\n",
       "\n",
       "    return 22"
      ],
      "text/plain": [
       "'`pidgin` permits the __return__ statement in code cells.  This opinion makes it easier for author \\nto transition to functions and assist the author in identifying their current goal.\\n\\n    return 22'"
      ]
     },
     "metadata": {},
     "output_type": "display_data"
    }
   ],
   "source": [
    "`pidgin` permits the __return__ statement in code cells.  This opinion makes it easier for author \n",
    "to transition to functions and assist the author in identifying their current goal.\n",
    "\n",
    "    return 22"
   ]
  },
  {
   "cell_type": "code",
   "execution_count": 20,
   "metadata": {},
   "outputs": [
    {
     "data": {
      "text/html": [
       "<p><strong>return</strong> will work with markdown blocks</p>\n"
      ],
      "text/markdown": [
       "__return__ will work with markdown blocks"
      ],
      "text/plain": [
       "'__return__ will work with markdown blocks'"
      ]
     },
     "metadata": {},
     "output_type": "display_data"
    }
   ],
   "source": [
    "    \n",
    "    return \\\n",
    "__return__ will work with markdown blocks"
   ]
  },
  {
   "cell_type": "code",
   "execution_count": 21,
   "metadata": {},
   "outputs": [
    {
     "data": {
      "text/html": [
       "<p><strong>return will work</strong> with markdown blocks</p>\n"
      ],
      "text/markdown": [
       "\n",
       "__return will work__ with markdown blocks\n",
       "\n"
      ],
      "text/plain": [
       "'\\n__return will work__ with markdown blocks\\n\\n'"
      ]
     },
     "metadata": {},
     "output_type": "display_data"
    },
    {
     "data": {
      "text/html": [
       "<hr>\n",
       "<pre><code>returns = \\\n",
       "</code></pre>\n",
       "<p>return will work</p>\n",
       "<pre><code>return F\"\"\"\n",
       "</code></pre>\n",
       "<p><strong>{returns}</strong> with markdown blocks</p>\n",
       "<pre><code>\"\"\"\n",
       "</code></pre>\n"
      ],
      "text/markdown": [
       "---\n",
       "    \n",
       "    returns = \\\n",
       "return will work\n",
       "\n",
       "    return F\"\"\"\n",
       "__{returns}__ with markdown blocks\n",
       "\n",
       "    \"\"\""
      ],
      "text/plain": [
       "'---\\n    \\n    returns = \\\\\\nreturn will work\\n\\n    return F\"\"\"\\n__{returns}__ with markdown blocks\\n\\n    \"\"\"'"
      ]
     },
     "metadata": {},
     "output_type": "display_data"
    }
   ],
   "source": [
    "---\n",
    "    \n",
    "    returns = \\\n",
    "return will work\n",
    "\n",
    "    return F\"\"\"\n",
    "__{returns}__ with markdown blocks\n",
    "\n",
    "    \"\"\""
   ]
  },
  {
   "cell_type": "code",
   "execution_count": 22,
   "metadata": {},
   "outputs": [
    {
     "name": "stdout",
     "output_type": "stream",
     "text": [
      "try: \n",
      "    print(In[-1])\n",
      "    IPython.display.display(textwrap.indent(In[-1], ' '*4))\n",
      "except: ...\n"
     ]
    },
    {
     "data": {
      "text/html": [
       "<pre><code>try: \n",
       "    print(In[-1])\n",
       "    IPython.display.display(textwrap.indent(In[-1], ' '*4))\n",
       "except: ...\n",
       "</code></pre>\n"
      ],
      "text/markdown": [
       "    try: \n",
       "        print(In[-1])\n",
       "        IPython.display.display(textwrap.indent(In[-1], ' '*4))\n",
       "    except: ..."
      ],
      "text/plain": [
       "\"    try: \\n        print(In[-1])\\n        IPython.display.display(textwrap.indent(In[-1], ' '*4))\\n    except: ...\""
      ]
     },
     "metadata": {},
     "output_type": "display_data"
    }
   ],
   "source": [
    "    try: \n",
    "        print(In[-1])\n",
    "        IPython.display.display(textwrap.indent(In[-1], ' '*4))\n",
    "    except: ..."
   ]
  },
  {
   "cell_type": "markdown",
   "metadata": {},
   "source": [
    "    if __name__ == '__main__':\n",
    "        %pushd ..\n",
    "        !ipython -m pytest -- docs/test_pidgin.md.ipynb\n",
    "        %popd"
   ]
  }
 ],
 "metadata": {
  "kernelspec": {
   "display_name": "Python 3",
   "language": "python",
   "name": "python3"
  },
  "language_info": {
   "codemirror_mode": {
    "name": "ipython",
    "version": 3
   },
   "file_extension": ".py",
   "mimetype": "text/x-python",
   "name": "python",
   "nbconvert_exporter": "python",
   "pygments_lexer": "ipython3",
   "version": "3.6.6"
  }
 },
 "nbformat": 4,
 "nbformat_minor": 2
}
