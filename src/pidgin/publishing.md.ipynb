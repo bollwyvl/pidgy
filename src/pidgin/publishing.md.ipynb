{
 "cells": [
  {
   "cell_type": "markdown",
   "metadata": {},
   "source": [
    "> I believe that the time is ripe\n",
    "for significantly better documentation of programs, and\n",
    "that we can best achieve this by considering programs\n",
    "to be works of literature. Hence, my title: “Literate\n",
    "Programming.”\n",
    "\n",
    "http://www.literateprogramming.com/knuthweb.pdf"
   ]
  },
  {
   "cell_type": "markdown",
   "metadata": {},
   "source": [
    "* This document discusses automatically generating presentations from notebooks.  \n",
    "* Presentations provide nonlinear narratives with x & y - slide & subslide - abstractions.  A nonlinear story is an intermediate to a linear story, or computational essay.\n",
    "* The __reveal.js__ view of a notebook provides an alternative interface to view as slides and in a sorted layout view. \n",
    "* Headers have an added purpose to separate slides.\n",
    "\n",
    "# Interpretting notebooks as presentations."
   ]
  },
  {
   "cell_type": "code",
   "execution_count": 1,
   "metadata": {},
   "outputs": [
    {
     "name": "stdout",
     "output_type": "stream",
     "text": [
      "levle 1\n",
      "levle 2\n",
      "1 ['    import IPython; get_ipython = IPython.get_ipython\\n', \"    if __name__ == '__main__':\\n\", '        %reload_ext pidgin\\n', \"    __all__ = 'present',\"]\n"
     ]
    }
   ],
   "source": [
    "    import IPython; get_ipython = IPython.get_ipython\n",
    "    if __name__ == '__main__':\n",
    "        %reload_ext pidgin\n",
    "    __all__ = 'present',"
   ]
  },
  {
   "cell_type": "code",
   "execution_count": 11,
   "metadata": {},
   "outputs": [
    {
     "name": "stdout",
     "output_type": "stream",
     "text": [
      "levle 1\n",
      "levle 2\n",
      "1 ['## Notebooks for publishing and documentation\\n', '\\n', 'The output of a computational essay is the `nbformat`; a valid json with a json schema format.  This standard gives notebooks value beyond the interactive context as static documentation on providers like Github and nbviewer.  Notebooks and literate programming overlap as ideas for ']\n",
      "levle 2\n"
     ]
    },
    {
     "data": {
      "text/html": [
       "<h2>Notebooks for publishing and documentation</h2>\n",
       "<p>The output of a computational essay is the `nbformat`; a valid json with a json schema format.  This standard gives notebooks value beyond the interactive context as static documentation on providers like Github and nbviewer.  Notebooks and literate programming overlap as ideas for</p>"
      ],
      "text/markdown": [
       "## Notebooks for publishing and documentation\n",
       "\n",
       "The output of a computational essay is the `nbformat`; a valid json with a json schema format.  This standard gives notebooks value beyond the interactive context as static documentation on providers like Github and nbviewer.  Notebooks and literate programming overlap as ideas for "
      ],
      "text/plain": [
       "## Notebooks for publishing and documentation\n",
       "\n",
       "The output of a computational essay is the `nbformat`; a valid json with a json schema format.  This standard gives notebooks value beyond the interactive context as static documentation on providers like Github and nbviewer.  Notebooks and literate programming overlap as ideas for "
      ]
     },
     "metadata": {},
     "output_type": "display_data"
    }
   ],
   "source": [
    "## Notebooks for publishing and documentation\n",
    "\n",
    "The output of a computational essay is the `nbformat`; a valid json with a json schema format.  This standard gives notebooks value beyond the interactive context as static documentation on providers like Github and nbviewer.  Notebooks and literate programming overlap as ideas for "
   ]
  },
  {
   "cell_type": "code",
   "execution_count": 8,
   "metadata": {},
   "outputs": [
    {
     "data": {
      "text/html": [
       "<p><em>Fix the output</em></p>\n",
       "<pre><code>&gt;&gt;&gt; number_of_exporters = (set(str.split('_')[0] for str in nbconvert.get_export_names()))\n",
       "</code></pre>"
      ],
      "text/markdown": [
       "_Fix the output_\n",
       ">>> number_of_exporters = (set(str.split('_')[0] for str in nbconvert.get_export_names()))"
      ],
      "text/plain": [
       "_Fix the output_\n",
       ">>> number_of_exporters = (set(str.split('_')[0] for str in nbconvert.get_export_names()))"
      ]
     },
     "metadata": {},
     "output_type": "display_data"
    }
   ],
   "source": [
    "_Fix the output_\n",
    ">>> number_of_exporters = (set(str.split('_')[0] for str in nbconvert.get_export_names()))"
   ]
  },
  {
   "cell_type": "code",
   "execution_count": 16,
   "metadata": {},
   "outputs": [
    {
     "ename": "SyntaxError",
     "evalue": "invalid syntax (<ipython-input-17-7dbde912781a>, line 1)",
     "output_type": "error",
     "traceback": [
      "\u001b[0;36m  File \u001b[0;32m\"<ipython-input-17-7dbde912781a>\"\u001b[0;36m, line \u001b[0;32m1\u001b[0m\n\u001b[0;31m    >>> nikola\u001b[0m\n\u001b[0m     ^\u001b[0m\n\u001b[0;31mSyntaxError\u001b[0m\u001b[0;31m:\u001b[0m invalid syntax\n"
     ]
    },
    {
     "ename": "DocTestException",
     "evalue": "Finding tests in __main__\nTrying:\n    assert 0, \"\"\"\n    nbconvert and nbformat\n    nbestimate\n    million notebook analysis\n    The json standard extends to jsonld\"\"\"\n\nExpecting nothing\n**********************************************************************\nFile \"__main__\", line ?, in __main__\nFailed example:\n    assert 0, \"\"\"\n    nbconvert and nbformat\n    nbestimate\n    million notebook analysis\n    The json standard extends to jsonld\"\"\"\n\nException raised:\n    Traceback (most recent call last):\n      File \"/Users/tonyfast/anaconda/envs/p6/lib/python3.6/doctest.py\", line 1330, in __run\n        compileflags, 1), test.globs)\n      File \"<doctest __main__[0]>\", line 5, in <module>\n        The json standard extends to jsonld\"\"\"\n    AssertionError: \n    nbconvert and nbformat\n    nbestimate\n    million notebook analysis\n    The json standard extends to jsonld\n",
     "output_type": "error",
     "traceback": [
      "\u001b[0;31m---------------------------------------------------------------------------\u001b[0m",
      "\u001b[0;31mDocTestException\u001b[0m                          Traceback (most recent call last)",
      "\u001b[0;31mDocTestException\u001b[0m: Finding tests in __main__\nTrying:\n    assert 0, \"\"\"\n    nbconvert and nbformat\n    nbestimate\n    million notebook analysis\n    The json standard extends to jsonld\"\"\"\n\nExpecting nothing\n**********************************************************************\nFile \"__main__\", line ?, in __main__\nFailed example:\n    assert 0, \"\"\"\n    nbconvert and nbformat\n    nbestimate\n    million notebook analysis\n    The json standard extends to jsonld\"\"\"\n\nException raised:\n    Traceback (most recent call last):\n      File \"/Users/tonyfast/anaconda/envs/p6/lib/python3.6/doctest.py\", line 1330, in __run\n        compileflags, 1), test.globs)\n      File \"<doctest __main__[0]>\", line 5, in <module>\n        The json standard extends to jsonld\"\"\"\n    AssertionError: \n    nbconvert and nbformat\n    nbestimate\n    million notebook analysis\n    The json standard extends to jsonld\n"
     ]
    },
    {
     "data": {
      "text/html": [
       "<p>`pidgin.publishing` relies on the core `nbconvert` to transform the `nbformat` files into other exporters.  `nbconvert` comes with $13$ `nbconvert.exporters`</p>\n",
       "<p>The existing tooling provides infrastructure to model notebook authorship as a blog.  <code style=\"background: var(--jp-rendermime-error-background);\" title=\"invalid syntax (&lt;ipython-input-17-7dbde912781a&gt;, line 1)\">>>> nikola</code></p>\n",
       "<pre title=\"Finding tests in __main__&#013;Trying:&#013;    assert 0, &quot;&quot;&quot;&#013;    nbconvert and nbformat&#013;    nbestimate&#013;    million notebook analysis&#013;    The json standard extends to jsonld&quot;&quot;&quot;&#013;&#013;Expecting nothing&#013;**********************************************************************&#013;File &quot;__main__&quot;, line ?, in __main__&#013;Failed example:&#013;    assert 0, &quot;&quot;&quot;&#013;    nbconvert and nbformat&#013;    nbestimate&#013;    million notebook analysis&#013;    The json standard extends to jsonld&quot;&quot;&quot;&#013;&#013;Exception raised:&#013;    Traceback (most recent call last):&#013;      File &quot;/Users/tonyfast/anaconda/envs/p6/lib/python3.6/doctest.py&quot;, line 1330, in __run&#013;        compileflags, 1), test.globs)&#013;      File &quot;&lt;doctest __main__[0]&gt;&quot;, line 5, in &lt;module&gt;&#013;        The json standard extends to jsonld&quot;&quot;&quot;&#013;    AssertionError: &#013;    nbconvert and nbformat&#013;    nbestimate&#013;    million notebook analysis&#013;    The json standard extends to jsonld\"><code style=\"background: var(--jp-rendermime-error-background);\">>>> assert 0, \"\"\"&#xA;... nbconvert and nbformat&#xA;... nbestimate&#xA;... million notebook analysis&#xA;... The json standard extends to jsonld\"\"\"</code></pre>"
      ],
      "text/markdown": [
       "`pidgin.publishing` relies on the core `nbconvert` to transform the `nbformat` files into other exporters.  `nbconvert` comes with $13$ `nbconvert.exporters`\n",
       "\n",
       "\n",
       "The existing tooling provides infrastructure to model notebook authorship as a blog.  `>>> nikola`\n",
       "\n",
       ">>> assert 0, \"\"\"\n",
       "... nbconvert and nbformat\n",
       "... nbestimate\n",
       "... million notebook analysis\n",
       "... The json standard extends to jsonld\"\"\""
      ],
      "text/plain": [
       "`pidgin.publishing` relies on the core `nbconvert` to transform the `nbformat` files into other exporters.  `nbconvert` comes with ${{\n",
       "    len(number_of_exporters) \n",
       "}}$ `nbconvert.exporters`\n",
       "\n",
       "\n",
       "The existing tooling provides infrastructure to model notebook authorship as a blog.  `>>> nikola`\n",
       "\n",
       ">>> assert 0, \"\"\"\n",
       "... nbconvert and nbformat\n",
       "... nbestimate\n",
       "... million notebook analysis\n",
       "... The json standard extends to jsonld\"\"\""
      ]
     },
     "metadata": {},
     "output_type": "display_data"
    }
   ],
   "source": [
    "`pidgin.publishing` relies on the core `nbconvert` to transform the `nbformat` files into other exporters.  `nbconvert` comes with ${{\n",
    "    len(number_of_exporters) \n",
    "}}$ `nbconvert.exporters`\n",
    "\n",
    "\n",
    "The existing tooling provides infrastructure to model notebook authorship as a blog.  `>>> nikola`\n",
    "\n",
    ">>> assert 0, \"\"\"\n",
    "... nbconvert and nbformat\n",
    "... nbestimate\n",
    "... million notebook analysis\n",
    "... The json standard extends to jsonld\"\"\""
   ]
  },
  {
   "cell_type": "code",
   "execution_count": 24,
   "metadata": {},
   "outputs": [],
   "source": [
    "    import nbconvert, traitlets"
   ]
  },
  {
   "cell_type": "code",
   "execution_count": 18,
   "metadata": {},
   "outputs": [
    {
     "data": {
      "text/html": [
       "<pre><code>class PidginPreprocessor(nbconvert.preprocessors.Preprocessor): ...\n",
       "</code></pre>\n",
       "<p>The `PidginPreprocessor` adds publishing constraints to pidgin documents</p>\n",
       "<p>Doesnt show cells without output.</p>"
      ],
      "text/markdown": [
       "    class PidginPreprocessor(nbconvert.preprocessors.Preprocessor): ...\n",
       "The `PidginPreprocessor` adds publishing constraints to pidgin documents\n",
       "\n",
       "Doesnt show cells without output."
      ],
      "text/plain": [
       "    class PidginPreprocessor(nbconvert.preprocessors.Preprocessor): ...\n",
       "The `PidginPreprocessor` adds publishing constraints to pidgin documents\n",
       "\n",
       "Doesnt show cells without output."
      ]
     },
     "metadata": {},
     "output_type": "display_data"
    }
   ],
   "source": [
    "    class PidginPreprocessor(nbconvert.preprocessors.Preprocessor): ...\n",
    "The `PidginPreprocessor` adds publishing constraints to pidgin documents\n",
    "\n",
    "Doesnt show cells without output."
   ]
  },
  {
   "cell_type": "markdown",
   "metadata": {},
   "source": [
    "### Implicit and Explicit Documentation.\n",
    "\n",
    "Notebooks make documentation.\n",
    "\n",
    "In linear programming, both the code and narrative provide explicit directives to style the docuemntation\n",
    "\n",
    "Documentation should be run as tests -nbsphinx"
   ]
  },
  {
   "cell_type": "code",
   "execution_count": 22,
   "metadata": {},
   "outputs": [
    {
     "ename": "DocTestException",
     "evalue": "Finding tests in __main__\nTrying:\n    assert 0, \"\"\"\n    rise\"\"\"\n\nExpecting nothing\n**********************************************************************\nFile \"__main__\", line ?, in __main__\nFailed example:\n    assert 0, \"\"\"\n    rise\"\"\"\n\nException raised:\n    Traceback (most recent call last):\n      File \"/Users/tonyfast/anaconda/envs/p6/lib/python3.6/doctest.py\", line 1330, in __run\n        compileflags, 1), test.globs)\n      File \"<doctest __main__[0]>\", line 2, in <module>\n        rise\"\"\"\n    AssertionError: \n    rise\n",
     "output_type": "error",
     "traceback": [
      "\u001b[0;31m---------------------------------------------------------------------------\u001b[0m",
      "\u001b[0;31mDocTestException\u001b[0m                          Traceback (most recent call last)",
      "\u001b[0;31mDocTestException\u001b[0m: Finding tests in __main__\nTrying:\n    assert 0, \"\"\"\n    rise\"\"\"\n\nExpecting nothing\n**********************************************************************\nFile \"__main__\", line ?, in __main__\nFailed example:\n    assert 0, \"\"\"\n    rise\"\"\"\n\nException raised:\n    Traceback (most recent call last):\n      File \"/Users/tonyfast/anaconda/envs/p6/lib/python3.6/doctest.py\", line 1330, in __run\n        compileflags, 1), test.globs)\n      File \"<doctest __main__[0]>\", line 2, in <module>\n        rise\"\"\"\n    AssertionError: \n    rise\n"
     ]
    },
    {
     "data": {
      "text/html": [
       "<h3>Constraining <strong>Markdown</strong> with presentations</h3>\n",
       "<p>`nbconvert` can export slide shows in <a href=\"#\">reveal</a> using the `nbconvert.SlidesExporter` object.</p>\n",
       "<p>Auomaticall present preprocessor.</p>\n",
       "<pre title=\"Finding tests in __main__&#013;Trying:&#013;    assert 0, &quot;&quot;&quot;&#013;    rise&quot;&quot;&quot;&#013;&#013;Expecting nothing&#013;**********************************************************************&#013;File &quot;__main__&quot;, line ?, in __main__&#013;Failed example:&#013;    assert 0, &quot;&quot;&quot;&#013;    rise&quot;&quot;&quot;&#013;&#013;Exception raised:&#013;    Traceback (most recent call last):&#013;      File &quot;/Users/tonyfast/anaconda/envs/p6/lib/python3.6/doctest.py&quot;, line 1330, in __run&#013;        compileflags, 1), test.globs)&#013;      File &quot;&lt;doctest __main__[0]&gt;&quot;, line 2, in &lt;module&gt;&#013;        rise&quot;&quot;&quot;&#013;    AssertionError: &#013;    rise\"><code style=\"background: var(--jp-rendermime-error-background);\">>>> assert 0, \"\"\"&#xA;... rise\"\"\"&#xA;</code></pre><pre><code>class AutomaticallyPresent(nbconvert.preprocessors.Preprocessor):\n",
       "</code></pre>\n",
       "<h3>An `nbconvert.preprocessors.Preprocessor`</h3>\n",
       "<pre><code>    def preprocess_cell(self, cell, resources, index):\n",
       "        if 'source' not in cell: return cell, resources\n",
       "\n",
       "        if cell['cell_type'] == 'code':\n",
       "            self.is_pidgin = self.is_pidgin or (\n",
       "                'load_ext pidgin' in ''.join(cell['source']))\n",
       "\n",
       "        if cell['cell_type'] in (['markdown'] + (\n",
       "            self.is_pidgin and ['code'] or []\n",
       "        )):\n",
       "            if (cell['cell_type'] == 'markdown') or ('outputs' in cell) and cell['outputs']:\n",
       "                cell = add_slide_data(cell)\n",
       "\n",
       "        return cell, resources\n",
       "\n",
       "    def preprocess(self, nb, resources):\n",
       "        self.last_heading = None\n",
       "        self.is_pidgin = False\n",
       "        while nb.cells and (\n",
       "            not (nb.cells[-1].source or nb.cells[-1].outputs)\n",
       "        ): nb.cells.pop()\n",
       "        if nb.cells and nb.cells[-1]['cell_type'] == 'raw':\n",
       "            nb.metadata.merge(__import__('yaml').safe_load(__import__('io').StringIO(''.join(nb.cells.pop()['source']))))\n",
       "\n",
       "        nb, resources = super().preprocess(nb, resources)\n",
       "        return nbconvert.exporters.slides.prepare(nb), resources\n",
       "</code></pre>\n",
       "<p><em>add an exception for hash references</em></p>"
      ],
      "text/markdown": [
       "### Constraining __Markdown__ with presentations\n",
       "\n",
       "`nbconvert` can export slide shows in [reveal][reveal] using the `nbconvert.SlidesExporter` object. \n",
       "\n",
       "Auomaticall present preprocessor.\n",
       "\n",
       ">>> assert 0, \"\"\"\n",
       "... rise\"\"\"\n",
       "\n",
       "    class AutomaticallyPresent(nbconvert.preprocessors.Preprocessor):\n",
       "### An `nbconvert.preprocessors.Preprocessor`\n",
       "    \n",
       "    \n",
       "\n",
       "        def preprocess_cell(self, cell, resources, index):\n",
       "            if 'source' not in cell: return cell, resources\n",
       "            \n",
       "            if cell['cell_type'] == 'code':\n",
       "                self.is_pidgin = self.is_pidgin or (\n",
       "                    'load_ext pidgin' in ''.join(cell['source']))\n",
       "               \n",
       "            if cell['cell_type'] in (['markdown'] + (\n",
       "                self.is_pidgin and ['code'] or []\n",
       "            )):\n",
       "                if (cell['cell_type'] == 'markdown') or ('outputs' in cell) and cell['outputs']:\n",
       "                    cell = add_slide_data(cell)\n",
       "                \n",
       "            return cell, resources\n",
       "        \n",
       "        def preprocess(self, nb, resources):\n",
       "            self.last_heading = None\n",
       "            self.is_pidgin = False\n",
       "            while nb.cells and (\n",
       "                not (nb.cells[-1].source or nb.cells[-1].outputs)\n",
       "            ): nb.cells.pop()\n",
       "            if nb.cells and nb.cells[-1]['cell_type'] == 'raw':\n",
       "                nb.metadata.merge(__import__('yaml').safe_load(__import__('io').StringIO(''.join(nb.cells.pop()['source']))))\n",
       "                \n",
       "            nb, resources = super().preprocess(nb, resources)\n",
       "            return nbconvert.exporters.slides.prepare(nb), resources\n",
       "\n",
       "\n",
       "[reveal]: #\n",
       "    \n",
       "_add an exception for hash references_"
      ],
      "text/plain": [
       "### Constraining __Markdown__ with presentations\n",
       "\n",
       "`nbconvert` can export slide shows in [reveal][reveal] using the `nbconvert.SlidesExporter` object. \n",
       "\n",
       "Auomaticall present preprocessor.\n",
       "\n",
       ">>> assert 0, \"\"\"\n",
       "... rise\"\"\"\n",
       "\n",
       "    class AutomaticallyPresent(nbconvert.preprocessors.Preprocessor):\n",
       "### An `nbconvert.preprocessors.Preprocessor`\n",
       "    \n",
       "    \n",
       "\n",
       "        def preprocess_cell(self, cell, resources, index):\n",
       "            if 'source' not in cell: return cell, resources\n",
       "            \n",
       "            if cell['cell_type'] == 'code':\n",
       "                self.is_pidgin = self.is_pidgin or (\n",
       "                    'load_ext pidgin' in ''.join(cell['source']))\n",
       "               \n",
       "            if cell['cell_type'] in (['markdown'] + (\n",
       "                self.is_pidgin and ['code'] or []\n",
       "            )):\n",
       "                if (cell['cell_type'] == 'markdown') or ('outputs' in cell) and cell['outputs']:\n",
       "                    cell = add_slide_data(cell)\n",
       "                \n",
       "            return cell, resources\n",
       "        \n",
       "        def preprocess(self, nb, resources):\n",
       "            self.last_heading = None\n",
       "            self.is_pidgin = False\n",
       "            while nb.cells and (\n",
       "                not (nb.cells[-1].source or nb.cells[-1].outputs)\n",
       "            ): nb.cells.pop()\n",
       "            if nb.cells and nb.cells[-1]['cell_type'] == 'raw':\n",
       "                nb.metadata.merge(__import__('yaml').safe_load(__import__('io').StringIO(''.join(nb.cells.pop()['source']))))\n",
       "                \n",
       "            nb, resources = super().preprocess(nb, resources)\n",
       "            return nbconvert.exporters.slides.prepare(nb), resources\n",
       "\n",
       "\n",
       "[reveal]: #\n",
       "    \n",
       "_add an exception for hash references_"
      ]
     },
     "metadata": {},
     "output_type": "display_data"
    }
   ],
   "source": [
    "### Constraining __Markdown__ with presentations\n",
    "\n",
    "`nbconvert` can export slide shows in [reveal][reveal] using the `nbconvert.SlidesExporter` object. \n",
    "\n",
    "Auomaticall present preprocessor.\n",
    "\n",
    ">>> assert 0, \"\"\"\n",
    "... rise\"\"\"\n",
    "\n",
    "    class AutomaticallyPresent(nbconvert.preprocessors.Preprocessor):\n",
    "### An `nbconvert.preprocessors.Preprocessor`\n",
    "    \n",
    "    \n",
    "\n",
    "        def preprocess_cell(self, cell, resources, index):\n",
    "            if 'source' not in cell: return cell, resources\n",
    "            \n",
    "            if cell['cell_type'] == 'code':\n",
    "                self.is_pidgin = self.is_pidgin or (\n",
    "                    'load_ext pidgin' in ''.join(cell['source']))\n",
    "               \n",
    "            if cell['cell_type'] in (['markdown'] + (\n",
    "                self.is_pidgin and ['code'] or []\n",
    "            )):\n",
    "                if (cell['cell_type'] == 'markdown') or ('outputs' in cell) and cell['outputs']:\n",
    "                    cell = add_slide_data(cell)\n",
    "                \n",
    "            return cell, resources\n",
    "        \n",
    "        def preprocess(self, nb, resources):\n",
    "            self.last_heading = None\n",
    "            self.is_pidgin = False\n",
    "            while nb.cells and (\n",
    "                not (nb.cells[-1].source or nb.cells[-1].outputs)\n",
    "            ): nb.cells.pop()\n",
    "            if nb.cells and nb.cells[-1]['cell_type'] == 'raw':\n",
    "                nb.metadata.merge(__import__('yaml').safe_load(__import__('io').StringIO(''.join(nb.cells.pop()['source']))))\n",
    "                \n",
    "            nb, resources = super().preprocess(nb, resources)\n",
    "            return nbconvert.exporters.slides.prepare(nb), resources\n",
    "\n",
    "\n",
    "[reveal]: #\n",
    "    \n",
    "_add an exception for hash references_"
   ]
  },
  {
   "cell_type": "code",
   "execution_count": 3,
   "metadata": {},
   "outputs": [
    {
     "data": {
      "text/html": [
       "<h2>Converting a notebook to a presentation.</h2>\n",
       "<p>The `nbconvert.SlidesExporter` exports `nbformat` documents as presentations;\n",
       "`assert issubclass(nbconvert.SlidesExporter, nbconvert.HTMLExporter)`.</p>"
      ],
      "text/markdown": [
       "## Converting a notebook to a presentation.\n",
       "\n",
       "The `nbconvert.SlidesExporter` exports `nbformat` documents as presentations;\n",
       "`assert issubclass(nbconvert.SlidesExporter, nbconvert.HTMLExporter)`."
      ],
      "text/plain": [
       "## Converting a notebook to a presentation.\n",
       "\n",
       "The `nbconvert.SlidesExporter` exports `nbformat` documents as presentations;\n",
       "`assert issubclass(nbconvert.SlidesExporter, nbconvert.HTMLExporter)`."
      ]
     },
     "metadata": {},
     "output_type": "display_data"
    }
   ],
   "source": [
    "## Converting a notebook to a presentation.\n",
    "\n",
    "    import nbconvert, traitlets\n",
    "\n",
    "The `nbconvert.SlidesExporter` exports `nbformat` documents as presentations;\n",
    "`assert issubclass(nbconvert.SlidesExporter, nbconvert.HTMLExporter)`."
   ]
  },
  {
   "cell_type": "code",
   "execution_count": 3,
   "metadata": {},
   "outputs": [
    {
     "data": {
      "text/html": [
       "<a href=\"#slide-show-metadata\"><h3 id=\"slide-show-metadata\">Slide show metadata.</h3>\n",
       "</a>\n",
       "<p><code>nbconvert.SlidesExporter</code> uses cell metadata to create <code>\"slide subslide fragment\"</code> <code>\"slide_type\"</code>s.</p>\n",
       "<code style=\"white-space: pre;\" title=\"\">def add_slide_metadata(cell):\n",
       "</code><p><code>add_slide_metadata</code> adds <code>\"slideshow\"</code> data to a <strong>cell</strong> using the headers and horizontal rules as delimiters.</p>\n",
       "<code style=\"white-space: pre;\" title=\"\">    source = ''.join(cell['source'])\n",
       "    type = F\"fragment slide slide subslide fragment fragment fragment\".split(\n",
       "    )[max(get_levels(source) or [0])]\n",
       "</code><p><code>\"slideshow\"</code> is a keyword specific to the <code>nbconvert.SlidesExporter</code>, we only update the metadata \n",
       "if the keywords don't exist.</p>\n",
       "<code style=\"white-space: pre;\" title=\"\">    cell.metadata['slideshow'] = cell.metadata.get('slideshow', {})\n",
       "    cell.metadata['slideshow'].update(slide_type=cell.metadata['slideshow'].get(\n",
       "        'slide_type', type\n",
       "    ))\n",
       "    return cell</code>"
      ],
      "text/plain": [
       "'### Slide show metadata.\\n\\n`nbconvert.SlidesExporter` uses cell metadata to create `\"slide subslide fragment\"` `\"slide_type\"`s.\\n\\n    def add_slide_metadata(cell):\\n`add_slide_metadata` adds `\"slideshow\"` data to a __cell__ using the headers and horizontal rules as delimiters.\\n\\n        source = \\'\\'.join(cell[\\'source\\'])\\n        type = F\"fragment slide slide subslide fragment fragment fragment\".split(\\n        )[max(get_levels(source) or [0])]\\n`\"slideshow\"` is a keyword specific to the `nbconvert.SlidesExporter`, we only update the metadata \\nif the keywords don\\'t exist.\\n\\n        cell.metadata[\\'slideshow\\'] = cell.metadata.get(\\'slideshow\\', {})\\n        cell.metadata[\\'slideshow\\'].update(slide_type=cell.metadata[\\'slideshow\\'].get(\\n            \\'slide_type\\', type\\n        ))\\n        return cell'"
      ]
     },
     "metadata": {},
     "output_type": "display_data"
    }
   ],
   "source": [
    "### Slide show metadata.\n",
    "\n",
    "`nbconvert.SlidesExporter` uses cell metadata to create `\"slide subslide fragment\"` `\"slide_type\"`s.\n",
    "\n",
    "    def add_slide_metadata(cell):\n",
    "`add_slide_metadata` adds `\"slideshow\"` data to a __cell__ using the headers and horizontal rules as delimiters.\n",
    "\n",
    "        source = ''.join(cell['source'])\n",
    "        type = F\"fragment slide slide subslide fragment fragment fragment\".split(\n",
    "        )[max(get_levels(source) or [0])]\n",
    "`\"slideshow\"` is a keyword specific to the `nbconvert.SlidesExporter`, we only update the metadata \n",
    "if the keywords don't exist.\n",
    "\n",
    "        cell.metadata['slideshow'] = cell.metadata.get('slideshow', {})\n",
    "        cell.metadata['slideshow'].update(slide_type=cell.metadata['slideshow'].get(\n",
    "            'slide_type', type\n",
    "        ))\n",
    "        return cell"
   ]
  },
  {
   "cell_type": "code",
   "execution_count": 4,
   "metadata": {},
   "outputs": [
    {
     "data": {
      "text/html": [
       "<a href=\"#extracting-a-table-of-contents-with-mistune\"><h3 id=\"extracting-a-table-of-contents-with-mistune\">Extracting a table of contents with <code>mistune</code></h3>\n",
       "</a>\n",
       "<code style=\"white-space: pre;\" title=\"\">import mistune, slugify\n",
       "class HeadingRenderer(mistune.Renderer):\n",
       "    levels = None\n",
       "    def header(self, text, level, raw=None):\n",
       "        self.levels = (self.levels or set())\n",
       "        self.levels.add(level)\n",
       "        return text</code>"
      ],
      "text/plain": [
       "'### Extracting a table of contents with `mistune`\\n\\n    import mistune, slugify\\n    class HeadingRenderer(mistune.Renderer):\\n        levels = None\\n        def header(self, text, level, raw=None):\\n            self.levels = (self.levels or set())\\n            self.levels.add(level)\\n            return text'"
      ]
     },
     "metadata": {},
     "output_type": "display_data"
    }
   ],
   "source": [
    "### Extracting a table of contents with `mistune`\n",
    "\n",
    "    import mistune, slugify\n",
    "    class HeadingRenderer(mistune.Renderer):\n",
    "        levels = None\n",
    "        def header(self, text, level, raw=None):\n",
    "            self.levels = (self.levels or set())\n",
    "            self.levels.add(level)\n",
    "            return text"
   ]
  },
  {
   "cell_type": "code",
   "execution_count": 5,
   "metadata": {},
   "outputs": [
    {
     "data": {
      "text/html": [
       "<code style=\"white-space: pre;\" title=\"\">def get_levels(text):\n",
       "</code><code style=\"white-space: pre;\" title=\"\">>>> assert get_levels(\"# asdf\\\\n## asdfadf\") == {1, 2}</code><code style=\"white-space: pre;\" title=\"\">    renderer = HeadingRenderer()\n",
       "    mistune.Markdown(renderer=renderer).render(text)\n",
       "\n",
       "    return renderer.levels</code>"
      ],
      "text/plain": [
       "'    def get_levels(text):\\n```\\n>>> assert get_levels(\"# asdf\\\\\\\\n## asdfadf\") == {1, 2}\\n```\\n\\n        renderer = HeadingRenderer()\\n        mistune.Markdown(renderer=renderer).render(text)\\n\\n        return renderer.levels'"
      ]
     },
     "metadata": {},
     "output_type": "display_data"
    }
   ],
   "source": [
    "    def get_levels(text):\n",
    "```\n",
    ">>> assert get_levels(\"# asdf\\\\n## asdfadf\") == {1, 2}\n",
    "```\n",
    "\n",
    "        renderer = HeadingRenderer()\n",
    "        mistune.Markdown(renderer=renderer).render(text)\n",
    "\n",
    "        return renderer.levels"
   ]
  },
  {
   "cell_type": "code",
   "execution_count": 6,
   "metadata": {},
   "outputs": [
    {
     "data": {
      "text/html": [
       "<a href=\"#adding-the-metadata\"><h3 id=\"adding-the-metadata\">Adding the metadata</h3>\n",
       "</a>\n",
       "<p>Take image of the metadata.</p>\n",
       "<code style=\"white-space: pre;\" title=\"\">def add_slide_data(cell):\n",
       "    source = ''.join(cell['source'])\n",
       "    type = \"fragment slide slide subslide fragment fragment fragment\".split(\n",
       "    )[max(get_levels(source) or [0])]\n",
       "    cell.metadata['slideshow'] = cell.metadata.get('slideshow', {})\n",
       "    cell.metadata['slideshow'].update(slide_type=cell.metadata['slideshow'].get('slide_type', type))\n",
       "    return cell</code>"
      ],
      "text/plain": [
       "'### Adding the metadata\\n\\nTake image of the metadata.\\n\\n    def add_slide_data(cell):\\n        source = \\'\\'.join(cell[\\'source\\'])\\n        type = \"fragment slide slide subslide fragment fragment fragment\".split(\\n        )[max(get_levels(source) or [0])]\\n        cell.metadata[\\'slideshow\\'] = cell.metadata.get(\\'slideshow\\', {})\\n        cell.metadata[\\'slideshow\\'].update(slide_type=cell.metadata[\\'slideshow\\'].get(\\'slide_type\\', type))\\n        return cell'"
      ]
     },
     "metadata": {},
     "output_type": "display_data"
    }
   ],
   "source": [
    "### Adding the metadata\n",
    "\n",
    "Take image of the metadata.\n",
    "\n",
    "    def add_slide_data(cell):\n",
    "        source = ''.join(cell['source'])\n",
    "        type = \"fragment slide slide subslide fragment fragment fragment\".split(\n",
    "        )[max(get_levels(source) or [0])]\n",
    "        cell.metadata['slideshow'] = cell.metadata.get('slideshow', {})\n",
    "        cell.metadata['slideshow'].update(slide_type=cell.metadata['slideshow'].get('slide_type', type))\n",
    "        return cell"
   ]
  },
  {
   "cell_type": "code",
   "execution_count": 7,
   "metadata": {},
   "outputs": [
    {
     "data": {
      "text/html": [
       "<code style=\"white-space: pre;\" title=\"\">class AutomaticallyPresent(nbconvert.preprocessors.Preprocessor):\n",
       "</code><a href=\"#an-nbconvert-preprocessors-preprocessor\"><h3 id=\"an-nbconvert-preprocessors-preprocessor\">An <code>nbconvert.preprocessors.Preprocessor</code></h3>\n",
       "</a>\n",
       "<code style=\"white-space: pre;\" title=\"\">    def preprocess_cell(self, cell, resources, index):\n",
       "        if 'source' not in cell: return cell, resources\n",
       "\n",
       "        if cell['cell_type'] == 'code':\n",
       "            self.is_pidgin = self.is_pidgin or (\n",
       "                'load_ext pidgin' in ''.join(cell['source']))\n",
       "\n",
       "        if cell['cell_type'] in (['markdown'] + (\n",
       "            self.is_pidgin and ['code'] or []\n",
       "        )):\n",
       "            if (cell['cell_type'] == 'markdown') or ('outputs' in cell) and cell['outputs']:\n",
       "                cell = add_slide_data(cell)\n",
       "\n",
       "        return cell, resources\n",
       "\n",
       "    def preprocess(self, nb, resources):\n",
       "        self.last_heading = None\n",
       "        self.is_pidgin = False\n",
       "        while nb.cells and (\n",
       "            not (nb.cells[-1].source or nb.cells[-1].outputs)\n",
       "        ): nb.cells.pop()\n",
       "        if nb.cells and nb.cells[-1]['cell_type'] == 'raw':\n",
       "            nb.metadata.merge(yaml.safe_load(io.StringIO(''.join(nb.cells.pop()['source']))))\n",
       "\n",
       "        nb, resources = super().preprocess(nb, resources)\n",
       "        return nbconvert.exporters.slides.prepare(nb), resources</code>"
      ],
      "text/plain": [
       "\"    class AutomaticallyPresent(nbconvert.preprocessors.Preprocessor):\\n### An `nbconvert.preprocessors.Preprocessor`\\n    \\n    \\n\\n        def preprocess_cell(self, cell, resources, index):\\n            if 'source' not in cell: return cell, resources\\n            \\n            if cell['cell_type'] == 'code':\\n                self.is_pidgin = self.is_pidgin or (\\n                    'load_ext pidgin' in ''.join(cell['source']))\\n               \\n            if cell['cell_type'] in (['markdown'] + (\\n                self.is_pidgin and ['code'] or []\\n            )):\\n                if (cell['cell_type'] == 'markdown') or ('outputs' in cell) and cell['outputs']:\\n                    cell = add_slide_data(cell)\\n                \\n            return cell, resources\\n        \\n        def preprocess(self, nb, resources):\\n            self.last_heading = None\\n            self.is_pidgin = False\\n            while nb.cells and (\\n                not (nb.cells[-1].source or nb.cells[-1].outputs)\\n            ): nb.cells.pop()\\n            if nb.cells and nb.cells[-1]['cell_type'] == 'raw':\\n                nb.metadata.merge(yaml.safe_load(io.StringIO(''.join(nb.cells.pop()['source']))))\\n                \\n            nb, resources = super().preprocess(nb, resources)\\n            return nbconvert.exporters.slides.prepare(nb), resources\\n\""
      ]
     },
     "metadata": {},
     "output_type": "display_data"
    }
   ],
   "source": [
    "    class AutomaticallyPresent(nbconvert.preprocessors.Preprocessor):\n",
    "### An `nbconvert.preprocessors.Preprocessor`\n",
    "    \n",
    "    \n",
    "\n",
    "        def preprocess_cell(self, cell, resources, index):\n",
    "            if 'source' not in cell: return cell, resources\n",
    "            \n",
    "            if cell['cell_type'] == 'code':\n",
    "                self.is_pidgin = self.is_pidgin or (\n",
    "                    'load_ext pidgin' in ''.join(cell['source']))\n",
    "               \n",
    "            if cell['cell_type'] in (['markdown'] + (\n",
    "                self.is_pidgin and ['code'] or []\n",
    "            )):\n",
    "                if (cell['cell_type'] == 'markdown') or ('outputs' in cell) and cell['outputs']:\n",
    "                    cell = add_slide_data(cell)\n",
    "                \n",
    "            return cell, resources\n",
    "        \n",
    "        def preprocess(self, nb, resources):\n",
    "            self.last_heading = None\n",
    "            self.is_pidgin = False\n",
    "            while nb.cells and (\n",
    "                not (nb.cells[-1].source or nb.cells[-1].outputs)\n",
    "            ): nb.cells.pop()\n",
    "            if nb.cells and nb.cells[-1]['cell_type'] == 'raw':\n",
    "                nb.metadata.merge(__import__('yaml').safe_load(__import__('io').StringIO(''.join(nb.cells.pop()['source']))))\n",
    "                \n",
    "            nb, resources = super().preprocess(nb, resources)\n",
    "            return nbconvert.exporters.slides.prepare(nb), resources\n"
   ]
  },
  {
   "cell_type": "markdown",
   "metadata": {},
   "source": [
    "## Automatically adding the metadata."
   ]
  },
  {
   "cell_type": "code",
   "execution_count": 8,
   "metadata": {},
   "outputs": [],
   "source": [
    "    mod_css = lambda str: str.replace(\"\"\"                .css('height', 'calc(95vh)')\n",
    "                    .css('overflow-y', 'scroll')\n",
    "                    .css('margin-top', '20px');\"\"\",\n",
    "    \"\"\"                .css('height', 'calc(100vh)')\n",
    "                .css('overflow-y', 'scroll')\n",
    "                .css('margin-top', '0px');\"\"\")"
   ]
  },
  {
   "cell_type": "code",
   "execution_count": 9,
   "metadata": {},
   "outputs": [],
   "source": [
    "    def present(filename, **dict):\n",
    "        import vdom.svg\n",
    "        exporter = nbconvert.SlidesExporter(\n",
    "            preprocessors=[AutomaticallyPresent()],\n",
    "            reveal_scroll=True, exclude_output_prompt=True, exclude_raw=True,\n",
    "            exclude_input=True, **dict\n",
    "        )\n",
    "        template = exporter.environment.loader.loaders[0].get_source(exporter.environment, 'slides_reveal')[0]\n",
    "        lead, sep, template = template.partition('<section')\n",
    "        sep += \"\"\" {% for key, value in nb.metadata.get('dataset', {}).items()%}data-{{key}}=\"{{value}}\" {% endfor %}\"\"\"\n",
    "        template = template.replace(\"\"\"<section\"\"\", \"\"\"<section\"\"\" + \"\"\" {% for key, value in cell.metadata.get('dataset', {}).items()%}data-{{key}}=\"{{value}}\" {% endfor %}\"\"\")\n",
    "        template = lead + sep + template\n",
    "        template = template.replace('controls: true,', '''width: \"100%\", height: \"100%\", margin: 0, controls: true, slideNumber: true, center: false, loop: true, backgroundTransition: 'slide', width: '100%', ''')\n",
    "        template = mod_css(template)\n",
    "        template = template.replace('</body>', '</body><style>li code, p code {display: contents;}</style>')\n",
    "        template = template.replace(\n",
    "            \"\"\"Reveal.addEventListener('slidechanged', setScrollingSlide);\"\"\",\n",
    "            \"\"\"Reveal.addEventListener('slidechanged', setScrollingSlide);\n",
    "            $('.slide-number').click(function(){Reveal.toggleOverview();});\n",
    "\n",
    "            \"\"\")\n",
    "        exporter._template_cached = exporter.environment.from_string(template)\n",
    "        return vdom.svg.iframe(\n",
    "            srcdoc=exporter.from_filename(filename)[0],\n",
    "            width=\"100%\", height=\"500px\",\n",
    "            **{\"class\": \"pdg-Frame\"}\n",
    "        )._repr_html_()"
   ]
  },
  {
   "cell_type": "raw",
   "metadata": {},
   "source": [
    "dataset:\n",
    "    background-color: green"
   ]
  }
 ],
 "metadata": {
  "kernelspec": {
   "display_name": "p6",
   "language": "python",
   "name": "other-env"
  },
  "language_info": {
   "codemirror_mode": {
    "name": "ipython",
    "version": 3
   },
   "file_extension": ".py",
   "mimetype": "text/x-python",
   "name": "python",
   "nbconvert_exporter": "python",
   "pygments_lexer": "ipython3",
   "version": "3.6.3"
  }
 },
 "nbformat": 4,
 "nbformat_minor": 2
}
