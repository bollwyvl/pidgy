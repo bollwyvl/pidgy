{
 "cells": [
  {
   "cell_type": "markdown",
   "metadata": {},
   "source": [
    "The `pidgin.environment` establishes how `jinja2` injects data into templates for weaving.\n",
    "\n",
    "templating happens before weaving."
   ]
  },
  {
   "cell_type": "markdown",
   "metadata": {},
   "source": [
    "`pidgin.rendering` controls the execution of `jinja2` and `mistune`."
   ]
  },
  {
   "cell_type": "markdown",
   "metadata": {},
   "source": [
    "The template needs to be created with from_string using globals and a special template_clas"
   ]
  },
  {
   "cell_type": "code",
   "execution_count": 3,
   "metadata": {},
   "outputs": [],
   "source": [
    "    if __name__ == '__main__':\n",
    "        %reload_ext pidgin\n",
    "        import pidgin, IPython\n",
    "        ip = get_ipython()\n",
    "        ip.weave.html = True"
   ]
  },
  {
   "cell_type": "code",
   "execution_count": null,
   "metadata": {},
   "outputs": [],
   "source": [
    "## Templating\n",
    "\n",
    "Putting real data into documents\n",
    "\n",
    "Templates are common in blogs.\n",
    "\n",
    "Jinja has a port in javascript nunjucks.\n",
    "\n",
    "\n",
    "[templating]: https://en.wikipedia.org/wiki/Template_processor\n",
    "[jekyll]: https://jekyllrb.com/\n",
    "[fstring]:"
   ]
  },
  {
   "cell_type": "code",
   "execution_count": 3,
   "metadata": {},
   "outputs": [],
   "source": [
    "    import jinja2, nbconvert, types, collections, IPython\n",
    "    from mimetypes import guess_type; guess = lambda x: guess_type(x)[0]"
   ]
  },
  {
   "cell_type": "code",
   "execution_count": null,
   "metadata": {},
   "outputs": [],
   "source": [
    "    def load_ipython_extension(ip): \n",
    "        mimebundle_formatter = ip.display_formatter.mimebundle_formatter\n",
    "        for object in formatters_by_name: mimebundle_formatter.for_type_by_name(*object)  \n",
    "        \n",
    "    def unload_ipython_extension(ip=None): \n",
    "        mimebundle_formatter = ip.display_formatter.mimebundle_formatter\n",
    "        for object in formatters_by_name: mimebundle_formatter.for_type_by_name(*object)"
   ]
  },
  {
   "cell_type": "code",
   "execution_count": null,
   "metadata": {},
   "outputs": [],
   "source": [
    "    class TemplateExporter(nbconvert.exporters.TemplateExporter):\n",
    "        def _create_environment(self):\n",
    "            environment = super()._create_environment()\n",
    "            environment.undefined = jinja2.StrictUndefined\n",
    "            environment.finalize = ipython_output\n",
    "            return environment\n",
    "        \n",
    "        @classmethod\n",
    "        def new_environment(cls, **kwargs): return cls(**kwargs).environment\n",
    "\n",
    "    new_environment = TemplateExporter.new_environment"
   ]
  },
  {
   "cell_type": "code",
   "execution_count": null,
   "metadata": {},
   "outputs": [],
   "source": [
    "    def flatten(str): return '&#xA;'.join(str.splitlines())"
   ]
  },
  {
   "cell_type": "code",
   "execution_count": null,
   "metadata": {},
   "outputs": [],
   "source": [
    "    def format_bytes(bytes, object):\n",
    "        return {\n",
    "            'text/html': format_images('image/png', {'image/png': bytes}),\n",
    "            'text/plain': repr(object),}, {}"
   ]
  },
  {
   "cell_type": "code",
   "execution_count": null,
   "metadata": {},
   "outputs": [],
   "source": [
    "    def show_axes(object):\n",
    "        ip = IPython.get_ipython()\n",
    "        import matplotlib.backends.backend_agg\n",
    "        bytes = io.BytesIO()\n",
    "        matplotlib.backends.backend_agg.FigureCanvasAgg(getattr(object, 'figure', object)).print_png(bytes)\n",
    "        return format_bytes(bytes.getvalue(), object)"
   ]
  },
  {
   "cell_type": "code",
   "execution_count": null,
   "metadata": {},
   "outputs": [],
   "source": [
    "    def show_sympy_axes(object): \n",
    "        s = __import__('io').BytesIO()\n",
    "        object.save(s)\n",
    "        return format_bytes(s.getvalue(), object)"
   ]
  },
  {
   "cell_type": "code",
   "execution_count": null,
   "metadata": {},
   "outputs": [],
   "source": [
    "    formatters_by_name = (\n",
    "        ('matplotlib.figure', 'Axes', show_axes), \n",
    "        ('matplotlib.axes._subplots', 'AxesSubplot', show_axes),\n",
    "        ('sympy.plotting.plot', 'Plot', show_sympy_axes),\n",
    "    )"
   ]
  },
  {
   "cell_type": "code",
   "execution_count": null,
   "metadata": {},
   "outputs": [],
   "source": [
    "    if __name__ == '__main__':\n",
    "        with tangle.PidginImporter():\n",
    "            from . import weave\n",
    "        unload_ipython_extension(get_ipython())        \n",
    "        weave.load_ipython_extension(get_ipython())\n",
    "        load_ipython_extension(get_ipython())"
   ]
  },
  {
   "cell_type": "code",
   "execution_count": 4,
   "metadata": {},
   "outputs": [],
   "source": [
    "    def ipython_output(object=None, bundle=None):\n",
    "        if bundle is None:             \n",
    "            bundle, metadata = IPython.get_ipython().display_formatter.format(object)\n",
    "        for type in [\n",
    "            str for str in IPython.get_ipython().display_formatter.active_types if str != 'text/plain'\n",
    "        ] + ['text/plain']:\n",
    "            if type == 'text/plain': \n",
    "                if object is None: return bundle[type]\n",
    "                return object\n",
    "            if type in bundle: \n",
    "                object = bundle[type]\n",
    "                if type.startswith('image') and 'svg' not in type: object = format_images(type, bundle)._repr_html_()\n",
    "                if type ==  'text/html': object = flatten(object)\n",
    "                if type == 'image/svg+xml': object = flatten(re.sub('(xmlns(:?\\S*)?=\"\\S*?\")?', r'', object))\n",
    "                if type == 'text/latex':\n",
    "                    if object.startswith('$$') and object.endswith('$$'): object = object[1:-1]\n",
    "                break\n",
    "        return object"
   ]
  },
  {
   "cell_type": "code",
   "execution_count": null,
   "metadata": {},
   "outputs": [],
   "source": [
    "    def format_images(type, bundle):\n",
    "        str = bundle[type]\n",
    "        import base64, IPython\n",
    "        \n",
    "        if isinstance(str, bytes):\n",
    "            str = base64.b64encode(str).decode('utf-8')\n",
    "            \n",
    "        if type in ('image/svg+xml', 'text/html'):  ...\n",
    "        elif str.startswith('http'): \n",
    "            str = F\"\"\"<img src=\"{str}\"/>\"\"\"\n",
    "        else: \n",
    "            str = F\"\"\"<img src=\"data:{type};base64,{str}\"/>\"\"\"\n",
    "            \n",
    "        return IPython.display.HTML(str)"
   ]
  }
 ],
 "metadata": {
  "kernelspec": {
   "display_name": "Python 3",
   "language": "python",
   "name": "python3"
  },
  "language_info": {
   "codemirror_mode": {
    "name": "ipython",
    "version": 3
   },
   "file_extension": ".py",
   "mimetype": "text/x-python",
   "name": "python",
   "nbconvert_exporter": "python",
   "pygments_lexer": "ipython3",
   "version": "3.6.5"
  },
  "nikola": {
   "date": "2018-12-06 12:00:00 UTC",
   "description": "`pidgin.display` is a collection of display rules for IPython objects.  \n\n`StringFormatter` is a class that adds reules for string `object`s.",
   "slug": "display.ipynb",
   "title": "display.ipynb",
   "type": "text"
  }
 },
 "nbformat": 4,
 "nbformat_minor": 2
}
