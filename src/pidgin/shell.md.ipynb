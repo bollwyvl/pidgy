{
 "cells": [
  {
   "cell_type": "markdown",
   "metadata": {},
   "source": [
    "[`pidgin.shell`](shell.md.ipynb) configures the interactive literate programming actions (Ctrl+Enter or Shift+Enter) -`tangle`, `weave`, and `macros` - when a cell or line of code is executed in an interative `IPython` `shell`. "
   ]
  },
  {
   "cell_type": "code",
   "execution_count": 1,
   "metadata": {},
   "outputs": [],
   "source": [
    "     if __name__ == '__main__': \n",
    "        %reload_ext pidgin\n",
    "        from pidgin.docs.references import *"
   ]
  },
  {
   "cell_type": "code",
   "execution_count": 2,
   "metadata": {},
   "outputs": [
    {
     "data": {
      "text/html": [
       "<pre><code>class Shell(__import__('IPython').InteractiveShell):\n",
       "</code></pre>\n",
       "<p>The <code>Shell</code> connects people the basic foundations of systems programming.  At the human machine interface, \n",
       "an author</p>\n",
       "<pre><code>    parents = __import__('traitlets').List()\n",
       "    def __init__(Shell, *args, **kwargs):\n",
       "        if 'parent' in kwargs: kwargs = {**kwargs['parent']._trait_values, **kwargs}\n",
       "        super().__init__(*args, **kwargs)\n",
       "    def init_user_ns(Shell):  \n",
       "        Shell.user_ns = __import__('collections').ChainMap(vars(Shell.user_module), *(vars(object.user_module) for object in Shell.parents))              \n",
       "    def init_displayhook(Shell): Shell.displayhook = Shell.parent.displayhook\n",
       "</code></pre>\n"
      ],
      "text/plain": [
       "<IPython.core.display.HTML object>"
      ]
     },
     "metadata": {},
     "output_type": "display_data"
    }
   ],
   "source": [
    "    class Shell(__import__('IPython').InteractiveShell):\n",
    "        parents = __import__('traitlets').List()\n",
    "        def __init__(Shell, *args, **kwargs):\n",
    "            if 'parent' in kwargs: kwargs = {**kwargs['parent']._trait_values, **kwargs}\n",
    "            super().__init__(*args, **kwargs)\n",
    "        def init_user_ns(Shell):  \n",
    "            Shell.user_ns = __import__('collections').ChainMap(vars(Shell.user_module), *(vars(object.user_module) for object in Shell.parents))              \n",
    "        def init_displayhook(Shell): Shell.displayhook = Shell.parent.displayhook"
   ]
  },
  {
   "cell_type": "code",
   "execution_count": 3,
   "metadata": {},
   "outputs": [],
   "source": [
    "    class Static(Shell): \n",
    "        def run_cell(Static, text, *args, **kwargs): [shell.run_cell(text) for shell in Static.parents]"
   ]
  },
  {
   "cell_type": "code",
   "execution_count": 4,
   "metadata": {},
   "outputs": [],
   "source": [
    "    def load_ipython_extension(shell):                             \n",
    "        from . import applications\n",
    "        applications.do_execute.load_ipython_extension(shell)\n",
    "        applications.do_complete.load_ipython_extension(shell)\n",
    "        applications.do_inspect.load_ipython_extension(shell)        "
   ]
  },
  {
   "cell_type": "code",
   "execution_count": 5,
   "metadata": {},
   "outputs": [],
   "source": [
    "    def unload_ipython_extension(shell):     \n",
    "        from . import applications\n",
    "        applications.do_execute.unload_ipython_extension(shell)\n",
    "        applications.do_complete.unload_ipython_extension(shell)\n",
    "        applications.do_inspect.unload_ipython_extension(shell)        "
   ]
  }
 ],
 "metadata": {
  "kernelspec": {
   "display_name": "p6",
   "language": "python",
   "name": "other-env"
  },
  "language_info": {
   "codemirror_mode": {
    "name": "ipython",
    "version": 3
   },
   "file_extension": ".py",
   "mimetype": "text/x-python",
   "name": "python",
   "nbconvert_exporter": "python",
   "pygments_lexer": "ipython3",
   "version": "3.6.8"
  }
 },
 "nbformat": 4,
 "nbformat_minor": 2
}
