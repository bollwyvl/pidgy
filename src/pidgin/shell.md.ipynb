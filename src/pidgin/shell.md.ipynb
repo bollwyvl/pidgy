{
 "cells": [
  {
   "cell_type": "markdown",
   "metadata": {},
   "source": [
    "[`pidgin.shell`](shell.md.ipynb) configures the interactive literate programming actions (Ctrl+Enter or Shift+Enter) -`tangle`, `weave`, and `macros` - when a cell or line of code is executed in an interative `IPython` `shell`. "
   ]
  },
  {
   "cell_type": "code",
   "execution_count": 1,
   "metadata": {},
   "outputs": [],
   "source": [
    "    import jason \n",
    "    if __name__ == '__main__': \n",
    "        %reload_ext pidgin"
   ]
  },
  {
   "cell_type": "code",
   "execution_count": 2,
   "metadata": {},
   "outputs": [
    {
     "data": {
      "text/html": [
       "<pre><code>&gt;&gt;&gt; import pidgin\n",
       "</code></pre>\n",
       "<pre><code>&gt;&gt;&gt; from pidgin import application, specification\n",
       "</code></pre>\n"
      ],
      "text/plain": [
       "<IPython.core.display.HTML object>"
      ]
     },
     "metadata": {},
     "output_type": "display_data"
    }
   ],
   "source": [
    ">>> import pidgin\n",
    ">>> from pidgin import application, specification"
   ]
  },
  {
   "cell_type": "code",
   "execution_count": 3,
   "metadata": {},
   "outputs": [
    {
     "data": {
      "text/html": [
       "<div class=\"highlight\" style=\"background: #f8f8f8\"><pre style=\"line-height: 125%\"><span></span><span style=\"color: #008000; font-weight: bold\">def</span> <span style=\"color: #0000FF\">load_ipython_extension</span>(shell):\n",
       "</pre></div>\n",
       "<p><code>shell=get_ipython()</code>, the <code>pidgin.shell</code> modifies the interactive the <code>shell.kernel</code> execution, completion, and inspection.</p>\n",
       "<div class=\"highlight\" style=\"background: #f8f8f8\"><pre style=\"line-height: 125%\"><span></span><span style=\"color: #008000; font-weight: bold\">from</span> <span style=\"color: #0000FF; font-weight: bold\">.</span> <span style=\"color: #008000; font-weight: bold\">import</span> application\n",
       "    application<span style=\"color: #666666\">.</span>do_execute<span style=\"color: #666666\">.</span>load_ipython_extension(shell)\n",
       "    application<span style=\"color: #666666\">.</span>do_complete<span style=\"color: #666666\">.</span>load_ipython_extension(shell)\n",
       "    application<span style=\"color: #666666\">.</span>do_inspect<span style=\"color: #666666\">.</span>load_ipython_extension(shell)\n",
       "</pre></div>\n"
      ],
      "text/plain": [
       "<IPython.core.display.HTML object>"
      ]
     },
     "metadata": {},
     "output_type": "display_data"
    }
   ],
   "source": [
    "    def load_ipython_extension(shell):\n",
    "`shell=get_ipython()`, the `pidgin.shell` modifies the interactive the `shell.kernel` execution, completion, and inspection.\n",
    "\n",
    "        from . import application\n",
    "        application.do_execute.load_ipython_extension(shell)\n",
    "        application.do_complete.load_ipython_extension(shell)\n",
    "        application.do_inspect.load_ipython_extension(shell)"
   ]
  },
  {
   "cell_type": "code",
   "execution_count": 4,
   "metadata": {},
   "outputs": [
    {
     "data": {
      "text/html": [
       "<pre><code>&gt;&gt;&gt; pidgin.transform_cell.markdown_to_python(\"\"\"Block code is the only portion of the string tangled*.\n",
       "...\n",
       "...      print(10)\"\"\")\n",
       "'\"\"\"Block code is the only portion of the string tangled*.\"\"\"\\n\\nprint(10)'\n",
       "</code></pre>\n"
      ],
      "text/plain": [
       "<IPython.core.display.HTML object>"
      ]
     },
     "metadata": {},
     "output_type": "display_data"
    }
   ],
   "source": [
    ">>> pidgin.transform_cell.markdown_to_python(\"\"\"Block code is the only portion of the string tangled*.\n",
    "...\n",
    "...      print(10)\"\"\")\n",
    "'\"\"\"Block code is the only portion of the string tangled*.\"\"\"\\n\\nprint(10)'"
   ]
  },
  {
   "cell_type": "code",
   "execution_count": 5,
   "metadata": {},
   "outputs": [
    {
     "data": {
      "text/html": [
       "<pre><code>&gt;&gt;&gt; %%markdown_to_python\n",
       "... Block code is the only portion of the string tangled*.\n",
       "...\n",
       "...      print(10)\n",
       "&lt;IPython.core.display.HTML object&gt;\n",
       "</code></pre>\n"
      ],
      "text/plain": [
       "<IPython.core.display.HTML object>"
      ]
     },
     "metadata": {},
     "output_type": "display_data"
    }
   ],
   "source": [
    ">>> %%markdown_to_python\n",
    "... Block code is the only portion of the string tangled*.\n",
    "...\n",
    "...      print(10)\n",
    "<IPython.core.display.HTML object>\n"
   ]
  },
  {
   "cell_type": "code",
   "execution_count": 6,
   "metadata": {},
   "outputs": [
    {
     "data": {
      "text/html": [
       "<p>Tangle specification</p>\n",
       "<pre><code>&gt;&gt;&gt; get_ipython().input_transformer_manager.cleanup_transforms\n",
       "[&lt;pidgin.specification.transform_cell.Tangle object at 0x...&gt;, &lt;function leading_indent at 0x...&gt;, &lt;IPython.core.inputtransformer2.PromptStripper object at 0x...&gt;]\n",
       "</code></pre>\n",
       "<pre><code>&gt;&gt;&gt; get_ipython().ast_transformers\n",
       "[&lt;pidgin.specification.emojis.Emojize object at 0x...&gt;, &lt;pidgin.specification.json.Expand object at 0x...&gt;, &lt;pidgin.specification.transform_ast.ReturnYieldDisplay object at 0x...&gt;]\n",
       "</code></pre>\n"
      ],
      "text/plain": [
       "<IPython.core.display.HTML object>"
      ]
     },
     "metadata": {},
     "output_type": "display_data"
    }
   ],
   "source": [
    "Tangle specification\n",
    "\n",
    ">>> get_ipython().input_transformer_manager.cleanup_transforms\n",
    "[<pidgin.specification.transform_cell.Tangle object at 0x...>, <function leading_indent at 0x...>, <IPython.core.inputtransformer2.PromptStripper object at 0x...>]\n",
    ">>> get_ipython().ast_transformers\n",
    "[<pidgin.specification.emojis.Emojize object at 0x...>, <pidgin.specification.json.Expand object at 0x...>, <pidgin.specification.transform_ast.ReturnYieldDisplay object at 0x...>]"
   ]
  },
  {
   "cell_type": "code",
   "execution_count": 7,
   "metadata": {},
   "outputs": [
    {
     "data": {
      "text/html": [
       "<p>yaml specification</p>\n",
       "<pre><code>&gt;&gt;&gt; __context__ = jason.Yaml%\"\"\"\n",
       "... w: http://en.wikipedia.org/wiki/\"\"\"\n",
       "</code></pre>\n",
       "<pre><code>&gt;&gt;&gt; __context__\n",
       "{'w': 'http://en.wikipedia.org/wiki/'}\n",
       "</code></pre>\n",
       "<pre><code>&gt;&gt;&gt; a_list = jason.Yaml%\"\"\"\n",
       "... [1, 2]\"\"\" == [1, 2]\n",
       "</code></pre>\n",
       "<pre><code>&gt;&gt;&gt; a_string = \"\"\"\n",
       "... [1, 2]\"\"\"\n",
       "</code></pre>\n"
      ],
      "text/plain": [
       "<IPython.core.display.HTML object>"
      ]
     },
     "metadata": {},
     "output_type": "display_data"
    }
   ],
   "source": [
    "yaml specification\n",
    "\n",
    ">>> __context__ = jason.Yaml%\"\"\"\n",
    "... w: http://en.wikipedia.org/wiki/\"\"\"\n",
    ">>> __context__\n",
    "{'w': 'http://en.wikipedia.org/wiki/'}\n",
    ">>> a_list = jason.Yaml%\"\"\"\n",
    "... [1, 2]\"\"\" == [1, 2]\n",
    ">>> a_string = \"\"\"\n",
    "... [1, 2]\"\"\""
   ]
  },
  {
   "cell_type": "code",
   "execution_count": 8,
   "metadata": {},
   "outputs": [
    {
     "data": {
      "text/html": [
       "<p>Json specification</p>\n",
       "<p>Json-ld</p>\n",
       "<pre><code>&gt;&gt;&gt; __context__ = {'w': \"http://en.wikipedia.org/wiki/\"}\n",
       "</code></pre>\n",
       "<pre><code>&gt;&gt;&gt; assert \"w:Thermodynamics\" == \"http://en.wikipedia.org/wiki/Thermodynamics\"\n",
       "</code></pre>\n",
       "<p>Json pointers</p>\n",
       "<pre><code>&gt;&gt;&gt; structured_data = jason.Yaml%\"\"\"\n",
       "... {a: [1, {b: [30]}, 5]}\"\"\"\n",
       "</code></pre>\n",
       "<pre><code>&gt;&gt;&gt; structured_data['/a/1/b/0']\n",
       "30\n",
       "</code></pre>\n"
      ],
      "text/plain": [
       "<IPython.core.display.HTML object>"
      ]
     },
     "metadata": {},
     "output_type": "display_data"
    }
   ],
   "source": [
    "Json specification\n",
    "\n",
    "Json-ld\n",
    "\n",
    ">>> __context__ = {'w': \"http://en.wikipedia.org/wiki/\"}\n",
    ">>> assert \"w:Thermodynamics\" == \"http://en.wikipedia.org/wiki/Thermodynamics\"\n",
    "\n",
    "Json pointers\n",
    "\n",
    ">>> structured_data = jason.Yaml%\"\"\"\n",
    "... {a: [1, {b: [30]}, 5]}\"\"\"\n",
    ">>> structured_data['/a/1/b/0']\n",
    "30"
   ]
  },
  {
   "cell_type": "code",
   "execution_count": 9,
   "metadata": {},
   "outputs": [
    {
     "data": {
      "text/html": [
       "<p>Emoji specification</p>\n",
       "<pre><code>&gt;&gt;&gt; assert \"🏀\" == \"🏀\"\n",
       "</code></pre>\n"
      ],
      "text/plain": [
       "<IPython.core.display.HTML object>"
      ]
     },
     "metadata": {},
     "output_type": "display_data"
    }
   ],
   "source": [
    "Emoji specification\n",
    "\n",
    ">>> assert \"___basketball___\" == \"🏀\""
   ]
  },
  {
   "cell_type": "code",
   "execution_count": 10,
   "metadata": {},
   "outputs": [
    {
     "data": {
      "text/html": [
       "<p>Color specification</p>\n",
       "<pre><code>&gt;&gt;&gt; pidgin.specification.colors.blue(\"car\")\n",
       "'&lt;span style=\"color:#0000ff;\"&gt;car&lt;/span&gt;'\n",
       "</code></pre>\n"
      ],
      "text/plain": [
       "<IPython.core.display.HTML object>"
      ]
     },
     "metadata": {},
     "output_type": "display_data"
    }
   ],
   "source": [
    "Color specification\n",
    "\n",
    ">>> pidgin.specification.colors.blue(\"car\")\n",
    "'<span style=\"color:#0000ff;\">car</span>'"
   ]
  },
  {
   "cell_type": "code",
   "execution_count": 11,
   "metadata": {},
   "outputs": [
    {
     "data": {
      "text/html": [
       "<pre><code>&gt;&gt;&gt; get_ipython().events.callbacks['post_run_cell']\n",
       "[&lt;function validate_schema at ...&gt;, &lt;pidgin.specification.testing.Doctest object at ...&gt;, &lt;pidgin.weave.Weave object at 0x...&gt;]\n",
       "</code></pre>\n"
      ],
      "text/plain": [
       "<IPython.core.display.HTML object>"
      ]
     },
     "metadata": {},
     "output_type": "display_data"
    }
   ],
   "source": [
    ">>> get_ipython().events.callbacks['post_run_cell']\n",
    "[<function validate_schema at ...>, <pidgin.specification.testing.Doctest object at ...>, <pidgin.weave.Weave object at 0x...>]"
   ]
  },
  {
   "cell_type": "code",
   "execution_count": 12,
   "metadata": {},
   "outputs": [
    {
     "data": {
      "text/html": [
       "<div class=\"highlight\" style=\"background: #f8f8f8\"><pre style=\"line-height: 125%\"><span></span><span style=\"color: #008000; font-weight: bold\">class</span> <span style=\"color: #0000FF; font-weight: bold\">Shell</span>(<span style=\"color: #008000\">__import__</span>(<span style=\"color: #BA2121\">&#39;IPython&#39;</span>)<span style=\"color: #666666\">.</span>InteractiveShell):\n",
       "    parents <span style=\"color: #666666\">=</span> <span style=\"color: #008000\">__import__</span>(<span style=\"color: #BA2121\">&#39;traitlets&#39;</span>)<span style=\"color: #666666\">.</span>List()\n",
       "    <span style=\"color: #008000; font-weight: bold\">def</span> <span style=\"color: #0000FF\">__init__</span>(Shell, <span style=\"color: #666666\">*</span>args, <span style=\"color: #666666\">**</span>kwargs):\n",
       "        <span style=\"color: #008000; font-weight: bold\">if</span> <span style=\"color: #BA2121\">&#39;parent&#39;</span> <span style=\"color: #AA22FF; font-weight: bold\">in</span> kwargs: kwargs <span style=\"color: #666666\">=</span> {<span style=\"color: #666666\">**</span>kwargs[<span style=\"color: #BA2121\">&#39;parent&#39;</span>]<span style=\"color: #666666\">.</span>_trait_values, <span style=\"color: #666666\">**</span>kwargs}\n",
       "</pre></div>\n",
       "<p>Only consume the keyword arguments for child shells.</p>\n",
       "<div class=\"highlight\" style=\"background: #f8f8f8\"><pre style=\"line-height: 125%\"><span></span><span style=\"color: #008000\">super</span>()<span style=\"color: #666666\">.</span><span style=\"color: #0000FF\">__init__</span>(<span style=\"color: #666666\">**</span>kwargs)\n",
       "    <span style=\"color: #008000; font-weight: bold\">def</span> <span style=\"color: #0000FF\">init_user_ns</span>(Shell):  \n",
       "        Shell<span style=\"color: #666666\">.</span>user_ns <span style=\"color: #666666\">=</span> <span style=\"color: #008000\">__import__</span>(<span style=\"color: #BA2121\">&#39;collections&#39;</span>)<span style=\"color: #666666\">.</span>ChainMap(<span style=\"color: #008000\">vars</span>(Shell<span style=\"color: #666666\">.</span>user_module))\n",
       "        <span style=\"color: #008000; font-weight: bold\">for</span> shell <span style=\"color: #AA22FF; font-weight: bold\">in</span> Shell<span style=\"color: #666666\">.</span>parents:\n",
       "            Shell<span style=\"color: #666666\">.</span>user_ns<span style=\"color: #666666\">.</span>maps <span style=\"color: #666666\">+=</span> <span style=\"color: #008000\">vars</span>(shell<span style=\"color: #666666\">.</span>user_module),\n",
       "\n",
       "    <span style=\"color: #008000; font-weight: bold\">def</span> <span style=\"color: #0000FF\">init_displayhook</span>(Shell): Shell<span style=\"color: #666666\">.</span>displayhook <span style=\"color: #666666\">=</span> Shell<span style=\"color: #666666\">.</span>parent<span style=\"color: #666666\">.</span>displayhook\n",
       "\n",
       "    <span style=\"color: #008000; font-weight: bold\">def</span> <span style=\"color: #0000FF\">__call__</span>(Shell, <span style=\"color: #666666\">*</span>args, <span style=\"color: #666666\">**</span>kwargs): <span style=\"color: #008000; font-weight: bold\">return</span> Shell<span style=\"color: #666666\">.</span>run_cell(<span style=\"color: #666666\">*</span>args, <span style=\"color: #666666\">**</span>kwargs)\n",
       "</pre></div>\n"
      ],
      "text/plain": [
       "<IPython.core.display.HTML object>"
      ]
     },
     "metadata": {},
     "output_type": "display_data"
    }
   ],
   "source": [
    "    class Shell(__import__('IPython').InteractiveShell):\n",
    "        parents = __import__('traitlets').List()\n",
    "        def __init__(Shell, *args, **kwargs):\n",
    "            if 'parent' in kwargs: kwargs = {**kwargs['parent']._trait_values, **kwargs}\n",
    "Only consume the keyword arguments for child shells.                \n",
    "                \n",
    "            super().__init__(**kwargs)\n",
    "        def init_user_ns(Shell):  \n",
    "            Shell.user_ns = __import__('collections').ChainMap(vars(Shell.user_module))\n",
    "            for shell in Shell.parents:\n",
    "                Shell.user_ns.maps += vars(shell.user_module),\n",
    "                \n",
    "        def init_displayhook(Shell): Shell.displayhook = Shell.parent.displayhook\n",
    "        \n",
    "        def __call__(Shell, *args, **kwargs): return Shell.run_cell(*args, **kwargs)"
   ]
  },
  {
   "cell_type": "code",
   "execution_count": 13,
   "metadata": {},
   "outputs": [],
   "source": [
    "    class Static(Shell): \n",
    "        def run_cell(Static, text, *args, **kwargs): [shell.run_cell(text) for shell in Static.parents]"
   ]
  },
  {
   "cell_type": "code",
   "execution_count": 14,
   "metadata": {},
   "outputs": [],
   "source": [
    "    def unload_ipython_extension(shell):     \n",
    "        from . import application\n",
    "        application.do_execute.unload_ipython_extension(shell)\n",
    "        application.do_complete.unload_ipython_extension(shell)\n",
    "        application.do_inspect.unload_ipython_extension(shell)        "
   ]
  }
 ],
 "metadata": {
  "kernelspec": {
   "display_name": "p6",
   "language": "python",
   "name": "other-env"
  },
  "language_info": {
   "codemirror_mode": {
    "name": "ipython",
    "version": 3
   },
   "file_extension": ".py",
   "mimetype": "text/x-python",
   "name": "python",
   "nbconvert_exporter": "python",
   "pygments_lexer": "ipython3",
   "version": "3.6.8"
  }
 },
 "nbformat": 4,
 "nbformat_minor": 2
}
