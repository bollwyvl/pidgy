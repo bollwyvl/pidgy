{
 "cells": [
  {
   "cell_type": "markdown",
   "metadata": {},
   "source": [
    "[`pidgin.shell`](shell.md.ipynb) configures the interactive literate programming actions (Ctrl+Enter or Shift+Enter) -`tangle`, `weave`, and `macros` - when a cell or line of code is executed in an interative `IPython` `shell`. "
   ]
  },
  {
   "cell_type": "code",
   "execution_count": 1,
   "metadata": {},
   "outputs": [],
   "source": [
    "     if __name__ == '__main__': \n",
    "        %reload_ext pidgin"
   ]
  },
  {
   "cell_type": "code",
   "execution_count": 2,
   "metadata": {},
   "outputs": [],
   "source": [
    ">>> import pidgin\n",
    ">>> from pidgin import application, specification"
   ]
  },
  {
   "cell_type": "code",
   "execution_count": 4,
   "metadata": {},
   "outputs": [
    {
     "ename": "SyntaxError",
     "evalue": "invalid syntax (<ipython-input-4-91cb662d3157>, line 2)",
     "output_type": "error",
     "traceback": [
      "\u001b[0;36m  File \u001b[0;32m\"<ipython-input-4-91cb662d3157>\"\u001b[0;36m, line \u001b[0;32m2\u001b[0m\n\u001b[0;31m    `shell=get_ipython()`, the `pidgin.shell` modifies the interactive the `shell.kernel` execution, completion, and inspection.\u001b[0m\n\u001b[0m    ^\u001b[0m\n\u001b[0;31mSyntaxError\u001b[0m\u001b[0;31m:\u001b[0m invalid syntax\n"
     ]
    }
   ],
   "source": [
    "    def load_ipython_extension(shell):\n",
    "`shell=get_ipython()`, the `pidgin.shell` modifies the interactive the `shell.kernel` execution, completion, and inspection.\n",
    "\n",
    "        from . import application\n",
    "        application.do_execute.load_ipython_extension(shell)\n",
    "        application.do_complete.load_ipython_extension(shell)\n",
    "        application.do_inspect.load_ipython_extension(shell)"
   ]
  },
  {
   "cell_type": "code",
   "execution_count": null,
   "metadata": {},
   "outputs": [],
   "source": [
    ">>> pidgin.transform_cell.markdown_to_python(\"\"\"Block code is the only portion of the string tangled*.\n",
    "...\n",
    "...      print(10)\"\"\")\n",
    "'\"\"\"Block code is the only portion of the string tangled*.\"\"\"\\n\\nprint(10)'"
   ]
  },
  {
   "cell_type": "code",
   "execution_count": null,
   "metadata": {},
   "outputs": [],
   "source": [
    ">>> %%markdown_to_python\n",
    "... Block code is the only portion of the string tangled*.\n",
    "...\n",
    "...      print(10)\n",
    "<IPython.core.display.HTML object>\n"
   ]
  },
  {
   "cell_type": "code",
   "execution_count": null,
   "metadata": {},
   "outputs": [],
   "source": [
    "Tangle specification\n",
    "\n",
    ">>> get_ipython().input_transformer_manager.cleanup_transforms\n",
    "[<pidgin.specification.transform_cell.Tangle object at 0x...>, <function leading_indent at 0x...>, <IPython.core.inputtransformer2.PromptStripper object at 0x...>]\n",
    ">>> get_ipython().ast_transformers\n",
    "[<pidgin.specification.emojis.Emojize object at 0x...>, <pidgin.specification.json.Pointer object at 0x...>, <pidgin.specification.yaml.Yaml object at 0x...>, <pidgin.specification.json.Expand object at 0x...>, <pidgin.specification.transform_ast.ReturnYieldDisplay object at 0x...>]"
   ]
  },
  {
   "cell_type": "code",
   "execution_count": null,
   "metadata": {},
   "outputs": [],
   "source": [
    "yaml specification\n",
    "\n",
    ">>> __context__ = \"\"\"---\n",
    "... w: http://en.wikipedia.org/wiki/\"\"\"\n",
    ">>> __context__\n",
    "ordereddict([('w', 'http://en.wikipedia.org/wiki/')])\n",
    ">>> a_list = \"\"\"---\n",
    "... [1, 2]\"\"\" == [1, 2]\n",
    ">>> a_string = \"\"\"\n",
    "... [1, 2]\"\"\""
   ]
  },
  {
   "cell_type": "code",
   "execution_count": null,
   "metadata": {},
   "outputs": [],
   "source": [
    "Json specification\n",
    "\n",
    "Json-ld\n",
    "\n",
    ">>> __context__ = {'w': \"http://en.wikipedia.org/wiki/\"}\n",
    ">>> assert \"w:Thermodynamics\" == \"http://en.wikipedia.org/wiki/Thermodynamics\"\n",
    "\n",
    "Json pointers\n",
    "\n",
    ">>> structured_data = \"\"\"---\n",
    "... {a: [1, {b: [30]}, 5]}\"\"\"\n",
    ">>> structured_data['/a/1/b/0']\n",
    "30"
   ]
  },
  {
   "cell_type": "code",
   "execution_count": null,
   "metadata": {},
   "outputs": [],
   "source": [
    "Emoji specification\n",
    "\n",
    ">>> assert \"___basketball___\" == \"🏀\""
   ]
  },
  {
   "cell_type": "code",
   "execution_count": null,
   "metadata": {},
   "outputs": [],
   "source": [
    "Color specification\n",
    "\n",
    ">>> pidgin.specification.colors.blue(\"car\")\n",
    "'<span style=\"color:#0000ff;\">car</span>'"
   ]
  },
  {
   "cell_type": "code",
   "execution_count": null,
   "metadata": {},
   "outputs": [],
   "source": [
    ">>> get_ipython().events.callbacks['post_run_cell']\n",
    "[<function validate_schema at ...>, <pidgin.specification.testing.Doctest object at ...>, <pidgin.weave.Weave object at 0x...>]"
   ]
  },
  {
   "cell_type": "code",
   "execution_count": null,
   "metadata": {},
   "outputs": [],
   "source": [
    "    class Shell(__import__('IPython').InteractiveShell):\n",
    "        parents = __import__('traitlets').List()\n",
    "        def __init__(Shell, *args, **kwargs):\n",
    "            if 'parent' in kwargs: kwargs = {**kwargs['parent']._trait_values, **kwargs}\n",
    "Only consume the keyword arguments for child shells.                \n",
    "                \n",
    "            super().__init__(**kwargs)\n",
    "        def init_user_ns(Shell):  \n",
    "            Shell.user_ns = __import__('collections').ChainMap(vars(Shell.user_module), *(vars(object.user_module) for object in Shell.parents))              \n",
    "        def init_displayhook(Shell): Shell.displayhook = Shell.parent.displayhook\n",
    "        \n",
    "        def __call__(Shell, *args, **kwargs): return Shell.run_cell(*args, **kwargs)"
   ]
  },
  {
   "cell_type": "code",
   "execution_count": null,
   "metadata": {},
   "outputs": [],
   "source": [
    "    class Static(Shell): \n",
    "        def run_cell(Static, text, *args, **kwargs): [shell.run_cell(text) for shell in Static.parents]"
   ]
  },
  {
   "cell_type": "code",
   "execution_count": null,
   "metadata": {},
   "outputs": [],
   "source": [
    "    def unload_ipython_extension(shell):     \n",
    "        from . import application\n",
    "        application.do_execute.unload_ipython_extension(shell)\n",
    "        application.do_complete.unload_ipython_extension(shell)\n",
    "        application.do_inspect.unload_ipython_extension(shell)        "
   ]
  }
 ],
 "metadata": {
  "kernelspec": {
   "display_name": "p6",
   "language": "python",
   "name": "other-env"
  },
  "language_info": {
   "codemirror_mode": {
    "name": "ipython",
    "version": 3
   },
   "file_extension": ".py",
   "mimetype": "text/x-python",
   "name": "python",
   "nbconvert_exporter": "python",
   "pygments_lexer": "ipython3",
   "version": "3.6.8"
  }
 },
 "nbformat": 4,
 "nbformat_minor": 2
}
