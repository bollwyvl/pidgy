{
 "cells": [
  {
   "cell_type": "code",
   "execution_count": 1,
   "metadata": {},
   "outputs": [
    {
     "name": "stderr",
     "output_type": "stream",
     "text": [
      "ERROR:root:Internal Python error in the inspect module.\n",
      "Below is the traceback from this internal error.\n",
      "\n"
     ]
    },
    {
     "name": "stdout",
     "output_type": "stream",
     "text": [
      "The pidgin.tangle extension is already loaded. To reload it, use:\n",
      "  %reload_ext pidgin.tangle\n",
      "The pidgin.weave extension is already loaded. To reload it, use:\n",
      "  %reload_ext pidgin.weave\n",
      "The pidgin.inspector extension is already loaded. To reload it, use:\n",
      "  %reload_ext pidgin.inspector\n",
      "Traceback (most recent call last):\n",
      "  File \"/Users/tonyfast/anaconda/envs/p6/lib/python3.6/site-packages/IPython/core/interactiveshell.py\", line 3267, in run_code\n",
      "    exec(code_obj, self.user_global_ns, self.user_ns)\n",
      "  File \"<ipython-input-1-af02d060025b>\", line 2, in <module>\n",
      "    get_ipython().run_line_magic('reload_ext', 'pidgin')\n",
      "  File \"/Users/tonyfast/anaconda/envs/p6/lib/python3.6/site-packages/IPython/core/interactiveshell.py\", line 2287, in run_line_magic\n",
      "    result = fn(*args,**kwargs)\n",
      "  File \"<decorator-gen-67>\", line 2, in reload_ext\n",
      "  File \"/Users/tonyfast/anaconda/envs/p6/lib/python3.6/site-packages/IPython/core/magic.py\", line 187, in <lambda>\n",
      "    call = lambda f, *a, **k: f(*a, **k)\n",
      "  File \"/Users/tonyfast/anaconda/envs/p6/lib/python3.6/site-packages/IPython/core/magics/extension.py\", line 63, in reload_ext\n",
      "    self.shell.extension_manager.reload_extension(module_str)\n",
      "  File \"/Users/tonyfast/anaconda/envs/p6/lib/python3.6/site-packages/IPython/core/extensions.py\", line 130, in reload_extension\n",
      "    self.load_extension(module_str)\n",
      "  File \"/Users/tonyfast/anaconda/envs/p6/lib/python3.6/site-packages/IPython/core/extensions.py\", line 87, in load_extension\n",
      "    if self._call_load_ipython_extension(mod):\n",
      "  File \"/Users/tonyfast/anaconda/envs/p6/lib/python3.6/site-packages/IPython/core/extensions.py\", line 134, in _call_load_ipython_extension\n",
      "    mod.load_ipython_extension(self.shell)\n",
      "  File \"/Users/tonyfast/pidgin/src/pidgin/pidgin.md.ipynb\", line 518, in load_ipython_extension\n",
      "    get_ipython().run_line_magic('load_ext', 'pidgin.loader')\n",
      "  File \"/Users/tonyfast/anaconda/envs/p6/lib/python3.6/site-packages/IPython/core/interactiveshell.py\", line 2287, in run_line_magic\n",
      "    result = fn(*args,**kwargs)\n",
      "  File \"<decorator-gen-65>\", line 2, in load_ext\n",
      "  File \"/Users/tonyfast/anaconda/envs/p6/lib/python3.6/site-packages/IPython/core/magic.py\", line 187, in <lambda>\n",
      "    call = lambda f, *a, **k: f(*a, **k)\n",
      "  File \"/Users/tonyfast/anaconda/envs/p6/lib/python3.6/site-packages/IPython/core/magics/extension.py\", line 33, in load_ext\n",
      "    res = self.shell.extension_manager.load_extension(module_str)\n",
      "  File \"/Users/tonyfast/anaconda/envs/p6/lib/python3.6/site-packages/IPython/core/extensions.py\", line 80, in load_extension\n",
      "    mod = import_module(module_str)\n",
      "  File \"/Users/tonyfast/anaconda/envs/p6/lib/python3.6/importlib/__init__.py\", line 126, in import_module\n",
      "    return _bootstrap._gcd_import(name[level:], package, level)\n",
      "  File \"<frozen importlib._bootstrap>\", line 994, in _gcd_import\n",
      "  File \"<frozen importlib._bootstrap>\", line 971, in _find_and_load\n",
      "  File \"<frozen importlib._bootstrap>\", line 955, in _find_and_load_unlocked\n",
      "  File \"<frozen importlib._bootstrap>\", line 665, in _load_unlocked\n",
      "  File \"<frozen importlib._bootstrap_external>\", line 678, in exec_module\n",
      "  File \"<frozen importlib._bootstrap>\", line 219, in _call_with_frames_removed\n",
      "  File \"/Users/tonyfast/pidgin/src/pidgin/loader.ipynb\", line 29, in <module>\n",
      "    from .tangle import PidginImporter, PidginMixin\n",
      "ImportError: cannot import name 'PidginImporter'\n",
      "\n",
      "During handling of the above exception, another exception occurred:\n",
      "\n",
      "Traceback (most recent call last):\n",
      "  File \"/Users/tonyfast/anaconda/envs/p6/lib/python3.6/site-packages/IPython/core/interactiveshell.py\", line 2018, in showtraceback\n",
      "    stb = value._render_traceback_()\n",
      "AttributeError: 'ImportError' object has no attribute '_render_traceback_'\n",
      "\n",
      "During handling of the above exception, another exception occurred:\n",
      "\n",
      "Traceback (most recent call last):\n",
      "  File \"/Users/tonyfast/anaconda/envs/p6/lib/python3.6/site-packages/IPython/core/ultratb.py\", line 1095, in get_records\n",
      "    return _fixed_getinnerframes(etb, number_of_lines_of_context, tb_offset)\n",
      "  File \"/Users/tonyfast/anaconda/envs/p6/lib/python3.6/site-packages/IPython/core/ultratb.py\", line 313, in wrapped\n",
      "    return f(*args, **kwargs)\n",
      "  File \"/Users/tonyfast/anaconda/envs/p6/lib/python3.6/site-packages/IPython/core/ultratb.py\", line 347, in _fixed_getinnerframes\n",
      "    records = fix_frame_records_filenames(inspect.getinnerframes(etb, context))\n",
      "  File \"/Users/tonyfast/anaconda/envs/p6/lib/python3.6/inspect.py\", line 1480, in getinnerframes\n",
      "    frameinfo = (tb.tb_frame,) + getframeinfo(tb, context)\n",
      "  File \"/Users/tonyfast/anaconda/envs/p6/lib/python3.6/inspect.py\", line 1438, in getframeinfo\n",
      "    filename = getsourcefile(frame) or getfile(frame)\n",
      "  File \"/Users/tonyfast/anaconda/envs/p6/lib/python3.6/inspect.py\", line 693, in getsourcefile\n",
      "    if getattr(getmodule(object, filename), '__loader__', None) is not None:\n",
      "  File \"/Users/tonyfast/anaconda/envs/p6/lib/python3.6/inspect.py\", line 730, in getmodule\n",
      "    if ismodule(module) and hasattr(module, '__file__'):\n",
      "  File \"/Users/tonyfast/anaconda/envs/p6/lib/python3.6/importlib/util.py\", line 233, in __getattribute__\n",
      "    self.__spec__.loader.exec_module(self)\n",
      "  File \"<frozen importlib._bootstrap_external>\", line 678, in exec_module\n",
      "  File \"<frozen importlib._bootstrap>\", line 219, in _call_with_frames_removed\n",
      "  File \"/Users/tonyfast/pidgin/src/pidgin/docs/readme.md.ipynb\", line 18, in <module>\n",
      "    get_ipython().run_line_magic('reload_ext', 'pidgin')\n",
      "  File \"/Users/tonyfast/anaconda/envs/p6/lib/python3.6/site-packages/IPython/core/interactiveshell.py\", line 2287, in run_line_magic\n",
      "    result = fn(*args,**kwargs)\n",
      "  File \"<decorator-gen-67>\", line 2, in reload_ext\n",
      "  File \"/Users/tonyfast/anaconda/envs/p6/lib/python3.6/site-packages/IPython/core/magic.py\", line 187, in <lambda>\n",
      "    call = lambda f, *a, **k: f(*a, **k)\n",
      "  File \"/Users/tonyfast/anaconda/envs/p6/lib/python3.6/site-packages/IPython/core/magics/extension.py\", line 63, in reload_ext\n",
      "    self.shell.extension_manager.reload_extension(module_str)\n",
      "  File \"/Users/tonyfast/anaconda/envs/p6/lib/python3.6/site-packages/IPython/core/extensions.py\", line 130, in reload_extension\n",
      "    self.load_extension(module_str)\n",
      "  File \"/Users/tonyfast/anaconda/envs/p6/lib/python3.6/site-packages/IPython/core/extensions.py\", line 87, in load_extension\n",
      "    if self._call_load_ipython_extension(mod):\n",
      "  File \"/Users/tonyfast/anaconda/envs/p6/lib/python3.6/site-packages/IPython/core/extensions.py\", line 134, in _call_load_ipython_extension\n",
      "    mod.load_ipython_extension(self.shell)\n",
      "  File \"/Users/tonyfast/pidgin/src/pidgin/pidgin.md.ipynb\", line 518, in load_ipython_extension\n",
      "    get_ipython().run_line_magic('load_ext', 'pidgin.loader')\n",
      "  File \"/Users/tonyfast/anaconda/envs/p6/lib/python3.6/site-packages/IPython/core/interactiveshell.py\", line 2287, in run_line_magic\n",
      "    result = fn(*args,**kwargs)\n",
      "  File \"<decorator-gen-65>\", line 2, in load_ext\n",
      "  File \"/Users/tonyfast/anaconda/envs/p6/lib/python3.6/site-packages/IPython/core/magic.py\", line 187, in <lambda>\n",
      "    call = lambda f, *a, **k: f(*a, **k)\n",
      "  File \"/Users/tonyfast/anaconda/envs/p6/lib/python3.6/site-packages/IPython/core/magics/extension.py\", line 33, in load_ext\n",
      "    res = self.shell.extension_manager.load_extension(module_str)\n",
      "  File \"/Users/tonyfast/anaconda/envs/p6/lib/python3.6/site-packages/IPython/core/extensions.py\", line 80, in load_extension\n",
      "    mod = import_module(module_str)\n",
      "  File \"/Users/tonyfast/anaconda/envs/p6/lib/python3.6/importlib/__init__.py\", line 126, in import_module\n",
      "    return _bootstrap._gcd_import(name[level:], package, level)\n",
      "  File \"<frozen importlib._bootstrap>\", line 994, in _gcd_import\n",
      "  File \"<frozen importlib._bootstrap>\", line 971, in _find_and_load\n",
      "  File \"<frozen importlib._bootstrap>\", line 955, in _find_and_load_unlocked\n",
      "  File \"<frozen importlib._bootstrap>\", line 665, in _load_unlocked\n",
      "  File \"<frozen importlib._bootstrap_external>\", line 678, in exec_module\n",
      "  File \"<frozen importlib._bootstrap>\", line 219, in _call_with_frames_removed\n",
      "  File \"/Users/tonyfast/pidgin/src/pidgin/loader.ipynb\", line 29, in <module>\n",
      "    from .tangle import PidginImporter, PidginMixin\n",
      "ImportError: cannot import name 'PidginImporter'\n"
     ]
    },
    {
     "ename": "ImportError",
     "evalue": "cannot import name 'PidginImporter'",
     "output_type": "error",
     "traceback": [
      "\u001b[0;31m---------------------------------------------------------------------------\u001b[0m"
     ]
    }
   ],
   "source": [
    "    if __name__ == '__main__':\n",
    "        %reload_ext pidgin\n",
    "    import pidgin, IPython; ip = IPython.get_ipython()"
   ]
  },
  {
   "cell_type": "markdown",
   "metadata": {},
   "source": [
    "> 44.Sometimes I think the only universal in the computing field is the fetch-execute cycle.\n",
    ">> Alan Perlis [_Perlisisms: Epigrams in Programming_](http://www.cs.yale.edu/homes/perlis-alan/quotes.html)\n",
    "\n",
    "The fetch-execute cycle, or read-eval-print-loop"
   ]
  },
  {
   "cell_type": "code",
   "execution_count": 2,
   "metadata": {},
   "outputs": [],
   "source": [
    "    import pidgin, IPython, ipykernel, IPython, traitlets, jinja2, yaml, doctest, pygments, importnb"
   ]
  },
  {
   "cell_type": "code",
   "execution_count": 3,
   "metadata": {},
   "outputs": [],
   "source": [
    "    with importnb.Notebook(): from . import tangle, code_formatting\n",
    "    with tangle.PidginImporter(): from . import weave"
   ]
  },
  {
   "cell_type": "code",
   "execution_count": 4,
   "metadata": {},
   "outputs": [
    {
     "data": {
      "text/html": [
       "<h2>Time line of the interactive shell diagram</h2>\n",
       "<p>The <code><span style=\"border-bottom: 1px dotted gray;\" title=\"Type:        module&#013;String form: &lt;module &#x27;ipykernel&#x27; from &#x27;&#x27;&lt;safe path&gt;__init__.py&#x27;&#x27;&gt;&#013;File:        &#x27;&lt;safe path&gt;__init__.py&#x27;&#013;Docstring:   &lt;no docstring&gt;\">ipykernel</span>\n",
       "</code> has two modes of execution <code><span style=\"border-bottom: 1px dotted gray;\" title=\"Signature:&#013;ip.kernel.do_execute(&#013;    [&#x27;code&#x27;, &#x27;silent&#x27;, &#x27;store_history=True&#x27;, &#x27;user_expressions=None&#x27;, &#x27;allow_stdin=False&#x27;],&#013;)&#013;Docstring:&#013;Execute user code. Must be overridden by subclasses.&#013;        &#013;File:      &#x27;&lt;safe path&gt;ipkernel.py&#x27;&#013;Type:      method\">ip.kernel.do_execute</span>\n",
       "</code> and <code><span style=\"border-bottom: 1px dotted gray;\" title=\"Signature: ip.kernel.do_inspect(code, cursor_pos, detail_level=0)&#013;Docstring:&#013;`do_inspect` is the major logic circuit for changing the inspector heavior.&#013;&#013;&quot;For debugging purposes&quot;, globals().update(**locals()) # tab this in twice to use it.&#013;File:      &#x27;&lt;safe path&gt;inspector.md.ipynb&#x27;&#013;Type:      method\">ip.kernel.do_inspect</span>\n",
       "</code>; <code><span style=\"border-bottom: 1px dotted gray;\" title=\"Type:        module&#013;String form: &lt;module &#x27;pidgin&#x27; from &#x27;&#x27;&lt;safe path&gt;__init__.py&#x27;&#x27;&gt;&#013;File:        &#x27;&lt;safe path&gt;__init__.py&#x27;&#013;Docstring:   &lt;no docstring&gt;\">pidgin</span>\n",
       "</code> customizes them both.\"\"\")</p>\n",
       "<h3>A literate programming classification of the <code><span style=\"border-bottom: 1px dotted gray;\" title=\"Type:        module&#013;String form: &lt;module &#x27;IPython&#x27; from &#x27;&#x27;&lt;safe path&gt;__init__.py&#x27;&#x27;&gt;&#013;File:        &#x27;&lt;safe path&gt;__init__.py&#x27;&#013;Docstring:  &#013;IPython: tools for interactive and parallel computing in Python.&#013;&#013;https://ipython.org\">IPython</span>\n",
       "</code> repl.</h3>\n",
       "<p>The <code><span style=\"border-bottom: 1px dotted gray;\" title=\"Type:            IPythonKernel&#013;String form:     &lt;ipykernel.ipkernel.IPythonKernel object at 0x106a9d630&gt;&#013;File:            &#x27;&lt;safe path&gt;ipkernel.py&#x27;&#013;Docstring:       &lt;no docstring&gt;&#013;Class docstring:&#013;A configurable that only allows one instance.&#013;&#013;This class is for classes that should only have one instance of itself&#013;or *any* subclass. To create and retrieve such a class use the&#013;:meth:`SingletonConfigurable.instance` method.&#013;Init docstring: &#013;Create a configurable given a config config.&#013;&#013;Parameters&#013;----------&#013;config : Config&#013;    If this is empty, default values are used. If config is a&#013;    :class:`Config` instance, it will be used to configure the&#013;    instance.&#013;parent : Configurable instance, optional&#013;    The parent Configurable instance of this object.&#013;&#013;Notes&#013;-----&#013;Subclasses of Configurable must call the :meth:`__init__` method of&#013;:class:`Configurable` *before* doing anything else and using&#013;:func:`super`::&#013;&#013;    class MyConfigurable(Configurable):&#013;        def __init__(self, config=None):&#013;            super(MyConfigurable, self).__init__(config=config)&#013;            # Then any other code you need to finish initialization.&#013;&#013;This ensures that instances will be configured properly.\">ip.kernel</span>\n",
       "</code> is the interface between Jupyter web applications and the interactive <code><span style=\"border-bottom: 1px dotted gray;\" title=\"Type:           ZMQInteractiveShell&#013;String form:    &lt;ipykernel.zmqshell.ZMQInteractiveShell object at 0x106a9d780&gt;&#013;File:           &#x27;&lt;safe path&gt;zmqshell.py&#x27;&#013;Docstring:      A subclass of InteractiveShell for ZMQ.&#013;Init docstring:&#013;Create a configurable given a config config.&#013;&#013;Parameters&#013;----------&#013;config : Config&#013;    If this is empty, default values are used. If config is a&#013;    :class:`Config` instance, it will be used to configure the&#013;    instance.&#013;parent : Configurable instance, optional&#013;    The parent Configurable instance of this object.&#013;&#013;Notes&#013;-----&#013;Subclasses of Configurable must call the :meth:`__init__` method of&#013;:class:`Configurable` *before* doing anything else and using&#013;:func:`super`::&#013;&#013;    class MyConfigurable(Configurable):&#013;        def __init__(self, config=None):&#013;            super(MyConfigurable, self).__init__(config=config)&#013;            # Then any other code you need to finish initialization.&#013;&#013;This ensures that instances will be configured properly.\">ip</span>\n",
       "</code> state.  The sections below\n",
       "outline the <code><span style=\"border-bottom: 1px dotted gray;\" title=\"Type:        module&#013;String form: &lt;module &#x27;IPython.core.interactiveshell&#x27; from &#x27;&#x27;&lt;safe path&gt;interactiveshell.py&#x27;&#x27;&gt;&#013;File:        &#x27;&lt;safe path&gt;interactiveshell.py&#x27;&#013;Docstring:   Main IPython class.\">IPython.core.interactiveshell</span>\n",
       "</code> in literate programming terms [literate programming][literate programming] interpretation.</p>\n",
       "<p>In literate programming, there the source code is intepretted twice.  In the <strong>tangle</strong> step transpiles the source into valid\n",
       "code then the <strong>weave</strong> step presents a view of the source.</p>\n",
       "<p>The <code><span style=\"border-bottom: 1px dotted gray;\" title=\"Type:        module&#013;String form: &lt;module &#x27;ipykernel&#x27; from &#x27;&#x27;&lt;safe path&gt;__init__.py&#x27;&#x27;&gt;&#013;File:        &#x27;&lt;safe path&gt;__init__.py&#x27;&#013;Docstring:   &lt;no docstring&gt;\">ipykernel</span>\n",
       "</code> has two modes of execution <code><span style=\"border-bottom: 1px dotted gray;\" title=\"Signature:&#013;ip.kernel.do_execute(&#013;    [&#x27;code&#x27;, &#x27;silent&#x27;, &#x27;store_history=True&#x27;, &#x27;user_expressions=None&#x27;, &#x27;allow_stdin=False&#x27;],&#013;)&#013;Docstring:&#013;Execute user code. Must be overridden by subclasses.&#013;        &#013;File:      &#x27;&lt;safe path&gt;ipkernel.py&#x27;&#013;Type:      method\">ip.kernel.do_execute</span>\n",
       "</code> and <code><span style=\"border-bottom: 1px dotted gray;\" title=\"Signature: ip.kernel.do_inspect(code, cursor_pos, detail_level=0)&#013;Docstring:&#013;`do_inspect` is the major logic circuit for changing the inspector heavior.&#013;&#013;&quot;For debugging purposes&quot;, globals().update(**locals()) # tab this in twice to use it.&#013;File:      &#x27;&lt;safe path&gt;inspector.md.ipynb&#x27;&#013;Type:      method\">ip.kernel.do_inspect</span>\n",
       "</code>; <code><span style=\"border-bottom: 1px dotted gray;\" title=\"Type:        module&#013;String form: &lt;module &#x27;pidgin&#x27; from &#x27;&#x27;&lt;safe path&gt;__init__.py&#x27;&#x27;&gt;&#013;File:        &#x27;&lt;safe path&gt;__init__.py&#x27;&#013;Docstring:   &lt;no docstring&gt;\">pidgin</span>\n",
       "</code> customizes them both.</p>\n"
      ],
      "text/markdown": [
       "## Time line of the interactive shell diagram\n",
       "\n",
       "The `ipykernel` has two modes of execution `ip.kernel.do_execute` and `ip.kernel.do_inspect`; `pidgin` customizes them both.\"\"\")\n",
       "\n",
       "### A literate programming classification of the `IPython` repl.\n",
       "\n",
       "The `ip.kernel` is the interface between Jupyter web applications and the interactive `ip` state.  The sections below\n",
       "outline the `IPython.core.interactiveshell` in literate programming terms [literate programming][literate programming] interpretation.\n",
       "\n",
       "In literate programming, there the source code is intepretted twice.  In the __tangle__ step transpiles the source into valid\n",
       "code then the __weave__ step presents a view of the source.\n",
       "\n",
       "The `ipykernel` has two modes of execution `ip.kernel.do_execute` and `ip.kernel.do_inspect`; `pidgin` customizes them both."
      ],
      "text/plain": [
       "## Time line of the interactive shell diagram\n",
       "\n",
       "The `ipykernel` has two modes of execution `ip.kernel.do_execute` and `ip.kernel.do_inspect`; `pidgin` customizes them both.\"\"\")\n",
       "\n",
       "### A literate programming classification of the `IPython` repl.\n",
       "\n",
       "The `ip.kernel` is the interface between Jupyter web applications and the interactive `ip` state.  The sections below\n",
       "outline the `IPython.core.interactiveshell` in literate programming terms [literate programming][literate programming] interpretation.\n",
       "\n",
       "In literate programming, there the source code is intepretted twice.  In the __tangle__ step transpiles the source into valid\n",
       "code then the __weave__ step presents a view of the source.\n",
       "\n",
       "The `ipykernel` has two modes of execution `ip.kernel.do_execute` and `ip.kernel.do_inspect`; `pidgin` customizes them both."
      ]
     },
     "metadata": {},
     "output_type": "display_data"
    }
   ],
   "source": [
    "## Time line of the interactive shell diagram\n",
    "\n",
    "The `ipykernel` has two modes of execution `ip.kernel.do_execute` and `ip.kernel.do_inspect`; `pidgin` customizes them both.\"\"\")\n",
    "\n",
    "### A literate programming classification of the `IPython` repl.\n",
    "\n",
    "The `ip.kernel` is the interface between Jupyter web applications and the interactive `ip` state.  The sections below\n",
    "outline the `IPython.core.interactiveshell` in literate programming terms [literate programming][literate programming] interpretation.\n",
    "\n",
    "In literate programming, there the source code is intepretted twice.  In the __tangle__ step transpiles the source into valid\n",
    "code then the __weave__ step presents a view of the source.\n",
    "\n",
    "The `ipykernel` has two modes of execution `ip.kernel.do_execute` and `ip.kernel.do_inspect`; `pidgin` customizes them both."
   ]
  },
  {
   "cell_type": "markdown",
   "metadata": {},
   "source": [
    "## `ip.kernel.do_execute`\n",
    "\n",
    "### The `IPython` tangle step\n",
    "\n",
    "0. `ip.input_transformer_manager.transform_cell` should return valid python code.\n",
    "0. `ip.compile.ast_parse`\n",
    "0. `ip.ast_transformers`"
   ]
  },
  {
   "cell_type": "code",
   "execution_count": 5,
   "metadata": {},
   "outputs": [
    {
     "data": {
      "text/html": [
       "<h3>The <code><span style=\"border-bottom: 1px dotted gray;\" title=\"Type:        module&#013;String form: &lt;module &#x27;IPython&#x27; from &#x27;&#x27;&lt;safe path&gt;__init__.py&#x27;&#x27;&gt;&#013;File:        &#x27;&lt;safe path&gt;__init__.py&#x27;&#013;Docstring:  &#013;IPython: tools for interactive and parallel computing in Python.&#013;&#013;https://ipython.org\">IPython</span>\n",
       "</code> <strong>weave</strong> step</h3>\n",
       "<ol>\n",
       "<li><p><code><span style=\"border-bottom: 1px dotted gray;\" title=\"Signature:&#013;ip.run_ast_nodes(&#013;    [&#x27;nodelist:List[_ast.AST]&#x27;, &#x27;cell_name:str&#x27;, &quot;interactivity=&#x27;last_expr&#x27;&quot;, &#x27;compiler=&lt;built-in function compile&gt;&#x27;, &#x27;result=None&#x27;],&#013;)&#013;Docstring:&#013;Run a sequence of AST nodes. The execution mode depends on the&#013;interactivity parameter.&#013;&#013;Parameters&#013;----------&#013;nodelist : list&#013;  A sequence of AST nodes to run.&#013;cell_name : str&#013;  Will be passed to the compiler as the filename of the cell. Typically&#013;  the value returned by ip.compile.cache(cell).&#013;interactivity : str&#013;  &#x27;all&#x27;, &#x27;last&#x27;, &#x27;last_expr&#x27; , &#x27;last_expr_or_assign&#x27; or &#x27;none&#x27;,&#013;  specifying which nodes should be run interactively (displaying output&#013;  from expressions). &#x27;last_expr&#x27; will run the last node interactively&#013;  only if it is an expression (i.e. expressions in loops or other blocks&#013;  are not displayed) &#x27;last_expr_or_assign&#x27; will run the last expression&#013;  or the last assignment. Other values for this parameter will raise a&#013;  ValueError.&#013;&#013;  Experimental value: &#x27;async&#x27; Will try to run top level interactive&#013;  async/await code in default runner, this will not respect the&#013;  interactivty setting and will only run the last node if it is an&#013;  expression. &#013;&#013;compiler : callable&#013;  A function with the same interface as the built-in compile(), to turn&#013;  the AST nodes into code objects. Default is the built-in compile().&#013;result : ExecutionResult, optional&#013;  An object to store exceptions that occur during execution.&#013;&#013;Returns&#013;-------&#013;True if an exception occurred while running code, False if it finished&#013;running.&#013;File:      &#x27;&lt;safe path&gt;interactiveshell.py&#x27;&#013;Type:      method\">ip.run_ast_nodes</span>\n",
       "</code> uses <code><span style=\"border-bottom: 1px dotted gray;\" title=\"Type:        str&#013;String form: last_expr&#013;Length:      9&#013;Docstring:  &#013;str(object=&#x27;&#x27;) -&gt; str&#013;str(bytes_or_buffer[, encoding[, errors]]) -&gt; str&#013;&#013;Create a new string object from the given object. If encoding or&#013;errors is specified, then the object must expose a data buffer&#013;that will be decoded using the given encoding and error handler.&#013;Otherwise, returns the result of object.__str__() (if defined)&#013;or repr(object).&#013;encoding defaults to sys.getdefaultencoding().&#013;errors defaults to &#x27;strict&#x27;.\">ip.ast_node_interactivity</span>\n",
       "</code> to set the rules on how to display cells.  <code><span style=\"border-bottom: 1px dotted gray;\" title=\"Type:        str&#013;String form: last_expr&#013;Length:      9&#013;Docstring:  &#013;str(object=&#x27;&#x27;) -&gt; str&#013;str(bytes_or_buffer[, encoding[, errors]]) -&gt; str&#013;&#013;Create a new string object from the given object. If encoding or&#013;errors is specified, then the object must expose a data buffer&#013;that will be decoded using the given encoding and error handler.&#013;Otherwise, returns the result of object.__str__() (if defined)&#013;or repr(object).&#013;encoding defaults to sys.getdefaultencoding().&#013;errors defaults to &#x27;strict&#x27;.\">ip.ast_node_interactivity</span>\n",
       "</code> is set to <code>\"{{ip.ast_node_interactivity}}\"</code>\n",
       "which is why the last expression in a cell is displayed.</p>\n",
       "</li>\n",
       "<li><p><code><span style=\"border-bottom: 1px dotted gray;\" title=\"Type:           StringTemplateFormatter&#013;String form:    &lt;pidgin.string_formatter.StringTemplateFormatter object at 0x1128744e0&gt;&#013;File:           &#x27;&lt;safe path&gt;string_formatter.ipynb&#x27;&#013;Docstring:      The parent is the displayformatter&#013;Init docstring:&#013;Create a configurable given a config config.&#013;&#013;Parameters&#013;----------&#013;config : Config&#013;    If this is empty, default values are used. If config is a&#013;    :class:`Config` instance, it will be used to configure the&#013;    instance.&#013;parent : Configurable instance, optional&#013;    The parent Configurable instance of this object.&#013;&#013;Notes&#013;-----&#013;Subclasses of Configurable must call the :meth:`__init__` method of&#013;:class:`Configurable` *before* doing anything else and using&#013;:func:`super`::&#013;&#013;    class MyConfigurable(Configurable):&#013;        def __init__(self, config=None):&#013;            super(MyConfigurable, self).__init__(config=config)&#013;            # Then any other code you need to finish initialization.&#013;&#013;This ensures that instances will be configured properly.\">ip.display_formatter</span>\n",
       "</code> formats the <strong>Python</strong> objects to send back to the Jupyter application.</p>\n",
       "</li>\n",
       "<li><p>Extra state changes and displays are applied <code><span style=\"border-bottom: 1px dotted gray;\" title=\"Signature: ip.events.trigger(event, *args, **kwargs)&#013;Docstring:&#013;Call callbacks for ``event``.&#013;&#013;Any additional arguments are passed to all callbacks registered for this&#013;event. Exceptions raised by callbacks are caught, and a message printed.&#013;File:      &#x27;&lt;safe path&gt;events.py&#x27;&#013;Type:      method\">ip.events.trigger</span>('post_run_cell', <span style=\"border-bottom: 1px dotted gray;\" title=\"Signature: ip.run_cell(*args, **kwargs)&#013;Docstring:&#013;Run a complete IPython cell.&#013;&#013;Parameters&#013;----------&#013;raw_cell : str&#013;  The code (including IPython code such as %magic functions) to run.&#013;store_history : bool&#013;  If True, the raw and translated cell will be stored in IPython&#x27;s&#013;  history. For user code calling back into IPython&#x27;s machinery, this&#013;  should be set to False.&#013;silent : bool&#013;  If True, avoid side-effects, such as implicit displayhooks and&#013;  and logging.  silent=True forces store_history=False.&#013;shell_futures : bool&#013;  If True, the code will share future statements with the interactive&#013;  shell. It will both be affected by previous __future__ imports, and&#013;  any __future__ imports in the code will affect the shell. If False,&#013;  __future__ imports are not shared in either direction.&#013;&#013;Returns&#013;-------&#013;result : :class:`ExecutionResult`&#013;File:      &#x27;&lt;safe path&gt;zmqshell.py&#x27;&#013;Type:      method\">ip.run_cell</span>(''))\n",
       "</code>  This is where the <code><span style=\"border-bottom: 1px dotted gray;\" title=\"Type:        module&#013;String form: &lt;module &#x27;pidgin.weave&#x27; from &#x27;&#x27;&lt;safe path&gt;weave.md.ipynb&#x27;&#x27;&gt;&#013;File:        &#x27;&lt;safe path&gt;weave.md.ipynb&#x27;&#013;Docstring:  &#013;`pidgin.weave` controls second of the literate computing REPL.  It controls how the source code is display.  &#013;&#013;&gt;&gt;&gt; assert pidgin.weave.__f\">pidgin.weave</span>\n",
       "</code> step is invoked.</p>\n",
       "</li>\n",
       "</ol>\n"
      ],
      "text/markdown": [
       "### The `IPython` __weave__ step\n",
       "\n",
       "0. `ip.run_ast_nodes` uses `ip.ast_node_interactivity` to set the rules on how to display cells.  `ip.ast_node_interactivity` is set to <code>\"{{ip.ast_node_interactivity}}\"</code>\n",
       "which is why the last expression in a cell is displayed.\n",
       "0. `ip.display_formatter` formats the __Python__ objects to send back to the Jupyter application.\n",
       "0. Extra state changes and displays are applied `ip.events.trigger('post_run_cell', ip.run_cell(''))`  This is where the `pidgin.weave` step is invoked."
      ],
      "text/plain": [
       "### The `IPython` __weave__ step\n",
       "\n",
       "0. `ip.run_ast_nodes` uses `ip.ast_node_interactivity` to set the rules on how to display cells.  `ip.ast_node_interactivity` is set to <code>\"{{ip.ast_node_interactivity}}\"</code>\n",
       "which is why the last expression in a cell is displayed.\n",
       "0. `ip.display_formatter` formats the __Python__ objects to send back to the Jupyter application.\n",
       "0. Extra state changes and displays are applied `ip.events.trigger('post_run_cell', ip.run_cell(''))`  This is where the `pidgin.weave` step is invoked."
      ]
     },
     "metadata": {},
     "output_type": "display_data"
    }
   ],
   "source": [
    "### The `IPython` __weave__ step\n",
    "\n",
    "0. `ip.run_ast_nodes` uses `ip.ast_node_interactivity` to set the rules on how to display cells.  `ip.ast_node_interactivity` is set to <code>\"{{ip.ast_node_interactivity}}\"</code>\n",
    "which is why the last expression in a cell is displayed.\n",
    "0. `ip.display_formatter` formats the __Python__ objects to send back to the Jupyter application.\n",
    "0. Extra state changes and displays are applied `ip.events.trigger('post_run_cell', ip.run_cell(''))`  This is where the `pidgin.weave` step is invoked."
   ]
  },
  {
   "cell_type": "code",
   "execution_count": 6,
   "metadata": {},
   "outputs": [
    {
     "data": {
      "text/html": [
       "<h2><code><span style=\"border-bottom: 1px dotted gray;\" title=\"Signature: ip.kernel.do_inspect(code, cursor_pos, detail_level=0)&#013;Docstring:&#013;`do_inspect` is the major logic circuit for changing the inspector heavior.&#013;&#013;&quot;For debugging purposes&quot;, globals().update(**locals()) # tab this in twice to use it.&#013;File:      &#x27;&lt;safe path&gt;inspector.md.ipynb&#x27;&#013;Type:      method\">ip.kernel.do_inspect</span>\n",
       "</code></h2>\n",
       "<code style=\"white-space: pre;\" title=\"\">class <span style=\"border-bottom: 1px dotted gray;\" title=\"Init signature: PidginInspect(*args, **kwargs)&#013;Docstring:     &#013;`pidgin` can provide modified inspection during interactive computing sessions.&#013;&#013;* Inline code is executed and templates are executed&#013;* The current ast node is execvuted.&#013;* Markdown is previewed.&#013;Init docstring:&#013;Create a configurable given a config config.&#013;&#013;Parameters&#013;----------&#013;config : Config&#013;    If this is empty, default values are used. If config is a&#013;    :class:`Config` instance, it will be used to configure the&#013;    instance.&#013;parent : Configurable instance, optional&#013;    The parent Configurable instance of this object.&#013;&#013;Notes&#013;-----&#013;Subclasses of Configurable must call the :meth:`__init__` method of&#013;:class:`Configurable` *before* doing anything else and using&#013;:func:`super`::&#013;&#013;    class MyConfigurable(Configurable):&#013;        def __init__(self, config=None):&#013;            super(MyConfigurable, self).__init__(config=config)&#013;            # Then any other code you need to finish initialization.&#013;&#013;This ensures that instances will be configured properly.&#013;File:           &#x27;&lt;safe path&gt;traitlets.py&#x27;&#013;Type:           MetaHasTraits&#013;Subclasses:     \">PidginInspect</span>(<span style=\"border-bottom: 1px dotted gray;\" title=\"Init signature: traitlets.config.SingletonConfigurable(*args, **kwargs)&#013;Docstring:     &#013;A configurable that only allows one instance.&#013;&#013;This class is for classes that should only have one instance of itself&#013;or *any* subclass. To create and retrieve such a class use the&#013;:meth:`SingletonConfigurable.instance` method.&#013;Init docstring:&#013;Create a configurable given a config config.&#013;&#013;Parameters&#013;----------&#013;config : Config&#013;    If this is empty, default values are used. If config is a&#013;    :class:`Config` instance, it will be used to configure the&#013;    instance.&#013;parent : Configurable instance, optional&#013;    The parent Configurable instance of this object.&#013;&#013;Notes&#013;-----&#013;Subclasses of Configurable must call the :meth:`__init__` method of&#013;:class:`Configurable` *before* doing anything else and using&#013;:func:`super`::&#013;&#013;    class MyConfigurable(Configurable):&#013;        def __init__(self, config=None):&#013;            super(MyConfigurable, self).__init__(config=config)&#013;            # Then any other code you need to finish initialization.&#013;&#013;This ensures that instances will be configured properly.&#013;File:           &#x27;&lt;safe path&gt;configurable.py&#x27;&#013;Type:           MetaHasTraits&#013;Subclasses:     Application, InteractiveShell, Kernel, LaTeXTool, PidginTangle, PidginTangle, PidginInspect\">traitlets.config.SingletonConfigurable</span>): \n",
       "</code><p><code><span style=\"border-bottom: 1px dotted gray;\" title=\"Type:        module&#013;String form: &lt;module &#x27;pidgin&#x27; from &#x27;&#x27;&lt;safe path&gt;__init__.py&#x27;&#x27;&gt;&#013;File:        &#x27;&lt;safe path&gt;__init__.py&#x27;&#013;Docstring:   &lt;no docstring&gt;\">pidgin</span>\n",
       "</code> can provide modified inspection during interactive computing sessions.</p>\n",
       "<ul>\n",
       "<li><p>Inline code is executed and templates are executed</p>\n",
       "</li>\n",
       "<li><p>The current ast node is execvuted.</p>\n",
       "</li>\n",
       "<li><p>Markdown is previewed.</p>\n",
       "<code style=\"white-space: pre;\" title=\"\">  normal = <span style=\"border-bottom: 1px dotted gray;\" title=\"Init signature:&#013;traitlets.Bool(&#013;    [&#x27;default_value=traitlets.Undefined&#x27;, &#x27;allow_none=False&#x27;, &#x27;read_only=None&#x27;, &#x27;help=None&#x27;, &#x27;config=None&#x27;, &#x27;**kwargs&#x27;],&#013;)&#013;Docstring:      A boolean (True, False) trait.&#013;Init docstring:&#013;Declare a traitlet.&#013;&#013;If *allow_none* is True, None is a valid value in addition to any&#013;values that are normally valid. The default is up to the subclass.&#013;For most trait types, the default value for ``allow_none`` is False.&#013;&#013;Extra metadata can be associated with the traitlet using the .tag() convenience method&#013;or by using the traitlet instance&#x27;s .metadata dictionary.&#013;File:           &#x27;&lt;safe path&gt;traitlets.py&#x27;&#013;Type:           type&#013;Subclasses:     CBool\">traitlets.Bool</span>(False, <span style=\"border-bottom: 1px dotted gray;\" title=\"Signature:   help(*args, **kwds)&#013;Type:        _Helper&#013;String form: Type help() for interactive help, or help(object) for help about object.&#013;Namespace:   Python builtin&#013;File:        &#x27;&lt;safe path&gt;_sitebuiltins.py&#x27;&#013;Docstring:  &#013;Define the builtin &#x27;help&#x27;.&#013;&#013;This is a wrapper around pydoc.help that provides a helpful message&#013;when &#x27;help&#x27; is typed at the Python interactive prompt.&#013;&#013;Calling help() at the Python prompt starts an interactive help session.&#013;Calling help(thing) prints help for the python object &#x27;thing&#x27;.\">help</span>=\n",
       "</code><p>Use standard <code><span style=\"border-bottom: 1px dotted gray;\" title=\"Type:        module&#013;String form: &lt;module &#x27;IPython&#x27; from &#x27;&#x27;&lt;safe path&gt;__init__.py&#x27;&#x27;&gt;&#013;File:        &#x27;&lt;safe path&gt;__init__.py&#x27;&#013;Docstring:  &#013;IPython: tools for interactive and parallel computing in Python.&#013;&#013;https://ipython.org\">IPython</span>\n",
       "</code> inspector.</p>\n",
       "<code style=\"white-space: pre;\" title=\"\">  )\n",
       "</code></li>\n",
       "</ul>\n"
      ],
      "text/markdown": [
       "## `ip.kernel.do_inspect`    \n",
       "    \n",
       "    class PidginInspect(traitlets.config.SingletonConfigurable): \n",
       "`pidgin` can provide modified inspection during interactive computing sessions.\n",
       "\n",
       "* Inline code is executed and templates are executed\n",
       "* The current ast node is execvuted.\n",
       "* Markdown is previewed.\n",
       "\n",
       "        normal = traitlets.Bool(False, help=\n",
       "Use standard `IPython` inspector.  \n",
       "                               \n",
       "        )"
      ],
      "text/plain": [
       "## `ip.kernel.do_inspect`    \n",
       "    \n",
       "    class PidginInspect(traitlets.config.SingletonConfigurable): \n",
       "`pidgin` can provide modified inspection during interactive computing sessions.\n",
       "\n",
       "* Inline code is executed and templates are executed\n",
       "* The current ast node is execvuted.\n",
       "* Markdown is previewed.\n",
       "\n",
       "        normal = traitlets.Bool(False, help=\n",
       "Use standard `IPython` inspector.  \n",
       "                               \n",
       "        )"
      ]
     },
     "metadata": {},
     "output_type": "display_data"
    }
   ],
   "source": [
    "## `ip.kernel.do_inspect`    \n",
    "    \n",
    "    class PidginInspect(traitlets.config.SingletonConfigurable): \n",
    "`pidgin` can provide modified inspection during interactive computing sessions.\n",
    "\n",
    "* Inline code is executed and templates are executed\n",
    "* The current ast node is execvuted.\n",
    "* Markdown is previewed.\n",
    "\n",
    "        normal = traitlets.Bool(False, help=\n",
    "Use standard `IPython` inspector.  \n",
    "                               \n",
    "        )"
   ]
  },
  {
   "cell_type": "code",
   "execution_count": 7,
   "metadata": {},
   "outputs": [
    {
     "data": {
      "text/html": [
       "<code style=\"white-space: pre;\" title=\"\">class <span style=\"border-bottom: 1px dotted gray;\" title=\"Init signature: PidginShell(*args, **kwargs)&#013;Docstring:      &gt;&gt;&gt; shell = PidginShell()&#013;Init docstring:&#013;Create a configurable given a config config.&#013;&#013;Parameters&#013;----------&#013;config : Config&#013;    If this is empty, default values are used. If config is a&#013;    :class:`Config` instance, it will be used to configure the&#013;    instance.&#013;parent : Configurable instance, optional&#013;    The parent Configurable instance of this object.&#013;&#013;Notes&#013;-----&#013;Subclasses of Configurable must call the :meth:`__init__` method of&#013;:class:`Configurable` *before* doing anything else and using&#013;:func:`super`::&#013;&#013;    class MyConfigurable(Configurable):&#013;        def __init__(self, config=None):&#013;            super(MyConfigurable, self).__init__(config=config)&#013;            # Then any other code you need to finish initialization.&#013;&#013;This ensures that instances will be configured properly.&#013;File:           &#x27;&lt;safe path&gt;traitlets.py&#x27;&#013;Type:           MetaHasTraits&#013;Subclasses:     \">PidginShell</span>(<span style=\"border-bottom: 1px dotted gray;\" title=\"Init signature: ipykernel.zmqshell.ZMQInteractiveShell(*args, **kwargs)&#013;Docstring:      A subclass of InteractiveShell for ZMQ.&#013;Init docstring:&#013;Create a configurable given a config config.&#013;&#013;Parameters&#013;----------&#013;config : Config&#013;    If this is empty, default values are used. If config is a&#013;    :class:`Config` instance, it will be used to configure the&#013;    instance.&#013;parent : Configurable instance, optional&#013;    The parent Configurable instance of this object.&#013;&#013;Notes&#013;-----&#013;Subclasses of Configurable must call the :meth:`__init__` method of&#013;:class:`Configurable` *before* doing anything else and using&#013;:func:`super`::&#013;&#013;    class MyConfigurable(Configurable):&#013;        def __init__(self, config=None):&#013;            super(MyConfigurable, self).__init__(config=config)&#013;            # Then any other code you need to finish initialization.&#013;&#013;This ensures that instances will be configured properly.&#013;File:           &#x27;&lt;safe path&gt;zmqshell.py&#x27;&#013;Type:           MetaHasTraits&#013;Subclasses:     PidginShell\">ipykernel.zmqshell.ZMQInteractiveShell</span>):\n",
       "</code><code style=\"\" title=\"Finding tests in __main__&#013;Trying:&#013;    shell = PidginShell()&#013;&#013;Expecting nothing&#013;ok\">>>> <span style=\"border-bottom: 1px dotted gray;\" title=\"Type:           PidginShell&#013;String form:    &lt;__main__.PidginShell object at 0x1109013c8&gt;&#013;Docstring:      &gt;&gt;&gt; shell = PidginShell()&#013;Init docstring:&#013;Create a configurable given a config config.&#013;&#013;Parameters&#013;----------&#013;config : Config&#013;    If this is empty, default values are used. If config is a&#013;    :class:`Config` instance, it will be used to configure the&#013;    instance.&#013;parent : Configurable instance, optional&#013;    The parent Configurable instance of this object.&#013;&#013;Notes&#013;-----&#013;Subclasses of Configurable must call the :meth:`__init__` method of&#013;:class:`Configurable` *before* doing anything else and using&#013;:func:`super`::&#013;&#013;    class MyConfigurable(Configurable):&#013;        def __init__(self, config=None):&#013;            super(MyConfigurable, self).__init__(config=config)&#013;            # Then any other code you need to finish initialization.&#013;&#013;This ensures that instances will be configured properly.\">shell</span> = <span style=\"border-bottom: 1px dotted gray;\" title=\"Init signature: PidginShell(*args, **kwargs)&#013;Docstring:      &gt;&gt;&gt; shell = PidginShell()&#013;Init docstring:&#013;Create a configurable given a config config.&#013;&#013;Parameters&#013;----------&#013;config : Config&#013;    If this is empty, default values are used. If config is a&#013;    :class:`Config` instance, it will be used to configure the&#013;    instance.&#013;parent : Configurable instance, optional&#013;    The parent Configurable instance of this object.&#013;&#013;Notes&#013;-----&#013;Subclasses of Configurable must call the :meth:`__init__` method of&#013;:class:`Configurable` *before* doing anything else and using&#013;:func:`super`::&#013;&#013;    class MyConfigurable(Configurable):&#013;        def __init__(self, config=None):&#013;            super(MyConfigurable, self).__init__(config=config)&#013;            # Then any other code you need to finish initialization.&#013;&#013;This ensures that instances will be configured properly.&#013;File:           &#x27;&lt;safe path&gt;traitlets.py&#x27;&#013;Type:           MetaHasTraits&#013;Subclasses:     \">PidginShell</span>()\n",
       "</code>"
      ],
      "text/markdown": [
       "    class PidginShell(ipykernel.zmqshell.ZMQInteractiveShell):\n",
       "        \n",
       ">>> shell = PidginShell()\n",
       "\n"
      ],
      "text/plain": [
       "    class PidginShell(ipykernel.zmqshell.ZMQInteractiveShell):\n",
       "        \n",
       ">>> shell = PidginShell()\n",
       "\n"
      ]
     },
     "metadata": {},
     "output_type": "display_data"
    }
   ],
   "source": [
    "    class PidginShell(ipykernel.zmqshell.ZMQInteractiveShell):\n",
    "        \n",
    ">>> shell = PidginShell()\n",
    "\n"
   ]
  },
  {
   "cell_type": "code",
   "execution_count": null,
   "metadata": {},
   "outputs": [],
   "source": []
  }
 ],
 "metadata": {
  "kernelspec": {
   "display_name": "p6",
   "language": "python",
   "name": "other-env"
  },
  "language_info": {
   "codemirror_mode": {
    "name": "ipython",
    "version": 3
   },
   "file_extension": ".py",
   "mimetype": "text/x-python",
   "name": "python",
   "nbconvert_exporter": "python",
   "pygments_lexer": "ipython3",
   "version": "3.6.3"
  }
 },
 "nbformat": 4,
 "nbformat_minor": 2
}
