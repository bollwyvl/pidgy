{
 "cells": [
  {
   "cell_type": "code",
   "execution_count": 1,
   "metadata": {},
   "outputs": [],
   "source": [
    "    if __name__ == '__main__':\n",
    "        %reload_ext pidgin\n",
    "    import pidgin, IPython; ip = IPython.get_ipython()"
   ]
  },
  {
   "cell_type": "markdown",
   "metadata": {},
   "source": [
    "> 44.Sometimes I think the only universal in the computing field is the fetch-execute cycle.\n",
    ">> Alan Perlis [_Perlisisms: Epigrams in Programming_](http://www.cs.yale.edu/homes/perlis-alan/quotes.html)\n",
    "\n",
    "The fetch-execute cycle, or read-eval-print-loop"
   ]
  },
  {
   "cell_type": "code",
   "execution_count": 2,
   "metadata": {},
   "outputs": [],
   "source": [
    "    import pidgin, IPython, ipykernel, IPython, traitlets, jinja2, yaml, doctest, pygments, importnb"
   ]
  },
  {
   "cell_type": "code",
   "execution_count": 3,
   "metadata": {},
   "outputs": [],
   "source": [
    "    with importnb.Notebook(lazy=True):\n",
    "        from . import loader, tangle\n",
    "        \n",
    "    with loader.PidginImporter():\n",
    "        from . import weave"
   ]
  },
  {
   "cell_type": "code",
   "execution_count": 4,
   "metadata": {},
   "outputs": [
    {
     "data": {
      "text/html": [
       "<p>Time line of the interactive shell diagram</p>\n",
       "<a href=\"#a-literate-programming-classification-of-the-ipython-repl\"><h1 id=\"a-literate-programming-classification-of-the-ipython-repl\">A literate programming classification of the <code>IPython\n",
       "</code> repl.</h1>\n",
       "</a>\n",
       "<p>The <code>ip.kernel\n",
       "</code> is the interface between Jupyter web applications and the interactive <code>ip\n",
       "</code> state.  The sections below\n",
       "outline the <code>IPython.core.interactiveshell\n",
       "</code> in literate programming terms [literate programming][literate programming] interpretation.</p>\n",
       "<p>In literate programming, there the source code is intepretted twice.  In the <strong>tangle</strong> step transpiles the source into valid\n",
       "code then the <strong>weave</strong> step presents a view of the source.</p>\n",
       "<p>The <code>ipykernel\n",
       "</code> has two modes of execution <code>ip.kernel.do_execute\n",
       "</code> and <code>ip.kernel.do_inspect\n",
       "</code>; <code>pidgin\n",
       "</code> customizes them both.</p>\n"
      ],
      "text/markdown": [
       "Time line of the interactive shell diagram\n",
       "\n",
       "# A literate programming classification of the `IPython` repl.\n",
       "\n",
       "The `ip.kernel` is the interface between Jupyter web applications and the interactive `ip` state.  The sections below\n",
       "outline the `IPython.core.interactiveshell` in literate programming terms [literate programming][literate programming] interpretation.\n",
       "\n",
       "In literate programming, there the source code is intepretted twice.  In the __tangle__ step transpiles the source into valid\n",
       "code then the __weave__ step presents a view of the source.\n",
       "\n",
       "The `ipykernel` has two modes of execution `ip.kernel.do_execute` and `ip.kernel.do_inspect`; `pidgin` customizes them both."
      ],
      "text/plain": [
       "'Time line of the interactive shell diagram\\n\\n# A literate programming classification of the `IPython` repl.\\n\\nThe `ip.kernel` is the interface between Jupyter web applications and the interactive `ip` state.  The sections below\\noutline the `IPython.core.interactiveshell` in literate programming terms [literate programming][literate programming] interpretation.\\n\\nIn literate programming, there the source code is intepretted twice.  In the __tangle__ step transpiles the source into valid\\ncode then the __weave__ step presents a view of the source.\\n\\nThe `ipykernel` has two modes of execution `ip.kernel.do_execute` and `ip.kernel.do_inspect`; `pidgin` customizes them both.'"
      ]
     },
     "metadata": {},
     "output_type": "display_data"
    }
   ],
   "source": [
    "Time line of the interactive shell diagram\n",
    "\n",
    "# A literate programming classification of the `IPython` repl.\n",
    "\n",
    "The `ip.kernel` is the interface between Jupyter web applications and the interactive `ip` state.  The sections below\n",
    "outline the `IPython.core.interactiveshell` in literate programming terms [literate programming][literate programming] interpretation.\n",
    "\n",
    "In literate programming, there the source code is intepretted twice.  In the __tangle__ step transpiles the source into valid\n",
    "code then the __weave__ step presents a view of the source.\n",
    "\n",
    "The `ipykernel` has two modes of execution `ip.kernel.do_execute` and `ip.kernel.do_inspect`; `pidgin` customizes them both."
   ]
  },
  {
   "cell_type": "markdown",
   "metadata": {},
   "source": [
    "## `ip.kernel.do_execute`\n",
    "\n",
    "### The `IPython` tangle step\n",
    "\n",
    "0. `ip.input_transformer_manager.transform_cell` should return valid python code.\n",
    "0. `ip.compile.ast_parse`\n",
    "0. `ip.ast_transformers`"
   ]
  },
  {
   "cell_type": "code",
   "execution_count": 5,
   "metadata": {},
   "outputs": [
    {
     "data": {
      "text/html": [
       "<a href=\"#the-ipython-weave-step\"><h3 id=\"the-ipython-weave-step\">The <code>IPython\n",
       "</code> <strong>weave</strong> step</h3>\n",
       "</a>\n",
       "<ol>\n",
       "<li><p><code>ip.run_ast_nodes\n",
       "</code> uses <code>ip.ast_node_interactivity\n",
       "</code> to set the rules on how to display cells.  <code>ip.ast_node_interactivity\n",
       "</code> is set to <code>\"last_expr\"</code>\n",
       "which is why the last expression in a cell is displayed.</p>\n",
       "</li>\n",
       "<li><p><code>ip.display_formatter\n",
       "</code> formats the <strong>Python</strong> objects to send back to the Jupyter application.</p>\n",
       "</li>\n",
       "<li><p>Extra state changes and displays are applied <code>ip.events.trigger('post_run_cell', ip.run_cell(''))\n",
       "</code>  This is where the <code>pidgin.weave\n",
       "</code> step is invoked.</p>\n",
       "</li>\n",
       "</ol>\n"
      ],
      "text/markdown": [
       "### The `IPython` __weave__ step\n",
       "\n",
       "0. `ip.run_ast_nodes` uses `ip.ast_node_interactivity` to set the rules on how to display cells.  `ip.ast_node_interactivity` is set to <code>\"{{ip.ast_node_interactivity}}\"</code>\n",
       "which is why the last expression in a cell is displayed.\n",
       "0. `ip.display_formatter` formats the __Python__ objects to send back to the Jupyter application.\n",
       "0. Extra state changes and displays are applied `ip.events.trigger('post_run_cell', ip.run_cell(''))`  This is where the `pidgin.weave` step is invoked."
      ],
      "text/plain": [
       "'### The `IPython` __weave__ step\\n\\n0. `ip.run_ast_nodes` uses `ip.ast_node_interactivity` to set the rules on how to display cells.  `ip.ast_node_interactivity` is set to <code>\"{{ip.ast_node_interactivity}}\"</code>\\nwhich is why the last expression in a cell is displayed.\\n0. `ip.display_formatter` formats the __Python__ objects to send back to the Jupyter application.\\n0. Extra state changes and displays are applied `ip.events.trigger(\\'post_run_cell\\', ip.run_cell(\\'\\'))`  This is where the `pidgin.weave` step is invoked.'"
      ]
     },
     "metadata": {},
     "output_type": "display_data"
    }
   ],
   "source": [
    "### The `IPython` __weave__ step\n",
    "\n",
    "0. `ip.run_ast_nodes` uses `ip.ast_node_interactivity` to set the rules on how to display cells.  `ip.ast_node_interactivity` is set to <code>\"{{ip.ast_node_interactivity}}\"</code>\n",
    "which is why the last expression in a cell is displayed.\n",
    "0. `ip.display_formatter` formats the __Python__ objects to send back to the Jupyter application.\n",
    "0. Extra state changes and displays are applied `ip.events.trigger('post_run_cell', ip.run_cell(''))`  This is where the `pidgin.weave` step is invoked."
   ]
  },
  {
   "cell_type": "code",
   "execution_count": 6,
   "metadata": {},
   "outputs": [
    {
     "data": {
      "text/html": [
       "<a href=\"#ip-kernel-do-inspect\"><h2 id=\"ip-kernel-do-inspect\"><code>ip.kernel.do_inspect\n",
       "</code></h2>\n",
       "</a>\n",
       "<code style=\"white-space: pre;\" title=\"\">class PidginInspect(traitlets.config.SingletonConfigurable): \n",
       "</code><p><code>pidgin\n",
       "</code> can provide modified inspection during interactive computing sessions.</p>\n",
       "<ul>\n",
       "<li><p>Inline code is executed and templates are executed</p>\n",
       "</li>\n",
       "<li><p>The current ast node is execvuted.</p>\n",
       "</li>\n",
       "<li><p>Markdown is previewed.</p>\n",
       "<code style=\"white-space: pre;\" title=\"\">  normal = traitlets.Bool(False, help=\n",
       "</code><p>Use standard <code>IPython\n",
       "</code> inspector.</p>\n",
       "<code style=\"white-space: pre;\" title=\"\">  )\n",
       "</code></li>\n",
       "</ul>\n"
      ],
      "text/markdown": [
       "## `ip.kernel.do_inspect`    \n",
       "\n",
       "\n",
       "    \n",
       "    class PidginInspect(traitlets.config.SingletonConfigurable): \n",
       "`pidgin` can provide modified inspection during interactive computing sessions.\n",
       "\n",
       "* Inline code is executed and templates are executed\n",
       "* The current ast node is execvuted.\n",
       "* Markdown is previewed.\n",
       "\n",
       "        normal = traitlets.Bool(False, help=\n",
       "Use standard `IPython` inspector.  \n",
       "                               \n",
       "        )"
      ],
      "text/plain": [
       "'## `ip.kernel.do_inspect`    \\n\\n\\n    \\n    class PidginInspect(traitlets.config.SingletonConfigurable): \\n`pidgin` can provide modified inspection during interactive computing sessions.\\n\\n* Inline code is executed and templates are executed\\n* The current ast node is execvuted.\\n* Markdown is previewed.\\n\\n        normal = traitlets.Bool(False, help=\\nUse standard `IPython` inspector.  \\n                               \\n        )'"
      ]
     },
     "metadata": {},
     "output_type": "display_data"
    }
   ],
   "source": [
    "## `ip.kernel.do_inspect`    \n",
    "\n",
    "\n",
    "    \n",
    "    class PidginInspect(traitlets.config.SingletonConfigurable): \n",
    "`pidgin` can provide modified inspection during interactive computing sessions.\n",
    "\n",
    "* Inline code is executed and templates are executed\n",
    "* The current ast node is execvuted.\n",
    "* Markdown is previewed.\n",
    "\n",
    "        normal = traitlets.Bool(False, help=\n",
    "Use standard `IPython` inspector.  \n",
    "                               \n",
    "        )"
   ]
  },
  {
   "cell_type": "code",
   "execution_count": 7,
   "metadata": {},
   "outputs": [
    {
     "data": {
      "text/html": [
       "<code style=\"white-space: pre;\" title=\"\">class PidginShell(ipykernel.zmqshell.ZMQInteractiveShell):\n",
       "</code><code style=\"white-space: pre;\" title=\"Finding tests in __main__&#013;Trying:&#013;    shell = PidginShell()&#013;&#013;Expecting nothing&#013;ok\">>>> shell = PidginShell()\n",
       "</code><code style=\"white-space: pre;\" title=\"\">    pidgin_tangle_config = tangle.config\n",
       "    pidgin_weave_config = weave.config\n",
       "    pidgin_inspect_config = traitlets.Instance(PidginInspect, allow_none=True)\n",
       "</code>"
      ],
      "text/markdown": [
       "    class PidginShell(ipykernel.zmqshell.ZMQInteractiveShell):\n",
       "        \n",
       ">>> shell = PidginShell()\n",
       "\n",
       "        pidgin_tangle_config = tangle.config\n",
       "        pidgin_weave_config = weave.config\n",
       "        pidgin_inspect_config = traitlets.Instance(PidginInspect, allow_none=True)"
      ],
      "text/plain": [
       "'    class PidginShell(ipykernel.zmqshell.ZMQInteractiveShell):\\n        \\n>>> shell = PidginShell()\\n\\n        pidgin_tangle_config = tangle.config\\n        pidgin_weave_config = weave.config\\n        pidgin_inspect_config = traitlets.Instance(PidginInspect, allow_none=True)'"
      ]
     },
     "metadata": {},
     "output_type": "display_data"
    }
   ],
   "source": [
    "    class PidginShell(ipykernel.zmqshell.ZMQInteractiveShell):\n",
    "        \n",
    ">>> shell = PidginShell()\n",
    "\n",
    "        pidgin_tangle_config = tangle.config\n",
    "        pidgin_weave_config = weave.config\n",
    "        pidgin_inspect_config = traitlets.Instance(PidginInspect, allow_none=True)"
   ]
  }
 ],
 "metadata": {
  "kernelspec": {
   "display_name": "Python 3",
   "language": "python",
   "name": "python3"
  },
  "language_info": {
   "codemirror_mode": {
    "name": "ipython",
    "version": 3
   },
   "file_extension": ".py",
   "mimetype": "text/x-python",
   "name": "python",
   "nbconvert_exporter": "python",
   "pygments_lexer": "ipython3",
   "version": "3.6.6"
  }
 },
 "nbformat": 4,
 "nbformat_minor": 2
}
