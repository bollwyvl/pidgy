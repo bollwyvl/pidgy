{
 "cells": [
  {
   "cell_type": "code",
   "execution_count": 1,
   "metadata": {},
   "outputs": [],
   "source": [
    "    try:\n",
    "        from .. import specification\n",
    "    except:\n",
    "        from pidgin import specification"
   ]
  },
  {
   "cell_type": "code",
   "execution_count": 2,
   "metadata": {},
   "outputs": [],
   "source": [
    "    def load_ipython_extension(shell):\n",
    "        specification.emojis.load_ipython_extension(shell)\n",
    "        specification.colors.load_ipython_extension(shell)\n",
    "        specification.template.load_ipython_extension(shell)\n",
    "        shell.set_hook('complete_command', event, re_key=\".*\")\n",
    "        \n",
    "    def unload_ipython_extension(shell):\n",
    "        specification.emojis.unload_ipython_extension(shell)\n",
    "        specification.colors.unload_ipython_extension(shell)\n",
    "        specification.template.unload_ipython_extension(shell)\n",
    "        "
   ]
  },
  {
   "cell_type": "code",
   "execution_count": 3,
   "metadata": {},
   "outputs": [],
   "source": [
    "    def event(shell, event):\n",
    "        shell.log.error(event.symbol)\n",
    "        return [object for object in shell.user_ns.values() if isinstance(object, str)]"
   ]
  },
  {
   "cell_type": "code",
   "execution_count": 4,
   "metadata": {},
   "outputs": [],
   "source": [
    "    if __name__ == '__main__':\n",
    "        load_ipython_extension(get_ipython())"
   ]
  }
 ],
 "metadata": {
  "kernelspec": {
   "display_name": "p6",
   "language": "python",
   "name": "other-env"
  },
  "language_info": {
   "codemirror_mode": {
    "name": "ipython",
    "version": 3
   },
   "file_extension": ".py",
   "mimetype": "text/x-python",
   "name": "python",
   "nbconvert_exporter": "python",
   "pygments_lexer": "ipython3",
   "version": "3.6.8"
  }
 },
 "nbformat": 4,
 "nbformat_minor": 2
}
