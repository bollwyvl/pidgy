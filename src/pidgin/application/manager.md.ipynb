{
 "cells": [
  {
   "cell_type": "code",
   "execution_count": 1,
   "metadata": {},
   "outputs": [],
   "source": [
    "    if __name__ == '__main__':\n",
    "        %reload_ext pidgin"
   ]
  },
  {
   "cell_type": "code",
   "execution_count": 2,
   "metadata": {},
   "outputs": [],
   "source": [
    "    import functools, traitlets, dataclasses, ipywidgets, IPython\n",
    "    from pidgin import formatter, weave, shell"
   ]
  },
  {
   "cell_type": "code",
   "execution_count": 3,
   "metadata": {},
   "outputs": [],
   "source": [
    "    class Manager(shell.Shell, IPython.core.formatters.BaseFormatter):\n",
    "        container = ipywidgets.VBox()\n",
    "        annotations = traitlets.Dict()\n",
    "        widgets = traitlets.Dict()\n",
    "        parent = traitlets.Instance(IPython.InteractiveShell)\n",
    "        type_printers = traitlets.Dict(    dict((\n",
    "            (tuple, ipywidgets.interaction.interactive.widget_from_abbrev), \n",
    "            (str, ipywidgets.interaction.interactive.widget_from_abbrev),\n",
    "            (int, ipywidgets.interaction.interactive.widget_from_abbrev),\n",
    "            (float, ipywidgets.interaction.interactive.widget_from_abbrev),\n",
    "            (list, ipywidgets.interaction.interactive.widget_from_abbrev),\n",
    "            (dict, ipywidgets.interaction.interactive.widget_from_abbrev),\n",
    "            (set, ipywidgets.interaction.interactive.widget_from_abbrev),\n",
    "        )))\n",
    "        \n",
    "        def run_cell(Manager, *args, **kwargs):\n",
    "            app = Manager.parent\n",
    "            __annotations__ = app.user_ns.get('__annotations__', {})\n",
    "            for name, value in __annotations__.items():\n",
    "                if type(value) != type(Manager.annotations.get(name, None)):\n",
    "                    Manager.annotations[name] = value\n",
    "                    Manager.widgets[name] = Manager.lookup(value)(value)\n",
    "                    Manager.widgets[name].description = Manager.widgets[name].description or name\n",
    "                    Manager.widgets[name].observe(functools.partial(Manager.observer, name), names='value')\n",
    "                Manager.observer(name)            \n",
    "                    \n",
    "        def observer(Manager, key, change=None):\n",
    "            Manager.user_ns[key] = Manager.widgets[key].value = Manager.user_ns.get(key, Manager.widgets[key].value)\n",
    "            \n",
    "        def _ipython_display_(Manager): \n",
    "            Manager.container.children = list(Manager.widgets.values())\n",
    "            IPython.display.display(Manager.container)"
   ]
  },
  {
   "cell_type": "code",
   "execution_count": 4,
   "metadata": {},
   "outputs": [],
   "source": [
    "    def load_ipython_extension(app):\n",
    "        app.manager = Manager(user_module=app.user_module, parent=app, parents=[app])\n",
    "        app.user_ns['app'] = app\n",
    "        app._ipython_display_ = app.manager._ipython_display_\n",
    "        app.events.register('post_run_cell', app.manager)"
   ]
  },
  {
   "cell_type": "code",
   "execution_count": 5,
   "metadata": {},
   "outputs": [],
   "source": [
    "    def unload_ipython_extension(app):\n",
    "        del app._ipython_display_\n",
    "        pops = []\n",
    "        for i, object in enumerate(app.events.callbacks['post_run_cell']):\n",
    "            if isinstance(object, Manager): pops.append(i)\n",
    "        for i in reversed(pops): app.events.callbacks['post_run_cell'].pop(i)\n",
    "    if __name__ == '__main__': load_ipython_extension(get_ipython())"
   ]
  }
 ],
 "metadata": {
  "kernelspec": {
   "display_name": "p6",
   "language": "python",
   "name": "p6"
  },
  "language_info": {
   "codemirror_mode": {
    "name": "ipython",
    "version": 3
   },
   "file_extension": ".py",
   "mimetype": "text/x-python",
   "name": "python",
   "nbconvert_exporter": "python",
   "pygments_lexer": "ipython3",
   "version": "3.6.8"
  }
 },
 "nbformat": 4,
 "nbformat_minor": 2
}
