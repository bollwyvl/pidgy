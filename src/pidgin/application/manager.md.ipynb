{
 "cells": [
  {
   "cell_type": "code",
   "execution_count": 1,
   "metadata": {},
   "outputs": [],
   "source": [
    "    if __name__ == '__main__':\n",
    "        %reload_ext pidgin\n",
    "        %reload_ext pidgin.application"
   ]
  },
  {
   "cell_type": "code",
   "execution_count": 2,
   "metadata": {},
   "outputs": [],
   "source": [
    "    import functools, traitlets, dataclasses, IPython\n",
    "    from pidgin import formatter, weave, shell\n",
    "    try: \n",
    "        import ipywidgets\n",
    "        widget_from_abbrev = ipywidgets.interaction.interactive.widget_from_abbrev\n",
    "        default = dict((\n",
    "            (tuple, widget_from_abbrev), \n",
    "            (str, widget_from_abbrev),\n",
    "            (int, widget_from_abbrev),\n",
    "            (float, widget_from_abbrev),\n",
    "            (list, widget_from_abbrev),\n",
    "            (dict, widget_from_abbrev),\n",
    "            (set, widget_from_abbrev),\n",
    "        ))\n",
    "        container = ipywidgets.VBox\n",
    "    except:\n",
    "        default = {}\n",
    "        class VBox(traitlets.HasTraits):\n",
    "            children = traitlets.List()\n",
    "        container = VBox"
   ]
  },
  {
   "cell_type": "code",
   "execution_count": 3,
   "metadata": {},
   "outputs": [
    {
     "data": {
      "text/html": [
       "<pre><code>class Manager(shell.Shell, IPython.core.formatters.BaseFormatter):\n",
       "</code></pre>\n",
       "<pre><code>&gt;&gt;&gt; app = IPython.get_ipython()\n",
       "</code></pre>\n",
       "<pre><code>&gt;&gt;&gt; app.manager\n",
       "&lt;...Manager object at 0x...&gt;\n",
       "</code></pre>\n",
       "<pre><code>&gt;&gt;&gt; with IPython.utils.capture.capture_output() as out:\n",
       "...     IPython.display.display(app)\n",
       "</code></pre>\n",
       "<pre><code>&gt;&gt;&gt; out.outputs[0].data\n",
       "{...application/vnd.jupyter.widget-view+json...}\n",
       "</code></pre>\n",
       "<pre><code>    container = container()\n",
       "    annotations = traitlets.Dict()\n",
       "    widgets = traitlets.Dict()\n",
       "    parent = traitlets.Instance(IPython.InteractiveShell)\n",
       "    type_printers = traitlets.Dict(default)\n",
       "\n",
       "    def run_cell(Manager, *args, **kwargs):\n",
       "        app = Manager.parent\n",
       "        __annotations__ = app.user_ns.get('__annotations__', {})\n",
       "        for name, value in __annotations__.items():\n",
       "            if type(value) != type(Manager.annotations.get(name, None)):\n",
       "                Manager.annotations[name] = value\n",
       "\n",
       "                Manager.widgets[name] = Manager.lookup(value)(value)\n",
       "                Manager.widgets[name].description = Manager.widgets[name].description or name\n",
       "\n",
       "                object = Manager.user_ns.get(name, Manager.widgets[name].value)\n",
       "                Manager.parent.add_traits(**{name: traitlets.Any(default_value=object)})\n",
       "                traitlets.link((Manager.parent, name), (Manager.widgets[name], 'value'))\n",
       "                Manager.parent.observe(functools.partial(Manager.observer, name), names=name)\n",
       "            Manager.observer(name)\n",
       "            if hasattr(Manager.widgets[name], 'options'):\n",
       "                Manager.widgets[name].options = type(Manager.widgets[name].options)(value)\n",
       "\n",
       "\n",
       "    def observer(Manager, key, change=None):\n",
       "</code></pre>\n",
       "<pre><code>&gt;&gt;&gt; app = IPython.get_ipython()\n",
       "</code></pre>\n",
       "<pre><code>&gt;&gt;&gt; app.user_ns['__annotations__'] = app.user_ns.get('__annotations__', {})\n",
       "</code></pre>\n",
       "<pre><code>&gt;&gt;&gt; app.user_ns.update(__annotations__=\"\"\"---\n",
       "... {x: 10, y: 20, m: 2}\"\"\")\n",
       "</code></pre>\n",
       "<pre><code>&gt;&gt;&gt; app.run_cell('')\n",
       "&lt;ExecutionResult...&gt;\n",
       "</code></pre>\n",
       "<pre><code>&gt;&gt;&gt; traitlets.dlink((app, 'x'), (app, 'y'), lambda x: x**app.m)\n",
       "&lt;traitlets.traitlets.directional_link...&gt;\n",
       "</code></pre>\n",
       "<pre><code>&gt;&gt;&gt; app.x = 3\n",
       "</code></pre>\n",
       "<pre><code>&gt;&gt;&gt; assert app.y == app.x**app.m, \"The link didn't fire.\"\n",
       "</code></pre>\n",
       "<pre><code>        Manager.user_ns[key] = Manager.widgets[key].value = change['new'] if change else Manager.user_ns.get(key, Manager.widgets[key].value)\n",
       "        setattr(Manager.parent, key, Manager.user_ns[key])\n",
       "\n",
       "    def _ipython_display_(Manager): \n",
       "        Manager.container.children = list(Manager.widgets.values())\n",
       "        IPython.display.display(Manager.container)\n",
       "</code></pre>\n"
      ],
      "text/plain": [
       "<IPython.core.display.HTML object>"
      ]
     },
     "metadata": {},
     "output_type": "display_data"
    }
   ],
   "source": [
    "    class Manager(shell.Shell, IPython.core.formatters.BaseFormatter):\n",
    ">>> app = IPython.get_ipython()\n",
    ">>> app.manager\n",
    "<...Manager object at 0x...>\n",
    ">>> with IPython.utils.capture.capture_output() as out:\n",
    "...     IPython.display.display(app)\n",
    ">>> out.outputs[0].data\n",
    "{...application/vnd.jupyter.widget-view+json...}\n",
    "\n",
    "        container = container()\n",
    "        annotations = traitlets.Dict()\n",
    "        widgets = traitlets.Dict()\n",
    "        parent = traitlets.Instance(IPython.InteractiveShell)\n",
    "        type_printers = traitlets.Dict(default)\n",
    "        \n",
    "        def run_cell(Manager, *args, **kwargs):\n",
    "            app = Manager.parent\n",
    "            __annotations__ = app.user_ns.get('__annotations__', {})\n",
    "            for name, value in __annotations__.items():\n",
    "                if type(value) != type(Manager.annotations.get(name, None)):\n",
    "                    Manager.annotations[name] = value\n",
    "                    \n",
    "                    Manager.widgets[name] = Manager.lookup(value)(value)\n",
    "                    Manager.widgets[name].description = Manager.widgets[name].description or name\n",
    "                    \n",
    "                    object = Manager.user_ns.get(name, Manager.widgets[name].value)\n",
    "                    Manager.parent.add_traits(**{name: traitlets.Any(default_value=object)})\n",
    "                    traitlets.link((Manager.parent, name), (Manager.widgets[name], 'value'))\n",
    "                    Manager.parent.observe(functools.partial(Manager.observer, name), names=name)\n",
    "                Manager.observer(name)\n",
    "                if hasattr(Manager.widgets[name], 'options'):\n",
    "                    Manager.widgets[name].options = type(Manager.widgets[name].options)(value)\n",
    "                    \n",
    "                    \n",
    "        def observer(Manager, key, change=None):\n",
    ">>> app = IPython.get_ipython()\n",
    ">>> app.user_ns['__annotations__'] = app.user_ns.get('__annotations__', {})\n",
    ">>> app.user_ns.update(__annotations__=\"\"\"---\n",
    "... {x: 10, y: 20, m: 2}\"\"\")\n",
    ">>> app.run_cell('')\n",
    "<ExecutionResult...>\n",
    ">>> traitlets.dlink((app, 'x'), (app, 'y'), lambda x: x**app.m)\n",
    "<traitlets.traitlets.directional_link...>\n",
    ">>> app.x = 3\n",
    ">>> assert app.y == app.x**app.m, \"The link didn't fire.\"\n",
    "\n",
    "            Manager.user_ns[key] = Manager.widgets[key].value = change['new'] if change else Manager.user_ns.get(key, Manager.widgets[key].value)\n",
    "            setattr(Manager.parent, key, Manager.user_ns[key])\n",
    "            \n",
    "        def _ipython_display_(Manager): \n",
    "            Manager.container.children = list(Manager.widgets.values())\n",
    "            IPython.display.display(Manager.container)"
   ]
  },
  {
   "cell_type": "code",
   "execution_count": 4,
   "metadata": {},
   "outputs": [
    {
     "data": {
      "text/html": [
       "<pre><code>def load_ipython_extension(app):\n",
       "</code></pre>\n",
       "<pre><code>&gt;&gt;&gt; %reload_ext pidgin.application\n",
       "</code></pre>\n",
       "<pre><code>    app.manager = Manager(user_module=app.user_module, parent=app, parents=[app])\n",
       "    app.user_ns['app'] = app\n",
       "    app._ipython_display_ = app.manager._ipython_display_\n",
       "    app.events.register('post_run_cell', app.manager)\n",
       "</code></pre>\n"
      ],
      "text/plain": [
       "<IPython.core.display.HTML object>"
      ]
     },
     "metadata": {},
     "output_type": "display_data"
    }
   ],
   "source": [
    "    def load_ipython_extension(app):\n",
    ">>> %reload_ext pidgin.application\n",
    "        \n",
    "        app.manager = Manager(user_module=app.user_module, parent=app, parents=[app])\n",
    "        app.user_ns['app'] = app\n",
    "        app._ipython_display_ = app.manager._ipython_display_\n",
    "        app.events.register('post_run_cell', app.manager)"
   ]
  },
  {
   "cell_type": "code",
   "execution_count": 5,
   "metadata": {},
   "outputs": [
    {
     "data": {
      "text/html": [
       "<pre><code>def unload_ipython_extension(app):\n",
       "</code></pre>\n",
       "<pre><code>&gt;&gt;&gt; %unload_ext pidgin.application\n",
       "</code></pre>\n",
       "<pre><code>&gt;&gt;&gt; with IPython.utils.capture.capture_output() as out:\n",
       "...     IPython.display.display(app)\n",
       "</code></pre>\n",
       "<pre><code>&gt;&gt;&gt; out.outputs[0].data\n",
       "{...ZMQInteractiveShell...}\n",
       "</code></pre>\n",
       "<pre><code>&gt;&gt;&gt; %load_ext pidgin.application\n",
       "</code></pre>\n",
       "<pre><code>    del app._ipython_display_\n",
       "    pops = []\n",
       "    for i, object in enumerate(app.events.callbacks['post_run_cell']):\n",
       "        if isinstance(object, Manager): pops.append(i)\n",
       "    for i in reversed(pops): app.events.callbacks['post_run_cell'].pop(i)\n",
       "if __name__ == '__main__': load_ipython_extension(get_ipython())\n",
       "</code></pre>\n"
      ],
      "text/plain": [
       "<IPython.core.display.HTML object>"
      ]
     },
     "metadata": {},
     "output_type": "display_data"
    }
   ],
   "source": [
    "    def unload_ipython_extension(app):\n",
    ">>> %unload_ext pidgin.application\n",
    ">>> with IPython.utils.capture.capture_output() as out:\n",
    "...     IPython.display.display(app)\n",
    ">>> out.outputs[0].data\n",
    "{...ZMQInteractiveShell...}\n",
    ">>> %load_ext pidgin.application\n",
    "        \n",
    "        del app._ipython_display_\n",
    "        pops = []\n",
    "        for i, object in enumerate(app.events.callbacks['post_run_cell']):\n",
    "            if isinstance(object, Manager): pops.append(i)\n",
    "        for i in reversed(pops): app.events.callbacks['post_run_cell'].pop(i)\n",
    "    if __name__ == '__main__': load_ipython_extension(get_ipython())"
   ]
  },
  {
   "cell_type": "code",
   "execution_count": null,
   "metadata": {},
   "outputs": [],
   "source": []
  }
 ],
 "metadata": {
  "kernelspec": {
   "display_name": "p6",
   "language": "python",
   "name": "p6"
  },
  "language_info": {
   "codemirror_mode": {
    "name": "ipython",
    "version": 3
   },
   "file_extension": ".py",
   "mimetype": "text/x-python",
   "name": "python",
   "nbconvert_exporter": "python",
   "pygments_lexer": "ipython3",
   "version": "3.6.8"
  }
 },
 "nbformat": 4,
 "nbformat_minor": 2
}
