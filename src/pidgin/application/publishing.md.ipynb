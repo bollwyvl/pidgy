{
 "cells": [
  {
   "cell_type": "markdown",
   "metadata": {},
   "source": [
    "[`pidgin.publishing`](publishing.md.ipynb) configures `nbconvert` to export readable `pidgin` computational essays."
   ]
  },
  {
   "cell_type": "markdown",
   "metadata": {},
   "source": [
    "> I believe that the time is ripe for significantly better documentation of programs, and that we can best achieve this by considering programs to be works of literature. Hence, my title: “Literate Programming.”\n",
    "\n",
    "* significantly -> reproducible."
   ]
  },
  {
   "cell_type": "markdown",
   "metadata": {},
   "source": [
    "* This document discusses automatically generating presentations from notebooks.  \n",
    "* Presentations provide nonlinear narratives with x & y - slide & subslide - abstractions.  A nonlinear story is an intermediate to a linear story, or computational essay.\n",
    "* The __reveal.js__ view of a notebook provides an alternative interface to view as slides and in a sorted layout view. \n",
    "* Headers have an added purpose to separate slides.\n",
    "\n",
    "# Interpretting notebooks as presentations."
   ]
  },
  {
   "cell_type": "code",
   "execution_count": 1,
   "metadata": {},
   "outputs": [],
   "source": [
    "    if __name__ == '__main__': \n",
    "        %reload_ext pidgin"
   ]
  },
  {
   "cell_type": "code",
   "execution_count": 2,
   "metadata": {},
   "outputs": [],
   "source": [
    "    import IPython; get_ipython = IPython.get_ipython\n",
    "    import pidgin, nbconvert, ast, traitlets\n",
    "    __all__ = 'present',"
   ]
  },
  {
   "cell_type": "code",
   "execution_count": 3,
   "metadata": {},
   "outputs": [],
   "source": [
    "    try: \n",
    "        import black\n",
    "        class BlackPreProcessor(nbconvert.preprocessors.Preprocessor):\n",
    "            length = traitlets.Int(100)\n",
    "            def preprocess_cell(BlackPreProcessor, cell, resources=None, index=0):\n",
    "                if cell['cell_type'] == 'source':\n",
    "                    cell['source'] = black.format_str(''.join(cell['source']), BlackPreProcessor.length)\n",
    "                return cell, resources\n",
    "    except: ..."
   ]
  },
  {
   "cell_type": "code",
   "execution_count": 4,
   "metadata": {},
   "outputs": [
    {
     "data": {
      "text/html": [
       "<div class=\"highlight\" style=\"background: #f8f8f8\"><pre style=\"line-height: 125%\"><span></span><span style=\"color: #008000; font-weight: bold\">class</span> <span style=\"color: #0000FF; font-weight: bold\">TanglePreProcessor</span>(nbconvert<span style=\"color: #666666\">.</span>preprocessors<span style=\"color: #666666\">.</span>Preprocessor):\n",
       "</pre></div>\n",
       "<pre><code>&gt;&gt;&gt; assert ast.parse(nbconvert.PythonExporter(preprocessors=[TanglePreProcessor()]).from_filename('publishing.md.ipynb')[0]), \"\"\"The exporter did not create valid code.\"\"\"\n",
       "</code></pre>\n",
       "<div class=\"highlight\" style=\"background: #f8f8f8\"><pre style=\"line-height: 125%\"><span></span><span style=\"color: #008000; font-weight: bold\">def</span> <span style=\"color: #0000FF\">preprocess_cell</span>(PidginPreProcessor, cell, resources<span style=\"color: #666666\">=</span><span style=\"color: #008000\">None</span>, index<span style=\"color: #666666\">=0</span>):\n",
       "        cell[<span style=\"color: #BA2121\">&#39;source&#39;</span>] <span style=\"color: #666666\">=</span> <span style=\"color: #008000\">getattr</span>(pidgin<span style=\"color: #666666\">.</span>tangle<span style=\"color: #666666\">.</span>Pidgin(), cell[<span style=\"color: #BA2121\">&#39;cell_type&#39;</span>])(<span style=\"color: #BA2121\">&#39;&#39;</span><span style=\"color: #666666\">.</span>join(cell[<span style=\"color: #BA2121\">&#39;source&#39;</span>]))\n",
       "        <span style=\"color: #008000; font-weight: bold\">return</span> cell, resources\n",
       "</pre></div>\n"
      ],
      "text/plain": [
       "<IPython.core.display.HTML object>"
      ]
     },
     "metadata": {},
     "output_type": "display_data"
    }
   ],
   "source": [
    "    class TanglePreProcessor(nbconvert.preprocessors.Preprocessor):\n",
    ">>> assert ast.parse(nbconvert.PythonExporter(preprocessors=[TanglePreProcessor()]).from_filename('publishing.md.ipynb')[0]), \"\"\"The exporter did not create valid code.\"\"\"\n",
    "\n",
    "        def preprocess_cell(PidginPreProcessor, cell, resources=None, index=0):\n",
    "            cell['source'] = getattr(pidgin.tangle.Pidgin(), cell['cell_type'])(''.join(cell['source']))\n",
    "            return cell, resources"
   ]
  },
  {
   "cell_type": "code",
   "execution_count": 5,
   "metadata": {},
   "outputs": [
    {
     "data": {
      "text/html": [
       "<p><em>Fix the output</em></p>\n",
       "<pre><code>&gt;&gt;&gt; number_of_exporters = (set(str.split('_')[0] for str in nbconvert.get_export_names()))\n",
       "</code></pre>\n"
      ],
      "text/plain": [
       "<IPython.core.display.HTML object>"
      ]
     },
     "metadata": {},
     "output_type": "display_data"
    }
   ],
   "source": [
    "_Fix the output_\n",
    ">>> number_of_exporters = (set(str.split('_')[0] for str in nbconvert.get_export_names()))"
   ]
  },
  {
   "cell_type": "code",
   "execution_count": 6,
   "metadata": {},
   "outputs": [],
   "source": [
    "    import nbconvert, traitlets"
   ]
  },
  {
   "cell_type": "code",
   "execution_count": 7,
   "metadata": {},
   "outputs": [
    {
     "data": {
      "text/html": [
       "<div class=\"highlight\" style=\"background: #f8f8f8\"><pre style=\"line-height: 125%\"><span></span><span style=\"color: #008000; font-weight: bold\">class</span> <span style=\"color: #0000FF; font-weight: bold\">PidginPreprocessor</span>(nbconvert<span style=\"color: #666666\">.</span>preprocessors<span style=\"color: #666666\">.</span>Preprocessor): <span style=\"color: #666666\">...</span>\n",
       "</pre></div>\n",
       "<p>The <span class=\"highlight\" style=\"background: #f8f8f8\"><code style=\"line-height: 125%\"><span></span>PidginPreprocessor\n",
       "</code></span> adds publishing constraints to pidgin documents</p>\n",
       "<p>Doesnt show cells without output.</p>\n"
      ],
      "text/plain": [
       "<IPython.core.display.HTML object>"
      ]
     },
     "metadata": {},
     "output_type": "display_data"
    }
   ],
   "source": [
    "    class PidginPreprocessor(nbconvert.preprocessors.Preprocessor): ...\n",
    "The `PidginPreprocessor` adds publishing constraints to pidgin documents\n",
    "\n",
    "Doesnt show cells without output."
   ]
  },
  {
   "cell_type": "code",
   "execution_count": 8,
   "metadata": {},
   "outputs": [
    {
     "data": {
      "text/html": [
       "<h3>Constraining <strong>Markdown</strong> with presentations</h3>\n",
       "<p><span class=\"highlight\" style=\"background: #f8f8f8\"><code style=\"line-height: 125%\"><span></span>nbconvert\n",
       "</code></span> can export slide shows in <a href=\"\" title=\"#\">reveal</a> using the <span class=\"highlight\" style=\"background: #f8f8f8\"><code style=\"line-height: 125%\"><span></span>nbconvert<span style=\"color: #666666\">.</span>SlidesExporter\n",
       "</code></span> object.</p>\n",
       "<p>Auomatically present preprocessor.</p>\n",
       "<div class=\"highlight\" style=\"background: #f8f8f8\"><pre style=\"line-height: 125%\"><span></span><span style=\"color: #008000; font-weight: bold\">class</span> <span style=\"color: #0000FF; font-weight: bold\">AutomaticallyPresent</span>(nbconvert<span style=\"color: #666666\">.</span>preprocessors<span style=\"color: #666666\">.</span>Preprocessor):\n",
       "</pre></div>\n",
       "<h3>An <span class=\"highlight\" style=\"background: #f8f8f8\"><code style=\"line-height: 125%\"><span></span>nbconvert<span style=\"color: #666666\">.</span>codeprocessors<span style=\"color: #666666\">.</span>Preprocessor\n",
       "</code></span></h3>\n",
       "<div class=\"highlight\" style=\"background: #f8f8f8\"><pre style=\"line-height: 125%\"><span></span><span style=\"color: #008000; font-weight: bold\">def</span> <span style=\"color: #0000FF\">preprocess_cell</span>(<span style=\"color: #008000\">self</span>, cell, resources, index):\n",
       "        <span style=\"color: #008000; font-weight: bold\">if</span> <span style=\"color: #BA2121\">&#39;source&#39;</span> <span style=\"color: #AA22FF; font-weight: bold\">not</span> <span style=\"color: #AA22FF; font-weight: bold\">in</span> cell: <span style=\"color: #008000; font-weight: bold\">return</span> cell, resources\n",
       "\n",
       "        <span style=\"color: #008000; font-weight: bold\">if</span> cell[<span style=\"color: #BA2121\">&#39;cell_type&#39;</span>] <span style=\"color: #666666\">==</span> <span style=\"color: #BA2121\">&#39;code&#39;</span>:\n",
       "            <span style=\"color: #008000\">self</span><span style=\"color: #666666\">.</span>is_pidgin <span style=\"color: #666666\">=</span> <span style=\"color: #008000\">self</span><span style=\"color: #666666\">.</span>is_pidgin <span style=\"color: #AA22FF; font-weight: bold\">or</span> (\n",
       "                <span style=\"color: #BA2121\">&#39;load_ext pidgin&#39;</span> <span style=\"color: #AA22FF; font-weight: bold\">in</span> <span style=\"color: #BA2121\">&#39;&#39;</span><span style=\"color: #666666\">.</span>join(cell[<span style=\"color: #BA2121\">&#39;source&#39;</span>]))\n",
       "\n",
       "        <span style=\"color: #008000; font-weight: bold\">if</span> cell[<span style=\"color: #BA2121\">&#39;cell_type&#39;</span>] <span style=\"color: #AA22FF; font-weight: bold\">in</span> ([<span style=\"color: #BA2121\">&#39;markdown&#39;</span>] <span style=\"color: #666666\">+</span> (\n",
       "            <span style=\"color: #008000\">self</span><span style=\"color: #666666\">.</span>is_pidgin <span style=\"color: #AA22FF; font-weight: bold\">and</span> [<span style=\"color: #BA2121\">&#39;code&#39;</span>] <span style=\"color: #AA22FF; font-weight: bold\">or</span> []\n",
       "        )):\n",
       "            <span style=\"color: #008000; font-weight: bold\">if</span> (cell[<span style=\"color: #BA2121\">&#39;cell_type&#39;</span>] <span style=\"color: #666666\">==</span> <span style=\"color: #BA2121\">&#39;markdown&#39;</span>) <span style=\"color: #AA22FF; font-weight: bold\">or</span> (<span style=\"color: #BA2121\">&#39;outputs&#39;</span> <span style=\"color: #AA22FF; font-weight: bold\">in</span> cell) <span style=\"color: #AA22FF; font-weight: bold\">and</span> cell[<span style=\"color: #BA2121\">&#39;outputs&#39;</span>]:\n",
       "                cell <span style=\"color: #666666\">=</span> add_slide_data(cell)\n",
       "\n",
       "        <span style=\"color: #008000; font-weight: bold\">return</span> cell, resources\n",
       "\n",
       "    <span style=\"color: #008000; font-weight: bold\">def</span> <span style=\"color: #0000FF\">preprocess</span>(<span style=\"color: #008000\">self</span>, nb, resources):\n",
       "        <span style=\"color: #008000\">self</span><span style=\"color: #666666\">.</span>last_heading <span style=\"color: #666666\">=</span> <span style=\"color: #008000\">None</span>\n",
       "        <span style=\"color: #008000\">self</span><span style=\"color: #666666\">.</span>is_pidgin <span style=\"color: #666666\">=</span> <span style=\"color: #008000\">False</span>\n",
       "        <span style=\"color: #008000; font-weight: bold\">while</span> nb<span style=\"color: #666666\">.</span>cells <span style=\"color: #AA22FF; font-weight: bold\">and</span> (\n",
       "            <span style=\"color: #AA22FF; font-weight: bold\">not</span> (nb<span style=\"color: #666666\">.</span>cells[<span style=\"color: #666666\">-1</span>]<span style=\"color: #666666\">.</span>source <span style=\"color: #AA22FF; font-weight: bold\">or</span> nb<span style=\"color: #666666\">.</span>cells[<span style=\"color: #666666\">-1</span>]<span style=\"color: #666666\">.</span>outputs)\n",
       "        ): nb<span style=\"color: #666666\">.</span>cells<span style=\"color: #666666\">.</span>pop()\n",
       "        <span style=\"color: #008000; font-weight: bold\">if</span> nb<span style=\"color: #666666\">.</span>cells <span style=\"color: #AA22FF; font-weight: bold\">and</span> nb<span style=\"color: #666666\">.</span>cells[<span style=\"color: #666666\">-1</span>][<span style=\"color: #BA2121\">&#39;cell_type&#39;</span>] <span style=\"color: #666666\">==</span> <span style=\"color: #BA2121\">&#39;raw&#39;</span>:\n",
       "            nb<span style=\"color: #666666\">.</span>metadata<span style=\"color: #666666\">.</span>merge(<span style=\"color: #008000\">__import__</span>(<span style=\"color: #BA2121\">&#39;yaml&#39;</span>)<span style=\"color: #666666\">.</span>safe_load(<span style=\"color: #008000\">__import__</span>(<span style=\"color: #BA2121\">&#39;io&#39;</span>)<span style=\"color: #666666\">.</span>StringIO(<span style=\"color: #BA2121\">&#39;&#39;</span><span style=\"color: #666666\">.</span>join(nb<span style=\"color: #666666\">.</span>cells<span style=\"color: #666666\">.</span>pop()[<span style=\"color: #BA2121\">&#39;source&#39;</span>]))))\n",
       "\n",
       "        nb, resources <span style=\"color: #666666\">=</span> <span style=\"color: #008000\">super</span>()<span style=\"color: #666666\">.</span>preprocess(nb, resources)\n",
       "        <span style=\"color: #008000; font-weight: bold\">return</span> nbconvert<span style=\"color: #666666\">.</span>exporters<span style=\"color: #666666\">.</span>slides<span style=\"color: #666666\">.</span>prepare(nb), resources\n",
       "</pre></div>\n",
       "<p><em>add an exception for hash references</em></p>\n"
      ],
      "text/plain": [
       "<IPython.core.display.HTML object>"
      ]
     },
     "metadata": {},
     "output_type": "display_data"
    }
   ],
   "source": [
    "### Constraining __Markdown__ with presentations\n",
    "\n",
    "`nbconvert` can export slide shows in [reveal][reveal] using the `nbconvert.SlidesExporter` object. \n",
    "\n",
    "Auomatically present preprocessor.\n",
    "\n",
    "    class AutomaticallyPresent(nbconvert.preprocessors.Preprocessor):\n",
    "### An `nbconvert.preprocessors.Preprocessor`\n",
    "    \n",
    "    \n",
    "\n",
    "        def preprocess_cell(self, cell, resources, index):\n",
    "            if 'source' not in cell: return cell, resources\n",
    "            \n",
    "            if cell['cell_type'] == 'code':\n",
    "                self.is_pidgin = self.is_pidgin or (\n",
    "                    'load_ext pidgin' in ''.join(cell['source']))\n",
    "               \n",
    "            if cell['cell_type'] in (['markdown'] + (\n",
    "                self.is_pidgin and ['code'] or []\n",
    "            )):\n",
    "                if (cell['cell_type'] == 'markdown') or ('outputs' in cell) and cell['outputs']:\n",
    "                    cell = add_slide_data(cell)\n",
    "                \n",
    "            return cell, resources\n",
    "        \n",
    "        def preprocess(self, nb, resources):\n",
    "            self.last_heading = None\n",
    "            self.is_pidgin = False\n",
    "            while nb.cells and (\n",
    "                not (nb.cells[-1].source or nb.cells[-1].outputs)\n",
    "            ): nb.cells.pop()\n",
    "            if nb.cells and nb.cells[-1]['cell_type'] == 'raw':\n",
    "                nb.metadata.merge(__import__('yaml').safe_load(__import__('io').StringIO(''.join(nb.cells.pop()['source']))))\n",
    "                \n",
    "            nb, resources = super().preprocess(nb, resources)\n",
    "            return nbconvert.exporters.slides.prepare(nb), resources\n",
    "\n",
    "\n",
    "[reveal]: #\n",
    "    \n",
    "_add an exception for hash references_"
   ]
  },
  {
   "cell_type": "code",
   "execution_count": 9,
   "metadata": {},
   "outputs": [
    {
     "data": {
      "text/html": [
       "<h2>Converting a notebook to a presentation.</h2>\n",
       "<div class=\"highlight\" style=\"background: #f8f8f8\"><pre style=\"line-height: 125%\"><span></span><span style=\"color: #008000; font-weight: bold\">import</span> <span style=\"color: #0000FF; font-weight: bold\">nbconvert</span><span style=\"color: #666666\">,</span> <span style=\"color: #0000FF; font-weight: bold\">traitlets</span>\n",
       "</pre></div>\n",
       "<p>The <span class=\"highlight\" style=\"background: #f8f8f8\"><code style=\"line-height: 125%\"><span></span>nbconvert<span style=\"color: #666666\">.</span>SlidesExporter\n",
       "</code></span> exports <span class=\"highlight\" style=\"background: #f8f8f8\"><code style=\"line-height: 125%\"><span></span><span style=\"color: #008000\">__import__</span>(<span style=\"color: #BA2121\">&#39;nbformat&#39;</span>)\n",
       "</code></span> documents as presentations;\n",
       "<span class=\"highlight\" style=\"background: #f8f8f8\"><code style=\"line-height: 125%\"><span></span><span style=\"color: #008000; font-weight: bold\">assert</span> <span style=\"color: #008000\">issubclass</span>(nbconvert<span style=\"color: #666666\">.</span>SlidesExporter, nbconvert<span style=\"color: #666666\">.</span>HTMLExporter)\n",
       "</code></span>.</p>\n"
      ],
      "text/plain": [
       "<IPython.core.display.HTML object>"
      ]
     },
     "metadata": {},
     "output_type": "display_data"
    }
   ],
   "source": [
    "## Converting a notebook to a presentation.\n",
    "\n",
    "    import nbconvert, traitlets\n",
    "\n",
    "The `nbconvert.SlidesExporter` exports `__import__('nbformat')` documents as presentations;\n",
    "`assert issubclass(nbconvert.SlidesExporter, nbconvert.HTMLExporter)`."
   ]
  },
  {
   "cell_type": "code",
   "execution_count": 10,
   "metadata": {},
   "outputs": [
    {
     "data": {
      "text/html": [
       "<h3>Slide show metadata.</h3>\n",
       "<p><span class=\"highlight\" style=\"background: #f8f8f8\"><code style=\"line-height: 125%\"><span></span>nbconvert<span style=\"color: #666666\">.</span>SlidesExporter\n",
       "</code></span> uses cell metadata to create <span class=\"highlight\" style=\"background: #f8f8f8\"><code style=\"line-height: 125%\"><span></span><span style=\"color: #BA2121\">&quot;slide subslide fragment&quot;</span>\n",
       "</code></span> <span class=\"highlight\" style=\"background: #f8f8f8\"><code style=\"line-height: 125%\"><span></span><span style=\"color: #BA2121\">&quot;slide_type&quot;</span>\n",
       "</code></span>s.</p>\n",
       "<div class=\"highlight\" style=\"background: #f8f8f8\"><pre style=\"line-height: 125%\"><span></span><span style=\"color: #008000; font-weight: bold\">def</span> <span style=\"color: #0000FF\">add_slide_metadata</span>(cell):\n",
       "</pre></div>\n",
       "<p><span class=\"highlight\" style=\"background: #f8f8f8\"><code style=\"line-height: 125%\"><span></span>add_slide_metadata\n",
       "</code></span> adds <span class=\"highlight\" style=\"background: #f8f8f8\"><code style=\"line-height: 125%\"><span></span><span style=\"color: #BA2121\">&quot;slideshow&quot;</span>\n",
       "</code></span> data to a <strong>cell</strong> using the headers and horizontal rules as delimiters.</p>\n",
       "<div class=\"highlight\" style=\"background: #f8f8f8\"><pre style=\"line-height: 125%\"><span></span>source <span style=\"color: #666666\">=</span> <span style=\"color: #BA2121\">&#39;&#39;</span><span style=\"color: #666666\">.</span>join(cell[<span style=\"color: #BA2121\">&#39;source&#39;</span>])\n",
       "    <span style=\"color: #008000\">type</span> <span style=\"color: #666666\">=</span> F<span style=\"color: #BA2121\">&quot;fragment slide slide subslide fragment fragment fragment&quot;</span><span style=\"color: #666666\">.</span>split(\n",
       "    )[<span style=\"color: #008000\">max</span>(get_levels(source) <span style=\"color: #AA22FF; font-weight: bold\">or</span> [<span style=\"color: #666666\">0</span>])]\n",
       "</pre></div>\n",
       "<p><span class=\"highlight\" style=\"background: #f8f8f8\"><code style=\"line-height: 125%\"><span></span><span style=\"color: #BA2121\">&quot;slideshow&quot;</span>\n",
       "</code></span> is a keyword specific to the <span class=\"highlight\" style=\"background: #f8f8f8\"><code style=\"line-height: 125%\"><span></span>nbconvert<span style=\"color: #666666\">.</span>SlidesExporter\n",
       "</code></span>, we only update the metadata \n",
       "if the keywords don't exist.</p>\n",
       "<div class=\"highlight\" style=\"background: #f8f8f8\"><pre style=\"line-height: 125%\"><span></span>cell<span style=\"color: #666666\">.</span>metadata[<span style=\"color: #BA2121\">&#39;slideshow&#39;</span>] <span style=\"color: #666666\">=</span> cell<span style=\"color: #666666\">.</span>metadata<span style=\"color: #666666\">.</span>get(<span style=\"color: #BA2121\">&#39;slideshow&#39;</span>, {})\n",
       "    cell<span style=\"color: #666666\">.</span>metadata[<span style=\"color: #BA2121\">&#39;slideshow&#39;</span>]<span style=\"color: #666666\">.</span>update(slide_type<span style=\"color: #666666\">=</span>cell<span style=\"color: #666666\">.</span>metadata[<span style=\"color: #BA2121\">&#39;slideshow&#39;</span>]<span style=\"color: #666666\">.</span>get(\n",
       "        <span style=\"color: #BA2121\">&#39;slide_type&#39;</span>, <span style=\"color: #008000\">type</span>\n",
       "    ))\n",
       "    <span style=\"color: #008000; font-weight: bold\">return</span> cell\n",
       "</pre></div>\n"
      ],
      "text/plain": [
       "<IPython.core.display.HTML object>"
      ]
     },
     "metadata": {},
     "output_type": "display_data"
    }
   ],
   "source": [
    "### Slide show metadata.\n",
    "\n",
    "`nbconvert.SlidesExporter` uses cell metadata to create `\"slide subslide fragment\"` `\"slide_type\"`s.\n",
    "\n",
    "    def add_slide_metadata(cell):\n",
    "`add_slide_metadata` adds `\"slideshow\"` data to a __cell__ using the headers and horizontal rules as delimiters.\n",
    "\n",
    "        source = ''.join(cell['source'])\n",
    "        type = F\"fragment slide slide subslide fragment fragment fragment\".split(\n",
    "        )[max(get_levels(source) or [0])]\n",
    "`\"slideshow\"` is a keyword specific to the `nbconvert.SlidesExporter`, we only update the metadata \n",
    "if the keywords don't exist.\n",
    "\n",
    "        cell.metadata['slideshow'] = cell.metadata.get('slideshow', {})\n",
    "        cell.metadata['slideshow'].update(slide_type=cell.metadata['slideshow'].get(\n",
    "            'slide_type', type\n",
    "        ))\n",
    "        return cell"
   ]
  },
  {
   "cell_type": "code",
   "execution_count": 11,
   "metadata": {},
   "outputs": [
    {
     "data": {
      "text/html": [
       "<h3>Extracting a table of contents with <span class=\"highlight\" style=\"background: #f8f8f8\"><code style=\"line-height: 125%\"><span></span>mistune\n",
       "</code></span></h3>\n",
       "<div class=\"highlight\" style=\"background: #f8f8f8\"><pre style=\"line-height: 125%\"><span></span><span style=\"color: #008000; font-weight: bold\">import</span> <span style=\"color: #0000FF; font-weight: bold\">mistune</span><span style=\"color: #666666\">,</span> <span style=\"color: #0000FF; font-weight: bold\">slugify</span>\n",
       "<span style=\"color: #008000; font-weight: bold\">class</span> <span style=\"color: #0000FF; font-weight: bold\">HeadingRenderer</span>(mistune<span style=\"color: #666666\">.</span>Renderer):\n",
       "    levels <span style=\"color: #666666\">=</span> <span style=\"color: #008000\">None</span>\n",
       "    <span style=\"color: #008000; font-weight: bold\">def</span> <span style=\"color: #0000FF\">header</span>(<span style=\"color: #008000\">self</span>, text, level, raw<span style=\"color: #666666\">=</span><span style=\"color: #008000\">None</span>):\n",
       "        <span style=\"color: #008000\">self</span><span style=\"color: #666666\">.</span>levels <span style=\"color: #666666\">=</span> (<span style=\"color: #008000\">self</span><span style=\"color: #666666\">.</span>levels <span style=\"color: #AA22FF; font-weight: bold\">or</span> <span style=\"color: #008000\">set</span>())\n",
       "        <span style=\"color: #008000\">self</span><span style=\"color: #666666\">.</span>levels<span style=\"color: #666666\">.</span>add(level)\n",
       "        <span style=\"color: #008000; font-weight: bold\">return</span> text\n",
       "</pre></div>\n"
      ],
      "text/plain": [
       "<IPython.core.display.HTML object>"
      ]
     },
     "metadata": {},
     "output_type": "display_data"
    }
   ],
   "source": [
    "### Extracting a table of contents with `mistune`\n",
    "\n",
    "    import mistune, slugify\n",
    "    class HeadingRenderer(mistune.Renderer):\n",
    "        levels = None\n",
    "        def header(self, text, level, raw=None):\n",
    "            self.levels = (self.levels or set())\n",
    "            self.levels.add(level)\n",
    "            return text"
   ]
  },
  {
   "cell_type": "code",
   "execution_count": 12,
   "metadata": {},
   "outputs": [
    {
     "data": {
      "text/html": [
       "<div class=\"highlight\" style=\"background: #f8f8f8\"><pre style=\"line-height: 125%\"><span></span><span style=\"color: #008000; font-weight: bold\">def</span> <span style=\"color: #0000FF\">get_levels</span>(text):\n",
       "</pre></div>\n",
       "<pre><code>&gt;&gt;&gt; get_levels(\"# asdf\\\\n## asdfadf\")\n",
       "{1}\n",
       "</code></pre>\n",
       "<div class=\"highlight\" style=\"background: #f8f8f8\"><pre style=\"line-height: 125%\"><span></span>renderer <span style=\"color: #666666\">=</span> HeadingRenderer()\n",
       "    mistune<span style=\"color: #666666\">.</span>Markdown(renderer<span style=\"color: #666666\">=</span>renderer)<span style=\"color: #666666\">.</span>render(text)\n",
       "\n",
       "    <span style=\"color: #008000; font-weight: bold\">return</span> renderer<span style=\"color: #666666\">.</span>levels\n",
       "</pre></div>\n"
      ],
      "text/plain": [
       "<IPython.core.display.HTML object>"
      ]
     },
     "metadata": {},
     "output_type": "display_data"
    }
   ],
   "source": [
    "    def get_levels(text):\n",
    ">>> get_levels(\"# asdf\\\\n## asdfadf\")\n",
    "{1}\n",
    "\n",
    "        renderer = HeadingRenderer()\n",
    "        mistune.Markdown(renderer=renderer).render(text)\n",
    "\n",
    "        return renderer.levels"
   ]
  },
  {
   "cell_type": "code",
   "execution_count": 13,
   "metadata": {},
   "outputs": [
    {
     "data": {
      "text/html": [
       "<h3>Adding the metadata</h3>\n",
       "<p>Take image of the metadata.</p>\n",
       "<div class=\"highlight\" style=\"background: #f8f8f8\"><pre style=\"line-height: 125%\"><span></span><span style=\"color: #008000; font-weight: bold\">def</span> <span style=\"color: #0000FF\">add_slide_data</span>(cell):\n",
       "    source <span style=\"color: #666666\">=</span> <span style=\"color: #BA2121\">&#39;&#39;</span><span style=\"color: #666666\">.</span>join(cell[<span style=\"color: #BA2121\">&#39;source&#39;</span>])\n",
       "    <span style=\"color: #008000\">type</span> <span style=\"color: #666666\">=</span> <span style=\"color: #BA2121\">&quot;fragment slide slide subslide fragment fragment fragment&quot;</span><span style=\"color: #666666\">.</span>split(\n",
       "    )[<span style=\"color: #008000\">max</span>(get_levels(source) <span style=\"color: #AA22FF; font-weight: bold\">or</span> [<span style=\"color: #666666\">0</span>])]\n",
       "    cell<span style=\"color: #666666\">.</span>metadata[<span style=\"color: #BA2121\">&#39;slideshow&#39;</span>] <span style=\"color: #666666\">=</span> cell<span style=\"color: #666666\">.</span>metadata<span style=\"color: #666666\">.</span>get(<span style=\"color: #BA2121\">&#39;slideshow&#39;</span>, {})\n",
       "    cell<span style=\"color: #666666\">.</span>metadata[<span style=\"color: #BA2121\">&#39;slideshow&#39;</span>]<span style=\"color: #666666\">.</span>update(slide_type<span style=\"color: #666666\">=</span>cell<span style=\"color: #666666\">.</span>metadata[<span style=\"color: #BA2121\">&#39;slideshow&#39;</span>]<span style=\"color: #666666\">.</span>get(<span style=\"color: #BA2121\">&#39;slide_type&#39;</span>, <span style=\"color: #008000\">type</span>))\n",
       "    <span style=\"color: #008000; font-weight: bold\">return</span> cell\n",
       "</pre></div>\n"
      ],
      "text/plain": [
       "<IPython.core.display.HTML object>"
      ]
     },
     "metadata": {},
     "output_type": "display_data"
    }
   ],
   "source": [
    "### Adding the metadata\n",
    "\n",
    "Take image of the metadata.\n",
    "\n",
    "    def add_slide_data(cell):\n",
    "        source = ''.join(cell['source'])\n",
    "        type = \"fragment slide slide subslide fragment fragment fragment\".split(\n",
    "        )[max(get_levels(source) or [0])]\n",
    "        cell.metadata['slideshow'] = cell.metadata.get('slideshow', {})\n",
    "        cell.metadata['slideshow'].update(slide_type=cell.metadata['slideshow'].get('slide_type', type))\n",
    "        return cell"
   ]
  },
  {
   "cell_type": "code",
   "execution_count": 14,
   "metadata": {},
   "outputs": [
    {
     "data": {
      "text/html": [
       "<div class=\"highlight\" style=\"background: #f8f8f8\"><pre style=\"line-height: 125%\"><span></span><span style=\"color: #008000; font-weight: bold\">class</span> <span style=\"color: #0000FF; font-weight: bold\">AutomaticallyPresent</span>(nbconvert<span style=\"color: #666666\">.</span>preprocessors<span style=\"color: #666666\">.</span>Preprocessor):\n",
       "</pre></div>\n",
       "<h3>An <span class=\"highlight\" style=\"background: #f8f8f8\"><code style=\"line-height: 125%\"><span></span>nbconvert<span style=\"color: #666666\">.</span>codeprocessors<span style=\"color: #666666\">.</span>Preprocessor\n",
       "</code></span></h3>\n",
       "<div class=\"highlight\" style=\"background: #f8f8f8\"><pre style=\"line-height: 125%\"><span></span><span style=\"color: #008000; font-weight: bold\">def</span> <span style=\"color: #0000FF\">preprocess_cell</span>(<span style=\"color: #008000\">self</span>, cell, resources, index):\n",
       "        <span style=\"color: #008000; font-weight: bold\">if</span> <span style=\"color: #BA2121\">&#39;source&#39;</span> <span style=\"color: #AA22FF; font-weight: bold\">not</span> <span style=\"color: #AA22FF; font-weight: bold\">in</span> cell: <span style=\"color: #008000; font-weight: bold\">return</span> cell, resources\n",
       "\n",
       "        <span style=\"color: #008000; font-weight: bold\">if</span> cell[<span style=\"color: #BA2121\">&#39;cell_type&#39;</span>] <span style=\"color: #666666\">==</span> <span style=\"color: #BA2121\">&#39;code&#39;</span>:\n",
       "            <span style=\"color: #008000\">self</span><span style=\"color: #666666\">.</span>is_pidgin <span style=\"color: #666666\">=</span> <span style=\"color: #008000\">self</span><span style=\"color: #666666\">.</span>is_pidgin <span style=\"color: #AA22FF; font-weight: bold\">or</span> (\n",
       "                <span style=\"color: #BA2121\">&#39;load_ext pidgin&#39;</span> <span style=\"color: #AA22FF; font-weight: bold\">in</span> <span style=\"color: #BA2121\">&#39;&#39;</span><span style=\"color: #666666\">.</span>join(cell[<span style=\"color: #BA2121\">&#39;source&#39;</span>]))\n",
       "\n",
       "        <span style=\"color: #008000; font-weight: bold\">if</span> cell[<span style=\"color: #BA2121\">&#39;cell_type&#39;</span>] <span style=\"color: #AA22FF; font-weight: bold\">in</span> ([<span style=\"color: #BA2121\">&#39;markdown&#39;</span>] <span style=\"color: #666666\">+</span> (\n",
       "            <span style=\"color: #008000\">self</span><span style=\"color: #666666\">.</span>is_pidgin <span style=\"color: #AA22FF; font-weight: bold\">and</span> [<span style=\"color: #BA2121\">&#39;code&#39;</span>] <span style=\"color: #AA22FF; font-weight: bold\">or</span> []\n",
       "        )):\n",
       "            <span style=\"color: #008000; font-weight: bold\">if</span> (cell[<span style=\"color: #BA2121\">&#39;cell_type&#39;</span>] <span style=\"color: #666666\">==</span> <span style=\"color: #BA2121\">&#39;markdown&#39;</span>) <span style=\"color: #AA22FF; font-weight: bold\">or</span> (<span style=\"color: #BA2121\">&#39;outputs&#39;</span> <span style=\"color: #AA22FF; font-weight: bold\">in</span> cell) <span style=\"color: #AA22FF; font-weight: bold\">and</span> cell[<span style=\"color: #BA2121\">&#39;outputs&#39;</span>]:\n",
       "                cell <span style=\"color: #666666\">=</span> add_slide_data(cell)\n",
       "\n",
       "        <span style=\"color: #008000; font-weight: bold\">return</span> cell, resources\n",
       "\n",
       "    <span style=\"color: #008000; font-weight: bold\">def</span> <span style=\"color: #0000FF\">preprocess</span>(<span style=\"color: #008000\">self</span>, nb, resources):\n",
       "        <span style=\"color: #008000\">self</span><span style=\"color: #666666\">.</span>last_heading <span style=\"color: #666666\">=</span> <span style=\"color: #008000\">None</span>\n",
       "        <span style=\"color: #008000\">self</span><span style=\"color: #666666\">.</span>is_pidgin <span style=\"color: #666666\">=</span> <span style=\"color: #008000\">False</span>\n",
       "        <span style=\"color: #008000; font-weight: bold\">while</span> nb<span style=\"color: #666666\">.</span>cells <span style=\"color: #AA22FF; font-weight: bold\">and</span> (\n",
       "            <span style=\"color: #AA22FF; font-weight: bold\">not</span> (nb<span style=\"color: #666666\">.</span>cells[<span style=\"color: #666666\">-1</span>]<span style=\"color: #666666\">.</span>source <span style=\"color: #AA22FF; font-weight: bold\">or</span> nb<span style=\"color: #666666\">.</span>cells[<span style=\"color: #666666\">-1</span>]<span style=\"color: #666666\">.</span>outputs)\n",
       "        ): nb<span style=\"color: #666666\">.</span>cells<span style=\"color: #666666\">.</span>pop()\n",
       "        <span style=\"color: #008000; font-weight: bold\">if</span> nb<span style=\"color: #666666\">.</span>cells <span style=\"color: #AA22FF; font-weight: bold\">and</span> nb<span style=\"color: #666666\">.</span>cells[<span style=\"color: #666666\">-1</span>][<span style=\"color: #BA2121\">&#39;cell_type&#39;</span>] <span style=\"color: #666666\">==</span> <span style=\"color: #BA2121\">&#39;raw&#39;</span>:\n",
       "            nb<span style=\"color: #666666\">.</span>metadata<span style=\"color: #666666\">.</span>merge(<span style=\"color: #008000\">__import__</span>(<span style=\"color: #BA2121\">&#39;yaml&#39;</span>)<span style=\"color: #666666\">.</span>safe_load(<span style=\"color: #008000\">__import__</span>(<span style=\"color: #BA2121\">&#39;io&#39;</span>)<span style=\"color: #666666\">.</span>StringIO(<span style=\"color: #BA2121\">&#39;&#39;</span><span style=\"color: #666666\">.</span>join(nb<span style=\"color: #666666\">.</span>cells<span style=\"color: #666666\">.</span>pop()[<span style=\"color: #BA2121\">&#39;source&#39;</span>]))))\n",
       "\n",
       "        nb, resources <span style=\"color: #666666\">=</span> <span style=\"color: #008000\">super</span>()<span style=\"color: #666666\">.</span>preprocess(nb, resources)\n",
       "        <span style=\"color: #008000; font-weight: bold\">return</span> nbconvert<span style=\"color: #666666\">.</span>exporters<span style=\"color: #666666\">.</span>slides<span style=\"color: #666666\">.</span>prepare(nb), resources\n",
       "</pre></div>\n"
      ],
      "text/plain": [
       "<IPython.core.display.HTML object>"
      ]
     },
     "metadata": {},
     "output_type": "display_data"
    }
   ],
   "source": [
    "    class AutomaticallyPresent(nbconvert.preprocessors.Preprocessor):\n",
    "### An `nbconvert.preprocessors.Preprocessor`\n",
    "    \n",
    "    \n",
    "\n",
    "        def preprocess_cell(self, cell, resources, index):\n",
    "            if 'source' not in cell: return cell, resources\n",
    "            \n",
    "            if cell['cell_type'] == 'code':\n",
    "                self.is_pidgin = self.is_pidgin or (\n",
    "                    'load_ext pidgin' in ''.join(cell['source']))\n",
    "               \n",
    "            if cell['cell_type'] in (['markdown'] + (\n",
    "                self.is_pidgin and ['code'] or []\n",
    "            )):\n",
    "                if (cell['cell_type'] == 'markdown') or ('outputs' in cell) and cell['outputs']:\n",
    "                    cell = add_slide_data(cell)\n",
    "                \n",
    "            return cell, resources\n",
    "        \n",
    "        def preprocess(self, nb, resources):\n",
    "            self.last_heading = None\n",
    "            self.is_pidgin = False\n",
    "            while nb.cells and (\n",
    "                not (nb.cells[-1].source or nb.cells[-1].outputs)\n",
    "            ): nb.cells.pop()\n",
    "            if nb.cells and nb.cells[-1]['cell_type'] == 'raw':\n",
    "                nb.metadata.merge(__import__('yaml').safe_load(__import__('io').StringIO(''.join(nb.cells.pop()['source']))))\n",
    "                \n",
    "            nb, resources = super().preprocess(nb, resources)\n",
    "            return nbconvert.exporters.slides.prepare(nb), resources\n"
   ]
  },
  {
   "cell_type": "markdown",
   "metadata": {},
   "source": [
    "## Automatically adding the metadata."
   ]
  },
  {
   "cell_type": "code",
   "execution_count": 15,
   "metadata": {},
   "outputs": [],
   "source": [
    "    mod_css = lambda str: str.replace(\"\"\"                .css('height', 'calc(95vh)')\n",
    "                    .css('overflow-y', 'scroll')\n",
    "                    .css('margin-top', '20px');\"\"\",\n",
    "    \"\"\"                .css('height', 'calc(100vh)')\n",
    "                .css('overflow-y', 'scroll')\n",
    "                .css('margin-top', '0px');\"\"\")"
   ]
  },
  {
   "cell_type": "code",
   "execution_count": 16,
   "metadata": {},
   "outputs": [],
   "source": [
    "    def present(filename, **dict):\n",
    "        import vdom.svg\n",
    "        exporter = nbconvert.SlidesExporter(\n",
    "            preprocessors=[AutomaticallyPresent()],\n",
    "            reveal_scroll=True, exclude_output_prompt=True, exclude_raw=True,\n",
    "            exclude_input=True, **dict\n",
    "        )\n",
    "        template = exporter.environment.loader.loaders[0].get_source(exporter.environment, 'slides_reveal')[0]\n",
    "        lead, sep, template = template.partition('<section')\n",
    "        sep += \"\"\" \\{\\% for key, value in nb.metadata.get('dataset', {}).items()%}data-\\{\\{key}}=\"\\{\\{value}}\" {\\% endfor %}\"\"\"\n",
    "        template = template.replace(\"\"\"<section\"\"\", \"\"\"<section\"\"\" + \"\"\" {\\% for key, value in cell.metadata.get('dataset', {}).items()%}data-{\\{key}}=\"{\\{value}}\" {\\% endfor %}\"\"\")\n",
    "        template = lead + sep + template\n",
    "        template = template.replace('controls: true,', '''width: \"100%\", height: \"100%\", margin: 0, controls: true, slideNumber: true, center: false, loop: true, backgroundTransition: 'slide', width: '100%', ''')\n",
    "        template = mod_css(template)\n",
    "        template = template.replace('</body>', '</body><style>li code, p code {display: contents;}</style>')\n",
    "        template = template.replace(\n",
    "            \"\"\"Reveal.addEventListener('slidechanged', setScrollingSlide);\"\"\",\n",
    "            \"\"\"Reveal.addEventListener('slidechanged', setScrollingSlide);\n",
    "            $('.slide-number').click(function(){Reveal.toggleOverview();});\n",
    "\n",
    "            \"\"\")\n",
    "        exporter._template_cached = exporter.environment.from_string(template)\n",
    "        return vdom.svg.iframe(\n",
    "            srcdoc=exporter.from_filename(filename)[0],\n",
    "            width=\"100%\", height=\"500px\",\n",
    "            **{\"class\": \"pdg-Frame\"}\n",
    "        )._repr_html_()"
   ]
  },
  {
   "cell_type": "raw",
   "metadata": {},
   "source": [
    "dataset:\n",
    "    background-color: green"
   ]
  },
  {
   "cell_type": "code",
   "execution_count": null,
   "metadata": {},
   "outputs": [],
   "source": []
  }
 ],
 "metadata": {
  "kernelspec": {
   "display_name": "p6",
   "language": "python",
   "name": "other-env"
  },
  "language_info": {
   "codemirror_mode": {
    "name": "ipython",
    "version": 3
   },
   "file_extension": ".py",
   "mimetype": "text/x-python",
   "name": "python",
   "nbconvert_exporter": "python",
   "pygments_lexer": "ipython3",
   "version": "3.6.8"
  }
 },
 "nbformat": 4,
 "nbformat_minor": 4
}
