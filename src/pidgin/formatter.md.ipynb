{
 "cells": [
  {
   "cell_type": "code",
   "execution_count": null,
   "metadata": {},
   "outputs": [],
   "source": [
    "    import ast, abc, jinja2, sys, nbconvert, nbformat, contextlib, emoji, collections, IPython, mistune, doctest, re, traitlets, textwrap, types, typing as t, importlib, importnb,  jinja2, builtins, jsonschema\n",
    "    with __import__('importnb').Notebook():\n",
    "        try:\n",
    "            from . import tangle\n",
    "        except:\n",
    "            from pidgin import tangle, specification\n",
    "            \n",
    "    with tangle.Pidgin(): \n",
    "        try:\n",
    "            from . import shell, formatter\n",
    "        except:\n",
    "            from pidgin import shell, formatter\n",
    "    try:\n",
    "        from . import specification\n",
    "    except:\n",
    "        from pidgin import specification\n"
   ]
  },
  {
   "cell_type": "code",
   "execution_count": null,
   "metadata": {},
   "outputs": [],
   "source": [
    "    import string"
   ]
  },
  {
   "cell_type": "code",
   "execution_count": null,
   "metadata": {},
   "outputs": [],
   "source": [
    "    class BaseFormatter(shell.Shell, IPython.core.formatters.BaseFormatter):\n",
    "        special_formatters = traitlets.Tuple()                   \n",
    "        def init_display_formatter(Formatter):\n",
    "            IPython.core.formatters.BaseFormatter.__init__(Formatter, **Formatter.parent.display_formatter._trait_values)\n",
    "            for object in  Formatter.special_formatters: \n",
    "                if len(object) == 2:\n",
    "                    Formatter.for_type(*object)\n",
    "                if len(object) == 2:\n",
    "                    Formatter.for_type_by_name(*object)\n",
    "\n",
    "        def run_cell(Formatter, text, *args, **kwargs): \n",
    "            object = Formatter.format(text)\n",
    "            if Formatter.publish(text):\n",
    "                Formatter.parent.display_pub.publish(*object, transient={'raw': True})\n",
    "                \n",
    "        def publish(Formatter, str) -> bool: return True"
   ]
  },
  {
   "cell_type": "code",
   "execution_count": null,
   "metadata": {},
   "outputs": [],
   "source": [
    "    class Formatter(BaseFormatter, IPython.core.formatters.DisplayFormatter):\n",
    "        def init_display_formatter(Formatter):\n",
    "            IPython.core.formatters.DisplayFormatter.__init__(Formatter, **Formatter.parent.display_formatter._trait_values)\n",
    "            for object in  Formatter.special_formatters: \n",
    "                if len(object) == 2:\n",
    "                    Formatter.mimebundle_formatter.for_type(*object)\n",
    "                if len(object) == 2:\n",
    "                    Formatter.mimebundle_formatter.for_type_by_name(*object)\n",
    "\n",
    "            Formatter.display_formatter = Formatter\n",
    "\n",
    "\n",
    "        def format(Formatter, object, include=None, exclude=None):\n",
    "            if isinstance(object, str):\n",
    "                object = Formatter.render(object)\n",
    "            if isinstance(object, tuple) and len(object)==2:\n",
    "                data, metadata = object\n",
    "            else:\n",
    "                data, metadata = super().format(object, include=include, exclude=exclude)\n",
    "            return data, metadata\n",
    "        \n",
    "        def render(self, text): return text\n",
    "        \n",
    "        def publish(Formatter, str) -> bool:\n",
    "            return bool(str.partition('\\n')[0].strip()) and not str.startswith('//')            "
   ]
  },
  {
   "cell_type": "code",
   "execution_count": null,
   "metadata": {},
   "outputs": [],
   "source": [
    "    class Dollar(Formatter):\n",
    "        def render(Dollar, text):\n",
    "            return string.Template(text).safe_substitute(**{**vars(builtins), **Dollar.user_ns})"
   ]
  },
  {
   "cell_type": "code",
   "execution_count": null,
   "metadata": {},
   "outputs": [],
   "source": [
    "    if __name__ == '__main__':\n",
    "        %reload_ext pidgin"
   ]
  }
 ],
 "metadata": {
  "kernelspec": {
   "display_name": "p6",
   "language": "python",
   "name": "p6"
  },
  "language_info": {
   "codemirror_mode": {
    "name": "ipython",
    "version": 3
   },
   "file_extension": ".py",
   "mimetype": "text/x-python",
   "name": "python",
   "nbconvert_exporter": "python",
   "pygments_lexer": "ipython3",
   "version": "3.6.8"
  }
 },
 "nbformat": 4,
 "nbformat_minor": 2
}
