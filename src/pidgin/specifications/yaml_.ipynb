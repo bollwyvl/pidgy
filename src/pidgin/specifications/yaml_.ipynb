{
 "cells": [
  {
   "cell_type": "code",
   "execution_count": 1,
   "metadata": {},
   "outputs": [],
   "source": [
    "    if __name__ == '__main__':\n",
    "        %reload_ext pidgin"
   ]
  },
  {
   "cell_type": "code",
   "execution_count": 2,
   "metadata": {},
   "outputs": [],
   "source": [
    "    import ast, builtins, IPython, typing as t"
   ]
  },
  {
   "cell_type": "code",
   "execution_count": 3,
   "metadata": {},
   "outputs": [],
   "source": [
    "    NODE = ast.Name.__mro__[-2]"
   ]
  },
  {
   "cell_type": "code",
   "execution_count": 4,
   "metadata": {},
   "outputs": [],
   "source": [
    "    class FrontMatter:\n",
    "        def front_matter(Weave, str) -> t.Tuple[str, t.Dict]: \n",
    "            if str.startswith('---'):\n",
    "                if '\\n---' in str:\n",
    "                    data, sep, body = str.lstrip('---').partition('---\\n')\n",
    "                    data = __import__('yaml').safe_load(__import__('io').StringIO(\n",
    "                        Weave.environment.from_string(data).render({**vars(builtins), **Weave.user_ns})))\n",
    "                    if isinstance(data, dict): return body, data\n",
    "            return str, {}"
   ]
  },
  {
   "cell_type": "code",
   "execution_count": 5,
   "metadata": {},
   "outputs": [],
   "source": [
    "    class Yaml(ast.NodeTransformer):\n",
    "        def visit_Str(Emojize, node: NODE) -> NODE:\n",
    "            if ':' in node.s:\n",
    "                if node.s.lstrip().startswith('---') and '\\n' in node.s:\n",
    "                    e = ast.parse(\"\"\"next(__import__('yaml').safe_load_all(__import__('io').StringIO()))\"\"\").body[0].value\n",
    "                    e.args[0].args[0].args = [node]\n",
    "                    return e\n",
    "            return node"
   ]
  },
  {
   "cell_type": "code",
   "execution_count": 6,
   "metadata": {},
   "outputs": [],
   "source": [
    "    def load_ipython_extension(shell: IPython.InteractiveShell):\n",
    "        shell.ast_transformers.insert(0, Yaml())"
   ]
  },
  {
   "cell_type": "code",
   "execution_count": 7,
   "metadata": {},
   "outputs": [],
   "source": [
    "    def unload_ipython_extension(shell: IPython.InteractiveShell):\n",
    "        for i, object in enumerate(shell.ast_transformers):\n",
    "            if isinstance(object, Yaml): shell.ast_transformers.pop(i); break"
   ]
  }
 ],
 "metadata": {
  "kernelspec": {
   "display_name": "p6",
   "language": "python",
   "name": "other-env"
  },
  "language_info": {
   "codemirror_mode": {
    "name": "ipython",
    "version": 3
   },
   "file_extension": ".py",
   "mimetype": "text/x-python",
   "name": "python",
   "nbconvert_exporter": "python",
   "pygments_lexer": "ipython3",
   "version": "3.6.8"
  }
 },
 "nbformat": 4,
 "nbformat_minor": 2
}
