{
 "cells": [
  {
   "cell_type": "code",
   "execution_count": 1,
   "metadata": {},
   "outputs": [],
   "source": [
    "    if __name__ == '__main__':\n",
    "        %reload_ext pidgin\n",
    "        from pidgin.docs.references import *"
   ]
  },
  {
   "cell_type": "code",
   "execution_count": 2,
   "metadata": {},
   "outputs": [],
   "source": [
    "     DELIMITER = '___'"
   ]
  },
  {
   "cell_type": "code",
   "execution_count": 3,
   "metadata": {},
   "outputs": [],
   "source": [
    "    import emoji, ast, collections, re, IPython"
   ]
  },
  {
   "cell_type": "code",
   "execution_count": 4,
   "metadata": {},
   "outputs": [],
   "source": [
    "    def emojize(str):\n",
    "        return emoji.emojize(str, delimiters=(DELIMITER, DELIMITER))"
   ]
  },
  {
   "cell_type": "code",
   "execution_count": 5,
   "metadata": {},
   "outputs": [],
   "source": [
    "    class Emojize(ast.NodeTransformer):\n",
    "        def visit_Str(Emojize, node):\n",
    "            if DELIMITER in node.s:\n",
    "                node.s = emojize(node.s)\n",
    "            return node"
   ]
  },
  {
   "cell_type": "code",
   "execution_count": 6,
   "metadata": {},
   "outputs": [],
   "source": [
    "    def event(shell, event):\n",
    "        if DELIMITER in event.symbol:\n",
    "            prior, sep, end = event.symbol.rpartition(DELIMITER)\n",
    "            if end:\n",
    "                end = F\":{end}\"\n",
    "                \n",
    "                return [\n",
    "                    F\"{DELIMITER}{str[1:-1]}{DELIMITER}\" for str in emoji.EMOJI_UNICODE if str[:len(end)] == end\n",
    "                ] +  [\n",
    "                    str for str in shell.user_ns if str[0]==str[-1]==DELIMITER and str[:len(end)] == end\n",
    "                ]\n",
    "            return list(emoji.EMOJI_UNICODE)\n",
    "        return []"
   ]
  },
  {
   "cell_type": "code",
   "execution_count": 7,
   "metadata": {},
   "outputs": [],
   "source": [
    "    def load_ipython_extension(shell):\n",
    "        shell.ast_transformers.insert(0, Emojize())\n",
    "        shell.set_hook('complete_command', event, re_key=F\".*({DELIMITER}\\S*)\")"
   ]
  },
  {
   "cell_type": "code",
   "execution_count": 8,
   "metadata": {},
   "outputs": [],
   "source": [
    "    def unload_ipython_extension(shell):\n",
    "        ..."
   ]
  }
 ],
 "metadata": {
  "kernelspec": {
   "display_name": "p6",
   "language": "python",
   "name": "other-env"
  },
  "language_info": {
   "codemirror_mode": {
    "name": "ipython",
    "version": 3
   },
   "file_extension": ".py",
   "mimetype": "text/x-python",
   "name": "python",
   "nbconvert_exporter": "python",
   "pygments_lexer": "ipython3",
   "version": "3.6.8"
  }
 },
 "nbformat": 4,
 "nbformat_minor": 2
}
