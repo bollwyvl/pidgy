{
 "cells": [
  {
   "cell_type": "code",
   "execution_count": 1,
   "metadata": {},
   "outputs": [],
   "source": [
    "    if __name__ == '__main__': \n",
    "        %reload_ext pidgin"
   ]
  },
  {
   "cell_type": "code",
   "execution_count": 2,
   "metadata": {},
   "outputs": [],
   "source": [
    "    from pidgin import shell, specifications\n",
    "    import builtins, string, jinja2, nbconvert, IPython, textwrap, typing as t"
   ]
  },
  {
   "cell_type": "code",
   "execution_count": null,
   "metadata": {},
   "outputs": [],
   "source": [
    "    regex = \".*\\{\\{.* |.*\\}\\}.*\""
   ]
  },
  {
   "cell_type": "code",
   "execution_count": 3,
   "metadata": {},
   "outputs": [],
   "source": [
    "    class Template(nbconvert.exporters.TemplateExporter, IPython.core.formatters.DisplayFormatter, shell.Shell):\n",
    "        def __init__(Template, *args, **kwargs):\n",
    "            nbconvert.exporters.TemplateExporter.__init__(Template, *args, **kwargs)\n",
    "            IPython.core.formatters.DisplayFormatter.__init__(Template, *args, **kwargs)\n",
    "            shell.Shell.__init__(Template, *args, **kwargs)\n",
    "            Template._create_environment()\n",
    "            \n",
    "        def init_display_formatter(Template):\n",
    "            super().init_display_formatter()\n",
    "            for object in  (\n",
    "                ('matplotlib.figure', 'Axes', show_axes),\n",
    "                ('matplotlib.figure', 'Figure', show_axes),\n",
    "                ('matplotlib.axes._subplots', 'AxesSubplot', show_axes),\n",
    "                ('sympy.plotting.plot', 'Plot', show_sympy_axes),\n",
    "            ): Template.display_formatter.mimebundle_formatter.for_type_by_name(*object)  \n",
    "                \n",
    "        def format(Template, *args, **kwargs):\n",
    "            data, metadata = Template.parent.display_formatter.format(*args, **kwargs)\n",
    "            _data, _metadata = super().display_formatter.format(*args, **kwargs)\n",
    "            return {**data, **_data}, {**_metadata, **metadata}\n",
    "        \n",
    "        def default_filters(Template):\n",
    "            yield from specifications.colors.filters.items()\n",
    "            yield from super().default_filters()\n",
    "            \n",
    "        def _create_environment(Template):\n",
    "            environment = super()._create_environment()\n",
    "            environment.undefined = jinja2.StrictUndefined\n",
    "            environment.finalize = Template.finalize\n",
    "            return environment\n",
    "        \n",
    "        def render(Template, object, **kwargs):\n",
    "            ns = {**vars(builtins), **Template.user_ns, **kwargs}\n",
    "            Template.environment.filters = {**{k: v for k, v in ns.items() if callable(v)}, **Template.environment.filters}\n",
    "            object = string.Template(object).safe_substitute(ns)\n",
    "            return Template.environment.from_string(object).render(**ns)\n",
    "        \n",
    "        def finalize(Template, object) -> str:\n",
    "            if isinstance(object, str): \n",
    "                object = Template.user_ns.get(object, object)\n",
    "            bundle, metadata = Template.format(object)\n",
    "            for type in [str for str in reversed(Template.active_types) if str != 'text/plain']:\n",
    "                if type in bundle: \n",
    "                    object = bundle[type]\n",
    "                    if type.startswith('image') and ('svg' not in type): \n",
    "                        object = format_images(type, bundle)\n",
    "                    if type == 'text/latex': \n",
    "                        if object.startswith('$$') and object.endswith('$$'): object = object[1:-1]\n",
    "                    break\n",
    "            return object\n"
   ]
  },
  {
   "cell_type": "code",
   "execution_count": 4,
   "metadata": {},
   "outputs": [
    {
     "data": {
      "text/html": [
       "<pre><code>def show_axes(object):\n",
       "</code></pre>\n",
       "<pre><code>&gt;&gt;&gt; %matplotlib agg\n",
       "</code></pre>\n",
       "<pre><code>&gt;&gt;&gt; import pandas\n",
       "</code></pre>\n",
       "<pre><code>&gt;&gt;&gt; with IPython.utils.capture.capture_output() as out:\n",
       "...     get_ipython().weave.run_cell(\"{\"+\"{pandas.DataFrame([1]).plot()}}\")\n",
       "</code></pre>\n",
       "<pre><code>&gt;&gt;&gt; out.outputs[0].data\n",
       "{'text/plain': '&lt;IPython.core.display.HTML object&gt;', 'text/html': '&lt;p&gt;&lt;img src=\"data:image/png;base64,...\"/&gt;&lt;/p&gt;\\n'}\n",
       "</code></pre>\n",
       "<pre><code>    import matplotlib.backends.backend_svg\n",
       "    bytes = __import__('io').BytesIO()\n",
       "    matplotlib.backends.backend_agg.FigureCanvasAgg(getattr(object, 'figure', object)).print_png(bytes)\n",
       "    return format_bytes(bytes.getvalue(), object)\n",
       "</code></pre>\n"
      ],
      "text/plain": [
       "<IPython.core.display.HTML object>"
      ]
     },
     "metadata": {},
     "output_type": "display_data"
    }
   ],
   "source": [
    "    def show_axes(object):\n",
    ">>> %matplotlib agg\n",
    ">>> import pandas\n",
    ">>> with IPython.utils.capture.capture_output() as out:\n",
    "...     get_ipython().weave.run_cell(\"{\"+\"{pandas.DataFrame([1]).plot()}}\")\n",
    ">>> out.outputs[0].data\n",
    "{'text/plain': '<IPython.core.display.HTML object>', 'text/html': '<p><img src=\"data:image/png;base64,...\"/></p>\\n'}\n",
    "\n",
    "        import matplotlib.backends.backend_svg\n",
    "        bytes = __import__('io').BytesIO()\n",
    "        matplotlib.backends.backend_agg.FigureCanvasAgg(getattr(object, 'figure', object)).print_png(bytes)\n",
    "        return format_bytes(bytes.getvalue(), object)"
   ]
  },
  {
   "cell_type": "code",
   "execution_count": 5,
   "metadata": {},
   "outputs": [
    {
     "data": {
      "text/html": [
       "<pre><code>def show_sympy_axes(object): \n",
       "</code></pre>\n",
       "<pre><code>&gt;&gt;&gt; import sympy\n",
       "</code></pre>\n",
       "<pre><code>&gt;&gt;&gt; # with IPython.utils.capture.capture_output() as out:\n",
       "... #    get_ipython().weave.run_cell(\"{\"+\"{sympy.plotting.plot(sympy.Symbol('x'), ('x', -10, 10))}}\")\n",
       "</code></pre>\n",
       "<pre><code>&gt;&gt;&gt; # out.outputs[0].data\n",
       "</code></pre>\n",
       "<pre><code>    s = __import__('io').BytesIO()\n",
       "    object.save(s)\n",
       "    return format_bytes(s.getvalue(), object)\n",
       "</code></pre>\n"
      ],
      "text/plain": [
       "<IPython.core.display.HTML object>"
      ]
     },
     "metadata": {},
     "output_type": "display_data"
    }
   ],
   "source": [
    "    def show_sympy_axes(object): \n",
    ">>> import sympy\n",
    ">>> # with IPython.utils.capture.capture_output() as out:\n",
    "... #    get_ipython().weave.run_cell(\"{\"+\"{sympy.plotting.plot(sympy.Symbol('x'), ('x', -10, 10))}}\")\n",
    ">>> # out.outputs[0].data\n",
    "        \n",
    "        s = __import__('io').BytesIO()\n",
    "        object.save(s)\n",
    "        return format_bytes(s.getvalue(), object)"
   ]
  },
  {
   "cell_type": "code",
   "execution_count": 6,
   "metadata": {},
   "outputs": [],
   "source": [
    "    def format_bytes(bytes, object):\n",
    "        return {'text/html': format_images('image/png', {'image/png': bytes}), 'text/plain': repr(object),}, {}"
   ]
  },
  {
   "cell_type": "code",
   "execution_count": 7,
   "metadata": {},
   "outputs": [],
   "source": [
    "    def format_images(type, bundle):\n",
    "        str = bundle[type]        \n",
    "        if isinstance(str, bytes): str = __import__('base64').b64encode(str).decode('utf-8')\n",
    "        if type in ('image/svg+xml', 'text/html'):  ...\n",
    "        elif str.startswith('http'): str = F\"\"\"<img src=\"{str}\"/>\"\"\"\n",
    "        else: str = F\"\"\"<img src=\"data:{type};base64,{str}\"/>\"\"\"\n",
    "        return str"
   ]
  },
  {
   "cell_type": "code",
   "execution_count": 8,
   "metadata": {},
   "outputs": [],
   "source": [
    "    def event(shell, event): return list(shell.template.environment.filters) if hasattr(shell, 'template') else []"
   ]
  },
  {
   "cell_type": "code",
   "execution_count": 9,
   "metadata": {},
   "outputs": [],
   "source": [
    "    def load_ipython_extension(shell: IPython.InteractiveShell):\n",
    "        shell.set_hook('complete_command', event, re_key=regex)"
   ]
  },
  {
   "cell_type": "code",
   "execution_count": 21,
   "metadata": {},
   "outputs": [],
   "source": [
    "    def unload_ipython_extension(shell):\n",
    "        try:\n",
    "            del shell.strdispatchers['complete_command'].regexs[regex]\n",
    "        except KeyError: ..."
   ]
  }
 ],
 "metadata": {
  "kernelspec": {
   "display_name": "p6",
   "language": "python",
   "name": "other-env"
  },
  "language_info": {
   "codemirror_mode": {
    "name": "ipython",
    "version": 3
   },
   "file_extension": ".py",
   "mimetype": "text/x-python",
   "name": "python",
   "nbconvert_exporter": "python",
   "pygments_lexer": "ipython3",
   "version": "3.6.8"
  },
  "nikola": {
   "date": "2018-12-06 12:00:00 UTC",
   "description": "`pidgin.display` is a collection of display rules for IPython objects.  \n\n`StringFormatter` is a class that adds reules for string `object`s.",
   "slug": "display.ipynb",
   "title": "display.ipynb",
   "type": "text"
  }
 },
 "nbformat": 4,
 "nbformat_minor": 2
}
