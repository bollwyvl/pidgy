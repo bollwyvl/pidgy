{
 "cells": [
  {
   "cell_type": "markdown",
   "metadata": {},
   "source": [
    "[`pidgin.weave`](weave.md.ipynb) allows code to be execute with the display function."
   ]
  },
  {
   "cell_type": "code",
   "execution_count": 1,
   "metadata": {},
   "outputs": [],
   "source": [
    "    if __name__ == '__main__': \n",
    "        %reload_ext pidgin\n",
    "        #         from pidgin.references import *"
   ]
  },
  {
   "cell_type": "code",
   "execution_count": 2,
   "metadata": {},
   "outputs": [],
   "source": [
    "    from pidgin import shell"
   ]
  },
  {
   "cell_type": "code",
   "execution_count": 3,
   "metadata": {},
   "outputs": [],
   "source": [
    "    import builtins, ast, jinja2, sys, nbconvert, nbformat, contextlib, collections, IPython, mistune, doctest, yaml, re, traitlets, textwrap, types, typing as t, importlib, importnb,  jinja2, builtins, jsonschema"
   ]
  },
  {
   "cell_type": "code",
   "execution_count": 4,
   "metadata": {},
   "outputs": [],
   "source": [
    "    def flatten(str): return '&#xA;'.join(str.splitlines())"
   ]
  },
  {
   "cell_type": "code",
   "execution_count": 5,
   "metadata": {},
   "outputs": [],
   "source": [
    "    class Template(nbconvert.exporters.TemplateExporter, IPython.core.formatters.DisplayFormatter, shell.Shell):\n",
    "        def __init__(Template, *args, **kwargs):\n",
    "            nbconvert.exporters.TemplateExporter.__init__(Template)\n",
    "            shell.Shell.__init__(Template, *args, **kwargs)\n",
    "            IPython.core.formatters.DisplayFormatter.__init__(Template, *args, **kwargs)\n",
    "            Template._create_environment()\n",
    "            \n",
    "            \n",
    "        def _create_environment(Template):\n",
    "            environment = super()._create_environment()\n",
    "            environment.undefined = jinja2.StrictUndefined\n",
    "            environment.finalize = Template.finalize\n",
    "            return environment\n",
    "        \n",
    "        def render(Template, object, **kwargs):\n",
    "            return Template.environment.from_string(object).render(**{**vars(builtins), **Template.user_ns, **kwargs})\n",
    "        \n",
    "        def finalize(Template, object) -> str:\n",
    "            if isinstance(object, str): \n",
    "                try: return ast.parse(str) and object\n",
    "                except: return Template.user_ns.get(object, object)\n",
    "            bundle, metadata = Template.format(object)\n",
    "            for type in [str for str in Template.active_types if str != 'text/plain'] + ['text/plain']:\n",
    "                if type in bundle: \n",
    "                    object = bundle[type]\n",
    "                    if type.startswith('image') and 'svg' not in type: object = format_images(type, bundle)._repr_html_()\n",
    "                    if type == 'text/latex': \n",
    "                        if object.startswith('$$') and object.endswith('$$'): object = object[1:-1]\n",
    "                    break\n",
    "            return object\n"
   ]
  },
  {
   "cell_type": "code",
   "execution_count": 6,
   "metadata": {},
   "outputs": [],
   "source": [
    "    def format_bytes(bytes, object):\n",
    "        return {'text/html': format_images('image/png', {'image/png': bytes}), 'text/plain': repr(object),}, {}"
   ]
  },
  {
   "cell_type": "code",
   "execution_count": 7,
   "metadata": {},
   "outputs": [],
   "source": [
    "    def format_images(type, bundle):\n",
    "        str = bundle[type]        \n",
    "        if isinstance(str, bytes): str = __import__('base64').b64encode(str).decode('utf-8')\n",
    "            \n",
    "        if type in ('image/svg+xml', 'text/html'):  ...\n",
    "        elif str.startswith('http'): str = F\"\"\"<img src=\"{str}\"/>\"\"\"\n",
    "        else: str = F\"\"\"<img src=\"data:{type};base64,{str}\"/>\"\"\"\n",
    "        return IPython.display.HTML(str)"
   ]
  }
 ],
 "metadata": {
  "kernelspec": {
   "display_name": "p6",
   "language": "python",
   "name": "other-env"
  },
  "language_info": {
   "codemirror_mode": {
    "name": "ipython",
    "version": 3
   },
   "file_extension": ".py",
   "mimetype": "text/x-python",
   "name": "python",
   "nbconvert_exporter": "python",
   "pygments_lexer": "ipython3",
   "version": "3.6.8"
  },
  "nikola": {
   "date": "2018-12-06 12:00:00 UTC",
   "description": "`pidgin.display` is a collection of display rules for IPython objects.  \n\n`StringFormatter` is a class that adds reules for string `object`s.",
   "slug": "display.ipynb",
   "title": "display.ipynb",
   "type": "text"
  }
 },
 "nbformat": 4,
 "nbformat_minor": 2
}
