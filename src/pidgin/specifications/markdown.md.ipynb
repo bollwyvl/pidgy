{
 "cells": [
  {
   "cell_type": "markdown",
   "metadata": {},
   "source": [
    "[`pidgin.weave`](weave.md.ipynb) allows code to be execute with the display function."
   ]
  },
  {
   "cell_type": "code",
   "execution_count": 1,
   "metadata": {},
   "outputs": [],
   "source": [
    "    if __name__ == '__main__': \n",
    "        %reload_ext pidgin"
   ]
  },
  {
   "cell_type": "code",
   "execution_count": 2,
   "metadata": {},
   "outputs": [],
   "source": [
    "    import ast, jinja2, sys, nbconvert, nbformat, contextlib, collections, IPython, mistune, doctest, yaml, re, traitlets, textwrap, types, typing as t, importlib, importnb,  jinja2, builtins, jsonschema\n",
    "    from pidgin import tangle\n"
   ]
  },
  {
   "cell_type": "code",
   "execution_count": 3,
   "metadata": {},
   "outputs": [],
   "source": [
    "    \n",
    "    class HtmlGrammar: \n",
    "        block_html = re.compile(\n",
    "            r'^ *(?:%s|%s|%s) *(?:\\n{2,}|\\s*$)' % (\n",
    "                r'<!--[\\s\\S]*?-->|<!DOCTYPE [\\s\\S]*?>|<\\?[\\s\\S]*?\\?>',\n",
    "                r'<(%s)((?:%s)*?)>([\\s\\S]*?)<\\/\\1>' % (mistune._block_tag, mistune._valid_attr),\n",
    "                r'<%s(?:%s)*?\\s*\\/?>' % (mistune._block_tag, mistune._valid_attr)))       \n",
    "\n",
    "    class InlineHtmlGrammar:\n",
    "        \"\"\"Add svg constructs to inline_html regex.\"\"\"\n",
    "        inline_html = re.compile(\n",
    "                r'^(?:%s|%s|%s)' % (\n",
    "                    r'<!--[\\s\\S]*?-->|<!DOCTYPE [\\s\\S]*?>|<\\?[\\s\\S]*?\\?>',\n",
    "                    r'<(\\w+%s)((?:%s)*?)\\s*>([\\s\\S]*?)<\\/\\1>' % (\n",
    "                        mistune._valid_end, mistune._valid_attr),\n",
    "                    r'<\\w+%s(?:%s)*?\\s*\\/?>' % (mistune._valid_end, mistune._valid_attr)))    "
   ]
  },
  {
   "cell_type": "code",
   "execution_count": 4,
   "metadata": {},
   "outputs": [],
   "source": [
    "    error = \"background-color: var(--jp-rendermime-error-background);\"\n",
    "    ws = \"white-space: pre;\""
   ]
  },
  {
   "cell_type": "code",
   "execution_count": 5,
   "metadata": {},
   "outputs": [],
   "source": [
    "    class WeaveInlineLexer(mistune.InlineLexer):\n",
    "        \"\"\"WeavePidginInlineLexer is responsible for updating modifying the interactive IPython state.\n",
    "        \"\"\"\n",
    "        class grammar_class(InlineHtmlGrammar, mistune.InlineGrammar): ..."
   ]
  },
  {
   "cell_type": "code",
   "execution_count": 6,
   "metadata": {},
   "outputs": [],
   "source": [
    "    class DocTestGrammar:\n",
    "        doctest = doctest.DocTestParser._EXAMPLE_RE\n",
    "        \n",
    "    class DoctestLexer:\n",
    "        def parse_doctest(self, m): self.tokens.append({'type': 'doctest', 'text': m.string[slice(*m.span())]})"
   ]
  },
  {
   "cell_type": "code",
   "execution_count": 7,
   "metadata": {},
   "outputs": [],
   "source": [
    "    class GraphvizGrammar:\n",
    "        graphviz = re.compile(\"^(di){0,1}graph\\s*\\{.*?\\}\", re.DOTALL)\n",
    "    class GraphvizLexer:\n",
    "        def parse_graphviz(self, m): \n",
    "            self.tokens.append({'type': 'graphviz', 'text': m.string[slice(*m.span())]})"
   ]
  },
  {
   "cell_type": "code",
   "execution_count": 8,
   "metadata": {},
   "outputs": [],
   "source": [
    "    class BlockLexer(GraphvizLexer, DoctestLexer, mistune.BlockLexer): \n",
    "        class grammar_class(GraphvizGrammar, DocTestGrammar, mistune.BlockGrammar): ...\n",
    "        def __init__(BlockLexer, rules=None, **kwargs): super().__init__(rules, **kwargs)\n",
    "        def parse(self, text: str, rules=None) -> t.List[t.Dict]: \n",
    "            from pidgin import transform_cell\n",
    "            return super().parse(transform_cell.strip_blank_lines(text))\n",
    "        def parse_block_code(self, m=None): self.tokens[-1]['lang'] = super().parse_block_code(m) or ''\n",
    "            \n",
    "    for attr in \"doctest graphviz\".split():\n",
    "        for key in \"default_rules footnote_rules list_rules\".split():[\n",
    "            setattr(BlockLexer, key, list(BlockLexer.default_rules)), \n",
    "            getattr(BlockLexer, key).insert(getattr(BlockLexer, key).index('block_quote'), attr)]"
   ]
  },
  {
   "cell_type": "code",
   "execution_count": 9,
   "metadata": {},
   "outputs": [],
   "source": [
    "    class Markdown(mistune.Renderer, mistune.Markdown, traitlets.HasTraits):\n",
    "        run = traitlets.Bool(default_value=True)\n",
    "        \n",
    "        def __init__(Weave, *args, **kwargs):\n",
    "            mistune.Renderer.__init__(Weave)\n",
    "            mistune.Markdown.__init__(Weave, renderer=Weave, block=BlockLexer)\n",
    "            Weave._codespan_buffer = []\n",
    "            Weave._block_code_buffer = []\n",
    "\n",
    "        def __enter__(Markdown): \n",
    "            Markdown.run = False\n",
    "            return Markdown\n",
    "        def __exit__(Markdown, *e): Markdown.run = True\n",
    "            \n",
    "        def codespan(Markdown, text, lang=None):\n",
    "            Markdown._codespan_buffer.append(text)\n",
    "            if not text.endswith('//'):\n",
    "                Markdown.run_literal('\\n'.join(Markdown._codespan_buffer))\n",
    "                Markdown._codespan_buffer = []\n",
    "            return super().codespan(text)\n",
    "        \n",
    "        def block_code(Markdown, text, lang=None):\n",
    "            if lang is None: \n",
    "                Markdown._block_code_buffer.append(text)\n",
    "                if not text.endswith('//'):\n",
    "                    Markdown.run_literal('\\n'.join(Markdown._block_code_buffer))\n",
    "                    Markdown._block_code_buffer = []\n",
    "            return super().block_code(text)\n",
    "        \n",
    "        def run_literal(Markdown, str):\n",
    "            Markdown.log.error((22,str))\n",
    "            return Markdown.run and super().run_cell(textwrap.indent(str, ' '*4), silent=True)\n",
    "        \n",
    "        def output_doctest(self): return self.renderer.doctest(self.token['text'])\n",
    "        \n",
    "        def output_graphviz(self): return self.renderer.graphviz(self.token['text'])\n",
    "        \n",
    "        def doctest(self, text): return super().block_code(text)\n",
    "        def graphviz(self, text): \n",
    "            return __import__('graphviz').Source(text)._repr_svg_()"
   ]
  },
  {
   "cell_type": "code",
   "execution_count": 10,
   "metadata": {},
   "outputs": [],
   "source": [
    "    def unload_ipython_extension(shell: IPython.core.interactiveshell.InteractiveShell):\n",
    "        ..."
   ]
  }
 ],
 "metadata": {
  "kernelspec": {
   "display_name": "p6",
   "language": "python",
   "name": "other-env"
  },
  "language_info": {
   "codemirror_mode": {
    "name": "ipython",
    "version": 3
   },
   "file_extension": ".py",
   "mimetype": "text/x-python",
   "name": "python",
   "nbconvert_exporter": "python",
   "pygments_lexer": "ipython3",
   "version": "3.6.8"
  },
  "nikola": {
   "date": "2018-12-06 12:00:00 UTC",
   "description": "`pidgin.display` is a collection of display rules for IPython objects.  \n\n`StringFormatter` is a class that adds reules for string `object`s.",
   "slug": "display.ipynb",
   "title": "display.ipynb",
   "type": "text"
  }
 },
 "nbformat": 4,
 "nbformat_minor": 2
}
