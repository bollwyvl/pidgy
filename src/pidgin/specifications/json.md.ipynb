{
 "cells": [
  {
   "cell_type": "markdown",
   "metadata": {},
   "source": [
    "[`pidgin.weave`](weave.md.ipynb) allows code to be execute with the display function."
   ]
  },
  {
   "cell_type": "code",
   "execution_count": 1,
   "metadata": {},
   "outputs": [],
   "source": [
    "    if __name__ == '__main__': \n",
    "        %reload_ext pidgin"
   ]
  },
  {
   "cell_type": "code",
   "execution_count": 2,
   "metadata": {},
   "outputs": [],
   "source": [
    "    import ast, IPython, jsonschema, pyld, traitlets, operator"
   ]
  },
  {
   "cell_type": "code",
   "execution_count": 3,
   "metadata": {},
   "outputs": [],
   "source": [
    "    def load_ipython_extension(shell: IPython.core.interactiveshell.InteractiveShell):\n",
    "        shell.ast_transformers.insert(0, Pointer())\n",
    "        shell.ast_transformers.append(Expand())\n",
    "        shell.events.register('post_run_cell', validate_schema)"
   ]
  },
  {
   "cell_type": "code",
   "execution_count": 4,
   "metadata": {},
   "outputs": [],
   "source": [
    "    def unload_ipython_extension(shell: IPython.core.interactiveshell.InteractiveShell):\n",
    "        for i, event in enumerate(shell.events.callbacks['post_run_cell']):\n",
    "            if event is validate_schema: shell.events.callbacks['post_run_cell'].pop(i); break\n",
    "        for i in reversed([i for i, object in enumerate(shell.ast_transformers) if isinstance(object, (Expand, Pointer))]): shell.ast_transformers.pop(i)"
   ]
  },
  {
   "cell_type": "code",
   "execution_count": 6,
   "metadata": {},
   "outputs": [
    {
     "data": {
      "text/html": [
       "<pre><code>class Expand(ast.NodeTransformer):      \n",
       "</code></pre>\n",
       "<pre><code>&gt;&gt;&gt; __context__ = {'w': \"http://en.wikipedia.org/wiki/\"}\n",
       "</code></pre>\n",
       "<pre><code>&gt;&gt;&gt; \"w:Thermodynamics\"\n",
       "'http://en.wikipedia.org/wiki/Thermodynamics'\n",
       "</code></pre>\n",
       "<pre><code>    def visit_FunctionDef(Expand, node):\n",
       "        if isinstance(node.body[0], ast.Expr) and isinstance(node.body[0].value, ast.Str):\n",
       "            assign = ast.increment_lineno(ast.parse(\"\"\"function._\"\"\"+\"\"\"_doc_\"\"\"+\"\"\"_ = expr\"\"\").body[0], node.lineno)\n",
       "            assign.targets[0].value = ast.copy_location(ast.parse(F\"{node.name}\").body[0].value, node)\n",
       "            assign.value = ast.copy_location(node.body[0].value, node)\n",
       "            return [node, assign]\n",
       "        return node\n",
       "    visit_ClassDef = visit_FunctionDef\n",
       "\n",
       "    def visit_Str(Expand, node):\n",
       "        expand = ast.parse(\"\"\"__import__('importlib').import_module('pidgin.specifications.json').expand(\n",
       "            '*', globals().get('__context__', {}))\"\"\").body[0].value\n",
       "        expand.args[0] = node\n",
       "        return ast.copy_location(expand, node)\n",
       "\n",
       "    def visit_Assign(Expand, node):\n",
       "        return all(getattr(object, 'id', '') != '__context__'  for object in node.targets) and super().generic_visit(node) or node\n",
       "\n",
       "    def visit_Call(Expand, node):\n",
       "        try: \n",
       "            if operator.attrgetter('value.id')(node.func) == '__context__': return node\n",
       "        finally: return super().generic_visit(node)\n",
       "</code></pre>\n"
      ],
      "text/plain": [
       "<IPython.core.display.HTML object>"
      ]
     },
     "metadata": {},
     "output_type": "display_data"
    }
   ],
   "source": [
    "    class Expand(ast.NodeTransformer):      \n",
    ">>> __context__ = {'w': \"http://en.wikipedia.org/wiki/\"}\n",
    ">>> assert \"w:Thermodynamics\" == \"http://en.wikipedia.org/wiki/Thermodynamics\"\n",
    "        \n",
    "        def visit_FunctionDef(Expand, node):\n",
    "            if isinstance(node.body[0], ast.Expr) and isinstance(node.body[0].value, ast.Str):\n",
    "                assign = ast.increment_lineno(ast.parse(\"\"\"function._\"\"\"+\"\"\"_doc_\"\"\"+\"\"\"_ = expr\"\"\").body[0], node.lineno)\n",
    "                assign.targets[0].value = ast.copy_location(ast.parse(F\"{node.name}\").body[0].value, node)\n",
    "                assign.value = ast.copy_location(node.body[0].value, node)\n",
    "                return [node, assign]\n",
    "            return node\n",
    "        visit_ClassDef = visit_FunctionDef\n",
    "        \n",
    "        def visit_Str(Expand, node):\n",
    "            expand = ast.parse(\"\"\"__import__('importlib').import_module('pidgin.specifications.json').expand(\n",
    "                '*', globals().get('__context__', {}))\"\"\").body[0].value\n",
    "            expand.args[0] = node\n",
    "            return ast.copy_location(expand, node)\n",
    "        \n",
    "        def visit_Assign(Expand, node):\n",
    "            return all(getattr(object, 'id', '') != '__context__'  for object in node.targets) and super().generic_visit(node) or node\n",
    "        \n",
    "        def visit_Call(Expand, node):\n",
    "            try: \n",
    "                if operator.attrgetter('value.id')(node.func) == '__context__': return node\n",
    "            finally: return super().generic_visit(node)"
   ]
  },
  {
   "cell_type": "code",
   "execution_count": 7,
   "metadata": {},
   "outputs": [
    {
     "data": {
      "text/html": [
       "<pre><code>class Pointer(ast.NodeTransformer):\n",
       "</code></pre>\n",
       "<pre><code>&gt;&gt;&gt; {'a': [9]}['/a']\n",
       "[9]\n",
       "</code></pre>\n",
       "<pre><code>&gt;&gt;&gt; {'a': [9]}['/a/0']\n",
       "9\n",
       "</code></pre>\n",
       "<pre><code>    def visit_Subscript(Pointer, node):\n",
       "        if isinstance(node.slice, ast.Index):\n",
       "            if isinstance(node.slice.value, ast.Str):\n",
       "                if node.slice.value.s.startswith('/'):\n",
       "                    Call = ast.parse(\"\"\"__import__('jsonpointer').resolve_pointer()\"\"\").body[0].value\n",
       "                    Call.args = [node.value, node.slice.value]\n",
       "                    return Call\n",
       "        return node\n",
       "</code></pre>\n"
      ],
      "text/plain": [
       "<IPython.core.display.HTML object>"
      ]
     },
     "metadata": {},
     "output_type": "display_data"
    }
   ],
   "source": [
    "    class Pointer(ast.NodeTransformer):\n",
    ">>> {'a': [9]}['/a']\n",
    "[9]\n",
    ">>> {'a': [9]}['/a/0']\n",
    "9\n",
    "        \n",
    "        def visit_Subscript(Pointer, node):\n",
    "            if isinstance(node.slice, ast.Index):\n",
    "                if isinstance(node.slice.value, ast.Str):\n",
    "                    if node.slice.value.s.startswith('/'):\n",
    "                        Call = ast.parse(\"\"\"__import__('jsonpointer').resolve_pointer()\"\"\").body[0].value\n",
    "                        Call.args = [node.value, node.slice.value]\n",
    "                        return Call\n",
    "            return node"
   ]
  },
  {
   "cell_type": "code",
   "execution_count": 8,
   "metadata": {},
   "outputs": [],
   "source": [
    "    def expand(str, context=None):\n",
    "        if len(str.splitlines()) == 1 and not str.startswith('@'):\n",
    "            object = pyld.jsonld.expand({'@context': context, str: ''})\n",
    "            if object: return next(iter(object[0].keys()))\n",
    "        return str"
   ]
  },
  {
   "cell_type": "code",
   "execution_count": 9,
   "metadata": {},
   "outputs": [],
   "source": [
    "    def validate_schema(raw_cell, store_history=False, silent=False, shell_futures=True):\n",
    "        shell = IPython.get_ipython()\n",
    "        schema = shell.user_ns.get('__schema__', {})\n",
    "        jsonschema.validate({k:v for k,v in shell.user_ns.items() if k in schema.get('properties', {})}, schema)"
   ]
  }
 ],
 "metadata": {
  "kernelspec": {
   "display_name": "p6",
   "language": "python",
   "name": "other-env"
  },
  "language_info": {
   "codemirror_mode": {
    "name": "ipython",
    "version": 3
   },
   "file_extension": ".py",
   "mimetype": "text/x-python",
   "name": "python",
   "nbconvert_exporter": "python",
   "pygments_lexer": "ipython3",
   "version": "3.6.8"
  },
  "nikola": {
   "date": "2018-12-06 12:00:00 UTC",
   "description": "`pidgin.display` is a collection of display rules for IPython objects.  \n\n`StringFormatter` is a class that adds reules for string `object`s.",
   "slug": "display.ipynb",
   "title": "display.ipynb",
   "type": "text"
  }
 },
 "nbformat": 4,
 "nbformat_minor": 2
}
