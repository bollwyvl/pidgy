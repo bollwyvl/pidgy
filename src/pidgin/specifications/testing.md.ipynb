{
 "cells": [
  {
   "cell_type": "markdown",
   "metadata": {},
   "source": [
    "[`pidgin.testing`](testing.md.ipynb) provides discussion and tools for __testing__ notebooks."
   ]
  },
  {
   "cell_type": "code",
   "execution_count": 1,
   "metadata": {},
   "outputs": [],
   "source": [
    "    import ast, IPython, re, functools, traitlets, typing as t, doctest, IPython, textwrap, importnb, collections, contextlib\n",
    "    from importnb.utils.pytest_importnb import AlternativeModule, AlternativeSourceText"
   ]
  },
  {
   "cell_type": "code",
   "execution_count": 2,
   "metadata": {},
   "outputs": [],
   "source": [
    "    from pidgin import shell, tangle\n",
    "    from pidgin.applications import loaders"
   ]
  },
  {
   "cell_type": "code",
   "execution_count": 3,
   "metadata": {},
   "outputs": [],
   "source": [
    "    if __name__ == '__main__':\n",
    "        %reload_ext pidgin"
   ]
  },
  {
   "cell_type": "code",
   "execution_count": 7,
   "metadata": {},
   "outputs": [],
   "source": [
    "    class OutputChecker(__import__('doctest').OutputChecker):\n",
    "        def check_output(self, want, got, optionflags): return True if want == '...\\n' else super().check_output(want, got, optionflags)"
   ]
  },
  {
   "cell_type": "code",
   "execution_count": 8,
   "metadata": {},
   "outputs": [],
   "source": [
    "    @contextlib.contextmanager\n",
    "    def wrapped_compiler(shell):\n",
    "        def compiler(input, *args, **kwargs):\n",
    "            return compile(ast.Interactive(body=shell.transform_ast(ast.parse(shell.transform_cell(textwrap.indent(input, ' '*4)))).body), *args, **kwargs)\n",
    "        yield setattr(doctest, 'compile', compiler)\n",
    "        try: del doctest.compile\n",
    "        except: ..."
   ]
  },
  {
   "cell_type": "code",
   "execution_count": 9,
   "metadata": {},
   "outputs": [],
   "source": [
    "    def run_docstring_examples(str, shell, verbose=False, compileflags=None):\n",
    "        finder, runner = doctest.DocTestFinder(verbose=verbose), doctest.DocTestRunner(verbose=verbose, optionflags=doctest.ELLIPSIS)\n",
    "        with wrapped_compiler(shell):\n",
    "            for test in finder.find(str, name=shell.user_module.__name__): \n",
    "                test.globs = vars(shell.user_module)\n",
    "                test.globs.update({**shell.user_ns, **vars(shell.user_module)})\n",
    "                runner.run(test, compileflags=compileflags, clear_globs=False)\n",
    "        return runner"
   ]
  },
  {
   "cell_type": "code",
   "execution_count": 10,
   "metadata": {},
   "outputs": [],
   "source": [
    "    def run_test(test, shell, verbose=False, compileflags=None):\n",
    "        runner = doctest.DocTestRunner(verbose=verbose, optionflags=doctest.ELLIPSIS)\n",
    "        with wrapped_compiler(shell):\n",
    "            test.globs = vars(shell.user_module)\n",
    "            test.globs.update({**shell.user_ns, **vars(shell.user_module)})\n",
    "            runner.run(test, compileflags=compileflags, clear_globs=False)\n",
    "        return runner"
   ]
  },
  {
   "cell_type": "code",
   "execution_count": 11,
   "metadata": {},
   "outputs": [],
   "source": [
    "    class Doctest(shell.Shell):                \n",
    "        def run_cell(Formatter, text, *args, **kwargs):\n",
    "            if isinstance(text, IPython.core.interactiveshell.ExecutionResult): text = text.info.raw_cell\n",
    "            run_docstring_examples(text, Formatter)"
   ]
  },
  {
   "cell_type": "code",
   "execution_count": 12,
   "metadata": {},
   "outputs": [],
   "source": [
    "    class PidginModule(AlternativeModule): loader = tangle.Pidgin\n",
    "    class MarkdownModule(AlternativeModule): loader = loaders.MarkdownImporter\n",
    "    class PidginTests(metaclass=AlternativeSourceText): modules = PidginModule, MarkdownModule\n",
    "    pytest_collect_file = PidginTests.__call__"
   ]
  },
  {
   "cell_type": "raw",
   "metadata": {},
   "source": [
    ">>> assert 0, \"Currently it is not possible to test dynamically generated outputs.  eneter robot lab.\"\n",
    ">>> assert 0, \"Hypothesis\""
   ]
  }
 ],
 "metadata": {
  "kernelspec": {
   "display_name": "p6",
   "language": "python",
   "name": "other-env"
  },
  "language_info": {
   "codemirror_mode": {
    "name": "ipython",
    "version": 3
   },
   "file_extension": ".py",
   "mimetype": "text/x-python",
   "name": "python",
   "nbconvert_exporter": "python",
   "pygments_lexer": "ipython3",
   "version": "3.6.8"
  }
 },
 "nbformat": 4,
 "nbformat_minor": 2
}
