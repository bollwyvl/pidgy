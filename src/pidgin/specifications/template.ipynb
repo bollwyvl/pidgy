{
 "cells": [
  {
   "cell_type": "markdown",
   "metadata": {},
   "source": [
    "[`pidgin.weave`](weave.md.ipynb) allows code to be execute with the display function."
   ]
  },
  {
   "cell_type": "code",
   "execution_count": 1,
   "metadata": {},
   "outputs": [],
   "source": [
    "    if __name__ == '__main__': \n",
    "        %reload_ext pidgin\n",
    "        #         from pidgin.references import *"
   ]
  },
  {
   "cell_type": "code",
   "execution_count": 2,
   "metadata": {},
   "outputs": [],
   "source": [
    "    import ast, jinja2, sys, nbconvert, nbformat, contextlib, collections, IPython, mistune, doctest, yaml, re, traitlets, textwrap, types, typing as t, importlib, importnb,  jinja2, builtins, jsonschema\n",
    "    with __import__('importnb').Notebook(): \n",
    "        from pidgin import tangle"
   ]
  },
  {
   "cell_type": "code",
   "execution_count": 3,
   "metadata": {},
   "outputs": [],
   "source": [
    "    class Template(nbconvert.exporters.TemplateExporter):\n",
    "        def _create_environment(Template):\n",
    "            environment = super()._create_environment()\n",
    "            environment.undefined = jinja2.StrictUndefined\n",
    "            environment.finalize = ipython_output\n",
    "            return environment\n",
    "        \n",
    "        @classmethod\n",
    "        def new_environment(Template, **kwargs): return Template(**kwargs).environment\n",
    "\n",
    "    new_environment = Template.new_environment"
   ]
  },
  {
   "cell_type": "code",
   "execution_count": 4,
   "metadata": {},
   "outputs": [],
   "source": [
    "    def ipython_output(object: t.Any = None, bundle=None) -> str:\n",
    "        if bundle is None:             \n",
    "            bundle, metadata = IPython.get_ipython().display_formatter.format(object)\n",
    "        for type in [\n",
    "            str for str in IPython.get_ipython().display_formatter.active_types if str != 'text/plain'\n",
    "        ] + ['text/plain']:\n",
    "            if type == 'text/plain': \n",
    "                if object is None: return bundle[type]\n",
    "                return object\n",
    "            if type in bundle: \n",
    "                object = bundle[type]\n",
    "                if type.startswith('image') and 'svg' not in type: object = external.format_images(type, bundle)._repr_html_()\n",
    "                if type ==  'text/html': object = flatten(object)\n",
    "                if type == 'image/svg+xml': object = flatten(re.sub('(xmlns(:?\\S*)?=\"\\S*?\")?', r'', object))\n",
    "                if type == 'text/latex':\n",
    "                    if object.startswith('$$') and object.endswith('$$'): object = object[1:-1]\n",
    "                break\n",
    "        return object"
   ]
  },
  {
   "cell_type": "code",
   "execution_count": 5,
   "metadata": {},
   "outputs": [],
   "source": [
    "    def flatten(str): return '&#xA;'.join(str.splitlines())"
   ]
  },
  {
   "cell_type": "code",
   "execution_count": null,
   "metadata": {},
   "outputs": [],
   "source": []
  }
 ],
 "metadata": {
  "kernelspec": {
   "display_name": "p6",
   "language": "python",
   "name": "other-env"
  },
  "language_info": {
   "codemirror_mode": {
    "name": "ipython",
    "version": 3
   },
   "file_extension": ".py",
   "mimetype": "text/x-python",
   "name": "python",
   "nbconvert_exporter": "python",
   "pygments_lexer": "ipython3",
   "version": "3.6.8"
  },
  "nikola": {
   "date": "2018-12-06 12:00:00 UTC",
   "description": "`pidgin.display` is a collection of display rules for IPython objects.  \n\n`StringFormatter` is a class that adds reules for string `object`s.",
   "slug": "display.ipynb",
   "title": "display.ipynb",
   "type": "text"
  }
 },
 "nbformat": 4,
 "nbformat_minor": 2
}
