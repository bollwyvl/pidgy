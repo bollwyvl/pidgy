{
 "cells": [
  {
   "cell_type": "markdown",
   "metadata": {},
   "source": [
    "`pidgin.doctesting` provides tooling to apply input transformations to doctest strings."
   ]
  },
  {
   "cell_type": "code",
   "execution_count": 1,
   "metadata": {},
   "outputs": [],
   "source": [
    "    import ast, doctest, IPython, textwrap, re, collections, importnb"
   ]
  },
  {
   "cell_type": "code",
   "execution_count": 2,
   "metadata": {},
   "outputs": [],
   "source": [
    "    class OutputChecker(doctest.OutputChecker):\n",
    "        def check_output(self, want, got, optionflags):\n",
    "            return True if want == '...\\n' else super().check_output(want, got, optionflags)"
   ]
  },
  {
   "cell_type": "code",
   "execution_count": 3,
   "metadata": {},
   "outputs": [],
   "source": [
    "    class MultiParser(doctest.DocTestParser):\n",
    "        def __init__(self, *args, parsers=(doctest.DocTestParser), **kwargs,):\n",
    "            self._parsers = parsers\n",
    "            super().__init__(*args, **kwargs)\n",
    "        \n",
    "        def get_examples(self, string, name='<string>') -> list:\n",
    "            return sum([parser.get_examples(string, name) for parser in self._parsers], [])"
   ]
  },
  {
   "cell_type": "code",
   "execution_count": 4,
   "metadata": {},
   "outputs": [],
   "source": [
    "    class InlineCodeParser(doctest.DocTestParser):\n",
    "        _EXAMPLE_RE = re.compile(r'(?P<indent>[ *]?)`(?P<source>[\\s\\S(\\\\`)]+?)(?P<want>.{0}?)`',\n",
    "            re.IGNORECASE|re.UNICODE)\n",
    "        \n",
    "        def _parse_example(self, m, name, lineno):\n",
    "            source = m.group('source')\n",
    "            return source, {doctest.ELLIPSIS: True}, '...', None\n",
    "        \n",
    "        def get_examples(self, string, name='<string>'):\n",
    "            examples = []\n",
    "            for example in super().get_examples(string, name):\n",
    "                # This is a tragic way to exclude code fences.\n",
    "                if example.source.startswith('`'): continue\n",
    "                if examples  and examples[-1].source.rstrip().endswith('\\\\'):\n",
    "                    examples[-1].source += F\"\"\"{example.source}\"\"\"\n",
    "                else:\n",
    "                    \n",
    "                    examples.append(example)\n",
    "            return examples\n",
    "                    "
   ]
  },
  {
   "cell_type": "code",
   "execution_count": 5,
   "metadata": {},
   "outputs": [],
   "source": [
    "    def run_docstring_examples(\n",
    "        f, ip, verbose=False, compileflags=None, optionflags=0\n",
    "    ):\n",
    "        finder = doctest.DocTestFinder(verbose=verbose, parser=MultiParser(parsers=(\n",
    "            doctest.DocTestParser(), InlineCodeParser()\n",
    "        )),recurse=False)\n",
    "        runner = doctest.DocTestRunner(verbose=verbose, optionflags=optionflags, checker=OutputChecker())\n",
    "        transformer = importnb.docstrings.TestStrings()\n",
    "        module = ast.parse(ip.input_transformer_manager.transform_cell(f))\n",
    "        module.body = [ast.Expr(ast.Str())] + module.body\n",
    "        transformer.visit(module)\n",
    "        for node in transformer.strings:\n",
    "            for test in (doctest_to_ipython(ip, object) for object in finder.find(\n",
    "                node.s, ip.user_ns['__name__']\n",
    "            )):\n",
    "                test.globs = ip.user_ns\n",
    "                runner.run(test, compileflags=compileflags, clear_globs=False)        \n",
    "                \n",
    "        return runner"
   ]
  },
  {
   "cell_type": "code",
   "execution_count": 6,
   "metadata": {},
   "outputs": [],
   "source": [
    "    def doctest_to_ipython(ip, test):\n",
    "        for example in test.examples:\n",
    "            example.source = ip.input_transformer_manager.transform_cell(\n",
    "                textwrap.indent(example.source, ' '*4)\n",
    "            )\n",
    "            if '```' in example.want:\n",
    "                example.want, ticks, rest = example.want.rpartition('```')\n",
    "        return test"
   ]
  },
  {
   "cell_type": "markdown",
   "metadata": {},
   "source": [
    "`run_cell_doctests` runs any `doctest`s found in the raw source."
   ]
  },
  {
   "cell_type": "code",
   "execution_count": 7,
   "metadata": {},
   "outputs": [],
   "source": [
    "    def run_cell_doctests(ip, result) -> Exception:\n",
    "        with IPython.utils.capture.capture_output(\n",
    "            stdout=True, stderr=False, display=False\n",
    "        ) as output:\n",
    "            run_docstring_examples(result.info.raw_cell, ip)\n",
    "\n",
    "        if output.stdout:\n",
    "            return DocTestException(output.stdout)"
   ]
  },
  {
   "cell_type": "code",
   "execution_count": 8,
   "metadata": {},
   "outputs": [],
   "source": [
    "    class DocTestException(BaseException):\n",
    "        def _render_traceback_(self): return args[0].splitlines()"
   ]
  },
  {
   "cell_type": "code",
   "execution_count": 9,
   "metadata": {},
   "outputs": [],
   "source": [
    "    def load_ipython_extension(ip):\n",
    "        try: from . import post_run_cell\n",
    "        except: import post_run_cell\n",
    "        ip.input_transformer_manager.cleanup_transforms = [\n",
    "            object for object in ip.input_transformer_manager.cleanup_transforms\n",
    "            if object is not IPython.core.inputtransformer2.classic_prompt\n",
    "        ]\n",
    "    def unload_ipython_extension(ip):\n",
    "        try: from . import post_run_cell\n",
    "        except: import post_run_cell\n",
    "        post_run_cell.create_load_extension(run_cell_doctests)(ip)\n",
    "        \n",
    "    if __name__ == '__main__': \n",
    "        %reload_ext pidgin.tangle\n",
    "        %reload_ext pidgin.display\n",
    "        unload_ipython_extension(IPython.get_ipython())\n",
    "        load_ipython_extension(IPython.get_ipython())\n"
   ]
  },
  {
   "cell_type": "code",
   "execution_count": null,
   "metadata": {},
   "outputs": [],
   "source": []
  }
 ],
 "metadata": {
  "kernelspec": {
   "display_name": "Python 3",
   "language": "python",
   "name": "python3"
  },
  "language_info": {
   "codemirror_mode": {
    "name": "ipython",
    "version": 3
   },
   "file_extension": ".py",
   "mimetype": "text/x-python",
   "name": "python",
   "nbconvert_exporter": "python",
   "pygments_lexer": "ipython3",
   "version": "3.6.6"
  }
 },
 "nbformat": 4,
 "nbformat_minor": 2
}
