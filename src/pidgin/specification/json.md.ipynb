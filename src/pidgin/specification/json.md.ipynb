{
 "cells": [
  {
   "cell_type": "markdown",
   "metadata": {},
   "source": [
    "[`pidgin.weave`](weave.md.ipynb) allows code to be execute with the display function."
   ]
  },
  {
   "cell_type": "code",
   "execution_count": 1,
   "metadata": {},
   "outputs": [],
   "source": [
    "    if __name__ == '__main__': \n",
    "        %reload_ext pidgin"
   ]
  },
  {
   "cell_type": "code",
   "execution_count": 2,
   "metadata": {},
   "outputs": [],
   "source": [
    "    import ast, IPython, jsonschema, pyld, traitlets, operator"
   ]
  },
  {
   "cell_type": "code",
   "execution_count": 3,
   "metadata": {},
   "outputs": [],
   "source": [
    "    def load_ipython_extension(shell: IPython.core.interactiveshell.InteractiveShell):\n",
    "        shell.ast_transformers.append(Expand())\n",
    "        shell.events.register('post_run_cell', validate_schema)"
   ]
  },
  {
   "cell_type": "code",
   "execution_count": 4,
   "metadata": {},
   "outputs": [],
   "source": [
    "    def unload_ipython_extension(shell: IPython.core.interactiveshell.InteractiveShell):\n",
    "        for i, event in enumerate(shell.events.callbacks['post_run_cell']):\n",
    "            if event is validate_schema: shell.events.callbacks['post_run_cell'].pop(i); break\n",
    "        for i in reversed([i for i, object in enumerate(shell.ast_transformers) if isinstance(object, (Expand,))]): shell.ast_transformers.pop(i)\n",
    "        pops = []\n",
    "        for i, post in enumerate(shell.events.callbacks['post_run_cell']):\n",
    "            if post == validate_schema: pops.append(i)\n",
    "        for i in reversed(pops): shell.events.callbacks['post_run_cell'].pop(i)"
   ]
  },
  {
   "cell_type": "code",
   "execution_count": 5,
   "metadata": {},
   "outputs": [
    {
     "data": {
      "text/html": [
       "<div class=\"highlight\" style=\"background: #f8f8f8\"><pre style=\"line-height: 125%\"><span></span><span style=\"color: #008000; font-weight: bold\">class</span> <span style=\"color: #0000FF; font-weight: bold\">Expand</span>(ast<span style=\"color: #666666\">.</span>NodeTransformer):\n",
       "</pre></div>\n",
       "<blockquote><p><strong>annotations</strong> = {\"@context\": {'w': \"<a href=\"http://en.wikipedia.org/wiki/&quot;}}\">http://en.wikipedia.org/wiki/&quot;}}</a>\n",
       "str(\"w:Thermodynamics\")\n",
       "'<a href=\"http://en.wikipedia.org/wiki/Thermodynamics\">http://en.wikipedia.org/wiki/Thermodynamics</a>'</p>\n",
       "</blockquote>\n",
       "<div class=\"highlight\" style=\"background: #f8f8f8\"><pre style=\"line-height: 125%\"><span></span><span style=\"color: #008000; font-weight: bold\">def</span> <span style=\"color: #0000FF\">visit_FunctionDef</span>(Expand, node):\n",
       "        <span style=\"color: #BA2121; font-style: italic\">&quot;&quot;&quot;explicitly attach docstring&quot;&quot;&quot;</span>\n",
       "        <span style=\"color: #008000; font-weight: bold\">if</span> <span style=\"color: #008000\">isinstance</span>(node<span style=\"color: #666666\">.</span>body[<span style=\"color: #666666\">0</span>], ast<span style=\"color: #666666\">.</span>Expr) <span style=\"color: #AA22FF; font-weight: bold\">and</span> <span style=\"color: #008000\">isinstance</span>(node<span style=\"color: #666666\">.</span>body[<span style=\"color: #666666\">0</span>]<span style=\"color: #666666\">.</span>value, ast<span style=\"color: #666666\">.</span>Str):\n",
       "            assign <span style=\"color: #666666\">=</span> ast<span style=\"color: #666666\">.</span>increment_lineno(ast<span style=\"color: #666666\">.</span>parse(<span style=\"color: #BA2121\">&quot;&quot;&quot;function._&quot;&quot;&quot;</span><span style=\"color: #666666\">+</span><span style=\"color: #BA2121\">&quot;&quot;&quot;_doc_&quot;&quot;&quot;</span><span style=\"color: #666666\">+</span><span style=\"color: #BA2121\">&quot;&quot;&quot;_ = expr&quot;&quot;&quot;</span>)<span style=\"color: #666666\">.</span>body[<span style=\"color: #666666\">0</span>], node<span style=\"color: #666666\">.</span>lineno)\n",
       "            assign<span style=\"color: #666666\">.</span>targets[<span style=\"color: #666666\">0</span>]<span style=\"color: #666666\">.</span>value <span style=\"color: #666666\">=</span> ast<span style=\"color: #666666\">.</span>copy_location(ast<span style=\"color: #666666\">.</span>parse(F<span style=\"color: #BA2121\">&quot;{node.name}&quot;</span>)<span style=\"color: #666666\">.</span>body[<span style=\"color: #666666\">0</span>]<span style=\"color: #666666\">.</span>value, node)\n",
       "            assign<span style=\"color: #666666\">.</span>value <span style=\"color: #666666\">=</span> ast<span style=\"color: #666666\">.</span>copy_location(node<span style=\"color: #666666\">.</span>body[<span style=\"color: #666666\">0</span>]<span style=\"color: #666666\">.</span>value, node)\n",
       "            <span style=\"color: #008000; font-weight: bold\">return</span> [node, assign]\n",
       "        <span style=\"color: #008000; font-weight: bold\">return</span> node\n",
       "    visit_ClassDef <span style=\"color: #666666\">=</span> visit_FunctionDef\n",
       "\n",
       "    <span style=\"color: #008000; font-weight: bold\">def</span> <span style=\"color: #0000FF\">visit_Str</span>(Expand, node):\n",
       "        expand <span style=\"color: #666666\">=</span> ast<span style=\"color: #666666\">.</span>parse(<span style=\"color: #BA2121\">&quot;&quot;&quot;str(__import__(&#39;jason&#39;).S(</span>\n",
       "<span style=\"color: #BA2121\">            &#39;*&#39;)@globals().get(&#39;__annotations__&#39;, {}).get(&#39;@context&#39;, {}))&quot;&quot;&quot;</span>)<span style=\"color: #666666\">.</span>body[<span style=\"color: #666666\">0</span>]<span style=\"color: #666666\">.</span>value\n",
       "        expand<span style=\"color: #666666\">.</span>args[<span style=\"color: #666666\">0</span>]<span style=\"color: #666666\">.</span>left<span style=\"color: #666666\">.</span>args[<span style=\"color: #666666\">0</span>] <span style=\"color: #666666\">=</span> node\n",
       "        <span style=\"color: #008000; font-weight: bold\">return</span> ast<span style=\"color: #666666\">.</span>copy_location(expand, node)\n",
       "\n",
       "    <span style=\"color: #008000; font-weight: bold\">def</span> <span style=\"color: #0000FF\">visit_AnnAssign</span>(Expand, node): <span style=\"color: #008000; font-weight: bold\">return</span> node\n",
       "\n",
       "    <span style=\"color: #008000; font-weight: bold\">def</span> <span style=\"color: #0000FF\">visit_Assign</span>(Expand, node):\n",
       "        <span style=\"color: #008000; font-weight: bold\">return</span> <span style=\"color: #008000\">all</span>(<span style=\"color: #008000\">getattr</span>(<span style=\"color: #008000\">object</span>, <span style=\"color: #BA2121\">&#39;id&#39;</span>, <span style=\"color: #BA2121\">&#39;&#39;</span>) <span style=\"color: #666666\">!=</span> <span style=\"color: #BA2121\">&#39;__annotations__&#39;</span>  <span style=\"color: #008000; font-weight: bold\">for</span> <span style=\"color: #008000\">object</span> <span style=\"color: #AA22FF; font-weight: bold\">in</span> node<span style=\"color: #666666\">.</span>targets) <span style=\"color: #AA22FF; font-weight: bold\">and</span> <span style=\"color: #008000\">super</span>()<span style=\"color: #666666\">.</span>generic_visit(node) <span style=\"color: #AA22FF; font-weight: bold\">or</span> node\n",
       "\n",
       "    <span style=\"color: #008000; font-weight: bold\">def</span> <span style=\"color: #0000FF\">visit_Call</span>(Expand, node):\n",
       "        <span style=\"color: #008000; font-weight: bold\">try</span>: \n",
       "            <span style=\"color: #008000; font-weight: bold\">if</span> operator<span style=\"color: #666666\">.</span>attrgetter(<span style=\"color: #BA2121\">&#39;value.id&#39;</span>)(node<span style=\"color: #666666\">.</span>func) <span style=\"color: #666666\">==</span> <span style=\"color: #BA2121\">&#39;__annotations__&#39;</span>: <span style=\"color: #008000; font-weight: bold\">return</span> node\n",
       "        <span style=\"color: #008000; font-weight: bold\">finally</span>: <span style=\"color: #008000; font-weight: bold\">return</span> <span style=\"color: #008000\">super</span>()<span style=\"color: #666666\">.</span>generic_visit(node)\n",
       "\n",
       "    <span style=\"color: #008000; font-weight: bold\">def</span> <span style=\"color: #0000FF\">visit_Subscript</span>(Expand, node):\n",
       "        <span style=\"color: #008000; font-weight: bold\">if</span> <span style=\"color: #008000\">isinstance</span>(node<span style=\"color: #666666\">.</span>value, ast<span style=\"color: #666666\">.</span>Name) <span style=\"color: #AA22FF; font-weight: bold\">and</span> node<span style=\"color: #666666\">.</span>value<span style=\"color: #666666\">.</span>id <span style=\"color: #666666\">==</span> <span style=\"color: #BA2121\">&quot;__annotations__&quot;</span>:\n",
       "            <span style=\"color: #008000; font-weight: bold\">return</span> node\n",
       "        <span style=\"color: #008000; font-weight: bold\">return</span> <span style=\"color: #008000\">super</span>()<span style=\"color: #666666\">.</span>generic_visit(node)\n",
       "</pre></div>\n"
      ],
      "text/plain": [
       "<IPython.core.display.HTML object>"
      ]
     },
     "metadata": {},
     "output_type": "display_data"
    }
   ],
   "source": [
    "    class Expand(ast.NodeTransformer):      \n",
    "> __annotations__ = {\"@context\": {'w': \"http://en.wikipedia.org/wiki/\"}}\n",
    "> str(\"w:Thermodynamics\")\n",
    "'http://en.wikipedia.org/wiki/Thermodynamics'\n",
    "        \n",
    "        def visit_FunctionDef(Expand, node):\n",
    "            \"\"\"explicitly attach docstring\"\"\"\n",
    "            if isinstance(node.body[0], ast.Expr) and isinstance(node.body[0].value, ast.Str):\n",
    "                assign = ast.increment_lineno(ast.parse(\"\"\"function._\"\"\"+\"\"\"_doc_\"\"\"+\"\"\"_ = expr\"\"\").body[0], node.lineno)\n",
    "                assign.targets[0].value = ast.copy_location(ast.parse(F\"{node.name}\").body[0].value, node)\n",
    "                assign.value = ast.copy_location(node.body[0].value, node)\n",
    "                return [node, assign]\n",
    "            return node\n",
    "        visit_ClassDef = visit_FunctionDef\n",
    "        \n",
    "        def visit_Str(Expand, node):\n",
    "            expand = ast.parse(\"\"\"str(__import__('jason').S(\n",
    "                '*')@globals().get('__annotations__', {}).get('@context', {}))\"\"\").body[0].value\n",
    "            expand.args[0].left.args[0] = node\n",
    "            return ast.copy_location(expand, node)\n",
    "\n",
    "        def visit_AnnAssign(Expand, node): return node\n",
    "        \n",
    "        def visit_Assign(Expand, node):\n",
    "            return all(getattr(object, 'id', '') != '__annotations__'  for object in node.targets) and super().generic_visit(node) or node\n",
    "        \n",
    "        def visit_Call(Expand, node):\n",
    "            try: \n",
    "                if operator.attrgetter('value.id')(node.func) == '__annotations__': return node\n",
    "            finally: return super().generic_visit(node)\n",
    "            \n",
    "        def visit_Subscript(Expand, node):\n",
    "            if isinstance(node.value, ast.Name) and node.value.id == \"__annotations__\":\n",
    "                return node\n",
    "            return super().generic_visit(node)"
   ]
  },
  {
   "cell_type": "code",
   "execution_count": 6,
   "metadata": {},
   "outputs": [],
   "source": [
    "    def expand(str, context=None):\n",
    "        if len(str.splitlines()) == 1 and not str.startswith('@'):\n",
    "            object = pyld.jsonld.expand({'@context': dict(context or {}), str: ''})\n",
    "            if object: return next(iter(object[0].keys()))\n",
    "        return str"
   ]
  },
  {
   "cell_type": "code",
   "execution_count": 7,
   "metadata": {},
   "outputs": [],
   "source": [
    "    def validate_schema(raw_cell, store_history=False, silent=False, shell_futures=True):\n",
    "        shell = IPython.get_ipython()\n",
    "        schema = shell.user_ns.get('__schema__', {})\n",
    "        jsonschema.validate({k:v for k,v in shell.user_ns.items() if k in schema.get('properties', {})}, schema)"
   ]
  },
  {
   "cell_type": "code",
   "execution_count": null,
   "metadata": {},
   "outputs": [],
   "source": []
  }
 ],
 "metadata": {
  "kernelspec": {
   "display_name": "p6",
   "language": "python",
   "name": "other-env"
  },
  "language_info": {
   "codemirror_mode": {
    "name": "ipython",
    "version": 3
   },
   "file_extension": ".py",
   "mimetype": "text/x-python",
   "name": "python",
   "nbconvert_exporter": "python",
   "pygments_lexer": "ipython3",
   "version": "3.6.8"
  },
  "nikola": {
   "date": "2018-12-06 12:00:00 UTC",
   "description": "`pidgin.display` is a collection of display rules for IPython objects.  \n\n`StringFormatter` is a class that adds reules for string `object`s.",
   "slug": "display.ipynb",
   "title": "display.ipynb",
   "type": "text"
  }
 },
 "nbformat": 4,
 "nbformat_minor": 4
}
