{
 "cells": [
  {
   "cell_type": "markdown",
   "metadata": {},
   "source": [
    "[`pidgin.weave`](weave.md.ipynb) allows code to be execute with the display function."
   ]
  },
  {
   "cell_type": "code",
   "execution_count": 1,
   "metadata": {},
   "outputs": [],
   "source": [
    "    if __name__ == '__main__': \n",
    "        %reload_ext pidgin"
   ]
  },
  {
   "cell_type": "code",
   "execution_count": 2,
   "metadata": {},
   "outputs": [],
   "source": [
    "    import ast, IPython, jsonschema, pyld, traitlets, operator"
   ]
  },
  {
   "cell_type": "code",
   "execution_count": 3,
   "metadata": {},
   "outputs": [],
   "source": [
    "    def load_ipython_extension(shell: IPython.core.interactiveshell.InteractiveShell):\n",
    "        shell.ast_transformers.append(Expand())\n",
    "        shell.events.register('post_run_cell', validate_schema)"
   ]
  },
  {
   "cell_type": "code",
   "execution_count": 4,
   "metadata": {},
   "outputs": [],
   "source": [
    "    def unload_ipython_extension(shell: IPython.core.interactiveshell.InteractiveShell):\n",
    "        for i, event in enumerate(shell.events.callbacks['post_run_cell']):\n",
    "            if event is validate_schema: shell.events.callbacks['post_run_cell'].pop(i); break\n",
    "        for i in reversed([i for i, object in enumerate(shell.ast_transformers) if isinstance(object, (Expand,))]): shell.ast_transformers.pop(i)\n",
    "        pops = []\n",
    "        for i, post in enumerate(shell.events.callbacks['post_run_cell']):\n",
    "            if post == validate_schema: pops.append(i)\n",
    "        for i in reversed(pops): shell.events.callbacks['post_run_cell'].pop(i)"
   ]
  },
  {
   "cell_type": "code",
   "execution_count": 5,
   "metadata": {},
   "outputs": [],
   "source": [
    "    class Expand(ast.NodeTransformer):              \n",
    "        def visit_FunctionDef(Expand, node):\n",
    "            \"\"\"explicitly attach docstring\"\"\"\n",
    "            if isinstance(node.body[0], ast.Expr) and isinstance(node.body[0].value, ast.Str):\n",
    "                assign = ast.increment_lineno(ast.parse(\"\"\"function._\"\"\"+\"\"\"_doc_\"\"\"+\"\"\"_ = expr\"\"\").body[0], node.lineno)\n",
    "                assign.targets[0].value = ast.copy_location(ast.parse(F\"{node.name}\").body[0].value, node)\n",
    "                assign.value = ast.copy_location(node.body[0].value, node)\n",
    "                return [node, assign]\n",
    "            return node\n",
    "        visit_ClassDef = visit_FunctionDef\n",
    "        \n",
    "        def visit_Str(Expand, node):\n",
    "            expand =ast.parse(\n",
    "                \"\"\"str(__import__('pidgin').specification.json.expand('*', globals().get('__annotations__', {}).get('@context', {})))\"\"\").body[0].value\n",
    "            expand.args[0].args[0] = node\n",
    "            return ast.copy_location(expand, node)\n",
    "\n",
    "        def visit_AnnAssign(Expand, node): return node\n",
    "        \n",
    "        def visit_Assign(Expand, node):\n",
    "            return all(getattr(object, 'id', '') != '__annotations__'  for object in node.targets) and super().generic_visit(node) or node\n",
    "        \n",
    "        def visit_Call(Expand, node):\n",
    "            try: \n",
    "                if operator.attrgetter('value.id')(node.func) == '__annotations__': return node\n",
    "            finally: return super().generic_visit(node)\n",
    "            \n",
    "        def visit_Subscript(Expand, node):\n",
    "            if isinstance(node.value, ast.Name) and node.value.id == \"__annotations__\":\n",
    "                return node\n",
    "            return super().generic_visit(node)"
   ]
  },
  {
   "cell_type": "code",
   "execution_count": 6,
   "metadata": {},
   "outputs": [],
   "source": [
    "    def expand(str, context=None):\n",
    "        if len(str.splitlines()) == 1 and not str.startswith('@'):\n",
    "            object = pyld.jsonld.expand({'@context': dict(context or {}), str: ''})\n",
    "            if object: return next(iter(object[0].keys()))\n",
    "        return str"
   ]
  },
  {
   "cell_type": "code",
   "execution_count": 7,
   "metadata": {},
   "outputs": [],
   "source": [
    "    def validate_schema(raw_cell, store_history=False, silent=False, shell_futures=True):\n",
    "        shell = IPython.get_ipython()\n",
    "        schema = shell.user_ns.get('__schema__', {})\n",
    "        jsonschema.validate({k:v for k,v in shell.user_ns.items() if k in schema.get('properties', {})}, schema)"
   ]
  }
 ],
 "metadata": {
  "kernelspec": {
   "display_name": "p6",
   "language": "python",
   "name": "other-env"
  },
  "language_info": {
   "codemirror_mode": {
    "name": "ipython",
    "version": 3
   },
   "file_extension": ".py",
   "mimetype": "text/x-python",
   "name": "python",
   "nbconvert_exporter": "python",
   "pygments_lexer": "ipython3",
   "version": "3.6.8"
  },
  "nikola": {
   "date": "2018-12-06 12:00:00 UTC",
   "description": "`pidgin.display` is a collection of display rules for IPython objects.  \n\n`StringFormatter` is a class that adds reules for string `object`s.",
   "slug": "display.ipynb",
   "title": "display.ipynb",
   "type": "text"
  }
 },
 "nbformat": 4,
 "nbformat_minor": 4
}
