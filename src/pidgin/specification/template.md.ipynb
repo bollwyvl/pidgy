{
 "cells": [
  {
   "cell_type": "code",
   "execution_count": 1,
   "metadata": {},
   "outputs": [],
   "source": [
    "    if __name__ == '__main__': \n",
    "        %reload_ext pidgin"
   ]
  },
  {
   "cell_type": "code",
   "execution_count": 2,
   "metadata": {},
   "outputs": [],
   "source": [
    "    from pidgin import shell, specification, formatter\n",
    "    import builtins, string, jinja2, nbconvert, IPython, textwrap, typing as t, traitlets"
   ]
  },
  {
   "cell_type": "code",
   "execution_count": 3,
   "metadata": {},
   "outputs": [],
   "source": [
    "    regex = \".*\\{\\{.* |.*\\}\\}.*\""
   ]
  },
  {
   "cell_type": "raw",
   "metadata": {},
   "source": [
    "    %matplotlib agg\n",
    "    import pandas\n",
    "    with IPython.utils.capture.capture_output() as out:\n",
    "         get_ipython().weave.run_cell(\"{\"+\"{pandas.DataFrame([1]).plot()}}\")\n"
   ]
  },
  {
   "cell_type": "code",
   "execution_count": 4,
   "metadata": {},
   "outputs": [
    {
     "data": {
      "text/html": [
       "<table class=\"highlighttable\"><tr><td><div class=\"linenodiv\" style=\"background-color: #f0f0f0; padding-right: 10px\"><pre style=\"line-height: 125%\">1</pre></div></td><td style=\"text-align: left;\" class=\"code\"><div class=\"highlight\" style=\"background: #f8f8f8\"><pre style=\"line-height: 125%\"><span></span><span style=\"color: #008000; font-weight: bold\">def</span> <span style=\"color: #0000FF\">show_axes</span>(<span style=\"color: #008000\">object</span>):\n",
       "</pre></div>\n",
       "</td></tr></table><pre><code>&gt;&gt;&gt; %matplotlib agg\n",
       "</code></pre>\n",
       "<pre><code>&gt;&gt;&gt; import pandas\n",
       "</code></pre>\n",
       "<pre><code>&gt;&gt;&gt; with IPython.utils.capture.capture_output() as out:\n",
       "...     get_ipython().weave.run_cell(\"{\"+\"{pandas.DataFrame([1]).plot()}}\")\n",
       "</code></pre>\n",
       "<pre><code>&gt;&gt;&gt; out.outputs[0].data\n",
       "{'text/plain': '&lt;IPython.core.display.HTML object&gt;', 'text/html': '&lt;p&gt;&lt;img src=\"data:image/png;base64,...\"/&gt;&lt;/p&gt;\\n'}\n",
       "</code></pre>\n",
       "<table class=\"highlighttable\"><tr><td><div class=\"linenodiv\" style=\"background-color: #f0f0f0; padding-right: 10px\"><pre style=\"line-height: 125%\"> 9\n",
       "10\n",
       "11\n",
       "12</pre></div></td><td style=\"text-align: left;\" class=\"code\"><div class=\"highlight\" style=\"background: #f8f8f8\"><pre style=\"line-height: 125%\"><span></span><span style=\"color: #008000; font-weight: bold\">import</span> <span style=\"color: #0000FF; font-weight: bold\">matplotlib.backends.backend_svg</span>\n",
       "    <span style=\"color: #008000\">bytes</span> <span style=\"color: #666666\">=</span> <span style=\"color: #008000\">__import__</span>(<span style=\"color: #BA2121\">&#39;io&#39;</span>)<span style=\"color: #666666\">.</span>BytesIO()\n",
       "    matplotlib<span style=\"color: #666666\">.</span>backends<span style=\"color: #666666\">.</span>backend_agg<span style=\"color: #666666\">.</span>FigureCanvasAgg(<span style=\"color: #008000\">getattr</span>(<span style=\"color: #008000\">object</span>, <span style=\"color: #BA2121\">&#39;figure&#39;</span>, <span style=\"color: #008000\">object</span>))<span style=\"color: #666666\">.</span>print_png(<span style=\"color: #008000\">bytes</span>)\n",
       "    <span style=\"color: #008000; font-weight: bold\">return</span> format_bytes(<span style=\"color: #008000\">bytes</span><span style=\"color: #666666\">.</span>getvalue(), <span style=\"color: #008000\">object</span>)\n",
       "</pre></div>\n",
       "</td></tr></table>"
      ],
      "text/plain": [
       "<IPython.core.display.HTML object>"
      ]
     },
     "metadata": {},
     "output_type": "display_data"
    }
   ],
   "source": [
    "    def show_axes(object):\n",
    ">>> %matplotlib agg\n",
    ">>> import pandas\n",
    ">>> with IPython.utils.capture.capture_output() as out:\n",
    "...     get_ipython().weave.run_cell(\"{\"+\"{pandas.DataFrame([1]).plot()}}\")\n",
    ">>> out.outputs[0].data\n",
    "{'text/plain': '<IPython.core.display.HTML object>', 'text/html': '<p><img src=\"data:image/png;base64,...\"/></p>\\n'}\n",
    "\n",
    "        import matplotlib.backends.backend_svg\n",
    "        bytes = __import__('io').BytesIO()\n",
    "        matplotlib.backends.backend_agg.FigureCanvasAgg(getattr(object, 'figure', object)).print_png(bytes)\n",
    "        return format_bytes(bytes.getvalue(), object)"
   ]
  },
  {
   "cell_type": "code",
   "execution_count": 5,
   "metadata": {},
   "outputs": [
    {
     "data": {
      "text/html": [
       "<table class=\"highlighttable\"><tr><td><div class=\"linenodiv\" style=\"background-color: #f0f0f0; padding-right: 10px\"><pre style=\"line-height: 125%\">1</pre></div></td><td style=\"text-align: left;\" class=\"code\"><div class=\"highlight\" style=\"background: #f8f8f8\"><pre style=\"line-height: 125%\"><span></span><span style=\"color: #008000; font-weight: bold\">def</span> <span style=\"color: #0000FF\">show_sympy_axes</span>(<span style=\"color: #008000\">object</span>):\n",
       "</pre></div>\n",
       "</td></tr></table><pre><code>&gt;&gt;&gt; import sympy\n",
       "</code></pre>\n",
       "<pre><code>&gt;&gt;&gt; # with IPython.utils.capture.capture_output() as out:\n",
       "... #    get_ipython().weave.run_cell(\"{\"+\"{sympy.plotting.plot(sympy.Symbol('x'), ('x', -10, 10))}}\")\n",
       "</code></pre>\n",
       "<pre><code>&gt;&gt;&gt; # out.outputs[0].data\n",
       "</code></pre>\n",
       "<table class=\"highlighttable\"><tr><td><div class=\"linenodiv\" style=\"background-color: #f0f0f0; padding-right: 10px\"><pre style=\"line-height: 125%\">7\n",
       "8\n",
       "9</pre></div></td><td style=\"text-align: left;\" class=\"code\"><div class=\"highlight\" style=\"background: #f8f8f8\"><pre style=\"line-height: 125%\"><span></span>s <span style=\"color: #666666\">=</span> <span style=\"color: #008000\">__import__</span>(<span style=\"color: #BA2121\">&#39;io&#39;</span>)<span style=\"color: #666666\">.</span>BytesIO()\n",
       "    <span style=\"color: #008000\">object</span><span style=\"color: #666666\">.</span>save(s)\n",
       "    <span style=\"color: #008000; font-weight: bold\">return</span> format_bytes(s<span style=\"color: #666666\">.</span>getvalue(), <span style=\"color: #008000\">object</span>)\n",
       "</pre></div>\n",
       "</td></tr></table>"
      ],
      "text/plain": [
       "<IPython.core.display.HTML object>"
      ]
     },
     "metadata": {},
     "output_type": "display_data"
    }
   ],
   "source": [
    "    def show_sympy_axes(object): \n",
    ">>> import sympy\n",
    ">>> # with IPython.utils.capture.capture_output() as out:\n",
    "... #    get_ipython().weave.run_cell(\"{\"+\"{sympy.plotting.plot(sympy.Symbol('x'), ('x', -10, 10))}}\")\n",
    ">>> # out.outputs[0].data\n",
    "        \n",
    "        s = __import__('io').BytesIO()\n",
    "        object.save(s)\n",
    "        return format_bytes(s.getvalue(), object)"
   ]
  },
  {
   "cell_type": "code",
   "execution_count": 6,
   "metadata": {},
   "outputs": [],
   "source": [
    "    class Template(nbconvert.exporters.TemplateExporter, formatter.Dollar):\n",
    "        special_formatters = traitlets.List(default_value=(\n",
    "                ('matplotlib.figure', 'Axes', show_axes),\n",
    "                ('matplotlib.figure', 'Figure', show_axes),\n",
    "                ('matplotlib.axes._subplots', 'AxesSubplot', show_axes),\n",
    "                ('sympy.plotting.plot', 'Plot', show_sympy_axes),\n",
    "            ))\n",
    "        def __init__(Template, *args, **kwargs):\n",
    "            formatter.Dollar.__init__(Template, *args, **kwargs)\n",
    "            nbconvert.exporters.TemplateExporter.__init__(Template, *args, **kwargs)\n",
    "            Template._create_environment()\n",
    "            [Template.mimebundle_formatter.for_type_by_name(*object) for object in Template.special_formatters]\n",
    "                        \n",
    "        def default_filters(Template):\n",
    "            yield from specification.colors.filters.items()\n",
    "            yield from super().default_filters()\n",
    "            \n",
    "        def _create_environment(Template):\n",
    "            environment = super()._create_environment()\n",
    "            environment.undefined = jinja2.StrictUndefined\n",
    "            environment.finalize = Template.finalize\n",
    "            return environment\n",
    "        \n",
    "        def render(Template, object, **kwargs):\n",
    "            ns = {**vars(builtins), **Template.user_ns, **kwargs}\n",
    "            Template.environment.filters = {**{k: v for k, v in ns.items() if callable(v)}, **Template.environment.filters}\n",
    "            object = super().render(object)\n",
    "            return Template.environment.from_string(object).render(**ns)\n",
    "        \n",
    "        def finalize(Template, object) -> str:\n",
    "            if isinstance(object, str): \n",
    "                new = Template.user_ns.get(object, object)\n",
    "                if new == object:\n",
    "                    return object\n",
    "                if isinstance(new, str):\n",
    "                    return Template.finalize(new)\n",
    "                \n",
    "            bundle, metadata = Template.format(object)\n",
    "            for type in [str for str in reversed(Template.active_types) if str != 'text/plain']:\n",
    "                if type in bundle: \n",
    "                    object = bundle[type]\n",
    "                    if type.startswith('image') and ('svg' not in type): \n",
    "                        object = format_images(type, bundle)\n",
    "                    if type == 'text/latex': \n",
    "                        if object.startswith('$$') and object.endswith('$$'): object = object[1:-1]\n",
    "                    break\n",
    "            return object"
   ]
  },
  {
   "cell_type": "code",
   "execution_count": 7,
   "metadata": {},
   "outputs": [],
   "source": [
    "    def format_bytes(bytes, object):\n",
    "        return {'text/html': format_images('image/png', {'image/png': bytes}), 'text/plain': repr(object),}, {}"
   ]
  },
  {
   "cell_type": "code",
   "execution_count": 8,
   "metadata": {},
   "outputs": [],
   "source": [
    "    def format_images(type, bundle):\n",
    "        str = bundle[type]        \n",
    "        if isinstance(str, bytes): str = __import__('base64').b64encode(str).decode('utf-8')\n",
    "        if type in ('image/svg+xml', 'text/html'):  ...\n",
    "        elif str.startswith('http'): str = F\"\"\"<img src=\"{str}\"/>\"\"\"\n",
    "        else: str = F\"\"\"<img src=\"data:{type};base64,{str}\"/>\"\"\"\n",
    "        return str"
   ]
  },
  {
   "cell_type": "code",
   "execution_count": 9,
   "metadata": {},
   "outputs": [],
   "source": [
    "    def event(shell, event): return list(shell.template.environment.filters) if hasattr(shell, 'template') else []"
   ]
  },
  {
   "cell_type": "code",
   "execution_count": 10,
   "metadata": {},
   "outputs": [],
   "source": [
    "    def load_ipython_extension(shell: IPython.InteractiveShell):\n",
    "        shell.set_hook('complete_command', event, re_key=regex)"
   ]
  },
  {
   "cell_type": "code",
   "execution_count": 11,
   "metadata": {},
   "outputs": [],
   "source": [
    "    def unload_ipython_extension(shell):\n",
    "        try:\n",
    "            del shell.strdispatchers['complete_command'].regexs[regex]\n",
    "        except KeyError: ..."
   ]
  }
 ],
 "metadata": {
  "kernelspec": {
   "display_name": "p6",
   "language": "python",
   "name": "other-env"
  },
  "language_info": {
   "codemirror_mode": {
    "name": "ipython",
    "version": 3
   },
   "file_extension": ".py",
   "mimetype": "text/x-python",
   "name": "python",
   "nbconvert_exporter": "python",
   "pygments_lexer": "ipython3",
   "version": "3.6.8"
  },
  "nikola": {
   "date": "2018-12-06 12:00:00 UTC",
   "description": "`pidgin.display` is a collection of display rules for IPython objects.  \n\n`StringFormatter` is a class that adds reules for string `object`s.",
   "slug": "display.ipynb",
   "title": "display.ipynb",
   "type": "text"
  }
 },
 "nbformat": 4,
 "nbformat_minor": 4
}
