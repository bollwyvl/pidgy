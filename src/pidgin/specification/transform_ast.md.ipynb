{
 "cells": [
  {
   "cell_type": "markdown",
   "metadata": {},
   "source": [
    "The __tangle__ step in literate programming converts text in the specification language to the source language; the source language must be valid to the object language.  [`pidgin.tangle`](tangle.ipynb) transpiles __Markdown__ to valid `IPython` flavored __Python__ using the `IPython` configuration system.\n",
    "\n",
    "Literate `pidgin` documents are reusable as __Python__ modules, documentation, and tests."
   ]
  },
  {
   "cell_type": "code",
   "execution_count": 1,
   "metadata": {},
   "outputs": [],
   "source": [
    "    import ast, IPython, re, functools,traitlets, doctest, textwrap, mistune, types, importnb, typing as t\n",
    "    if __name__ == '__main__': \n",
    "        %reload_ext pidgin\n",
    "    with importnb.Notebook():\n",
    "        from pidgin import tangle"
   ]
  },
  {
   "cell_type": "markdown",
   "metadata": {},
   "source": [
    "## IPython configuration."
   ]
  },
  {
   "cell_type": "code",
   "execution_count": 2,
   "metadata": {},
   "outputs": [],
   "source": [
    "    def log_ast(shell, node):\n",
    "        return IPython.core.interactiveshell.InteractiveShell.transform_ast(shell, node)"
   ]
  },
  {
   "cell_type": "code",
   "execution_count": 3,
   "metadata": {},
   "outputs": [],
   "source": [
    "    def load_ipython_extension(shell):\n",
    "        from . import json\n",
    "        unload_ipython_extension(shell)\n",
    "        shell.ast_transformers.append(ReturnYieldDisplay())\n",
    "        shell.transform_ast = types.MethodType(log_ast, shell)"
   ]
  },
  {
   "cell_type": "code",
   "execution_count": 4,
   "metadata": {},
   "outputs": [],
   "source": [
    "    class ReturnYieldDisplay(ast.NodeTransformer):\n",
    "        def visit_FunctionDef(self, node): return node\n",
    "        \n",
    "        def visit_Return(self, node): \n",
    "            shell = IPython.get_ipython()\n",
    "            if (not hasattr(shell, 'tangle')) or (hasattr(shell, 'tangle') and ip.tangle.return_display):\n",
    "                return ast.Expr(\n",
    "                    ast.Call(\n",
    "                        func=ast.parse('__import__(\"IPython\").display.display', mode='eval').body, \n",
    "                        args=node.value.elts if isinstance(node.value, ast.Tuple) else [node.value], \n",
    "                        keywords=[]))\n",
    "            return node\n",
    "        \n",
    "        def visit_Expr(self, node):\n",
    "            if isinstance(node.value, ast.Yield): \n",
    "                node = self.visit_Return(node.value)\n",
    "            return node"
   ]
  },
  {
   "cell_type": "markdown",
   "metadata": {},
   "source": [
    "`MarkdownImporter` imports __Markdown__ files are source.  By default they recieve a Markdown repr.\n",
    "\n",
    "A markdown file is a notebook with one cell."
   ]
  },
  {
   "cell_type": "code",
   "execution_count": 5,
   "metadata": {},
   "outputs": [],
   "source": [
    "    def unload_ipython_extension(shell):\n",
    "        from . import json\n",
    "        shell.transform_ast = types.MethodType(type(shell).transform_ast, shell)\n",
    "        for i in reversed([i for i, object in enumerate(shell.ast_transformers) if isinstance(object, (ReturnYieldDisplay))]): shell.ast_transformers.pop(i)"
   ]
  }
 ],
 "metadata": {
  "kernelspec": {
   "display_name": "p6",
   "language": "python",
   "name": "other-env"
  },
  "language_info": {
   "codemirror_mode": {
    "name": "ipython",
    "version": 3
   },
   "file_extension": ".py",
   "mimetype": "text/x-python",
   "name": "python",
   "nbconvert_exporter": "python",
   "pygments_lexer": "ipython3",
   "version": "3.6.8"
  }
 },
 "nbformat": 4,
 "nbformat_minor": 4
}
