{
 "cells": [
  {
   "cell_type": "code",
   "execution_count": 1,
   "metadata": {},
   "outputs": [],
   "source": [
    "    if __name__ == '__main__':\n",
    "        %reload_ext pidgin"
   ]
  },
  {
   "cell_type": "code",
   "execution_count": 2,
   "metadata": {},
   "outputs": [
    {
     "data": {
      "text/html": [
       "<table class=\"highlighttable\"><tr><td><div class=\"linenodiv\" style=\"background-color: #f0f0f0; padding-right: 10px\"><pre style=\"line-height: 125%\">1</pre></div></td><td style=\"text-align: left;\" class=\"code\"><div class=\"highlight\" style=\"background: #f8f8f8\"><pre style=\"line-height: 125%\"><span></span><span style=\"color: #19177C\">__doc__</span><span style=\"color: #666666\">=</span>\\\n",
       "</pre></div>\n",
       "</td></tr></table><p><span class=\"highlight\"><code style=\"display: inline-block; vertical-align: middle; line-height: 125%\"><span></span><span style=\"color: #008000; font-weight: bold\">import</span> <span style=\"color: #0000FF; font-weight: bold\">pidgin</span>\n",
       "</code></span>; <span class=\"highlight\"><code style=\"display: inline-block; vertical-align: middle; line-height: 125%\"><span></span>pidgin<span style=\"color: #666666\">.</span>specification<span style=\"color: #666666\">.</span>emojis\n",
       "</code></span> exposes emojis in the completer and resulting document.  The default emoji behavior recognizes emojis with a triple underscore - ___ .</p>\n",
       "<pre><code>&gt;&gt;&gt; assert \"⚾ 👶\" == \"⚾ 👶\"\n",
       "</code></pre>\n"
      ],
      "text/plain": [
       "<IPython.core.display.HTML object>"
      ]
     },
     "metadata": {},
     "output_type": "display_data"
    }
   ],
   "source": [
    "    __doc__=\\\n",
    "`import pidgin`; `pidgin.specification.emojis` exposes emojis in the completer and resulting document.  The default emoji behavior recognizes emojis with a triple underscore - ___ .\n",
    "\n",
    ">>> assert \"___baseball___ ___baby___\" == \"⚾ 👶\"\n"
   ]
  },
  {
   "cell_type": "code",
   "execution_count": 3,
   "metadata": {},
   "outputs": [],
   "source": [
    "     DELIMITER = '___'\n",
    "     regex = F\".*({DELIMITER}\\S*)\""
   ]
  },
  {
   "cell_type": "code",
   "execution_count": 4,
   "metadata": {},
   "outputs": [],
   "source": [
    "    import emoji, ast, collections, IPython"
   ]
  },
  {
   "cell_type": "code",
   "execution_count": 5,
   "metadata": {},
   "outputs": [],
   "source": [
    "    def emojize(str):\n",
    "        return emoji.emojize(str, delimiters=(DELIMITER, DELIMITER))"
   ]
  },
  {
   "cell_type": "code",
   "execution_count": 6,
   "metadata": {},
   "outputs": [],
   "source": [
    "    class Emojize(ast.NodeTransformer):\n",
    "        def visit_Str(Emojize, node):\n",
    "            if DELIMITER in node.s: node.s = emojize(node.s)\n",
    "            return node"
   ]
  },
  {
   "cell_type": "code",
   "execution_count": 7,
   "metadata": {},
   "outputs": [],
   "source": [
    "    def event(shell, event):\n",
    "        if DELIMITER in event.symbol:\n",
    "            return list([DELIMITER+str.strip(':')+DELIMITER for str in emoji.EMOJI_UNICODE])\n",
    "        return []"
   ]
  },
  {
   "cell_type": "code",
   "execution_count": 8,
   "metadata": {},
   "outputs": [],
   "source": [
    "    def load_ipython_extension(shell: IPython.InteractiveShell):\n",
    "        shell.ast_transformers.insert(0, Emojize())\n",
    "        shell.set_hook('complete_command', event, re_key=regex)"
   ]
  },
  {
   "cell_type": "code",
   "execution_count": 9,
   "metadata": {},
   "outputs": [],
   "source": [
    "    def unload_ipython_extension(shell):\n",
    "        try:\n",
    "            del shell.strdispatchers['complete_command'].regexs[regex]\n",
    "        except KeyError: ..."
   ]
  }
 ],
 "metadata": {
  "kernelspec": {
   "display_name": "p6",
   "language": "python",
   "name": "other-env"
  },
  "language_info": {
   "codemirror_mode": {
    "name": "ipython",
    "version": 3
   },
   "file_extension": ".py",
   "mimetype": "text/x-python",
   "name": "python",
   "nbconvert_exporter": "python",
   "pygments_lexer": "ipython3",
   "version": "3.6.8"
  }
 },
 "nbformat": 4,
 "nbformat_minor": 4
}
