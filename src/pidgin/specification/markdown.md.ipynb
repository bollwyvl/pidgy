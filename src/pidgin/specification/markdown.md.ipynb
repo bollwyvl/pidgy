{
 "cells": [
  {
   "cell_type": "markdown",
   "metadata": {},
   "source": [
    "# `pidgin.specification.markdown` \n",
    "\n",
    "Controls the output behavior of the `pidgin.weave` step.  `pidgin.\\` will `tangle` indented block code, footnotes, and reference links before rendering the __Markdown__ input as html output."
   ]
  },
  {
   "cell_type": "code",
   "execution_count": 1,
   "metadata": {},
   "outputs": [],
   "source": [
    "    if __name__ == '__main__': \n",
    "        %reload_ext pidgin"
   ]
  },
  {
   "cell_type": "code",
   "execution_count": 2,
   "metadata": {},
   "outputs": [],
   "source": [
    "    import ast, jinja2, sys, nbconvert, nbformat, contextlib, collections, pygments, IPython, mistune, doctest, re, traitlets, textwrap, types, typing as t, importlib, importnb,  jinja2, builtins, jsonschema\n",
    "    from pidgin import tangle, shell, formatter"
   ]
  },
  {
   "cell_type": "code",
   "execution_count": 3,
   "metadata": {},
   "outputs": [],
   "source": [
    "\n",
    "```\n",
    "import pidgin\n",
    "try: import graphviz\n",
    "except: graphviz = None\n",
    "from pidgin.docs.references import *\n",
    "```\n",
    "\n",
    "`pidgin` adds typographic indicators to `mistune.Markdown` to include [`graphviz`][what is graphviz?] and [`doctest`]\n"
   ]
  },
  {
   "cell_type": "code",
   "execution_count": 4,
   "metadata": {},
   "outputs": [
    {
     "data": {
      "text/html": [
       "<table class=\"highlighttable\"><tr><td><div class=\"linenodiv\" style=\"background-color: #f0f0f0; padding-right: 10px\"><pre style=\"line-height: 125%\"> 1\n",
       " 2\n",
       " 3\n",
       " 4\n",
       " 5\n",
       " 6\n",
       " 7\n",
       " 8\n",
       " 9\n",
       "10\n",
       "11\n",
       "12\n",
       "13\n",
       "14\n",
       "15\n",
       "16\n",
       "17\n",
       "18\n",
       "19\n",
       "20\n",
       "21\n",
       "22\n",
       "23\n",
       "24\n",
       "25\n",
       "26</pre></div></td><td style=\"text-align: left;\" class=\"code\"><div class=\"highlight\" style=\"background: #f8f8f8\"><pre style=\"line-height: 125%\"><span></span><span style=\"color: #008000; font-weight: bold\">class</span> <span style=\"color: #0000FF; font-weight: bold\">Markdown</span>(mistune<span style=\"color: #666666\">.</span>Renderer, mistune<span style=\"color: #666666\">.</span>Markdown, shell<span style=\"color: #666666\">.</span>Shell):\n",
       "    run <span style=\"color: #666666\">=</span> traitlets<span style=\"color: #666666\">.</span>Bool(default_value<span style=\"color: #666666\">=</span><span style=\"color: #008000\">True</span>)\n",
       "    <span style=\"color: #008000; font-weight: bold\">def</span> <span style=\"color: #0000FF\">__init__</span>(Markdown, <span style=\"color: #666666\">*</span>args, <span style=\"color: #666666\">**</span>kwargs):\n",
       "        shell<span style=\"color: #666666\">.</span>Shell<span style=\"color: #666666\">.</span><span style=\"color: #0000FF\">__init__</span>(Markdown, <span style=\"color: #666666\">*</span>args, <span style=\"color: #666666\">**</span>kwargs)\n",
       "        mistune<span style=\"color: #666666\">.</span>Renderer<span style=\"color: #666666\">.</span><span style=\"color: #0000FF\">__init__</span>(Markdown)\n",
       "        mistune<span style=\"color: #666666\">.</span>Markdown<span style=\"color: #666666\">.</span><span style=\"color: #0000FF\">__init__</span>(Markdown, renderer<span style=\"color: #666666\">=</span>Markdown, block<span style=\"color: #666666\">=</span>BlockLexer, inline<span style=\"color: #666666\">=</span>InlineLexer)\n",
       "        Markdown<span style=\"color: #666666\">.</span>block<span style=\"color: #666666\">.</span>shell <span style=\"color: #666666\">=</span> Markdown\n",
       "        Markdown<span style=\"color: #666666\">.</span>_codespan_buffer <span style=\"color: #666666\">=</span> []\n",
       "        Markdown<span style=\"color: #666666\">.</span>_block_code_buffer <span style=\"color: #666666\">=</span> []\n",
       "\n",
       "    <span style=\"color: #008000; font-weight: bold\">def</span> <span style=\"color: #0000FF\">__call__</span>(<span style=\"color: #008000\">self</span>, text):\n",
       "        <span style=\"color: #008000; font-weight: bold\">from</span> <span style=\"color: #0000FF; font-weight: bold\">pidgin</span> <span style=\"color: #008000; font-weight: bold\">import</span> transform_cell\n",
       "\n",
       "        text <span style=\"color: #666666\">=</span> transform_cell<span style=\"color: #666666\">.</span>strip_blank_lines(text<span style=\"color: #666666\">.</span>rstrip(<span style=\"color: #BA2121\">&#39;</span><span style=\"color: #BB6622; font-weight: bold\">\\n</span><span style=\"color: #BA2121\">&#39;</span>))\n",
       "        <span style=\"color: #008000\">self</span><span style=\"color: #666666\">.</span>blob, <span style=\"color: #008000\">self</span><span style=\"color: #666666\">.</span>linenos <span style=\"color: #666666\">=</span> text, <span style=\"color: #008000\">tuple</span>()\n",
       "        <span style=\"color: #008000; font-weight: bold\">return</span> <span style=\"color: #008000\">self</span><span style=\"color: #666666\">.</span>parse(text)\n",
       "\n",
       "    render <span style=\"color: #666666\">=</span> <span style=\"color: #0000FF\">__call__</span>\n",
       "\n",
       "    <span style=\"color: #008000; font-weight: bold\">def</span> <span style=\"color: #0000FF\">__enter__</span>(Markdown): \n",
       "        Markdown<span style=\"color: #666666\">.</span>run <span style=\"color: #666666\">=</span> <span style=\"color: #008000\">False</span>\n",
       "        <span style=\"color: #008000; font-weight: bold\">return</span> Markdown\n",
       "\n",
       "    <span style=\"color: #008000; font-weight: bold\">def</span> <span style=\"color: #0000FF\">__exit__</span>(Markdown, <span style=\"color: #666666\">*</span>e): Markdown<span style=\"color: #666666\">.</span>run <span style=\"color: #666666\">=</span> <span style=\"color: #008000\">True</span>\n",
       "\n",
       "    <span style=\"color: #008000; font-weight: bold\">def</span> <span style=\"color: #0000FF\">pygment</span>(Markdown, text, lang<span style=\"color: #666666\">=</span><span style=\"color: #008000\">None</span>, <span style=\"color: #666666\">**</span>kwargs):\n",
       "</pre></div>\n",
       "</td></tr></table><p><span class=\"highlight\"><code style=\"display: inline-block; vertical-align: middle; line-height: 125%\"><span></span>Markdown<span style=\"color: #666666\">.</span>pygment\n",
       "</code></span> is a customizable utility to <strong>highlight</strong> inline and block code.</p>\n",
       "<table class=\"highlighttable\"><tr><td><div class=\"linenodiv\" style=\"background-color: #f0f0f0; padding-right: 10px\"><pre style=\"line-height: 125%\">29\n",
       "30\n",
       "31\n",
       "32\n",
       "33</pre></div></td><td style=\"text-align: left;\" class=\"code\"><div class=\"highlight\" style=\"background: #f8f8f8\"><pre style=\"line-height: 125%\"><span></span>lang <span style=\"color: #666666\">=</span> lang <span style=\"color: #AA22FF; font-weight: bold\">or</span> <span style=\"color: #BA2121\">&#39;python&#39;</span>\n",
       "        <span style=\"color: #008000; font-weight: bold\">import</span> <span style=\"color: #0000FF; font-weight: bold\">pygments</span>\n",
       "        <span style=\"color: #008000; font-weight: bold\">return</span> pygments<span style=\"color: #666666\">.</span>highlight(text, pygments<span style=\"color: #666666\">.</span>lexers<span style=\"color: #666666\">.</span>get_lexer_by_name(lang, stripall<span style=\"color: #666666\">=</span><span style=\"color: #008000\">True</span>), pygments<span style=\"color: #666666\">.</span>formatters<span style=\"color: #666666\">.</span>html<span style=\"color: #666666\">.</span>HtmlFormatter(noclasses<span style=\"color: #666666\">=</span><span style=\"color: #008000\">True</span>, <span style=\"color: #666666\">**</span>kwargs))\n",
       "\n",
       "    <span style=\"color: #008000; font-weight: bold\">def</span> <span style=\"color: #0000FF\">codespan</span>(Markdown, text, lang<span style=\"color: #666666\">=</span><span style=\"color: #008000\">None</span>):\n",
       "</pre></div>\n",
       "</td></tr></table><p><span class=\"highlight\"><code style=\"display: inline-block; vertical-align: middle; line-height: 125%\"><span></span>Markdown<span style=\"color: #666666\">.</span>codespan\n",
       "</code></span> reformats html output to use inline elements: div-&gt;span &amp; pre-&gt;code.</p>\n",
       "<table class=\"highlighttable\"><tr><td><div class=\"linenodiv\" style=\"background-color: #f0f0f0; padding-right: 10px\"><pre style=\"line-height: 125%\">36\n",
       "37\n",
       "38\n",
       "39\n",
       "40\n",
       "41\n",
       "42\n",
       "43\n",
       "44\n",
       "45\n",
       "46</pre></div></td><td style=\"text-align: left;\" class=\"code\"><div class=\"highlight\" style=\"background: #f8f8f8\"><pre style=\"line-height: 125%\"><span></span>Markdown<span style=\"color: #666666\">.</span>_codespan_buffer<span style=\"color: #666666\">.</span>append(text)\n",
       "        <span style=\"color: #008000; font-weight: bold\">if</span> <span style=\"color: #AA22FF; font-weight: bold\">not</span> text<span style=\"color: #666666\">.</span>endswith(<span style=\"color: #BA2121\">&#39;</span><span style=\"color: #BB6622; font-weight: bold\">\\\\</span><span style=\"color: #BA2121\">&#39;</span>):\n",
       "            Markdown<span style=\"color: #666666\">.</span>run_literal(<span style=\"color: #BA2121\">&#39;</span><span style=\"color: #BB6622; font-weight: bold\">\\n</span><span style=\"color: #BA2121\">&#39;</span><span style=\"color: #666666\">.</span>join(Markdown<span style=\"color: #666666\">.</span>_codespan_buffer)<span style=\"color: #666666\">.</span>rstrip())\n",
       "            Markdown<span style=\"color: #666666\">.</span>_codespan_buffer <span style=\"color: #666666\">=</span> []\n",
       "        text <span style=\"color: #666666\">=</span> text<span style=\"color: #666666\">.</span>rstrip(<span style=\"color: #BA2121\">&#39;</span><span style=\"color: #BB6622; font-weight: bold\">\\\\</span><span style=\"color: #BA2121\">&#39;</span>)\n",
       "        <span style=\"color: #008000; font-weight: bold\">return</span> F<span style=\"color: #BA2121\">&quot;&quot;&quot;&lt;span{</span>\n",
       "<span style=\"color: #BA2121\">            Markdown.pygment(text, prestyles=&quot;display: inline-block; vertical-align: middle&quot;, nobackground=True).strip()[4:-4]</span>\n",
       "<span style=\"color: #BA2121\">        }span&gt;&quot;&quot;&quot;</span><span style=\"color: #666666\">.</span>replace(<span style=\"color: #BA2121\">&#39;&lt;pre&#39;</span>, <span style=\"color: #BA2121\">&#39;&lt;code&#39;</span>)<span style=\"color: #666666\">.</span>replace(<span style=\"color: #BA2121\">&#39;&lt;/pre&#39;</span>, <span style=\"color: #BA2121\">&#39;&lt;/code&#39;</span>)\n",
       "\n",
       "\n",
       "    <span style=\"color: #008000; font-weight: bold\">def</span> <span style=\"color: #0000FF\">block_code</span>(Markdown, text, lang<span style=\"color: #666666\">=</span><span style=\"color: #008000\">None</span>):\n",
       "</pre></div>\n",
       "</td></tr></table><p><span class=\"highlight\"><code style=\"display: inline-block; vertical-align: middle; line-height: 125%\"><span></span>Markdown<span style=\"color: #666666\">.</span>block_code\n",
       "</code></span> applies <strong>pygments</strong> highlighting to code blocks with corresponding line numbers\n",
       "to the parent code.</p>\n",
       "<table class=\"highlighttable\"><tr><td><div class=\"linenodiv\" style=\"background-color: #f0f0f0; padding-right: 10px\"><pre style=\"line-height: 125%\">50\n",
       "51\n",
       "52\n",
       "53\n",
       "54\n",
       "55\n",
       "56\n",
       "57\n",
       "58\n",
       "59\n",
       "60\n",
       "61\n",
       "62\n",
       "63\n",
       "64\n",
       "65\n",
       "66\n",
       "67\n",
       "68\n",
       "69</pre></div></td><td style=\"text-align: left;\" class=\"code\"><div class=\"highlight\" style=\"background: #f8f8f8\"><pre style=\"line-height: 125%\"><span></span><span style=\"color: #008000; font-weight: bold\">if</span> lang <span style=\"color: #666666\">==</span> <span style=\"color: #BA2121\">&quot;&quot;</span>: \n",
       "            Markdown<span style=\"color: #666666\">.</span>_block_code_buffer<span style=\"color: #666666\">.</span>append(text)\n",
       "            <span style=\"color: #008000; font-weight: bold\">if</span> <span style=\"color: #AA22FF; font-weight: bold\">not</span> text<span style=\"color: #666666\">.</span>endswith(<span style=\"color: #BA2121\">&#39;</span><span style=\"color: #BB6622; font-weight: bold\">\\\\</span><span style=\"color: #BA2121\">&#39;</span>):\n",
       "                Markdown<span style=\"color: #666666\">.</span>run_literal(<span style=\"color: #BA2121\">&#39;</span><span style=\"color: #BB6622; font-weight: bold\">\\n</span><span style=\"color: #BA2121\">&#39;</span><span style=\"color: #666666\">.</span>join(Markdown<span style=\"color: #666666\">.</span>_block_code_buffer))\n",
       "                Markdown<span style=\"color: #666666\">.</span>_block_code_buffer <span style=\"color: #666666\">=</span> []\n",
       "\n",
       "        <span style=\"color: #008000; font-weight: bold\">if</span> <span style=\"color: #008000\">hasattr</span>(Markdown, <span style=\"color: #BA2121\">&#39;blob&#39;</span>):\n",
       "            m <span style=\"color: #666666\">=</span> <span style=\"color: #008000\">next</span>(re<span style=\"color: #666666\">.</span>finditer(<span style=\"color: #BA2121\">&#39;\\W+&#39;</span><span style=\"color: #666666\">.</span>join(<span style=\"color: #008000\">map</span>(re<span style=\"color: #666666\">.</span>escape, <span style=\"color: #008000\">filter</span>(<span style=\"color: #008000\">bool</span>, <span style=\"color: #008000\">map</span>(<span style=\"color: #008000\">str</span><span style=\"color: #666666\">.</span>strip, text<span style=\"color: #666666\">.</span>splitlines())))), Markdown<span style=\"color: #666666\">.</span>blob))\n",
       "            Markdown<span style=\"color: #666666\">.</span>linenos <span style=\"color: #666666\">+=</span> <span style=\"color: #008000\">len</span>(m<span style=\"color: #666666\">.</span>string[:m<span style=\"color: #666666\">.</span>span()[<span style=\"color: #666666\">0</span>]]<span style=\"color: #666666\">.</span>splitlines()) <span style=\"color: #666666\">+</span> (lang <span style=\"color: #AA22FF; font-weight: bold\">is</span> <span style=\"color: #AA22FF; font-weight: bold\">not</span> <span style=\"color: #008000\">None</span>),\n",
       "            Markdown<span style=\"color: #666666\">.</span>blob <span style=\"color: #666666\">=</span> m<span style=\"color: #666666\">.</span>string[m<span style=\"color: #666666\">.</span>span()[<span style=\"color: #666666\">1</span>]:]\n",
       "            <span style=\"color: #008000; font-weight: bold\">try</span>:\n",
       "                <span style=\"color: #008000; font-weight: bold\">return</span> Markdown<span style=\"color: #666666\">.</span>pygment(\n",
       "                    text<span style=\"color: #666666\">.</span>rstrip(<span style=\"color: #BA2121\">&#39;</span><span style=\"color: #BB6622; font-weight: bold\">\\\\</span><span style=\"color: #BA2121\">&#39;</span>), lang, linenos<span style=\"color: #666666\">=</span><span style=\"color: #BA2121\">&#39;table&#39;</span>, linenostart<span style=\"color: #666666\">=</span><span style=\"color: #008000\">sum</span>(Markdown<span style=\"color: #666666\">.</span>linenos)\n",
       "                )<span style=\"color: #666666\">.</span>replace(<span style=\"color: #BA2121\">&quot;&quot;&quot;&lt;td class=&quot;code&quot;&gt;&quot;&quot;&quot;</span>, <span style=\"color: #BA2121\">&quot;&quot;&quot;&lt;td style=&quot;text-align: left;&quot; class=&quot;code&quot;&gt;&quot;&quot;&quot;</span>)\n",
       "            <span style=\"color: #008000; font-weight: bold\">finally</span>:\n",
       "                Markdown<span style=\"color: #666666\">.</span>linenos <span style=\"color: #666666\">+=</span> <span style=\"color: #008000\">len</span>(m<span style=\"color: #666666\">.</span>string[<span style=\"color: #008000\">slice</span>(<span style=\"color: #666666\">*</span>m<span style=\"color: #666666\">.</span>span())]<span style=\"color: #666666\">.</span>splitlines())<span style=\"color: #666666\">-2</span>,\n",
       "\n",
       "        <span style=\"color: #008000; font-weight: bold\">return</span> Markdown<span style=\"color: #666666\">.</span>pygment(text<span style=\"color: #666666\">.</span>rstrip(<span style=\"color: #BA2121\">&#39;</span><span style=\"color: #BB6622; font-weight: bold\">\\\\</span><span style=\"color: #BA2121\">&#39;</span>), lang)\n",
       "\n",
       "    <span style=\"color: #008000; font-weight: bold\">def</span> <span style=\"color: #0000FF\">run_literal</span>(Markdown, <span style=\"color: #008000\">str</span>):\n",
       "</pre></div>\n",
       "</td></tr></table><p><span class=\"highlight\"><code style=\"display: inline-block; vertical-align: middle; line-height: 125%\"><span></span>Markdown<span style=\"color: #666666\">.</span>run_literal\n",
       "</code></span> is used by <span class=\"highlight\"><code style=\"display: inline-block; vertical-align: middle; line-height: 125%\"><span></span>Markdown<span style=\"color: #666666\">.</span>block_code\n",
       "</code></span> and <span class=\"highlight\"><code style=\"display: inline-block; vertical-align: middle; line-height: 125%\"><span></span>Markdown<span style=\"color: #666666\">.</span>codespan\n",
       "</code></span> to execute the contents.</p>\n",
       "<table class=\"highlighttable\"><tr><td><div class=\"linenodiv\" style=\"background-color: #f0f0f0; padding-right: 10px\"><pre style=\"line-height: 125%\">72\n",
       "73\n",
       "74\n",
       "75\n",
       "76\n",
       "77\n",
       "78\n",
       "79\n",
       "80\n",
       "81\n",
       "82\n",
       "83\n",
       "84\n",
       "85\n",
       "86</pre></div></td><td style=\"text-align: left;\" class=\"code\"><div class=\"highlight\" style=\"background: #f8f8f8\"><pre style=\"line-height: 125%\"><span></span><span style=\"color: #008000; font-weight: bold\">return</span> Markdown<span style=\"color: #666666\">.</span>run <span style=\"color: #AA22FF; font-weight: bold\">and</span> <span style=\"color: #008000\">super</span>()<span style=\"color: #666666\">.</span>run_cell(textwrap<span style=\"color: #666666\">.</span>indent(<span style=\"color: #008000\">str</span>, <span style=\"color: #BA2121\">&#39; &#39;</span><span style=\"color: #666666\">*4</span>), silent<span style=\"color: #666666\">=</span><span style=\"color: #008000\">True</span>)\n",
       "\n",
       "    <span style=\"color: #008000; font-weight: bold\">def</span> <span style=\"color: #0000FF\">output_doctest</span>(<span style=\"color: #008000\">self</span>): <span style=\"color: #008000; font-weight: bold\">return</span> <span style=\"color: #008000\">self</span><span style=\"color: #666666\">.</span>renderer<span style=\"color: #666666\">.</span>doctest(<span style=\"color: #008000\">self</span><span style=\"color: #666666\">.</span>token[<span style=\"color: #BA2121\">&#39;text&#39;</span>])\n",
       "\n",
       "    <span style=\"color: #008000; font-weight: bold\">def</span> <span style=\"color: #0000FF\">output_graphviz</span>(<span style=\"color: #008000\">self</span>): <span style=\"color: #008000; font-weight: bold\">return</span> <span style=\"color: #008000\">self</span><span style=\"color: #666666\">.</span>renderer<span style=\"color: #666666\">.</span>graphviz(<span style=\"color: #008000\">self</span><span style=\"color: #666666\">.</span>token[<span style=\"color: #BA2121\">&#39;text&#39;</span>])\n",
       "\n",
       "    <span style=\"color: #008000; font-weight: bold\">def</span> <span style=\"color: #0000FF\">doctest</span>(<span style=\"color: #008000\">self</span>, text): <span style=\"color: #008000; font-weight: bold\">return</span> <span style=\"color: #008000\">super</span>()<span style=\"color: #666666\">.</span>block_code(text)\n",
       "    <span style=\"color: #008000; font-weight: bold\">def</span> <span style=\"color: #0000FF\">graphviz</span>(<span style=\"color: #008000\">self</span>, text): \n",
       "        <span style=\"color: #008000; font-weight: bold\">return</span> <span style=\"color: #008000\">__import__</span>(<span style=\"color: #BA2121\">&#39;graphviz&#39;</span>)<span style=\"color: #666666\">.</span>Source(text)<span style=\"color: #666666\">.</span>_repr_svg_()\n",
       "\n",
       "\n",
       "    <span style=\"color: #008000; font-weight: bold\">def</span> <span style=\"color: #0000FF\">header</span>(<span style=\"color: #008000\">self</span>, text, level, raw<span style=\"color: #666666\">=</span><span style=\"color: #008000\">None</span>):\n",
       "        <span style=\"color: #008000; font-weight: bold\">import</span> <span style=\"color: #0000FF; font-weight: bold\">html</span><span style=\"color: #666666\">,</span> <span style=\"color: #0000FF; font-weight: bold\">slugify</span>\n",
       "        slug <span style=\"color: #666666\">=</span> html<span style=\"color: #666666\">.</span>escape(<span style=\"color: #008000\">__import__</span>(<span style=\"color: #BA2121\">&#39;slugify&#39;</span>)<span style=\"color: #666666\">.</span>slugify(text, lowercase<span style=\"color: #666666\">=</span><span style=\"color: #008000\">False</span>))\n",
       "        <span style=\"color: #008000; font-weight: bold\">return</span> F<span style=\"color: #BA2121\">&quot;&quot;&quot;&lt;a href=&quot;#{slug}&quot;&gt;&lt;h{level} id=&quot;{slug}&quot;&gt;{text}&lt;/h{level}&gt;&lt;/a&gt;&quot;&quot;&quot;</span>\n",
       "</pre></div>\n",
       "</td></tr></table>"
      ],
      "text/plain": [
       "<IPython.core.display.HTML object>"
      ]
     },
     "metadata": {},
     "output_type": "display_data"
    }
   ],
   "source": [
    "    class Markdown(mistune.Renderer, mistune.Markdown, shell.Shell):\n",
    "        run = traitlets.Bool(default_value=True)\n",
    "        def __init__(Markdown, *args, **kwargs):\n",
    "            shell.Shell.__init__(Markdown, *args, **kwargs)\n",
    "            mistune.Renderer.__init__(Markdown)\n",
    "            mistune.Markdown.__init__(Markdown, renderer=Markdown, block=BlockLexer, inline=InlineLexer)\n",
    "            Markdown.block.shell = Markdown\n",
    "            Markdown._codespan_buffer = []\n",
    "            Markdown._block_code_buffer = []\n",
    "            \n",
    "        def __call__(self, text):\n",
    "            from pidgin import transform_cell\n",
    "            \n",
    "            text = transform_cell.strip_blank_lines(text.rstrip('\\n'))\n",
    "            self.blob, self.linenos = text, tuple()\n",
    "            return self.parse(text)\n",
    "\n",
    "        render = __call__\n",
    "        \n",
    "        def __enter__(Markdown): \n",
    "            Markdown.run = False\n",
    "            return Markdown\n",
    "        \n",
    "        def __exit__(Markdown, *e): Markdown.run = True\n",
    "                    \n",
    "        def pygment(Markdown, text, lang=None, **kwargs):\n",
    "`Markdown.pygment` is a customizable utility to __highlight__ inline and block code.\n",
    "            \n",
    "            lang = lang or 'python'\n",
    "            import pygments\n",
    "            return pygments.highlight(text, pygments.lexers.get_lexer_by_name(lang, stripall=True), pygments.formatters.html.HtmlFormatter(noclasses=True, **kwargs))\n",
    "        \n",
    "        def codespan(Markdown, text, lang=None):\n",
    "`Markdown.codespan` reformats html output to use inline elements: div->span & pre->code.\n",
    "            \n",
    "            Markdown._codespan_buffer.append(text)\n",
    "            if not text.endswith('\\\\'):\n",
    "                Markdown.run_literal('\\n'.join(Markdown._codespan_buffer).rstrip())\n",
    "                Markdown._codespan_buffer = []\n",
    "            text = text.rstrip('\\\\')\n",
    "            return F\"\"\"<span{\n",
    "                Markdown.pygment(text, prestyles=\"display: inline-block; vertical-align: middle\", nobackground=True).strip()[4:-4]\n",
    "            }span>\"\"\".replace('<pre', '<code').replace('</pre', '</code')\n",
    "\n",
    "        \n",
    "        def block_code(Markdown, text, lang=None):\n",
    "`Markdown.block_code` applies __pygments__ highlighting to code blocks with corresponding line numbers\n",
    "to the parent code.\n",
    "            \n",
    "            if lang == \"\": \n",
    "                Markdown._block_code_buffer.append(text)\n",
    "                if not text.endswith('\\\\'):\n",
    "                    Markdown.run_literal('\\n'.join(Markdown._block_code_buffer))\n",
    "                    Markdown._block_code_buffer = []\n",
    "            \n",
    "            if hasattr(Markdown, 'blob'):\n",
    "                m = next(re.finditer('\\W+'.join(map(re.escape, filter(bool, map(str.strip, text.splitlines())))), Markdown.blob))\n",
    "                Markdown.linenos += len(m.string[:m.span()[0]].splitlines()) + (lang is not None),\n",
    "                Markdown.blob = m.string[m.span()[1]:]\n",
    "                try:\n",
    "                    return Markdown.pygment(\n",
    "                        text.rstrip('\\\\'), lang, linenos='table', linenostart=sum(Markdown.linenos)\n",
    "                    ).replace(\"\"\"<td class=\"code\">\"\"\", \"\"\"<td style=\"text-align: left;\" class=\"code\">\"\"\")\n",
    "                finally:\n",
    "                    Markdown.linenos += len(m.string[slice(*m.span())].splitlines())-2,\n",
    "\n",
    "            return Markdown.pygment(text.rstrip('\\\\'), lang)\n",
    "        \n",
    "        def run_literal(Markdown, str):\n",
    "`Markdown.run_literal` is used by `Markdown.block_code` and `Markdown.codespan` to execute the contents.\n",
    "            \n",
    "            return Markdown.run and super().run_cell(textwrap.indent(str, ' '*4), silent=True)\n",
    "        \n",
    "        def output_doctest(self): return self.renderer.doctest(self.token['text'])\n",
    "        \n",
    "        def output_graphviz(self): return self.renderer.graphviz(self.token['text'])\n",
    "        \n",
    "        def doctest(self, text): return super().block_code(text)\n",
    "        def graphviz(self, text): \n",
    "            return __import__('graphviz').Source(text)._repr_svg_()\n",
    "\n",
    "        \n",
    "        def header(self, text, level, raw=None):\n",
    "            import html, slugify\n",
    "            slug = html.escape(__import__('slugify').slugify(text, lowercase=False))\n",
    "            return F\"\"\"<a href=\"#{slug}\"><h{level} id=\"{slug}\">{text}</h{level}></a>\"\"\"        "
   ]
  },
  {
   "cell_type": "code",
   "execution_count": 5,
   "metadata": {},
   "outputs": [
    {
     "data": {
      "text/html": [
       "<table class=\"highlighttable\"><tr><td><div class=\"linenodiv\" style=\"background-color: #f0f0f0; padding-right: 10px\"><pre style=\"line-height: 125%\">1</pre></div></td><td style=\"text-align: left;\" class=\"code\"><div class=\"highlight\" style=\"background: #f8f8f8\"><pre style=\"line-height: 125%\"><span></span><span style=\"color: #008000; font-weight: bold\">class</span> <span style=\"color: #0000FF; font-weight: bold\">DocTestGrammar</span>:\n",
       "</pre></div>\n",
       "</td></tr></table><p><span class=\"highlight\"><code style=\"display: inline-block; vertical-align: middle; line-height: 125%\"><span></span>DocTestGrammar\n",
       "</code></span> adds <span class=\"highlight\"><code style=\"display: inline-block; vertical-align: middle; line-height: 125%\"><span></span>doctest\n",
       "</code></span> to <span class=\"highlight\"><code style=\"display: inline-block; vertical-align: middle; line-height: 125%\"><span></span>pidgin\n",
       "</code></span>'s <span class=\"highlight\"><code style=\"display: inline-block; vertical-align: middle; line-height: 125%\"><span></span>mistune<span style=\"color: #666666\">.</span>BlockGrammar\n",
       "</code></span>.  The ellipsis flag is enabled by default.</p>\n",
       "<table class=\"highlighttable\"><tr><td><div class=\"linenodiv\" style=\"background-color: #f0f0f0; padding-right: 10px\"><pre style=\"line-height: 125%\">4\n",
       "5\n",
       "6</pre></div></td><td style=\"text-align: left;\" class=\"code\"><div class=\"highlight\" style=\"background: #f8f8f8\"><pre style=\"line-height: 125%\"><span></span>doctest <span style=\"color: #666666\">=</span> doctest<span style=\"color: #666666\">.</span>DocTestParser<span style=\"color: #666666\">.</span>_EXAMPLE_RE\n",
       "\n",
       "<span style=\"color: #008000; font-weight: bold\">class</span> <span style=\"color: #0000FF; font-weight: bold\">DoctestLexer</span>:\n",
       "</pre></div>\n",
       "</td></tr></table><p><span class=\"highlight\"><code style=\"display: inline-block; vertical-align: middle; line-height: 125%\"><span></span>DoctestLexer\n",
       "</code></span> adds a <span class=\"highlight\"><code style=\"display: inline-block; vertical-align: middle; line-height: 125%\"><span></span><span style=\"color: #BA2121\">&quot;doctest&quot;</span>\n",
       "</code></span> token types type to the parsed <strong>Markdown</strong>.</p>\n",
       "<table class=\"highlighttable\"><tr><td><div class=\"linenodiv\" style=\"background-color: #f0f0f0; padding-right: 10px\"><pre style=\"line-height: 125%\">9</pre></div></td><td style=\"text-align: left;\" class=\"code\"><div class=\"highlight\" style=\"background: #f8f8f8\"><pre style=\"line-height: 125%\"><span></span><span style=\"color: #008000; font-weight: bold\">def</span> <span style=\"color: #0000FF\">parse_doctest</span>(<span style=\"color: #008000\">self</span>, m): <span style=\"color: #008000\">self</span><span style=\"color: #666666\">.</span>tokens<span style=\"color: #666666\">.</span>append({<span style=\"color: #BA2121\">&#39;type&#39;</span>: <span style=\"color: #BA2121\">&#39;doctest&#39;</span>, <span style=\"color: #BA2121\">&#39;text&#39;</span>: m<span style=\"color: #666666\">.</span>string[<span style=\"color: #008000\">slice</span>(<span style=\"color: #666666\">*</span>m<span style=\"color: #666666\">.</span>span())]})\n",
       "</pre></div>\n",
       "</td></tr></table>"
      ],
      "text/plain": [
       "<IPython.core.display.HTML object>"
      ]
     },
     "metadata": {},
     "output_type": "display_data"
    }
   ],
   "source": [
    "    class DocTestGrammar:\n",
    "`DocTestGrammar` adds `doctest` to `pidgin`'s `mistune.BlockGrammar`.  The ellipsis flag is enabled by default.\n",
    "    \n",
    "        doctest = doctest.DocTestParser._EXAMPLE_RE\n",
    "        \n",
    "    class DoctestLexer:\n",
    "`DoctestLexer` adds a `\"doctest\"` token types type to the parsed __Markdown__.        \n",
    "\n",
    "        def parse_doctest(self, m): self.tokens.append({'type': 'doctest', 'text': m.string[slice(*m.span())]})\n",
    "            "
   ]
  },
  {
   "cell_type": "code",
   "execution_count": 6,
   "metadata": {},
   "outputs": [
    {
     "data": {
      "text/html": [
       "<a href=\"#Learn-more-about-span-class-highlight-code-style-display-inline-block-vertical-align-middle-line-height-125-span-span-doctest-code-span\"><h3 id=\"Learn-more-about-span-class-highlight-code-style-display-inline-block-vertical-align-middle-line-height-125-span-span-doctest-code-span\">Learn more about [<span class=\"highlight\"><code style=\"display: inline-block; vertical-align: middle; line-height: 125%\"><span></span>doctest\n",
       "</code></span>][]</h3></a>"
      ],
      "text/plain": [
       "<IPython.core.display.HTML object>"
      ]
     },
     "metadata": {},
     "output_type": "display_data"
    }
   ],
   "source": [
    "### Learn more about [`doctest`][]"
   ]
  },
  {
   "cell_type": "code",
   "execution_count": 7,
   "metadata": {},
   "outputs": [
    {
     "data": {
      "text/html": [
       "<table class=\"highlighttable\"><tr><td><div class=\"linenodiv\" style=\"background-color: #f0f0f0; padding-right: 10px\"><pre style=\"line-height: 125%\">1</pre></div></td><td style=\"text-align: left;\" class=\"code\"><div class=\"highlight\" style=\"background: #f8f8f8\"><pre style=\"line-height: 125%\"><span></span><span style=\"color: #008000; font-weight: bold\">class</span> <span style=\"color: #0000FF; font-weight: bold\">GraphvizGrammar</span>:\n",
       "</pre></div>\n",
       "</td></tr></table><p><span class=\"highlight\"><code style=\"display: inline-block; vertical-align: middle; line-height: 125%\"><span></span>GraphvizGrammar\n",
       "</code></span> recognizes [graphviz syntax] in the <span class=\"highlight\"><code style=\"display: inline-block; vertical-align: middle; line-height: 125%\"><span></span>mistune<span style=\"color: #666666\">.</span>BlockGrammar\n",
       "</code></span>.</p>\n",
       "<table class=\"highlighttable\"><tr><td><div class=\"linenodiv\" style=\"background-color: #f0f0f0; padding-right: 10px\"><pre style=\"line-height: 125%\">4\n",
       "5\n",
       "6\n",
       "7\n",
       "8</pre></div></td><td style=\"text-align: left;\" class=\"code\"><div class=\"highlight\" style=\"background: #f8f8f8\"><pre style=\"line-height: 125%\"><span></span>graphviz <span style=\"color: #666666\">=</span> re<span style=\"color: #666666\">.</span>compile(<span style=\"color: #BA2121\">&quot;^(di){0,1}graph\\s*\\{(\\{(\\{(\\{(\\{(\\{.*?\\}|.)*?\\}|.)*?\\}|.)*?\\}|.)*?\\}|.)*?\\}&quot;</span>, re<span style=\"color: #666666\">.</span>DOTALL)\n",
       "\n",
       "<span style=\"color: #008000; font-weight: bold\">class</span> <span style=\"color: #0000FF; font-weight: bold\">GraphvizLexer</span>:\n",
       "    <span style=\"color: #008000; font-weight: bold\">def</span> <span style=\"color: #0000FF\">parse_graphviz</span>(<span style=\"color: #008000\">self</span>, m): \n",
       "        <span style=\"color: #008000\">self</span><span style=\"color: #666666\">.</span>tokens<span style=\"color: #666666\">.</span>append({<span style=\"color: #BA2121\">&#39;type&#39;</span>: <span style=\"color: #BA2121\">&#39;graphviz&#39;</span>, <span style=\"color: #BA2121\">&#39;text&#39;</span>: m<span style=\"color: #666666\">.</span>string[<span style=\"color: #008000\">slice</span>(<span style=\"color: #666666\">*</span>m<span style=\"color: #666666\">.</span>span())]})\n",
       "</pre></div>\n",
       "</td></tr></table>"
      ],
      "text/plain": [
       "<IPython.core.display.HTML object>"
      ]
     },
     "metadata": {},
     "output_type": "display_data"
    }
   ],
   "source": [
    "    class GraphvizGrammar:\n",
    "`GraphvizGrammar` recognizes [graphviz syntax] in the `mistune.BlockGrammar`.        \n",
    "\n",
    "        graphviz = re.compile(\"^(di){0,1}graph\\s*\\{(\\{(\\{(\\{(\\{(\\{.*?\\}|.)*?\\}|.)*?\\}|.)*?\\}|.)*?\\}|.)*?\\}\", re.DOTALL)\n",
    "    \n",
    "    class GraphvizLexer:\n",
    "        def parse_graphviz(self, m): \n",
    "            self.tokens.append({'type': 'graphviz', 'text': m.string[slice(*m.span())]})       "
   ]
  },
  {
   "cell_type": "code",
   "execution_count": 8,
   "metadata": {},
   "outputs": [
    {
     "data": {
      "text/html": [
       "<blockquote><a href=\"#a-href-https-www-graphviz-org-what-is-graphviz-a\"><h4 id=\"a-href-https-www-graphviz-org-what-is-graphviz-a\"><a href=\"https://www.graphviz.org/\">what is graphviz?</a></h4></a><blockquote><p>Learn more about <a href=\"https://www.graphviz.org/\">graphviz</a> and its <a href=\"https://www.graphviz.org//doc/info/attrs.html\">syntax</a>.</p>\n",
       "</blockquote>\n",
       "</blockquote>\n"
      ],
      "text/plain": [
       "<IPython.core.display.HTML object>"
      ]
     },
     "metadata": {},
     "output_type": "display_data"
    }
   ],
   "source": [
    "> #### [what is graphviz?][]\n",
    ">> Learn more about [graphviz][what is graphviz?] and its [syntax][graphviz syntax]."
   ]
  },
  {
   "cell_type": "code",
   "execution_count": 9,
   "metadata": {},
   "outputs": [
    {
     "data": {
      "text/html": [
       "<a href=\"#Block-and-inline-span-class-highlight-code-style-display-inline-block-vertical-align-middle-line-height-125-span-span-mistune-code-span-lexers\"><h2 id=\"Block-and-inline-span-class-highlight-code-style-display-inline-block-vertical-align-middle-line-height-125-span-span-mistune-code-span-lexers\">Block and inline <span class=\"highlight\"><code style=\"display: inline-block; vertical-align: middle; line-height: 125%\"><span></span>mistune\n",
       "</code></span> lexers.</h2></a>"
      ],
      "text/plain": [
       "<IPython.core.display.HTML object>"
      ]
     },
     "metadata": {},
     "output_type": "display_data"
    }
   ],
   "source": [
    "## Block and inline `mistune` lexers."
   ]
  },
  {
   "cell_type": "code",
   "execution_count": 10,
   "metadata": {},
   "outputs": [],
   "source": [
    "    class BlockLexer(GraphvizLexer, DoctestLexer, mistune.BlockLexer): \n",
    "        class grammar_class(GraphvizGrammar, DocTestGrammar, mistune.BlockGrammar): ...\n",
    "        \n",
    "        def __init__(BlockLexer, rules=None, **kwargs): super().__init__(rules, **kwargs)\n",
    "        \n",
    "        def parse_fences(self, m):\n",
    "            super().parse_fences(m)\n",
    "            self.tokens[-1]['lang'] = self.tokens[-1]['lang'] or ''\n",
    "            \n",
    "        def parse_block_quote(self, m):\n",
    "            object = m.string[slice(*m.span())]\n",
    "            if object not in self.shell.user_ns: self.shell.user_ns[object] = object\n",
    "            super().parse_block_quote(m)\n",
    "            \n",
    "    for attr in \"doctest graphviz\".split():\n",
    "        for key in \"default_rules footnote_rules list_rules\".split():[\n",
    "            setattr(BlockLexer, key, list(BlockLexer.default_rules)), \n",
    "            getattr(BlockLexer, key).insert(getattr(BlockLexer, key).index('block_quote'), attr)]"
   ]
  },
  {
   "cell_type": "code",
   "execution_count": 11,
   "metadata": {},
   "outputs": [],
   "source": [
    "    class InlineLexer(mistune.InlineLexer):\n",
    "        def output_reflink(self, m):\n",
    "            key = mistune._keyify(m.group(2) or m.group(1)).lower()\n",
    "            if key in self.renderer.user_ns:\n",
    "                m2 = mistune.BlockGrammar.def_links.match(F\"[xxx]: {self.renderer.user_ns[key]}\")\n",
    "                ret = self.links[key] = dict(link=m2.group(2), title=m2.group(3))\n",
    "                return self._process_link(m, ret['link'], ret['title'])\n",
    "            return super().output_reflink(m)\n",
    "        def output_emphasis(self, m):\n",
    "            object = m.string[slice(*m.span())]\n",
    "            if object not in self.renderer.user_ns:\n",
    "                self.renderer.user_ns[object] = object\n",
    "            text = m.group(2) or m.group(1)\n",
    "            text = self.output(text)\n",
    "            return self.renderer.emphasis(text)"
   ]
  },
  {
   "cell_type": "code",
   "execution_count": null,
   "metadata": {},
   "outputs": [],
   "source": []
  }
 ],
 "metadata": {
  "kernelspec": {
   "display_name": "p6",
   "language": "python",
   "name": "other-env"
  },
  "language_info": {
   "codemirror_mode": {
    "name": "ipython",
    "version": 3
   },
   "file_extension": ".py",
   "mimetype": "text/x-python",
   "name": "python",
   "nbconvert_exporter": "python",
   "pygments_lexer": "ipython3",
   "version": "3.6.8"
  },
  "nikola": {
   "date": "2018-12-06 12:00:00 UTC",
   "description": "`pidgin.display` is a collection of display rules for IPython objects.  \n\n`StringFormatter` is a class that adds reules for string `object`s.",
   "slug": "display.ipynb",
   "title": "display.ipynb",
   "type": "text"
  }
 },
 "nbformat": 4,
 "nbformat_minor": 4
}
