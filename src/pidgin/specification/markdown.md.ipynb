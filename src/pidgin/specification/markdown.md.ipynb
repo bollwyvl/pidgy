{
 "cells": [
  {
   "cell_type": "markdown",
   "metadata": {},
   "source": [
    "[`pidgin.weave`](weave.md.ipynb) allows code to be execute with the display function."
   ]
  },
  {
   "cell_type": "code",
   "execution_count": 1,
   "metadata": {},
   "outputs": [],
   "source": [
    "    if __name__ == '__main__': \n",
    "        %reload_ext pidgin"
   ]
  },
  {
   "cell_type": "code",
   "execution_count": 2,
   "metadata": {},
   "outputs": [],
   "source": [
    "    import ast, jinja2, sys, nbconvert, nbformat, contextlib, collections, IPython, mistune, doctest, re, traitlets, textwrap, types, typing as t, importlib, importnb,  jinja2, builtins, jsonschema\n",
    "    from pidgin import tangle, shell, formatter"
   ]
  },
  {
   "cell_type": "code",
   "execution_count": 3,
   "metadata": {},
   "outputs": [],
   "source": [
    "    class DocTestGrammar:\n",
    "        doctest = doctest.DocTestParser._EXAMPLE_RE\n",
    "        \n",
    "    class DoctestLexer:\n",
    "        def parse_doctest(self, m): self.tokens.append({'type': 'doctest', 'text': m.string[slice(*m.span())]})"
   ]
  },
  {
   "cell_type": "code",
   "execution_count": 4,
   "metadata": {},
   "outputs": [],
   "source": [
    "    class GraphvizGrammar:\n",
    "        graphviz = re.compile(\"^(di){0,1}graph\\s*\\{(\\{(\\{(\\{(\\{(\\{.*?\\}|.)*?\\}|.)*?\\}|.)*?\\}|.)*?\\}|.)*?\\}\", re.DOTALL)\n",
    "    class GraphvizLexer:\n",
    "        def parse_graphviz(self, m): \n",
    "            self.tokens.append({'type': 'graphviz', 'text': m.string[slice(*m.span())]})"
   ]
  },
  {
   "cell_type": "code",
   "execution_count": 5,
   "metadata": {},
   "outputs": [],
   "source": [
    "    class InlineLexer(mistune.InlineLexer):\n",
    "        def output_reflink(self, m):\n",
    "            key = mistune._keyify(m.group(2) or m.group(1))\n",
    "            if key in self.renderer.user_ns:\n",
    "                value = self.renderer.user_ns[key]\n",
    "                if isinstance(value, str) and value.startswith(('http:', 'https:')):\n",
    "                    self.links[key] = dict(title=\"\", link=str(value))\n",
    "                else:\n",
    "                    ret = self.links[key] = dict(title=str(value), link=\"\")\n",
    "                return self._process_link(m, ret['link'], ret['title'])\n",
    "            return super().output_reflink(m)\n",
    "        \n",
    "        def output_emphasis(self, m):\n",
    "            object = m.string[slice(*m.span())]\n",
    "            if object not in self.renderer.user_ns:\n",
    "                self.renderer.user_ns[object] = object\n",
    "            text = m.group(2) or m.group(1)\n",
    "            text = self.output(text)\n",
    "            return self.renderer.emphasis(text)"
   ]
  },
  {
   "cell_type": "code",
   "execution_count": 6,
   "metadata": {},
   "outputs": [],
   "source": [
    "    class BlockLexer(GraphvizLexer, DoctestLexer, mistune.BlockLexer): \n",
    "        class grammar_class(GraphvizGrammar, DocTestGrammar, mistune.BlockGrammar): ...\n",
    "        \n",
    "        def __init__(BlockLexer, rules=None, **kwargs): super().__init__(rules, **kwargs)\n",
    "        \n",
    "        def parse(self, text: str, rules=None) -> t.List[t.Dict]: \n",
    "            from pidgin import transform_cell\n",
    "            return super().parse(transform_cell.strip_blank_lines(text))\n",
    "        \n",
    "        def parse_block_code(self, m=None): \n",
    "            self.tokens[-1]['lang'] = super().parse_block_code(m) or ''\n",
    "            \n",
    "        def parse_block_quote(self, m):\n",
    "            object = m.string[slice(*m.span())]\n",
    "            if object not in self.shell.user_ns: self.shell.user_ns[object] = object\n",
    "            super().parse_block_quote(m)\n",
    "            \n",
    "    for attr in \"doctest graphviz\".split():\n",
    "        for key in \"default_rules footnote_rules list_rules\".split():[\n",
    "            setattr(BlockLexer, key, list(BlockLexer.default_rules)), \n",
    "            getattr(BlockLexer, key).insert(getattr(BlockLexer, key).index('block_quote'), attr)]"
   ]
  },
  {
   "cell_type": "code",
   "execution_count": 7,
   "metadata": {},
   "outputs": [],
   "source": [
    "    class Markdown(mistune.Renderer, mistune.Markdown, shell.Shell):\n",
    "        run = traitlets.Bool(default_value=True)\n",
    "        def __init__(Markdown, *args, **kwargs):\n",
    "            shell.Shell.__init__(Markdown, *args, **kwargs)\n",
    "            mistune.Renderer.__init__(Markdown)\n",
    "            mistune.Markdown.__init__(Markdown, renderer=Markdown, block=BlockLexer, inline=InlineLexer)\n",
    "            Markdown.block.shell = Markdown\n",
    "            Markdown._codespan_buffer = []\n",
    "            Markdown._block_code_buffer = []\n",
    "\n",
    "        def __enter__(Markdown): \n",
    "            Markdown.run = False\n",
    "            return Markdown\n",
    "        \n",
    "        def __exit__(Markdown, *e): Markdown.run = True\n",
    "            \n",
    "        def codespan(Markdown, text, lang=None):\n",
    "            Markdown._codespan_buffer.append(text)\n",
    "            if not text.endswith('//'):\n",
    "                Markdown.run_literal('\\n'.join(Markdown._codespan_buffer))\n",
    "                Markdown._codespan_buffer = []\n",
    "            return super().codespan(text)\n",
    "        \n",
    "        def block_code(Markdown, text, lang=None):\n",
    "            if lang is None: \n",
    "                Markdown._block_code_buffer.append(text)\n",
    "                if not text.endswith('//'):\n",
    "                    Markdown.run_literal('\\n'.join(Markdown._block_code_buffer))\n",
    "                    Markdown._block_code_buffer = []\n",
    "            lang = lang or 'python'\n",
    "            import pygments\n",
    "            return pygments.highlight(text, pygments.lexers.get_lexer_by_name(lang, stripall=True), pygments.formatters.html.HtmlFormatter(noclasses=True))\n",
    "        \n",
    "        def run_literal(Markdown, str):\n",
    "            return Markdown.run and super().run_cell(textwrap.indent(str, ' '*4), silent=True)\n",
    "        \n",
    "        def output_doctest(self): return self.renderer.doctest(self.token['text'])\n",
    "        \n",
    "        def output_graphviz(self): return self.renderer.graphviz(self.token['text'])\n",
    "        \n",
    "        def output_reflink(self, m):\n",
    "            key = _keyify(m.group(2) or m.group(1))\n",
    "            if key not in self.links:\n",
    "                return None\n",
    "            ret = self.links[key]\n",
    "            return self._process_link(m, ret['link'], ret['title'])\n",
    "                \n",
    "        def doctest(self, text): return super().block_code(text)\n",
    "        def graphviz(self, text): \n",
    "            return __import__('graphviz').Source(text)._repr_svg_()"
   ]
  }
 ],
 "metadata": {
  "kernelspec": {
   "display_name": "p6",
   "language": "python",
   "name": "other-env"
  },
  "language_info": {
   "codemirror_mode": {
    "name": "ipython",
    "version": 3
   },
   "file_extension": ".py",
   "mimetype": "text/x-python",
   "name": "python",
   "nbconvert_exporter": "python",
   "pygments_lexer": "ipython3",
   "version": "3.6.8"
  },
  "nikola": {
   "date": "2018-12-06 12:00:00 UTC",
   "description": "`pidgin.display` is a collection of display rules for IPython objects.  \n\n`StringFormatter` is a class that adds reules for string `object`s.",
   "slug": "display.ipynb",
   "title": "display.ipynb",
   "type": "text"
  }
 },
 "nbformat": 4,
 "nbformat_minor": 2
}
