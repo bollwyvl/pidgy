{
 "cells": [
  {
   "cell_type": "code",
   "execution_count": 1,
   "metadata": {},
   "outputs": [],
   "source": [
    "    if __name__ == '__main__': \n",
    "        %reload_ext pidgin\n",
    "        from pidgin.docs.references import *"
   ]
  },
  {
   "cell_type": "code",
   "execution_count": 2,
   "metadata": {},
   "outputs": [
    {
     "data": {
      "text/html": [
       "<p><span class=\"highlight\"><pre style=\"display: inline-block; vertical-align: middle;; line-height: 125%\"><span></span><span style=\"color: #008000; font-weight: bold\">import</span> <span style=\"color: #0000FF; font-weight: bold\">pidgin</span><span style=\"color: #666666\">,</span> <span style=\"color: #0000FF; font-weight: bold\">pidgin.specification.markdown</span>\n",
       "</pre></span> defines custom renderers for <span class=\"highlight\"><pre style=\"display: inline-block; vertical-align: middle;; line-height: 125%\"><span></span><span style=\"color: #008000; font-weight: bold\">import</span>\n",
       "</pre></span> <span class=\"highlight\"><pre style=\"display: inline-block; vertical-align: middle;; line-height: 125%\"><span></span>mistune, doctest, pygments, graphviz\n",
       "</pre></span>.</p>\n",
       "<p><span class=\"highlight\"><pre style=\"display: inline-block; vertical-align: middle;; line-height: 125%\"><span></span><span style=\"color: #008000; font-weight: bold\">import</span> <span style=\"color: #0000FF; font-weight: bold\">mistune</span>\n",
       "</pre></span>, <span class=\"highlight\"><pre style=\"display: inline-block; vertical-align: middle;; line-height: 125%\"><span></span>pidgin\n",
       "</pre></span> uses <span class=\"highlight\"><pre style=\"display: inline-block; vertical-align: middle;; line-height: 125%\"><span></span>mistune\n",
       "</pre></span> to <strong>tangle</strong> and <strong>weave</strong> Markdown source code.</p>\n"
      ],
      "text/plain": [
       "<IPython.core.display.HTML object>"
      ]
     },
     "metadata": {},
     "output_type": "display_data"
    }
   ],
   "source": [
    "`import pidgin, pidgin.specification.markdown` defines custom renderers for `import\\` `mistune, doctest, pygments, graphviz`.\n",
    "\n",
    "`import mistune`, `pidgin` uses `mistune` to __tangle__ and __weave__ Markdown source code."
   ]
  },
  {
   "cell_type": "code",
   "execution_count": 3,
   "metadata": {},
   "outputs": [],
   "source": [
    "    import ast, jinja2, sys, nbconvert, nbformat, contextlib, collections, IPython, mistune, doctest, re, traitlets, textwrap, types, typing as t, importlib, importnb,  jinja2, builtins, jsonschema\n",
    "    from pidgin import tangle, shell, formatter"
   ]
  },
  {
   "cell_type": "code",
   "execution_count": 4,
   "metadata": {},
   "outputs": [],
   "source": [
    "    class Markdown(mistune.Renderer, mistune.Markdown, shell.Shell):\n",
    "        run = traitlets.Bool(default_value=True)\n",
    "        def __init__(Markdown, *args, **kwargs):\n",
    "            shell.Shell.__init__(Markdown, *args, **kwargs)\n",
    "            mistune.Renderer.__init__(Markdown)\n",
    "            mistune.Markdown.__init__(Markdown, renderer=Markdown, block=BlockLexer, inline=InlineLexer)\n",
    "            Markdown.block.shell = Markdown\n",
    "            Markdown._codespan_buffer = []\n",
    "            Markdown._block_code_buffer = []\n",
    "\n",
    "        def __enter__(Markdown): \n",
    "            Markdown.run = False\n",
    "            return Markdown\n",
    "        \n",
    "        def __exit__(Markdown, *e): Markdown.run = True\n",
    "            \n",
    "        def codespan(Markdown, text, lang=None):\n",
    "            Markdown._codespan_buffer.append(text)\n",
    "            if not text.endswith('\\\\'):\n",
    "                Markdown.run_literal('\\n'.join(Markdown._codespan_buffer))\n",
    "                Markdown._codespan_buffer = []\n",
    "            text = text.rstrip('\\\\')\n",
    "            return F\"\"\"<span{Markdown.pygment(text, prestyles=\"display: inline-block; vertical-align: middle;\", nobackground=True).strip()[4:-4]}span>\"\"\"\n",
    "        \n",
    "        def pygment(Markdown, text, lang=None, **kwargs):\n",
    "            lang = lang or 'python'\n",
    "            import pygments\n",
    "            return pygments.highlight(text, pygments.lexers.get_lexer_by_name(lang, stripall=True), pygments.formatters.html.HtmlFormatter(noclasses=True, **kwargs))\n",
    "        \n",
    "        def block_code(Markdown, text, lang=None, lineno=None):\n",
    "            if lang is None: \n",
    "                Markdown._block_code_buffer.append(text)\n",
    "                if not text.endswith('\\\\'):\n",
    "                    Markdown.run_literal('\\n'.join(Markdown._block_code_buffer))\n",
    "                    Markdown._block_code_buffer = []\n",
    "            return Markdown.pygment(text.rstrip('\\\\'), lang)\n",
    "        \n",
    "        def run_literal(Markdown, str):\n",
    "            return Markdown.run and super().run_cell(textwrap.indent(str, ' '*4), silent=True)\n",
    "        \n",
    "        def output_doctest(self): return self.renderer.doctest(self.token['text'])\n",
    "        \n",
    "        def output_graphviz(self): return self.renderer.graphviz(self.token['text'])\n",
    "        \n",
    "\n",
    "        def _output_code(self):\n",
    "            return self.renderer.block_code(self.token['text'], self.token['lang'], self.token['lineno'])\n",
    "                \n",
    "        def doctest(self, text): return super().block_code(text)\n",
    "        def graphviz(self, text): \n",
    "            return __import__('graphviz').Source(text)._repr_svg_()\n",
    "\n",
    "        \n",
    "            #         def header(self, text, level, raw=None):\n",
    "            #             return F\"\"\"<h{level} id=\"{__import__('slugify').slugify(text, lowercase=False)}\">{text}</h{level}\"\"\""
   ]
  },
  {
   "cell_type": "code",
   "execution_count": 5,
   "metadata": {},
   "outputs": [
    {
     "data": {
      "text/html": [
       "<div class=\"highlight\" style=\"background: #f8f8f8\"><pre style=\"line-height: 125%\"><span></span><span style=\"color: #008000; font-weight: bold\">class</span> <span style=\"color: #0000FF; font-weight: bold\">DocTestGrammar</span>:\n",
       "</pre></div>\n",
       "<p><span class=\"highlight\"><pre style=\"display: inline-block; vertical-align: middle;; line-height: 125%\"><span></span>DocTestGrammar\n",
       "</pre></span> adds <span class=\"highlight\"><pre style=\"display: inline-block; vertical-align: middle;; line-height: 125%\"><span></span>doctest\n",
       "</pre></span> to <span class=\"highlight\"><pre style=\"display: inline-block; vertical-align: middle;; line-height: 125%\"><span></span>pidgin\n",
       "</pre></span>'s <span class=\"highlight\"><pre style=\"display: inline-block; vertical-align: middle;; line-height: 125%\"><span></span>mistune<span style=\"color: #666666\">.</span>BlockGrammar\n",
       "</pre></span>.</p>\n",
       "<div class=\"highlight\" style=\"background: #f8f8f8\"><pre style=\"line-height: 125%\"><span></span>doctest <span style=\"color: #666666\">=</span> doctest<span style=\"color: #666666\">.</span>DocTestParser<span style=\"color: #666666\">.</span>_EXAMPLE_RE\n",
       "\n",
       "<span style=\"color: #008000; font-weight: bold\">class</span> <span style=\"color: #0000FF; font-weight: bold\">DoctestLexer</span>:\n",
       "</pre></div>\n",
       "<p><span class=\"highlight\"><pre style=\"display: inline-block; vertical-align: middle;; line-height: 125%\"><span></span>DoctestLexer\n",
       "</pre></span> adds a <span class=\"highlight\"><pre style=\"display: inline-block; vertical-align: middle;; line-height: 125%\"><span></span><span style=\"color: #BA2121\">&quot;doctest&quot;</span>\n",
       "</pre></span> token types type to the parsed <strong>Markdown</strong>.</p>\n",
       "<div class=\"highlight\" style=\"background: #f8f8f8\"><pre style=\"line-height: 125%\"><span></span><span style=\"color: #008000; font-weight: bold\">def</span> <span style=\"color: #0000FF\">parse_doctest</span>(<span style=\"color: #008000\">self</span>, m): <span style=\"color: #008000\">self</span><span style=\"color: #666666\">.</span>tokens<span style=\"color: #666666\">.</span>append({<span style=\"color: #BA2121\">&#39;type&#39;</span>: <span style=\"color: #BA2121\">&#39;doctest&#39;</span>, <span style=\"color: #BA2121\">&#39;text&#39;</span>: m<span style=\"color: #666666\">.</span>string[<span style=\"color: #008000\">slice</span>(<span style=\"color: #666666\">*</span>m<span style=\"color: #666666\">.</span>span())]})\n",
       "</pre></div>\n"
      ],
      "text/plain": [
       "<IPython.core.display.HTML object>"
      ]
     },
     "metadata": {},
     "output_type": "display_data"
    }
   ],
   "source": [
    "    class DocTestGrammar:\n",
    "`DocTestGrammar` adds `doctest` to `pidgin`'s `mistune.BlockGrammar`.\n",
    "        \n",
    "        doctest = doctest.DocTestParser._EXAMPLE_RE\n",
    "        \n",
    "    class DoctestLexer:\n",
    "`DoctestLexer` adds a `\"doctest\"` token types type to the parsed __Markdown__.        \n",
    "\n",
    "        def parse_doctest(self, m): self.tokens.append({'type': 'doctest', 'text': m.string[slice(*m.span())]})\n",
    "            "
   ]
  },
  {
   "cell_type": "code",
   "execution_count": 8,
   "metadata": {},
   "outputs": [
    {
     "data": {
      "text/html": [
       "<h3>Learn more about [<span class=\"highlight\"><pre style=\"display: inline-block; vertical-align: middle;; line-height: 125%\"><span></span>doctest\n",
       "</pre></span>][]</h3>\n"
      ],
      "text/plain": [
       "<IPython.core.display.HTML object>"
      ]
     },
     "metadata": {},
     "output_type": "display_data"
    }
   ],
   "source": [
    "### Learn more about [`doctest`][]"
   ]
  },
  {
   "cell_type": "code",
   "execution_count": 9,
   "metadata": {},
   "outputs": [
    {
     "data": {
      "text/html": [
       "<div class=\"highlight\" style=\"background: #f8f8f8\"><pre style=\"line-height: 125%\"><span></span><span style=\"color: #008000; font-weight: bold\">class</span> <span style=\"color: #0000FF; font-weight: bold\">GraphvizGrammar</span>:\n",
       "</pre></div>\n",
       "<p><span class=\"highlight\"><pre style=\"display: inline-block; vertical-align: middle;; line-height: 125%\"><span></span>GraphvizGrammar\n",
       "</pre></span> recognizes [graphviz syntax] in the <span class=\"highlight\"><pre style=\"display: inline-block; vertical-align: middle;; line-height: 125%\"><span></span>mistune<span style=\"color: #666666\">.</span>BlockGrammar\n",
       "</pre></span>.</p>\n",
       "<div class=\"highlight\" style=\"background: #f8f8f8\"><pre style=\"line-height: 125%\"><span></span>graphviz <span style=\"color: #666666\">=</span> re<span style=\"color: #666666\">.</span>compile(<span style=\"color: #BA2121\">&quot;^(di){0,1}graph\\s*\\{(\\{(\\{(\\{(\\{(\\{.*?\\}|.)*?\\}|.)*?\\}|.)*?\\}|.)*?\\}|.)*?\\}&quot;</span>, re<span style=\"color: #666666\">.</span>DOTALL)\n",
       "<span style=\"color: #008000; font-weight: bold\">class</span> <span style=\"color: #0000FF; font-weight: bold\">GraphvizLexer</span>:\n",
       "    <span style=\"color: #008000; font-weight: bold\">def</span> <span style=\"color: #0000FF\">parse_graphviz</span>(<span style=\"color: #008000\">self</span>, m): \n",
       "        <span style=\"color: #008000\">self</span><span style=\"color: #666666\">.</span>tokens<span style=\"color: #666666\">.</span>append({<span style=\"color: #BA2121\">&#39;type&#39;</span>: <span style=\"color: #BA2121\">&#39;graphviz&#39;</span>, <span style=\"color: #BA2121\">&#39;text&#39;</span>: m<span style=\"color: #666666\">.</span>string[<span style=\"color: #008000\">slice</span>(<span style=\"color: #666666\">*</span>m<span style=\"color: #666666\">.</span>span())]})\n",
       "</pre></div>\n"
      ],
      "text/plain": [
       "<IPython.core.display.HTML object>"
      ]
     },
     "metadata": {},
     "output_type": "display_data"
    }
   ],
   "source": [
    "    class GraphvizGrammar:\n",
    "`GraphvizGrammar` recognizes [graphviz syntax] in the `mistune.BlockGrammar`.        \n",
    "\n",
    "        graphviz = re.compile(\"^(di){0,1}graph\\s*\\{(\\{(\\{(\\{(\\{(\\{.*?\\}|.)*?\\}|.)*?\\}|.)*?\\}|.)*?\\}|.)*?\\}\", re.DOTALL)\n",
    "    class GraphvizLexer:\n",
    "        def parse_graphviz(self, m): \n",
    "            self.tokens.append({'type': 'graphviz', 'text': m.string[slice(*m.span())]})   "
   ]
  },
  {
   "cell_type": "code",
   "execution_count": 10,
   "metadata": {},
   "outputs": [
    {
     "data": {
      "text/html": [
       "<blockquote><h4><a href=\"https://www.graphviz.org/\">what is graphviz?</a></h4>\n",
       "<blockquote><p>Learn more about <a href=\"https://www.graphviz.org/\">graphviz</a> and its <a href=\"https://www.graphviz.org//doc/info/attrs.html\">syntax</a>.</p>\n",
       "</blockquote>\n",
       "</blockquote>\n"
      ],
      "text/plain": [
       "<IPython.core.display.HTML object>"
      ]
     },
     "metadata": {},
     "output_type": "display_data"
    }
   ],
   "source": [
    "> #### [what is graphviz?][]\n",
    ">> Learn more about [graphviz][what is graphviz?] and its [syntax][graphviz syntax]."
   ]
  },
  {
   "cell_type": "code",
   "execution_count": 13,
   "metadata": {},
   "outputs": [
    {
     "data": {
      "text/html": [
       "<h2>Block and inline <span class=\"highlight\"><pre style=\"display: inline-block; vertical-align: middle;; line-height: 125%\"><span></span>mistune\n",
       "</pre></span> lexers.</h2>\n"
      ],
      "text/plain": [
       "<IPython.core.display.HTML object>"
      ]
     },
     "metadata": {},
     "output_type": "display_data"
    }
   ],
   "source": [
    "## Block and inline `mistune` lexers."
   ]
  },
  {
   "cell_type": "code",
   "execution_count": 12,
   "metadata": {},
   "outputs": [],
   "source": [
    "    class BlockLexer(GraphvizLexer, DoctestLexer, mistune.BlockLexer): \n",
    "        class grammar_class(GraphvizGrammar, DocTestGrammar, mistune.BlockGrammar): ...\n",
    "        \n",
    "        def __init__(BlockLexer, rules=None, **kwargs): super().__init__(rules, **kwargs)\n",
    "        \n",
    "        def parse(self, text, rules=None, *offsets)-> t.List[t.Dict]:\n",
    "            from pidgin import transform_cell\n",
    "            \n",
    "            original = text.rstrip('\\n')\n",
    "            text = transform_cell.strip_blank_lines(original)\n",
    "            if not rules: rules = self.default_rules\n",
    "\n",
    "            def manipulate(text):\n",
    "                for key in rules:\n",
    "                    rule = getattr(self.rules, key)\n",
    "                    m = rule.match(text)\n",
    "                    if not m:\n",
    "                        continue\n",
    "                    getattr(self, 'parse_%s' % key)(m)\n",
    "                    return m\n",
    "                return False  # pragma: no cover\n",
    "\n",
    "            while text:\n",
    "                m = manipulate(text)                \n",
    "                if m is not False:\n",
    "                    offsets += len(m.group(0)) if offsets else 0,\n",
    "                    text = text[offsets[-1] or len(m.group(0)):]\n",
    "                    self.tokens[-1]['lineno'] = len(original[sum(offsets):].splitlines())\n",
    "                    continue\n",
    "                if text:  raise RuntimeError('Infinite loop at: %s' % text)\n",
    "            return self.tokens\n",
    "        \n",
    "        def parse_block_code(self, m=None): \n",
    "            self.tokens[-1]['lang'] = super().parse_block_code(m) or ''\n",
    "            \n",
    "        def parse_block_quote(self, m):\n",
    "            object = m.string[slice(*m.span())]\n",
    "            if object not in self.shell.user_ns: self.shell.user_ns[object] = object\n",
    "            super().parse_block_quote(m)\n",
    "            \n",
    "    for attr in \"doctest graphviz\".split():\n",
    "        for key in \"default_rules footnote_rules list_rules\".split():[\n",
    "            setattr(BlockLexer, key, list(BlockLexer.default_rules)), \n",
    "            getattr(BlockLexer, key).insert(getattr(BlockLexer, key).index('block_quote'), attr)]"
   ]
  },
  {
   "cell_type": "code",
   "execution_count": 11,
   "metadata": {},
   "outputs": [],
   "source": [
    "    class InlineLexer(mistune.InlineLexer):\n",
    "        def output_reflink(self, m):\n",
    "            key = mistune._keyify(m.group(2) or m.group(1)).lower()\n",
    "            if key in self.renderer.user_ns:\n",
    "                m2 = mistune.BlockGrammar.def_links.match(F\"[xxx]: {self.renderer.user_ns[key]}\")\n",
    "                ret = self.links[key] = dict(link=m2.group(2), title=m2.group(3))\n",
    "                return self._process_link(m, ret['link'], ret['title'])\n",
    "            return super().output_reflink(m)\n",
    "\n",
    "        def output_emphasis(self, m):\n",
    "            object = m.string[slice(*m.span())]\n",
    "            if object not in self.renderer.user_ns:\n",
    "                self.renderer.user_ns[object] = object\n",
    "            text = m.group(2) or m.group(1)\n",
    "            text = self.output(text)\n",
    "            return self.renderer.emphasis(text)"
   ]
  }
 ],
 "metadata": {
  "kernelspec": {
   "display_name": "p6",
   "language": "python",
   "name": "other-env"
  },
  "language_info": {
   "codemirror_mode": {
    "name": "ipython",
    "version": 3
   },
   "file_extension": ".py",
   "mimetype": "text/x-python",
   "name": "python",
   "nbconvert_exporter": "python",
   "pygments_lexer": "ipython3",
   "version": "3.6.8"
  },
  "nikola": {
   "date": "2018-12-06 12:00:00 UTC",
   "description": "`pidgin.display` is a collection of display rules for IPython objects.  \n\n`StringFormatter` is a class that adds reules for string `object`s.",
   "slug": "display.ipynb",
   "title": "display.ipynb",
   "type": "text"
  }
 },
 "nbformat": 4,
 "nbformat_minor": 4
}
