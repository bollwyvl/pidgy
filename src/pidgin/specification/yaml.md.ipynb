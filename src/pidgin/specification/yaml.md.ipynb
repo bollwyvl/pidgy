{
 "cells": [
  {
   "cell_type": "code",
   "execution_count": 1,
   "metadata": {},
   "outputs": [],
   "source": [
    "    if __name__ == '__main__':\n",
    "        %reload_ext pidgin"
   ]
  },
  {
   "cell_type": "code",
   "execution_count": 2,
   "metadata": {},
   "outputs": [],
   "source": [
    "    import ruamel.yaml as yaml, ast, builtins, IPython, typing as t, io"
   ]
  },
  {
   "cell_type": "code",
   "execution_count": 3,
   "metadata": {},
   "outputs": [
    {
     "data": {
      "text/html": [
       "<pre><code>__doc__ =\\\n",
       "</code></pre>\n",
       "<p><code>import pidgin</code>; <code>pidgin.specification.yaml</code> allows <strong>Python</strong> data structures to be represented in <code>yaml</code> syntax.  Also, we establish the\n",
       "ability for literate cells supply yaml front matter; front matter exports as metadata in the display &amp; can be used by templated\n",
       "strings.</p>\n",
       "<pre><code>&gt;&gt;&gt; assert \"\"\"\n",
       "... a: b\"\"\" == \"\\na: b\"\n",
       "</code></pre>\n",
       "<p>Adding horizontal rule in <strong>Markdown</strong> or a <code>yaml</code> stream demarcation consumes the string as yaml.</p>\n",
       "<p>The example below creates a dictionary from a string.</p>\n",
       "<pre><code>&gt;&gt;&gt; assert \"\"\"---\n",
       "... a: b\"\"\" == {'a': 'b'}\n",
       "</code></pre>\n",
       "<p>The next example creates a list from a string.</p>\n",
       "<pre><code>&gt;&gt;&gt; assert \"\"\"---\n",
       "... [a, b]\"\"\" == ['a', 'b']\n",
       "</code></pre>\n",
       "<p>For more information on yaml refer to...</p>\n"
      ],
      "text/plain": [
       "<IPython.core.display.HTML object>"
      ]
     },
     "metadata": {},
     "output_type": "display_data"
    }
   ],
   "source": [
    "    __doc__ =\\\n",
    "`import pidgin`; `pidgin.specification.yaml` allows __Python__ data structures to be represented in `yaml` syntax.  Also, we establish the\n",
    "ability for literate cells supply yaml front matter; front matter exports as metadata in the display & can be used by templated\n",
    "strings.\n",
    "    \n",
    ">>> assert \"\"\"\n",
    "... a: b\"\"\" == \"\\na: b\"\n",
    "\n",
    "Adding horizontal rule in __Markdown__ or a `yaml` stream demarcation consumes the string as yaml.\n",
    "\n",
    "The example below creates a dictionary from a string.\n",
    ">>> assert \"\"\"---\n",
    "... a: b\"\"\" == {'a': 'b'}\n",
    "\n",
    "\n",
    "The next example creates a list from a string.\n",
    ">>> assert \"\"\"---\n",
    "... [a, b]\"\"\" == ['a', 'b']\n",
    "\n",
    "For more information on yaml refer to..."
   ]
  },
  {
   "cell_type": "code",
   "execution_count": 4,
   "metadata": {},
   "outputs": [],
   "source": [
    "    class Yaml(ast.NodeTransformer):\n",
    "        def visit_Str(Emojize, node):\n",
    "            if node.s.lstrip().startswith('\\\\') or (node.s.lstrip().startswith('---') and '\\n' in node.s):\n",
    "                e = ast.parse(\"\"\"next(__import__('ruamel.yaml').yaml.YAML().load_all(__import__('io').StringIO()))\"\"\").body[0].value\n",
    "                node.s = node.s.lstrip('\\\\')\n",
    "                e.args[0].args[0].args = [node]\n",
    "                return e\n",
    "            return node"
   ]
  },
  {
   "cell_type": "code",
   "execution_count": 5,
   "metadata": {},
   "outputs": [
    {
     "data": {
      "text/html": [
       "<p><code>yaml</code> front matter is a convention in modern blogging, and RMarkdown.</p>\n"
      ],
      "text/plain": [
       "<IPython.core.display.HTML object>"
      ]
     },
     "metadata": {},
     "output_type": "display_data"
    }
   ],
   "source": [
    "`yaml` front matter is a convention in modern blogging, and RMarkdown."
   ]
  },
  {
   "cell_type": "code",
   "execution_count": 6,
   "metadata": {},
   "outputs": [],
   "source": [
    "    class FrontMatter:\n",
    "        def front_matter(Weave, str) -> t.Tuple[str, t.Dict]: \n",
    "            import ruamel.yaml\n",
    "            if str.startswith('---'):\n",
    "                if '\\n---' in str:\n",
    "                    data, sep, body = str.lstrip('---').partition('---\\n')\n",
    "                    data = ruamel.yaml.YAML().load(__import__('io').StringIO(\n",
    "                        Weave.environment.from_string(data).render({**vars(builtins), **Weave.user_ns})))\n",
    "                    if isinstance(data, dict): return body, data\n",
    "            return str, {}"
   ]
  },
  {
   "cell_type": "code",
   "execution_count": 7,
   "metadata": {},
   "outputs": [],
   "source": [
    "    def load_ipython_extension(shell: IPython.InteractiveShell):\n",
    "        shell.ast_transformers.insert(0, Yaml())"
   ]
  },
  {
   "cell_type": "code",
   "execution_count": 8,
   "metadata": {},
   "outputs": [],
   "source": [
    "    def unload_ipython_extension(shell: IPython.InteractiveShell):\n",
    "        for i, object in enumerate(shell.ast_transformers):\n",
    "            if isinstance(object, Yaml): shell.ast_transformers.pop(i); break"
   ]
  }
 ],
 "metadata": {
  "kernelspec": {
   "display_name": "p6",
   "language": "python",
   "name": "p6"
  },
  "language_info": {
   "codemirror_mode": {
    "name": "ipython",
    "version": 3
   },
   "file_extension": ".py",
   "mimetype": "text/x-python",
   "name": "python",
   "nbconvert_exporter": "python",
   "pygments_lexer": "ipython3",
   "version": "3.6.8"
  }
 },
 "nbformat": 4,
 "nbformat_minor": 2
}
