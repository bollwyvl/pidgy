{
 "cells": [
  {
   "cell_type": "markdown",
   "metadata": {},
   "source": [
    "`pidgin.testing` provides discussion and tools for __testing__ notebooks."
   ]
  },
  {
   "cell_type": "code",
   "execution_count": 1,
   "metadata": {},
   "outputs": [
    {
     "ename": "IndentationError",
     "evalue": "unexpected indent (publishing.md.ipynb, line 128)",
     "output_type": "error",
     "traceback": [
      "Traceback \u001b[0;36m(most recent call last)\u001b[0m:\n",
      "  File \u001b[1;32m\"/Users/tonyfast/anaconda/envs/p6/lib/python3.6/site-packages/IPython/core/interactiveshell.py\"\u001b[0m, line \u001b[1;32m3267\u001b[0m, in \u001b[1;35mrun_code\u001b[0m\n    exec(code_obj, self.user_global_ns, self.user_ns)\n",
      "  File \u001b[1;32m\"<ipython-input-1-981e18b47cad>\"\u001b[0m, line \u001b[1;32m7\u001b[0m, in \u001b[1;35m<module>\u001b[0m\n    get_ipython().run_line_magic('reload_ext', 'pidgin')\n",
      "  File \u001b[1;32m\"/Users/tonyfast/anaconda/envs/p6/lib/python3.6/site-packages/IPython/core/interactiveshell.py\"\u001b[0m, line \u001b[1;32m2287\u001b[0m, in \u001b[1;35mrun_line_magic\u001b[0m\n    result = fn(*args,**kwargs)\n",
      "  File \u001b[1;32m\"<decorator-gen-67>\"\u001b[0m, line \u001b[1;32m2\u001b[0m, in \u001b[1;35mreload_ext\u001b[0m\n",
      "  File \u001b[1;32m\"/Users/tonyfast/anaconda/envs/p6/lib/python3.6/site-packages/IPython/core/magic.py\"\u001b[0m, line \u001b[1;32m187\u001b[0m, in \u001b[1;35m<lambda>\u001b[0m\n    call = lambda f, *a, **k: f(*a, **k)\n",
      "  File \u001b[1;32m\"/Users/tonyfast/anaconda/envs/p6/lib/python3.6/site-packages/IPython/core/magics/extension.py\"\u001b[0m, line \u001b[1;32m63\u001b[0m, in \u001b[1;35mreload_ext\u001b[0m\n    self.shell.extension_manager.reload_extension(module_str)\n",
      "  File \u001b[1;32m\"/Users/tonyfast/anaconda/envs/p6/lib/python3.6/site-packages/IPython/core/extensions.py\"\u001b[0m, line \u001b[1;32m130\u001b[0m, in \u001b[1;35mreload_extension\u001b[0m\n    self.load_extension(module_str)\n",
      "  File \u001b[1;32m\"/Users/tonyfast/anaconda/envs/p6/lib/python3.6/site-packages/IPython/core/extensions.py\"\u001b[0m, line \u001b[1;32m80\u001b[0m, in \u001b[1;35mload_extension\u001b[0m\n    mod = import_module(module_str)\n",
      "  File \u001b[1;32m\"/Users/tonyfast/anaconda/envs/p6/lib/python3.6/importlib/__init__.py\"\u001b[0m, line \u001b[1;32m126\u001b[0m, in \u001b[1;35mimport_module\u001b[0m\n    return _bootstrap._gcd_import(name[level:], package, level)\n",
      "  File \u001b[1;32m\"<frozen importlib._bootstrap>\"\u001b[0m, line \u001b[1;32m994\u001b[0m, in \u001b[1;35m_gcd_import\u001b[0m\n",
      "  File \u001b[1;32m\"<frozen importlib._bootstrap>\"\u001b[0m, line \u001b[1;32m971\u001b[0m, in \u001b[1;35m_find_and_load\u001b[0m\n",
      "  File \u001b[1;32m\"<frozen importlib._bootstrap>\"\u001b[0m, line \u001b[1;32m955\u001b[0m, in \u001b[1;35m_find_and_load_unlocked\u001b[0m\n",
      "  File \u001b[1;32m\"<frozen importlib._bootstrap>\"\u001b[0m, line \u001b[1;32m665\u001b[0m, in \u001b[1;35m_load_unlocked\u001b[0m\n",
      "  File \u001b[1;32m\"<frozen importlib._bootstrap_external>\"\u001b[0m, line \u001b[1;32m678\u001b[0m, in \u001b[1;35mexec_module\u001b[0m\n",
      "  File \u001b[1;32m\"<frozen importlib._bootstrap>\"\u001b[0m, line \u001b[1;32m219\u001b[0m, in \u001b[1;35m_call_with_frames_removed\u001b[0m\n",
      "  File \u001b[1;32m\"/Users/tonyfast/pidgin/src/pidgin/__init__.py\"\u001b[0m, line \u001b[1;32m9\u001b[0m, in \u001b[1;35m<module>\u001b[0m\n    present = publishing.present\n",
      "  File \u001b[1;32m\"/Users/tonyfast/anaconda/envs/p6/lib/python3.6/importlib/util.py\"\u001b[0m, line \u001b[1;32m233\u001b[0m, in \u001b[1;35m__getattribute__\u001b[0m\n    self.__spec__.loader.exec_module(self)\n",
      "  File \u001b[1;32m\"<frozen importlib._bootstrap_external>\"\u001b[0m, line \u001b[1;32m674\u001b[0m, in \u001b[1;35mexec_module\u001b[0m\n",
      "  File \u001b[1;32m\"<frozen importlib._bootstrap_external>\"\u001b[0m, line \u001b[1;32m781\u001b[0m, in \u001b[1;35mget_code\u001b[0m\n",
      "  File \u001b[1;32m\"/Users/tonyfast/importnb/src/importnb/loader.py\"\u001b[0m, line \u001b[1;32m298\u001b[0m, in \u001b[1;35msource_to_code\u001b[0m\n    nodes = ast.parse(nodes, self.path)\n",
      "\u001b[0;36m  File \u001b[0;32m\"/Users/tonyfast/anaconda/envs/p6/lib/python3.6/ast.py\"\u001b[0;36m, line \u001b[0;32m35\u001b[0;36m, in \u001b[0;35mparse\u001b[0;36m\u001b[0m\n\u001b[0;31m    return compile(source, filename, mode, PyCF_ONLY_AST)\u001b[0m\n",
      "\u001b[0;36m  File \u001b[0;32m\"/Users/tonyfast/pidgin/src/pidgin/publishing.md.ipynb\"\u001b[0;36m, line \u001b[0;32m128\u001b[0m\n\u001b[0;31m    \"\"\"rwa\"\"\";\u001b[0m\n\u001b[0m    ^\u001b[0m\n\u001b[0;31mIndentationError\u001b[0m\u001b[0;31m:\u001b[0m unexpected indent\n"
     ]
    }
   ],
   "source": [
    "    import IPython, re, functools, traitlets, typing as t\n",
    "    with __import__('importnb').Notebook():\n",
    "        from . import tangle\n",
    "    with tangle.Pidgin():\n",
    "        from . import environment\n",
    "    if __name__ == '__main__':\n",
    "        %reload_ext pidgin\n",
    "        import pidgin\n",
    "        import deathbeds\n",
    "        shell = get_ipython()\n",
    "    import ast, doctest, IPython, textwrap, re, collections, importnb"
   ]
  },
  {
   "cell_type": "code",
   "execution_count": 17,
   "metadata": {},
   "outputs": [
    {
     "data": {
      "text/html": [
       "<h2>Notebooks as test objects</h2>\n",
       "<p>A frequent motivator for notebook authors is to express a unit of thought in narrative and code.  This method of hypothesis testing is similar to manual testing in software development.  Traditional software manufacturing organizations will have supplement manual testing with automated testing and continuous integration.</p>\n",
       "<p>Outside of the interactive context, notebooks currently find wide use as documentation tool.</p>\n",
       "<p><em>Literate programming will have been mentioned as a documentation tool.</em>\n",
       "<em>Doctesting will be described somewhere else.</em></p>\n",
       "<p>Currently, there is little word processing support.</p>"
      ],
      "text/markdown": [
       "## Notebooks as test objects\n",
       "\n",
       "A frequent motivator for notebook authors is to express a unit of thought in narrative and code.  This method of hypothesis testing is similar to manual testing in software development.  Traditional software manufacturing organizations will have supplement manual testing with automated testing and continuous integration.\n",
       "\n",
       "Outside of the interactive context, notebooks currently find wide use as documentation tool.\n",
       "\n",
       "_Literate programming will have been mentioned as a documentation tool._\n",
       "_Doctesting will be described somewhere else._\n",
       "\n",
       "Currently, there is little word processing support."
      ],
      "text/plain": [
       "## Notebooks as test objects\n",
       "\n",
       "A frequent motivator for notebook authors is to express a unit of thought in narrative and code.  This method of hypothesis testing is similar to manual testing in software development.  Traditional software manufacturing organizations will have supplement manual testing with automated testing and continuous integration.\n",
       "\n",
       "Outside of the interactive context, notebooks currently find wide use as documentation tool.\n",
       "\n",
       "_Literate programming will have been mentioned as a documentation tool._\n",
       "_Doctesting will be described somewhere else._\n",
       "\n",
       "Currently, there is little word processing support."
      ]
     },
     "metadata": {},
     "output_type": "display_data"
    }
   ],
   "source": [
    "## Notebooks as test objects\n",
    "\n",
    "A frequent motivator for notebook authors is to express a unit of thought in narrative and code.  This method of hypothesis testing is similar to manual testing in software development.  Traditional software manufacturing organizations will have supplement manual testing with automated testing and continuous integration.\n",
    "\n",
    "Outside of the interactive context, notebooks currently find wide use as documentation tool.\n",
    "\n",
    "_Literate programming will have been mentioned as a documentation tool._\n",
    "_Doctesting will be described somewhere else._\n",
    "\n",
    "Currently, there is little word processing support."
   ]
  },
  {
   "cell_type": "code",
   "execution_count": null,
   "metadata": {},
   "outputs": [],
   "source": [
    "Testing notebooks will enahc"
   ]
  },
  {
   "cell_type": "code",
   "execution_count": 18,
   "metadata": {},
   "outputs": [
    {
     "data": {
      "text/html": [
       "<pre><code>def doctest(line, cell):\n",
       "</code></pre>\n",
       "<p>A doctest magic</p>\n",
       "<pre><code>def test(line, cell):\n",
       "</code></pre>\n",
       "<p>A function to run all unit and doctests.</p>"
      ],
      "text/markdown": [
       "    def doctest(line, cell):\n",
       "A doctest magic \n",
       "\n",
       "    def test(line, cell):\n",
       "A function to run all unit and doctests.\n"
      ],
      "text/plain": [
       "    def doctest(line, cell):\n",
       "A doctest magic \n",
       "\n",
       "    def test(line, cell):\n",
       "A function to run all unit and doctests.\n",
       "\n"
      ]
     },
     "metadata": {},
     "output_type": "display_data"
    }
   ],
   "source": [
    "    def doctest(line, cell):\n",
    "A doctest magic \n",
    "\n",
    "    def test(line, cell):\n",
    "A function to run all unit and doctests.\n",
    "\n"
   ]
  },
  {
   "cell_type": "code",
   "execution_count": 20,
   "metadata": {},
   "outputs": [],
   "source": [
    "    def load_ipython_extension(shell):\n",
    "        ip.input_transformer_manager.cleanup_transforms = [\n",
    "            object for object in ip.input_transformer_manager.cleanup_transforms\n",
    "            if object is not \n",
    "the doctest prompt stripper\n",
    "            \n",
    "            and IPython.core.inputtransformer2.classic_prompt]\n",
    "        "
   ]
  },
  {
   "cell_type": "code",
   "execution_count": 24,
   "metadata": {},
   "outputs": [
    {
     "ename": "DocTestException",
     "evalue": "Finding tests in __main__\nTrying:\n    assert 0, \"Create directive for ipython\"\n\nExpecting nothing\n**********************************************************************\nFile \"__main__\", line ?, in __main__\nFailed example:\n    assert 0, \"Create directive for ipython\"\n\nException raised:\n    Traceback (most recent call last):\n      File \"/Users/tonyfast/anaconda/envs/p6/lib/python3.6/doctest.py\", line 1330, in __run\n        compileflags, 1), test.globs)\n      File \"<doctest __main__[0]>\", line 1, in <module>\n        assert 0, \"Create directive for ipython\"\n    AssertionError: Create directive for ipython\n",
     "output_type": "error",
     "traceback": [
      "\u001b[0;31m---------------------------------------------------------------------------\u001b[0m",
      "\u001b[0;31mDocTestException\u001b[0m                          Traceback (most recent call last)",
      "\u001b[0;31mDocTestException\u001b[0m: Finding tests in __main__\nTrying:\n    assert 0, \"Create directive for ipython\"\n\nExpecting nothing\n**********************************************************************\nFile \"__main__\", line ?, in __main__\nFailed example:\n    assert 0, \"Create directive for ipython\"\n\nException raised:\n    Traceback (most recent call last):\n      File \"/Users/tonyfast/anaconda/envs/p6/lib/python3.6/doctest.py\", line 1330, in __run\n        compileflags, 1), test.globs)\n      File \"<doctest __main__[0]>\", line 1, in <module>\n        assert 0, \"Create directive for ipython\"\n    AssertionError: Create directive for ipython\n"
     ]
    },
    {
     "data": {
      "text/html": [
       "<pre><code>def doctest_to_ipython(ip, test):\n",
       "</code></pre>\n",
       "<p>`doctest` is a <strong>Python</strong> tool that is can only execute <strong>Python</strong> & not <strong>IPython</strong>.</p>\n",
       "<pre><code>    for example in test.examples:\n",
       "        example.source = ip.input_transformer_manager.transform_cell(\n",
       "            textwrap.indent(example.source, ' '*4)\n",
       "        )\n",
       "        if '```' in example.want:\n",
       "            example.want, ticks, rest = example.want.rpartition('```')\n",
       "    return test\n",
       "</code></pre>\n",
       "<pre title=\"Finding tests in __main__&#013;Trying:&#013;    assert 0, &quot;Create directive for ipython&quot;&#013;&#013;Expecting nothing&#013;**********************************************************************&#013;File &quot;__main__&quot;, line ?, in __main__&#013;Failed example:&#013;    assert 0, &quot;Create directive for ipython&quot;&#013;&#013;Exception raised:&#013;    Traceback (most recent call last):&#013;      File &quot;/Users/tonyfast/anaconda/envs/p6/lib/python3.6/doctest.py&quot;, line 1330, in __run&#013;        compileflags, 1), test.globs)&#013;      File &quot;&lt;doctest __main__[0]&gt;&quot;, line 1, in &lt;module&gt;&#013;        assert 0, &quot;Create directive for ipython&quot;&#013;    AssertionError: Create directive for ipython\"><code style=\"background: var(--jp-rendermime-error-background);\">>>> assert 0, \"Create directive for ipython\"</code></pre>"
      ],
      "text/markdown": [
       "    def doctest_to_ipython(ip, test):\n",
       "`doctest` is a __Python__ tool that is can only execute __Python__ & not __IPython__.\n",
       "\n",
       "        for example in test.examples:\n",
       "            example.source = ip.input_transformer_manager.transform_cell(\n",
       "                textwrap.indent(example.source, ' '*4)\n",
       "            )\n",
       "            if '```' in example.want:\n",
       "                example.want, ticks, rest = example.want.rpartition('```')\n",
       "        return test\n",
       "    \n",
       ">>> assert 0, \"Create directive for ipython\""
      ],
      "text/plain": [
       "    def doctest_to_ipython(ip, test):\n",
       "`doctest` is a __Python__ tool that is can only execute __Python__ & not __IPython__.\n",
       "\n",
       "        for example in test.examples:\n",
       "            example.source = ip.input_transformer_manager.transform_cell(\n",
       "                textwrap.indent(example.source, ' '*4)\n",
       "            )\n",
       "            if '```' in example.want:\n",
       "                example.want, ticks, rest = example.want.rpartition('```')\n",
       "        return test\n",
       "    \n",
       ">>> assert 0, \"Create directive for ipython\""
      ]
     },
     "metadata": {},
     "output_type": "display_data"
    }
   ],
   "source": [
    "    def doctest_to_ipython(ip, test):\n",
    "`doctest` is a __Python__ tool that is can only execute __Python__ & not __IPython__.\n",
    "\n",
    "        for example in test.examples:\n",
    "            example.source = ip.input_transformer_manager.transform_cell(\n",
    "                textwrap.indent(example.source, ' '*4)\n",
    "            )\n",
    "            if '```' in example.want:\n",
    "                example.want, ticks, rest = example.want.rpartition('```')\n",
    "        return test\n",
    "    \n",
    ">>> assert 0, \"Create directive for ipython\""
   ]
  },
  {
   "cell_type": "code",
   "execution_count": 9,
   "metadata": {},
   "outputs": [
    {
     "data": {
      "text/html": [
       "<p>testing should be useful indenpendent of pidgin.</p>"
      ],
      "text/markdown": [
       "testing should be useful indenpendent of pidgin."
      ],
      "text/plain": [
       "testing should be useful indenpendent of pidgin."
      ]
     },
     "metadata": {},
     "output_type": "display_data"
    }
   ],
   "source": [
    "testing should be useful indenpendent of pidgin."
   ]
  },
  {
   "cell_type": "code",
   "execution_count": 4,
   "metadata": {},
   "outputs": [
    {
     "data": {
      "text/html": [
       "<p>The weave step assures that code objects are executed.</p>"
      ],
      "text/markdown": [
       "The weave step assures that code objects are executed."
      ],
      "text/plain": [
       "The weave step assures that code objects are executed."
      ]
     },
     "metadata": {},
     "output_type": "display_data"
    }
   ],
   "source": [
    "The weave step assures that code objects are executed."
   ]
  },
  {
   "cell_type": "code",
   "execution_count": 21,
   "metadata": {},
   "outputs": [],
   "source": [
    "    def run_docstring_examples(\n",
    "        f, ip, verbose=False, compileflags=None, optionflags=0\n",
    "    ):\n",
    "        import doctest\n",
    "        finder = doctest.DocTestFinder(verbose=verbose)\n",
    "        runner = doctest.DocTestRunner(verbose=verbose, optionflags=optionflags, checker=OutputChecker())\n",
    "        for test in (doctest_to_ipython(ip, object) for object in finder.find(\n",
    "            f, ip.user_ns.get('__name__', 'doctest'), module=ip.user_module)):\n",
    "            test.globs = ip.user_ns\n",
    "            runner.run(test, compileflags=compileflags, clear_globs=False)        \n",
    "        # globals().update(locals())\n",
    "        return runner"
   ]
  },
  {
   "cell_type": "code",
   "execution_count": 22,
   "metadata": {},
   "outputs": [],
   "source": [
    "    class OutputChecker(__import__('doctest').OutputChecker):\n",
    "        def check_output(self, want, got, optionflags):\n",
    "            return True if want == '...\\n' else super().check_output(want, got, optionflags)"
   ]
  },
  {
   "cell_type": "code",
   "execution_count": 4,
   "metadata": {},
   "outputs": [],
   "source": [
    "    def doctest_to_ipython(ip, test):\n",
    "        for example in test.examples:\n",
    "            example.source = ip.input_transformer_manager.transform_cell(\n",
    "                textwrap.indent(example.source, ' '*4)\n",
    "            )\n",
    "            if '```' in example.want:\n",
    "                example.want, ticks, rest = example.want.rpartition('```')\n",
    "        return test"
   ]
  },
  {
   "cell_type": "markdown",
   "metadata": {},
   "source": [
    "`run_cell_doctests` runs any `doctest`s found in the raw source."
   ]
  },
  {
   "cell_type": "code",
   "execution_count": 5,
   "metadata": {},
   "outputs": [],
   "source": [
    "    def run_cell_doctests(ip, result) -> Exception:\n",
    "        with IPython.utils.capture.capture_output(stdout=True, stderr=False, display=False) as output:\n",
    "            run_docstring_examples(result.info.raw_cell, ip)\n",
    "\n",
    "        if output.stdout: return DocTestException(output.stdout)"
   ]
  },
  {
   "cell_type": "code",
   "execution_count": 6,
   "metadata": {},
   "outputs": [],
   "source": [
    "    class DocTestException(BaseException):\n",
    "        def _render_traceback_(self): return args[0].splitlines()"
   ]
  },
  {
   "cell_type": "code",
   "execution_count": 7,
   "metadata": {},
   "outputs": [],
   "source": [
    "    with importnb.Notebook():\n",
    "        from . import tangle\n"
   ]
  },
  {
   "cell_type": "code",
   "execution_count": 4,
   "metadata": {},
   "outputs": [
    {
     "name": "stderr",
     "output_type": "stream",
     "text": [
      "ERROR:root:Internal Python error in the inspect module.\n",
      "Below is the traceback from this internal error.\n",
      "\n"
     ]
    },
    {
     "name": "stdout",
     "output_type": "stream",
     "text": [
      "Traceback (most recent call last):\n",
      "  File \"/Users/tonyfast/anaconda/envs/p6/lib/python3.6/site-packages/IPython/core/interactiveshell.py\", line 3267, in run_code\n",
      "    exec(code_obj, self.user_global_ns, self.user_ns)\n",
      "  File \"<ipython-input-4-1b0530ddf815>\", line 5, in <module>\n",
      "    class PidginModule(AlternativeModule):\n",
      "  File \"<ipython-input-4-1b0530ddf815>\", line 6, in PidginModule\n",
      "    loader = PidginImporter\n",
      "NameError: name 'PidginImporter' is not defined\n",
      "\n",
      "During handling of the above exception, another exception occurred:\n",
      "\n",
      "Traceback (most recent call last):\n",
      "  File \"/Users/tonyfast/anaconda/envs/p6/lib/python3.6/site-packages/IPython/core/interactiveshell.py\", line 2018, in showtraceback\n",
      "    stb = value._render_traceback_()\n",
      "AttributeError: 'NameError' object has no attribute '_render_traceback_'\n",
      "\n",
      "During handling of the above exception, another exception occurred:\n",
      "\n",
      "Traceback (most recent call last):\n",
      "  File \"/Users/tonyfast/anaconda/envs/p6/lib/python3.6/site-packages/IPython/core/ultratb.py\", line 1095, in get_records\n",
      "    return _fixed_getinnerframes(etb, number_of_lines_of_context, tb_offset)\n",
      "  File \"/Users/tonyfast/anaconda/envs/p6/lib/python3.6/site-packages/IPython/core/ultratb.py\", line 313, in wrapped\n",
      "    return f(*args, **kwargs)\n",
      "  File \"/Users/tonyfast/anaconda/envs/p6/lib/python3.6/site-packages/IPython/core/ultratb.py\", line 347, in _fixed_getinnerframes\n",
      "    records = fix_frame_records_filenames(inspect.getinnerframes(etb, context))\n",
      "  File \"/Users/tonyfast/anaconda/envs/p6/lib/python3.6/inspect.py\", line 1480, in getinnerframes\n",
      "    frameinfo = (tb.tb_frame,) + getframeinfo(tb, context)\n",
      "  File \"/Users/tonyfast/anaconda/envs/p6/lib/python3.6/inspect.py\", line 1438, in getframeinfo\n",
      "    filename = getsourcefile(frame) or getfile(frame)\n",
      "  File \"/Users/tonyfast/anaconda/envs/p6/lib/python3.6/inspect.py\", line 693, in getsourcefile\n",
      "    if getattr(getmodule(object, filename), '__loader__', None) is not None:\n",
      "  File \"/Users/tonyfast/anaconda/envs/p6/lib/python3.6/inspect.py\", line 730, in getmodule\n",
      "    if ismodule(module) and hasattr(module, '__file__'):\n",
      "  File \"/Users/tonyfast/anaconda/envs/p6/lib/python3.6/importlib/util.py\", line 233, in __getattribute__\n",
      "    self.__spec__.loader.exec_module(self)\n",
      "  File \"<frozen importlib._bootstrap_external>\", line 678, in exec_module\n",
      "  File \"<frozen importlib._bootstrap>\", line 219, in _call_with_frames_removed\n",
      "  File \"/Users/tonyfast/pidgin/src/pidgin/testing.md.ipynb\", line 303, in <module>\n",
      "    class PidginModule(AlternativeModule):\n",
      "  File \"/Users/tonyfast/pidgin/src/pidgin/testing.md.ipynb\", line 304, in PidginModule\n",
      "    loader = PidginImporter\n",
      "NameError: name 'PidginImporter' is not defined\n"
     ]
    },
    {
     "ename": "NameError",
     "evalue": "name 'PidginImporter' is not defined",
     "output_type": "error",
     "traceback": [
      "\u001b[0;31m---------------------------------------------------------------------------\u001b[0m"
     ]
    }
   ],
   "source": [
    "    from importnb.utils.pytest_importnb import AlternativeModule, AlternativeSourceText\n",
    "    with importnb.Notebook():\n",
    "        from . import tangle\n",
    "\n",
    "    class PidginModule(AlternativeModule):\n",
    "        loader = tangle.Pidgin\n",
    "    class MarkdownModule(AlternativeModule):\n",
    "        loader = tangle.MarkdownImporter\n",
    "\n",
    "    class PidginTests(metaclass=AlternativeSourceText):\n",
    "        modules = PidginModule, MarkdownModule\n",
    "\n",
    "    pytest_collect_file = PidginTests.__call__"
   ]
  },
  {
   "cell_type": "code",
   "execution_count": 20,
   "metadata": {},
   "outputs": [
    {
     "data": {
      "text/html": [
       "<pre><code>def load_ipython_extension(shell):\n",
       "    ip.input_transformer_manager.cleanup_transforms = [\n",
       "        object for object in ip.input_transformer_manager.cleanup_transforms\n",
       "        if object is not \n",
       "</code></pre>\n",
       "<p>the doctest prompt stripper</p>\n",
       "<pre><code>        and IPython.core.inputtransformer2.classic_prompt]\n",
       "\n",
       "def unload_ipython_extension(ip): ...\n",
       "</code></pre>"
      ],
      "text/markdown": [
       "    def load_ipython_extension(shell):\n",
       "        ip.input_transformer_manager.cleanup_transforms = [\n",
       "            object for object in ip.input_transformer_manager.cleanup_transforms\n",
       "            if object is not \n",
       "the doctest prompt stripper\n",
       "            \n",
       "            and IPython.core.inputtransformer2.classic_prompt]\n",
       "        \n",
       "    def unload_ipython_extension(ip): ..."
      ],
      "text/plain": [
       "    def load_ipython_extension(shell):\n",
       "        ip.input_transformer_manager.cleanup_transforms = [\n",
       "            object for object in ip.input_transformer_manager.cleanup_transforms\n",
       "            if object is not \n",
       "the doctest prompt stripper\n",
       "            \n",
       "            and IPython.core.inputtransformer2.classic_prompt]\n",
       "        \n",
       "    def unload_ipython_extension(ip): ..."
      ]
     },
     "metadata": {},
     "output_type": "display_data"
    }
   ],
   "source": [
    "    def unload_ipython_extension(shell): ..."
   ]
  },
  {
   "cell_type": "code",
   "execution_count": 25,
   "metadata": {},
   "outputs": [
    {
     "data": {
      "text/html": [
       "<p>Currently it is not possible to test dynamically generated outputs.  eneter robot lab.</p>"
      ],
      "text/markdown": [
       "Currently it is not possible to test dynamically generated outputs.  eneter robot lab."
      ],
      "text/plain": [
       "Currently it is not possible to test dynamically generated outputs.  eneter robot lab."
      ]
     },
     "metadata": {},
     "output_type": "display_data"
    }
   ],
   "source": [
    "Currently it is not possible to test dynamically generated outputs.  eneter robot lab."
   ]
  },
  {
   "cell_type": "code",
   "execution_count": 2,
   "metadata": {},
   "outputs": [
    {
     "ename": "NameError",
     "evalue": "name 'Hypothesis' is not defined",
     "output_type": "error",
     "traceback": [
      "\u001b[0;31m---------------------------------------------------------------------------\u001b[0m",
      "\u001b[0;31mNameError\u001b[0m                                 Traceback (most recent call last)",
      "\u001b[0;32m<ipython-input-2-8b5dac8e614c>\u001b[0m in \u001b[0;36m<module>\u001b[0;34m\u001b[0m\n\u001b[1;32m      1\u001b[0m \u001b[0;32massert\u001b[0m \u001b[0;36m0\u001b[0m\u001b[0;34m,\u001b[0m\u001b[0;31m \u001b[0m\u001b[0;31m\\\u001b[0m\u001b[0;34m\u001b[0m\u001b[0m\n\u001b[0;32m----> 2\u001b[0;31m \u001b[0mHypothesis\u001b[0m\u001b[0;34m\u001b[0m\u001b[0m\n\u001b[0m",
      "\u001b[0;31mNameError\u001b[0m: name 'Hypothesis' is not defined"
     ]
    }
   ],
   "source": [
    ">>> assert 0, \\\n",
    "Hypothesis"
   ]
  },
  {
   "cell_type": "code",
   "execution_count": null,
   "metadata": {},
   "outputs": [],
   "source": []
  }
 ],
 "metadata": {
  "kernelspec": {
   "display_name": "p6",
   "language": "python",
   "name": "other-env"
  },
  "language_info": {
   "codemirror_mode": {
    "name": "ipython",
    "version": 3
   },
   "file_extension": ".py",
   "mimetype": "text/x-python",
   "name": "python",
   "nbconvert_exporter": "python",
   "pygments_lexer": "ipython3",
   "version": "3.6.3"
  }
 },
 "nbformat": 4,
 "nbformat_minor": 2
}
