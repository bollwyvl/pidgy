{
 "cells": [
  {
   "cell_type": "markdown",
   "metadata": {},
   "source": [
    "* This document discusses automatically generating presentations from notebooks.  \n",
    "* Presentations provide nonlinear narratives with x & y - slide & subslide - abstractions.  A nonlinear story is an intermediate to a linear story, or computational essay.\n",
    "* The __reveal.js__ view of a notebook provides an alternative interface to view as slides and in a sorted layout view. \n",
    "* Headers have an added purpose to separate slides.\n",
    "\n",
    "# Interpretting notebooks as presentations."
   ]
  },
  {
   "cell_type": "code",
   "execution_count": 1,
   "metadata": {},
   "outputs": [],
   "source": [
    "    import IPython; get_ipython = IPython.get_ipython\n",
    "    if __name__ == '__main__':\n",
    "        %reload_ext pidgin\n",
    "    __all__ = 'present',"
   ]
  },
  {
   "cell_type": "code",
   "execution_count": 2,
   "metadata": {},
   "outputs": [
    {
     "data": {
      "text/html": [
       "<code style=\"white-space: pre;\" title=\"\">import nbconvert, nbformat, yaml, io, traitlets\n",
       "</code><a href=\"#converting-a-notebook-to-a-presentation\"><h2 id=\"converting-a-notebook-to-a-presentation\">Converting a notebook to a presentation.</h2>\n",
       "</a>\n",
       "<p>The <code>nbconvert.SlidesExporter\n",
       "</code> exports <code>nbformat\n",
       "</code> documents as presentations;\n",
       "<code>assert issubclass(nbconvert.SlidesExporter, nbconvert.HTMLExporter)\n",
       "</code>.</p>\n"
      ],
      "text/markdown": [
       "    import nbconvert, nbformat, yaml, io, traitlets\n",
       "\n",
       "## Converting a notebook to a presentation.\n",
       "\n",
       "The `nbconvert.SlidesExporter` exports `nbformat` documents as presentations;\n",
       "`assert issubclass(nbconvert.SlidesExporter, nbconvert.HTMLExporter)`."
      ],
      "text/plain": [
       "'    import nbconvert, nbformat, yaml, io, traitlets\\n\\n## Converting a notebook to a presentation.\\n\\nThe `nbconvert.SlidesExporter` exports `nbformat` documents as presentations;\\n`assert issubclass(nbconvert.SlidesExporter, nbconvert.HTMLExporter)`.'"
      ]
     },
     "metadata": {},
     "output_type": "display_data"
    }
   ],
   "source": [
    "    import nbconvert, nbformat, yaml, io, traitlets\n",
    "\n",
    "## Converting a notebook to a presentation.\n",
    "\n",
    "The `nbconvert.SlidesExporter` exports `nbformat` documents as presentations;\n",
    "`assert issubclass(nbconvert.SlidesExporter, nbconvert.HTMLExporter)`."
   ]
  },
  {
   "cell_type": "code",
   "execution_count": 3,
   "metadata": {},
   "outputs": [
    {
     "data": {
      "text/html": [
       "<a href=\"#slide-show-metadata\"><h3 id=\"slide-show-metadata\">Slide show metadata.</h3>\n",
       "</a>\n",
       "<p><code>nbconvert.SlidesExporter\n",
       "</code> uses cell metadata to create <code>\"slide subslide fragment\"\n",
       "</code> <code>\"slide_type\"\n",
       "</code>s.</p>\n",
       "<code style=\"white-space: pre;\" title=\"\">def add_slide_metadata(cell):\n",
       "</code><p><code>add_slide_metadata\n",
       "</code> adds <code>\"slideshow\"\n",
       "</code> data to a <strong>cell</strong> using the headers and horizontal rules as delimiters.</p>\n",
       "<code style=\"white-space: pre;\" title=\"\">    source = ''.join(cell['source'])\n",
       "    type = F\"fragment slide slide subslide fragment fragment fragment\".split(\n",
       "    )[max(get_levels(source) or [0])]\n",
       "</code><p><code>\"slideshow\"\n",
       "</code> is a keyword specific to the <code>nbconvert.SlidesExporter\n",
       "</code>, we only update the metadata \n",
       "if the keywords don't exist.</p>\n",
       "<code style=\"white-space: pre;\" title=\"\">    cell.metadata['slideshow'] = cell.metadata.get('slideshow', {})\n",
       "    cell.metadata['slideshow'].update(slide_type=cell.metadata['slideshow'].get(\n",
       "        'slide_type', type\n",
       "    ))\n",
       "    return cell\n",
       "</code>"
      ],
      "text/markdown": [
       "### Slide show metadata.\n",
       "\n",
       "`nbconvert.SlidesExporter` uses cell metadata to create `\"slide subslide fragment\"` `\"slide_type\"`s.\n",
       "\n",
       "    def add_slide_metadata(cell):\n",
       "`add_slide_metadata` adds `\"slideshow\"` data to a __cell__ using the headers and horizontal rules as delimiters.\n",
       "\n",
       "        source = ''.join(cell['source'])\n",
       "        type = F\"fragment slide slide subslide fragment fragment fragment\".split(\n",
       "        )[max(get_levels(source) or [0])]\n",
       "`\"slideshow\"` is a keyword specific to the `nbconvert.SlidesExporter`, we only update the metadata \n",
       "if the keywords don't exist.\n",
       "\n",
       "        cell.metadata['slideshow'] = cell.metadata.get('slideshow', {})\n",
       "        cell.metadata['slideshow'].update(slide_type=cell.metadata['slideshow'].get(\n",
       "            'slide_type', type\n",
       "        ))\n",
       "        return cell"
      ],
      "text/plain": [
       "'### Slide show metadata.\\n\\n`nbconvert.SlidesExporter` uses cell metadata to create `\"slide subslide fragment\"` `\"slide_type\"`s.\\n\\n    def add_slide_metadata(cell):\\n`add_slide_metadata` adds `\"slideshow\"` data to a __cell__ using the headers and horizontal rules as delimiters.\\n\\n        source = \\'\\'.join(cell[\\'source\\'])\\n        type = F\"fragment slide slide subslide fragment fragment fragment\".split(\\n        )[max(get_levels(source) or [0])]\\n`\"slideshow\"` is a keyword specific to the `nbconvert.SlidesExporter`, we only update the metadata \\nif the keywords don\\'t exist.\\n\\n        cell.metadata[\\'slideshow\\'] = cell.metadata.get(\\'slideshow\\', {})\\n        cell.metadata[\\'slideshow\\'].update(slide_type=cell.metadata[\\'slideshow\\'].get(\\n            \\'slide_type\\', type\\n        ))\\n        return cell'"
      ]
     },
     "metadata": {},
     "output_type": "display_data"
    }
   ],
   "source": [
    "### Slide show metadata.\n",
    "\n",
    "`nbconvert.SlidesExporter` uses cell metadata to create `\"slide subslide fragment\"` `\"slide_type\"`s.\n",
    "\n",
    "    def add_slide_metadata(cell):\n",
    "`add_slide_metadata` adds `\"slideshow\"` data to a __cell__ using the headers and horizontal rules as delimiters.\n",
    "\n",
    "        source = ''.join(cell['source'])\n",
    "        type = F\"fragment slide slide subslide fragment fragment fragment\".split(\n",
    "        )[max(get_levels(source) or [0])]\n",
    "`\"slideshow\"` is a keyword specific to the `nbconvert.SlidesExporter`, we only update the metadata \n",
    "if the keywords don't exist.\n",
    "\n",
    "        cell.metadata['slideshow'] = cell.metadata.get('slideshow', {})\n",
    "        cell.metadata['slideshow'].update(slide_type=cell.metadata['slideshow'].get(\n",
    "            'slide_type', type\n",
    "        ))\n",
    "        return cell"
   ]
  },
  {
   "cell_type": "code",
   "execution_count": 4,
   "metadata": {},
   "outputs": [
    {
     "data": {
      "text/html": [
       "<a href=\"#extracting-a-table-of-contents-with-mistune\"><h3 id=\"extracting-a-table-of-contents-with-mistune\">Extracting a table of contents with <code>mistune\n",
       "</code></h3>\n",
       "</a>\n",
       "<code style=\"white-space: pre;\" title=\"\">import mistune, slugify\n",
       "class HeadingRenderer(mistune.Renderer):\n",
       "    levels = None\n",
       "    def header(self, text, level, raw=None):\n",
       "        self.levels = (self.levels or set())\n",
       "        self.levels.add(level)\n",
       "        return text\n",
       "</code>"
      ],
      "text/markdown": [
       "### Extracting a table of contents with `mistune`\n",
       "\n",
       "    import mistune, slugify\n",
       "    class HeadingRenderer(mistune.Renderer):\n",
       "        levels = None\n",
       "        def header(self, text, level, raw=None):\n",
       "            self.levels = (self.levels or set())\n",
       "            self.levels.add(level)\n",
       "            return text"
      ],
      "text/plain": [
       "'### Extracting a table of contents with `mistune`\\n\\n    import mistune, slugify\\n    class HeadingRenderer(mistune.Renderer):\\n        levels = None\\n        def header(self, text, level, raw=None):\\n            self.levels = (self.levels or set())\\n            self.levels.add(level)\\n            return text'"
      ]
     },
     "metadata": {},
     "output_type": "display_data"
    }
   ],
   "source": [
    "### Extracting a table of contents with `mistune`\n",
    "\n",
    "    import mistune, slugify\n",
    "    class HeadingRenderer(mistune.Renderer):\n",
    "        levels = None\n",
    "        def header(self, text, level, raw=None):\n",
    "            self.levels = (self.levels or set())\n",
    "            self.levels.add(level)\n",
    "            return text"
   ]
  },
  {
   "cell_type": "code",
   "execution_count": 5,
   "metadata": {},
   "outputs": [
    {
     "data": {
      "text/html": [
       "<code style=\"white-space: pre;\" title=\"\">def get_levels(text):\n",
       "</code><code style=\"white-space: pre;\" title=\"\">>>> assert get_levels(\"# asdf\\\\n## asdfadf\") == {1, 2}\n",
       "</code><code style=\"white-space: pre;\" title=\"\">    renderer = HeadingRenderer()\n",
       "    mistune.Markdown(renderer=renderer).render(text)\n",
       "\n",
       "    return renderer.levels\n",
       "</code>"
      ],
      "text/markdown": [
       "    def get_levels(text):\n",
       "```\n",
       ">>> assert get_levels(\"# asdf\\\\n## asdfadf\") == {1, 2}\n",
       "```\n",
       "\n",
       "        renderer = HeadingRenderer()\n",
       "        mistune.Markdown(renderer=renderer).render(text)\n",
       "\n",
       "        return renderer.levels"
      ],
      "text/plain": [
       "'    def get_levels(text):\\n```\\n>>> assert get_levels(\"# asdf\\\\\\\\n## asdfadf\") == {1, 2}\\n```\\n\\n        renderer = HeadingRenderer()\\n        mistune.Markdown(renderer=renderer).render(text)\\n\\n        return renderer.levels'"
      ]
     },
     "metadata": {},
     "output_type": "display_data"
    }
   ],
   "source": [
    "    def get_levels(text):\n",
    "```\n",
    ">>> assert get_levels(\"# asdf\\\\n## asdfadf\") == {1, 2}\n",
    "```\n",
    "\n",
    "        renderer = HeadingRenderer()\n",
    "        mistune.Markdown(renderer=renderer).render(text)\n",
    "\n",
    "        return renderer.levels"
   ]
  },
  {
   "cell_type": "code",
   "execution_count": 6,
   "metadata": {},
   "outputs": [
    {
     "data": {
      "text/html": [
       "<a href=\"#adding-the-metadata\"><h3 id=\"adding-the-metadata\">Adding the metadata</h3>\n",
       "</a>\n",
       "<p>Take image of the metadata.</p>\n",
       "<code style=\"white-space: pre;\" title=\"\">def add_slide_data(cell):\n",
       "    source = ''.join(cell['source'])\n",
       "    type = \"fragment slide slide subslide fragment fragment fragment\".split(\n",
       "    )[max(get_levels(source) or [0])]\n",
       "    cell.metadata['slideshow'] = cell.metadata.get('slideshow', {})\n",
       "    cell.metadata['slideshow'].update(slide_type=cell.metadata['slideshow'].get('slide_type', type))\n",
       "    return cell\n",
       "</code>"
      ],
      "text/markdown": [
       "### Adding the metadata\n",
       "\n",
       "Take image of the metadata.\n",
       "\n",
       "    def add_slide_data(cell):\n",
       "        source = ''.join(cell['source'])\n",
       "        type = \"fragment slide slide subslide fragment fragment fragment\".split(\n",
       "        )[max(get_levels(source) or [0])]\n",
       "        cell.metadata['slideshow'] = cell.metadata.get('slideshow', {})\n",
       "        cell.metadata['slideshow'].update(slide_type=cell.metadata['slideshow'].get('slide_type', type))\n",
       "        return cell"
      ],
      "text/plain": [
       "'### Adding the metadata\\n\\nTake image of the metadata.\\n\\n    def add_slide_data(cell):\\n        source = \\'\\'.join(cell[\\'source\\'])\\n        type = \"fragment slide slide subslide fragment fragment fragment\".split(\\n        )[max(get_levels(source) or [0])]\\n        cell.metadata[\\'slideshow\\'] = cell.metadata.get(\\'slideshow\\', {})\\n        cell.metadata[\\'slideshow\\'].update(slide_type=cell.metadata[\\'slideshow\\'].get(\\'slide_type\\', type))\\n        return cell'"
      ]
     },
     "metadata": {},
     "output_type": "display_data"
    }
   ],
   "source": [
    "### Adding the metadata\n",
    "\n",
    "Take image of the metadata.\n",
    "\n",
    "    def add_slide_data(cell):\n",
    "        source = ''.join(cell['source'])\n",
    "        type = \"fragment slide slide subslide fragment fragment fragment\".split(\n",
    "        )[max(get_levels(source) or [0])]\n",
    "        cell.metadata['slideshow'] = cell.metadata.get('slideshow', {})\n",
    "        cell.metadata['slideshow'].update(slide_type=cell.metadata['slideshow'].get('slide_type', type))\n",
    "        return cell"
   ]
  },
  {
   "cell_type": "code",
   "execution_count": 7,
   "metadata": {},
   "outputs": [
    {
     "data": {
      "text/html": [
       "<code style=\"white-space: pre;\" title=\"\">class AutomaticallyPresent(nbconvert.preprocessors.Preprocessor):\n",
       "</code><a href=\"#an-nbconvert-preprocessors-preprocessor\"><h3 id=\"an-nbconvert-preprocessors-preprocessor\">An <code>nbconvert.preprocessors.Preprocessor\n",
       "</code></h3>\n",
       "</a>\n",
       "<code style=\"white-space: pre;\" title=\"\">    def preprocess_cell(self, cell, resources, index):\n",
       "        if 'source' not in cell: return cell, resources\n",
       "\n",
       "        if cell['cell_type'] == 'code':\n",
       "            self.is_pidgin = self.is_pidgin or (\n",
       "                'load_ext pidgin' in ''.join(cell['source']))\n",
       "\n",
       "        if cell['cell_type'] in (['markdown'] + (\n",
       "            self.is_pidgin and ['code'] or []\n",
       "        )):\n",
       "            if (cell['cell_type'] == 'markdown') or ('outputs' in cell) and cell['outputs']:\n",
       "                cell = add_slide_data(cell)\n",
       "\n",
       "        return cell, resources\n",
       "\n",
       "    def preprocess(self, nb, resources):\n",
       "        self.last_heading = None\n",
       "        self.is_pidgin = False\n",
       "        while nb.cells and (\n",
       "            not (nb.cells[-1].source or nb.cells[-1].outputs)\n",
       "        ): nb.cells.pop()\n",
       "        if nb.cells and nb.cells[-1]['cell_type'] == 'raw':\n",
       "            nb.metadata.merge(yaml.safe_load(io.StringIO(''.join(nb.cells.pop()['source']))))\n",
       "\n",
       "        nb, resources = super().preprocess(nb, resources)\n",
       "        return nbconvert.exporters.slides.prepare(nb), resources\n",
       "</code>"
      ],
      "text/markdown": [
       "    class AutomaticallyPresent(nbconvert.preprocessors.Preprocessor):\n",
       "### An `nbconvert.preprocessors.Preprocessor`\n",
       "    \n",
       "    \n",
       "\n",
       "        def preprocess_cell(self, cell, resources, index):\n",
       "            if 'source' not in cell: return cell, resources\n",
       "            \n",
       "            if cell['cell_type'] == 'code':\n",
       "                self.is_pidgin = self.is_pidgin or (\n",
       "                    'load_ext pidgin' in ''.join(cell['source']))\n",
       "               \n",
       "            if cell['cell_type'] in (['markdown'] + (\n",
       "                self.is_pidgin and ['code'] or []\n",
       "            )):\n",
       "                if (cell['cell_type'] == 'markdown') or ('outputs' in cell) and cell['outputs']:\n",
       "                    cell = add_slide_data(cell)\n",
       "                \n",
       "            return cell, resources\n",
       "        \n",
       "        def preprocess(self, nb, resources):\n",
       "            self.last_heading = None\n",
       "            self.is_pidgin = False\n",
       "            while nb.cells and (\n",
       "                not (nb.cells[-1].source or nb.cells[-1].outputs)\n",
       "            ): nb.cells.pop()\n",
       "            if nb.cells and nb.cells[-1]['cell_type'] == 'raw':\n",
       "                nb.metadata.merge(yaml.safe_load(io.StringIO(''.join(nb.cells.pop()['source']))))\n",
       "                \n",
       "            nb, resources = super().preprocess(nb, resources)\n",
       "            return nbconvert.exporters.slides.prepare(nb), resources\n"
      ],
      "text/plain": [
       "\"    class AutomaticallyPresent(nbconvert.preprocessors.Preprocessor):\\n### An `nbconvert.preprocessors.Preprocessor`\\n    \\n    \\n\\n        def preprocess_cell(self, cell, resources, index):\\n            if 'source' not in cell: return cell, resources\\n            \\n            if cell['cell_type'] == 'code':\\n                self.is_pidgin = self.is_pidgin or (\\n                    'load_ext pidgin' in ''.join(cell['source']))\\n               \\n            if cell['cell_type'] in (['markdown'] + (\\n                self.is_pidgin and ['code'] or []\\n            )):\\n                if (cell['cell_type'] == 'markdown') or ('outputs' in cell) and cell['outputs']:\\n                    cell = add_slide_data(cell)\\n                \\n            return cell, resources\\n        \\n        def preprocess(self, nb, resources):\\n            self.last_heading = None\\n            self.is_pidgin = False\\n            while nb.cells and (\\n                not (nb.cells[-1].source or nb.cells[-1].outputs)\\n            ): nb.cells.pop()\\n            if nb.cells and nb.cells[-1]['cell_type'] == 'raw':\\n                nb.metadata.merge(yaml.safe_load(io.StringIO(''.join(nb.cells.pop()['source']))))\\n                \\n            nb, resources = super().preprocess(nb, resources)\\n            return nbconvert.exporters.slides.prepare(nb), resources\\n\""
      ]
     },
     "metadata": {},
     "output_type": "display_data"
    }
   ],
   "source": [
    "    class AutomaticallyPresent(nbconvert.preprocessors.Preprocessor):\n",
    "### An `nbconvert.preprocessors.Preprocessor`\n",
    "    \n",
    "    \n",
    "\n",
    "        def preprocess_cell(self, cell, resources, index):\n",
    "            if 'source' not in cell: return cell, resources\n",
    "            \n",
    "            if cell['cell_type'] == 'code':\n",
    "                self.is_pidgin = self.is_pidgin or (\n",
    "                    'load_ext pidgin' in ''.join(cell['source']))\n",
    "               \n",
    "            if cell['cell_type'] in (['markdown'] + (\n",
    "                self.is_pidgin and ['code'] or []\n",
    "            )):\n",
    "                if (cell['cell_type'] == 'markdown') or ('outputs' in cell) and cell['outputs']:\n",
    "                    cell = add_slide_data(cell)\n",
    "                \n",
    "            return cell, resources\n",
    "        \n",
    "        def preprocess(self, nb, resources):\n",
    "            self.last_heading = None\n",
    "            self.is_pidgin = False\n",
    "            while nb.cells and (\n",
    "                not (nb.cells[-1].source or nb.cells[-1].outputs)\n",
    "            ): nb.cells.pop()\n",
    "            if nb.cells and nb.cells[-1]['cell_type'] == 'raw':\n",
    "                nb.metadata.merge(yaml.safe_load(io.StringIO(''.join(nb.cells.pop()['source']))))\n",
    "                \n",
    "            nb, resources = super().preprocess(nb, resources)\n",
    "            return nbconvert.exporters.slides.prepare(nb), resources\n"
   ]
  },
  {
   "cell_type": "markdown",
   "metadata": {},
   "source": [
    "## Automatically adding the metadata."
   ]
  },
  {
   "cell_type": "code",
   "execution_count": 8,
   "metadata": {},
   "outputs": [],
   "source": [
    "    mod_css = lambda str: str.replace(\"\"\"                .css('height', 'calc(95vh)')\n",
    "                    .css('overflow-y', 'scroll')\n",
    "                    .css('margin-top', '20px');\"\"\",\n",
    "    \"\"\"                .css('height', 'calc(100vh)')\n",
    "                .css('overflow-y', 'scroll')\n",
    "                .css('margin-top', '0px');\"\"\")"
   ]
  },
  {
   "cell_type": "code",
   "execution_count": 9,
   "metadata": {},
   "outputs": [],
   "source": [
    "    def present(filename, **dict):\n",
    "        import vdom.svg\n",
    "        exporter = nbconvert.SlidesExporter(\n",
    "            preprocessors=[AutomaticallyPresent()],\n",
    "            reveal_scroll=True, exclude_output_prompt=True, exclude_raw=True,\n",
    "            exclude_input=True, **dict\n",
    "        )\n",
    "        template = exporter.environment.loader.loaders[0].get_source(exporter.environment, 'slides_reveal')[0]\n",
    "        lead, sep, template = template.partition('<section')\n",
    "        sep += \"\"\" {% for key, value in nb.metadata.get('dataset', {}).items()%}data-{{key}}=\"{{value}}\" {% endfor %}\"\"\"\n",
    "        template = template.replace(\"\"\"<section\"\"\", \"\"\"<section\"\"\" + \"\"\" {% for key, value in cell.metadata.get('dataset', {}).items()%}data-{{key}}=\"{{value}}\" {% endfor %}\"\"\")\n",
    "        template = lead + sep + template\n",
    "        template = template.replace('controls: true,', '''width: \"100%\", height: \"100%\", margin: 0, controls: true, slideNumber: true, center: false, loop: true, backgroundTransition: 'slide', width: '100%', ''')\n",
    "        template = mod_css(template)\n",
    "        template = template.replace('</body>', '</body><style>li code, p code {display: contents;}</style>')\n",
    "        template = template.replace(\n",
    "            \"\"\"Reveal.addEventListener('slidechanged', setScrollingSlide);\"\"\",\n",
    "            \"\"\"Reveal.addEventListener('slidechanged', setScrollingSlide);\n",
    "            $('.slide-number').click(function(){Reveal.toggleOverview();});\n",
    "\n",
    "            \"\"\")\n",
    "        exporter._template_cached = exporter.environment.from_string(template)\n",
    "        return vdom.svg.iframe(\n",
    "            srcdoc=exporter.from_filename(filename)[0],\n",
    "            width=\"100%\", height=\"500px\",\n",
    "            **{\"class\": \"pdg-Frame\"}\n",
    "        )._repr_html_()"
   ]
  },
  {
   "cell_type": "raw",
   "metadata": {},
   "source": [
    "dataset:\n",
    "    background-color: green"
   ]
  }
 ],
 "metadata": {
  "kernelspec": {
   "display_name": "Python 3",
   "language": "python",
   "name": "python3"
  },
  "language_info": {
   "codemirror_mode": {
    "name": "ipython",
    "version": 3
   },
   "file_extension": ".py",
   "mimetype": "text/x-python",
   "name": "python",
   "nbconvert_exporter": "python",
   "pygments_lexer": "ipython3",
   "version": "3.6.6"
  }
 },
 "nbformat": 4,
 "nbformat_minor": 2
}
