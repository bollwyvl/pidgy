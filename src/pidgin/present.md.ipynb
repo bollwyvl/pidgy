{
 "cells": [
  {
   "cell_type": "markdown",
   "metadata": {},
   "source": [
    "* This document discusses automatically generating presentations from notebooks.  \n",
    "* Presentations provide nonlinear narratives with x & y - slide & subslide - abstractions.  A nonlinear story is an intermediate to a linear story, or computational essay.\n",
    "* The __reveal.js__ view of a notebook provides an alternative interface to view as slides and in a sorted layout view. \n",
    "* Headers have an added purpose to separate slides.\n",
    "\n",
    "# Interpretting notebooks as presentations."
   ]
  },
  {
   "cell_type": "code",
   "execution_count": 1,
   "metadata": {},
   "outputs": [],
   "source": [
    "    import IPython; get_ipython = IPython.get_ipython\n",
    "    ip = get_ipython()\n",
    "    if ip:\n",
    "        %reload_ext pidgin\n",
    "    __all__ = 'present',"
   ]
  },
  {
   "cell_type": "code",
   "execution_count": 2,
   "metadata": {},
   "outputs": [
    {
     "data": {
      "text/html": [
       "<code style=\"white-space: pre;\" title=\"\">import <span style=\"border-bottom: 1px dotted gray;\" title=\"Type:        module&#013;String form: &lt;module &#x27;nbconvert&#x27; from &#x27;C:\\\\Anaconda3\\\\lib\\\\site-packages\\\\nbconvert\\\\__init__.py&#x27;&gt;&#013;File:        c:\\anaconda3\\lib\\site-packages\\nbconvert\\__init__.py&#013;Docstring:   Utilities for converting notebooks to and from different formats.\">nbconvert</span>, <span style=\"border-bottom: 1px dotted gray;\" title=\"Type:        module&#013;String form: &lt;module &#x27;nbformat&#x27; from &#x27;C:\\\\Anaconda3\\\\lib\\\\site-packages\\\\nbformat\\\\__init__.py&#x27;&gt;&#013;File:        c:\\anaconda3\\lib\\site-packages\\nbformat\\__init__.py&#013;Docstring:  &#013;The Jupyter notebook format&#013;&#013;Use this module to read or write notebook files as particular nbformat versions.\">nbformat</span>, <span style=\"border-bottom: 1px dotted gray;\" title=\"Type:        module&#013;String form: &lt;module &#x27;yaml&#x27; from &#x27;C:\\\\Anaconda3\\\\lib\\\\site-packages\\\\yaml\\\\__init__.py&#x27;&gt;&#013;File:        c:\\anaconda3\\lib\\site-packages\\yaml\\__init__.py&#013;Docstring:   &lt;no docstring&gt;\">yaml</span>, <span style=\"border-bottom: 1px dotted gray;\" title=\"Type:        module&#013;String form: &lt;module &#x27;io&#x27; from &#x27;C:\\\\Anaconda3\\\\lib\\\\io.py&#x27;&gt;&#013;File:        c:\\anaconda3\\lib\\io.py&#013;Docstring:  &#013;The io module provides the Python interfaces to stream handling. The&#013;builtin open function is defined in this module.&#013;&#013;At the top of the I/O hierarchy is the abstract base class IOBase. It&#013;defines the basic interface to a stream. Note, however, that there is no&#013;separation between reading and writing to streams; implementations are&#013;allowed to raise an OSError if they do not support a given operation.&#013;&#013;Extending IOBase is RawIOBase which deals simply with the reading and&#013;writing of raw bytes to a stream. FileIO subclasses RawIOBase to provide&#013;an interface to OS files.&#013;&#013;BufferedIOBase deals with buffering on a raw byte stream (RawIOBase). Its&#013;subclasses, BufferedWriter, BufferedReader, and BufferedRWPair buffer&#013;streams that are readable, writable, and both respectively.&#013;BufferedRandom provides a buffered interface to random access&#013;streams. BytesIO is a simple stream of in-memory bytes.&#013;&#013;Another IOBase subclass, TextIOBase, deals with the encoding and decoding&#013;of streams into text. TextIOWrapper, which extends it, is a buffered text&#013;interface to a buffered raw stream (`BufferedIOBase`). Finally, StringIO&#013;is an in-memory stream for text.&#013;&#013;Argument names are not part of the specification, and only the arguments&#013;of open() are intended to be used as keyword arguments.&#013;&#013;data:&#013;&#013;DEFAULT_BUFFER_SIZE&#013;&#013;   An int containing the default buffer size used by the module&#x27;s buffered&#013;   I/O classes. open() uses the file&#x27;s blksize (as obtained by os.stat) if&#013;   possible.\">io</span>, <span style=\"border-bottom: 1px dotted gray;\" title=\"Type:        module&#013;String form: &lt;module &#x27;traitlets&#x27; from &#x27;C:\\\\Anaconda3\\\\lib\\\\site-packages\\\\traitlets\\\\__init__.py&#x27;&gt;&#013;File:        c:\\anaconda3\\lib\\site-packages\\traitlets\\__init__.py&#013;Docstring:   &lt;no docstring&gt;\">traitlets</span>\n",
       "</code><a href=\"#converting-a-notebook-to-a-presentation\"><h2 id=\"converting-a-notebook-to-a-presentation\">Converting a notebook to a presentation.</h2>\n",
       "</a>\n",
       "<p>The <code><span style=\"border-bottom: 1px dotted gray;\" title=\"Init signature: nbconvert.SlidesExporter(*args, **kwargs)&#013;Docstring:      Exports HTML slides with reveal.js&#013;Init docstring:&#013;Public constructor&#013;&#013;Parameters&#013;----------&#013;config : config&#013;    User configuration instance.&#013;extra_loaders : list[of Jinja Loaders]&#013;    ordered list of Jinja loader to find templates. Will be tried in order&#013;    before the default FileSystem ones.&#013;template : str (optional, kw arg)&#013;    Template to use when exporting.&#013;File:           c:\\anaconda3\\lib\\site-packages\\nbconvert\\exporters\\slides.py&#013;Type:           MetaHasTraits\">nbconvert.SlidesExporter</span>\n",
       "</code> exports <code><span style=\"border-bottom: 1px dotted gray;\" title=\"Type:        module&#013;String form: &lt;module &#x27;nbformat&#x27; from &#x27;C:\\\\Anaconda3\\\\lib\\\\site-packages\\\\nbformat\\\\__init__.py&#x27;&gt;&#013;File:        c:\\anaconda3\\lib\\site-packages\\nbformat\\__init__.py&#013;Docstring:  &#013;The Jupyter notebook format&#013;&#013;Use this module to read or write notebook files as particular nbformat versions.\">nbformat</span>\n",
       "</code> documents as presentations;\n",
       "<code>assert issubclass(<span style=\"border-bottom: 1px dotted gray;\" title=\"Init signature: nbconvert.SlidesExporter(*args, **kwargs)&#013;Docstring:      Exports HTML slides with reveal.js&#013;Init docstring:&#013;Public constructor&#013;&#013;Parameters&#013;----------&#013;config : config&#013;    User configuration instance.&#013;extra_loaders : list[of Jinja Loaders]&#013;    ordered list of Jinja loader to find templates. Will be tried in order&#013;    before the default FileSystem ones.&#013;template : str (optional, kw arg)&#013;    Template to use when exporting.&#013;File:           c:\\anaconda3\\lib\\site-packages\\nbconvert\\exporters\\slides.py&#013;Type:           MetaHasTraits\">nbconvert.SlidesExporter</span>, <span style=\"border-bottom: 1px dotted gray;\" title=\"Init signature: nbconvert.HTMLExporter(*args, **kwargs)&#013;Docstring:     &#013;Exports a basic HTML document.  This exporter assists with the export of&#013;HTML.  Inherit from it if you are writing your own HTML template and need&#013;custom preprocessors/filters.  If you don&#x27;t need custom preprocessors/&#013;filters, just change the &#x27;template_file&#x27; config option.&#013;Init docstring:&#013;Public constructor&#013;&#013;Parameters&#013;----------&#013;config : config&#013;    User configuration instance.&#013;extra_loaders : list[of Jinja Loaders]&#013;    ordered list of Jinja loader to find templates. Will be tried in order&#013;    before the default FileSystem ones.&#013;template : str (optional, kw arg)&#013;    Template to use when exporting.&#013;File:           c:\\anaconda3\\lib\\site-packages\\nbconvert\\exporters\\html.py&#013;Type:           MetaHasTraits\">nbconvert.HTMLExporter</span>)\n",
       "</code>.</p>\n"
      ],
      "text/markdown": [
       "    import nbconvert, nbformat, yaml, io, traitlets\n",
       "\n",
       "## Converting a notebook to a presentation.\n",
       "\n",
       "The `nbconvert.SlidesExporter` exports `nbformat` documents as presentations;\n",
       "`assert issubclass(nbconvert.SlidesExporter, nbconvert.HTMLExporter)`."
      ],
      "text/plain": [
       "'    import nbconvert, nbformat, yaml, io, traitlets\\n\\n## Converting a notebook to a presentation.\\n\\nThe `nbconvert.SlidesExporter` exports `nbformat` documents as presentations;\\n`assert issubclass(nbconvert.SlidesExporter, nbconvert.HTMLExporter)`.'"
      ]
     },
     "metadata": {},
     "output_type": "display_data"
    }
   ],
   "source": [
    "    import nbconvert, nbformat, yaml, io, traitlets\n",
    "\n",
    "## Converting a notebook to a presentation.\n",
    "\n",
    "The `nbconvert.SlidesExporter` exports `nbformat` documents as presentations;\n",
    "`assert issubclass(nbconvert.SlidesExporter, nbconvert.HTMLExporter)`."
   ]
  },
  {
   "cell_type": "code",
   "execution_count": 3,
   "metadata": {},
   "outputs": [
    {
     "data": {
      "text/html": [
       "<a href=\"#slide-show-metadata\"><h3 id=\"slide-show-metadata\">Slide show metadata.</h3>\n",
       "</a>\n",
       "<p><code><span style=\"border-bottom: 1px dotted gray;\" title=\"Init signature: nbconvert.SlidesExporter(*args, **kwargs)&#013;Docstring:      Exports HTML slides with reveal.js&#013;Init docstring:&#013;Public constructor&#013;&#013;Parameters&#013;----------&#013;config : config&#013;    User configuration instance.&#013;extra_loaders : list[of Jinja Loaders]&#013;    ordered list of Jinja loader to find templates. Will be tried in order&#013;    before the default FileSystem ones.&#013;template : str (optional, kw arg)&#013;    Template to use when exporting.&#013;File:           c:\\anaconda3\\lib\\site-packages\\nbconvert\\exporters\\slides.py&#013;Type:           MetaHasTraits\">nbconvert.SlidesExporter</span>\n",
       "</code> uses cell metadata to create <code>\"slide subslide fragment\"\n",
       "</code> <code>\"slide_type\"\n",
       "</code>s.</p>\n",
       "<code style=\"white-space: pre;\" title=\"\">def <span style=\"border-bottom: 1px dotted gray;\" title=\"Signature: add_slide_metadata(cell)&#013;Source:   &#013;def add_slide_metadata(cell):&#013;    &quot;&quot;&quot;`add_slide_metadata` adds `&quot;slideshow&quot;` data to a __cell__ using the headers and horizontal rules as delimiters.&quot;&quot;&quot;&#013;&#013;    source = &#x27;&#x27;.join(cell[&#x27;source&#x27;])&#013;    type = F&quot;fragment slide slide subslide fragment fragment fragment&quot;.split(&#013;    )[max(get_levels(source) or [0])]&#013;    &quot;&quot;&quot;`&quot;slideshow&quot;` is a keyword specific to the `nbconvert.SlidesExporter`, we only update the metadata &#013;    if the keywords don&#x27;t exist.&quot;&quot;&quot;&#013;&#013;    cell.metadata[&#x27;slideshow&#x27;] = cell.metadata.get(&#x27;slideshow&#x27;, {})&#013;    cell.metadata[&#x27;slideshow&#x27;].update(slide_type=cell.metadata[&#x27;slideshow&#x27;].get(&#013;        &#x27;slide_type&#x27;, type&#013;    ))&#013;    return cell&#013;File:      c:\\users\\deathbeds\\pidgin\\src\\pidgin\\&lt;ipython-input-3-bfa9e2ad8044&gt;&#013;Type:      function\">add_slide_metadata</span>(cell):\n",
       "</code><p><code><span style=\"border-bottom: 1px dotted gray;\" title=\"Signature: add_slide_metadata(cell)&#013;Docstring: `add_slide_metadata` adds `&quot;slideshow&quot;` data to a __cell__ using the headers and horizontal rules as delimiters.&#013;File:      c:\\users\\deathbeds\\pidgin\\src\\pidgin\\&lt;ipython-input-3-bfa9e2ad8044&gt;&#013;Type:      function\">add_slide_metadata</span>\n",
       "</code> adds <code>\"slideshow\"\n",
       "</code> data to a <strong>cell</strong> using the headers and horizontal rules as delimiters.</p>\n",
       "<code style=\"white-space: pre;\" title=\"\">    source = ''.<span style=\"border-bottom: 1px dotted gray;\" title=\"Signature:       join(leftkey=&#x27;__no__default__&#x27;, leftseq=&#x27;__no__default__&#x27;, rightkey=&#x27;__no__default__&#x27;, rightseq=&#x27;__no__default__&#x27;, left_default=&#x27;__no__default__&#x27;, right_default=&#x27;__no__default__&#x27;)&#013;Call signature:  join(*args, **kwargs)&#013;Type:            curry&#013;String form:     &lt;function join at 0x00000163E3A7AAE8&gt;&#013;File:            c:\\anaconda3\\lib\\site-packages\\toolz\\functoolz.py&#013;Docstring:      &#013;Join two sequences on common attributes&#013;&#013;This is a semi-streaming operation.  The LEFT sequence is fully evaluated&#013;and placed into memory.  The RIGHT sequence is evaluated lazily and so can&#013;be arbitrarily large.&#013;&#013;&gt;&gt;&gt; friends = [(&#x27;Alice&#x27;, &#x27;Edith&#x27;),&#013;...            (&#x27;Alice&#x27;, &#x27;Zhao&#x27;),&#013;...            (&#x27;Edith&#x27;, &#x27;Alice&#x27;),&#013;...            (&#x27;Zhao&#x27;, &#x27;Alice&#x27;),&#013;...            (&#x27;Zhao&#x27;, &#x27;Edith&#x27;)]&#013;&#013;&gt;&gt;&gt; cities = [(&#x27;Alice&#x27;, &#x27;NYC&#x27;),&#013;...           (&#x27;Alice&#x27;, &#x27;Chicago&#x27;),&#013;...           (&#x27;Dan&#x27;, &#x27;Syndey&#x27;),&#013;...           (&#x27;Edith&#x27;, &#x27;Paris&#x27;),&#013;...           (&#x27;Edith&#x27;, &#x27;Berlin&#x27;),&#013;...           (&#x27;Zhao&#x27;, &#x27;Shanghai&#x27;)]&#013;&#013;&gt;&gt;&gt; # Vacation opportunities&#013;&gt;&gt;&gt; # In what cities do people have friends?&#013;&gt;&gt;&gt; result = join(second, friends,&#013;...               first, cities)&#013;&gt;&gt;&gt; for ((a, b), (c, d)) in sorted(unique(result)):&#013;...     print((a, d))&#013;(&#x27;Alice&#x27;, &#x27;Berlin&#x27;)&#013;(&#x27;Alice&#x27;, &#x27;Paris&#x27;)&#013;(&#x27;Alice&#x27;, &#x27;Shanghai&#x27;)&#013;(&#x27;Edith&#x27;, &#x27;Chicago&#x27;)&#013;(&#x27;Edith&#x27;, &#x27;NYC&#x27;)&#013;(&#x27;Zhao&#x27;, &#x27;Chicago&#x27;)&#013;(&#x27;Zhao&#x27;, &#x27;NYC&#x27;)&#013;(&#x27;Zhao&#x27;, &#x27;Berlin&#x27;)&#013;(&#x27;Zhao&#x27;, &#x27;Paris&#x27;)&#013;&#013;Specify outer joins with keyword arguments ``left_default`` and/or&#013;``right_default``.  Here is a full outer join in which unmatched elements&#013;are paired with None.&#013;&#013;&gt;&gt;&gt; identity = lambda x: x&#013;&gt;&gt;&gt; list(join(identity, [1, 2, 3],&#013;...           identity, [2, 3, 4],&#013;...           left_default=None, right_default=None))&#013;[(2, 2), (3, 3), (None, 4), (1, None)]&#013;&#013;Usually the key arguments are callables to be applied to the sequences.  If&#013;the keys are not obviously callable then it is assumed that indexing was&#013;intended, e.g. the following is a legal change&#013;&#013;&gt;&gt;&gt; # result = join(second, friends, first, cities)&#013;&gt;&gt;&gt; result = join(1, friends, 0, cities)  # doctest: +SKIP&#013;Class docstring:&#013;Curry a callable function&#013;&#013;Enables partial application of arguments through calling a function with an&#013;incomplete set of arguments.&#013;&#013;&gt;&gt;&gt; def mul(x, y):&#013;...     return x * y&#013;&gt;&gt;&gt; mul = curry(mul)&#013;&#013;&gt;&gt;&gt; double = mul(2)&#013;&gt;&gt;&gt; double(10)&#013;20&#013;&#013;Also supports keyword arguments&#013;&#013;&gt;&gt;&gt; @curry                  # Can use curry as a decorator&#013;... def f(x, y, a=10):&#013;...     return a * (x + y)&#013;&#013;&gt;&gt;&gt; add = f(a=1)&#013;&gt;&gt;&gt; add(2, 3)&#013;5&#013;&#013;See Also:&#013;    toolz.curried - namespace of curried functions&#013;                    https://toolz.readthedocs.io/en/latest/curry.html\">join</span>(cell['source'])\n",
       "    type = F\"fragment slide slide subslide fragment fragment fragment\".split(\n",
       "    )[max(get_levels(source) or [0])]\n",
       "</code><p><code>\"slideshow\"\n",
       "</code> is a keyword specific to the <code><span style=\"border-bottom: 1px dotted gray;\" title=\"Init signature: nbconvert.SlidesExporter(*args, **kwargs)&#013;Docstring:      Exports HTML slides with reveal.js&#013;Init docstring:&#013;Public constructor&#013;&#013;Parameters&#013;----------&#013;config : config&#013;    User configuration instance.&#013;extra_loaders : list[of Jinja Loaders]&#013;    ordered list of Jinja loader to find templates. Will be tried in order&#013;    before the default FileSystem ones.&#013;template : str (optional, kw arg)&#013;    Template to use when exporting.&#013;File:           c:\\anaconda3\\lib\\site-packages\\nbconvert\\exporters\\slides.py&#013;Type:           MetaHasTraits\">nbconvert.SlidesExporter</span>\n",
       "</code>, we only update the metadata \n",
       "if the keywords don't exist.</p>\n",
       "<code style=\"white-space: pre;\" title=\"\">    cell.metadata['slideshow'] = cell.metadata.get('slideshow', {})\n",
       "    cell.metadata['slideshow'].update(slide_type=cell.metadata['slideshow'].<span style=\"border-bottom: 1px dotted gray;\" title=\"Signature:       get(ind=&#x27;__no__default__&#x27;, seq=&#x27;__no__default__&#x27;, default=&#x27;__no__default__&#x27;)&#013;Call signature:  get(*args, **kwargs)&#013;Type:            curry&#013;String form:     &lt;function get at 0x00000163E3A7A2F0&gt;&#013;File:            c:\\anaconda3\\lib\\site-packages\\toolz\\functoolz.py&#013;Docstring:      &#013;Get element in a sequence or dict&#013;&#013;Provides standard indexing&#013;&#013;&gt;&gt;&gt; get(1, &#x27;ABC&#x27;)       # Same as &#x27;ABC&#x27;[1]&#013;&#x27;B&#x27;&#013;&#013;Pass a list to get multiple values&#013;&#013;&gt;&gt;&gt; get([1, 2], &#x27;ABC&#x27;)  # (&#x27;ABC&#x27;[1], &#x27;ABC&#x27;[2])&#013;(&#x27;B&#x27;, &#x27;C&#x27;)&#013;&#013;Works on any value that supports indexing/getitem&#013;For example here we see that it works with dictionaries&#013;&#013;&gt;&gt;&gt; phonebook = {&#x27;Alice&#x27;:  &#x27;555-1234&#x27;,&#013;...              &#x27;Bob&#x27;:    &#x27;555-5678&#x27;,&#013;...              &#x27;Charlie&#x27;:&#x27;555-9999&#x27;}&#013;&gt;&gt;&gt; get(&#x27;Alice&#x27;, phonebook)&#013;&#x27;555-1234&#x27;&#013;&#013;&gt;&gt;&gt; get([&#x27;Alice&#x27;, &#x27;Bob&#x27;], phonebook)&#013;(&#x27;555-1234&#x27;, &#x27;555-5678&#x27;)&#013;&#013;Provide a default for missing values&#013;&#013;&gt;&gt;&gt; get([&#x27;Alice&#x27;, &#x27;Dennis&#x27;], phonebook, None)&#013;(&#x27;555-1234&#x27;, None)&#013;&#013;See Also:&#013;    pluck&#013;Class docstring:&#013;Curry a callable function&#013;&#013;Enables partial application of arguments through calling a function with an&#013;incomplete set of arguments.&#013;&#013;&gt;&gt;&gt; def mul(x, y):&#013;...     return x * y&#013;&gt;&gt;&gt; mul = curry(mul)&#013;&#013;&gt;&gt;&gt; double = mul(2)&#013;&gt;&gt;&gt; double(10)&#013;20&#013;&#013;Also supports keyword arguments&#013;&#013;&gt;&gt;&gt; @curry                  # Can use curry as a decorator&#013;... def f(x, y, a=10):&#013;...     return a * (x + y)&#013;&#013;&gt;&gt;&gt; add = f(a=1)&#013;&gt;&gt;&gt; add(2, 3)&#013;5&#013;&#013;See Also:&#013;    toolz.curried - namespace of curried functions&#013;                    https://toolz.readthedocs.io/en/latest/curry.html\">get</span>(\n",
       "        'slide_type', type\n",
       "    ))\n",
       "    return cell\n",
       "</code>"
      ],
      "text/markdown": [
       "### Slide show metadata.\n",
       "\n",
       "`nbconvert.SlidesExporter` uses cell metadata to create `\"slide subslide fragment\"` `\"slide_type\"`s.\n",
       "\n",
       "    def add_slide_metadata(cell):\n",
       "`add_slide_metadata` adds `\"slideshow\"` data to a __cell__ using the headers and horizontal rules as delimiters.\n",
       "\n",
       "        source = ''.join(cell['source'])\n",
       "        type = F\"fragment slide slide subslide fragment fragment fragment\".split(\n",
       "        )[max(get_levels(source) or [0])]\n",
       "`\"slideshow\"` is a keyword specific to the `nbconvert.SlidesExporter`, we only update the metadata \n",
       "if the keywords don't exist.\n",
       "\n",
       "        cell.metadata['slideshow'] = cell.metadata.get('slideshow', {})\n",
       "        cell.metadata['slideshow'].update(slide_type=cell.metadata['slideshow'].get(\n",
       "            'slide_type', type\n",
       "        ))\n",
       "        return cell"
      ],
      "text/plain": [
       "'### Slide show metadata.\\n\\n`nbconvert.SlidesExporter` uses cell metadata to create `\"slide subslide fragment\"` `\"slide_type\"`s.\\n\\n    def add_slide_metadata(cell):\\n`add_slide_metadata` adds `\"slideshow\"` data to a __cell__ using the headers and horizontal rules as delimiters.\\n\\n        source = \\'\\'.join(cell[\\'source\\'])\\n        type = F\"fragment slide slide subslide fragment fragment fragment\".split(\\n        )[max(get_levels(source) or [0])]\\n`\"slideshow\"` is a keyword specific to the `nbconvert.SlidesExporter`, we only update the metadata \\nif the keywords don\\'t exist.\\n\\n        cell.metadata[\\'slideshow\\'] = cell.metadata.get(\\'slideshow\\', {})\\n        cell.metadata[\\'slideshow\\'].update(slide_type=cell.metadata[\\'slideshow\\'].get(\\n            \\'slide_type\\', type\\n        ))\\n        return cell'"
      ]
     },
     "metadata": {},
     "output_type": "display_data"
    }
   ],
   "source": [
    "### Slide show metadata.\n",
    "\n",
    "`nbconvert.SlidesExporter` uses cell metadata to create `\"slide subslide fragment\"` `\"slide_type\"`s.\n",
    "\n",
    "    def add_slide_metadata(cell):\n",
    "`add_slide_metadata` adds `\"slideshow\"` data to a __cell__ using the headers and horizontal rules as delimiters.\n",
    "\n",
    "        source = ''.join(cell['source'])\n",
    "        type = F\"fragment slide slide subslide fragment fragment fragment\".split(\n",
    "        )[max(get_levels(source) or [0])]\n",
    "`\"slideshow\"` is a keyword specific to the `nbconvert.SlidesExporter`, we only update the metadata \n",
    "if the keywords don't exist.\n",
    "\n",
    "        cell.metadata['slideshow'] = cell.metadata.get('slideshow', {})\n",
    "        cell.metadata['slideshow'].update(slide_type=cell.metadata['slideshow'].get(\n",
    "            'slide_type', type\n",
    "        ))\n",
    "        return cell"
   ]
  },
  {
   "cell_type": "code",
   "execution_count": 4,
   "metadata": {},
   "outputs": [
    {
     "data": {
      "text/html": [
       "<a href=\"#extracting-a-table-of-contents-with-mistune\"><h3 id=\"extracting-a-table-of-contents-with-mistune\">Extracting a table of contents with <code><span style=\"border-bottom: 1px dotted gray;\" title=\"Type:        module&#013;String form: &lt;module &#x27;mistune&#x27; from &#x27;C:\\\\Anaconda3\\\\lib\\\\site-packages\\\\mistune.py&#x27;&gt;&#013;File:        c:\\anaconda3\\lib\\site-packages\\mistune.py&#013;Docstring:  &#013;mistune&#013;~~~~~~~&#013;&#013;The fastest markdown parser in pure Python with renderer feature.&#013;&#013;:copyright: (c) 2014 - 2018 by Hsiaoming Yang.\">mistune</span>\n",
       "</code></h3>\n",
       "</a>\n",
       "<code style=\"white-space: pre;\" title=\"\">import <span style=\"border-bottom: 1px dotted gray;\" title=\"Type:        module&#013;String form: &lt;module &#x27;mistune&#x27; from &#x27;C:\\\\Anaconda3\\\\lib\\\\site-packages\\\\mistune.py&#x27;&gt;&#013;File:        c:\\anaconda3\\lib\\site-packages\\mistune.py&#013;Docstring:  &#013;mistune&#013;~~~~~~~&#013;&#013;The fastest markdown parser in pure Python with renderer feature.&#013;&#013;:copyright: (c) 2014 - 2018 by Hsiaoming Yang.\">mistune</span>, <span style=\"border-bottom: 1px dotted gray;\" title=\"Type:        module&#013;String form: &lt;module &#x27;slugify&#x27; from &#x27;C:\\\\Anaconda3\\\\lib\\\\site-packages\\\\slugify\\\\__init__.py&#x27;&gt;&#013;File:        c:\\anaconda3\\lib\\site-packages\\slugify\\__init__.py&#013;Docstring:   &lt;no docstring&gt;\">slugify</span>\n",
       "class <span style=\"border-bottom: 1px dotted gray;\" title=\"Init signature: HeadingRenderer(**kwargs)&#013;Docstring:     &#013;The default HTML renderer for rendering Markdown.&#013;    &#013;Type:           type\">HeadingRenderer</span>(<span style=\"border-bottom: 1px dotted gray;\" title=\"Init signature: mistune.Renderer(**kwargs)&#013;Docstring:     &#013;The default HTML renderer for rendering Markdown.&#013;    &#013;File:           c:\\anaconda3\\lib\\site-packages\\mistune.py&#013;Type:           type\">mistune.Renderer</span>):\n",
       "    levels = None\n",
       "    def header(self, text, level, raw=None):\n",
       "        self.levels = (self.levels or set())\n",
       "        self.levels.add(level)\n",
       "        return text\n",
       "</code>"
      ],
      "text/markdown": [
       "### Extracting a table of contents with `mistune`\n",
       "\n",
       "    import mistune, slugify\n",
       "    class HeadingRenderer(mistune.Renderer):\n",
       "        levels = None\n",
       "        def header(self, text, level, raw=None):\n",
       "            self.levels = (self.levels or set())\n",
       "            self.levels.add(level)\n",
       "            return text"
      ],
      "text/plain": [
       "'### Extracting a table of contents with `mistune`\\n\\n    import mistune, slugify\\n    class HeadingRenderer(mistune.Renderer):\\n        levels = None\\n        def header(self, text, level, raw=None):\\n            self.levels = (self.levels or set())\\n            self.levels.add(level)\\n            return text'"
      ]
     },
     "metadata": {},
     "output_type": "display_data"
    }
   ],
   "source": [
    "### Extracting a table of contents with `mistune`\n",
    "\n",
    "    import mistune, slugify\n",
    "    class HeadingRenderer(mistune.Renderer):\n",
    "        levels = None\n",
    "        def header(self, text, level, raw=None):\n",
    "            self.levels = (self.levels or set())\n",
    "            self.levels.add(level)\n",
    "            return text"
   ]
  },
  {
   "cell_type": "code",
   "execution_count": 5,
   "metadata": {},
   "outputs": [
    {
     "data": {
      "text/html": [
       "<code style=\"white-space: pre;\" title=\"\">def <span style=\"border-bottom: 1px dotted gray;\" title=\"Signature: get_levels(text)&#013;Source:   &#013;def get_levels(text):&#013;    &quot;&quot;&quot;```&#013;&gt;&gt;&gt; assert get_levels(&quot;# asdf\\\\n## asdfadf&quot;) == {1, 2}&#013;```&quot;&quot;&quot;&#013;&#013;    renderer = HeadingRenderer()&#013;    mistune.Markdown(renderer=renderer).render(text)&#013;&#013;    return renderer.levels&#013;File:      c:\\users\\deathbeds\\pidgin\\src\\pidgin\\&lt;ipython-input-5-9298981a673e&gt;&#013;Type:      function\">get_levels</span>(text):\n",
       "</code><code style=\"white-space: pre;\" title=\"\">>>> assert <span style=\"border-bottom: 1px dotted gray;\" title=\"Signature: get_levels(text)&#013;Docstring:&#013;```&#013;&gt;&gt;&gt; assert get_levels(&quot;# asdf\\n## asdfadf&quot;) == {1, 2}&#013;```&#013;File:      c:\\users\\deathbeds\\pidgin\\src\\pidgin\\&lt;ipython-input-5-9298981a673e&gt;&#013;Type:      function\">get_levels</span>(\"# asdf\\\\n## asdfadf\") == {1, 2}\n",
       "</code><code style=\"white-space: pre;\" title=\"\">    renderer = <span style=\"border-bottom: 1px dotted gray;\" title=\"Init signature: HeadingRenderer(**kwargs)&#013;Docstring:     &#013;The default HTML renderer for rendering Markdown.&#013;    &#013;Type:           type\">HeadingRenderer</span>()\n",
       "    <span style=\"border-bottom: 1px dotted gray;\" title=\"Init signature: mistune.Markdown(renderer=None, inline=None, block=None, **kwargs)&#013;Docstring:     &#013;The Markdown parser.&#013;&#013;:param renderer: An instance of ``Renderer``.&#013;:param inline: An inline lexer class or instance.&#013;:param block: A block lexer class or instance.&#013;File:           c:\\anaconda3\\lib\\site-packages\\mistune.py&#013;Type:           type\">mistune.Markdown</span>(renderer=renderer).render(text)\n",
       "\n",
       "    return renderer.levels\n",
       "</code>"
      ],
      "text/markdown": [
       "    def get_levels(text):\n",
       "```\n",
       ">>> assert get_levels(\"# asdf\\\\n## asdfadf\") == {1, 2}\n",
       "```\n",
       "\n",
       "        renderer = HeadingRenderer()\n",
       "        mistune.Markdown(renderer=renderer).render(text)\n",
       "\n",
       "        return renderer.levels"
      ],
      "text/plain": [
       "'    def get_levels(text):\\n```\\n>>> assert get_levels(\"# asdf\\\\\\\\n## asdfadf\") == {1, 2}\\n```\\n\\n        renderer = HeadingRenderer()\\n        mistune.Markdown(renderer=renderer).render(text)\\n\\n        return renderer.levels'"
      ]
     },
     "metadata": {},
     "output_type": "display_data"
    }
   ],
   "source": [
    "    def get_levels(text):\n",
    "```\n",
    ">>> assert get_levels(\"# asdf\\\\n## asdfadf\") == {1, 2}\n",
    "```\n",
    "\n",
    "        renderer = HeadingRenderer()\n",
    "        mistune.Markdown(renderer=renderer).render(text)\n",
    "\n",
    "        return renderer.levels"
   ]
  },
  {
   "cell_type": "code",
   "execution_count": 6,
   "metadata": {},
   "outputs": [
    {
     "data": {
      "text/html": [
       "<a href=\"#adding-the-metadata\"><h3 id=\"adding-the-metadata\">Adding the metadata</h3>\n",
       "</a>\n",
       "<p>Take image of the metadata.</p>\n",
       "<code style=\"white-space: pre;\" title=\"\">def <span style=\"border-bottom: 1px dotted gray;\" title=\"Signature: add_slide_data(cell)&#013;Docstring: &lt;no docstring&gt;&#013;Source:   &#013;def add_slide_data(cell):&#013;    source = &#x27;&#x27;.join(cell[&#x27;source&#x27;])&#013;    type = &quot;fragment slide slide subslide fragment fragment fragment&quot;.split(&#013;    )[max(get_levels(source) or [0])]&#013;    cell.metadata[&#x27;slideshow&#x27;] = cell.metadata.get(&#x27;slideshow&#x27;, {})&#013;    cell.metadata[&#x27;slideshow&#x27;].update(slide_type=cell.metadata[&#x27;slideshow&#x27;].get(&#x27;slide_type&#x27;, type))&#013;    return cell&#013;File:      c:\\users\\deathbeds\\pidgin\\src\\pidgin\\&lt;ipython-input-6-4ca7956f1591&gt;&#013;Type:      function\">add_slide_data</span>(cell):\n",
       "    source = ''.<span style=\"border-bottom: 1px dotted gray;\" title=\"Signature:       join(leftkey=&#x27;__no__default__&#x27;, leftseq=&#x27;__no__default__&#x27;, rightkey=&#x27;__no__default__&#x27;, rightseq=&#x27;__no__default__&#x27;, left_default=&#x27;__no__default__&#x27;, right_default=&#x27;__no__default__&#x27;)&#013;Call signature:  join(*args, **kwargs)&#013;Type:            curry&#013;String form:     &lt;function join at 0x00000163E3A7AAE8&gt;&#013;File:            c:\\anaconda3\\lib\\site-packages\\toolz\\functoolz.py&#013;Docstring:      &#013;Join two sequences on common attributes&#013;&#013;This is a semi-streaming operation.  The LEFT sequence is fully evaluated&#013;and placed into memory.  The RIGHT sequence is evaluated lazily and so can&#013;be arbitrarily large.&#013;&#013;&gt;&gt;&gt; friends = [(&#x27;Alice&#x27;, &#x27;Edith&#x27;),&#013;...            (&#x27;Alice&#x27;, &#x27;Zhao&#x27;),&#013;...            (&#x27;Edith&#x27;, &#x27;Alice&#x27;),&#013;...            (&#x27;Zhao&#x27;, &#x27;Alice&#x27;),&#013;...            (&#x27;Zhao&#x27;, &#x27;Edith&#x27;)]&#013;&#013;&gt;&gt;&gt; cities = [(&#x27;Alice&#x27;, &#x27;NYC&#x27;),&#013;...           (&#x27;Alice&#x27;, &#x27;Chicago&#x27;),&#013;...           (&#x27;Dan&#x27;, &#x27;Syndey&#x27;),&#013;...           (&#x27;Edith&#x27;, &#x27;Paris&#x27;),&#013;...           (&#x27;Edith&#x27;, &#x27;Berlin&#x27;),&#013;...           (&#x27;Zhao&#x27;, &#x27;Shanghai&#x27;)]&#013;&#013;&gt;&gt;&gt; # Vacation opportunities&#013;&gt;&gt;&gt; # In what cities do people have friends?&#013;&gt;&gt;&gt; result = join(second, friends,&#013;...               first, cities)&#013;&gt;&gt;&gt; for ((a, b), (c, d)) in sorted(unique(result)):&#013;...     print((a, d))&#013;(&#x27;Alice&#x27;, &#x27;Berlin&#x27;)&#013;(&#x27;Alice&#x27;, &#x27;Paris&#x27;)&#013;(&#x27;Alice&#x27;, &#x27;Shanghai&#x27;)&#013;(&#x27;Edith&#x27;, &#x27;Chicago&#x27;)&#013;(&#x27;Edith&#x27;, &#x27;NYC&#x27;)&#013;(&#x27;Zhao&#x27;, &#x27;Chicago&#x27;)&#013;(&#x27;Zhao&#x27;, &#x27;NYC&#x27;)&#013;(&#x27;Zhao&#x27;, &#x27;Berlin&#x27;)&#013;(&#x27;Zhao&#x27;, &#x27;Paris&#x27;)&#013;&#013;Specify outer joins with keyword arguments ``left_default`` and/or&#013;``right_default``.  Here is a full outer join in which unmatched elements&#013;are paired with None.&#013;&#013;&gt;&gt;&gt; identity = lambda x: x&#013;&gt;&gt;&gt; list(join(identity, [1, 2, 3],&#013;...           identity, [2, 3, 4],&#013;...           left_default=None, right_default=None))&#013;[(2, 2), (3, 3), (None, 4), (1, None)]&#013;&#013;Usually the key arguments are callables to be applied to the sequences.  If&#013;the keys are not obviously callable then it is assumed that indexing was&#013;intended, e.g. the following is a legal change&#013;&#013;&gt;&gt;&gt; # result = join(second, friends, first, cities)&#013;&gt;&gt;&gt; result = join(1, friends, 0, cities)  # doctest: +SKIP&#013;Class docstring:&#013;Curry a callable function&#013;&#013;Enables partial application of arguments through calling a function with an&#013;incomplete set of arguments.&#013;&#013;&gt;&gt;&gt; def mul(x, y):&#013;...     return x * y&#013;&gt;&gt;&gt; mul = curry(mul)&#013;&#013;&gt;&gt;&gt; double = mul(2)&#013;&gt;&gt;&gt; double(10)&#013;20&#013;&#013;Also supports keyword arguments&#013;&#013;&gt;&gt;&gt; @curry                  # Can use curry as a decorator&#013;... def f(x, y, a=10):&#013;...     return a * (x + y)&#013;&#013;&gt;&gt;&gt; add = f(a=1)&#013;&gt;&gt;&gt; add(2, 3)&#013;5&#013;&#013;See Also:&#013;    toolz.curried - namespace of curried functions&#013;                    https://toolz.readthedocs.io/en/latest/curry.html\">join</span>(cell['source'])\n",
       "    type = \"fragment slide slide subslide fragment fragment fragment\".split(\n",
       "    )[max(<span style=\"border-bottom: 1px dotted gray;\" title=\"Signature: get_levels(text)&#013;Docstring:&#013;```&#013;&gt;&gt;&gt; assert get_levels(&quot;# asdf\\n## asdfadf&quot;) == {1, 2}&#013;```&#013;File:      c:\\users\\deathbeds\\pidgin\\src\\pidgin\\&lt;ipython-input-5-9298981a673e&gt;&#013;Type:      function\">get_levels</span>(source) or [0])]\n",
       "    cell.metadata['slideshow'] = cell.metadata.get('slideshow', {})\n",
       "    cell.metadata['slideshow'].update(slide_type=cell.metadata['slideshow'].<span style=\"border-bottom: 1px dotted gray;\" title=\"Signature:       get(ind=&#x27;__no__default__&#x27;, seq=&#x27;__no__default__&#x27;, default=&#x27;__no__default__&#x27;)&#013;Call signature:  get(*args, **kwargs)&#013;Type:            curry&#013;String form:     &lt;function get at 0x00000163E3A7A2F0&gt;&#013;File:            c:\\anaconda3\\lib\\site-packages\\toolz\\functoolz.py&#013;Docstring:      &#013;Get element in a sequence or dict&#013;&#013;Provides standard indexing&#013;&#013;&gt;&gt;&gt; get(1, &#x27;ABC&#x27;)       # Same as &#x27;ABC&#x27;[1]&#013;&#x27;B&#x27;&#013;&#013;Pass a list to get multiple values&#013;&#013;&gt;&gt;&gt; get([1, 2], &#x27;ABC&#x27;)  # (&#x27;ABC&#x27;[1], &#x27;ABC&#x27;[2])&#013;(&#x27;B&#x27;, &#x27;C&#x27;)&#013;&#013;Works on any value that supports indexing/getitem&#013;For example here we see that it works with dictionaries&#013;&#013;&gt;&gt;&gt; phonebook = {&#x27;Alice&#x27;:  &#x27;555-1234&#x27;,&#013;...              &#x27;Bob&#x27;:    &#x27;555-5678&#x27;,&#013;...              &#x27;Charlie&#x27;:&#x27;555-9999&#x27;}&#013;&gt;&gt;&gt; get(&#x27;Alice&#x27;, phonebook)&#013;&#x27;555-1234&#x27;&#013;&#013;&gt;&gt;&gt; get([&#x27;Alice&#x27;, &#x27;Bob&#x27;], phonebook)&#013;(&#x27;555-1234&#x27;, &#x27;555-5678&#x27;)&#013;&#013;Provide a default for missing values&#013;&#013;&gt;&gt;&gt; get([&#x27;Alice&#x27;, &#x27;Dennis&#x27;], phonebook, None)&#013;(&#x27;555-1234&#x27;, None)&#013;&#013;See Also:&#013;    pluck&#013;Class docstring:&#013;Curry a callable function&#013;&#013;Enables partial application of arguments through calling a function with an&#013;incomplete set of arguments.&#013;&#013;&gt;&gt;&gt; def mul(x, y):&#013;...     return x * y&#013;&gt;&gt;&gt; mul = curry(mul)&#013;&#013;&gt;&gt;&gt; double = mul(2)&#013;&gt;&gt;&gt; double(10)&#013;20&#013;&#013;Also supports keyword arguments&#013;&#013;&gt;&gt;&gt; @curry                  # Can use curry as a decorator&#013;... def f(x, y, a=10):&#013;...     return a * (x + y)&#013;&#013;&gt;&gt;&gt; add = f(a=1)&#013;&gt;&gt;&gt; add(2, 3)&#013;5&#013;&#013;See Also:&#013;    toolz.curried - namespace of curried functions&#013;                    https://toolz.readthedocs.io/en/latest/curry.html\">get</span>('slide_type', type))\n",
       "    return cell\n",
       "</code>"
      ],
      "text/markdown": [
       "### Adding the metadata\n",
       "\n",
       "Take image of the metadata.\n",
       "\n",
       "    def add_slide_data(cell):\n",
       "        source = ''.join(cell['source'])\n",
       "        type = \"fragment slide slide subslide fragment fragment fragment\".split(\n",
       "        )[max(get_levels(source) or [0])]\n",
       "        cell.metadata['slideshow'] = cell.metadata.get('slideshow', {})\n",
       "        cell.metadata['slideshow'].update(slide_type=cell.metadata['slideshow'].get('slide_type', type))\n",
       "        return cell"
      ],
      "text/plain": [
       "'### Adding the metadata\\n\\nTake image of the metadata.\\n\\n    def add_slide_data(cell):\\n        source = \\'\\'.join(cell[\\'source\\'])\\n        type = \"fragment slide slide subslide fragment fragment fragment\".split(\\n        )[max(get_levels(source) or [0])]\\n        cell.metadata[\\'slideshow\\'] = cell.metadata.get(\\'slideshow\\', {})\\n        cell.metadata[\\'slideshow\\'].update(slide_type=cell.metadata[\\'slideshow\\'].get(\\'slide_type\\', type))\\n        return cell'"
      ]
     },
     "metadata": {},
     "output_type": "display_data"
    }
   ],
   "source": [
    "### Adding the metadata\n",
    "\n",
    "Take image of the metadata.\n",
    "\n",
    "    def add_slide_data(cell):\n",
    "        source = ''.join(cell['source'])\n",
    "        type = \"fragment slide slide subslide fragment fragment fragment\".split(\n",
    "        )[max(get_levels(source) or [0])]\n",
    "        cell.metadata['slideshow'] = cell.metadata.get('slideshow', {})\n",
    "        cell.metadata['slideshow'].update(slide_type=cell.metadata['slideshow'].get('slide_type', type))\n",
    "        return cell"
   ]
  },
  {
   "cell_type": "code",
   "execution_count": 7,
   "metadata": {},
   "outputs": [
    {
     "data": {
      "text/html": [
       "<code style=\"white-space: pre;\" title=\"\">class <span style=\"border-bottom: 1px dotted gray;\" title=\"Init signature: AutomaticallyPresent(*args, **kwargs)&#013;Docstring:      ### An `nbconvert.preprocessors.Preprocessor`&#013;Init docstring:&#013;Public constructor&#013;&#013;Parameters&#013;----------&#013;config : Config&#013;    Configuration file structure&#013;`**kw`&#013;    Additional keyword arguments passed to parent&#013;File:           c:\\anaconda3\\lib\\site-packages\\traitlets\\traitlets.py&#013;Type:           MetaHasTraits\">AutomaticallyPresent</span>(<span style=\"border-bottom: 1px dotted gray;\" title=\"Init signature: nbconvert.preprocessors.Preprocessor(*args, **kwargs)&#013;Docstring:     &#013;A configurable preprocessor&#013;&#013;Inherit from this class if you wish to have configurability for your&#013;preprocessor.&#013;&#013;Any configurable traitlets this class exposed will be configurable in&#013;profiles using c.SubClassName.attribute = value&#013;&#013;you can overwrite :meth:`preprocess_cell` to apply a transformation&#013;independently on each cell or :meth:`preprocess` if you prefer your own&#013;logic. See corresponding docstring for information.&#013;&#013;Disabled by default and can be enabled via the config by&#013;    &#x27;c.YourPreprocessorName.enabled = True&#x27;&#013;Init docstring:&#013;Public constructor&#013;&#013;Parameters&#013;----------&#013;config : Config&#013;    Configuration file structure&#013;`**kw`&#013;    Additional keyword arguments passed to parent&#013;File:           c:\\anaconda3\\lib\\site-packages\\nbconvert\\preprocessors\\base.py&#013;Type:           MetaHasTraits\">nbconvert.preprocessors.Preprocessor</span>):\n",
       "</code><a href=\"#an-nbconvert-preprocessors-preprocessor\"><h3 id=\"an-nbconvert-preprocessors-preprocessor\">An <code><span style=\"border-bottom: 1px dotted gray;\" title=\"Init signature: nbconvert.preprocessors.Preprocessor(*args, **kwargs)&#013;Docstring:     &#013;A configurable preprocessor&#013;&#013;Inherit from this class if you wish to have configurability for your&#013;preprocessor.&#013;&#013;Any configurable traitlets this class exposed will be configurable in&#013;profiles using c.SubClassName.attribute = value&#013;&#013;you can overwrite :meth:`preprocess_cell` to apply a transformation&#013;independently on each cell or :meth:`preprocess` if you prefer your own&#013;logic. See corresponding docstring for information.&#013;&#013;Disabled by default and can be enabled via the config by&#013;    &#x27;c.YourPreprocessorName.enabled = True&#x27;&#013;Init docstring:&#013;Public constructor&#013;&#013;Parameters&#013;----------&#013;config : Config&#013;    Configuration file structure&#013;`**kw`&#013;    Additional keyword arguments passed to parent&#013;File:           c:\\anaconda3\\lib\\site-packages\\nbconvert\\preprocessors\\base.py&#013;Type:           MetaHasTraits\">nbconvert.preprocessors.Preprocessor</span>\n",
       "</code></h3>\n",
       "</a>\n",
       "<code style=\"white-space: pre;\" title=\"\">    def preprocess_cell(self, cell, resources, index):\n",
       "        if 'source' not in cell: return cell, resources\n",
       "\n",
       "        if cell['cell_type'] == 'code':\n",
       "            self.is_pidgin = self.is_pidgin or (\n",
       "                'load_ext pidgin' in ''.<span style=\"border-bottom: 1px dotted gray;\" title=\"Signature:       join(leftkey=&#x27;__no__default__&#x27;, leftseq=&#x27;__no__default__&#x27;, rightkey=&#x27;__no__default__&#x27;, rightseq=&#x27;__no__default__&#x27;, left_default=&#x27;__no__default__&#x27;, right_default=&#x27;__no__default__&#x27;)&#013;Call signature:  join(*args, **kwargs)&#013;Type:            curry&#013;String form:     &lt;function join at 0x00000163E3A7AAE8&gt;&#013;File:            c:\\anaconda3\\lib\\site-packages\\toolz\\functoolz.py&#013;Docstring:      &#013;Join two sequences on common attributes&#013;&#013;This is a semi-streaming operation.  The LEFT sequence is fully evaluated&#013;and placed into memory.  The RIGHT sequence is evaluated lazily and so can&#013;be arbitrarily large.&#013;&#013;&gt;&gt;&gt; friends = [(&#x27;Alice&#x27;, &#x27;Edith&#x27;),&#013;...            (&#x27;Alice&#x27;, &#x27;Zhao&#x27;),&#013;...            (&#x27;Edith&#x27;, &#x27;Alice&#x27;),&#013;...            (&#x27;Zhao&#x27;, &#x27;Alice&#x27;),&#013;...            (&#x27;Zhao&#x27;, &#x27;Edith&#x27;)]&#013;&#013;&gt;&gt;&gt; cities = [(&#x27;Alice&#x27;, &#x27;NYC&#x27;),&#013;...           (&#x27;Alice&#x27;, &#x27;Chicago&#x27;),&#013;...           (&#x27;Dan&#x27;, &#x27;Syndey&#x27;),&#013;...           (&#x27;Edith&#x27;, &#x27;Paris&#x27;),&#013;...           (&#x27;Edith&#x27;, &#x27;Berlin&#x27;),&#013;...           (&#x27;Zhao&#x27;, &#x27;Shanghai&#x27;)]&#013;&#013;&gt;&gt;&gt; # Vacation opportunities&#013;&gt;&gt;&gt; # In what cities do people have friends?&#013;&gt;&gt;&gt; result = join(second, friends,&#013;...               first, cities)&#013;&gt;&gt;&gt; for ((a, b), (c, d)) in sorted(unique(result)):&#013;...     print((a, d))&#013;(&#x27;Alice&#x27;, &#x27;Berlin&#x27;)&#013;(&#x27;Alice&#x27;, &#x27;Paris&#x27;)&#013;(&#x27;Alice&#x27;, &#x27;Shanghai&#x27;)&#013;(&#x27;Edith&#x27;, &#x27;Chicago&#x27;)&#013;(&#x27;Edith&#x27;, &#x27;NYC&#x27;)&#013;(&#x27;Zhao&#x27;, &#x27;Chicago&#x27;)&#013;(&#x27;Zhao&#x27;, &#x27;NYC&#x27;)&#013;(&#x27;Zhao&#x27;, &#x27;Berlin&#x27;)&#013;(&#x27;Zhao&#x27;, &#x27;Paris&#x27;)&#013;&#013;Specify outer joins with keyword arguments ``left_default`` and/or&#013;``right_default``.  Here is a full outer join in which unmatched elements&#013;are paired with None.&#013;&#013;&gt;&gt;&gt; identity = lambda x: x&#013;&gt;&gt;&gt; list(join(identity, [1, 2, 3],&#013;...           identity, [2, 3, 4],&#013;...           left_default=None, right_default=None))&#013;[(2, 2), (3, 3), (None, 4), (1, None)]&#013;&#013;Usually the key arguments are callables to be applied to the sequences.  If&#013;the keys are not obviously callable then it is assumed that indexing was&#013;intended, e.g. the following is a legal change&#013;&#013;&gt;&gt;&gt; # result = join(second, friends, first, cities)&#013;&gt;&gt;&gt; result = join(1, friends, 0, cities)  # doctest: +SKIP&#013;Class docstring:&#013;Curry a callable function&#013;&#013;Enables partial application of arguments through calling a function with an&#013;incomplete set of arguments.&#013;&#013;&gt;&gt;&gt; def mul(x, y):&#013;...     return x * y&#013;&gt;&gt;&gt; mul = curry(mul)&#013;&#013;&gt;&gt;&gt; double = mul(2)&#013;&gt;&gt;&gt; double(10)&#013;20&#013;&#013;Also supports keyword arguments&#013;&#013;&gt;&gt;&gt; @curry                  # Can use curry as a decorator&#013;... def f(x, y, a=10):&#013;...     return a * (x + y)&#013;&#013;&gt;&gt;&gt; add = f(a=1)&#013;&gt;&gt;&gt; add(2, 3)&#013;5&#013;&#013;See Also:&#013;    toolz.curried - namespace of curried functions&#013;                    https://toolz.readthedocs.io/en/latest/curry.html\">join</span>(cell['source']))\n",
       "\n",
       "        if cell['cell_type'] in (['markdown'] + (\n",
       "            self.is_pidgin and ['code'] or []\n",
       "        )):\n",
       "            if (cell['cell_type'] == 'markdown') or ('outputs' in cell) and cell['outputs']:\n",
       "                cell = <span style=\"border-bottom: 1px dotted gray;\" title=\"Signature: add_slide_data(cell)&#013;Docstring: &lt;no docstring&gt;&#013;File:      c:\\users\\deathbeds\\pidgin\\src\\pidgin\\&lt;ipython-input-6-4ca7956f1591&gt;&#013;Type:      function\">add_slide_data</span>(cell)\n",
       "\n",
       "        return cell, resources\n",
       "\n",
       "    def preprocess(self, nb, resources):\n",
       "        self.last_heading = None\n",
       "        self.is_pidgin = False\n",
       "        while nb.cells and (\n",
       "            not (nb.cells[-1].source or nb.cells[-1].outputs)\n",
       "        ): nb.cells.pop()\n",
       "        if nb.cells and nb.cells[-1]['cell_type'] == 'raw':\n",
       "            nb.metadata.merge(<span style=\"border-bottom: 1px dotted gray;\" title=\"Signature: yaml.safe_load(stream)&#013;Docstring:&#013;Parse the first YAML document in a stream&#013;and produce the corresponding Python object.&#013;Resolve only basic YAML tags.&#013;File:      c:\\anaconda3\\lib\\site-packages\\yaml\\__init__.py&#013;Type:      function\">yaml.safe_load</span>(<span style=\"border-bottom: 1px dotted gray;\" title=\"Init signature: io.StringIO(initial_value=&#x27;&#x27;, newline=&#x27;\\n&#x27;)&#013;Docstring:     &#013;Text I/O implementation using an in-memory buffer.&#013;&#013;The initial_value argument sets the value of object.  The newline&#013;argument is like the one of TextIOWrapper&#x27;s constructor.&#013;Type:           type\">io.StringIO</span>(''.<span style=\"border-bottom: 1px dotted gray;\" title=\"Signature:       join(leftkey=&#x27;__no__default__&#x27;, leftseq=&#x27;__no__default__&#x27;, rightkey=&#x27;__no__default__&#x27;, rightseq=&#x27;__no__default__&#x27;, left_default=&#x27;__no__default__&#x27;, right_default=&#x27;__no__default__&#x27;)&#013;Call signature:  join(*args, **kwargs)&#013;Type:            curry&#013;String form:     &lt;function join at 0x00000163E3A7AAE8&gt;&#013;File:            c:\\anaconda3\\lib\\site-packages\\toolz\\functoolz.py&#013;Docstring:      &#013;Join two sequences on common attributes&#013;&#013;This is a semi-streaming operation.  The LEFT sequence is fully evaluated&#013;and placed into memory.  The RIGHT sequence is evaluated lazily and so can&#013;be arbitrarily large.&#013;&#013;&gt;&gt;&gt; friends = [(&#x27;Alice&#x27;, &#x27;Edith&#x27;),&#013;...            (&#x27;Alice&#x27;, &#x27;Zhao&#x27;),&#013;...            (&#x27;Edith&#x27;, &#x27;Alice&#x27;),&#013;...            (&#x27;Zhao&#x27;, &#x27;Alice&#x27;),&#013;...            (&#x27;Zhao&#x27;, &#x27;Edith&#x27;)]&#013;&#013;&gt;&gt;&gt; cities = [(&#x27;Alice&#x27;, &#x27;NYC&#x27;),&#013;...           (&#x27;Alice&#x27;, &#x27;Chicago&#x27;),&#013;...           (&#x27;Dan&#x27;, &#x27;Syndey&#x27;),&#013;...           (&#x27;Edith&#x27;, &#x27;Paris&#x27;),&#013;...           (&#x27;Edith&#x27;, &#x27;Berlin&#x27;),&#013;...           (&#x27;Zhao&#x27;, &#x27;Shanghai&#x27;)]&#013;&#013;&gt;&gt;&gt; # Vacation opportunities&#013;&gt;&gt;&gt; # In what cities do people have friends?&#013;&gt;&gt;&gt; result = join(second, friends,&#013;...               first, cities)&#013;&gt;&gt;&gt; for ((a, b), (c, d)) in sorted(unique(result)):&#013;...     print((a, d))&#013;(&#x27;Alice&#x27;, &#x27;Berlin&#x27;)&#013;(&#x27;Alice&#x27;, &#x27;Paris&#x27;)&#013;(&#x27;Alice&#x27;, &#x27;Shanghai&#x27;)&#013;(&#x27;Edith&#x27;, &#x27;Chicago&#x27;)&#013;(&#x27;Edith&#x27;, &#x27;NYC&#x27;)&#013;(&#x27;Zhao&#x27;, &#x27;Chicago&#x27;)&#013;(&#x27;Zhao&#x27;, &#x27;NYC&#x27;)&#013;(&#x27;Zhao&#x27;, &#x27;Berlin&#x27;)&#013;(&#x27;Zhao&#x27;, &#x27;Paris&#x27;)&#013;&#013;Specify outer joins with keyword arguments ``left_default`` and/or&#013;``right_default``.  Here is a full outer join in which unmatched elements&#013;are paired with None.&#013;&#013;&gt;&gt;&gt; identity = lambda x: x&#013;&gt;&gt;&gt; list(join(identity, [1, 2, 3],&#013;...           identity, [2, 3, 4],&#013;...           left_default=None, right_default=None))&#013;[(2, 2), (3, 3), (None, 4), (1, None)]&#013;&#013;Usually the key arguments are callables to be applied to the sequences.  If&#013;the keys are not obviously callable then it is assumed that indexing was&#013;intended, e.g. the following is a legal change&#013;&#013;&gt;&gt;&gt; # result = join(second, friends, first, cities)&#013;&gt;&gt;&gt; result = join(1, friends, 0, cities)  # doctest: +SKIP&#013;Class docstring:&#013;Curry a callable function&#013;&#013;Enables partial application of arguments through calling a function with an&#013;incomplete set of arguments.&#013;&#013;&gt;&gt;&gt; def mul(x, y):&#013;...     return x * y&#013;&gt;&gt;&gt; mul = curry(mul)&#013;&#013;&gt;&gt;&gt; double = mul(2)&#013;&gt;&gt;&gt; double(10)&#013;20&#013;&#013;Also supports keyword arguments&#013;&#013;&gt;&gt;&gt; @curry                  # Can use curry as a decorator&#013;... def f(x, y, a=10):&#013;...     return a * (x + y)&#013;&#013;&gt;&gt;&gt; add = f(a=1)&#013;&gt;&gt;&gt; add(2, 3)&#013;5&#013;&#013;See Also:&#013;    toolz.curried - namespace of curried functions&#013;                    https://toolz.readthedocs.io/en/latest/curry.html\">join</span>(nb.cells.pop()['source']))))\n",
       "\n",
       "        nb, resources = super().preprocess(nb, resources)\n",
       "        return <span style=\"border-bottom: 1px dotted gray;\" title=\"Signature: nbconvert.exporters.slides.prepare(nb)&#013;Docstring: Add some convenience metadata on cells for the slide template.&#013;File:      c:\\anaconda3\\lib\\site-packages\\nbconvert\\exporters\\slides.py&#013;Type:      function\">nbconvert.exporters.slides.prepare</span>(nb), resources\n",
       "</code>"
      ],
      "text/markdown": [
       "    class AutomaticallyPresent(nbconvert.preprocessors.Preprocessor):\n",
       "### An `nbconvert.preprocessors.Preprocessor`\n",
       "    \n",
       "    \n",
       "\n",
       "        def preprocess_cell(self, cell, resources, index):\n",
       "            if 'source' not in cell: return cell, resources\n",
       "            \n",
       "            if cell['cell_type'] == 'code':\n",
       "                self.is_pidgin = self.is_pidgin or (\n",
       "                    'load_ext pidgin' in ''.join(cell['source']))\n",
       "               \n",
       "            if cell['cell_type'] in (['markdown'] + (\n",
       "                self.is_pidgin and ['code'] or []\n",
       "            )):\n",
       "                if (cell['cell_type'] == 'markdown') or ('outputs' in cell) and cell['outputs']:\n",
       "                    cell = add_slide_data(cell)\n",
       "                \n",
       "            return cell, resources\n",
       "        \n",
       "        def preprocess(self, nb, resources):\n",
       "            self.last_heading = None\n",
       "            self.is_pidgin = False\n",
       "            while nb.cells and (\n",
       "                not (nb.cells[-1].source or nb.cells[-1].outputs)\n",
       "            ): nb.cells.pop()\n",
       "            if nb.cells and nb.cells[-1]['cell_type'] == 'raw':\n",
       "                nb.metadata.merge(yaml.safe_load(io.StringIO(''.join(nb.cells.pop()['source']))))\n",
       "                \n",
       "            nb, resources = super().preprocess(nb, resources)\n",
       "            return nbconvert.exporters.slides.prepare(nb), resources\n"
      ],
      "text/plain": [
       "\"    class AutomaticallyPresent(nbconvert.preprocessors.Preprocessor):\\n### An `nbconvert.preprocessors.Preprocessor`\\n    \\n    \\n\\n        def preprocess_cell(self, cell, resources, index):\\n            if 'source' not in cell: return cell, resources\\n            \\n            if cell['cell_type'] == 'code':\\n                self.is_pidgin = self.is_pidgin or (\\n                    'load_ext pidgin' in ''.join(cell['source']))\\n               \\n            if cell['cell_type'] in (['markdown'] + (\\n                self.is_pidgin and ['code'] or []\\n            )):\\n                if (cell['cell_type'] == 'markdown') or ('outputs' in cell) and cell['outputs']:\\n                    cell = add_slide_data(cell)\\n                \\n            return cell, resources\\n        \\n        def preprocess(self, nb, resources):\\n            self.last_heading = None\\n            self.is_pidgin = False\\n            while nb.cells and (\\n                not (nb.cells[-1].source or nb.cells[-1].outputs)\\n            ): nb.cells.pop()\\n            if nb.cells and nb.cells[-1]['cell_type'] == 'raw':\\n                nb.metadata.merge(yaml.safe_load(io.StringIO(''.join(nb.cells.pop()['source']))))\\n                \\n            nb, resources = super().preprocess(nb, resources)\\n            return nbconvert.exporters.slides.prepare(nb), resources\\n\""
      ]
     },
     "metadata": {},
     "output_type": "display_data"
    }
   ],
   "source": [
    "    class AutomaticallyPresent(nbconvert.preprocessors.Preprocessor):\n",
    "### An `nbconvert.preprocessors.Preprocessor`\n",
    "    \n",
    "    \n",
    "\n",
    "        def preprocess_cell(self, cell, resources, index):\n",
    "            if 'source' not in cell: return cell, resources\n",
    "            \n",
    "            if cell['cell_type'] == 'code':\n",
    "                self.is_pidgin = self.is_pidgin or (\n",
    "                    'load_ext pidgin' in ''.join(cell['source']))\n",
    "               \n",
    "            if cell['cell_type'] in (['markdown'] + (\n",
    "                self.is_pidgin and ['code'] or []\n",
    "            )):\n",
    "                if (cell['cell_type'] == 'markdown') or ('outputs' in cell) and cell['outputs']:\n",
    "                    cell = add_slide_data(cell)\n",
    "                \n",
    "            return cell, resources\n",
    "        \n",
    "        def preprocess(self, nb, resources):\n",
    "            self.last_heading = None\n",
    "            self.is_pidgin = False\n",
    "            while nb.cells and (\n",
    "                not (nb.cells[-1].source or nb.cells[-1].outputs)\n",
    "            ): nb.cells.pop()\n",
    "            if nb.cells and nb.cells[-1]['cell_type'] == 'raw':\n",
    "                nb.metadata.merge(yaml.safe_load(io.StringIO(''.join(nb.cells.pop()['source']))))\n",
    "                \n",
    "            nb, resources = super().preprocess(nb, resources)\n",
    "            return nbconvert.exporters.slides.prepare(nb), resources\n"
   ]
  },
  {
   "cell_type": "markdown",
   "metadata": {},
   "source": [
    "## Automatically adding the metadata."
   ]
  },
  {
   "cell_type": "code",
   "execution_count": 8,
   "metadata": {},
   "outputs": [],
   "source": [
    "    mod_css = lambda str: str.replace(\"\"\"                .css('height', 'calc(95vh)')\n",
    "                    .css('overflow-y', 'scroll')\n",
    "                    .css('margin-top', '20px');\"\"\",\n",
    "    \"\"\"                .css('height', 'calc(100vh)')\n",
    "                .css('overflow-y', 'scroll')\n",
    "                .css('margin-top', '0px');\"\"\")"
   ]
  },
  {
   "cell_type": "code",
   "execution_count": 9,
   "metadata": {},
   "outputs": [],
   "source": [
    "    def present(filename, **dict):\n",
    "        import vdom.svg\n",
    "        exporter = nbconvert.SlidesExporter(\n",
    "            preprocessors=[AutomaticallyPresent()],\n",
    "            reveal_scroll=True, exclude_output_prompt=True, exclude_raw=True,\n",
    "            exclude_input=True, **dict\n",
    "        )\n",
    "        template = exporter.environment.loader.loaders[0].get_source(exporter.environment, 'slides_reveal')[0]\n",
    "        lead, sep, template = template.partition('<section')\n",
    "        sep += \"\"\" {% for key, value in nb.metadata.get('dataset', {}).items()%}data-{{key}}=\"{{value}}\" {% endfor %}\"\"\"\n",
    "        template = template.replace(\"\"\"<section\"\"\", \"\"\"<section\"\"\" + \"\"\" {% for key, value in cell.metadata.get('dataset', {}).items()%}data-{{key}}=\"{{value}}\" {% endfor %}\"\"\")\n",
    "        template = lead + sep + template\n",
    "        template = template.replace('controls: true,', '''width: \"100%\", height: \"100%\", margin: 0, controls: true, slideNumber: true, center: false, loop: true, backgroundTransition: 'slide', width: '100%', ''')\n",
    "        template = mod_css(template)\n",
    "        template = template.replace('</body>', '</body><style>li code, p code {display: contents;}</style>')\n",
    "        template = template.replace(\n",
    "            \"\"\"Reveal.addEventListener('slidechanged', setScrollingSlide);\"\"\",\n",
    "            \"\"\"Reveal.addEventListener('slidechanged', setScrollingSlide);\n",
    "            $('.slide-number').click(function(){Reveal.toggleOverview();});\n",
    "\n",
    "            \"\"\")\n",
    "        exporter._template_cached = exporter.environment.from_string(template)\n",
    "        return vdom.svg.iframe(\n",
    "            srcdoc=exporter.from_filename(filename)[0],\n",
    "            width=\"100%\", height=\"500px\",\n",
    "            **{\"class\": \"pdg-Frame\"}\n",
    "        )._repr_html_()"
   ]
  },
  {
   "cell_type": "raw",
   "metadata": {},
   "source": [
    "dataset:\n",
    "    background-color: green"
   ]
  }
 ],
 "metadata": {
  "kernelspec": {
   "display_name": "Python 3",
   "language": "python",
   "name": "python3"
  },
  "language_info": {
   "codemirror_mode": {
    "name": "ipython",
    "version": 3
   },
   "file_extension": ".py",
   "mimetype": "text/x-python",
   "name": "python",
   "nbconvert_exporter": "python",
   "pygments_lexer": "ipython3",
   "version": "3.6.6"
  }
 },
 "nbformat": 4,
 "nbformat_minor": 2
}
