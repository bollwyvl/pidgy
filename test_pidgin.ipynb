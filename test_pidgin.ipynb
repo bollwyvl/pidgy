{
 "cells": [
  {
   "cell_type": "code",
   "execution_count": 1,
   "metadata": {},
   "outputs": [
    {
     "data": {
      "text/html": [
       "<pre class=\"ipython\"><code>%matplotlib agg\n",
       "with __import__(&#39;pidgin&#39;).load():None\n",
       "shell = __import__(&#39;IPython&#39;).get_ipython()</code></pre>\n"
      ],
      "text/plain": [
       "    %matplotlib agg\n",
       "    with __import__('pidgin').load():None\n",
       "    shell = __import__('IPython').get_ipython()"
      ]
     },
     "metadata": {},
     "output_type": "display_data"
    }
   ],
   "source": [
    "    %matplotlib agg\n",
    "    with __import__('pidgin').load():None\n",
    "    shell = __import__('IPython').get_ipython()"
   ]
  },
  {
   "cell_type": "code",
   "execution_count": 2,
   "metadata": {},
   "outputs": [
    {
     "data": {
      "text/html": [
       "<p>print</p>\n"
      ],
      "text/plain": [
       "print"
      ]
     },
     "metadata": {},
     "output_type": "display_data"
    }
   ],
   "source": [
    "print"
   ]
  },
  {
   "cell_type": "code",
   "execution_count": 3,
   "metadata": {},
   "outputs": [
    {
     "data": {
      "text/plain": [
       "<function print>"
      ]
     },
     "execution_count": 3,
     "metadata": {},
     "output_type": "execute_result"
    },
    {
     "data": {
      "text/html": [
       "<pre class=\"ipython\"><code>print</code></pre>\n"
      ],
      "text/plain": [
       "    print"
      ]
     },
     "metadata": {},
     "output_type": "display_data"
    }
   ],
   "source": [
    "    print"
   ]
  },
  {
   "cell_type": "code",
   "execution_count": 4,
   "metadata": {},
   "outputs": [
    {
     "data": {
      "text/plain": [
       "<function print>"
      ]
     },
     "execution_count": 4,
     "metadata": {},
     "output_type": "execute_result"
    }
   ],
   "source": [
    "    \n",
    "    print"
   ]
  },
  {
   "cell_type": "code",
   "execution_count": 5,
   "metadata": {},
   "outputs": [
    {
     "data": {
      "text/plain": [
       "<function print>"
      ]
     },
     "execution_count": 5,
     "metadata": {},
     "output_type": "execute_result"
    },
    {
     "data": {
      "text/html": [
       "<p>print</p>\n",
       "<pre class=\"ipython\"><code>    print</code></pre>\n"
      ],
      "text/plain": [
       "print\n",
       "\n",
       "        print"
      ]
     },
     "metadata": {},
     "output_type": "display_data"
    }
   ],
   "source": [
    "print\n",
    "\n",
    "        print"
   ]
  },
  {
   "cell_type": "code",
   "execution_count": 6,
   "metadata": {},
   "outputs": [
    {
     "name": "stdout",
     "output_type": "stream",
     "text": [
      "10\n"
     ]
    },
    {
     "data": {
      "text/html": [
       "<pre class=\"sourceCode ipython\"><code>print(10)\n",
       "shell.pidgin.input = &#39;rst&#39;</code></pre>\n"
      ],
      "text/plain": [
       ".. code-block:: ipython\n",
       "\n",
       "        print(10)\n",
       "        shell.pidgin.input = 'rst'"
      ]
     },
     "metadata": {},
     "output_type": "display_data"
    }
   ],
   "source": [
    ".. code-block:: ipython\n",
    "\n",
    "        print(10)\n",
    "        shell.pidgin.input = 'rst'"
   ]
  },
  {
   "cell_type": "code",
   "execution_count": 7,
   "metadata": {},
   "outputs": [
    {
     "data": {
      "text/html": [
       "<blockquote>\n",
       "<p>shell.pidgin.tangle.input</p>\n",
       "</blockquote>\n"
      ],
      "text/plain": [
       "    shell.pidgin.tangle.input"
      ]
     },
     "metadata": {},
     "output_type": "display_data"
    }
   ],
   "source": [
    "    shell.pidgin.tangle.input"
   ]
  },
  {
   "cell_type": "code",
   "execution_count": 8,
   "metadata": {},
   "outputs": [
    {
     "data": {
      "text/html": [
       "\n"
      ],
      "text/plain": [
       "..\n",
       "    \n",
       "    do nothing"
      ]
     },
     "metadata": {},
     "output_type": "display_data"
    }
   ],
   "source": [
    "..\n",
    "    \n",
    "    do nothing"
   ]
  },
  {
   "cell_type": "code",
   "execution_count": 9,
   "metadata": {},
   "outputs": [
    {
     "data": {
      "text/html": [
       "\n"
      ],
      "text/plain": [
       ".. code\n",
       "    \n",
       "    'do something'"
      ]
     },
     "metadata": {},
     "output_type": "display_data"
    }
   ],
   "source": [
    ".. code\n",
    "    \n",
    "    'do something'"
   ]
  },
  {
   "cell_type": "code",
   "execution_count": 10,
   "metadata": {},
   "outputs": [
    {
     "data": {
      "text/plain": [
       "'do something'"
      ]
     },
     "execution_count": 10,
     "metadata": {},
     "output_type": "execute_result"
    },
    {
     "data": {
      "text/html": [
       "<pre class=\"sourceCode \"><code>&#39;do something&#39;</code></pre>\n"
      ],
      "text/plain": [
       ".. code-block::\n",
       "    \n",
       "    'do something'"
      ]
     },
     "metadata": {},
     "output_type": "display_data"
    }
   ],
   "source": [
    ".. code-block::\n",
    "    \n",
    "    'do something'"
   ]
  },
  {
   "cell_type": "code",
   "execution_count": 11,
   "metadata": {},
   "outputs": [
    {
     "data": {
      "text/html": [
       "<div class=\"sourceCode\"><pre class=\"sourceCode ruby\"><code class=\"sourceCode ruby\"><span class=\"dt\">Some</span> <span class=\"dt\">Ruby</span> code.</code></pre></div>\n"
      ],
      "text/plain": [
       ".. code-block:: ruby\n",
       "\n",
       "   Some Ruby code.\n"
      ]
     },
     "metadata": {},
     "output_type": "display_data"
    }
   ],
   "source": [
    ".. code-block:: ruby\n",
    "\n",
    "   Some Ruby code.\n"
   ]
  },
  {
   "cell_type": "code",
   "execution_count": 12,
   "metadata": {},
   "outputs": [
    {
     "name": "stdout",
     "output_type": "stream",
     "text": [
      "11\n"
     ]
    },
    {
     "data": {
      "text/html": [
       "<pre class=\"sourceCode ipython\"><code>print(11)\n",
       "shell.pidgin.input = &#39;rst&#39;</code></pre>\n"
      ],
      "text/plain": [
       ".. code:: ipython\n",
       "    \n",
       "    print(11)\n",
       "    shell.pidgin.input = 'rst'"
      ]
     },
     "metadata": {},
     "output_type": "display_data"
    }
   ],
   "source": [
    ".. code:: ipython\n",
    "    \n",
    "    print(11)\n",
    "    shell.pidgin.input = 'rst'"
   ]
  },
  {
   "cell_type": "code",
   "execution_count": 13,
   "metadata": {},
   "outputs": [
    {
     "data": {
      "text/html": [
       "<p>.. code:: ipython</p>\n",
       "<pre class=\"ipython\"><code>shell.pidgin.input = &#39;markdown&#39;</code></pre>\n"
      ],
      "text/plain": [
       ".. code:: ipython\n",
       "    \n",
       "    shell.pidgin.input = 'markdown'"
      ]
     },
     "metadata": {},
     "output_type": "display_data"
    }
   ],
   "source": [
    ".. code:: ipython\n",
    "    \n",
    "    shell.pidgin.input = 'markdown'"
   ]
  },
  {
   "cell_type": "code",
   "execution_count": 14,
   "metadata": {},
   "outputs": [
    {
     "data": {
      "text/plain": [
       "'markdown'"
      ]
     },
     "execution_count": 14,
     "metadata": {},
     "output_type": "execute_result"
    },
    {
     "data": {
      "text/html": [
       "<pre class=\"ipython\"><code>shell.pidgin.weave.input</code></pre>\n"
      ],
      "text/plain": [
       "    shell.pidgin.weave.input"
      ]
     },
     "metadata": {},
     "output_type": "display_data"
    }
   ],
   "source": [
    "    shell.pidgin.weave.input"
   ]
  },
  {
   "cell_type": "code",
   "execution_count": 15,
   "metadata": {},
   "outputs": [
    {
     "data": {
      "text/plain": [
       "'markdown'"
      ]
     },
     "execution_count": 15,
     "metadata": {},
     "output_type": "execute_result"
    },
    {
     "data": {
      "text/html": [
       "<pre class=\"ipython\"><code>    shell.pidgin.tangle.input</code></pre>\n"
      ],
      "text/plain": [
       "        shell.pidgin.tangle.input"
      ]
     },
     "metadata": {},
     "output_type": "display_data"
    }
   ],
   "source": [
    "        shell.pidgin.tangle.input"
   ]
  },
  {
   "cell_type": "code",
   "execution_count": 16,
   "metadata": {},
   "outputs": [
    {
     "name": "stdout",
     "output_type": "stream",
     "text": [
      "False\n"
     ]
    }
   ],
   "source": [
    "    shell.pidgin.weave.enabled = False\n",
    "    print(shell.pidgin.weave.enabled)"
   ]
  },
  {
   "cell_type": "code",
   "execution_count": 17,
   "metadata": {},
   "outputs": [
    {
     "name": "stdout",
     "output_type": "stream",
     "text": [
      "True\n"
     ]
    },
    {
     "data": {
      "text/html": [
       "<pre class=\"ipython\"><code>shell.pidgin.weave.enabled = True\n",
       "print(shell.pidgin.weave.enabled)</code></pre>\n"
      ],
      "text/plain": [
       "    shell.pidgin.weave.enabled = True\n",
       "    print(shell.pidgin.weave.enabled)"
      ]
     },
     "metadata": {},
     "output_type": "display_data"
    }
   ],
   "source": [
    "    shell.pidgin.weave.enabled = True\n",
    "    print(shell.pidgin.weave.enabled)"
   ]
  },
  {
   "cell_type": "code",
   "execution_count": 18,
   "metadata": {},
   "outputs": [
    {
     "name": "stdout",
     "output_type": "stream",
     "text": [
      "**********************************************************************\n",
      "Line 3, in __main__\n",
      "Failed example:\n",
      "    assert False\n",
      "Exception raised:\n",
      "    Traceback (most recent call last):\n",
      "      File \"/Users/tonyfast/anaconda/envs/p6/lib/python3.6/doctest.py\", line 1330, in __run\n",
      "        compileflags, 1), test.globs)\n",
      "      File \"<doctest __main__[0]>\", line 1, in <module>\n",
      "        assert False\n",
      "    AssertionError\n"
     ]
    },
    {
     "data": {
      "text/html": [
       "<pre class=\"ipython\"><code>shell.pidgin.doctest.enabled=True</code></pre>\n",
       "<pre><code>&gt;&gt;&gt; assert False\n",
       "&gt;&gt;&gt; assert True\n",
       "</code></pre>\n"
      ],
      "text/plain": [
       "    shell.pidgin.doctest.enabled=True\n",
       "```\n",
       ">>> assert False\n",
       ">>> assert True\n",
       "\n",
       "```"
      ]
     },
     "metadata": {},
     "output_type": "display_data"
    }
   ],
   "source": [
    "    shell.pidgin.doctest.enabled=True\n",
    "```\n",
    ">>> assert False\n",
    ">>> assert True\n",
    "\n",
    "```"
   ]
  },
  {
   "cell_type": "code",
   "execution_count": 19,
   "metadata": {},
   "outputs": [
    {
     "data": {
      "text/html": [
       "<pre class=\"ipython\"><code>shell.pidgin.doctest.enabled=False</code></pre>\n",
       "<pre><code>&gt;&gt;&gt; assert False\n",
       "</code></pre>\n"
      ],
      "text/plain": [
       "    shell.pidgin.doctest.enabled=False\n",
       "```\n",
       ">>> assert False\n",
       "\n",
       "```"
      ]
     },
     "metadata": {},
     "output_type": "display_data"
    }
   ],
   "source": [
    "    shell.pidgin.doctest.enabled=False\n",
    "```\n",
    ">>> assert False\n",
    "\n",
    "```"
   ]
  },
  {
   "cell_type": "code",
   "execution_count": 20,
   "metadata": {},
   "outputs": [
    {
     "name": "stdout",
     "output_type": "stream",
     "text": [
      "**********************************************************************\n",
      "Line 3, in __main__\n",
      "Failed example:\n",
      "    assert False\n",
      "Exception raised:\n",
      "    Traceback (most recent call last):\n",
      "      File \"/Users/tonyfast/anaconda/envs/p6/lib/python3.6/doctest.py\", line 1330, in __run\n",
      "        compileflags, 1), test.globs)\n",
      "      File \"<doctest __main__[0]>\", line 1, in <module>\n",
      "        assert False\n",
      "    AssertionError\n"
     ]
    },
    {
     "data": {
      "text/html": [
       "<pre class=\"ipython\"><code>shell.pidgin.doctest.enabled=True</code></pre>\n",
       "<pre><code>&gt;&gt;&gt; assert False\n",
       "&gt;&gt;&gt; assert True\n",
       "</code></pre>\n"
      ],
      "text/plain": [
       "    shell.pidgin.doctest.enabled=True\n",
       "```\n",
       ">>> assert False\n",
       ">>> assert True\n",
       "\n",
       "```"
      ]
     },
     "metadata": {},
     "output_type": "display_data"
    }
   ],
   "source": [
    "    shell.pidgin.doctest.enabled=True\n",
    "```\n",
    ">>> assert False\n",
    ">>> assert True\n",
    "\n",
    "```"
   ]
  },
  {
   "cell_type": "code",
   "execution_count": null,
   "metadata": {},
   "outputs": [],
   "source": []
  },
  {
   "cell_type": "code",
   "execution_count": 21,
   "metadata": {},
   "outputs": [
    {
     "name": "stdout",
     "output_type": "stream",
     "text": [
      "**********************************************************************\n",
      "Line 1, in __main__\n",
      "Failed example:\n",
      "    rang\n",
      "Exception raised:\n",
      "    Traceback (most recent call last):\n",
      "      File \"/Users/tonyfast/anaconda/envs/p6/lib/python3.6/doctest.py\", line 1330, in __run\n",
      "        compileflags, 1), test.globs)\n",
      "      File \"<doctest __main__[1]>\", line 1, in <module>\n",
      "        rang\n",
      "    NameError: name 'rang' is not defined\n"
     ]
    },
    {
     "data": {
      "text/html": [
       "<p>There is a <code>range</code> involved. It <code>rang</code>. <code>None</code></p>\n"
      ],
      "text/plain": [
       "There is a `range` involved.  It `rang`. `None`"
      ]
     },
     "metadata": {},
     "output_type": "display_data"
    }
   ],
   "source": [
    "There is a `range` involved.  It `rang`. `None`"
   ]
  },
  {
   "cell_type": "code",
   "execution_count": 22,
   "metadata": {},
   "outputs": [
    {
     "data": {
      "text/html": [
       "<pre class=\"ipython\"><code>&gt;&gt;&gt; shell.pidgin\n",
       "&lt;traitlets.traitlets.PidginShell object at ...&gt;\n",
       "&gt;&gt;&gt; shell.pidgin.tangle\n",
       "&lt;pidgin.Tangle object at ...&gt;\n",
       "&gt;&gt;&gt; shell.pidgin.weave\n",
       "&lt;pidgin.Weave object at ...&gt;\n",
       "&gt;&gt;&gt; shell.pidgin.doctest\n",
       "&lt;pidgin.Doctest object at ...&gt;</code></pre>\n"
      ],
      "text/plain": [
       "    >>> shell.pidgin\n",
       "    <traitlets.traitlets.PidginShell object at ...>\n",
       "    >>> shell.pidgin.tangle\n",
       "    <pidgin.Tangle object at ...>\n",
       "    >>> shell.pidgin.weave\n",
       "    <pidgin.Weave object at ...>\n",
       "    >>> shell.pidgin.doctest\n",
       "    <pidgin.Doctest object at ...>\n"
      ]
     },
     "metadata": {},
     "output_type": "display_data"
    }
   ],
   "source": [
    "    >>> shell.pidgin\n",
    "    <traitlets.traitlets.PidginShell object at ...>\n",
    "    >>> shell.pidgin.tangle\n",
    "    <pidgin.Tangle object at ...>\n",
    "    >>> shell.pidgin.weave\n",
    "    <pidgin.Weave object at ...>\n",
    "    >>> shell.pidgin.doctest\n",
    "    <pidgin.Doctest object at ...>\n"
   ]
  },
  {
   "cell_type": "code",
   "execution_count": 23,
   "metadata": {},
   "outputs": [
    {
     "data": {
      "text/html": [
       "<pre class=\"ipython\"><code>foo: &#39;xxx&#39;</code></pre>\n"
      ],
      "text/plain": [
       "    foo: 'xxx'"
      ]
     },
     "metadata": {},
     "output_type": "display_data"
    }
   ],
   "source": [
    "    foo: 'xxx'"
   ]
  },
  {
   "cell_type": "code",
   "execution_count": 24,
   "metadata": {},
   "outputs": [
    {
     "data": {
      "text/html": [
       "<pre class=\"ipython\"><code>&gt;&gt;&gt; __annotations__ \n",
       "{&#39;foo&#39;: &#39;xxx&#39;}\n",
       "&gt;&gt;&gt; assert &#39;foo&#39; not in globals()</code></pre>\n"
      ],
      "text/plain": [
       "    >>> __annotations__ \n",
       "    {'foo': 'xxx'}\n",
       "    >>> assert 'foo' not in globals()"
      ]
     },
     "metadata": {},
     "output_type": "display_data"
    }
   ],
   "source": [
    "    >>> __annotations__ \n",
    "    {'foo': 'xxx'}\n",
    "    >>> assert 'foo' not in globals()"
   ]
  },
  {
   "cell_type": "code",
   "execution_count": 25,
   "metadata": {},
   "outputs": [
    {
     "data": {
      "text/html": [
       "<pre class=\"ipython\"><code>bar: &#39;yyy&#39; = &#39;wxyz&#39;</code></pre>\n"
      ],
      "text/plain": [
       "    bar: 'yyy' = 'wxyz'"
      ]
     },
     "metadata": {},
     "output_type": "display_data"
    }
   ],
   "source": [
    "    bar: 'yyy' = 'wxyz'"
   ]
  },
  {
   "cell_type": "code",
   "execution_count": 26,
   "metadata": {},
   "outputs": [
    {
     "data": {
      "text/html": [
       "<pre class=\"ipython\"><code>&gt;&gt;&gt; bar\n",
       "&#39;wxyz&#39;\n",
       "&gt;&gt;&gt; __annotations__\n",
       "{&#39;foo&#39;: &#39;xxx&#39;, &#39;bar&#39;: &#39;yyy&#39;}</code></pre>\n"
      ],
      "text/plain": [
       "    >>> bar\n",
       "    'wxyz'\n",
       "    >>> __annotations__\n",
       "    {'foo': 'xxx', 'bar': 'yyy'}\n"
      ]
     },
     "metadata": {},
     "output_type": "display_data"
    }
   ],
   "source": [
    "    >>> bar\n",
    "    'wxyz'\n",
    "    >>> __annotations__\n",
    "    {'foo': 'xxx', 'bar': 'yyy'}\n"
   ]
  },
  {
   "cell_type": "code",
   "execution_count": 27,
   "metadata": {},
   "outputs": [
    {
     "data": {
      "text/html": [
       "<h1 id=\"xxx-wxyz\">xxx WXYZ</h1>\n"
      ],
      "text/plain": [
       "# {{foo|lower}} {{bar|upper}}"
      ]
     },
     "metadata": {},
     "output_type": "display_data"
    }
   ],
   "source": [
    "# {{foo|lower}} {{bar|upper}}"
   ]
  },
  {
   "cell_type": "code",
   "execution_count": 28,
   "metadata": {},
   "outputs": [],
   "source": [
    "\n",
    "# {{foo|lower}} {{bar|upper}}"
   ]
  },
  {
   "cell_type": "code",
   "execution_count": 29,
   "metadata": {},
   "outputs": [
    {
     "data": {
      "text/html": [
       "<pre class=\"ipython\"><code>graph = lambda object: __import__(&#39;graphviz&#39;).Source(&quot;graph { %s}&quot;%object)</code></pre>\n"
      ],
      "text/plain": [
       "    graph = lambda object: __import__('graphviz').Source(\"graph { %s}\"%object)"
      ]
     },
     "metadata": {},
     "output_type": "display_data"
    }
   ],
   "source": [
    "    graph = lambda object: __import__('graphviz').Source(\"graph { %s}\"%object)"
   ]
  },
  {
   "cell_type": "code",
   "execution_count": 30,
   "metadata": {},
   "outputs": [
    {
     "data": {
      "image/svg+xml": [
       "<?xml version=\"1.0\" encoding=\"UTF-8\" standalone=\"no\"?>\n",
       "<!DOCTYPE svg PUBLIC \"-//W3C//DTD SVG 1.1//EN\"\n",
       " \"http://www.w3.org/Graphics/SVG/1.1/DTD/svg11.dtd\">\n",
       "<!-- Generated by graphviz version 2.38.0 (20140413.2041)\n",
       " -->\n",
       "<!-- Title: %3 Pages: 1 -->\n",
       "<svg width=\"134pt\" height=\"44pt\"\n",
       " viewBox=\"0.00 0.00 134.00 44.00\" xmlns=\"http://www.w3.org/2000/svg\" xmlns:xlink=\"http://www.w3.org/1999/xlink\">\n",
       "<g id=\"graph0\" class=\"graph\" transform=\"scale(1 1) rotate(0) translate(4 40)\">\n",
       "<title>%3</title>\n",
       "<polygon fill=\"white\" stroke=\"none\" points=\"-4,4 -4,-40 130,-40 130,4 -4,4\"/>\n",
       "<!-- A -->\n",
       "<g id=\"node1\" class=\"node\"><title>A</title>\n",
       "<ellipse fill=\"none\" stroke=\"black\" cx=\"27\" cy=\"-18\" rx=\"27\" ry=\"18\"/>\n",
       "<text text-anchor=\"middle\" x=\"27\" y=\"-13.8\" font-family=\"Times,serif\" font-size=\"14.00\">A</text>\n",
       "</g>\n",
       "<!-- B -->\n",
       "<g id=\"node2\" class=\"node\"><title>B</title>\n",
       "<ellipse fill=\"none\" stroke=\"black\" cx=\"99\" cy=\"-18\" rx=\"27\" ry=\"18\"/>\n",
       "<text text-anchor=\"middle\" x=\"99\" y=\"-13.8\" font-family=\"Times,serif\" font-size=\"14.00\">B</text>\n",
       "</g>\n",
       "</g>\n",
       "</svg>\n"
      ],
      "text/plain": [
       "<graphviz.files.Source at 0x1056db4a8>"
      ]
     },
     "execution_count": 30,
     "metadata": {},
     "output_type": "execute_result"
    },
    {
     "data": {
      "text/html": [
       "<?xml version=\"1.0\" encoding=\"UTF-8\" standalone=\"no\"?>\n",
       "<!DOCTYPE svg PUBLIC \"-//W3C//DTD SVG 1.1//EN\"\n",
       " \"http://www.w3.org/Graphics/SVG/1.1/DTD/svg11.dtd\">\n",
       "<!-- Generated by graphviz version 2.38.0 (20140413.2041)\n",
       " -->\n",
       "<!-- Title: %3 Pages: 1 -->\n",
       "<svg width=\"134pt\" height=\"44pt\" viewBox=\"0.00 0.00 134.00 44.00\" xmlns=\"http://www.w3.org/2000/svg\" xmlns:xlink=\"http://www.w3.org/1999/xlink\">\n",
       "<g id=\"graph0\" class=\"graph\" transform=\"scale(1 1) rotate(0) translate(4 40)\">\n",
       "<title>\n",
       "%3\n",
       "</title>\n",
       "<polygon fill=\"white\" stroke=\"none\" points=\"-4,4 -4,-40 130,-40 130,4 -4,4\"/> <!-- C --> <g id=\"node1\" class=\"node\">\n",
       "<title>\n",
       "C\n",
       "</title>\n",
       "<ellipse fill=\"none\" stroke=\"black\" cx=\"27\" cy=\"-18\" rx=\"27\" ry=\"18\"/> <text text-anchor=\"middle\" x=\"27\" y=\"-13.8\" font-family=\"Times,serif\" font-size=\"14.00\">C</text> </g> <!-- D --> <g id=\"node2\" class=\"node\">\n",
       "<title>\n",
       "D\n",
       "</title>\n",
       "<ellipse fill=\"none\" stroke=\"black\" cx=\"99\" cy=\"-18\" rx=\"27\" ry=\"18\"/> <text text-anchor=\"middle\" x=\"99\" y=\"-13.8\" font-family=\"Times,serif\" font-size=\"14.00\">D</text> </g> </g>\n",
       "</svg>\n",
       "<pre class=\"ipython\"><code>;graph {A B}</code></pre>\n"
      ],
      "text/plain": [
       "{{ \"{C D}\" | graph }}\n",
       "    \n",
       "    ;graph {A B}"
      ]
     },
     "metadata": {},
     "output_type": "display_data"
    }
   ],
   "source": [
    "{{ \"{C D}\" | graph }}\n",
    "    \n",
    "    ;graph {A B}"
   ]
  },
  {
   "cell_type": "code",
   "execution_count": 31,
   "metadata": {},
   "outputs": [
    {
     "data": {
      "text/html": [
       "<pre class=\"ipython\"><code>import sympy.abc\n",
       "sympy.init_printing()</code></pre>\n"
      ],
      "text/plain": [
       "    import sympy.abc\n",
       "    sympy.init_printing()"
      ]
     },
     "metadata": {},
     "output_type": "display_data"
    }
   ],
   "source": [
    "    import sympy.abc\n",
    "    sympy.init_printing()"
   ]
  },
  {
   "cell_type": "code",
   "execution_count": 32,
   "metadata": {},
   "outputs": [
    {
     "data": {
      "text/html": [
       "<pre class=\"ipython\"><code>&gt;&gt;&gt; shell.display_formatter.active_types\n",
       "[&#39;text/plain&#39;, &#39;text/html&#39;, &#39;text/markdown&#39;, &#39;image/svg+xml&#39;, &#39;image/png&#39;, &#39;application/pdf&#39;, &#39;image/jpeg&#39;, &#39;text/latex&#39;, &#39;application/json&#39;, &#39;application/javascript&#39;]</code></pre>\n"
      ],
      "text/plain": [
       "    >>> shell.display_formatter.active_types\n",
       "    ['text/plain', 'text/html', 'text/markdown', 'image/svg+xml', 'image/png', 'application/pdf', 'image/jpeg', 'text/latex', 'application/json', 'application/javascript']"
      ]
     },
     "metadata": {},
     "output_type": "display_data"
    }
   ],
   "source": [
    "    >>> shell.display_formatter.active_types\n",
    "    ['text/plain', 'text/html', 'text/markdown', 'image/svg+xml', 'image/png', 'application/pdf', 'image/jpeg', 'text/latex', 'application/json', 'application/javascript']"
   ]
  },
  {
   "cell_type": "code",
   "execution_count": 33,
   "metadata": {},
   "outputs": [
    {
     "data": {
      "image/png": "[encoded data removed]",
      "text/latex": [
       "$$\\int x\\, dx$$"
      ],
      "text/plain": [
       "⌠     \n",
       "⎮ x dx\n",
       "⌡     "
      ]
     },
     "execution_count": 33,
     "metadata": {},
     "output_type": "execute_result"
    },
    {
     "data": {
      "text/html": [
       "<p><span class=\"math inline\">∫<sub>−10</sub><sup>10</sup><em>x</em><sup>2</sup> <em>d</em><em>x</em></span></p>\n",
       "<p><img src=\"data:image/png;base64,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\"/></p>\n",
       "<pre class=\"ipython\"><code>e=2\n",
       "sympy.Integral(sympy.abc.x)</code></pre>\n"
      ],
      "text/plain": [
       "{{sympy.Integral(sympy.abc.x**e, (sympy.abc.x, -10, 10))}}\n",
       "\n",
       "{{sympy.plot(sympy.abc.x**e, (sympy.abc.x, -10, 10))}}\n",
       "\n",
       "    e=2\n",
       "    sympy.Integral(sympy.abc.x)"
      ]
     },
     "metadata": {},
     "output_type": "display_data"
    }
   ],
   "source": [
    "{{sympy.Integral(sympy.abc.x**e, (sympy.abc.x, -10, 10))}}\n",
    "\n",
    "{{sympy.plot(sympy.abc.x**e, (sympy.abc.x, -10, 10))}}\n",
    "\n",
    "    e=2\n",
    "    sympy.Integral(sympy.abc.x)"
   ]
  },
  {
   "cell_type": "code",
   "execution_count": 34,
   "metadata": {},
   "outputs": [
    {
     "data": {
      "text/html": [
       "<p><span class=\"math inline\">4.5</span> and <span class=\"math inline\">3.0276503540974917</span></p>\n",
       "<div>\n",
       "<style scoped>\n",
       "    .dataframe tbody tr th:only-of-type {\n",
       "        vertical-align: middle;\n",
       "    }\n",
       "\n",
       "    .dataframe tbody tr th {\n",
       "        vertical-align: top;\n",
       "    }\n",
       "\n",
       "    .dataframe thead th {\n",
       "        text-align: right;\n",
       "    }\n",
       "</style>\n",
       "<table border=\"1\" class=\"dataframe\">\n",
       "<thead>\n",
       "<tr style=\"text-align: right;\">\n",
       "<th>\n",
       "</th>\n",
       "<th>\n",
       "0\n",
       "</th>\n",
       "<th>\n",
       "1\n",
       "</th>\n",
       "<th>\n",
       "2\n",
       "</th>\n",
       "<th>\n",
       "3\n",
       "</th>\n",
       "<th>\n",
       "4\n",
       "</th>\n",
       "<th>\n",
       "5\n",
       "</th>\n",
       "<th>\n",
       "6\n",
       "</th>\n",
       "<th>\n",
       "7\n",
       "</th>\n",
       "<th>\n",
       "8\n",
       "</th>\n",
       "<th>\n",
       "9\n",
       "</th>\n",
       "</tr>\n",
       "</thead>\n",
       "<tbody>\n",
       "<tr>\n",
       "<th>\n",
       "A\n",
       "</th>\n",
       "<td>\n",
       "0\n",
       "</td>\n",
       "<td>\n",
       "1\n",
       "</td>\n",
       "<td>\n",
       "2\n",
       "</td>\n",
       "<td>\n",
       "3\n",
       "</td>\n",
       "<td>\n",
       "4\n",
       "</td>\n",
       "<td>\n",
       "5\n",
       "</td>\n",
       "<td>\n",
       "6\n",
       "</td>\n",
       "<td>\n",
       "7\n",
       "</td>\n",
       "<td>\n",
       "8\n",
       "</td>\n",
       "<td>\n",
       "9\n",
       "</td>\n",
       "</tr>\n",
       "<tr>\n",
       "<th>\n",
       "B\n",
       "</th>\n",
       "<td>\n",
       "9\n",
       "</td>\n",
       "<td>\n",
       "8\n",
       "</td>\n",
       "<td>\n",
       "7\n",
       "</td>\n",
       "<td>\n",
       "6\n",
       "</td>\n",
       "<td>\n",
       "5\n",
       "</td>\n",
       "<td>\n",
       "4\n",
       "</td>\n",
       "<td>\n",
       "3\n",
       "</td>\n",
       "<td>\n",
       "2\n",
       "</td>\n",
       "<td>\n",
       "1\n",
       "</td>\n",
       "<td>\n",
       "0\n",
       "</td>\n",
       "</tr>\n",
       "</tbody>\n",
       "</table>\n",
       "</div>\n",
       "<div>\n",
       "<style scoped>\n",
       "    .dataframe tbody tr th:only-of-type {\n",
       "        vertical-align: middle;\n",
       "    }\n",
       "\n",
       "    .dataframe tbody tr th {\n",
       "        vertical-align: top;\n",
       "    }\n",
       "\n",
       "    .dataframe thead th {\n",
       "        text-align: right;\n",
       "    }\n",
       "</style>\n",
       "<table border=\"1\" class=\"dataframe\">\n",
       "<thead>\n",
       "<tr style=\"text-align: right;\">\n",
       "<th>\n",
       "</th>\n",
       "<th>\n",
       "count\n",
       "</th>\n",
       "<th>\n",
       "mean\n",
       "</th>\n",
       "<th>\n",
       "std\n",
       "</th>\n",
       "<th>\n",
       "min\n",
       "</th>\n",
       "<th>\n",
       "25%\n",
       "</th>\n",
       "<th>\n",
       "50%\n",
       "</th>\n",
       "<th>\n",
       "75%\n",
       "</th>\n",
       "<th>\n",
       "max\n",
       "</th>\n",
       "</tr>\n",
       "</thead>\n",
       "<tbody>\n",
       "<tr>\n",
       "<th>\n",
       "A\n",
       "</th>\n",
       "<td>\n",
       "10.0\n",
       "</td>\n",
       "<td>\n",
       "4.5\n",
       "</td>\n",
       "<td>\n",
       "3.02765\n",
       "</td>\n",
       "<td>\n",
       "0.0\n",
       "</td>\n",
       "<td>\n",
       "2.25\n",
       "</td>\n",
       "<td>\n",
       "4.5\n",
       "</td>\n",
       "<td>\n",
       "6.75\n",
       "</td>\n",
       "<td>\n",
       "9.0\n",
       "</td>\n",
       "</tr>\n",
       "<tr>\n",
       "<th>\n",
       "B\n",
       "</th>\n",
       "<td>\n",
       "10.0\n",
       "</td>\n",
       "<td>\n",
       "4.5\n",
       "</td>\n",
       "<td>\n",
       "3.02765\n",
       "</td>\n",
       "<td>\n",
       "0.0\n",
       "</td>\n",
       "<td>\n",
       "2.25\n",
       "</td>\n",
       "<td>\n",
       "4.5\n",
       "</td>\n",
       "<td>\n",
       "6.75\n",
       "</td>\n",
       "<td>\n",
       "9.0\n",
       "</td>\n",
       "</tr>\n",
       "</tbody>\n",
       "</table>\n",
       "</div>\n",
       "<p><img src=\"data:image/png;base64,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\"/></p>\n",
       "<pre class=\"ipython\"><code>import pandas\n",
       "df = pandas.DataFrame(list(zip(range(10), reversed(range(10)))), columns=list(&#39;AB&#39;))\n",
       "globals().update(df)</code></pre>\n"
      ],
      "text/plain": [
       "{{A.mean()}} and {{A.std()}}\n",
       "\n",
       "{{df.T}}\n",
       "\n",
       "{{df.describe().T}}\n",
       "\n",
       "{{df.plot(figsize=(3,1))}}\n",
       "    \n",
       "    import pandas\n",
       "    df = pandas.DataFrame(list(zip(range(10), reversed(range(10)))), columns=list('AB'))\n",
       "    globals().update(df)"
      ]
     },
     "metadata": {},
     "output_type": "display_data"
    }
   ],
   "source": [
    "{{A.mean()}} and {{A.std()}}\n",
    "\n",
    "{{df.T}}\n",
    "\n",
    "{{df.describe().T}}\n",
    "\n",
    "{{df.plot(figsize=(3,1))}}\n",
    "    \n",
    "    import pandas\n",
    "    df = pandas.DataFrame(list(zip(range(10), reversed(range(10)))), columns=list('AB'))\n",
    "    globals().update(df)"
   ]
  },
  {
   "cell_type": "code",
   "execution_count": 35,
   "metadata": {},
   "outputs": [
    {
     "data": {
      "text/html": [
       "<pre class=\"ipython\"><code>df = pandas.util.testing.makeDataFrame()</code></pre>\n"
      ],
      "text/plain": [
       "    df = pandas.util.testing.makeDataFrame()"
      ]
     },
     "metadata": {},
     "output_type": "display_data"
    }
   ],
   "source": [
    "    df = pandas.util.testing.makeDataFrame()"
   ]
  },
  {
   "cell_type": "code",
   "execution_count": 36,
   "metadata": {},
   "outputs": [],
   "source": [
    "\n",
    "{{A.mean()}} and {{A.std()}}\n",
    "\n",
    "{{df.T}}\n",
    "\n",
    "{{df.describe().T}}\n",
    "\n",
    "{{df.plot(figsize=(3,1))}}\n",
    "    \n",
    "    import pandas\n",
    "    df = pandas.DataFrame(list(zip(range(10), reversed(range(10)))), columns=list('AB'))\n",
    "    globals().update(df)"
   ]
  }
 ],
 "metadata": {
  "kernelspec": {
   "display_name": "p6",
   "language": "python",
   "name": "other-env"
  },
  "language_info": {
   "codemirror_mode": {
    "name": "ipython",
    "version": 3
   },
   "file_extension": ".py",
   "mimetype": "text/x-python",
   "name": "python",
   "nbconvert_exporter": "python",
   "pygments_lexer": "ipython3",
   "version": "3.6.8"
  }
 },
 "nbformat": 4,
 "nbformat_minor": 4
}
