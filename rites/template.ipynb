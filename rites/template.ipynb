{
 "cells": [
  {
   "cell_type": "code",
   "execution_count": 1,
   "metadata": {},
   "outputs": [],
   "source": [
    "    from IPython import get_ipython\n",
    "    from nbconvert.exporters.templateexporter import TemplateExporter\n",
    "    from IPython.core.inputtransformer import InputTransformer\n",
    "    from jinja2 import Environment\n",
    "    from collections import UserList\n",
    "\n",
    "    class Template(UserList, InputTransformer):\n",
    "        environment = Environment()\n",
    "        def __init__(self, user_ns=None): \n",
    "            if user_ns is None:\n",
    "                user_ns = get_ipython().user_ns\n",
    "            self.user_ns = super().__init__() or user_ns\n",
    "            get_ipython().input_transformer_manager.python_line_transforms.insert(0, self)\n",
    "            \n",
    "        def push(self, line): self.data.append(line)\n",
    "        \n",
    "        def reset(self, *, str=\"\"\"\"\"\"):\n",
    "            while self.data: str += self.data.pop(0) + \"\\n\"\n",
    "            return self.environment.from_string(str).render(**self.user_ns)\n",
    "\n",
    "        def __del__(self): \n",
    "            get_ipython().python_line_transforms = [\n",
    "                _ for _ in get_ipython().python_line_transforms\n",
    "                if _ is not self]\n",
    "        \n",
    "        def __enter__(self, user_ns=None):\n",
    "            if user_ns: self.user_ns = user_ns\n",
    "            \n",
    "        def __exit__(self, *_): del self"
   ]
  },
  {
   "cell_type": "code",
   "execution_count": 2,
   "metadata": {},
   "outputs": [],
   "source": [
    "    def load_ipython_extension(ip):\n",
    "        global TRANSFORMER\n",
    "        TRANSFORMER = Template()\n",
    "        \n",
    "    def unload_ipython_extension(ip):\n",
    "        global TRANSFORMER\n",
    "        del TRANSFORMER"
   ]
  }
 ],
 "metadata": {
  "kernelspec": {
   "display_name": "p6",
   "language": "python",
   "name": "other-env"
  },
  "language_info": {
   "codemirror_mode": {
    "name": "ipython",
    "version": 3
   },
   "file_extension": ".py",
   "mimetype": "text/x-python",
   "name": "python",
   "nbconvert_exporter": "python",
   "pygments_lexer": "ipython3",
   "version": "3.6.3"
  },
  "toc": {
   "colors": {
    "hover_highlight": "#DAA520",
    "running_highlight": "#FF0000",
    "selected_highlight": "#FFD700"
   },
   "moveMenuLeft": true,
   "nav_menu": {
    "height": "29px",
    "width": "252px"
   },
   "navigate_menu": true,
   "number_sections": true,
   "sideBar": true,
   "threshold": 4,
   "toc_cell": false,
   "toc_section_display": "block",
   "toc_window_display": false,
   "widenNotebook": false
  },
  "varInspector": {
   "cols": {
    "lenName": 16,
    "lenType": 16,
    "lenVar": 40
   },
   "kernels_config": {
    "python": {
     "delete_cmd_postfix": "",
     "delete_cmd_prefix": "del ",
     "library": "var_list.py",
     "varRefreshCmd": "print(var_dic_list())"
    },
    "r": {
     "delete_cmd_postfix": ") ",
     "delete_cmd_prefix": "rm(",
     "library": "var_list.r",
     "varRefreshCmd": "cat(var_dic_list()) "
    }
   },
   "types_to_exclude": [
    "module",
    "function",
    "builtin_function_or_method",
    "instance",
    "_Feature"
   ],
   "window_display": false
  }
 },
 "nbformat": 4,
 "nbformat_minor": 2
}
