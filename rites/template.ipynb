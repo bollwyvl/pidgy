{
 "cells": [
  {
   "cell_type": "code",
   "execution_count": 1,
   "metadata": {},
   "outputs": [],
   "source": [
    "    try:\n",
    "        from rites.rites import update_hooks, Partial, AST, Code\n",
    "    except:\n",
    "        from rites import update_hooks, Partial, AST, Code\n",
    "    \n",
    "    from IPython import get_ipython\n",
    "    from nbconvert.exporters.templateexporter import TemplateExporter\n",
    "    from IPython.core.inputtransformer import InputTransformer\n",
    "    from jinja2 import Environment\n",
    "    from collections import UserList\n",
    "    from dataclasses import dataclass, field\n",
    "\n",
    "    @dataclass\n",
    "    class Template(InputTransformer, UserList):\n",
    "        environment = Environment()\n",
    "        user_ns: dict = field(default=None, repr=False)\n",
    "        data: list = field(default_factory=list)\n",
    "        \n",
    "        def __post_init__(self): \n",
    "            if self.user_ns is None:\n",
    "                self.user_ns = get_ipython().user_ns\n",
    "            \n",
    "        def push(self, line): self.data.append(line)\n",
    "        \n",
    "        def reset(self, *, str=\"\"\"\"\"\"):\n",
    "            while self.data: str += self.data.pop(0) + \"\\n\"\n",
    "            return self.environment.from_string(str).render(**self.user_ns)\n",
    "        \n",
    "        def __enter__(self,): ...\n",
    "        \n",
    "        def __exit__(self, *args): \n",
    "            get_ipython().input_transformer_manager.python_line_transforms = list(\n",
    "                filter(self.__ne__, get_ipython().input_transformer_manager.python_line_transforms))"
   ]
  },
  {
   "cell_type": "markdown",
   "metadata": {},
   "source": [
    "TemplateLoader has to execute its own module and cache it in exec module.  Compile does the caching.  Compile needs to be called after the ast is evaluated."
   ]
  },
  {
   "cell_type": "code",
   "execution_count": 2,
   "metadata": {},
   "outputs": [],
   "source": [
    "    from types import ModuleType"
   ]
  },
  {
   "cell_type": "code",
   "execution_count": 3,
   "metadata": {},
   "outputs": [],
   "source": [
    "    class Incremental(AST):\n",
    "        def from_code_cell(Incremental, cell, **dict):\n",
    "            module = dict.pop('module')\n",
    "            Module = super(type(Incremental), Incremental).from_code_cell(cell, **dict)\n",
    "            if Module:\n",
    "                eval(Incremental.compile(Module), module.__dict__, module.__dict__)\n",
    "            return Module\n",
    "        \n",
    "        def from_notebook_node(AST, nb, resource: dict=None, **dict):         \n",
    "            ast = super().from_notebook_node(nb, resource, **dict)\n",
    "            return AST.compile(ast) and ast "
   ]
  },
  {
   "cell_type": "code",
   "execution_count": 4,
   "metadata": {},
   "outputs": [],
   "source": [
    "    class _TemplateLoaderBase(Partial):\n",
    "        def exec_module(Loader, module):\n",
    "            with Template(user_ns=module.__dict__):\n",
    "                parser = Incremental(Loader.path, Loader.name)\n",
    "                with __import__('io').BytesIO(Loader.get_data(Loader.path)) as data:\n",
    "                    parser.compile(parser.from_file(data, module=module))\n",
    "            return module\n",
    "        \n",
    "    class TemplateLoader(_TemplateLoaderBase):\n",
    "        exec_module = Partial.exec_module"
   ]
  },
  {
   "cell_type": "code",
   "execution_count": 5,
   "metadata": {},
   "outputs": [],
   "source": [
    "    class PartialTemplate(TemplateLoader):\n",
    "        exec_module = Partial.exec_module"
   ]
  },
  {
   "cell_type": "code",
   "execution_count": 6,
   "metadata": {},
   "outputs": [],
   "source": [
    "    def load_ipython_extension(ip=get_ipython()):\n",
    "        ip.input_transformer_manager.python_line_transforms.insert(0, Template())\n",
    "        update_hooks()\n",
    "        update_hooks(TemplateLoader)\n",
    "        \n",
    "    def unload_ipython_extension(ip=None):\n",
    "        update_hooks()"
   ]
  },
  {
   "cell_type": "code",
   "execution_count": 7,
   "metadata": {},
   "outputs": [],
   "source": [
    "    if __name__ == '__main__':\n",
    "        load_ipython_extension()"
   ]
  }
 ],
 "metadata": {
  "kernelspec": {
   "display_name": "p6",
   "language": "python",
   "name": "other-env"
  },
  "language_info": {
   "codemirror_mode": {
    "name": "ipython",
    "version": 3
   },
   "file_extension": ".py",
   "mimetype": "text/x-python",
   "name": "python",
   "nbconvert_exporter": "python",
   "pygments_lexer": "ipython3",
   "version": "3.6.3"
  },
  "toc": {
   "colors": {
    "hover_highlight": "#DAA520",
    "running_highlight": "#FF0000",
    "selected_highlight": "#FFD700"
   },
   "moveMenuLeft": true,
   "nav_menu": {
    "height": "29px",
    "width": "252px"
   },
   "navigate_menu": true,
   "number_sections": true,
   "sideBar": true,
   "threshold": 4,
   "toc_cell": false,
   "toc_section_display": "block",
   "toc_window_display": false,
   "widenNotebook": false
  },
  "varInspector": {
   "cols": {
    "lenName": 16,
    "lenType": 16,
    "lenVar": 40
   },
   "kernels_config": {
    "python": {
     "delete_cmd_postfix": "",
     "delete_cmd_prefix": "del ",
     "library": "var_list.py",
     "varRefreshCmd": "print(var_dic_list())"
    },
    "r": {
     "delete_cmd_postfix": ") ",
     "delete_cmd_prefix": "rm(",
     "library": "var_list.r",
     "varRefreshCmd": "cat(var_dic_list()) "
    }
   },
   "types_to_exclude": [
    "module",
    "function",
    "builtin_function_or_method",
    "instance",
    "_Feature"
   ],
   "window_display": false
  }
 },
 "nbformat": 4,
 "nbformat_minor": 2
}
