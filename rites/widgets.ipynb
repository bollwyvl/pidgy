{
 "cells": [
  {
   "cell_type": "code",
   "execution_count": null,
   "metadata": {},
   "outputs": [],
   "source": [
    "import sys\n",
    "from functools import partial\n",
    "from ipywidgets import VBox, HBox, Text, Button\n",
    "\n",
    "__all__ = 'manager',\n",
    "\n",
    "class ExtensionsManager(VBox):\n",
    "    def _handle_displayed(self, **dict):\n",
    "        global manager, EXTENSIONS\n",
    "        for module, load, unload in (\n",
    "            (module, getattr(module, 'load_ipython_extension'), getattr(module, 'unload_ipython_extension', None))\n",
    "            for module in sys.modules.values() if hasattr(module, 'load_ipython_extension')\n",
    "        ):\n",
    "            def empty(callable, *object): \n",
    "                return callable(__import__('IPython').get_ipython())\n",
    "            \n",
    "            if module not in EXTENSIONS:\n",
    "                box = HBox(children=(\n",
    "                    Text(value=getattr(module, '__module__', getattr(module, '__name__'))), Button(description='load')))\n",
    "                box.children[1].on_click(partial(empty, load))\n",
    "                if unload:\n",
    "                    box.children += Button(description='unload'),\n",
    "                    box.children[2].on_click(partial(empty, unload))\n",
    "                EXTENSIONS += module, \n",
    "                manager.children += box, \n",
    "        super(VBox, self)._handle_displayed(**dict)\n",
    "\n",
    "manager = ExtensionsManager()\n",
    "EXTENSIONS = tuple()"
   ]
  }
 ],
 "metadata": {
  "kernelspec": {
   "display_name": "p6",
   "language": "python",
   "name": "other-env"
  },
  "language_info": {
   "codemirror_mode": {
    "name": "ipython",
    "version": 3
   },
   "file_extension": ".py",
   "mimetype": "text/x-python",
   "name": "python",
   "nbconvert_exporter": "python",
   "pygments_lexer": "ipython3",
   "version": "3.6.3"
  }
 },
 "nbformat": 4,
 "nbformat_minor": 2
}
