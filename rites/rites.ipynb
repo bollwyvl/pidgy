{
 "cells": [
  {
   "cell_type": "markdown",
   "metadata": {},
   "source": [
    "##### The First Convention\n",
    "# Notebooks __import__\n",
    "\n",
    "`rites` will install the proper actions to import notebooks from their JSON source to compiled Python bytecode with proper __traceback__s."
   ]
  },
  {
   "cell_type": "markdown",
   "metadata": {},
   "source": [
    "# Parsing"
   ]
  },
  {
   "cell_type": "markdown",
   "metadata": {},
   "source": [
    "`LineNoDecoder` is a `JSONDecoder` that updates the cell metadata with line numbers."
   ]
  },
  {
   "cell_type": "code",
   "execution_count": 1,
   "metadata": {},
   "outputs": [],
   "source": [
    "    def identity(x): return x"
   ]
  },
  {
   "cell_type": "code",
   "execution_count": 2,
   "metadata": {},
   "outputs": [],
   "source": [
    "    from json.decoder import JSONObject, JSONDecoder, WHITESPACE, WHITESPACE_STR    \n",
    "    from nbformat import NotebookNode\n",
    "    class LineNoDecoder(JSONDecoder):\n",
    "        \"\"\"A JSON Decoder to return a NotebookNode with lines numbers in the metadata.\"\"\"\n",
    "        def __init__(self, *, object_hook=None, parse_float=None, parse_int=None, parse_constant=None, strict=True, object_pairs_hook=None):\n",
    "            from json.scanner import py_make_scanner    \n",
    "            super().__init__(object_hook=object_hook, parse_float=parse_float, parse_int=parse_int, parse_constant=parse_constant, strict=strict, \n",
    "                             object_pairs_hook=object_pairs_hook)\n",
    "            self.parse_object = self.object\n",
    "            self.scan_once = py_make_scanner(self)\n",
    "            \n",
    "        def object(\n",
    "            self, \n",
    "            s_and_end, \n",
    "            strict, scan_once, object_hook, object_pairs_hook, memo=None, _w=WHITESPACE.match, _ws=WHITESPACE_STR\n",
    "        ) -> (NotebookNode, int):\n",
    "            object, next = JSONObject(s_and_end, strict, scan_once, object_hook, object_pairs_hook, memo=memo, _w=_w, _ws=_ws)\n",
    "\n",
    "            if 'cell_type' in object: object['metadata'].update(\n",
    "                {'lineno':  len(s_and_end[0][:next].rsplit('\"source\":', 1)[0].splitlines())})\n",
    "                \n",
    "            for key in ('source', 'text'): \n",
    "                if key in object: object[key] = ''.join(object[key])\n",
    "            return NotebookNode(object), next"
   ]
  },
  {
   "cell_type": "markdown",
   "metadata": {},
   "source": [
    "`Shell` is reusable class that provides the attributes to:\n",
    "\n",
    "* `transform` text to source text\n",
    "* `parse` source text to `ast`\n",
    "* `compile` `ast` to `bytecode`"
   ]
  },
  {
   "cell_type": "code",
   "execution_count": 3,
   "metadata": {},
   "outputs": [],
   "source": [
    "    from IPython.core.inputsplitter import IPythonInputSplitter\n",
    "    from IPython.core.compilerop import CachingCompiler"
   ]
  },
  {
   "cell_type": "code",
   "execution_count": 4,
   "metadata": {},
   "outputs": [],
   "source": [
    "    from dataclasses import dataclass, field\n",
    "\n",
    "    \n",
    "    class Compiler(CachingCompiler):\n",
    "        \"\"\"{Shell} provides the IPython machinery to objects.\"\"\"\n",
    "        filename: str = '<Shell>'\n",
    "        def __init__(self): \n",
    "            CachingCompiler.__init__(self)\n",
    "            \n",
    "        @property\n",
    "        def ip(Compiler): \n",
    "            from IPython import get_ipython\n",
    "            from IPython.core.interactiveshell import InteractiveShell\n",
    "            return get_ipython() or InteractiveShell()\n",
    "        \n",
    "        @property\n",
    "        def transform(Compiler): return Compiler.ip.input_transformer_manager.transform_cell\n",
    "\n",
    "        def compile(Compiler, ast): \n",
    "            \"\"\"Compile AST to bytecode using the an IPython compiler.\"\"\"\n",
    "            return (Compiler.ip and Compiler.ip.compile or CachingCompiler())(ast, Compiler.filename, 'exec')\n",
    "                \n",
    "        def ast_parse(Compiler, source, filename='<unknown>', symbol='exec', lineno=0): \n",
    "            return ast.increment_lineno(super().ast_parse(source, Compiler.filename, 'exec'), lineno)\n",
    "    "
   ]
  },
  {
   "cell_type": "code",
   "execution_count": 5,
   "metadata": {},
   "outputs": [],
   "source": [
    "    import ast, sys\n",
    "    from json import load, loads\n",
    "    from nbformat import NotebookNode, read, reads\n",
    "    from dataclasses import dataclass, field\n",
    "    from pathlib import Path\n",
    "    from nbconvert.exporters.markdown import MarkdownExporter\n",
    "    from nbconvert.exporters.notebook import NotebookExporter"
   ]
  },
  {
   "cell_type": "markdown",
   "metadata": {},
   "source": [
    "# Compilation\n",
    "\n",
    "Compilation occurs in the __3__ steps:\n",
    "\n",
    "1. Text is transformed into a valid source string.\n",
    "2. The sources string is parsed into an abstract syntax tree\n",
    "3. The abstract syntax compiles to valid bytecode "
   ]
  },
  {
   "cell_type": "code",
   "execution_count": 6,
   "metadata": {},
   "outputs": [],
   "source": [
    "    @dataclass\n",
    "    class Code(NotebookExporter, Compiler):\n",
    "        \"\"\">>> assert type(Code().from_filename('rites.ipynb')) is NotebookNode\"\"\"\n",
    "        filename: str = '<module exporter>'\n",
    "        name: str = '__main__'\n",
    "        decoder: type = LineNoDecoder\n",
    "            \n",
    "        def __post_init__(self): NotebookExporter.__init__(self) or Compiler.__init__(self)\n",
    "                \n",
    "        def from_file(Code,file_stream, resources=None, **dict): \n",
    "            for str in ('name', 'filename'): setattr(Code, str, dict.pop(str, getattr(Code, str)))\n",
    "            return Code.from_notebook_node(\n",
    "                NotebookNode(**load(file_stream, cls=Code.decoder)), resources, **dict)\n",
    "        \n",
    "        def from_filename(Code,  filename, resources=None, **dict):\n",
    "            Code.filename, Code.name = filename, Path(filename).stem\n",
    "            return super().from_filename(filename, resources, **dict)\n",
    "\n",
    "        def from_notebook_node(Code, nb, resources=None, **dict): \n",
    "            for cell in nb['cells']:\n",
    "                if cell['cell_type'] == 'code':\n",
    "                    cell.source = Code.from_code_cell(cell, **dict)\n",
    "            return nb\n",
    "        \n",
    "        def from_code_cell(Compiler, cell, **dict):  return Compiler.transform(cell['source'])"
   ]
  },
  {
   "cell_type": "code",
   "execution_count": 7,
   "metadata": {},
   "outputs": [],
   "source": [
    "    class AST(Code):\n",
    "        \"\"\">>> assert type(AST().from_filename('rites.ipynb')) is ast.Module\"\"\"\n",
    "        def from_notebook_node(AST, nb: NotebookNode, resource: dict=None, **dict):         \n",
    "            return ast.fix_missing_locations(ast.Module(body=sum((\n",
    "                AST.ast_parse(\n",
    "                    AST.from_code_cell(cell, **dict), lineno=cell['metadata'].get('lineno', 1)\n",
    "                ).body for cell in nb.cells if cell['cell_type']=='code'\n",
    "            ), [])))\n"
   ]
  },
  {
   "cell_type": "code",
   "execution_count": 8,
   "metadata": {},
   "outputs": [],
   "source": [
    "    class Compile(AST):\n",
    "        \"\"\">>> assert Compile().from_filename('rites.ipynb')\"\"\"        \n",
    "        def from_notebook_node(Compile, nb, resources: dict=None, **dict):\n",
    "            return Compile.compile(super().from_notebook_node(nb, resources, **dict))"
   ]
  },
  {
   "cell_type": "markdown",
   "metadata": {},
   "source": [
    "# Import System\n",
    "\n",
    "`rites` will exploit as much of the Python import system as it can."
   ]
  },
  {
   "cell_type": "code",
   "execution_count": 9,
   "metadata": {},
   "outputs": [],
   "source": [
    "    from importlib.machinery import SourceFileLoader\n",
    "    class NotebookLoader(SourceFileLoader):\n",
    "        EXTENSION_SUFFIXES = '.ipynb',\n",
    "        def exec_module(Loader, module):\n",
    "            module.__doc__ = docify(reads(Loader.get_source(Loader.name), 4))\n",
    "            return super().exec_module(module)\n",
    "        def source_to_code(Loader, data, path):\n",
    "            with __import__('io').BytesIO(data) as stream:\n",
    "                return Compile().from_file(stream, filename=Loader.path, name=Loader.name)"
   ]
  },
  {
   "cell_type": "markdown",
   "metadata": {},
   "source": [
    "## Partial Loading\n",
    "\n",
    "A notebook may be a complete, or yet to be complete concept.  Unlike normal source code, notebooks are comprised of cells \n",
    "or miniature programs that may interact with other cells.  It is plausible that some code may evaluate before other code fails.  `rites` allows notebooks to partially evalue.  Each module contains `module.__complete__` to identify the loading\n",
    "state of the notebook."
   ]
  },
  {
   "cell_type": "code",
   "execution_count": 10,
   "metadata": {},
   "outputs": [],
   "source": [
    "    class Partial(NotebookLoader):    \n",
    "        def exec_module(Module, module):\n",
    "            from IPython.utils.capture import capture_output\n",
    "            with capture_output() as output:\n",
    "                super(type(Module), Module).exec_module(module)\n",
    "                try:\n",
    "                    module.__complete__ = True\n",
    "                except BaseException as Exception:\n",
    "                    module.__complete__ = Exception\n",
    "                module.__output__ = output\n",
    "            return module"
   ]
  },
  {
   "cell_type": "code",
   "execution_count": 11,
   "metadata": {},
   "outputs": [],
   "source": [
    "    _NATIVE_HOOK = sys.path_hooks\n",
    "    def update_hooks(loader=None):\n",
    "        global _NATIVE_HOOK\n",
    "        from importlib.machinery import FileFinder\n",
    "        if loader:\n",
    "            for i, hook in enumerate(sys.path_hooks):\n",
    "                closure = getattr(hook, '__closure__', None)\n",
    "                if closure and closure[0].cell_contents is FileFinder:\n",
    "                    sys.path_hooks[i] = FileFinder.path_hook(\n",
    "                        (loader, list(loader.EXTENSION_SUFFIXES)), *closure[1].cell_contents)\n",
    "        else: sys.path_hooks = _NATIVE_HOOK\n",
    "        sys.path_importer_cache.clear()"
   ]
  },
  {
   "cell_type": "markdown",
   "metadata": {},
   "source": [
    "# IPython Extensions"
   ]
  },
  {
   "cell_type": "code",
   "execution_count": 12,
   "metadata": {},
   "outputs": [],
   "source": [
    "    def load_ipython_extension(ip=None): update_hooks(Partial)\n",
    "    def unload_ipython_extension(ip=None): update_hooks()"
   ]
  },
  {
   "cell_type": "markdown",
   "metadata": {},
   "source": [
    "## Utilities"
   ]
  },
  {
   "cell_type": "code",
   "execution_count": 13,
   "metadata": {},
   "outputs": [],
   "source": [
    "    def docify(NotebookNode): \n",
    "            \"\"\"Create a markdown of the notebook input.\"\"\"\n",
    "            return md(MarkdownExporter(config={'TemplateExporter': {'exclude_output': True}}).from_notebook_node(NotebookNode)[0])\n",
    "        \n",
    "    class md(str): \n",
    "        \"\"\"A string with a markdown repr.\"\"\"\n",
    "        def _repr_markdown_(self): return str(self)\n"
   ]
  },
  {
   "cell_type": "markdown",
   "metadata": {},
   "source": [
    "### Force the docstring for rites itself."
   ]
  },
  {
   "cell_type": "code",
   "execution_count": 14,
   "metadata": {},
   "outputs": [],
   "source": [
    "    with (\n",
    "        Path(\n",
    "            globals()\n",
    "            .get('__file__', 'rites.ipynb')\n",
    "        ).with_suffix('.ipynb')\n",
    "        .open()) as f: __doc__ = docify(read(f, 4))"
   ]
  },
  {
   "cell_type": "markdown",
   "metadata": {},
   "source": [
    "# Developer"
   ]
  },
  {
   "cell_type": "code",
   "execution_count": 15,
   "metadata": {
    "scrolled": false
   },
   "outputs": [
    {
     "name": "stdout",
     "output_type": "stream",
     "text": [
      "Trying:\n",
      "    assert type(AST().from_filename('rites.ipynb')) is ast.Module\n",
      "Expecting nothing\n",
      "ok\n",
      "Trying:\n",
      "    assert type(Code().from_filename('rites.ipynb')) is NotebookNode\n",
      "Expecting nothing\n",
      "ok\n",
      "Trying:\n",
      "    assert Compile().from_filename('rites.ipynb')\n",
      "Expecting nothing\n",
      "ok\n",
      "29 items had no tests:\n",
      "    __main__\n",
      "    __main__.AST.from_notebook_node\n",
      "    __main__.Code.__post_init__\n",
      "    __main__.Code.from_code_cell\n",
      "    __main__.Code.from_file\n",
      "    __main__.Code.from_filename\n",
      "    __main__.Code.from_notebook_node\n",
      "    __main__.Compile.from_notebook_node\n",
      "    __main__.Compiler\n",
      "    __main__.Compiler.__init__\n",
      "    __main__.Compiler.ast_parse\n",
      "    __main__.Compiler.compile\n",
      "    __main__.Compiler.ip\n",
      "    __main__.Compiler.transform\n",
      "    __main__.LineNoDecoder\n",
      "    __main__.LineNoDecoder.__init__\n",
      "    __main__.LineNoDecoder.object\n",
      "    __main__.NotebookLoader\n",
      "    __main__.NotebookLoader.exec_module\n",
      "    __main__.NotebookLoader.source_to_code\n",
      "    __main__.Partial\n",
      "    __main__.Partial.exec_module\n",
      "    __main__.docify\n",
      "    __main__.identity\n",
      "    __main__.load_ipython_extension\n",
      "    __main__.md\n",
      "    __main__.md._repr_markdown_\n",
      "    __main__.unload_ipython_extension\n",
      "    __main__.update_hooks\n",
      "3 items passed all tests:\n",
      "   1 tests in __main__.AST\n",
      "   1 tests in __main__.Code\n",
      "   1 tests in __main__.Compile\n",
      "3 tests in 32 items.\n",
      "3 passed and 0 failed.\n",
      "Test passed.\n",
      "[NbConvertApp] Converting notebook rites.ipynb to script\n",
      "[NbConvertApp] Writing 8306 bytes to rites.py\n"
     ]
    }
   ],
   "source": [
    "    if 1 and __name__ ==  '__main__':\n",
    "        __import__('doctest').testmod(verbose=2)\n",
    "        load_ipython_extension()\n",
    "        import rites\n",
    "        !jupyter nbconvert --to script rites.ipynb"
   ]
  },
  {
   "cell_type": "code",
   "execution_count": null,
   "metadata": {},
   "outputs": [],
   "source": []
  },
  {
   "cell_type": "code",
   "execution_count": null,
   "metadata": {},
   "outputs": [],
   "source": []
  }
 ],
 "metadata": {
  "kernelspec": {
   "display_name": "p6",
   "language": "python",
   "name": "other-env"
  },
  "language_info": {
   "codemirror_mode": {
    "name": "ipython",
    "version": 3
   },
   "file_extension": ".py",
   "mimetype": "text/x-python",
   "name": "python",
   "nbconvert_exporter": "python",
   "pygments_lexer": "ipython3",
   "version": "3.6.3"
  },
  "toc": {
   "colors": {
    "hover_highlight": "#DAA520",
    "running_highlight": "#FF0000",
    "selected_highlight": "#FFD700"
   },
   "moveMenuLeft": true,
   "nav_menu": {
    "height": "29px",
    "width": "252px"
   },
   "navigate_menu": true,
   "number_sections": true,
   "sideBar": true,
   "threshold": 4,
   "toc_cell": false,
   "toc_section_display": "block",
   "toc_window_display": false,
   "widenNotebook": false
  },
  "varInspector": {
   "cols": {
    "lenName": 16,
    "lenType": 16,
    "lenVar": 40
   },
   "kernels_config": {
    "python": {
     "delete_cmd_postfix": "",
     "delete_cmd_prefix": "del ",
     "library": "var_list.py",
     "varRefreshCmd": "print(var_dic_list())"
    },
    "r": {
     "delete_cmd_postfix": ") ",
     "delete_cmd_prefix": "rm(",
     "library": "var_list.r",
     "varRefreshCmd": "cat(var_dic_list()) "
    }
   },
   "types_to_exclude": [
    "module",
    "function",
    "builtin_function_or_method",
    "instance",
    "_Feature"
   ],
   "window_display": false
  }
 },
 "nbformat": 4,
 "nbformat_minor": 2
}
