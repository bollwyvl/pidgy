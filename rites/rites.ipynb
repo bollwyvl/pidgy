{
 "cells": [
  {
   "cell_type": "markdown",
   "metadata": {},
   "source": [
    "##### The First Convention\n",
    "# Notebooks __import__\n",
    "\n",
    "A notebook that will __import__ is a necessary condition for a notebook to Restart and Run All.  The tool is meant to be using with IPython."
   ]
  },
  {
   "cell_type": "code",
   "execution_count": 1,
   "metadata": {},
   "outputs": [],
   "source": [
    "    from IPython import get_ipython\n",
    "    from IPython.core.interactiveshell import InteractiveShell\n",
    "    from IPython.core.inputsplitter import IPythonInputSplitter\n",
    "    from IPython.core.compilerop import CachingCompiler\n",
    "    from IPython.utils.capture import capture_output"
   ]
  },
  {
   "cell_type": "code",
   "execution_count": 2,
   "metadata": {},
   "outputs": [],
   "source": [
    "    from textwrap import indent\n",
    "    import ast, sys\n",
    "    from json import load, loads\n",
    "    from dataclasses import dataclass, field\n",
    "    from nbformat import v4, NotebookNode, read\n",
    "    from nbformat.v4 import new_notebook\n",
    "    from traitlets import Unicode, Any, default, Bool\n",
    "    from dataclasses import dataclass, field\n",
    "    from types import ModuleType\n",
    "    from pathlib import Path\n",
    "    from textwrap import dedent\n",
    "    from nbconvert.exporters.markdown import MarkdownExporter\n",
    "    from nbconvert.exporters.notebook import NotebookExporter\n",
    "    from pathlib import Path"
   ]
  },
  {
   "cell_type": "code",
   "execution_count": 3,
   "metadata": {},
   "outputs": [],
   "source": [
    "    def identity(object, *_, **__): return object"
   ]
  },
  {
   "cell_type": "markdown",
   "metadata": {},
   "source": [
    "`rites` will provide a valid traceback to the source file, if the file is unchanged.    A custom JSONDecoder will track the line numbers in the source file, they are passed to the cell metadata. _There is no nbformat check yet._"
   ]
  },
  {
   "cell_type": "code",
   "execution_count": 4,
   "metadata": {},
   "outputs": [],
   "source": [
    "    from json.scanner import py_make_scanner    \n",
    "    from json.decoder import JSONObject, JSONDecoder, WHITESPACE, WHITESPACE_STR\n",
    "    from nbformat import v4, NotebookNode, read, reads\n",
    "    from nbformat.v4 import new_notebook\n",
    "    class LineNoDecoder(JSONDecoder):\n",
    "        \"\"\"A JSON Decoder to return a NotebookNode with lines numbers in the metadata.\n",
    "        \n",
    "        \"\"\"\n",
    "        def __init__(self, *, object_hook=None, parse_float=None, parse_int=None, parse_constant=None, strict=True, object_pairs_hook=None):\n",
    "            super().__init__(object_hook=object_hook, parse_float=parse_float, parse_int=parse_int, parse_constant=parse_constant, strict=strict, \n",
    "                             object_pairs_hook=object_pairs_hook)\n",
    "            self.parse_object = self.object\n",
    "            self.scan_once = py_make_scanner(self)\n",
    "            \n",
    "        def object(self, s_and_end, strict, scan_once, object_hook, object_pairs_hook, memo=None, _w=WHITESPACE.match, _ws=WHITESPACE_STR):\n",
    "            object, next = JSONObject(s_and_end, strict, scan_once, object_hook, object_pairs_hook, memo=memo, _w=_w, _ws=_ws)\n",
    "\n",
    "            if 'cell_type' in object: object['metadata'].update(\n",
    "                {'lineno':  len(s_and_end[0][:next].rsplit('\"source\":', 1)[0].splitlines())})\n",
    "                \n",
    "            for key in ('source', 'text'): \n",
    "                if key in object: object[key] = ''.join(object[key])\n",
    "            return object, next\n",
    "        "
   ]
  },
  {
   "cell_type": "code",
   "execution_count": 5,
   "metadata": {},
   "outputs": [],
   "source": [
    "    @dataclass\n",
    "    class Code(NotebookExporter):\n",
    "        filename: str = '<module exporter>'\n",
    "        name: str = '__main__'\n",
    "        ip: bool = field(default_factory=get_ipython)\n",
    "        decoder: type = LineNoDecoder\n",
    "            \n",
    "        __post_init__ = NotebookExporter.__init__\n",
    "                \n",
    "        def from_file(Module,file_stream, resources=None, **dict): \n",
    "            for str in ('name', 'filename'):\n",
    "                setattr(Compile, str, dict.pop(str, getattr(Compile, str)))\n",
    "            return Module.from_notebook_node(\n",
    "                NotebookNode(load(file_stream, cls=Module.decoder)), resources, **dict)\n",
    "        \n",
    "        def from_filename(Module,  filename, resources=None, **dict):\n",
    "            Module.filename, Module.name = filename, Path(filename).stem\n",
    "            return super().from_filename(filename, resources, **dict)\n",
    "\n",
    "        \n",
    "        @property\n",
    "        def compiler(Code): return Code.ip.compile if Code.ip else CachingCompiler()\n",
    "\n",
    "        @property\n",
    "        def parser(Code): return Code.compiler.ast_parse\n",
    "        \n",
    "        @property\n",
    "        def transform(Code): \n",
    "            return Code.ip.input_transformer_manager.transform_cell if Code.ip else identity\n",
    "        \n",
    "        def compile(Loader, data): return Loader.compiler(data, Loader.filename, 'exec')\n",
    "        \n",
    "        def parse(Module, source, *, lineno=0): \n",
    "            return ast.increment_lineno(Module.parser(source, Module.filename, 'exec'), lineno)\n",
    "        \n",
    "        def from_code_cell(Module, cell, **dict):\n",
    "            if cell['cell_type'] == 'code': \n",
    "                return Module.transform(cell['source'])\n",
    "            return \"\"\"\"\"\"\n",
    "            \n",
    "            "
   ]
  },
  {
   "cell_type": "code",
   "execution_count": 6,
   "metadata": {},
   "outputs": [],
   "source": [
    "    class AST(Code):\n",
    "        def from_notebook_node(AST, nb: NotebookNode, resource: dict=None, **dict):         \n",
    "            module = ast.Module(body=[])\n",
    "            for cell in nb.cells:\n",
    "                nodes = AST.from_code_cell(cell, **dict)\n",
    "                nodes and module.body.extend(nodes.body)\n",
    "            return ast.fix_missing_locations(module)\n",
    "        \n",
    "        def from_code_cell(Module, cell, **dict):\n",
    "            code = super().from_code_cell(cell)\n",
    "            if code:\n",
    "                return Module.parse(code, lineno=cell['metadata'].get('lineno', 1))"
   ]
  },
  {
   "cell_type": "code",
   "execution_count": 7,
   "metadata": {},
   "outputs": [],
   "source": [
    "    class Compile(AST):\n",
    "        def from_notebook_node(Compile, nb, resources: dict=None, **dict):\n",
    "            return Compile.compile(super().from_notebook_node(nb, resources, **dict))"
   ]
  },
  {
   "cell_type": "code",
   "execution_count": 8,
   "metadata": {},
   "outputs": [],
   "source": [
    "    def test():\n",
    "        module = Partial().from_filename('SomeOutput.ipynb')\n",
    "        assert isinstance(module, ModuleType)\n",
    "        assert module.__complete__ is True"
   ]
  },
  {
   "cell_type": "code",
   "execution_count": 9,
   "metadata": {},
   "outputs": [],
   "source": [
    "    from importlib.machinery import SourceFileLoader\n",
    "    class NotebookLoader(SourceFileLoader):\n",
    "        EXTENSION_SUFFIXES = '.ipynb',\n",
    "        def exec_module(Loader, module):\n",
    "            module.__doc__ = docify(reads(Loader.get_source(Loader.name), 4))\n",
    "            return super().exec_module(module)\n",
    "        def source_to_code(Loader, data, path):\n",
    "            with __import__('io').BytesIO(data) as data:\n",
    "                return Compile().from_file(data, filename=Loader.path, name=Loader.name)"
   ]
  },
  {
   "cell_type": "code",
   "execution_count": 10,
   "metadata": {},
   "outputs": [],
   "source": [
    "    def capture(Module, module):\n",
    "        with capture_output() as output:\n",
    "            try:\n",
    "                super(type(Module), Module).exec_module(module)\n",
    "                module.__complete__ = True\n",
    "            except BaseException as Exception:\n",
    "                module.__complete__ = Exception\n",
    "        module.__output__ = output\n",
    "        return module"
   ]
  },
  {
   "cell_type": "code",
   "execution_count": 11,
   "metadata": {},
   "outputs": [],
   "source": [
    "    class Partial(NotebookLoader):\n",
    "        def exec_module(Module, module): return capture(Module, module)            "
   ]
  },
  {
   "cell_type": "code",
   "execution_count": 12,
   "metadata": {},
   "outputs": [],
   "source": [
    "    _NATIVE_HOOK = sys.path_hooks\n",
    "    def update_hooks(loader=None):\n",
    "        global _NATIVE_HOOK\n",
    "        from importlib.machinery import FileFinder\n",
    "        if loader:\n",
    "            for i, hook in enumerate(sys.path_hooks):\n",
    "                closure = getattr(hook, '__closure__', None)\n",
    "                if closure and closure[0].cell_contents is FileFinder:\n",
    "                    sys.path_hooks[i] = FileFinder.path_hook(\n",
    "                        (loader, list(loader.EXTENSION_SUFFIXES)), *closure[1].cell_contents)\n",
    "        else: sys.path_hooks = _NATIVE_HOOK\n",
    "        sys.path_importer_cache.clear()"
   ]
  },
  {
   "cell_type": "code",
   "execution_count": 13,
   "metadata": {},
   "outputs": [],
   "source": [
    "    def load_ipython_extension(ip=None):\n",
    "        update_hooks(Partial)\n",
    "    def unload_ipython_extension(ip=None):\n",
    "        update_hooks()"
   ]
  },
  {
   "cell_type": "code",
   "execution_count": 14,
   "metadata": {},
   "outputs": [],
   "source": [
    "    class md(str): \n",
    "        \"\"\"A string with a markdown repr.\"\"\"\n",
    "        def _repr_markdown_(self): return str(self)"
   ]
  },
  {
   "cell_type": "code",
   "execution_count": 15,
   "metadata": {},
   "outputs": [],
   "source": [
    "    def docify(NotebookNode): \n",
    "            \"\"\"Create a markdown of the notebook input.\"\"\"\n",
    "            return md(MarkdownExporter(config={'TemplateExporter': {'exclude_output': True}}).from_notebook_node(NotebookNode)[0])"
   ]
  },
  {
   "cell_type": "markdown",
   "metadata": {},
   "source": [
    "Force the docstring for rites itself."
   ]
  },
  {
   "cell_type": "code",
   "execution_count": 16,
   "metadata": {},
   "outputs": [],
   "source": [
    "    with (\n",
    "        Path(\n",
    "            globals()\n",
    "            .get('__file__', 'rites.ipynb')\n",
    "        ).with_suffix('.ipynb')\n",
    "        .open()\n",
    "    ) as f: __doc__ = docify(read(f, 4))"
   ]
  },
  {
   "cell_type": "code",
   "execution_count": 17,
   "metadata": {
    "scrolled": false
   },
   "outputs": [
    {
     "name": "stdout",
     "output_type": "stream",
     "text": [
      "32 items had no tests:\n",
      "    __main__\n",
      "    __main__.AST\n",
      "    __main__.AST.from_code_cell\n",
      "    __main__.AST.from_notebook_node\n",
      "    __main__.Code\n",
      "    __main__.Code.compile\n",
      "    __main__.Code.compiler\n",
      "    __main__.Code.from_code_cell\n",
      "    __main__.Code.from_file\n",
      "    __main__.Code.from_filename\n",
      "    __main__.Code.parse\n",
      "    __main__.Code.parser\n",
      "    __main__.Code.transform\n",
      "    __main__.Compile\n",
      "    __main__.Compile.from_notebook_node\n",
      "    __main__.LineNoDecoder\n",
      "    __main__.LineNoDecoder.__init__\n",
      "    __main__.LineNoDecoder.object\n",
      "    __main__.NotebookLoader\n",
      "    __main__.NotebookLoader.exec_module\n",
      "    __main__.NotebookLoader.source_to_code\n",
      "    __main__.Partial\n",
      "    __main__.Partial.exec_module\n",
      "    __main__.capture\n",
      "    __main__.docify\n",
      "    __main__.identity\n",
      "    __main__.load_ipython_extension\n",
      "    __main__.md\n",
      "    __main__.md._repr_markdown_\n",
      "    __main__.test\n",
      "    __main__.unload_ipython_extension\n",
      "    __main__.update_hooks\n",
      "0 tests in 32 items.\n",
      "0 passed and 0 failed.\n",
      "Test passed.\n",
      "[NbConvertApp] Converting notebook rites.ipynb to script\n",
      "[NbConvertApp] Writing 7410 bytes to rites.py\n"
     ]
    }
   ],
   "source": [
    "    if 1 and __name__ ==  '__main__':\n",
    "        __import__('doctest').testmod(verbose=2)\n",
    "        load_ipython_extension()\n",
    "        import rites\n",
    "        !jupyter nbconvert --to script rites.ipynb"
   ]
  }
 ],
 "metadata": {
  "kernelspec": {
   "display_name": "p6",
   "language": "python",
   "name": "other-env"
  },
  "language_info": {
   "codemirror_mode": {
    "name": "ipython",
    "version": 3
   },
   "file_extension": ".py",
   "mimetype": "text/x-python",
   "name": "python",
   "nbconvert_exporter": "python",
   "pygments_lexer": "ipython3",
   "version": "3.6.3"
  },
  "toc": {
   "colors": {
    "hover_highlight": "#DAA520",
    "running_highlight": "#FF0000",
    "selected_highlight": "#FFD700"
   },
   "moveMenuLeft": true,
   "nav_menu": {
    "height": "29px",
    "width": "252px"
   },
   "navigate_menu": true,
   "number_sections": true,
   "sideBar": true,
   "threshold": 4,
   "toc_cell": false,
   "toc_section_display": "block",
   "toc_window_display": false,
   "widenNotebook": false
  },
  "varInspector": {
   "cols": {
    "lenName": 16,
    "lenType": 16,
    "lenVar": 40
   },
   "kernels_config": {
    "python": {
     "delete_cmd_postfix": "",
     "delete_cmd_prefix": "del ",
     "library": "var_list.py",
     "varRefreshCmd": "print(var_dic_list())"
    },
    "r": {
     "delete_cmd_postfix": ") ",
     "delete_cmd_prefix": "rm(",
     "library": "var_list.r",
     "varRefreshCmd": "cat(var_dic_list()) "
    }
   },
   "types_to_exclude": [
    "module",
    "function",
    "builtin_function_or_method",
    "instance",
    "_Feature"
   ],
   "window_display": false
  }
 },
 "nbformat": 4,
 "nbformat_minor": 2
}
