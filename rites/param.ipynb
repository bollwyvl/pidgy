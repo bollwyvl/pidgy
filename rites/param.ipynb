{
 "cells": [
  {
   "cell_type": "markdown",
   "metadata": {},
   "source": [
    "##### Convention\n",
    "# Notebooks should be easy to use\n",
    "\n",
    "`param` exports `Parameterize`, a special function that will parameterize existing notebooks.  Any single target assignment that \n",
    "can be literally evaluated is a notebook parameter."
   ]
  },
  {
   "cell_type": "code",
   "execution_count": 1,
   "metadata": {},
   "outputs": [],
   "source": [
    "    try:\n",
    "        from .rites import AST, docify, Partial\n",
    "    except:\n",
    "        from rites import AST, docify, Partial\n",
    "\n",
    "    from types import ModuleType\n",
    "    import sys\n",
    "    from importlib import reload\n",
    "    from dataclasses import dataclass, field"
   ]
  },
  {
   "cell_type": "code",
   "execution_count": 2,
   "metadata": {},
   "outputs": [],
   "source": [
    "    from ast import NodeTransformer, parse, Assign, literal_eval, dump, fix_missing_locations, Str"
   ]
  },
  {
   "cell_type": "code",
   "execution_count": 3,
   "metadata": {},
   "outputs": [],
   "source": [
    "    def vars_to_sig(vars):\n",
    "        from inspect import Parameter, Signature\n",
    "        return Signature([Parameter(str, Parameter.KEYWORD_ONLY, default = vars[str]) for str in vars])"
   ]
  },
  {
   "cell_type": "code",
   "execution_count": 4,
   "metadata": {},
   "outputs": [],
   "source": [
    "    from collections import OrderedDict\n",
    "    @dataclass\n",
    "    class FreeStatement(NodeTransformer):\n",
    "        params: list = field(default_factory=list)\n",
    "        globals: dict = field(default_factory=dict)\n",
    "        def visit_FunctionDef(free, node): return node\n",
    "        visit_ClassDef = visit_FunctionDef\n",
    "                \n",
    "        def visit_Assign(free, node):\n",
    "            if len(node.targets):\n",
    "                try:\n",
    "                    if not getattr(node.targets[0], 'id', '_').startswith('_'):\n",
    "                        free.globals[node.targets[0].id] = literal_eval(node.value)\n",
    "                        return \n",
    "                except: ...\n",
    "            return node\n",
    "                \n",
    "        def __call__(free, nodes):\n",
    "            ast = free.visit(nodes)\n",
    "            return free.globals, fix_missing_locations(ast)"
   ]
  },
  {
   "cell_type": "code",
   "execution_count": 5,
   "metadata": {},
   "outputs": [],
   "source": [
    "    from inspect import signature"
   ]
  },
  {
   "cell_type": "code",
   "execution_count": 6,
   "metadata": {},
   "outputs": [],
   "source": [
    "    from pathlib import Path"
   ]
  },
  {
   "cell_type": "code",
   "execution_count": 7,
   "metadata": {},
   "outputs": [],
   "source": [
    "    from IPython.utils.capture import capture_output"
   ]
  },
  {
   "cell_type": "code",
   "execution_count": 8,
   "metadata": {},
   "outputs": [],
   "source": [
    "    @dataclass(repr=False)\n",
    "    class Parameterize:\n",
    "        __file__: str = None\n",
    "        __ast__: any = None\n",
    "        __variables__: any = field(default_factory=dict)\n",
    "        __notebook__: dict = field(default_factory=dict)\n",
    "        def __post_init__(Parameterize):\n",
    "            Parameterize.__name__ = Path(Parameterize.__file__).stem\n",
    "            with open(Parameterize.__file__) as f: \n",
    "                Parameterize.__notebook__ = __import__('nbformat').read(f, 4)       \n",
    "            with capture_output() as output:\n",
    "                Parameterize.__variables__, Parameterize.__ast__ = \\\n",
    "                    FreeStatement()(AST().from_notebook_node(Parameterize.__notebook__))\n",
    "            Parameterize.__output__ = output\n",
    "            Parameterize.__signature__ = vars_to_sig(Parameterize.__variables__)\n",
    "            Parameterize.__doc__ = docify(Parameterize.__notebook__)\n",
    "\n",
    "        def __call__(Parameterize, **dict):\n",
    "            Parameterize = __import__('copy').copy(Parameterize)\n",
    "            Parameterize.__dict__.update(Parameterize.__variables__)\n",
    "            Parameterize.__dict__.update(dict)\n",
    "            exec(AST().compile(Parameterize.__ast__, Parameterize.__file__), *[Parameterize.__dict__]*2)\n",
    "            return Parameterize\n",
    "        \n",
    "        def interact(Parameterize): \n",
    "            return __import__('ipywidgets').interact(Parameterize)"
   ]
  },
  {
   "cell_type": "code",
   "execution_count": 9,
   "metadata": {},
   "outputs": [],
   "source": [
    "    __test__ = dict(\n",
    "        self=\"\"\"\n",
    "        >>> f = Parameterize(globals().get('__file__', 'param.ipynb'))\n",
    "        >>> assert f().param == 'xyz'\n",
    "        >>> assert f(param=10).param is 10\n",
    "        \"\"\"\n",
    "        ,)"
   ]
  },
  {
   "cell_type": "code",
   "execution_count": 10,
   "metadata": {},
   "outputs": [
    {
     "name": "stdout",
     "output_type": "stream",
     "text": [
      "Trying:\n",
      "    f = Parameterize(globals().get('__file__', 'param.ipynb'))\n",
      "Expecting nothing\n",
      "ok\n",
      "Trying:\n",
      "    assert f().param == 'xyz'\n",
      "Expecting nothing\n",
      "ok\n",
      "Trying:\n",
      "    assert f(param=10).param is 10\n",
      "Expecting nothing\n",
      "ok\n",
      "10 items had no tests:\n",
      "    __main__\n",
      "    __main__.FreeStatement\n",
      "    __main__.FreeStatement.__call__\n",
      "    __main__.FreeStatement.visit_Assign\n",
      "    __main__.FreeStatement.visit_FunctionDef\n",
      "    __main__.Parameterize\n",
      "    __main__.Parameterize.__call__\n",
      "    __main__.Parameterize.__post_init__\n",
      "    __main__.Parameterize.interact\n",
      "    __main__.vars_to_sig\n",
      "1 items passed all tests:\n",
      "   3 tests in __main__.__test__.self\n",
      "3 tests in 11 items.\n",
      "3 passed and 0 failed.\n",
      "Test passed.\n"
     ]
    }
   ],
   "source": [
    "    if __name__ == '__main__':\n",
    "        __import__('doctest').testmod(verbose=1)\n",
    "        f = Parameterize(globals().get('__file__', 'param.ipynb'))\n",
    "    else:\n",
    "        param = 'xyz'"
   ]
  }
 ],
 "metadata": {
  "kernelspec": {
   "display_name": "p6",
   "language": "python",
   "name": "other-env"
  },
  "language_info": {
   "codemirror_mode": {
    "name": "ipython",
    "version": 3
   },
   "file_extension": ".py",
   "mimetype": "text/x-python",
   "name": "python",
   "nbconvert_exporter": "python",
   "pygments_lexer": "ipython3",
   "version": "3.6.3"
  },
  "toc": {
   "colors": {
    "hover_highlight": "#DAA520",
    "running_highlight": "#FF0000",
    "selected_highlight": "#FFD700"
   },
   "moveMenuLeft": true,
   "nav_menu": {
    "height": "30px",
    "width": "252px"
   },
   "navigate_menu": true,
   "number_sections": true,
   "sideBar": true,
   "threshold": 4,
   "toc_cell": false,
   "toc_section_display": "block",
   "toc_window_display": false,
   "widenNotebook": false
  },
  "varInspector": {
   "cols": {
    "lenName": 16,
    "lenType": 16,
    "lenVar": 40
   },
   "kernels_config": {
    "python": {
     "delete_cmd_postfix": "",
     "delete_cmd_prefix": "del ",
     "library": "var_list.py",
     "varRefreshCmd": "print(var_dic_list())"
    },
    "r": {
     "delete_cmd_postfix": ") ",
     "delete_cmd_prefix": "rm(",
     "library": "var_list.r",
     "varRefreshCmd": "cat(var_dic_list()) "
    }
   },
   "types_to_exclude": [
    "module",
    "function",
    "builtin_function_or_method",
    "instance",
    "_Feature"
   ],
   "window_display": false
  }
 },
 "nbformat": 4,
 "nbformat_minor": 2
}
