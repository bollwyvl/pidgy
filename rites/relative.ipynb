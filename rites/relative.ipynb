{
 "cells": [
  {
   "cell_type": "markdown",
   "metadata": {},
   "source": [
    "# Relative Notebook Imports\n",
    "\n",
    "As we know"
   ]
  },
  {
   "cell_type": "code",
   "execution_count": 1,
   "metadata": {},
   "outputs": [],
   "source": [
    "    try: from . import relative\n",
    "    except ImportError: ..."
   ]
  },
  {
   "cell_type": "markdown",
   "metadata": {},
   "source": [
    "When notebooks __import__ as valid source then a relative __import__ has meaning.  The relative __import__ operates in two contexts:\n",
    "\n",
    "#### 1. The interactive context when `__name__ == '__main__'`\n",
    "\n",
    "\n",
    "#### 2. The __import__ed context when `__name__ == Path(__file__).stem`"
   ]
  },
  {
   "cell_type": "markdown",
   "metadata": {},
   "source": [
    "## Usage\n",
    "\n",
    "Relative is an IPython magic that works with anything in the `sys.meta_path`.\n",
    "\n",
    "    %reload_ext rites.relative"
   ]
  },
  {
   "cell_type": "code",
   "execution_count": 2,
   "metadata": {},
   "outputs": [],
   "source": [
    "from ast import parse, NodeTransformer, copy_location\n",
    "blank = parse(\"\"\"try: from . import object\n",
    "except: import object\"\"\").body[0]"
   ]
  },
  {
   "cell_type": "code",
   "execution_count": 11,
   "metadata": {},
   "outputs": [],
   "source": [
    "class Relative(NodeTransformer):\n",
    "    def visit_ImportFrom(Relative, node):\n",
    "        if node.module: return node\n",
    "        if node.level is 1:\n",
    "            blank.body[0].names = blank.handlers[0].body[0].names = node.names\n",
    "            return copy_location(blank, node)\n",
    "        if node.level is 2:\"\"\"Make a context manager for the meta_path that can jump up a directory.\"\"\"\n",
    "        return node"
   ]
  },
  {
   "cell_type": "code",
   "execution_count": 9,
   "metadata": {},
   "outputs": [],
   "source": [
    "def unload_ipython_extension(ip=get_ipython()): return [\n",
    "    object for object in ip.ast_transformers if not isinstance(object, Relative)]\n",
    "\n",
    "def load_ipython_extension(ip=get_ipython()): ip.ast_transformers = unload_ipython_extension(ip) +[Relative()]\n",
    "    \n",
    "if __name__ == '__main__':\n",
    "    %reload_ext rites\n",
    "    load_ipython_extension()"
   ]
  },
  {
   "cell_type": "code",
   "execution_count": 5,
   "metadata": {},
   "outputs": [],
   "source": [
    "from . import relative\n",
    "if __name__ == '__main__':\n",
    "    %reload_ext testing"
   ]
  },
  {
   "cell_type": "code",
   "execution_count": 6,
   "metadata": {},
   "outputs": [
    {
     "data": {
      "text/plain": [
       "\">>> assert isinstance(relative, __import__('types').ModuleType)\""
      ]
     },
     "execution_count": 6,
     "metadata": {},
     "output_type": "execute_result"
    },
    {
     "name": "stderr",
     "output_type": "stream",
     "text": [
      "...\n",
      "----------------------------------------------------------------------\n",
      "Ran 3 tests in 0.005s\n",
      "\n",
      "OK\n"
     ]
    }
   ],
   "source": [
    "\"\"\">>> assert relative is relative.relative\"\"\"\n",
    "\"\"\">>> assert relative.__file__.endswith('.ipynb')\"\"\"\n",
    "\"\"\">>> assert isinstance(relative, __import__('types').ModuleType)\"\"\""
   ]
  },
  {
   "cell_type": "code",
   "execution_count": 7,
   "metadata": {},
   "outputs": [],
   "source": [
    "if __name__ == '__main__':\n",
    "    %unload_ext testing"
   ]
  }
 ],
 "metadata": {
  "kernelspec": {
   "display_name": "p6",
   "language": "python",
   "name": "other-env"
  },
  "language_info": {
   "codemirror_mode": {
    "name": "ipython",
    "version": 3
   },
   "file_extension": ".py",
   "mimetype": "text/x-python",
   "name": "python",
   "nbconvert_exporter": "python",
   "pygments_lexer": "ipython3",
   "version": "3.6.3"
  },
  "toc": {
   "colors": {
    "hover_highlight": "#DAA520",
    "running_highlight": "#FF0000",
    "selected_highlight": "#FFD700"
   },
   "moveMenuLeft": true,
   "nav_menu": {
    "height": "12px",
    "width": "252px"
   },
   "navigate_menu": true,
   "number_sections": true,
   "sideBar": true,
   "threshold": 4,
   "toc_cell": false,
   "toc_section_display": "block",
   "toc_window_display": false,
   "widenNotebook": false
  },
  "varInspector": {
   "cols": {
    "lenName": 16,
    "lenType": 16,
    "lenVar": 40
   },
   "kernels_config": {
    "python": {
     "delete_cmd_postfix": "",
     "delete_cmd_prefix": "del ",
     "library": "var_list.py",
     "varRefreshCmd": "print(var_dic_list())"
    },
    "r": {
     "delete_cmd_postfix": ") ",
     "delete_cmd_prefix": "rm(",
     "library": "var_list.r",
     "varRefreshCmd": "cat(var_dic_list()) "
    }
   },
   "types_to_exclude": [
    "module",
    "function",
    "builtin_function_or_method",
    "instance",
    "_Feature"
   ],
   "window_display": false
  }
 },
 "nbformat": 4,
 "nbformat_minor": 2
}
