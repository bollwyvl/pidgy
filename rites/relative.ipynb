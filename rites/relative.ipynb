{
 "cells": [
  {
   "cell_type": "markdown",
   "metadata": {},
   "source": [
    "# by *convention* __import__s should be the same"
   ]
  },
  {
   "cell_type": "code",
   "execution_count": 12,
   "metadata": {},
   "outputs": [],
   "source": [
    "    ...; o = __name__ == '__main__'; ...;"
   ]
  },
  {
   "cell_type": "markdown",
   "metadata": {},
   "source": [
    "Relative imports in the notebook are not allowed."
   ]
  },
  {
   "cell_type": "code",
   "execution_count": 2,
   "metadata": {},
   "outputs": [],
   "source": [
    "    if o:\n",
    "        try: from . import relative\n",
    "        except ImportError: assert True"
   ]
  },
  {
   "cell_type": "markdown",
   "metadata": {},
   "source": [
    "This means _when a notebook is used as source_, relative imports have an unexpected behavior.\n",
    "\n",
    "This notebook will `load_ipython_extension`s that allow relative imports by replacing them with the `blank` convention below ⬇️"
   ]
  },
  {
   "cell_type": "code",
   "execution_count": 3,
   "metadata": {},
   "outputs": [],
   "source": [
    "    blank = \"\"\"try: \n",
    "        from . import object\n",
    "    except: \n",
    "        import object\"\"\""
   ]
  },
  {
   "cell_type": "markdown",
   "metadata": {},
   "source": [
    "---\n",
    "#### parent __import__s\n",
    "\n",
    "> It is not possible to __import__ a notebook above the current directory so there no reason to implement higher-level __import__s."
   ]
  },
  {
   "cell_type": "code",
   "execution_count": 4,
   "metadata": {},
   "outputs": [],
   "source": [
    "    if o:\n",
    "        try: from .. import object\n",
    "        except ValueError as Exception: \n",
    "            assert Exception.args == ('attempted relative import beyond top-level package',)"
   ]
  },
  {
   "cell_type": "markdown",
   "metadata": {},
   "source": [
    "---\n",
    "\n",
    "## The `Relative` `ast.NodeTransformer`"
   ]
  },
  {
   "cell_type": "code",
   "execution_count": 5,
   "metadata": {},
   "outputs": [],
   "source": [
    "    from ast import parse, NodeTransformer, copy_location\n",
    "    class Relative(NodeTransformer):\n",
    "        \"\"\"Replace __import__ when {node.level is 1} with the `try` statement in {blank}.\"\"\"\n",
    "        blank = parse(blank).body[0]\n",
    "        def visit_ImportFrom(Relative, node):\n",
    "            if node.module : return node\n",
    "            if node.level is 1:\n",
    "                Relative.blank.body[0].names = \\\n",
    "                Relative.blank.handlers[0].body[0].names = node.names\n",
    "                return copy_location(Relative.blank, node)\n",
    "            return node"
   ]
  },
  {
   "cell_type": "markdown",
   "metadata": {},
   "source": [
    "## The Extensions\n",
    "\n",
    "    %unload rites.relative"
   ]
  },
  {
   "cell_type": "code",
   "execution_count": 6,
   "metadata": {},
   "outputs": [],
   "source": [
    "    def unload_ipython_extension(ip=get_ipython()): return [\n",
    "        object for object in ip.ast_transformers if not isinstance(object, Relative)]"
   ]
  },
  {
   "cell_type": "markdown",
   "metadata": {},
   "source": [
    "    %reload rites.relative"
   ]
  },
  {
   "cell_type": "code",
   "execution_count": 7,
   "metadata": {},
   "outputs": [],
   "source": [
    "    def load_ipython_extension(ip=get_ipython()): ip.ast_transformers = unload_ipython_extension(ip) +[Relative()]"
   ]
  },
  {
   "cell_type": "markdown",
   "metadata": {},
   "source": [
    "## Developer"
   ]
  },
  {
   "cell_type": "markdown",
   "metadata": {},
   "source": [
    "### Testing\n",
    "\n",
    "Test the `rites.relative` extension on itself; remove any python files for the test."
   ]
  },
  {
   "cell_type": "code",
   "execution_count": 8,
   "metadata": {},
   "outputs": [
    {
     "name": "stdout",
     "output_type": "stream",
     "text": [
      "rm: relative.py: No such file or directory\n"
     ]
    }
   ],
   "source": [
    "    if o:\n",
    "        %reload_ext rites\n",
    "        load_ipython_extension()\n",
    "        %rm relative.py"
   ]
  },
  {
   "cell_type": "code",
   "execution_count": 9,
   "metadata": {},
   "outputs": [],
   "source": [
    "    from . import relative\n",
    "    o and __import__('testing').load_ipython_extension()"
   ]
  },
  {
   "cell_type": "code",
   "execution_count": 10,
   "metadata": {},
   "outputs": [
    {
     "name": "stderr",
     "output_type": "stream",
     "text": [
      "...\n",
      "----------------------------------------------------------------------\n",
      "Ran 3 tests in 0.008s\n",
      "\n",
      "OK\n"
     ]
    }
   ],
   "source": [
    "    \"\"\">>> assert relative is relative.relative\"\"\"\n",
    "    \"\"\">>> assert relative.__file__.endswith('.ipynb')\"\"\"\n",
    "    \"\"\">>> assert isinstance(relative, __import__('types').ModuleType)\"\"\";"
   ]
  },
  {
   "cell_type": "markdown",
   "metadata": {},
   "source": [
    "### Tear Down\n",
    "\n",
    "> Export the `relative.ipynb` as a python script because it does not rely on anything from `rites`."
   ]
  },
  {
   "cell_type": "code",
   "execution_count": 11,
   "metadata": {},
   "outputs": [
    {
     "name": "stdout",
     "output_type": "stream",
     "text": [
      "[NbConvertApp] Converting notebook relative.ipynb to python\n",
      "[NbConvertApp] Writing 2671 bytes to relative.py\n"
     ]
    }
   ],
   "source": [
    "    if o:\n",
    "        __import__('testing').unload_ipython_extension()\n",
    "        !jupyter nbconvert --to python relative.ipynb"
   ]
  }
 ],
 "metadata": {
  "kernelspec": {
   "display_name": "p6",
   "language": "python",
   "name": "other-env"
  },
  "language_info": {
   "codemirror_mode": {
    "name": "ipython",
    "version": 3
   },
   "file_extension": ".py",
   "mimetype": "text/x-python",
   "name": "python",
   "nbconvert_exporter": "python",
   "pygments_lexer": "ipython3",
   "version": "3.6.3"
  },
  "toc": {
   "colors": {
    "hover_highlight": "#DAA520",
    "running_highlight": "#FF0000",
    "selected_highlight": "#FFD700"
   },
   "moveMenuLeft": true,
   "nav_menu": {
    "height": "12px",
    "width": "252px"
   },
   "navigate_menu": true,
   "number_sections": true,
   "sideBar": true,
   "threshold": 4,
   "toc_cell": false,
   "toc_section_display": "block",
   "toc_window_display": false,
   "widenNotebook": false
  },
  "varInspector": {
   "cols": {
    "lenName": 16,
    "lenType": 16,
    "lenVar": 40
   },
   "kernels_config": {
    "python": {
     "delete_cmd_postfix": "",
     "delete_cmd_prefix": "del ",
     "library": "var_list.py",
     "varRefreshCmd": "print(var_dic_list())"
    },
    "r": {
     "delete_cmd_postfix": ") ",
     "delete_cmd_prefix": "rm(",
     "library": "var_list.r",
     "varRefreshCmd": "cat(var_dic_list()) "
    }
   },
   "types_to_exclude": [
    "module",
    "function",
    "builtin_function_or_method",
    "instance",
    "_Feature"
   ],
   "window_display": false
  }
 },
 "nbformat": 4,
 "nbformat_minor": 2
}
