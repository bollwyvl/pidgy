{
 "cells": [
  {
   "cell_type": "markdown",
   "metadata": {},
   "source": [
    "# by *convention* __import__s should be the same"
   ]
  },
  {
   "cell_type": "code",
   "execution_count": 1,
   "metadata": {},
   "outputs": [],
   "source": [
    "    ...; o = __name__ == '__main__'; ...;"
   ]
  },
  {
   "cell_type": "markdown",
   "metadata": {},
   "source": [
    "Relative imports in the notebook are not allowed."
   ]
  },
  {
   "cell_type": "code",
   "execution_count": 2,
   "metadata": {},
   "outputs": [],
   "source": [
    "    if o:\n",
    "        try: from . import relative\n",
    "        except ImportError: assert True"
   ]
  },
  {
   "cell_type": "markdown",
   "metadata": {},
   "source": [
    "This means _when a notebook is used as source_, relative imports have an unexpected behavior.\n",
    "\n",
    "This notebook will `load_ipython_extension`s that allow relative imports by replacing them with the `blank` convention below ⬇️"
   ]
  },
  {
   "cell_type": "code",
   "execution_count": 3,
   "metadata": {},
   "outputs": [],
   "source": [
    "    blank = \"\"\"try: \n",
    "        from . import object\n",
    "    except: \n",
    "        import object\"\"\""
   ]
  },
  {
   "cell_type": "markdown",
   "metadata": {},
   "source": [
    "---\n",
    "#### parent __import__s\n",
    "\n",
    "> It is not possible to __import__ a notebook above the current directory so there no reason to implement higher-level __import__s."
   ]
  },
  {
   "cell_type": "code",
   "execution_count": 14,
   "metadata": {},
   "outputs": [],
   "source": [
    "    if o:\n",
    "        try: from .. import object\n",
    "        except ValueError as Exception: assert Exception.args == (\n",
    "            'attempted relative import beyond top-level package',)"
   ]
  },
  {
   "cell_type": "markdown",
   "metadata": {},
   "source": [
    "---\n",
    "\n",
    "## The `Relative` `ast.NodeTransformer`"
   ]
  },
  {
   "cell_type": "code",
   "execution_count": 5,
   "metadata": {},
   "outputs": [],
   "source": [
    "    from ast import parse, NodeTransformer, copy_location\n",
    "    class Relative(NodeTransformer):\n",
    "        \"\"\"Replace __import__ when {node.level is 1} with the `try` statement in {blank}.\"\"\"\n",
    "        blank = parse(blank).body[0]\n",
    "        def visit_ImportFrom(Relative, node):\n",
    "            if node.module : return node\n",
    "            if node.level is 1:\n",
    "                Relative.blank.body[0].names = \\\n",
    "                Relative.blank.handlers[0].body[0].names = node.names\n",
    "                return copy_location(Relative.blank, node)\n",
    "            return node"
   ]
  },
  {
   "cell_type": "markdown",
   "metadata": {},
   "source": [
    "## The Extensions\n",
    "\n",
    "    %unload rites.relative"
   ]
  },
  {
   "cell_type": "code",
   "execution_count": 6,
   "metadata": {},
   "outputs": [],
   "source": [
    "    def unload_ipython_extension(ip=get_ipython()): return [\n",
    "        object for object in ip.ast_transformers if not isinstance(object, Relative)]"
   ]
  },
  {
   "cell_type": "markdown",
   "metadata": {},
   "source": [
    "    %reload rites.relative"
   ]
  },
  {
   "cell_type": "code",
   "execution_count": 7,
   "metadata": {},
   "outputs": [],
   "source": [
    "    def load_ipython_extension(ip=get_ipython()): ip.ast_transformers = unload_ipython_extension(ip) +[Relative()]"
   ]
  },
  {
   "cell_type": "markdown",
   "metadata": {},
   "source": [
    "## Developer"
   ]
  },
  {
   "cell_type": "markdown",
   "metadata": {},
   "source": [
    "### Testing\n",
    "\n",
    "Test the `rites.relative` extension on itself; remove any python files for the test."
   ]
  },
  {
   "cell_type": "code",
   "execution_count": 8,
   "metadata": {},
   "outputs": [
    {
     "name": "stdout",
     "output_type": "stream",
     "text": [
      "rm: relative.py: No such file or directory\n"
     ]
    }
   ],
   "source": [
    "    if o:\n",
    "        %reload_ext rites\n",
    "        load_ipython_extension()\n",
    "        %rm relative.py"
   ]
  },
  {
   "cell_type": "code",
   "execution_count": 12,
   "metadata": {},
   "outputs": [],
   "source": [
    "    from . import relative\n",
    "\n",
    "    __test__ = dict(\n",
    "        imports=\"\"\">>> assert relative is relative.relative\"\"\",\n",
    "        file=\"\"\">>> assert relative.__file__.endswith('.ipynb')\"\"\",\n",
    "        type=\"\"\">>> assert isinstance(relative, __import__('types').ModuleType)\"\"\")"
   ]
  },
  {
   "cell_type": "markdown",
   "metadata": {},
   "source": [
    "### Tear Down\n",
    "\n",
    "> Export the `relative.ipynb` as a python script because it does not rely on anything from `rites`."
   ]
  },
  {
   "cell_type": "code",
   "execution_count": 13,
   "metadata": {},
   "outputs": [
    {
     "name": "stdout",
     "output_type": "stream",
     "text": [
      "Trying:\n",
      "    assert relative.__file__.endswith('.ipynb')\n",
      "Expecting nothing\n",
      "ok\n",
      "Trying:\n",
      "    assert relative is relative.relative\n",
      "Expecting nothing\n",
      "ok\n",
      "Trying:\n",
      "    assert isinstance(relative, __import__('types').ModuleType)\n",
      "Expecting nothing\n",
      "ok\n",
      "5 items had no tests:\n",
      "    __main__\n",
      "    __main__.Relative\n",
      "    __main__.Relative.visit_ImportFrom\n",
      "    __main__.load_ipython_extension\n",
      "    __main__.unload_ipython_extension\n",
      "3 items passed all tests:\n",
      "   1 tests in __main__.__test__.file\n",
      "   1 tests in __main__.__test__.imports\n",
      "   1 tests in __main__.__test__.type\n",
      "3 tests in 8 items.\n",
      "3 passed and 0 failed.\n",
      "Test passed.\n",
      "[NbConvertApp] Converting notebook relative.ipynb to python\n",
      "[NbConvertApp] Writing 2642 bytes to relative.py\n"
     ]
    }
   ],
   "source": [
    "    if o:\n",
    "        __import__('doctest').testmod(verbose=2)\n",
    "        !jupyter nbconvert --to python relative.ipynb"
   ]
  },
  {
   "cell_type": "code",
   "execution_count": null,
   "metadata": {},
   "outputs": [],
   "source": []
  }
 ],
 "metadata": {
  "kernelspec": {
   "display_name": "p6",
   "language": "python",
   "name": "other-env"
  },
  "language_info": {
   "codemirror_mode": {
    "name": "ipython",
    "version": 3
   },
   "file_extension": ".py",
   "mimetype": "text/x-python",
   "name": "python",
   "nbconvert_exporter": "python",
   "pygments_lexer": "ipython3",
   "version": "3.6.3"
  },
  "toc": {
   "colors": {
    "hover_highlight": "#DAA520",
    "running_highlight": "#FF0000",
    "selected_highlight": "#FFD700"
   },
   "moveMenuLeft": true,
   "nav_menu": {
    "height": "12px",
    "width": "252px"
   },
   "navigate_menu": true,
   "number_sections": true,
   "sideBar": true,
   "threshold": 4,
   "toc_cell": false,
   "toc_section_display": "block",
   "toc_window_display": false,
   "widenNotebook": false
  },
  "varInspector": {
   "cols": {
    "lenName": 16,
    "lenType": 16,
    "lenVar": 40
   },
   "kernels_config": {
    "python": {
     "delete_cmd_postfix": "",
     "delete_cmd_prefix": "del ",
     "library": "var_list.py",
     "varRefreshCmd": "print(var_dic_list())"
    },
    "r": {
     "delete_cmd_postfix": ") ",
     "delete_cmd_prefix": "rm(",
     "library": "var_list.r",
     "varRefreshCmd": "cat(var_dic_list()) "
    }
   },
   "types_to_exclude": [
    "module",
    "function",
    "builtin_function_or_method",
    "instance",
    "_Feature"
   ],
   "window_display": false
  }
 },
 "nbformat": 4,
 "nbformat_minor": 2
}
