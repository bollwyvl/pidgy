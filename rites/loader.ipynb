{
 "cells": [
  {
   "cell_type": "markdown",
   "metadata": {},
   "source": [
    "# by *convention* Notebooks __import__\n",
    "\n",
    "__rites.rites__ makes all notebooks __import__able as Python source."
   ]
  },
  {
   "cell_type": "code",
   "execution_count": 3,
   "metadata": {},
   "outputs": [],
   "source": [
    "    try:\n",
    "        from .compiler import Compile\n",
    "    except:\n",
    "        from compiler import Compile"
   ]
  },
  {
   "cell_type": "markdown",
   "metadata": {},
   "source": [
    "# The [Import Loader](https://docs.python.org/3/reference/import.html#loaders)\n",
    "\n",
    "`rites` uses as much of the Python import system as it can."
   ]
  },
  {
   "cell_type": "code",
   "execution_count": 12,
   "metadata": {},
   "outputs": [],
   "source": [
    "    from importlib.machinery import SourceFileLoader\n",
    "    class NotebookLoader(SourceFileLoader):\n",
    "        \"\"\"A SourceFileLoader for notebooks that provides line number debugginer in the JSON source.\"\"\"\n",
    "        EXTENSION_SUFFIXES = '.ipynb',\n",
    "        def exec_module(Loader, module): return super().exec_module(module)\n",
    "        def source_to_code(Loader, data, path):\n",
    "            with __import__('io').BytesIO(data) as stream:\n",
    "                return Compile().from_file(stream, filename=Loader.path, name=Loader.name)"
   ]
  },
  {
   "cell_type": "markdown",
   "metadata": {},
   "source": [
    "## Partial Loading\n",
    "\n",
    "A notebook may be a complete, or yet to be complete concept.  Unlike normal source code, notebooks are comprised of cells or miniature programs that may interact with other cells.  It is plausible that some code may evaluate before other code fails.  `rites` allows notebooks to partially evaluate.  Each module contains `module.__complete__` to identify the loading\n",
    "state of the notebook."
   ]
  },
  {
   "cell_type": "code",
   "execution_count": 13,
   "metadata": {},
   "outputs": [],
   "source": [
    "    class Partial(NotebookLoader):    \n",
    "        \"\"\"A SourceFileLoader that will not raise an ImportError because it catches output and error.\n",
    "        \"\"\"\n",
    "        def exec_module(Module, module):\n",
    "            from IPython.utils.capture import capture_output\n",
    "            with capture_output(stdout=False, stderr=False) as output:\n",
    "                super(type(Module), Module).exec_module(module)\n",
    "                try: module.__complete__ = True\n",
    "                except BaseException as Exception: module.__complete__ = Exception\n",
    "                finally: module.__output__ = output\n",
    "            return module"
   ]
  },
  {
   "cell_type": "markdown",
   "metadata": {},
   "source": [
    "## Path Hook\n",
    "\n",
    "Create a [path_hook](https://docs.python.org/3/reference/import.html#import-hooks) rather than a `meta_path` so any module containing notebooks is accessible."
   ]
  },
  {
   "cell_type": "code",
   "execution_count": 14,
   "metadata": {},
   "outputs": [],
   "source": [
    "    import sys"
   ]
  },
  {
   "cell_type": "code",
   "execution_count": 15,
   "metadata": {},
   "outputs": [],
   "source": [
    "    _NATIVE_HOOK = sys.path_hooks\n",
    "    def update_hooks(loader=None):\n",
    "        \"\"\"Update the sys.meta_paths with the PartialLoader.\n",
    "        \n",
    "        \"\"\"\n",
    "        global _NATIVE_HOOK\n",
    "        from importlib.machinery import FileFinder\n",
    "        if loader:\n",
    "            for i, hook in enumerate(sys.path_hooks):\n",
    "                closure = getattr(hook, '__closure__', None)\n",
    "                if closure and closure[0].cell_contents is FileFinder:\n",
    "                    sys.path_hooks[i] = FileFinder.path_hook(\n",
    "                        (loader, list(loader.EXTENSION_SUFFIXES)), *closure[1].cell_contents)\n",
    "        else: sys.path_hooks = _NATIVE_HOOK\n",
    "        sys.path_importer_cache.clear()"
   ]
  },
  {
   "cell_type": "markdown",
   "metadata": {},
   "source": [
    "# IPython Extensions"
   ]
  },
  {
   "cell_type": "code",
   "execution_count": 16,
   "metadata": {},
   "outputs": [],
   "source": [
    "    def load_ipython_extension(ip=None): update_hooks(Partial)\n",
    "    def unload_ipython_extension(ip=None): update_hooks()"
   ]
  },
  {
   "cell_type": "markdown",
   "metadata": {},
   "source": [
    "### Force the docstring for rites itself."
   ]
  },
  {
   "cell_type": "code",
   "execution_count": 25,
   "metadata": {},
   "outputs": [],
   "source": [
    "    class Test(__import__('unittest').TestCase): \n",
    "        def setUp(Test):\n",
    "            from nbformat import write, v4\n",
    "            load_ipython_extension()\n",
    "            with open('test_loader.ipynb', 'w') as file:\n",
    "                write(v4.new_notebook(cells=[\n",
    "                    v4.new_code_cell(\"test = 42\")\n",
    "                ]), file)\n",
    "                \n",
    "        def runTest(Test):\n",
    "            import test_rites\n",
    "            assert test_rites.__file__.endswith('.ipynb')\n",
    "            assert test_rites.test is 42\n",
    "            assert isinstance(test_rites, __import__('types').ModuleType)\n",
    "            \n",
    "        def tearDown(Test):\n",
    "            %rm test_loader.ipynb\n",
    "            unload_ipython_extension()"
   ]
  },
  {
   "cell_type": "markdown",
   "metadata": {},
   "source": [
    "# Developer"
   ]
  },
  {
   "cell_type": "code",
   "execution_count": 26,
   "metadata": {
    "scrolled": false
   },
   "outputs": [
    {
     "name": "stdout",
     "output_type": "stream",
     "text": [
      "16 items had no tests:\n",
      "    __main__\n",
      "    __main__.NotebookLoader\n",
      "    __main__.NotebookLoader.exec_module\n",
      "    __main__.NotebookLoader.source_to_code\n",
      "    __main__.Partial\n",
      "    __main__.Partial.exec_module\n",
      "    __main__.Test\n",
      "    __main__.Test.runTest\n",
      "    __main__.Test.setUp\n",
      "    __main__.Test.tearDown\n",
      "    __main__.docify\n",
      "    __main__.load_ipython_extension\n",
      "    __main__.md\n",
      "    __main__.md._repr_markdown_\n",
      "    __main__.unload_ipython_extension\n",
      "    __main__.update_hooks\n",
      "0 tests in 16 items.\n",
      "0 passed and 0 failed.\n",
      "Test passed.\n"
     ]
    },
    {
     "name": "stderr",
     "output_type": "stream",
     "text": [
      ".\n",
      "----------------------------------------------------------------------\n",
      "Ran 1 test in 0.122s\n",
      "\n",
      "OK\n"
     ]
    },
    {
     "name": "stdout",
     "output_type": "stream",
     "text": [
      "[NbConvertApp] Converting notebook loader.ipynb to script\n",
      "[NbConvertApp] Writing 3786 bytes to loader.py\n"
     ]
    }
   ],
   "source": [
    "    if __name__ ==  '__main__':\n",
    "        __import__('doctest').testmod(verbose=2)\n",
    "        __import__('unittest').TextTestRunner().run(Test())\n",
    "        !jupyter nbconvert --to script loader.ipynb"
   ]
  },
  {
   "cell_type": "code",
   "execution_count": null,
   "metadata": {},
   "outputs": [],
   "source": []
  },
  {
   "cell_type": "code",
   "execution_count": null,
   "metadata": {},
   "outputs": [],
   "source": []
  }
 ],
 "metadata": {
  "kernelspec": {
   "display_name": "p6",
   "language": "python",
   "name": "other-env"
  },
  "language_info": {
   "codemirror_mode": {
    "name": "ipython",
    "version": 3
   },
   "file_extension": ".py",
   "mimetype": "text/x-python",
   "name": "python",
   "nbconvert_exporter": "python",
   "pygments_lexer": "ipython3",
   "version": "3.6.3"
  },
  "toc": {
   "colors": {
    "hover_highlight": "#DAA520",
    "running_highlight": "#FF0000",
    "selected_highlight": "#FFD700"
   },
   "moveMenuLeft": true,
   "nav_menu": {
    "height": "29px",
    "width": "252px"
   },
   "navigate_menu": true,
   "number_sections": true,
   "sideBar": true,
   "threshold": 4,
   "toc_cell": false,
   "toc_section_display": "block",
   "toc_window_display": false,
   "widenNotebook": false
  },
  "varInspector": {
   "cols": {
    "lenName": 16,
    "lenType": 16,
    "lenVar": 40
   },
   "kernels_config": {
    "python": {
     "delete_cmd_postfix": "",
     "delete_cmd_prefix": "del ",
     "library": "var_list.py",
     "varRefreshCmd": "print(var_dic_list())"
    },
    "r": {
     "delete_cmd_postfix": ") ",
     "delete_cmd_prefix": "rm(",
     "library": "var_list.r",
     "varRefreshCmd": "cat(var_dic_list()) "
    }
   },
   "types_to_exclude": [
    "module",
    "function",
    "builtin_function_or_method",
    "instance",
    "_Feature"
   ],
   "window_display": false
  }
 },
 "nbformat": 4,
 "nbformat_minor": 2
}
