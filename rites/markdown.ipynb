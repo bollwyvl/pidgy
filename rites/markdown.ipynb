{
 "cells": [
  {
   "cell_type": "code",
   "execution_count": 2,
   "metadata": {},
   "outputs": [],
   "source": [
    "    # %reload_ext XXX.mumble\n",
    "    import CommonMark\n",
    "    from IPython import get_ipython\n",
    "    from IPython.core.inputsplitter import IPythonInputSplitter\n",
    "    from IPython.core.compilerop import CachingCompiler\n",
    "    from dataclasses import dataclass, field\n",
    "    from textwrap import indent, dedent"
   ]
  },
  {
   "cell_type": "code",
   "execution_count": 3,
   "metadata": {},
   "outputs": [],
   "source": [
    "    def identity(object=None, *_, **__): return object"
   ]
  },
  {
   "cell_type": "code",
   "execution_count": 4,
   "metadata": {},
   "outputs": [],
   "source": [
    "    def codify(ast, *, eval = \"\"\"\"\"\", parser=__import__('CommonMark').Parser(), transform=dedent) -> str:\n",
    "        \"\"\"Convert markdown to code with the correct line numbers and positions in a string.\n",
    "\n",
    "        This function replaces non-code_block nodes with blanklines.\n",
    "\n",
    "        >>> code = codify('''# Markdown\\\\n\\\\tprint(10)''')\n",
    "        \n",
    "        The {code} is valid\n",
    "        >>> assert compile(code, '<test>', 'exec')\n",
    "        \"\"\"\n",
    "        if isinstance(ast, str): ast = parser.parse(ast)\n",
    "        for node, _ in ast.walker():\n",
    "            if node.t == 'code_block':\n",
    "                line, col = node.sourcepos[0]\n",
    "                end = line + len(node.literal.splitlines())\n",
    "                lines = node.literal.splitlines()\n",
    "                while len(eval.splitlines()) < (line-1):\n",
    "                    if not eval and eval is not 0:\n",
    "                        eval += (' '*col)+'#'\n",
    "                    eval += '\\n'\n",
    "                eval += indent(node.literal, ' '*col)\n",
    "        return dedent(transform(eval))"
   ]
  },
  {
   "cell_type": "code",
   "execution_count": 5,
   "metadata": {},
   "outputs": [],
   "source": [
    "    class Display(CommonMark.Parser):\n",
    "        def parse(self, source):\n",
    "            if source and source.splitlines()[0].strip():\n",
    "                from IPython.display import display, Markdown\n",
    "                display(Markdown(source))\n",
    "            return super().parse(source)"
   ]
  },
  {
   "cell_type": "code",
   "execution_count": 6,
   "metadata": {},
   "outputs": [],
   "source": [
    "        class Markdown(CachingCompiler): \n",
    "            input_transformer_manager = None\n",
    "            def __init__(self, parser=None):\n",
    "                super().__init__()\n",
    "                self.parser = parser or Display()\n",
    "                self.load()\n",
    "                    \n",
    "            def load(self):\n",
    "                if self.input_transformer_manager is not None: self.unload()\n",
    "                self.input_transformer_manager = get_ipython().input_transformer_manager\n",
    "                get_ipython().input_transformer_manager = IPythonInputSplitter(\n",
    "                    logical_line_transforms=[], physical_line_transforms=[], python_line_transforms=[])\n",
    "                return self\n",
    "\n",
    "            def unload(self): \n",
    "                get_ipython().input_transformer_manager = self.input_transformer_manager\n",
    "                self.input_transformer_manager = None\n",
    "\n",
    "            def __post_init__(Markdown): CachingCompiler.__init__(Markdown)\n",
    "\n",
    "            def ast_parse(self, data, filename='<unknown>', symbol='exec'): \n",
    "                code = codify(data, parser=self.parser, transform=self.transform)\n",
    "                return super().ast_parse(code, filename=filename, symbol=symbol)\n",
    "\n",
    "            @property\n",
    "            def transform(self): return (\n",
    "                self.input_transformer_manager and self.input_transformer_manager.transform_cell or identity)"
   ]
  },
  {
   "cell_type": "code",
   "execution_count": 7,
   "metadata": {},
   "outputs": [],
   "source": [
    "    def load_ipython_extension(ip=get_ipython()): \n",
    "        ip.compile = Markdown().load()\n",
    "\n",
    "        \n",
    "    def unload_ipython_extension(ip=get_ipython()): \n",
    "        ip.compile = getattr(ip.compile, 'unload', identity)() or CachingCompiler()\n",
    "        "
   ]
  },
  {
   "cell_type": "code",
   "execution_count": 8,
   "metadata": {},
   "outputs": [],
   "source": [
    "    if __name__ == '__main__': \n",
    "        __import__('doctest').testmod()\n",
    "        load_ipython_extension()"
   ]
  },
  {
   "cell_type": "code",
   "execution_count": null,
   "metadata": {},
   "outputs": [],
   "source": [
    "    "
   ]
  },
  {
   "cell_type": "code",
   "execution_count": null,
   "metadata": {},
   "outputs": [],
   "source": []
  }
 ],
 "metadata": {
  "kernelspec": {
   "display_name": "p6",
   "language": "python",
   "name": "other-env"
  },
  "language_info": {
   "codemirror_mode": {
    "name": "ipython",
    "version": 3
   },
   "file_extension": ".py",
   "mimetype": "text/x-python",
   "name": "python",
   "nbconvert_exporter": "python",
   "pygments_lexer": "ipython3",
   "version": "3.6.3"
  },
  "toc": {
   "colors": {
    "hover_highlight": "#DAA520",
    "running_highlight": "#FF0000",
    "selected_highlight": "#FFD700"
   },
   "moveMenuLeft": true,
   "nav_menu": {
    "height": "29px",
    "width": "252px"
   },
   "navigate_menu": true,
   "number_sections": true,
   "sideBar": true,
   "threshold": 4,
   "toc_cell": false,
   "toc_section_display": "block",
   "toc_window_display": false,
   "widenNotebook": false
  },
  "varInspector": {
   "cols": {
    "lenName": 16,
    "lenType": 16,
    "lenVar": 40
   },
   "kernels_config": {
    "python": {
     "delete_cmd_postfix": "",
     "delete_cmd_prefix": "del ",
     "library": "var_list.py",
     "varRefreshCmd": "print(var_dic_list())"
    },
    "r": {
     "delete_cmd_postfix": ") ",
     "delete_cmd_prefix": "rm(",
     "library": "var_list.r",
     "varRefreshCmd": "cat(var_dic_list()) "
    }
   },
   "types_to_exclude": [
    "module",
    "function",
    "builtin_function_or_method",
    "instance",
    "_Feature"
   ],
   "window_display": false
  }
 },
 "nbformat": 4,
 "nbformat_minor": 2
}
