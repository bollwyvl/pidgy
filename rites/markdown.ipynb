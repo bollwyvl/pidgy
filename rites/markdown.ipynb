{
 "cells": [
  {
   "cell_type": "code",
   "execution_count": null,
   "metadata": {},
   "outputs": [],
   "source": [
    "    from collections import UserList\n",
    "    from IPython import get_ipython\n",
    "    from IPython.core.interactiveshell import InteractiveShell\n",
    "    import CommonMark\n",
    "    from IPython.core.inputsplitter import IPythonInputSplitter\n",
    "    from IPython.core.inputtransformer import InputTransformer\n",
    "    from textwrap import indent"
   ]
  },
  {
   "cell_type": "code",
   "execution_count": null,
   "metadata": {},
   "outputs": [],
   "source": [
    "    def codify(source, parser=CommonMark.Parser, str=\"\"\"\"\"\") -> str:\n",
    "        \"\"\"Convert markdown to code with the correct line numbers and positions in a string.\n",
    "\n",
    "        This function replaces non-code_block nodes with blanklines.\"\"\"\n",
    "        for node, _ in parser().parse(source).walker():\n",
    "            if node.t == 'code_block':\n",
    "                line, col = node.sourcepos[0]\n",
    "                end = line + len(node.literal.splitlines())\n",
    "                lines = node.literal.splitlines()\n",
    "                while len(str.splitlines()) < (line-1):\n",
    "                    if not str and str is not 0:\n",
    "                        str += (' '*col)+'#'\n",
    "                    str += '\\n'\n",
    "                str += indent(node.literal, ' '*col)\n",
    "        return str"
   ]
  },
  {
   "cell_type": "code",
   "execution_count": 7,
   "metadata": {},
   "outputs": [],
   "source": [
    "    class Markdown(UserList, InputTransformer):\n",
    "        def push(self, object): \n",
    "            return self.append(object)\n",
    "        def load(self):\n",
    "            ip = get_ipython() or InteractiveShell()\n",
    "            if ip.input_transformer_manager.physical_line_transforms:\n",
    "                self.input_transformer_manager = ip.input_transformer_manager\n",
    "                ip.input_transformer_manager = IPythonInputSplitter(\n",
    "                    logical_line_transforms=[], physical_line_transforms=[], python_line_transforms=[])\n",
    "            else:\n",
    "                self.input_transformer_manager = IPythonInputSplitter()\n",
    "            ip.input_transformer_manager.python_line_transforms = [\n",
    "                object for object in ip.input_transformer_manager.python_line_transforms\n",
    "                if not isinstance(object, Markdown)\n",
    "            ] + [self]\n",
    "            return self\n",
    "\n",
    "        def reset(self):\n",
    "            str, self.data = '\\n'.join(self), []\n",
    "            if str and str.splitlines()[0].strip():\n",
    "                from IPython.display import display, Markdown\n",
    "                display(Markdown(str))\n",
    "            return self.input_transformer_manager.transform_cell(codify(str))"
   ]
  },
  {
   "cell_type": "code",
   "execution_count": 8,
   "metadata": {},
   "outputs": [],
   "source": [
    "    from nbconvert.preprocessors import Preprocessor\n",
    "    class Normalize(Preprocessor):\n",
    "        def preprocess_cell(Normalize, cell, resources={}, index=0):\n",
    "            if cell['cell_type'] == 'code':\n",
    "                cell.source = Markdown(cell['source']).reset()\n",
    "            return cell, resources"
   ]
  },
  {
   "cell_type": "code",
   "execution_count": 9,
   "metadata": {},
   "outputs": [],
   "source": [
    "    def load_ipython_extension(ip=get_ipython()): Markdown().load()\n",
    "    def unload_ipython_extension(ip=get_ipython()):\n",
    "        for object in ip.input_transformer_manager.python_line_transforms:\n",
    "            if isinstance(object, Markdown):\n",
    "                ip.input_transformer_manager = object.input_transformer_manager"
   ]
  },
  {
   "cell_type": "code",
   "execution_count": 10,
   "metadata": {},
   "outputs": [
    {
     "name": "stdout",
     "output_type": "stream",
     "text": [
      "The rites extension is already loaded. To reload it, use:\n",
      "  %reload_ext rites\n"
     ]
    }
   ],
   "source": [
    "    if __name__ == '__main__': \n",
    "        __import__('doctest').testmod()\n",
    "        %load_ext rites\n",
    "        load_ipython_extension()\n",
    "        "
   ]
  }
 ],
 "metadata": {
  "kernelspec": {
   "display_name": "p6",
   "language": "python",
   "name": "other-env"
  },
  "language_info": {
   "codemirror_mode": {
    "name": "ipython",
    "version": 3
   },
   "file_extension": ".py",
   "mimetype": "text/x-python",
   "name": "python",
   "nbconvert_exporter": "python",
   "pygments_lexer": "ipython3",
   "version": "3.6.3"
  },
  "toc": {
   "colors": {
    "hover_highlight": "#DAA520",
    "running_highlight": "#FF0000",
    "selected_highlight": "#FFD700"
   },
   "moveMenuLeft": true,
   "nav_menu": {
    "height": "29px",
    "width": "252px"
   },
   "navigate_menu": true,
   "number_sections": true,
   "sideBar": true,
   "threshold": 4,
   "toc_cell": false,
   "toc_section_display": "block",
   "toc_window_display": false,
   "widenNotebook": false
  },
  "varInspector": {
   "cols": {
    "lenName": 16,
    "lenType": 16,
    "lenVar": 40
   },
   "kernels_config": {
    "python": {
     "delete_cmd_postfix": "",
     "delete_cmd_prefix": "del ",
     "library": "var_list.py",
     "varRefreshCmd": "print(var_dic_list())"
    },
    "r": {
     "delete_cmd_postfix": ") ",
     "delete_cmd_prefix": "rm(",
     "library": "var_list.r",
     "varRefreshCmd": "cat(var_dic_list()) "
    }
   },
   "types_to_exclude": [
    "module",
    "function",
    "builtin_function_or_method",
    "instance",
    "_Feature"
   ],
   "window_display": false
  }
 },
 "nbformat": 4,
 "nbformat_minor": 2
}
