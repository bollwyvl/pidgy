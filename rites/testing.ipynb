{
 "cells": [
  {
   "cell_type": "markdown",
   "metadata": {},
   "source": [
    "`otto` automatically tests functions and classes.  Defining classes should do more than change the namespace.\n",
    "\n",
    "    %reload_ext XXX.otto\n",
    "    \n",
    "to install automatic testing."
   ]
  },
  {
   "cell_type": "code",
   "execution_count": 9,
   "metadata": {},
   "outputs": [],
   "source": [
    "    from unittest import *\n",
    "    from doctest import *\n",
    "    from ast import *\n",
    "    from functools import wraps, partial\n",
    "    from typing import Callable\n",
    "    from dataclasses import dataclass, field\n",
    "    from collections import Iterable\n",
    "    from inspect import *\n",
    "    from hypothesis import given, strategies, strategies as st, assume, HealthCheck, Verbosity, settings, find\n",
    "    from behave import runner, configuration, parser\n",
    "    from behave.runner import Context, ModelRunner\n",
    "    __all__ = 'infer', 'INFER'\n",
    "    \n",
    "    INFER = True\n",
    "    CURRENT = None\n",
    "    def infer(object):\n",
    "        spec = getfullargspec(object)\n",
    "        annotations = {}#{'return': None}\n",
    "        if not spec.args: return FunctionTestCase(object)\n",
    "        annotations.update(spec.annotations) \n",
    "        \n",
    "        main = __import__('__main__')\n",
    "        for arg in spec.args:\n",
    "            try:\n",
    "                thing = eval(arg, vars(main))\n",
    "            except NameError: continue\n",
    "            if isinstance(thing, (type, Iterable)):\n",
    "                annotations[arg] = thing\n",
    "                \n",
    "        if not spec.defaults:\n",
    "            annotations = {\n",
    "                str: st.from_type(object) if isinstance(object, type) and getattr(object, '__name__', '') != 'object'\n",
    "                else object if isinstance(object, st.SearchStrategy)\n",
    "                else st.one_of(list(map(st.just, object)))\n",
    "                for str, object in annotations.items()\n",
    "            }\n",
    "#             del annotations['return']\n",
    "            if annotations:\n",
    "                return FunctionTestCase(given(**annotations)(object))\n"
   ]
  },
  {
   "cell_type": "markdown",
   "metadata": {},
   "source": [
    "Allow iterable strategies, ghetto typed st"
   ]
  },
  {
   "cell_type": "code",
   "execution_count": 17,
   "metadata": {},
   "outputs": [],
   "source": [
    "    @dataclass\n",
    "    class Testing(object):\n",
    "        shell: 'ip' = field(default_factory=get_ipython)\n",
    "        tests = list()\n",
    "            \n",
    "        def post_run_cell(Testing):\n",
    "            from types import ModuleType\n",
    "            global INFER\n",
    "            module, main = ModuleType('__main__'), __import__('__main__')\n",
    "            tests = list()\n",
    "            module.__test__ = getattr(main, '__test__', {})\n",
    "            while Testing.tests:\n",
    "                object = Testing.tests.pop(0)\n",
    "                current = str(len(module.__test__))\n",
    "                if isinstance(object, Str) and '>>> ' in object.s:\n",
    "                    module.__test__[current] = object.s\n",
    "                if isinstance(object, Str) and object.s.lstrip().startswith('Feature:'):\n",
    "                    from behave import configuration, parser\n",
    "                    from behave.runner import ModelRunner\n",
    "                    tests.append(FunctionTestCase(ModelRunner(\n",
    "                        config=configuration.Configuration(tuple()), \n",
    "                        features=[parser.parse_feature(object.s)]\n",
    "                    ).run))\n",
    "                if isinstance(object, ClassDef):    \n",
    "                    object = getattr(main, object.name, None)\n",
    "                    if issubclass(object, TestCase):\n",
    "                        tests.append(object())\n",
    "                    elif hasattr(object, 'runTest'):\n",
    "                        def runTest(): return object.runTest(object)\n",
    "                        tests.append(FunctionTestCase(wraps(object.runTest)(runTest)))\n",
    "                if isinstance(object, FunctionDef):\n",
    "                    object = getattr(main, object.name, None)\n",
    "                    if not isinstance(object, partial):\n",
    "                        try:\n",
    "                            if INFER:\n",
    "                                _test = infer(object)\n",
    "                                _test and tests.append(_test)\n",
    "                        except: ...\n",
    "                        if getattr(object, '__doc__', ''):\n",
    "                            module.__test__[object.__name__] = object\n",
    "            if tests or module.__test__:\n",
    "                tests.append(DocTestSuite(module, vars(main)))\n",
    "                suite = TestSuite(tests)\n",
    "                TextTestRunner().run(suite)\n",
    "                \n",
    "#             "
   ]
  },
  {
   "cell_type": "code",
   "execution_count": 11,
   "metadata": {},
   "outputs": [],
   "source": [
    "    class DiscoverTests(NodeTransformer):\n",
    "        def visit_star(self, node):\n",
    "            Testing.tests += node,\n",
    "            return node\n",
    "        visit_Str = visit_ClassDef =  visit_FunctionDef = visit_star"
   ]
  },
  {
   "cell_type": "code",
   "execution_count": 12,
   "metadata": {},
   "outputs": [],
   "source": [
    "    settings.register_profile('ip', settings(\n",
    "        suppress_health_check=(HealthCheck.return_value,),\n",
    "        verbosity=Verbosity.normal,))\n"
   ]
  },
  {
   "cell_type": "code",
   "execution_count": 5,
   "metadata": {},
   "outputs": [],
   "source": [
    "    def load_ipython_extension(ip=get_ipython()):\n",
    "        global testing\n",
    "        testing = Testing(shell=get_ipython())\n",
    "        ip.ast_transformers = remove_discover()+[DiscoverTests()]\n",
    "        ip.events.register('post_run_cell', testing.post_run_cell)\n",
    "        settings.load_profile('ip')"
   ]
  },
  {
   "cell_type": "code",
   "execution_count": 6,
   "metadata": {},
   "outputs": [],
   "source": [
    "    def remove_discover(ip=get_ipython()):\n",
    "        ip.ast_transformers = [_ for _ in ip.ast_transformers if not isinstance(_, DiscoverTests)]\n",
    "        return ip.ast_transformers"
   ]
  },
  {
   "cell_type": "code",
   "execution_count": 7,
   "metadata": {},
   "outputs": [],
   "source": [
    "    CURRENT = None\n",
    "    def unload_ipython_extension(ip=get_ipython()):\n",
    "        global CURRENT\n",
    "        remove_discover()\n",
    "        if CURRENT is not None:\n",
    "            ip.events.unregister('post_run_cell', CURRENT.post_run_cell)"
   ]
  },
  {
   "cell_type": "code",
   "execution_count": 8,
   "metadata": {},
   "outputs": [],
   "source": [
    "    if __name__ == '__main__':\n",
    "        load_ipython_extension()\n",
    "    "
   ]
  },
  {
   "cell_type": "markdown",
   "metadata": {},
   "source": [
    "    !jupyter nbconvert --inplace --execute Untitled2.ipynb"
   ]
  },
  {
   "cell_type": "markdown",
   "metadata": {},
   "source": [
    "    class context(Context):\n",
    "        def __init__(Context):\n",
    "            super().__init__(ModelRunner(config=configuration.Configuration(tuple())))\n",
    "\n",
    "    def step_impl(context):\n",
    "        print(context)\n",
    "        pass"
   ]
  },
  {
   "cell_type": "code",
   "execution_count": null,
   "metadata": {},
   "outputs": [],
   "source": []
  }
 ],
 "metadata": {
  "kernelspec": {
   "display_name": "p6",
   "language": "python",
   "name": "other-env"
  },
  "language_info": {
   "codemirror_mode": {
    "name": "ipython",
    "version": 3
   },
   "file_extension": ".py",
   "mimetype": "text/x-python",
   "name": "python",
   "nbconvert_exporter": "python",
   "pygments_lexer": "ipython3",
   "version": "3.6.3"
  }
 },
 "nbformat": 4,
 "nbformat_minor": 2
}
