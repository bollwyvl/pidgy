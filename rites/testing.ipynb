{
 "cells": [
  {
   "cell_type": "markdown",
   "metadata": {},
   "source": [
    "##### Convention\n",
    "## Testing During Interactive Programming Is Efficient\n",
    "\n",
    "In interactive mode, the `testing` extension will execute tests when:\n",
    "    \n",
    "* An unassigned string literatal containing doctests.\n",
    "* Docstrings in functions definitions and class defitions.\n",
    "* Functions containing complete annotations.\n",
    "* Classes containing runTest\n",
    "* TestCase classes"
   ]
  },
  {
   "cell_type": "code",
   "execution_count": 1,
   "metadata": {},
   "outputs": [],
   "source": [
    "    try:\n",
    "        from .rites import Shell\n",
    "    except:\n",
    "        from rites import Shell"
   ]
  },
  {
   "cell_type": "code",
   "execution_count": 2,
   "metadata": {},
   "outputs": [],
   "source": [
    "    from unittest import *\n",
    "    from doctest import *\n",
    "    from doctest import DocTestCase\n",
    "    from ast import *\n",
    "    from functools import wraps, partial\n",
    "    from typing import Callable\n",
    "    from dataclasses import dataclass, field\n",
    "    from collections import Iterable\n",
    "    from IPython import get_ipython\n",
    "    from inspect import *\n",
    "    from hypothesis import given, strategies, strategies as st, assume, HealthCheck, Verbosity, settings, find, errors\n",
    "    __all__ = 'infer',\n",
    "    \n",
    "    CURRENT = None\n",
    "    def infer(object):\n",
    "        spec = getfullargspec(object)\n",
    "        annotations = {}#{'return': None}\n",
    "        annotations.update(spec.annotations) \n",
    "        returns = annotations.pop('return', None)\n",
    "        if not spec.args: \n",
    "            return FunctionTestCase(object), annotations, returns\n",
    "        \n",
    "        main = __import__('__main__')\n",
    "        for arg in spec.args:\n",
    "            if arg in annotations: continue\n",
    "            try:\n",
    "                thing = eval(arg, vars(main))\n",
    "            except NameError: continue\n",
    "            if isinstance(thing, (type, list)):\n",
    "                annotations[arg] = thing\n",
    "                \n",
    "        if not spec.defaults:\n",
    "            \n",
    "            try:\n",
    "                annotations = {\n",
    "                    str: st.from_type(object) if isinstance(object, type) and getattr(object, '__name__', '') != 'object'\n",
    "                    else object if isinstance(object, st.SearchStrategy)\n",
    "                    else st.one_of(list(map(st.just, object)))\n",
    "                    for str, object in annotations.items()\n",
    "                }\n",
    "                if annotations:\n",
    "                    return FunctionTestCase(given(**annotations)(object)), annotations.copy(), returns\n",
    "            except: ...\n",
    "        return None, annotations, returns\n",
    "        \n"
   ]
  },
  {
   "cell_type": "markdown",
   "metadata": {},
   "source": [
    "Allow iterable strategies, ghetto typed st"
   ]
  },
  {
   "cell_type": "code",
   "execution_count": 3,
   "metadata": {},
   "outputs": [],
   "source": [
    "    from hypothesis import find"
   ]
  },
  {
   "cell_type": "code",
   "execution_count": 4,
   "metadata": {},
   "outputs": [],
   "source": [
    "    @dataclass\n",
    "    class Testing(Shell):\n",
    "        examples = list()\n",
    "        objects = list()\n",
    "        any = False\n",
    "        def post_run_cell(Testing):\n",
    "            from types import ModuleType\n",
    "            module, main, tests = ModuleType('__main__'), __import__('__main__'), list()\n",
    "            module.__test__ = getattr(main, '__test__', {})\n",
    "            while Testing.examples:\n",
    "                tests.append(\n",
    "                    DocTestCase(DocTest(\n",
    "                        DocTestParser().get_examples(Testing.examples.pop(0)), main.__dict__, \n",
    "                        '__main__', '<testing>', 1, \"\"\"\"\"\")))\n",
    "            \n",
    "            while Testing.objects:\n",
    "                name = Testing.objects.pop(0)\n",
    "                object = getattr(main, name)\n",
    "                setattr(module, name, object)\n",
    "                if isinstance(object, type):\n",
    "                    if issubclass(object, TestCase):\n",
    "                        tests.append(object())\n",
    "                    elif hasattr(object, 'runTest'):\n",
    "                        def runTest(): return object.runTest(object)\n",
    "                        tests.append(FunctionTestCase(wraps(object.runTest)(runTest)))\n",
    "                elif callable(object):\n",
    "                    test, annotations, returns = infer(object)\n",
    "                    if (returns is not None) and callable(returns) ^ isinstance(returns, type)  and len(annotations) is 1:\n",
    "                        try:\n",
    "                            find(*annotations.values(), lambda x: returns(object(x)))\n",
    "                        except:\n",
    "                            assert False, f\"\"\"NoSuchExample for {object} satifies {returns} \"\"\"\n",
    "                    else: test and tests.append(test)\n",
    "            doctest = DocTestSuite(module, extraglobs=main.__dict__)\n",
    "            doctest._tests and tests.append(doctest)\n",
    "            try:\n",
    "                if type(Testing).any:\n",
    "                    tests and  TextTestRunner().run(TestSuite(tests))\n",
    "            except: ...\n",
    "            finally: type(Testing).any = False"
   ]
  },
  {
   "cell_type": "code",
   "execution_count": 5,
   "metadata": {},
   "outputs": [],
   "source": [
    "    class DiscoverTests(NodeTransformer):\n",
    "        def visit_Str(body, node):\n",
    "            if '>>> ' in node.s:\n",
    "                Testing.examples.append(node.s)\n",
    "                Testing.any = True\n",
    "            return node\n",
    "            \n",
    "        def visit_FunctionDef(body, node): \n",
    "            Testing.objects.append(node.name)\n",
    "            Testing.any = True\n",
    "            return node\n",
    "        \n",
    "        def visit_Assign(body, node): \n",
    "            Testing.any = True\n",
    "            return node\n",
    "        \n",
    "        visit_ClassDef = visit_FunctionDef"
   ]
  },
  {
   "cell_type": "code",
   "execution_count": 6,
   "metadata": {},
   "outputs": [],
   "source": [
    "    settings.register_profile('ip', settings(\n",
    "        suppress_health_check=(HealthCheck.return_value,),\n",
    "        verbosity=Verbosity.normal,))"
   ]
  },
  {
   "cell_type": "code",
   "execution_count": 7,
   "metadata": {},
   "outputs": [],
   "source": [
    "    def load_ipython_extension(ip=get_ipython()):\n",
    "        global testing, CURRENT\n",
    "        unload_ipython_extension(ip)\n",
    "        CURRENT = Testing()\n",
    "        ip.ast_transformers = remove_discover()+[DiscoverTests()]\n",
    "        ip.events.register('post_run_cell', CURRENT.post_run_cell)\n",
    "        settings.load_profile('ip')"
   ]
  },
  {
   "cell_type": "code",
   "execution_count": 8,
   "metadata": {},
   "outputs": [],
   "source": [
    "    def remove_discover(ip=get_ipython()):\n",
    "        ip.ast_transformers = [_ for _ in ip.ast_transformers if not isinstance(_, DiscoverTests)]\n",
    "        return ip.ast_transformers"
   ]
  },
  {
   "cell_type": "code",
   "execution_count": 9,
   "metadata": {},
   "outputs": [],
   "source": [
    "    CURRENT = None\n",
    "    def unload_ipython_extension(ip=get_ipython()):\n",
    "        global CURRENT\n",
    "        remove_discover()\n",
    "        if CURRENT is not None:\n",
    "            ip.events.unregister('post_run_cell', CURRENT.post_run_cell)"
   ]
  },
  {
   "cell_type": "code",
   "execution_count": 10,
   "metadata": {},
   "outputs": [],
   "source": [
    "    if __name__ == '__main__':\n",
    "        load_ipython_extension()"
   ]
  },
  {
   "cell_type": "markdown",
   "metadata": {},
   "source": [
    "    !jupyter nbconvert --inplace --execute Untitled2.ipynb"
   ]
  }
 ],
 "metadata": {
  "kernelspec": {
   "display_name": "p6",
   "language": "python",
   "name": "other-env"
  },
  "language_info": {
   "codemirror_mode": {
    "name": "ipython",
    "version": 3
   },
   "file_extension": ".py",
   "mimetype": "text/x-python",
   "name": "python",
   "nbconvert_exporter": "python",
   "pygments_lexer": "ipython3",
   "version": "3.6.3"
  }
 },
 "nbformat": 4,
 "nbformat_minor": 2
}
