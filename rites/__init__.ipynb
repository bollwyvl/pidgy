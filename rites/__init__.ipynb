{
 "cells": [
  {
   "cell_type": "code",
   "execution_count": null,
   "metadata": {},
   "outputs": [
    {
     "name": "stdout",
     "output_type": "stream",
     "text": [
      "The loader extension is already loaded. To reload it, use:\n",
      "  %reload_ext loader\n"
     ]
    }
   ],
   "source": [
    "    if __name__ == '__main__':\n",
    "        %load_ext loader\n",
    "    else:\n",
    "        %load_ext rites.loader\n",
    "    from rites.config import alias\n",
    "        \n",
    "    [alias.__setitem__(str, f\"rites.{str}\") for str in ('markdown', 'template', 'conventions', 'test')]\n",
    "\n",
    "    if __name__ == '__main__':\n",
    "        %reload_ext config\n",
    "        !jupyter nbconvert --to python __init__.ipynb\n",
    "        load_ipython_extension()\n",
    "    else:\n",
    "        %load_ext rites.config"
   ]
  },
  {
   "cell_type": "code",
   "execution_count": null,
   "metadata": {},
   "outputs": [],
   "source": []
  }
 ],
 "metadata": {
  "kernelspec": {
   "display_name": "p6",
   "language": "python",
   "name": "other-env"
  },
  "language_info": {
   "codemirror_mode": {
    "name": "ipython",
    "version": 3
   },
   "file_extension": ".py",
   "mimetype": "text/x-python",
   "name": "python",
   "nbconvert_exporter": "python",
   "pygments_lexer": "ipython3",
   "version": "3.6.3"
  }
 },
 "nbformat": 4,
 "nbformat_minor": 2
}
