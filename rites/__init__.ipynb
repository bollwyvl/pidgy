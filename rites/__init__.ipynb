{
 "cells": [
  {
   "cell_type": "code",
   "execution_count": 8,
   "metadata": {},
   "outputs": [
    {
     "name": "stdout",
     "output_type": "stream",
     "text": [
      "[NbConvertApp] Converting notebook __init__.ipynb to python\n",
      "[NbConvertApp] Writing 623 bytes to __init__.py\n"
     ]
    }
   ],
   "source": [
    "    try:\n",
    "        from .loader import load_ipython_extension, unload_ipython_extension \n",
    "    except:\n",
    "        from loader import load_ipython_extension, unload_ipython_extension \n",
    "    finally:\n",
    "        load_ipython_extension()\n",
    "        \n",
    "    from rites.config import alias\n",
    "        \n",
    "    [alias.__setitem__(str, f\"rites.{str}\") for str in ('markdown', 'template', 'conventions', 'test')]\n",
    "\n",
    "    if __name__ == '__main__':\n",
    "        %reload_ext config\n",
    "        !jupyter nbconvert --to python __init__.ipynb\n",
    "        load_ipython_extension()\n",
    "    else:\n",
    "        %load_ext rites.config"
   ]
  }
 ],
 "metadata": {
  "kernelspec": {
   "display_name": "p6",
   "language": "python",
   "name": "other-env"
  },
  "language_info": {
   "codemirror_mode": {
    "name": "ipython",
    "version": 3
   },
   "file_extension": ".py",
   "mimetype": "text/x-python",
   "name": "python",
   "nbconvert_exporter": "python",
   "pygments_lexer": "ipython3",
   "version": "3.6.3"
  }
 },
 "nbformat": 4,
 "nbformat_minor": 2
}
