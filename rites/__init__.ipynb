{
 "cells": [
  {
   "cell_type": "code",
   "execution_count": 1,
   "metadata": {},
   "outputs": [],
   "source": [
    "    from IPython import get_ipython\n",
    "    from IPython.core.interactiveshell import InteractiveShell\n",
    "    from IPython.core.inputsplitter import IPythonInputSplitter\n",
    "    from IPython.core.compilerop import CachingCompiler\n",
    "    from IPython.utils.capture import capture_output\n",
    "    from textwrap import indent\n",
    "    import ast, sys\n",
    "    from json import load\n",
    "    from dataclasses import dataclass, field\n",
    "    from nbformat import v4, NotebookNode, read\n",
    "    from nbformat.v4 import new_notebook\n",
    "    from json.scanner import py_make_scanner\n",
    "    from json.decoder import JSONObject, JSONDecoder, WHITESPACE, WHITESPACE_STR\n",
    "    from traitlets import Unicode, Any, default, Bool\n",
    "    from dataclasses import dataclass, field\n",
    "    from types import ModuleType\n",
    "    from pathlib import Path\n",
    "    from textwrap import dedent\n",
    "    from nbconvert.exporters.markdown import MarkdownExporter\n",
    "    from nbconvert.exporters.notebook import NotebookExporter"
   ]
  },
  {
   "cell_type": "code",
   "execution_count": 2,
   "metadata": {},
   "outputs": [],
   "source": [
    "    def identity(object, *_, **__): return object"
   ]
  },
  {
   "cell_type": "code",
   "execution_count": 3,
   "metadata": {},
   "outputs": [],
   "source": [
    "    from json.decoder import JSONDecoder\n",
    "    class LineNoDecoder(JSONDecoder):\n",
    "        \"\"\"A JSON Decoder to return a NotebookNode with lines numbers in the metadata.\n",
    "        \n",
    "        \"\"\"\n",
    "        def __init__(self, *, object_hook=None, parse_float=None, parse_int=None, parse_constant=None, strict=True, object_pairs_hook=None):\n",
    "            super().__init__(object_hook=object_hook, parse_float=parse_float, parse_int=parse_int, parse_constant=parse_constant, strict=strict, \n",
    "                             object_pairs_hook=object_pairs_hook)\n",
    "            self.parse_object = self.object\n",
    "            self.scan_once = py_make_scanner(self)\n",
    "            \n",
    "        def object(self, s_and_end, strict, scan_once, object_hook, object_pairs_hook, memo=None, _w=WHITESPACE.match, _ws=WHITESPACE_STR):\n",
    "            object, next = JSONObject(s_and_end, strict, scan_once, object_hook, object_pairs_hook, memo=memo, _w=_w, _ws=_ws)\n",
    "\n",
    "            if 'cell_type' in object: object['metadata'].update(\n",
    "                {'lineno':  len(s_and_end[0][:next].rsplit('\"source\":', 1)[0].splitlines())})\n",
    "                \n",
    "            for key in ('source', 'text'): \n",
    "                if key in object: object[key] = ''.join(object[key])\n",
    "            return NotebookNode(object), next\n",
    "        "
   ]
  },
  {
   "cell_type": "code",
   "execution_count": 4,
   "metadata": {},
   "outputs": [],
   "source": [
    "    def docify(NotebookNode): \n",
    "        return MarkdownExporter(config={'TemplateExporter': {'exclude_output': True}}).from_notebook_node(NotebookNode)[0]"
   ]
  },
  {
   "cell_type": "code",
   "execution_count": 5,
   "metadata": {},
   "outputs": [],
   "source": [
    "    @dataclass\n",
    "    class Module(NotebookExporter):\n",
    "        filename: str = '<module exporter>'\n",
    "        name: str = '__main__'\n",
    "        ip: bool = get_ipython()\n",
    "        \n",
    "        def __post_init__(self): NotebookExporter.__init__(self)\n",
    "            \n",
    "        def from_filename(Module,  filename, resources=None, **dict):\n",
    "            Module.filename, Module.name = filename, __import__('pathlib').Path(filename).stem\n",
    "            return super().from_filename(filename, resources, **dict)\n",
    "        \n",
    "        def from_file(Module,  file_stream, resources=None, **dict): return Module.from_notebook_node(\n",
    "            new_notebook(**load(file_stream, cls=LineNoDecoder)), resources)\n",
    "\n",
    "        def from_notebook_node(Module, nb: NotebookNode, resource: dict=None, *, module: ModuleType=None) -> ModuleType:            \n",
    "            if module is None: module = ModuleType(Module.name)\n",
    "            \n",
    "            module.__doc__ = docify(nb)\n",
    "            with capture_output() as output:\n",
    "                for cell in nb.cells:\n",
    "                    if cell['cell_type'] == 'code':\n",
    "                        try: eval(Module.compile(\n",
    "                            cell['source'], lineno=cell['metadata'].get('lineno', 1), module=module),\n",
    "                            *[module.__dict__]*2)\n",
    "                        except BaseException as Exception: \n",
    "                            module.__complete__ = Exception\n",
    "                            break\n",
    "                else: module.__complete__ = True\n",
    "            module.__output__ = output\n",
    "            return module   \n",
    "        \n",
    "        @property\n",
    "        def parse(Module): return Module.ip.compile.ast_parse if Module.ip else ast.parse\n",
    "        \n",
    "        def transform(Module, source): \n",
    "            if Module.ip:\n",
    "                return Module.ip.input_transformer_manager.transform_cell(\n",
    "                    get_ipython().input_transformer_manager.transform_cell(source))\n",
    "            return identity\n",
    "        \n",
    "        def compile(Module, source, *, lineno=0, module=None): return compile(\n",
    "            ast.increment_lineno(Module.parse(Module.transform(source), Module.filename, 'exec'), lineno), \n",
    "            Module.filename, 'exec')"
   ]
  },
  {
   "cell_type": "code",
   "execution_count": 6,
   "metadata": {},
   "outputs": [],
   "source": [
    "    def test():\n",
    "        module = Module().from_filename('SomeOutput.ipynb')\n",
    "        assert isinstance(module, ModuleType)\n",
    "        assert module.__complete__ is True"
   ]
  },
  {
   "cell_type": "code",
   "execution_count": 7,
   "metadata": {},
   "outputs": [],
   "source": [
    "    from importlib.machinery import SourceFileLoader\n",
    "    class NotebookLoader(SourceFileLoader):\n",
    "        EXTENSION_SUFFIXES = '.ipynb',\n",
    "        def exec_module(Notebook, module): return module.__dict__.update(\n",
    "            vars(Module().from_filename(Notebook.path, module=module)))"
   ]
  },
  {
   "cell_type": "code",
   "execution_count": 8,
   "metadata": {},
   "outputs": [],
   "source": [
    "    _NATIVE_HOOK = sys.path_hooks.copy()\n",
    "    def update_hooks(loader=None):\n",
    "        global _NATIVE_HOOK\n",
    "        from importlib.machinery import FileFinder\n",
    "        if loader:\n",
    "            for i, hook in enumerate(sys.path_hooks):\n",
    "                closure = getattr(hook, '__closure__', None)\n",
    "                if closure and closure[0].cell_contents is FileFinder:\n",
    "                    sys.path_hooks[i] = FileFinder.path_hook(\n",
    "                        (loader, loader.EXTENSION_SUFFIXES), *closure[1].cell_contents)\n",
    "        else: sys.path_hooks = _NATIVE_HOOK\n",
    "        sys.path_importer_cache.clear()"
   ]
  },
  {
   "cell_type": "code",
   "execution_count": null,
   "metadata": {},
   "outputs": [],
   "source": [
    "    def load_ipython_extension(ip=None):\n",
    "        update_hooks(NotebookLoader)\n",
    "    def unload_ipython_extension(ip=None):\n",
    "        update_hooks()"
   ]
  },
  {
   "cell_type": "code",
   "execution_count": null,
   "metadata": {
    "scrolled": false
   },
   "outputs": [
    {
     "name": "stdout",
     "output_type": "stream",
     "text": [
      "20 items had no tests:\n",
      "    __main__\n",
      "    __main__.LineNoDecoder\n",
      "    __main__.LineNoDecoder.__init__\n",
      "    __main__.LineNoDecoder.object\n",
      "    __main__.Module\n",
      "    __main__.Module.__post_init__\n",
      "    __main__.Module.compile\n",
      "    __main__.Module.from_file\n",
      "    __main__.Module.from_filename\n",
      "    __main__.Module.from_notebook_node\n",
      "    __main__.Module.parse\n",
      "    __main__.Module.transform\n",
      "    __main__.NotebookLoader\n",
      "    __main__.NotebookLoader.exec_module\n",
      "    __main__.docify\n",
      "    __main__.identity\n",
      "    __main__.load_ipython_extension\n",
      "    __main__.test\n",
      "    __main__.unload_ipython_extension\n",
      "    __main__.update_hooks\n",
      "0 tests in 20 items.\n",
      "0 passed and 0 failed.\n",
      "Test passed.\n",
      "[NbConvertApp] Converting notebook __init__.ipynb to script\n"
     ]
    }
   ],
   "source": [
    "    if 1 and __name__ ==  '__main__':\n",
    "        __import__('doctest').testmod(verbose=2)\n",
    "        load_ipython_extension()\n",
    "        import testing\n",
    "        !jupyter nbconvert --to script __init__.ipynb"
   ]
  },
  {
   "cell_type": "code",
   "execution_count": null,
   "metadata": {},
   "outputs": [],
   "source": []
  }
 ],
 "metadata": {
  "kernelspec": {
   "display_name": "p6",
   "language": "python",
   "name": "other-env"
  },
  "language_info": {
   "codemirror_mode": {
    "name": "ipython",
    "version": 3
   },
   "file_extension": ".py",
   "mimetype": "text/x-python",
   "name": "python",
   "nbconvert_exporter": "python",
   "pygments_lexer": "ipython3",
   "version": "3.6.3"
  },
  "toc": {
   "colors": {
    "hover_highlight": "#DAA520",
    "running_highlight": "#FF0000",
    "selected_highlight": "#FFD700"
   },
   "moveMenuLeft": true,
   "nav_menu": {
    "height": "29px",
    "width": "252px"
   },
   "navigate_menu": true,
   "number_sections": true,
   "sideBar": true,
   "threshold": 4,
   "toc_cell": false,
   "toc_section_display": "block",
   "toc_window_display": false,
   "widenNotebook": false
  },
  "varInspector": {
   "cols": {
    "lenName": 16,
    "lenType": 16,
    "lenVar": 40
   },
   "kernels_config": {
    "python": {
     "delete_cmd_postfix": "",
     "delete_cmd_prefix": "del ",
     "library": "var_list.py",
     "varRefreshCmd": "print(var_dic_list())"
    },
    "r": {
     "delete_cmd_postfix": ") ",
     "delete_cmd_prefix": "rm(",
     "library": "var_list.r",
     "varRefreshCmd": "cat(var_dic_list()) "
    }
   },
   "types_to_exclude": [
    "module",
    "function",
    "builtin_function_or_method",
    "instance",
    "_Feature"
   ],
   "window_display": false
  }
 },
 "nbformat": 4,
 "nbformat_minor": 2
}
