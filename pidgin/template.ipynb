{
 "cells": [
  {
   "cell_type": "markdown",
   "metadata": {},
   "source": [
    "# by *convention* documents should use real data.\n",
    "\n",
    "__pidgin.template__ supports jinja2 syntax to data in code cells before they execute."
   ]
  },
  {
   "cell_type": "markdown",
   "metadata": {},
   "source": [
    "# Templating input cells with [`jinja2`](http://jinja.pocoo.org/docs/2.10/)\n",
    "\n",
    "This notebook demonstrates and exports the ability to place real into code cells before executing code. This idea can create parameterized reports.\n",
    "\n",
    "    %reload_ext deathbeds.__Jinja2__"
   ]
  },
  {
   "cell_type": "code",
   "execution_count": 21,
   "metadata": {},
   "outputs": [],
   "source": [
    "    from .markdown import CallableTransformer, render\n",
    "    from jinja2 import Template\n",
    "    from importnb import Interactive"
   ]
  },
  {
   "cell_type": "code",
   "execution_count": 22,
   "metadata": {},
   "outputs": [],
   "source": [
    "    class TemplateTransformer(CallableTransformer):\n",
    "        def __call__(self, str):\n",
    "            from IPython import get_ipython\n",
    "            return Template(str).render(**get_ipython().user_ns)"
   ]
  },
  {
   "cell_type": "markdown",
   "metadata": {},
   "source": [
    "## Importer"
   ]
  },
  {
   "cell_type": "code",
   "execution_count": 23,
   "metadata": {},
   "outputs": [],
   "source": [
    "    class Jinja2Importer(Interactive):\n",
    "        extensions = '.tpl.ipynb',\n",
    "        def parse_code_cell(self, cell, module=None): \n",
    "            cell['source'] = Template(''.join(cell['source'])).render(**vars(module))\n",
    "            return super().parse_code_cell(cell)"
   ]
  },
  {
   "cell_type": "code",
   "execution_count": 30,
   "metadata": {},
   "outputs": [],
   "source": [
    "    class Jinja2MarkdownImporter(Interactive):\n",
    "        extensions = '.tpl.md.ipynb',\n",
    "        def parse_code_cell(self, cell, module=None): \n",
    "            cell['source'] = render(Template(''.join(cell['source'])).render(**vars(module)))\n",
    "            return super().parse_code_cell(cell)"
   ]
  },
  {
   "cell_type": "code",
   "execution_count": 35,
   "metadata": {},
   "outputs": [],
   "source": [
    "    def load_ipython_extension(ip=None):\n",
    "        ip = get_ipython()\n",
    "        if ip:\n",
    "            ip.input_transformer_manager.physical_line_transforms.insert(0, TemplateTransformer())"
   ]
  },
  {
   "cell_type": "code",
   "execution_count": 36,
   "metadata": {},
   "outputs": [],
   "source": [
    "    def unload_ipython_extension(ip=None):\n",
    "        ip = ip or get_ipython()\n",
    "        if ip:\n",
    "            ip.input_transformer_manager.python_line_transforms = [\n",
    "                object for object in ip.input_transformer_manager.python_line_transforms\n",
    "                if not isinstance(object, TemplateTransformer)\n",
    "            ]"
   ]
  },
  {
   "cell_type": "markdown",
   "metadata": {},
   "source": [
    "## Testing"
   ]
  },
  {
   "cell_type": "code",
   "execution_count": 37,
   "metadata": {},
   "outputs": [],
   "source": [
    "    class Test(__import__('unittest').TestCase): \n",
    "        def setUp(Test):\n",
    "            load_ipython_extension()\n",
    "            from nbformat import write, v4\n",
    "            with open('test_template.tpl.ipynb', 'w') as file:\n",
    "                write(v4.new_notebook(cells=[\n",
    "                    v4.new_code_cell(\"\"\"if __name__ == '__main__':\\t\\n%reload_ext template\"\"\"),\n",
    "                    v4.new_code_cell(\"\"\"a=42\"\"\"),\n",
    "                    v4.new_code_cell(\"\"\"b={{a}}*10\"\"\")\n",
    "                ]), file)\n",
    "                \n",
    "        def runTest(Test):\n",
    "            global test_template\n",
    "            import test_template\n",
    "            assert test_template.__file__.endswith('.ipynb')\n",
    "            assert test_template.a is 42\n",
    "            assert test_template.b == 420\n",
    "            \n",
    "        def tearDown(Test):\n",
    "            __import__('os').remove('test_template.tpl.ipynb')\n",
    "            unload_ipython_extension()"
   ]
  },
  {
   "cell_type": "markdown",
   "metadata": {},
   "source": [
    "## Developer"
   ]
  },
  {
   "cell_type": "code",
   "execution_count": 38,
   "metadata": {},
   "outputs": [
    {
     "name": "stderr",
     "output_type": "stream",
     "text": [
      ".\n",
      "----------------------------------------------------------------------\n",
      "Ran 1 test in 0.008s\n",
      "\n",
      "OK\n"
     ]
    },
    {
     "name": "stdout",
     "output_type": "stream",
     "text": [
      "14 items had no tests:\n",
      "    __main__\n",
      "    __main__.Jinja2Importer\n",
      "    __main__.Jinja2Importer.parse_code_cell\n",
      "    __main__.Jinja2MarkdownImporter\n",
      "    __main__.Jinja2MarkdownImporter.parse_code_cell\n",
      "    __main__.TemplateTransformer\n",
      "    __main__.TemplateTransformer.__call__\n",
      "    __main__.Test\n",
      "    __main__.Test.runTest\n",
      "    __main__.Test.setUp\n",
      "    __main__.Test.tearDown\n",
      "    __main__.load_ipython_extension\n",
      "    __main__.parse_code_cell\n",
      "    __main__.unload_ipython_extension\n",
      "0 tests in 14 items.\n",
      "0 passed and 0 failed.\n",
      "Test passed.\n"
     ]
    }
   ],
   "source": [
    "    if __name__ == '__main__': \n",
    "        reporter = __import__('unittest').TextTestRunner()\n",
    "        reporter.run(Test())\n",
    "        __import__('doctest').testmod(verbose=2, report=reporter)"
   ]
  },
  {
   "cell_type": "code",
   "execution_count": null,
   "metadata": {},
   "outputs": [],
   "source": []
  }
 ],
 "metadata": {
  "kernelspec": {
   "display_name": "Python 3",
   "language": "python",
   "name": "python3"
  },
  "language_info": {
   "codemirror_mode": {
    "name": "ipython",
    "version": 3
   },
   "file_extension": ".py",
   "mimetype": "text/x-python",
   "name": "python",
   "nbconvert_exporter": "python",
   "pygments_lexer": "ipython3",
   "version": "3.6.5"
  },
  "toc": {
   "colors": {
    "hover_highlight": "#DAA520",
    "running_highlight": "#FF0000",
    "selected_highlight": "#FFD700"
   },
   "moveMenuLeft": true,
   "nav_menu": {
    "height": "29px",
    "width": "252px"
   },
   "navigate_menu": true,
   "number_sections": true,
   "sideBar": true,
   "threshold": 4,
   "toc_cell": false,
   "toc_section_display": "block",
   "toc_window_display": false,
   "widenNotebook": false
  },
  "varInspector": {
   "cols": {
    "lenName": 16,
    "lenType": 16,
    "lenVar": 40
   },
   "kernels_config": {
    "python": {
     "delete_cmd_postfix": "",
     "delete_cmd_prefix": "del ",
     "library": "var_list.py",
     "varRefreshCmd": "print(var_dic_list())"
    },
    "r": {
     "delete_cmd_postfix": ") ",
     "delete_cmd_prefix": "rm(",
     "library": "var_list.r",
     "varRefreshCmd": "cat(var_dic_list()) "
    }
   },
   "types_to_exclude": [
    "module",
    "function",
    "builtin_function_or_method",
    "instance",
    "_Feature"
   ],
   "window_display": false
  }
 },
 "nbformat": 4,
 "nbformat_minor": 2
}
